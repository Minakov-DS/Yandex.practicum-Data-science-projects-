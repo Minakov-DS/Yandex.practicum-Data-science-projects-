{
 "cells": [
  {
   "cell_type": "markdown",
   "metadata": {
    "toc": true
   },
   "source": [
    "<h1>Содержание<span class=\"tocSkip\"></span></h1>\n",
    "<div class=\"toc\"><ul class=\"toc-item\"><li><span><a href=\"#Загрузка-данных\" data-toc-modified-id=\"Загрузка-данных-1\"><span class=\"toc-item-num\">1&nbsp;&nbsp;</span>Загрузка данных</a></span><ul class=\"toc-item\"><li><span><a href=\"#Выводы\" data-toc-modified-id=\"Выводы-1.1\"><span class=\"toc-item-num\">1.1&nbsp;&nbsp;</span>Выводы</a></span></li></ul></li><li><span><a href=\"#Умножение-матриц\" data-toc-modified-id=\"Умножение-матриц-2\"><span class=\"toc-item-num\">2&nbsp;&nbsp;</span>Умножение матриц</a></span><ul class=\"toc-item\"><li><span><a href=\"#Вывод\" data-toc-modified-id=\"Вывод-2.1\"><span class=\"toc-item-num\">2.1&nbsp;&nbsp;</span>Вывод</a></span></li></ul></li><li><span><a href=\"#Алгоритм-преобразования\" data-toc-modified-id=\"Алгоритм-преобразования-3\"><span class=\"toc-item-num\">3&nbsp;&nbsp;</span>Алгоритм преобразования</a></span></li><li><span><a href=\"#Проверка-алгоритма\" data-toc-modified-id=\"Проверка-алгоритма-4\"><span class=\"toc-item-num\">4&nbsp;&nbsp;</span>Проверка алгоритма</a></span><ul class=\"toc-item\"><li><span><a href=\"#Вывод\" data-toc-modified-id=\"Вывод-4.1\"><span class=\"toc-item-num\">4.1&nbsp;&nbsp;</span>Вывод</a></span></li></ul></li><li><span><a href=\"#Чек-лист-проверки\" data-toc-modified-id=\"Чек-лист-проверки-5\"><span class=\"toc-item-num\">5&nbsp;&nbsp;</span>Чек-лист проверки</a></span></li></ul></div>"
   ]
  },
  {
   "cell_type": "markdown",
   "metadata": {},
   "source": [
    "# Защита персональных данных клиентов"
   ]
  },
  {
   "cell_type": "markdown",
   "metadata": {},
   "source": [
    "**Цель проекта:** необходимо разработать метод преобразования данных, чтобы по ним было сложно восстановить персональную информацию. Данный метод будет использован для защиты персональных данных клиентов страховой компании. Преобразование данных по разработанному методу не должно приводить к ухудшению качества моделей машиннного обучения.\n",
    "\n",
    "**Описание данных:**\n",
    "* Признаки: пол, возраст и зарплата застрахованного, количество членов его семьи.\n",
    "* Целевой признак: количество страховых выплат клиенту за последние 5 лет."
   ]
  },
  {
   "cell_type": "markdown",
   "metadata": {},
   "source": [
    "## Загрузка данных"
   ]
  },
  {
   "cell_type": "markdown",
   "metadata": {},
   "source": [
    "Загружаем необходимые библиотеки."
   ]
  },
  {
   "cell_type": "code",
   "execution_count": 1,
   "metadata": {},
   "outputs": [],
   "source": [
    "import pandas as pd\n",
    "import numpy as np\n",
    "from sklearn.preprocessing import StandardScaler\n",
    "from sklearn.linear_model import LinearRegression\n",
    "from sklearn.metrics import mean_squared_error, r2_score"
   ]
  },
  {
   "cell_type": "markdown",
   "metadata": {},
   "source": [
    "Загружаем файл и сохраняем его содержимое под именем data. Затем выводим основную информацию об исходных данных."
   ]
  },
  {
   "cell_type": "code",
   "execution_count": 2,
   "metadata": {
    "scrolled": true
   },
   "outputs": [
    {
     "name": "stdout",
     "output_type": "stream",
     "text": [
      "<class 'pandas.core.frame.DataFrame'>\n",
      "RangeIndex: 5000 entries, 0 to 4999\n",
      "Data columns (total 5 columns):\n",
      "Пол                  5000 non-null int64\n",
      "Возраст              5000 non-null float64\n",
      "Зарплата             5000 non-null float64\n",
      "Члены семьи          5000 non-null int64\n",
      "Страховые выплаты    5000 non-null int64\n",
      "dtypes: float64(2), int64(3)\n",
      "memory usage: 195.4 KB\n"
     ]
    },
    {
     "data": {
      "text/html": [
       "<div>\n",
       "<style scoped>\n",
       "    .dataframe tbody tr th:only-of-type {\n",
       "        vertical-align: middle;\n",
       "    }\n",
       "\n",
       "    .dataframe tbody tr th {\n",
       "        vertical-align: top;\n",
       "    }\n",
       "\n",
       "    .dataframe thead th {\n",
       "        text-align: right;\n",
       "    }\n",
       "</style>\n",
       "<table border=\"1\" class=\"dataframe\">\n",
       "  <thead>\n",
       "    <tr style=\"text-align: right;\">\n",
       "      <th></th>\n",
       "      <th>Пол</th>\n",
       "      <th>Возраст</th>\n",
       "      <th>Зарплата</th>\n",
       "      <th>Члены семьи</th>\n",
       "      <th>Страховые выплаты</th>\n",
       "    </tr>\n",
       "  </thead>\n",
       "  <tbody>\n",
       "    <tr>\n",
       "      <td>0</td>\n",
       "      <td>1</td>\n",
       "      <td>41.0</td>\n",
       "      <td>49600.0</td>\n",
       "      <td>1</td>\n",
       "      <td>0</td>\n",
       "    </tr>\n",
       "    <tr>\n",
       "      <td>1</td>\n",
       "      <td>0</td>\n",
       "      <td>46.0</td>\n",
       "      <td>38000.0</td>\n",
       "      <td>1</td>\n",
       "      <td>1</td>\n",
       "    </tr>\n",
       "    <tr>\n",
       "      <td>2</td>\n",
       "      <td>0</td>\n",
       "      <td>29.0</td>\n",
       "      <td>21000.0</td>\n",
       "      <td>0</td>\n",
       "      <td>0</td>\n",
       "    </tr>\n",
       "    <tr>\n",
       "      <td>3</td>\n",
       "      <td>0</td>\n",
       "      <td>21.0</td>\n",
       "      <td>41700.0</td>\n",
       "      <td>2</td>\n",
       "      <td>0</td>\n",
       "    </tr>\n",
       "    <tr>\n",
       "      <td>4</td>\n",
       "      <td>1</td>\n",
       "      <td>28.0</td>\n",
       "      <td>26100.0</td>\n",
       "      <td>0</td>\n",
       "      <td>0</td>\n",
       "    </tr>\n",
       "  </tbody>\n",
       "</table>\n",
       "</div>"
      ],
      "text/plain": [
       "   Пол  Возраст  Зарплата  Члены семьи  Страховые выплаты\n",
       "0    1     41.0   49600.0            1                  0\n",
       "1    0     46.0   38000.0            1                  1\n",
       "2    0     29.0   21000.0            0                  0\n",
       "3    0     21.0   41700.0            2                  0\n",
       "4    1     28.0   26100.0            0                  0"
      ]
     },
     "execution_count": 2,
     "metadata": {},
     "output_type": "execute_result"
    }
   ],
   "source": [
    "data = pd.read_csv(\"/datasets/insurance.csv\")\n",
    "data.info()\n",
    "data.head()"
   ]
  },
  {
   "cell_type": "code",
   "execution_count": 3,
   "metadata": {
    "scrolled": false
   },
   "outputs": [
    {
     "data": {
      "text/html": [
       "<div>\n",
       "<style scoped>\n",
       "    .dataframe tbody tr th:only-of-type {\n",
       "        vertical-align: middle;\n",
       "    }\n",
       "\n",
       "    .dataframe tbody tr th {\n",
       "        vertical-align: top;\n",
       "    }\n",
       "\n",
       "    .dataframe thead th {\n",
       "        text-align: right;\n",
       "    }\n",
       "</style>\n",
       "<table border=\"1\" class=\"dataframe\">\n",
       "  <thead>\n",
       "    <tr style=\"text-align: right;\">\n",
       "      <th></th>\n",
       "      <th>Пол</th>\n",
       "      <th>Возраст</th>\n",
       "      <th>Зарплата</th>\n",
       "      <th>Члены семьи</th>\n",
       "      <th>Страховые выплаты</th>\n",
       "    </tr>\n",
       "  </thead>\n",
       "  <tbody>\n",
       "    <tr>\n",
       "      <td>count</td>\n",
       "      <td>5000.000000</td>\n",
       "      <td>5000.000000</td>\n",
       "      <td>5000.000000</td>\n",
       "      <td>5000.000000</td>\n",
       "      <td>5000.000000</td>\n",
       "    </tr>\n",
       "    <tr>\n",
       "      <td>mean</td>\n",
       "      <td>0.499000</td>\n",
       "      <td>30.952800</td>\n",
       "      <td>39916.360000</td>\n",
       "      <td>1.194200</td>\n",
       "      <td>0.148000</td>\n",
       "    </tr>\n",
       "    <tr>\n",
       "      <td>std</td>\n",
       "      <td>0.500049</td>\n",
       "      <td>8.440807</td>\n",
       "      <td>9900.083569</td>\n",
       "      <td>1.091387</td>\n",
       "      <td>0.463183</td>\n",
       "    </tr>\n",
       "    <tr>\n",
       "      <td>min</td>\n",
       "      <td>0.000000</td>\n",
       "      <td>18.000000</td>\n",
       "      <td>5300.000000</td>\n",
       "      <td>0.000000</td>\n",
       "      <td>0.000000</td>\n",
       "    </tr>\n",
       "    <tr>\n",
       "      <td>25%</td>\n",
       "      <td>0.000000</td>\n",
       "      <td>24.000000</td>\n",
       "      <td>33300.000000</td>\n",
       "      <td>0.000000</td>\n",
       "      <td>0.000000</td>\n",
       "    </tr>\n",
       "    <tr>\n",
       "      <td>50%</td>\n",
       "      <td>0.000000</td>\n",
       "      <td>30.000000</td>\n",
       "      <td>40200.000000</td>\n",
       "      <td>1.000000</td>\n",
       "      <td>0.000000</td>\n",
       "    </tr>\n",
       "    <tr>\n",
       "      <td>75%</td>\n",
       "      <td>1.000000</td>\n",
       "      <td>37.000000</td>\n",
       "      <td>46600.000000</td>\n",
       "      <td>2.000000</td>\n",
       "      <td>0.000000</td>\n",
       "    </tr>\n",
       "    <tr>\n",
       "      <td>max</td>\n",
       "      <td>1.000000</td>\n",
       "      <td>65.000000</td>\n",
       "      <td>79000.000000</td>\n",
       "      <td>6.000000</td>\n",
       "      <td>5.000000</td>\n",
       "    </tr>\n",
       "  </tbody>\n",
       "</table>\n",
       "</div>"
      ],
      "text/plain": [
       "               Пол      Возраст      Зарплата  Члены семьи  Страховые выплаты\n",
       "count  5000.000000  5000.000000   5000.000000  5000.000000        5000.000000\n",
       "mean      0.499000    30.952800  39916.360000     1.194200           0.148000\n",
       "std       0.500049     8.440807   9900.083569     1.091387           0.463183\n",
       "min       0.000000    18.000000   5300.000000     0.000000           0.000000\n",
       "25%       0.000000    24.000000  33300.000000     0.000000           0.000000\n",
       "50%       0.000000    30.000000  40200.000000     1.000000           0.000000\n",
       "75%       1.000000    37.000000  46600.000000     2.000000           0.000000\n",
       "max       1.000000    65.000000  79000.000000     6.000000           5.000000"
      ]
     },
     "execution_count": 3,
     "metadata": {},
     "output_type": "execute_result"
    }
   ],
   "source": [
    "data.describe()"
   ]
  },
  {
   "cell_type": "markdown",
   "metadata": {},
   "source": [
    "Пропусков не выявлено. Изменим тип данных для возраста с \"вещественного\" на \"целочисленный\"."
   ]
  },
  {
   "cell_type": "code",
   "execution_count": 4,
   "metadata": {},
   "outputs": [],
   "source": [
    "data[\"Возраст\"] = data[\"Возраст\"].astype(\"int64\")"
   ]
  },
  {
   "cell_type": "markdown",
   "metadata": {},
   "source": [
    "Подсчитаем количество полных дубликатов."
   ]
  },
  {
   "cell_type": "code",
   "execution_count": 5,
   "metadata": {},
   "outputs": [
    {
     "data": {
      "text/plain": [
       "153"
      ]
     },
     "execution_count": 5,
     "metadata": {},
     "output_type": "execute_result"
    }
   ],
   "source": [
    "data.duplicated().sum()"
   ]
  },
  {
   "cell_type": "markdown",
   "metadata": {},
   "source": [
    "Выявили существенное количество полных дубликатов - удалим их. И для контроля получим основную информацию о датасете."
   ]
  },
  {
   "cell_type": "code",
   "execution_count": 6,
   "metadata": {},
   "outputs": [
    {
     "name": "stdout",
     "output_type": "stream",
     "text": [
      "<class 'pandas.core.frame.DataFrame'>\n",
      "Int64Index: 4847 entries, 0 to 4999\n",
      "Data columns (total 5 columns):\n",
      "Пол                  4847 non-null int64\n",
      "Возраст              4847 non-null int64\n",
      "Зарплата             4847 non-null float64\n",
      "Члены семьи          4847 non-null int64\n",
      "Страховые выплаты    4847 non-null int64\n",
      "dtypes: float64(1), int64(4)\n",
      "memory usage: 227.2 KB\n"
     ]
    }
   ],
   "source": [
    "data.drop_duplicates(inplace=True)\n",
    "data.info()"
   ]
  },
  {
   "cell_type": "markdown",
   "metadata": {},
   "source": [
    "### Выводы "
   ]
  },
  {
   "cell_type": "markdown",
   "metadata": {},
   "source": [
    "1. Исходные данные загружены и изучены. Размер исходного датасета: 5000x5.\n",
    "2. Выявили и удалили 153 полных дубликата.\n",
    "3. Изменили тип данных для столбца \"Возраст\" с вещественного на целочисленный."
   ]
  },
  {
   "cell_type": "markdown",
   "metadata": {},
   "source": [
    "## Умножение матриц"
   ]
  },
  {
   "cell_type": "markdown",
   "metadata": {},
   "source": [
    "В этом задании вы можете записывать формулы в *Jupyter Notebook.*\n",
    "\n",
    "Чтобы записать формулу внутри текста, окружите её символами доллара \\\\$; если снаружи —  двойными символами \\\\$\\\\$. Эти формулы записываются на языке вёрстки *LaTeX.* \n",
    "\n",
    "Для примера мы записали формулы линейной регрессии. Можете их скопировать и отредактировать, чтобы решить задачу.\n",
    "\n",
    "Работать в *LaTeX* необязательно."
   ]
  },
  {
   "cell_type": "markdown",
   "metadata": {},
   "source": [
    "Обозначения:\n",
    "\n",
    "- $X$ — матрица признаков (нулевой столбец состоит из единиц)\n",
    "\n",
    "- $y$ — вектор целевого признака\n",
    "\n",
    "- $P$ — матрица, на которую умножаются признаки\n",
    "\n",
    "- $w$ — вектор весов линейной регрессии (нулевой элемент равен сдвигу)"
   ]
  },
  {
   "cell_type": "markdown",
   "metadata": {},
   "source": [
    "Предсказания:\n",
    "\n",
    "$$\n",
    "a = Xw\n",
    "$$\n",
    "\n",
    "Задача обучения:\n",
    "\n",
    "$$\n",
    "w = \\arg\\min_w MSE(Xw, y)\n",
    "$$\n",
    "\n",
    "Формула обучения:\n",
    "\n",
    "$$\n",
    "w = (X^T X)^{-1} X^T y\n",
    "$$"
   ]
  },
  {
   "cell_type": "markdown",
   "metadata": {},
   "source": [
    "**Ответ:** При умножении матрицы признаков на обратимую матрицу качество линейной регрессии не изменится.\n",
    "\n",
    "**Обоснование:** Умножим матрицу признаков на обратимую матрицу $A$ и посмотрим как изменится при этом вектор весов:"
   ]
  },
  {
   "cell_type": "markdown",
   "metadata": {},
   "source": [
    "$w_{new} = ((XA)^T XA)^{-1} (XA)^T y = (A^T X^T XA)^{-1} A^T X^T y = (A^T (X^T XA))^{-1} A^T X^T y = (X^T XA)^{-1} (A^T)^{-1} A^T X^T y = (X^T XA)^{-1} E X^T y = ((X^T X)A)^{-1} X^T y = A^{-1} (X^T X)^{-1} X^T y = A^{-1} w$"
   ]
  },
  {
   "cell_type": "markdown",
   "metadata": {},
   "source": [
    "При выполнении преобразований для вычисления вектора весов $w_{new}$ использовались следующие свойства матриц:"
   ]
  },
  {
   "cell_type": "markdown",
   "metadata": {},
   "source": [
    "$$\n",
    "(AB)C = A(BC)\n",
    "$$\n",
    "\n",
    "$$\n",
    "(AB)^T = B^T A^T\n",
    "$$\n",
    "\n",
    "$$\n",
    "(AB)^{-1} = B^{-1} A^{-1}\n",
    "$$\n",
    "\n",
    "$$\n",
    "A^{-1} A = E\n",
    "$$\n",
    "\n",
    "$$\n",
    "A E = A\n",
    "$$"
   ]
  },
  {
   "cell_type": "markdown",
   "metadata": {},
   "source": [
    "Как видно из полученного результата, вектор весов $w_{new}$ может быть получен умножением матрицы $A^{-1}$ на исходный вектор весов $w$"
   ]
  },
  {
   "cell_type": "markdown",
   "metadata": {},
   "source": [
    "Вычислим вектор предсказаний $a_{new}$ для рассматриваемого случая, когда матрица признаков $X$ умножена на обратимую матрицу $A$:"
   ]
  },
  {
   "cell_type": "markdown",
   "metadata": {},
   "source": [
    "$a_{new} = XAw_{new} = XAA^{-1}w = XEw = Xw = a$"
   ]
  },
  {
   "cell_type": "markdown",
   "metadata": {},
   "source": [
    "Таким образом, вектор предсказаний не изменился. Качество модели определяется вектором целевых признаков (y) и вектором предсказаний (a). Так как данные вектора остались без изменений, то качество модели также не поменялось."
   ]
  },
  {
   "cell_type": "markdown",
   "metadata": {},
   "source": [
    "### Вывод "
   ]
  },
  {
   "cell_type": "markdown",
   "metadata": {},
   "source": [
    "При умножении матрицы признаков на обратимую матрицу качество линейной регрессии не изменится, так как не изменится вектор предсказаний. При этом вектор весов изменится."
   ]
  },
  {
   "cell_type": "markdown",
   "metadata": {},
   "source": [
    "## Алгоритм преобразования"
   ]
  },
  {
   "cell_type": "markdown",
   "metadata": {},
   "source": [
    "Для защиты данных можно предложить следующий алгоритм преобразования данных. Матрицу признаков необходимо умножить на обратимую матрицу. Это не повлечет за собой изменения предсказаний и качества линейной регрессии, что было доказано в разделе 2. "
   ]
  },
  {
   "cell_type": "markdown",
   "metadata": {},
   "source": [
    "## Проверка алгоритма"
   ]
  },
  {
   "cell_type": "markdown",
   "metadata": {},
   "source": [
    "Подготовим исходные данные для машинного обучения"
   ]
  },
  {
   "cell_type": "code",
   "execution_count": 7,
   "metadata": {
    "scrolled": true
   },
   "outputs": [],
   "source": [
    "features = data.drop(\"Страховые выплаты\", axis=1)\n",
    "target = data[\"Страховые выплаты\"]\n",
    "numeric = [\"Возраст\", \"Зарплата\", \"Члены семьи\"]\n",
    "scaler = StandardScaler()\n",
    "scaler.fit(features[numeric])\n",
    "features[numeric] = scaler.transform(features[numeric])"
   ]
  },
  {
   "cell_type": "markdown",
   "metadata": {},
   "source": [
    "Создадим обратимую матрицу. Обратимая матрица - квадратная матрица, кроме того из условия возможности умножения матрицы признаков X на обратимую матрицу, количество строк в последней должно быть равно четырем (количество столбцов в матрице признаков). Таким образом размер обратимой матрицы строго фиксирован и равен 4х4."
   ]
  },
  {
   "cell_type": "code",
   "execution_count": 8,
   "metadata": {},
   "outputs": [
    {
     "data": {
      "text/plain": [
       "array([[-1.0856306 ,  0.99734545,  0.2829785 , -1.50629471],\n",
       "       [-0.57860025,  1.65143654, -2.42667924, -0.42891263],\n",
       "       [ 1.26593626, -0.8667404 , -0.67888615, -0.09470897],\n",
       "       [ 1.49138963, -0.638902  , -0.44398196, -0.43435128]])"
      ]
     },
     "execution_count": 8,
     "metadata": {},
     "output_type": "execute_result"
    }
   ],
   "source": [
    "random_state = 123\n",
    "np.random.seed(random_state)\n",
    "rand_matrix = np.random.normal(size=(4, 4))\n",
    "rand_matrix"
   ]
  },
  {
   "cell_type": "markdown",
   "metadata": {},
   "source": [
    "Проверим полученную матрицу rand_matrix на обратимость."
   ]
  },
  {
   "cell_type": "code",
   "execution_count": 9,
   "metadata": {},
   "outputs": [
    {
     "data": {
      "text/plain": [
       "array([[-0.43877556,  0.08607718, -1.66796984,  1.80033411],\n",
       "       [-0.48457712,  0.30483394, -2.55861755,  1.93735555],\n",
       "       [-0.10355901, -0.24183861, -1.21619062,  0.86313132],\n",
       "       [-0.68794478,  0.09436506, -0.72043156,  0.14735665]])"
      ]
     },
     "execution_count": 9,
     "metadata": {},
     "output_type": "execute_result"
    }
   ],
   "source": [
    "rand_matrix_inv = np.linalg.inv(rand_matrix)\n",
    "rand_matrix_inv"
   ]
  },
  {
   "cell_type": "markdown",
   "metadata": {},
   "source": [
    "Обратная матрица успешно получена, следовательно матрица rand_matrix действительно обратимая."
   ]
  },
  {
   "cell_type": "markdown",
   "metadata": {},
   "source": [
    "Умножим матрицу признаков на обратимую матрицу и сохраним, полученный результат."
   ]
  },
  {
   "cell_type": "code",
   "execution_count": 10,
   "metadata": {},
   "outputs": [],
   "source": [
    "features_new = features.dot(rand_matrix)"
   ]
  },
  {
   "cell_type": "markdown",
   "metadata": {},
   "source": [
    "Проверим качество линейной регрессии при использовании исходной матрицы признаков. "
   ]
  },
  {
   "cell_type": "code",
   "execution_count": 11,
   "metadata": {},
   "outputs": [
    {
     "name": "stdout",
     "output_type": "stream",
     "text": [
      "Средняя квадратичная ошибка модели равна: 0.12527263826681606\n",
      "Коэффициент детерминации модели равен: 0.4302010044852066\n"
     ]
    }
   ],
   "source": [
    "model = LinearRegression()\n",
    "model.fit(features, target)\n",
    "predictions = model.predict(features)\n",
    "mse = mean_squared_error(target, predictions)\n",
    "r2 = r2_score(target, predictions)\n",
    "print(\"Средняя квадратичная ошибка модели равна:\", mse)\n",
    "print(\"Коэффициент детерминации модели равен:\", r2)"
   ]
  },
  {
   "cell_type": "markdown",
   "metadata": {},
   "source": [
    "Проверим качество линейной регрессии при использовании измененной матрицы признаков. "
   ]
  },
  {
   "cell_type": "code",
   "execution_count": 12,
   "metadata": {},
   "outputs": [
    {
     "name": "stdout",
     "output_type": "stream",
     "text": [
      "Средняя квадратичная ошибка модели равна: 0.125272638266816\n",
      "Коэффициент детерминации модели равен: 0.4302010044852068\n"
     ]
    }
   ],
   "source": [
    "model.fit(features_new, target)\n",
    "predictions = model.predict(features_new)\n",
    "mse = mean_squared_error(target, predictions)\n",
    "r2 = r2_score(target, predictions)\n",
    "print(\"Средняя квадратичная ошибка модели равна:\", mse)\n",
    "print(\"Коэффициент детерминации модели равен:\", r2)"
   ]
  },
  {
   "cell_type": "markdown",
   "metadata": {},
   "source": [
    "Качество модели не изменилось. Таким образом, алгоритм преобразования данных работает успешно."
   ]
  },
  {
   "cell_type": "markdown",
   "metadata": {},
   "source": [
    "### Вывод "
   ]
  },
  {
   "cell_type": "markdown",
   "metadata": {},
   "source": [
    "Качество модели при использовании предложенного алгоритма преобразования данных с целью их защиты не изменилось. Таким образом, данный алгоритм работает успешно."
   ]
  },
  {
   "cell_type": "markdown",
   "metadata": {},
   "source": [
    "## Чек-лист проверки"
   ]
  },
  {
   "cell_type": "markdown",
   "metadata": {},
   "source": [
    "Поставьте 'x' в выполненных пунктах. Далее нажмите Shift+Enter."
   ]
  },
  {
   "cell_type": "markdown",
   "metadata": {},
   "source": [
    "- [x]  Jupyter Notebook открыт\n",
    "- [x]  Весь код выполняется без ошибок\n",
    "- [x]  Ячейки с кодом расположены в порядке исполнения\n",
    "- [x]  Выполнен шаг 1: данные загружены\n",
    "- [x]  Выполнен шаг 2: получен ответ на вопрос об умножении матриц\n",
    "    - [x]  Указан правильный вариант ответа\n",
    "    - [x]  Вариант обоснован\n",
    "- [x]  Выполнен шаг 3: предложен алгоритм преобразования\n",
    "    - [x]  Алгоритм описан\n",
    "    - [x]  Алгоритм обоснован\n",
    "- [x]  Выполнен шаг 4: алгоритм проверен\n",
    "    - [x]  Алгоритм реализован\n",
    "    - [x]  Проведено сравнение качества моделей до и после преобразования"
   ]
  },
  {
   "cell_type": "code",
   "execution_count": null,
   "metadata": {},
   "outputs": [],
   "source": []
  }
 ],
 "metadata": {
  "ExecuteTimeLog": [
   {
    "duration": 854,
    "start_time": "2021-07-25T10:11:22.663Z"
   },
   {
    "duration": 38,
    "start_time": "2021-07-25T10:11:24.783Z"
   },
   {
    "duration": 33,
    "start_time": "2021-07-25T10:11:53.444Z"
   },
   {
    "duration": 115,
    "start_time": "2021-07-25T10:24:07.055Z"
   },
   {
    "duration": 991,
    "start_time": "2021-07-25T22:48:00.761Z"
   },
   {
    "duration": 958,
    "start_time": "2021-07-25T23:00:04.085Z"
   },
   {
    "duration": 37,
    "start_time": "2021-07-25T23:00:05.046Z"
   },
   {
    "duration": 34,
    "start_time": "2021-07-25T23:00:05.086Z"
   },
   {
    "duration": 485,
    "start_time": "2021-07-25T23:00:05.123Z"
   },
   {
    "duration": 1918,
    "start_time": "2021-07-25T23:00:03.692Z"
   },
   {
    "duration": 8,
    "start_time": "2021-07-25T23:00:17.648Z"
   },
   {
    "duration": 20,
    "start_time": "2021-07-25T23:00:20.349Z"
   },
   {
    "duration": 7,
    "start_time": "2021-07-25T23:08:44.756Z"
   },
   {
    "duration": 14,
    "start_time": "2021-07-25T23:09:01.967Z"
   },
   {
    "duration": 880,
    "start_time": "2021-07-25T23:28:50.861Z"
   },
   {
    "duration": 38,
    "start_time": "2021-07-25T23:28:51.744Z"
   },
   {
    "duration": 32,
    "start_time": "2021-07-25T23:28:51.785Z"
   },
   {
    "duration": 7,
    "start_time": "2021-07-25T23:28:51.820Z"
   },
   {
    "duration": 9,
    "start_time": "2021-07-25T23:28:51.830Z"
   },
   {
    "duration": 47,
    "start_time": "2021-07-25T23:28:51.842Z"
   },
   {
    "duration": 882,
    "start_time": "2021-07-25T23:29:27.775Z"
   },
   {
    "duration": 37,
    "start_time": "2021-07-25T23:29:28.660Z"
   },
   {
    "duration": 32,
    "start_time": "2021-07-25T23:29:28.701Z"
   },
   {
    "duration": 7,
    "start_time": "2021-07-25T23:29:28.736Z"
   },
   {
    "duration": 8,
    "start_time": "2021-07-25T23:29:28.745Z"
   },
   {
    "duration": 12,
    "start_time": "2021-07-25T23:29:28.787Z"
   },
   {
    "duration": 809,
    "start_time": "2021-07-25T23:29:53.036Z"
   },
   {
    "duration": 45,
    "start_time": "2021-07-25T23:29:53.847Z"
   },
   {
    "duration": 36,
    "start_time": "2021-07-25T23:29:53.895Z"
   },
   {
    "duration": 6,
    "start_time": "2021-07-25T23:29:53.934Z"
   },
   {
    "duration": 12,
    "start_time": "2021-07-25T23:29:53.942Z"
   },
   {
    "duration": 13,
    "start_time": "2021-07-25T23:29:53.985Z"
   },
   {
    "duration": 885,
    "start_time": "2021-07-25T23:29:57.247Z"
   },
   {
    "duration": 38,
    "start_time": "2021-07-25T23:29:58.135Z"
   },
   {
    "duration": 43,
    "start_time": "2021-07-25T23:29:58.177Z"
   },
   {
    "duration": 6,
    "start_time": "2021-07-25T23:29:58.224Z"
   },
   {
    "duration": 11,
    "start_time": "2021-07-25T23:29:58.233Z"
   },
   {
    "duration": 46,
    "start_time": "2021-07-25T23:29:58.247Z"
   },
   {
    "duration": 971,
    "start_time": "2021-07-27T06:50:25.125Z"
   },
   {
    "duration": 48,
    "start_time": "2021-07-27T06:50:26.098Z"
   },
   {
    "duration": 19,
    "start_time": "2021-07-27T06:50:26.148Z"
   },
   {
    "duration": 2,
    "start_time": "2021-07-27T06:50:26.169Z"
   },
   {
    "duration": 7,
    "start_time": "2021-07-27T06:50:26.173Z"
   },
   {
    "duration": 7,
    "start_time": "2021-07-27T06:50:26.182Z"
   },
   {
    "duration": 337,
    "start_time": "2021-07-27T06:50:26.191Z"
   },
   {
    "duration": 3400,
    "start_time": "2021-07-27T06:50:23.130Z"
   },
   {
    "duration": 249,
    "start_time": "2021-07-27T06:50:49.359Z"
   },
   {
    "duration": 4,
    "start_time": "2021-07-27T06:53:03.066Z"
   },
   {
    "duration": 953,
    "start_time": "2021-07-27T07:02:12.544Z"
   },
   {
    "duration": 30,
    "start_time": "2021-07-27T07:02:13.499Z"
   },
   {
    "duration": 19,
    "start_time": "2021-07-27T07:02:13.533Z"
   },
   {
    "duration": 3,
    "start_time": "2021-07-27T07:02:13.554Z"
   },
   {
    "duration": 8,
    "start_time": "2021-07-27T07:02:13.559Z"
   },
   {
    "duration": 24,
    "start_time": "2021-07-27T07:02:13.568Z"
   },
   {
    "duration": 327,
    "start_time": "2021-07-27T07:02:13.594Z"
   },
   {
    "duration": 3370,
    "start_time": "2021-07-27T07:02:10.553Z"
   },
   {
    "duration": 12,
    "start_time": "2021-07-27T07:02:32.102Z"
   },
   {
    "duration": 4,
    "start_time": "2021-07-27T07:02:36.487Z"
   },
   {
    "duration": 986,
    "start_time": "2021-07-27T07:19:08.525Z"
   },
   {
    "duration": 32,
    "start_time": "2021-07-27T07:19:09.514Z"
   },
   {
    "duration": 28,
    "start_time": "2021-07-27T07:19:09.549Z"
   },
   {
    "duration": 14,
    "start_time": "2021-07-27T07:19:09.579Z"
   },
   {
    "duration": 9,
    "start_time": "2021-07-27T07:19:09.595Z"
   },
   {
    "duration": 8,
    "start_time": "2021-07-27T07:19:09.605Z"
   },
   {
    "duration": 13,
    "start_time": "2021-07-27T07:19:09.614Z"
   },
   {
    "duration": 6,
    "start_time": "2021-07-27T07:19:09.629Z"
   },
   {
    "duration": 3,
    "start_time": "2021-07-27T07:19:41.029Z"
   },
   {
    "duration": 3,
    "start_time": "2021-07-27T08:57:23.067Z"
   },
   {
    "duration": 3,
    "start_time": "2021-07-27T08:57:27.800Z"
   },
   {
    "duration": 4,
    "start_time": "2021-07-27T08:57:42.888Z"
   },
   {
    "duration": 3,
    "start_time": "2021-07-27T08:57:47.015Z"
   },
   {
    "duration": 3,
    "start_time": "2021-07-27T08:57:48.319Z"
   },
   {
    "duration": 3,
    "start_time": "2021-07-27T08:58:43.048Z"
   },
   {
    "duration": 4,
    "start_time": "2021-07-27T08:58:43.823Z"
   },
   {
    "duration": 3,
    "start_time": "2021-07-27T08:58:45.961Z"
   },
   {
    "duration": 4,
    "start_time": "2021-07-27T08:58:46.704Z"
   },
   {
    "duration": 3,
    "start_time": "2021-07-27T08:58:50.841Z"
   },
   {
    "duration": 4,
    "start_time": "2021-07-27T08:58:51.264Z"
   },
   {
    "duration": 3,
    "start_time": "2021-07-27T08:59:44.129Z"
   },
   {
    "duration": 3,
    "start_time": "2021-07-27T08:59:44.712Z"
   },
   {
    "duration": 2,
    "start_time": "2021-07-27T08:59:52.538Z"
   },
   {
    "duration": 3,
    "start_time": "2021-07-27T08:59:53.033Z"
   },
   {
    "duration": 3,
    "start_time": "2021-07-27T08:59:55.388Z"
   },
   {
    "duration": 4,
    "start_time": "2021-07-27T08:59:55.866Z"
   },
   {
    "duration": 4,
    "start_time": "2021-07-27T09:07:17.590Z"
   },
   {
    "duration": 5,
    "start_time": "2021-07-27T09:07:26.895Z"
   },
   {
    "duration": 1008,
    "start_time": "2021-07-27T09:31:14.177Z"
   },
   {
    "duration": 29,
    "start_time": "2021-07-27T09:31:15.187Z"
   },
   {
    "duration": 19,
    "start_time": "2021-07-27T09:31:15.218Z"
   },
   {
    "duration": 3,
    "start_time": "2021-07-27T09:31:15.238Z"
   },
   {
    "duration": 7,
    "start_time": "2021-07-27T09:31:15.243Z"
   },
   {
    "duration": 7,
    "start_time": "2021-07-27T09:31:15.252Z"
   },
   {
    "duration": 34,
    "start_time": "2021-07-27T09:31:15.260Z"
   },
   {
    "duration": 6,
    "start_time": "2021-07-27T09:31:15.296Z"
   },
   {
    "duration": 3,
    "start_time": "2021-07-27T09:31:15.304Z"
   },
   {
    "duration": 7,
    "start_time": "2021-07-27T09:31:15.308Z"
   },
   {
    "duration": 9,
    "start_time": "2021-07-27T09:31:15.317Z"
   },
   {
    "duration": 64,
    "start_time": "2021-07-27T09:31:15.328Z"
   },
   {
    "duration": 360,
    "start_time": "2021-07-27T09:31:15.436Z"
   },
   {
    "duration": 3060,
    "start_time": "2021-07-27T09:31:12.738Z"
   },
   {
    "duration": 971,
    "start_time": "2021-07-27T09:31:56.323Z"
   },
   {
    "duration": 30,
    "start_time": "2021-07-27T09:31:57.296Z"
   },
   {
    "duration": 19,
    "start_time": "2021-07-27T09:31:57.328Z"
   },
   {
    "duration": 2,
    "start_time": "2021-07-27T09:31:57.349Z"
   },
   {
    "duration": 11,
    "start_time": "2021-07-27T09:31:57.353Z"
   },
   {
    "duration": 9,
    "start_time": "2021-07-27T09:31:57.365Z"
   },
   {
    "duration": 22,
    "start_time": "2021-07-27T09:31:57.376Z"
   },
   {
    "duration": 6,
    "start_time": "2021-07-27T09:31:57.400Z"
   },
   {
    "duration": 4,
    "start_time": "2021-07-27T09:31:57.407Z"
   },
   {
    "duration": 10,
    "start_time": "2021-07-27T09:31:57.413Z"
   },
   {
    "duration": 11,
    "start_time": "2021-07-27T09:31:57.424Z"
   },
   {
    "duration": 55,
    "start_time": "2021-07-27T09:31:57.437Z"
   },
   {
    "duration": 97,
    "start_time": "2021-07-27T09:31:57.494Z"
   },
   {
    "duration": 103,
    "start_time": "2021-07-27T09:31:57.593Z"
   },
   {
    "duration": 971,
    "start_time": "2021-07-27T09:33:37.520Z"
   },
   {
    "duration": 29,
    "start_time": "2021-07-27T09:33:38.493Z"
   },
   {
    "duration": 19,
    "start_time": "2021-07-27T09:33:38.524Z"
   },
   {
    "duration": 3,
    "start_time": "2021-07-27T09:33:38.545Z"
   },
   {
    "duration": 7,
    "start_time": "2021-07-27T09:33:38.549Z"
   },
   {
    "duration": 8,
    "start_time": "2021-07-27T09:33:38.557Z"
   },
   {
    "duration": 25,
    "start_time": "2021-07-27T09:33:38.566Z"
   },
   {
    "duration": 4,
    "start_time": "2021-07-27T09:33:38.593Z"
   },
   {
    "duration": 9,
    "start_time": "2021-07-27T09:33:38.598Z"
   },
   {
    "duration": 6,
    "start_time": "2021-07-27T09:33:38.608Z"
   },
   {
    "duration": 175,
    "start_time": "2021-07-27T09:33:38.616Z"
   },
   {
    "duration": 102,
    "start_time": "2021-07-27T09:33:38.794Z"
   },
   {
    "duration": 983,
    "start_time": "2021-07-27T09:44:41.227Z"
   },
   {
    "duration": 30,
    "start_time": "2021-07-27T09:44:42.212Z"
   },
   {
    "duration": 22,
    "start_time": "2021-07-27T09:44:42.244Z"
   },
   {
    "duration": 4,
    "start_time": "2021-07-27T09:44:42.268Z"
   },
   {
    "duration": 20,
    "start_time": "2021-07-27T09:44:42.273Z"
   },
   {
    "duration": 9,
    "start_time": "2021-07-27T09:44:42.294Z"
   },
   {
    "duration": 11,
    "start_time": "2021-07-27T09:44:42.304Z"
   },
   {
    "duration": 5,
    "start_time": "2021-07-27T09:44:42.317Z"
   },
   {
    "duration": 7,
    "start_time": "2021-07-27T09:44:42.324Z"
   },
   {
    "duration": 61,
    "start_time": "2021-07-27T09:44:42.333Z"
   },
   {
    "duration": 13,
    "start_time": "2021-07-27T09:44:42.396Z"
   },
   {
    "duration": 100,
    "start_time": "2021-07-27T09:44:42.493Z"
   },
   {
    "duration": 991,
    "start_time": "2021-07-27T09:46:21.603Z"
   },
   {
    "duration": 29,
    "start_time": "2021-07-27T09:46:22.596Z"
   },
   {
    "duration": 19,
    "start_time": "2021-07-27T09:46:22.627Z"
   },
   {
    "duration": 3,
    "start_time": "2021-07-27T09:46:22.648Z"
   },
   {
    "duration": 16,
    "start_time": "2021-07-27T09:46:22.653Z"
   },
   {
    "duration": 19,
    "start_time": "2021-07-27T09:46:22.670Z"
   },
   {
    "duration": 21,
    "start_time": "2021-07-27T09:46:22.690Z"
   },
   {
    "duration": 9,
    "start_time": "2021-07-27T09:46:22.713Z"
   },
   {
    "duration": 16,
    "start_time": "2021-07-27T09:46:22.723Z"
   },
   {
    "duration": 51,
    "start_time": "2021-07-27T09:46:22.740Z"
   },
   {
    "duration": 102,
    "start_time": "2021-07-27T09:46:22.793Z"
   },
   {
    "duration": 107,
    "start_time": "2021-07-27T09:46:22.898Z"
   },
   {
    "duration": 959,
    "start_time": "2021-07-27T09:48:05.645Z"
   },
   {
    "duration": 32,
    "start_time": "2021-07-27T09:48:06.606Z"
   },
   {
    "duration": 22,
    "start_time": "2021-07-27T09:48:06.640Z"
   },
   {
    "duration": 4,
    "start_time": "2021-07-27T09:48:06.664Z"
   },
   {
    "duration": 24,
    "start_time": "2021-07-27T09:48:06.669Z"
   },
   {
    "duration": 9,
    "start_time": "2021-07-27T09:48:06.694Z"
   },
   {
    "duration": 11,
    "start_time": "2021-07-27T09:48:06.705Z"
   },
   {
    "duration": 4,
    "start_time": "2021-07-27T09:48:06.719Z"
   },
   {
    "duration": 10,
    "start_time": "2021-07-27T09:48:06.724Z"
   },
   {
    "duration": 59,
    "start_time": "2021-07-27T09:48:06.736Z"
   },
   {
    "duration": 95,
    "start_time": "2021-07-27T09:48:06.797Z"
   },
   {
    "duration": 101,
    "start_time": "2021-07-27T09:48:06.895Z"
   },
   {
    "duration": 1040,
    "start_time": "2021-07-27T09:49:55.811Z"
   },
   {
    "duration": 30,
    "start_time": "2021-07-27T09:49:56.855Z"
   },
   {
    "duration": 22,
    "start_time": "2021-07-27T09:49:56.887Z"
   },
   {
    "duration": 3,
    "start_time": "2021-07-27T09:49:56.911Z"
   },
   {
    "duration": 10,
    "start_time": "2021-07-27T09:49:56.915Z"
   },
   {
    "duration": 8,
    "start_time": "2021-07-27T09:49:56.927Z"
   },
   {
    "duration": 10,
    "start_time": "2021-07-27T09:49:56.937Z"
   },
   {
    "duration": 8,
    "start_time": "2021-07-27T09:49:56.948Z"
   },
   {
    "duration": 38,
    "start_time": "2021-07-27T09:49:56.958Z"
   },
   {
    "duration": 5,
    "start_time": "2021-07-27T09:49:56.998Z"
   },
   {
    "duration": 90,
    "start_time": "2021-07-27T09:49:57.008Z"
   },
   {
    "duration": 97,
    "start_time": "2021-07-27T09:49:57.100Z"
   },
   {
    "duration": 1399,
    "start_time": "2021-07-27T11:17:12.366Z"
   },
   {
    "duration": 40,
    "start_time": "2021-07-27T11:17:13.768Z"
   },
   {
    "duration": 34,
    "start_time": "2021-07-27T11:17:13.811Z"
   },
   {
    "duration": 21,
    "start_time": "2021-07-27T11:17:13.847Z"
   },
   {
    "duration": 15,
    "start_time": "2021-07-27T11:17:13.871Z"
   },
   {
    "duration": 12,
    "start_time": "2021-07-27T11:17:14.142Z"
   },
   {
    "duration": 16,
    "start_time": "2021-07-27T11:22:43.944Z"
   },
   {
    "duration": 6,
    "start_time": "2021-07-27T11:22:49.481Z"
   },
   {
    "duration": 8,
    "start_time": "2021-07-27T11:22:49.812Z"
   }
  ],
  "kernelspec": {
   "display_name": "Python 3",
   "language": "python",
   "name": "python3"
  },
  "language_info": {
   "codemirror_mode": {
    "name": "ipython",
    "version": 3
   },
   "file_extension": ".py",
   "mimetype": "text/x-python",
   "name": "python",
   "nbconvert_exporter": "python",
   "pygments_lexer": "ipython3",
   "version": "3.7.8"
  },
  "toc": {
   "base_numbering": 1,
   "nav_menu": {},
   "number_sections": true,
   "sideBar": true,
   "skip_h1_title": true,
   "title_cell": "Содержание",
   "title_sidebar": "Contents",
   "toc_cell": true,
   "toc_position": {},
   "toc_section_display": true,
   "toc_window_display": true
  }
 },
 "nbformat": 4,
 "nbformat_minor": 2
}
