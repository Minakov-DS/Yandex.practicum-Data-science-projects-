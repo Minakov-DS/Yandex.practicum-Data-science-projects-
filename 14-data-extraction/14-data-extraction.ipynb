{
 "cells": [
  {
   "cell_type": "markdown",
   "metadata": {
    "toc": true
   },
   "source": [
    "<h1>Содержание<span class=\"tocSkip\"></span></h1>\n",
    "<div class=\"toc\"><ul class=\"toc-item\"><li><span><a href=\"#Изучение-исходных-данных\" data-toc-modified-id=\"Изучение-исходных-данных-1\"><span class=\"toc-item-num\">1&nbsp;&nbsp;</span>Изучение исходных данных</a></span><ul class=\"toc-item\"><li><span><a href=\"#Вывод:\" data-toc-modified-id=\"Вывод:-1.1\"><span class=\"toc-item-num\">1.1&nbsp;&nbsp;</span>Вывод:</a></span></li></ul></li><li><span><a href=\"#Графический-анализ-исходных-данных\" data-toc-modified-id=\"Графический-анализ-исходных-данных-2\"><span class=\"toc-item-num\">2&nbsp;&nbsp;</span>Графический анализ исходных данных</a></span><ul class=\"toc-item\"><li><span><a href=\"#График:-модели-самолетов-и-количество-рейсов\" data-toc-modified-id=\"График:-модели-самолетов-и-количество-рейсов-2.1\"><span class=\"toc-item-num\">2.1&nbsp;&nbsp;</span>График: модели самолетов и количество рейсов</a></span></li><li><span><a href=\"#График:-города-и-количество-рейсов\" data-toc-modified-id=\"График:-города-и-количество-рейсов-2.2\"><span class=\"toc-item-num\">2.2&nbsp;&nbsp;</span>График: города и количество рейсов</a></span></li><li><span><a href=\"#Выводы\" data-toc-modified-id=\"Выводы-2.3\"><span class=\"toc-item-num\">2.3&nbsp;&nbsp;</span>Выводы</a></span></li></ul></li><li><span><a href=\"#Чек-лист-проверки\" data-toc-modified-id=\"Чек-лист-проверки-3\"><span class=\"toc-item-num\">3&nbsp;&nbsp;</span>Чек-лист проверки</a></span></li></ul></div>"
   ]
  },
  {
   "cell_type": "markdown",
   "metadata": {},
   "source": [
    "# Спрос на рейсы авиакомпании"
   ]
  },
  {
   "cell_type": "markdown",
   "metadata": {},
   "source": [
    "**Цель проекта:** проанализировать спрос пассажиров на рейсы в российские города, где проходят крупнейшие культурные фестивали."
   ]
  },
  {
   "cell_type": "markdown",
   "metadata": {},
   "source": [
    "**Исходные данные:** результаты двух запросов из базы данных, выполненные на языке SQL (см. отдельные файлы к проекту).\n",
    "\n",
    "**query_1.csv** — результат первого запроса. В нём содержится такая информация:\n",
    "\n",
    "- *model* — **модель самолета;\n",
    "- *flights_amount* — количество рейсов для каждой модели самолетов *model* в сентябре 2018 года.\n",
    "\n",
    "**query_3.csv** — результат третьего запроса. В нём содержится такая информация:\n",
    "\n",
    "- *city* — город;\n",
    "- *average_flights* — среднее количество рейсов, прибывающих в город (*city*) за день в сентябре 2018 года."
   ]
  },
  {
   "cell_type": "markdown",
   "metadata": {},
   "source": [
    "## Изучение исходных данных"
   ]
  },
  {
   "cell_type": "markdown",
   "metadata": {},
   "source": [
    "Загружаем необходимые библиотеки."
   ]
  },
  {
   "cell_type": "code",
   "execution_count": 1,
   "metadata": {},
   "outputs": [],
   "source": [
    "import pandas as pd\n",
    "from matplotlib import pyplot as plt"
   ]
  },
  {
   "cell_type": "markdown",
   "metadata": {},
   "source": [
    "Загружаем исходные файлы и выводим общую информацию об исходных данных."
   ]
  },
  {
   "cell_type": "code",
   "execution_count": 2,
   "metadata": {
    "scrolled": true
   },
   "outputs": [],
   "source": [
    "model_flights = pd.read_csv('/datasets/query_1.csv')\n",
    "city_flights = pd.read_csv('/datasets/query_3.csv')"
   ]
  },
  {
   "cell_type": "code",
   "execution_count": 3,
   "metadata": {
    "scrolled": true
   },
   "outputs": [
    {
     "name": "stdout",
     "output_type": "stream",
     "text": [
      "<class 'pandas.core.frame.DataFrame'>\n",
      "RangeIndex: 8 entries, 0 to 7\n",
      "Data columns (total 2 columns):\n",
      "model             8 non-null object\n",
      "flights_amount    8 non-null int64\n",
      "dtypes: int64(1), object(1)\n",
      "memory usage: 256.0+ bytes\n"
     ]
    }
   ],
   "source": [
    "model_flights.info()"
   ]
  },
  {
   "cell_type": "code",
   "execution_count": 4,
   "metadata": {
    "scrolled": false
   },
   "outputs": [
    {
     "data": {
      "text/html": [
       "<div>\n",
       "<style scoped>\n",
       "    .dataframe tbody tr th:only-of-type {\n",
       "        vertical-align: middle;\n",
       "    }\n",
       "\n",
       "    .dataframe tbody tr th {\n",
       "        vertical-align: top;\n",
       "    }\n",
       "\n",
       "    .dataframe thead th {\n",
       "        text-align: right;\n",
       "    }\n",
       "</style>\n",
       "<table border=\"1\" class=\"dataframe\">\n",
       "  <thead>\n",
       "    <tr style=\"text-align: right;\">\n",
       "      <th></th>\n",
       "      <th>model</th>\n",
       "      <th>flights_amount</th>\n",
       "    </tr>\n",
       "  </thead>\n",
       "  <tbody>\n",
       "    <tr>\n",
       "      <td>0</td>\n",
       "      <td>Airbus A319-100</td>\n",
       "      <td>607</td>\n",
       "    </tr>\n",
       "    <tr>\n",
       "      <td>1</td>\n",
       "      <td>Airbus A321-200</td>\n",
       "      <td>960</td>\n",
       "    </tr>\n",
       "    <tr>\n",
       "      <td>2</td>\n",
       "      <td>Boeing 737-300</td>\n",
       "      <td>630</td>\n",
       "    </tr>\n",
       "    <tr>\n",
       "      <td>3</td>\n",
       "      <td>Boeing 767-300</td>\n",
       "      <td>600</td>\n",
       "    </tr>\n",
       "    <tr>\n",
       "      <td>4</td>\n",
       "      <td>Boeing 777-300</td>\n",
       "      <td>300</td>\n",
       "    </tr>\n",
       "    <tr>\n",
       "      <td>5</td>\n",
       "      <td>Bombardier CRJ-200</td>\n",
       "      <td>4446</td>\n",
       "    </tr>\n",
       "    <tr>\n",
       "      <td>6</td>\n",
       "      <td>Cessna 208 Caravan</td>\n",
       "      <td>4557</td>\n",
       "    </tr>\n",
       "    <tr>\n",
       "      <td>7</td>\n",
       "      <td>Sukhoi SuperJet-100</td>\n",
       "      <td>4185</td>\n",
       "    </tr>\n",
       "  </tbody>\n",
       "</table>\n",
       "</div>"
      ],
      "text/plain": [
       "                 model  flights_amount\n",
       "0      Airbus A319-100             607\n",
       "1      Airbus A321-200             960\n",
       "2       Boeing 737-300             630\n",
       "3       Boeing 767-300             600\n",
       "4       Boeing 777-300             300\n",
       "5   Bombardier CRJ-200            4446\n",
       "6   Cessna 208 Caravan            4557\n",
       "7  Sukhoi SuperJet-100            4185"
      ]
     },
     "execution_count": 4,
     "metadata": {},
     "output_type": "execute_result"
    }
   ],
   "source": [
    "model_flights"
   ]
  },
  {
   "cell_type": "code",
   "execution_count": 5,
   "metadata": {},
   "outputs": [
    {
     "name": "stdout",
     "output_type": "stream",
     "text": [
      "<class 'pandas.core.frame.DataFrame'>\n",
      "RangeIndex: 101 entries, 0 to 100\n",
      "Data columns (total 2 columns):\n",
      "city               101 non-null object\n",
      "average_flights    101 non-null float64\n",
      "dtypes: float64(1), object(1)\n",
      "memory usage: 1.7+ KB\n"
     ]
    }
   ],
   "source": [
    "city_flights.info()"
   ]
  },
  {
   "cell_type": "code",
   "execution_count": 6,
   "metadata": {},
   "outputs": [
    {
     "data": {
      "text/html": [
       "<div>\n",
       "<style scoped>\n",
       "    .dataframe tbody tr th:only-of-type {\n",
       "        vertical-align: middle;\n",
       "    }\n",
       "\n",
       "    .dataframe tbody tr th {\n",
       "        vertical-align: top;\n",
       "    }\n",
       "\n",
       "    .dataframe thead th {\n",
       "        text-align: right;\n",
       "    }\n",
       "</style>\n",
       "<table border=\"1\" class=\"dataframe\">\n",
       "  <thead>\n",
       "    <tr style=\"text-align: right;\">\n",
       "      <th></th>\n",
       "      <th>city</th>\n",
       "      <th>average_flights</th>\n",
       "    </tr>\n",
       "  </thead>\n",
       "  <tbody>\n",
       "    <tr>\n",
       "      <td>0</td>\n",
       "      <td>Абакан</td>\n",
       "      <td>3.870968</td>\n",
       "    </tr>\n",
       "    <tr>\n",
       "      <td>1</td>\n",
       "      <td>Анадырь</td>\n",
       "      <td>1.000000</td>\n",
       "    </tr>\n",
       "    <tr>\n",
       "      <td>2</td>\n",
       "      <td>Анапа</td>\n",
       "      <td>2.161290</td>\n",
       "    </tr>\n",
       "    <tr>\n",
       "      <td>3</td>\n",
       "      <td>Архангельск</td>\n",
       "      <td>5.354839</td>\n",
       "    </tr>\n",
       "    <tr>\n",
       "      <td>4</td>\n",
       "      <td>Астрахань</td>\n",
       "      <td>2.451613</td>\n",
       "    </tr>\n",
       "  </tbody>\n",
       "</table>\n",
       "</div>"
      ],
      "text/plain": [
       "          city  average_flights\n",
       "0       Абакан         3.870968\n",
       "1      Анадырь         1.000000\n",
       "2        Анапа         2.161290\n",
       "3  Архангельск         5.354839\n",
       "4    Астрахань         2.451613"
      ]
     },
     "execution_count": 6,
     "metadata": {},
     "output_type": "execute_result"
    }
   ],
   "source": [
    "city_flights.head()"
   ]
  },
  {
   "cell_type": "markdown",
   "metadata": {},
   "source": [
    "Пропусков в исходных данных не выявлено. Типы данных заданы верно."
   ]
  },
  {
   "cell_type": "markdown",
   "metadata": {},
   "source": [
    "Проверяем исходные данные на дупликаты"
   ]
  },
  {
   "cell_type": "code",
   "execution_count": 7,
   "metadata": {},
   "outputs": [
    {
     "data": {
      "text/plain": [
       "0"
      ]
     },
     "execution_count": 7,
     "metadata": {},
     "output_type": "execute_result"
    }
   ],
   "source": [
    "city_flights.duplicated().sum()"
   ]
  },
  {
   "cell_type": "markdown",
   "metadata": {},
   "source": [
    "Дубликатов не выявлено."
   ]
  },
  {
   "cell_type": "markdown",
   "metadata": {},
   "source": [
    "Дополнительно выведем описательную статистику."
   ]
  },
  {
   "cell_type": "code",
   "execution_count": 8,
   "metadata": {},
   "outputs": [
    {
     "data": {
      "text/html": [
       "<div>\n",
       "<style scoped>\n",
       "    .dataframe tbody tr th:only-of-type {\n",
       "        vertical-align: middle;\n",
       "    }\n",
       "\n",
       "    .dataframe tbody tr th {\n",
       "        vertical-align: top;\n",
       "    }\n",
       "\n",
       "    .dataframe thead th {\n",
       "        text-align: right;\n",
       "    }\n",
       "</style>\n",
       "<table border=\"1\" class=\"dataframe\">\n",
       "  <thead>\n",
       "    <tr style=\"text-align: right;\">\n",
       "      <th></th>\n",
       "      <th>average_flights</th>\n",
       "    </tr>\n",
       "  </thead>\n",
       "  <tbody>\n",
       "    <tr>\n",
       "      <td>count</td>\n",
       "      <td>101.000000</td>\n",
       "    </tr>\n",
       "    <tr>\n",
       "      <td>mean</td>\n",
       "      <td>5.494189</td>\n",
       "    </tr>\n",
       "    <tr>\n",
       "      <td>std</td>\n",
       "      <td>13.119790</td>\n",
       "    </tr>\n",
       "    <tr>\n",
       "      <td>min</td>\n",
       "      <td>1.000000</td>\n",
       "    </tr>\n",
       "    <tr>\n",
       "      <td>25%</td>\n",
       "      <td>2.000000</td>\n",
       "    </tr>\n",
       "    <tr>\n",
       "      <td>50%</td>\n",
       "      <td>3.000000</td>\n",
       "    </tr>\n",
       "    <tr>\n",
       "      <td>75%</td>\n",
       "      <td>5.870968</td>\n",
       "    </tr>\n",
       "    <tr>\n",
       "      <td>max</td>\n",
       "      <td>129.774194</td>\n",
       "    </tr>\n",
       "  </tbody>\n",
       "</table>\n",
       "</div>"
      ],
      "text/plain": [
       "       average_flights\n",
       "count       101.000000\n",
       "mean          5.494189\n",
       "std          13.119790\n",
       "min           1.000000\n",
       "25%           2.000000\n",
       "50%           3.000000\n",
       "75%           5.870968\n",
       "max         129.774194"
      ]
     },
     "execution_count": 8,
     "metadata": {},
     "output_type": "execute_result"
    }
   ],
   "source": [
    "city_flights.describe()"
   ]
  },
  {
   "cell_type": "markdown",
   "metadata": {},
   "source": [
    "### Вывод:"
   ]
  },
  {
   "cell_type": "markdown",
   "metadata": {},
   "source": [
    "Дубликатов, пропусков и каких либо других аномалий/ошибок в исходных данных не выявлено: можно переходить к анализу исходных данных."
   ]
  },
  {
   "cell_type": "markdown",
   "metadata": {},
   "source": [
    "## Графический анализ исходных данных"
   ]
  },
  {
   "cell_type": "markdown",
   "metadata": {},
   "source": [
    "Выполним анализ исходных данных при помощи графиков."
   ]
  },
  {
   "cell_type": "markdown",
   "metadata": {},
   "source": [
    "### График: модели самолетов и количество рейсов"
   ]
  },
  {
   "cell_type": "markdown",
   "metadata": {},
   "source": [
    "Построим график: модели самолетов и количество рейсов."
   ]
  },
  {
   "cell_type": "code",
   "execution_count": 9,
   "metadata": {},
   "outputs": [
    {
     "data": {
      "image/png": "[encoded data removed]",
      "text/plain": [
       "<Figure size 864x360 with 1 Axes>"
      ]
     },
     "metadata": {
      "needs_background": "light"
     },
     "output_type": "display_data"
    }
   ],
   "source": [
    "model_flights = model_flights.sort_values(by='flights_amount', ascending=False)\n",
    "model_flights.plot(x='model', y='flights_amount', kind='bar', figsize=(12,5))\n",
    "plt.legend([\"Количество рейсов в сентябре 2018\"], fontsize=12)\n",
    "plt.xlabel(\"Модели самолетов\", fontsize=12)\n",
    "plt.title(\"Количество рейсов различных моделей самолетов (сентябрь 2018)\", fontsize=14, fontweight='bold')\n",
    "plt.show()"
   ]
  },
  {
   "cell_type": "markdown",
   "metadata": {},
   "source": [
    "Как видно из графика, в рейтинге моделей самолетов лидирует Cessina 208 Caravan, второе место занимает Bombardier CRJ-200, третье - Sukhoi SuperJet-100. Лидерство Cessina 208 Caravan объясняется, вероятно, его небольшими размерами, данный самолет совершает много рейсов на небольшие дистанции с малым числом пассажиров. Из трех лидеров рейтинга самый большой самолет - Sukhoi SuperJet-100, его попадание в топ-3, вероятно, обусловлено тем, что рынок авиаперевозок России для него является \"родным\". Последнее место занимает в рейтинге модель Boeing 777-300, что, вероятно, объясняется большими размерами данного самолета."
   ]
  },
  {
   "cell_type": "markdown",
   "metadata": {},
   "source": [
    "Для большей наглядности построим также круговую диаграмму."
   ]
  },
  {
   "cell_type": "code",
   "execution_count": 10,
   "metadata": {},
   "outputs": [
    {
     "data": {
      "image/png": "[encoded data removed]",
      "text/plain": [
       "<Figure size 432x288 with 1 Axes>"
      ]
     },
     "metadata": {},
     "output_type": "display_data"
    }
   ],
   "source": [
    "model_flights[\"flights_amount\"].plot(kind='pie', radius=2, autopct='%.1f', textprops={'fontsize': 12}, labels=model_flights[\"model\"])\n",
    "plt.ylabel(\"\")\n",
    "plt.show()"
   ]
  },
  {
   "cell_type": "markdown",
   "metadata": {},
   "source": [
    "Круговая диаграмма наглядно демонстрируют долю различных моделей самолетов по количеству рейсов. Доля для топ-3 моделей составляет: Cessina 208 Caravan - 28,0%, Bombardier CRJ-200 - 27,3% и  Sukhoi SuperJet-100 - 25,7%. Доля остальных моделей существенно меньше."
   ]
  },
  {
   "cell_type": "markdown",
   "metadata": {},
   "source": [
    "### График: города и количество рейсов"
   ]
  },
  {
   "cell_type": "markdown",
   "metadata": {},
   "source": [
    "Построим график: города и количество рейсов."
   ]
  },
  {
   "cell_type": "code",
   "execution_count": 11,
   "metadata": {
    "scrolled": true
   },
   "outputs": [
    {
     "data": {
      "image/png": "[encoded data removed]",
      "text/plain": [
       "<Figure size 1152x360 with 1 Axes>"
      ]
     },
     "metadata": {
      "needs_background": "light"
     },
     "output_type": "display_data"
    }
   ],
   "source": [
    "top_cities = city_flights.sort_values(by='average_flights', ascending=False).set_index('city')\n",
    "top_cities = pd.Series(top_cities[\"average_flights\"])\n",
    "top_cities.plot(kind='bar', figsize=(16, 5))\n",
    "plt.legend([\"Среднее количество прибывающих рейсов в день за сентябрь 2018\"], fontsize=12)\n",
    "plt.xlabel(\"Города\", fontsize=12)\n",
    "plt.title(\"Данные по всем городам России\", fontsize=14, fontweight='bold')\n",
    "plt.show()"
   ]
  },
  {
   "cell_type": "markdown",
   "metadata": {},
   "source": [
    "Ввиду большого количества городов, полученный график неудобен для анализа. Выведим таблицу топ-10 городов России по среднему количеству прибывающих рейсов в день (данные за сентябрь 2018 года)."
   ]
  },
  {
   "cell_type": "code",
   "execution_count": 12,
   "metadata": {
    "scrolled": true
   },
   "outputs": [
    {
     "data": {
      "text/plain": [
       "city\n",
       "Москва             129.774194\n",
       "Санкт-Петербург     31.161290\n",
       "Новосибирск         17.322581\n",
       "Красноярск          11.580645\n",
       "Екатеринбург        11.322581\n",
       "Ростов-на-Дону      10.193548\n",
       "Пермь               10.129032\n",
       "Брянск              10.000000\n",
       "Сочи                 9.612903\n",
       "Ульяновск            9.580645\n",
       "Name: average_flights, dtype: float64"
      ]
     },
     "execution_count": 12,
     "metadata": {},
     "output_type": "execute_result"
    }
   ],
   "source": [
    "top_cities[:10]"
   ]
  },
  {
   "cell_type": "markdown",
   "metadata": {},
   "source": [
    "Добавим в данную таблицу пункт \"другие города\", который объединяет данные по всем города, непопавшим в топ-10."
   ]
  },
  {
   "cell_type": "code",
   "execution_count": 13,
   "metadata": {},
   "outputs": [
    {
     "data": {
      "text/plain": [
       "Москва             129.774194\n",
       "Санкт-Петербург     31.161290\n",
       "Новосибирск         17.322581\n",
       "Красноярск          11.580645\n",
       "Екатеринбург        11.322581\n",
       "Ростов-на-Дону      10.193548\n",
       "Пермь               10.129032\n",
       "Брянск              10.000000\n",
       "Сочи                 9.612903\n",
       "Ульяновск            9.580645\n",
       "другие города      304.235681\n",
       "dtype: float64"
      ]
     },
     "execution_count": 13,
     "metadata": {},
     "output_type": "execute_result"
    }
   ],
   "source": [
    "top_10_cities = top_cities[:10].append(pd.Series([top_cities[10:].sum()], index=[\"другие города\"]))\n",
    "top_10_cities"
   ]
  },
  {
   "cell_type": "markdown",
   "metadata": {},
   "source": [
    "Построим график: топ-10 городов России по количеству прибывающих рейсов (без учета пункта \"другие города\")."
   ]
  },
  {
   "cell_type": "code",
   "execution_count": 14,
   "metadata": {},
   "outputs": [
    {
     "data": {
      "image/png": "[encoded data removed]",
      "text/plain": [
       "<Figure size 864x360 with 1 Axes>"
      ]
     },
     "metadata": {
      "needs_background": "light"
     },
     "output_type": "display_data"
    }
   ],
   "source": [
    "top_10_cities[:10].plot(kind='bar', figsize=(12,5))\n",
    "plt.legend([\"Среднее количество прибывающих рейсов в день за сентябрь 2018\"], fontsize=12)\n",
    "plt.xlabel(\"Города\", fontsize=12)\n",
    "plt.title(\"Топ-10 городов России\", fontsize=14, fontweight='bold')\n",
    "plt.show()"
   ]
  },
  {
   "cell_type": "markdown",
   "metadata": {},
   "source": [
    "Как видно из таблицы и из графика, первое место по количеству прибывающих рейсов с большим отрывом занимает Москва, второе - Санкт-Петербург, третье - Новосибирск. Данный результата неудивителен. Москва с большим отрывом лидирует среди городов России по населению и размеру экономики. Санкт-Петербург по данным показателям уверенно занимает второе место, а Новосибирск является третьим городом России по населению и при этом довольно сильно удален от Москвы и Санкт-Петербурга и других крупных центров России, что делает особо предпочтительным использовании авиатранспорта для пассажирских перевозок. При этом несколько неожиданным выглядит присутствие относительно небольшого (50-е место в РФ по населению) и небогатого города - Брянска на 8 месте. Данный результат выглядит особенно аномальным, принимая во внимание также близкое расположение Брянска к Москве (имеется 3 экспресса в течение суток Москва-Брянск с временем пути всего 4 часа 5 минут)."
   ]
  },
  {
   "cell_type": "markdown",
   "metadata": {},
   "source": [
    "Для наглядности и более детального анализа построим также две круговые диаграммы. Одну без учета пункта \"другие города\" и другую с учетом данного пункта."
   ]
  },
  {
   "cell_type": "code",
   "execution_count": 15,
   "metadata": {},
   "outputs": [
    {
     "data": {
      "image/png": "[encoded data removed]",
      "text/plain": [
       "<Figure size 432x288 with 1 Axes>"
      ]
     },
     "metadata": {},
     "output_type": "display_data"
    }
   ],
   "source": [
    "colors = ['#fff100', '#ff8c00', '#e81123', '#ec008c', '#68217a', '#00188f', '#00bcf2', '#00b294', '#009e49', '#bad80a', \n",
    "          '#F4D03F']\n",
    "top_10_cities[:10].plot(kind='pie', colors=colors, radius=2, autopct='%.1f', textprops={'fontsize': 12})\n",
    "plt.ylabel(\"\")\n",
    "plt.show()"
   ]
  },
  {
   "cell_type": "code",
   "execution_count": 16,
   "metadata": {},
   "outputs": [
    {
     "data": {
      "image/png": "[encoded data removed]",
      "text/plain": [
       "<Figure size 864x360 with 1 Axes>"
      ]
     },
     "metadata": {},
     "output_type": "display_data"
    }
   ],
   "source": [
    "top_10_cities.plot(kind='pie', figsize=(12,5), colors=colors, radius=1.8, autopct='%.1f', \n",
    "                   textprops={'fontsize': 12}, explode = (0, 0, 0, 0, 0, 0, 0, 0, 0, 0, 0.2))\n",
    "plt.ylabel(\"\")\n",
    "plt.show()"
   ]
  },
  {
   "cell_type": "markdown",
   "metadata": {},
   "source": [
    "Круговые диаграммы наглядно демонстрируют доли различных городов России в пассажирских авиаперевозках (за единицу принято количество рейсов). На долю Москвы приходится 23,4% рейсов, на долю Санкт-Петербурга - 5,6% и на долю Новосибирска - 3,1%. Обращает на себя внимание довольно существенная доля (54,8%) городов не попавших в топ-10. Однако следует учитывать, что для более маленьких городов, вероятнее всего, характерны рейсы с меньшим количеством пассажиров по сравнению с крупными городами."
   ]
  },
  {
   "cell_type": "markdown",
   "metadata": {},
   "source": [
    "### Выводы"
   ]
  },
  {
   "cell_type": "markdown",
   "metadata": {},
   "source": [
    "1. Топ 3 модели самолетов по количеству рейсов в России за сентябрь 2018 года: Cessina 208 Caravan, Bombardier CRJ-200 и Sukhoi SuperJet-100 (см. подраздел 2.1).\n",
    "2. В рейтинге моделей по количеству рейсов представлены как очень небольшие самолеты типа Cessina 208 Caravan (до 13 пассажиров), так и очень крупные как, например, Boeing 777-300 (до 425 пассажиров). Таким образом, сравнение выполнено для несопоставимых между собой по количеству пассажиров и дальности полета самолетов. Эти обстоятельства необходимо учитывать при оценки объемов пассажиротрафика и общей длины выполненных рейсов.\n",
    "3. Топ 3 города России по количеству прибывающих рейсов в России за сентябрь 2018 года: Москва, Санкт-Петербург и Новосибирск (см. подраздел 2.2). Данные результаты выглядят закономерными, учитывая население, размер экономики и географическое расположение указанных городов. При этом аномально высоким выглядит 8 место в рейтинге Брянска, принимая во внимание его относительно небольшое население (50 местов в РФ) и хорошую транспортную доступность до Москвы (три экспресса Москва-Брянск в сутки с временем пути всего 4 часа пять минут)."
   ]
  },
  {
   "cell_type": "markdown",
   "metadata": {},
   "source": [
    "## Чек-лист проверки"
   ]
  },
  {
   "cell_type": "markdown",
   "metadata": {},
   "source": [
    "- [x]  Jupyter Notebook открыт\n",
    "- [x]  Весь код выполняется без ошибок\n",
    "- [x]  Ячейки с кодом расположены в порядке исполнения\n",
    "- [x]  Файлы изучены\n",
    "- [x]  Типы данных проверены на корректность\n",
    "- [x]  Выбран топ-10 городов по количеству рейсов\n",
    "- [x]  Построен график «Модели самолётов и количество рейсов»\n",
    "- [x]  Построен график «Города и количество рейсов»\n",
    "- [x]  Построен график «Топ-10 городов и количество рейсов»\n",
    "- [x]  На каждом этапе написаны выводы\n",
    "- [x]  Написан общий вывод"
   ]
  },
  {
   "cell_type": "code",
   "execution_count": null,
   "metadata": {},
   "outputs": [],
   "source": []
  }
 ],
 "metadata": {
  "ExecuteTimeLog": [
   {
    "duration": 287,
    "start_time": "2021-09-27T12:19:32.345Z"
   },
   {
    "duration": 595,
    "start_time": "2021-09-27T12:19:44.473Z"
   },
   {
    "duration": 27,
    "start_time": "2021-09-27T12:19:51.960Z"
   },
   {
    "duration": 19,
    "start_time": "2021-09-27T12:29:22.205Z"
   },
   {
    "duration": 20,
    "start_time": "2021-09-27T12:29:28.343Z"
   },
   {
    "duration": 19,
    "start_time": "2021-09-27T12:29:33.635Z"
   },
   {
    "duration": 611,
    "start_time": "2021-09-27T12:30:52.406Z"
   },
   {
    "duration": 22,
    "start_time": "2021-09-27T12:30:54.040Z"
   },
   {
    "duration": 7,
    "start_time": "2021-09-27T12:32:17.679Z"
   },
   {
    "duration": 7,
    "start_time": "2021-09-27T12:32:34.864Z"
   },
   {
    "duration": 243,
    "start_time": "2021-09-27T12:32:45.986Z"
   },
   {
    "duration": 626,
    "start_time": "2021-09-27T12:33:16.986Z"
   },
   {
    "duration": 29,
    "start_time": "2021-09-27T12:33:17.616Z"
   },
   {
    "duration": 7,
    "start_time": "2021-09-27T12:33:17.647Z"
   },
   {
    "duration": 11,
    "start_time": "2021-09-27T12:33:17.655Z"
   },
   {
    "duration": 5,
    "start_time": "2021-09-27T12:33:17.668Z"
   },
   {
    "duration": 8,
    "start_time": "2021-09-27T12:33:17.674Z"
   },
   {
    "duration": 5,
    "start_time": "2021-09-27T12:35:11.080Z"
   },
   {
    "duration": 228,
    "start_time": "2021-09-27T12:37:49.446Z"
   },
   {
    "duration": 11,
    "start_time": "2021-09-27T12:38:02.928Z"
   },
   {
    "duration": 9,
    "start_time": "2021-09-27T12:38:36.832Z"
   },
   {
    "duration": 8,
    "start_time": "2021-09-27T12:38:58.297Z"
   },
   {
    "duration": 4,
    "start_time": "2021-09-27T13:19:17.610Z"
   },
   {
    "duration": 11,
    "start_time": "2021-09-27T13:19:22.934Z"
   },
   {
    "duration": 9,
    "start_time": "2021-09-27T13:21:54.157Z"
   },
   {
    "duration": 183,
    "start_time": "2021-09-27T13:22:09.149Z"
   },
   {
    "duration": 9,
    "start_time": "2021-09-27T13:22:20.526Z"
   },
   {
    "duration": 12,
    "start_time": "2021-09-27T13:23:03.468Z"
   },
   {
    "duration": 7,
    "start_time": "2021-09-27T13:23:30.909Z"
   },
   {
    "duration": 10,
    "start_time": "2021-09-27T13:24:03.901Z"
   },
   {
    "duration": 642,
    "start_time": "2021-09-27T13:33:44.795Z"
   },
   {
    "duration": 29,
    "start_time": "2021-09-27T13:33:45.439Z"
   },
   {
    "duration": 20,
    "start_time": "2021-09-27T13:33:45.470Z"
   },
   {
    "duration": 247,
    "start_time": "2021-09-27T13:33:45.492Z"
   },
   {
    "duration": 1029,
    "start_time": "2021-09-27T13:33:44.712Z"
   },
   {
    "duration": 1026,
    "start_time": "2021-09-27T13:33:44.716Z"
   },
   {
    "duration": 1025,
    "start_time": "2021-09-27T13:33:44.718Z"
   },
   {
    "duration": 1023,
    "start_time": "2021-09-27T13:33:44.720Z"
   },
   {
    "duration": 1023,
    "start_time": "2021-09-27T13:33:44.722Z"
   },
   {
    "duration": 10,
    "start_time": "2021-09-27T13:34:53.166Z"
   },
   {
    "duration": 7,
    "start_time": "2021-09-27T13:34:59.592Z"
   },
   {
    "duration": 6,
    "start_time": "2021-09-27T13:35:02.739Z"
   },
   {
    "duration": 8,
    "start_time": "2021-09-27T13:35:03.165Z"
   },
   {
    "duration": 5,
    "start_time": "2021-09-27T13:35:03.663Z"
   },
   {
    "duration": 11,
    "start_time": "2021-09-27T13:35:04.150Z"
   },
   {
    "duration": 8,
    "start_time": "2021-09-27T13:35:04.621Z"
   },
   {
    "duration": 10,
    "start_time": "2021-09-27T13:35:10.711Z"
   },
   {
    "duration": 183,
    "start_time": "2021-09-27T13:49:40.234Z"
   },
   {
    "duration": 10,
    "start_time": "2021-09-27T13:53:05.018Z"
   },
   {
    "duration": 194,
    "start_time": "2021-09-27T13:53:29.328Z"
   },
   {
    "duration": 220,
    "start_time": "2021-09-27T14:02:48.169Z"
   },
   {
    "duration": 242,
    "start_time": "2021-09-27T14:23:45.098Z"
   },
   {
    "duration": 210,
    "start_time": "2021-09-27T14:23:55.883Z"
   },
   {
    "duration": 201,
    "start_time": "2021-09-27T14:25:23.309Z"
   },
   {
    "duration": 197,
    "start_time": "2021-09-27T14:25:38.066Z"
   },
   {
    "duration": 200,
    "start_time": "2021-09-27T14:25:56.574Z"
   },
   {
    "duration": 235,
    "start_time": "2021-09-27T14:26:11.210Z"
   },
   {
    "duration": 192,
    "start_time": "2021-09-27T14:28:31.959Z"
   },
   {
    "duration": 222,
    "start_time": "2021-09-27T14:28:41.198Z"
   },
   {
    "duration": 205,
    "start_time": "2021-09-27T14:29:08.594Z"
   },
   {
    "duration": 216,
    "start_time": "2021-09-27T14:29:21.311Z"
   },
   {
    "duration": 387,
    "start_time": "2021-09-27T14:30:10.801Z"
   },
   {
    "duration": 263,
    "start_time": "2021-09-27T17:07:50.512Z"
   },
   {
    "duration": 199,
    "start_time": "2021-09-27T17:08:30.812Z"
   },
   {
    "duration": 262,
    "start_time": "2021-09-27T17:08:47.601Z"
   },
   {
    "duration": 234,
    "start_time": "2021-09-27T17:08:57.158Z"
   },
   {
    "duration": 5,
    "start_time": "2021-09-27T17:09:40.340Z"
   },
   {
    "duration": 10,
    "start_time": "2021-09-27T17:09:46.327Z"
   },
   {
    "duration": 10,
    "start_time": "2021-09-27T17:09:56.189Z"
   },
   {
    "duration": 234,
    "start_time": "2021-09-27T17:10:20.339Z"
   },
   {
    "duration": 1500,
    "start_time": "2021-09-27T17:10:43.395Z"
   },
   {
    "duration": 1534,
    "start_time": "2021-09-27T17:10:55.956Z"
   },
   {
    "duration": 1575,
    "start_time": "2021-09-27T17:11:06.436Z"
   },
   {
    "duration": 1567,
    "start_time": "2021-09-27T17:12:32.753Z"
   },
   {
    "duration": 238,
    "start_time": "2021-09-27T17:13:11.624Z"
   },
   {
    "duration": 6,
    "start_time": "2021-09-27T17:16:42.152Z"
   },
   {
    "duration": 5,
    "start_time": "2021-09-27T17:16:59.001Z"
   },
   {
    "duration": 243,
    "start_time": "2021-09-27T17:17:44.250Z"
   },
   {
    "duration": 7,
    "start_time": "2021-09-27T17:17:53.279Z"
   },
   {
    "duration": 7,
    "start_time": "2021-09-27T17:18:02.983Z"
   },
   {
    "duration": 7,
    "start_time": "2021-09-27T17:18:16.879Z"
   },
   {
    "duration": 5,
    "start_time": "2021-09-27T17:18:27.899Z"
   },
   {
    "duration": 176,
    "start_time": "2021-09-27T17:20:02.812Z"
   },
   {
    "duration": 194,
    "start_time": "2021-09-27T17:21:00.293Z"
   },
   {
    "duration": 3,
    "start_time": "2021-09-27T17:21:04.363Z"
   },
   {
    "duration": 4,
    "start_time": "2021-09-27T17:21:06.084Z"
   },
   {
    "duration": 4,
    "start_time": "2021-09-27T17:21:08.013Z"
   },
   {
    "duration": 4,
    "start_time": "2021-09-27T17:21:33.990Z"
   },
   {
    "duration": 6,
    "start_time": "2021-09-27T17:21:45.819Z"
   },
   {
    "duration": 6,
    "start_time": "2021-09-27T17:22:07.249Z"
   },
   {
    "duration": 186,
    "start_time": "2021-09-27T17:23:06.128Z"
   },
   {
    "duration": 4,
    "start_time": "2021-09-27T17:23:43.231Z"
   },
   {
    "duration": 9,
    "start_time": "2021-09-27T17:24:25.249Z"
   },
   {
    "duration": 4,
    "start_time": "2021-09-27T17:25:12.536Z"
   },
   {
    "duration": 8,
    "start_time": "2021-09-27T17:29:41.511Z"
   },
   {
    "duration": 1522,
    "start_time": "2021-09-27T17:29:59.240Z"
   },
   {
    "duration": 3,
    "start_time": "2021-09-27T17:30:35.465Z"
   },
   {
    "duration": 4,
    "start_time": "2021-09-27T17:30:42.106Z"
   },
   {
    "duration": 4,
    "start_time": "2021-09-27T17:30:49.917Z"
   },
   {
    "duration": 6,
    "start_time": "2021-09-27T17:38:04.187Z"
   },
   {
    "duration": 6,
    "start_time": "2021-09-27T17:39:26.693Z"
   },
   {
    "duration": 4,
    "start_time": "2021-09-27T17:39:29.389Z"
   },
   {
    "duration": 6,
    "start_time": "2021-09-27T17:39:37.127Z"
   },
   {
    "duration": 255,
    "start_time": "2021-09-27T17:39:55.057Z"
   },
   {
    "duration": 333,
    "start_time": "2021-09-27T17:41:31.175Z"
   },
   {
    "duration": 122,
    "start_time": "2021-09-27T17:41:44.642Z"
   },
   {
    "duration": 119,
    "start_time": "2021-09-27T17:43:20.207Z"
   },
   {
    "duration": 115,
    "start_time": "2021-09-27T17:43:30.956Z"
   },
   {
    "duration": 98,
    "start_time": "2021-09-27T18:15:10.788Z"
   },
   {
    "duration": 94,
    "start_time": "2021-09-27T18:17:25.976Z"
   },
   {
    "duration": 93,
    "start_time": "2021-09-27T18:17:47.108Z"
   },
   {
    "duration": 94,
    "start_time": "2021-09-27T18:17:58.190Z"
   },
   {
    "duration": 92,
    "start_time": "2021-09-27T18:19:51.291Z"
   },
   {
    "duration": 92,
    "start_time": "2021-09-27T18:19:58.242Z"
   },
   {
    "duration": 91,
    "start_time": "2021-09-27T18:21:47.296Z"
   },
   {
    "duration": 455,
    "start_time": "2021-09-27T18:24:13.681Z"
   },
   {
    "duration": 402,
    "start_time": "2021-09-27T18:25:01.131Z"
   },
   {
    "duration": 114,
    "start_time": "2021-09-27T18:25:19.615Z"
   },
   {
    "duration": 115,
    "start_time": "2021-09-27T18:26:32.368Z"
   },
   {
    "duration": 119,
    "start_time": "2021-09-27T18:28:37.127Z"
   },
   {
    "duration": 123,
    "start_time": "2021-09-27T18:28:51.550Z"
   },
   {
    "duration": 115,
    "start_time": "2021-09-27T18:29:31.330Z"
   },
   {
    "duration": 118,
    "start_time": "2021-09-27T18:30:05.310Z"
   },
   {
    "duration": 121,
    "start_time": "2021-09-27T18:30:12.471Z"
   },
   {
    "duration": 126,
    "start_time": "2021-09-27T18:30:18.439Z"
   },
   {
    "duration": 108,
    "start_time": "2021-09-27T18:30:23.273Z"
   },
   {
    "duration": 166,
    "start_time": "2021-09-27T18:30:48.741Z"
   },
   {
    "duration": 131,
    "start_time": "2021-09-27T18:34:52.376Z"
   },
   {
    "duration": 133,
    "start_time": "2021-09-27T18:35:56.057Z"
   },
   {
    "duration": 171,
    "start_time": "2021-09-27T18:36:16.201Z"
   },
   {
    "duration": 154,
    "start_time": "2021-09-27T18:37:18.757Z"
   },
   {
    "duration": 149,
    "start_time": "2021-09-27T18:37:38.436Z"
   },
   {
    "duration": 235,
    "start_time": "2021-09-27T19:05:03.139Z"
   },
   {
    "duration": 214,
    "start_time": "2021-09-27T19:08:18.040Z"
   },
   {
    "duration": 238,
    "start_time": "2021-09-27T19:14:39.758Z"
   },
   {
    "duration": 241,
    "start_time": "2021-09-27T19:14:58.603Z"
   },
   {
    "duration": 1556,
    "start_time": "2021-09-27T19:15:07.062Z"
   },
   {
    "duration": 1725,
    "start_time": "2021-09-27T19:15:16.202Z"
   },
   {
    "duration": 1640,
    "start_time": "2021-09-27T19:15:27.632Z"
   },
   {
    "duration": 1582,
    "start_time": "2021-09-27T19:15:41.769Z"
   },
   {
    "duration": 1607,
    "start_time": "2021-09-27T19:16:56.105Z"
   },
   {
    "duration": 1509,
    "start_time": "2021-09-27T19:17:09.913Z"
   },
   {
    "duration": 244,
    "start_time": "2021-09-27T19:17:46.648Z"
   },
   {
    "duration": 234,
    "start_time": "2021-09-27T20:31:13.111Z"
   },
   {
    "duration": 1510,
    "start_time": "2021-09-27T20:31:50.998Z"
   },
   {
    "duration": 324,
    "start_time": "2021-09-27T20:32:45.295Z"
   },
   {
    "duration": 250,
    "start_time": "2021-09-27T20:33:55.273Z"
   },
   {
    "duration": 7,
    "start_time": "2021-09-27T20:35:23.138Z"
   },
   {
    "duration": 600,
    "start_time": "2021-09-27T20:38:35.129Z"
   },
   {
    "duration": 29,
    "start_time": "2021-09-27T20:38:35.731Z"
   },
   {
    "duration": 7,
    "start_time": "2021-09-27T20:38:35.762Z"
   },
   {
    "duration": 13,
    "start_time": "2021-09-27T20:38:35.771Z"
   },
   {
    "duration": 5,
    "start_time": "2021-09-27T20:38:35.786Z"
   },
   {
    "duration": 8,
    "start_time": "2021-09-27T20:38:35.793Z"
   },
   {
    "duration": 7,
    "start_time": "2021-09-27T20:38:35.803Z"
   },
   {
    "duration": 17,
    "start_time": "2021-09-27T20:38:35.812Z"
   },
   {
    "duration": 260,
    "start_time": "2021-09-27T20:38:35.844Z"
   },
   {
    "duration": 1562,
    "start_time": "2021-09-27T20:38:36.107Z"
   },
   {
    "duration": 6,
    "start_time": "2021-09-27T20:38:37.672Z"
   },
   {
    "duration": 20,
    "start_time": "2021-09-27T20:38:37.680Z"
   },
   {
    "duration": 25,
    "start_time": "2021-09-27T20:38:37.702Z"
   },
   {
    "duration": 299,
    "start_time": "2021-09-27T20:38:37.729Z"
   },
   {
    "duration": 149,
    "start_time": "2021-09-27T20:38:38.031Z"
   },
   {
    "duration": 164,
    "start_time": "2021-09-27T20:38:38.182Z"
   },
   {
    "duration": 7,
    "start_time": "2021-09-27T20:41:55.277Z"
   },
   {
    "duration": 238,
    "start_time": "2021-09-27T23:02:01.935Z"
   },
   {
    "duration": 125,
    "start_time": "2021-09-27T23:02:39.540Z"
   },
   {
    "duration": 659,
    "start_time": "2021-09-27T23:26:00.081Z"
   },
   {
    "duration": 30,
    "start_time": "2021-09-27T23:26:00.742Z"
   },
   {
    "duration": 17,
    "start_time": "2021-09-27T23:26:00.774Z"
   },
   {
    "duration": 15,
    "start_time": "2021-09-27T23:26:00.793Z"
   },
   {
    "duration": 12,
    "start_time": "2021-09-27T23:26:00.810Z"
   },
   {
    "duration": 15,
    "start_time": "2021-09-27T23:26:00.824Z"
   },
   {
    "duration": 13,
    "start_time": "2021-09-27T23:26:00.841Z"
   },
   {
    "duration": 19,
    "start_time": "2021-09-27T23:26:00.856Z"
   },
   {
    "duration": 275,
    "start_time": "2021-09-27T23:26:00.877Z"
   },
   {
    "duration": 138,
    "start_time": "2021-09-27T23:26:01.155Z"
   },
   {
    "duration": 1646,
    "start_time": "2021-09-27T23:26:01.295Z"
   },
   {
    "duration": 5,
    "start_time": "2021-09-27T23:26:02.943Z"
   },
   {
    "duration": 11,
    "start_time": "2021-09-27T23:26:02.950Z"
   },
   {
    "duration": 268,
    "start_time": "2021-09-27T23:26:02.962Z"
   },
   {
    "duration": 168,
    "start_time": "2021-09-27T23:26:03.231Z"
   },
   {
    "duration": 169,
    "start_time": "2021-09-27T23:26:03.402Z"
   },
   {
    "duration": 1554,
    "start_time": "2021-09-27T23:34:01.468Z"
   },
   {
    "duration": 161,
    "start_time": "2021-09-27T23:39:25.611Z"
   },
   {
    "duration": 245,
    "start_time": "2021-09-27T23:44:11.458Z"
   },
   {
    "duration": 161,
    "start_time": "2021-09-27T23:45:01.672Z"
   },
   {
    "duration": 579,
    "start_time": "2021-09-27T23:50:21.746Z"
   },
   {
    "duration": 29,
    "start_time": "2021-09-27T23:50:22.327Z"
   },
   {
    "duration": 8,
    "start_time": "2021-09-27T23:50:22.358Z"
   },
   {
    "duration": 10,
    "start_time": "2021-09-27T23:50:22.368Z"
   },
   {
    "duration": 9,
    "start_time": "2021-09-27T23:50:22.380Z"
   },
   {
    "duration": 12,
    "start_time": "2021-09-27T23:50:22.391Z"
   },
   {
    "duration": 6,
    "start_time": "2021-09-27T23:50:22.405Z"
   },
   {
    "duration": 12,
    "start_time": "2021-09-27T23:50:22.413Z"
   },
   {
    "duration": 276,
    "start_time": "2021-09-27T23:50:22.427Z"
   },
   {
    "duration": 140,
    "start_time": "2021-09-27T23:50:22.705Z"
   },
   {
    "duration": 1671,
    "start_time": "2021-09-27T23:50:22.847Z"
   },
   {
    "duration": 6,
    "start_time": "2021-09-27T23:50:24.520Z"
   },
   {
    "duration": 9,
    "start_time": "2021-09-27T23:50:24.527Z"
   },
   {
    "duration": 269,
    "start_time": "2021-09-27T23:50:24.538Z"
   },
   {
    "duration": 139,
    "start_time": "2021-09-27T23:50:24.809Z"
   },
   {
    "duration": 166,
    "start_time": "2021-09-27T23:50:24.949Z"
   },
   {
    "duration": 844,
    "start_time": "2021-09-28T06:20:02.965Z"
   },
   {
    "duration": 29,
    "start_time": "2021-09-28T06:20:03.811Z"
   },
   {
    "duration": 8,
    "start_time": "2021-09-28T06:20:03.843Z"
   },
   {
    "duration": 11,
    "start_time": "2021-09-28T06:20:03.854Z"
   },
   {
    "duration": 6,
    "start_time": "2021-09-28T06:20:03.888Z"
   },
   {
    "duration": 7,
    "start_time": "2021-09-28T06:20:04.080Z"
   },
   {
    "duration": 5,
    "start_time": "2021-09-28T06:20:04.549Z"
   },
   {
    "duration": 12,
    "start_time": "2021-09-28T06:20:05.040Z"
   },
   {
    "duration": 239,
    "start_time": "2021-09-28T06:20:06.242Z"
   },
   {
    "duration": 124,
    "start_time": "2021-09-28T06:20:06.768Z"
   },
   {
    "duration": 1509,
    "start_time": "2021-09-28T06:20:07.468Z"
   },
   {
    "duration": 5,
    "start_time": "2021-09-28T06:20:08.979Z"
   },
   {
    "duration": 8,
    "start_time": "2021-09-28T06:20:08.986Z"
   },
   {
    "duration": 280,
    "start_time": "2021-09-28T06:20:08.996Z"
   },
   {
    "duration": 135,
    "start_time": "2021-09-28T06:20:09.278Z"
   },
   {
    "duration": 168,
    "start_time": "2021-09-28T06:20:09.415Z"
   }
  ],
  "kernelspec": {
   "display_name": "Python 3",
   "language": "python",
   "name": "python3"
  },
  "language_info": {
   "codemirror_mode": {
    "name": "ipython",
    "version": 3
   },
   "file_extension": ".py",
   "mimetype": "text/x-python",
   "name": "python",
   "nbconvert_exporter": "python",
   "pygments_lexer": "ipython3",
   "version": "3.7.8"
  },
  "toc": {
   "base_numbering": 1,
   "nav_menu": {},
   "number_sections": true,
   "sideBar": true,
   "skip_h1_title": true,
   "title_cell": "Содержание",
   "title_sidebar": "Содержание",
   "toc_cell": true,
   "toc_position": {
    "height": "calc(100% - 180px)",
    "left": "10px",
    "top": "150px",
    "width": "320px"
   },
   "toc_section_display": true,
   "toc_window_display": true
  }
 },
 "nbformat": 4,
 "nbformat_minor": 2
}
