{
 "cells": [
  {
   "cell_type": "markdown",
   "metadata": {
    "toc": true
   },
   "source": [
    "<h1>Содержание<span class=\"tocSkip\"></span></h1>\n",
    "<div class=\"toc\"><ul class=\"toc-item\"><li><span><a href=\"#Шаг-1.-Откройте-файл-с-данными-и-изучите-общую-информацию\" data-toc-modified-id=\"Шаг-1.-Откройте-файл-с-данными-и-изучите-общую-информацию-1\"><span class=\"toc-item-num\">1&nbsp;&nbsp;</span>Шаг 1. Откройте файл с данными и изучите общую информацию</a></span></li><li><span><a href=\"#Шаг-2.-Предобработка-данных\" data-toc-modified-id=\"Шаг-2.-Предобработка-данных-2\"><span class=\"toc-item-num\">2&nbsp;&nbsp;</span>Шаг 2. Предобработка данных</a></span><ul class=\"toc-item\"><li><span><a href=\"#Обработка-пропусков\" data-toc-modified-id=\"Обработка-пропусков-2.1\"><span class=\"toc-item-num\">2.1&nbsp;&nbsp;</span>Обработка пропусков</a></span></li><li><span><a href=\"#Замена-типа-данных\" data-toc-modified-id=\"Замена-типа-данных-2.2\"><span class=\"toc-item-num\">2.2&nbsp;&nbsp;</span>Замена типа данных</a></span></li><li><span><a href=\"#Обработка-дубликатов\" data-toc-modified-id=\"Обработка-дубликатов-2.3\"><span class=\"toc-item-num\">2.3&nbsp;&nbsp;</span>Обработка дубликатов</a></span></li><li><span><a href=\"#Лемматизация\" data-toc-modified-id=\"Лемматизация-2.4\"><span class=\"toc-item-num\">2.4&nbsp;&nbsp;</span>Лемматизация</a></span></li><li><span><a href=\"#Категоризация-данных\" data-toc-modified-id=\"Категоризация-данных-2.5\"><span class=\"toc-item-num\">2.5&nbsp;&nbsp;</span>Категоризация данных</a></span></li></ul></li><li><span><a href=\"#Шаг-3.-Ответьте-на-вопросы\" data-toc-modified-id=\"Шаг-3.-Ответьте-на-вопросы-3\"><span class=\"toc-item-num\">3&nbsp;&nbsp;</span>Шаг 3. Ответьте на вопросы</a></span></li><li><span><a href=\"#Шаг-4.-Общий-вывод\" data-toc-modified-id=\"Шаг-4.-Общий-вывод-4\"><span class=\"toc-item-num\">4&nbsp;&nbsp;</span>Шаг 4. Общий вывод</a></span></li><li><span><a href=\"#Чек-лист-готовности-проекта\" data-toc-modified-id=\"Чек-лист-готовности-проекта-5\"><span class=\"toc-item-num\">5&nbsp;&nbsp;</span>Чек-лист готовности проекта</a></span></li></ul></div>"
   ]
  },
  {
   "cell_type": "markdown",
   "metadata": {},
   "source": [
    "# Исследование надёжности заёмщиков\n",
    "\n",
    "**Цель проекта:** необходимо проанализировать влияние семейного положения и количества детей клиента на факт погашения кредита в срок. Результаты исследования будут учтены при построении модели **кредитного скоринга**.\n",
    "\n",
    "**Исходные данные:** статистика о платежноспособности клиентов.\n",
    "\n",
    "**Описание данных:**\n",
    "\n",
    "* children — количество детей в семье\n",
    "* days_employed — общий трудовой стаж в днях\n",
    "* dob_years — возраст клиента в годах\n",
    "* education — уровень образования клиента\n",
    "* education_id — идентификатор уровня образования\n",
    "* family_status — семейное положение\n",
    "* family_status_id — идентификатор семейного положения\n",
    "* gender — пол клиента\n",
    "* income_type — тип занятости\n",
    "* debt — имел ли задолженность по возврату кредитов\n",
    "* total_income — ежемесячный доход\n",
    "* purpose — цель получения кредита"
   ]
  },
  {
   "cell_type": "markdown",
   "metadata": {},
   "source": [
    "## Шаг 1. Откройте файл с данными и изучите общую информацию"
   ]
  },
  {
   "cell_type": "code",
   "execution_count": 1,
   "metadata": {
    "scrolled": true
   },
   "outputs": [
    {
     "name": "stdout",
     "output_type": "stream",
     "text": [
      "<class 'pandas.core.frame.DataFrame'>\n",
      "RangeIndex: 21525 entries, 0 to 21524\n",
      "Data columns (total 12 columns):\n",
      "children            21525 non-null int64\n",
      "days_employed       19351 non-null float64\n",
      "dob_years           21525 non-null int64\n",
      "education           21525 non-null object\n",
      "education_id        21525 non-null int64\n",
      "family_status       21525 non-null object\n",
      "family_status_id    21525 non-null int64\n",
      "gender              21525 non-null object\n",
      "income_type         21525 non-null object\n",
      "debt                21525 non-null int64\n",
      "total_income        19351 non-null float64\n",
      "purpose             21525 non-null object\n",
      "dtypes: float64(2), int64(5), object(5)\n",
      "memory usage: 2.0+ MB\n"
     ]
    },
    {
     "data": {
      "text/html": [
       "<div>\n",
       "<style scoped>\n",
       "    .dataframe tbody tr th:only-of-type {\n",
       "        vertical-align: middle;\n",
       "    }\n",
       "\n",
       "    .dataframe tbody tr th {\n",
       "        vertical-align: top;\n",
       "    }\n",
       "\n",
       "    .dataframe thead th {\n",
       "        text-align: right;\n",
       "    }\n",
       "</style>\n",
       "<table border=\"1\" class=\"dataframe\">\n",
       "  <thead>\n",
       "    <tr style=\"text-align: right;\">\n",
       "      <th></th>\n",
       "      <th>children</th>\n",
       "      <th>days_employed</th>\n",
       "      <th>dob_years</th>\n",
       "      <th>education</th>\n",
       "      <th>education_id</th>\n",
       "      <th>family_status</th>\n",
       "      <th>family_status_id</th>\n",
       "      <th>gender</th>\n",
       "      <th>income_type</th>\n",
       "      <th>debt</th>\n",
       "      <th>total_income</th>\n",
       "      <th>purpose</th>\n",
       "    </tr>\n",
       "  </thead>\n",
       "  <tbody>\n",
       "    <tr>\n",
       "      <td>0</td>\n",
       "      <td>1</td>\n",
       "      <td>-8437.673028</td>\n",
       "      <td>42</td>\n",
       "      <td>высшее</td>\n",
       "      <td>0</td>\n",
       "      <td>женат / замужем</td>\n",
       "      <td>0</td>\n",
       "      <td>F</td>\n",
       "      <td>сотрудник</td>\n",
       "      <td>0</td>\n",
       "      <td>253875.639453</td>\n",
       "      <td>покупка жилья</td>\n",
       "    </tr>\n",
       "    <tr>\n",
       "      <td>1</td>\n",
       "      <td>1</td>\n",
       "      <td>-4024.803754</td>\n",
       "      <td>36</td>\n",
       "      <td>среднее</td>\n",
       "      <td>1</td>\n",
       "      <td>женат / замужем</td>\n",
       "      <td>0</td>\n",
       "      <td>F</td>\n",
       "      <td>сотрудник</td>\n",
       "      <td>0</td>\n",
       "      <td>112080.014102</td>\n",
       "      <td>приобретение автомобиля</td>\n",
       "    </tr>\n",
       "    <tr>\n",
       "      <td>2</td>\n",
       "      <td>0</td>\n",
       "      <td>-5623.422610</td>\n",
       "      <td>33</td>\n",
       "      <td>Среднее</td>\n",
       "      <td>1</td>\n",
       "      <td>женат / замужем</td>\n",
       "      <td>0</td>\n",
       "      <td>M</td>\n",
       "      <td>сотрудник</td>\n",
       "      <td>0</td>\n",
       "      <td>145885.952297</td>\n",
       "      <td>покупка жилья</td>\n",
       "    </tr>\n",
       "    <tr>\n",
       "      <td>3</td>\n",
       "      <td>3</td>\n",
       "      <td>-4124.747207</td>\n",
       "      <td>32</td>\n",
       "      <td>среднее</td>\n",
       "      <td>1</td>\n",
       "      <td>женат / замужем</td>\n",
       "      <td>0</td>\n",
       "      <td>M</td>\n",
       "      <td>сотрудник</td>\n",
       "      <td>0</td>\n",
       "      <td>267628.550329</td>\n",
       "      <td>дополнительное образование</td>\n",
       "    </tr>\n",
       "    <tr>\n",
       "      <td>4</td>\n",
       "      <td>0</td>\n",
       "      <td>340266.072047</td>\n",
       "      <td>53</td>\n",
       "      <td>среднее</td>\n",
       "      <td>1</td>\n",
       "      <td>гражданский брак</td>\n",
       "      <td>1</td>\n",
       "      <td>F</td>\n",
       "      <td>пенсионер</td>\n",
       "      <td>0</td>\n",
       "      <td>158616.077870</td>\n",
       "      <td>сыграть свадьбу</td>\n",
       "    </tr>\n",
       "  </tbody>\n",
       "</table>\n",
       "</div>"
      ],
      "text/plain": [
       "   children  days_employed  dob_years education  education_id  \\\n",
       "0         1   -8437.673028         42    высшее             0   \n",
       "1         1   -4024.803754         36   среднее             1   \n",
       "2         0   -5623.422610         33   Среднее             1   \n",
       "3         3   -4124.747207         32   среднее             1   \n",
       "4         0  340266.072047         53   среднее             1   \n",
       "\n",
       "      family_status  family_status_id gender income_type  debt   total_income  \\\n",
       "0   женат / замужем                 0      F   сотрудник     0  253875.639453   \n",
       "1   женат / замужем                 0      F   сотрудник     0  112080.014102   \n",
       "2   женат / замужем                 0      M   сотрудник     0  145885.952297   \n",
       "3   женат / замужем                 0      M   сотрудник     0  267628.550329   \n",
       "4  гражданский брак                 1      F   пенсионер     0  158616.077870   \n",
       "\n",
       "                      purpose  \n",
       "0               покупка жилья  \n",
       "1     приобретение автомобиля  \n",
       "2               покупка жилья  \n",
       "3  дополнительное образование  \n",
       "4             сыграть свадьбу  "
      ]
     },
     "execution_count": 1,
     "metadata": {},
     "output_type": "execute_result"
    }
   ],
   "source": [
    "import pandas as pd\n",
    "df = pd.read_csv(\"/datasets/data.csv\")\n",
    "df.info()\n",
    "df.head()"
   ]
  },
  {
   "cell_type": "markdown",
   "metadata": {},
   "source": [
    "Получим дополнительную информацию о данных с использованием метода describe(). Данный метод позволяет оценить характерные значения и разброс для столбцов, содержащих числовые данные."
   ]
  },
  {
   "cell_type": "code",
   "execution_count": 2,
   "metadata": {
    "scrolled": true
   },
   "outputs": [
    {
     "data": {
      "text/html": [
       "<div>\n",
       "<style scoped>\n",
       "    .dataframe tbody tr th:only-of-type {\n",
       "        vertical-align: middle;\n",
       "    }\n",
       "\n",
       "    .dataframe tbody tr th {\n",
       "        vertical-align: top;\n",
       "    }\n",
       "\n",
       "    .dataframe thead th {\n",
       "        text-align: right;\n",
       "    }\n",
       "</style>\n",
       "<table border=\"1\" class=\"dataframe\">\n",
       "  <thead>\n",
       "    <tr style=\"text-align: right;\">\n",
       "      <th></th>\n",
       "      <th>children</th>\n",
       "      <th>days_employed</th>\n",
       "      <th>dob_years</th>\n",
       "      <th>education_id</th>\n",
       "      <th>family_status_id</th>\n",
       "      <th>debt</th>\n",
       "      <th>total_income</th>\n",
       "    </tr>\n",
       "  </thead>\n",
       "  <tbody>\n",
       "    <tr>\n",
       "      <td>count</td>\n",
       "      <td>21525.000000</td>\n",
       "      <td>19351.000000</td>\n",
       "      <td>21525.000000</td>\n",
       "      <td>21525.000000</td>\n",
       "      <td>21525.000000</td>\n",
       "      <td>21525.000000</td>\n",
       "      <td>1.935100e+04</td>\n",
       "    </tr>\n",
       "    <tr>\n",
       "      <td>mean</td>\n",
       "      <td>0.538908</td>\n",
       "      <td>63046.497661</td>\n",
       "      <td>43.293380</td>\n",
       "      <td>0.817236</td>\n",
       "      <td>0.972544</td>\n",
       "      <td>0.080883</td>\n",
       "      <td>1.674223e+05</td>\n",
       "    </tr>\n",
       "    <tr>\n",
       "      <td>std</td>\n",
       "      <td>1.381587</td>\n",
       "      <td>140827.311974</td>\n",
       "      <td>12.574584</td>\n",
       "      <td>0.548138</td>\n",
       "      <td>1.420324</td>\n",
       "      <td>0.272661</td>\n",
       "      <td>1.029716e+05</td>\n",
       "    </tr>\n",
       "    <tr>\n",
       "      <td>min</td>\n",
       "      <td>-1.000000</td>\n",
       "      <td>-18388.949901</td>\n",
       "      <td>0.000000</td>\n",
       "      <td>0.000000</td>\n",
       "      <td>0.000000</td>\n",
       "      <td>0.000000</td>\n",
       "      <td>2.066726e+04</td>\n",
       "    </tr>\n",
       "    <tr>\n",
       "      <td>25%</td>\n",
       "      <td>0.000000</td>\n",
       "      <td>-2747.423625</td>\n",
       "      <td>33.000000</td>\n",
       "      <td>1.000000</td>\n",
       "      <td>0.000000</td>\n",
       "      <td>0.000000</td>\n",
       "      <td>1.030532e+05</td>\n",
       "    </tr>\n",
       "    <tr>\n",
       "      <td>50%</td>\n",
       "      <td>0.000000</td>\n",
       "      <td>-1203.369529</td>\n",
       "      <td>42.000000</td>\n",
       "      <td>1.000000</td>\n",
       "      <td>0.000000</td>\n",
       "      <td>0.000000</td>\n",
       "      <td>1.450179e+05</td>\n",
       "    </tr>\n",
       "    <tr>\n",
       "      <td>75%</td>\n",
       "      <td>1.000000</td>\n",
       "      <td>-291.095954</td>\n",
       "      <td>53.000000</td>\n",
       "      <td>1.000000</td>\n",
       "      <td>1.000000</td>\n",
       "      <td>0.000000</td>\n",
       "      <td>2.034351e+05</td>\n",
       "    </tr>\n",
       "    <tr>\n",
       "      <td>max</td>\n",
       "      <td>20.000000</td>\n",
       "      <td>401755.400475</td>\n",
       "      <td>75.000000</td>\n",
       "      <td>4.000000</td>\n",
       "      <td>4.000000</td>\n",
       "      <td>1.000000</td>\n",
       "      <td>2.265604e+06</td>\n",
       "    </tr>\n",
       "  </tbody>\n",
       "</table>\n",
       "</div>"
      ],
      "text/plain": [
       "           children  days_employed     dob_years  education_id  \\\n",
       "count  21525.000000   19351.000000  21525.000000  21525.000000   \n",
       "mean       0.538908   63046.497661     43.293380      0.817236   \n",
       "std        1.381587  140827.311974     12.574584      0.548138   \n",
       "min       -1.000000  -18388.949901      0.000000      0.000000   \n",
       "25%        0.000000   -2747.423625     33.000000      1.000000   \n",
       "50%        0.000000   -1203.369529     42.000000      1.000000   \n",
       "75%        1.000000    -291.095954     53.000000      1.000000   \n",
       "max       20.000000  401755.400475     75.000000      4.000000   \n",
       "\n",
       "       family_status_id          debt  total_income  \n",
       "count      21525.000000  21525.000000  1.935100e+04  \n",
       "mean           0.972544      0.080883  1.674223e+05  \n",
       "std            1.420324      0.272661  1.029716e+05  \n",
       "min            0.000000      0.000000  2.066726e+04  \n",
       "25%            0.000000      0.000000  1.030532e+05  \n",
       "50%            0.000000      0.000000  1.450179e+05  \n",
       "75%            1.000000      0.000000  2.034351e+05  \n",
       "max            4.000000      1.000000  2.265604e+06  "
      ]
     },
     "execution_count": 2,
     "metadata": {},
     "output_type": "execute_result"
    }
   ],
   "source": [
    "df.describe()"
   ]
  },
  {
   "cell_type": "markdown",
   "metadata": {},
   "source": [
    "**Выводы:**"
   ]
  },
  {
   "cell_type": "markdown",
   "metadata": {},
   "source": [
    "1. В файле содержится таблица с размерами 21525х12.\n",
    "2. Названия столбцов желательно откорректировать, сделав их более информативными.\n",
    "3. Пропущенные значения типа Nan содержатся в столбцах \"days_employed\" и \"total_income\".\n",
    "4. В столбце \"days_employed\" выявлены явные аномалии: содержатся отрицательные значения, среднее арифметическое даже с учетом наличия отрицательных значений составляет 63046 дней, что существенно превышает возможный срок жизни человека (при 100 годах жизни, срок жизни в днях составляет, без учета високосных лет, 365х100 = 36500 дней).\n",
    "5. В столбце \"education\" используется одновременно и верхний и нижний регистр.\n",
    "6. В столбце \"purpose\" одни и те же цели описаны по разному (\"операции с жильем\", \"покупка жилья\" и др.).\n",
    "7. В столбце \"сhildren\" имеется как минимум одно отрицательное значение. Кроме того обращает на себя внимание очень большое максимальное значение детей - 20.\n",
    "8. В столбце \"dob_years\" имеется как минимум одно нулевое значение - очевидно, что возраст заемщика не может быть равным нулю. "
   ]
  },
  {
   "cell_type": "markdown",
   "metadata": {},
   "source": [
    "## Шаг 2. Предобработка данных"
   ]
  },
  {
   "cell_type": "markdown",
   "metadata": {},
   "source": [
    "### Обработка пропусков"
   ]
  },
  {
   "cell_type": "markdown",
   "metadata": {},
   "source": [
    "Переименуем названия отдельных столбцов исходной таблицы:"
   ]
  },
  {
   "cell_type": "code",
   "execution_count": 3,
   "metadata": {},
   "outputs": [],
   "source": [
    "df.rename(columns={\"children\": \"children_number\", \"dob_years\": \"age_years\", \"education\": \"education_level\",\n",
    "    \"education_id\": \"education_level_id\", \"purpose\": \"loan_purpose\"}, inplace=True)"
   ]
  },
  {
   "cell_type": "markdown",
   "metadata": {},
   "source": [
    "Выведем новые названия столбцов таблицы:"
   ]
  },
  {
   "cell_type": "code",
   "execution_count": 4,
   "metadata": {
    "scrolled": false
   },
   "outputs": [
    {
     "name": "stdout",
     "output_type": "stream",
     "text": [
      "Новые названия столбцов:\n",
      "children_number\n",
      "days_employed\n",
      "age_years\n",
      "education_level\n",
      "education_level_id\n",
      "family_status\n",
      "family_status_id\n",
      "gender\n",
      "income_type\n",
      "debt\n",
      "total_income\n",
      "loan_purpose\n"
     ]
    }
   ],
   "source": [
    "print(\"Новые названия столбцов:\")\n",
    "print(*df.columns, sep=\"\\n\")"
   ]
  },
  {
   "cell_type": "markdown",
   "metadata": {},
   "source": [
    "С учетом выявленных аномалий в столбце \"children_number\" рассмотрим его подробнее:"
   ]
  },
  {
   "cell_type": "code",
   "execution_count": 5,
   "metadata": {
    "scrolled": false
   },
   "outputs": [
    {
     "data": {
      "text/plain": [
       " 0     14149\n",
       " 1      4818\n",
       " 2      2055\n",
       " 3       330\n",
       " 20       76\n",
       "-1        47\n",
       " 4        41\n",
       " 5         9\n",
       "Name: children_number, dtype: int64"
      ]
     },
     "execution_count": 5,
     "metadata": {},
     "output_type": "execute_result"
    }
   ],
   "source": [
    "df[\"children_number\"].value_counts()"
   ]
  },
  {
   "cell_type": "markdown",
   "metadata": {},
   "source": [
    "Как видно из полученных результатов, в исходной базе данных имеется 47 клиентов с \"-1\" ребенком. Вероятно, фактическое значение количества детей здесь равняется 1. Выполним соответствующую замену:"
   ]
  },
  {
   "cell_type": "code",
   "execution_count": 6,
   "metadata": {},
   "outputs": [],
   "source": [
    "df[\"children_number\"] = df[\"children_number\"].replace(-1, 1)"
   ]
  },
  {
   "cell_type": "markdown",
   "metadata": {},
   "source": [
    "Кроме того в исходной базе данных имеется 76 клиентов с 20 детьми. Указанные значения выглядят недостоверными как в силу большой величины, так и в силу аномального распределения: между 5 и 20 - все значения пропущены. Вероятно, здесь имеется ошибка. В пользу этого говорит также то, что среди 76 родителей с 20 детьми 22 человека моложе 35 лет:"
   ]
  },
  {
   "cell_type": "code",
   "execution_count": 7,
   "metadata": {
    "scrolled": true
   },
   "outputs": [
    {
     "name": "stdout",
     "output_type": "stream",
     "text": [
      "Количество людей с 20 детьми моложе 35 лет: 22\n"
     ]
    }
   ],
   "source": [
    "print(\"Количество людей с 20 детьми моложе 35 лет: {}\".format(\n",
    "    df[(df[\"children_number\"] == 20) & (df[\"age_years\"] < 35)][\"age_years\"].count()))"
   ]
  },
  {
   "cell_type": "markdown",
   "metadata": {},
   "source": [
    "Достоверно установить фактическое количество детей для рассматриваемой группы клиентов с 20 детьми не представляется возможным. Условно выполним замену 20 на 2, так как возможно ошибка состоит в лишнем нуле. Данный подход здесь допустим, так как 2 не сильно отклоняется от характерного значения (среднее арифметическое равно 0,54), а также вследствие того, что рассматриваемая выборка из 76 клиентов относительно мала по отношению ко всей выборки из 21525 клиентов."
   ]
  },
  {
   "cell_type": "code",
   "execution_count": 8,
   "metadata": {},
   "outputs": [],
   "source": [
    "df[\"children_number\"] = df[\"children_number\"].replace(20, 2)"
   ]
  },
  {
   "cell_type": "markdown",
   "metadata": {},
   "source": [
    "Подсчитаем количество значений типа Nan в столбце \"days_employed\":"
   ]
  },
  {
   "cell_type": "code",
   "execution_count": 9,
   "metadata": {},
   "outputs": [
    {
     "name": "stdout",
     "output_type": "stream",
     "text": [
      "Количество значений типа Nan в столбце 'days_employed': 2174\n"
     ]
    }
   ],
   "source": [
    "print(\"Количество значений типа Nan в столбце 'days_employed': {}\".format(df[\"days_employed\"].isnull().sum()))"
   ]
  },
  {
   "cell_type": "markdown",
   "metadata": {},
   "source": [
    "Для того чтобы понять, каким образом оптимально заполнить пропуски в столбце \"days_employed\", рассмотрим его подробнее. При этом для анализа воспользуемся мерами центральной тенденции, а именно медианной с учетом ее большей устойчивости к выбросам. С учетом наличия отрицательных значений отдельно выполним расчет для положительных и отрицательных значений рассматриваемого столбца. Дополнительно также подсчитаем количество отрицательных значений."
   ]
  },
  {
   "cell_type": "code",
   "execution_count": 10,
   "metadata": {
    "scrolled": true
   },
   "outputs": [
    {
     "name": "stdout",
     "output_type": "stream",
     "text": [
      "Количество отрицательных значений по столбцу 'days_employed': 15906\n",
      "Медиана по столбцу 'days_employed' для всех значений: -1203\n",
      "Медиана по столбцу 'days_employed' только для неотрицательных значений: 365213\n",
      "Медиана по столбцу 'days_employed' только для отрицательных значений: -1630\n"
     ]
    }
   ],
   "source": [
    "print(\"Количество отрицательных значений по столбцу 'days_employed': {}\".format(df[df[\"days_employed\"] < 0].shape[0]))\n",
    "print(\"Медиана по столбцу 'days_employed' для всех значений: {:.0f}\".format(df[\"days_employed\"].median()))\n",
    "print(\"Медиана по столбцу 'days_employed' только для неотрицательных значений: {:.0f}\".format(df[df[\"days_employed\"] >= 0][\"days_employed\"].median()))\n",
    "print(\"Медиана по столбцу 'days_employed' только для отрицательных значений: {:.0f}\".format(df[df[\"days_employed\"] < 0][\"days_employed\"].median()))"
   ]
  },
  {
   "cell_type": "markdown",
   "metadata": {},
   "source": [
    "Медиана для неотрицательных значений равняется 365213, что примерно соответствует непрерывной работе в течение 100 лет. Очевидно, что данные в столбце совершенно недостоверны. В качестве возможной причины можно предположить ошибку в единице измерений (дни вместо часов). Принимая во внимание что данные, представленные в столбце 'days_employed', не используются напрямую в настоящем исследовании, пропуски в рассматриваемом столбце условно примем равными нулю."
   ]
  },
  {
   "cell_type": "markdown",
   "metadata": {},
   "source": [
    "Замена пропусков в столбце 'days_employed' нулевыми значениями: "
   ]
  },
  {
   "cell_type": "code",
   "execution_count": 11,
   "metadata": {
    "scrolled": true
   },
   "outputs": [],
   "source": [
    "df[\"days_employed\"] = df[\"days_employed\"].fillna(0)"
   ]
  },
  {
   "cell_type": "markdown",
   "metadata": {},
   "source": [
    "Подсчитаем количество значений типа Nan в столбце \"total_income\":"
   ]
  },
  {
   "cell_type": "code",
   "execution_count": 12,
   "metadata": {
    "scrolled": false
   },
   "outputs": [
    {
     "name": "stdout",
     "output_type": "stream",
     "text": [
      "Количество значений типа Nan в столбце 'total_income': 2174\n"
     ]
    }
   ],
   "source": [
    "print(\"Количество значений типа Nan в столбце 'total_income': {}\".format(df[\"total_income\"].isnull().sum()))"
   ]
  },
  {
   "cell_type": "markdown",
   "metadata": {},
   "source": [
    "В таблице имеется существенное количество значений типа Nan в столбце \"total_income\". Причина их появления неизвестна. Можно предположить какую-то техническую ошибку при формировании таблицы. В пользу этой версии говорит то, что в столбце \"days_employed\" содержится такое же количество значений типа Nan. \n"
   ]
  },
  {
   "cell_type": "markdown",
   "metadata": {},
   "source": [
    "Насчет того, какие фактические значения соответствуют пропускам в столбце \"total_income\", можно выдвинуть две гипотезы. Первая: данные значения соответствуют нулевому доходу - в этом случае пропуски должны быть заполнены нулями. Вторая гипотеза состоит в том, что фактические доходы в пропущенных строках не равны нулю. В этом случае заполнять пропущенные значения необходимо характерными значениями. Для того, чтобы понять какая из гипотез более обоснованная, подсчитаем количество различных типов занятости по столбцу \"income_type\" для строк со значениями Nan."
   ]
  },
  {
   "cell_type": "code",
   "execution_count": 13,
   "metadata": {
    "scrolled": true
   },
   "outputs": [
    {
     "name": "stdout",
     "output_type": "stream",
     "text": [
      "сотрудник          1105\n",
      "компаньон           508\n",
      "пенсионер           413\n",
      "госслужащий         147\n",
      "предприниматель       1\n",
      "Name: income_type, dtype: int64\n"
     ]
    }
   ],
   "source": [
    "print(df[df[\"total_income\"].isnull()][\"income_type\"].value_counts())"
   ]
  },
  {
   "cell_type": "markdown",
   "metadata": {},
   "source": [
    "Из полученных результатов можно сделать следующий вывод: для рассматриваемых строк со значениями Nan основной тип дохода это \"сотрудник\", \"компаньон\" и \"пенсионер\", то есть люди, имеющие доход. Безработные отсутствуют полностью. Следовательно, фактические доходы в пропущенных строках не равну нулю и их необходимо заполнить характерными значениями. При расчете характерных значений будем учитывать тип дохода, в силу его очевидного влияния на полный доход."
   ]
  },
  {
   "cell_type": "markdown",
   "metadata": {},
   "source": [
    "Сформируем таблицу \"income_medians\" с медианными значениями дохода в зависимости от типа дохода:"
   ]
  },
  {
   "cell_type": "code",
   "execution_count": 14,
   "metadata": {
    "scrolled": true
   },
   "outputs": [
    {
     "name": "stdout",
     "output_type": "stream",
     "text": [
      "income_type\n",
      "безработный        131339.751676\n",
      "в декрете           53829.130729\n",
      "госслужащий        150447.935283\n",
      "компаньон          172357.950966\n",
      "пенсионер          118514.486412\n",
      "предприниматель    499163.144947\n",
      "сотрудник          142594.396847\n",
      "студент             98201.625314\n",
      "Name: total_income, dtype: float64\n"
     ]
    }
   ],
   "source": [
    "income_medians = df.groupby(\"income_type\")[\"total_income\"].median()\n",
    "print(income_medians)"
   ]
  },
  {
   "cell_type": "markdown",
   "metadata": {},
   "source": [
    "Запустим цикл, заменяющей значения типа Nan медианными значениями, взятыми из сформированной нами таблицы \"income_medians\":"
   ]
  },
  {
   "cell_type": "code",
   "execution_count": 15,
   "metadata": {},
   "outputs": [],
   "source": [
    "for income_type in income_medians.index:\n",
    "    mask = df.loc[:, \"income_type\"] == income_type\n",
    "    df.loc[mask, \"total_income\"] = df.loc[mask, \"total_income\"].fillna(income_medians[income_type])"
   ]
  },
  {
   "cell_type": "markdown",
   "metadata": {},
   "source": [
    "В столбце \"age_years\" при изучении общей информации была выявлена аномалия - как минимум одно нулевое значение. Подсчитаем сколько в базе данных всего клиентов с нулевым возрастом:"
   ]
  },
  {
   "cell_type": "code",
   "execution_count": 16,
   "metadata": {
    "scrolled": true
   },
   "outputs": [
    {
     "name": "stdout",
     "output_type": "stream",
     "text": [
      "Количество клиентов в базе данных c нулевым возрастом: 101\n"
     ]
    }
   ],
   "source": [
    "print(\"Количество клиентов в базе данных c нулевым возрастом: {}\".format(df[df[\"age_years\"] == 0][\"age_years\"].count()))"
   ]
  },
  {
   "cell_type": "markdown",
   "metadata": {},
   "source": [
    "С учетом того, что согласно законам РФ заемщиком может быть лицо не младше 18 лет, дополнительно подсчитаем количество клиентов в базе данных младше 18 лет:"
   ]
  },
  {
   "cell_type": "code",
   "execution_count": 17,
   "metadata": {
    "scrolled": false
   },
   "outputs": [
    {
     "name": "stdout",
     "output_type": "stream",
     "text": [
      "Количество клиентов в базе данных моложе 18 лет: 101\n"
     ]
    }
   ],
   "source": [
    "print(\"Количество клиентов в базе данных моложе 18 лет: {}\".format(df[df[\"age_years\"] < 18][\"age_years\"].count()))"
   ]
  },
  {
   "cell_type": "markdown",
   "metadata": {},
   "source": [
    "Выводы по столбцу \"age_years\":\n",
    "1. Количество клиентов младше 18 лет точно совпадает с количеством клиентов с нулевым возрастом, следовательно все клиенты в базе данных младше 18 лет имеют нулевой возраст.\n",
    "2. Нулевой возраст клиентов является явной ошибкой. Возможная причина данной ошибки - заполнение отсутствующей информации о возрасте клиентов нулевыми значениями. Для исправления данной ошибки нулевые значения возраста необходимо заменить характерными значениями, то есть средними арифметическими."
   ]
  },
  {
   "cell_type": "markdown",
   "metadata": {},
   "source": [
    "При расчете характерных значений возраста (для повышения точности расчетов) учтем возможную зависимость возраста от семейного статуса. Для этого рассчитаем средние возраста в зависимости от семейного статуса и запишем их в таблицу \"age_means\":"
   ]
  },
  {
   "cell_type": "code",
   "execution_count": 18,
   "metadata": {
    "scrolled": false
   },
   "outputs": [
    {
     "name": "stdout",
     "output_type": "stream",
     "text": [
      "family_status\n",
      "Не женат / не замужем    36\n",
      "в разводе                46\n",
      "вдовец / вдова           58\n",
      "гражданский брак         41\n",
      "женат / замужем          43\n",
      "Name: age_years, dtype: int64\n"
     ]
    }
   ],
   "source": [
    "age_means = df.groupby(\"family_status\")[\"age_years\"].median()\n",
    "print(age_means)"
   ]
  },
  {
   "cell_type": "markdown",
   "metadata": {},
   "source": [
    "Из полученных результатов очевидно, что гипотеза о зависимости возраста от семейного статуса подтвердилась. Учтем это и запустим цикл, заменяющей нулевые значения возраста средними значениями, взятыми из сформированной нами таблицы \"age_means\":"
   ]
  },
  {
   "cell_type": "code",
   "execution_count": 19,
   "metadata": {},
   "outputs": [],
   "source": [
    "for family_status in age_means.index:\n",
    "    mask = (df.loc[:, \"family_status\"] == family_status) & (df.loc[:, \"age_years\"] == 0)\n",
    "    df.loc[mask, \"age_years\"] = age_means[family_status]"
   ]
  },
  {
   "cell_type": "markdown",
   "metadata": {},
   "source": [
    "Проконтролируем результаты обработки пропусков:"
   ]
  },
  {
   "cell_type": "code",
   "execution_count": 20,
   "metadata": {},
   "outputs": [
    {
     "name": "stdout",
     "output_type": "stream",
     "text": [
      "<class 'pandas.core.frame.DataFrame'>\n",
      "RangeIndex: 21525 entries, 0 to 21524\n",
      "Data columns (total 12 columns):\n",
      "children_number       21525 non-null int64\n",
      "days_employed         21525 non-null float64\n",
      "age_years             21525 non-null int64\n",
      "education_level       21525 non-null object\n",
      "education_level_id    21525 non-null int64\n",
      "family_status         21525 non-null object\n",
      "family_status_id      21525 non-null int64\n",
      "gender                21525 non-null object\n",
      "income_type           21525 non-null object\n",
      "debt                  21525 non-null int64\n",
      "total_income          21525 non-null float64\n",
      "loan_purpose          21525 non-null object\n",
      "dtypes: float64(2), int64(5), object(5)\n",
      "memory usage: 2.0+ MB\n"
     ]
    }
   ],
   "source": [
    "df.info()"
   ]
  },
  {
   "cell_type": "markdown",
   "metadata": {},
   "source": [
    "**Выводы:**\n",
    "1. Скорректированы названия столбцов.\n",
    "2. В столбце \"children_number\" скорректированы аномальные значения.\n",
    "3. Заполнены пропуски в столбцах: \"days_employed\", \"total_income\" и \"age_years\"."
   ]
  },
  {
   "cell_type": "markdown",
   "metadata": {},
   "source": [
    "### Замена типа данных"
   ]
  },
  {
   "cell_type": "markdown",
   "metadata": {},
   "source": [
    "В столбцах \"days_employed\" и \"total_income\" заменяем вещественный тип данных на целочисленный, применяя метод df.astype(). Применение указанного метода обусловлено его универсальностью."
   ]
  },
  {
   "cell_type": "code",
   "execution_count": 21,
   "metadata": {},
   "outputs": [],
   "source": [
    "df[\"days_employed\"] = df[\"days_employed\"].astype(\"int\")\n",
    "df[\"total_income\"] = df[\"total_income\"].astype(\"int\")"
   ]
  },
  {
   "cell_type": "markdown",
   "metadata": {},
   "source": [
    "Проконтролируем полученный результат замены типа данных:"
   ]
  },
  {
   "cell_type": "code",
   "execution_count": 22,
   "metadata": {},
   "outputs": [
    {
     "name": "stdout",
     "output_type": "stream",
     "text": [
      "<class 'pandas.core.frame.DataFrame'>\n",
      "RangeIndex: 21525 entries, 0 to 21524\n",
      "Data columns (total 12 columns):\n",
      "children_number       21525 non-null int64\n",
      "days_employed         21525 non-null int64\n",
      "age_years             21525 non-null int64\n",
      "education_level       21525 non-null object\n",
      "education_level_id    21525 non-null int64\n",
      "family_status         21525 non-null object\n",
      "family_status_id      21525 non-null int64\n",
      "gender                21525 non-null object\n",
      "income_type           21525 non-null object\n",
      "debt                  21525 non-null int64\n",
      "total_income          21525 non-null int64\n",
      "loan_purpose          21525 non-null object\n",
      "dtypes: int64(7), object(5)\n",
      "memory usage: 2.0+ MB\n"
     ]
    }
   ],
   "source": [
    "df.info()"
   ]
  },
  {
   "cell_type": "markdown",
   "metadata": {},
   "source": [
    "**Вывод**: выполнена замена вещественного типа данных в столбцах \"days_employed\" и \"total_income\" на целочисленный."
   ]
  },
  {
   "cell_type": "markdown",
   "metadata": {},
   "source": [
    "### Обработка дубликатов"
   ]
  },
  {
   "cell_type": "markdown",
   "metadata": {},
   "source": [
    "Подсчитаем количество дубликатов в таблице:"
   ]
  },
  {
   "cell_type": "code",
   "execution_count": 23,
   "metadata": {},
   "outputs": [
    {
     "name": "stdout",
     "output_type": "stream",
     "text": [
      "Количество дубликатов в таблице: 55\n"
     ]
    }
   ],
   "source": [
    "print(\"Количество дубликатов в таблице: {}\".format(df.duplicated().sum()))"
   ]
  },
  {
   "cell_type": "markdown",
   "metadata": {},
   "source": [
    "Метод df.duplicated() выявляет только полные дубликаты. Однако могут быть дубликаты, отличающиеся используемым регистром. Таким образом, возможно общее количество дубликатов превышает 55. Учитывая это, приведем строковые данные в таблице к нижнему регистру. Выполним это запустив цикл по всем колонкам таблицы, применяя конструкцию \"try-except\", для того, чтобы пропустить столбцы, содержащие данные числового типа:"
   ]
  },
  {
   "cell_type": "code",
   "execution_count": 24,
   "metadata": {},
   "outputs": [],
   "source": [
    "for col in df.columns:\n",
    "    try:\n",
    "        df[col] = df[col].str.lower()\n",
    "    except AttributeError:\n",
    "        pass"
   ]
  },
  {
   "cell_type": "markdown",
   "metadata": {},
   "source": [
    "Подсчитаем еще раз количество дубликатов в таблице:"
   ]
  },
  {
   "cell_type": "code",
   "execution_count": 25,
   "metadata": {
    "scrolled": false
   },
   "outputs": [
    {
     "name": "stdout",
     "output_type": "stream",
     "text": [
      "Количество дубликатов в таблице: 72\n"
     ]
    }
   ],
   "source": [
    "print(\"Количество дубликатов в таблице: {}\".format(df.duplicated().sum()))"
   ]
  },
  {
   "cell_type": "markdown",
   "metadata": {},
   "source": [
    "Таким образом, после приведения строковых данных к нижнему регистру, количество дубликатов выросло. Следовательно, одна из причин появления дубликатов - заполнение одних и тех же текстовых данных разными регистрами. При слиянии данных из разных источников в одну таблицу одни и те же данные множатся за счет разности регистров. Тем не менее наличие полных 55 дубликатов остается не объяснимым и связано, вероятно, с какой-то технической ошибкой при создании базы данных."
   ]
  },
  {
   "cell_type": "markdown",
   "metadata": {},
   "source": [
    "Удалим выявленные дубликаты и проверим полученный результат:"
   ]
  },
  {
   "cell_type": "code",
   "execution_count": 26,
   "metadata": {
    "scrolled": false
   },
   "outputs": [
    {
     "name": "stdout",
     "output_type": "stream",
     "text": [
      "В таблице осталось 0 дубликатов\n"
     ]
    }
   ],
   "source": [
    "df = df.drop_duplicates()\n",
    "print(\"В таблице осталось {} дубликатов\".format(df.duplicated().sum()))"
   ]
  },
  {
   "cell_type": "markdown",
   "metadata": {},
   "source": [
    "**Вывод**: дубликаты выявлены и обработаны."
   ]
  },
  {
   "cell_type": "markdown",
   "metadata": {},
   "source": [
    "### Лемматизация"
   ]
  },
  {
   "cell_type": "markdown",
   "metadata": {},
   "source": [
    "Загрузим библиотеку pymystem3 с функцией лемматизации на русском языке, а также специльный контейнер Counter (для подсчета числа лемматизированных слов):"
   ]
  },
  {
   "cell_type": "code",
   "execution_count": 27,
   "metadata": {},
   "outputs": [],
   "source": [
    "from pymystem3 import Mystem\n",
    "m = Mystem()\n",
    "from collections import Counter"
   ]
  },
  {
   "cell_type": "markdown",
   "metadata": {},
   "source": [
    "Объединим столбец с данными о целях займа (\"loan_purpose\") в единый текст и выполним лемматизацию данного текста:"
   ]
  },
  {
   "cell_type": "code",
   "execution_count": 28,
   "metadata": {},
   "outputs": [],
   "source": [
    "text = \" \".join(df[\"loan_purpose\"])\n",
    "lemmas = m.lemmatize(text)"
   ]
  },
  {
   "cell_type": "markdown",
   "metadata": {},
   "source": [
    "Подсчитаем количество упоминаний различных лемматизированных слов в столбце \"loan_purpose\":"
   ]
  },
  {
   "cell_type": "code",
   "execution_count": 29,
   "metadata": {},
   "outputs": [
    {
     "name": "stdout",
     "output_type": "stream",
     "text": [
      "Counter({' ': 55020, 'недвижимость': 6351, 'покупка': 5897, 'жилье': 4460, 'автомобиль': 4306, 'образование': 4013, 'с': 2918, 'операция': 2604, 'свадьба': 2323, 'свой': 2230, 'на': 2221, 'строительство': 1878, 'высокий': 1374, 'получение': 1314, 'коммерческий': 1311, 'для': 1289, 'жилой': 1230, 'сделка': 941, 'дополнительный': 906, 'заниматься': 904, 'подержать': 853, 'проведение': 767, 'сыграть': 765, 'сдача': 651, 'семья': 638, 'собственный': 635, 'со': 627, 'ремонт': 607, 'приобретение': 461, 'профильный': 436, 'подержанный': 111, '\\n': 1})\n"
     ]
    }
   ],
   "source": [
    "print(Counter(lemmas))"
   ]
  },
  {
   "cell_type": "markdown",
   "metadata": {},
   "source": [
    "**Выводы**: \n",
    "1. Выполнена лемматизация для столбца \"loan_purpose\".\n",
    "2. Выполнен подсчет лемматизированных слов для столбца \"loan_purpose\"."
   ]
  },
  {
   "cell_type": "markdown",
   "metadata": {},
   "source": [
    "### Категоризация данных"
   ]
  },
  {
   "cell_type": "markdown",
   "metadata": {},
   "source": [
    "В исследовании рассматривается всего 4 фактора, влияющих на возврат кредита: количество детей, семейное положение, доход и цели кредита. Первые два фактора не нуждаются в дополнительной категоризации, так как уже категоризированы рациональным образом и на относительно небольшое количество категорий. В категоризации, таким образом, нуждаются два оставшихся фактора: доход и цели кредита."
   ]
  },
  {
   "cell_type": "markdown",
   "metadata": {},
   "source": [
    "Категоризацию по доходам проведем следующим образом. Разделим все доходы на три категории: низкие, средние и высокие. Для проведения границ между данными категориями воспользуемся квантилями. Примем следующее. Низкий доход - доход меньше квантиля уровня 0,25. Средний доход - доход больше или равно квантиля уровня 0,25, но меньше или равно квантиля уровня 0,75. Высокий доход - доход больше квантиля уровня 0,75. Для определения квантилей воспользуемся методом df.describe():"
   ]
  },
  {
   "cell_type": "code",
   "execution_count": 30,
   "metadata": {
    "scrolled": false
   },
   "outputs": [
    {
     "name": "stdout",
     "output_type": "stream",
     "text": [
      "Информация о распределении доходов клиентов по величине:\n"
     ]
    },
    {
     "data": {
      "text/plain": [
       "count    2.145300e+04\n",
       "mean     1.653206e+05\n",
       "std      9.818947e+04\n",
       "min      2.066700e+04\n",
       "25%      1.076200e+05\n",
       "50%      1.425940e+05\n",
       "75%      1.958210e+05\n",
       "max      2.265604e+06\n",
       "Name: total_income, dtype: float64"
      ]
     },
     "execution_count": 30,
     "metadata": {},
     "output_type": "execute_result"
    }
   ],
   "source": [
    "print(\"Информация о распределении доходов клиентов по величине:\")\n",
    "df[\"total_income\"].describe()"
   ]
  },
  {
   "cell_type": "markdown",
   "metadata": {},
   "source": [
    "Округлив полученные значения квантилей до десятков тысяч, получим следующие границы для доходов. Низкий доход - доход меньше 100000. Средний доход - доход больше или равно 100000 и меньше или равно 200000. Высокий доход - доход свыше 200000. Напишем программу \"total_income_group\" для соответствующей категоризации клиентов по доходам:"
   ]
  },
  {
   "cell_type": "code",
   "execution_count": 31,
   "metadata": {},
   "outputs": [],
   "source": [
    "def total_income_group(total_income):\n",
    "    if total_income < 110000:\n",
    "        return \"низкий доход\"\n",
    "    if 110000 <= total_income <= 200000:\n",
    "        return \"средний доход\"\n",
    "    else:\n",
    "        return \"высокий доход\""
   ]
  },
  {
   "cell_type": "markdown",
   "metadata": {},
   "source": [
    "Добавим новый столбец \"total_income_group\" к таблице, в котором укажем категорию дохода клиента:"
   ]
  },
  {
   "cell_type": "code",
   "execution_count": 32,
   "metadata": {},
   "outputs": [],
   "source": [
    "df[\"total_income_group\"] = df[\"total_income\"].apply(total_income_group)"
   ]
  },
  {
   "cell_type": "markdown",
   "metadata": {},
   "source": [
    "Напишем программу \"loan_purpose_group\" для категоризации целей займа:"
   ]
  },
  {
   "cell_type": "code",
   "execution_count": 33,
   "metadata": {},
   "outputs": [],
   "source": [
    "def loan_purpose_group(loan_purpose):\n",
    "    lemmas = m.lemmatize(loan_purpose)\n",
    "    if \"недвижимость\" in lemmas or \"жилье\" in lemmas:\n",
    "        return \"недвижимость\"\n",
    "    if \"автомобиль\" in lemmas:\n",
    "        return \"автомобиль\"\n",
    "    if \"образование\" in lemmas:\n",
    "        return \"образование\"\n",
    "    if \"свадьба\" in lemmas:\n",
    "        return \"свадьба\"\n",
    "    else:\n",
    "        return \"категория не определена\""
   ]
  },
  {
   "cell_type": "markdown",
   "metadata": {},
   "source": [
    "Воспользуемся программой \"loan_purpose_group\" для категоризации клиентов по целям кредита. Добавим новый столбец с категориями по назначениям займа к общей таблице"
   ]
  },
  {
   "cell_type": "code",
   "execution_count": 34,
   "metadata": {},
   "outputs": [],
   "source": [
    "df[\"loan_purpose_group\"] = df[\"loan_purpose\"].apply(loan_purpose_group)"
   ]
  },
  {
   "cell_type": "markdown",
   "metadata": {},
   "source": [
    "Выведем на экран таблицу, дополненную двумя столбцами:"
   ]
  },
  {
   "cell_type": "code",
   "execution_count": 35,
   "metadata": {
    "scrolled": true
   },
   "outputs": [
    {
     "data": {
      "text/html": [
       "<div>\n",
       "<style scoped>\n",
       "    .dataframe tbody tr th:only-of-type {\n",
       "        vertical-align: middle;\n",
       "    }\n",
       "\n",
       "    .dataframe tbody tr th {\n",
       "        vertical-align: top;\n",
       "    }\n",
       "\n",
       "    .dataframe thead th {\n",
       "        text-align: right;\n",
       "    }\n",
       "</style>\n",
       "<table border=\"1\" class=\"dataframe\">\n",
       "  <thead>\n",
       "    <tr style=\"text-align: right;\">\n",
       "      <th></th>\n",
       "      <th>children_number</th>\n",
       "      <th>days_employed</th>\n",
       "      <th>age_years</th>\n",
       "      <th>education_level</th>\n",
       "      <th>education_level_id</th>\n",
       "      <th>family_status</th>\n",
       "      <th>family_status_id</th>\n",
       "      <th>gender</th>\n",
       "      <th>income_type</th>\n",
       "      <th>debt</th>\n",
       "      <th>total_income</th>\n",
       "      <th>loan_purpose</th>\n",
       "      <th>total_income_group</th>\n",
       "      <th>loan_purpose_group</th>\n",
       "    </tr>\n",
       "  </thead>\n",
       "  <tbody>\n",
       "    <tr>\n",
       "      <td>0</td>\n",
       "      <td>1</td>\n",
       "      <td>-8437</td>\n",
       "      <td>42</td>\n",
       "      <td>высшее</td>\n",
       "      <td>0</td>\n",
       "      <td>женат / замужем</td>\n",
       "      <td>0</td>\n",
       "      <td>f</td>\n",
       "      <td>сотрудник</td>\n",
       "      <td>0</td>\n",
       "      <td>253875</td>\n",
       "      <td>покупка жилья</td>\n",
       "      <td>высокий доход</td>\n",
       "      <td>недвижимость</td>\n",
       "    </tr>\n",
       "    <tr>\n",
       "      <td>1</td>\n",
       "      <td>1</td>\n",
       "      <td>-4024</td>\n",
       "      <td>36</td>\n",
       "      <td>среднее</td>\n",
       "      <td>1</td>\n",
       "      <td>женат / замужем</td>\n",
       "      <td>0</td>\n",
       "      <td>f</td>\n",
       "      <td>сотрудник</td>\n",
       "      <td>0</td>\n",
       "      <td>112080</td>\n",
       "      <td>приобретение автомобиля</td>\n",
       "      <td>средний доход</td>\n",
       "      <td>автомобиль</td>\n",
       "    </tr>\n",
       "    <tr>\n",
       "      <td>2</td>\n",
       "      <td>0</td>\n",
       "      <td>-5623</td>\n",
       "      <td>33</td>\n",
       "      <td>среднее</td>\n",
       "      <td>1</td>\n",
       "      <td>женат / замужем</td>\n",
       "      <td>0</td>\n",
       "      <td>m</td>\n",
       "      <td>сотрудник</td>\n",
       "      <td>0</td>\n",
       "      <td>145885</td>\n",
       "      <td>покупка жилья</td>\n",
       "      <td>средний доход</td>\n",
       "      <td>недвижимость</td>\n",
       "    </tr>\n",
       "    <tr>\n",
       "      <td>3</td>\n",
       "      <td>3</td>\n",
       "      <td>-4124</td>\n",
       "      <td>32</td>\n",
       "      <td>среднее</td>\n",
       "      <td>1</td>\n",
       "      <td>женат / замужем</td>\n",
       "      <td>0</td>\n",
       "      <td>m</td>\n",
       "      <td>сотрудник</td>\n",
       "      <td>0</td>\n",
       "      <td>267628</td>\n",
       "      <td>дополнительное образование</td>\n",
       "      <td>высокий доход</td>\n",
       "      <td>образование</td>\n",
       "    </tr>\n",
       "    <tr>\n",
       "      <td>4</td>\n",
       "      <td>0</td>\n",
       "      <td>340266</td>\n",
       "      <td>53</td>\n",
       "      <td>среднее</td>\n",
       "      <td>1</td>\n",
       "      <td>гражданский брак</td>\n",
       "      <td>1</td>\n",
       "      <td>f</td>\n",
       "      <td>пенсионер</td>\n",
       "      <td>0</td>\n",
       "      <td>158616</td>\n",
       "      <td>сыграть свадьбу</td>\n",
       "      <td>средний доход</td>\n",
       "      <td>свадьба</td>\n",
       "    </tr>\n",
       "  </tbody>\n",
       "</table>\n",
       "</div>"
      ],
      "text/plain": [
       "   children_number  days_employed  age_years education_level  \\\n",
       "0                1          -8437         42          высшее   \n",
       "1                1          -4024         36         среднее   \n",
       "2                0          -5623         33         среднее   \n",
       "3                3          -4124         32         среднее   \n",
       "4                0         340266         53         среднее   \n",
       "\n",
       "   education_level_id     family_status  family_status_id gender income_type  \\\n",
       "0                   0   женат / замужем                 0      f   сотрудник   \n",
       "1                   1   женат / замужем                 0      f   сотрудник   \n",
       "2                   1   женат / замужем                 0      m   сотрудник   \n",
       "3                   1   женат / замужем                 0      m   сотрудник   \n",
       "4                   1  гражданский брак                 1      f   пенсионер   \n",
       "\n",
       "   debt  total_income                loan_purpose total_income_group  \\\n",
       "0     0        253875               покупка жилья      высокий доход   \n",
       "1     0        112080     приобретение автомобиля      средний доход   \n",
       "2     0        145885               покупка жилья      средний доход   \n",
       "3     0        267628  дополнительное образование      высокий доход   \n",
       "4     0        158616             сыграть свадьбу      средний доход   \n",
       "\n",
       "  loan_purpose_group  \n",
       "0       недвижимость  \n",
       "1         автомобиль  \n",
       "2       недвижимость  \n",
       "3        образование  \n",
       "4            свадьба  "
      ]
     },
     "execution_count": 35,
     "metadata": {},
     "output_type": "execute_result"
    }
   ],
   "source": [
    "df.head()"
   ]
  },
  {
   "cell_type": "markdown",
   "metadata": {},
   "source": [
    "Проконтролируем результаты выполненной категоризации данных по полному доходу (total_income) и целям займа (loan_purpose):"
   ]
  },
  {
   "cell_type": "code",
   "execution_count": 36,
   "metadata": {
    "scrolled": true
   },
   "outputs": [
    {
     "name": "stdout",
     "output_type": "stream",
     "text": [
      "Результы категоризации данных по полному доходу (total_income):\n",
      "средний доход    10744\n",
      "низкий доход      5642\n",
      "высокий доход     5067\n",
      "Name: total_income_group, dtype: int64\n",
      "\n",
      "Результы категоризации данных по целям кредита (loan_purpose):\n",
      "недвижимость    10811\n",
      "автомобиль       4306\n",
      "образование      4013\n",
      "свадьба          2323\n",
      "Name: loan_purpose_group, dtype: int64\n"
     ]
    }
   ],
   "source": [
    "print(\"Результы категоризации данных по полному доходу (total_income):\")\n",
    "print(df[\"total_income_group\"].value_counts(), end=\"\\n\\n\")\n",
    "print(\"Результы категоризации данных по целям кредита (loan_purpose):\")\n",
    "print(df[\"loan_purpose_group\"].value_counts())"
   ]
  },
  {
   "cell_type": "markdown",
   "metadata": {},
   "source": [
    "**Вывод:** выполнена категоризация данных по величине полного дохода и целям займа."
   ]
  },
  {
   "cell_type": "markdown",
   "metadata": {},
   "source": [
    "## Шаг 3. Ответьте на вопросы"
   ]
  },
  {
   "cell_type": "markdown",
   "metadata": {},
   "source": [
    "- Есть ли зависимость между наличием детей и возвратом кредита в срок?"
   ]
  },
  {
   "cell_type": "markdown",
   "metadata": {},
   "source": [
    "Для ответа на поставленный вопрос создадим сводную таблицу, группируя данные по оси \"0\" по количеству детей (\"children_number\"), а по оси \"1\" - по факту возврата или не возврата долга (\"debt\"). Кроме того добавим к сводной таблице дополнительный столбец (\"past_due_loans_share\") с указанием доли невозвращенных кредитов по отношению ко всем кредитам в рассматриваемой категории. Отсортируем таблицу по данному столбцу по убыванию. В итоге получим следующее:"
   ]
  },
  {
   "cell_type": "code",
   "execution_count": 37,
   "metadata": {
    "scrolled": false
   },
   "outputs": [
    {
     "data": {
      "text/html": [
       "<div>\n",
       "<style scoped>\n",
       "    .dataframe tbody tr th:only-of-type {\n",
       "        vertical-align: middle;\n",
       "    }\n",
       "\n",
       "    .dataframe tbody tr th {\n",
       "        vertical-align: top;\n",
       "    }\n",
       "\n",
       "    .dataframe thead th {\n",
       "        text-align: right;\n",
       "    }\n",
       "</style>\n",
       "<table border=\"1\" class=\"dataframe\">\n",
       "  <thead>\n",
       "    <tr style=\"text-align: right;\">\n",
       "      <th>debt</th>\n",
       "      <th>0</th>\n",
       "      <th>1</th>\n",
       "      <th>past_due_loans_share</th>\n",
       "    </tr>\n",
       "    <tr>\n",
       "      <th>children_number</th>\n",
       "      <th></th>\n",
       "      <th></th>\n",
       "      <th></th>\n",
       "    </tr>\n",
       "  </thead>\n",
       "  <tbody>\n",
       "    <tr>\n",
       "      <td>4</td>\n",
       "      <td>37.0</td>\n",
       "      <td>4.0</td>\n",
       "      <td>0.097561</td>\n",
       "    </tr>\n",
       "    <tr>\n",
       "      <td>2</td>\n",
       "      <td>1926.0</td>\n",
       "      <td>202.0</td>\n",
       "      <td>0.094925</td>\n",
       "    </tr>\n",
       "    <tr>\n",
       "      <td>1</td>\n",
       "      <td>4410.0</td>\n",
       "      <td>445.0</td>\n",
       "      <td>0.091658</td>\n",
       "    </tr>\n",
       "    <tr>\n",
       "      <td>3</td>\n",
       "      <td>303.0</td>\n",
       "      <td>27.0</td>\n",
       "      <td>0.081818</td>\n",
       "    </tr>\n",
       "    <tr>\n",
       "      <td>0</td>\n",
       "      <td>13027.0</td>\n",
       "      <td>1063.0</td>\n",
       "      <td>0.075444</td>\n",
       "    </tr>\n",
       "    <tr>\n",
       "      <td>5</td>\n",
       "      <td>9.0</td>\n",
       "      <td>0.0</td>\n",
       "      <td>0.000000</td>\n",
       "    </tr>\n",
       "  </tbody>\n",
       "</table>\n",
       "</div>"
      ],
      "text/plain": [
       "debt                   0       1  past_due_loans_share\n",
       "children_number                                       \n",
       "4                   37.0     4.0              0.097561\n",
       "2                 1926.0   202.0              0.094925\n",
       "1                 4410.0   445.0              0.091658\n",
       "3                  303.0    27.0              0.081818\n",
       "0                13027.0  1063.0              0.075444\n",
       "5                    9.0     0.0              0.000000"
      ]
     },
     "execution_count": 37,
     "metadata": {},
     "output_type": "execute_result"
    }
   ],
   "source": [
    "children_number_debt_pivot = df.pivot_table(index=\"children_number\", columns=\"debt\", values=\"age_years\", aggfunc=\"count\")\n",
    "children_number_debt_pivot[\"past_due_loans_share\"] = children_number_debt_pivot[1] / (\n",
    "        children_number_debt_pivot[0] + children_number_debt_pivot[1])\n",
    "children_number_debt_pivot = children_number_debt_pivot.fillna(0)\n",
    "children_number_debt_pivot.sort_values(by=\"past_due_loans_share\", ascending=False)"
   ]
  },
  {
   "cell_type": "markdown",
   "metadata": {},
   "source": [
    "**Вывод:**"
   ]
  },
  {
   "cell_type": "markdown",
   "metadata": {},
   "source": [
    "Между количестом детей и возвратом кредита в срок по всей видимости прямой зависимости нет. Однако можно отметить, что наименьшая доля просроченных кредиторов соответствует бездетным клиентом (клиенты с 5 детьми не учитывались здесь при анализе, ввиду их небольшого общего количества - всего 9 человек). Возможно на возврат кредит влияет сам факт наличия/отсутствия детей, при этом количество детей не имеет значений. Для более достоверного анализа, вероятно, необходимо провести дополнительные статистические исследования."
   ]
  },
  {
   "cell_type": "markdown",
   "metadata": {},
   "source": [
    "- Есть ли зависимость между семейным положением и возвратом кредита в срок?"
   ]
  },
  {
   "cell_type": "markdown",
   "metadata": {},
   "source": [
    "Для ответа на поставленный вопрос создадим сводную таблицу, группируя данные по оси \"0\" по семейному положению (\"family_status\"), а по оси \"1\" по факту возврата или не возврата долга (\"debt\"). Кроме того добавим к сводной таблице дополнительный столбец (\"past_due_loans_share\") с указанием доли невозвращенных кредитов по отношению ко всем кредитам в рассматриваемой категории. Отсортируем таблицу по данному столбцу по убыванию. В итоге получим следующее:"
   ]
  },
  {
   "cell_type": "code",
   "execution_count": 38,
   "metadata": {},
   "outputs": [
    {
     "data": {
      "text/html": [
       "<div>\n",
       "<style scoped>\n",
       "    .dataframe tbody tr th:only-of-type {\n",
       "        vertical-align: middle;\n",
       "    }\n",
       "\n",
       "    .dataframe tbody tr th {\n",
       "        vertical-align: top;\n",
       "    }\n",
       "\n",
       "    .dataframe thead th {\n",
       "        text-align: right;\n",
       "    }\n",
       "</style>\n",
       "<table border=\"1\" class=\"dataframe\">\n",
       "  <thead>\n",
       "    <tr style=\"text-align: right;\">\n",
       "      <th>debt</th>\n",
       "      <th>0</th>\n",
       "      <th>1</th>\n",
       "      <th>past_due_loans_share</th>\n",
       "    </tr>\n",
       "    <tr>\n",
       "      <th>family_status</th>\n",
       "      <th></th>\n",
       "      <th></th>\n",
       "      <th></th>\n",
       "    </tr>\n",
       "  </thead>\n",
       "  <tbody>\n",
       "    <tr>\n",
       "      <td>не женат / не замужем</td>\n",
       "      <td>2536</td>\n",
       "      <td>274</td>\n",
       "      <td>0.097509</td>\n",
       "    </tr>\n",
       "    <tr>\n",
       "      <td>гражданский брак</td>\n",
       "      <td>3762</td>\n",
       "      <td>388</td>\n",
       "      <td>0.093494</td>\n",
       "    </tr>\n",
       "    <tr>\n",
       "      <td>женат / замужем</td>\n",
       "      <td>11408</td>\n",
       "      <td>931</td>\n",
       "      <td>0.075452</td>\n",
       "    </tr>\n",
       "    <tr>\n",
       "      <td>в разводе</td>\n",
       "      <td>1110</td>\n",
       "      <td>85</td>\n",
       "      <td>0.071130</td>\n",
       "    </tr>\n",
       "    <tr>\n",
       "      <td>вдовец / вдова</td>\n",
       "      <td>896</td>\n",
       "      <td>63</td>\n",
       "      <td>0.065693</td>\n",
       "    </tr>\n",
       "  </tbody>\n",
       "</table>\n",
       "</div>"
      ],
      "text/plain": [
       "debt                       0    1  past_due_loans_share\n",
       "family_status                                          \n",
       "не женат / не замужем   2536  274              0.097509\n",
       "гражданский брак        3762  388              0.093494\n",
       "женат / замужем        11408  931              0.075452\n",
       "в разводе               1110   85              0.071130\n",
       "вдовец / вдова           896   63              0.065693"
      ]
     },
     "execution_count": 38,
     "metadata": {},
     "output_type": "execute_result"
    }
   ],
   "source": [
    "family_status_debt_pivot = df.pivot_table(index=\"family_status\", columns=\"debt\", values=\"age_years\", aggfunc=\"count\")\n",
    "family_status_debt_pivot[\"past_due_loans_share\"] = family_status_debt_pivot[1] / (\n",
    "        family_status_debt_pivot[0] + family_status_debt_pivot[1])\n",
    "family_status_debt_pivot.sort_values(by=\"past_due_loans_share\", ascending=False)"
   ]
  },
  {
   "cell_type": "markdown",
   "metadata": {},
   "source": [
    "**Вывод**"
   ]
  },
  {
   "cell_type": "markdown",
   "metadata": {},
   "source": [
    "Между семейным статусом и возвратом кредита в срок, вероятно, имеется зависимость. Наибольшая доля невозвратов кредита в срок соответствует статусу \"не женат / не замужем\", наименьшая - статусу \"вдовец / вдова\". Для более достоверного анализа, вероятно, необходимо провести дополнительные статистические исследования."
   ]
  },
  {
   "cell_type": "markdown",
   "metadata": {},
   "source": [
    "- Есть ли зависимость между уровнем дохода и возвратом кредита в срок?"
   ]
  },
  {
   "cell_type": "markdown",
   "metadata": {},
   "source": [
    "Для ответа на поставленный вопрос создадим сводную таблицу, группируя данные по оси \"0\" по уровню дохода (\"total_income_group\"), а по оси \"1\" по факту возврата или не возврата долга (\"debt\"). Кроме того добавим к сводной таблице дополнительный столбец (\"past_due_loans_share\") с указанием доли невозвращенных кредитов по отношению ко всем кредитам в рассматриваемой категории. Отсортируем таблицу по данному столбцу по убыванию. В итоге получим следующее:"
   ]
  },
  {
   "cell_type": "code",
   "execution_count": 39,
   "metadata": {},
   "outputs": [
    {
     "data": {
      "text/html": [
       "<div>\n",
       "<style scoped>\n",
       "    .dataframe tbody tr th:only-of-type {\n",
       "        vertical-align: middle;\n",
       "    }\n",
       "\n",
       "    .dataframe tbody tr th {\n",
       "        vertical-align: top;\n",
       "    }\n",
       "\n",
       "    .dataframe thead th {\n",
       "        text-align: right;\n",
       "    }\n",
       "</style>\n",
       "<table border=\"1\" class=\"dataframe\">\n",
       "  <thead>\n",
       "    <tr style=\"text-align: right;\">\n",
       "      <th>debt</th>\n",
       "      <th>0</th>\n",
       "      <th>1</th>\n",
       "      <th>past_due_loans_share</th>\n",
       "    </tr>\n",
       "    <tr>\n",
       "      <th>total_income_group</th>\n",
       "      <th></th>\n",
       "      <th></th>\n",
       "      <th></th>\n",
       "    </tr>\n",
       "  </thead>\n",
       "  <tbody>\n",
       "    <tr>\n",
       "      <td>средний доход</td>\n",
       "      <td>9816</td>\n",
       "      <td>928</td>\n",
       "      <td>0.086374</td>\n",
       "    </tr>\n",
       "    <tr>\n",
       "      <td>низкий доход</td>\n",
       "      <td>5187</td>\n",
       "      <td>455</td>\n",
       "      <td>0.080645</td>\n",
       "    </tr>\n",
       "    <tr>\n",
       "      <td>высокий доход</td>\n",
       "      <td>4709</td>\n",
       "      <td>358</td>\n",
       "      <td>0.070653</td>\n",
       "    </tr>\n",
       "  </tbody>\n",
       "</table>\n",
       "</div>"
      ],
      "text/plain": [
       "debt                   0    1  past_due_loans_share\n",
       "total_income_group                                 \n",
       "средний доход       9816  928              0.086374\n",
       "низкий доход        5187  455              0.080645\n",
       "высокий доход       4709  358              0.070653"
      ]
     },
     "execution_count": 39,
     "metadata": {},
     "output_type": "execute_result"
    }
   ],
   "source": [
    "total_income_group_debt_pivot = df.pivot_table(index=\"total_income_group\", columns=\"debt\", values=\"age_years\", aggfunc=\"count\")\n",
    "total_income_group_debt_pivot[\"past_due_loans_share\"] = total_income_group_debt_pivot[1] / (\n",
    "        total_income_group_debt_pivot[0] + total_income_group_debt_pivot[1])\n",
    "total_income_group_debt_pivot.sort_values(by=\"past_due_loans_share\", ascending=False)"
   ]
  },
  {
   "cell_type": "markdown",
   "metadata": {},
   "source": [
    "**Вывод**"
   ]
  },
  {
   "cell_type": "markdown",
   "metadata": {},
   "source": [
    "Между уровнем дохода и возвратом кредита в срок, вероятно, прямой зависимости нет. Наименьшая доля невозвратов кредита в срок соответствует высокому уровню дохода, что логично. Однако вместо ожидаемого результата, что наибольшая доля невозвратов соответствует низкому уровню дохода, мы имеем, что эта доля соответствует среднему доходу. Для более достоверного анализа, вероятно, необходимо провести дополнительные статистические исследования."
   ]
  },
  {
   "cell_type": "markdown",
   "metadata": {},
   "source": [
    "- Как разные цели кредита влияют на его возврат в срок?"
   ]
  },
  {
   "cell_type": "markdown",
   "metadata": {},
   "source": [
    "Для ответа на поставленный вопрос создадим сводную таблицу, группируя данные по оси \"0\" по уровню дохода (\"loan_purpose_group\"), а по оси \"1\" по факту возврата или не возврата долга (\"debt\"). Кроме того добавим к сводной таблице дополнительный столбец (\"past_due_loans_share\") с указанием доли невозвращенных кредитов по отношению ко всем кредитам в рассматриваемой категории. Отсортируем таблицу по данному столбцу по убыванию. В итоге получим следующее:"
   ]
  },
  {
   "cell_type": "code",
   "execution_count": 40,
   "metadata": {
    "scrolled": true
   },
   "outputs": [
    {
     "data": {
      "text/html": [
       "<div>\n",
       "<style scoped>\n",
       "    .dataframe tbody tr th:only-of-type {\n",
       "        vertical-align: middle;\n",
       "    }\n",
       "\n",
       "    .dataframe tbody tr th {\n",
       "        vertical-align: top;\n",
       "    }\n",
       "\n",
       "    .dataframe thead th {\n",
       "        text-align: right;\n",
       "    }\n",
       "</style>\n",
       "<table border=\"1\" class=\"dataframe\">\n",
       "  <thead>\n",
       "    <tr style=\"text-align: right;\">\n",
       "      <th>debt</th>\n",
       "      <th>0</th>\n",
       "      <th>1</th>\n",
       "      <th>past_due_loans_share</th>\n",
       "    </tr>\n",
       "    <tr>\n",
       "      <th>loan_purpose_group</th>\n",
       "      <th></th>\n",
       "      <th></th>\n",
       "      <th></th>\n",
       "    </tr>\n",
       "  </thead>\n",
       "  <tbody>\n",
       "    <tr>\n",
       "      <td>автомобиль</td>\n",
       "      <td>3903</td>\n",
       "      <td>403</td>\n",
       "      <td>0.093590</td>\n",
       "    </tr>\n",
       "    <tr>\n",
       "      <td>образование</td>\n",
       "      <td>3643</td>\n",
       "      <td>370</td>\n",
       "      <td>0.092200</td>\n",
       "    </tr>\n",
       "    <tr>\n",
       "      <td>свадьба</td>\n",
       "      <td>2137</td>\n",
       "      <td>186</td>\n",
       "      <td>0.080069</td>\n",
       "    </tr>\n",
       "    <tr>\n",
       "      <td>недвижимость</td>\n",
       "      <td>10029</td>\n",
       "      <td>782</td>\n",
       "      <td>0.072334</td>\n",
       "    </tr>\n",
       "  </tbody>\n",
       "</table>\n",
       "</div>"
      ],
      "text/plain": [
       "debt                    0    1  past_due_loans_share\n",
       "loan_purpose_group                                  \n",
       "автомобиль           3903  403              0.093590\n",
       "образование          3643  370              0.092200\n",
       "свадьба              2137  186              0.080069\n",
       "недвижимость        10029  782              0.072334"
      ]
     },
     "execution_count": 40,
     "metadata": {},
     "output_type": "execute_result"
    }
   ],
   "source": [
    "loan_purpose_group_debt_pivot = df.pivot_table(index=\"loan_purpose_group\", columns=\"debt\", values=\"age_years\", aggfunc=\"count\")\n",
    "loan_purpose_group_debt_pivot[\"past_due_loans_share\"] = loan_purpose_group_debt_pivot[1] / (\n",
    "        loan_purpose_group_debt_pivot[0] + loan_purpose_group_debt_pivot[1])\n",
    "loan_purpose_group_debt_pivot.sort_values(by=\"past_due_loans_share\", ascending=False)"
   ]
  },
  {
   "cell_type": "markdown",
   "metadata": {},
   "source": [
    "**Вывод**"
   ]
  },
  {
   "cell_type": "markdown",
   "metadata": {},
   "source": [
    "Между целями кредита и возвратом его в срок, вероятно, есть зависимость. Наибольшая доля невозвратов кредита в срок соответствует цели \"автомобиль\", наименьшая - цели \"автомобиль\". Для более достоверного анализа, вероятно, необходимо провести дополнительные статистические исследования."
   ]
  },
  {
   "cell_type": "markdown",
   "metadata": {},
   "source": [
    "## Шаг 4. Общий вывод"
   ]
  },
  {
   "cell_type": "markdown",
   "metadata": {},
   "source": [
    "Выполнена предобработка полученных исходных данных. Проанализирована зависимость возврата кредита в срок от четырех факторов: количества детей, семейного статуса, уровня дохода и цели кредита. Следует отметить, что для более достоверного анализа, вероятно, необходимо провести дополнительные статистические исследования."
   ]
  },
  {
   "cell_type": "markdown",
   "metadata": {},
   "source": [
    "## Чек-лист готовности проекта\n",
    "\n",
    "Поставьте 'x' в выполненных пунктах. Далее нажмите Shift+Enter."
   ]
  },
  {
   "cell_type": "markdown",
   "metadata": {},
   "source": [
    "- [x]  открыт файл;\n",
    "- [x]  файл изучен;\n",
    "- [x]  определены пропущенные значения;\n",
    "- [x]  заполнены пропущенные значения;\n",
    "- [x]  есть пояснение, какие пропущенные значения обнаружены;\n",
    "- [x]  описаны возможные причины появления пропусков в данных;\n",
    "- [x]  объяснено, по какому принципу заполнены пропуски;\n",
    "- [x]  заменен вещественный тип данных на целочисленный;\n",
    "- [x]  есть пояснение, какой метод используется для изменения типа данных и почему;\n",
    "- [x]  удалены дубликаты;\n",
    "- [x]  есть пояснение, какой метод используется для поиска и удаления дубликатов;\n",
    "- [x]  описаны возможные причины появления дубликатов в данных;\n",
    "- [x]  выделены леммы в значениях столбца с целями получения кредита;\n",
    "- [x]  описан процесс лемматизации;\n",
    "- [x]  данные категоризированы;\n",
    "- [x]  есть объяснение принципа категоризации данных;\n",
    "- [x]  есть ответ на вопрос: \"Есть ли зависимость между наличием детей и возвратом кредита в срок?\";\n",
    "- [x]  есть ответ на вопрос: \"Есть ли зависимость между семейным положением и возвратом кредита в срок?\";\n",
    "- [x]  есть ответ на вопрос: \"Есть ли зависимость между уровнем дохода и возвратом кредита в срок?\";\n",
    "- [x]  есть ответ на вопрос: \"Как разные цели кредита влияют на его возврат в срок?\";\n",
    "- [x]  в каждом этапе есть выводы;\n",
    "- [x]  есть общий вывод."
   ]
  }
 ],
 "metadata": {
  "kernelspec": {
   "display_name": "Python 3",
   "language": "python",
   "name": "python3"
  },
  "language_info": {
   "codemirror_mode": {
    "name": "ipython",
    "version": 3
   },
   "file_extension": ".py",
   "mimetype": "text/x-python",
   "name": "python",
   "nbconvert_exporter": "python",
   "pygments_lexer": "ipython3",
   "version": "3.7.8"
  },
  "toc": {
   "base_numbering": 1,
   "nav_menu": {},
   "number_sections": true,
   "sideBar": true,
   "skip_h1_title": true,
   "title_cell": "Содержание",
   "title_sidebar": "Contents",
   "toc_cell": true,
   "toc_position": {
    "height": "calc(100% - 180px)",
    "left": "10px",
    "top": "150px",
    "width": "320px"
   },
   "toc_section_display": true,
   "toc_window_display": true
  }
 },
 "nbformat": 4,
 "nbformat_minor": 2
}
