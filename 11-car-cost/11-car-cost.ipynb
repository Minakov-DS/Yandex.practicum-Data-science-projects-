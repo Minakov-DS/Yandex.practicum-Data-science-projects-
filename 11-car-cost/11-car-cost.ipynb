{
 "cells": [
  {
   "cell_type": "markdown",
   "metadata": {
    "toc": true
   },
   "source": [
    "<h1>Содержание<span class=\"tocSkip\"></span></h1>\n",
    "<div class=\"toc\"><ul class=\"toc-item\"><li><span><a href=\"#Подготовка-данных\" data-toc-modified-id=\"Подготовка-данных-1\"><span class=\"toc-item-num\">1&nbsp;&nbsp;</span>Подготовка данных</a></span><ul class=\"toc-item\"><li><span><a href=\"#Загрузка-библиотек-и-ознакомление-с-исходными-данными\" data-toc-modified-id=\"Загрузка-библиотек-и-ознакомление-с-исходными-данными-1.1\"><span class=\"toc-item-num\">1.1&nbsp;&nbsp;</span>Загрузка библиотек и ознакомление с исходными данными</a></span></li><li><span><a href=\"#Анализ-исходных-данных-на-адекватность\" data-toc-modified-id=\"Анализ-исходных-данных-на-адекватность-1.2\"><span class=\"toc-item-num\">1.2&nbsp;&nbsp;</span>Анализ исходных данных на адекватность</a></span></li><li><span><a href=\"#Оптимизация-данных-о-времени-регистрации,-удаление-лишних-столбцов-и-дубликатов\" data-toc-modified-id=\"Оптимизация-данных-о-времени-регистрации,-удаление-лишних-столбцов-и-дубликатов-1.3\"><span class=\"toc-item-num\">1.3&nbsp;&nbsp;</span>Оптимизация данных о времени регистрации, удаление лишних столбцов и дубликатов</a></span></li><li><span><a href=\"#Обработка-пропусков,-изменение-типа-данных-для-категориальных-признаков\" data-toc-modified-id=\"Обработка-пропусков,-изменение-типа-данных-для-категориальных-признаков-1.4\"><span class=\"toc-item-num\">1.4&nbsp;&nbsp;</span>Обработка пропусков, изменение типа данных для категориальных признаков</a></span></li><li><span><a href=\"#Создание-метрики-качества-модели-rmse\" data-toc-modified-id=\"Создание-метрики-качества-модели-rmse-1.5\"><span class=\"toc-item-num\">1.5&nbsp;&nbsp;</span>Создание метрики качества модели rmse</a></span></li><li><span><a href=\"#Разбивка-данных-на-обучающую-и-тестовую-выборки-для-первого-датасета-(data_1)\" data-toc-modified-id=\"Разбивка-данных-на-обучающую-и-тестовую-выборки-для-первого-датасета-(data_1)-1.6\"><span class=\"toc-item-num\">1.6&nbsp;&nbsp;</span>Разбивка данных на обучающую и тестовую выборки для первого датасета (data_1)</a></span></li><li><span><a href=\"#Создание-второго-датасета-(data_2)-и-разбивка-его-на-обучающую-и-тестовую-выборки\" data-toc-modified-id=\"Создание-второго-датасета-(data_2)-и-разбивка-его-на-обучающую-и-тестовую-выборки-1.7\"><span class=\"toc-item-num\">1.7&nbsp;&nbsp;</span>Создание второго датасета (data_2) и разбивка его на обучающую и тестовую выборки</a></span></li><li><span><a href=\"#Контроль-полученных-результатов\" data-toc-modified-id=\"Контроль-полученных-результатов-1.8\"><span class=\"toc-item-num\">1.8&nbsp;&nbsp;</span>Контроль полученных результатов</a></span></li><li><span><a href=\"#Выводы\" data-toc-modified-id=\"Выводы-1.9\"><span class=\"toc-item-num\">1.9&nbsp;&nbsp;</span>Выводы</a></span></li></ul></li><li><span><a href=\"#Обучение-моделей\" data-toc-modified-id=\"Обучение-моделей-2\"><span class=\"toc-item-num\">2&nbsp;&nbsp;</span>Обучение моделей</a></span><ul class=\"toc-item\"><li><span><a href=\"#Модель-LGBMRegressor\" data-toc-modified-id=\"Модель-LGBMRegressor-2.1\"><span class=\"toc-item-num\">2.1&nbsp;&nbsp;</span>Модель LGBMRegressor</a></span></li><li><span><a href=\"#Модель-CatBoostRegressor\" data-toc-modified-id=\"Модель-CatBoostRegressor-2.2\"><span class=\"toc-item-num\">2.2&nbsp;&nbsp;</span>Модель CatBoostRegressor</a></span></li><li><span><a href=\"#Модель-LinearRegression\" data-toc-modified-id=\"Модель-LinearRegression-2.3\"><span class=\"toc-item-num\">2.3&nbsp;&nbsp;</span>Модель LinearRegression</a></span></li><li><span><a href=\"#Модель-RandomForestRegressor\" data-toc-modified-id=\"Модель-RandomForestRegressor-2.4\"><span class=\"toc-item-num\">2.4&nbsp;&nbsp;</span>Модель RandomForestRegressor</a></span></li><li><span><a href=\"#Выводы\" data-toc-modified-id=\"Выводы-2.5\"><span class=\"toc-item-num\">2.5&nbsp;&nbsp;</span>Выводы</a></span></li></ul></li><li><span><a href=\"#Анализ-моделей\" data-toc-modified-id=\"Анализ-моделей-3\"><span class=\"toc-item-num\">3&nbsp;&nbsp;</span>Анализ моделей</a></span><ul class=\"toc-item\"><li><span><a href=\"#Выводы\" data-toc-modified-id=\"Выводы-3.1\"><span class=\"toc-item-num\">3.1&nbsp;&nbsp;</span>Выводы</a></span></li></ul></li><li><span><a href=\"#Чек-лист-проверки\" data-toc-modified-id=\"Чек-лист-проверки-4\"><span class=\"toc-item-num\">4&nbsp;&nbsp;</span>Чек-лист проверки</a></span></li></ul></div>"
   ]
  },
  {
   "cell_type": "markdown",
   "metadata": {},
   "source": [
    "# Определение стоимости автомобилей"
   ]
  },
  {
   "cell_type": "markdown",
   "metadata": {},
   "source": [
    "**Цель проекта:** необходимо создать модель для определения рыночной стоимости автомобиля. Данную модель планируется использовать в приложении сервиса по продаже автомобилей.\n",
    "\n",
    "Заказчику важны:\n",
    "\n",
    "- качество предсказания;\n",
    "- скорость предсказания;\n",
    "- время обучения.\n",
    "\n",
    "**Исходные данные:** исторические данные о технических характеристиках, комплектации и ценах автомобилей. \n",
    "\n",
    "**Описание данных**\n",
    "\n",
    "**Признаки**\n",
    "* DateCrawled — дата скачивания анкеты из базы\n",
    "* VehicleType — тип автомобильного кузова\n",
    "* RegistrationYear — год регистрации автомобиля\n",
    "* Gearbox — тип коробки передач\n",
    "* Power — мощность (л. с.)\n",
    "* Model — модель автомобиля\n",
    "* Kilometer — пробег (км)\n",
    "* RegistrationMonth — месяц регистрации автомобиля\n",
    "* FuelType — тип топлива\n",
    "* Brand — марка автомобиля\n",
    "* NotRepaired — была машина в ремонте или нет\n",
    "* DateCreated — дата создания анкеты\n",
    "* NumberOfPictures — количество фотографий автомобиля\n",
    "* PostalCode — почтовый индекс владельца анкеты (пользователя)\n",
    "* LastSeen — дата последней активности пользователя\n",
    "\n",
    "**Целевой признак**\n",
    "* Price — цена (евро)"
   ]
  },
  {
   "cell_type": "markdown",
   "metadata": {},
   "source": [
    "## Подготовка данных"
   ]
  },
  {
   "cell_type": "markdown",
   "metadata": {},
   "source": [
    "### Загрузка библиотек и ознакомление с исходными данными"
   ]
  },
  {
   "cell_type": "markdown",
   "metadata": {},
   "source": [
    "Загружаем необходимые библиотеки."
   ]
  },
  {
   "cell_type": "code",
   "execution_count": 1,
   "metadata": {},
   "outputs": [],
   "source": [
    "import time\n",
    "import pandas as pd\n",
    "import numpy as np\n",
    "from matplotlib import pyplot as plt\n",
    "from sklearn.linear_model import LinearRegression\n",
    "from sklearn.ensemble import RandomForestRegressor\n",
    "from sklearn.model_selection import train_test_split, cross_val_score, GridSearchCV\n",
    "from sklearn.preprocessing import StandardScaler\n",
    "from sklearn.metrics import mean_squared_error, make_scorer\n",
    "from catboost import CatBoostRegressor\n",
    "from lightgbm import LGBMRegressor"
   ]
  },
  {
   "cell_type": "markdown",
   "metadata": {},
   "source": [
    "Загружаем файл и сохраняем его содержимое под именем source_data. Затем выводим основную информацию об исходных данных."
   ]
  },
  {
   "cell_type": "code",
   "execution_count": 2,
   "metadata": {},
   "outputs": [],
   "source": [
    "source_data = pd.read_csv(\"/datasets/autos.csv\")"
   ]
  },
  {
   "cell_type": "code",
   "execution_count": 3,
   "metadata": {
    "scrolled": true
   },
   "outputs": [
    {
     "name": "stdout",
     "output_type": "stream",
     "text": [
      "<class 'pandas.core.frame.DataFrame'>\n",
      "RangeIndex: 354369 entries, 0 to 354368\n",
      "Data columns (total 16 columns):\n",
      "DateCrawled          354369 non-null object\n",
      "Price                354369 non-null int64\n",
      "VehicleType          316879 non-null object\n",
      "RegistrationYear     354369 non-null int64\n",
      "Gearbox              334536 non-null object\n",
      "Power                354369 non-null int64\n",
      "Model                334664 non-null object\n",
      "Kilometer            354369 non-null int64\n",
      "RegistrationMonth    354369 non-null int64\n",
      "FuelType             321474 non-null object\n",
      "Brand                354369 non-null object\n",
      "NotRepaired          283215 non-null object\n",
      "DateCreated          354369 non-null object\n",
      "NumberOfPictures     354369 non-null int64\n",
      "PostalCode           354369 non-null int64\n",
      "LastSeen             354369 non-null object\n",
      "dtypes: int64(7), object(9)\n",
      "memory usage: 43.3+ MB\n"
     ]
    }
   ],
   "source": [
    "source_data.info()"
   ]
  },
  {
   "cell_type": "code",
   "execution_count": 4,
   "metadata": {},
   "outputs": [
    {
     "data": {
      "text/html": [
       "<div>\n",
       "<style scoped>\n",
       "    .dataframe tbody tr th:only-of-type {\n",
       "        vertical-align: middle;\n",
       "    }\n",
       "\n",
       "    .dataframe tbody tr th {\n",
       "        vertical-align: top;\n",
       "    }\n",
       "\n",
       "    .dataframe thead th {\n",
       "        text-align: right;\n",
       "    }\n",
       "</style>\n",
       "<table border=\"1\" class=\"dataframe\">\n",
       "  <thead>\n",
       "    <tr style=\"text-align: right;\">\n",
       "      <th></th>\n",
       "      <th>DateCrawled</th>\n",
       "      <th>Price</th>\n",
       "      <th>VehicleType</th>\n",
       "      <th>RegistrationYear</th>\n",
       "      <th>Gearbox</th>\n",
       "      <th>Power</th>\n",
       "      <th>Model</th>\n",
       "      <th>Kilometer</th>\n",
       "      <th>RegistrationMonth</th>\n",
       "      <th>FuelType</th>\n",
       "      <th>Brand</th>\n",
       "      <th>NotRepaired</th>\n",
       "      <th>DateCreated</th>\n",
       "      <th>NumberOfPictures</th>\n",
       "      <th>PostalCode</th>\n",
       "      <th>LastSeen</th>\n",
       "    </tr>\n",
       "  </thead>\n",
       "  <tbody>\n",
       "    <tr>\n",
       "      <td>0</td>\n",
       "      <td>2016-03-24 11:52:17</td>\n",
       "      <td>480</td>\n",
       "      <td>NaN</td>\n",
       "      <td>1993</td>\n",
       "      <td>manual</td>\n",
       "      <td>0</td>\n",
       "      <td>golf</td>\n",
       "      <td>150000</td>\n",
       "      <td>0</td>\n",
       "      <td>petrol</td>\n",
       "      <td>volkswagen</td>\n",
       "      <td>NaN</td>\n",
       "      <td>2016-03-24 00:00:00</td>\n",
       "      <td>0</td>\n",
       "      <td>70435</td>\n",
       "      <td>2016-04-07 03:16:57</td>\n",
       "    </tr>\n",
       "    <tr>\n",
       "      <td>1</td>\n",
       "      <td>2016-03-24 10:58:45</td>\n",
       "      <td>18300</td>\n",
       "      <td>coupe</td>\n",
       "      <td>2011</td>\n",
       "      <td>manual</td>\n",
       "      <td>190</td>\n",
       "      <td>NaN</td>\n",
       "      <td>125000</td>\n",
       "      <td>5</td>\n",
       "      <td>gasoline</td>\n",
       "      <td>audi</td>\n",
       "      <td>yes</td>\n",
       "      <td>2016-03-24 00:00:00</td>\n",
       "      <td>0</td>\n",
       "      <td>66954</td>\n",
       "      <td>2016-04-07 01:46:50</td>\n",
       "    </tr>\n",
       "    <tr>\n",
       "      <td>2</td>\n",
       "      <td>2016-03-14 12:52:21</td>\n",
       "      <td>9800</td>\n",
       "      <td>suv</td>\n",
       "      <td>2004</td>\n",
       "      <td>auto</td>\n",
       "      <td>163</td>\n",
       "      <td>grand</td>\n",
       "      <td>125000</td>\n",
       "      <td>8</td>\n",
       "      <td>gasoline</td>\n",
       "      <td>jeep</td>\n",
       "      <td>NaN</td>\n",
       "      <td>2016-03-14 00:00:00</td>\n",
       "      <td>0</td>\n",
       "      <td>90480</td>\n",
       "      <td>2016-04-05 12:47:46</td>\n",
       "    </tr>\n",
       "    <tr>\n",
       "      <td>3</td>\n",
       "      <td>2016-03-17 16:54:04</td>\n",
       "      <td>1500</td>\n",
       "      <td>small</td>\n",
       "      <td>2001</td>\n",
       "      <td>manual</td>\n",
       "      <td>75</td>\n",
       "      <td>golf</td>\n",
       "      <td>150000</td>\n",
       "      <td>6</td>\n",
       "      <td>petrol</td>\n",
       "      <td>volkswagen</td>\n",
       "      <td>no</td>\n",
       "      <td>2016-03-17 00:00:00</td>\n",
       "      <td>0</td>\n",
       "      <td>91074</td>\n",
       "      <td>2016-03-17 17:40:17</td>\n",
       "    </tr>\n",
       "    <tr>\n",
       "      <td>4</td>\n",
       "      <td>2016-03-31 17:25:20</td>\n",
       "      <td>3600</td>\n",
       "      <td>small</td>\n",
       "      <td>2008</td>\n",
       "      <td>manual</td>\n",
       "      <td>69</td>\n",
       "      <td>fabia</td>\n",
       "      <td>90000</td>\n",
       "      <td>7</td>\n",
       "      <td>gasoline</td>\n",
       "      <td>skoda</td>\n",
       "      <td>no</td>\n",
       "      <td>2016-03-31 00:00:00</td>\n",
       "      <td>0</td>\n",
       "      <td>60437</td>\n",
       "      <td>2016-04-06 10:17:21</td>\n",
       "    </tr>\n",
       "  </tbody>\n",
       "</table>\n",
       "</div>"
      ],
      "text/plain": [
       "           DateCrawled  Price VehicleType  RegistrationYear Gearbox  Power  \\\n",
       "0  2016-03-24 11:52:17    480         NaN              1993  manual      0   \n",
       "1  2016-03-24 10:58:45  18300       coupe              2011  manual    190   \n",
       "2  2016-03-14 12:52:21   9800         suv              2004    auto    163   \n",
       "3  2016-03-17 16:54:04   1500       small              2001  manual     75   \n",
       "4  2016-03-31 17:25:20   3600       small              2008  manual     69   \n",
       "\n",
       "   Model  Kilometer  RegistrationMonth  FuelType       Brand NotRepaired  \\\n",
       "0   golf     150000                  0    petrol  volkswagen         NaN   \n",
       "1    NaN     125000                  5  gasoline        audi         yes   \n",
       "2  grand     125000                  8  gasoline        jeep         NaN   \n",
       "3   golf     150000                  6    petrol  volkswagen          no   \n",
       "4  fabia      90000                  7  gasoline       skoda          no   \n",
       "\n",
       "           DateCreated  NumberOfPictures  PostalCode             LastSeen  \n",
       "0  2016-03-24 00:00:00                 0       70435  2016-04-07 03:16:57  \n",
       "1  2016-03-24 00:00:00                 0       66954  2016-04-07 01:46:50  \n",
       "2  2016-03-14 00:00:00                 0       90480  2016-04-05 12:47:46  \n",
       "3  2016-03-17 00:00:00                 0       91074  2016-03-17 17:40:17  \n",
       "4  2016-03-31 00:00:00                 0       60437  2016-04-06 10:17:21  "
      ]
     },
     "execution_count": 4,
     "metadata": {},
     "output_type": "execute_result"
    }
   ],
   "source": [
    "source_data.head()"
   ]
  },
  {
   "cell_type": "code",
   "execution_count": 5,
   "metadata": {},
   "outputs": [
    {
     "data": {
      "text/html": [
       "<div>\n",
       "<style scoped>\n",
       "    .dataframe tbody tr th:only-of-type {\n",
       "        vertical-align: middle;\n",
       "    }\n",
       "\n",
       "    .dataframe tbody tr th {\n",
       "        vertical-align: top;\n",
       "    }\n",
       "\n",
       "    .dataframe thead th {\n",
       "        text-align: right;\n",
       "    }\n",
       "</style>\n",
       "<table border=\"1\" class=\"dataframe\">\n",
       "  <thead>\n",
       "    <tr style=\"text-align: right;\">\n",
       "      <th></th>\n",
       "      <th>Price</th>\n",
       "      <th>RegistrationYear</th>\n",
       "      <th>Power</th>\n",
       "      <th>Kilometer</th>\n",
       "      <th>RegistrationMonth</th>\n",
       "      <th>NumberOfPictures</th>\n",
       "      <th>PostalCode</th>\n",
       "    </tr>\n",
       "  </thead>\n",
       "  <tbody>\n",
       "    <tr>\n",
       "      <td>count</td>\n",
       "      <td>354369.000000</td>\n",
       "      <td>354369.000000</td>\n",
       "      <td>354369.000000</td>\n",
       "      <td>354369.000000</td>\n",
       "      <td>354369.000000</td>\n",
       "      <td>354369.0</td>\n",
       "      <td>354369.000000</td>\n",
       "    </tr>\n",
       "    <tr>\n",
       "      <td>mean</td>\n",
       "      <td>4416.656776</td>\n",
       "      <td>2004.234448</td>\n",
       "      <td>110.094337</td>\n",
       "      <td>128211.172535</td>\n",
       "      <td>5.714645</td>\n",
       "      <td>0.0</td>\n",
       "      <td>50508.689087</td>\n",
       "    </tr>\n",
       "    <tr>\n",
       "      <td>std</td>\n",
       "      <td>4514.158514</td>\n",
       "      <td>90.227958</td>\n",
       "      <td>189.850405</td>\n",
       "      <td>37905.341530</td>\n",
       "      <td>3.726421</td>\n",
       "      <td>0.0</td>\n",
       "      <td>25783.096248</td>\n",
       "    </tr>\n",
       "    <tr>\n",
       "      <td>min</td>\n",
       "      <td>0.000000</td>\n",
       "      <td>1000.000000</td>\n",
       "      <td>0.000000</td>\n",
       "      <td>5000.000000</td>\n",
       "      <td>0.000000</td>\n",
       "      <td>0.0</td>\n",
       "      <td>1067.000000</td>\n",
       "    </tr>\n",
       "    <tr>\n",
       "      <td>25%</td>\n",
       "      <td>1050.000000</td>\n",
       "      <td>1999.000000</td>\n",
       "      <td>69.000000</td>\n",
       "      <td>125000.000000</td>\n",
       "      <td>3.000000</td>\n",
       "      <td>0.0</td>\n",
       "      <td>30165.000000</td>\n",
       "    </tr>\n",
       "    <tr>\n",
       "      <td>50%</td>\n",
       "      <td>2700.000000</td>\n",
       "      <td>2003.000000</td>\n",
       "      <td>105.000000</td>\n",
       "      <td>150000.000000</td>\n",
       "      <td>6.000000</td>\n",
       "      <td>0.0</td>\n",
       "      <td>49413.000000</td>\n",
       "    </tr>\n",
       "    <tr>\n",
       "      <td>75%</td>\n",
       "      <td>6400.000000</td>\n",
       "      <td>2008.000000</td>\n",
       "      <td>143.000000</td>\n",
       "      <td>150000.000000</td>\n",
       "      <td>9.000000</td>\n",
       "      <td>0.0</td>\n",
       "      <td>71083.000000</td>\n",
       "    </tr>\n",
       "    <tr>\n",
       "      <td>max</td>\n",
       "      <td>20000.000000</td>\n",
       "      <td>9999.000000</td>\n",
       "      <td>20000.000000</td>\n",
       "      <td>150000.000000</td>\n",
       "      <td>12.000000</td>\n",
       "      <td>0.0</td>\n",
       "      <td>99998.000000</td>\n",
       "    </tr>\n",
       "  </tbody>\n",
       "</table>\n",
       "</div>"
      ],
      "text/plain": [
       "               Price  RegistrationYear          Power      Kilometer  \\\n",
       "count  354369.000000     354369.000000  354369.000000  354369.000000   \n",
       "mean     4416.656776       2004.234448     110.094337  128211.172535   \n",
       "std      4514.158514         90.227958     189.850405   37905.341530   \n",
       "min         0.000000       1000.000000       0.000000    5000.000000   \n",
       "25%      1050.000000       1999.000000      69.000000  125000.000000   \n",
       "50%      2700.000000       2003.000000     105.000000  150000.000000   \n",
       "75%      6400.000000       2008.000000     143.000000  150000.000000   \n",
       "max     20000.000000       9999.000000   20000.000000  150000.000000   \n",
       "\n",
       "       RegistrationMonth  NumberOfPictures     PostalCode  \n",
       "count      354369.000000          354369.0  354369.000000  \n",
       "mean            5.714645               0.0   50508.689087  \n",
       "std             3.726421               0.0   25783.096248  \n",
       "min             0.000000               0.0    1067.000000  \n",
       "25%             3.000000               0.0   30165.000000  \n",
       "50%             6.000000               0.0   49413.000000  \n",
       "75%             9.000000               0.0   71083.000000  \n",
       "max            12.000000               0.0   99998.000000  "
      ]
     },
     "execution_count": 5,
     "metadata": {},
     "output_type": "execute_result"
    }
   ],
   "source": [
    "source_data.describe()"
   ]
  },
  {
   "cell_type": "markdown",
   "metadata": {},
   "source": [
    "В исходном датасете есть категориальные признаки, а такжи численные, не приведенные к одному масштабу. Всего планируется рассмотреть в данном проекте четырре модели: CatBoostRegressor, LGBMRegressor, RandomForestRegressor и LinearRegression. Первые две модели автоматически обрабатывают категориальные признаки, масштабирование или нормализация численных признаков для них тоже, по-видимому не требуется, так как они представляют собой ансамбли простых моделей - решающих деревьев, на работу которых не влияет масштаб признака. Последняя модель - модель LinearRegression требует как обработки категориальных признаков, так и масштабирования численных. С учетом этого итогом подготовки данных будет два различных набора данных, один для первых двух моделей, основанных на градиентном бустинге и второй для двух простых моделей: LinearRegression и RandomForestRegressor. Первый набор данных обозначим как data_1, второй как data_2. Второй набор данных получим из первого после выполнения всех преобразований над ним."
   ]
  },
  {
   "cell_type": "markdown",
   "metadata": {},
   "source": [
    "### Анализ исходных данных на адекватность"
   ]
  },
  {
   "cell_type": "markdown",
   "metadata": {},
   "source": [
    "**Мощность двигателей (power)**"
   ]
  },
  {
   "cell_type": "markdown",
   "metadata": {},
   "source": [
    "Анализ исходных данных методом describe (подраздел 1.1) показал очень высокое неправдоподобное значение максимальной мощности - 20 000 л.с. Исследуем распределение мощности автомобилей подробнее при помощи диаграммы размаха (ящика с усами)."
   ]
  },
  {
   "cell_type": "code",
   "execution_count": 6,
   "metadata": {
    "scrolled": true
   },
   "outputs": [
    {
     "data": {
      "image/png": "[encoded data removed]",
      "text/plain": [
       "<Figure size 432x288 with 1 Axes>"
      ]
     },
     "metadata": {
      "needs_background": "light"
     },
     "output_type": "display_data"
    }
   ],
   "source": [
    "source_data.boxplot(column=\"Power\")\n",
    "plt.show()"
   ]
  },
  {
   "cell_type": "markdown",
   "metadata": {},
   "source": [
    "Из диагграммы размаха видно большое количество выбросов с огромными значениями мощности - свыше 2000 л.с. Исследуем распределение данных при помощи гистограммы, при этом для наглядности будем рассматривать только значения, превышающие 1500 л.с."
   ]
  },
  {
   "cell_type": "code",
   "execution_count": 7,
   "metadata": {},
   "outputs": [
    {
     "data": {
      "image/png": "[encoded data removed]",
      "text/plain": [
       "<Figure size 432x288 with 1 Axes>"
      ]
     },
     "metadata": {
      "needs_background": "light"
     },
     "output_type": "display_data"
    }
   ],
   "source": [
    "source_data[\"Power\"].hist(bins=100, range=(1500, 20000))\n",
    "plt.show()"
   ]
  },
  {
   "cell_type": "markdown",
   "metadata": {},
   "source": [
    "Из диаграммы размах хорошо видно значительное количество выбросов с мощностью свыше 1500 л.с. Подсчитаем среднюю цену машин с мошностью до 1500 л.с и свыше 1500 л.с."
   ]
  },
  {
   "cell_type": "code",
   "execution_count": 8,
   "metadata": {},
   "outputs": [
    {
     "name": "stdout",
     "output_type": "stream",
     "text": [
      "Средняя цена машин мощностью более 1500 л.с. 3204.704433497537\n",
      "Средняя цена машин мощностью менее 1500 л.с. 4417.375353651719\n"
     ]
    }
   ],
   "source": [
    "print(\"Средняя цена машин мощностью более 1500 л.с.\", source_data[source_data[\"Power\"] > 1500][\"Price\"].mean())\n",
    "print(\"Средняя цена машин мощностью менее 1500 л.с.\", source_data[source_data[\"Power\"] < 1500][\"Price\"].mean())"
   ]
  },
  {
   "cell_type": "markdown",
   "metadata": {},
   "source": [
    "Средняя стоимость машин мощностью более 1500 л.с. заметно ниже, чем стоимость машин мощностью менее 1500 л.с., что совершенно неправдоподобно. Таким образом, мы получили еще один аргумент в пользу недостоверности данных по мощностям автомобилей мошностью более 1500 л.с. Подсчитаем долю в процентах автомобилей мощностью более 1500 л.с."
   ]
  },
  {
   "cell_type": "code",
   "execution_count": 9,
   "metadata": {},
   "outputs": [
    {
     "data": {
      "text/plain": [
       "0.057284920520700174"
      ]
     },
     "execution_count": 9,
     "metadata": {},
     "output_type": "execute_result"
    }
   ],
   "source": [
    "source_data[source_data[\"Power\"] > 1500].shape[0] / source_data.shape[0] * 100"
   ]
  },
  {
   "cell_type": "markdown",
   "metadata": {},
   "source": [
    "Доля автомобилей мошностью более 1500 л.с. составляет всего 0,06% от всего датасета. Таким образом, аномальные данные можно удалить без ущерба для разрабатываемой прогнозной модели."
   ]
  },
  {
   "cell_type": "code",
   "execution_count": 10,
   "metadata": {},
   "outputs": [],
   "source": [
    "data_1 = source_data[source_data[\"Power\"] <= 1500]"
   ]
  },
  {
   "cell_type": "markdown",
   "metadata": {},
   "source": [
    "**Год регистрации**"
   ]
  },
  {
   "cell_type": "markdown",
   "metadata": {},
   "source": [
    "Анализ исходных данных методом describe (подраздел 1.1) показал аномальное максимальное значение для года регистрации автомобиля - 9999. Исследуем распределение рассматриваемого признака при помощи диаграммы размаха (ящика с усами)."
   ]
  },
  {
   "cell_type": "code",
   "execution_count": 11,
   "metadata": {},
   "outputs": [
    {
     "data": {
      "image/png": "[encoded data removed]",
      "text/plain": [
       "<Figure size 432x288 with 1 Axes>"
      ]
     },
     "metadata": {
      "needs_background": "light"
     },
     "output_type": "display_data"
    }
   ],
   "source": [
    "source_data.boxplot(column=\"RegistrationYear\")\n",
    "plt.show()"
   ]
  },
  {
   "cell_type": "markdown",
   "metadata": {},
   "source": [
    "На диаграмме размаха отчетливо видно большое количество аномальных значений. Для большей наглядности построим дополнительно гистограмму с минимальным годом равным 2019."
   ]
  },
  {
   "cell_type": "code",
   "execution_count": 12,
   "metadata": {
    "scrolled": false
   },
   "outputs": [
    {
     "data": {
      "image/png": "[encoded data removed]",
      "text/plain": [
       "<Figure size 432x288 with 1 Axes>"
      ]
     },
     "metadata": {
      "needs_background": "light"
     },
     "output_type": "display_data"
    }
   ],
   "source": [
    "source_data[\"RegistrationYear\"].hist(bins=50, range=(2019, 10000))\n",
    "plt.show()"
   ]
  },
  {
   "cell_type": "markdown",
   "metadata": {},
   "source": [
    "На гистограмме хорошо видно большое количество аномальных значений. Подсчитаем долю в процентах автомобилей с годом регистрации больше 2021 (текущий год)."
   ]
  },
  {
   "cell_type": "code",
   "execution_count": 13,
   "metadata": {},
   "outputs": [
    {
     "data": {
      "text/plain": [
       "0.029630131303810436"
      ]
     },
     "execution_count": 13,
     "metadata": {},
     "output_type": "execute_result"
    }
   ],
   "source": [
    "source_data[source_data[\"RegistrationYear\"] > 2021].shape[0] / source_data.shape[0] * 100"
   ]
  },
  {
   "cell_type": "markdown",
   "metadata": {},
   "source": [
    "Доля автомобилей с годом регистрации больше 2021 составляет всего 0,03% от полного датасета. Таким образом, аномальные данные можно удалить без ущерба для разрабатываемой прогнозной модели."
   ]
  },
  {
   "cell_type": "code",
   "execution_count": 14,
   "metadata": {},
   "outputs": [],
   "source": [
    "data_1 = data_1[data_1[\"RegistrationYear\"] <= 2021]"
   ]
  },
  {
   "cell_type": "markdown",
   "metadata": {},
   "source": [
    "### Оптимизация данных о времени регистрации, удаление лишних столбцов и дубликатов"
   ]
  },
  {
   "cell_type": "markdown",
   "metadata": {},
   "source": [
    "В исходном датасете мы имеем два столбца, соответствующих одному признаку - времени регистрации: год регистрации и месяц регистрации. Представим номер месяца как долю от целого года делением на 12 и просуммируем после этого данные о годе и месяце регистрации. Таким образом, год регистрации изменит свой тип данных с целочисленного на вещественный."
   ]
  },
  {
   "cell_type": "code",
   "execution_count": 15,
   "metadata": {},
   "outputs": [],
   "source": [
    "data_1[\"RegistrationYear\"] = (data_1[\"RegistrationYear\"] + data_1[\"RegistrationMonth\"] / 12).round(2)"
   ]
  },
  {
   "cell_type": "markdown",
   "metadata": {},
   "source": [
    "Подсчитаем количество полных дубликатов."
   ]
  },
  {
   "cell_type": "code",
   "execution_count": 16,
   "metadata": {},
   "outputs": [
    {
     "data": {
      "text/plain": [
       "4"
      ]
     },
     "execution_count": 16,
     "metadata": {},
     "output_type": "execute_result"
    }
   ],
   "source": [
    "data_1.duplicated().sum()"
   ]
  },
  {
   "cell_type": "markdown",
   "metadata": {},
   "source": [
    "Обшее количество полных дубликатов равняется 4. Удалим данные дубликаты."
   ]
  },
  {
   "cell_type": "code",
   "execution_count": 17,
   "metadata": {},
   "outputs": [],
   "source": [
    "data_1.drop_duplicates(inplace=True)"
   ]
  },
  {
   "cell_type": "markdown",
   "metadata": {},
   "source": [
    "Удалим столбцы с признаками, которые очевидно, не влияют на целевой признак, кроме того удалим столбец с месяцем регистрации, так как эту информацию мы уже учли в столбце \"RegistrationYear\"."
   ]
  },
  {
   "cell_type": "code",
   "execution_count": 18,
   "metadata": {},
   "outputs": [],
   "source": [
    "data_1.drop([\"DateCrawled\", \"RegistrationMonth\", \"DateCreated\", \"PostalCode\", \"LastSeen\"], axis=1, inplace=True)"
   ]
  },
  {
   "cell_type": "markdown",
   "metadata": {},
   "source": [
    "Удалим также столбец \"NumberOfPictures\" так как в данном столбце содержатся только нулевые значения."
   ]
  },
  {
   "cell_type": "code",
   "execution_count": 19,
   "metadata": {},
   "outputs": [],
   "source": [
    "data_1.drop(\"NumberOfPictures\", axis=1, inplace=True)"
   ]
  },
  {
   "cell_type": "markdown",
   "metadata": {},
   "source": [
    "### Обработка пропусков, изменение типа данных для категориальных признаков"
   ]
  },
  {
   "cell_type": "markdown",
   "metadata": {},
   "source": [
    "Подсчитаем долю пропусков в столбцах исходного датафрейма"
   ]
  },
  {
   "cell_type": "code",
   "execution_count": 20,
   "metadata": {
    "scrolled": true
   },
   "outputs": [
    {
     "data": {
      "text/plain": [
       "DateCrawled           0.00\n",
       "Price                 0.00\n",
       "VehicleType          10.58\n",
       "RegistrationYear      0.00\n",
       "Gearbox               5.60\n",
       "Power                 0.00\n",
       "Model                 5.56\n",
       "Kilometer             0.00\n",
       "RegistrationMonth     0.00\n",
       "FuelType              9.28\n",
       "Brand                 0.00\n",
       "NotRepaired          20.08\n",
       "DateCreated           0.00\n",
       "NumberOfPictures      0.00\n",
       "PostalCode            0.00\n",
       "LastSeen              0.00\n",
       "dtype: float64"
      ]
     },
     "execution_count": 20,
     "metadata": {},
     "output_type": "execute_result"
    }
   ],
   "source": [
    "(source_data.isnull().sum()/source_data.shape[0]*100).round(2)"
   ]
  },
  {
   "cell_type": "markdown",
   "metadata": {},
   "source": [
    "Имеется большое количество пропусков в столбцах \"VehicleType\", \"NotRepaired\", \"Model\", \"FuelType\". Библиотеки для градиентного бустинга CatBoostRegressor и LGBMRegressor умеют работать с пропущенными значениями. Однако помимо сложных моделей градиентного бустинга, мы будем использовать также и более простые модели, неспособные обработать пропуски. С учетом этого воспользуемся тем, что все пропуски выявлены в столбцах с категориальными данными и пометим пропуски в исходном датасете как \"undefined\"."
   ]
  },
  {
   "cell_type": "code",
   "execution_count": 21,
   "metadata": {
    "scrolled": true
   },
   "outputs": [],
   "source": [
    "data_1 = data_1.fillna(\"undefined\")"
   ]
  },
  {
   "cell_type": "markdown",
   "metadata": {},
   "source": [
    "Библиотека градиентного бустинга lightgb в настоящее время не способна обрабатывать тип данных \"object\". Ввиду этого заменим данный тип данных на специальный тип данных библиотеки Pandas - \"category\". Для этого предварительно создадим список имен столбцов, соответствующих категориальным данным."
   ]
  },
  {
   "cell_type": "code",
   "execution_count": 22,
   "metadata": {},
   "outputs": [],
   "source": [
    "categorial = [\"VehicleType\", \"Gearbox\", \"Model\", \"FuelType\", \"Brand\", \"NotRepaired\"]\n",
    "data_1[categorial] = data_1[categorial].astype(\"category\")"
   ]
  },
  {
   "cell_type": "markdown",
   "metadata": {},
   "source": [
    "### Создание метрики качества модели rmse"
   ]
  },
  {
   "cell_type": "markdown",
   "metadata": {},
   "source": [
    "В библиотеки sklearn отсутствует готовая метрика качества модели rmse (root mean squared error). С учетом этого создадим данную метрику при помощи инструмента \"make_scorer\"."
   ]
  },
  {
   "cell_type": "code",
   "execution_count": 23,
   "metadata": {},
   "outputs": [],
   "source": [
    "def rmse(y, y_pred):\n",
    "    return mean_squared_error(y, y_pred) ** 0.5"
   ]
  },
  {
   "cell_type": "code",
   "execution_count": 24,
   "metadata": {},
   "outputs": [],
   "source": [
    "rmse_score = make_scorer(rmse, greater_is_better = False)"
   ]
  },
  {
   "cell_type": "markdown",
   "metadata": {},
   "source": [
    "### Разбивка данных на обучающую и тестовую выборки для первого датасета (data_1)"
   ]
  },
  {
   "cell_type": "markdown",
   "metadata": {},
   "source": [
    "Для первого датасета (data_1) выделим features и target, а затем разобьем данные на обучающую и тестовую выборки."
   ]
  },
  {
   "cell_type": "code",
   "execution_count": 25,
   "metadata": {},
   "outputs": [],
   "source": [
    "x_1 = data_1.drop(\"Price\", axis=1)\n",
    "y_1 = data_1[\"Price\"]\n",
    "x_1_train, x_1_test, y_1_train, y_1_test = train_test_split(x_1, y_1, test_size=0.25, random_state=56789)"
   ]
  },
  {
   "cell_type": "markdown",
   "metadata": {},
   "source": [
    "### Создание второго датасета (data_2) и разбивка его на обучающую и тестовую выборки"
   ]
  },
  {
   "cell_type": "markdown",
   "metadata": {},
   "source": [
    "Создадим второй датасет (data_2) как копию первого (data_1)."
   ]
  },
  {
   "cell_type": "code",
   "execution_count": 26,
   "metadata": {},
   "outputs": [],
   "source": [
    "data_2 = data_1.copy()"
   ]
  },
  {
   "cell_type": "markdown",
   "metadata": {},
   "source": [
    "Ввиду того, что второй датасет будет использоваться моделью LinearRegression для него требуется выполнить масштабирование численных признаков. Для этого предварительно создадим список столбцов \"numeric\" с численными признаками."
   ]
  },
  {
   "cell_type": "code",
   "execution_count": 27,
   "metadata": {},
   "outputs": [],
   "source": [
    "numeric = list(x_1_train.columns[~x_1_train.columns.isin(categorial)])"
   ]
  },
  {
   "cell_type": "markdown",
   "metadata": {},
   "source": [
    "Выполним масштабирование численнных признаков при помощи StandardScaler."
   ]
  },
  {
   "cell_type": "code",
   "execution_count": 28,
   "metadata": {},
   "outputs": [],
   "source": [
    "scaler = StandardScaler()\n",
    "data_2[numeric] = scaler.fit_transform(data_2[numeric])"
   ]
  },
  {
   "cell_type": "markdown",
   "metadata": {},
   "source": [
    "Применим технику прямого кодирования (One-Hot Encoding) категориальных данных."
   ]
  },
  {
   "cell_type": "code",
   "execution_count": 29,
   "metadata": {},
   "outputs": [],
   "source": [
    "data_2 = pd.get_dummies(data_2, drop_first=True)"
   ]
  },
  {
   "cell_type": "markdown",
   "metadata": {},
   "source": [
    "Выделим features и target, а затем разобьем данные на обучающую и тестовую выборки."
   ]
  },
  {
   "cell_type": "code",
   "execution_count": 30,
   "metadata": {},
   "outputs": [],
   "source": [
    "x_2 = data_2.drop(\"Price\", axis=1)\n",
    "y_2 = data_2[\"Price\"]\n",
    "x_2_train, x_2_test, y_2_train, y_2_test = train_test_split(x_2, y_2, test_size=0.25, random_state=56789)"
   ]
  },
  {
   "cell_type": "markdown",
   "metadata": {},
   "source": [
    "### Контроль полученных результатов"
   ]
  },
  {
   "cell_type": "markdown",
   "metadata": {},
   "source": [
    "Выведим основную информацию по подготовленным для обучения датасетам."
   ]
  },
  {
   "cell_type": "markdown",
   "metadata": {},
   "source": [
    "**Первый датасет**"
   ]
  },
  {
   "cell_type": "code",
   "execution_count": 31,
   "metadata": {},
   "outputs": [
    {
     "name": "stdout",
     "output_type": "stream",
     "text": [
      "<class 'pandas.core.frame.DataFrame'>\n",
      "Int64Index: 354059 entries, 0 to 354368\n",
      "Data columns (total 10 columns):\n",
      "Price               354059 non-null int64\n",
      "VehicleType         354059 non-null category\n",
      "RegistrationYear    354059 non-null float64\n",
      "Gearbox             354059 non-null category\n",
      "Power               354059 non-null int64\n",
      "Model               354059 non-null category\n",
      "Kilometer           354059 non-null int64\n",
      "FuelType            354059 non-null category\n",
      "Brand               354059 non-null category\n",
      "NotRepaired         354059 non-null category\n",
      "dtypes: category(6), float64(1), int64(3)\n",
      "memory usage: 15.9 MB\n"
     ]
    }
   ],
   "source": [
    "data_1.info()"
   ]
  },
  {
   "cell_type": "code",
   "execution_count": 32,
   "metadata": {},
   "outputs": [
    {
     "data": {
      "text/html": [
       "<div>\n",
       "<style scoped>\n",
       "    .dataframe tbody tr th:only-of-type {\n",
       "        vertical-align: middle;\n",
       "    }\n",
       "\n",
       "    .dataframe tbody tr th {\n",
       "        vertical-align: top;\n",
       "    }\n",
       "\n",
       "    .dataframe thead th {\n",
       "        text-align: right;\n",
       "    }\n",
       "</style>\n",
       "<table border=\"1\" class=\"dataframe\">\n",
       "  <thead>\n",
       "    <tr style=\"text-align: right;\">\n",
       "      <th></th>\n",
       "      <th>Price</th>\n",
       "      <th>VehicleType</th>\n",
       "      <th>RegistrationYear</th>\n",
       "      <th>Gearbox</th>\n",
       "      <th>Power</th>\n",
       "      <th>Model</th>\n",
       "      <th>Kilometer</th>\n",
       "      <th>FuelType</th>\n",
       "      <th>Brand</th>\n",
       "      <th>NotRepaired</th>\n",
       "    </tr>\n",
       "  </thead>\n",
       "  <tbody>\n",
       "    <tr>\n",
       "      <td>0</td>\n",
       "      <td>480</td>\n",
       "      <td>undefined</td>\n",
       "      <td>1993.00</td>\n",
       "      <td>manual</td>\n",
       "      <td>0</td>\n",
       "      <td>golf</td>\n",
       "      <td>150000</td>\n",
       "      <td>petrol</td>\n",
       "      <td>volkswagen</td>\n",
       "      <td>undefined</td>\n",
       "    </tr>\n",
       "    <tr>\n",
       "      <td>1</td>\n",
       "      <td>18300</td>\n",
       "      <td>coupe</td>\n",
       "      <td>2011.42</td>\n",
       "      <td>manual</td>\n",
       "      <td>190</td>\n",
       "      <td>undefined</td>\n",
       "      <td>125000</td>\n",
       "      <td>gasoline</td>\n",
       "      <td>audi</td>\n",
       "      <td>yes</td>\n",
       "    </tr>\n",
       "    <tr>\n",
       "      <td>2</td>\n",
       "      <td>9800</td>\n",
       "      <td>suv</td>\n",
       "      <td>2004.67</td>\n",
       "      <td>auto</td>\n",
       "      <td>163</td>\n",
       "      <td>grand</td>\n",
       "      <td>125000</td>\n",
       "      <td>gasoline</td>\n",
       "      <td>jeep</td>\n",
       "      <td>undefined</td>\n",
       "    </tr>\n",
       "    <tr>\n",
       "      <td>3</td>\n",
       "      <td>1500</td>\n",
       "      <td>small</td>\n",
       "      <td>2001.50</td>\n",
       "      <td>manual</td>\n",
       "      <td>75</td>\n",
       "      <td>golf</td>\n",
       "      <td>150000</td>\n",
       "      <td>petrol</td>\n",
       "      <td>volkswagen</td>\n",
       "      <td>no</td>\n",
       "    </tr>\n",
       "    <tr>\n",
       "      <td>4</td>\n",
       "      <td>3600</td>\n",
       "      <td>small</td>\n",
       "      <td>2008.58</td>\n",
       "      <td>manual</td>\n",
       "      <td>69</td>\n",
       "      <td>fabia</td>\n",
       "      <td>90000</td>\n",
       "      <td>gasoline</td>\n",
       "      <td>skoda</td>\n",
       "      <td>no</td>\n",
       "    </tr>\n",
       "  </tbody>\n",
       "</table>\n",
       "</div>"
      ],
      "text/plain": [
       "   Price VehicleType  RegistrationYear Gearbox  Power      Model  Kilometer  \\\n",
       "0    480   undefined           1993.00  manual      0       golf     150000   \n",
       "1  18300       coupe           2011.42  manual    190  undefined     125000   \n",
       "2   9800         suv           2004.67    auto    163      grand     125000   \n",
       "3   1500       small           2001.50  manual     75       golf     150000   \n",
       "4   3600       small           2008.58  manual     69      fabia      90000   \n",
       "\n",
       "   FuelType       Brand NotRepaired  \n",
       "0    petrol  volkswagen   undefined  \n",
       "1  gasoline        audi         yes  \n",
       "2  gasoline        jeep   undefined  \n",
       "3    petrol  volkswagen          no  \n",
       "4  gasoline       skoda          no  "
      ]
     },
     "execution_count": 32,
     "metadata": {},
     "output_type": "execute_result"
    }
   ],
   "source": [
    "data_1.head()"
   ]
  },
  {
   "cell_type": "markdown",
   "metadata": {},
   "source": [
    "**Второй датасет**"
   ]
  },
  {
   "cell_type": "code",
   "execution_count": 33,
   "metadata": {},
   "outputs": [
    {
     "name": "stdout",
     "output_type": "stream",
     "text": [
      "<class 'pandas.core.frame.DataFrame'>\n",
      "Int64Index: 354059 entries, 0 to 354368\n",
      "Columns: 312 entries, Price to NotRepaired_yes\n",
      "dtypes: float64(3), int64(1), uint8(308)\n",
      "memory usage: 117.5 MB\n"
     ]
    }
   ],
   "source": [
    "data_2.info()"
   ]
  },
  {
   "cell_type": "code",
   "execution_count": 34,
   "metadata": {},
   "outputs": [
    {
     "data": {
      "text/html": [
       "<div>\n",
       "<style scoped>\n",
       "    .dataframe tbody tr th:only-of-type {\n",
       "        vertical-align: middle;\n",
       "    }\n",
       "\n",
       "    .dataframe tbody tr th {\n",
       "        vertical-align: top;\n",
       "    }\n",
       "\n",
       "    .dataframe thead th {\n",
       "        text-align: right;\n",
       "    }\n",
       "</style>\n",
       "<table border=\"1\" class=\"dataframe\">\n",
       "  <thead>\n",
       "    <tr style=\"text-align: right;\">\n",
       "      <th></th>\n",
       "      <th>Price</th>\n",
       "      <th>RegistrationYear</th>\n",
       "      <th>Power</th>\n",
       "      <th>Kilometer</th>\n",
       "      <th>VehicleType_convertible</th>\n",
       "      <th>VehicleType_coupe</th>\n",
       "      <th>VehicleType_other</th>\n",
       "      <th>VehicleType_sedan</th>\n",
       "      <th>VehicleType_small</th>\n",
       "      <th>VehicleType_suv</th>\n",
       "      <th>...</th>\n",
       "      <th>Brand_smart</th>\n",
       "      <th>Brand_sonstige_autos</th>\n",
       "      <th>Brand_subaru</th>\n",
       "      <th>Brand_suzuki</th>\n",
       "      <th>Brand_toyota</th>\n",
       "      <th>Brand_trabant</th>\n",
       "      <th>Brand_volkswagen</th>\n",
       "      <th>Brand_volvo</th>\n",
       "      <th>NotRepaired_undefined</th>\n",
       "      <th>NotRepaired_yes</th>\n",
       "    </tr>\n",
       "  </thead>\n",
       "  <tbody>\n",
       "    <tr>\n",
       "      <td>0</td>\n",
       "      <td>480</td>\n",
       "      <td>-0.745180</td>\n",
       "      <td>-1.596284</td>\n",
       "      <td>0.574692</td>\n",
       "      <td>0</td>\n",
       "      <td>0</td>\n",
       "      <td>0</td>\n",
       "      <td>0</td>\n",
       "      <td>0</td>\n",
       "      <td>0</td>\n",
       "      <td>...</td>\n",
       "      <td>0</td>\n",
       "      <td>0</td>\n",
       "      <td>0</td>\n",
       "      <td>0</td>\n",
       "      <td>0</td>\n",
       "      <td>0</td>\n",
       "      <td>1</td>\n",
       "      <td>0</td>\n",
       "      <td>1</td>\n",
       "      <td>0</td>\n",
       "    </tr>\n",
       "    <tr>\n",
       "      <td>1</td>\n",
       "      <td>18300</td>\n",
       "      <td>0.573288</td>\n",
       "      <td>1.239119</td>\n",
       "      <td>-0.085816</td>\n",
       "      <td>0</td>\n",
       "      <td>1</td>\n",
       "      <td>0</td>\n",
       "      <td>0</td>\n",
       "      <td>0</td>\n",
       "      <td>0</td>\n",
       "      <td>...</td>\n",
       "      <td>0</td>\n",
       "      <td>0</td>\n",
       "      <td>0</td>\n",
       "      <td>0</td>\n",
       "      <td>0</td>\n",
       "      <td>0</td>\n",
       "      <td>0</td>\n",
       "      <td>0</td>\n",
       "      <td>0</td>\n",
       "      <td>1</td>\n",
       "    </tr>\n",
       "    <tr>\n",
       "      <td>2</td>\n",
       "      <td>9800</td>\n",
       "      <td>0.090136</td>\n",
       "      <td>0.836193</td>\n",
       "      <td>-0.085816</td>\n",
       "      <td>0</td>\n",
       "      <td>0</td>\n",
       "      <td>0</td>\n",
       "      <td>0</td>\n",
       "      <td>0</td>\n",
       "      <td>1</td>\n",
       "      <td>...</td>\n",
       "      <td>0</td>\n",
       "      <td>0</td>\n",
       "      <td>0</td>\n",
       "      <td>0</td>\n",
       "      <td>0</td>\n",
       "      <td>0</td>\n",
       "      <td>0</td>\n",
       "      <td>0</td>\n",
       "      <td>1</td>\n",
       "      <td>0</td>\n",
       "    </tr>\n",
       "    <tr>\n",
       "      <td>3</td>\n",
       "      <td>1500</td>\n",
       "      <td>-0.136767</td>\n",
       "      <td>-0.477046</td>\n",
       "      <td>0.574692</td>\n",
       "      <td>0</td>\n",
       "      <td>0</td>\n",
       "      <td>0</td>\n",
       "      <td>0</td>\n",
       "      <td>1</td>\n",
       "      <td>0</td>\n",
       "      <td>...</td>\n",
       "      <td>0</td>\n",
       "      <td>0</td>\n",
       "      <td>0</td>\n",
       "      <td>0</td>\n",
       "      <td>0</td>\n",
       "      <td>0</td>\n",
       "      <td>1</td>\n",
       "      <td>0</td>\n",
       "      <td>0</td>\n",
       "      <td>0</td>\n",
       "    </tr>\n",
       "    <tr>\n",
       "      <td>4</td>\n",
       "      <td>3600</td>\n",
       "      <td>0.370006</td>\n",
       "      <td>-0.566585</td>\n",
       "      <td>-1.010528</td>\n",
       "      <td>0</td>\n",
       "      <td>0</td>\n",
       "      <td>0</td>\n",
       "      <td>0</td>\n",
       "      <td>1</td>\n",
       "      <td>0</td>\n",
       "      <td>...</td>\n",
       "      <td>0</td>\n",
       "      <td>0</td>\n",
       "      <td>0</td>\n",
       "      <td>0</td>\n",
       "      <td>0</td>\n",
       "      <td>0</td>\n",
       "      <td>0</td>\n",
       "      <td>0</td>\n",
       "      <td>0</td>\n",
       "      <td>0</td>\n",
       "    </tr>\n",
       "  </tbody>\n",
       "</table>\n",
       "<p>5 rows × 312 columns</p>\n",
       "</div>"
      ],
      "text/plain": [
       "   Price  RegistrationYear     Power  Kilometer  VehicleType_convertible  \\\n",
       "0    480         -0.745180 -1.596284   0.574692                        0   \n",
       "1  18300          0.573288  1.239119  -0.085816                        0   \n",
       "2   9800          0.090136  0.836193  -0.085816                        0   \n",
       "3   1500         -0.136767 -0.477046   0.574692                        0   \n",
       "4   3600          0.370006 -0.566585  -1.010528                        0   \n",
       "\n",
       "   VehicleType_coupe  VehicleType_other  VehicleType_sedan  VehicleType_small  \\\n",
       "0                  0                  0                  0                  0   \n",
       "1                  1                  0                  0                  0   \n",
       "2                  0                  0                  0                  0   \n",
       "3                  0                  0                  0                  1   \n",
       "4                  0                  0                  0                  1   \n",
       "\n",
       "   VehicleType_suv  ...  Brand_smart  Brand_sonstige_autos  Brand_subaru  \\\n",
       "0                0  ...            0                     0             0   \n",
       "1                0  ...            0                     0             0   \n",
       "2                1  ...            0                     0             0   \n",
       "3                0  ...            0                     0             0   \n",
       "4                0  ...            0                     0             0   \n",
       "\n",
       "   Brand_suzuki  Brand_toyota  Brand_trabant  Brand_volkswagen  Brand_volvo  \\\n",
       "0             0             0              0                 1            0   \n",
       "1             0             0              0                 0            0   \n",
       "2             0             0              0                 0            0   \n",
       "3             0             0              0                 1            0   \n",
       "4             0             0              0                 0            0   \n",
       "\n",
       "   NotRepaired_undefined  NotRepaired_yes  \n",
       "0                      1                0  \n",
       "1                      0                1  \n",
       "2                      1                0  \n",
       "3                      0                0  \n",
       "4                      0                0  \n",
       "\n",
       "[5 rows x 312 columns]"
      ]
     },
     "execution_count": 34,
     "metadata": {},
     "output_type": "execute_result"
    }
   ],
   "source": [
    "data_2.head()"
   ]
  },
  {
   "cell_type": "markdown",
   "metadata": {},
   "source": [
    "Аномалий в подготовленных для обучения датасетах не выявлено."
   ]
  },
  {
   "cell_type": "markdown",
   "metadata": {},
   "source": [
    "### Выводы"
   ]
  },
  {
   "cell_type": "markdown",
   "metadata": {},
   "source": [
    "1. Файл с исходными данными (354369х16) загружен и преобразован в датафрейм (source_data).\n",
    "2. Выполнен анализ исходных данных на адекватность. В результате этого из исходного датасета исключены данные с мощностью автомобиля (Power) более 1500 л.с. и годом выпуска более 2021.\n",
    "3. Данные из двух столбцов год выпуска и месяц выпуска слиты в один столбец. Таким образом, два признака преобразованы к одному.\n",
    "4. Выполнена обработка пропусков в категориальных данных: пропуски заменены на \"undefined\".\n",
    "5. Изменен тип категориальных данных с \"object\" на \"category\", который способна обрабатать библиотека lightgb.\n",
    "6. Создана метрика качества rmse (root mean squared error).\n",
    "7. Отдельно подготовлены два датасета: data_1 и data_2. Первый датасет для обучения моделей LGBMRegressor и CatBoostRegressor. Второй для обучения более простых моделей: LinearRegression и RandomForestRegressor. Второй датасет отличается от первого тем, что для него дополнительно выполнено масштабирование численных признаков и кодирование категориальных признаков методом One-Hot Encoding.\n",
    "8. Выполнена разбивка подготовленных датасетов data_1 и data_2 на обучающую и тестовую выборки."
   ]
  },
  {
   "cell_type": "markdown",
   "metadata": {},
   "source": [
    "## Обучение моделей"
   ]
  },
  {
   "cell_type": "markdown",
   "metadata": {},
   "source": [
    "### Модель LGBMRegressor"
   ]
  },
  {
   "cell_type": "markdown",
   "metadata": {},
   "source": [
    "Создадим список гиперпараметров, которые проверим при обучении модели."
   ]
  },
  {
   "cell_type": "code",
   "execution_count": 35,
   "metadata": {},
   "outputs": [],
   "source": [
    "param_grid = {\n",
    "   \"n_estimators\": [20, 60],\n",
    "    \"learning_rate\": [0.5, 0.1]\n",
    "}"
   ]
  },
  {
   "cell_type": "markdown",
   "metadata": {},
   "source": [
    "Найдем оптимальные гиперпараметры модели при помощи метрики rmse и GridSearchCV."
   ]
  },
  {
   "cell_type": "code",
   "execution_count": 36,
   "metadata": {
    "scrolled": true
   },
   "outputs": [
    {
     "data": {
      "text/plain": [
       "{'learning_rate': 0.5, 'n_estimators': 60}"
      ]
     },
     "execution_count": 36,
     "metadata": {},
     "output_type": "execute_result"
    }
   ],
   "source": [
    "LGBMRegressor = LGBMRegressor(seed=56789)\n",
    "search_lightgb = GridSearchCV(estimator=LGBMRegressor, param_grid=param_grid, cv=5, scoring=rmse_score)\n",
    "search_lightgb.fit(x_1_train, y_1_train)\n",
    "search_lightgb.best_params_"
   ]
  },
  {
   "cell_type": "markdown",
   "metadata": {},
   "source": [
    "Гиперпараметры лучшей модели: learning_rate=0.5 и n_estimators=60. Выведим метрику rmse при использовании лучших гиперпараметров."
   ]
  },
  {
   "cell_type": "code",
   "execution_count": 37,
   "metadata": {},
   "outputs": [
    {
     "data": {
      "text/plain": [
       "1786.5129893234591"
      ]
     },
     "execution_count": 37,
     "metadata": {},
     "output_type": "execute_result"
    }
   ],
   "source": [
    "search_lightgb.best_score_ * (-1)"
   ]
  },
  {
   "cell_type": "markdown",
   "metadata": {},
   "source": [
    "### Модель CatBoostRegressor"
   ]
  },
  {
   "cell_type": "markdown",
   "metadata": {},
   "source": [
    "Список параметров, проверяемых при обучении модели, возьмем таким же как для модели LGBMRegressor (список param_grid). Далее найдем оптимальные гиперпараметры модели при помощи метрики rmse и GridSearchCV."
   ]
  },
  {
   "cell_type": "code",
   "execution_count": 38,
   "metadata": {},
   "outputs": [
    {
     "data": {
      "text/plain": [
       "{'learning_rate': 0.5, 'n_estimators': 60}"
      ]
     },
     "execution_count": 38,
     "metadata": {},
     "output_type": "execute_result"
    }
   ],
   "source": [
    "CatBoostRegressor = CatBoostRegressor(cat_features=categorial, silent=True, random_seed=56789)\n",
    "search_catboost = GridSearchCV(estimator=CatBoostRegressor, param_grid=param_grid, cv=5, scoring=rmse_score)\n",
    "search_catboost.fit(x_1_train, y_1_train)\n",
    "search_catboost.best_params_"
   ]
  },
  {
   "cell_type": "markdown",
   "metadata": {},
   "source": [
    "Гиперпараметры лучшей модели: learning_rate=0.5 и n_estimators=60. Выведим метрику rmse при использовании лучших гиперпараметров."
   ]
  },
  {
   "cell_type": "code",
   "execution_count": 39,
   "metadata": {},
   "outputs": [
    {
     "data": {
      "text/plain": [
       "1861.8684565353244"
      ]
     },
     "execution_count": 39,
     "metadata": {},
     "output_type": "execute_result"
    }
   ],
   "source": [
    "search_catboost.best_score_ * (-1)"
   ]
  },
  {
   "cell_type": "markdown",
   "metadata": {},
   "source": [
    "### Модель LinearRegression"
   ]
  },
  {
   "cell_type": "markdown",
   "metadata": {},
   "source": [
    "Выполним обучение модели LinearRegression и оценим ее качество при помощи метрики rmse и кросс-валидации."
   ]
  },
  {
   "cell_type": "code",
   "execution_count": 40,
   "metadata": {
    "scrolled": true
   },
   "outputs": [
    {
     "name": "stdout",
     "output_type": "stream",
     "text": [
      "2980.0134972252995\n"
     ]
    }
   ],
   "source": [
    "LinearRegression = LinearRegression()\n",
    "scores = cross_val_score(LinearRegression, x_2_train, y_2_train, cv=5, scoring=rmse_score)\n",
    "print(scores.mean() * (-1))"
   ]
  },
  {
   "cell_type": "markdown",
   "metadata": {},
   "source": [
    "### Модель RandomForestRegressor"
   ]
  },
  {
   "cell_type": "markdown",
   "metadata": {},
   "source": [
    "Выполним обучение модели RandomForestRegressor и оценим ее качество при помощи метрики rmse и кросс-валидации. При этом для сравнения с лучшей моделью CatBoostRegressor примем количество деревьев равным 60, а максимальную глубину равной 6 (у лучшей модели CatBoostRegressor n_estimators=60, а максимальная глубина по умолчанию равна 6)."
   ]
  },
  {
   "cell_type": "code",
   "execution_count": 41,
   "metadata": {},
   "outputs": [
    {
     "name": "stdout",
     "output_type": "stream",
     "text": [
      "2367.8509915109025\n"
     ]
    }
   ],
   "source": [
    "RandomForestRegressor = RandomForestRegressor(random_state=56789, n_estimators=60, max_depth=6)\n",
    "scores = cross_val_score(RandomForestRegressor, x_2, y_2, cv=5, scoring=rmse_score)\n",
    "print(scores.mean() * (-1))"
   ]
  },
  {
   "cell_type": "markdown",
   "metadata": {},
   "source": [
    "### Выводы"
   ]
  },
  {
   "cell_type": "markdown",
   "metadata": {},
   "source": [
    "1. Выполнено обучение двух моделей градиентного бустинга: LGBMRegressor и CatBoostRegressor. Для данных моделей выполнен подбор оптимальных гиперпараметров.\n",
    "2. Дополнительно выполнено обучение двух более простых моделей: LinearRegression и RandomForestRegressor."
   ]
  },
  {
   "cell_type": "markdown",
   "metadata": {},
   "source": [
    "## Анализ моделей"
   ]
  },
  {
   "cell_type": "markdown",
   "metadata": {},
   "source": [
    "При анализе моделей будем оценивать следующие параметры:\n",
    "* время затраченное на обучение модели;\n",
    "* время затраченное на предсказание модели; \n",
    "* качество модели на основании метрики rmse (оценивается на тестовой выборке)."
   ]
  },
  {
   "cell_type": "markdown",
   "metadata": {},
   "source": [
    "Всего будем рассматривать четыре модели: две модели градиентного бустинга с лучшими гиперпарметрами: LGBMRegressor и CatBoostRegressor, а также две более простые модели: LinearRegression RandomForestRegressor. Создадим список содержащий данные модели."
   ]
  },
  {
   "cell_type": "code",
   "execution_count": 42,
   "metadata": {},
   "outputs": [],
   "source": [
    "models_list = [search_lightgb.best_estimator_, search_catboost.best_estimator_, LinearRegression, RandomForestRegressor]"
   ]
  },
  {
   "cell_type": "markdown",
   "metadata": {},
   "source": [
    "Для автоматизации процесса анализа модели создадим два цикла. Первый цикл для моделей градиентного бустинга, второй для простых моделей. Необходимость создания двух циклов обусловлена тем, что модели градиентного бустинга и простые модели обучаются на различных данных."
   ]
  },
  {
   "cell_type": "code",
   "execution_count": 43,
   "metadata": {},
   "outputs": [
    {
     "name": "stdout",
     "output_type": "stream",
     "text": [
      "LGBMRegressor\n",
      "Время обучения модели в секундах: 21.401527881622314\n",
      "Время предсказания модели в секундах: 0.506218433380127\n",
      "RMSE модели: 1777.9700695965257\n",
      "\n",
      "CatBoostRegressor\n",
      "Время обучения модели в секундах: 27.44478130340576\n",
      "Время предсказания модели в секундах: 0.14891338348388672\n",
      "RMSE модели: 1860.8411404141493\n",
      "\n",
      "LinearRegression\n",
      "Время обучения модели в секундах: 29.38901376724243\n",
      "Время предсказания модели в секундах: 0.19929909706115723\n",
      "RMSE модели: 2966.4877486514783\n",
      "\n",
      "RandomForestRegressor\n",
      "Время обучения модели в секундах: 175.84683203697205\n",
      "Время предсказания модели в секундах: 0.50154709815979\n",
      "RMSE модели: 2364.7422911855774\n",
      "\n"
     ]
    }
   ],
   "source": [
    "x_y_list = [\n",
    "    [x_1_train, y_1_train, x_1_test, y_1_test], \n",
    "    [x_1_train, y_1_train, x_1_test, y_1_test], \n",
    "    [x_2_train, y_2_train, x_2_test, y_2_test], \n",
    "    [x_2_train, y_2_train, x_2_test, y_2_test]\n",
    "]\n",
    "model_names_list = [\"LGBMRegressor\", \"CatBoostRegressor\", \"LinearRegression\", \"RandomForestRegressor\"]\n",
    "for model, model_name, x_y in zip(models_list, model_names_list, x_y_list): \n",
    "    fit_start = time.time()\n",
    "    model.fit(x_y[0], x_y[1])\n",
    "    fit_end = time.time()\n",
    "    fit_time = fit_end - fit_start\n",
    "    pred_start = time.time()\n",
    "    predictions = model.predict(x_y[2])\n",
    "    pred_end = time.time()\n",
    "    pred_time = pred_end - pred_start\n",
    "    score = rmse(x_y[3], predictions)\n",
    "    print(model_name)\n",
    "    print(\"Время обучения модели в секундах:\", fit_time)\n",
    "    print(\"Время предсказания модели в секундах:\", pred_time)\n",
    "    print(\"RMSE модели:\", score)\n",
    "    print()"
   ]
  },
  {
   "cell_type": "markdown",
   "metadata": {},
   "source": [
    "Для проверки адекватности моделей дополнительно подсчитаем RMSE для медианной модели."
   ]
  },
  {
   "cell_type": "code",
   "execution_count": 44,
   "metadata": {
    "scrolled": true
   },
   "outputs": [
    {
     "name": "stdout",
     "output_type": "stream",
     "text": [
      "RMSE медианной модели: 4807.565345744256\n"
     ]
    }
   ],
   "source": [
    "y_median = pd.Series(y_2_train.median(), index=y_2_test.index)\n",
    "print(\"RMSE медианной модели:\", rmse(y_2_test, y_median))"
   ]
  },
  {
   "cell_type": "markdown",
   "metadata": {},
   "source": [
    "### Выводы"
   ]
  },
  {
   "cell_type": "markdown",
   "metadata": {},
   "source": [
    "1. Наименьшее время обучения сответствует модели LGBMRegressor (21,4 с). Наибольшее время обучения соответствует модели RandomForestRegressor (175,8 с).\n",
    "2. Наименьшее время предсказания соответствует модели CatBoostRegressor (0,15 с), наибольшее - модели LGBMRegressor (0,51 с).\n",
    "3. Лучшая оценка качества RMSE соответствует модели LGBMRegressor (RMSE = 1778), немного отстает от нее модель CatBoostRegressor (RMSE = 1861). Худшая оценка качества RMSE соответствует модели LinearRegression (RMSE = 2996) - самой простой из рассматриваемых моделей.\n",
    "4. Оценка качества RMSE всех четырех рассматриваемых моделей существенно превосходит данную оценку для медианной модели (RMSE = 4808), что говорит об адекватности данных моделей."
   ]
  },
  {
   "cell_type": "markdown",
   "metadata": {},
   "source": [
    "## Чек-лист проверки"
   ]
  },
  {
   "cell_type": "markdown",
   "metadata": {},
   "source": [
    "Поставьте 'x' в выполненных пунктах. Далее нажмите Shift+Enter."
   ]
  },
  {
   "cell_type": "markdown",
   "metadata": {},
   "source": [
    "- [x]  Jupyter Notebook открыт\n",
    "- [x]  Весь код выполняется без ошибок\n",
    "- [x]  Ячейки с кодом расположены в порядке исполнения\n",
    "- [x]  Выполнена загрузка и подготовка данных\n",
    "- [x]  Выполнено обучение моделей\n",
    "- [x]  Есть анализ скорости работы и качества моделей"
   ]
  },
  {
   "cell_type": "code",
   "execution_count": null,
   "metadata": {},
   "outputs": [],
   "source": []
  }
 ],
 "metadata": {
  "ExecuteTimeLog": [
   {
    "duration": 1051,
    "start_time": "2021-08-12T21:38:26.433Z"
   },
   {
    "duration": 795,
    "start_time": "2021-08-12T21:38:27.486Z"
   },
   {
    "duration": 119,
    "start_time": "2021-08-12T21:38:28.283Z"
   },
   {
    "duration": 14,
    "start_time": "2021-08-12T21:38:28.404Z"
   },
   {
    "duration": 1114,
    "start_time": "2021-08-13T06:50:08.885Z"
   },
   {
    "duration": 799,
    "start_time": "2021-08-13T06:50:10.000Z"
   },
   {
    "duration": 312,
    "start_time": "2021-08-13T06:50:10.801Z"
   },
   {
    "duration": 4075,
    "start_time": "2021-08-13T06:50:07.040Z"
   },
   {
    "duration": 4067,
    "start_time": "2021-08-13T06:50:07.049Z"
   },
   {
    "duration": 4060,
    "start_time": "2021-08-13T06:50:07.057Z"
   },
   {
    "duration": 119,
    "start_time": "2021-08-13T06:50:18.553Z"
   },
   {
    "duration": 16,
    "start_time": "2021-08-13T06:50:19.266Z"
   },
   {
    "duration": 98,
    "start_time": "2021-08-13T06:50:19.946Z"
   },
   {
    "duration": 179,
    "start_time": "2021-08-13T06:50:20.622Z"
   },
   {
    "duration": 119,
    "start_time": "2021-08-13T06:50:42.700Z"
   },
   {
    "duration": 119,
    "start_time": "2021-08-13T06:53:21.985Z"
   },
   {
    "duration": 114,
    "start_time": "2021-08-13T07:05:49.075Z"
   },
   {
    "duration": 116,
    "start_time": "2021-08-13T07:05:54.459Z"
   },
   {
    "duration": 34,
    "start_time": "2021-08-13T07:56:48.150Z"
   },
   {
    "duration": 33,
    "start_time": "2021-08-13T07:57:23.845Z"
   },
   {
    "duration": 34,
    "start_time": "2021-08-13T08:14:06.757Z"
   },
   {
    "duration": 195,
    "start_time": "2021-08-13T08:15:03.580Z"
   },
   {
    "duration": 42,
    "start_time": "2021-08-13T08:16:25.706Z"
   },
   {
    "duration": 62,
    "start_time": "2021-08-13T09:52:59.919Z"
   },
   {
    "duration": 117,
    "start_time": "2021-08-13T09:53:42.596Z"
   },
   {
    "duration": 31,
    "start_time": "2021-08-13T17:43:37.858Z"
   },
   {
    "duration": 3,
    "start_time": "2021-08-13T17:55:02.355Z"
   },
   {
    "duration": 6,
    "start_time": "2021-08-13T17:55:04.354Z"
   },
   {
    "duration": 6,
    "start_time": "2021-08-13T17:55:33.360Z"
   },
   {
    "duration": 5,
    "start_time": "2021-08-13T17:55:39.106Z"
   },
   {
    "duration": 6,
    "start_time": "2021-08-13T17:55:40.156Z"
   },
   {
    "duration": 6,
    "start_time": "2021-08-13T17:56:25.056Z"
   },
   {
    "duration": 6,
    "start_time": "2021-08-13T17:57:09.654Z"
   },
   {
    "duration": 6,
    "start_time": "2021-08-13T17:58:31.592Z"
   },
   {
    "duration": 356,
    "start_time": "2021-08-13T18:09:44.758Z"
   },
   {
    "duration": 339,
    "start_time": "2021-08-13T18:35:03.517Z"
   },
   {
    "duration": 16,
    "start_time": "2021-08-13T18:36:09.787Z"
   },
   {
    "duration": 6,
    "start_time": "2021-08-13T18:37:45.253Z"
   },
   {
    "duration": 184,
    "start_time": "2021-08-13T18:38:07.837Z"
   },
   {
    "duration": 6,
    "start_time": "2021-08-13T18:38:17.103Z"
   },
   {
    "duration": 6,
    "start_time": "2021-08-13T18:38:39.432Z"
   },
   {
    "duration": 61,
    "start_time": "2021-08-13T18:39:05.566Z"
   },
   {
    "duration": 6,
    "start_time": "2021-08-13T18:39:24.453Z"
   },
   {
    "duration": 347,
    "start_time": "2021-08-13T18:39:43.738Z"
   },
   {
    "duration": 82,
    "start_time": "2021-08-13T18:52:58.973Z"
   },
   {
    "duration": 61,
    "start_time": "2021-08-13T18:54:24.368Z"
   },
   {
    "duration": 177,
    "start_time": "2021-08-13T18:54:36.804Z"
   },
   {
    "duration": 173,
    "start_time": "2021-08-13T18:55:01.971Z"
   },
   {
    "duration": 1479,
    "start_time": "2021-08-15T08:28:29.461Z"
   },
   {
    "duration": 1084,
    "start_time": "2021-08-15T08:28:30.943Z"
   },
   {
    "duration": 180,
    "start_time": "2021-08-15T08:28:32.030Z"
   },
   {
    "duration": 25,
    "start_time": "2021-08-15T08:28:32.213Z"
   },
   {
    "duration": 121,
    "start_time": "2021-08-15T08:28:32.254Z"
   },
   {
    "duration": 163,
    "start_time": "2021-08-15T08:28:32.378Z"
   },
   {
    "duration": 52,
    "start_time": "2021-08-15T08:28:32.543Z"
   },
   {
    "duration": 58,
    "start_time": "2021-08-15T08:28:32.598Z"
   },
   {
    "duration": 47,
    "start_time": "2021-08-15T08:28:32.658Z"
   },
   {
    "duration": 59,
    "start_time": "2021-08-15T08:28:32.707Z"
   },
   {
    "duration": 276,
    "start_time": "2021-08-15T08:28:32.769Z"
   },
   {
    "duration": 564,
    "start_time": "2021-08-15T08:28:33.048Z"
   },
   {
    "duration": 8,
    "start_time": "2021-08-15T08:28:33.614Z"
   },
   {
    "duration": 109,
    "start_time": "2021-08-15T08:28:33.624Z"
   },
   {
    "duration": 19,
    "start_time": "2021-08-15T08:28:33.735Z"
   },
   {
    "duration": 69,
    "start_time": "2021-08-15T08:28:33.756Z"
   },
   {
    "duration": 257,
    "start_time": "2021-08-15T08:28:33.827Z"
   },
   {
    "duration": 542,
    "start_time": "2021-08-15T08:29:44.573Z"
   },
   {
    "duration": 594,
    "start_time": "2021-08-15T08:29:52.600Z"
   },
   {
    "duration": 548,
    "start_time": "2021-08-15T08:29:58.477Z"
   },
   {
    "duration": 571,
    "start_time": "2021-08-15T08:30:11.271Z"
   },
   {
    "duration": 590,
    "start_time": "2021-08-15T08:30:16.107Z"
   },
   {
    "duration": 399,
    "start_time": "2021-08-15T08:30:25.312Z"
   },
   {
    "duration": 92,
    "start_time": "2021-08-15T08:32:41.890Z"
   },
   {
    "duration": 117,
    "start_time": "2021-08-15T08:32:51.875Z"
   },
   {
    "duration": 10,
    "start_time": "2021-08-15T08:33:59.566Z"
   },
   {
    "duration": 8,
    "start_time": "2021-08-15T08:34:22.398Z"
   },
   {
    "duration": 13,
    "start_time": "2021-08-15T09:13:58.516Z"
   },
   {
    "duration": 158,
    "start_time": "2021-08-15T09:14:09.517Z"
   },
   {
    "duration": 21,
    "start_time": "2021-08-15T09:14:22.408Z"
   },
   {
    "duration": 1858,
    "start_time": "2021-08-15T09:15:31.980Z"
   },
   {
    "duration": 1169,
    "start_time": "2021-08-15T09:15:33.841Z"
   },
   {
    "duration": 168,
    "start_time": "2021-08-15T09:15:35.013Z"
   },
   {
    "duration": 25,
    "start_time": "2021-08-15T09:15:35.184Z"
   },
   {
    "duration": 147,
    "start_time": "2021-08-15T09:15:35.211Z"
   },
   {
    "duration": 181,
    "start_time": "2021-08-15T09:15:35.360Z"
   },
   {
    "duration": 52,
    "start_time": "2021-08-15T09:15:35.543Z"
   },
   {
    "duration": 67,
    "start_time": "2021-08-15T09:15:35.598Z"
   },
   {
    "duration": 73,
    "start_time": "2021-08-15T09:15:35.669Z"
   },
   {
    "duration": 67,
    "start_time": "2021-08-15T09:15:35.745Z"
   },
   {
    "duration": 259,
    "start_time": "2021-08-15T09:15:35.814Z"
   },
   {
    "duration": 564,
    "start_time": "2021-08-15T09:15:36.075Z"
   },
   {
    "duration": 13,
    "start_time": "2021-08-15T09:15:36.642Z"
   },
   {
    "duration": 112,
    "start_time": "2021-08-15T09:15:36.658Z"
   },
   {
    "duration": 8,
    "start_time": "2021-08-15T09:15:36.773Z"
   },
   {
    "duration": 82,
    "start_time": "2021-08-15T09:15:36.783Z"
   },
   {
    "duration": 255,
    "start_time": "2021-08-15T09:15:36.867Z"
   },
   {
    "duration": 415,
    "start_time": "2021-08-15T09:15:37.124Z"
   },
   {
    "duration": 16,
    "start_time": "2021-08-15T09:15:37.541Z"
   },
   {
    "duration": 107,
    "start_time": "2021-08-15T09:15:37.559Z"
   },
   {
    "duration": 129,
    "start_time": "2021-08-15T09:15:37.668Z"
   },
   {
    "duration": 14,
    "start_time": "2021-08-15T09:15:37.799Z"
   },
   {
    "duration": 181,
    "start_time": "2021-08-15T09:15:37.816Z"
   },
   {
    "duration": 23,
    "start_time": "2021-08-15T09:15:37.999Z"
   },
   {
    "duration": 572,
    "start_time": "2021-08-15T10:10:16.629Z"
   },
   {
    "duration": 590,
    "start_time": "2021-08-15T10:11:14.242Z"
   },
   {
    "duration": 596,
    "start_time": "2021-08-15T10:22:58.714Z"
   },
   {
    "duration": 589,
    "start_time": "2021-08-15T10:23:49.895Z"
   },
   {
    "duration": 1520,
    "start_time": "2021-08-15T20:54:47.380Z"
   },
   {
    "duration": 1088,
    "start_time": "2021-08-15T20:54:48.903Z"
   },
   {
    "duration": 185,
    "start_time": "2021-08-15T20:54:49.994Z"
   },
   {
    "duration": 25,
    "start_time": "2021-08-15T20:54:50.182Z"
   },
   {
    "duration": 153,
    "start_time": "2021-08-15T20:54:50.210Z"
   },
   {
    "duration": 259,
    "start_time": "2021-08-15T20:54:50.366Z"
   },
   {
    "duration": 90,
    "start_time": "2021-08-15T20:54:50.628Z"
   },
   {
    "duration": 64,
    "start_time": "2021-08-15T20:54:50.723Z"
   },
   {
    "duration": 63,
    "start_time": "2021-08-15T20:54:50.791Z"
   },
   {
    "duration": 45,
    "start_time": "2021-08-15T20:54:50.856Z"
   },
   {
    "duration": 293,
    "start_time": "2021-08-15T20:54:50.903Z"
   },
   {
    "duration": 555,
    "start_time": "2021-08-15T20:54:51.199Z"
   },
   {
    "duration": 9,
    "start_time": "2021-08-15T20:54:51.756Z"
   },
   {
    "duration": 122,
    "start_time": "2021-08-15T20:54:51.768Z"
   },
   {
    "duration": 8,
    "start_time": "2021-08-15T20:54:51.892Z"
   },
   {
    "duration": 91,
    "start_time": "2021-08-15T20:54:51.903Z"
   },
   {
    "duration": 256,
    "start_time": "2021-08-15T20:54:51.996Z"
   },
   {
    "duration": 415,
    "start_time": "2021-08-15T20:54:52.255Z"
   },
   {
    "duration": 10,
    "start_time": "2021-08-15T20:54:52.673Z"
   },
   {
    "duration": 126,
    "start_time": "2021-08-15T20:54:52.686Z"
   },
   {
    "duration": 132,
    "start_time": "2021-08-15T20:54:52.815Z"
   },
   {
    "duration": 14,
    "start_time": "2021-08-15T20:54:52.950Z"
   },
   {
    "duration": 230,
    "start_time": "2021-08-15T20:54:52.969Z"
   },
   {
    "duration": 32,
    "start_time": "2021-08-15T20:54:53.203Z"
   },
   {
    "duration": 838,
    "start_time": "2021-08-15T20:54:53.238Z"
   },
   {
    "duration": 921,
    "start_time": "2021-08-15T20:54:54.080Z"
   },
   {
    "duration": 643,
    "start_time": "2021-08-15T20:54:55.003Z"
   },
   {
    "duration": 61,
    "start_time": "2021-08-15T20:54:55.649Z"
   },
   {
    "duration": 87,
    "start_time": "2021-08-15T20:54:55.714Z"
   },
   {
    "duration": 273,
    "start_time": "2021-08-15T20:54:55.803Z"
   },
   {
    "duration": 4,
    "start_time": "2021-08-15T20:54:56.079Z"
   },
   {
    "duration": 10,
    "start_time": "2021-08-15T20:54:56.086Z"
   },
   {
    "duration": 322,
    "start_time": "2021-08-15T20:54:56.099Z"
   },
   {
    "duration": 386,
    "start_time": "2021-08-15T21:24:38.344Z"
   },
   {
    "duration": 6,
    "start_time": "2021-08-15T21:26:26.399Z"
   },
   {
    "duration": 517,
    "start_time": "2021-08-15T21:27:02.208Z"
   },
   {
    "duration": 1618,
    "start_time": "2021-08-17T09:34:10.948Z"
   },
   {
    "duration": 1109,
    "start_time": "2021-08-17T09:34:12.569Z"
   },
   {
    "duration": 165,
    "start_time": "2021-08-17T09:34:13.692Z"
   },
   {
    "duration": 28,
    "start_time": "2021-08-17T09:34:13.862Z"
   },
   {
    "duration": 152,
    "start_time": "2021-08-17T09:34:13.893Z"
   },
   {
    "duration": 161,
    "start_time": "2021-08-17T09:34:14.048Z"
   },
   {
    "duration": 54,
    "start_time": "2021-08-17T09:34:14.213Z"
   },
   {
    "duration": 45,
    "start_time": "2021-08-17T09:34:14.270Z"
   },
   {
    "duration": 73,
    "start_time": "2021-08-17T09:34:14.318Z"
   },
   {
    "duration": 44,
    "start_time": "2021-08-17T09:34:14.393Z"
   },
   {
    "duration": 288,
    "start_time": "2021-08-17T09:34:14.439Z"
   },
   {
    "duration": 567,
    "start_time": "2021-08-17T09:34:14.730Z"
   },
   {
    "duration": 9,
    "start_time": "2021-08-17T09:34:15.299Z"
   },
   {
    "duration": 127,
    "start_time": "2021-08-17T09:34:15.311Z"
   },
   {
    "duration": 23,
    "start_time": "2021-08-17T09:34:15.440Z"
   },
   {
    "duration": 70,
    "start_time": "2021-08-17T09:34:15.466Z"
   },
   {
    "duration": 261,
    "start_time": "2021-08-17T09:34:15.538Z"
   },
   {
    "duration": 423,
    "start_time": "2021-08-17T09:34:15.802Z"
   },
   {
    "duration": 8,
    "start_time": "2021-08-17T09:34:16.228Z"
   },
   {
    "duration": 109,
    "start_time": "2021-08-17T09:34:16.239Z"
   },
   {
    "duration": 137,
    "start_time": "2021-08-17T09:34:16.350Z"
   },
   {
    "duration": 14,
    "start_time": "2021-08-17T09:34:16.492Z"
   },
   {
    "duration": 191,
    "start_time": "2021-08-17T09:34:16.509Z"
   },
   {
    "duration": 21,
    "start_time": "2021-08-17T09:34:16.703Z"
   },
   {
    "duration": 643,
    "start_time": "2021-08-17T09:34:16.727Z"
   },
   {
    "duration": 895,
    "start_time": "2021-08-17T09:34:17.373Z"
   },
   {
    "duration": 918,
    "start_time": "2021-08-17T09:34:18.271Z"
   },
   {
    "duration": 57,
    "start_time": "2021-08-17T09:34:19.192Z"
   },
   {
    "duration": 33,
    "start_time": "2021-08-17T09:34:19.263Z"
   },
   {
    "duration": 236,
    "start_time": "2021-08-17T09:34:19.299Z"
   },
   {
    "duration": 4,
    "start_time": "2021-08-17T09:34:19.538Z"
   },
   {
    "duration": 17,
    "start_time": "2021-08-17T09:34:19.545Z"
   },
   {
    "duration": 13,
    "start_time": "2021-08-17T09:34:19.565Z"
   },
   {
    "duration": 691,
    "start_time": "2021-08-17T09:34:19.581Z"
   },
   {
    "duration": 45,
    "start_time": "2021-08-17T09:35:12.752Z"
   },
   {
    "duration": 18,
    "start_time": "2021-08-17T09:35:44.609Z"
   },
   {
    "duration": 241,
    "start_time": "2021-08-17T09:38:03.039Z"
   },
   {
    "duration": 104,
    "start_time": "2021-08-17T09:38:47.852Z"
   },
   {
    "duration": 253,
    "start_time": "2021-08-17T09:39:03.097Z"
   },
   {
    "duration": 19,
    "start_time": "2021-08-17T09:39:09.040Z"
   },
   {
    "duration": 309,
    "start_time": "2021-08-17T09:40:17.566Z"
   },
   {
    "duration": 1794,
    "start_time": "2021-08-17T09:40:30.923Z"
   },
   {
    "duration": 1594,
    "start_time": "2021-08-17T09:40:32.721Z"
   },
   {
    "duration": 272,
    "start_time": "2021-08-17T09:40:34.319Z"
   },
   {
    "duration": 34,
    "start_time": "2021-08-17T09:40:34.595Z"
   },
   {
    "duration": 185,
    "start_time": "2021-08-17T09:40:34.632Z"
   },
   {
    "duration": 166,
    "start_time": "2021-08-17T09:40:34.820Z"
   },
   {
    "duration": 45,
    "start_time": "2021-08-17T09:40:34.989Z"
   },
   {
    "duration": 63,
    "start_time": "2021-08-17T09:40:35.038Z"
   },
   {
    "duration": 58,
    "start_time": "2021-08-17T09:40:35.105Z"
   },
   {
    "duration": 57,
    "start_time": "2021-08-17T09:40:35.166Z"
   },
   {
    "duration": 283,
    "start_time": "2021-08-17T09:40:35.226Z"
   },
   {
    "duration": 611,
    "start_time": "2021-08-17T09:40:35.513Z"
   },
   {
    "duration": 11,
    "start_time": "2021-08-17T09:40:36.127Z"
   },
   {
    "duration": 139,
    "start_time": "2021-08-17T09:40:36.141Z"
   },
   {
    "duration": 10,
    "start_time": "2021-08-17T09:40:36.283Z"
   },
   {
    "duration": 99,
    "start_time": "2021-08-17T09:40:36.296Z"
   },
   {
    "duration": 253,
    "start_time": "2021-08-17T09:40:36.398Z"
   },
   {
    "duration": 427,
    "start_time": "2021-08-17T09:40:36.654Z"
   },
   {
    "duration": 8,
    "start_time": "2021-08-17T09:40:37.084Z"
   },
   {
    "duration": 119,
    "start_time": "2021-08-17T09:40:37.095Z"
   },
   {
    "duration": 130,
    "start_time": "2021-08-17T09:40:37.216Z"
   },
   {
    "duration": 19,
    "start_time": "2021-08-17T09:40:37.348Z"
   },
   {
    "duration": 171,
    "start_time": "2021-08-17T09:40:37.372Z"
   },
   {
    "duration": 32,
    "start_time": "2021-08-17T09:40:37.546Z"
   },
   {
    "duration": 649,
    "start_time": "2021-08-17T09:40:37.582Z"
   },
   {
    "duration": 649,
    "start_time": "2021-08-17T09:40:38.234Z"
   },
   {
    "duration": 677,
    "start_time": "2021-08-17T09:40:38.885Z"
   },
   {
    "duration": 52,
    "start_time": "2021-08-17T09:40:39.564Z"
   },
   {
    "duration": 45,
    "start_time": "2021-08-17T09:40:39.619Z"
   },
   {
    "duration": 268,
    "start_time": "2021-08-17T09:40:39.667Z"
   },
   {
    "duration": 26,
    "start_time": "2021-08-17T09:40:39.938Z"
   },
   {
    "duration": 75,
    "start_time": "2021-08-17T09:40:39.966Z"
   },
   {
    "duration": 19,
    "start_time": "2021-08-17T09:40:40.044Z"
   },
   {
    "duration": 10,
    "start_time": "2021-08-17T09:40:40.066Z"
   },
   {
    "duration": 10,
    "start_time": "2021-08-17T09:40:40.079Z"
   },
   {
    "duration": 9671,
    "start_time": "2021-08-17T09:40:40.092Z"
   },
   {
    "duration": 5,
    "start_time": "2021-08-17T09:51:51.183Z"
   },
   {
    "duration": 1547,
    "start_time": "2021-08-17T09:53:29.987Z"
   },
   {
    "duration": 1095,
    "start_time": "2021-08-17T09:53:31.536Z"
   },
   {
    "duration": 164,
    "start_time": "2021-08-17T09:53:32.634Z"
   },
   {
    "duration": 24,
    "start_time": "2021-08-17T09:53:32.801Z"
   },
   {
    "duration": 143,
    "start_time": "2021-08-17T09:53:32.828Z"
   },
   {
    "duration": 167,
    "start_time": "2021-08-17T09:53:32.973Z"
   },
   {
    "duration": 52,
    "start_time": "2021-08-17T09:53:33.143Z"
   },
   {
    "duration": 65,
    "start_time": "2021-08-17T09:53:33.199Z"
   },
   {
    "duration": 48,
    "start_time": "2021-08-17T09:53:33.267Z"
   },
   {
    "duration": 66,
    "start_time": "2021-08-17T09:53:33.318Z"
   },
   {
    "duration": 262,
    "start_time": "2021-08-17T09:53:33.386Z"
   },
   {
    "duration": 539,
    "start_time": "2021-08-17T09:53:33.661Z"
   },
   {
    "duration": 9,
    "start_time": "2021-08-17T09:53:34.202Z"
   },
   {
    "duration": 122,
    "start_time": "2021-08-17T09:53:34.213Z"
   },
   {
    "duration": 8,
    "start_time": "2021-08-17T09:53:34.338Z"
   },
   {
    "duration": 81,
    "start_time": "2021-08-17T09:53:34.349Z"
   },
   {
    "duration": 257,
    "start_time": "2021-08-17T09:53:34.433Z"
   },
   {
    "duration": 409,
    "start_time": "2021-08-17T09:53:34.693Z"
   },
   {
    "duration": 10,
    "start_time": "2021-08-17T09:53:35.105Z"
   },
   {
    "duration": 119,
    "start_time": "2021-08-17T09:53:35.118Z"
   },
   {
    "duration": 129,
    "start_time": "2021-08-17T09:53:35.240Z"
   },
   {
    "duration": 15,
    "start_time": "2021-08-17T09:53:35.373Z"
   },
   {
    "duration": 179,
    "start_time": "2021-08-17T09:53:35.395Z"
   },
   {
    "duration": 22,
    "start_time": "2021-08-17T09:53:35.578Z"
   },
   {
    "duration": 632,
    "start_time": "2021-08-17T09:53:35.603Z"
   },
   {
    "duration": 650,
    "start_time": "2021-08-17T09:53:36.238Z"
   },
   {
    "duration": 674,
    "start_time": "2021-08-17T09:53:36.890Z"
   },
   {
    "duration": 107,
    "start_time": "2021-08-17T09:53:37.567Z"
   },
   {
    "duration": 16,
    "start_time": "2021-08-17T09:53:37.677Z"
   },
   {
    "duration": 398,
    "start_time": "2021-08-17T09:53:37.695Z"
   },
   {
    "duration": 13,
    "start_time": "2021-08-17T09:53:38.096Z"
   },
   {
    "duration": 93,
    "start_time": "2021-08-17T09:53:38.112Z"
   },
   {
    "duration": 5,
    "start_time": "2021-08-17T09:53:38.207Z"
   },
   {
    "duration": 6,
    "start_time": "2021-08-17T09:53:38.215Z"
   },
   {
    "duration": 8,
    "start_time": "2021-08-17T09:53:38.224Z"
   },
   {
    "duration": 16007,
    "start_time": "2021-08-17T09:53:38.263Z"
   },
   {
    "duration": 5,
    "start_time": "2021-08-17T09:53:54.273Z"
   },
   {
    "duration": 27,
    "start_time": "2021-08-17T09:53:54.281Z"
   },
   {
    "duration": 13,
    "start_time": "2021-08-17T09:54:16.568Z"
   },
   {
    "duration": 8,
    "start_time": "2021-08-17T12:04:11.123Z"
   },
   {
    "duration": 7,
    "start_time": "2021-08-17T12:04:22.744Z"
   },
   {
    "duration": 6,
    "start_time": "2021-08-17T12:04:48.768Z"
   },
   {
    "duration": 5,
    "start_time": "2021-08-17T12:06:28.195Z"
   },
   {
    "duration": 5,
    "start_time": "2021-08-17T12:06:38.042Z"
   },
   {
    "duration": 6,
    "start_time": "2021-08-17T12:09:15.825Z"
   },
   {
    "duration": 7,
    "start_time": "2021-08-17T12:09:26.369Z"
   },
   {
    "duration": 17,
    "start_time": "2021-08-17T12:10:13.080Z"
   },
   {
    "duration": 4,
    "start_time": "2021-08-17T12:10:59.328Z"
   },
   {
    "duration": 6,
    "start_time": "2021-08-17T12:11:05.000Z"
   },
   {
    "duration": 17,
    "start_time": "2021-08-17T12:11:21.459Z"
   },
   {
    "duration": 409,
    "start_time": "2021-08-17T12:29:08.713Z"
   },
   {
    "duration": 103,
    "start_time": "2021-08-17T12:29:42.086Z"
   },
   {
    "duration": 2765,
    "start_time": "2021-08-17T12:29:39.430Z"
   },
   {
    "duration": 2762,
    "start_time": "2021-08-17T12:29:39.435Z"
   },
   {
    "duration": 2760,
    "start_time": "2021-08-17T12:29:39.440Z"
   },
   {
    "duration": 2757,
    "start_time": "2021-08-17T12:29:39.445Z"
   },
   {
    "duration": 2755,
    "start_time": "2021-08-17T12:29:39.449Z"
   },
   {
    "duration": 2751,
    "start_time": "2021-08-17T12:29:39.455Z"
   },
   {
    "duration": 2749,
    "start_time": "2021-08-17T12:29:39.459Z"
   },
   {
    "duration": 2744,
    "start_time": "2021-08-17T12:29:39.465Z"
   },
   {
    "duration": 2740,
    "start_time": "2021-08-17T12:29:39.471Z"
   },
   {
    "duration": 2734,
    "start_time": "2021-08-17T12:29:39.478Z"
   },
   {
    "duration": 2731,
    "start_time": "2021-08-17T12:29:39.482Z"
   },
   {
    "duration": 2708,
    "start_time": "2021-08-17T12:29:39.506Z"
   },
   {
    "duration": 2703,
    "start_time": "2021-08-17T12:29:39.513Z"
   },
   {
    "duration": 2699,
    "start_time": "2021-08-17T12:29:39.518Z"
   },
   {
    "duration": 2696,
    "start_time": "2021-08-17T12:29:39.522Z"
   },
   {
    "duration": 2694,
    "start_time": "2021-08-17T12:29:39.526Z"
   },
   {
    "duration": 2690,
    "start_time": "2021-08-17T12:29:39.531Z"
   },
   {
    "duration": 2687,
    "start_time": "2021-08-17T12:29:39.535Z"
   },
   {
    "duration": 2679,
    "start_time": "2021-08-17T12:29:39.545Z"
   },
   {
    "duration": 2676,
    "start_time": "2021-08-17T12:29:39.549Z"
   },
   {
    "duration": 2673,
    "start_time": "2021-08-17T12:29:39.553Z"
   },
   {
    "duration": 2671,
    "start_time": "2021-08-17T12:29:39.557Z"
   },
   {
    "duration": 2669,
    "start_time": "2021-08-17T12:29:39.560Z"
   },
   {
    "duration": 2699,
    "start_time": "2021-08-17T12:29:39.563Z"
   },
   {
    "duration": 2697,
    "start_time": "2021-08-17T12:29:39.566Z"
   },
   {
    "duration": 2695,
    "start_time": "2021-08-17T12:29:39.569Z"
   },
   {
    "duration": 2694,
    "start_time": "2021-08-17T12:29:39.572Z"
   },
   {
    "duration": 2692,
    "start_time": "2021-08-17T12:29:39.575Z"
   },
   {
    "duration": 2691,
    "start_time": "2021-08-17T12:29:39.578Z"
   },
   {
    "duration": 321,
    "start_time": "2021-08-17T12:29:42.273Z"
   },
   {
    "duration": 2747,
    "start_time": "2021-08-17T12:29:39.849Z"
   },
   {
    "duration": 2746,
    "start_time": "2021-08-17T12:29:39.852Z"
   },
   {
    "duration": 2744,
    "start_time": "2021-08-17T12:29:39.855Z"
   },
   {
    "duration": 2741,
    "start_time": "2021-08-17T12:29:39.859Z"
   },
   {
    "duration": 2739,
    "start_time": "2021-08-17T12:29:39.863Z"
   },
   {
    "duration": 2735,
    "start_time": "2021-08-17T12:29:39.868Z"
   },
   {
    "duration": 2733,
    "start_time": "2021-08-17T12:29:39.871Z"
   },
   {
    "duration": 2730,
    "start_time": "2021-08-17T12:29:39.875Z"
   },
   {
    "duration": 2728,
    "start_time": "2021-08-17T12:29:39.879Z"
   },
   {
    "duration": 2726,
    "start_time": "2021-08-17T12:29:39.882Z"
   },
   {
    "duration": 2725,
    "start_time": "2021-08-17T12:29:39.885Z"
   },
   {
    "duration": 2722,
    "start_time": "2021-08-17T12:29:39.889Z"
   },
   {
    "duration": 2711,
    "start_time": "2021-08-17T12:29:39.901Z"
   },
   {
    "duration": 2708,
    "start_time": "2021-08-17T12:29:39.905Z"
   },
   {
    "duration": 2707,
    "start_time": "2021-08-17T12:29:39.908Z"
   },
   {
    "duration": 2704,
    "start_time": "2021-08-17T12:29:39.912Z"
   },
   {
    "duration": 131,
    "start_time": "2021-08-17T12:30:16.071Z"
   },
   {
    "duration": 2858,
    "start_time": "2021-08-17T12:30:13.349Z"
   },
   {
    "duration": 2855,
    "start_time": "2021-08-17T12:30:13.354Z"
   },
   {
    "duration": 2853,
    "start_time": "2021-08-17T12:30:13.357Z"
   },
   {
    "duration": 2850,
    "start_time": "2021-08-17T12:30:13.362Z"
   },
   {
    "duration": 2848,
    "start_time": "2021-08-17T12:30:13.366Z"
   },
   {
    "duration": 2846,
    "start_time": "2021-08-17T12:30:13.370Z"
   },
   {
    "duration": 2843,
    "start_time": "2021-08-17T12:30:13.375Z"
   },
   {
    "duration": 2840,
    "start_time": "2021-08-17T12:30:13.379Z"
   },
   {
    "duration": 2838,
    "start_time": "2021-08-17T12:30:13.382Z"
   },
   {
    "duration": 2836,
    "start_time": "2021-08-17T12:30:13.386Z"
   },
   {
    "duration": 2815,
    "start_time": "2021-08-17T12:30:13.408Z"
   },
   {
    "duration": 2807,
    "start_time": "2021-08-17T12:30:13.417Z"
   },
   {
    "duration": 2805,
    "start_time": "2021-08-17T12:30:13.421Z"
   },
   {
    "duration": 2803,
    "start_time": "2021-08-17T12:30:13.424Z"
   },
   {
    "duration": 2798,
    "start_time": "2021-08-17T12:30:13.430Z"
   },
   {
    "duration": 2795,
    "start_time": "2021-08-17T12:30:13.435Z"
   },
   {
    "duration": 2791,
    "start_time": "2021-08-17T12:30:13.440Z"
   },
   {
    "duration": 2788,
    "start_time": "2021-08-17T12:30:13.444Z"
   },
   {
    "duration": 2785,
    "start_time": "2021-08-17T12:30:13.449Z"
   },
   {
    "duration": 2780,
    "start_time": "2021-08-17T12:30:13.455Z"
   },
   {
    "duration": 2803,
    "start_time": "2021-08-17T12:30:13.459Z"
   },
   {
    "duration": 2799,
    "start_time": "2021-08-17T12:30:13.464Z"
   },
   {
    "duration": 2795,
    "start_time": "2021-08-17T12:30:13.469Z"
   },
   {
    "duration": 2780,
    "start_time": "2021-08-17T12:30:13.486Z"
   },
   {
    "duration": 2778,
    "start_time": "2021-08-17T12:30:13.489Z"
   },
   {
    "duration": 2775,
    "start_time": "2021-08-17T12:30:13.493Z"
   },
   {
    "duration": 2773,
    "start_time": "2021-08-17T12:30:13.497Z"
   },
   {
    "duration": 2769,
    "start_time": "2021-08-17T12:30:13.502Z"
   },
   {
    "duration": 2767,
    "start_time": "2021-08-17T12:30:13.505Z"
   },
   {
    "duration": 2756,
    "start_time": "2021-08-17T12:30:13.518Z"
   },
   {
    "duration": 2754,
    "start_time": "2021-08-17T12:30:13.521Z"
   },
   {
    "duration": 2745,
    "start_time": "2021-08-17T12:30:13.531Z"
   },
   {
    "duration": 2735,
    "start_time": "2021-08-17T12:30:13.543Z"
   },
   {
    "duration": 2719,
    "start_time": "2021-08-17T12:30:13.560Z"
   },
   {
    "duration": 2714,
    "start_time": "2021-08-17T12:30:13.566Z"
   },
   {
    "duration": 2707,
    "start_time": "2021-08-17T12:30:13.574Z"
   },
   {
    "duration": 2700,
    "start_time": "2021-08-17T12:30:13.583Z"
   },
   {
    "duration": 2689,
    "start_time": "2021-08-17T12:30:13.595Z"
   },
   {
    "duration": 2682,
    "start_time": "2021-08-17T12:30:13.603Z"
   },
   {
    "duration": 2679,
    "start_time": "2021-08-17T12:30:13.607Z"
   },
   {
    "duration": 2672,
    "start_time": "2021-08-17T12:30:13.616Z"
   },
   {
    "duration": 2664,
    "start_time": "2021-08-17T12:30:13.625Z"
   },
   {
    "duration": 2662,
    "start_time": "2021-08-17T12:30:13.628Z"
   },
   {
    "duration": 2659,
    "start_time": "2021-08-17T12:30:13.632Z"
   },
   {
    "duration": 371,
    "start_time": "2021-08-17T12:30:16.295Z"
   },
   {
    "duration": 2917,
    "start_time": "2021-08-17T12:30:13.751Z"
   },
   {
    "duration": 1764,
    "start_time": "2021-08-17T12:42:08.460Z"
   },
   {
    "duration": 1320,
    "start_time": "2021-08-17T12:42:10.227Z"
   },
   {
    "duration": 170,
    "start_time": "2021-08-17T12:42:11.550Z"
   },
   {
    "duration": 53,
    "start_time": "2021-08-17T12:42:11.723Z"
   },
   {
    "duration": 137,
    "start_time": "2021-08-17T12:42:11.778Z"
   },
   {
    "duration": 174,
    "start_time": "2021-08-17T12:42:11.918Z"
   },
   {
    "duration": 46,
    "start_time": "2021-08-17T12:42:12.095Z"
   },
   {
    "duration": 44,
    "start_time": "2021-08-17T12:42:12.164Z"
   },
   {
    "duration": 66,
    "start_time": "2021-08-17T12:42:12.211Z"
   },
   {
    "duration": 47,
    "start_time": "2021-08-17T12:42:12.279Z"
   },
   {
    "duration": 311,
    "start_time": "2021-08-17T12:42:12.328Z"
   },
   {
    "duration": 582,
    "start_time": "2021-08-17T12:42:12.642Z"
   },
   {
    "duration": 8,
    "start_time": "2021-08-17T12:42:13.227Z"
   },
   {
    "duration": 116,
    "start_time": "2021-08-17T12:42:13.237Z"
   },
   {
    "duration": 8,
    "start_time": "2021-08-17T12:42:13.362Z"
   },
   {
    "duration": 89,
    "start_time": "2021-08-17T12:42:13.373Z"
   },
   {
    "duration": 240,
    "start_time": "2021-08-17T12:42:13.464Z"
   },
   {
    "duration": 465,
    "start_time": "2021-08-17T12:42:13.707Z"
   },
   {
    "duration": 9,
    "start_time": "2021-08-17T12:42:14.174Z"
   },
   {
    "duration": 109,
    "start_time": "2021-08-17T12:42:14.185Z"
   },
   {
    "duration": 132,
    "start_time": "2021-08-17T12:42:14.297Z"
   },
   {
    "duration": 14,
    "start_time": "2021-08-17T12:42:14.431Z"
   },
   {
    "duration": 167,
    "start_time": "2021-08-17T12:42:14.464Z"
   },
   {
    "duration": 30,
    "start_time": "2021-08-17T12:42:14.634Z"
   },
   {
    "duration": 642,
    "start_time": "2021-08-17T12:42:14.666Z"
   },
   {
    "duration": 622,
    "start_time": "2021-08-17T12:42:15.310Z"
   },
   {
    "duration": 675,
    "start_time": "2021-08-17T12:42:15.934Z"
   },
   {
    "duration": 64,
    "start_time": "2021-08-17T12:42:16.612Z"
   },
   {
    "duration": 18,
    "start_time": "2021-08-17T12:42:16.679Z"
   },
   {
    "duration": 284,
    "start_time": "2021-08-17T12:42:16.700Z"
   },
   {
    "duration": 13,
    "start_time": "2021-08-17T12:42:16.987Z"
   },
   {
    "duration": 99,
    "start_time": "2021-08-17T12:42:17.002Z"
   },
   {
    "duration": 3,
    "start_time": "2021-08-17T12:42:17.104Z"
   },
   {
    "duration": 13,
    "start_time": "2021-08-17T12:42:17.114Z"
   },
   {
    "duration": 11,
    "start_time": "2021-08-17T12:42:17.130Z"
   },
   {
    "duration": 18529,
    "start_time": "2021-08-17T12:42:17.143Z"
   },
   {
    "duration": 4,
    "start_time": "2021-08-17T12:42:35.675Z"
   },
   {
    "duration": 87,
    "start_time": "2021-08-17T12:42:35.682Z"
   },
   {
    "duration": 26,
    "start_time": "2021-08-17T12:42:35.771Z"
   },
   {
    "duration": 12,
    "start_time": "2021-08-17T12:42:35.799Z"
   },
   {
    "duration": 53,
    "start_time": "2021-08-17T12:42:35.814Z"
   },
   {
    "duration": 5,
    "start_time": "2021-08-17T12:42:35.869Z"
   },
   {
    "duration": 28,
    "start_time": "2021-08-17T12:42:35.877Z"
   },
   {
    "duration": 9,
    "start_time": "2021-08-17T12:42:35.907Z"
   },
   {
    "duration": 28,
    "start_time": "2021-08-17T12:42:35.918Z"
   },
   {
    "duration": 26,
    "start_time": "2021-08-17T12:42:35.949Z"
   },
   {
    "duration": 64,
    "start_time": "2021-08-17T12:42:35.978Z"
   },
   {
    "duration": 78,
    "start_time": "2021-08-17T12:44:32.643Z"
   },
   {
    "duration": 231,
    "start_time": "2021-08-17T12:44:36.821Z"
   },
   {
    "duration": 46,
    "start_time": "2021-08-17T12:45:58.393Z"
   },
   {
    "duration": 147,
    "start_time": "2021-08-17T12:46:52.948Z"
   },
   {
    "duration": 1473,
    "start_time": "2021-08-17T12:47:38.404Z"
   },
   {
    "duration": 1082,
    "start_time": "2021-08-17T12:47:39.880Z"
   },
   {
    "duration": 165,
    "start_time": "2021-08-17T12:47:40.965Z"
   },
   {
    "duration": 43,
    "start_time": "2021-08-17T12:47:41.133Z"
   },
   {
    "duration": 143,
    "start_time": "2021-08-17T12:47:41.178Z"
   },
   {
    "duration": 170,
    "start_time": "2021-08-17T12:47:41.323Z"
   },
   {
    "duration": 46,
    "start_time": "2021-08-17T12:47:41.495Z"
   },
   {
    "duration": 44,
    "start_time": "2021-08-17T12:47:41.564Z"
   },
   {
    "duration": 68,
    "start_time": "2021-08-17T12:47:41.611Z"
   },
   {
    "duration": 40,
    "start_time": "2021-08-17T12:47:41.682Z"
   },
   {
    "duration": 399,
    "start_time": "2021-08-17T12:47:41.725Z"
   },
   {
    "duration": 868,
    "start_time": "2021-08-17T12:47:42.127Z"
   },
   {
    "duration": 12,
    "start_time": "2021-08-17T12:47:42.998Z"
   },
   {
    "duration": 133,
    "start_time": "2021-08-17T12:47:43.013Z"
   },
   {
    "duration": 19,
    "start_time": "2021-08-17T12:47:43.149Z"
   },
   {
    "duration": 98,
    "start_time": "2021-08-17T12:47:43.171Z"
   },
   {
    "duration": 344,
    "start_time": "2021-08-17T12:47:43.273Z"
   },
   {
    "duration": 635,
    "start_time": "2021-08-17T12:47:43.619Z"
   },
   {
    "duration": 10,
    "start_time": "2021-08-17T12:47:44.257Z"
   },
   {
    "duration": 129,
    "start_time": "2021-08-17T12:47:44.270Z"
   },
   {
    "duration": 162,
    "start_time": "2021-08-17T12:47:44.402Z"
   },
   {
    "duration": 18,
    "start_time": "2021-08-17T12:47:44.568Z"
   },
   {
    "duration": 268,
    "start_time": "2021-08-17T12:47:44.594Z"
   },
   {
    "duration": 31,
    "start_time": "2021-08-17T12:47:44.866Z"
   },
   {
    "duration": 895,
    "start_time": "2021-08-17T12:47:44.901Z"
   },
   {
    "duration": 864,
    "start_time": "2021-08-17T12:47:45.799Z"
   },
   {
    "duration": 932,
    "start_time": "2021-08-17T12:47:46.666Z"
   },
   {
    "duration": 68,
    "start_time": "2021-08-17T12:47:47.602Z"
   },
   {
    "duration": 25,
    "start_time": "2021-08-17T12:47:47.673Z"
   },
   {
    "duration": 275,
    "start_time": "2021-08-17T12:47:47.701Z"
   },
   {
    "duration": 14,
    "start_time": "2021-08-17T12:47:47.979Z"
   },
   {
    "duration": 92,
    "start_time": "2021-08-17T12:47:47.995Z"
   },
   {
    "duration": 5,
    "start_time": "2021-08-17T12:47:48.089Z"
   },
   {
    "duration": 7,
    "start_time": "2021-08-17T12:47:48.098Z"
   },
   {
    "duration": 8,
    "start_time": "2021-08-17T12:47:48.107Z"
   },
   {
    "duration": 16849,
    "start_time": "2021-08-17T12:47:48.118Z"
   },
   {
    "duration": 6,
    "start_time": "2021-08-17T12:48:04.969Z"
   },
   {
    "duration": 11,
    "start_time": "2021-08-17T12:48:04.977Z"
   },
   {
    "duration": 34,
    "start_time": "2021-08-17T12:48:04.990Z"
   },
   {
    "duration": 14,
    "start_time": "2021-08-17T12:48:05.027Z"
   },
   {
    "duration": 42,
    "start_time": "2021-08-17T12:48:05.063Z"
   },
   {
    "duration": 5,
    "start_time": "2021-08-17T12:48:05.108Z"
   },
   {
    "duration": 46,
    "start_time": "2021-08-17T12:48:05.116Z"
   },
   {
    "duration": 4,
    "start_time": "2021-08-17T12:48:05.165Z"
   },
   {
    "duration": 13,
    "start_time": "2021-08-17T12:48:05.171Z"
   },
   {
    "duration": 21,
    "start_time": "2021-08-17T12:48:05.187Z"
   },
   {
    "duration": 138,
    "start_time": "2021-08-17T12:48:05.211Z"
   },
   {
    "duration": 66,
    "start_time": "2021-08-17T12:48:05.352Z"
   },
   {
    "duration": 1565,
    "start_time": "2021-08-17T12:50:40.560Z"
   },
   {
    "duration": 1147,
    "start_time": "2021-08-17T12:50:42.128Z"
   },
   {
    "duration": 168,
    "start_time": "2021-08-17T12:50:43.278Z"
   },
   {
    "duration": 28,
    "start_time": "2021-08-17T12:50:43.449Z"
   },
   {
    "duration": 142,
    "start_time": "2021-08-17T12:50:43.479Z"
   },
   {
    "duration": 172,
    "start_time": "2021-08-17T12:50:43.624Z"
   },
   {
    "duration": 44,
    "start_time": "2021-08-17T12:50:43.798Z"
   },
   {
    "duration": 57,
    "start_time": "2021-08-17T12:50:43.847Z"
   },
   {
    "duration": 63,
    "start_time": "2021-08-17T12:50:43.908Z"
   },
   {
    "duration": 45,
    "start_time": "2021-08-17T12:50:43.973Z"
   },
   {
    "duration": 276,
    "start_time": "2021-08-17T12:50:44.020Z"
   },
   {
    "duration": 552,
    "start_time": "2021-08-17T12:50:44.298Z"
   },
   {
    "duration": 14,
    "start_time": "2021-08-17T12:50:44.853Z"
   },
   {
    "duration": 115,
    "start_time": "2021-08-17T12:50:44.870Z"
   },
   {
    "duration": 9,
    "start_time": "2021-08-17T12:50:44.987Z"
   },
   {
    "duration": 89,
    "start_time": "2021-08-17T12:50:44.998Z"
   },
   {
    "duration": 246,
    "start_time": "2021-08-17T12:50:45.090Z"
   },
   {
    "duration": 414,
    "start_time": "2021-08-17T12:50:45.338Z"
   },
   {
    "duration": 8,
    "start_time": "2021-08-17T12:50:45.763Z"
   },
   {
    "duration": 110,
    "start_time": "2021-08-17T12:50:45.773Z"
   },
   {
    "duration": 122,
    "start_time": "2021-08-17T12:50:45.886Z"
   },
   {
    "duration": 14,
    "start_time": "2021-08-17T12:50:46.011Z"
   },
   {
    "duration": 173,
    "start_time": "2021-08-17T12:50:46.030Z"
   },
   {
    "duration": 20,
    "start_time": "2021-08-17T12:50:46.206Z"
   },
   {
    "duration": 626,
    "start_time": "2021-08-17T12:50:46.228Z"
   },
   {
    "duration": 622,
    "start_time": "2021-08-17T12:50:46.861Z"
   },
   {
    "duration": 679,
    "start_time": "2021-08-17T12:50:47.486Z"
   },
   {
    "duration": 50,
    "start_time": "2021-08-17T12:50:48.167Z"
   },
   {
    "duration": 17,
    "start_time": "2021-08-17T12:50:48.220Z"
   },
   {
    "duration": 255,
    "start_time": "2021-08-17T12:50:48.262Z"
   },
   {
    "duration": 11,
    "start_time": "2021-08-17T12:50:48.520Z"
   },
   {
    "duration": 86,
    "start_time": "2021-08-17T12:50:48.534Z"
   },
   {
    "duration": 4,
    "start_time": "2021-08-17T12:50:48.622Z"
   },
   {
    "duration": 9,
    "start_time": "2021-08-17T12:50:48.628Z"
   },
   {
    "duration": 29,
    "start_time": "2021-08-17T12:50:48.639Z"
   },
   {
    "duration": 17701,
    "start_time": "2021-08-17T12:50:48.670Z"
   },
   {
    "duration": 7,
    "start_time": "2021-08-17T12:51:06.374Z"
   },
   {
    "duration": 12,
    "start_time": "2021-08-17T12:51:06.383Z"
   },
   {
    "duration": 67,
    "start_time": "2021-08-17T12:51:06.397Z"
   },
   {
    "duration": 10,
    "start_time": "2021-08-17T12:51:06.467Z"
   },
   {
    "duration": 45,
    "start_time": "2021-08-17T12:51:06.480Z"
   },
   {
    "duration": 6,
    "start_time": "2021-08-17T12:51:06.529Z"
   },
   {
    "duration": 15,
    "start_time": "2021-08-17T12:51:06.563Z"
   },
   {
    "duration": 13,
    "start_time": "2021-08-17T12:51:06.581Z"
   },
   {
    "duration": 11,
    "start_time": "2021-08-17T12:51:06.596Z"
   },
   {
    "duration": 25,
    "start_time": "2021-08-17T12:51:06.609Z"
   },
   {
    "duration": 250,
    "start_time": "2021-08-17T12:51:06.636Z"
   },
   {
    "duration": 36,
    "start_time": "2021-08-17T12:51:06.889Z"
   },
   {
    "duration": 1526,
    "start_time": "2021-08-17T12:53:15.471Z"
   },
   {
    "duration": 1100,
    "start_time": "2021-08-17T12:53:16.999Z"
   },
   {
    "duration": 176,
    "start_time": "2021-08-17T12:53:18.102Z"
   },
   {
    "duration": 26,
    "start_time": "2021-08-17T12:53:18.281Z"
   },
   {
    "duration": 153,
    "start_time": "2021-08-17T12:53:18.309Z"
   },
   {
    "duration": 211,
    "start_time": "2021-08-17T12:53:18.464Z"
   },
   {
    "duration": 47,
    "start_time": "2021-08-17T12:53:18.678Z"
   },
   {
    "duration": 64,
    "start_time": "2021-08-17T12:53:18.731Z"
   },
   {
    "duration": 51,
    "start_time": "2021-08-17T12:53:18.798Z"
   },
   {
    "duration": 51,
    "start_time": "2021-08-17T12:53:18.851Z"
   },
   {
    "duration": 285,
    "start_time": "2021-08-17T12:53:18.904Z"
   },
   {
    "duration": 555,
    "start_time": "2021-08-17T12:53:19.192Z"
   },
   {
    "duration": 17,
    "start_time": "2021-08-17T12:53:19.750Z"
   },
   {
    "duration": 126,
    "start_time": "2021-08-17T12:53:19.770Z"
   },
   {
    "duration": 9,
    "start_time": "2021-08-17T12:53:19.899Z"
   },
   {
    "duration": 102,
    "start_time": "2021-08-17T12:53:19.911Z"
   },
   {
    "duration": 337,
    "start_time": "2021-08-17T12:53:20.016Z"
   },
   {
    "duration": 618,
    "start_time": "2021-08-17T12:53:20.361Z"
   },
   {
    "duration": 10,
    "start_time": "2021-08-17T12:53:20.982Z"
   },
   {
    "duration": 112,
    "start_time": "2021-08-17T12:53:20.995Z"
   },
   {
    "duration": 129,
    "start_time": "2021-08-17T12:53:21.109Z"
   },
   {
    "duration": 27,
    "start_time": "2021-08-17T12:53:21.240Z"
   },
   {
    "duration": 169,
    "start_time": "2021-08-17T12:53:21.272Z"
   },
   {
    "duration": 30,
    "start_time": "2021-08-17T12:53:21.444Z"
   },
   {
    "duration": 612,
    "start_time": "2021-08-17T12:53:21.476Z"
   },
   {
    "duration": 622,
    "start_time": "2021-08-17T12:53:22.090Z"
   },
   {
    "duration": 647,
    "start_time": "2021-08-17T12:53:22.715Z"
   },
   {
    "duration": 47,
    "start_time": "2021-08-17T12:53:23.364Z"
   },
   {
    "duration": 18,
    "start_time": "2021-08-17T12:53:23.413Z"
   },
   {
    "duration": 265,
    "start_time": "2021-08-17T12:53:23.433Z"
   },
   {
    "duration": 11,
    "start_time": "2021-08-17T12:53:23.700Z"
   },
   {
    "duration": 87,
    "start_time": "2021-08-17T12:53:23.713Z"
   },
   {
    "duration": 4,
    "start_time": "2021-08-17T12:53:23.802Z"
   },
   {
    "duration": 11,
    "start_time": "2021-08-17T12:53:23.808Z"
   },
   {
    "duration": 16,
    "start_time": "2021-08-17T12:53:23.821Z"
   },
   {
    "duration": 16939,
    "start_time": "2021-08-17T12:53:23.839Z"
   },
   {
    "duration": 83,
    "start_time": "2021-08-17T12:53:40.781Z"
   },
   {
    "duration": 7,
    "start_time": "2021-08-17T12:53:40.867Z"
   },
   {
    "duration": 15,
    "start_time": "2021-08-17T12:53:40.877Z"
   },
   {
    "duration": 12,
    "start_time": "2021-08-17T12:53:40.895Z"
   },
   {
    "duration": 102,
    "start_time": "2021-08-17T12:53:40.909Z"
   },
   {
    "duration": 6,
    "start_time": "2021-08-17T12:53:41.014Z"
   },
   {
    "duration": 43,
    "start_time": "2021-08-17T12:53:41.022Z"
   },
   {
    "duration": 5,
    "start_time": "2021-08-17T12:53:41.068Z"
   },
   {
    "duration": 9,
    "start_time": "2021-08-17T12:53:41.076Z"
   },
   {
    "duration": 20,
    "start_time": "2021-08-17T12:53:41.088Z"
   },
   {
    "duration": 267,
    "start_time": "2021-08-17T12:53:41.111Z"
   },
   {
    "duration": 37,
    "start_time": "2021-08-17T12:53:41.381Z"
   },
   {
    "duration": 231,
    "start_time": "2021-08-17T12:57:46.157Z"
   },
   {
    "duration": 205,
    "start_time": "2021-08-17T12:58:06.680Z"
   },
   {
    "duration": 1551,
    "start_time": "2021-08-17T12:58:46.558Z"
   },
   {
    "duration": 1305,
    "start_time": "2021-08-17T12:58:48.112Z"
   },
   {
    "duration": 203,
    "start_time": "2021-08-17T12:58:49.421Z"
   },
   {
    "duration": 44,
    "start_time": "2021-08-17T12:58:49.627Z"
   },
   {
    "duration": 140,
    "start_time": "2021-08-17T12:58:49.674Z"
   },
   {
    "duration": 180,
    "start_time": "2021-08-17T12:58:49.816Z"
   },
   {
    "duration": 45,
    "start_time": "2021-08-17T12:58:49.998Z"
   },
   {
    "duration": 47,
    "start_time": "2021-08-17T12:58:50.063Z"
   },
   {
    "duration": 62,
    "start_time": "2021-08-17T12:58:50.113Z"
   },
   {
    "duration": 43,
    "start_time": "2021-08-17T12:58:50.177Z"
   },
   {
    "duration": 279,
    "start_time": "2021-08-17T12:58:50.223Z"
   },
   {
    "duration": 553,
    "start_time": "2021-08-17T12:58:50.505Z"
   },
   {
    "duration": 11,
    "start_time": "2021-08-17T12:58:51.062Z"
   },
   {
    "duration": 118,
    "start_time": "2021-08-17T12:58:51.076Z"
   },
   {
    "duration": 8,
    "start_time": "2021-08-17T12:58:51.196Z"
   },
   {
    "duration": 92,
    "start_time": "2021-08-17T12:58:51.206Z"
   },
   {
    "duration": 254,
    "start_time": "2021-08-17T12:58:51.300Z"
   },
   {
    "duration": 511,
    "start_time": "2021-08-17T12:58:51.562Z"
   },
   {
    "duration": 8,
    "start_time": "2021-08-17T12:58:52.076Z"
   },
   {
    "duration": 151,
    "start_time": "2021-08-17T12:58:52.089Z"
   },
   {
    "duration": 127,
    "start_time": "2021-08-17T12:58:52.242Z"
   },
   {
    "duration": 15,
    "start_time": "2021-08-17T12:58:52.372Z"
   },
   {
    "duration": 195,
    "start_time": "2021-08-17T12:58:52.393Z"
   },
   {
    "duration": 24,
    "start_time": "2021-08-17T12:58:52.591Z"
   },
   {
    "duration": 633,
    "start_time": "2021-08-17T12:58:52.619Z"
   },
   {
    "duration": 624,
    "start_time": "2021-08-17T12:58:53.255Z"
   },
   {
    "duration": 659,
    "start_time": "2021-08-17T12:58:53.881Z"
   },
   {
    "duration": 57,
    "start_time": "2021-08-17T12:58:54.543Z"
   },
   {
    "duration": 18,
    "start_time": "2021-08-17T12:58:54.602Z"
   },
   {
    "duration": 291,
    "start_time": "2021-08-17T12:58:54.622Z"
   },
   {
    "duration": 11,
    "start_time": "2021-08-17T12:58:54.915Z"
   },
   {
    "duration": 86,
    "start_time": "2021-08-17T12:58:54.928Z"
   },
   {
    "duration": 3,
    "start_time": "2021-08-17T12:58:55.017Z"
   },
   {
    "duration": 8,
    "start_time": "2021-08-17T12:58:55.022Z"
   },
   {
    "duration": 8,
    "start_time": "2021-08-17T12:58:55.032Z"
   },
   {
    "duration": 19313,
    "start_time": "2021-08-17T12:58:55.063Z"
   },
   {
    "duration": 5,
    "start_time": "2021-08-17T12:59:14.379Z"
   },
   {
    "duration": 88,
    "start_time": "2021-08-17T12:59:14.386Z"
   },
   {
    "duration": 14,
    "start_time": "2021-08-17T12:59:14.477Z"
   },
   {
    "duration": 14,
    "start_time": "2021-08-17T12:59:14.493Z"
   },
   {
    "duration": 65,
    "start_time": "2021-08-17T12:59:14.510Z"
   },
   {
    "duration": 6,
    "start_time": "2021-08-17T12:59:14.578Z"
   },
   {
    "duration": 22,
    "start_time": "2021-08-17T12:59:14.587Z"
   },
   {
    "duration": 18,
    "start_time": "2021-08-17T12:59:14.612Z"
   },
   {
    "duration": 18,
    "start_time": "2021-08-17T12:59:14.633Z"
   },
   {
    "duration": 21,
    "start_time": "2021-08-17T12:59:14.662Z"
   },
   {
    "duration": 247,
    "start_time": "2021-08-17T12:59:14.685Z"
   },
   {
    "duration": 49,
    "start_time": "2021-08-17T12:59:14.934Z"
   },
   {
    "duration": 1445,
    "start_time": "2021-08-17T13:01:22.088Z"
   },
   {
    "duration": 1074,
    "start_time": "2021-08-17T13:01:23.536Z"
   },
   {
    "duration": 226,
    "start_time": "2021-08-17T13:01:24.612Z"
   },
   {
    "duration": 45,
    "start_time": "2021-08-17T13:01:24.841Z"
   },
   {
    "duration": 184,
    "start_time": "2021-08-17T13:01:24.889Z"
   },
   {
    "duration": 213,
    "start_time": "2021-08-17T13:01:25.075Z"
   },
   {
    "duration": 50,
    "start_time": "2021-08-17T13:01:25.290Z"
   },
   {
    "duration": 62,
    "start_time": "2021-08-17T13:01:25.344Z"
   },
   {
    "duration": 67,
    "start_time": "2021-08-17T13:01:25.409Z"
   },
   {
    "duration": 58,
    "start_time": "2021-08-17T13:01:25.479Z"
   },
   {
    "duration": 393,
    "start_time": "2021-08-17T13:01:25.540Z"
   },
   {
    "duration": 539,
    "start_time": "2021-08-17T13:01:25.936Z"
   },
   {
    "duration": 9,
    "start_time": "2021-08-17T13:01:26.478Z"
   },
   {
    "duration": 113,
    "start_time": "2021-08-17T13:01:26.490Z"
   },
   {
    "duration": 9,
    "start_time": "2021-08-17T13:01:26.605Z"
   },
   {
    "duration": 97,
    "start_time": "2021-08-17T13:01:26.617Z"
   },
   {
    "duration": 247,
    "start_time": "2021-08-17T13:01:26.717Z"
   },
   {
    "duration": 407,
    "start_time": "2021-08-17T13:01:26.968Z"
   },
   {
    "duration": 8,
    "start_time": "2021-08-17T13:01:27.378Z"
   },
   {
    "duration": 113,
    "start_time": "2021-08-17T13:01:27.389Z"
   },
   {
    "duration": 129,
    "start_time": "2021-08-17T13:01:27.505Z"
   },
   {
    "duration": 14,
    "start_time": "2021-08-17T13:01:27.636Z"
   },
   {
    "duration": 160,
    "start_time": "2021-08-17T13:01:27.665Z"
   },
   {
    "duration": 35,
    "start_time": "2021-08-17T13:01:27.828Z"
   },
   {
    "duration": 622,
    "start_time": "2021-08-17T13:01:27.866Z"
   },
   {
    "duration": 594,
    "start_time": "2021-08-17T13:01:28.491Z"
   },
   {
    "duration": 616,
    "start_time": "2021-08-17T13:01:29.087Z"
   },
   {
    "duration": 61,
    "start_time": "2021-08-17T13:01:29.706Z"
   },
   {
    "duration": 17,
    "start_time": "2021-08-17T13:01:29.770Z"
   },
   {
    "duration": 256,
    "start_time": "2021-08-17T13:01:29.790Z"
   },
   {
    "duration": 16,
    "start_time": "2021-08-17T13:01:30.048Z"
   },
   {
    "duration": 74,
    "start_time": "2021-08-17T13:01:30.066Z"
   },
   {
    "duration": 4,
    "start_time": "2021-08-17T13:01:30.143Z"
   },
   {
    "duration": 20,
    "start_time": "2021-08-17T13:01:30.149Z"
   },
   {
    "duration": 31,
    "start_time": "2021-08-17T13:01:30.172Z"
   },
   {
    "duration": 16059,
    "start_time": "2021-08-17T13:01:30.206Z"
   },
   {
    "duration": 5,
    "start_time": "2021-08-17T13:01:46.268Z"
   },
   {
    "duration": 11,
    "start_time": "2021-08-17T13:01:46.276Z"
   },
   {
    "duration": 20,
    "start_time": "2021-08-17T13:01:46.290Z"
   },
   {
    "duration": 51,
    "start_time": "2021-08-17T13:01:46.313Z"
   },
   {
    "duration": 51,
    "start_time": "2021-08-17T13:01:46.366Z"
   },
   {
    "duration": 6,
    "start_time": "2021-08-17T13:01:46.420Z"
   },
   {
    "duration": 48,
    "start_time": "2021-08-17T13:01:46.428Z"
   },
   {
    "duration": 12,
    "start_time": "2021-08-17T13:01:46.478Z"
   },
   {
    "duration": 11,
    "start_time": "2021-08-17T13:01:46.493Z"
   },
   {
    "duration": 21,
    "start_time": "2021-08-17T13:01:46.506Z"
   },
   {
    "duration": 245,
    "start_time": "2021-08-17T13:01:46.530Z"
   },
   {
    "duration": 37,
    "start_time": "2021-08-17T13:01:46.778Z"
   },
   {
    "duration": 22,
    "start_time": "2021-08-17T13:03:44.292Z"
   },
   {
    "duration": 17713,
    "start_time": "2021-08-17T13:27:24.162Z"
   },
   {
    "duration": 5,
    "start_time": "2021-08-17T13:27:57.184Z"
   },
   {
    "duration": 7,
    "start_time": "2021-08-17T13:27:59.255Z"
   },
   {
    "duration": 1531,
    "start_time": "2021-08-17T19:35:30.899Z"
   },
   {
    "duration": 1072,
    "start_time": "2021-08-17T19:35:32.432Z"
   },
   {
    "duration": 170,
    "start_time": "2021-08-17T19:35:33.507Z"
   },
   {
    "duration": 23,
    "start_time": "2021-08-17T19:35:33.680Z"
   },
   {
    "duration": 136,
    "start_time": "2021-08-17T19:35:33.705Z"
   },
   {
    "duration": 171,
    "start_time": "2021-08-17T19:35:33.843Z"
   },
   {
    "duration": 51,
    "start_time": "2021-08-17T19:35:34.016Z"
   },
   {
    "duration": 46,
    "start_time": "2021-08-17T19:35:34.072Z"
   },
   {
    "duration": 69,
    "start_time": "2021-08-17T19:35:34.121Z"
   },
   {
    "duration": 43,
    "start_time": "2021-08-17T19:35:34.193Z"
   },
   {
    "duration": 293,
    "start_time": "2021-08-17T19:35:34.239Z"
   },
   {
    "duration": 565,
    "start_time": "2021-08-17T19:35:34.535Z"
   },
   {
    "duration": 11,
    "start_time": "2021-08-17T19:35:35.103Z"
   },
   {
    "duration": 121,
    "start_time": "2021-08-17T19:35:35.116Z"
   },
   {
    "duration": 21,
    "start_time": "2021-08-17T19:35:35.240Z"
   },
   {
    "duration": 72,
    "start_time": "2021-08-17T19:35:35.265Z"
   },
   {
    "duration": 264,
    "start_time": "2021-08-17T19:35:35.339Z"
   },
   {
    "duration": 628,
    "start_time": "2021-08-17T19:35:35.606Z"
   },
   {
    "duration": 25,
    "start_time": "2021-08-17T19:35:36.237Z"
   },
   {
    "duration": 109,
    "start_time": "2021-08-17T19:35:36.265Z"
   },
   {
    "duration": 131,
    "start_time": "2021-08-17T19:35:36.377Z"
   },
   {
    "duration": 17,
    "start_time": "2021-08-17T19:35:36.511Z"
   },
   {
    "duration": 192,
    "start_time": "2021-08-17T19:35:36.533Z"
   },
   {
    "duration": 43,
    "start_time": "2021-08-17T19:35:36.735Z"
   },
   {
    "duration": 656,
    "start_time": "2021-08-17T19:35:36.782Z"
   },
   {
    "duration": 610,
    "start_time": "2021-08-17T19:35:37.441Z"
   },
   {
    "duration": 650,
    "start_time": "2021-08-17T19:35:38.054Z"
   },
   {
    "duration": 63,
    "start_time": "2021-08-17T19:35:38.706Z"
   },
   {
    "duration": 17,
    "start_time": "2021-08-17T19:35:38.772Z"
   },
   {
    "duration": 665,
    "start_time": "2021-08-17T19:35:38.792Z"
   },
   {
    "duration": 3100,
    "start_time": "2021-08-17T19:35:36.359Z"
   },
   {
    "duration": 3096,
    "start_time": "2021-08-17T19:35:36.365Z"
   },
   {
    "duration": 3093,
    "start_time": "2021-08-17T19:35:36.369Z"
   },
   {
    "duration": 3091,
    "start_time": "2021-08-17T19:35:36.373Z"
   },
   {
    "duration": 3070,
    "start_time": "2021-08-17T19:35:36.396Z"
   },
   {
    "duration": 3068,
    "start_time": "2021-08-17T19:35:36.399Z"
   },
   {
    "duration": 3066,
    "start_time": "2021-08-17T19:35:36.403Z"
   },
   {
    "duration": 3061,
    "start_time": "2021-08-17T19:35:36.409Z"
   },
   {
    "duration": 3060,
    "start_time": "2021-08-17T19:35:36.412Z"
   },
   {
    "duration": 3033,
    "start_time": "2021-08-17T19:35:36.440Z"
   },
   {
    "duration": 3028,
    "start_time": "2021-08-17T19:35:36.447Z"
   },
   {
    "duration": 3025,
    "start_time": "2021-08-17T19:35:36.451Z"
   },
   {
    "duration": 3023,
    "start_time": "2021-08-17T19:35:36.455Z"
   },
   {
    "duration": 3020,
    "start_time": "2021-08-17T19:35:36.459Z"
   },
   {
    "duration": 3018,
    "start_time": "2021-08-17T19:35:36.463Z"
   },
   {
    "duration": 3011,
    "start_time": "2021-08-17T19:35:36.471Z"
   },
   {
    "duration": 3009,
    "start_time": "2021-08-17T19:35:36.475Z"
   },
   {
    "duration": 1530,
    "start_time": "2021-08-17T19:37:55.528Z"
   },
   {
    "duration": 1116,
    "start_time": "2021-08-17T19:37:57.062Z"
   },
   {
    "duration": 164,
    "start_time": "2021-08-17T19:37:58.182Z"
   },
   {
    "duration": 32,
    "start_time": "2021-08-17T19:37:58.349Z"
   },
   {
    "duration": 137,
    "start_time": "2021-08-17T19:37:58.383Z"
   },
   {
    "duration": 172,
    "start_time": "2021-08-17T19:37:58.523Z"
   },
   {
    "duration": 48,
    "start_time": "2021-08-17T19:37:58.697Z"
   },
   {
    "duration": 51,
    "start_time": "2021-08-17T19:37:58.764Z"
   },
   {
    "duration": 56,
    "start_time": "2021-08-17T19:37:58.818Z"
   },
   {
    "duration": 47,
    "start_time": "2021-08-17T19:37:58.877Z"
   },
   {
    "duration": 269,
    "start_time": "2021-08-17T19:37:58.926Z"
   },
   {
    "duration": 554,
    "start_time": "2021-08-17T19:37:59.197Z"
   },
   {
    "duration": 9,
    "start_time": "2021-08-17T19:37:59.761Z"
   },
   {
    "duration": 119,
    "start_time": "2021-08-17T19:37:59.772Z"
   },
   {
    "duration": 8,
    "start_time": "2021-08-17T19:37:59.893Z"
   },
   {
    "duration": 95,
    "start_time": "2021-08-17T19:37:59.904Z"
   },
   {
    "duration": 246,
    "start_time": "2021-08-17T19:38:00.001Z"
   },
   {
    "duration": 648,
    "start_time": "2021-08-17T19:38:00.250Z"
   },
   {
    "duration": 7,
    "start_time": "2021-08-17T19:38:00.901Z"
   },
   {
    "duration": 112,
    "start_time": "2021-08-17T19:38:00.911Z"
   },
   {
    "duration": 129,
    "start_time": "2021-08-17T19:38:01.025Z"
   },
   {
    "duration": 14,
    "start_time": "2021-08-17T19:38:01.157Z"
   },
   {
    "duration": 171,
    "start_time": "2021-08-17T19:38:01.178Z"
   },
   {
    "duration": 23,
    "start_time": "2021-08-17T19:38:01.362Z"
   },
   {
    "duration": 663,
    "start_time": "2021-08-17T19:38:01.388Z"
   },
   {
    "duration": 645,
    "start_time": "2021-08-17T19:38:02.054Z"
   },
   {
    "duration": 653,
    "start_time": "2021-08-17T19:38:02.702Z"
   },
   {
    "duration": 53,
    "start_time": "2021-08-17T19:38:03.358Z"
   },
   {
    "duration": 24,
    "start_time": "2021-08-17T19:38:03.413Z"
   },
   {
    "duration": 35,
    "start_time": "2021-08-17T19:38:03.440Z"
   },
   {
    "duration": 277,
    "start_time": "2021-08-17T19:38:03.477Z"
   },
   {
    "duration": 13,
    "start_time": "2021-08-17T19:38:03.756Z"
   },
   {
    "duration": 83,
    "start_time": "2021-08-17T19:38:03.771Z"
   },
   {
    "duration": 26,
    "start_time": "2021-08-17T19:38:03.861Z"
   },
   {
    "duration": 4,
    "start_time": "2021-08-17T19:38:03.889Z"
   },
   {
    "duration": 327,
    "start_time": "2021-08-17T19:38:03.895Z"
   },
   {
    "duration": 23,
    "start_time": "2021-08-17T19:38:04.224Z"
   },
   {
    "duration": 28,
    "start_time": "2021-08-17T19:38:04.249Z"
   },
   {
    "duration": 12,
    "start_time": "2021-08-17T19:38:04.280Z"
   },
   {
    "duration": 17,
    "start_time": "2021-08-17T19:38:04.294Z"
   },
   {
    "duration": 16558,
    "start_time": "2021-08-17T19:38:04.314Z"
   },
   {
    "duration": 5,
    "start_time": "2021-08-17T19:38:20.874Z"
   },
   {
    "duration": 9,
    "start_time": "2021-08-17T19:38:20.882Z"
   },
   {
    "duration": 11,
    "start_time": "2021-08-17T19:38:20.894Z"
   },
   {
    "duration": 56,
    "start_time": "2021-08-17T19:38:20.908Z"
   },
   {
    "duration": 58,
    "start_time": "2021-08-17T19:38:20.967Z"
   },
   {
    "duration": 5,
    "start_time": "2021-08-17T19:38:21.028Z"
   },
   {
    "duration": 41,
    "start_time": "2021-08-17T19:38:21.035Z"
   },
   {
    "duration": 19,
    "start_time": "2021-08-17T19:38:21.079Z"
   },
   {
    "duration": 1452,
    "start_time": "2021-08-17T19:50:48.810Z"
   },
   {
    "duration": 1107,
    "start_time": "2021-08-17T19:50:50.265Z"
   },
   {
    "duration": 173,
    "start_time": "2021-08-17T19:50:51.378Z"
   },
   {
    "duration": 28,
    "start_time": "2021-08-17T19:50:51.554Z"
   },
   {
    "duration": 144,
    "start_time": "2021-08-17T19:50:51.584Z"
   },
   {
    "duration": 171,
    "start_time": "2021-08-17T19:50:51.730Z"
   },
   {
    "duration": 59,
    "start_time": "2021-08-17T19:50:51.905Z"
   },
   {
    "duration": 45,
    "start_time": "2021-08-17T19:50:51.967Z"
   },
   {
    "duration": 72,
    "start_time": "2021-08-17T19:50:52.014Z"
   },
   {
    "duration": 45,
    "start_time": "2021-08-17T19:50:52.089Z"
   },
   {
    "duration": 279,
    "start_time": "2021-08-17T19:50:52.136Z"
   },
   {
    "duration": 563,
    "start_time": "2021-08-17T19:50:52.417Z"
   },
   {
    "duration": 10,
    "start_time": "2021-08-17T19:50:52.984Z"
   },
   {
    "duration": 137,
    "start_time": "2021-08-17T19:50:52.997Z"
   },
   {
    "duration": 10,
    "start_time": "2021-08-17T19:50:53.137Z"
   },
   {
    "duration": 81,
    "start_time": "2021-08-17T19:50:53.163Z"
   },
   {
    "duration": 351,
    "start_time": "2021-08-17T19:50:53.247Z"
   },
   {
    "duration": 615,
    "start_time": "2021-08-17T19:50:53.601Z"
   },
   {
    "duration": 10,
    "start_time": "2021-08-17T19:50:54.219Z"
   },
   {
    "duration": 141,
    "start_time": "2021-08-17T19:50:54.232Z"
   },
   {
    "duration": 186,
    "start_time": "2021-08-17T19:50:54.376Z"
   },
   {
    "duration": 18,
    "start_time": "2021-08-17T19:50:54.570Z"
   },
   {
    "duration": 330,
    "start_time": "2021-08-17T19:50:54.592Z"
   },
   {
    "duration": 47,
    "start_time": "2021-08-17T19:50:54.925Z"
   },
   {
    "duration": 966,
    "start_time": "2021-08-17T19:50:54.975Z"
   },
   {
    "duration": 974,
    "start_time": "2021-08-17T19:50:55.944Z"
   },
   {
    "duration": 670,
    "start_time": "2021-08-17T19:50:56.921Z"
   },
   {
    "duration": 68,
    "start_time": "2021-08-17T19:50:57.594Z"
   },
   {
    "duration": 18,
    "start_time": "2021-08-17T19:50:57.665Z"
   },
   {
    "duration": 5,
    "start_time": "2021-08-17T19:50:57.685Z"
   },
   {
    "duration": 270,
    "start_time": "2021-08-17T19:50:57.692Z"
   },
   {
    "duration": 11,
    "start_time": "2021-08-17T19:50:57.964Z"
   },
   {
    "duration": 93,
    "start_time": "2021-08-17T19:50:57.977Z"
   },
   {
    "duration": 26,
    "start_time": "2021-08-17T19:50:58.072Z"
   },
   {
    "duration": 5,
    "start_time": "2021-08-17T19:50:58.101Z"
   },
   {
    "duration": 478,
    "start_time": "2021-08-17T19:50:58.109Z"
   },
   {
    "duration": 33,
    "start_time": "2021-08-17T19:50:58.590Z"
   },
   {
    "duration": 100,
    "start_time": "2021-08-17T19:50:58.625Z"
   },
   {
    "duration": 3,
    "start_time": "2021-08-17T19:50:58.728Z"
   },
   {
    "duration": 10,
    "start_time": "2021-08-17T19:50:58.734Z"
   },
   {
    "duration": 10,
    "start_time": "2021-08-17T19:50:58.762Z"
   },
   {
    "duration": 359,
    "start_time": "2021-08-17T19:50:58.775Z"
   },
   {
    "duration": 290,
    "start_time": "2021-08-17T19:50:59.136Z"
   },
   {
    "duration": 3675,
    "start_time": "2021-08-17T19:50:55.755Z"
   },
   {
    "duration": 3669,
    "start_time": "2021-08-17T19:50:55.763Z"
   },
   {
    "duration": 3667,
    "start_time": "2021-08-17T19:50:55.767Z"
   },
   {
    "duration": 3658,
    "start_time": "2021-08-17T19:50:55.778Z"
   },
   {
    "duration": 3656,
    "start_time": "2021-08-17T19:50:55.782Z"
   },
   {
    "duration": 3653,
    "start_time": "2021-08-17T19:50:55.787Z"
   },
   {
    "duration": 3652,
    "start_time": "2021-08-17T19:50:55.791Z"
   },
   {
    "duration": 265,
    "start_time": "2021-08-17T19:55:51.456Z"
   },
   {
    "duration": 1549,
    "start_time": "2021-08-17T19:56:45.093Z"
   },
   {
    "duration": 437,
    "start_time": "2021-08-17T19:56:47.988Z"
   },
   {
    "duration": 5,
    "start_time": "2021-08-17T19:58:42.908Z"
   },
   {
    "duration": 245,
    "start_time": "2021-08-17T19:58:44.385Z"
   },
   {
    "duration": 1444,
    "start_time": "2021-08-17T19:59:18.399Z"
   },
   {
    "duration": 412,
    "start_time": "2021-08-17T19:59:19.846Z"
   },
   {
    "duration": 308,
    "start_time": "2021-08-17T20:01:51.793Z"
   },
   {
    "duration": 5,
    "start_time": "2021-08-17T20:02:19.451Z"
   },
   {
    "duration": 10,
    "start_time": "2021-08-17T20:02:20.344Z"
   },
   {
    "duration": 6,
    "start_time": "2021-08-17T20:05:58.536Z"
   },
   {
    "duration": 7,
    "start_time": "2021-08-17T20:07:40.045Z"
   },
   {
    "duration": 5,
    "start_time": "2021-08-17T20:07:57.898Z"
   },
   {
    "duration": 11,
    "start_time": "2021-08-17T20:08:05.426Z"
   },
   {
    "duration": 1467,
    "start_time": "2021-08-17T20:21:51.218Z"
   },
   {
    "duration": 1053,
    "start_time": "2021-08-17T20:21:52.688Z"
   },
   {
    "duration": 170,
    "start_time": "2021-08-17T20:21:53.744Z"
   },
   {
    "duration": 24,
    "start_time": "2021-08-17T20:21:53.917Z"
   },
   {
    "duration": 148,
    "start_time": "2021-08-17T20:21:53.944Z"
   },
   {
    "duration": 166,
    "start_time": "2021-08-17T20:21:54.095Z"
   },
   {
    "duration": 44,
    "start_time": "2021-08-17T20:21:54.264Z"
   },
   {
    "duration": 66,
    "start_time": "2021-08-17T20:21:54.312Z"
   },
   {
    "duration": 53,
    "start_time": "2021-08-17T20:21:54.381Z"
   },
   {
    "duration": 54,
    "start_time": "2021-08-17T20:21:54.437Z"
   },
   {
    "duration": 273,
    "start_time": "2021-08-17T20:21:54.494Z"
   },
   {
    "duration": 563,
    "start_time": "2021-08-17T20:21:54.770Z"
   },
   {
    "duration": 8,
    "start_time": "2021-08-17T20:21:55.335Z"
   },
   {
    "duration": 124,
    "start_time": "2021-08-17T20:21:55.345Z"
   },
   {
    "duration": 7,
    "start_time": "2021-08-17T20:21:55.471Z"
   },
   {
    "duration": 95,
    "start_time": "2021-08-17T20:21:55.480Z"
   },
   {
    "duration": 251,
    "start_time": "2021-08-17T20:21:55.578Z"
   },
   {
    "duration": 399,
    "start_time": "2021-08-17T20:21:55.831Z"
   },
   {
    "duration": 8,
    "start_time": "2021-08-17T20:21:56.232Z"
   },
   {
    "duration": 101,
    "start_time": "2021-08-17T20:21:56.263Z"
   },
   {
    "duration": 131,
    "start_time": "2021-08-17T20:21:56.367Z"
   },
   {
    "duration": 15,
    "start_time": "2021-08-17T20:21:56.500Z"
   },
   {
    "duration": 184,
    "start_time": "2021-08-17T20:21:56.522Z"
   },
   {
    "duration": 21,
    "start_time": "2021-08-17T20:21:56.710Z"
   },
   {
    "duration": 613,
    "start_time": "2021-08-17T20:21:56.733Z"
   },
   {
    "duration": 622,
    "start_time": "2021-08-17T20:21:57.348Z"
   },
   {
    "duration": 622,
    "start_time": "2021-08-17T20:21:57.973Z"
   },
   {
    "duration": 50,
    "start_time": "2021-08-17T20:21:58.597Z"
   },
   {
    "duration": 27,
    "start_time": "2021-08-17T20:21:58.649Z"
   },
   {
    "duration": 6,
    "start_time": "2021-08-17T20:21:58.678Z"
   },
   {
    "duration": 276,
    "start_time": "2021-08-17T20:21:58.686Z"
   },
   {
    "duration": 11,
    "start_time": "2021-08-17T20:21:58.964Z"
   },
   {
    "duration": 88,
    "start_time": "2021-08-17T20:21:58.978Z"
   },
   {
    "duration": 30,
    "start_time": "2021-08-17T20:21:59.068Z"
   },
   {
    "duration": 5,
    "start_time": "2021-08-17T20:21:59.101Z"
   },
   {
    "duration": 334,
    "start_time": "2021-08-17T20:21:59.109Z"
   },
   {
    "duration": 30,
    "start_time": "2021-08-17T20:21:59.445Z"
   },
   {
    "duration": 100,
    "start_time": "2021-08-17T20:21:59.478Z"
   },
   {
    "duration": 4,
    "start_time": "2021-08-17T20:21:59.581Z"
   },
   {
    "duration": 8,
    "start_time": "2021-08-17T20:21:59.587Z"
   },
   {
    "duration": 11,
    "start_time": "2021-08-17T20:21:59.597Z"
   },
   {
    "duration": 432,
    "start_time": "2021-08-17T20:21:59.610Z"
   },
   {
    "duration": 267,
    "start_time": "2021-08-17T20:22:00.045Z"
   },
   {
    "duration": 3714,
    "start_time": "2021-08-17T20:21:56.601Z"
   },
   {
    "duration": 3708,
    "start_time": "2021-08-17T20:21:56.609Z"
   },
   {
    "duration": 3700,
    "start_time": "2021-08-17T20:21:56.620Z"
   },
   {
    "duration": 3698,
    "start_time": "2021-08-17T20:21:56.624Z"
   },
   {
    "duration": 3697,
    "start_time": "2021-08-17T20:21:56.628Z"
   },
   {
    "duration": 3695,
    "start_time": "2021-08-17T20:21:56.632Z"
   },
   {
    "duration": 3693,
    "start_time": "2021-08-17T20:21:56.636Z"
   },
   {
    "duration": 921,
    "start_time": "2021-08-17T20:26:37.132Z"
   },
   {
    "duration": 984,
    "start_time": "2021-08-17T20:26:40.719Z"
   },
   {
    "duration": 9,
    "start_time": "2021-08-17T20:26:42.737Z"
   },
   {
    "duration": 8,
    "start_time": "2021-08-17T20:26:55.117Z"
   },
   {
    "duration": 1476,
    "start_time": "2021-08-17T20:29:58.777Z"
   },
   {
    "duration": 6,
    "start_time": "2021-08-17T20:30:00.255Z"
   },
   {
    "duration": 1154,
    "start_time": "2021-08-17T20:30:00.264Z"
   },
   {
    "duration": 168,
    "start_time": "2021-08-17T20:30:01.421Z"
   },
   {
    "duration": 26,
    "start_time": "2021-08-17T20:30:01.591Z"
   },
   {
    "duration": 152,
    "start_time": "2021-08-17T20:30:01.619Z"
   },
   {
    "duration": 169,
    "start_time": "2021-08-17T20:30:01.774Z"
   },
   {
    "duration": 50,
    "start_time": "2021-08-17T20:30:01.947Z"
   },
   {
    "duration": 85,
    "start_time": "2021-08-17T20:30:02.000Z"
   },
   {
    "duration": 108,
    "start_time": "2021-08-17T20:30:02.087Z"
   },
   {
    "duration": 79,
    "start_time": "2021-08-17T20:30:02.198Z"
   },
   {
    "duration": 260,
    "start_time": "2021-08-17T20:30:02.279Z"
   },
   {
    "duration": 1031,
    "start_time": "2021-08-17T20:30:02.541Z"
   },
   {
    "duration": 8,
    "start_time": "2021-08-17T20:30:03.575Z"
   },
   {
    "duration": 126,
    "start_time": "2021-08-17T20:30:03.586Z"
   },
   {
    "duration": 8,
    "start_time": "2021-08-17T20:30:03.714Z"
   },
   {
    "duration": 93,
    "start_time": "2021-08-17T20:30:03.724Z"
   },
   {
    "duration": 250,
    "start_time": "2021-08-17T20:30:03.820Z"
   },
   {
    "duration": 418,
    "start_time": "2021-08-17T20:30:04.073Z"
   },
   {
    "duration": 8,
    "start_time": "2021-08-17T20:30:04.494Z"
   },
   {
    "duration": 122,
    "start_time": "2021-08-17T20:30:04.504Z"
   },
   {
    "duration": 168,
    "start_time": "2021-08-17T20:30:04.629Z"
   },
   {
    "duration": 15,
    "start_time": "2021-08-17T20:30:04.803Z"
   },
   {
    "duration": 172,
    "start_time": "2021-08-17T20:30:04.821Z"
   },
   {
    "duration": 21,
    "start_time": "2021-08-17T20:30:04.995Z"
   },
   {
    "duration": 655,
    "start_time": "2021-08-17T20:30:05.019Z"
   },
   {
    "duration": 639,
    "start_time": "2021-08-17T20:30:05.677Z"
   },
   {
    "duration": 689,
    "start_time": "2021-08-17T20:30:06.318Z"
   },
   {
    "duration": 64,
    "start_time": "2021-08-17T20:30:07.010Z"
   },
   {
    "duration": 19,
    "start_time": "2021-08-17T20:30:07.077Z"
   },
   {
    "duration": 17,
    "start_time": "2021-08-17T20:30:07.099Z"
   },
   {
    "duration": 275,
    "start_time": "2021-08-17T20:30:07.119Z"
   },
   {
    "duration": 13,
    "start_time": "2021-08-17T20:30:07.396Z"
   },
   {
    "duration": 94,
    "start_time": "2021-08-17T20:30:07.412Z"
   },
   {
    "duration": 26,
    "start_time": "2021-08-17T20:30:07.508Z"
   },
   {
    "duration": 4,
    "start_time": "2021-08-17T20:30:07.537Z"
   },
   {
    "duration": 330,
    "start_time": "2021-08-17T20:30:07.563Z"
   },
   {
    "duration": 22,
    "start_time": "2021-08-17T20:30:07.896Z"
   },
   {
    "duration": 102,
    "start_time": "2021-08-17T20:30:07.921Z"
   },
   {
    "duration": 3,
    "start_time": "2021-08-17T20:30:08.026Z"
   },
   {
    "duration": 18,
    "start_time": "2021-08-17T20:30:08.031Z"
   },
   {
    "duration": 23,
    "start_time": "2021-08-17T20:30:08.051Z"
   },
   {
    "duration": 12696,
    "start_time": "2021-08-17T20:30:08.077Z"
   },
   {
    "duration": 6,
    "start_time": "2021-08-17T20:30:20.776Z"
   },
   {
    "duration": 19,
    "start_time": "2021-08-17T20:30:20.785Z"
   },
   {
    "duration": 62,
    "start_time": "2021-08-17T20:30:20.807Z"
   },
   {
    "duration": 19,
    "start_time": "2021-08-17T20:30:20.872Z"
   },
   {
    "duration": 48,
    "start_time": "2021-08-17T20:30:20.894Z"
   },
   {
    "duration": 18,
    "start_time": "2021-08-17T20:30:20.944Z"
   },
   {
    "duration": 17,
    "start_time": "2021-08-17T20:30:20.964Z"
   },
   {
    "duration": 21,
    "start_time": "2021-08-17T20:30:20.983Z"
   },
   {
    "duration": 1538,
    "start_time": "2021-08-17T20:31:58.153Z"
   },
   {
    "duration": 3,
    "start_time": "2021-08-17T20:31:59.694Z"
   },
   {
    "duration": 1123,
    "start_time": "2021-08-17T20:31:59.700Z"
   },
   {
    "duration": 172,
    "start_time": "2021-08-17T20:32:00.825Z"
   },
   {
    "duration": 24,
    "start_time": "2021-08-17T20:32:00.999Z"
   },
   {
    "duration": 146,
    "start_time": "2021-08-17T20:32:01.025Z"
   },
   {
    "duration": 170,
    "start_time": "2021-08-17T20:32:01.174Z"
   },
   {
    "duration": 48,
    "start_time": "2021-08-17T20:32:01.347Z"
   },
   {
    "duration": 64,
    "start_time": "2021-08-17T20:32:01.400Z"
   },
   {
    "duration": 63,
    "start_time": "2021-08-17T20:32:01.467Z"
   },
   {
    "duration": 68,
    "start_time": "2021-08-17T20:32:01.533Z"
   },
   {
    "duration": 278,
    "start_time": "2021-08-17T20:32:01.605Z"
   },
   {
    "duration": 576,
    "start_time": "2021-08-17T20:32:01.886Z"
   },
   {
    "duration": 11,
    "start_time": "2021-08-17T20:32:02.464Z"
   },
   {
    "duration": 123,
    "start_time": "2021-08-17T20:32:02.478Z"
   },
   {
    "duration": 9,
    "start_time": "2021-08-17T20:32:02.603Z"
   },
   {
    "duration": 97,
    "start_time": "2021-08-17T20:32:02.614Z"
   },
   {
    "duration": 253,
    "start_time": "2021-08-17T20:32:02.714Z"
   },
   {
    "duration": 654,
    "start_time": "2021-08-17T20:32:02.971Z"
   },
   {
    "duration": 10,
    "start_time": "2021-08-17T20:32:03.628Z"
   },
   {
    "duration": 136,
    "start_time": "2021-08-17T20:32:03.641Z"
   },
   {
    "duration": 173,
    "start_time": "2021-08-17T20:32:03.780Z"
   },
   {
    "duration": 14,
    "start_time": "2021-08-17T20:32:03.958Z"
   },
   {
    "duration": 182,
    "start_time": "2021-08-17T20:32:03.976Z"
   },
   {
    "duration": 21,
    "start_time": "2021-08-17T20:32:04.160Z"
   },
   {
    "duration": 671,
    "start_time": "2021-08-17T20:32:04.184Z"
   },
   {
    "duration": 669,
    "start_time": "2021-08-17T20:32:04.857Z"
   },
   {
    "duration": 686,
    "start_time": "2021-08-17T20:32:05.528Z"
   },
   {
    "duration": 64,
    "start_time": "2021-08-17T20:32:06.217Z"
   },
   {
    "duration": 17,
    "start_time": "2021-08-17T20:32:06.284Z"
   },
   {
    "duration": 9,
    "start_time": "2021-08-17T20:32:06.303Z"
   },
   {
    "duration": 274,
    "start_time": "2021-08-17T20:32:06.314Z"
   },
   {
    "duration": 11,
    "start_time": "2021-08-17T20:32:06.591Z"
   },
   {
    "duration": 94,
    "start_time": "2021-08-17T20:32:06.604Z"
   },
   {
    "duration": 26,
    "start_time": "2021-08-17T20:32:06.700Z"
   },
   {
    "duration": 4,
    "start_time": "2021-08-17T20:32:06.728Z"
   },
   {
    "duration": 330,
    "start_time": "2021-08-17T20:32:06.734Z"
   },
   {
    "duration": 22,
    "start_time": "2021-08-17T20:32:07.066Z"
   },
   {
    "duration": 110,
    "start_time": "2021-08-17T20:32:07.090Z"
   },
   {
    "duration": 3,
    "start_time": "2021-08-17T20:32:07.202Z"
   },
   {
    "duration": 8,
    "start_time": "2021-08-17T20:32:07.208Z"
   },
   {
    "duration": 16,
    "start_time": "2021-08-17T20:32:07.218Z"
   },
   {
    "duration": 10481,
    "start_time": "2021-08-17T20:32:07.237Z"
   },
   {
    "duration": 352,
    "start_time": "2021-08-17T20:32:17.721Z"
   },
   {
    "duration": 3615,
    "start_time": "2021-08-17T20:32:14.460Z"
   },
   {
    "duration": 3614,
    "start_time": "2021-08-17T20:32:14.463Z"
   },
   {
    "duration": 3610,
    "start_time": "2021-08-17T20:32:14.468Z"
   },
   {
    "duration": 3608,
    "start_time": "2021-08-17T20:32:14.472Z"
   },
   {
    "duration": 3606,
    "start_time": "2021-08-17T20:32:14.475Z"
   },
   {
    "duration": 3604,
    "start_time": "2021-08-17T20:32:14.479Z"
   },
   {
    "duration": 3601,
    "start_time": "2021-08-17T20:32:14.483Z"
   },
   {
    "duration": 1489,
    "start_time": "2021-08-17T20:33:43.289Z"
   },
   {
    "duration": 2231,
    "start_time": "2021-08-17T20:33:44.781Z"
   },
   {
    "duration": 3772,
    "start_time": "2021-08-17T20:33:43.245Z"
   },
   {
    "duration": 3767,
    "start_time": "2021-08-17T20:33:43.251Z"
   },
   {
    "duration": 3763,
    "start_time": "2021-08-17T20:33:43.257Z"
   },
   {
    "duration": 3759,
    "start_time": "2021-08-17T20:33:43.262Z"
   },
   {
    "duration": 3728,
    "start_time": "2021-08-17T20:33:43.294Z"
   },
   {
    "duration": 3723,
    "start_time": "2021-08-17T20:33:43.301Z"
   },
   {
    "duration": 3718,
    "start_time": "2021-08-17T20:33:43.308Z"
   },
   {
    "duration": 3715,
    "start_time": "2021-08-17T20:33:43.312Z"
   },
   {
    "duration": 3710,
    "start_time": "2021-08-17T20:33:43.319Z"
   },
   {
    "duration": 3708,
    "start_time": "2021-08-17T20:33:43.322Z"
   },
   {
    "duration": 3705,
    "start_time": "2021-08-17T20:33:43.326Z"
   },
   {
    "duration": 3703,
    "start_time": "2021-08-17T20:33:43.330Z"
   },
   {
    "duration": 3700,
    "start_time": "2021-08-17T20:33:43.334Z"
   },
   {
    "duration": 3689,
    "start_time": "2021-08-17T20:33:43.347Z"
   },
   {
    "duration": 3672,
    "start_time": "2021-08-17T20:33:43.366Z"
   },
   {
    "duration": 3654,
    "start_time": "2021-08-17T20:33:43.385Z"
   },
   {
    "duration": 3621,
    "start_time": "2021-08-17T20:33:43.420Z"
   },
   {
    "duration": 3587,
    "start_time": "2021-08-17T20:33:43.456Z"
   },
   {
    "duration": 3559,
    "start_time": "2021-08-17T20:33:43.485Z"
   },
   {
    "duration": 3542,
    "start_time": "2021-08-17T20:33:43.505Z"
   },
   {
    "duration": 3513,
    "start_time": "2021-08-17T20:33:43.536Z"
   },
   {
    "duration": 3509,
    "start_time": "2021-08-17T20:33:43.541Z"
   },
   {
    "duration": 3506,
    "start_time": "2021-08-17T20:33:43.546Z"
   },
   {
    "duration": 3510,
    "start_time": "2021-08-17T20:33:43.550Z"
   },
   {
    "duration": 3508,
    "start_time": "2021-08-17T20:33:43.554Z"
   },
   {
    "duration": 3505,
    "start_time": "2021-08-17T20:33:43.558Z"
   },
   {
    "duration": 3503,
    "start_time": "2021-08-17T20:33:43.562Z"
   },
   {
    "duration": 3500,
    "start_time": "2021-08-17T20:33:43.566Z"
   },
   {
    "duration": 3498,
    "start_time": "2021-08-17T20:33:43.570Z"
   },
   {
    "duration": 3496,
    "start_time": "2021-08-17T20:33:43.573Z"
   },
   {
    "duration": 3494,
    "start_time": "2021-08-17T20:33:43.577Z"
   },
   {
    "duration": 3491,
    "start_time": "2021-08-17T20:33:43.581Z"
   },
   {
    "duration": 3489,
    "start_time": "2021-08-17T20:33:43.585Z"
   },
   {
    "duration": 3487,
    "start_time": "2021-08-17T20:33:43.588Z"
   },
   {
    "duration": 3482,
    "start_time": "2021-08-17T20:33:43.594Z"
   },
   {
    "duration": 3450,
    "start_time": "2021-08-17T20:33:43.628Z"
   },
   {
    "duration": 3405,
    "start_time": "2021-08-17T20:33:43.674Z"
   },
   {
    "duration": 3403,
    "start_time": "2021-08-17T20:33:43.678Z"
   },
   {
    "duration": 3399,
    "start_time": "2021-08-17T20:33:43.683Z"
   },
   {
    "duration": 3398,
    "start_time": "2021-08-17T20:33:43.686Z"
   },
   {
    "duration": 3395,
    "start_time": "2021-08-17T20:33:43.690Z"
   },
   {
    "duration": 3393,
    "start_time": "2021-08-17T20:33:43.693Z"
   },
   {
    "duration": 3391,
    "start_time": "2021-08-17T20:33:43.697Z"
   },
   {
    "duration": 3388,
    "start_time": "2021-08-17T20:33:43.701Z"
   },
   {
    "duration": 3385,
    "start_time": "2021-08-17T20:33:43.705Z"
   },
   {
    "duration": 3384,
    "start_time": "2021-08-17T20:33:43.708Z"
   },
   {
    "duration": 3381,
    "start_time": "2021-08-17T20:33:43.712Z"
   },
   {
    "duration": 3379,
    "start_time": "2021-08-17T20:33:43.716Z"
   },
   {
    "duration": 3376,
    "start_time": "2021-08-17T20:33:43.720Z"
   },
   {
    "duration": 9,
    "start_time": "2021-08-18T10:12:17.537Z"
   },
   {
    "duration": 1235,
    "start_time": "2021-08-18T10:20:50.870Z"
   },
   {
    "duration": 786,
    "start_time": "2021-08-18T10:20:52.107Z"
   },
   {
    "duration": 127,
    "start_time": "2021-08-18T10:20:52.895Z"
   },
   {
    "duration": 23,
    "start_time": "2021-08-18T10:20:53.025Z"
   },
   {
    "duration": 114,
    "start_time": "2021-08-18T10:20:53.050Z"
   },
   {
    "duration": 128,
    "start_time": "2021-08-18T10:20:53.167Z"
   },
   {
    "duration": 386,
    "start_time": "2021-08-18T10:20:53.297Z"
   },
   {
    "duration": 3771,
    "start_time": "2021-08-18T10:20:49.915Z"
   },
   {
    "duration": 3762,
    "start_time": "2021-08-18T10:20:49.925Z"
   },
   {
    "duration": 3754,
    "start_time": "2021-08-18T10:20:49.934Z"
   },
   {
    "duration": 3731,
    "start_time": "2021-08-18T10:20:49.958Z"
   },
   {
    "duration": 3720,
    "start_time": "2021-08-18T10:20:49.970Z"
   },
   {
    "duration": 3716,
    "start_time": "2021-08-18T10:20:49.975Z"
   },
   {
    "duration": 3711,
    "start_time": "2021-08-18T10:20:49.981Z"
   },
   {
    "duration": 3705,
    "start_time": "2021-08-18T10:20:49.988Z"
   },
   {
    "duration": 3698,
    "start_time": "2021-08-18T10:20:49.996Z"
   },
   {
    "duration": 3694,
    "start_time": "2021-08-18T10:20:50.001Z"
   },
   {
    "duration": 3688,
    "start_time": "2021-08-18T10:20:50.008Z"
   },
   {
    "duration": 3682,
    "start_time": "2021-08-18T10:20:50.015Z"
   },
   {
    "duration": 3678,
    "start_time": "2021-08-18T10:20:50.020Z"
   },
   {
    "duration": 3674,
    "start_time": "2021-08-18T10:20:50.025Z"
   },
   {
    "duration": 3671,
    "start_time": "2021-08-18T10:20:50.029Z"
   },
   {
    "duration": 3668,
    "start_time": "2021-08-18T10:20:50.033Z"
   },
   {
    "duration": 3664,
    "start_time": "2021-08-18T10:20:50.037Z"
   },
   {
    "duration": 3662,
    "start_time": "2021-08-18T10:20:50.040Z"
   },
   {
    "duration": 3659,
    "start_time": "2021-08-18T10:20:50.044Z"
   },
   {
    "duration": 3656,
    "start_time": "2021-08-18T10:20:50.048Z"
   },
   {
    "duration": 3653,
    "start_time": "2021-08-18T10:20:50.052Z"
   },
   {
    "duration": 3651,
    "start_time": "2021-08-18T10:20:50.056Z"
   },
   {
    "duration": 3635,
    "start_time": "2021-08-18T10:20:50.073Z"
   },
   {
    "duration": 3632,
    "start_time": "2021-08-18T10:20:50.077Z"
   },
   {
    "duration": 3629,
    "start_time": "2021-08-18T10:20:50.081Z"
   },
   {
    "duration": 3626,
    "start_time": "2021-08-18T10:20:50.085Z"
   },
   {
    "duration": 3623,
    "start_time": "2021-08-18T10:20:50.089Z"
   },
   {
    "duration": 3620,
    "start_time": "2021-08-18T10:20:50.093Z"
   },
   {
    "duration": 3617,
    "start_time": "2021-08-18T10:20:50.097Z"
   },
   {
    "duration": 3614,
    "start_time": "2021-08-18T10:20:50.101Z"
   },
   {
    "duration": 3610,
    "start_time": "2021-08-18T10:20:50.106Z"
   },
   {
    "duration": 3607,
    "start_time": "2021-08-18T10:20:50.110Z"
   },
   {
    "duration": 3603,
    "start_time": "2021-08-18T10:20:50.115Z"
   },
   {
    "duration": 3601,
    "start_time": "2021-08-18T10:20:50.118Z"
   },
   {
    "duration": 3597,
    "start_time": "2021-08-18T10:20:50.123Z"
   },
   {
    "duration": 3595,
    "start_time": "2021-08-18T10:20:50.126Z"
   },
   {
    "duration": 3592,
    "start_time": "2021-08-18T10:20:50.130Z"
   },
   {
    "duration": 3589,
    "start_time": "2021-08-18T10:20:50.134Z"
   },
   {
    "duration": 3601,
    "start_time": "2021-08-18T10:20:50.139Z"
   },
   {
    "duration": 3599,
    "start_time": "2021-08-18T10:20:50.142Z"
   },
   {
    "duration": 3595,
    "start_time": "2021-08-18T10:20:50.147Z"
   },
   {
    "duration": 3592,
    "start_time": "2021-08-18T10:20:50.151Z"
   },
   {
    "duration": 3589,
    "start_time": "2021-08-18T10:20:50.155Z"
   },
   {
    "duration": 3586,
    "start_time": "2021-08-18T10:20:50.159Z"
   },
   {
    "duration": 3583,
    "start_time": "2021-08-18T10:20:50.163Z"
   },
   {
    "duration": 3580,
    "start_time": "2021-08-18T10:20:50.167Z"
   },
   {
    "duration": 1195,
    "start_time": "2021-08-18T10:21:02.626Z"
   },
   {
    "duration": 822,
    "start_time": "2021-08-18T10:21:03.823Z"
   },
   {
    "duration": 130,
    "start_time": "2021-08-18T10:21:04.647Z"
   },
   {
    "duration": 18,
    "start_time": "2021-08-18T10:21:04.779Z"
   },
   {
    "duration": 117,
    "start_time": "2021-08-18T10:21:04.799Z"
   },
   {
    "duration": 138,
    "start_time": "2021-08-18T10:21:04.918Z"
   },
   {
    "duration": 365,
    "start_time": "2021-08-18T10:21:05.057Z"
   },
   {
    "duration": 3700,
    "start_time": "2021-08-18T10:21:01.726Z"
   },
   {
    "duration": 3686,
    "start_time": "2021-08-18T10:21:01.741Z"
   },
   {
    "duration": 3669,
    "start_time": "2021-08-18T10:21:01.759Z"
   },
   {
    "duration": 3632,
    "start_time": "2021-08-18T10:21:01.797Z"
   },
   {
    "duration": 3599,
    "start_time": "2021-08-18T10:21:01.831Z"
   },
   {
    "duration": 3571,
    "start_time": "2021-08-18T10:21:01.860Z"
   },
   {
    "duration": 3567,
    "start_time": "2021-08-18T10:21:01.865Z"
   },
   {
    "duration": 3564,
    "start_time": "2021-08-18T10:21:01.869Z"
   },
   {
    "duration": 3560,
    "start_time": "2021-08-18T10:21:01.874Z"
   },
   {
    "duration": 3557,
    "start_time": "2021-08-18T10:21:01.878Z"
   },
   {
    "duration": 3554,
    "start_time": "2021-08-18T10:21:01.882Z"
   },
   {
    "duration": 3551,
    "start_time": "2021-08-18T10:21:01.886Z"
   },
   {
    "duration": 3547,
    "start_time": "2021-08-18T10:21:01.891Z"
   },
   {
    "duration": 3544,
    "start_time": "2021-08-18T10:21:01.895Z"
   },
   {
    "duration": 3541,
    "start_time": "2021-08-18T10:21:01.899Z"
   },
   {
    "duration": 3538,
    "start_time": "2021-08-18T10:21:01.903Z"
   },
   {
    "duration": 3536,
    "start_time": "2021-08-18T10:21:01.906Z"
   },
   {
    "duration": 3532,
    "start_time": "2021-08-18T10:21:01.911Z"
   },
   {
    "duration": 3530,
    "start_time": "2021-08-18T10:21:01.914Z"
   },
   {
    "duration": 3527,
    "start_time": "2021-08-18T10:21:01.918Z"
   },
   {
    "duration": 3523,
    "start_time": "2021-08-18T10:21:01.923Z"
   },
   {
    "duration": 3521,
    "start_time": "2021-08-18T10:21:01.927Z"
   },
   {
    "duration": 3518,
    "start_time": "2021-08-18T10:21:01.931Z"
   },
   {
    "duration": 3515,
    "start_time": "2021-08-18T10:21:01.935Z"
   },
   {
    "duration": 3514,
    "start_time": "2021-08-18T10:21:01.938Z"
   },
   {
    "duration": 3510,
    "start_time": "2021-08-18T10:21:01.943Z"
   },
   {
    "duration": 3509,
    "start_time": "2021-08-18T10:21:01.946Z"
   },
   {
    "duration": 3506,
    "start_time": "2021-08-18T10:21:01.950Z"
   },
   {
    "duration": 3504,
    "start_time": "2021-08-18T10:21:01.954Z"
   },
   {
    "duration": 3483,
    "start_time": "2021-08-18T10:21:01.976Z"
   },
   {
    "duration": 3480,
    "start_time": "2021-08-18T10:21:01.981Z"
   },
   {
    "duration": 3479,
    "start_time": "2021-08-18T10:21:01.985Z"
   },
   {
    "duration": 3476,
    "start_time": "2021-08-18T10:21:01.990Z"
   },
   {
    "duration": 3473,
    "start_time": "2021-08-18T10:21:01.994Z"
   },
   {
    "duration": 3471,
    "start_time": "2021-08-18T10:21:01.998Z"
   },
   {
    "duration": 3468,
    "start_time": "2021-08-18T10:21:02.002Z"
   },
   {
    "duration": 3466,
    "start_time": "2021-08-18T10:21:02.006Z"
   },
   {
    "duration": 3463,
    "start_time": "2021-08-18T10:21:02.010Z"
   },
   {
    "duration": 3460,
    "start_time": "2021-08-18T10:21:02.014Z"
   },
   {
    "duration": 3458,
    "start_time": "2021-08-18T10:21:02.018Z"
   },
   {
    "duration": 3454,
    "start_time": "2021-08-18T10:21:02.023Z"
   },
   {
    "duration": 3452,
    "start_time": "2021-08-18T10:21:02.027Z"
   },
   {
    "duration": 3447,
    "start_time": "2021-08-18T10:21:02.033Z"
   },
   {
    "duration": 3503,
    "start_time": "2021-08-18T10:21:02.037Z"
   },
   {
    "duration": 3486,
    "start_time": "2021-08-18T10:21:02.056Z"
   },
   {
    "duration": 3454,
    "start_time": "2021-08-18T10:21:02.089Z"
   },
   {
    "duration": 1222,
    "start_time": "2021-08-18T10:24:06.692Z"
   },
   {
    "duration": 899,
    "start_time": "2021-08-18T10:24:07.916Z"
   },
   {
    "duration": 127,
    "start_time": "2021-08-18T10:24:08.817Z"
   },
   {
    "duration": 16,
    "start_time": "2021-08-18T10:24:08.946Z"
   },
   {
    "duration": 118,
    "start_time": "2021-08-18T10:24:08.963Z"
   },
   {
    "duration": 34,
    "start_time": "2021-08-18T10:24:09.083Z"
   },
   {
    "duration": 48,
    "start_time": "2021-08-18T10:24:09.118Z"
   },
   {
    "duration": 37,
    "start_time": "2021-08-18T10:24:09.168Z"
   },
   {
    "duration": 45,
    "start_time": "2021-08-18T10:24:09.207Z"
   },
   {
    "duration": 174,
    "start_time": "2021-08-18T10:24:09.253Z"
   },
   {
    "duration": 328,
    "start_time": "2021-08-18T10:24:09.429Z"
   },
   {
    "duration": 6,
    "start_time": "2021-08-18T10:24:09.759Z"
   },
   {
    "duration": 60,
    "start_time": "2021-08-18T10:24:09.766Z"
   },
   {
    "duration": 20,
    "start_time": "2021-08-18T10:24:09.827Z"
   },
   {
    "duration": 39,
    "start_time": "2021-08-18T10:24:09.849Z"
   },
   {
    "duration": 174,
    "start_time": "2021-08-18T10:24:09.890Z"
   },
   {
    "duration": 263,
    "start_time": "2021-08-18T10:24:10.066Z"
   },
   {
    "duration": 10,
    "start_time": "2021-08-18T10:24:10.331Z"
   },
   {
    "duration": 50,
    "start_time": "2021-08-18T10:24:10.343Z"
   },
   {
    "duration": 112,
    "start_time": "2021-08-18T10:24:10.395Z"
   },
   {
    "duration": 11,
    "start_time": "2021-08-18T10:24:10.509Z"
   },
   {
    "duration": 127,
    "start_time": "2021-08-18T10:24:10.522Z"
   },
   {
    "duration": 15,
    "start_time": "2021-08-18T10:24:10.653Z"
   },
   {
    "duration": 412,
    "start_time": "2021-08-18T10:24:10.670Z"
   },
   {
    "duration": 388,
    "start_time": "2021-08-18T10:24:11.084Z"
   },
   {
    "duration": 402,
    "start_time": "2021-08-18T10:24:11.474Z"
   },
   {
    "duration": 28,
    "start_time": "2021-08-18T10:24:11.878Z"
   },
   {
    "duration": 11,
    "start_time": "2021-08-18T10:24:11.908Z"
   },
   {
    "duration": 5,
    "start_time": "2021-08-18T10:24:11.921Z"
   },
   {
    "duration": 174,
    "start_time": "2021-08-18T10:24:11.942Z"
   },
   {
    "duration": 126,
    "start_time": "2021-08-18T10:24:12.118Z"
   },
   {
    "duration": 387,
    "start_time": "2021-08-18T10:24:12.245Z"
   },
   {
    "duration": 3691,
    "start_time": "2021-08-18T10:24:08.944Z"
   },
   {
    "duration": 3664,
    "start_time": "2021-08-18T10:24:08.973Z"
   },
   {
    "duration": 3649,
    "start_time": "2021-08-18T10:24:08.989Z"
   },
   {
    "duration": 3631,
    "start_time": "2021-08-18T10:24:09.008Z"
   },
   {
    "duration": 3616,
    "start_time": "2021-08-18T10:24:09.025Z"
   },
   {
    "duration": 3600,
    "start_time": "2021-08-18T10:24:09.042Z"
   },
   {
    "duration": 3585,
    "start_time": "2021-08-18T10:24:09.059Z"
   },
   {
    "duration": 3568,
    "start_time": "2021-08-18T10:24:09.077Z"
   },
   {
    "duration": 3565,
    "start_time": "2021-08-18T10:24:09.081Z"
   },
   {
    "duration": 3562,
    "start_time": "2021-08-18T10:24:09.086Z"
   },
   {
    "duration": 3559,
    "start_time": "2021-08-18T10:24:09.090Z"
   },
   {
    "duration": 3557,
    "start_time": "2021-08-18T10:24:09.094Z"
   },
   {
    "duration": 3554,
    "start_time": "2021-08-18T10:24:09.098Z"
   },
   {
    "duration": 3551,
    "start_time": "2021-08-18T10:24:09.102Z"
   },
   {
    "duration": 3549,
    "start_time": "2021-08-18T10:24:09.106Z"
   },
   {
    "duration": 3546,
    "start_time": "2021-08-18T10:24:09.110Z"
   },
   {
    "duration": 3544,
    "start_time": "2021-08-18T10:24:09.114Z"
   },
   {
    "duration": 3541,
    "start_time": "2021-08-18T10:24:09.118Z"
   },
   {
    "duration": 3540,
    "start_time": "2021-08-18T10:24:09.122Z"
   },
   {
    "duration": 3537,
    "start_time": "2021-08-18T10:24:09.126Z"
   },
   {
    "duration": 3535,
    "start_time": "2021-08-18T10:24:09.130Z"
   },
   {
    "duration": 1229,
    "start_time": "2021-08-18T10:25:25.969Z"
   },
   {
    "duration": 786,
    "start_time": "2021-08-18T10:25:27.200Z"
   },
   {
    "duration": 125,
    "start_time": "2021-08-18T10:25:27.988Z"
   },
   {
    "duration": 26,
    "start_time": "2021-08-18T10:25:28.115Z"
   },
   {
    "duration": 107,
    "start_time": "2021-08-18T10:25:28.143Z"
   },
   {
    "duration": 33,
    "start_time": "2021-08-18T10:25:28.252Z"
   },
   {
    "duration": 40,
    "start_time": "2021-08-18T10:25:28.286Z"
   },
   {
    "duration": 40,
    "start_time": "2021-08-18T10:25:28.329Z"
   },
   {
    "duration": 47,
    "start_time": "2021-08-18T10:25:28.371Z"
   },
   {
    "duration": 182,
    "start_time": "2021-08-18T10:25:28.419Z"
   },
   {
    "duration": 346,
    "start_time": "2021-08-18T10:25:28.603Z"
   },
   {
    "duration": 8,
    "start_time": "2021-08-18T10:25:28.951Z"
   },
   {
    "duration": 80,
    "start_time": "2021-08-18T10:25:28.961Z"
   },
   {
    "duration": 8,
    "start_time": "2021-08-18T10:25:29.043Z"
   },
   {
    "duration": 43,
    "start_time": "2021-08-18T10:25:29.053Z"
   },
   {
    "duration": 180,
    "start_time": "2021-08-18T10:25:29.098Z"
   },
   {
    "duration": 260,
    "start_time": "2021-08-18T10:25:29.280Z"
   },
   {
    "duration": 5,
    "start_time": "2021-08-18T10:25:29.542Z"
   },
   {
    "duration": 55,
    "start_time": "2021-08-18T10:25:29.549Z"
   },
   {
    "duration": 108,
    "start_time": "2021-08-18T10:25:29.606Z"
   },
   {
    "duration": 12,
    "start_time": "2021-08-18T10:25:29.715Z"
   },
   {
    "duration": 127,
    "start_time": "2021-08-18T10:25:29.742Z"
   },
   {
    "duration": 15,
    "start_time": "2021-08-18T10:25:29.873Z"
   },
   {
    "duration": 534,
    "start_time": "2021-08-18T10:25:29.890Z"
   },
   {
    "duration": 404,
    "start_time": "2021-08-18T10:25:30.426Z"
   },
   {
    "duration": 426,
    "start_time": "2021-08-18T10:25:30.832Z"
   },
   {
    "duration": 29,
    "start_time": "2021-08-18T10:25:31.260Z"
   },
   {
    "duration": 12,
    "start_time": "2021-08-18T10:25:31.291Z"
   },
   {
    "duration": 18,
    "start_time": "2021-08-18T10:25:31.305Z"
   },
   {
    "duration": 130,
    "start_time": "2021-08-18T10:25:31.325Z"
   },
   {
    "duration": 160,
    "start_time": "2021-08-18T10:25:31.457Z"
   },
   {
    "duration": 173,
    "start_time": "2021-08-18T10:25:31.618Z"
   },
   {
    "duration": 2,
    "start_time": "2021-08-18T10:25:31.793Z"
   },
   {
    "duration": 10,
    "start_time": "2021-08-18T10:25:31.797Z"
   },
   {
    "duration": 26,
    "start_time": "2021-08-18T10:25:31.808Z"
   },
   {
    "duration": 78,
    "start_time": "2021-08-18T10:25:31.836Z"
   },
   {
    "duration": 18,
    "start_time": "2021-08-18T10:25:31.915Z"
   },
   {
    "duration": 3,
    "start_time": "2021-08-18T10:25:31.935Z"
   },
   {
    "duration": 322,
    "start_time": "2021-08-18T10:25:31.939Z"
   },
   {
    "duration": 18,
    "start_time": "2021-08-18T10:25:32.263Z"
   },
   {
    "duration": 84,
    "start_time": "2021-08-18T10:25:32.283Z"
   },
   {
    "duration": 2,
    "start_time": "2021-08-18T10:25:32.369Z"
   },
   {
    "duration": 7,
    "start_time": "2021-08-18T10:25:32.373Z"
   },
   {
    "duration": 7,
    "start_time": "2021-08-18T10:25:32.381Z"
   },
   {
    "duration": 8961,
    "start_time": "2021-08-18T10:25:32.390Z"
   },
   {
    "duration": 4,
    "start_time": "2021-08-18T10:25:41.353Z"
   },
   {
    "duration": 8,
    "start_time": "2021-08-18T10:25:41.358Z"
   },
   {
    "duration": 74,
    "start_time": "2021-08-18T10:25:41.368Z"
   },
   {
    "duration": 7,
    "start_time": "2021-08-18T10:25:41.444Z"
   },
   {
    "duration": 31,
    "start_time": "2021-08-18T10:25:41.452Z"
   },
   {
    "duration": 4,
    "start_time": "2021-08-18T10:25:41.484Z"
   },
   {
    "duration": 13,
    "start_time": "2021-08-18T10:25:41.490Z"
   },
   {
    "duration": 41,
    "start_time": "2021-08-18T10:25:41.505Z"
   },
   {
    "duration": 7,
    "start_time": "2021-08-18T11:27:08.663Z"
   },
   {
    "duration": 1126,
    "start_time": "2021-08-18T12:07:26.189Z"
   },
   {
    "duration": 824,
    "start_time": "2021-08-18T12:07:27.317Z"
   },
   {
    "duration": 129,
    "start_time": "2021-08-18T12:07:28.143Z"
   },
   {
    "duration": 16,
    "start_time": "2021-08-18T12:07:28.274Z"
   },
   {
    "duration": 114,
    "start_time": "2021-08-18T12:07:28.292Z"
   },
   {
    "duration": 170,
    "start_time": "2021-08-18T12:07:28.408Z"
   },
   {
    "duration": 333,
    "start_time": "2021-08-18T12:07:28.580Z"
   },
   {
    "duration": 75,
    "start_time": "2021-08-18T12:07:28.916Z"
   },
   {
    "duration": 7,
    "start_time": "2021-08-18T12:07:28.993Z"
   },
   {
    "duration": 58,
    "start_time": "2021-08-18T12:07:29.001Z"
   },
   {
    "duration": 157,
    "start_time": "2021-08-18T12:07:29.061Z"
   },
   {
    "duration": 257,
    "start_time": "2021-08-18T12:07:29.220Z"
   },
   {
    "duration": 6,
    "start_time": "2021-08-18T12:07:29.479Z"
   },
   {
    "duration": 70,
    "start_time": "2021-08-18T12:07:29.486Z"
   },
   {
    "duration": 16,
    "start_time": "2021-08-18T12:07:29.557Z"
   },
   {
    "duration": 416,
    "start_time": "2021-08-18T12:07:29.575Z"
   },
   {
    "duration": 457,
    "start_time": "2021-08-18T12:07:29.992Z"
   },
   {
    "duration": 31,
    "start_time": "2021-08-18T12:07:30.450Z"
   },
   {
    "duration": 148,
    "start_time": "2021-08-18T12:07:30.484Z"
   },
   {
    "duration": 145,
    "start_time": "2021-08-18T12:07:30.634Z"
   },
   {
    "duration": 162,
    "start_time": "2021-08-18T12:07:30.781Z"
   },
   {
    "duration": 2,
    "start_time": "2021-08-18T12:07:30.945Z"
   },
   {
    "duration": 9,
    "start_time": "2021-08-18T12:07:30.949Z"
   },
   {
    "duration": 16,
    "start_time": "2021-08-18T12:07:30.960Z"
   },
   {
    "duration": 63,
    "start_time": "2021-08-18T12:07:30.978Z"
   },
   {
    "duration": 7,
    "start_time": "2021-08-18T12:07:31.043Z"
   },
   {
    "duration": 8,
    "start_time": "2021-08-18T12:07:31.052Z"
   },
   {
    "duration": 215,
    "start_time": "2021-08-18T12:07:31.061Z"
   },
   {
    "duration": 15,
    "start_time": "2021-08-18T12:07:31.278Z"
   },
   {
    "duration": 79,
    "start_time": "2021-08-18T12:07:31.295Z"
   },
   {
    "duration": 3,
    "start_time": "2021-08-18T12:07:31.376Z"
   },
   {
    "duration": 16,
    "start_time": "2021-08-18T12:07:31.380Z"
   },
   {
    "duration": 11,
    "start_time": "2021-08-18T12:07:31.397Z"
   },
   {
    "duration": 10444,
    "start_time": "2021-08-18T12:07:31.410Z"
   },
   {
    "duration": 4,
    "start_time": "2021-08-18T12:07:41.856Z"
   },
   {
    "duration": 82,
    "start_time": "2021-08-18T12:07:41.861Z"
   },
   {
    "duration": 8,
    "start_time": "2021-08-18T12:07:41.946Z"
   },
   {
    "duration": 7,
    "start_time": "2021-08-18T12:07:41.956Z"
   },
   {
    "duration": 29,
    "start_time": "2021-08-18T12:07:41.965Z"
   },
   {
    "duration": 4,
    "start_time": "2021-08-18T12:07:41.997Z"
   },
   {
    "duration": 50,
    "start_time": "2021-08-18T12:07:42.003Z"
   },
   {
    "duration": 16,
    "start_time": "2021-08-18T12:07:42.055Z"
   },
   {
    "duration": 7171,
    "start_time": "2021-08-18T15:09:34.263Z"
   },
   {
    "duration": 10,
    "start_time": "2021-08-18T15:10:02.710Z"
   },
   {
    "duration": 1340,
    "start_time": "2021-08-18T17:37:35.013Z"
   },
   {
    "duration": 1258,
    "start_time": "2021-08-18T17:37:36.355Z"
   },
   {
    "duration": 138,
    "start_time": "2021-08-18T17:37:37.615Z"
   },
   {
    "duration": 16,
    "start_time": "2021-08-18T17:37:37.755Z"
   },
   {
    "duration": 115,
    "start_time": "2021-08-18T17:37:37.772Z"
   },
   {
    "duration": 193,
    "start_time": "2021-08-18T17:37:37.888Z"
   },
   {
    "duration": 350,
    "start_time": "2021-08-18T17:37:38.083Z"
   },
   {
    "duration": 70,
    "start_time": "2021-08-18T17:37:38.442Z"
   },
   {
    "duration": 7,
    "start_time": "2021-08-18T17:37:38.515Z"
   },
   {
    "duration": 61,
    "start_time": "2021-08-18T17:37:38.524Z"
   },
   {
    "duration": 175,
    "start_time": "2021-08-18T17:37:38.587Z"
   },
   {
    "duration": 280,
    "start_time": "2021-08-18T17:37:38.765Z"
   },
   {
    "duration": 7,
    "start_time": "2021-08-18T17:37:39.047Z"
   },
   {
    "duration": 64,
    "start_time": "2021-08-18T17:37:39.056Z"
   },
   {
    "duration": 22,
    "start_time": "2021-08-18T17:37:39.122Z"
   },
   {
    "duration": 444,
    "start_time": "2021-08-18T17:37:39.147Z"
   },
   {
    "duration": 458,
    "start_time": "2021-08-18T17:37:39.593Z"
   },
   {
    "duration": 36,
    "start_time": "2021-08-18T17:37:40.054Z"
   },
   {
    "duration": 129,
    "start_time": "2021-08-18T17:37:40.092Z"
   },
   {
    "duration": 211,
    "start_time": "2021-08-18T17:37:40.222Z"
   },
   {
    "duration": 157,
    "start_time": "2021-08-18T17:37:40.435Z"
   },
   {
    "duration": 3,
    "start_time": "2021-08-18T17:37:40.594Z"
   },
   {
    "duration": 7,
    "start_time": "2021-08-18T17:37:40.600Z"
   },
   {
    "duration": 79,
    "start_time": "2021-08-18T17:37:40.609Z"
   },
   {
    "duration": 7,
    "start_time": "2021-08-18T17:37:40.689Z"
   },
   {
    "duration": 2,
    "start_time": "2021-08-18T17:37:40.699Z"
   },
   {
    "duration": 241,
    "start_time": "2021-08-18T17:37:40.703Z"
   },
   {
    "duration": 929,
    "start_time": "2021-08-18T17:37:40.946Z"
   },
   {
    "duration": 1045,
    "start_time": "2021-08-18T17:37:41.877Z"
   },
   {
    "duration": 23,
    "start_time": "2021-08-18T17:37:42.924Z"
   },
   {
    "duration": 20,
    "start_time": "2021-08-18T17:37:42.953Z"
   },
   {
    "duration": 79,
    "start_time": "2021-08-18T17:37:42.975Z"
   },
   {
    "duration": 20,
    "start_time": "2021-08-18T17:37:43.057Z"
   },
   {
    "duration": 582,
    "start_time": "2021-08-18T17:37:43.079Z"
   },
   {
    "duration": 4463,
    "start_time": "2021-08-18T17:37:39.200Z"
   },
   {
    "duration": 4434,
    "start_time": "2021-08-18T17:37:39.231Z"
   },
   {
    "duration": 4417,
    "start_time": "2021-08-18T17:37:39.249Z"
   },
   {
    "duration": 4385,
    "start_time": "2021-08-18T17:37:39.282Z"
   },
   {
    "duration": 4368,
    "start_time": "2021-08-18T17:37:39.300Z"
   },
   {
    "duration": 4350,
    "start_time": "2021-08-18T17:37:39.319Z"
   },
   {
    "duration": 4347,
    "start_time": "2021-08-18T17:37:39.323Z"
   },
   {
    "duration": 4343,
    "start_time": "2021-08-18T17:37:39.328Z"
   },
   {
    "duration": 4339,
    "start_time": "2021-08-18T17:37:39.333Z"
   },
   {
    "duration": 4335,
    "start_time": "2021-08-18T17:37:39.338Z"
   },
   {
    "duration": 4332,
    "start_time": "2021-08-18T17:37:39.342Z"
   },
   {
    "duration": 4328,
    "start_time": "2021-08-18T17:37:39.347Z"
   },
   {
    "duration": 4325,
    "start_time": "2021-08-18T17:37:39.351Z"
   },
   {
    "duration": 1325,
    "start_time": "2021-08-18T17:38:22.616Z"
   },
   {
    "duration": 843,
    "start_time": "2021-08-18T17:38:23.943Z"
   },
   {
    "duration": 132,
    "start_time": "2021-08-18T17:38:24.788Z"
   },
   {
    "duration": 21,
    "start_time": "2021-08-18T17:38:24.922Z"
   },
   {
    "duration": 115,
    "start_time": "2021-08-18T17:38:24.944Z"
   },
   {
    "duration": 173,
    "start_time": "2021-08-18T17:38:25.060Z"
   },
   {
    "duration": 337,
    "start_time": "2021-08-18T17:38:25.235Z"
   },
   {
    "duration": 74,
    "start_time": "2021-08-18T17:38:25.575Z"
   },
   {
    "duration": 7,
    "start_time": "2021-08-18T17:38:25.651Z"
   },
   {
    "duration": 44,
    "start_time": "2021-08-18T17:38:25.660Z"
   },
   {
    "duration": 193,
    "start_time": "2021-08-18T17:38:25.706Z"
   },
   {
    "duration": 260,
    "start_time": "2021-08-18T17:38:25.901Z"
   },
   {
    "duration": 7,
    "start_time": "2021-08-18T17:38:26.163Z"
   },
   {
    "duration": 69,
    "start_time": "2021-08-18T17:38:26.172Z"
   },
   {
    "duration": 16,
    "start_time": "2021-08-18T17:38:26.243Z"
   },
   {
    "duration": 500,
    "start_time": "2021-08-18T17:38:26.261Z"
   },
   {
    "duration": 608,
    "start_time": "2021-08-18T17:38:26.763Z"
   },
   {
    "duration": 31,
    "start_time": "2021-08-18T17:38:27.373Z"
   },
   {
    "duration": 133,
    "start_time": "2021-08-18T17:38:27.406Z"
   },
   {
    "duration": 215,
    "start_time": "2021-08-18T17:38:27.541Z"
   },
   {
    "duration": 150,
    "start_time": "2021-08-18T17:38:27.758Z"
   },
   {
    "duration": 3,
    "start_time": "2021-08-18T17:38:27.910Z"
   },
   {
    "duration": 14,
    "start_time": "2021-08-18T17:38:27.918Z"
   },
   {
    "duration": 74,
    "start_time": "2021-08-18T17:38:27.934Z"
   },
   {
    "duration": 8,
    "start_time": "2021-08-18T17:38:28.010Z"
   },
   {
    "duration": 9,
    "start_time": "2021-08-18T17:38:28.020Z"
   },
   {
    "duration": 226,
    "start_time": "2021-08-18T17:38:28.031Z"
   },
   {
    "duration": 932,
    "start_time": "2021-08-18T17:38:28.259Z"
   },
   {
    "duration": 1176,
    "start_time": "2021-08-18T17:38:29.193Z"
   },
   {
    "duration": 17,
    "start_time": "2021-08-18T17:38:30.371Z"
   },
   {
    "duration": 33,
    "start_time": "2021-08-18T17:38:30.390Z"
   },
   {
    "duration": 40,
    "start_time": "2021-08-18T17:38:30.425Z"
   },
   {
    "duration": 35,
    "start_time": "2021-08-18T17:38:30.468Z"
   },
   {
    "duration": 73440,
    "start_time": "2021-08-18T17:38:30.505Z"
   },
   {
    "duration": 3,
    "start_time": "2021-08-18T17:39:43.948Z"
   },
   {
    "duration": 5,
    "start_time": "2021-08-18T17:39:44.042Z"
   },
   {
    "duration": 7,
    "start_time": "2021-08-18T17:39:44.049Z"
   },
   {
    "duration": 8897,
    "start_time": "2021-08-18T17:39:44.057Z"
   },
   {
    "duration": 87,
    "start_time": "2021-08-18T17:39:52.956Z"
   },
   {
    "duration": 11,
    "start_time": "2021-08-18T17:39:53.045Z"
   },
   {
    "duration": 14,
    "start_time": "2021-08-18T17:39:53.057Z"
   },
   {
    "duration": 5,
    "start_time": "2021-08-18T17:39:53.073Z"
   },
   {
    "duration": 29,
    "start_time": "2021-08-18T17:39:53.080Z"
   },
   {
    "duration": 3,
    "start_time": "2021-08-18T17:39:53.111Z"
   },
   {
    "duration": 33,
    "start_time": "2021-08-18T17:39:53.116Z"
   },
   {
    "duration": 22,
    "start_time": "2021-08-18T17:39:53.150Z"
   },
   {
    "duration": 18,
    "start_time": "2021-08-18T17:39:53.173Z"
   },
   {
    "duration": 1269,
    "start_time": "2021-08-18T19:08:52.654Z"
   },
   {
    "duration": 752,
    "start_time": "2021-08-18T19:08:53.925Z"
   },
   {
    "duration": 122,
    "start_time": "2021-08-18T19:08:54.679Z"
   },
   {
    "duration": 16,
    "start_time": "2021-08-18T19:08:54.803Z"
   },
   {
    "duration": 104,
    "start_time": "2021-08-18T19:08:54.821Z"
   },
   {
    "duration": 160,
    "start_time": "2021-08-18T19:08:54.927Z"
   },
   {
    "duration": 289,
    "start_time": "2021-08-18T19:08:55.089Z"
   },
   {
    "duration": 70,
    "start_time": "2021-08-18T19:08:55.381Z"
   },
   {
    "duration": 5,
    "start_time": "2021-08-18T19:08:55.453Z"
   },
   {
    "duration": 40,
    "start_time": "2021-08-18T19:08:55.460Z"
   },
   {
    "duration": 152,
    "start_time": "2021-08-18T19:08:55.502Z"
   },
   {
    "duration": 222,
    "start_time": "2021-08-18T19:08:55.656Z"
   },
   {
    "duration": 5,
    "start_time": "2021-08-18T19:08:55.880Z"
   },
   {
    "duration": 63,
    "start_time": "2021-08-18T19:08:55.887Z"
   },
   {
    "duration": 14,
    "start_time": "2021-08-18T19:08:55.952Z"
   },
   {
    "duration": 466,
    "start_time": "2021-08-18T19:08:55.968Z"
   },
   {
    "duration": 371,
    "start_time": "2021-08-18T19:08:56.435Z"
   },
   {
    "duration": 36,
    "start_time": "2021-08-18T19:08:56.808Z"
   },
   {
    "duration": 110,
    "start_time": "2021-08-18T19:08:56.845Z"
   },
   {
    "duration": 193,
    "start_time": "2021-08-18T19:08:56.956Z"
   },
   {
    "duration": 130,
    "start_time": "2021-08-18T19:08:57.151Z"
   },
   {
    "duration": 2,
    "start_time": "2021-08-18T19:08:57.283Z"
   },
   {
    "duration": 4,
    "start_time": "2021-08-18T19:08:57.288Z"
   },
   {
    "duration": 70,
    "start_time": "2021-08-18T19:08:57.294Z"
   },
   {
    "duration": 7,
    "start_time": "2021-08-18T19:08:57.366Z"
   },
   {
    "duration": 6,
    "start_time": "2021-08-18T19:08:57.374Z"
   },
   {
    "duration": 194,
    "start_time": "2021-08-18T19:08:57.382Z"
   },
   {
    "duration": 620,
    "start_time": "2021-08-18T19:08:57.578Z"
   },
   {
    "duration": 946,
    "start_time": "2021-08-18T19:08:58.200Z"
   },
   {
    "duration": 13,
    "start_time": "2021-08-18T19:08:59.148Z"
   },
   {
    "duration": 13,
    "start_time": "2021-08-18T19:08:59.163Z"
   },
   {
    "duration": 24,
    "start_time": "2021-08-18T19:08:59.177Z"
   },
   {
    "duration": 17,
    "start_time": "2021-08-18T19:08:59.202Z"
   },
   {
    "duration": 21,
    "start_time": "2021-08-18T19:08:59.220Z"
   },
   {
    "duration": 9998,
    "start_time": "2021-08-18T19:08:59.243Z"
   },
   {
    "duration": 3,
    "start_time": "2021-08-18T19:09:09.243Z"
   },
   {
    "duration": 356,
    "start_time": "2021-08-18T19:09:09.248Z"
   },
   {
    "duration": 3977,
    "start_time": "2021-08-18T19:09:05.629Z"
   },
   {
    "duration": 3972,
    "start_time": "2021-08-18T19:09:05.635Z"
   },
   {
    "duration": 3944,
    "start_time": "2021-08-18T19:09:05.664Z"
   },
   {
    "duration": 3205,
    "start_time": "2021-08-18T19:10:19.417Z"
   },
   {
    "duration": 88,
    "start_time": "2021-08-18T19:19:02.948Z"
   },
   {
    "duration": 270,
    "start_time": "2021-08-18T19:19:09.317Z"
   },
   {
    "duration": 278,
    "start_time": "2021-08-18T19:20:27.489Z"
   },
   {
    "duration": 1129,
    "start_time": "2021-08-18T19:21:08.165Z"
   },
   {
    "duration": 700,
    "start_time": "2021-08-18T19:21:09.295Z"
   },
   {
    "duration": 114,
    "start_time": "2021-08-18T19:21:09.997Z"
   },
   {
    "duration": 16,
    "start_time": "2021-08-18T19:21:10.113Z"
   },
   {
    "duration": 87,
    "start_time": "2021-08-18T19:21:10.141Z"
   },
   {
    "duration": 164,
    "start_time": "2021-08-18T19:21:10.230Z"
   },
   {
    "duration": 300,
    "start_time": "2021-08-18T19:21:10.395Z"
   },
   {
    "duration": 61,
    "start_time": "2021-08-18T19:21:10.698Z"
   },
   {
    "duration": 5,
    "start_time": "2021-08-18T19:21:10.762Z"
   },
   {
    "duration": 48,
    "start_time": "2021-08-18T19:21:10.769Z"
   },
   {
    "duration": 141,
    "start_time": "2021-08-18T19:21:10.818Z"
   },
   {
    "duration": 225,
    "start_time": "2021-08-18T19:21:10.961Z"
   },
   {
    "duration": 5,
    "start_time": "2021-08-18T19:21:11.187Z"
   },
   {
    "duration": 62,
    "start_time": "2021-08-18T19:21:11.194Z"
   },
   {
    "duration": 15,
    "start_time": "2021-08-18T19:21:11.257Z"
   },
   {
    "duration": 362,
    "start_time": "2021-08-18T19:21:11.273Z"
   },
   {
    "duration": 472,
    "start_time": "2021-08-18T19:21:11.641Z"
   },
   {
    "duration": 37,
    "start_time": "2021-08-18T19:21:12.114Z"
   },
   {
    "duration": 110,
    "start_time": "2021-08-18T19:21:12.153Z"
   },
   {
    "duration": 195,
    "start_time": "2021-08-18T19:21:12.264Z"
   },
   {
    "duration": 127,
    "start_time": "2021-08-18T19:21:12.460Z"
   },
   {
    "duration": 2,
    "start_time": "2021-08-18T19:21:12.589Z"
   },
   {
    "duration": 5,
    "start_time": "2021-08-18T19:21:12.594Z"
   },
   {
    "duration": 65,
    "start_time": "2021-08-18T19:21:12.601Z"
   },
   {
    "duration": 6,
    "start_time": "2021-08-18T19:21:12.668Z"
   },
   {
    "duration": 2,
    "start_time": "2021-08-18T19:21:12.676Z"
   },
   {
    "duration": 197,
    "start_time": "2021-08-18T19:21:12.680Z"
   },
   {
    "duration": 632,
    "start_time": "2021-08-18T19:21:12.879Z"
   },
   {
    "duration": 1011,
    "start_time": "2021-08-18T19:21:13.512Z"
   },
   {
    "duration": 22,
    "start_time": "2021-08-18T19:21:14.525Z"
   },
   {
    "duration": 14,
    "start_time": "2021-08-18T19:21:14.549Z"
   },
   {
    "duration": 19,
    "start_time": "2021-08-18T19:21:14.565Z"
   },
   {
    "duration": 15,
    "start_time": "2021-08-18T19:21:14.586Z"
   },
   {
    "duration": 3,
    "start_time": "2021-08-18T19:21:14.603Z"
   },
   {
    "duration": 11736,
    "start_time": "2021-08-18T19:21:14.608Z"
   },
   {
    "duration": 3,
    "start_time": "2021-08-18T19:21:26.346Z"
   },
   {
    "duration": 7355,
    "start_time": "2021-08-18T19:21:26.351Z"
   },
   {
    "duration": 4043,
    "start_time": "2021-08-18T19:21:29.665Z"
   },
   {
    "duration": 4035,
    "start_time": "2021-08-18T19:21:29.674Z"
   },
   {
    "duration": 4030,
    "start_time": "2021-08-18T19:21:29.680Z"
   },
   {
    "duration": 12,
    "start_time": "2021-08-18T19:23:22.688Z"
   },
   {
    "duration": 250,
    "start_time": "2021-08-18T19:44:27.921Z"
   },
   {
    "duration": 277,
    "start_time": "2021-08-18T21:21:37.748Z"
   },
   {
    "duration": 1153,
    "start_time": "2021-08-18T21:21:54.433Z"
   },
   {
    "duration": 728,
    "start_time": "2021-08-18T21:21:55.588Z"
   },
   {
    "duration": 117,
    "start_time": "2021-08-18T21:21:56.318Z"
   },
   {
    "duration": 24,
    "start_time": "2021-08-18T21:21:56.436Z"
   },
   {
    "duration": 105,
    "start_time": "2021-08-18T21:21:56.461Z"
   },
   {
    "duration": 151,
    "start_time": "2021-08-18T21:21:56.568Z"
   },
   {
    "duration": 292,
    "start_time": "2021-08-18T21:21:56.721Z"
   },
   {
    "duration": 66,
    "start_time": "2021-08-18T21:21:57.015Z"
   },
   {
    "duration": 6,
    "start_time": "2021-08-18T21:21:57.083Z"
   },
   {
    "duration": 53,
    "start_time": "2021-08-18T21:21:57.090Z"
   },
   {
    "duration": 135,
    "start_time": "2021-08-18T21:21:57.145Z"
   },
   {
    "duration": 222,
    "start_time": "2021-08-18T21:21:57.282Z"
   },
   {
    "duration": 5,
    "start_time": "2021-08-18T21:21:57.506Z"
   },
   {
    "duration": 67,
    "start_time": "2021-08-18T21:21:57.513Z"
   },
   {
    "duration": 15,
    "start_time": "2021-08-18T21:21:57.581Z"
   },
   {
    "duration": 372,
    "start_time": "2021-08-18T21:21:57.598Z"
   },
   {
    "duration": 375,
    "start_time": "2021-08-18T21:21:57.972Z"
   },
   {
    "duration": 29,
    "start_time": "2021-08-18T21:21:58.349Z"
   },
   {
    "duration": 128,
    "start_time": "2021-08-18T21:21:58.380Z"
   },
   {
    "duration": 198,
    "start_time": "2021-08-18T21:21:58.509Z"
   },
   {
    "duration": 128,
    "start_time": "2021-08-18T21:21:58.709Z"
   },
   {
    "duration": 3,
    "start_time": "2021-08-18T21:21:58.840Z"
   },
   {
    "duration": 14,
    "start_time": "2021-08-18T21:21:58.846Z"
   },
   {
    "duration": 90,
    "start_time": "2021-08-18T21:21:58.862Z"
   },
   {
    "duration": 7,
    "start_time": "2021-08-18T21:21:58.954Z"
   },
   {
    "duration": 4,
    "start_time": "2021-08-18T21:21:58.963Z"
   },
   {
    "duration": 197,
    "start_time": "2021-08-18T21:21:58.968Z"
   },
   {
    "duration": 695,
    "start_time": "2021-08-18T21:21:59.167Z"
   },
   {
    "duration": 1026,
    "start_time": "2021-08-18T21:21:59.864Z"
   },
   {
    "duration": 14,
    "start_time": "2021-08-18T21:22:00.892Z"
   },
   {
    "duration": 12,
    "start_time": "2021-08-18T21:22:00.907Z"
   },
   {
    "duration": 30,
    "start_time": "2021-08-18T21:22:00.925Z"
   },
   {
    "duration": 22,
    "start_time": "2021-08-18T21:22:00.956Z"
   },
   {
    "duration": 11,
    "start_time": "2021-08-18T21:22:00.979Z"
   },
   {
    "duration": 11651,
    "start_time": "2021-08-18T21:22:00.991Z"
   },
   {
    "duration": 4,
    "start_time": "2021-08-18T21:22:12.643Z"
   },
   {
    "duration": 27545,
    "start_time": "2021-08-18T21:22:12.649Z"
   },
   {
    "duration": 4,
    "start_time": "2021-08-18T21:22:40.196Z"
   },
   {
    "duration": 35,
    "start_time": "2021-08-18T21:22:40.202Z"
   },
   {
    "duration": 384,
    "start_time": "2021-08-18T21:22:40.239Z"
   },
   {
    "duration": 4924,
    "start_time": "2021-08-18T21:22:35.701Z"
   },
   {
    "duration": 62578,
    "start_time": "2021-08-18T21:24:33.165Z"
   },
   {
    "duration": 32410,
    "start_time": "2021-08-18T21:25:45.093Z"
   },
   {
    "duration": 4,
    "start_time": "2021-08-18T21:26:17.504Z"
   },
   {
    "duration": 4,
    "start_time": "2021-08-18T21:34:01.863Z"
   },
   {
    "duration": 4,
    "start_time": "2021-08-18T21:34:15.009Z"
   },
   {
    "duration": 4,
    "start_time": "2021-08-18T21:40:48.302Z"
   },
   {
    "duration": 3,
    "start_time": "2021-08-18T21:41:03.581Z"
   },
   {
    "duration": 5,
    "start_time": "2021-08-18T21:41:20.419Z"
   },
   {
    "duration": 2349,
    "start_time": "2021-08-18T21:43:24.902Z"
   },
   {
    "duration": 4,
    "start_time": "2021-08-18T21:47:42.603Z"
   },
   {
    "duration": 1137,
    "start_time": "2021-08-18T21:53:49.467Z"
   },
   {
    "duration": 744,
    "start_time": "2021-08-18T21:53:50.608Z"
   },
   {
    "duration": 116,
    "start_time": "2021-08-18T21:53:51.354Z"
   },
   {
    "duration": 15,
    "start_time": "2021-08-18T21:53:51.472Z"
   },
   {
    "duration": 106,
    "start_time": "2021-08-18T21:53:51.488Z"
   },
   {
    "duration": 155,
    "start_time": "2021-08-18T21:53:51.596Z"
   },
   {
    "duration": 298,
    "start_time": "2021-08-18T21:53:51.754Z"
   },
   {
    "duration": 60,
    "start_time": "2021-08-18T21:53:52.054Z"
   },
   {
    "duration": 6,
    "start_time": "2021-08-18T21:53:52.115Z"
   },
   {
    "duration": 54,
    "start_time": "2021-08-18T21:53:52.122Z"
   },
   {
    "duration": 149,
    "start_time": "2021-08-18T21:53:52.178Z"
   },
   {
    "duration": 223,
    "start_time": "2021-08-18T21:53:52.328Z"
   },
   {
    "duration": 5,
    "start_time": "2021-08-18T21:53:52.552Z"
   },
   {
    "duration": 54,
    "start_time": "2021-08-18T21:53:52.558Z"
   },
   {
    "duration": 27,
    "start_time": "2021-08-18T21:53:52.614Z"
   },
   {
    "duration": 357,
    "start_time": "2021-08-18T21:53:52.643Z"
   },
   {
    "duration": 386,
    "start_time": "2021-08-18T21:53:53.002Z"
   },
   {
    "duration": 28,
    "start_time": "2021-08-18T21:53:53.390Z"
   },
   {
    "duration": 122,
    "start_time": "2021-08-18T21:53:53.420Z"
   },
   {
    "duration": 190,
    "start_time": "2021-08-18T21:53:53.543Z"
   },
   {
    "duration": 132,
    "start_time": "2021-08-18T21:53:53.735Z"
   },
   {
    "duration": 3,
    "start_time": "2021-08-18T21:53:53.870Z"
   },
   {
    "duration": 6,
    "start_time": "2021-08-18T21:53:53.874Z"
   },
   {
    "duration": 70,
    "start_time": "2021-08-18T21:53:53.882Z"
   },
   {
    "duration": 7,
    "start_time": "2021-08-18T21:53:53.953Z"
   },
   {
    "duration": 6,
    "start_time": "2021-08-18T21:53:53.961Z"
   },
   {
    "duration": 290,
    "start_time": "2021-08-18T21:53:53.969Z"
   },
   {
    "duration": 627,
    "start_time": "2021-08-18T21:53:54.261Z"
   },
   {
    "duration": 863,
    "start_time": "2021-08-18T21:53:54.890Z"
   },
   {
    "duration": 14,
    "start_time": "2021-08-18T21:53:55.755Z"
   },
   {
    "duration": 13,
    "start_time": "2021-08-18T21:53:55.771Z"
   },
   {
    "duration": 18,
    "start_time": "2021-08-18T21:53:55.785Z"
   },
   {
    "duration": 43,
    "start_time": "2021-08-18T21:53:55.805Z"
   },
   {
    "duration": 3,
    "start_time": "2021-08-18T21:53:55.850Z"
   },
   {
    "duration": 14690,
    "start_time": "2021-08-18T21:53:55.854Z"
   },
   {
    "duration": 4,
    "start_time": "2021-08-18T21:54:10.546Z"
   },
   {
    "duration": 103,
    "start_time": "2021-08-18T21:54:10.552Z"
   },
   {
    "duration": 4966,
    "start_time": "2021-08-18T21:54:05.691Z"
   },
   {
    "duration": 4960,
    "start_time": "2021-08-18T21:54:05.698Z"
   },
   {
    "duration": 4955,
    "start_time": "2021-08-18T21:54:05.704Z"
   },
   {
    "duration": 4950,
    "start_time": "2021-08-18T21:54:05.710Z"
   },
   {
    "duration": 4944,
    "start_time": "2021-08-18T21:54:05.716Z"
   },
   {
    "duration": 4939,
    "start_time": "2021-08-18T21:54:05.722Z"
   },
   {
    "duration": 26097,
    "start_time": "2021-08-18T21:54:25.664Z"
   },
   {
    "duration": 4,
    "start_time": "2021-08-18T21:54:59.363Z"
   },
   {
    "duration": 62711,
    "start_time": "2021-08-18T21:55:01.336Z"
   },
   {
    "duration": 32182,
    "start_time": "2021-08-18T21:56:04.050Z"
   },
   {
    "duration": 8,
    "start_time": "2021-08-18T21:56:36.234Z"
   },
   {
    "duration": 2625,
    "start_time": "2021-08-18T21:56:36.244Z"
   },
   {
    "duration": 5,
    "start_time": "2021-08-18T21:56:38.871Z"
   },
   {
    "duration": 1539,
    "start_time": "2021-08-19T09:40:14.040Z"
   },
   {
    "duration": 1129,
    "start_time": "2021-08-19T09:40:15.581Z"
   },
   {
    "duration": 162,
    "start_time": "2021-08-19T09:40:16.713Z"
   },
   {
    "duration": 25,
    "start_time": "2021-08-19T09:40:16.878Z"
   },
   {
    "duration": 146,
    "start_time": "2021-08-19T09:40:16.905Z"
   },
   {
    "duration": 268,
    "start_time": "2021-08-19T09:40:17.053Z"
   },
   {
    "duration": 553,
    "start_time": "2021-08-19T09:40:17.323Z"
   },
   {
    "duration": 110,
    "start_time": "2021-08-19T09:40:17.880Z"
   },
   {
    "duration": 8,
    "start_time": "2021-08-19T09:40:17.993Z"
   },
   {
    "duration": 92,
    "start_time": "2021-08-19T09:40:18.003Z"
   },
   {
    "duration": 255,
    "start_time": "2021-08-19T09:40:18.097Z"
   },
   {
    "duration": 425,
    "start_time": "2021-08-19T09:40:18.354Z"
   },
   {
    "duration": 7,
    "start_time": "2021-08-19T09:40:18.782Z"
   },
   {
    "duration": 113,
    "start_time": "2021-08-19T09:40:18.791Z"
   },
   {
    "duration": 19,
    "start_time": "2021-08-19T09:40:18.906Z"
   },
   {
    "duration": 606,
    "start_time": "2021-08-19T09:40:18.928Z"
   },
   {
    "duration": 663,
    "start_time": "2021-08-19T09:40:19.536Z"
   },
   {
    "duration": 50,
    "start_time": "2021-08-19T09:40:20.202Z"
   },
   {
    "duration": 162,
    "start_time": "2021-08-19T09:40:20.266Z"
   },
   {
    "duration": 271,
    "start_time": "2021-08-19T09:40:20.431Z"
   },
   {
    "duration": 234,
    "start_time": "2021-08-19T09:40:20.704Z"
   },
   {
    "duration": 3,
    "start_time": "2021-08-19T09:40:20.941Z"
   },
   {
    "duration": 18,
    "start_time": "2021-08-19T09:40:20.949Z"
   },
   {
    "duration": 82,
    "start_time": "2021-08-19T09:40:20.970Z"
   },
   {
    "duration": 19,
    "start_time": "2021-08-19T09:40:21.054Z"
   },
   {
    "duration": 4,
    "start_time": "2021-08-19T09:40:21.076Z"
   },
   {
    "duration": 313,
    "start_time": "2021-08-19T09:40:21.083Z"
   },
   {
    "duration": 1367,
    "start_time": "2021-08-19T09:40:21.399Z"
   },
   {
    "duration": 1400,
    "start_time": "2021-08-19T09:40:22.769Z"
   },
   {
    "duration": 18,
    "start_time": "2021-08-19T09:40:24.172Z"
   },
   {
    "duration": 20,
    "start_time": "2021-08-19T09:40:24.193Z"
   },
   {
    "duration": 74,
    "start_time": "2021-08-19T09:40:24.215Z"
   },
   {
    "duration": 26,
    "start_time": "2021-08-19T09:40:24.291Z"
   },
   {
    "duration": 3,
    "start_time": "2021-08-19T09:40:24.319Z"
   },
   {
    "duration": 12145,
    "start_time": "2021-08-19T09:40:24.325Z"
   },
   {
    "duration": 6,
    "start_time": "2021-08-19T09:40:36.473Z"
   },
   {
    "duration": 33084,
    "start_time": "2021-08-19T09:40:36.482Z"
   },
   {
    "duration": 5,
    "start_time": "2021-08-19T09:41:09.569Z"
   },
   {
    "duration": 80892,
    "start_time": "2021-08-19T09:41:09.577Z"
   },
   {
    "duration": 41181,
    "start_time": "2021-08-19T09:42:30.472Z"
   },
   {
    "duration": 11,
    "start_time": "2021-08-19T09:43:11.656Z"
   },
   {
    "duration": 60563,
    "start_time": "2021-08-19T09:43:11.670Z"
   },
   {
    "duration": 98,
    "start_time": "2021-08-19T09:46:52.414Z"
   },
   {
    "duration": 5,
    "start_time": "2021-08-19T09:47:01.354Z"
   },
   {
    "duration": 1468,
    "start_time": "2021-08-19T09:53:18.204Z"
   },
   {
    "duration": 1102,
    "start_time": "2021-08-19T09:53:19.674Z"
   },
   {
    "duration": 177,
    "start_time": "2021-08-19T09:53:20.780Z"
   },
   {
    "duration": 27,
    "start_time": "2021-08-19T09:53:20.968Z"
   },
   {
    "duration": 140,
    "start_time": "2021-08-19T09:53:20.997Z"
   },
   {
    "duration": 279,
    "start_time": "2021-08-19T09:53:21.140Z"
   },
   {
    "duration": 912,
    "start_time": "2021-08-19T09:53:21.421Z"
   },
   {
    "duration": 108,
    "start_time": "2021-08-19T09:53:22.337Z"
   },
   {
    "duration": 9,
    "start_time": "2021-08-19T09:53:22.448Z"
   },
   {
    "duration": 71,
    "start_time": "2021-08-19T09:53:22.467Z"
   },
   {
    "duration": 262,
    "start_time": "2021-08-19T09:53:22.541Z"
   },
   {
    "duration": 424,
    "start_time": "2021-08-19T09:53:22.806Z"
   },
   {
    "duration": 8,
    "start_time": "2021-08-19T09:53:23.233Z"
   },
   {
    "duration": 114,
    "start_time": "2021-08-19T09:53:23.244Z"
   },
   {
    "duration": 23,
    "start_time": "2021-08-19T09:53:23.367Z"
   },
   {
    "duration": 617,
    "start_time": "2021-08-19T09:53:23.393Z"
   },
   {
    "duration": 755,
    "start_time": "2021-08-19T09:53:24.012Z"
   },
   {
    "duration": 57,
    "start_time": "2021-08-19T09:53:24.770Z"
   },
   {
    "duration": 192,
    "start_time": "2021-08-19T09:53:24.830Z"
   },
   {
    "duration": 283,
    "start_time": "2021-08-19T09:53:25.024Z"
   },
   {
    "duration": 236,
    "start_time": "2021-08-19T09:53:25.309Z"
   },
   {
    "duration": 4,
    "start_time": "2021-08-19T09:53:25.547Z"
   },
   {
    "duration": 15,
    "start_time": "2021-08-19T09:53:25.555Z"
   },
   {
    "duration": 78,
    "start_time": "2021-08-19T09:53:25.573Z"
   },
   {
    "duration": 19,
    "start_time": "2021-08-19T09:53:25.654Z"
   },
   {
    "duration": 4,
    "start_time": "2021-08-19T09:53:25.676Z"
   },
   {
    "duration": 302,
    "start_time": "2021-08-19T09:53:25.682Z"
   },
   {
    "duration": 1280,
    "start_time": "2021-08-19T09:53:25.987Z"
   },
   {
    "duration": 1413,
    "start_time": "2021-08-19T09:53:27.269Z"
   },
   {
    "duration": 20,
    "start_time": "2021-08-19T09:53:28.684Z"
   },
   {
    "duration": 22,
    "start_time": "2021-08-19T09:53:28.706Z"
   },
   {
    "duration": 70,
    "start_time": "2021-08-19T09:53:28.730Z"
   },
   {
    "duration": 24,
    "start_time": "2021-08-19T09:53:28.802Z"
   },
   {
    "duration": 3,
    "start_time": "2021-08-19T09:53:28.828Z"
   },
   {
    "duration": 11237,
    "start_time": "2021-08-19T09:53:28.833Z"
   },
   {
    "duration": 6,
    "start_time": "2021-08-19T09:53:40.072Z"
   },
   {
    "duration": 33705,
    "start_time": "2021-08-19T09:53:40.080Z"
   },
   {
    "duration": 6,
    "start_time": "2021-08-19T09:54:13.787Z"
   },
   {
    "duration": 84173,
    "start_time": "2021-08-19T09:54:13.795Z"
   },
   {
    "duration": 40787,
    "start_time": "2021-08-19T09:55:37.972Z"
   },
   {
    "duration": 3,
    "start_time": "2021-08-19T09:56:18.767Z"
   },
   {
    "duration": 1468,
    "start_time": "2021-08-19T09:56:18.772Z"
   },
   {
    "duration": 5187,
    "start_time": "2021-08-19T09:56:15.056Z"
   },
   {
    "duration": 58140,
    "start_time": "2021-08-19T09:57:50.413Z"
   },
   {
    "duration": 5,
    "start_time": "2021-08-19T10:35:48.389Z"
   },
   {
    "duration": 7,
    "start_time": "2021-08-19T10:36:14.700Z"
   },
   {
    "duration": 8,
    "start_time": "2021-08-19T10:36:23.211Z"
   },
   {
    "duration": 7,
    "start_time": "2021-08-19T10:37:12.725Z"
   },
   {
    "duration": 13,
    "start_time": "2021-08-19T10:38:02.361Z"
   },
   {
    "duration": 6,
    "start_time": "2021-08-19T10:38:04.894Z"
   },
   {
    "duration": 1625,
    "start_time": "2021-08-19T10:48:02.460Z"
   },
   {
    "duration": 1141,
    "start_time": "2021-08-19T10:48:04.088Z"
   },
   {
    "duration": 179,
    "start_time": "2021-08-19T10:48:05.232Z"
   },
   {
    "duration": 24,
    "start_time": "2021-08-19T10:48:05.414Z"
   },
   {
    "duration": 154,
    "start_time": "2021-08-19T10:48:05.440Z"
   },
   {
    "duration": 282,
    "start_time": "2021-08-19T10:48:05.597Z"
   },
   {
    "duration": 585,
    "start_time": "2021-08-19T10:48:05.882Z"
   },
   {
    "duration": 107,
    "start_time": "2021-08-19T10:48:06.470Z"
   },
   {
    "duration": 8,
    "start_time": "2021-08-19T10:48:06.580Z"
   },
   {
    "duration": 94,
    "start_time": "2021-08-19T10:48:06.590Z"
   },
   {
    "duration": 258,
    "start_time": "2021-08-19T10:48:06.686Z"
   },
   {
    "duration": 424,
    "start_time": "2021-08-19T10:48:06.946Z"
   },
   {
    "duration": 8,
    "start_time": "2021-08-19T10:48:07.372Z"
   },
   {
    "duration": 118,
    "start_time": "2021-08-19T10:48:07.382Z"
   },
   {
    "duration": 21,
    "start_time": "2021-08-19T10:48:07.502Z"
   },
   {
    "duration": 880,
    "start_time": "2021-08-19T10:48:07.526Z"
   },
   {
    "duration": 1004,
    "start_time": "2021-08-19T10:48:08.408Z"
   },
   {
    "duration": 72,
    "start_time": "2021-08-19T10:48:09.416Z"
   },
   {
    "duration": 293,
    "start_time": "2021-08-19T10:48:09.492Z"
   },
   {
    "duration": 288,
    "start_time": "2021-08-19T10:48:09.788Z"
   },
   {
    "duration": 240,
    "start_time": "2021-08-19T10:48:10.078Z"
   },
   {
    "duration": 4,
    "start_time": "2021-08-19T10:48:10.320Z"
   },
   {
    "duration": 7,
    "start_time": "2021-08-19T10:48:10.329Z"
   },
   {
    "duration": 95,
    "start_time": "2021-08-19T10:48:10.339Z"
   },
   {
    "duration": 9,
    "start_time": "2021-08-19T10:48:10.436Z"
   },
   {
    "duration": 20,
    "start_time": "2021-08-19T10:48:10.448Z"
   },
   {
    "duration": 307,
    "start_time": "2021-08-19T10:48:10.471Z"
   },
   {
    "duration": 1288,
    "start_time": "2021-08-19T10:48:10.781Z"
   },
   {
    "duration": 1413,
    "start_time": "2021-08-19T10:48:12.072Z"
   },
   {
    "duration": 20,
    "start_time": "2021-08-19T10:48:13.487Z"
   },
   {
    "duration": 21,
    "start_time": "2021-08-19T10:48:13.510Z"
   },
   {
    "duration": 66,
    "start_time": "2021-08-19T10:48:13.534Z"
   },
   {
    "duration": 27,
    "start_time": "2021-08-19T10:48:13.603Z"
   },
   {
    "duration": 34,
    "start_time": "2021-08-19T10:48:13.633Z"
   },
   {
    "duration": 237999,
    "start_time": "2021-08-19T10:48:13.671Z"
   },
   {
    "duration": 5,
    "start_time": "2021-08-19T10:52:11.673Z"
   },
   {
    "duration": 144838,
    "start_time": "2021-08-19T10:52:11.681Z"
   },
   {
    "duration": 48,
    "start_time": "2021-08-19T10:54:36.522Z"
   },
   {
    "duration": 83696,
    "start_time": "2021-08-19T10:54:36.573Z"
   },
   {
    "duration": 41411,
    "start_time": "2021-08-19T10:56:00.273Z"
   },
   {
    "duration": 3,
    "start_time": "2021-08-19T10:56:41.687Z"
   },
   {
    "duration": 72911,
    "start_time": "2021-08-19T10:56:41.693Z"
   },
   {
    "duration": 14,
    "start_time": "2021-08-19T10:57:54.607Z"
   },
   {
    "duration": 1628,
    "start_time": "2021-08-19T11:38:28.382Z"
   },
   {
    "duration": 1219,
    "start_time": "2021-08-19T11:38:30.013Z"
   },
   {
    "duration": 190,
    "start_time": "2021-08-19T11:38:31.235Z"
   },
   {
    "duration": 38,
    "start_time": "2021-08-19T11:38:31.428Z"
   },
   {
    "duration": 153,
    "start_time": "2021-08-19T11:38:31.470Z"
   },
   {
    "duration": 326,
    "start_time": "2021-08-19T11:38:31.626Z"
   },
   {
    "duration": 640,
    "start_time": "2021-08-19T11:38:31.955Z"
   },
   {
    "duration": 115,
    "start_time": "2021-08-19T11:38:32.599Z"
   },
   {
    "duration": 8,
    "start_time": "2021-08-19T11:38:32.717Z"
   },
   {
    "duration": 101,
    "start_time": "2021-08-19T11:38:32.727Z"
   },
   {
    "duration": 279,
    "start_time": "2021-08-19T11:38:32.831Z"
   },
   {
    "duration": 464,
    "start_time": "2021-08-19T11:38:33.113Z"
   },
   {
    "duration": 11,
    "start_time": "2021-08-19T11:38:33.580Z"
   },
   {
    "duration": 126,
    "start_time": "2021-08-19T11:38:33.594Z"
   },
   {
    "duration": 20,
    "start_time": "2021-08-19T11:38:33.723Z"
   },
   {
    "duration": 658,
    "start_time": "2021-08-19T11:38:33.746Z"
   },
   {
    "duration": 720,
    "start_time": "2021-08-19T11:38:34.407Z"
   },
   {
    "duration": 66,
    "start_time": "2021-08-19T11:38:35.129Z"
   },
   {
    "duration": 35,
    "start_time": "2021-08-19T11:38:35.198Z"
   },
   {
    "duration": 281,
    "start_time": "2021-08-19T11:38:35.236Z"
   },
   {
    "duration": 220,
    "start_time": "2021-08-19T11:38:35.519Z"
   },
   {
    "duration": 242,
    "start_time": "2021-08-19T11:38:35.742Z"
   },
   {
    "duration": 4,
    "start_time": "2021-08-19T11:38:35.990Z"
   },
   {
    "duration": 9,
    "start_time": "2021-08-19T11:38:35.997Z"
   },
   {
    "duration": 104,
    "start_time": "2021-08-19T11:38:36.008Z"
   },
   {
    "duration": 9,
    "start_time": "2021-08-19T11:38:36.114Z"
   },
   {
    "duration": 4,
    "start_time": "2021-08-19T11:38:36.126Z"
   },
   {
    "duration": 243,
    "start_time": "2021-08-19T11:38:36.132Z"
   },
   {
    "duration": 1169,
    "start_time": "2021-08-19T11:38:36.378Z"
   },
   {
    "duration": 1505,
    "start_time": "2021-08-19T11:38:37.550Z"
   },
   {
    "duration": 31,
    "start_time": "2021-08-19T11:38:39.057Z"
   },
   {
    "duration": 21,
    "start_time": "2021-08-19T11:38:39.091Z"
   },
   {
    "duration": 75,
    "start_time": "2021-08-19T11:38:39.115Z"
   },
   {
    "duration": 26,
    "start_time": "2021-08-19T11:38:39.193Z"
   },
   {
    "duration": 8,
    "start_time": "2021-08-19T11:38:39.222Z"
   },
   {
    "duration": 294541,
    "start_time": "2021-08-19T11:38:39.233Z"
   },
   {
    "duration": 11,
    "start_time": "2021-08-19T11:43:33.778Z"
   },
   {
    "duration": 265136,
    "start_time": "2021-08-19T11:43:33.792Z"
   },
   {
    "duration": 37,
    "start_time": "2021-08-19T11:47:58.930Z"
   },
   {
    "duration": 82099,
    "start_time": "2021-08-19T11:47:58.970Z"
   },
   {
    "duration": 749104,
    "start_time": "2021-08-19T11:49:21.073Z"
   },
   {
    "duration": 3,
    "start_time": "2021-08-19T12:01:50.180Z"
   },
   {
    "duration": 397025,
    "start_time": "2021-08-19T12:01:50.185Z"
   },
   {
    "duration": 13,
    "start_time": "2021-08-19T12:08:27.212Z"
   },
   {
    "duration": 1646,
    "start_time": "2021-08-19T12:15:39.652Z"
   },
   {
    "duration": 1170,
    "start_time": "2021-08-19T12:15:41.301Z"
   },
   {
    "duration": 178,
    "start_time": "2021-08-19T12:15:42.474Z"
   },
   {
    "duration": 30,
    "start_time": "2021-08-19T12:15:42.655Z"
   },
   {
    "duration": 310,
    "start_time": "2021-08-19T12:15:42.689Z"
   },
   {
    "duration": 570,
    "start_time": "2021-08-19T12:15:43.002Z"
   },
   {
    "duration": 1025,
    "start_time": "2021-08-19T12:15:43.575Z"
   },
   {
    "duration": 123,
    "start_time": "2021-08-19T12:15:44.603Z"
   },
   {
    "duration": 8,
    "start_time": "2021-08-19T12:15:44.729Z"
   },
   {
    "duration": 89,
    "start_time": "2021-08-19T12:15:44.739Z"
   },
   {
    "duration": 256,
    "start_time": "2021-08-19T12:15:44.830Z"
   },
   {
    "duration": 429,
    "start_time": "2021-08-19T12:15:45.088Z"
   },
   {
    "duration": 8,
    "start_time": "2021-08-19T12:15:45.519Z"
   },
   {
    "duration": 111,
    "start_time": "2021-08-19T12:15:45.529Z"
   },
   {
    "duration": 27,
    "start_time": "2021-08-19T12:15:45.642Z"
   },
   {
    "duration": 607,
    "start_time": "2021-08-19T12:15:45.672Z"
   },
   {
    "duration": 680,
    "start_time": "2021-08-19T12:15:46.282Z"
   },
   {
    "duration": 52,
    "start_time": "2021-08-19T12:15:46.966Z"
   },
   {
    "duration": 47,
    "start_time": "2021-08-19T12:15:47.020Z"
   },
   {
    "duration": 234,
    "start_time": "2021-08-19T12:15:47.069Z"
   },
   {
    "duration": 213,
    "start_time": "2021-08-19T12:15:47.306Z"
   },
   {
    "duration": 241,
    "start_time": "2021-08-19T12:15:47.522Z"
   },
   {
    "duration": 4,
    "start_time": "2021-08-19T12:15:47.771Z"
   },
   {
    "duration": 5,
    "start_time": "2021-08-19T12:15:47.778Z"
   },
   {
    "duration": 98,
    "start_time": "2021-08-19T12:15:47.786Z"
   },
   {
    "duration": 9,
    "start_time": "2021-08-19T12:15:47.887Z"
   },
   {
    "duration": 4,
    "start_time": "2021-08-19T12:15:47.899Z"
   },
   {
    "duration": 238,
    "start_time": "2021-08-19T12:15:47.906Z"
   },
   {
    "duration": 1199,
    "start_time": "2021-08-19T12:15:48.146Z"
   },
   {
    "duration": 1472,
    "start_time": "2021-08-19T12:15:49.348Z"
   },
   {
    "duration": 19,
    "start_time": "2021-08-19T12:15:50.823Z"
   },
   {
    "duration": 38,
    "start_time": "2021-08-19T12:15:50.844Z"
   },
   {
    "duration": 58,
    "start_time": "2021-08-19T12:15:50.884Z"
   },
   {
    "duration": 33,
    "start_time": "2021-08-19T12:15:50.944Z"
   },
   {
    "duration": 8,
    "start_time": "2021-08-19T12:15:50.979Z"
   },
   {
    "duration": 155679,
    "start_time": "2021-08-19T12:15:50.990Z"
   },
   {
    "duration": 7,
    "start_time": "2021-08-19T12:18:26.672Z"
   },
   {
    "duration": 338968,
    "start_time": "2021-08-19T12:18:26.681Z"
   },
   {
    "duration": 6,
    "start_time": "2021-08-19T12:24:05.671Z"
   },
   {
    "duration": 152098,
    "start_time": "2021-08-19T12:24:05.680Z"
   },
   {
    "duration": 924576,
    "start_time": "2021-08-19T12:26:37.787Z"
   },
   {
    "duration": 7,
    "start_time": "2021-08-19T12:42:02.368Z"
   },
   {
    "duration": 256214,
    "start_time": "2021-08-19T12:42:02.377Z"
   },
   {
    "duration": 13,
    "start_time": "2021-08-19T12:46:18.593Z"
   },
   {
    "duration": 12,
    "start_time": "2021-08-19T12:53:30.039Z"
   },
   {
    "duration": 1589,
    "start_time": "2021-08-19T12:59:18.635Z"
   },
   {
    "duration": 1232,
    "start_time": "2021-08-19T12:59:20.227Z"
   },
   {
    "duration": 174,
    "start_time": "2021-08-19T12:59:21.467Z"
   },
   {
    "duration": 46,
    "start_time": "2021-08-19T12:59:21.644Z"
   },
   {
    "duration": 138,
    "start_time": "2021-08-19T12:59:21.692Z"
   },
   {
    "duration": 284,
    "start_time": "2021-08-19T12:59:21.832Z"
   },
   {
    "duration": 589,
    "start_time": "2021-08-19T12:59:22.119Z"
   },
   {
    "duration": 122,
    "start_time": "2021-08-19T12:59:22.712Z"
   },
   {
    "duration": 8,
    "start_time": "2021-08-19T12:59:22.837Z"
   },
   {
    "duration": 91,
    "start_time": "2021-08-19T12:59:22.848Z"
   },
   {
    "duration": 268,
    "start_time": "2021-08-19T12:59:22.942Z"
   },
   {
    "duration": 448,
    "start_time": "2021-08-19T12:59:23.213Z"
   },
   {
    "duration": 11,
    "start_time": "2021-08-19T12:59:23.668Z"
   },
   {
    "duration": 126,
    "start_time": "2021-08-19T12:59:23.681Z"
   },
   {
    "duration": 20,
    "start_time": "2021-08-19T12:59:23.809Z"
   },
   {
    "duration": 649,
    "start_time": "2021-08-19T12:59:23.831Z"
   },
   {
    "duration": 685,
    "start_time": "2021-08-19T12:59:24.483Z"
   },
   {
    "duration": 55,
    "start_time": "2021-08-19T12:59:25.170Z"
   },
   {
    "duration": 53,
    "start_time": "2021-08-19T12:59:25.227Z"
   },
   {
    "duration": 248,
    "start_time": "2021-08-19T12:59:25.282Z"
   },
   {
    "duration": 215,
    "start_time": "2021-08-19T12:59:25.532Z"
   },
   {
    "duration": 239,
    "start_time": "2021-08-19T12:59:25.750Z"
   },
   {
    "duration": 3,
    "start_time": "2021-08-19T12:59:25.994Z"
   },
   {
    "duration": 11,
    "start_time": "2021-08-19T12:59:26.000Z"
   },
   {
    "duration": 95,
    "start_time": "2021-08-19T12:59:26.013Z"
   },
   {
    "duration": 8,
    "start_time": "2021-08-19T12:59:26.110Z"
   },
   {
    "duration": 4,
    "start_time": "2021-08-19T12:59:26.121Z"
   },
   {
    "duration": 255,
    "start_time": "2021-08-19T12:59:26.128Z"
   },
   {
    "duration": 1151,
    "start_time": "2021-08-19T12:59:26.385Z"
   },
   {
    "duration": 1459,
    "start_time": "2021-08-19T12:59:27.538Z"
   },
   {
    "duration": 19,
    "start_time": "2021-08-19T12:59:28.999Z"
   },
   {
    "duration": 20,
    "start_time": "2021-08-19T12:59:29.020Z"
   },
   {
    "duration": 61,
    "start_time": "2021-08-19T12:59:29.042Z"
   },
   {
    "duration": 26,
    "start_time": "2021-08-19T12:59:29.106Z"
   },
   {
    "duration": 39,
    "start_time": "2021-08-19T12:59:29.135Z"
   },
   {
    "duration": 316201,
    "start_time": "2021-08-19T12:59:29.177Z"
   },
   {
    "duration": 5,
    "start_time": "2021-08-19T13:04:45.383Z"
   },
   {
    "duration": 343142,
    "start_time": "2021-08-19T13:04:45.391Z"
   },
   {
    "duration": 6,
    "start_time": "2021-08-19T13:10:28.576Z"
   },
   {
    "duration": 158191,
    "start_time": "2021-08-19T13:10:28.584Z"
   },
   {
    "duration": 928369,
    "start_time": "2021-08-19T13:13:06.779Z"
   },
   {
    "duration": 4,
    "start_time": "2021-08-19T13:28:35.150Z"
   },
   {
    "duration": 255457,
    "start_time": "2021-08-19T13:28:35.168Z"
   },
   {
    "duration": 13,
    "start_time": "2021-08-19T13:32:50.628Z"
   }
  ],
  "kernelspec": {
   "display_name": "Python 3",
   "language": "python",
   "name": "python3"
  },
  "language_info": {
   "codemirror_mode": {
    "name": "ipython",
    "version": 3
   },
   "file_extension": ".py",
   "mimetype": "text/x-python",
   "name": "python",
   "nbconvert_exporter": "python",
   "pygments_lexer": "ipython3",
   "version": "3.7.8"
  },
  "toc": {
   "base_numbering": 1,
   "nav_menu": {},
   "number_sections": true,
   "sideBar": true,
   "skip_h1_title": true,
   "title_cell": "Содержание",
   "title_sidebar": "Contents",
   "toc_cell": true,
   "toc_position": {
    "height": "calc(100% - 180px)",
    "left": "10px",
    "top": "150px",
    "width": "320px"
   },
   "toc_section_display": true,
   "toc_window_display": true
  }
 },
 "nbformat": 4,
 "nbformat_minor": 2
}
