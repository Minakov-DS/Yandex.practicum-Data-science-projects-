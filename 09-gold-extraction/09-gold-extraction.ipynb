{
 "cells": [
  {
   "cell_type": "markdown",
   "metadata": {
    "toc": true
   },
   "source": [
    "<h1>Содержание<span class=\"tocSkip\"></span></h1>\n",
    "<div class=\"toc\"><ul class=\"toc-item\"><li><span><a href=\"#Подготовка-данных\" data-toc-modified-id=\"Подготовка-данных-1\"><span class=\"toc-item-num\">1&nbsp;&nbsp;</span>Подготовка данных</a></span><ul class=\"toc-item\"><li><span><a href=\"#Загрузка-и-изучение-исходных-данных\" data-toc-modified-id=\"Загрузка-и-изучение-исходных-данных-1.1\"><span class=\"toc-item-num\">1.1&nbsp;&nbsp;</span>Загрузка и изучение исходных данных</a></span></li><li><span><a href=\"#Проверка-правильности-расчета-эффективности-обогащения\" data-toc-modified-id=\"Проверка-правильности-расчета-эффективности-обогащения-1.2\"><span class=\"toc-item-num\">1.2&nbsp;&nbsp;</span>Проверка правильности расчета эффективности обогащения</a></span></li><li><span><a href=\"#Анализ-признаков,-отсутвующих-в-тестовом-датасете\" data-toc-modified-id=\"Анализ-признаков,-отсутвующих-в-тестовом-датасете-1.3\"><span class=\"toc-item-num\">1.3&nbsp;&nbsp;</span>Анализ признаков, отсутвующих в тестовом датасете</a></span></li><li><span><a href=\"#Предобработка-данных\" data-toc-modified-id=\"Предобработка-данных-1.4\"><span class=\"toc-item-num\">1.4&nbsp;&nbsp;</span>Предобработка данных</a></span></li><li><span><a href=\"#Выводы\" data-toc-modified-id=\"Выводы-1.5\"><span class=\"toc-item-num\">1.5&nbsp;&nbsp;</span>Выводы</a></span></li></ul></li><li><span><a href=\"#Анализ-данных\" data-toc-modified-id=\"Анализ-данных-2\"><span class=\"toc-item-num\">2&nbsp;&nbsp;</span>Анализ данных</a></span><ul class=\"toc-item\"><li><span><a href=\"#Изменение-концентрации-металлов-(Au,-Ag,-Pb)-на-различных-этапах-очистки\" data-toc-modified-id=\"Изменение-концентрации-металлов-(Au,-Ag,-Pb)-на-различных-этапах-очистки-2.1\"><span class=\"toc-item-num\">2.1&nbsp;&nbsp;</span>Изменение концентрации металлов (Au, Ag, Pb) на различных этапах очистки</a></span></li><li><span><a href=\"#Сравнение-распределения-размеров-гранул-сырья-на-обучающей-и-тестовой-выборках\" data-toc-modified-id=\"Сравнение-распределения-размеров-гранул-сырья-на-обучающей-и-тестовой-выборках-2.2\"><span class=\"toc-item-num\">2.2&nbsp;&nbsp;</span>Сравнение распределения размеров гранул сырья на обучающей и тестовой выборках</a></span></li><li><span><a href=\"#Изменение-суммарной-концентрации-всех-веществ-на-разных-стадиях\" data-toc-modified-id=\"Изменение-суммарной-концентрации-всех-веществ-на-разных-стадиях-2.3\"><span class=\"toc-item-num\">2.3&nbsp;&nbsp;</span>Изменение суммарной концентрации всех веществ на разных стадиях</a></span></li><li><span><a href=\"#Обработка-выбросов,-выявленных-в-результате-анализа-данных\" data-toc-modified-id=\"Обработка-выбросов,-выявленных-в-результате-анализа-данных-2.4\"><span class=\"toc-item-num\">2.4&nbsp;&nbsp;</span>Обработка выбросов, выявленных в результате анализа данных</a></span></li><li><span><a href=\"#Выводы\" data-toc-modified-id=\"Выводы-2.5\"><span class=\"toc-item-num\">2.5&nbsp;&nbsp;</span>Выводы</a></span></li></ul></li><li><span><a href=\"#Модель\" data-toc-modified-id=\"Модель-3\"><span class=\"toc-item-num\">3&nbsp;&nbsp;</span>Модель</a></span><ul class=\"toc-item\"><li><span><a href=\"#Метрика-smape\" data-toc-modified-id=\"Метрика-smape-3.1\"><span class=\"toc-item-num\">3.1&nbsp;&nbsp;</span>Метрика smape</a></span></li><li><span><a href=\"#Подготовка-данных\" data-toc-modified-id=\"Подготовка-данных-3.2\"><span class=\"toc-item-num\">3.2&nbsp;&nbsp;</span>Подготовка данных</a></span></li><li><span><a href=\"#Выбор-лучшей-модели-для-расчета--&quot;rougher.output.recovery&quot;\" data-toc-modified-id=\"Выбор-лучшей-модели-для-расчета--&quot;rougher.output.recovery&quot;-3.3\"><span class=\"toc-item-num\">3.3&nbsp;&nbsp;</span>Выбор лучшей модели для расчета  \"rougher.output.recovery\"</a></span></li><li><span><a href=\"#Модель-для-расчета--&quot;final.output.recovery&quot;\" data-toc-modified-id=\"Модель-для-расчета--&quot;final.output.recovery&quot;-3.4\"><span class=\"toc-item-num\">3.4&nbsp;&nbsp;</span>Модель для расчета  \"final.output.recovery\"</a></span></li><li><span><a href=\"#Тестирование-лучших-моделей\" data-toc-modified-id=\"Тестирование-лучших-моделей-3.5\"><span class=\"toc-item-num\">3.5&nbsp;&nbsp;</span>Тестирование лучших моделей</a></span></li><li><span><a href=\"#Расчет-итоговой-sMAPE\" data-toc-modified-id=\"Расчет-итоговой-sMAPE-3.6\"><span class=\"toc-item-num\">3.6&nbsp;&nbsp;</span>Расчет итоговой sMAPE</a></span></li><li><span><a href=\"#Проверка-моделей-на-адекватность\" data-toc-modified-id=\"Проверка-моделей-на-адекватность-3.7\"><span class=\"toc-item-num\">3.7&nbsp;&nbsp;</span>Проверка моделей на адекватность</a></span></li><li><span><a href=\"#Выводы\" data-toc-modified-id=\"Выводы-3.8\"><span class=\"toc-item-num\">3.8&nbsp;&nbsp;</span>Выводы</a></span></li></ul></li><li><span><a href=\"#Чек-лист-готовности-проекта\" data-toc-modified-id=\"Чек-лист-готовности-проекта-4\"><span class=\"toc-item-num\">4&nbsp;&nbsp;</span>Чек-лист готовности проекта</a></span></li></ul></div>"
   ]
  },
  {
   "cell_type": "markdown",
   "metadata": {},
   "source": [
    "# Восстановление золота из руды"
   ]
  },
  {
   "cell_type": "markdown",
   "metadata": {},
   "source": [
    "**Цель проекта:** необходимо подготовить модель машинного обучения, предсказывающую коэффициент восстановления золота из золотосодержащей руды на основе данных с параметрами добычи и очистки. Перед созданием модели необходимо провести анализ исходных данных. Модель планируется использовать для оптимизации производства, чтобы не запускать предприятие с убыточными характеристиками."
   ]
  },
  {
   "cell_type": "markdown",
   "metadata": {},
   "source": [
    "**Описание технологического процесса:**\n",
    "\n",
    "Когда добытая руда проходит первичную обработку, получается дроблёная смесь. Её отправляют на флотацию (обогащение) и двухэтапную очистку.\n",
    "\n",
    "Опишем каждую стадию:\n",
    "\n",
    "*1. Флотация*\n",
    "\n",
    "Во флотационную установку подаётся смесь золотосодержащей руды. После обогащения получается черновой концентрат и «отвальные хвосты», то есть остатки продукта с низкой концентрацией ценных металлов.\n",
    "На стабильность этого процесса влияет непостоянное и неоптимальное физико-химическое состояние флотационной пульпы (смеси твёрдых частиц и жидкости).\n",
    "\n",
    "*2. Очистка*\n",
    "\n",
    "Черновой концентрат проходит две очистки. На выходе получается финальный концентрат и новые отвальные хвосты."
   ]
  },
  {
   "cell_type": "markdown",
   "metadata": {},
   "source": [
    "**Описание данных:**\n",
    "\n",
    "*Технологический процесс*\n",
    "\n",
    "* Rougher feed — исходное сырье\n",
    "* Rougher additions (или reagent additions) — флотационные реагенты: Xanthate, Sulphate, Depressant\n",
    "* Xanthate **— ксантогенат (промотер, или активатор флотации);\n",
    "* Sulphate — сульфат (на данном производстве сульфид натрия);\n",
    "* Depressant — депрессант (силикат натрия).\n",
    "* Rougher process (англ. «грубый процесс») — флотация\n",
    "* Rougher tails — отвальные хвосты\n",
    "* Float banks — флотационная установка\n",
    "* Cleaner process — очистка\n",
    "* Rougher Au — черновой концентрат золота\n",
    "* Final Au — финальный концентрат золота\n",
    "\n",
    "*Параметры этапов*\n",
    "\n",
    "* air amount — объём воздуха\n",
    "* fluid levels — уровень жидкости\n",
    "* feed size — размер гранул сырья\n",
    "* feed rate — скорость подачи\n",
    "\n",
    "**Наименование признаков:** \n",
    "\n",
    "Наименование признаков должно быть такое:  \n",
    "[этап].[тип_параметра].[название_параметра]  \n",
    "Пример: rougher.input.feed_ag  \n",
    "\n",
    "Возможные значения для блока [этап]:  \n",
    "* rougher — флотация  \n",
    "* primary_cleaner — первичная очистка  \n",
    "* secondary_cleaner — вторичная очистка  \n",
    "* final — финальные характеристики  \n",
    "\n",
    "Возможные значения для блока [тип_параметра]:  \n",
    "* input — параметры сырья  \n",
    "* output — параметры продукта  \n",
    "* state — параметры, характеризующие текущее состояние этапа  \n",
    "* calculation — расчётные характеристики  "
   ]
  },
  {
   "cell_type": "markdown",
   "metadata": {},
   "source": [
    "**Описание проекта:**  \n",
    "\n",
    "Данные находятся в трёх файлах:  \n",
    "gold_recovery_train_new.csv — обучающая выборка;  \n",
    "gold_recovery_test_new.csv — тестовая выборка;  \n",
    "gold_recovery_full_new.csv — исходные данные.\n",
    "\n",
    "Данные индексируются датой и временем получения информации (признак date). Соседние по времени параметры часто похожи.\n",
    "Некоторые параметры недоступны, потому что замеряются и/или рассчитываются значительно позже. Из-за этого в тестовой выборке отсутствуют некоторые признаки, которые могут быть в обучающей. Также в тестовом наборе нет целевых признаков.\n",
    "Исходный датасет содержит обучающую и тестовую выборки со всеми признаками.\n",
    "В вашем распоряжении сырые данные: их просто выгрузили из хранилища. Прежде чем приступить к построению модели, проверьте по нашей инструкции их на корректность."
   ]
  },
  {
   "cell_type": "markdown",
   "metadata": {},
   "source": [
    "## Подготовка данных"
   ]
  },
  {
   "cell_type": "markdown",
   "metadata": {},
   "source": [
    "### Загрузка и изучение исходных данных"
   ]
  },
  {
   "cell_type": "markdown",
   "metadata": {},
   "source": [
    "Загрузим необходимые библиотеки"
   ]
  },
  {
   "cell_type": "code",
   "execution_count": 1,
   "metadata": {},
   "outputs": [],
   "source": [
    "import pandas as pd\n",
    "import numpy as np\n",
    "import seaborn as sn\n",
    "from matplotlib import pyplot as plt\n",
    "from sklearn.metrics import make_scorer, mean_absolute_error, mean_squared_error\n",
    "from sklearn.ensemble import RandomForestRegressor\n",
    "from sklearn.linear_model import LinearRegression\n",
    "from sklearn.model_selection import cross_val_score\n",
    "from sklearn.preprocessing import StandardScaler"
   ]
  },
  {
   "cell_type": "markdown",
   "metadata": {},
   "source": [
    "Загрузим датасеты: полный (full), обучающий (train) и тестовый (test)."
   ]
  },
  {
   "cell_type": "code",
   "execution_count": 2,
   "metadata": {},
   "outputs": [],
   "source": [
    "source_train = pd.read_csv(\"/datasets/gold_recovery_train_new.csv\")\n",
    "source_test = pd.read_csv(\"/datasets/gold_recovery_test_new.csv\")\n",
    "source_full = pd.read_csv(\"/datasets/gold_recovery_full_new.csv\")"
   ]
  },
  {
   "cell_type": "markdown",
   "metadata": {},
   "source": [
    "Получим размеры датасетов."
   ]
  },
  {
   "cell_type": "code",
   "execution_count": 3,
   "metadata": {
    "scrolled": true
   },
   "outputs": [
    {
     "name": "stdout",
     "output_type": "stream",
     "text": [
      "(14149, 87)\n",
      "(5290, 53)\n",
      "(19439, 87)\n"
     ]
    }
   ],
   "source": [
    "source_list = [source_train, source_test, source_full]\n",
    "for source in source_list:\n",
    "    print(source.shape)"
   ]
  },
  {
   "cell_type": "markdown",
   "metadata": {},
   "source": [
    "Количество столбцов в обучающем и полном датасете равняется 87, в тестовом - 53.  Количество столбцов весьма значительно, для лучшей визуализации данных поменяем настройки для библиотеки Pandas таким образом, чтобы отображать до 100 столбцов и строк."
   ]
  },
  {
   "cell_type": "code",
   "execution_count": 4,
   "metadata": {},
   "outputs": [],
   "source": [
    "pd.set_option(\"display.max_rows\", 100)\n",
    "pd.set_option(\"display.max_columns\", 100)"
   ]
  },
  {
   "cell_type": "markdown",
   "metadata": {},
   "source": [
    "Выведем основную информацию о рассматриваемых датасетах"
   ]
  },
  {
   "cell_type": "code",
   "execution_count": 5,
   "metadata": {
    "scrolled": false
   },
   "outputs": [
    {
     "name": "stdout",
     "output_type": "stream",
     "text": [
      "source_train\n",
      "<class 'pandas.core.frame.DataFrame'>\n",
      "RangeIndex: 14149 entries, 0 to 14148\n",
      "Data columns (total 87 columns):\n",
      "date                                                  14149 non-null object\n",
      "final.output.concentrate_ag                           14148 non-null float64\n",
      "final.output.concentrate_pb                           14148 non-null float64\n",
      "final.output.concentrate_sol                          13938 non-null float64\n",
      "final.output.concentrate_au                           14149 non-null float64\n",
      "final.output.recovery                                 14149 non-null float64\n",
      "final.output.tail_ag                                  14149 non-null float64\n",
      "final.output.tail_pb                                  14049 non-null float64\n",
      "final.output.tail_sol                                 14144 non-null float64\n",
      "final.output.tail_au                                  14149 non-null float64\n",
      "primary_cleaner.input.sulfate                         14129 non-null float64\n",
      "primary_cleaner.input.depressant                      14117 non-null float64\n",
      "primary_cleaner.input.feed_size                       14149 non-null float64\n",
      "primary_cleaner.input.xanthate                        14049 non-null float64\n",
      "primary_cleaner.output.concentrate_ag                 14149 non-null float64\n",
      "primary_cleaner.output.concentrate_pb                 14063 non-null float64\n",
      "primary_cleaner.output.concentrate_sol                13863 non-null float64\n",
      "primary_cleaner.output.concentrate_au                 14149 non-null float64\n",
      "primary_cleaner.output.tail_ag                        14148 non-null float64\n",
      "primary_cleaner.output.tail_pb                        14134 non-null float64\n",
      "primary_cleaner.output.tail_sol                       14103 non-null float64\n",
      "primary_cleaner.output.tail_au                        14149 non-null float64\n",
      "primary_cleaner.state.floatbank8_a_air                14145 non-null float64\n",
      "primary_cleaner.state.floatbank8_a_level              14148 non-null float64\n",
      "primary_cleaner.state.floatbank8_b_air                14145 non-null float64\n",
      "primary_cleaner.state.floatbank8_b_level              14148 non-null float64\n",
      "primary_cleaner.state.floatbank8_c_air                14147 non-null float64\n",
      "primary_cleaner.state.floatbank8_c_level              14148 non-null float64\n",
      "primary_cleaner.state.floatbank8_d_air                14146 non-null float64\n",
      "primary_cleaner.state.floatbank8_d_level              14148 non-null float64\n",
      "rougher.calculation.sulfate_to_au_concentrate         14148 non-null float64\n",
      "rougher.calculation.floatbank10_sulfate_to_au_feed    14148 non-null float64\n",
      "rougher.calculation.floatbank11_sulfate_to_au_feed    14148 non-null float64\n",
      "rougher.calculation.au_pb_ratio                       14149 non-null float64\n",
      "rougher.input.feed_ag                                 14149 non-null float64\n",
      "rougher.input.feed_pb                                 14049 non-null float64\n",
      "rougher.input.feed_rate                               14141 non-null float64\n",
      "rougher.input.feed_size                               14005 non-null float64\n",
      "rougher.input.feed_sol                                14071 non-null float64\n",
      "rougher.input.feed_au                                 14149 non-null float64\n",
      "rougher.input.floatbank10_sulfate                     14120 non-null float64\n",
      "rougher.input.floatbank10_xanthate                    14141 non-null float64\n",
      "rougher.input.floatbank11_sulfate                     14113 non-null float64\n",
      "rougher.input.floatbank11_xanthate                    13721 non-null float64\n",
      "rougher.output.concentrate_ag                         14149 non-null float64\n",
      "rougher.output.concentrate_pb                         14149 non-null float64\n",
      "rougher.output.concentrate_sol                        14127 non-null float64\n",
      "rougher.output.concentrate_au                         14149 non-null float64\n",
      "rougher.output.recovery                               14149 non-null float64\n",
      "rougher.output.tail_ag                                14148 non-null float64\n",
      "rougher.output.tail_pb                                14149 non-null float64\n",
      "rougher.output.tail_sol                               14149 non-null float64\n",
      "rougher.output.tail_au                                14149 non-null float64\n",
      "rougher.state.floatbank10_a_air                       14148 non-null float64\n",
      "rougher.state.floatbank10_a_level                     14148 non-null float64\n",
      "rougher.state.floatbank10_b_air                       14148 non-null float64\n",
      "rougher.state.floatbank10_b_level                     14148 non-null float64\n",
      "rougher.state.floatbank10_c_air                       14148 non-null float64\n",
      "rougher.state.floatbank10_c_level                     14148 non-null float64\n",
      "rougher.state.floatbank10_d_air                       14149 non-null float64\n",
      "rougher.state.floatbank10_d_level                     14149 non-null float64\n",
      "rougher.state.floatbank10_e_air                       13713 non-null float64\n",
      "rougher.state.floatbank10_e_level                     14149 non-null float64\n",
      "rougher.state.floatbank10_f_air                       14149 non-null float64\n",
      "rougher.state.floatbank10_f_level                     14149 non-null float64\n",
      "secondary_cleaner.output.tail_ag                      14147 non-null float64\n",
      "secondary_cleaner.output.tail_pb                      14139 non-null float64\n",
      "secondary_cleaner.output.tail_sol                     12544 non-null float64\n",
      "secondary_cleaner.output.tail_au                      14149 non-null float64\n",
      "secondary_cleaner.state.floatbank2_a_air              13932 non-null float64\n",
      "secondary_cleaner.state.floatbank2_a_level            14148 non-null float64\n",
      "secondary_cleaner.state.floatbank2_b_air              14128 non-null float64\n",
      "secondary_cleaner.state.floatbank2_b_level            14148 non-null float64\n",
      "secondary_cleaner.state.floatbank3_a_air              14145 non-null float64\n",
      "secondary_cleaner.state.floatbank3_a_level            14148 non-null float64\n",
      "secondary_cleaner.state.floatbank3_b_air              14148 non-null float64\n",
      "secondary_cleaner.state.floatbank3_b_level            14148 non-null float64\n",
      "secondary_cleaner.state.floatbank4_a_air              14143 non-null float64\n",
      "secondary_cleaner.state.floatbank4_a_level            14148 non-null float64\n",
      "secondary_cleaner.state.floatbank4_b_air              14148 non-null float64\n",
      "secondary_cleaner.state.floatbank4_b_level            14148 non-null float64\n",
      "secondary_cleaner.state.floatbank5_a_air              14148 non-null float64\n",
      "secondary_cleaner.state.floatbank5_a_level            14148 non-null float64\n",
      "secondary_cleaner.state.floatbank5_b_air              14148 non-null float64\n",
      "secondary_cleaner.state.floatbank5_b_level            14148 non-null float64\n",
      "secondary_cleaner.state.floatbank6_a_air              14147 non-null float64\n",
      "secondary_cleaner.state.floatbank6_a_level            14148 non-null float64\n",
      "dtypes: float64(86), object(1)\n",
      "memory usage: 9.4+ MB\n",
      "None\n",
      "\n",
      "source_test\n",
      "<class 'pandas.core.frame.DataFrame'>\n",
      "RangeIndex: 5290 entries, 0 to 5289\n",
      "Data columns (total 53 columns):\n",
      "date                                          5290 non-null object\n",
      "primary_cleaner.input.sulfate                 5286 non-null float64\n",
      "primary_cleaner.input.depressant              5285 non-null float64\n",
      "primary_cleaner.input.feed_size               5290 non-null float64\n",
      "primary_cleaner.input.xanthate                5286 non-null float64\n",
      "primary_cleaner.state.floatbank8_a_air        5290 non-null float64\n",
      "primary_cleaner.state.floatbank8_a_level      5290 non-null float64\n",
      "primary_cleaner.state.floatbank8_b_air        5290 non-null float64\n",
      "primary_cleaner.state.floatbank8_b_level      5290 non-null float64\n",
      "primary_cleaner.state.floatbank8_c_air        5290 non-null float64\n",
      "primary_cleaner.state.floatbank8_c_level      5290 non-null float64\n",
      "primary_cleaner.state.floatbank8_d_air        5290 non-null float64\n",
      "primary_cleaner.state.floatbank8_d_level      5290 non-null float64\n",
      "rougher.input.feed_ag                         5290 non-null float64\n",
      "rougher.input.feed_pb                         5290 non-null float64\n",
      "rougher.input.feed_rate                       5287 non-null float64\n",
      "rougher.input.feed_size                       5289 non-null float64\n",
      "rougher.input.feed_sol                        5269 non-null float64\n",
      "rougher.input.feed_au                         5290 non-null float64\n",
      "rougher.input.floatbank10_sulfate             5285 non-null float64\n",
      "rougher.input.floatbank10_xanthate            5290 non-null float64\n",
      "rougher.input.floatbank11_sulfate             5282 non-null float64\n",
      "rougher.input.floatbank11_xanthate            5265 non-null float64\n",
      "rougher.state.floatbank10_a_air               5290 non-null float64\n",
      "rougher.state.floatbank10_a_level             5290 non-null float64\n",
      "rougher.state.floatbank10_b_air               5290 non-null float64\n",
      "rougher.state.floatbank10_b_level             5290 non-null float64\n",
      "rougher.state.floatbank10_c_air               5290 non-null float64\n",
      "rougher.state.floatbank10_c_level             5290 non-null float64\n",
      "rougher.state.floatbank10_d_air               5290 non-null float64\n",
      "rougher.state.floatbank10_d_level             5290 non-null float64\n",
      "rougher.state.floatbank10_e_air               5290 non-null float64\n",
      "rougher.state.floatbank10_e_level             5290 non-null float64\n",
      "rougher.state.floatbank10_f_air               5290 non-null float64\n",
      "rougher.state.floatbank10_f_level             5290 non-null float64\n",
      "secondary_cleaner.state.floatbank2_a_air      5287 non-null float64\n",
      "secondary_cleaner.state.floatbank2_a_level    5290 non-null float64\n",
      "secondary_cleaner.state.floatbank2_b_air      5288 non-null float64\n",
      "secondary_cleaner.state.floatbank2_b_level    5290 non-null float64\n",
      "secondary_cleaner.state.floatbank3_a_air      5281 non-null float64\n",
      "secondary_cleaner.state.floatbank3_a_level    5290 non-null float64\n",
      "secondary_cleaner.state.floatbank3_b_air      5290 non-null float64\n",
      "secondary_cleaner.state.floatbank3_b_level    5290 non-null float64\n",
      "secondary_cleaner.state.floatbank4_a_air      5290 non-null float64\n",
      "secondary_cleaner.state.floatbank4_a_level    5290 non-null float64\n",
      "secondary_cleaner.state.floatbank4_b_air      5290 non-null float64\n",
      "secondary_cleaner.state.floatbank4_b_level    5290 non-null float64\n",
      "secondary_cleaner.state.floatbank5_a_air      5290 non-null float64\n",
      "secondary_cleaner.state.floatbank5_a_level    5290 non-null float64\n",
      "secondary_cleaner.state.floatbank5_b_air      5290 non-null float64\n",
      "secondary_cleaner.state.floatbank5_b_level    5290 non-null float64\n",
      "secondary_cleaner.state.floatbank6_a_air      5290 non-null float64\n",
      "secondary_cleaner.state.floatbank6_a_level    5290 non-null float64\n",
      "dtypes: float64(52), object(1)\n",
      "memory usage: 2.1+ MB\n",
      "None\n",
      "\n",
      "source_full\n",
      "<class 'pandas.core.frame.DataFrame'>\n",
      "RangeIndex: 19439 entries, 0 to 19438\n",
      "Data columns (total 87 columns):\n",
      "date                                                  19439 non-null object\n",
      "final.output.concentrate_ag                           19438 non-null float64\n",
      "final.output.concentrate_pb                           19438 non-null float64\n",
      "final.output.concentrate_sol                          19228 non-null float64\n",
      "final.output.concentrate_au                           19439 non-null float64\n",
      "final.output.recovery                                 19439 non-null float64\n",
      "final.output.tail_ag                                  19438 non-null float64\n",
      "final.output.tail_pb                                  19338 non-null float64\n",
      "final.output.tail_sol                                 19433 non-null float64\n",
      "final.output.tail_au                                  19439 non-null float64\n",
      "primary_cleaner.input.sulfate                         19415 non-null float64\n",
      "primary_cleaner.input.depressant                      19402 non-null float64\n",
      "primary_cleaner.input.feed_size                       19439 non-null float64\n",
      "primary_cleaner.input.xanthate                        19335 non-null float64\n",
      "primary_cleaner.output.concentrate_ag                 19439 non-null float64\n",
      "primary_cleaner.output.concentrate_pb                 19323 non-null float64\n",
      "primary_cleaner.output.concentrate_sol                19069 non-null float64\n",
      "primary_cleaner.output.concentrate_au                 19439 non-null float64\n",
      "primary_cleaner.output.tail_ag                        19435 non-null float64\n",
      "primary_cleaner.output.tail_pb                        19418 non-null float64\n",
      "primary_cleaner.output.tail_sol                       19377 non-null float64\n",
      "primary_cleaner.output.tail_au                        19439 non-null float64\n",
      "primary_cleaner.state.floatbank8_a_air                19435 non-null float64\n",
      "primary_cleaner.state.floatbank8_a_level              19438 non-null float64\n",
      "primary_cleaner.state.floatbank8_b_air                19435 non-null float64\n",
      "primary_cleaner.state.floatbank8_b_level              19438 non-null float64\n",
      "primary_cleaner.state.floatbank8_c_air                19437 non-null float64\n",
      "primary_cleaner.state.floatbank8_c_level              19438 non-null float64\n",
      "primary_cleaner.state.floatbank8_d_air                19436 non-null float64\n",
      "primary_cleaner.state.floatbank8_d_level              19438 non-null float64\n",
      "rougher.calculation.sulfate_to_au_concentrate         19437 non-null float64\n",
      "rougher.calculation.floatbank10_sulfate_to_au_feed    19437 non-null float64\n",
      "rougher.calculation.floatbank11_sulfate_to_au_feed    19437 non-null float64\n",
      "rougher.calculation.au_pb_ratio                       19439 non-null float64\n",
      "rougher.input.feed_ag                                 19439 non-null float64\n",
      "rougher.input.feed_pb                                 19339 non-null float64\n",
      "rougher.input.feed_rate                               19428 non-null float64\n",
      "rougher.input.feed_size                               19294 non-null float64\n",
      "rougher.input.feed_sol                                19340 non-null float64\n",
      "rougher.input.feed_au                                 19439 non-null float64\n",
      "rougher.input.floatbank10_sulfate                     19405 non-null float64\n",
      "rougher.input.floatbank10_xanthate                    19431 non-null float64\n",
      "rougher.input.floatbank11_sulfate                     19395 non-null float64\n",
      "rougher.input.floatbank11_xanthate                    18986 non-null float64\n",
      "rougher.output.concentrate_ag                         19439 non-null float64\n",
      "rougher.output.concentrate_pb                         19439 non-null float64\n",
      "rougher.output.concentrate_sol                        19416 non-null float64\n",
      "rougher.output.concentrate_au                         19439 non-null float64\n",
      "rougher.output.recovery                               19439 non-null float64\n",
      "rougher.output.tail_ag                                19438 non-null float64\n",
      "rougher.output.tail_pb                                19439 non-null float64\n",
      "rougher.output.tail_sol                               19439 non-null float64\n",
      "rougher.output.tail_au                                19439 non-null float64\n",
      "rougher.state.floatbank10_a_air                       19438 non-null float64\n",
      "rougher.state.floatbank10_a_level                     19438 non-null float64\n",
      "rougher.state.floatbank10_b_air                       19438 non-null float64\n",
      "rougher.state.floatbank10_b_level                     19438 non-null float64\n",
      "rougher.state.floatbank10_c_air                       19438 non-null float64\n",
      "rougher.state.floatbank10_c_level                     19438 non-null float64\n",
      "rougher.state.floatbank10_d_air                       19439 non-null float64\n",
      "rougher.state.floatbank10_d_level                     19439 non-null float64\n",
      "rougher.state.floatbank10_e_air                       19003 non-null float64\n",
      "rougher.state.floatbank10_e_level                     19439 non-null float64\n",
      "rougher.state.floatbank10_f_air                       19439 non-null float64\n",
      "rougher.state.floatbank10_f_level                     19439 non-null float64\n",
      "secondary_cleaner.output.tail_ag                      19437 non-null float64\n",
      "secondary_cleaner.output.tail_pb                      19427 non-null float64\n",
      "secondary_cleaner.output.tail_sol                     17691 non-null float64\n",
      "secondary_cleaner.output.tail_au                      19439 non-null float64\n",
      "secondary_cleaner.state.floatbank2_a_air              19219 non-null float64\n",
      "secondary_cleaner.state.floatbank2_a_level            19438 non-null float64\n",
      "secondary_cleaner.state.floatbank2_b_air              19416 non-null float64\n",
      "secondary_cleaner.state.floatbank2_b_level            19438 non-null float64\n",
      "secondary_cleaner.state.floatbank3_a_air              19426 non-null float64\n",
      "secondary_cleaner.state.floatbank3_a_level            19438 non-null float64\n",
      "secondary_cleaner.state.floatbank3_b_air              19438 non-null float64\n",
      "secondary_cleaner.state.floatbank3_b_level            19438 non-null float64\n",
      "secondary_cleaner.state.floatbank4_a_air              19433 non-null float64\n",
      "secondary_cleaner.state.floatbank4_a_level            19438 non-null float64\n",
      "secondary_cleaner.state.floatbank4_b_air              19438 non-null float64\n",
      "secondary_cleaner.state.floatbank4_b_level            19438 non-null float64\n",
      "secondary_cleaner.state.floatbank5_a_air              19438 non-null float64\n",
      "secondary_cleaner.state.floatbank5_a_level            19438 non-null float64\n",
      "secondary_cleaner.state.floatbank5_b_air              19438 non-null float64\n",
      "secondary_cleaner.state.floatbank5_b_level            19438 non-null float64\n",
      "secondary_cleaner.state.floatbank6_a_air              19437 non-null float64\n",
      "secondary_cleaner.state.floatbank6_a_level            19438 non-null float64\n",
      "dtypes: float64(86), object(1)\n",
      "memory usage: 12.9+ MB\n",
      "None\n",
      "\n"
     ]
    }
   ],
   "source": [
    "source_name_list = [\"source_train\", \"source_test\", \"source_full\"]\n",
    "for source, source_name in zip(source_list, source_name_list):\n",
    "    print(source_name)\n",
    "    print(source.info())\n",
    "    print()"
   ]
  },
  {
   "cell_type": "markdown",
   "metadata": {},
   "source": [
    "### Проверка правильности расчета эффективности обогащения"
   ]
  },
  {
   "cell_type": "markdown",
   "metadata": {},
   "source": [
    "Показателем эффективности обогащения является коэффицент восстановления золота. Для проверки правильности расчета коэффицента восстановления золота напишем функцию recovery."
   ]
  },
  {
   "cell_type": "code",
   "execution_count": 6,
   "metadata": {},
   "outputs": [],
   "source": [
    "def recovery(data, c_name, f_name, t_name):\n",
    "    c = data[c_name]\n",
    "    f = data[f_name]\n",
    "    t = data[t_name]\n",
    "    recovery = c * (f - t) / (f * (c - t)) * 100\n",
    "    return recovery"
   ]
  },
  {
   "cell_type": "markdown",
   "metadata": {},
   "source": [
    "Функция recovery принимает на вход исходный датасет (data), а также названия столбцов в данном датасете со следующей информацией: доля золота в концентрате после флотации/очистки (c_name), доля золота в сырье/концентрате до флотации/очистки (f_name) и доля золота в отвальных хвостах после флотации/очистки (t_name). Возвращает функция значения коэффицента восстановления золота."
   ]
  },
  {
   "cell_type": "markdown",
   "metadata": {},
   "source": [
    "Рассчитаем при помощи функции recovery коэффициенты эффективности обогащения для стадии флотации и тренировочного датасета (source_train)  и сохраним их в отдельной переменной rougher_recovery_calculation."
   ]
  },
  {
   "cell_type": "code",
   "execution_count": 7,
   "metadata": {},
   "outputs": [],
   "source": [
    "rougher_recovery_calculation = recovery(source_train, \"rougher.output.concentrate_au\", \"rougher.input.feed_au\", \n",
    "                                        \"rougher.output.tail_au\")"
   ]
  },
  {
   "cell_type": "markdown",
   "metadata": {},
   "source": [
    "Сопоставим расчетные результаты коэффициента эффективности обогащения с фактическими значениями в тренировочном датасете, применив метод describe."
   ]
  },
  {
   "cell_type": "code",
   "execution_count": 8,
   "metadata": {},
   "outputs": [
    {
     "data": {
      "text/plain": [
       "count    14149.000000\n",
       "mean        82.704502\n",
       "std         14.479156\n",
       "min         -0.000000\n",
       "25%         79.993067\n",
       "50%         85.299462\n",
       "75%         90.165021\n",
       "max        100.000000\n",
       "dtype: float64"
      ]
     },
     "execution_count": 8,
     "metadata": {},
     "output_type": "execute_result"
    }
   ],
   "source": [
    "rougher_recovery_calculation.describe()"
   ]
  },
  {
   "cell_type": "code",
   "execution_count": 9,
   "metadata": {
    "scrolled": false
   },
   "outputs": [
    {
     "data": {
      "text/plain": [
       "count    14149.000000\n",
       "mean        82.704502\n",
       "std         14.479156\n",
       "min          0.000000\n",
       "25%         79.993067\n",
       "50%         85.299462\n",
       "75%         90.165021\n",
       "max        100.000000\n",
       "Name: rougher.output.recovery, dtype: float64"
      ]
     },
     "execution_count": 9,
     "metadata": {},
     "output_type": "execute_result"
    }
   ],
   "source": [
    "source_train[\"rougher.output.recovery\"].describe()"
   ]
  },
  {
   "cell_type": "markdown",
   "metadata": {},
   "source": [
    "Как видно из сравнения, выполненного при помощи метода describe, в распределении расчетных и фактических значений рассматримаемого коэффициента различий не выявлено. Аномалий также не выявлено: все значения находятся в пределах от о до 100 процентов (значения коэффициента меньше нуля процентов или больше 100 процентов очевидно являются аномальными) "
   ]
  },
  {
   "cell_type": "markdown",
   "metadata": {},
   "source": [
    "Дополнительно выполним проверку, рассчитав MAE для расчетных и фактических значений коэффициента обогащения."
   ]
  },
  {
   "cell_type": "code",
   "execution_count": 10,
   "metadata": {
    "scrolled": true
   },
   "outputs": [
    {
     "data": {
      "text/plain": [
       "9.682896147825551e-15"
      ]
     },
     "execution_count": 10,
     "metadata": {},
     "output_type": "execute_result"
    }
   ],
   "source": [
    "mean_absolute_error(rougher_recovery_calculation, source_train[\"rougher.output.recovery\"])"
   ]
  },
  {
   "cell_type": "markdown",
   "metadata": {},
   "source": [
    "MAE равен крайне малой величине: приблизительно единица в минус 14 степени. Таким образом, результаты расчета MAE также указывают на отсутствие или несущественную разницу между расчетными и фактическими значениями коэффициента обогащения. Следовательно, ошибки в расчетах коэффициента обогащения не выявлено."
   ]
  },
  {
   "cell_type": "markdown",
   "metadata": {},
   "source": [
    "### Анализ признаков, отсутвующих в тестовом датасете"
   ]
  },
  {
   "cell_type": "markdown",
   "metadata": {},
   "source": [
    "Исследуем названия столбцов в исходных датасетах.Проверим сперва отсутствие повторов в названиях столбцов (подсчитаем количество уникальных названий столбцов)."
   ]
  },
  {
   "cell_type": "code",
   "execution_count": 11,
   "metadata": {},
   "outputs": [
    {
     "name": "stdout",
     "output_type": "stream",
     "text": [
      "87\n",
      "53\n",
      "87\n"
     ]
    }
   ],
   "source": [
    "for source in source_list:\n",
    "    print(len(source.columns.unique()))"
   ]
  },
  {
   "cell_type": "markdown",
   "metadata": {},
   "source": [
    "Все названия столбцов в датасетах являются уникальными (повторов нет), так как количество уникальных названий совпадает с общим количеством столбцов в датасетах (см. подраздел 1.1). Проверим совпадение названий столбцов в обучающем и полном датасете."
   ]
  },
  {
   "cell_type": "code",
   "execution_count": 12,
   "metadata": {
    "scrolled": true
   },
   "outputs": [
    {
     "data": {
      "text/plain": [
       "87"
      ]
     },
     "execution_count": 12,
     "metadata": {},
     "output_type": "execute_result"
    }
   ],
   "source": [
    "source_train.columns.isin(source_full.columns).sum()"
   ]
  },
  {
   "cell_type": "markdown",
   "metadata": {},
   "source": [
    "Названия столбцов в обучающем и полном датасете полностью совпадают. Выведем названия столбцов из полного датасета, которых нет в тестовом датасете."
   ]
  },
  {
   "cell_type": "code",
   "execution_count": 13,
   "metadata": {},
   "outputs": [
    {
     "data": {
      "text/plain": [
       "Index(['final.output.concentrate_ag', 'final.output.concentrate_pb',\n",
       "       'final.output.concentrate_sol', 'final.output.concentrate_au',\n",
       "       'final.output.recovery', 'final.output.tail_ag', 'final.output.tail_pb',\n",
       "       'final.output.tail_sol', 'final.output.tail_au',\n",
       "       'primary_cleaner.output.concentrate_ag',\n",
       "       'primary_cleaner.output.concentrate_pb',\n",
       "       'primary_cleaner.output.concentrate_sol',\n",
       "       'primary_cleaner.output.concentrate_au',\n",
       "       'primary_cleaner.output.tail_ag', 'primary_cleaner.output.tail_pb',\n",
       "       'primary_cleaner.output.tail_sol', 'primary_cleaner.output.tail_au',\n",
       "       'rougher.calculation.sulfate_to_au_concentrate',\n",
       "       'rougher.calculation.floatbank10_sulfate_to_au_feed',\n",
       "       'rougher.calculation.floatbank11_sulfate_to_au_feed',\n",
       "       'rougher.calculation.au_pb_ratio', 'rougher.output.concentrate_ag',\n",
       "       'rougher.output.concentrate_pb', 'rougher.output.concentrate_sol',\n",
       "       'rougher.output.concentrate_au', 'rougher.output.recovery',\n",
       "       'rougher.output.tail_ag', 'rougher.output.tail_pb',\n",
       "       'rougher.output.tail_sol', 'rougher.output.tail_au',\n",
       "       'secondary_cleaner.output.tail_ag', 'secondary_cleaner.output.tail_pb',\n",
       "       'secondary_cleaner.output.tail_sol',\n",
       "       'secondary_cleaner.output.tail_au'],\n",
       "      dtype='object')"
      ]
     },
     "execution_count": 13,
     "metadata": {},
     "output_type": "execute_result"
    }
   ],
   "source": [
    "source_full.columns[~source_full.columns.isin(source_test.columns)]"
   ]
  },
  {
   "cell_type": "markdown",
   "metadata": {},
   "source": [
    "Судя по полученному списку, в тестовом датасете отсутствуют концентрации веществ: финальные, после первичной и вторичной очистки, а также после флотации. Данные концентрации отсутствуют как для концентратов, так и для отвальных хвостов. Кроме того отсутствуют расчетные параметры содержания сульфата к сырью/концентрату (rougher.calculation.sulfate_to_au_concentrate, rougher.calculation.floatbank10_sulfate_to_au_feed, rougher.calculation.floatbank11_sulfate_to_au_feed) и расчетное отношение золота к свинцу (rougher.calculation.au_pb_ratio)."
   ]
  },
  {
   "cell_type": "markdown",
   "metadata": {},
   "source": [
    "### Предобработка данных"
   ]
  },
  {
   "cell_type": "markdown",
   "metadata": {},
   "source": [
    "Подсчитаем долю пропусков в полном датасете."
   ]
  },
  {
   "cell_type": "code",
   "execution_count": 14,
   "metadata": {
    "scrolled": false
   },
   "outputs": [
    {
     "data": {
      "text/plain": [
       "secondary_cleaner.output.tail_sol                     12.354230\n",
       "rougher.input.floatbank11_xanthate                     3.201640\n",
       "rougher.state.floatbank10_e_air                        3.081490\n",
       "primary_cleaner.output.concentrate_sol                 2.615026\n",
       "secondary_cleaner.state.floatbank2_a_air               1.554880\n",
       "final.output.concentrate_sol                           1.491271\n",
       "rougher.input.feed_size                                1.024807\n",
       "primary_cleaner.output.concentrate_pb                  0.819846\n",
       "primary_cleaner.input.xanthate                         0.735034\n",
       "final.output.tail_pb                                   0.713831\n",
       "rougher.input.feed_pb                                  0.706764\n",
       "rougher.input.feed_sol                                 0.699696\n",
       "primary_cleaner.output.tail_sol                        0.438194\n",
       "rougher.input.floatbank11_sulfate                      0.310976\n",
       "primary_cleaner.input.depressant                       0.261503\n",
       "rougher.input.floatbank10_sulfate                      0.240300\n",
       "primary_cleaner.input.sulfate                          0.169623\n",
       "secondary_cleaner.state.floatbank2_b_air               0.162556\n",
       "rougher.output.concentrate_sol                         0.162556\n",
       "primary_cleaner.output.tail_pb                         0.148420\n",
       "secondary_cleaner.state.floatbank3_a_air               0.091879\n",
       "secondary_cleaner.output.tail_pb                       0.084812\n",
       "rougher.input.feed_rate                                0.077744\n",
       "rougher.input.floatbank10_xanthate                     0.056541\n",
       "secondary_cleaner.state.floatbank4_a_air               0.042406\n",
       "final.output.tail_sol                                  0.042406\n",
       "primary_cleaner.state.floatbank8_a_air                 0.028271\n",
       "primary_cleaner.state.floatbank8_b_air                 0.028271\n",
       "primary_cleaner.output.tail_ag                         0.028271\n",
       "primary_cleaner.state.floatbank8_d_air                 0.021203\n",
       "rougher.calculation.floatbank10_sulfate_to_au_feed     0.014135\n",
       "rougher.calculation.floatbank11_sulfate_to_au_feed     0.014135\n",
       "primary_cleaner.state.floatbank8_c_air                 0.014135\n",
       "rougher.calculation.sulfate_to_au_concentrate          0.014135\n",
       "secondary_cleaner.state.floatbank6_a_air               0.014135\n",
       "secondary_cleaner.output.tail_ag                       0.014135\n",
       "primary_cleaner.state.floatbank8_d_level               0.007068\n",
       "final.output.tail_ag                                   0.007068\n",
       "primary_cleaner.state.floatbank8_c_level               0.007068\n",
       "final.output.concentrate_pb                            0.007068\n",
       "final.output.concentrate_ag                            0.007068\n",
       "primary_cleaner.state.floatbank8_b_level               0.007068\n",
       "primary_cleaner.state.floatbank8_a_level               0.007068\n",
       "secondary_cleaner.state.floatbank6_a_level             0.007068\n",
       "rougher.state.floatbank10_a_level                      0.007068\n",
       "rougher.state.floatbank10_a_air                        0.007068\n",
       "secondary_cleaner.state.floatbank3_a_level             0.007068\n",
       "secondary_cleaner.state.floatbank3_b_air               0.007068\n",
       "secondary_cleaner.state.floatbank3_b_level             0.007068\n",
       "secondary_cleaner.state.floatbank4_a_level             0.007068\n",
       "rougher.state.floatbank10_c_level                      0.007068\n",
       "rougher.state.floatbank10_c_air                        0.007068\n",
       "rougher.state.floatbank10_b_level                      0.007068\n",
       "rougher.state.floatbank10_b_air                        0.007068\n",
       "secondary_cleaner.state.floatbank2_b_level             0.007068\n",
       "secondary_cleaner.state.floatbank2_a_level             0.007068\n",
       "secondary_cleaner.state.floatbank4_b_air               0.007068\n",
       "secondary_cleaner.state.floatbank4_b_level             0.007068\n",
       "secondary_cleaner.state.floatbank5_a_air               0.007068\n",
       "rougher.output.tail_ag                                 0.007068\n",
       "secondary_cleaner.state.floatbank5_a_level             0.007068\n",
       "secondary_cleaner.state.floatbank5_b_air               0.007068\n",
       "secondary_cleaner.state.floatbank5_b_level             0.007068\n",
       "final.output.recovery                                  0.000000\n",
       "final.output.concentrate_au                            0.000000\n",
       "final.output.tail_au                                   0.000000\n",
       "primary_cleaner.input.feed_size                        0.000000\n",
       "primary_cleaner.output.concentrate_ag                  0.000000\n",
       "rougher.output.concentrate_ag                          0.000000\n",
       "primary_cleaner.output.tail_au                         0.000000\n",
       "primary_cleaner.output.concentrate_au                  0.000000\n",
       "rougher.calculation.au_pb_ratio                        0.000000\n",
       "rougher.output.concentrate_au                          0.000000\n",
       "rougher.input.feed_au                                  0.000000\n",
       "rougher.output.recovery                                0.000000\n",
       "rougher.output.tail_pb                                 0.000000\n",
       "rougher.output.tail_sol                                0.000000\n",
       "rougher.input.feed_ag                                  0.000000\n",
       "rougher.output.tail_au                                 0.000000\n",
       "secondary_cleaner.output.tail_au                       0.000000\n",
       "rougher.state.floatbank10_d_air                        0.000000\n",
       "rougher.state.floatbank10_d_level                      0.000000\n",
       "rougher.state.floatbank10_e_level                      0.000000\n",
       "rougher.state.floatbank10_f_air                        0.000000\n",
       "rougher.output.concentrate_pb                          0.000000\n",
       "rougher.state.floatbank10_f_level                      0.000000\n",
       "date                                                   0.000000\n",
       "dtype: float64"
      ]
     },
     "execution_count": 14,
     "metadata": {},
     "output_type": "execute_result"
    }
   ],
   "source": [
    "(source_full.isnull().sum() / source_train.shape[0] * 100).sort_values(ascending=False)"
   ]
  },
  {
   "cell_type": "markdown",
   "metadata": {},
   "source": [
    "В полном датасете имеются пропуски. Наибольшая доля пропусков (12,4%) соответствует столбцу secondary_cleaner.output.tail_sol."
   ]
  },
  {
   "cell_type": "markdown",
   "metadata": {},
   "source": [
    "Подсчитаем долю пропусков в обучающем датасете."
   ]
  },
  {
   "cell_type": "code",
   "execution_count": 15,
   "metadata": {
    "scrolled": false
   },
   "outputs": [
    {
     "data": {
      "text/plain": [
       "secondary_cleaner.output.tail_sol                     11.343558\n",
       "rougher.state.floatbank10_e_air                        3.081490\n",
       "rougher.input.floatbank11_xanthate                     3.024949\n",
       "primary_cleaner.output.concentrate_sol                 2.021344\n",
       "secondary_cleaner.state.floatbank2_a_air               1.533677\n",
       "final.output.concentrate_sol                           1.491271\n",
       "rougher.input.feed_size                                1.017740\n",
       "final.output.tail_pb                                   0.706764\n",
       "rougher.input.feed_pb                                  0.706764\n",
       "primary_cleaner.input.xanthate                         0.706764\n",
       "primary_cleaner.output.concentrate_pb                  0.607817\n",
       "rougher.input.feed_sol                                 0.551276\n",
       "primary_cleaner.output.tail_sol                        0.325111\n",
       "rougher.input.floatbank11_sulfate                      0.254435\n",
       "primary_cleaner.input.depressant                       0.226164\n",
       "rougher.input.floatbank10_sulfate                      0.204961\n",
       "rougher.output.concentrate_sol                         0.155488\n",
       "secondary_cleaner.state.floatbank2_b_air               0.148420\n",
       "primary_cleaner.input.sulfate                          0.141353\n",
       "primary_cleaner.output.tail_pb                         0.106015\n",
       "secondary_cleaner.output.tail_pb                       0.070676\n",
       "rougher.input.feed_rate                                0.056541\n",
       "rougher.input.floatbank10_xanthate                     0.056541\n",
       "secondary_cleaner.state.floatbank4_a_air               0.042406\n",
       "final.output.tail_sol                                  0.035338\n",
       "primary_cleaner.state.floatbank8_b_air                 0.028271\n",
       "primary_cleaner.state.floatbank8_a_air                 0.028271\n",
       "secondary_cleaner.state.floatbank3_a_air               0.028271\n",
       "primary_cleaner.state.floatbank8_d_air                 0.021203\n",
       "primary_cleaner.state.floatbank8_c_air                 0.014135\n",
       "secondary_cleaner.state.floatbank6_a_air               0.014135\n",
       "secondary_cleaner.output.tail_ag                       0.014135\n",
       "final.output.concentrate_ag                            0.007068\n",
       "final.output.concentrate_pb                            0.007068\n",
       "primary_cleaner.output.tail_ag                         0.007068\n",
       "rougher.calculation.floatbank11_sulfate_to_au_feed     0.007068\n",
       "rougher.calculation.floatbank10_sulfate_to_au_feed     0.007068\n",
       "rougher.calculation.sulfate_to_au_concentrate          0.007068\n",
       "primary_cleaner.state.floatbank8_d_level               0.007068\n",
       "primary_cleaner.state.floatbank8_b_level               0.007068\n",
       "primary_cleaner.state.floatbank8_a_level               0.007068\n",
       "primary_cleaner.state.floatbank8_c_level               0.007068\n",
       "secondary_cleaner.state.floatbank6_a_level             0.007068\n",
       "rougher.state.floatbank10_b_air                        0.007068\n",
       "rougher.state.floatbank10_a_level                      0.007068\n",
       "secondary_cleaner.state.floatbank2_a_level             0.007068\n",
       "secondary_cleaner.state.floatbank3_b_air               0.007068\n",
       "secondary_cleaner.state.floatbank3_b_level             0.007068\n",
       "secondary_cleaner.state.floatbank4_a_level             0.007068\n",
       "secondary_cleaner.state.floatbank4_b_air               0.007068\n",
       "rougher.state.floatbank10_c_level                      0.007068\n",
       "rougher.state.floatbank10_c_air                        0.007068\n",
       "rougher.state.floatbank10_b_level                      0.007068\n",
       "secondary_cleaner.state.floatbank3_a_level             0.007068\n",
       "secondary_cleaner.state.floatbank2_b_level             0.007068\n",
       "rougher.state.floatbank10_a_air                        0.007068\n",
       "secondary_cleaner.state.floatbank4_b_level             0.007068\n",
       "secondary_cleaner.state.floatbank5_a_air               0.007068\n",
       "rougher.output.tail_ag                                 0.007068\n",
       "secondary_cleaner.state.floatbank5_a_level             0.007068\n",
       "secondary_cleaner.state.floatbank5_b_air               0.007068\n",
       "secondary_cleaner.state.floatbank5_b_level             0.007068\n",
       "final.output.tail_ag                                   0.000000\n",
       "final.output.recovery                                  0.000000\n",
       "final.output.tail_au                                   0.000000\n",
       "final.output.concentrate_au                            0.000000\n",
       "primary_cleaner.input.feed_size                        0.000000\n",
       "primary_cleaner.output.concentrate_ag                  0.000000\n",
       "rougher.output.concentrate_ag                          0.000000\n",
       "primary_cleaner.output.tail_au                         0.000000\n",
       "primary_cleaner.output.concentrate_au                  0.000000\n",
       "rougher.input.feed_ag                                  0.000000\n",
       "rougher.output.concentrate_au                          0.000000\n",
       "rougher.output.recovery                                0.000000\n",
       "rougher.input.feed_au                                  0.000000\n",
       "rougher.output.tail_pb                                 0.000000\n",
       "rougher.output.tail_sol                                0.000000\n",
       "rougher.output.tail_au                                 0.000000\n",
       "rougher.calculation.au_pb_ratio                        0.000000\n",
       "secondary_cleaner.output.tail_au                       0.000000\n",
       "rougher.state.floatbank10_d_air                        0.000000\n",
       "rougher.state.floatbank10_d_level                      0.000000\n",
       "rougher.state.floatbank10_e_level                      0.000000\n",
       "rougher.state.floatbank10_f_air                        0.000000\n",
       "rougher.state.floatbank10_f_level                      0.000000\n",
       "rougher.output.concentrate_pb                          0.000000\n",
       "date                                                   0.000000\n",
       "dtype: float64"
      ]
     },
     "execution_count": 15,
     "metadata": {},
     "output_type": "execute_result"
    }
   ],
   "source": [
    "(source_train.isnull().sum() / source_train.shape[0] * 100).sort_values(ascending=False)"
   ]
  },
  {
   "cell_type": "markdown",
   "metadata": {},
   "source": [
    "В обучающем датасете имеются пропуски. Наибольшая доля пропусков (11,3%) соответствует столбцу secondary_cleaner.output.tail_sol."
   ]
  },
  {
   "cell_type": "code",
   "execution_count": 16,
   "metadata": {},
   "outputs": [
    {
     "data": {
      "text/plain": [
       "rougher.input.floatbank11_xanthate            0.176691\n",
       "rougher.input.feed_sol                        0.148420\n",
       "secondary_cleaner.state.floatbank3_a_air      0.063609\n",
       "rougher.input.floatbank11_sulfate             0.056541\n",
       "primary_cleaner.input.depressant              0.035338\n",
       "rougher.input.floatbank10_sulfate             0.035338\n",
       "primary_cleaner.input.sulfate                 0.028271\n",
       "primary_cleaner.input.xanthate                0.028271\n",
       "secondary_cleaner.state.floatbank2_a_air      0.021203\n",
       "rougher.input.feed_rate                       0.021203\n",
       "secondary_cleaner.state.floatbank2_b_air      0.014135\n",
       "rougher.input.feed_size                       0.007068\n",
       "secondary_cleaner.state.floatbank6_a_level    0.000000\n",
       "rougher.input.floatbank10_xanthate            0.000000\n",
       "rougher.input.feed_au                         0.000000\n",
       "rougher.input.feed_pb                         0.000000\n",
       "primary_cleaner.state.floatbank8_d_level      0.000000\n",
       "rougher.input.feed_ag                         0.000000\n",
       "rougher.state.floatbank10_a_level             0.000000\n",
       "primary_cleaner.state.floatbank8_d_air        0.000000\n",
       "primary_cleaner.state.floatbank8_c_level      0.000000\n",
       "primary_cleaner.state.floatbank8_c_air        0.000000\n",
       "primary_cleaner.state.floatbank8_b_level      0.000000\n",
       "primary_cleaner.state.floatbank8_b_air        0.000000\n",
       "primary_cleaner.state.floatbank8_a_level      0.000000\n",
       "primary_cleaner.state.floatbank8_a_air        0.000000\n",
       "primary_cleaner.input.feed_size               0.000000\n",
       "rougher.state.floatbank10_a_air               0.000000\n",
       "rougher.state.floatbank10_b_level             0.000000\n",
       "rougher.state.floatbank10_b_air               0.000000\n",
       "secondary_cleaner.state.floatbank6_a_air      0.000000\n",
       "secondary_cleaner.state.floatbank5_b_level    0.000000\n",
       "secondary_cleaner.state.floatbank5_b_air      0.000000\n",
       "secondary_cleaner.state.floatbank5_a_level    0.000000\n",
       "secondary_cleaner.state.floatbank5_a_air      0.000000\n",
       "secondary_cleaner.state.floatbank4_b_level    0.000000\n",
       "secondary_cleaner.state.floatbank4_b_air      0.000000\n",
       "secondary_cleaner.state.floatbank4_a_level    0.000000\n",
       "secondary_cleaner.state.floatbank4_a_air      0.000000\n",
       "secondary_cleaner.state.floatbank3_b_level    0.000000\n",
       "secondary_cleaner.state.floatbank3_b_air      0.000000\n",
       "secondary_cleaner.state.floatbank3_a_level    0.000000\n",
       "secondary_cleaner.state.floatbank2_b_level    0.000000\n",
       "secondary_cleaner.state.floatbank2_a_level    0.000000\n",
       "rougher.state.floatbank10_f_level             0.000000\n",
       "rougher.state.floatbank10_f_air               0.000000\n",
       "rougher.state.floatbank10_e_level             0.000000\n",
       "rougher.state.floatbank10_e_air               0.000000\n",
       "rougher.state.floatbank10_d_level             0.000000\n",
       "rougher.state.floatbank10_d_air               0.000000\n",
       "rougher.state.floatbank10_c_level             0.000000\n",
       "rougher.state.floatbank10_c_air               0.000000\n",
       "date                                          0.000000\n",
       "dtype: float64"
      ]
     },
     "execution_count": 16,
     "metadata": {},
     "output_type": "execute_result"
    }
   ],
   "source": [
    "(source_test.isnull().sum() / source_train.shape[0] * 100).sort_values(ascending=False)"
   ]
  },
  {
   "cell_type": "code",
   "execution_count": 17,
   "metadata": {
    "scrolled": true
   },
   "outputs": [
    {
     "name": "stdout",
     "output_type": "stream",
     "text": [
      "Размер обучающего датасета, созданного на основе полного датасета, после удаления строк с пропусками:\n",
      "(11017, 87)\n",
      "Размер тестового датасета, созданного на основе полного датасета, после удаления строк с пропусками:\n",
      "(5229, 53)\n"
     ]
    }
   ],
   "source": [
    "print(\"Размер обучающего датасета, созданного на основе полного датасета, после удаления строк с пропусками:\")\n",
    "print(source_full[source_full[\"date\"].isin(source_train[\"date\"])].dropna().shape)\n",
    "print(\"Размер тестового датасета, созданного на основе полного датасета, после удаления строк с пропусками:\")\n",
    "print(source_full[source_full[\"date\"].isin(source_test[\"date\"])][source_test.columns].dropna().shape)"
   ]
  },
  {
   "cell_type": "markdown",
   "metadata": {},
   "source": [
    "Как видно из сопоставления полученных результатов, размер тестового и обучающего датасета после удаления пропусков не зависит от того использовался ли оригинальный набор данных или он был заменен на данные из полного датасета. Таким образом, \"подтягивать\" информацию из полного датасета для уменьшения количества пропусков нет необходимости."
   ]
  },
  {
   "cell_type": "markdown",
   "metadata": {},
   "source": [
    "Выполним поиск полных дубликатов в исходных датасетах."
   ]
  },
  {
   "cell_type": "code",
   "execution_count": 18,
   "metadata": {
    "scrolled": true
   },
   "outputs": [
    {
     "name": "stdout",
     "output_type": "stream",
     "text": [
      "source_train\n",
      "Количество полных дубликатов равняется: 0\n",
      "source_test\n",
      "Количество полных дубликатов равняется: 0\n",
      "source_full\n",
      "Количество полных дубликатов равняется: 0\n"
     ]
    }
   ],
   "source": [
    "for source, source_name in zip(source_list, source_name_list):\n",
    "    print(source_name)\n",
    "    print(\"Количество полных дубликатов равняется:\", source.duplicated().sum())"
   ]
  },
  {
   "cell_type": "markdown",
   "metadata": {},
   "source": [
    "Полные дубликаты в исходных датасетах не выявлены."
   ]
  },
  {
   "cell_type": "markdown",
   "metadata": {},
   "source": [
    "В тестовом датасете отсутствуют целевые признаки - коэффициенты восстановления золота после флотации (rougher.output.recovery) и после второй очистки (final.output.recovery). Добавим данные признаки в тестовой датасет из полного датасета."
   ]
  },
  {
   "cell_type": "code",
   "execution_count": 19,
   "metadata": {},
   "outputs": [],
   "source": [
    "test = source_test.merge(\n",
    "    source_full[[\"date\", \"rougher.output.recovery\", \"final.output.recovery\"]], on=\"date\")"
   ]
  },
  {
   "cell_type": "markdown",
   "metadata": {},
   "source": [
    "Следующий момент, который нужно прояснить, связан с различием количества признаков (столбцов) в тестовом датасете по сравнению с обучающим и полным датасетами (53 против 87). В подразделе 1.3 был получен список признаков, отсутствующих в тестовом датасете. Данные признаки - это концентрации различных веществ (в основном металлов) в результате флотации и очистки. Включение данных признаков в обучающий и тестовый набор нежелательно. Это связано с тем, что целью создания модели является предсказание на основе чисто технологических параметров эффективности процесса восстановления золота, что в свою очередь поможет оптимизировать данные параметры. Концентрации различных веществ, отсутствующие в тестовом наборе, не относятся напрямую к технологическим параметрам восстановления золота, а скорее являются следствием настройки данных параметров тем или иным образом. Таким образом, концентрации веществ являются по смыслу целевыми признаками. При этом, конечно, практический смысл имеет определение концентрации не всех веществ, а только золота. Включение данных о концентрации золота в тестовый и обучающий набор очевидно является утечкой данных. Включение данных о концентрации других веществ, вероятно, также может являться утечкой данных вследствие возможного существования зависимости концентрации золота от концентрации других веществ. С учетом сказанного исключим из обучающего набора признаки, отсутствующие в тестовом наборе."
   ]
  },
  {
   "cell_type": "code",
   "execution_count": 20,
   "metadata": {
    "scrolled": true
   },
   "outputs": [],
   "source": [
    "train = source_train[test.columns]"
   ]
  },
  {
   "cell_type": "markdown",
   "metadata": {},
   "source": [
    "Следует отметить, что исключение из обучающей выборки ряда признаков, частично решает проблему пропусков, так как в числе прочих был исключен признак secondary_cleaner.output.tail_sol, имеющий наибольшую долю пропусков в обучающем датасете (11,3%). Оставшиеся признаки имеют существенно меньшую долю пропусков (не более 3,1%), чем признак secondary_cleaner.output.tail_sol."
   ]
  },
  {
   "cell_type": "markdown",
   "metadata": {},
   "source": [
    "Удалим пропуски в обучающем и тестовом датасетах (train и test)"
   ]
  },
  {
   "cell_type": "code",
   "execution_count": 21,
   "metadata": {},
   "outputs": [],
   "source": [
    "train = train.dropna()\n",
    "test = test.dropna()"
   ]
  },
  {
   "cell_type": "markdown",
   "metadata": {},
   "source": [
    "### Выводы"
   ]
  },
  {
   "cell_type": "markdown",
   "metadata": {},
   "source": [
    "1. Выполнена загрузка и изучение исходных данных (подраздел 1.1). Исходные датасеты представлены полным, обучающим и тестовым датасетами размером 19439х87, 14149х87 и 5290х53 соответственно. Тип даных в исходных датасетах - float64 (за исключением даты, выполняющей роль индексации строк).\n",
    "2. Выполнена проверка правильности расчета эффективности обогащения (подраздел 1.2). Согласно данной проверке, эффективность обогащения рассчитана верно.\n",
    "3. Выполнен анализ признаков, отсутствующих в тестовой выборке (подраздел 1.3). Данные признаки, главным образом, представляют собой концентрации веществ: финальные, после первичной и вторичной очистки, а также после флотации. Данные концентрации отсутствуют в тестовой выборке как для концентратов, так и для отвальных хвостов. Указанные признаки являются скорее следствием настройки технологических параметров и в этом смысле являются скорее целевыми.\n",
    "4. Выполнена предобработка исходных данных (подраздел 1.4). В тестовую выборку из полной добавлены целевые признаки. В обучающей выборке оставлены только те признаки, которые имеются в тестовой. В тестовой и обучающих выборках удалены строки с пропусками."
   ]
  },
  {
   "cell_type": "markdown",
   "metadata": {},
   "source": [
    "## Анализ данных"
   ]
  },
  {
   "cell_type": "markdown",
   "metadata": {},
   "source": [
    "### Изменение концентрации металлов (Au, Ag, Pb) на различных этапах очистки"
   ]
  },
  {
   "cell_type": "markdown",
   "metadata": {},
   "source": [
    "Создадим таблицу со средними значениями концентрации металлов на различных этапах очистки"
   ]
  },
  {
   "cell_type": "code",
   "execution_count": 22,
   "metadata": {},
   "outputs": [
    {
     "name": "stdout",
     "output_type": "stream",
     "text": [
      "                         au       ag       pb\n",
      "Стадия                                       \n",
      "до флотации          8.2661  8.79493  3.59808\n",
      "после флотации       19.772  11.9948  7.60627\n",
      "после 1-ой очистки  32.1194  8.44241  9.82953\n",
      "после 2-ой очистки  44.0765  5.16847  9.97889\n"
     ]
    }
   ],
   "source": [
    "column_names_draft = [\"rougher.input.feed_\", \"rougher.output.concentrate_\", \"primary_cleaner.output.concentrate_\", \n",
    "                      \"final.output.concentrate_\"]\n",
    "metalls_list = [\"au\", \"ag\", \"pb\"]\n",
    "stages_list = [\"до флотации\", \"после флотации\", \"после 1-ой очистки\", \"после 2-ой очистки\"]\n",
    "metalls_concentration_df = pd.DataFrame(index=stages_list, \n",
    "                                        columns=metalls_list)\n",
    "metalls_concentration_df.index.name = \"Стадия\"\n",
    "for stage, column_name in zip(stages_list, column_names_draft):\n",
    "    for metall in metalls_list:\n",
    "        column_name_metall = column_name + metall\n",
    "        metalls_concentration_df.loc[stage, metall] = source_full[column_name_metall].mean()\n",
    "print(metalls_concentration_df)"
   ]
  },
  {
   "cell_type": "markdown",
   "metadata": {},
   "source": [
    "Как можно видеть из таблицы, концентрация металлов существенно меняется от этапа к этапу. Для лучшей визуализации динамики данного изменения построим график бар."
   ]
  },
  {
   "cell_type": "code",
   "execution_count": 23,
   "metadata": {},
   "outputs": [
    {
     "data": {
      "image/png": "[encoded data removed]",
      "text/plain": [
       "<Figure size 864x360 with 1 Axes>"
      ]
     },
     "metadata": {
      "needs_background": "light"
     },
     "output_type": "display_data"
    }
   ],
   "source": [
    "x = np.arange(4)\n",
    "labels=[\"до флотации\", \"после флотации\", \"после 1-ой очистки\", \"после 2-ой очистки\"]\n",
    "fig, ax = plt.subplots(figsize=(12, 5))\n",
    "ax.bar(x - 0.2, metalls_concentration_df[\"au\"], width=0.2, label=\"Золото\")\n",
    "ax.bar(x, metalls_concentration_df[\"ag\"], width=0.2, label=\"Серебро\")\n",
    "ax.bar(x + 0.2, metalls_concentration_df[\"ag\"], width=0.2, label=\"Свинец\")\n",
    "ax.set_xticks(x)\n",
    "ax.set_xticklabels(labels)\n",
    "ax.legend(fontsize=12)\n",
    "ax.grid()\n",
    "ax.set_ylabel(\"Концентрация, %\",  fontsize=12)\n",
    "ax.set_xlabel(\"Стадия\", fontsize=12)\n",
    "plt.title(\"Средняя концентрация металлов по стадиям\")\n",
    "plt.show()"
   ]
  },
  {
   "cell_type": "markdown",
   "metadata": {},
   "source": [
    "Из графика бар хорошо видно, что концентрация золота на каждой стадии растет (от 8 % до флотации до 44% после второй очистки). Концентрации остальных металлов показывают более сложную динамику. Они вырастают после флотации и падают на стадиях очистки."
   ]
  },
  {
   "cell_type": "markdown",
   "metadata": {},
   "source": [
    "Среднее значение - это мера центральной тенденции. Расмотрим при помощи графиков как меняется распределение концентрации в зависимости от стадии."
   ]
  },
  {
   "cell_type": "code",
   "execution_count": 24,
   "metadata": {
    "scrolled": false
   },
   "outputs": [
    {
     "data": {
      "image/png": "[encoded data removed]",
      "text/plain": [
       "<Figure size 1152x864 with 4 Axes>"
      ]
     },
     "metadata": {
      "needs_background": "light"
     },
     "output_type": "display_data"
    }
   ],
   "source": [
    "fig, axes = plt.subplots(nrows=2, ncols=2, figsize=(16, 12))\n",
    "fig.suptitle(\"Изменение концентрации металлов (au, ag, pb) на различных этапах очистки\", fontsize=18)\n",
    "for ax, column_name, stage in zip(axes.flat, column_names_draft, stages_list):\n",
    "    ax.set_title(stage)\n",
    "    for metall in metalls_list:\n",
    "        column_name_metall = column_name + metall\n",
    "        sn.distplot(source_full[column_name_metall].dropna(), label = metall, ax = ax)\n",
    "        ax.legend(fontsize=14)\n",
    "        ax.set_xlabel(\"Концентрация, %\", fontsize=12)\n",
    "        ax.set_ylabel(\"Плотность вероятности\", fontsize=12)\n",
    "plt.show()"
   ]
  },
  {
   "cell_type": "markdown",
   "metadata": {},
   "source": [
    "Графики наглядно показывают уменьшение разброса значений (вариации) концентрации металлов с каждой последующей стадией. При этом обращает на себя внимание существенное количество точек с нулевой концентрацией металлов на трех последних стадиях (под точкой подразумевается одна строка датасета)."
   ]
  },
  {
   "cell_type": "markdown",
   "metadata": {},
   "source": [
    "Дополнительно также посмотрим изменение концентрации металлов по стадиям в отвальных хвостах"
   ]
  },
  {
   "cell_type": "code",
   "execution_count": 25,
   "metadata": {
    "scrolled": true
   },
   "outputs": [
    {
     "name": "stdout",
     "output_type": "stream",
     "text": [
      "                         au       ag        pb\n",
      "Стадия                                        \n",
      "после флотации      1.81639  5.58898  0.645782\n",
      "после 1-ой очистки  3.91418  16.1458   3.43566\n",
      "после 2-ой очистки  4.33962  14.5868    5.7777\n",
      "финальная стадия    3.04247  9.68859    2.7058\n"
     ]
    }
   ],
   "source": [
    "column_names_draft_tails = [\"rougher.output.tail_\", \"primary_cleaner.output.tail_\", \"secondary_cleaner.output.tail_\", \"final.output.tail_\"]\n",
    "stages_list_tails = [\"после флотации\", \"после 1-ой очистки\", \"после 2-ой очистки\", \"финальная стадия\"]\n",
    "metalls_concentration_df_tails = pd.DataFrame(index=stages_list_tails, \n",
    "                                        columns=metalls_list)\n",
    "metalls_concentration_df_tails.index.name = \"Стадия\"\n",
    "for stage, column_name in zip(stages_list_tails, column_names_draft_tails):\n",
    "    for metall in metalls_list:\n",
    "        column_name_metall = column_name + metall\n",
    "        metalls_concentration_df_tails.loc[stage, metall] = source_full[column_name_metall].mean()\n",
    "print(metalls_concentration_df_tails)"
   ]
  },
  {
   "cell_type": "markdown",
   "metadata": {},
   "source": [
    "Как видно из таблицы, в отвальных хвостах на различных стадиях относительно небольшая концентрация золота (не более 4,3%) и свинца (не более 2,7%). При этом обращает внимание на себя относительно высокая концентрация серебра - до 16,1% (после первичной очистки). Следует отметить, что в исходном датасете указано четыре стадии для отвальных хвостов с различными концетрациями металлов. При этом, судя из анализа представленного в задании описания технологии, количество стадий не должно превышать трех: одна после флотации, одна после 1-ой очистки и одна после 2-ой очистки. В связи с этим неясно, чем отличается финальная стадия (final.output.tail) от стадии после 2-ой очистки (secondary_cleaner.output.tail). Данный момент необходимо уточнить у технологов."
   ]
  },
  {
   "cell_type": "markdown",
   "metadata": {},
   "source": [
    "### Сравнение распределения размеров гранул сырья на обучающей и тестовой выборках"
   ]
  },
  {
   "cell_type": "markdown",
   "metadata": {},
   "source": [
    "Размер гранул сырья является важным технологическим параметром. Если распределение данного признака существенно различается на тестовой и обучающих выборках, то значит эти выборки получены из полной не случайным образом, что отрицательно скажется на оценке модели."
   ]
  },
  {
   "cell_type": "code",
   "execution_count": 26,
   "metadata": {},
   "outputs": [
    {
     "name": "stdout",
     "output_type": "stream",
     "text": [
      "<class 'pandas.core.frame.DataFrame'>\n",
      "Int64Index: 12679 entries, 0 to 14148\n",
      "Data columns (total 55 columns):\n",
      "date                                          12679 non-null object\n",
      "primary_cleaner.input.sulfate                 12679 non-null float64\n",
      "primary_cleaner.input.depressant              12679 non-null float64\n",
      "primary_cleaner.input.feed_size               12679 non-null float64\n",
      "primary_cleaner.input.xanthate                12679 non-null float64\n",
      "primary_cleaner.state.floatbank8_a_air        12679 non-null float64\n",
      "primary_cleaner.state.floatbank8_a_level      12679 non-null float64\n",
      "primary_cleaner.state.floatbank8_b_air        12679 non-null float64\n",
      "primary_cleaner.state.floatbank8_b_level      12679 non-null float64\n",
      "primary_cleaner.state.floatbank8_c_air        12679 non-null float64\n",
      "primary_cleaner.state.floatbank8_c_level      12679 non-null float64\n",
      "primary_cleaner.state.floatbank8_d_air        12679 non-null float64\n",
      "primary_cleaner.state.floatbank8_d_level      12679 non-null float64\n",
      "rougher.input.feed_ag                         12679 non-null float64\n",
      "rougher.input.feed_pb                         12679 non-null float64\n",
      "rougher.input.feed_rate                       12679 non-null float64\n",
      "rougher.input.feed_size                       12679 non-null float64\n",
      "rougher.input.feed_sol                        12679 non-null float64\n",
      "rougher.input.feed_au                         12679 non-null float64\n",
      "rougher.input.floatbank10_sulfate             12679 non-null float64\n",
      "rougher.input.floatbank10_xanthate            12679 non-null float64\n",
      "rougher.input.floatbank11_sulfate             12679 non-null float64\n",
      "rougher.input.floatbank11_xanthate            12679 non-null float64\n",
      "rougher.state.floatbank10_a_air               12679 non-null float64\n",
      "rougher.state.floatbank10_a_level             12679 non-null float64\n",
      "rougher.state.floatbank10_b_air               12679 non-null float64\n",
      "rougher.state.floatbank10_b_level             12679 non-null float64\n",
      "rougher.state.floatbank10_c_air               12679 non-null float64\n",
      "rougher.state.floatbank10_c_level             12679 non-null float64\n",
      "rougher.state.floatbank10_d_air               12679 non-null float64\n",
      "rougher.state.floatbank10_d_level             12679 non-null float64\n",
      "rougher.state.floatbank10_e_air               12679 non-null float64\n",
      "rougher.state.floatbank10_e_level             12679 non-null float64\n",
      "rougher.state.floatbank10_f_air               12679 non-null float64\n",
      "rougher.state.floatbank10_f_level             12679 non-null float64\n",
      "secondary_cleaner.state.floatbank2_a_air      12679 non-null float64\n",
      "secondary_cleaner.state.floatbank2_a_level    12679 non-null float64\n",
      "secondary_cleaner.state.floatbank2_b_air      12679 non-null float64\n",
      "secondary_cleaner.state.floatbank2_b_level    12679 non-null float64\n",
      "secondary_cleaner.state.floatbank3_a_air      12679 non-null float64\n",
      "secondary_cleaner.state.floatbank3_a_level    12679 non-null float64\n",
      "secondary_cleaner.state.floatbank3_b_air      12679 non-null float64\n",
      "secondary_cleaner.state.floatbank3_b_level    12679 non-null float64\n",
      "secondary_cleaner.state.floatbank4_a_air      12679 non-null float64\n",
      "secondary_cleaner.state.floatbank4_a_level    12679 non-null float64\n",
      "secondary_cleaner.state.floatbank4_b_air      12679 non-null float64\n",
      "secondary_cleaner.state.floatbank4_b_level    12679 non-null float64\n",
      "secondary_cleaner.state.floatbank5_a_air      12679 non-null float64\n",
      "secondary_cleaner.state.floatbank5_a_level    12679 non-null float64\n",
      "secondary_cleaner.state.floatbank5_b_air      12679 non-null float64\n",
      "secondary_cleaner.state.floatbank5_b_level    12679 non-null float64\n",
      "secondary_cleaner.state.floatbank6_a_air      12679 non-null float64\n",
      "secondary_cleaner.state.floatbank6_a_level    12679 non-null float64\n",
      "rougher.output.recovery                       12679 non-null float64\n",
      "final.output.recovery                         12679 non-null float64\n",
      "dtypes: float64(54), object(1)\n",
      "memory usage: 5.4+ MB\n"
     ]
    }
   ],
   "source": [
    "train.info()"
   ]
  },
  {
   "cell_type": "code",
   "execution_count": 27,
   "metadata": {
    "scrolled": false
   },
   "outputs": [
    {
     "data": {
      "image/png": "[encoded data removed]",
      "text/plain": [
       "<Figure size 1008x432 with 1 Axes>"
      ]
     },
     "metadata": {
      "needs_background": "light"
     },
     "output_type": "display_data"
    }
   ],
   "source": [
    "fig, ax = plt.subplots(figsize=(14, 6))\n",
    "sn.distplot(train[\"rougher.input.feed_size\"], label = \"обучающая выборка\")\n",
    "sn.distplot(test[\"rougher.input.feed_size\"], label = \"тестовая выборка\")\n",
    "ax.legend(fontsize=14)\n",
    "ax.set_xlabel(\"Размер гранул\", fontsize=12)\n",
    "ax.set_ylabel(\"Плотность вероятности\", fontsize=12)\n",
    "ax.set_title(\"Сравнение распределения размеров гранул сырья на обучающей и тестовой выборках\", fontsize=14)\n",
    "plt.show()"
   ]
  },
  {
   "cell_type": "markdown",
   "metadata": {},
   "source": [
    "Как видно из графика, распределение размеров гранул сырья на обучающей и тестовой выборке довольно похоже. При этом имеются очень длинные хвосты с низкой плотностью вероятности. Отсчечем их для более детального сравнения обучающей и тестовой выборок."
   ]
  },
  {
   "cell_type": "code",
   "execution_count": 28,
   "metadata": {},
   "outputs": [
    {
     "data": {
      "image/png": "[encoded data removed]",
      "text/plain": [
       "<Figure size 1008x432 with 1 Axes>"
      ]
     },
     "metadata": {
      "needs_background": "light"
     },
     "output_type": "display_data"
    }
   ],
   "source": [
    "fig, ax = plt.subplots(figsize=(14, 6))\n",
    "sn.distplot(train[(train[\"rougher.input.feed_size\"] < 100) & (train[\"rougher.input.feed_size\"] > 20)][\"rougher.input.feed_size\"], label = \"обучающая выборка\")\n",
    "sn.distplot(test[(test[\"rougher.input.feed_size\"] < 100) & (test[\"rougher.input.feed_size\"] > 20)][\"rougher.input.feed_size\"], label = \"тестовая выборка\")\n",
    "ax.legend(fontsize=14)\n",
    "ax.set_xlabel(\"Размер гранул\", fontsize=12)\n",
    "ax.set_ylabel(\"Плотность вероятности\", fontsize=12)\n",
    "ax.set_title(\"Сравнение распределения размеров гранул сырья на обучающей и тестовой выборках\", fontsize=14)\n",
    "plt.show()"
   ]
  },
  {
   "cell_type": "markdown",
   "metadata": {},
   "source": [
    "При рассмотрении графиков с отсеченными хвостами, видно, что между распределением размера гранул в обучающей и тестовой выборки все же имеется заметное различие, что может указывать на неслучайное разделение данных на обучающую и тестовую выборку. Необходимо уточнить данный вопрос у составителей исходных данных и, возможно, также у технологов."
   ]
  },
  {
   "cell_type": "markdown",
   "metadata": {},
   "source": [
    "###  Изменение суммарной концентрации всех веществ на разных стадиях"
   ]
  },
  {
   "cell_type": "markdown",
   "metadata": {},
   "source": [
    "Исследуем изменение суммарной концентрации всех веществ на разных стадиях: в сырье, в черновом и финальном концентратах"
   ]
  },
  {
   "cell_type": "code",
   "execution_count": 29,
   "metadata": {},
   "outputs": [
    {
     "data": {
      "image/png": "[encoded data removed]",
      "text/plain": [
       "<Figure size 1152x864 with 4 Axes>"
      ]
     },
     "metadata": {
      "needs_background": "light"
     },
     "output_type": "display_data"
    }
   ],
   "source": [
    "fig, axes = plt.subplots(nrows=2, ncols=2, figsize=(16, 12))\n",
    "fig.suptitle(\"Изменение суммарной концентрации всех веществ (au, ag, pb, sol) на разных стадиях\", fontsize=18)\n",
    "for ax, column_name, stage in zip(axes.flat, column_names_draft, stages_list):\n",
    "    full_concentration = source_full[column_name + \"au\"] + source_full[column_name + \"ag\"] + source_full[column_name + \"pb\"] + source_full[column_name + \"sol\"]\n",
    "    sn.distplot(full_concentration.dropna(), ax=ax)\n",
    "    ax.set_title(stage)\n",
    "    ax.set_xlabel(\"Концентрация, %\", fontsize=12)\n",
    "    ax.set_ylabel(\"Плотность вероятности\", fontsize=12)\n",
    "plt.show()"
   ]
  },
  {
   "cell_type": "markdown",
   "metadata": {},
   "source": [
    "Как видно из графиков, средняя суммарная концентрация всех веществ от стадии к стадии меняется в пределах от 60 до 70%. То есть колебания средней величины относительно невелики. При этом с каждой стадией существенно уменьшается вариация суммарной концентрации всех веществ. Также обращает на себя внимание наличие существенного количества точек с нулевыми значениями суммарной концентрации на трех последних стадиях (под точкой подразумевается одна строка датасета). Это бьется с наблюдениями, сделаными в подразделе 2.1."
   ]
  },
  {
   "cell_type": "markdown",
   "metadata": {},
   "source": [
    "### Обработка выбросов, выявленных в результате анализа данных"
   ]
  },
  {
   "cell_type": "markdown",
   "metadata": {},
   "source": [
    "В результате анализа данных были выявлены выбросы - нулевые значения суммарных концентраций веществ на трех различных стадиях: после флотации, после 1-ой очистки и после 2-ой очистки. До получения разьяснений от технологов будем считать данные точки выбросами. С учетом этого обработаем данные выбросы путем их удаления."
   ]
  },
  {
   "cell_type": "markdown",
   "metadata": {},
   "source": [
    "Для контроля выведем размер полного датасета до обработки выбросов:"
   ]
  },
  {
   "cell_type": "code",
   "execution_count": 30,
   "metadata": {},
   "outputs": [
    {
     "name": "stdout",
     "output_type": "stream",
     "text": [
      "размер полного датасета до обработки выбросов\n",
      "(19439, 87)\n"
     ]
    }
   ],
   "source": [
    "print(\"размер полного датасета до обработки выбросов\")\n",
    "print(source_full.shape)"
   ]
  },
  {
   "cell_type": "markdown",
   "metadata": {},
   "source": [
    "Сперва удалим точки в полном датасете с нулевыми значениями суммарных концентраций для стадии \"после флотации\""
   ]
  },
  {
   "cell_type": "code",
   "execution_count": 31,
   "metadata": {
    "scrolled": false
   },
   "outputs": [],
   "source": [
    "full = source_full[(source_full['rougher.output.concentrate_au'] > 0) &\n",
    "              (source_full['rougher.output.concentrate_ag'] > 0) &\n",
    "              (source_full['rougher.output.concentrate_pb'] > 0)]"
   ]
  },
  {
   "cell_type": "markdown",
   "metadata": {},
   "source": [
    "Удалим точки в полном датасете с нулевыми значениями суммарных концентраций для стадии \"после 1-ой очистки\""
   ]
  },
  {
   "cell_type": "code",
   "execution_count": 32,
   "metadata": {},
   "outputs": [],
   "source": [
    "full = full[(full['primary_cleaner.output.concentrate_au'] > 0) &\n",
    "              (full['primary_cleaner.output.concentrate_ag'] > 0) &\n",
    "              (full['primary_cleaner.output.concentrate_pb'] > 0)]"
   ]
  },
  {
   "cell_type": "markdown",
   "metadata": {},
   "source": [
    "Удалим точки в полном датасете с нулевыми значениями суммарных концентраций для стадии \"после 2-ой очистки\""
   ]
  },
  {
   "cell_type": "code",
   "execution_count": 33,
   "metadata": {},
   "outputs": [],
   "source": [
    "full = full[(full['final.output.concentrate_au'] > 0) &\n",
    "              (full['final.output.concentrate_ag'] > 0) &\n",
    "              (full['final.output.concentrate_pb'] > 0)]"
   ]
  },
  {
   "cell_type": "markdown",
   "metadata": {},
   "source": [
    "Для контроля выведем размер полного датасета после обработки выбросов:"
   ]
  },
  {
   "cell_type": "code",
   "execution_count": 34,
   "metadata": {},
   "outputs": [
    {
     "name": "stdout",
     "output_type": "stream",
     "text": [
      "размер полного датасета после обработки выбросов\n",
      "(18749, 87)\n"
     ]
    }
   ],
   "source": [
    "print(\"размер полного датасета после обработки выбросов\")\n",
    "print(full.shape)"
   ]
  },
  {
   "cell_type": "markdown",
   "metadata": {},
   "source": [
    "Для дополнительного контроля снова выведим графики с изменением суммарной концентрации всех веществ."
   ]
  },
  {
   "cell_type": "code",
   "execution_count": 35,
   "metadata": {},
   "outputs": [
    {
     "data": {
      "image/png": "[encoded data removed]",
      "text/plain": [
       "<Figure size 1152x864 with 4 Axes>"
      ]
     },
     "metadata": {
      "needs_background": "light"
     },
     "output_type": "display_data"
    }
   ],
   "source": [
    "fig, axes = plt.subplots(nrows=2, ncols=2, figsize=(16, 12))\n",
    "fig.suptitle(\"Изменение суммарной концентрации всех веществ (au, ag, pb, sol) на разных стадиях\", fontsize=18)\n",
    "for ax, column_name, stage in zip(axes.flat, column_names_draft, stages_list):\n",
    "    full_concentration = full[column_name + \"au\"] + full[column_name + \"ag\"] + full[column_name + \"pb\"] + full[column_name + \"sol\"]\n",
    "    sn.distplot(full_concentration.dropna(), ax=ax)\n",
    "    ax.set_title(stage)\n",
    "    ax.set_xlabel(\"Концентрация, %\", fontsize=12)\n",
    "    ax.set_ylabel(\"Плотность вероятности\", fontsize=12)\n",
    "plt.show()"
   ]
  },
  {
   "cell_type": "markdown",
   "metadata": {},
   "source": [
    "Осталось небольшое количество выбросов для стадии после 1-ой очистки, видимо это значения больше нуля, но при этом очень близкие к нему. Оставим их без изменения с учетом их незначительного количества. На остальных стадиях околонулевые выбросы полностью отсутствуют."
   ]
  },
  {
   "cell_type": "markdown",
   "metadata": {},
   "source": [
    "### Выводы"
   ]
  },
  {
   "cell_type": "markdown",
   "metadata": {},
   "source": [
    "1. Выполнено исследование изменения концентрации металлов на различных этапах очистки (подраздел 2.1). Согласно полученным результатам, концентрация золота на каждой стадии растет (от 8 % до флотации до 44% после второй очистки). Концентрации остальных металлов показывают более сложную динамику. Они вырастают после флотации и падают на стадиях очистки.  \n",
    "2. Согласно выполненному сравнению (подраздел 2.2), распределение размеров гранул сырья на обучающей и тестовой выборке имеет заметное различие, что может указывать на неслучайное разделение данных на обучающую и тестовую выборку. Необходимо уточнить данный вопрос у составителей исходных данных и, возможно, также у технологов.\n",
    "3. Как показало исследование (подраздел 2.3), средняя суммарная концентрация всех веществ от стадии к стадии меняется в пределах от 60 до 70%. То есть колебания средней величины относительно невелики. При этом с каждой стадией существенно уменьшается вариация суммарной концентрации всех веществ.\n",
    "4. В данных выявлены очевидные выбросы - нулевые значения суммарных концентраций веществ на различных стадиях. Указанные выбросы обработаны путем удаления точек, соответствующих данным выбросам (под точкой понимается строка в исходном датасете)."
   ]
  },
  {
   "cell_type": "markdown",
   "metadata": {},
   "source": [
    "## Модель"
   ]
  },
  {
   "cell_type": "markdown",
   "metadata": {},
   "source": [
    "### Метрика smape"
   ]
  },
  {
   "cell_type": "markdown",
   "metadata": {},
   "source": [
    "Напишем функцию smape для расчета sMAPE (англ. Symmetric Mean Absolute Percentage Error)."
   ]
  },
  {
   "cell_type": "code",
   "execution_count": 36,
   "metadata": {},
   "outputs": [],
   "source": [
    "def smape(y_target, y_pred):\n",
    "    return ((1/len(y_target)) * np.sum(2 * np.abs(y_target - y_pred) / (np.abs(y_target) + np.abs(y_pred)))) * 100"
   ]
  },
  {
   "cell_type": "markdown",
   "metadata": {},
   "source": [
    "При помощи make_scorer добавим метрику sMAPE в sklearn."
   ]
  },
  {
   "cell_type": "code",
   "execution_count": 37,
   "metadata": {},
   "outputs": [],
   "source": [
    "smape_score = make_scorer(smape, greater_is_better=False)"
   ]
  },
  {
   "cell_type": "markdown",
   "metadata": {},
   "source": [
    "Метрику sMAPE будем использовать как метрику качества при выборе лучшей модели."
   ]
  },
  {
   "cell_type": "markdown",
   "metadata": {},
   "source": [
    "### Подготовка данных"
   ]
  },
  {
   "cell_type": "markdown",
   "metadata": {},
   "source": [
    "В подразделе 2.4 была выполнена обработка выбросов для полного датасета (датасет \"full\") путем их удаления. Необходимо удалить также данные выбросы для обучающей и для тестовой выборок, так как точки (строки в исходном датасете) с выбросами до консультации с технологами мы считаем аномальными. Для этого воспользуемся тем, что в датасетах train, test и full имеется общая индексация по дате. Зададим условие для обучающего и тестового датасета, чтобы их значения в столбце \"date\" присутствовали также в столбце \"date\" полного датасета. Для проверки сперва выведем размер обучающего и полного датасета до обработки выбросов."
   ]
  },
  {
   "cell_type": "code",
   "execution_count": 38,
   "metadata": {},
   "outputs": [
    {
     "name": "stdout",
     "output_type": "stream",
     "text": [
      "размер обучающего датасета до обработки выбросов\n",
      "(12679, 55)\n",
      "размер тестового датасета до обработки выбросов\n",
      "(5229, 55)\n"
     ]
    }
   ],
   "source": [
    "print(\"размер обучающего датасета до обработки выбросов\")\n",
    "print(train.shape)\n",
    "print(\"размер тестового датасета до обработки выбросов\")\n",
    "print(test.shape)"
   ]
  },
  {
   "cell_type": "code",
   "execution_count": 39,
   "metadata": {},
   "outputs": [],
   "source": [
    "train = train[train[\"date\"].isin(full[\"date\"])]\n",
    "test = test[test[\"date\"].isin(full[\"date\"])]"
   ]
  },
  {
   "cell_type": "code",
   "execution_count": 40,
   "metadata": {},
   "outputs": [
    {
     "name": "stdout",
     "output_type": "stream",
     "text": [
      "размер обучающего датасета после обработки выбросов\n",
      "(12323, 55)\n",
      "размер тестового датасета после обработки выбросов\n",
      "(5060, 55)\n"
     ]
    }
   ],
   "source": [
    "print(\"размер обучающего датасета после обработки выбросов\")\n",
    "print(train.shape)\n",
    "print(\"размер тестового датасета после обработки выбросов\")\n",
    "print(test.shape)"
   ]
  },
  {
   "cell_type": "markdown",
   "metadata": {},
   "source": [
    "Размер обучающего и тестового датасета ожидаемо несколько уменьшился после обработки выбросов"
   ]
  },
  {
   "cell_type": "markdown",
   "metadata": {},
   "source": [
    "Удалим столбец с датой в тестовой и обучающей выборках."
   ]
  },
  {
   "cell_type": "code",
   "execution_count": 41,
   "metadata": {},
   "outputs": [],
   "source": [
    "train = train.drop(\"date\", axis=1)\n",
    "test = test.drop(\"date\", axis=1)"
   ]
  },
  {
   "cell_type": "markdown",
   "metadata": {},
   "source": [
    "Разобьем обучающую выборку на целевые и оставшиеся признаки. При этом учтем, что для расчета целевого признака \"rougher.output.recovery\" логично использовать не все признаки, а только стадии \"rougher\". Для расчета же целевого признака \"final.output.recovery\" можно использовать все признаки из тестовой выборки. С учетом этого обучающие датасеты распадаются на две части. С полным набором признаков из тестового датасета (для расчета \"final.output.recovery\") и с набором признаков из тестового датасета, соответствующих стадии \"rougher\" (для расчета \"rougher.output.recovery\")."
   ]
  },
  {
   "cell_type": "code",
   "execution_count": 42,
   "metadata": {},
   "outputs": [],
   "source": [
    "X_train_final = train.drop([\"rougher.output.recovery\", \"final.output.recovery\"], axis=1)\n",
    "rougher_cols_train = X_train_final.columns.str.contains('rougher')\n",
    "X_train_rougher = X_train_final.loc[:, rougher_cols_train]\n",
    "Y_train_rougher = train[\"rougher.output.recovery\"]\n",
    "Y_train_final = train[\"final.output.recovery\"]"
   ]
  },
  {
   "cell_type": "markdown",
   "metadata": {},
   "source": [
    "Аналогичным образом разобьем тестовую выборку на целевые и оставшиеся признаки."
   ]
  },
  {
   "cell_type": "code",
   "execution_count": 43,
   "metadata": {},
   "outputs": [],
   "source": [
    "X_test_final = test.drop([\"rougher.output.recovery\", \"final.output.recovery\"], axis=1)\n",
    "rougher_cols_test = X_test_final.columns.str.contains('rougher')\n",
    "X_test_rougher = X_test_final.loc[:, rougher_cols_test]\n",
    "Y_test_rougher = test[\"rougher.output.recovery\"]\n",
    "Y_test_final = test[\"final.output.recovery\"]"
   ]
  },
  {
   "cell_type": "markdown",
   "metadata": {},
   "source": [
    "Выполним масштабирование признаков для расчета \"rougher.output.recovery\""
   ]
  },
  {
   "cell_type": "code",
   "execution_count": 44,
   "metadata": {},
   "outputs": [],
   "source": [
    "scaler_rougher = StandardScaler()\n",
    "scaler_rougher.fit(X_train_rougher)\n",
    "X_train_rougher = scaler_rougher.transform(X_train_rougher)\n",
    "X_test_rougher = scaler_rougher.transform(X_test_rougher)"
   ]
  },
  {
   "cell_type": "markdown",
   "metadata": {},
   "source": [
    "Выполним масштабирование признаков для расчета \"final.output.recovery\""
   ]
  },
  {
   "cell_type": "code",
   "execution_count": 45,
   "metadata": {},
   "outputs": [],
   "source": [
    "scaler_final = StandardScaler()\n",
    "scaler_final.fit(X_train_final)\n",
    "X_train_final = scaler_final.transform(X_train_final)\n",
    "X_test_final = scaler_final.transform(X_test_final)"
   ]
  },
  {
   "cell_type": "markdown",
   "metadata": {},
   "source": [
    "Проверим размеры получившихся в результате предобработки данных выборок."
   ]
  },
  {
   "cell_type": "code",
   "execution_count": 46,
   "metadata": {
    "scrolled": true
   },
   "outputs": [
    {
     "name": "stdout",
     "output_type": "stream",
     "text": [
      "Размеры обучающих датасетов X (без целевого признака)\n",
      "(12323, 22)\n",
      "(12323, 52)\n",
      "Размеры обучающих датасетов Y (целевой признак)\n",
      "(12323,)\n",
      "(12323,)\n",
      "Размеры тестовых датасетов X\n",
      "(5060, 22)\n",
      "(5060, 52)\n",
      "Размеры тестовых датасетов Y\n",
      "(5060,)\n",
      "(5060,)\n"
     ]
    }
   ],
   "source": [
    "print(\"Размеры обучающих датасетов X (без целевого признака)\")\n",
    "print(X_train_rougher.shape)\n",
    "print(X_train_final.shape)\n",
    "print(\"Размеры обучающих датасетов Y (целевой признак)\")\n",
    "print(Y_train_rougher.shape)\n",
    "print(Y_train_final.shape)\n",
    "print(\"Размеры тестовых датасетов X\")\n",
    "print(X_test_rougher.shape)\n",
    "print(X_test_final.shape)\n",
    "print(\"Размеры тестовых датасетов Y\")\n",
    "print(Y_test_rougher.shape)\n",
    "print(Y_test_final.shape)"
   ]
  },
  {
   "cell_type": "markdown",
   "metadata": {},
   "source": [
    "Проверка размеров датасетов выполнена успешно - аномалий не выявлено."
   ]
  },
  {
   "cell_type": "markdown",
   "metadata": {},
   "source": [
    "### Выбор лучшей модели для расчета  \"rougher.output.recovery\""
   ]
  },
  {
   "cell_type": "markdown",
   "metadata": {},
   "source": [
    "Для расчета \"rougher.output.recovery\" рассмотрим две модели: случайного леса и линейной регрессии."
   ]
  },
  {
   "cell_type": "markdown",
   "metadata": {},
   "source": [
    "**Модель случайного леса**"
   ]
  },
  {
   "cell_type": "markdown",
   "metadata": {},
   "source": [
    "Подберем гиперпараметры для модели случайного леса, используя цикл и кросс-валидацию. Основные результаты расчетов сохраним в списках column_1..column_3."
   ]
  },
  {
   "cell_type": "code",
   "execution_count": 47,
   "metadata": {},
   "outputs": [],
   "source": [
    "column_1 = []\n",
    "column_2 = []\n",
    "column_3 = []\n",
    "for est in range(10, 81, 10):\n",
    "    for depth in range(2, 11, 2):\n",
    "        model = RandomForestRegressor(random_state=56789, n_estimators=est, max_depth=depth)\n",
    "        scores = cross_val_score(model, X_train_rougher, Y_train_rougher, cv=5, scoring = smape_score)\n",
    "        smape_valid_rougher = scores.mean()*(-1)\n",
    "        column_1.append(est)\n",
    "        column_2.append(depth)\n",
    "        column_3.append(smape_valid_rougher)"
   ]
  },
  {
   "cell_type": "markdown",
   "metadata": {},
   "source": [
    "Сформируем из списков column_1..column_3 таблицу table_smape_rougher с основными результатами расчетов."
   ]
  },
  {
   "cell_type": "code",
   "execution_count": 48,
   "metadata": {},
   "outputs": [
    {
     "data": {
      "text/html": [
       "<div>\n",
       "<style scoped>\n",
       "    .dataframe tbody tr th:only-of-type {\n",
       "        vertical-align: middle;\n",
       "    }\n",
       "\n",
       "    .dataframe tbody tr th {\n",
       "        vertical-align: top;\n",
       "    }\n",
       "\n",
       "    .dataframe thead th {\n",
       "        text-align: right;\n",
       "    }\n",
       "</style>\n",
       "<table border=\"1\" class=\"dataframe\">\n",
       "  <thead>\n",
       "    <tr style=\"text-align: right;\">\n",
       "      <th></th>\n",
       "      <th>n_estimators</th>\n",
       "      <th>max_depth</th>\n",
       "      <th>smape_valid_rougher</th>\n",
       "    </tr>\n",
       "  </thead>\n",
       "  <tbody>\n",
       "    <tr>\n",
       "      <td>21</td>\n",
       "      <td>50</td>\n",
       "      <td>4</td>\n",
       "      <td>6.069</td>\n",
       "    </tr>\n",
       "    <tr>\n",
       "      <td>1</td>\n",
       "      <td>10</td>\n",
       "      <td>4</td>\n",
       "      <td>6.076</td>\n",
       "    </tr>\n",
       "    <tr>\n",
       "      <td>26</td>\n",
       "      <td>60</td>\n",
       "      <td>4</td>\n",
       "      <td>6.077</td>\n",
       "    </tr>\n",
       "    <tr>\n",
       "      <td>31</td>\n",
       "      <td>70</td>\n",
       "      <td>4</td>\n",
       "      <td>6.097</td>\n",
       "    </tr>\n",
       "    <tr>\n",
       "      <td>23</td>\n",
       "      <td>50</td>\n",
       "      <td>8</td>\n",
       "      <td>6.110</td>\n",
       "    </tr>\n",
       "    <tr>\n",
       "      <td>36</td>\n",
       "      <td>80</td>\n",
       "      <td>4</td>\n",
       "      <td>6.110</td>\n",
       "    </tr>\n",
       "    <tr>\n",
       "      <td>37</td>\n",
       "      <td>80</td>\n",
       "      <td>6</td>\n",
       "      <td>6.111</td>\n",
       "    </tr>\n",
       "    <tr>\n",
       "      <td>27</td>\n",
       "      <td>60</td>\n",
       "      <td>6</td>\n",
       "      <td>6.114</td>\n",
       "    </tr>\n",
       "    <tr>\n",
       "      <td>28</td>\n",
       "      <td>60</td>\n",
       "      <td>8</td>\n",
       "      <td>6.117</td>\n",
       "    </tr>\n",
       "    <tr>\n",
       "      <td>38</td>\n",
       "      <td>80</td>\n",
       "      <td>8</td>\n",
       "      <td>6.118</td>\n",
       "    </tr>\n",
       "    <tr>\n",
       "      <td>32</td>\n",
       "      <td>70</td>\n",
       "      <td>6</td>\n",
       "      <td>6.120</td>\n",
       "    </tr>\n",
       "    <tr>\n",
       "      <td>22</td>\n",
       "      <td>50</td>\n",
       "      <td>6</td>\n",
       "      <td>6.125</td>\n",
       "    </tr>\n",
       "    <tr>\n",
       "      <td>33</td>\n",
       "      <td>70</td>\n",
       "      <td>8</td>\n",
       "      <td>6.129</td>\n",
       "    </tr>\n",
       "    <tr>\n",
       "      <td>6</td>\n",
       "      <td>20</td>\n",
       "      <td>4</td>\n",
       "      <td>6.137</td>\n",
       "    </tr>\n",
       "    <tr>\n",
       "      <td>16</td>\n",
       "      <td>40</td>\n",
       "      <td>4</td>\n",
       "      <td>6.149</td>\n",
       "    </tr>\n",
       "    <tr>\n",
       "      <td>3</td>\n",
       "      <td>10</td>\n",
       "      <td>8</td>\n",
       "      <td>6.152</td>\n",
       "    </tr>\n",
       "    <tr>\n",
       "      <td>11</td>\n",
       "      <td>30</td>\n",
       "      <td>4</td>\n",
       "      <td>6.159</td>\n",
       "    </tr>\n",
       "    <tr>\n",
       "      <td>18</td>\n",
       "      <td>40</td>\n",
       "      <td>8</td>\n",
       "      <td>6.171</td>\n",
       "    </tr>\n",
       "    <tr>\n",
       "      <td>17</td>\n",
       "      <td>40</td>\n",
       "      <td>6</td>\n",
       "      <td>6.172</td>\n",
       "    </tr>\n",
       "    <tr>\n",
       "      <td>39</td>\n",
       "      <td>80</td>\n",
       "      <td>10</td>\n",
       "      <td>6.188</td>\n",
       "    </tr>\n",
       "    <tr>\n",
       "      <td>13</td>\n",
       "      <td>30</td>\n",
       "      <td>8</td>\n",
       "      <td>6.190</td>\n",
       "    </tr>\n",
       "    <tr>\n",
       "      <td>7</td>\n",
       "      <td>20</td>\n",
       "      <td>6</td>\n",
       "      <td>6.193</td>\n",
       "    </tr>\n",
       "    <tr>\n",
       "      <td>12</td>\n",
       "      <td>30</td>\n",
       "      <td>6</td>\n",
       "      <td>6.195</td>\n",
       "    </tr>\n",
       "    <tr>\n",
       "      <td>2</td>\n",
       "      <td>10</td>\n",
       "      <td>6</td>\n",
       "      <td>6.196</td>\n",
       "    </tr>\n",
       "    <tr>\n",
       "      <td>8</td>\n",
       "      <td>20</td>\n",
       "      <td>8</td>\n",
       "      <td>6.200</td>\n",
       "    </tr>\n",
       "    <tr>\n",
       "      <td>24</td>\n",
       "      <td>50</td>\n",
       "      <td>10</td>\n",
       "      <td>6.202</td>\n",
       "    </tr>\n",
       "    <tr>\n",
       "      <td>34</td>\n",
       "      <td>70</td>\n",
       "      <td>10</td>\n",
       "      <td>6.217</td>\n",
       "    </tr>\n",
       "    <tr>\n",
       "      <td>29</td>\n",
       "      <td>60</td>\n",
       "      <td>10</td>\n",
       "      <td>6.219</td>\n",
       "    </tr>\n",
       "    <tr>\n",
       "      <td>19</td>\n",
       "      <td>40</td>\n",
       "      <td>10</td>\n",
       "      <td>6.279</td>\n",
       "    </tr>\n",
       "    <tr>\n",
       "      <td>14</td>\n",
       "      <td>30</td>\n",
       "      <td>10</td>\n",
       "      <td>6.321</td>\n",
       "    </tr>\n",
       "    <tr>\n",
       "      <td>4</td>\n",
       "      <td>10</td>\n",
       "      <td>10</td>\n",
       "      <td>6.355</td>\n",
       "    </tr>\n",
       "    <tr>\n",
       "      <td>9</td>\n",
       "      <td>20</td>\n",
       "      <td>10</td>\n",
       "      <td>6.358</td>\n",
       "    </tr>\n",
       "    <tr>\n",
       "      <td>10</td>\n",
       "      <td>30</td>\n",
       "      <td>2</td>\n",
       "      <td>6.726</td>\n",
       "    </tr>\n",
       "    <tr>\n",
       "      <td>15</td>\n",
       "      <td>40</td>\n",
       "      <td>2</td>\n",
       "      <td>6.729</td>\n",
       "    </tr>\n",
       "    <tr>\n",
       "      <td>20</td>\n",
       "      <td>50</td>\n",
       "      <td>2</td>\n",
       "      <td>6.730</td>\n",
       "    </tr>\n",
       "    <tr>\n",
       "      <td>0</td>\n",
       "      <td>10</td>\n",
       "      <td>2</td>\n",
       "      <td>6.735</td>\n",
       "    </tr>\n",
       "    <tr>\n",
       "      <td>5</td>\n",
       "      <td>20</td>\n",
       "      <td>2</td>\n",
       "      <td>6.753</td>\n",
       "    </tr>\n",
       "    <tr>\n",
       "      <td>25</td>\n",
       "      <td>60</td>\n",
       "      <td>2</td>\n",
       "      <td>6.757</td>\n",
       "    </tr>\n",
       "    <tr>\n",
       "      <td>30</td>\n",
       "      <td>70</td>\n",
       "      <td>2</td>\n",
       "      <td>6.777</td>\n",
       "    </tr>\n",
       "    <tr>\n",
       "      <td>35</td>\n",
       "      <td>80</td>\n",
       "      <td>2</td>\n",
       "      <td>6.788</td>\n",
       "    </tr>\n",
       "  </tbody>\n",
       "</table>\n",
       "</div>"
      ],
      "text/plain": [
       "    n_estimators  max_depth  smape_valid_rougher\n",
       "21            50          4                6.069\n",
       "1             10          4                6.076\n",
       "26            60          4                6.077\n",
       "31            70          4                6.097\n",
       "23            50          8                6.110\n",
       "36            80          4                6.110\n",
       "37            80          6                6.111\n",
       "27            60          6                6.114\n",
       "28            60          8                6.117\n",
       "38            80          8                6.118\n",
       "32            70          6                6.120\n",
       "22            50          6                6.125\n",
       "33            70          8                6.129\n",
       "6             20          4                6.137\n",
       "16            40          4                6.149\n",
       "3             10          8                6.152\n",
       "11            30          4                6.159\n",
       "18            40          8                6.171\n",
       "17            40          6                6.172\n",
       "39            80         10                6.188\n",
       "13            30          8                6.190\n",
       "7             20          6                6.193\n",
       "12            30          6                6.195\n",
       "2             10          6                6.196\n",
       "8             20          8                6.200\n",
       "24            50         10                6.202\n",
       "34            70         10                6.217\n",
       "29            60         10                6.219\n",
       "19            40         10                6.279\n",
       "14            30         10                6.321\n",
       "4             10         10                6.355\n",
       "9             20         10                6.358\n",
       "10            30          2                6.726\n",
       "15            40          2                6.729\n",
       "20            50          2                6.730\n",
       "0             10          2                6.735\n",
       "5             20          2                6.753\n",
       "25            60          2                6.757\n",
       "30            70          2                6.777\n",
       "35            80          2                6.788"
      ]
     },
     "execution_count": 48,
     "metadata": {},
     "output_type": "execute_result"
    }
   ],
   "source": [
    "table_smape_rougher = pd.DataFrame(\n",
    "    {\"n_estimators\": column_1, \"max_depth\": column_2, \"smape_valid_rougher\": column_3}\n",
    ")\n",
    "table_smape_rougher.sort_values(by=\"smape_valid_rougher\", inplace=True)\n",
    "table_smape_rougher[\"smape_valid_rougher\"] = table_smape_rougher[\"smape_valid_rougher\"].round(3)\n",
    "table_smape_rougher"
   ]
  },
  {
   "cell_type": "markdown",
   "metadata": {},
   "source": [
    "Как видно из данной таблицы, лучший результат (sMAPE = 6.07) показала модель с 50 решающими деревьями и глубиной равной 4. В целом обращает на себя внимание то, что увеличение количества деревьев и глубины модели не приводит к автоматическому улучшению метрики модели. Возможно это свидетельствует о том, что модель случайного леса не является оптимальной для поставленной задачи. "
   ]
  },
  {
   "cell_type": "markdown",
   "metadata": {},
   "source": [
    "**Модель линейной регрессии**"
   ]
  },
  {
   "cell_type": "markdown",
   "metadata": {},
   "source": [
    "Выполним рассчеты для модели линейной регрессии и выведим получившееся для нее sMAPE."
   ]
  },
  {
   "cell_type": "code",
   "execution_count": 49,
   "metadata": {},
   "outputs": [
    {
     "data": {
      "text/plain": [
       "6.2077728379748915"
      ]
     },
     "execution_count": 49,
     "metadata": {},
     "output_type": "execute_result"
    }
   ],
   "source": [
    "model = LinearRegression()\n",
    "scores = cross_val_score(model, X_train_rougher, Y_train_rougher, cv=5, scoring = smape_score)\n",
    "smape_valid_rougher = scores.mean()*(-1)\n",
    "smape_valid_rougher"
   ]
  },
  {
   "cell_type": "markdown",
   "metadata": {},
   "source": [
    "Для модели линейной регрессии sMAPE = 6.21, что больше sMAPE для лучшей модели случайного леса. Таким образом, окончательно примем в качестве лучшей модели модель случайного леса со следующими гиперпараметрами: n_estimators=50, max_depth=4. Запишем соответствующее ей значение sMAPE в отдельную переменную smape_valid_rougher_best."
   ]
  },
  {
   "cell_type": "markdown",
   "metadata": {},
   "source": [
    "**sMAPE лучшей модели**"
   ]
  },
  {
   "cell_type": "code",
   "execution_count": 50,
   "metadata": {},
   "outputs": [
    {
     "data": {
      "text/plain": [
       "6.06882948042118"
      ]
     },
     "execution_count": 50,
     "metadata": {},
     "output_type": "execute_result"
    }
   ],
   "source": [
    "best_model_rougher = RandomForestRegressor(random_state=56789, n_estimators=50, max_depth=4)\n",
    "scores = cross_val_score(best_model_rougher, X_train_rougher, Y_train_rougher, cv=5, scoring = smape_score)\n",
    "smape_valid_rougher_best = scores.mean()*(-1)\n",
    "smape_valid_rougher_best"
   ]
  },
  {
   "cell_type": "markdown",
   "metadata": {},
   "source": [
    "### Модель для расчета  \"final.output.recovery\""
   ]
  },
  {
   "cell_type": "markdown",
   "metadata": {},
   "source": [
    "Для расчета final.output.recovery рассмотрим две модели: случайного леса и линейной регрессии."
   ]
  },
  {
   "cell_type": "markdown",
   "metadata": {},
   "source": [
    "**Модель случайного леса**"
   ]
  },
  {
   "cell_type": "markdown",
   "metadata": {},
   "source": [
    "Подберем гиперпараметры для модели случайного леса, используя цикл и кросс-валидацию. Основные результаты расчетов сохраним в списках column_1..column_3."
   ]
  },
  {
   "cell_type": "code",
   "execution_count": 51,
   "metadata": {},
   "outputs": [],
   "source": [
    "column_1 = []\n",
    "column_2 = []\n",
    "column_3 = []\n",
    "for est in range(10, 81, 10):\n",
    "    for depth in range(2, 12, 2):\n",
    "        model = RandomForestRegressor(random_state=56789, n_estimators=est, max_depth=depth)\n",
    "        scores = cross_val_score(model, X_train_final, Y_train_final, cv=5, scoring = smape_score)\n",
    "        smape_valid_final = scores.mean()*(-1)\n",
    "        column_1.append(est)\n",
    "        column_2.append(depth)\n",
    "        column_3.append(smape_valid_final)"
   ]
  },
  {
   "cell_type": "markdown",
   "metadata": {},
   "source": [
    "Сформируем из списков column_1..column_3 таблицу table_smape_final с основными результатами расчетов."
   ]
  },
  {
   "cell_type": "code",
   "execution_count": 52,
   "metadata": {},
   "outputs": [
    {
     "data": {
      "text/html": [
       "<div>\n",
       "<style scoped>\n",
       "    .dataframe tbody tr th:only-of-type {\n",
       "        vertical-align: middle;\n",
       "    }\n",
       "\n",
       "    .dataframe tbody tr th {\n",
       "        vertical-align: top;\n",
       "    }\n",
       "\n",
       "    .dataframe thead th {\n",
       "        text-align: right;\n",
       "    }\n",
       "</style>\n",
       "<table border=\"1\" class=\"dataframe\">\n",
       "  <thead>\n",
       "    <tr style=\"text-align: right;\">\n",
       "      <th></th>\n",
       "      <th>n_estimators</th>\n",
       "      <th>max_depth</th>\n",
       "      <th>smape_valid_final</th>\n",
       "    </tr>\n",
       "  </thead>\n",
       "  <tbody>\n",
       "    <tr>\n",
       "      <td>31</td>\n",
       "      <td>70</td>\n",
       "      <td>4</td>\n",
       "      <td>8.803</td>\n",
       "    </tr>\n",
       "    <tr>\n",
       "      <td>36</td>\n",
       "      <td>80</td>\n",
       "      <td>4</td>\n",
       "      <td>8.804</td>\n",
       "    </tr>\n",
       "    <tr>\n",
       "      <td>32</td>\n",
       "      <td>70</td>\n",
       "      <td>6</td>\n",
       "      <td>8.805</td>\n",
       "    </tr>\n",
       "    <tr>\n",
       "      <td>37</td>\n",
       "      <td>80</td>\n",
       "      <td>6</td>\n",
       "      <td>8.812</td>\n",
       "    </tr>\n",
       "    <tr>\n",
       "      <td>27</td>\n",
       "      <td>60</td>\n",
       "      <td>6</td>\n",
       "      <td>8.818</td>\n",
       "    </tr>\n",
       "    <tr>\n",
       "      <td>35</td>\n",
       "      <td>80</td>\n",
       "      <td>2</td>\n",
       "      <td>8.834</td>\n",
       "    </tr>\n",
       "    <tr>\n",
       "      <td>26</td>\n",
       "      <td>60</td>\n",
       "      <td>4</td>\n",
       "      <td>8.844</td>\n",
       "    </tr>\n",
       "    <tr>\n",
       "      <td>21</td>\n",
       "      <td>50</td>\n",
       "      <td>4</td>\n",
       "      <td>8.846</td>\n",
       "    </tr>\n",
       "    <tr>\n",
       "      <td>30</td>\n",
       "      <td>70</td>\n",
       "      <td>2</td>\n",
       "      <td>8.860</td>\n",
       "    </tr>\n",
       "    <tr>\n",
       "      <td>22</td>\n",
       "      <td>50</td>\n",
       "      <td>6</td>\n",
       "      <td>8.862</td>\n",
       "    </tr>\n",
       "    <tr>\n",
       "      <td>20</td>\n",
       "      <td>50</td>\n",
       "      <td>2</td>\n",
       "      <td>8.871</td>\n",
       "    </tr>\n",
       "    <tr>\n",
       "      <td>25</td>\n",
       "      <td>60</td>\n",
       "      <td>2</td>\n",
       "      <td>8.872</td>\n",
       "    </tr>\n",
       "    <tr>\n",
       "      <td>15</td>\n",
       "      <td>40</td>\n",
       "      <td>2</td>\n",
       "      <td>8.886</td>\n",
       "    </tr>\n",
       "    <tr>\n",
       "      <td>16</td>\n",
       "      <td>40</td>\n",
       "      <td>4</td>\n",
       "      <td>8.888</td>\n",
       "    </tr>\n",
       "    <tr>\n",
       "      <td>11</td>\n",
       "      <td>30</td>\n",
       "      <td>4</td>\n",
       "      <td>8.888</td>\n",
       "    </tr>\n",
       "    <tr>\n",
       "      <td>5</td>\n",
       "      <td>20</td>\n",
       "      <td>2</td>\n",
       "      <td>8.891</td>\n",
       "    </tr>\n",
       "    <tr>\n",
       "      <td>0</td>\n",
       "      <td>10</td>\n",
       "      <td>2</td>\n",
       "      <td>8.893</td>\n",
       "    </tr>\n",
       "    <tr>\n",
       "      <td>10</td>\n",
       "      <td>30</td>\n",
       "      <td>2</td>\n",
       "      <td>8.914</td>\n",
       "    </tr>\n",
       "    <tr>\n",
       "      <td>17</td>\n",
       "      <td>40</td>\n",
       "      <td>6</td>\n",
       "      <td>8.951</td>\n",
       "    </tr>\n",
       "    <tr>\n",
       "      <td>6</td>\n",
       "      <td>20</td>\n",
       "      <td>4</td>\n",
       "      <td>8.962</td>\n",
       "    </tr>\n",
       "    <tr>\n",
       "      <td>38</td>\n",
       "      <td>80</td>\n",
       "      <td>8</td>\n",
       "      <td>8.999</td>\n",
       "    </tr>\n",
       "    <tr>\n",
       "      <td>12</td>\n",
       "      <td>30</td>\n",
       "      <td>6</td>\n",
       "      <td>9.013</td>\n",
       "    </tr>\n",
       "    <tr>\n",
       "      <td>33</td>\n",
       "      <td>70</td>\n",
       "      <td>8</td>\n",
       "      <td>9.019</td>\n",
       "    </tr>\n",
       "    <tr>\n",
       "      <td>7</td>\n",
       "      <td>20</td>\n",
       "      <td>6</td>\n",
       "      <td>9.038</td>\n",
       "    </tr>\n",
       "    <tr>\n",
       "      <td>1</td>\n",
       "      <td>10</td>\n",
       "      <td>4</td>\n",
       "      <td>9.041</td>\n",
       "    </tr>\n",
       "    <tr>\n",
       "      <td>28</td>\n",
       "      <td>60</td>\n",
       "      <td>8</td>\n",
       "      <td>9.134</td>\n",
       "    </tr>\n",
       "    <tr>\n",
       "      <td>39</td>\n",
       "      <td>80</td>\n",
       "      <td>10</td>\n",
       "      <td>9.142</td>\n",
       "    </tr>\n",
       "    <tr>\n",
       "      <td>2</td>\n",
       "      <td>10</td>\n",
       "      <td>6</td>\n",
       "      <td>9.174</td>\n",
       "    </tr>\n",
       "    <tr>\n",
       "      <td>23</td>\n",
       "      <td>50</td>\n",
       "      <td>8</td>\n",
       "      <td>9.187</td>\n",
       "    </tr>\n",
       "    <tr>\n",
       "      <td>34</td>\n",
       "      <td>70</td>\n",
       "      <td>10</td>\n",
       "      <td>9.189</td>\n",
       "    </tr>\n",
       "    <tr>\n",
       "      <td>29</td>\n",
       "      <td>60</td>\n",
       "      <td>10</td>\n",
       "      <td>9.289</td>\n",
       "    </tr>\n",
       "    <tr>\n",
       "      <td>18</td>\n",
       "      <td>40</td>\n",
       "      <td>8</td>\n",
       "      <td>9.305</td>\n",
       "    </tr>\n",
       "    <tr>\n",
       "      <td>24</td>\n",
       "      <td>50</td>\n",
       "      <td>10</td>\n",
       "      <td>9.341</td>\n",
       "    </tr>\n",
       "    <tr>\n",
       "      <td>19</td>\n",
       "      <td>40</td>\n",
       "      <td>10</td>\n",
       "      <td>9.464</td>\n",
       "    </tr>\n",
       "    <tr>\n",
       "      <td>13</td>\n",
       "      <td>30</td>\n",
       "      <td>8</td>\n",
       "      <td>9.469</td>\n",
       "    </tr>\n",
       "    <tr>\n",
       "      <td>8</td>\n",
       "      <td>20</td>\n",
       "      <td>8</td>\n",
       "      <td>9.540</td>\n",
       "    </tr>\n",
       "    <tr>\n",
       "      <td>14</td>\n",
       "      <td>30</td>\n",
       "      <td>10</td>\n",
       "      <td>9.631</td>\n",
       "    </tr>\n",
       "    <tr>\n",
       "      <td>9</td>\n",
       "      <td>20</td>\n",
       "      <td>10</td>\n",
       "      <td>9.683</td>\n",
       "    </tr>\n",
       "    <tr>\n",
       "      <td>3</td>\n",
       "      <td>10</td>\n",
       "      <td>8</td>\n",
       "      <td>9.937</td>\n",
       "    </tr>\n",
       "    <tr>\n",
       "      <td>4</td>\n",
       "      <td>10</td>\n",
       "      <td>10</td>\n",
       "      <td>10.227</td>\n",
       "    </tr>\n",
       "  </tbody>\n",
       "</table>\n",
       "</div>"
      ],
      "text/plain": [
       "    n_estimators  max_depth  smape_valid_final\n",
       "31            70          4              8.803\n",
       "36            80          4              8.804\n",
       "32            70          6              8.805\n",
       "37            80          6              8.812\n",
       "27            60          6              8.818\n",
       "35            80          2              8.834\n",
       "26            60          4              8.844\n",
       "21            50          4              8.846\n",
       "30            70          2              8.860\n",
       "22            50          6              8.862\n",
       "20            50          2              8.871\n",
       "25            60          2              8.872\n",
       "15            40          2              8.886\n",
       "16            40          4              8.888\n",
       "11            30          4              8.888\n",
       "5             20          2              8.891\n",
       "0             10          2              8.893\n",
       "10            30          2              8.914\n",
       "17            40          6              8.951\n",
       "6             20          4              8.962\n",
       "38            80          8              8.999\n",
       "12            30          6              9.013\n",
       "33            70          8              9.019\n",
       "7             20          6              9.038\n",
       "1             10          4              9.041\n",
       "28            60          8              9.134\n",
       "39            80         10              9.142\n",
       "2             10          6              9.174\n",
       "23            50          8              9.187\n",
       "34            70         10              9.189\n",
       "29            60         10              9.289\n",
       "18            40          8              9.305\n",
       "24            50         10              9.341\n",
       "19            40         10              9.464\n",
       "13            30          8              9.469\n",
       "8             20          8              9.540\n",
       "14            30         10              9.631\n",
       "9             20         10              9.683\n",
       "3             10          8              9.937\n",
       "4             10         10             10.227"
      ]
     },
     "execution_count": 52,
     "metadata": {},
     "output_type": "execute_result"
    }
   ],
   "source": [
    "table_smape_final = pd.DataFrame(\n",
    "    {\"n_estimators\": column_1, \"max_depth\": column_2, \"smape_valid_final\": column_3}\n",
    ")\n",
    "table_smape_final.sort_values(by=\"smape_valid_final\", inplace=True)\n",
    "table_smape_final[\"smape_valid_final\"] = table_smape_final[\"smape_valid_final\"].round(3)\n",
    "table_smape_final"
   ]
  },
  {
   "cell_type": "markdown",
   "metadata": {},
   "source": [
    "Как видно из данной таблицы, лучший результат (sMAPE = 8.80) показала модель с 70 решающими деревьями и глубиной равной 4. В целом обращает на себя внимание то, что увеличение количества деревьев и глубины модели не приводит к автоматическому улучшению метрики модели. Возможно это свидетельствует о том, что модель случайного леса не является оптимальной для поставленной задачи."
   ]
  },
  {
   "cell_type": "markdown",
   "metadata": {},
   "source": [
    "**Модель линейной регрессии**"
   ]
  },
  {
   "cell_type": "markdown",
   "metadata": {},
   "source": [
    "Выполним рассчеты для модели линейной регрессии и выведим получившееся для нее sMAPE."
   ]
  },
  {
   "cell_type": "code",
   "execution_count": 53,
   "metadata": {},
   "outputs": [
    {
     "data": {
      "text/plain": [
       "10.219074495250272"
      ]
     },
     "execution_count": 53,
     "metadata": {},
     "output_type": "execute_result"
    }
   ],
   "source": [
    "model = LinearRegression()\n",
    "scores = cross_val_score(model, X_train_final, Y_train_final, cv=5, scoring = smape_score)\n",
    "smape_valid_final = scores.mean()*(-1)\n",
    "smape_valid_final"
   ]
  },
  {
   "cell_type": "markdown",
   "metadata": {},
   "source": [
    "Для модели линейной регрессии sMAPE = 10.22, что больше sMAPE для лучшей модели случайного леса. Таким образом, окончательно примем в качестве лучшей модели модель случайного леса со следующими гиперпараметрами: n_estimators=70, max_depth=4. Запишем соответствующее ей значение sMAPE в отдельную переменную smape_valid_final_best."
   ]
  },
  {
   "cell_type": "markdown",
   "metadata": {},
   "source": [
    "**sMAPE лучшей модели**"
   ]
  },
  {
   "cell_type": "code",
   "execution_count": 54,
   "metadata": {},
   "outputs": [
    {
     "data": {
      "text/plain": [
       "8.803033372908214"
      ]
     },
     "execution_count": 54,
     "metadata": {},
     "output_type": "execute_result"
    }
   ],
   "source": [
    "best_model_final = RandomForestRegressor(random_state=56789, n_estimators=70, max_depth=4)\n",
    "scores = cross_val_score(best_model_final, X_train_final, Y_train_final, cv=5, scoring = smape_score)\n",
    "smape_valid_final_best = scores.mean()*(-1)\n",
    "smape_valid_final_best"
   ]
  },
  {
   "cell_type": "markdown",
   "metadata": {},
   "source": [
    "### Тестирование лучших моделей"
   ]
  },
  {
   "cell_type": "markdown",
   "metadata": {},
   "source": [
    "Выполним тестирование лучших моделей, используя тестовый набор данных."
   ]
  },
  {
   "cell_type": "markdown",
   "metadata": {},
   "source": [
    "**Лучшая модель для расчета \"rougher.output.recovery\"**"
   ]
  },
  {
   "cell_type": "markdown",
   "metadata": {},
   "source": [
    "Получим значение smape для лучшей модели (best_model_rougher), используя тестовую выборку. Сохраним данное значение в переменную smape_test_rougher_best"
   ]
  },
  {
   "cell_type": "code",
   "execution_count": 55,
   "metadata": {},
   "outputs": [
    {
     "data": {
      "text/plain": [
       "4.356250260086353"
      ]
     },
     "execution_count": 55,
     "metadata": {},
     "output_type": "execute_result"
    }
   ],
   "source": [
    "best_model_rougher.fit(X_train_rougher, Y_train_rougher)\n",
    "predicted_test_rougher = best_model_rougher.predict(X_test_rougher)\n",
    "smape_test_rougher_best = smape(Y_test_rougher, predicted_test_rougher)\n",
    "smape_test_rougher_best"
   ]
  },
  {
   "cell_type": "markdown",
   "metadata": {},
   "source": [
    "**Лучшая модель для расчета \"final.output.recovery\"**"
   ]
  },
  {
   "cell_type": "markdown",
   "metadata": {},
   "source": [
    "Получим значение smape для лучшей модели (best_model_final), используя тестовую выборку. Сохраним данное значение в переменную smape_test_final_best"
   ]
  },
  {
   "cell_type": "code",
   "execution_count": 56,
   "metadata": {},
   "outputs": [
    {
     "data": {
      "text/plain": [
       "8.285081070532279"
      ]
     },
     "execution_count": 56,
     "metadata": {},
     "output_type": "execute_result"
    }
   ],
   "source": [
    "best_model_final.fit(X_train_final, Y_train_final)\n",
    "predicted_test_final = best_model_final.predict(X_test_final)\n",
    "smape_test_final_best = smape(Y_test_final, predicted_test_final)\n",
    "smape_test_final_best"
   ]
  },
  {
   "cell_type": "markdown",
   "metadata": {},
   "source": [
    "### Расчет итоговой sMAPE"
   ]
  },
  {
   "cell_type": "markdown",
   "metadata": {},
   "source": [
    "Итоговое sMAPE рассчитывается по формуле:"
   ]
  },
  {
   "cell_type": "markdown",
   "metadata": {},
   "source": [
    "итоговое sMAPE = 25% х sMAPE(rougher) + 75% х sMAPE(final)"
   ]
  },
  {
   "cell_type": "markdown",
   "metadata": {},
   "source": [
    "Рассчитаем итоговое sMAPE отдельно для обучающей и тестовой выборок."
   ]
  },
  {
   "cell_type": "markdown",
   "metadata": {},
   "source": [
    "**расчет итоговой sMAPE для обучающей выборки**"
   ]
  },
  {
   "cell_type": "code",
   "execution_count": 57,
   "metadata": {},
   "outputs": [
    {
     "data": {
      "text/plain": [
       "8.119482399786456"
      ]
     },
     "execution_count": 57,
     "metadata": {},
     "output_type": "execute_result"
    }
   ],
   "source": [
    "smape_valid_total = 0.25*smape_valid_rougher_best + 0.75*smape_valid_final_best\n",
    "smape_valid_total"
   ]
  },
  {
   "cell_type": "markdown",
   "metadata": {},
   "source": [
    "**расчет итоговой sMAPE для тестовой выборки**"
   ]
  },
  {
   "cell_type": "code",
   "execution_count": 58,
   "metadata": {},
   "outputs": [
    {
     "data": {
      "text/plain": [
       "7.302873367920797"
      ]
     },
     "execution_count": 58,
     "metadata": {},
     "output_type": "execute_result"
    }
   ],
   "source": [
    "smape_test_total = 0.25*smape_test_rougher_best + 0.75*smape_test_final_best\n",
    "smape_test_total"
   ]
  },
  {
   "cell_type": "markdown",
   "metadata": {},
   "source": [
    "Таким образом, итоговый sMAPE равняется для обучающей выборки 8,12 и 7,30 для тестовой."
   ]
  },
  {
   "cell_type": "markdown",
   "metadata": {},
   "source": [
    "Представим основные результаты расчета sMAPE в табличном виде."
   ]
  },
  {
   "cell_type": "code",
   "execution_count": 59,
   "metadata": {},
   "outputs": [
    {
     "data": {
      "text/html": [
       "<div>\n",
       "<style scoped>\n",
       "    .dataframe tbody tr th:only-of-type {\n",
       "        vertical-align: middle;\n",
       "    }\n",
       "\n",
       "    .dataframe tbody tr th {\n",
       "        vertical-align: top;\n",
       "    }\n",
       "\n",
       "    .dataframe thead th {\n",
       "        text-align: right;\n",
       "    }\n",
       "</style>\n",
       "<table border=\"1\" class=\"dataframe\">\n",
       "  <thead>\n",
       "    <tr style=\"text-align: right;\">\n",
       "      <th></th>\n",
       "      <th>Валидация</th>\n",
       "      <th>Тестирование</th>\n",
       "    </tr>\n",
       "  </thead>\n",
       "  <tbody>\n",
       "    <tr>\n",
       "      <td>smape_rougher</td>\n",
       "      <td>6.068829</td>\n",
       "      <td>4.356250</td>\n",
       "    </tr>\n",
       "    <tr>\n",
       "      <td>smape_final</td>\n",
       "      <td>8.803033</td>\n",
       "      <td>8.285081</td>\n",
       "    </tr>\n",
       "    <tr>\n",
       "      <td>smape_total</td>\n",
       "      <td>8.119482</td>\n",
       "      <td>7.302873</td>\n",
       "    </tr>\n",
       "  </tbody>\n",
       "</table>\n",
       "</div>"
      ],
      "text/plain": [
       "               Валидация  Тестирование\n",
       "smape_rougher   6.068829      4.356250\n",
       "smape_final     8.803033      8.285081\n",
       "smape_total     8.119482      7.302873"
      ]
     },
     "execution_count": 59,
     "metadata": {},
     "output_type": "execute_result"
    }
   ],
   "source": [
    "table_final = pd.DataFrame(\n",
    "    {\"Валидация\": [smape_valid_rougher_best, smape_valid_final_best, smape_valid_total], \n",
    "     \"Тестирование\": [smape_test_rougher_best, smape_test_final_best, smape_test_total]}, \n",
    "    index=[\"smape_rougher\", \"smape_final\", \"smape_total\"])\n",
    "table_final"
   ]
  },
  {
   "cell_type": "markdown",
   "metadata": {},
   "source": [
    "### Проверка моделей на адекватность"
   ]
  },
  {
   "cell_type": "markdown",
   "metadata": {},
   "source": [
    "Проверим отобранные лучшие модели на адекватность. Для этого сравним данные модели с медианной моделью. Значение итоговой sMAPE для медианной модели сохраним в переменной smape_median_total."
   ]
  },
  {
   "cell_type": "code",
   "execution_count": 60,
   "metadata": {},
   "outputs": [
    {
     "data": {
      "text/plain": [
       "7.195551775247316"
      ]
     },
     "execution_count": 60,
     "metadata": {},
     "output_type": "execute_result"
    }
   ],
   "source": [
    "median_rougher = pd.Series(Y_train_rougher.median(), index=Y_test_rougher.index)\n",
    "median_final = pd.Series(Y_train_final.median(), index=Y_test_final.index)\n",
    "smape_median_total = 0.25*smape(Y_test_rougher, median_rougher) + 0.75*smape(Y_test_final, median_final)\n",
    "smape_median_total"
   ]
  },
  {
   "cell_type": "markdown",
   "metadata": {},
   "source": [
    "sMAPE для медианной модели ниже, чем для лучших отобраных моделей (best_model_rougher, best_model_final) на обучающей и тестовой выборках. Рассмотрим подробнее распределение величин rougher.output.recovery и final.output.recovery, используя метод describe()."
   ]
  },
  {
   "cell_type": "code",
   "execution_count": 61,
   "metadata": {},
   "outputs": [
    {
     "data": {
      "text/plain": [
       "count    12323.000000\n",
       "mean        84.504099\n",
       "std          7.643070\n",
       "min          2.520854\n",
       "25%         80.379910\n",
       "50%         85.416560\n",
       "75%         90.004492\n",
       "max        100.000000\n",
       "Name: rougher.output.recovery, dtype: float64"
      ]
     },
     "execution_count": 61,
     "metadata": {},
     "output_type": "execute_result"
    }
   ],
   "source": [
    "train[\"rougher.output.recovery\"].describe()"
   ]
  },
  {
   "cell_type": "code",
   "execution_count": 62,
   "metadata": {},
   "outputs": [
    {
     "data": {
      "text/plain": [
       "count    12323.000000\n",
       "mean        66.973380\n",
       "std          8.433543\n",
       "min          6.778002\n",
       "25%         62.970450\n",
       "50%         67.473659\n",
       "75%         72.251861\n",
       "max        100.000000\n",
       "Name: final.output.recovery, dtype: float64"
      ]
     },
     "execution_count": 62,
     "metadata": {},
     "output_type": "execute_result"
    }
   ],
   "source": [
    "train[\"final.output.recovery\"].describe()"
   ]
  },
  {
   "cell_type": "markdown",
   "metadata": {},
   "source": [
    "Как видно из представленной статистики, переменные rougher.output.recovery и final.output.recovery имеют довольно слабый разброс. Не менее чем половина значений отклоняется от медианы на величину не более 5. Возможно этим объясняется высокое качество медианной модели. Тем не менее, показатели медианной модели, лучшие, чем у лучших отобранных моделей, говорят о низком относительном качестве последних. Возможно следует дополнительно рассмотреть модели, отличные от линейной регрессии и случайного леса. "
   ]
  },
  {
   "cell_type": "markdown",
   "metadata": {},
   "source": [
    "### Выводы"
   ]
  },
  {
   "cell_type": "markdown",
   "metadata": {},
   "source": [
    "1. Написана функция для расчета метрики качества sMAPE (подраздел 3.1).\n",
    "2. Выполнена подготовка данных для машинного обучения (подраздел 3.2). Обработаны выбросы в обучающем и тестовом датасете на основании результатов анализа данных (подразделы 2.3 и 2.4). Данные разделены на две группы - одна для обучения модели, другая для тестирования модели. В свою очередь каждая из указанных групп разделена еще на две подгруппы: одна для расчета \"rougher.output.recovery\" и другая - для расчета \"final.output.recovery\". Такое деление обусловлено тем, что для расчета \"final.output.recovery\" используются все признаки из тестовой выборки, а для расчета \"rougher.output.recovery\" только те, которые соответствуют стадии \"rougher\".\n",
    "3. С использованием метрики качества sMAPE и кросс-валидации выполнен поиск лучшей модели (подразделы 3.2 и 3.3). Всего рассматривалось два типа моделей: линейная регрессии и случайный лес. В итоге для расчета \"rougher.output.recovery\" лучшая модель - модель случайного леса с гиперпараметрами: n_estimators=50, max_depth=4 (sMAPE для данной модели равно 6,07). Для расчета \"final.output.recovery\" лучшая модель - модель случайного леса с гиперпараметрами: n_estimators=70, max_depth=4 (sMAPE для данной модели равно 8,80).\n",
    "4. Выполнено тестирование лучших отобранных моделей на тестовой выборке (подраздел 3.4). В итоге sMAPE на тестовой выборке составило  4,36 для \"rougher.output.recovery\" и 8,29 для \"final.output.recovery\".\n",
    "5. Выполнен расчет итогового sMAPE (подраздел 3.5). Согласно данному расчету, итоговый sMAPE равняется 8,11 для обучающей выборки и 7,3 для тестовой.\n",
    "6. С использованием медианной модели выполнена проверка лучших отобранных моделей на адекватность (подраздел 3.5). Согласно данной проверке, sMAPE для медианной модели составляет 7,20, что ниже, чем для sMAPE лучших отобранных моделей на обучающей выборке и тестовой выборках. Возможно высокое качество медианной модели обьясняется слабым разбросом переменных \"rougher.output.recovery\" и \"final.output.recovery\": не менее чем половина значений данных переменных отклоняется от медианы на величину не более 5. Тем не менее, показатели медианной модели, лучшие, чем у лучших отобранных моделей, говорят о низком относительном качестве последних. Возможно следует дополнительно рассмотреть модели, отличные от линейной регрессии и случайного леса."
   ]
  },
  {
   "cell_type": "markdown",
   "metadata": {},
   "source": [
    "## Чек-лист готовности проекта"
   ]
  },
  {
   "cell_type": "markdown",
   "metadata": {},
   "source": [
    "- [x]  Jupyter Notebook открыт\n",
    "- [x]  Весь код выполняется без ошибок\n",
    "- [x]  Ячейки с кодом расположены в порядке выполнения\n",
    "- [x]  Выполнен шаг 1: данные подготовлены\n",
    "    - [x]  Проверена формула вычисления эффективности обогащения\n",
    "    - [x]  Проанализированы признаки, недоступные в тестовой выборке\n",
    "    - [x]  Проведена предобработка данных\n",
    "- [x]  Выполнен шаг 2: данные проанализированы\n",
    "    - [x]  Исследовано изменение концентрации элементов на каждом этапе\n",
    "    - [x]  Проанализированы распределения размеров гранул на обучающей и тестовой выборках\n",
    "    - [x]  Исследованы суммарные концентрации\n",
    "- [x]  Выполнен шаг 3: построена модель прогнозирования\n",
    "    - [x]  Написана функция для вычисления итогового *sMAPE*\n",
    "    - [x]  Обучено и проверено несколько моделей\n",
    "    - [x]  Выбрана лучшая модель, её качество проверено на тестовой выборке"
   ]
  }
 ],
 "metadata": {
  "ExecuteTimeLog": [
   {
    "duration": 412,
    "start_time": "2021-07-01T06:59:20.571Z"
   },
   {
    "duration": 830,
    "start_time": "2021-07-01T06:59:33.543Z"
   },
   {
    "duration": 868,
    "start_time": "2021-07-01T06:59:34.376Z"
   },
   {
    "duration": 9,
    "start_time": "2021-07-01T06:59:35.247Z"
   },
   {
    "duration": 37,
    "start_time": "2021-07-01T06:59:35.258Z"
   },
   {
    "duration": 23,
    "start_time": "2021-07-01T06:59:35.298Z"
   },
   {
    "duration": 360,
    "start_time": "2021-07-01T06:59:35.324Z"
   },
   {
    "duration": 13,
    "start_time": "2021-07-01T09:17:34.826Z"
   },
   {
    "duration": 12,
    "start_time": "2021-07-01T09:17:49.675Z"
   },
   {
    "duration": 12,
    "start_time": "2021-07-01T09:20:09.522Z"
   },
   {
    "duration": 991,
    "start_time": "2021-07-01T09:36:26.772Z"
   },
   {
    "duration": 880,
    "start_time": "2021-07-01T09:36:27.768Z"
   },
   {
    "duration": 7,
    "start_time": "2021-07-01T09:36:28.651Z"
   },
   {
    "duration": 11,
    "start_time": "2021-07-01T09:36:28.662Z"
   },
   {
    "duration": 35,
    "start_time": "2021-07-01T09:36:28.676Z"
   },
   {
    "duration": 58,
    "start_time": "2021-07-01T09:36:28.714Z"
   },
   {
    "duration": 90,
    "start_time": "2021-07-01T09:36:28.775Z"
   },
   {
    "duration": 25,
    "start_time": "2021-07-01T09:36:47.443Z"
   },
   {
    "duration": 955,
    "start_time": "2021-07-01T09:41:49.349Z"
   },
   {
    "duration": 909,
    "start_time": "2021-07-01T09:41:50.307Z"
   },
   {
    "duration": 5,
    "start_time": "2021-07-01T09:41:51.220Z"
   },
   {
    "duration": 7,
    "start_time": "2021-07-01T09:41:51.229Z"
   },
   {
    "duration": 106,
    "start_time": "2021-07-01T09:41:51.257Z"
   },
   {
    "duration": 27,
    "start_time": "2021-07-01T09:41:51.366Z"
   },
   {
    "duration": 19,
    "start_time": "2021-07-01T09:41:51.396Z"
   },
   {
    "duration": 18,
    "start_time": "2021-07-01T09:43:15.758Z"
   },
   {
    "duration": 14,
    "start_time": "2021-07-01T09:43:22.290Z"
   },
   {
    "duration": 15,
    "start_time": "2021-07-01T09:44:09.702Z"
   },
   {
    "duration": 121,
    "start_time": "2021-07-01T09:44:19.202Z"
   },
   {
    "duration": 15,
    "start_time": "2021-07-01T09:44:35.588Z"
   },
   {
    "duration": 80,
    "start_time": "2021-07-01T09:47:42.969Z"
   },
   {
    "duration": 7,
    "start_time": "2021-07-01T09:48:00.962Z"
   },
   {
    "duration": 77,
    "start_time": "2021-07-01T14:04:45.382Z"
   },
   {
    "duration": 8,
    "start_time": "2021-07-01T14:04:53.887Z"
   },
   {
    "duration": 7,
    "start_time": "2021-07-01T15:53:55.267Z"
   },
   {
    "duration": 6,
    "start_time": "2021-07-01T15:55:04.428Z"
   },
   {
    "duration": 7,
    "start_time": "2021-07-01T15:56:18.430Z"
   },
   {
    "duration": 471,
    "start_time": "2021-07-01T15:57:56.834Z"
   },
   {
    "duration": 89,
    "start_time": "2021-07-01T15:59:08.529Z"
   },
   {
    "duration": 5,
    "start_time": "2021-07-01T15:59:17.921Z"
   },
   {
    "duration": 6,
    "start_time": "2021-07-01T15:59:47.282Z"
   },
   {
    "duration": 7,
    "start_time": "2021-07-01T16:16:07.737Z"
   },
   {
    "duration": 6,
    "start_time": "2021-07-01T16:16:35.419Z"
   },
   {
    "duration": 7,
    "start_time": "2021-07-01T18:07:43.042Z"
   },
   {
    "duration": 8,
    "start_time": "2021-07-01T18:07:55.198Z"
   },
   {
    "duration": 17,
    "start_time": "2021-07-01T18:10:49.106Z"
   },
   {
    "duration": 29,
    "start_time": "2021-07-01T20:38:08.001Z"
   },
   {
    "duration": 273,
    "start_time": "2021-07-01T20:39:55.714Z"
   },
   {
    "duration": 5,
    "start_time": "2021-07-01T20:40:03.635Z"
   },
   {
    "duration": 259,
    "start_time": "2021-07-01T20:40:04.307Z"
   },
   {
    "duration": 6,
    "start_time": "2021-07-01T20:40:36.903Z"
   },
   {
    "duration": 6,
    "start_time": "2021-07-01T20:40:51.229Z"
   },
   {
    "duration": 1490,
    "start_time": "2021-07-02T15:06:01.777Z"
   },
   {
    "duration": 1014,
    "start_time": "2021-07-02T15:06:03.270Z"
   },
   {
    "duration": 5,
    "start_time": "2021-07-02T15:06:04.291Z"
   },
   {
    "duration": 17,
    "start_time": "2021-07-02T15:06:04.299Z"
   },
   {
    "duration": 10,
    "start_time": "2021-07-02T15:06:04.319Z"
   },
   {
    "duration": 43,
    "start_time": "2021-07-02T15:06:04.332Z"
   },
   {
    "duration": 9,
    "start_time": "2021-07-02T15:06:04.379Z"
   },
   {
    "duration": 6,
    "start_time": "2021-07-02T15:06:04.391Z"
   },
   {
    "duration": 11,
    "start_time": "2021-07-02T15:06:04.400Z"
   },
   {
    "duration": 8,
    "start_time": "2021-07-02T15:06:04.413Z"
   },
   {
    "duration": 11,
    "start_time": "2021-07-02T15:06:04.467Z"
   },
   {
    "duration": 14,
    "start_time": "2021-07-02T15:06:04.481Z"
   },
   {
    "duration": 116,
    "start_time": "2021-07-02T15:06:04.498Z"
   },
   {
    "duration": 24,
    "start_time": "2021-07-02T15:06:04.616Z"
   },
   {
    "duration": 41,
    "start_time": "2021-07-02T15:06:04.642Z"
   },
   {
    "duration": 17,
    "start_time": "2021-07-02T15:06:04.686Z"
   },
   {
    "duration": 30,
    "start_time": "2021-07-02T15:06:04.705Z"
   },
   {
    "duration": 31,
    "start_time": "2021-07-02T15:06:04.738Z"
   },
   {
    "duration": 9,
    "start_time": "2021-07-02T15:06:04.773Z"
   },
   {
    "duration": 6,
    "start_time": "2021-07-02T15:06:04.785Z"
   },
   {
    "duration": 19,
    "start_time": "2021-07-02T15:06:04.793Z"
   },
   {
    "duration": 541,
    "start_time": "2021-07-02T15:06:04.816Z"
   },
   {
    "duration": 8,
    "start_time": "2021-07-02T15:06:37.724Z"
   },
   {
    "duration": 11,
    "start_time": "2021-07-02T15:07:13.340Z"
   },
   {
    "duration": 340,
    "start_time": "2021-07-02T15:19:20.013Z"
   },
   {
    "duration": 5,
    "start_time": "2021-07-02T15:21:06.767Z"
   },
   {
    "duration": 4,
    "start_time": "2021-07-02T15:23:01.327Z"
   },
   {
    "duration": 311,
    "start_time": "2021-07-02T15:24:26.484Z"
   },
   {
    "duration": 6,
    "start_time": "2021-07-02T15:25:08.126Z"
   },
   {
    "duration": 154,
    "start_time": "2021-07-02T15:50:09.823Z"
   },
   {
    "duration": 7,
    "start_time": "2021-07-02T15:50:32.817Z"
   },
   {
    "duration": 92,
    "start_time": "2021-07-02T16:03:10.002Z"
   },
   {
    "duration": 982,
    "start_time": "2021-07-04T20:25:21.914Z"
   },
   {
    "duration": 629,
    "start_time": "2021-07-04T20:25:22.897Z"
   },
   {
    "duration": 3,
    "start_time": "2021-07-04T20:25:23.528Z"
   },
   {
    "duration": 7,
    "start_time": "2021-07-04T20:25:23.533Z"
   },
   {
    "duration": 142,
    "start_time": "2021-07-04T20:25:23.542Z"
   },
   {
    "duration": 9,
    "start_time": "2021-07-04T20:25:23.685Z"
   },
   {
    "duration": 8,
    "start_time": "2021-07-04T20:25:23.695Z"
   },
   {
    "duration": 7,
    "start_time": "2021-07-04T20:25:23.705Z"
   },
   {
    "duration": 14,
    "start_time": "2021-07-04T20:25:23.713Z"
   },
   {
    "duration": 2,
    "start_time": "2021-07-04T20:25:23.729Z"
   },
   {
    "duration": 5,
    "start_time": "2021-07-04T20:25:23.733Z"
   },
   {
    "duration": 6,
    "start_time": "2021-07-04T20:25:23.740Z"
   },
   {
    "duration": 10,
    "start_time": "2021-07-04T20:25:23.747Z"
   },
   {
    "duration": 38,
    "start_time": "2021-07-04T20:25:23.758Z"
   },
   {
    "duration": 4,
    "start_time": "2021-07-04T20:25:23.797Z"
   },
   {
    "duration": 11,
    "start_time": "2021-07-04T20:29:54.446Z"
   },
   {
    "duration": 32,
    "start_time": "2021-07-04T20:30:42.044Z"
   },
   {
    "duration": 16,
    "start_time": "2021-07-04T20:31:17.724Z"
   },
   {
    "duration": 543,
    "start_time": "2021-07-04T20:31:31.016Z"
   },
   {
    "duration": 26,
    "start_time": "2021-07-04T20:32:13.971Z"
   },
   {
    "duration": 80,
    "start_time": "2021-07-04T20:32:29.934Z"
   },
   {
    "duration": 25,
    "start_time": "2021-07-04T20:32:57.399Z"
   },
   {
    "duration": 314,
    "start_time": "2021-07-04T20:58:45.680Z"
   },
   {
    "duration": 1028,
    "start_time": "2021-07-05T11:12:06.653Z"
   },
   {
    "duration": 1707,
    "start_time": "2021-07-05T11:12:07.683Z"
   },
   {
    "duration": 3,
    "start_time": "2021-07-05T11:12:09.393Z"
   },
   {
    "duration": 7,
    "start_time": "2021-07-05T11:12:09.398Z"
   },
   {
    "duration": 37,
    "start_time": "2021-07-05T11:12:09.407Z"
   },
   {
    "duration": 4,
    "start_time": "2021-07-05T11:12:09.445Z"
   },
   {
    "duration": 7,
    "start_time": "2021-07-05T11:12:09.451Z"
   },
   {
    "duration": 28,
    "start_time": "2021-07-05T11:12:09.460Z"
   },
   {
    "duration": 14,
    "start_time": "2021-07-05T11:12:09.490Z"
   },
   {
    "duration": 3,
    "start_time": "2021-07-05T11:12:09.505Z"
   },
   {
    "duration": 6,
    "start_time": "2021-07-05T11:12:09.510Z"
   },
   {
    "duration": 6,
    "start_time": "2021-07-05T11:12:09.518Z"
   },
   {
    "duration": 9,
    "start_time": "2021-07-05T11:12:09.525Z"
   },
   {
    "duration": 7,
    "start_time": "2021-07-05T11:12:09.536Z"
   },
   {
    "duration": 42,
    "start_time": "2021-07-05T11:12:09.545Z"
   },
   {
    "duration": 13,
    "start_time": "2021-07-05T11:22:16.634Z"
   },
   {
    "duration": 273,
    "start_time": "2021-07-05T14:46:32.512Z"
   },
   {
    "duration": 8,
    "start_time": "2021-07-05T15:00:54.468Z"
   },
   {
    "duration": 8,
    "start_time": "2021-07-05T15:02:58.335Z"
   },
   {
    "duration": 12,
    "start_time": "2021-07-05T15:06:15.411Z"
   },
   {
    "duration": 16,
    "start_time": "2021-07-05T15:18:11.586Z"
   },
   {
    "duration": 194,
    "start_time": "2021-07-05T15:20:26.463Z"
   },
   {
    "duration": 186,
    "start_time": "2021-07-05T15:20:43.629Z"
   },
   {
    "duration": 10,
    "start_time": "2021-07-05T15:20:57.325Z"
   },
   {
    "duration": 15,
    "start_time": "2021-07-05T15:21:45.369Z"
   },
   {
    "duration": 16,
    "start_time": "2021-07-05T15:21:58.840Z"
   },
   {
    "duration": 200,
    "start_time": "2021-07-05T15:38:57.821Z"
   },
   {
    "duration": 4696,
    "start_time": "2021-07-05T15:39:07.965Z"
   },
   {
    "duration": 4401,
    "start_time": "2021-07-05T15:39:26.847Z"
   },
   {
    "duration": 190,
    "start_time": "2021-07-05T15:39:54.514Z"
   },
   {
    "duration": 28,
    "start_time": "2021-07-05T15:40:11.833Z"
   },
   {
    "duration": 1170,
    "start_time": "2021-07-05T16:01:38.325Z"
   },
   {
    "duration": 931,
    "start_time": "2021-07-05T16:01:39.502Z"
   },
   {
    "duration": 3,
    "start_time": "2021-07-05T16:01:40.435Z"
   },
   {
    "duration": 4,
    "start_time": "2021-07-05T16:01:40.440Z"
   },
   {
    "duration": 58,
    "start_time": "2021-07-05T16:01:40.446Z"
   },
   {
    "duration": 5,
    "start_time": "2021-07-05T16:01:40.507Z"
   },
   {
    "duration": 15,
    "start_time": "2021-07-05T16:01:40.515Z"
   },
   {
    "duration": 6,
    "start_time": "2021-07-05T16:01:40.532Z"
   },
   {
    "duration": 15,
    "start_time": "2021-07-05T16:01:40.540Z"
   },
   {
    "duration": 3,
    "start_time": "2021-07-05T16:01:40.557Z"
   },
   {
    "duration": 31,
    "start_time": "2021-07-05T16:01:40.561Z"
   },
   {
    "duration": 13,
    "start_time": "2021-07-05T16:01:40.596Z"
   },
   {
    "duration": 13,
    "start_time": "2021-07-05T16:01:40.611Z"
   },
   {
    "duration": 10,
    "start_time": "2021-07-05T16:01:40.626Z"
   },
   {
    "duration": 6,
    "start_time": "2021-07-05T16:01:40.638Z"
   },
   {
    "duration": 44,
    "start_time": "2021-07-05T16:01:40.646Z"
   },
   {
    "duration": 31,
    "start_time": "2021-07-05T16:01:40.699Z"
   },
   {
    "duration": 19,
    "start_time": "2021-07-05T16:02:19.913Z"
   },
   {
    "duration": 58,
    "start_time": "2021-07-05T17:22:13.724Z"
   },
   {
    "duration": 58,
    "start_time": "2021-07-05T17:23:02.569Z"
   },
   {
    "duration": 61,
    "start_time": "2021-07-05T17:23:27.760Z"
   },
   {
    "duration": 4,
    "start_time": "2021-07-05T17:44:21.341Z"
   },
   {
    "duration": 166,
    "start_time": "2021-07-05T17:44:39.556Z"
   },
   {
    "duration": 170,
    "start_time": "2021-07-05T17:46:38.247Z"
   },
   {
    "duration": 189,
    "start_time": "2021-07-05T17:47:26.670Z"
   },
   {
    "duration": 222,
    "start_time": "2021-07-05T17:49:23.627Z"
   },
   {
    "duration": 204,
    "start_time": "2021-07-05T17:49:47.186Z"
   },
   {
    "duration": 206,
    "start_time": "2021-07-05T17:56:36.132Z"
   },
   {
    "duration": 442,
    "start_time": "2021-07-05T17:56:59.820Z"
   },
   {
    "duration": 260,
    "start_time": "2021-07-05T17:57:07.924Z"
   },
   {
    "duration": 214,
    "start_time": "2021-07-05T18:01:56.885Z"
   },
   {
    "duration": 207,
    "start_time": "2021-07-05T18:02:02.520Z"
   },
   {
    "duration": 220,
    "start_time": "2021-07-05T18:02:28.567Z"
   },
   {
    "duration": 224,
    "start_time": "2021-07-05T18:03:00.436Z"
   },
   {
    "duration": 225,
    "start_time": "2021-07-05T18:03:14.748Z"
   },
   {
    "duration": 216,
    "start_time": "2021-07-05T20:18:37.589Z"
   },
   {
    "duration": 4,
    "start_time": "2021-07-05T20:19:31.982Z"
   },
   {
    "duration": 3,
    "start_time": "2021-07-05T20:19:49.053Z"
   },
   {
    "duration": 500,
    "start_time": "2021-07-06T08:11:02.720Z"
   },
   {
    "duration": 1770,
    "start_time": "2021-07-06T08:11:16.873Z"
   },
   {
    "duration": 1744,
    "start_time": "2021-07-06T08:11:18.645Z"
   },
   {
    "duration": 6,
    "start_time": "2021-07-06T08:11:20.393Z"
   },
   {
    "duration": 7,
    "start_time": "2021-07-06T08:11:20.403Z"
   },
   {
    "duration": 120,
    "start_time": "2021-07-06T08:11:20.413Z"
   },
   {
    "duration": 6,
    "start_time": "2021-07-06T08:11:20.535Z"
   },
   {
    "duration": 26,
    "start_time": "2021-07-06T08:11:20.544Z"
   },
   {
    "duration": 12,
    "start_time": "2021-07-06T08:11:20.581Z"
   },
   {
    "duration": 27,
    "start_time": "2021-07-06T08:11:20.596Z"
   },
   {
    "duration": 5,
    "start_time": "2021-07-06T08:11:20.625Z"
   },
   {
    "duration": 44,
    "start_time": "2021-07-06T08:11:20.632Z"
   },
   {
    "duration": 31,
    "start_time": "2021-07-06T08:11:20.680Z"
   },
   {
    "duration": 12,
    "start_time": "2021-07-06T08:11:20.714Z"
   },
   {
    "duration": 13,
    "start_time": "2021-07-06T08:11:20.729Z"
   },
   {
    "duration": 32,
    "start_time": "2021-07-06T08:11:20.745Z"
   },
   {
    "duration": 37,
    "start_time": "2021-07-06T08:11:20.780Z"
   },
   {
    "duration": 23,
    "start_time": "2021-07-06T08:11:20.820Z"
   },
   {
    "duration": 450,
    "start_time": "2021-07-06T08:11:20.846Z"
   },
   {
    "duration": 295,
    "start_time": "2021-07-06T08:11:21.298Z"
   },
   {
    "duration": 510,
    "start_time": "2021-07-06T08:12:32.986Z"
   },
   {
    "duration": 1728,
    "start_time": "2021-07-06T08:53:28.311Z"
   },
   {
    "duration": 1433,
    "start_time": "2021-07-06T08:54:23.958Z"
   },
   {
    "duration": 1558,
    "start_time": "2021-07-06T08:54:32.576Z"
   },
   {
    "duration": 1575,
    "start_time": "2021-07-06T09:33:28.159Z"
   },
   {
    "duration": 1835,
    "start_time": "2021-07-06T09:33:44.687Z"
   },
   {
    "duration": 910,
    "start_time": "2021-07-06T09:34:55.513Z"
   },
   {
    "duration": 853,
    "start_time": "2021-07-06T09:40:32.977Z"
   },
   {
    "duration": 8,
    "start_time": "2021-07-06T09:41:01.190Z"
   },
   {
    "duration": 22,
    "start_time": "2021-07-06T09:41:54.304Z"
   },
   {
    "duration": 25,
    "start_time": "2021-07-06T09:42:23.263Z"
   },
   {
    "duration": 858,
    "start_time": "2021-07-06T09:46:12.582Z"
   },
   {
    "duration": 1711,
    "start_time": "2021-07-06T09:46:23.268Z"
   },
   {
    "duration": 9,
    "start_time": "2021-07-06T09:48:20.847Z"
   },
   {
    "duration": 3306,
    "start_time": "2021-07-06T09:54:40.011Z"
   },
   {
    "duration": 3135,
    "start_time": "2021-07-06T09:54:54.449Z"
   },
   {
    "duration": 3507,
    "start_time": "2021-07-06T09:56:42.189Z"
   },
   {
    "duration": 109,
    "start_time": "2021-07-06T10:01:06.546Z"
   },
   {
    "duration": 3099,
    "start_time": "2021-07-06T10:01:12.395Z"
   },
   {
    "duration": 3253,
    "start_time": "2021-07-06T10:05:09.233Z"
   },
   {
    "duration": 4049,
    "start_time": "2021-07-06T10:05:37.534Z"
   },
   {
    "duration": 3735,
    "start_time": "2021-07-06T10:08:16.804Z"
   },
   {
    "duration": 3735,
    "start_time": "2021-07-06T10:09:33.750Z"
   },
   {
    "duration": 4771,
    "start_time": "2021-07-06T10:13:27.269Z"
   },
   {
    "duration": 4072,
    "start_time": "2021-07-06T10:13:41.026Z"
   },
   {
    "duration": 1712,
    "start_time": "2021-07-06T10:16:25.998Z"
   },
   {
    "duration": 3836,
    "start_time": "2021-07-06T10:17:45.560Z"
   },
   {
    "duration": 3816,
    "start_time": "2021-07-06T10:19:46.361Z"
   },
   {
    "duration": 3816,
    "start_time": "2021-07-06T10:20:20.388Z"
   },
   {
    "duration": 3905,
    "start_time": "2021-07-06T10:26:54.757Z"
   },
   {
    "duration": 3694,
    "start_time": "2021-07-06T10:30:03.458Z"
   },
   {
    "duration": 3822,
    "start_time": "2021-07-06T10:30:13.198Z"
   },
   {
    "duration": 1427,
    "start_time": "2021-07-06T10:34:08.370Z"
   },
   {
    "duration": 3720,
    "start_time": "2021-07-06T10:34:34.623Z"
   },
   {
    "duration": 15,
    "start_time": "2021-07-06T11:28:49.629Z"
   },
   {
    "duration": 93,
    "start_time": "2021-07-06T11:32:13.957Z"
   },
   {
    "duration": 91,
    "start_time": "2021-07-06T11:32:35.156Z"
   },
   {
    "duration": 63,
    "start_time": "2021-07-06T11:33:10.286Z"
   },
   {
    "duration": 10,
    "start_time": "2021-07-06T11:34:27.550Z"
   },
   {
    "duration": 10,
    "start_time": "2021-07-06T11:48:30.843Z"
   },
   {
    "duration": 18,
    "start_time": "2021-07-06T11:49:01.544Z"
   },
   {
    "duration": 14,
    "start_time": "2021-07-06T11:49:54.019Z"
   },
   {
    "duration": 14,
    "start_time": "2021-07-06T11:50:04.803Z"
   },
   {
    "duration": 11,
    "start_time": "2021-07-06T11:50:36.471Z"
   },
   {
    "duration": 17,
    "start_time": "2021-07-06T11:50:39.529Z"
   },
   {
    "duration": 1966,
    "start_time": "2021-07-06T15:41:18.664Z"
   },
   {
    "duration": 1256,
    "start_time": "2021-07-06T15:41:20.634Z"
   },
   {
    "duration": 6,
    "start_time": "2021-07-06T15:41:21.894Z"
   },
   {
    "duration": 19,
    "start_time": "2021-07-06T15:41:21.903Z"
   },
   {
    "duration": 101,
    "start_time": "2021-07-06T15:41:21.925Z"
   },
   {
    "duration": 8,
    "start_time": "2021-07-06T15:41:22.029Z"
   },
   {
    "duration": 30,
    "start_time": "2021-07-06T15:41:22.040Z"
   },
   {
    "duration": 10,
    "start_time": "2021-07-06T15:41:22.076Z"
   },
   {
    "duration": 33,
    "start_time": "2021-07-06T15:41:22.090Z"
   },
   {
    "duration": 43,
    "start_time": "2021-07-06T15:41:22.127Z"
   },
   {
    "duration": 14,
    "start_time": "2021-07-06T15:41:22.174Z"
   },
   {
    "duration": 6,
    "start_time": "2021-07-06T15:41:22.191Z"
   },
   {
    "duration": 9,
    "start_time": "2021-07-06T15:41:22.200Z"
   },
   {
    "duration": 16,
    "start_time": "2021-07-06T15:41:22.212Z"
   },
   {
    "duration": 42,
    "start_time": "2021-07-06T15:41:22.230Z"
   },
   {
    "duration": 11,
    "start_time": "2021-07-06T15:41:22.275Z"
   },
   {
    "duration": 7,
    "start_time": "2021-07-06T15:41:22.288Z"
   },
   {
    "duration": 65,
    "start_time": "2021-07-06T15:41:22.298Z"
   },
   {
    "duration": 27,
    "start_time": "2021-07-06T15:41:22.366Z"
   },
   {
    "duration": 401,
    "start_time": "2021-07-06T15:41:22.395Z"
   },
   {
    "duration": 472,
    "start_time": "2021-07-06T15:41:22.799Z"
   },
   {
    "duration": 3848,
    "start_time": "2021-07-06T15:41:23.274Z"
   },
   {
    "duration": 7,
    "start_time": "2021-07-06T15:41:27.126Z"
   },
   {
    "duration": 18,
    "start_time": "2021-07-06T15:44:18.688Z"
   },
   {
    "duration": 16,
    "start_time": "2021-07-06T15:44:34.994Z"
   },
   {
    "duration": 100,
    "start_time": "2021-07-06T15:45:09.638Z"
   },
   {
    "duration": 519,
    "start_time": "2021-07-06T16:09:35.759Z"
   },
   {
    "duration": 14,
    "start_time": "2021-07-06T16:09:55.038Z"
   },
   {
    "duration": 98,
    "start_time": "2021-07-06T16:11:14.785Z"
   },
   {
    "duration": 15,
    "start_time": "2021-07-06T16:12:37.489Z"
   },
   {
    "duration": 15,
    "start_time": "2021-07-06T16:12:47.415Z"
   },
   {
    "duration": 15,
    "start_time": "2021-07-06T16:13:34.513Z"
   },
   {
    "duration": 12,
    "start_time": "2021-07-06T17:41:55.712Z"
   },
   {
    "duration": 10,
    "start_time": "2021-07-06T17:42:14.693Z"
   },
   {
    "duration": 13,
    "start_time": "2021-07-06T17:42:26.759Z"
   },
   {
    "duration": 10,
    "start_time": "2021-07-06T17:42:54.283Z"
   },
   {
    "duration": 342,
    "start_time": "2021-07-06T17:43:31.890Z"
   },
   {
    "duration": 10,
    "start_time": "2021-07-06T17:43:50.180Z"
   },
   {
    "duration": 12,
    "start_time": "2021-07-06T17:44:23.413Z"
   },
   {
    "duration": 8,
    "start_time": "2021-07-06T17:44:47.073Z"
   },
   {
    "duration": 144,
    "start_time": "2021-07-06T17:51:53.944Z"
   },
   {
    "duration": 347,
    "start_time": "2021-07-06T18:46:48.195Z"
   },
   {
    "duration": 318,
    "start_time": "2021-07-06T18:46:54.768Z"
   },
   {
    "duration": 45,
    "start_time": "2021-07-06T18:49:19.537Z"
   },
   {
    "duration": 1476,
    "start_time": "2021-07-06T18:57:15.587Z"
   },
   {
    "duration": 884,
    "start_time": "2021-07-06T18:57:17.065Z"
   },
   {
    "duration": 9,
    "start_time": "2021-07-06T18:57:17.953Z"
   },
   {
    "duration": 5,
    "start_time": "2021-07-06T18:57:17.965Z"
   },
   {
    "duration": 62,
    "start_time": "2021-07-06T18:57:17.973Z"
   },
   {
    "duration": 4,
    "start_time": "2021-07-06T18:57:18.063Z"
   },
   {
    "duration": 14,
    "start_time": "2021-07-06T18:57:18.070Z"
   },
   {
    "duration": 10,
    "start_time": "2021-07-06T18:57:18.089Z"
   },
   {
    "duration": 13,
    "start_time": "2021-07-06T18:57:18.103Z"
   },
   {
    "duration": 45,
    "start_time": "2021-07-06T18:57:18.118Z"
   },
   {
    "duration": 7,
    "start_time": "2021-07-06T18:57:18.165Z"
   },
   {
    "duration": 9,
    "start_time": "2021-07-06T18:57:18.175Z"
   },
   {
    "duration": 7,
    "start_time": "2021-07-06T18:57:18.186Z"
   },
   {
    "duration": 14,
    "start_time": "2021-07-06T18:57:18.195Z"
   },
   {
    "duration": 61,
    "start_time": "2021-07-06T18:57:18.211Z"
   },
   {
    "duration": 15,
    "start_time": "2021-07-06T18:57:18.274Z"
   },
   {
    "duration": 11,
    "start_time": "2021-07-06T18:57:18.291Z"
   },
   {
    "duration": 60,
    "start_time": "2021-07-06T18:57:18.305Z"
   },
   {
    "duration": 23,
    "start_time": "2021-07-06T18:57:18.368Z"
   },
   {
    "duration": 21,
    "start_time": "2021-07-06T18:57:18.394Z"
   },
   {
    "duration": 22,
    "start_time": "2021-07-06T18:57:18.418Z"
   },
   {
    "duration": 14,
    "start_time": "2021-07-06T18:57:18.463Z"
   },
   {
    "duration": 11,
    "start_time": "2021-07-06T18:57:18.483Z"
   },
   {
    "duration": 11,
    "start_time": "2021-07-06T18:57:18.498Z"
   },
   {
    "duration": 58,
    "start_time": "2021-07-06T18:57:18.512Z"
   },
   {
    "duration": 11,
    "start_time": "2021-07-06T18:57:18.572Z"
   },
   {
    "duration": 20,
    "start_time": "2021-07-06T18:57:18.585Z"
   },
   {
    "duration": 60,
    "start_time": "2021-07-06T18:57:18.607Z"
   },
   {
    "duration": 379,
    "start_time": "2021-07-06T18:57:18.669Z"
   },
   {
    "duration": 472,
    "start_time": "2021-07-06T18:57:19.050Z"
   },
   {
    "duration": 5024,
    "start_time": "2021-07-06T18:57:19.525Z"
   },
   {
    "duration": 15,
    "start_time": "2021-07-06T18:57:24.552Z"
   },
   {
    "duration": 9,
    "start_time": "2021-07-06T19:49:14.320Z"
   },
   {
    "duration": 8234,
    "start_time": "2021-07-06T19:49:41.444Z"
   },
   {
    "duration": 13,
    "start_time": "2021-07-06T19:50:11.715Z"
   },
   {
    "duration": 116,
    "start_time": "2021-07-06T19:51:18.239Z"
   },
   {
    "duration": 1067,
    "start_time": "2021-07-07T07:55:43.544Z"
   },
   {
    "duration": 687,
    "start_time": "2021-07-07T07:55:44.613Z"
   },
   {
    "duration": 3,
    "start_time": "2021-07-07T07:55:45.302Z"
   },
   {
    "duration": 9,
    "start_time": "2021-07-07T07:55:45.307Z"
   },
   {
    "duration": 37,
    "start_time": "2021-07-07T07:55:45.317Z"
   },
   {
    "duration": 3,
    "start_time": "2021-07-07T07:55:45.356Z"
   },
   {
    "duration": 7,
    "start_time": "2021-07-07T07:55:45.360Z"
   },
   {
    "duration": 10,
    "start_time": "2021-07-07T07:55:45.385Z"
   },
   {
    "duration": 7,
    "start_time": "2021-07-07T07:55:45.397Z"
   },
   {
    "duration": 5,
    "start_time": "2021-07-07T07:55:45.405Z"
   },
   {
    "duration": 5,
    "start_time": "2021-07-07T07:55:45.411Z"
   },
   {
    "duration": 4,
    "start_time": "2021-07-07T07:55:45.417Z"
   },
   {
    "duration": 5,
    "start_time": "2021-07-07T07:55:45.422Z"
   },
   {
    "duration": 58,
    "start_time": "2021-07-07T07:55:45.428Z"
   },
   {
    "duration": 10,
    "start_time": "2021-07-07T07:55:45.487Z"
   },
   {
    "duration": 7,
    "start_time": "2021-07-07T07:55:45.499Z"
   },
   {
    "duration": 19,
    "start_time": "2021-07-07T07:55:45.508Z"
   },
   {
    "duration": 56,
    "start_time": "2021-07-07T07:55:45.529Z"
   },
   {
    "duration": 10,
    "start_time": "2021-07-07T07:55:45.586Z"
   },
   {
    "duration": 15,
    "start_time": "2021-07-07T07:55:45.598Z"
   },
   {
    "duration": 9,
    "start_time": "2021-07-07T07:55:45.615Z"
   },
   {
    "duration": 9,
    "start_time": "2021-07-07T07:55:45.626Z"
   },
   {
    "duration": 6,
    "start_time": "2021-07-07T07:55:45.638Z"
   },
   {
    "duration": 39,
    "start_time": "2021-07-07T07:55:45.646Z"
   },
   {
    "duration": 8,
    "start_time": "2021-07-07T07:55:45.686Z"
   },
   {
    "duration": 8,
    "start_time": "2021-07-07T07:55:45.696Z"
   },
   {
    "duration": 6,
    "start_time": "2021-07-07T07:55:45.705Z"
   },
   {
    "duration": 8,
    "start_time": "2021-07-07T07:55:45.713Z"
   },
   {
    "duration": 62,
    "start_time": "2021-07-07T07:55:45.723Z"
   },
   {
    "duration": 3236,
    "start_time": "2021-07-07T07:55:42.550Z"
   },
   {
    "duration": 3233,
    "start_time": "2021-07-07T07:55:42.554Z"
   },
   {
    "duration": 3229,
    "start_time": "2021-07-07T07:55:42.559Z"
   },
   {
    "duration": 3208,
    "start_time": "2021-07-07T07:55:42.581Z"
   },
   {
    "duration": 3201,
    "start_time": "2021-07-07T07:55:42.589Z"
   },
   {
    "duration": 3173,
    "start_time": "2021-07-07T07:55:42.618Z"
   },
   {
    "duration": 25,
    "start_time": "2021-07-07T07:57:00.285Z"
   },
   {
    "duration": 9,
    "start_time": "2021-07-07T09:23:01.830Z"
   },
   {
    "duration": 37,
    "start_time": "2021-07-07T09:23:12.212Z"
   },
   {
    "duration": 40,
    "start_time": "2021-07-07T09:23:31.155Z"
   },
   {
    "duration": 1112,
    "start_time": "2021-07-07T09:25:17.729Z"
   },
   {
    "duration": 704,
    "start_time": "2021-07-07T09:25:18.843Z"
   },
   {
    "duration": 25,
    "start_time": "2021-07-07T09:25:19.548Z"
   },
   {
    "duration": 26,
    "start_time": "2021-07-07T09:25:19.575Z"
   },
   {
    "duration": 19,
    "start_time": "2021-07-07T09:25:19.603Z"
   },
   {
    "duration": 7,
    "start_time": "2021-07-07T09:25:19.623Z"
   },
   {
    "duration": 5,
    "start_time": "2021-07-07T09:25:19.631Z"
   },
   {
    "duration": 56,
    "start_time": "2021-07-07T09:25:19.638Z"
   },
   {
    "duration": 3,
    "start_time": "2021-07-07T09:25:19.696Z"
   },
   {
    "duration": 7,
    "start_time": "2021-07-07T09:25:19.701Z"
   },
   {
    "duration": 10,
    "start_time": "2021-07-07T09:25:19.710Z"
   },
   {
    "duration": 8,
    "start_time": "2021-07-07T09:25:19.721Z"
   },
   {
    "duration": 8,
    "start_time": "2021-07-07T09:25:19.730Z"
   },
   {
    "duration": 5,
    "start_time": "2021-07-07T09:25:19.739Z"
   },
   {
    "duration": 5,
    "start_time": "2021-07-07T09:25:19.745Z"
   },
   {
    "duration": 4,
    "start_time": "2021-07-07T09:25:19.786Z"
   },
   {
    "duration": 14,
    "start_time": "2021-07-07T09:25:19.792Z"
   },
   {
    "duration": 10,
    "start_time": "2021-07-07T09:25:19.807Z"
   },
   {
    "duration": 7,
    "start_time": "2021-07-07T09:25:19.819Z"
   },
   {
    "duration": 17,
    "start_time": "2021-07-07T09:25:19.827Z"
   },
   {
    "duration": 68,
    "start_time": "2021-07-07T09:25:19.845Z"
   },
   {
    "duration": 7,
    "start_time": "2021-07-07T09:25:19.915Z"
   },
   {
    "duration": 40,
    "start_time": "2021-07-07T09:25:19.925Z"
   },
   {
    "duration": 38,
    "start_time": "2021-07-07T09:25:19.985Z"
   },
   {
    "duration": 10,
    "start_time": "2021-07-07T09:25:20.025Z"
   },
   {
    "duration": 18,
    "start_time": "2021-07-07T09:25:20.037Z"
   },
   {
    "duration": 34,
    "start_time": "2021-07-07T09:25:20.056Z"
   },
   {
    "duration": 10,
    "start_time": "2021-07-07T09:25:20.091Z"
   },
   {
    "duration": 7,
    "start_time": "2021-07-07T09:25:20.102Z"
   },
   {
    "duration": 10,
    "start_time": "2021-07-07T09:25:20.111Z"
   },
   {
    "duration": 6,
    "start_time": "2021-07-07T09:25:20.123Z"
   },
   {
    "duration": 7,
    "start_time": "2021-07-07T09:25:20.130Z"
   },
   {
    "duration": 7,
    "start_time": "2021-07-07T09:25:20.139Z"
   },
   {
    "duration": 9,
    "start_time": "2021-07-07T09:25:20.184Z"
   },
   {
    "duration": 15,
    "start_time": "2021-07-07T09:25:20.194Z"
   },
   {
    "duration": 14,
    "start_time": "2021-07-07T09:25:20.211Z"
   },
   {
    "duration": 259,
    "start_time": "2021-07-07T09:25:20.227Z"
   },
   {
    "duration": 290,
    "start_time": "2021-07-07T09:25:20.488Z"
   },
   {
    "duration": 2306,
    "start_time": "2021-07-07T09:25:20.779Z"
   },
   {
    "duration": 5,
    "start_time": "2021-07-07T09:25:23.087Z"
   },
   {
    "duration": 1153,
    "start_time": "2021-07-07T09:29:53.187Z"
   },
   {
    "duration": 759,
    "start_time": "2021-07-07T09:29:54.342Z"
   },
   {
    "duration": 24,
    "start_time": "2021-07-07T09:29:55.105Z"
   },
   {
    "duration": 19,
    "start_time": "2021-07-07T09:29:55.131Z"
   },
   {
    "duration": 46,
    "start_time": "2021-07-07T09:29:55.151Z"
   },
   {
    "duration": 4,
    "start_time": "2021-07-07T09:29:55.198Z"
   },
   {
    "duration": 3,
    "start_time": "2021-07-07T09:29:55.205Z"
   },
   {
    "duration": 41,
    "start_time": "2021-07-07T09:29:55.210Z"
   },
   {
    "duration": 3,
    "start_time": "2021-07-07T09:29:55.253Z"
   },
   {
    "duration": 30,
    "start_time": "2021-07-07T09:29:55.258Z"
   },
   {
    "duration": 11,
    "start_time": "2021-07-07T09:29:55.290Z"
   },
   {
    "duration": 7,
    "start_time": "2021-07-07T09:29:55.303Z"
   },
   {
    "duration": 9,
    "start_time": "2021-07-07T09:29:55.311Z"
   },
   {
    "duration": 5,
    "start_time": "2021-07-07T09:29:55.322Z"
   },
   {
    "duration": 7,
    "start_time": "2021-07-07T09:29:55.328Z"
   },
   {
    "duration": 8,
    "start_time": "2021-07-07T09:29:55.336Z"
   },
   {
    "duration": 45,
    "start_time": "2021-07-07T09:29:55.346Z"
   },
   {
    "duration": 10,
    "start_time": "2021-07-07T09:29:55.393Z"
   },
   {
    "duration": 7,
    "start_time": "2021-07-07T09:29:55.404Z"
   },
   {
    "duration": 16,
    "start_time": "2021-07-07T09:29:55.413Z"
   },
   {
    "duration": 62,
    "start_time": "2021-07-07T09:29:55.431Z"
   },
   {
    "duration": 37,
    "start_time": "2021-07-07T09:29:55.496Z"
   },
   {
    "duration": 7,
    "start_time": "2021-07-07T09:29:55.535Z"
   },
   {
    "duration": 58,
    "start_time": "2021-07-07T09:29:55.544Z"
   },
   {
    "duration": 39,
    "start_time": "2021-07-07T09:29:55.604Z"
   },
   {
    "duration": 13,
    "start_time": "2021-07-07T09:29:55.645Z"
   },
   {
    "duration": 16,
    "start_time": "2021-07-07T09:29:55.684Z"
   },
   {
    "duration": 13,
    "start_time": "2021-07-07T09:29:55.702Z"
   },
   {
    "duration": 12,
    "start_time": "2021-07-07T09:29:55.717Z"
   },
   {
    "duration": 9,
    "start_time": "2021-07-07T09:29:55.731Z"
   },
   {
    "duration": 46,
    "start_time": "2021-07-07T09:29:55.743Z"
   },
   {
    "duration": 10,
    "start_time": "2021-07-07T09:29:55.791Z"
   },
   {
    "duration": 10,
    "start_time": "2021-07-07T09:29:55.803Z"
   },
   {
    "duration": 9,
    "start_time": "2021-07-07T09:29:55.815Z"
   },
   {
    "duration": 9,
    "start_time": "2021-07-07T09:29:55.826Z"
   },
   {
    "duration": 62,
    "start_time": "2021-07-07T09:29:55.837Z"
   },
   {
    "duration": 16,
    "start_time": "2021-07-07T09:29:55.902Z"
   },
   {
    "duration": 265,
    "start_time": "2021-07-07T09:29:55.920Z"
   },
   {
    "duration": 301,
    "start_time": "2021-07-07T09:29:56.187Z"
   },
   {
    "duration": 2320,
    "start_time": "2021-07-07T09:29:56.490Z"
   },
   {
    "duration": 5,
    "start_time": "2021-07-07T09:29:58.813Z"
   },
   {
    "duration": 6,
    "start_time": "2021-07-07T09:32:26.161Z"
   },
   {
    "duration": 2471,
    "start_time": "2021-07-07T09:32:54.520Z"
   },
   {
    "duration": 8,
    "start_time": "2021-07-07T09:33:42.444Z"
   },
   {
    "duration": 11,
    "start_time": "2021-07-07T09:34:02.679Z"
   },
   {
    "duration": 8,
    "start_time": "2021-07-07T09:34:31.434Z"
   },
   {
    "duration": 12,
    "start_time": "2021-07-07T09:35:04.563Z"
   },
   {
    "duration": 57,
    "start_time": "2021-07-07T10:40:53.346Z"
   },
   {
    "duration": 59,
    "start_time": "2021-07-07T10:41:04.458Z"
   },
   {
    "duration": 184,
    "start_time": "2021-07-07T10:41:13.137Z"
   },
   {
    "duration": 190,
    "start_time": "2021-07-07T10:42:01.842Z"
   },
   {
    "duration": 1154,
    "start_time": "2021-07-07T10:42:41.366Z"
   },
   {
    "duration": 726,
    "start_time": "2021-07-07T10:42:42.524Z"
   },
   {
    "duration": 33,
    "start_time": "2021-07-07T10:42:43.252Z"
   },
   {
    "duration": 18,
    "start_time": "2021-07-07T10:42:43.287Z"
   },
   {
    "duration": 20,
    "start_time": "2021-07-07T10:42:43.307Z"
   },
   {
    "duration": 8,
    "start_time": "2021-07-07T10:42:43.328Z"
   },
   {
    "duration": 6,
    "start_time": "2021-07-07T10:42:43.338Z"
   },
   {
    "duration": 54,
    "start_time": "2021-07-07T10:42:43.346Z"
   },
   {
    "duration": 3,
    "start_time": "2021-07-07T10:42:43.402Z"
   },
   {
    "duration": 7,
    "start_time": "2021-07-07T10:42:43.407Z"
   },
   {
    "duration": 9,
    "start_time": "2021-07-07T10:42:43.416Z"
   },
   {
    "duration": 8,
    "start_time": "2021-07-07T10:42:43.427Z"
   },
   {
    "duration": 5,
    "start_time": "2021-07-07T10:42:43.436Z"
   },
   {
    "duration": 9,
    "start_time": "2021-07-07T10:42:43.443Z"
   },
   {
    "duration": 32,
    "start_time": "2021-07-07T10:42:43.453Z"
   },
   {
    "duration": 6,
    "start_time": "2021-07-07T10:42:43.487Z"
   },
   {
    "duration": 15,
    "start_time": "2021-07-07T10:42:43.494Z"
   },
   {
    "duration": 10,
    "start_time": "2021-07-07T10:42:43.510Z"
   },
   {
    "duration": 13,
    "start_time": "2021-07-07T10:42:43.522Z"
   },
   {
    "duration": 17,
    "start_time": "2021-07-07T10:42:43.537Z"
   },
   {
    "duration": 32,
    "start_time": "2021-07-07T10:42:43.584Z"
   },
   {
    "duration": 34,
    "start_time": "2021-07-07T10:42:43.620Z"
   },
   {
    "duration": 31,
    "start_time": "2021-07-07T10:42:43.656Z"
   },
   {
    "duration": 35,
    "start_time": "2021-07-07T10:42:43.688Z"
   },
   {
    "duration": 37,
    "start_time": "2021-07-07T10:42:43.725Z"
   },
   {
    "duration": 26,
    "start_time": "2021-07-07T10:42:43.763Z"
   },
   {
    "duration": 10,
    "start_time": "2021-07-07T10:42:43.791Z"
   },
   {
    "duration": 9,
    "start_time": "2021-07-07T10:42:43.803Z"
   },
   {
    "duration": 6,
    "start_time": "2021-07-07T10:42:43.814Z"
   },
   {
    "duration": 11,
    "start_time": "2021-07-07T10:42:43.822Z"
   },
   {
    "duration": 12,
    "start_time": "2021-07-07T10:42:43.834Z"
   },
   {
    "duration": 42,
    "start_time": "2021-07-07T10:42:43.847Z"
   },
   {
    "duration": 10,
    "start_time": "2021-07-07T10:42:43.890Z"
   },
   {
    "duration": 9,
    "start_time": "2021-07-07T10:42:43.902Z"
   },
   {
    "duration": 6,
    "start_time": "2021-07-07T10:42:43.913Z"
   },
   {
    "duration": 7,
    "start_time": "2021-07-07T10:42:43.921Z"
   },
   {
    "duration": 6,
    "start_time": "2021-07-07T10:42:43.929Z"
   },
   {
    "duration": 48,
    "start_time": "2021-07-07T10:42:43.937Z"
   },
   {
    "duration": 7,
    "start_time": "2021-07-07T10:42:43.986Z"
   },
   {
    "duration": 7,
    "start_time": "2021-07-07T10:42:43.995Z"
   },
   {
    "duration": 19,
    "start_time": "2021-07-07T10:42:44.004Z"
   },
   {
    "duration": 16,
    "start_time": "2021-07-07T10:42:44.024Z"
   },
   {
    "duration": 262,
    "start_time": "2021-07-07T10:42:44.041Z"
   },
   {
    "duration": 282,
    "start_time": "2021-07-07T10:42:44.305Z"
   },
   {
    "duration": 2292,
    "start_time": "2021-07-07T10:42:44.588Z"
   },
   {
    "duration": 6,
    "start_time": "2021-07-07T10:42:46.885Z"
   },
   {
    "duration": 279,
    "start_time": "2021-07-07T10:42:46.893Z"
   },
   {
    "duration": 180,
    "start_time": "2021-07-07T10:43:27.935Z"
   },
   {
    "duration": 203,
    "start_time": "2021-07-07T10:44:09.138Z"
   },
   {
    "duration": 196,
    "start_time": "2021-07-07T10:45:02.315Z"
   },
   {
    "duration": 3,
    "start_time": "2021-07-07T10:45:24.466Z"
   },
   {
    "duration": 184,
    "start_time": "2021-07-07T10:45:47.610Z"
   },
   {
    "duration": 62,
    "start_time": "2021-07-07T10:48:08.747Z"
   },
   {
    "duration": 8,
    "start_time": "2021-07-07T10:48:32.006Z"
   },
   {
    "duration": 4,
    "start_time": "2021-07-07T10:49:29.575Z"
   },
   {
    "duration": 3,
    "start_time": "2021-07-07T10:55:39.890Z"
   },
   {
    "duration": 3,
    "start_time": "2021-07-07T10:55:47.039Z"
   },
   {
    "duration": 9,
    "start_time": "2021-07-07T10:55:55.263Z"
   },
   {
    "duration": 4,
    "start_time": "2021-07-07T10:56:15.563Z"
   },
   {
    "duration": 3,
    "start_time": "2021-07-07T10:56:27.433Z"
   },
   {
    "duration": 10,
    "start_time": "2021-07-07T10:58:37.982Z"
   },
   {
    "duration": 4,
    "start_time": "2021-07-07T10:58:39.412Z"
   },
   {
    "duration": 4,
    "start_time": "2021-07-07T11:23:41.124Z"
   },
   {
    "duration": 10,
    "start_time": "2021-07-07T11:27:10.180Z"
   },
   {
    "duration": 1134,
    "start_time": "2021-07-07T11:38:06.916Z"
   },
   {
    "duration": 803,
    "start_time": "2021-07-07T11:38:08.052Z"
   },
   {
    "duration": 43,
    "start_time": "2021-07-07T11:38:08.859Z"
   },
   {
    "duration": 20,
    "start_time": "2021-07-07T11:38:08.904Z"
   },
   {
    "duration": 19,
    "start_time": "2021-07-07T11:38:08.925Z"
   },
   {
    "duration": 5,
    "start_time": "2021-07-07T11:38:08.945Z"
   },
   {
    "duration": 3,
    "start_time": "2021-07-07T11:38:08.952Z"
   },
   {
    "duration": 66,
    "start_time": "2021-07-07T11:38:08.957Z"
   },
   {
    "duration": 3,
    "start_time": "2021-07-07T11:38:09.024Z"
   },
   {
    "duration": 16,
    "start_time": "2021-07-07T11:38:09.029Z"
   },
   {
    "duration": 9,
    "start_time": "2021-07-07T11:38:09.046Z"
   },
   {
    "duration": 9,
    "start_time": "2021-07-07T11:38:09.056Z"
   },
   {
    "duration": 22,
    "start_time": "2021-07-07T11:38:09.067Z"
   },
   {
    "duration": 7,
    "start_time": "2021-07-07T11:38:09.091Z"
   },
   {
    "duration": 7,
    "start_time": "2021-07-07T11:38:09.100Z"
   },
   {
    "duration": 7,
    "start_time": "2021-07-07T11:38:09.108Z"
   },
   {
    "duration": 16,
    "start_time": "2021-07-07T11:38:09.116Z"
   },
   {
    "duration": 11,
    "start_time": "2021-07-07T11:38:09.133Z"
   },
   {
    "duration": 11,
    "start_time": "2021-07-07T11:38:09.186Z"
   },
   {
    "duration": 17,
    "start_time": "2021-07-07T11:38:09.200Z"
   },
   {
    "duration": 35,
    "start_time": "2021-07-07T11:38:09.218Z"
   },
   {
    "duration": 42,
    "start_time": "2021-07-07T11:38:09.286Z"
   },
   {
    "duration": 303,
    "start_time": "2021-07-07T11:38:09.330Z"
   },
   {
    "duration": 3377,
    "start_time": "2021-07-07T11:38:06.258Z"
   },
   {
    "duration": 3373,
    "start_time": "2021-07-07T11:38:06.263Z"
   },
   {
    "duration": 3369,
    "start_time": "2021-07-07T11:38:06.268Z"
   },
   {
    "duration": 3366,
    "start_time": "2021-07-07T11:38:06.272Z"
   },
   {
    "duration": 3362,
    "start_time": "2021-07-07T11:38:06.277Z"
   },
   {
    "duration": 3358,
    "start_time": "2021-07-07T11:38:06.282Z"
   },
   {
    "duration": 3323,
    "start_time": "2021-07-07T11:38:06.318Z"
   },
   {
    "duration": 3306,
    "start_time": "2021-07-07T11:38:06.335Z"
   },
   {
    "duration": 3282,
    "start_time": "2021-07-07T11:38:06.360Z"
   },
   {
    "duration": 3264,
    "start_time": "2021-07-07T11:38:06.379Z"
   },
   {
    "duration": 3243,
    "start_time": "2021-07-07T11:38:06.401Z"
   },
   {
    "duration": 3227,
    "start_time": "2021-07-07T11:38:06.418Z"
   },
   {
    "duration": 3197,
    "start_time": "2021-07-07T11:38:06.449Z"
   },
   {
    "duration": 3179,
    "start_time": "2021-07-07T11:38:06.468Z"
   },
   {
    "duration": 3150,
    "start_time": "2021-07-07T11:38:06.497Z"
   },
   {
    "duration": 3120,
    "start_time": "2021-07-07T11:38:06.528Z"
   },
   {
    "duration": 3114,
    "start_time": "2021-07-07T11:38:06.535Z"
   },
   {
    "duration": 3110,
    "start_time": "2021-07-07T11:38:06.540Z"
   },
   {
    "duration": 3106,
    "start_time": "2021-07-07T11:38:06.545Z"
   },
   {
    "duration": 3103,
    "start_time": "2021-07-07T11:38:06.549Z"
   },
   {
    "duration": 3099,
    "start_time": "2021-07-07T11:38:06.554Z"
   },
   {
    "duration": 3096,
    "start_time": "2021-07-07T11:38:06.558Z"
   },
   {
    "duration": 3087,
    "start_time": "2021-07-07T11:38:06.568Z"
   },
   {
    "duration": 3084,
    "start_time": "2021-07-07T11:38:06.572Z"
   },
   {
    "duration": 3079,
    "start_time": "2021-07-07T11:38:06.578Z"
   },
   {
    "duration": 199,
    "start_time": "2021-07-07T11:38:29.143Z"
   },
   {
    "duration": 220,
    "start_time": "2021-07-07T11:43:21.455Z"
   },
   {
    "duration": 303,
    "start_time": "2021-07-07T11:44:31.139Z"
   },
   {
    "duration": 57,
    "start_time": "2021-07-07T12:28:25.900Z"
   },
   {
    "duration": 25,
    "start_time": "2021-07-07T12:29:28.605Z"
   },
   {
    "duration": 1136,
    "start_time": "2021-07-07T13:05:19.500Z"
   },
   {
    "duration": 736,
    "start_time": "2021-07-07T13:05:20.638Z"
   },
   {
    "duration": 29,
    "start_time": "2021-07-07T13:05:21.376Z"
   },
   {
    "duration": 20,
    "start_time": "2021-07-07T13:05:21.406Z"
   },
   {
    "duration": 21,
    "start_time": "2021-07-07T13:05:21.428Z"
   },
   {
    "duration": 4,
    "start_time": "2021-07-07T13:05:21.450Z"
   },
   {
    "duration": 30,
    "start_time": "2021-07-07T13:05:21.455Z"
   },
   {
    "duration": 34,
    "start_time": "2021-07-07T13:05:21.486Z"
   },
   {
    "duration": 3,
    "start_time": "2021-07-07T13:05:21.522Z"
   },
   {
    "duration": 7,
    "start_time": "2021-07-07T13:05:21.527Z"
   },
   {
    "duration": 8,
    "start_time": "2021-07-07T13:05:21.536Z"
   },
   {
    "duration": 7,
    "start_time": "2021-07-07T13:05:21.546Z"
   },
   {
    "duration": 32,
    "start_time": "2021-07-07T13:05:21.555Z"
   },
   {
    "duration": 7,
    "start_time": "2021-07-07T13:05:21.589Z"
   },
   {
    "duration": 5,
    "start_time": "2021-07-07T13:05:21.598Z"
   },
   {
    "duration": 7,
    "start_time": "2021-07-07T13:05:21.604Z"
   },
   {
    "duration": 13,
    "start_time": "2021-07-07T13:05:21.613Z"
   },
   {
    "duration": 9,
    "start_time": "2021-07-07T13:05:21.627Z"
   },
   {
    "duration": 6,
    "start_time": "2021-07-07T13:05:21.638Z"
   },
   {
    "duration": 52,
    "start_time": "2021-07-07T13:05:21.646Z"
   },
   {
    "duration": 31,
    "start_time": "2021-07-07T13:05:21.699Z"
   },
   {
    "duration": 57,
    "start_time": "2021-07-07T13:05:21.731Z"
   },
   {
    "duration": 13,
    "start_time": "2021-07-07T13:05:21.790Z"
   },
   {
    "duration": 46,
    "start_time": "2021-07-07T13:05:21.804Z"
   },
   {
    "duration": 59,
    "start_time": "2021-07-07T13:05:21.852Z"
   },
   {
    "duration": 11,
    "start_time": "2021-07-07T13:05:21.913Z"
   },
   {
    "duration": 6,
    "start_time": "2021-07-07T13:05:21.927Z"
   },
   {
    "duration": 9,
    "start_time": "2021-07-07T13:05:21.934Z"
   },
   {
    "duration": 9,
    "start_time": "2021-07-07T13:05:21.944Z"
   },
   {
    "duration": 35,
    "start_time": "2021-07-07T13:05:21.955Z"
   },
   {
    "duration": 12,
    "start_time": "2021-07-07T13:05:21.991Z"
   },
   {
    "duration": 11,
    "start_time": "2021-07-07T13:05:22.004Z"
   },
   {
    "duration": 17,
    "start_time": "2021-07-07T13:05:22.017Z"
   },
   {
    "duration": 10,
    "start_time": "2021-07-07T13:05:22.035Z"
   },
   {
    "duration": 40,
    "start_time": "2021-07-07T13:05:22.046Z"
   },
   {
    "duration": 7,
    "start_time": "2021-07-07T13:05:22.087Z"
   },
   {
    "duration": 9,
    "start_time": "2021-07-07T13:05:22.096Z"
   },
   {
    "duration": 6,
    "start_time": "2021-07-07T13:05:22.106Z"
   },
   {
    "duration": 8,
    "start_time": "2021-07-07T13:05:22.113Z"
   },
   {
    "duration": 6,
    "start_time": "2021-07-07T13:05:22.122Z"
   },
   {
    "duration": 7,
    "start_time": "2021-07-07T13:05:22.130Z"
   },
   {
    "duration": 49,
    "start_time": "2021-07-07T13:05:22.138Z"
   },
   {
    "duration": 14,
    "start_time": "2021-07-07T13:05:22.189Z"
   },
   {
    "duration": 247,
    "start_time": "2021-07-07T13:05:22.205Z"
   },
   {
    "duration": 294,
    "start_time": "2021-07-07T13:05:22.454Z"
   },
   {
    "duration": 2607,
    "start_time": "2021-07-07T13:05:22.750Z"
   },
   {
    "duration": 5,
    "start_time": "2021-07-07T13:05:25.359Z"
   },
   {
    "duration": 25,
    "start_time": "2021-07-07T13:05:25.366Z"
   },
   {
    "duration": 8,
    "start_time": "2021-07-07T13:05:25.393Z"
   },
   {
    "duration": 8,
    "start_time": "2021-07-07T13:10:09.585Z"
   },
   {
    "duration": 4,
    "start_time": "2021-07-07T13:24:55.703Z"
   },
   {
    "duration": 16,
    "start_time": "2021-07-07T16:06:07.805Z"
   },
   {
    "duration": 12,
    "start_time": "2021-07-07T16:33:17.411Z"
   },
   {
    "duration": 77,
    "start_time": "2021-07-07T18:32:25.950Z"
   },
   {
    "duration": 1038,
    "start_time": "2021-07-07T18:32:39.105Z"
   },
   {
    "duration": 1886,
    "start_time": "2021-07-07T18:34:12.586Z"
   },
   {
    "duration": 873,
    "start_time": "2021-07-07T18:35:15.874Z"
   },
   {
    "duration": 1887,
    "start_time": "2021-07-07T18:35:28.991Z"
   },
   {
    "duration": 15,
    "start_time": "2021-07-07T18:46:17.740Z"
   },
   {
    "duration": 4,
    "start_time": "2021-07-07T18:46:24.140Z"
   },
   {
    "duration": 1109,
    "start_time": "2021-07-07T18:47:27.253Z"
   },
   {
    "duration": 711,
    "start_time": "2021-07-07T18:47:28.364Z"
   },
   {
    "duration": 8,
    "start_time": "2021-07-07T18:47:29.077Z"
   },
   {
    "duration": 5,
    "start_time": "2021-07-07T18:47:29.087Z"
   },
   {
    "duration": 38,
    "start_time": "2021-07-07T18:47:29.094Z"
   },
   {
    "duration": 4,
    "start_time": "2021-07-07T18:47:29.134Z"
   },
   {
    "duration": 18,
    "start_time": "2021-07-07T18:47:29.140Z"
   },
   {
    "duration": 28,
    "start_time": "2021-07-07T18:47:29.161Z"
   },
   {
    "duration": 14,
    "start_time": "2021-07-07T18:47:29.191Z"
   },
   {
    "duration": 20,
    "start_time": "2021-07-07T18:47:29.206Z"
   },
   {
    "duration": 16,
    "start_time": "2021-07-07T18:47:29.228Z"
   },
   {
    "duration": 18,
    "start_time": "2021-07-07T18:47:29.245Z"
   },
   {
    "duration": 24,
    "start_time": "2021-07-07T18:47:29.264Z"
   },
   {
    "duration": 17,
    "start_time": "2021-07-07T18:47:29.290Z"
   },
   {
    "duration": 11,
    "start_time": "2021-07-07T18:47:29.309Z"
   },
   {
    "duration": 25,
    "start_time": "2021-07-07T18:47:29.321Z"
   },
   {
    "duration": 32,
    "start_time": "2021-07-07T18:47:29.348Z"
   },
   {
    "duration": 41,
    "start_time": "2021-07-07T18:47:29.381Z"
   },
   {
    "duration": 11,
    "start_time": "2021-07-07T18:47:29.424Z"
   },
   {
    "duration": 15,
    "start_time": "2021-07-07T18:47:29.437Z"
   },
   {
    "duration": 20,
    "start_time": "2021-07-07T18:47:29.453Z"
   },
   {
    "duration": 5,
    "start_time": "2021-07-07T18:47:29.475Z"
   },
   {
    "duration": 15,
    "start_time": "2021-07-07T18:47:29.487Z"
   },
   {
    "duration": 248,
    "start_time": "2021-07-07T18:47:29.503Z"
   },
   {
    "duration": 2369,
    "start_time": "2021-07-07T18:47:29.754Z"
   },
   {
    "duration": 12,
    "start_time": "2021-07-07T18:47:32.125Z"
   },
   {
    "duration": 456,
    "start_time": "2021-07-07T18:47:32.139Z"
   },
   {
    "duration": 4688,
    "start_time": "2021-07-07T18:47:27.909Z"
   },
   {
    "duration": 804,
    "start_time": "2021-07-07T18:47:59.617Z"
   },
   {
    "duration": 712,
    "start_time": "2021-07-07T18:48:48.066Z"
   },
   {
    "duration": 6,
    "start_time": "2021-07-07T18:49:48.246Z"
   },
   {
    "duration": 3,
    "start_time": "2021-07-07T18:50:08.474Z"
   },
   {
    "duration": 4,
    "start_time": "2021-07-07T18:50:26.152Z"
   },
   {
    "duration": 9,
    "start_time": "2021-07-07T18:51:38.986Z"
   },
   {
    "duration": 538,
    "start_time": "2021-07-07T18:54:47.462Z"
   },
   {
    "duration": 1492,
    "start_time": "2021-07-07T18:55:32.839Z"
   },
   {
    "duration": 1489,
    "start_time": "2021-07-07T19:16:10.158Z"
   },
   {
    "duration": 1430,
    "start_time": "2021-07-07T19:16:23.492Z"
   },
   {
    "duration": 176,
    "start_time": "2021-07-07T19:40:03.198Z"
   },
   {
    "duration": 4676,
    "start_time": "2021-07-07T19:40:26.936Z"
   },
   {
    "duration": 14,
    "start_time": "2021-07-07T19:40:58.137Z"
   },
   {
    "duration": 18,
    "start_time": "2021-07-07T19:42:06.289Z"
   },
   {
    "duration": 2536,
    "start_time": "2021-07-07T21:21:44.735Z"
   },
   {
    "duration": 1447,
    "start_time": "2021-07-07T21:23:56.844Z"
   },
   {
    "duration": 1674,
    "start_time": "2021-07-07T21:24:05.976Z"
   },
   {
    "duration": 1452,
    "start_time": "2021-07-07T21:24:16.710Z"
   },
   {
    "duration": 1855,
    "start_time": "2021-07-07T21:24:25.461Z"
   },
   {
    "duration": 1538,
    "start_time": "2021-07-07T21:25:32.224Z"
   },
   {
    "duration": 1712,
    "start_time": "2021-07-07T21:27:20.836Z"
   },
   {
    "duration": 1924,
    "start_time": "2021-07-07T21:27:33.183Z"
   },
   {
    "duration": 1554,
    "start_time": "2021-07-07T21:28:07.418Z"
   },
   {
    "duration": 1761,
    "start_time": "2021-07-07T21:28:12.675Z"
   },
   {
    "duration": 1592,
    "start_time": "2021-07-08T07:30:32.617Z"
   },
   {
    "duration": 919,
    "start_time": "2021-07-08T07:30:34.212Z"
   },
   {
    "duration": 5,
    "start_time": "2021-07-08T07:30:35.134Z"
   },
   {
    "duration": 22,
    "start_time": "2021-07-08T07:30:35.143Z"
   },
   {
    "duration": 61,
    "start_time": "2021-07-08T07:30:35.168Z"
   },
   {
    "duration": 31,
    "start_time": "2021-07-08T07:30:35.232Z"
   },
   {
    "duration": 18,
    "start_time": "2021-07-08T07:30:35.265Z"
   },
   {
    "duration": 21,
    "start_time": "2021-07-08T07:30:35.288Z"
   },
   {
    "duration": 13,
    "start_time": "2021-07-08T07:30:35.314Z"
   },
   {
    "duration": 33,
    "start_time": "2021-07-08T07:30:35.330Z"
   },
   {
    "duration": 8,
    "start_time": "2021-07-08T07:30:35.366Z"
   },
   {
    "duration": 8,
    "start_time": "2021-07-08T07:30:35.377Z"
   },
   {
    "duration": 17,
    "start_time": "2021-07-08T07:30:35.387Z"
   },
   {
    "duration": 33,
    "start_time": "2021-07-08T07:30:35.407Z"
   },
   {
    "duration": 18,
    "start_time": "2021-07-08T07:30:35.463Z"
   },
   {
    "duration": 13,
    "start_time": "2021-07-08T07:30:35.484Z"
   },
   {
    "duration": 65,
    "start_time": "2021-07-08T07:30:35.500Z"
   },
   {
    "duration": 48,
    "start_time": "2021-07-08T07:30:35.568Z"
   },
   {
    "duration": 44,
    "start_time": "2021-07-08T07:30:35.618Z"
   },
   {
    "duration": 8,
    "start_time": "2021-07-08T07:30:35.665Z"
   },
   {
    "duration": 26,
    "start_time": "2021-07-08T07:30:35.676Z"
   },
   {
    "duration": 5,
    "start_time": "2021-07-08T07:30:35.704Z"
   },
   {
    "duration": 54,
    "start_time": "2021-07-08T07:30:35.714Z"
   },
   {
    "duration": 393,
    "start_time": "2021-07-08T07:30:35.771Z"
   },
   {
    "duration": 4188,
    "start_time": "2021-07-08T07:30:36.168Z"
   },
   {
    "duration": 23,
    "start_time": "2021-07-08T07:30:40.359Z"
   },
   {
    "duration": 19,
    "start_time": "2021-07-08T07:30:40.384Z"
   },
   {
    "duration": 716,
    "start_time": "2021-07-08T07:30:40.405Z"
   },
   {
    "duration": 2361,
    "start_time": "2021-07-08T07:30:41.124Z"
   },
   {
    "duration": 809,
    "start_time": "2021-07-08T07:31:07.880Z"
   },
   {
    "duration": 784,
    "start_time": "2021-07-08T07:31:20.303Z"
   },
   {
    "duration": 24,
    "start_time": "2021-07-08T08:19:57.829Z"
   },
   {
    "duration": 25,
    "start_time": "2021-07-08T08:23:44.711Z"
   },
   {
    "duration": 3931,
    "start_time": "2021-07-08T08:34:29.397Z"
   },
   {
    "duration": 521,
    "start_time": "2021-07-08T08:48:34.490Z"
   },
   {
    "duration": 1684,
    "start_time": "2021-07-08T08:48:53.752Z"
   },
   {
    "duration": 2135,
    "start_time": "2021-07-08T08:52:29.531Z"
   },
   {
    "duration": 1688,
    "start_time": "2021-07-08T10:30:04.533Z"
   },
   {
    "duration": 933,
    "start_time": "2021-07-08T10:30:06.224Z"
   },
   {
    "duration": 5,
    "start_time": "2021-07-08T10:30:07.159Z"
   },
   {
    "duration": 6,
    "start_time": "2021-07-08T10:30:07.167Z"
   },
   {
    "duration": 87,
    "start_time": "2021-07-08T10:30:07.176Z"
   },
   {
    "duration": 5,
    "start_time": "2021-07-08T10:30:07.266Z"
   },
   {
    "duration": 13,
    "start_time": "2021-07-08T10:30:07.276Z"
   },
   {
    "duration": 15,
    "start_time": "2021-07-08T10:30:07.292Z"
   },
   {
    "duration": 15,
    "start_time": "2021-07-08T10:30:07.311Z"
   },
   {
    "duration": 43,
    "start_time": "2021-07-08T10:30:07.329Z"
   },
   {
    "duration": 13,
    "start_time": "2021-07-08T10:30:07.375Z"
   },
   {
    "duration": 6,
    "start_time": "2021-07-08T10:30:07.391Z"
   },
   {
    "duration": 9,
    "start_time": "2021-07-08T10:30:07.399Z"
   },
   {
    "duration": 62,
    "start_time": "2021-07-08T10:30:07.410Z"
   },
   {
    "duration": 18,
    "start_time": "2021-07-08T10:30:07.474Z"
   },
   {
    "duration": 23,
    "start_time": "2021-07-08T10:30:07.495Z"
   },
   {
    "duration": 56,
    "start_time": "2021-07-08T10:30:07.521Z"
   },
   {
    "duration": 43,
    "start_time": "2021-07-08T10:30:07.580Z"
   },
   {
    "duration": 37,
    "start_time": "2021-07-08T10:30:07.626Z"
   },
   {
    "duration": 8,
    "start_time": "2021-07-08T10:30:07.665Z"
   },
   {
    "duration": 23,
    "start_time": "2021-07-08T10:30:07.676Z"
   },
   {
    "duration": 9,
    "start_time": "2021-07-08T10:30:07.704Z"
   },
   {
    "duration": 10,
    "start_time": "2021-07-08T10:30:07.716Z"
   },
   {
    "duration": 58,
    "start_time": "2021-07-08T10:30:07.729Z"
   },
   {
    "duration": 409,
    "start_time": "2021-07-08T10:30:07.789Z"
   },
   {
    "duration": 4224,
    "start_time": "2021-07-08T10:30:08.200Z"
   },
   {
    "duration": 42,
    "start_time": "2021-07-08T10:30:12.426Z"
   },
   {
    "duration": 29,
    "start_time": "2021-07-08T10:30:12.473Z"
   },
   {
    "duration": 1029,
    "start_time": "2021-07-08T10:30:12.505Z"
   },
   {
    "duration": 2554,
    "start_time": "2021-07-08T10:30:13.536Z"
   },
   {
    "duration": 131,
    "start_time": "2021-07-08T10:30:16.093Z"
   },
   {
    "duration": 1690,
    "start_time": "2021-07-08T10:45:56.763Z"
   },
   {
    "duration": 933,
    "start_time": "2021-07-08T10:45:58.456Z"
   },
   {
    "duration": 6,
    "start_time": "2021-07-08T10:45:59.393Z"
   },
   {
    "duration": 13,
    "start_time": "2021-07-08T10:45:59.403Z"
   },
   {
    "duration": 91,
    "start_time": "2021-07-08T10:45:59.419Z"
   },
   {
    "duration": 5,
    "start_time": "2021-07-08T10:45:59.513Z"
   },
   {
    "duration": 12,
    "start_time": "2021-07-08T10:45:59.521Z"
   },
   {
    "duration": 44,
    "start_time": "2021-07-08T10:45:59.539Z"
   },
   {
    "duration": 15,
    "start_time": "2021-07-08T10:45:59.588Z"
   },
   {
    "duration": 8,
    "start_time": "2021-07-08T10:45:59.606Z"
   },
   {
    "duration": 43,
    "start_time": "2021-07-08T10:45:59.618Z"
   },
   {
    "duration": 7,
    "start_time": "2021-07-08T10:45:59.664Z"
   },
   {
    "duration": 10,
    "start_time": "2021-07-08T10:45:59.674Z"
   },
   {
    "duration": 18,
    "start_time": "2021-07-08T10:45:59.687Z"
   },
   {
    "duration": 57,
    "start_time": "2021-07-08T10:45:59.708Z"
   },
   {
    "duration": 26,
    "start_time": "2021-07-08T10:45:59.768Z"
   },
   {
    "duration": 24,
    "start_time": "2021-07-08T10:45:59.797Z"
   },
   {
    "duration": 77,
    "start_time": "2021-07-08T10:45:59.824Z"
   },
   {
    "duration": 17,
    "start_time": "2021-07-08T10:45:59.904Z"
   },
   {
    "duration": 8,
    "start_time": "2021-07-08T10:45:59.923Z"
   },
   {
    "duration": 21,
    "start_time": "2021-07-08T10:45:59.962Z"
   },
   {
    "duration": 9,
    "start_time": "2021-07-08T10:45:59.986Z"
   },
   {
    "duration": 16,
    "start_time": "2021-07-08T10:45:59.999Z"
   },
   {
    "duration": 65,
    "start_time": "2021-07-08T10:46:00.018Z"
   },
   {
    "duration": 552,
    "start_time": "2021-07-08T10:46:00.086Z"
   },
   {
    "duration": 4156,
    "start_time": "2021-07-08T10:46:00.641Z"
   },
   {
    "duration": 28,
    "start_time": "2021-07-08T10:46:04.801Z"
   },
   {
    "duration": 42,
    "start_time": "2021-07-08T10:46:04.831Z"
   },
   {
    "duration": 854,
    "start_time": "2021-07-08T10:46:04.877Z"
   },
   {
    "duration": 2140,
    "start_time": "2021-07-08T10:46:05.734Z"
   },
   {
    "duration": 17,
    "start_time": "2021-07-08T10:46:07.877Z"
   },
   {
    "duration": 89,
    "start_time": "2021-07-08T10:46:07.896Z"
   },
   {
    "duration": 518,
    "start_time": "2021-07-08T10:46:07.987Z"
   },
   {
    "duration": 6281,
    "start_time": "2021-07-08T10:46:02.228Z"
   },
   {
    "duration": 1671,
    "start_time": "2021-07-08T10:46:57.340Z"
   },
   {
    "duration": 924,
    "start_time": "2021-07-08T10:46:59.013Z"
   },
   {
    "duration": 5,
    "start_time": "2021-07-08T10:46:59.941Z"
   },
   {
    "duration": 5,
    "start_time": "2021-07-08T10:46:59.961Z"
   },
   {
    "duration": 71,
    "start_time": "2021-07-08T10:46:59.969Z"
   },
   {
    "duration": 21,
    "start_time": "2021-07-08T10:47:00.043Z"
   },
   {
    "duration": 22,
    "start_time": "2021-07-08T10:47:00.067Z"
   },
   {
    "duration": 20,
    "start_time": "2021-07-08T10:47:00.095Z"
   },
   {
    "duration": 16,
    "start_time": "2021-07-08T10:47:00.119Z"
   },
   {
    "duration": 9,
    "start_time": "2021-07-08T10:47:00.163Z"
   },
   {
    "duration": 14,
    "start_time": "2021-07-08T10:47:00.175Z"
   },
   {
    "duration": 31,
    "start_time": "2021-07-08T10:47:00.191Z"
   },
   {
    "duration": 14,
    "start_time": "2021-07-08T10:47:00.224Z"
   },
   {
    "duration": 42,
    "start_time": "2021-07-08T10:47:00.241Z"
   },
   {
    "duration": 25,
    "start_time": "2021-07-08T10:47:00.286Z"
   },
   {
    "duration": 16,
    "start_time": "2021-07-08T10:47:00.313Z"
   },
   {
    "duration": 53,
    "start_time": "2021-07-08T10:47:00.331Z"
   },
   {
    "duration": 46,
    "start_time": "2021-07-08T10:47:00.388Z"
   },
   {
    "duration": 41,
    "start_time": "2021-07-08T10:47:00.436Z"
   },
   {
    "duration": 25,
    "start_time": "2021-07-08T10:47:00.480Z"
   },
   {
    "duration": 28,
    "start_time": "2021-07-08T10:47:00.508Z"
   },
   {
    "duration": 9,
    "start_time": "2021-07-08T10:47:00.539Z"
   },
   {
    "duration": 8,
    "start_time": "2021-07-08T10:47:00.568Z"
   },
   {
    "duration": 51,
    "start_time": "2021-07-08T10:47:00.581Z"
   },
   {
    "duration": 409,
    "start_time": "2021-07-08T10:47:00.635Z"
   },
   {
    "duration": 4319,
    "start_time": "2021-07-08T10:47:01.047Z"
   },
   {
    "duration": 32,
    "start_time": "2021-07-08T10:47:05.370Z"
   },
   {
    "duration": 19,
    "start_time": "2021-07-08T10:47:05.404Z"
   },
   {
    "duration": 877,
    "start_time": "2021-07-08T10:47:05.426Z"
   },
   {
    "duration": 3078,
    "start_time": "2021-07-08T10:47:06.305Z"
   },
   {
    "duration": 14,
    "start_time": "2021-07-08T10:47:09.386Z"
   },
   {
    "duration": 98,
    "start_time": "2021-07-08T10:47:09.403Z"
   },
   {
    "duration": 25,
    "start_time": "2021-07-08T10:47:09.504Z"
   },
   {
    "duration": 668,
    "start_time": "2021-07-08T10:47:09.531Z"
   },
   {
    "duration": 58,
    "start_time": "2021-07-08T10:48:07.578Z"
   },
   {
    "duration": 2055,
    "start_time": "2021-07-08T10:54:05.693Z"
   },
   {
    "duration": 6285,
    "start_time": "2021-07-08T10:54:01.468Z"
   },
   {
    "duration": 6283,
    "start_time": "2021-07-08T10:54:01.474Z"
   },
   {
    "duration": 6279,
    "start_time": "2021-07-08T10:54:01.480Z"
   },
   {
    "duration": 6276,
    "start_time": "2021-07-08T10:54:01.486Z"
   },
   {
    "duration": 6275,
    "start_time": "2021-07-08T10:54:01.490Z"
   },
   {
    "duration": 6245,
    "start_time": "2021-07-08T10:54:01.522Z"
   },
   {
    "duration": 6228,
    "start_time": "2021-07-08T10:54:01.540Z"
   },
   {
    "duration": 6205,
    "start_time": "2021-07-08T10:54:01.564Z"
   },
   {
    "duration": 6168,
    "start_time": "2021-07-08T10:54:01.602Z"
   },
   {
    "duration": 6139,
    "start_time": "2021-07-08T10:54:01.633Z"
   },
   {
    "duration": 6110,
    "start_time": "2021-07-08T10:54:01.663Z"
   },
   {
    "duration": 6082,
    "start_time": "2021-07-08T10:54:01.692Z"
   },
   {
    "duration": 6064,
    "start_time": "2021-07-08T10:54:01.711Z"
   },
   {
    "duration": 6046,
    "start_time": "2021-07-08T10:54:01.730Z"
   },
   {
    "duration": 6042,
    "start_time": "2021-07-08T10:54:01.735Z"
   },
   {
    "duration": 6039,
    "start_time": "2021-07-08T10:54:01.740Z"
   },
   {
    "duration": 6036,
    "start_time": "2021-07-08T10:54:01.744Z"
   },
   {
    "duration": 6032,
    "start_time": "2021-07-08T10:54:01.749Z"
   },
   {
    "duration": 6029,
    "start_time": "2021-07-08T10:54:01.753Z"
   },
   {
    "duration": 6024,
    "start_time": "2021-07-08T10:54:01.759Z"
   },
   {
    "duration": 6021,
    "start_time": "2021-07-08T10:54:01.764Z"
   },
   {
    "duration": 5991,
    "start_time": "2021-07-08T10:54:01.795Z"
   },
   {
    "duration": 5975,
    "start_time": "2021-07-08T10:54:01.812Z"
   },
   {
    "duration": 5948,
    "start_time": "2021-07-08T10:54:01.840Z"
   },
   {
    "duration": 5929,
    "start_time": "2021-07-08T10:54:01.860Z"
   },
   {
    "duration": 5912,
    "start_time": "2021-07-08T10:54:01.879Z"
   },
   {
    "duration": 5897,
    "start_time": "2021-07-08T10:54:01.895Z"
   },
   {
    "duration": 5849,
    "start_time": "2021-07-08T10:54:01.944Z"
   },
   {
    "duration": 5832,
    "start_time": "2021-07-08T10:54:01.962Z"
   },
   {
    "duration": 5816,
    "start_time": "2021-07-08T10:54:01.979Z"
   },
   {
    "duration": 5813,
    "start_time": "2021-07-08T10:54:01.984Z"
   },
   {
    "duration": 5809,
    "start_time": "2021-07-08T10:54:01.990Z"
   },
   {
    "duration": 5806,
    "start_time": "2021-07-08T10:54:01.994Z"
   },
   {
    "duration": 5799,
    "start_time": "2021-07-08T10:54:02.002Z"
   },
   {
    "duration": 1701,
    "start_time": "2021-07-08T10:55:34.587Z"
   },
   {
    "duration": 984,
    "start_time": "2021-07-08T10:55:36.291Z"
   },
   {
    "duration": 6,
    "start_time": "2021-07-08T10:55:37.279Z"
   },
   {
    "duration": 4,
    "start_time": "2021-07-08T10:55:37.289Z"
   },
   {
    "duration": 117,
    "start_time": "2021-07-08T10:55:37.296Z"
   },
   {
    "duration": 5,
    "start_time": "2021-07-08T10:55:37.415Z"
   },
   {
    "duration": 11,
    "start_time": "2021-07-08T10:55:37.423Z"
   },
   {
    "duration": 44,
    "start_time": "2021-07-08T10:55:37.438Z"
   },
   {
    "duration": 11,
    "start_time": "2021-07-08T10:55:37.486Z"
   },
   {
    "duration": 7,
    "start_time": "2021-07-08T10:55:37.499Z"
   },
   {
    "duration": 9,
    "start_time": "2021-07-08T10:55:37.509Z"
   },
   {
    "duration": 52,
    "start_time": "2021-07-08T10:55:37.520Z"
   },
   {
    "duration": 8,
    "start_time": "2021-07-08T10:55:37.575Z"
   },
   {
    "duration": 23,
    "start_time": "2021-07-08T10:55:37.585Z"
   },
   {
    "duration": 14,
    "start_time": "2021-07-08T10:55:37.610Z"
   },
   {
    "duration": 48,
    "start_time": "2021-07-08T10:55:37.626Z"
   },
   {
    "duration": 30,
    "start_time": "2021-07-08T10:55:37.678Z"
   },
   {
    "duration": 76,
    "start_time": "2021-07-08T10:55:37.710Z"
   },
   {
    "duration": 17,
    "start_time": "2021-07-08T10:55:37.789Z"
   },
   {
    "duration": 9,
    "start_time": "2021-07-08T10:55:37.809Z"
   },
   {
    "duration": 60,
    "start_time": "2021-07-08T10:55:37.821Z"
   },
   {
    "duration": 10,
    "start_time": "2021-07-08T10:55:37.891Z"
   },
   {
    "duration": 6,
    "start_time": "2021-07-08T10:55:37.907Z"
   },
   {
    "duration": 23,
    "start_time": "2021-07-08T10:55:37.916Z"
   },
   {
    "duration": 440,
    "start_time": "2021-07-08T10:55:37.962Z"
   },
   {
    "duration": 6177,
    "start_time": "2021-07-08T10:55:38.405Z"
   },
   {
    "duration": 32,
    "start_time": "2021-07-08T10:55:44.585Z"
   },
   {
    "duration": 49,
    "start_time": "2021-07-08T10:55:44.621Z"
   },
   {
    "duration": 938,
    "start_time": "2021-07-08T10:55:44.674Z"
   },
   {
    "duration": 1981,
    "start_time": "2021-07-08T10:55:45.615Z"
   },
   {
    "duration": 12,
    "start_time": "2021-07-08T10:55:47.599Z"
   },
   {
    "duration": 116,
    "start_time": "2021-07-08T10:55:47.614Z"
   },
   {
    "duration": 45,
    "start_time": "2021-07-08T10:55:47.733Z"
   },
   {
    "duration": 92,
    "start_time": "2021-07-08T10:55:47.782Z"
   },
   {
    "duration": 607,
    "start_time": "2021-07-08T10:55:47.877Z"
   },
   {
    "duration": 89413,
    "start_time": "2021-07-08T10:56:25.425Z"
   },
   {
    "duration": 1679,
    "start_time": "2021-07-08T11:05:15.873Z"
   },
   {
    "duration": 1131,
    "start_time": "2021-07-08T11:05:17.555Z"
   },
   {
    "duration": 5,
    "start_time": "2021-07-08T11:05:18.689Z"
   },
   {
    "duration": 7,
    "start_time": "2021-07-08T11:05:18.697Z"
   },
   {
    "duration": 107,
    "start_time": "2021-07-08T11:05:18.706Z"
   },
   {
    "duration": 5,
    "start_time": "2021-07-08T11:05:18.815Z"
   },
   {
    "duration": 11,
    "start_time": "2021-07-08T11:05:18.823Z"
   },
   {
    "duration": 45,
    "start_time": "2021-07-08T11:05:18.838Z"
   },
   {
    "duration": 13,
    "start_time": "2021-07-08T11:05:18.887Z"
   },
   {
    "duration": 17,
    "start_time": "2021-07-08T11:05:18.903Z"
   },
   {
    "duration": 10,
    "start_time": "2021-07-08T11:05:18.922Z"
   },
   {
    "duration": 33,
    "start_time": "2021-07-08T11:05:18.935Z"
   },
   {
    "duration": 22,
    "start_time": "2021-07-08T11:05:18.971Z"
   },
   {
    "duration": 25,
    "start_time": "2021-07-08T11:05:18.998Z"
   },
   {
    "duration": 52,
    "start_time": "2021-07-08T11:05:19.026Z"
   },
   {
    "duration": 13,
    "start_time": "2021-07-08T11:05:19.081Z"
   },
   {
    "duration": 24,
    "start_time": "2021-07-08T11:05:19.097Z"
   },
   {
    "duration": 63,
    "start_time": "2021-07-08T11:05:19.163Z"
   },
   {
    "duration": 49,
    "start_time": "2021-07-08T11:05:19.229Z"
   },
   {
    "duration": 7,
    "start_time": "2021-07-08T11:05:19.284Z"
   },
   {
    "duration": 26,
    "start_time": "2021-07-08T11:05:19.294Z"
   },
   {
    "duration": 10,
    "start_time": "2021-07-08T11:05:19.322Z"
   },
   {
    "duration": 7,
    "start_time": "2021-07-08T11:05:19.367Z"
   },
   {
    "duration": 28,
    "start_time": "2021-07-08T11:05:19.378Z"
   },
   {
    "duration": 548,
    "start_time": "2021-07-08T11:05:19.409Z"
   },
   {
    "duration": 4561,
    "start_time": "2021-07-08T11:05:19.962Z"
   },
   {
    "duration": 39,
    "start_time": "2021-07-08T11:05:24.525Z"
   },
   {
    "duration": 23,
    "start_time": "2021-07-08T11:05:24.567Z"
   },
   {
    "duration": 860,
    "start_time": "2021-07-08T11:05:24.593Z"
   },
   {
    "duration": 2274,
    "start_time": "2021-07-08T11:05:25.456Z"
   },
   {
    "duration": 12,
    "start_time": "2021-07-08T11:05:27.732Z"
   },
   {
    "duration": 113,
    "start_time": "2021-07-08T11:05:27.763Z"
   },
   {
    "duration": 29,
    "start_time": "2021-07-08T11:05:27.880Z"
   },
   {
    "duration": 78,
    "start_time": "2021-07-08T11:05:27.911Z"
   },
   {
    "duration": 42750,
    "start_time": "2021-07-08T11:05:27.992Z"
   },
   {
    "duration": 44366,
    "start_time": "2021-07-08T11:10:09.443Z"
   },
   {
    "duration": 2867,
    "start_time": "2021-07-08T11:13:20.305Z"
   },
   {
    "duration": 62,
    "start_time": "2021-07-08T11:26:33.882Z"
   },
   {
    "duration": 6,
    "start_time": "2021-07-08T11:26:45.242Z"
   },
   {
    "duration": 39047,
    "start_time": "2021-07-08T11:47:14.149Z"
   },
   {
    "duration": 154317,
    "start_time": "2021-07-08T12:10:26.363Z"
   },
   {
    "duration": 9,
    "start_time": "2021-07-08T13:11:28.973Z"
   },
   {
    "duration": 8,
    "start_time": "2021-07-08T13:11:29.739Z"
   },
   {
    "duration": 6,
    "start_time": "2021-07-08T16:43:51.142Z"
   },
   {
    "duration": 4,
    "start_time": "2021-07-08T16:44:04.376Z"
   },
   {
    "duration": 7,
    "start_time": "2021-07-08T16:44:24.500Z"
   },
   {
    "duration": 1694,
    "start_time": "2021-07-08T17:00:51.164Z"
   },
   {
    "duration": 895,
    "start_time": "2021-07-08T17:00:52.863Z"
   },
   {
    "duration": 7,
    "start_time": "2021-07-08T17:00:53.766Z"
   },
   {
    "duration": 14,
    "start_time": "2021-07-08T17:00:53.776Z"
   },
   {
    "duration": 98,
    "start_time": "2021-07-08T17:00:53.793Z"
   },
   {
    "duration": 4,
    "start_time": "2021-07-08T17:00:53.894Z"
   },
   {
    "duration": 16,
    "start_time": "2021-07-08T17:00:53.902Z"
   },
   {
    "duration": 14,
    "start_time": "2021-07-08T17:00:53.921Z"
   },
   {
    "duration": 33,
    "start_time": "2021-07-08T17:00:53.938Z"
   },
   {
    "duration": 10,
    "start_time": "2021-07-08T17:00:53.974Z"
   },
   {
    "duration": 20,
    "start_time": "2021-07-08T17:00:53.988Z"
   },
   {
    "duration": 10,
    "start_time": "2021-07-08T17:00:54.011Z"
   },
   {
    "duration": 53,
    "start_time": "2021-07-08T17:00:54.024Z"
   },
   {
    "duration": 24,
    "start_time": "2021-07-08T17:00:54.080Z"
   },
   {
    "duration": 16,
    "start_time": "2021-07-08T17:00:54.107Z"
   },
   {
    "duration": 49,
    "start_time": "2021-07-08T17:00:54.125Z"
   },
   {
    "duration": 25,
    "start_time": "2021-07-08T17:00:54.177Z"
   },
   {
    "duration": 90,
    "start_time": "2021-07-08T17:00:54.204Z"
   },
   {
    "duration": 19,
    "start_time": "2021-07-08T17:00:54.297Z"
   },
   {
    "duration": 7,
    "start_time": "2021-07-08T17:00:54.320Z"
   },
   {
    "duration": 65,
    "start_time": "2021-07-08T17:00:54.330Z"
   },
   {
    "duration": 11,
    "start_time": "2021-07-08T17:00:54.400Z"
   },
   {
    "duration": 11,
    "start_time": "2021-07-08T17:00:54.414Z"
   },
   {
    "duration": 10,
    "start_time": "2021-07-08T17:00:54.427Z"
   },
   {
    "duration": 46,
    "start_time": "2021-07-08T17:00:54.440Z"
   },
   {
    "duration": 13,
    "start_time": "2021-07-08T17:00:54.489Z"
   },
   {
    "duration": 6,
    "start_time": "2021-07-08T17:00:54.504Z"
   },
   {
    "duration": 50,
    "start_time": "2021-07-08T17:00:54.512Z"
   },
   {
    "duration": 419,
    "start_time": "2021-07-08T17:00:54.564Z"
   },
   {
    "duration": 5030,
    "start_time": "2021-07-08T17:00:54.986Z"
   },
   {
    "duration": 22,
    "start_time": "2021-07-08T17:01:00.018Z"
   },
   {
    "duration": 19,
    "start_time": "2021-07-08T17:01:00.063Z"
   },
   {
    "duration": 902,
    "start_time": "2021-07-08T17:01:00.085Z"
   },
   {
    "duration": 3011,
    "start_time": "2021-07-08T17:01:00.991Z"
   },
   {
    "duration": 160706,
    "start_time": "2021-07-08T17:01:04.005Z"
   },
   {
    "duration": 66891,
    "start_time": "2021-07-08T17:04:48.278Z"
   },
   {
    "duration": 2277,
    "start_time": "2021-07-08T17:18:38.020Z"
   },
   {
    "duration": 6942,
    "start_time": "2021-07-08T17:18:33.359Z"
   },
   {
    "duration": 6937,
    "start_time": "2021-07-08T17:18:33.366Z"
   },
   {
    "duration": 6925,
    "start_time": "2021-07-08T17:18:33.379Z"
   },
   {
    "duration": 6915,
    "start_time": "2021-07-08T17:18:33.391Z"
   },
   {
    "duration": 6913,
    "start_time": "2021-07-08T17:18:33.395Z"
   },
   {
    "duration": 6903,
    "start_time": "2021-07-08T17:18:33.406Z"
   },
   {
    "duration": 6902,
    "start_time": "2021-07-08T17:18:33.410Z"
   },
   {
    "duration": 6893,
    "start_time": "2021-07-08T17:18:33.421Z"
   },
   {
    "duration": 6890,
    "start_time": "2021-07-08T17:18:33.426Z"
   },
   {
    "duration": 6886,
    "start_time": "2021-07-08T17:18:33.432Z"
   },
   {
    "duration": 6884,
    "start_time": "2021-07-08T17:18:33.437Z"
   },
   {
    "duration": 6881,
    "start_time": "2021-07-08T17:18:33.442Z"
   },
   {
    "duration": 6878,
    "start_time": "2021-07-08T17:18:33.447Z"
   },
   {
    "duration": 6873,
    "start_time": "2021-07-08T17:18:33.454Z"
   },
   {
    "duration": 6870,
    "start_time": "2021-07-08T17:18:33.459Z"
   },
   {
    "duration": 6866,
    "start_time": "2021-07-08T17:18:33.466Z"
   },
   {
    "duration": 6863,
    "start_time": "2021-07-08T17:18:33.471Z"
   },
   {
    "duration": 6856,
    "start_time": "2021-07-08T17:18:33.480Z"
   },
   {
    "duration": 6853,
    "start_time": "2021-07-08T17:18:33.485Z"
   },
   {
    "duration": 6851,
    "start_time": "2021-07-08T17:18:33.489Z"
   },
   {
    "duration": 6869,
    "start_time": "2021-07-08T17:18:33.494Z"
   },
   {
    "duration": 6866,
    "start_time": "2021-07-08T17:18:33.499Z"
   },
   {
    "duration": 6863,
    "start_time": "2021-07-08T17:18:33.504Z"
   },
   {
    "duration": 6861,
    "start_time": "2021-07-08T17:18:33.508Z"
   },
   {
    "duration": 6857,
    "start_time": "2021-07-08T17:18:33.514Z"
   },
   {
    "duration": 6837,
    "start_time": "2021-07-08T17:18:33.536Z"
   },
   {
    "duration": 6834,
    "start_time": "2021-07-08T17:18:33.541Z"
   },
   {
    "duration": 6831,
    "start_time": "2021-07-08T17:18:33.546Z"
   },
   {
    "duration": 6829,
    "start_time": "2021-07-08T17:18:33.550Z"
   },
   {
    "duration": 6826,
    "start_time": "2021-07-08T17:18:33.555Z"
   },
   {
    "duration": 6821,
    "start_time": "2021-07-08T17:18:33.562Z"
   },
   {
    "duration": 6814,
    "start_time": "2021-07-08T17:18:33.571Z"
   },
   {
    "duration": 6814,
    "start_time": "2021-07-08T17:18:33.575Z"
   },
   {
    "duration": 6803,
    "start_time": "2021-07-08T17:18:33.588Z"
   },
   {
    "duration": 6801,
    "start_time": "2021-07-08T17:18:33.592Z"
   },
   {
    "duration": 6799,
    "start_time": "2021-07-08T17:18:33.598Z"
   },
   {
    "duration": 1624,
    "start_time": "2021-07-08T17:19:26.900Z"
   },
   {
    "duration": 1113,
    "start_time": "2021-07-08T17:19:28.527Z"
   },
   {
    "duration": 18,
    "start_time": "2021-07-08T17:19:29.644Z"
   },
   {
    "duration": 8,
    "start_time": "2021-07-08T17:19:29.666Z"
   },
   {
    "duration": 109,
    "start_time": "2021-07-08T17:19:29.677Z"
   },
   {
    "duration": 6,
    "start_time": "2021-07-08T17:19:29.789Z"
   },
   {
    "duration": 14,
    "start_time": "2021-07-08T17:19:29.798Z"
   },
   {
    "duration": 14,
    "start_time": "2021-07-08T17:19:29.815Z"
   },
   {
    "duration": 37,
    "start_time": "2021-07-08T17:19:29.833Z"
   },
   {
    "duration": 6,
    "start_time": "2021-07-08T17:19:29.873Z"
   },
   {
    "duration": 9,
    "start_time": "2021-07-08T17:19:29.882Z"
   },
   {
    "duration": 8,
    "start_time": "2021-07-08T17:19:29.893Z"
   },
   {
    "duration": 11,
    "start_time": "2021-07-08T17:19:29.903Z"
   },
   {
    "duration": 63,
    "start_time": "2021-07-08T17:19:29.916Z"
   },
   {
    "duration": 16,
    "start_time": "2021-07-08T17:19:29.981Z"
   },
   {
    "duration": 12,
    "start_time": "2021-07-08T17:19:29.999Z"
   },
   {
    "duration": 62,
    "start_time": "2021-07-08T17:19:30.013Z"
   },
   {
    "duration": 41,
    "start_time": "2021-07-08T17:19:30.077Z"
   },
   {
    "duration": 46,
    "start_time": "2021-07-08T17:19:30.120Z"
   },
   {
    "duration": 7,
    "start_time": "2021-07-08T17:19:30.168Z"
   },
   {
    "duration": 41,
    "start_time": "2021-07-08T17:19:30.177Z"
   },
   {
    "duration": 14,
    "start_time": "2021-07-08T17:19:30.221Z"
   },
   {
    "duration": 13,
    "start_time": "2021-07-08T17:19:30.242Z"
   },
   {
    "duration": 18,
    "start_time": "2021-07-08T17:19:30.263Z"
   },
   {
    "duration": 51,
    "start_time": "2021-07-08T17:19:30.283Z"
   },
   {
    "duration": 12,
    "start_time": "2021-07-08T17:19:30.337Z"
   },
   {
    "duration": 17,
    "start_time": "2021-07-08T17:19:30.352Z"
   },
   {
    "duration": 43,
    "start_time": "2021-07-08T17:19:30.371Z"
   },
   {
    "duration": 376,
    "start_time": "2021-07-08T17:19:30.417Z"
   },
   {
    "duration": 3892,
    "start_time": "2021-07-08T17:19:30.796Z"
   },
   {
    "duration": 24,
    "start_time": "2021-07-08T17:19:34.690Z"
   },
   {
    "duration": 46,
    "start_time": "2021-07-08T17:19:34.717Z"
   },
   {
    "duration": 841,
    "start_time": "2021-07-08T17:19:34.766Z"
   },
   {
    "duration": 2582,
    "start_time": "2021-07-08T17:19:35.610Z"
   },
   {
    "duration": 6,
    "start_time": "2021-07-08T17:19:38.195Z"
   },
   {
    "duration": 19,
    "start_time": "2021-07-08T17:19:38.204Z"
   },
   {
    "duration": 23872,
    "start_time": "2021-07-08T17:19:38.226Z"
   },
   {
    "duration": 10078,
    "start_time": "2021-07-08T17:20:48.196Z"
   },
   {
    "duration": 163597,
    "start_time": "2021-07-08T17:29:17.509Z"
   },
   {
    "duration": 502,
    "start_time": "2021-07-08T17:53:07.323Z"
   },
   {
    "duration": 392,
    "start_time": "2021-07-08T17:53:51.042Z"
   },
   {
    "duration": 45585,
    "start_time": "2021-07-08T17:55:09.546Z"
   },
   {
    "duration": 23909,
    "start_time": "2021-07-08T20:03:21.651Z"
   },
   {
    "duration": 22605,
    "start_time": "2021-07-08T20:04:41.672Z"
   },
   {
    "duration": 22799,
    "start_time": "2021-07-08T20:06:21.728Z"
   },
   {
    "duration": 456,
    "start_time": "2021-07-08T20:08:07.375Z"
   },
   {
    "duration": 53209,
    "start_time": "2021-07-08T20:08:14.500Z"
   },
   {
    "duration": 4,
    "start_time": "2021-07-08T20:09:11.643Z"
   },
   {
    "duration": 5,
    "start_time": "2021-07-08T20:09:17.754Z"
   },
   {
    "duration": 12,
    "start_time": "2021-07-08T20:36:47.714Z"
   },
   {
    "duration": 5,
    "start_time": "2021-07-08T20:36:59.000Z"
   },
   {
    "duration": 180029,
    "start_time": "2021-07-08T20:39:06.566Z"
   },
   {
    "duration": 75500,
    "start_time": "2021-07-08T20:42:40.605Z"
   },
   {
    "duration": 12,
    "start_time": "2021-07-08T20:44:29.003Z"
   },
   {
    "duration": 1126,
    "start_time": "2021-07-09T06:57:02.309Z"
   },
   {
    "duration": 667,
    "start_time": "2021-07-09T06:57:03.437Z"
   },
   {
    "duration": 3,
    "start_time": "2021-07-09T06:57:04.106Z"
   },
   {
    "duration": 6,
    "start_time": "2021-07-09T06:57:04.110Z"
   },
   {
    "duration": 36,
    "start_time": "2021-07-09T06:57:04.118Z"
   },
   {
    "duration": 2,
    "start_time": "2021-07-09T06:57:04.156Z"
   },
   {
    "duration": 11,
    "start_time": "2021-07-09T06:57:04.160Z"
   },
   {
    "duration": 10,
    "start_time": "2021-07-09T06:57:04.173Z"
   },
   {
    "duration": 6,
    "start_time": "2021-07-09T06:57:04.192Z"
   },
   {
    "duration": 4,
    "start_time": "2021-07-09T06:57:04.199Z"
   },
   {
    "duration": 5,
    "start_time": "2021-07-09T06:57:04.204Z"
   },
   {
    "duration": 4,
    "start_time": "2021-07-09T06:57:04.210Z"
   },
   {
    "duration": 8,
    "start_time": "2021-07-09T06:57:04.215Z"
   },
   {
    "duration": 19,
    "start_time": "2021-07-09T06:57:04.224Z"
   },
   {
    "duration": 9,
    "start_time": "2021-07-09T06:57:04.244Z"
   },
   {
    "duration": 6,
    "start_time": "2021-07-09T06:57:04.255Z"
   },
   {
    "duration": 15,
    "start_time": "2021-07-09T06:57:04.291Z"
   },
   {
    "duration": 27,
    "start_time": "2021-07-09T06:57:04.307Z"
   },
   {
    "duration": 11,
    "start_time": "2021-07-09T06:57:04.336Z"
   },
   {
    "duration": 6,
    "start_time": "2021-07-09T06:57:04.348Z"
   },
   {
    "duration": 43,
    "start_time": "2021-07-09T06:57:04.355Z"
   },
   {
    "duration": 7,
    "start_time": "2021-07-09T06:57:04.400Z"
   },
   {
    "duration": 6,
    "start_time": "2021-07-09T06:57:04.410Z"
   },
   {
    "duration": 6,
    "start_time": "2021-07-09T06:57:04.418Z"
   },
   {
    "duration": 24,
    "start_time": "2021-07-09T06:57:04.426Z"
   },
   {
    "duration": 8,
    "start_time": "2021-07-09T06:57:04.451Z"
   },
   {
    "duration": 7,
    "start_time": "2021-07-09T06:57:04.461Z"
   },
   {
    "duration": 26,
    "start_time": "2021-07-09T06:57:04.469Z"
   },
   {
    "duration": 209,
    "start_time": "2021-07-09T06:57:04.496Z"
   },
   {
    "duration": 2111,
    "start_time": "2021-07-09T06:57:04.707Z"
   },
   {
    "duration": 15,
    "start_time": "2021-07-09T06:57:06.819Z"
   },
   {
    "duration": 9,
    "start_time": "2021-07-09T06:57:06.835Z"
   },
   {
    "duration": 415,
    "start_time": "2021-07-09T06:57:06.845Z"
   },
   {
    "duration": 1046,
    "start_time": "2021-07-09T06:57:07.262Z"
   },
   {
    "duration": 3,
    "start_time": "2021-07-09T06:57:08.309Z"
   },
   {
    "duration": 5,
    "start_time": "2021-07-09T06:57:08.314Z"
   },
   {
    "duration": 1845826,
    "start_time": "2021-07-09T06:57:08.320Z"
   },
   {
    "duration": 13,
    "start_time": "2021-07-09T07:27:54.148Z"
   },
   {
    "duration": 436,
    "start_time": "2021-07-09T07:27:54.162Z"
   },
   {
    "duration": 45401,
    "start_time": "2021-07-09T07:27:54.600Z"
   },
   {
    "duration": 7100,
    "start_time": "2021-07-09T07:28:32.903Z"
   },
   {
    "duration": 7085,
    "start_time": "2021-07-09T07:28:32.920Z"
   },
   {
    "duration": 7077,
    "start_time": "2021-07-09T07:28:32.929Z"
   },
   {
    "duration": 7069,
    "start_time": "2021-07-09T07:28:32.938Z"
   },
   {
    "duration": 7063,
    "start_time": "2021-07-09T07:28:32.945Z"
   },
   {
    "duration": 7059,
    "start_time": "2021-07-09T07:28:32.951Z"
   },
   {
    "duration": 7053,
    "start_time": "2021-07-09T07:28:32.958Z"
   },
   {
    "duration": 7047,
    "start_time": "2021-07-09T07:28:32.965Z"
   },
   {
    "duration": 7041,
    "start_time": "2021-07-09T07:28:32.972Z"
   },
   {
    "duration": 8,
    "start_time": "2021-07-09T07:31:10.717Z"
   },
   {
    "duration": 4,
    "start_time": "2021-07-09T07:31:12.280Z"
   },
   {
    "duration": 1171,
    "start_time": "2021-07-09T07:32:17.055Z"
   },
   {
    "duration": 655,
    "start_time": "2021-07-09T07:32:18.228Z"
   },
   {
    "duration": 3,
    "start_time": "2021-07-09T07:32:18.885Z"
   },
   {
    "duration": 5,
    "start_time": "2021-07-09T07:32:18.890Z"
   },
   {
    "duration": 37,
    "start_time": "2021-07-09T07:32:18.896Z"
   },
   {
    "duration": 3,
    "start_time": "2021-07-09T07:32:18.934Z"
   },
   {
    "duration": 9,
    "start_time": "2021-07-09T07:32:18.938Z"
   },
   {
    "duration": 8,
    "start_time": "2021-07-09T07:32:18.949Z"
   },
   {
    "duration": 5,
    "start_time": "2021-07-09T07:32:18.959Z"
   },
   {
    "duration": 27,
    "start_time": "2021-07-09T07:32:18.965Z"
   },
   {
    "duration": 5,
    "start_time": "2021-07-09T07:32:18.993Z"
   },
   {
    "duration": 7,
    "start_time": "2021-07-09T07:32:19.000Z"
   },
   {
    "duration": 9,
    "start_time": "2021-07-09T07:32:19.008Z"
   },
   {
    "duration": 18,
    "start_time": "2021-07-09T07:32:19.018Z"
   },
   {
    "duration": 9,
    "start_time": "2021-07-09T07:32:19.037Z"
   },
   {
    "duration": 7,
    "start_time": "2021-07-09T07:32:19.047Z"
   },
   {
    "duration": 36,
    "start_time": "2021-07-09T07:32:19.055Z"
   },
   {
    "duration": 28,
    "start_time": "2021-07-09T07:32:19.092Z"
   },
   {
    "duration": 10,
    "start_time": "2021-07-09T07:32:19.122Z"
   },
   {
    "duration": 5,
    "start_time": "2021-07-09T07:32:19.134Z"
   },
   {
    "duration": 17,
    "start_time": "2021-07-09T07:32:19.140Z"
   },
   {
    "duration": 6,
    "start_time": "2021-07-09T07:32:19.159Z"
   },
   {
    "duration": 6,
    "start_time": "2021-07-09T07:32:19.192Z"
   },
   {
    "duration": 6,
    "start_time": "2021-07-09T07:32:19.200Z"
   },
   {
    "duration": 25,
    "start_time": "2021-07-09T07:32:19.208Z"
   },
   {
    "duration": 9,
    "start_time": "2021-07-09T07:32:19.234Z"
   },
   {
    "duration": 3,
    "start_time": "2021-07-09T07:32:19.245Z"
   },
   {
    "duration": 21,
    "start_time": "2021-07-09T07:32:19.249Z"
   },
   {
    "duration": 203,
    "start_time": "2021-07-09T07:32:19.271Z"
   },
   {
    "duration": 1896,
    "start_time": "2021-07-09T07:32:19.476Z"
   },
   {
    "duration": 26,
    "start_time": "2021-07-09T07:32:21.374Z"
   },
   {
    "duration": 10,
    "start_time": "2021-07-09T07:32:21.401Z"
   },
   {
    "duration": 519,
    "start_time": "2021-07-09T07:32:21.413Z"
   },
   {
    "duration": 1048,
    "start_time": "2021-07-09T07:32:21.934Z"
   },
   {
    "duration": 3,
    "start_time": "2021-07-09T07:32:22.991Z"
   },
   {
    "duration": 6,
    "start_time": "2021-07-09T07:32:22.995Z"
   },
   {
    "duration": 644851,
    "start_time": "2021-07-09T07:32:23.002Z"
   },
   {
    "duration": 12,
    "start_time": "2021-07-09T07:43:07.855Z"
   },
   {
    "duration": 828,
    "start_time": "2021-07-09T07:43:07.868Z"
   },
   {
    "duration": 255749,
    "start_time": "2021-07-09T07:43:08.698Z"
   },
   {
    "duration": 7114,
    "start_time": "2021-07-09T07:47:17.335Z"
   },
   {
    "duration": 7080,
    "start_time": "2021-07-09T07:47:17.370Z"
   },
   {
    "duration": 7074,
    "start_time": "2021-07-09T07:47:17.377Z"
   },
   {
    "duration": 7069,
    "start_time": "2021-07-09T07:47:17.383Z"
   },
   {
    "duration": 7063,
    "start_time": "2021-07-09T07:47:17.390Z"
   },
   {
    "duration": 7058,
    "start_time": "2021-07-09T07:47:17.396Z"
   },
   {
    "duration": 7053,
    "start_time": "2021-07-09T07:47:17.402Z"
   },
   {
    "duration": 7048,
    "start_time": "2021-07-09T07:47:17.408Z"
   },
   {
    "duration": 7044,
    "start_time": "2021-07-09T07:47:17.413Z"
   },
   {
    "duration": 4,
    "start_time": "2021-07-09T07:52:04.462Z"
   },
   {
    "duration": 26,
    "start_time": "2021-07-09T07:53:39.316Z"
   },
   {
    "duration": 1109,
    "start_time": "2021-07-09T07:56:24.123Z"
   },
   {
    "duration": 648,
    "start_time": "2021-07-09T07:56:25.234Z"
   },
   {
    "duration": 4,
    "start_time": "2021-07-09T07:56:25.883Z"
   },
   {
    "duration": 5,
    "start_time": "2021-07-09T07:56:25.888Z"
   },
   {
    "duration": 36,
    "start_time": "2021-07-09T07:56:25.895Z"
   },
   {
    "duration": 3,
    "start_time": "2021-07-09T07:56:25.933Z"
   },
   {
    "duration": 11,
    "start_time": "2021-07-09T07:56:25.938Z"
   },
   {
    "duration": 9,
    "start_time": "2021-07-09T07:56:25.952Z"
   },
   {
    "duration": 32,
    "start_time": "2021-07-09T07:56:25.962Z"
   },
   {
    "duration": 4,
    "start_time": "2021-07-09T07:56:25.996Z"
   },
   {
    "duration": 6,
    "start_time": "2021-07-09T07:56:26.002Z"
   },
   {
    "duration": 7,
    "start_time": "2021-07-09T07:56:26.010Z"
   },
   {
    "duration": 9,
    "start_time": "2021-07-09T07:56:26.018Z"
   },
   {
    "duration": 15,
    "start_time": "2021-07-09T07:56:26.029Z"
   },
   {
    "duration": 9,
    "start_time": "2021-07-09T07:56:26.045Z"
   },
   {
    "duration": 6,
    "start_time": "2021-07-09T07:56:26.056Z"
   },
   {
    "duration": 14,
    "start_time": "2021-07-09T07:56:26.091Z"
   },
   {
    "duration": 28,
    "start_time": "2021-07-09T07:56:26.107Z"
   },
   {
    "duration": 10,
    "start_time": "2021-07-09T07:56:26.137Z"
   },
   {
    "duration": 6,
    "start_time": "2021-07-09T07:56:26.149Z"
   },
   {
    "duration": 36,
    "start_time": "2021-07-09T07:56:26.156Z"
   },
   {
    "duration": 7,
    "start_time": "2021-07-09T07:56:26.193Z"
   },
   {
    "duration": 8,
    "start_time": "2021-07-09T07:56:26.203Z"
   },
   {
    "duration": 9,
    "start_time": "2021-07-09T07:56:26.213Z"
   },
   {
    "duration": 24,
    "start_time": "2021-07-09T07:56:26.223Z"
   },
   {
    "duration": 8,
    "start_time": "2021-07-09T07:56:26.248Z"
   },
   {
    "duration": 5,
    "start_time": "2021-07-09T07:56:26.258Z"
   },
   {
    "duration": 35,
    "start_time": "2021-07-09T07:56:26.264Z"
   },
   {
    "duration": 227,
    "start_time": "2021-07-09T07:56:26.301Z"
   },
   {
    "duration": 1948,
    "start_time": "2021-07-09T07:56:26.530Z"
   },
   {
    "duration": 20,
    "start_time": "2021-07-09T07:56:28.480Z"
   },
   {
    "duration": 9,
    "start_time": "2021-07-09T07:56:28.501Z"
   },
   {
    "duration": 421,
    "start_time": "2021-07-09T07:56:28.511Z"
   },
   {
    "duration": 1040,
    "start_time": "2021-07-09T07:56:28.934Z"
   },
   {
    "duration": 3,
    "start_time": "2021-07-09T07:56:29.976Z"
   },
   {
    "duration": 11,
    "start_time": "2021-07-09T07:56:29.981Z"
   },
   {
    "duration": 622785,
    "start_time": "2021-07-09T07:56:29.994Z"
   },
   {
    "duration": 16,
    "start_time": "2021-07-09T08:06:52.781Z"
   },
   {
    "duration": 600,
    "start_time": "2021-07-09T08:06:52.799Z"
   },
   {
    "duration": 22710,
    "start_time": "2021-07-09T08:06:53.401Z"
   },
   {
    "duration": 1465612,
    "start_time": "2021-07-09T08:07:16.112Z"
   },
   {
    "duration": 10,
    "start_time": "2021-07-09T08:31:41.726Z"
   },
   {
    "duration": 1556,
    "start_time": "2021-07-09T08:31:41.738Z"
   },
   {
    "duration": 113016,
    "start_time": "2021-07-09T08:31:43.296Z"
   },
   {
    "duration": 45804,
    "start_time": "2021-07-09T08:33:36.314Z"
   },
   {
    "duration": 27309,
    "start_time": "2021-07-09T08:34:22.119Z"
   },
   {
    "duration": 12501,
    "start_time": "2021-07-09T08:34:49.429Z"
   },
   {
    "duration": 3,
    "start_time": "2021-07-09T08:35:01.932Z"
   },
   {
    "duration": 13,
    "start_time": "2021-07-09T08:35:01.937Z"
   },
   {
    "duration": 4,
    "start_time": "2021-07-09T08:35:01.951Z"
   },
   {
    "duration": 8,
    "start_time": "2021-07-09T09:16:48.711Z"
   },
   {
    "duration": 8,
    "start_time": "2021-07-09T10:31:52.874Z"
   },
   {
    "duration": 8,
    "start_time": "2021-07-09T10:31:56.657Z"
   },
   {
    "duration": 1099,
    "start_time": "2021-07-09T10:36:36.644Z"
   },
   {
    "duration": 688,
    "start_time": "2021-07-09T10:36:37.745Z"
   },
   {
    "duration": 3,
    "start_time": "2021-07-09T10:36:38.435Z"
   },
   {
    "duration": 8,
    "start_time": "2021-07-09T10:36:38.440Z"
   },
   {
    "duration": 42,
    "start_time": "2021-07-09T10:36:38.449Z"
   },
   {
    "duration": 3,
    "start_time": "2021-07-09T10:36:38.493Z"
   },
   {
    "duration": 5,
    "start_time": "2021-07-09T10:36:38.612Z"
   },
   {
    "duration": 10,
    "start_time": "2021-07-09T10:36:38.872Z"
   },
   {
    "duration": 9,
    "start_time": "2021-07-09T10:36:39.022Z"
   },
   {
    "duration": 5,
    "start_time": "2021-07-09T10:36:39.451Z"
   },
   {
    "duration": 4,
    "start_time": "2021-07-09T10:36:40.022Z"
   },
   {
    "duration": 4,
    "start_time": "2021-07-09T10:36:40.311Z"
   },
   {
    "duration": 5,
    "start_time": "2021-07-09T10:36:40.598Z"
   },
   {
    "duration": 13,
    "start_time": "2021-07-09T10:36:41.174Z"
   },
   {
    "duration": 11,
    "start_time": "2021-07-09T10:36:41.606Z"
   },
   {
    "duration": 7,
    "start_time": "2021-07-09T10:36:41.894Z"
   },
   {
    "duration": 17,
    "start_time": "2021-07-09T10:36:42.334Z"
   },
   {
    "duration": 30,
    "start_time": "2021-07-09T10:36:42.622Z"
   },
   {
    "duration": 12,
    "start_time": "2021-07-09T10:36:43.065Z"
   },
   {
    "duration": 6,
    "start_time": "2021-07-09T10:36:43.358Z"
   },
   {
    "duration": 13,
    "start_time": "2021-07-09T10:36:43.790Z"
   },
   {
    "duration": 8,
    "start_time": "2021-07-09T10:36:44.079Z"
   },
   {
    "duration": 7,
    "start_time": "2021-07-09T10:36:44.224Z"
   },
   {
    "duration": 7,
    "start_time": "2021-07-09T10:36:44.375Z"
   },
   {
    "duration": 20,
    "start_time": "2021-07-09T10:36:44.511Z"
   },
   {
    "duration": 11,
    "start_time": "2021-07-09T10:36:44.657Z"
   },
   {
    "duration": 3,
    "start_time": "2021-07-09T10:36:45.733Z"
   },
   {
    "duration": 15,
    "start_time": "2021-07-09T10:36:46.654Z"
   },
   {
    "duration": 187,
    "start_time": "2021-07-09T10:36:46.958Z"
   },
   {
    "duration": 1937,
    "start_time": "2021-07-09T10:36:47.415Z"
   },
   {
    "duration": 14,
    "start_time": "2021-07-09T10:36:50.514Z"
   },
   {
    "duration": 10,
    "start_time": "2021-07-09T10:36:51.881Z"
   },
   {
    "duration": 400,
    "start_time": "2021-07-09T10:36:52.023Z"
   },
   {
    "duration": 1047,
    "start_time": "2021-07-09T10:36:52.672Z"
   },
   {
    "duration": 3,
    "start_time": "2021-07-09T10:36:59.609Z"
   },
   {
    "duration": 3,
    "start_time": "2021-07-09T10:37:01.455Z"
   },
   {
    "duration": 252,
    "start_time": "2021-07-09T10:37:16.046Z"
   },
   {
    "duration": 10644,
    "start_time": "2021-07-09T10:37:25.698Z"
   },
   {
    "duration": 1348,
    "start_time": "2021-07-09T10:38:15.751Z"
   },
   {
    "duration": 21301,
    "start_time": "2021-07-09T10:38:20.025Z"
   },
   {
    "duration": 2575,
    "start_time": "2021-07-09T10:58:06.883Z"
   },
   {
    "duration": 5172,
    "start_time": "2021-07-09T10:58:11.476Z"
   },
   {
    "duration": 4,
    "start_time": "2021-07-09T10:58:21.230Z"
   },
   {
    "duration": 4,
    "start_time": "2021-07-09T10:58:40.081Z"
   },
   {
    "duration": 4,
    "start_time": "2021-07-09T10:58:41.764Z"
   },
   {
    "duration": 8,
    "start_time": "2021-07-09T10:58:54.631Z"
   },
   {
    "duration": 4,
    "start_time": "2021-07-09T11:02:32.092Z"
   },
   {
    "duration": 8,
    "start_time": "2021-07-09T11:05:28.947Z"
   },
   {
    "duration": 8,
    "start_time": "2021-07-09T11:05:29.700Z"
   },
   {
    "duration": 4409,
    "start_time": "2021-07-09T11:05:32.380Z"
   },
   {
    "duration": 5,
    "start_time": "2021-07-09T12:44:59.444Z"
   },
   {
    "duration": 240,
    "start_time": "2021-07-09T12:55:56.319Z"
   },
   {
    "duration": 186,
    "start_time": "2021-07-09T12:56:21.531Z"
   },
   {
    "duration": 1364,
    "start_time": "2021-07-09T13:36:17.487Z"
   },
   {
    "duration": 684,
    "start_time": "2021-07-09T13:36:18.852Z"
   },
   {
    "duration": 3,
    "start_time": "2021-07-09T13:36:19.539Z"
   },
   {
    "duration": 5,
    "start_time": "2021-07-09T13:36:19.544Z"
   },
   {
    "duration": 56,
    "start_time": "2021-07-09T13:36:19.551Z"
   },
   {
    "duration": 3,
    "start_time": "2021-07-09T13:36:19.609Z"
   },
   {
    "duration": 10,
    "start_time": "2021-07-09T13:36:19.613Z"
   },
   {
    "duration": 12,
    "start_time": "2021-07-09T13:36:19.625Z"
   },
   {
    "duration": 7,
    "start_time": "2021-07-09T13:36:19.639Z"
   },
   {
    "duration": 13,
    "start_time": "2021-07-09T13:36:19.647Z"
   },
   {
    "duration": 12,
    "start_time": "2021-07-09T13:36:19.662Z"
   },
   {
    "duration": 16,
    "start_time": "2021-07-09T13:36:19.676Z"
   },
   {
    "duration": 9,
    "start_time": "2021-07-09T13:36:19.693Z"
   },
   {
    "duration": 24,
    "start_time": "2021-07-09T13:36:19.703Z"
   },
   {
    "duration": 9,
    "start_time": "2021-07-09T13:36:19.729Z"
   },
   {
    "duration": 7,
    "start_time": "2021-07-09T13:36:19.739Z"
   },
   {
    "duration": 29,
    "start_time": "2021-07-09T13:36:19.748Z"
   },
   {
    "duration": 28,
    "start_time": "2021-07-09T13:36:19.778Z"
   },
   {
    "duration": 202,
    "start_time": "2021-07-09T13:36:19.808Z"
   },
   {
    "duration": 11,
    "start_time": "2021-07-09T13:36:20.012Z"
   },
   {
    "duration": 5,
    "start_time": "2021-07-09T13:36:20.025Z"
   },
   {
    "duration": 17,
    "start_time": "2021-07-09T13:36:20.032Z"
   },
   {
    "duration": 6,
    "start_time": "2021-07-09T13:36:20.052Z"
   },
   {
    "duration": 8,
    "start_time": "2021-07-09T13:36:20.059Z"
   },
   {
    "duration": 6,
    "start_time": "2021-07-09T13:36:20.224Z"
   },
   {
    "duration": 12,
    "start_time": "2021-07-09T13:36:20.513Z"
   },
   {
    "duration": 21,
    "start_time": "2021-07-09T13:36:20.808Z"
   },
   {
    "duration": 5,
    "start_time": "2021-07-09T13:36:20.831Z"
   },
   {
    "duration": 15,
    "start_time": "2021-07-09T13:36:21.407Z"
   },
   {
    "duration": 193,
    "start_time": "2021-07-09T13:36:21.785Z"
   },
   {
    "duration": 2036,
    "start_time": "2021-07-09T13:36:22.086Z"
   },
   {
    "duration": 14,
    "start_time": "2021-07-09T13:36:24.124Z"
   },
   {
    "duration": 9,
    "start_time": "2021-07-09T13:36:24.140Z"
   },
   {
    "duration": 432,
    "start_time": "2021-07-09T13:36:24.150Z"
   },
   {
    "duration": 1177,
    "start_time": "2021-07-09T13:36:24.583Z"
   },
   {
    "duration": 3,
    "start_time": "2021-07-09T13:36:25.762Z"
   },
   {
    "duration": 6,
    "start_time": "2021-07-09T13:36:25.766Z"
   },
   {
    "duration": 638152,
    "start_time": "2021-07-09T13:36:25.774Z"
   },
   {
    "duration": 13,
    "start_time": "2021-07-09T13:47:03.928Z"
   },
   {
    "duration": 366,
    "start_time": "2021-07-09T13:47:03.943Z"
   },
   {
    "duration": 11241,
    "start_time": "2021-07-09T13:47:04.312Z"
   },
   {
    "duration": 1548976,
    "start_time": "2021-07-09T13:47:15.555Z"
   },
   {
    "duration": 11,
    "start_time": "2021-07-09T14:13:04.533Z"
   },
   {
    "duration": 1653,
    "start_time": "2021-07-09T14:13:04.546Z"
   },
   {
    "duration": 21801,
    "start_time": "2021-07-09T14:13:06.202Z"
   },
   {
    "duration": 2827,
    "start_time": "2021-07-09T14:13:28.005Z"
   },
   {
    "duration": 7924,
    "start_time": "2021-07-09T14:13:22.910Z"
   },
   {
    "duration": 7913,
    "start_time": "2021-07-09T14:13:22.922Z"
   },
   {
    "duration": 7906,
    "start_time": "2021-07-09T14:13:22.929Z"
   },
   {
    "duration": 7898,
    "start_time": "2021-07-09T14:13:22.938Z"
   },
   {
    "duration": 7887,
    "start_time": "2021-07-09T14:13:22.950Z"
   },
   {
    "duration": 7880,
    "start_time": "2021-07-09T14:13:22.958Z"
   },
   {
    "duration": 2505,
    "start_time": "2021-07-09T14:16:37.796Z"
   },
   {
    "duration": 2491,
    "start_time": "2021-07-09T14:16:55.514Z"
   },
   {
    "duration": 5329,
    "start_time": "2021-07-09T14:16:58.007Z"
   },
   {
    "duration": 4,
    "start_time": "2021-07-09T14:17:08.918Z"
   },
   {
    "duration": 236,
    "start_time": "2021-07-09T14:17:14.785Z"
   },
   {
    "duration": 4,
    "start_time": "2021-07-09T14:17:59.147Z"
   },
   {
    "duration": 8,
    "start_time": "2021-07-09T14:18:13.056Z"
   },
   {
    "duration": 8,
    "start_time": "2021-07-09T14:18:19.281Z"
   },
   {
    "duration": 8,
    "start_time": "2021-07-09T14:18:24.545Z"
   },
   {
    "duration": 189,
    "start_time": "2021-07-09T14:22:44.978Z"
   },
   {
    "duration": 1081,
    "start_time": "2021-07-09T14:24:32.557Z"
   },
   {
    "duration": 677,
    "start_time": "2021-07-09T14:24:33.640Z"
   },
   {
    "duration": 4,
    "start_time": "2021-07-09T14:24:34.319Z"
   },
   {
    "duration": 5,
    "start_time": "2021-07-09T14:24:34.324Z"
   },
   {
    "duration": 35,
    "start_time": "2021-07-09T14:24:34.330Z"
   },
   {
    "duration": 3,
    "start_time": "2021-07-09T14:24:34.367Z"
   },
   {
    "duration": 21,
    "start_time": "2021-07-09T14:24:34.371Z"
   },
   {
    "duration": 9,
    "start_time": "2021-07-09T14:24:34.394Z"
   },
   {
    "duration": 6,
    "start_time": "2021-07-09T14:24:34.405Z"
   },
   {
    "duration": 4,
    "start_time": "2021-07-09T14:24:34.412Z"
   },
   {
    "duration": 8,
    "start_time": "2021-07-09T14:24:34.417Z"
   },
   {
    "duration": 8,
    "start_time": "2021-07-09T14:24:34.426Z"
   },
   {
    "duration": 12,
    "start_time": "2021-07-09T14:24:34.435Z"
   },
   {
    "duration": 19,
    "start_time": "2021-07-09T14:24:34.449Z"
   },
   {
    "duration": 26,
    "start_time": "2021-07-09T14:24:34.470Z"
   },
   {
    "duration": 7,
    "start_time": "2021-07-09T14:24:34.497Z"
   },
   {
    "duration": 22,
    "start_time": "2021-07-09T14:24:34.505Z"
   },
   {
    "duration": 29,
    "start_time": "2021-07-09T14:24:34.529Z"
   },
   {
    "duration": 213,
    "start_time": "2021-07-09T14:24:34.560Z"
   },
   {
    "duration": 20,
    "start_time": "2021-07-09T14:24:34.775Z"
   },
   {
    "duration": 5,
    "start_time": "2021-07-09T14:24:34.797Z"
   },
   {
    "duration": 14,
    "start_time": "2021-07-09T14:24:34.803Z"
   },
   {
    "duration": 5,
    "start_time": "2021-07-09T14:24:34.820Z"
   },
   {
    "duration": 7,
    "start_time": "2021-07-09T14:24:34.827Z"
   },
   {
    "duration": 6,
    "start_time": "2021-07-09T14:24:34.836Z"
   },
   {
    "duration": 15,
    "start_time": "2021-07-09T14:24:34.844Z"
   },
   {
    "duration": 40,
    "start_time": "2021-07-09T14:24:34.860Z"
   },
   {
    "duration": 6,
    "start_time": "2021-07-09T14:24:34.901Z"
   },
   {
    "duration": 15,
    "start_time": "2021-07-09T14:24:34.908Z"
   },
   {
    "duration": 209,
    "start_time": "2021-07-09T14:24:34.925Z"
   },
   {
    "duration": 1945,
    "start_time": "2021-07-09T14:24:35.136Z"
   },
   {
    "duration": 18,
    "start_time": "2021-07-09T14:24:37.082Z"
   },
   {
    "duration": 10,
    "start_time": "2021-07-09T14:24:37.102Z"
   },
   {
    "duration": 423,
    "start_time": "2021-07-09T14:24:37.113Z"
   },
   {
    "duration": 1072,
    "start_time": "2021-07-09T14:24:37.537Z"
   },
   {
    "duration": 3,
    "start_time": "2021-07-09T14:24:38.611Z"
   },
   {
    "duration": 5,
    "start_time": "2021-07-09T14:24:38.615Z"
   },
   {
    "duration": 633693,
    "start_time": "2021-07-09T14:24:38.622Z"
   },
   {
    "duration": 12,
    "start_time": "2021-07-09T14:35:12.316Z"
   },
   {
    "duration": 471,
    "start_time": "2021-07-09T14:35:12.329Z"
   },
   {
    "duration": 10063,
    "start_time": "2021-07-09T14:35:12.893Z"
   },
   {
    "duration": 1485919,
    "start_time": "2021-07-09T14:35:22.958Z"
   },
   {
    "duration": 15,
    "start_time": "2021-07-09T15:00:08.879Z"
   },
   {
    "duration": 1004,
    "start_time": "2021-07-09T15:00:08.896Z"
   },
   {
    "duration": 21008,
    "start_time": "2021-07-09T15:00:09.992Z"
   },
   {
    "duration": 2512,
    "start_time": "2021-07-09T15:00:31.001Z"
   },
   {
    "duration": 5184,
    "start_time": "2021-07-09T15:00:33.515Z"
   },
   {
    "duration": 3,
    "start_time": "2021-07-09T15:00:38.701Z"
   },
   {
    "duration": 6,
    "start_time": "2021-07-09T15:00:38.706Z"
   },
   {
    "duration": 11,
    "start_time": "2021-07-09T15:00:38.714Z"
   },
   {
    "duration": 7,
    "start_time": "2021-07-09T15:00:38.727Z"
   },
   {
    "duration": 6,
    "start_time": "2021-07-09T15:00:38.736Z"
   },
   {
    "duration": 1557,
    "start_time": "2021-07-10T13:00:02.076Z"
   },
   {
    "duration": 904,
    "start_time": "2021-07-10T13:00:05.072Z"
   },
   {
    "duration": 5,
    "start_time": "2021-07-10T13:00:05.979Z"
   },
   {
    "duration": 4,
    "start_time": "2021-07-10T13:00:06.068Z"
   },
   {
    "duration": 58,
    "start_time": "2021-07-10T13:00:06.333Z"
   },
   {
    "duration": 5,
    "start_time": "2021-07-10T13:00:06.905Z"
   },
   {
    "duration": 10,
    "start_time": "2021-07-10T13:00:07.493Z"
   },
   {
    "duration": 15,
    "start_time": "2021-07-10T13:00:07.763Z"
   },
   {
    "duration": 13,
    "start_time": "2021-07-10T13:00:07.903Z"
   },
   {
    "duration": 8,
    "start_time": "2021-07-10T13:00:08.344Z"
   },
   {
    "duration": 6,
    "start_time": "2021-07-10T13:00:09.054Z"
   },
   {
    "duration": 6,
    "start_time": "2021-07-10T13:00:09.349Z"
   },
   {
    "duration": 6,
    "start_time": "2021-07-10T13:00:09.645Z"
   },
   {
    "duration": 19,
    "start_time": "2021-07-10T13:00:10.340Z"
   },
   {
    "duration": 19,
    "start_time": "2021-07-10T13:00:10.767Z"
   },
   {
    "duration": 11,
    "start_time": "2021-07-10T13:00:11.092Z"
   },
   {
    "duration": 24,
    "start_time": "2021-07-10T13:00:11.672Z"
   },
   {
    "duration": 42,
    "start_time": "2021-07-10T13:00:11.997Z"
   },
   {
    "duration": 353,
    "start_time": "2021-07-10T13:00:12.473Z"
   },
   {
    "duration": 18,
    "start_time": "2021-07-10T13:00:13.916Z"
   },
   {
    "duration": 8,
    "start_time": "2021-07-10T13:00:14.352Z"
   },
   {
    "duration": 16,
    "start_time": "2021-07-10T13:00:14.846Z"
   },
   {
    "duration": 9,
    "start_time": "2021-07-10T13:00:15.155Z"
   },
   {
    "duration": 10,
    "start_time": "2021-07-10T13:00:15.431Z"
   },
   {
    "duration": 8,
    "start_time": "2021-07-10T13:00:15.735Z"
   },
   {
    "duration": 15,
    "start_time": "2021-07-10T13:00:16.078Z"
   },
   {
    "duration": 23,
    "start_time": "2021-07-10T13:00:16.406Z"
   },
   {
    "duration": 8,
    "start_time": "2021-07-10T13:00:17.063Z"
   },
   {
    "duration": 22,
    "start_time": "2021-07-10T13:00:18.439Z"
   },
   {
    "duration": 362,
    "start_time": "2021-07-10T13:00:18.743Z"
   },
   {
    "duration": 3538,
    "start_time": "2021-07-10T13:00:19.380Z"
   },
   {
    "duration": 23,
    "start_time": "2021-07-10T13:00:25.020Z"
   },
   {
    "duration": 17,
    "start_time": "2021-07-10T13:00:27.428Z"
   },
   {
    "duration": 755,
    "start_time": "2021-07-10T13:00:28.288Z"
   },
   {
    "duration": 802,
    "start_time": "2021-07-10T13:00:30.357Z"
   },
   {
    "duration": 871,
    "start_time": "2021-07-10T13:01:13.513Z"
   },
   {
    "duration": 1331,
    "start_time": "2021-07-10T13:01:20.783Z"
   },
   {
    "duration": 787,
    "start_time": "2021-07-10T13:04:19.252Z"
   },
   {
    "duration": 724,
    "start_time": "2021-07-10T13:04:50.455Z"
   },
   {
    "duration": 1500,
    "start_time": "2021-07-10T13:05:29.969Z"
   },
   {
    "duration": 1292,
    "start_time": "2021-07-10T13:05:52.473Z"
   },
   {
    "duration": 82,
    "start_time": "2021-07-10T13:07:20.971Z"
   },
   {
    "duration": 733,
    "start_time": "2021-07-10T13:07:54.741Z"
   },
   {
    "duration": 1865,
    "start_time": "2021-07-10T13:08:28.965Z"
   },
   {
    "duration": 1626,
    "start_time": "2021-07-10T14:22:17.690Z"
   },
   {
    "duration": 937,
    "start_time": "2021-07-10T14:22:19.319Z"
   },
   {
    "duration": 7,
    "start_time": "2021-07-10T14:22:20.260Z"
   },
   {
    "duration": 13,
    "start_time": "2021-07-10T14:22:20.270Z"
   },
   {
    "duration": 86,
    "start_time": "2021-07-10T14:22:20.286Z"
   },
   {
    "duration": 4,
    "start_time": "2021-07-10T14:22:20.375Z"
   },
   {
    "duration": 17,
    "start_time": "2021-07-10T14:22:20.381Z"
   },
   {
    "duration": 13,
    "start_time": "2021-07-10T14:22:20.435Z"
   },
   {
    "duration": 14,
    "start_time": "2021-07-10T14:22:20.589Z"
   },
   {
    "duration": 10,
    "start_time": "2021-07-10T14:22:21.069Z"
   },
   {
    "duration": 6,
    "start_time": "2021-07-10T14:22:21.786Z"
   },
   {
    "duration": 7,
    "start_time": "2021-07-10T14:22:22.065Z"
   },
   {
    "duration": 7,
    "start_time": "2021-07-10T14:22:22.385Z"
   },
   {
    "duration": 28,
    "start_time": "2021-07-10T14:22:23.240Z"
   },
   {
    "duration": 17,
    "start_time": "2021-07-10T14:22:23.675Z"
   },
   {
    "duration": 14,
    "start_time": "2021-07-10T14:22:23.984Z"
   },
   {
    "duration": 21,
    "start_time": "2021-07-10T14:22:24.597Z"
   },
   {
    "duration": 41,
    "start_time": "2021-07-10T14:22:24.924Z"
   },
   {
    "duration": 493,
    "start_time": "2021-07-10T14:22:25.390Z"
   },
   {
    "duration": 18,
    "start_time": "2021-07-10T14:22:27.337Z"
   },
   {
    "duration": 8,
    "start_time": "2021-07-10T14:22:27.779Z"
   },
   {
    "duration": 21,
    "start_time": "2021-07-10T14:22:28.241Z"
   },
   {
    "duration": 10,
    "start_time": "2021-07-10T14:22:28.550Z"
   },
   {
    "duration": 24,
    "start_time": "2021-07-10T14:22:30.331Z"
   },
   {
    "duration": 373,
    "start_time": "2021-07-10T14:22:30.622Z"
   },
   {
    "duration": 4417,
    "start_time": "2021-07-10T14:22:31.825Z"
   },
   {
    "duration": 38,
    "start_time": "2021-07-10T14:22:36.246Z"
   },
   {
    "duration": 17,
    "start_time": "2021-07-10T14:22:36.516Z"
   },
   {
    "duration": 800,
    "start_time": "2021-07-10T14:22:37.748Z"
   },
   {
    "duration": 977,
    "start_time": "2021-07-10T14:22:41.392Z"
   },
   {
    "duration": 2214,
    "start_time": "2021-07-10T14:22:47.900Z"
   },
   {
    "duration": 7,
    "start_time": "2021-07-10T14:22:58.792Z"
   },
   {
    "duration": 7132,
    "start_time": "2021-07-10T14:23:54.073Z"
   },
   {
    "duration": 1596,
    "start_time": "2021-07-10T14:49:34.906Z"
   },
   {
    "duration": 961,
    "start_time": "2021-07-10T14:49:36.505Z"
   },
   {
    "duration": 6,
    "start_time": "2021-07-10T14:49:37.472Z"
   },
   {
    "duration": 7,
    "start_time": "2021-07-10T14:49:37.480Z"
   },
   {
    "duration": 89,
    "start_time": "2021-07-10T14:49:37.489Z"
   },
   {
    "duration": 5,
    "start_time": "2021-07-10T14:49:37.580Z"
   },
   {
    "duration": 17,
    "start_time": "2021-07-10T14:49:37.588Z"
   },
   {
    "duration": 15,
    "start_time": "2021-07-10T14:49:37.608Z"
   },
   {
    "duration": 13,
    "start_time": "2021-07-10T14:49:37.670Z"
   },
   {
    "duration": 7,
    "start_time": "2021-07-10T14:49:38.073Z"
   },
   {
    "duration": 7,
    "start_time": "2021-07-10T14:49:38.777Z"
   },
   {
    "duration": 6,
    "start_time": "2021-07-10T14:49:39.082Z"
   },
   {
    "duration": 6,
    "start_time": "2021-07-10T14:49:39.377Z"
   },
   {
    "duration": 20,
    "start_time": "2021-07-10T14:49:44.067Z"
   },
   {
    "duration": 19,
    "start_time": "2021-07-10T14:49:46.055Z"
   },
   {
    "duration": 14,
    "start_time": "2021-07-10T14:49:47.300Z"
   },
   {
    "duration": 31,
    "start_time": "2021-07-10T14:49:49.547Z"
   },
   {
    "duration": 45,
    "start_time": "2021-07-10T14:49:51.195Z"
   },
   {
    "duration": 461,
    "start_time": "2021-07-10T14:49:51.885Z"
   },
   {
    "duration": 19,
    "start_time": "2021-07-10T14:49:53.386Z"
   },
   {
    "duration": 8,
    "start_time": "2021-07-10T14:49:55.227Z"
   },
   {
    "duration": 1567,
    "start_time": "2021-07-10T14:51:39.079Z"
   },
   {
    "duration": 953,
    "start_time": "2021-07-10T14:51:40.649Z"
   },
   {
    "duration": 5,
    "start_time": "2021-07-10T14:51:41.606Z"
   },
   {
    "duration": 6,
    "start_time": "2021-07-10T14:51:41.613Z"
   },
   {
    "duration": 90,
    "start_time": "2021-07-10T14:51:41.622Z"
   },
   {
    "duration": 5,
    "start_time": "2021-07-10T14:51:41.714Z"
   },
   {
    "duration": 39,
    "start_time": "2021-07-10T14:51:41.722Z"
   },
   {
    "duration": 15,
    "start_time": "2021-07-10T14:51:41.805Z"
   },
   {
    "duration": 11,
    "start_time": "2021-07-10T14:51:41.978Z"
   },
   {
    "duration": 7,
    "start_time": "2021-07-10T14:51:43.093Z"
   },
   {
    "duration": 7,
    "start_time": "2021-07-10T14:51:43.821Z"
   },
   {
    "duration": 8,
    "start_time": "2021-07-10T14:51:44.141Z"
   },
   {
    "duration": 8,
    "start_time": "2021-07-10T14:51:44.475Z"
   },
   {
    "duration": 21,
    "start_time": "2021-07-10T14:51:45.253Z"
   },
   {
    "duration": 28,
    "start_time": "2021-07-10T14:51:46.245Z"
   },
   {
    "duration": 10,
    "start_time": "2021-07-10T14:51:46.541Z"
   },
   {
    "duration": 50,
    "start_time": "2021-07-10T14:51:47.765Z"
   },
   {
    "duration": 367,
    "start_time": "2021-07-10T14:51:48.221Z"
   },
   {
    "duration": 25,
    "start_time": "2021-07-10T14:51:51.222Z"
   },
   {
    "duration": 359,
    "start_time": "2021-07-10T14:51:51.571Z"
   },
   {
    "duration": 4268,
    "start_time": "2021-07-10T14:51:53.009Z"
   },
   {
    "duration": 29,
    "start_time": "2021-07-10T14:51:57.282Z"
   },
   {
    "duration": 466,
    "start_time": "2021-07-10T14:51:59.164Z"
   },
   {
    "duration": 641,
    "start_time": "2021-07-10T14:52:00.092Z"
   },
   {
    "duration": 620,
    "start_time": "2021-07-10T14:52:35.467Z"
   },
   {
    "duration": 1511,
    "start_time": "2021-07-10T14:55:48.713Z"
   },
   {
    "duration": 1081,
    "start_time": "2021-07-10T14:55:50.226Z"
   },
   {
    "duration": 6,
    "start_time": "2021-07-10T14:55:51.311Z"
   },
   {
    "duration": 13,
    "start_time": "2021-07-10T14:55:51.321Z"
   },
   {
    "duration": 79,
    "start_time": "2021-07-10T14:55:51.355Z"
   },
   {
    "duration": 26,
    "start_time": "2021-07-10T14:55:51.436Z"
   },
   {
    "duration": 51,
    "start_time": "2021-07-10T14:55:51.466Z"
   },
   {
    "duration": 19,
    "start_time": "2021-07-10T14:55:51.522Z"
   },
   {
    "duration": 32,
    "start_time": "2021-07-10T14:55:51.545Z"
   },
   {
    "duration": 8,
    "start_time": "2021-07-10T14:55:51.976Z"
   },
   {
    "duration": 7,
    "start_time": "2021-07-10T14:55:52.770Z"
   },
   {
    "duration": 13,
    "start_time": "2021-07-10T14:55:53.081Z"
   },
   {
    "duration": 7,
    "start_time": "2021-07-10T14:55:54.027Z"
   },
   {
    "duration": 26,
    "start_time": "2021-07-10T14:55:54.794Z"
   },
   {
    "duration": 14,
    "start_time": "2021-07-10T14:55:55.242Z"
   },
   {
    "duration": 15,
    "start_time": "2021-07-10T14:55:55.554Z"
   },
   {
    "duration": 52,
    "start_time": "2021-07-10T14:55:56.625Z"
   },
   {
    "duration": 436,
    "start_time": "2021-07-10T14:55:57.098Z"
   },
   {
    "duration": 24,
    "start_time": "2021-07-10T14:55:59.106Z"
   },
   {
    "duration": 10,
    "start_time": "2021-07-10T14:56:00.778Z"
   },
   {
    "duration": 25,
    "start_time": "2021-07-10T14:56:01.754Z"
   },
   {
    "duration": 25,
    "start_time": "2021-07-10T14:56:09.842Z"
   },
   {
    "duration": 380,
    "start_time": "2021-07-10T14:56:11.520Z"
   },
   {
    "duration": 5119,
    "start_time": "2021-07-10T14:56:11.903Z"
   },
   {
    "duration": 41,
    "start_time": "2021-07-10T14:56:17.024Z"
   },
   {
    "duration": 19,
    "start_time": "2021-07-10T14:56:22.090Z"
   },
   {
    "duration": 856,
    "start_time": "2021-07-10T14:56:24.181Z"
   },
   {
    "duration": 861,
    "start_time": "2021-07-10T14:56:26.754Z"
   },
   {
    "duration": 2035,
    "start_time": "2021-07-10T14:57:04.776Z"
   },
   {
    "duration": 6,
    "start_time": "2021-07-10T14:57:19.700Z"
   },
   {
    "duration": 19,
    "start_time": "2021-07-10T14:57:26.140Z"
   },
   {
    "duration": 19,
    "start_time": "2021-07-10T14:57:29.531Z"
   },
   {
    "duration": 6808,
    "start_time": "2021-07-10T14:57:33.076Z"
   },
   {
    "duration": 150,
    "start_time": "2021-07-10T14:57:39.738Z"
   },
   {
    "duration": 18,
    "start_time": "2021-07-10T14:58:03.579Z"
   },
   {
    "duration": 5,
    "start_time": "2021-07-10T14:58:06.348Z"
   },
   {
    "duration": 2309,
    "start_time": "2021-07-10T15:01:15.628Z"
   },
   {
    "duration": 1586,
    "start_time": "2021-07-10T15:05:52.562Z"
   },
   {
    "duration": 949,
    "start_time": "2021-07-10T15:05:54.151Z"
   },
   {
    "duration": 5,
    "start_time": "2021-07-10T15:05:55.103Z"
   },
   {
    "duration": 14,
    "start_time": "2021-07-10T15:05:55.111Z"
   },
   {
    "duration": 116,
    "start_time": "2021-07-10T15:05:55.127Z"
   },
   {
    "duration": 12,
    "start_time": "2021-07-10T15:05:55.246Z"
   },
   {
    "duration": 15,
    "start_time": "2021-07-10T15:05:55.260Z"
   },
   {
    "duration": 17,
    "start_time": "2021-07-10T15:05:55.312Z"
   },
   {
    "duration": 16,
    "start_time": "2021-07-10T15:05:55.448Z"
   },
   {
    "duration": 10,
    "start_time": "2021-07-10T15:05:55.848Z"
   },
   {
    "duration": 7,
    "start_time": "2021-07-10T15:05:56.571Z"
   },
   {
    "duration": 6,
    "start_time": "2021-07-10T15:05:56.820Z"
   },
   {
    "duration": 7,
    "start_time": "2021-07-10T15:05:57.127Z"
   },
   {
    "duration": 27,
    "start_time": "2021-07-10T15:05:57.871Z"
   },
   {
    "duration": 15,
    "start_time": "2021-07-10T15:05:58.310Z"
   },
   {
    "duration": 15,
    "start_time": "2021-07-10T15:05:58.599Z"
   },
   {
    "duration": 45,
    "start_time": "2021-07-10T15:05:59.031Z"
   },
   {
    "duration": 441,
    "start_time": "2021-07-10T15:05:59.504Z"
   },
   {
    "duration": 18,
    "start_time": "2021-07-10T15:06:00.126Z"
   },
   {
    "duration": 9,
    "start_time": "2021-07-10T15:06:00.567Z"
   },
   {
    "duration": 19,
    "start_time": "2021-07-10T15:06:01.039Z"
   },
   {
    "duration": 32,
    "start_time": "2021-07-10T15:06:02.713Z"
   },
   {
    "duration": 371,
    "start_time": "2021-07-10T15:06:03.520Z"
   },
   {
    "duration": 4173,
    "start_time": "2021-07-10T15:06:04.113Z"
   },
   {
    "duration": 32,
    "start_time": "2021-07-10T15:06:08.289Z"
   },
   {
    "duration": 25,
    "start_time": "2021-07-10T15:06:08.356Z"
   },
   {
    "duration": 891,
    "start_time": "2021-07-10T15:06:08.385Z"
   },
   {
    "duration": 804,
    "start_time": "2021-07-10T15:06:09.280Z"
   },
   {
    "duration": 2822,
    "start_time": "2021-07-10T15:06:10.087Z"
   },
   {
    "duration": 6,
    "start_time": "2021-07-10T15:06:12.912Z"
   },
   {
    "duration": 48,
    "start_time": "2021-07-10T15:06:12.922Z"
   },
   {
    "duration": 7,
    "start_time": "2021-07-10T15:06:12.974Z"
   },
   {
    "duration": 21,
    "start_time": "2021-07-10T15:06:16.465Z"
   },
   {
    "duration": 5,
    "start_time": "2021-07-10T15:06:17.697Z"
   },
   {
    "duration": 19,
    "start_time": "2021-07-10T15:06:19.983Z"
   },
   {
    "duration": 6,
    "start_time": "2021-07-10T15:06:21.552Z"
   },
   {
    "duration": 4,
    "start_time": "2021-07-10T15:06:23.938Z"
   },
   {
    "duration": 2695,
    "start_time": "2021-07-10T15:06:46.876Z"
   },
   {
    "duration": 1644,
    "start_time": "2021-07-10T15:18:08.434Z"
   },
   {
    "duration": 1308,
    "start_time": "2021-07-10T15:18:10.082Z"
   },
   {
    "duration": 5,
    "start_time": "2021-07-10T15:18:11.393Z"
   },
   {
    "duration": 8,
    "start_time": "2021-07-10T15:18:11.401Z"
   },
   {
    "duration": 91,
    "start_time": "2021-07-10T15:18:11.412Z"
   },
   {
    "duration": 4,
    "start_time": "2021-07-10T15:18:11.506Z"
   },
   {
    "duration": 11,
    "start_time": "2021-07-10T15:18:11.513Z"
   },
   {
    "duration": 35,
    "start_time": "2021-07-10T15:18:11.527Z"
   },
   {
    "duration": 11,
    "start_time": "2021-07-10T15:18:11.564Z"
   },
   {
    "duration": 11,
    "start_time": "2021-07-10T15:18:11.655Z"
   },
   {
    "duration": 6,
    "start_time": "2021-07-10T15:18:12.531Z"
   },
   {
    "duration": 6,
    "start_time": "2021-07-10T15:18:12.811Z"
   },
   {
    "duration": 9,
    "start_time": "2021-07-10T15:18:13.107Z"
   },
   {
    "duration": 23,
    "start_time": "2021-07-10T15:18:13.836Z"
   },
   {
    "duration": 18,
    "start_time": "2021-07-10T15:18:14.548Z"
   },
   {
    "duration": 14,
    "start_time": "2021-07-10T15:18:14.838Z"
   },
   {
    "duration": 47,
    "start_time": "2021-07-10T15:18:15.284Z"
   },
   {
    "duration": 367,
    "start_time": "2021-07-10T15:18:15.740Z"
   },
   {
    "duration": 24,
    "start_time": "2021-07-10T15:18:16.404Z"
   },
   {
    "duration": 9,
    "start_time": "2021-07-10T15:18:16.843Z"
   },
   {
    "duration": 23,
    "start_time": "2021-07-10T15:18:17.284Z"
   },
   {
    "duration": 24,
    "start_time": "2021-07-10T15:18:18.516Z"
   },
   {
    "duration": 360,
    "start_time": "2021-07-10T15:18:18.831Z"
   },
   {
    "duration": 3981,
    "start_time": "2021-07-10T15:18:20.010Z"
   },
   {
    "duration": 28,
    "start_time": "2021-07-10T15:18:23.995Z"
   },
   {
    "duration": 26,
    "start_time": "2021-07-10T15:18:24.055Z"
   },
   {
    "duration": 1057,
    "start_time": "2021-07-10T15:18:24.084Z"
   },
   {
    "duration": 897,
    "start_time": "2021-07-10T15:18:25.144Z"
   },
   {
    "duration": 2048,
    "start_time": "2021-07-10T15:18:29.782Z"
   },
   {
    "duration": 5,
    "start_time": "2021-07-10T15:18:37.339Z"
   },
   {
    "duration": 20,
    "start_time": "2021-07-10T15:18:39.162Z"
   },
   {
    "duration": 19,
    "start_time": "2021-07-10T15:18:39.477Z"
   },
   {
    "duration": 15,
    "start_time": "2021-07-10T15:18:39.796Z"
   },
   {
    "duration": 4,
    "start_time": "2021-07-10T15:18:41.348Z"
   },
   {
    "duration": 3,
    "start_time": "2021-07-10T15:18:41.819Z"
   },
   {
    "duration": 1832,
    "start_time": "2021-07-10T15:18:50.429Z"
   },
   {
    "duration": 6,
    "start_time": "2021-07-10T15:19:00.005Z"
   },
   {
    "duration": 4,
    "start_time": "2021-07-10T15:19:00.590Z"
   },
   {
    "duration": 5,
    "start_time": "2021-07-10T15:19:05.429Z"
   },
   {
    "duration": 22,
    "start_time": "2021-07-10T15:19:37.213Z"
   },
   {
    "duration": 6,
    "start_time": "2021-07-10T15:19:38.373Z"
   },
   {
    "duration": 6,
    "start_time": "2021-07-10T15:22:29.526Z"
   },
   {
    "duration": 9,
    "start_time": "2021-07-10T15:22:30.696Z"
   },
   {
    "duration": 9,
    "start_time": "2021-07-10T15:22:31.515Z"
   },
   {
    "duration": 9,
    "start_time": "2021-07-10T15:22:32.946Z"
   },
   {
    "duration": 16,
    "start_time": "2021-07-10T15:22:33.867Z"
   },
   {
    "duration": 30,
    "start_time": "2021-07-10T15:22:35.122Z"
   },
   {
    "duration": 8,
    "start_time": "2021-07-10T15:22:36.330Z"
   },
   {
    "duration": 950513,
    "start_time": "2021-07-10T15:23:25.109Z"
   },
   {
    "duration": 31,
    "start_time": "2021-07-10T15:39:15.625Z"
   },
   {
    "duration": 920,
    "start_time": "2021-07-10T15:41:14.439Z"
   },
   {
    "duration": 17179,
    "start_time": "2021-07-10T15:42:05.664Z"
   },
   {
    "duration": 2031244,
    "start_time": "2021-07-10T15:42:44.287Z"
   },
   {
    "duration": 18,
    "start_time": "2021-07-10T16:16:50.509Z"
   },
   {
    "duration": 1336,
    "start_time": "2021-07-10T16:18:45.028Z"
   },
   {
    "duration": 56470,
    "start_time": "2021-07-10T16:19:29.906Z"
   },
   {
    "duration": 4186,
    "start_time": "2021-07-10T16:22:36.462Z"
   },
   {
    "duration": 15567,
    "start_time": "2021-07-10T16:23:17.162Z"
   },
   {
    "duration": 5,
    "start_time": "2021-07-10T16:24:21.479Z"
   },
   {
    "duration": 5,
    "start_time": "2021-07-10T16:29:54.310Z"
   },
   {
    "duration": 12,
    "start_time": "2021-07-10T16:30:29.136Z"
   },
   {
    "duration": 12,
    "start_time": "2021-07-10T16:30:54.937Z"
   },
   {
    "duration": 16,
    "start_time": "2021-07-10T16:30:58.857Z"
   },
   {
    "duration": 12,
    "start_time": "2021-07-10T16:42:03.095Z"
   },
   {
    "duration": 13,
    "start_time": "2021-07-10T16:43:46.298Z"
   },
   {
    "duration": 2031,
    "start_time": "2021-07-10T17:02:48.460Z"
   },
   {
    "duration": 931,
    "start_time": "2021-07-10T17:02:50.494Z"
   },
   {
    "duration": 6,
    "start_time": "2021-07-10T17:02:51.427Z"
   },
   {
    "duration": 23,
    "start_time": "2021-07-10T17:02:51.436Z"
   },
   {
    "duration": 60,
    "start_time": "2021-07-10T17:02:51.462Z"
   },
   {
    "duration": 34,
    "start_time": "2021-07-10T17:02:51.525Z"
   },
   {
    "duration": 15,
    "start_time": "2021-07-10T17:02:51.563Z"
   },
   {
    "duration": 19,
    "start_time": "2021-07-10T17:02:51.583Z"
   },
   {
    "duration": 59,
    "start_time": "2021-07-10T17:02:51.605Z"
   },
   {
    "duration": 7,
    "start_time": "2021-07-10T17:02:51.666Z"
   },
   {
    "duration": 10,
    "start_time": "2021-07-10T17:02:51.679Z"
   },
   {
    "duration": 7,
    "start_time": "2021-07-10T17:02:51.692Z"
   },
   {
    "duration": 7,
    "start_time": "2021-07-10T17:02:51.702Z"
   },
   {
    "duration": 72,
    "start_time": "2021-07-10T17:02:51.711Z"
   },
   {
    "duration": 18,
    "start_time": "2021-07-10T17:02:51.786Z"
   },
   {
    "duration": 60,
    "start_time": "2021-07-10T17:02:51.807Z"
   },
   {
    "duration": 52,
    "start_time": "2021-07-10T17:02:51.869Z"
   },
   {
    "duration": 446,
    "start_time": "2021-07-10T17:02:51.923Z"
   },
   {
    "duration": 19,
    "start_time": "2021-07-10T17:02:52.372Z"
   },
   {
    "duration": 8,
    "start_time": "2021-07-10T17:02:52.393Z"
   },
   {
    "duration": 63,
    "start_time": "2021-07-10T17:02:52.404Z"
   },
   {
    "duration": 30,
    "start_time": "2021-07-10T17:02:52.469Z"
   },
   {
    "duration": 399,
    "start_time": "2021-07-10T17:02:52.507Z"
   },
   {
    "duration": 4338,
    "start_time": "2021-07-10T17:02:52.909Z"
   },
   {
    "duration": 31,
    "start_time": "2021-07-10T17:02:57.255Z"
   },
   {
    "duration": 22,
    "start_time": "2021-07-10T17:02:57.289Z"
   },
   {
    "duration": 918,
    "start_time": "2021-07-10T17:02:57.313Z"
   },
   {
    "duration": 770,
    "start_time": "2021-07-10T17:02:58.234Z"
   },
   {
    "duration": 1996,
    "start_time": "2021-07-10T17:02:59.006Z"
   },
   {
    "duration": 5,
    "start_time": "2021-07-10T17:03:01.004Z"
   },
   {
    "duration": 47,
    "start_time": "2021-07-10T17:03:01.011Z"
   },
   {
    "duration": 19,
    "start_time": "2021-07-10T17:03:01.063Z"
   },
   {
    "duration": 31,
    "start_time": "2021-07-10T17:03:01.085Z"
   },
   {
    "duration": 5,
    "start_time": "2021-07-10T17:03:01.119Z"
   },
   {
    "duration": 33,
    "start_time": "2021-07-10T17:03:01.127Z"
   },
   {
    "duration": 1957,
    "start_time": "2021-07-10T17:03:01.163Z"
   },
   {
    "duration": 4,
    "start_time": "2021-07-10T17:03:03.122Z"
   },
   {
    "duration": 30,
    "start_time": "2021-07-10T17:03:03.129Z"
   },
   {
    "duration": 8,
    "start_time": "2021-07-10T17:03:03.161Z"
   },
   {
    "duration": 20,
    "start_time": "2021-07-10T17:03:03.174Z"
   },
   {
    "duration": 18,
    "start_time": "2021-07-10T17:03:03.197Z"
   },
   {
    "duration": 46,
    "start_time": "2021-07-10T17:03:03.217Z"
   },
   {
    "duration": 15,
    "start_time": "2021-07-10T17:03:03.265Z"
   },
   {
    "duration": 10,
    "start_time": "2021-07-10T17:03:03.284Z"
   },
   {
    "duration": 20,
    "start_time": "2021-07-10T17:03:03.296Z"
   },
   {
    "duration": 53,
    "start_time": "2021-07-10T17:03:03.318Z"
   },
   {
    "duration": 8,
    "start_time": "2021-07-10T17:03:03.376Z"
   },
   {
    "duration": 415496,
    "start_time": "2021-07-10T17:03:03.387Z"
   },
   {
    "duration": 330,
    "start_time": "2021-07-10T17:09:58.557Z"
   },
   {
    "duration": 322,
    "start_time": "2021-07-10T17:09:58.566Z"
   },
   {
    "duration": 313,
    "start_time": "2021-07-10T17:09:58.577Z"
   },
   {
    "duration": 305,
    "start_time": "2021-07-10T17:09:58.586Z"
   },
   {
    "duration": 240,
    "start_time": "2021-07-10T17:09:58.653Z"
   },
   {
    "duration": 231,
    "start_time": "2021-07-10T17:09:58.663Z"
   },
   {
    "duration": 222,
    "start_time": "2021-07-10T17:09:58.673Z"
   },
   {
    "duration": 215,
    "start_time": "2021-07-10T17:09:58.682Z"
   },
   {
    "duration": 205,
    "start_time": "2021-07-10T17:09:58.693Z"
   },
   {
    "duration": 199,
    "start_time": "2021-07-10T17:09:58.701Z"
   },
   {
    "duration": 190,
    "start_time": "2021-07-10T17:09:58.711Z"
   },
   {
    "duration": 183,
    "start_time": "2021-07-10T17:09:58.720Z"
   },
   {
    "duration": 175,
    "start_time": "2021-07-10T17:09:58.729Z"
   },
   {
    "duration": 167,
    "start_time": "2021-07-10T17:09:58.738Z"
   },
   {
    "duration": 146,
    "start_time": "2021-07-10T17:09:58.761Z"
   },
   {
    "duration": 1634,
    "start_time": "2021-07-10T17:11:38.937Z"
   },
   {
    "duration": 1033,
    "start_time": "2021-07-10T17:11:40.574Z"
   },
   {
    "duration": 6,
    "start_time": "2021-07-10T17:11:41.610Z"
   },
   {
    "duration": 6,
    "start_time": "2021-07-10T17:11:41.619Z"
   },
   {
    "duration": 83,
    "start_time": "2021-07-10T17:11:41.628Z"
   },
   {
    "duration": 6,
    "start_time": "2021-07-10T17:11:41.714Z"
   },
   {
    "duration": 41,
    "start_time": "2021-07-10T17:11:41.723Z"
   },
   {
    "duration": 22,
    "start_time": "2021-07-10T17:11:41.771Z"
   },
   {
    "duration": 10,
    "start_time": "2021-07-10T17:11:41.797Z"
   },
   {
    "duration": 57,
    "start_time": "2021-07-10T17:11:41.809Z"
   },
   {
    "duration": 9,
    "start_time": "2021-07-10T17:11:41.869Z"
   },
   {
    "duration": 9,
    "start_time": "2021-07-10T17:11:41.881Z"
   },
   {
    "duration": 6,
    "start_time": "2021-07-10T17:11:41.893Z"
   },
   {
    "duration": 61,
    "start_time": "2021-07-10T17:11:41.902Z"
   },
   {
    "duration": 25,
    "start_time": "2021-07-10T17:11:41.966Z"
   },
   {
    "duration": 13,
    "start_time": "2021-07-10T17:11:41.994Z"
   },
   {
    "duration": 103,
    "start_time": "2021-07-10T17:11:42.010Z"
   },
   {
    "duration": 402,
    "start_time": "2021-07-10T17:11:42.116Z"
   },
   {
    "duration": 37,
    "start_time": "2021-07-10T17:11:42.521Z"
   },
   {
    "duration": 11,
    "start_time": "2021-07-10T17:11:42.561Z"
   },
   {
    "duration": 19,
    "start_time": "2021-07-10T17:11:42.576Z"
   },
   {
    "duration": 66,
    "start_time": "2021-07-10T17:11:42.598Z"
   },
   {
    "duration": 367,
    "start_time": "2021-07-10T17:11:42.673Z"
   },
   {
    "duration": 4406,
    "start_time": "2021-07-10T17:11:43.043Z"
   },
   {
    "duration": 31,
    "start_time": "2021-07-10T17:11:47.451Z"
   },
   {
    "duration": 22,
    "start_time": "2021-07-10T17:11:47.485Z"
   },
   {
    "duration": 773,
    "start_time": "2021-07-10T17:11:47.559Z"
   },
   {
    "duration": 740,
    "start_time": "2021-07-10T17:11:48.335Z"
   },
   {
    "duration": 1986,
    "start_time": "2021-07-10T17:11:49.078Z"
   },
   {
    "duration": 6,
    "start_time": "2021-07-10T17:11:51.066Z"
   },
   {
    "duration": 30,
    "start_time": "2021-07-10T17:11:51.075Z"
   },
   {
    "duration": 16,
    "start_time": "2021-07-10T17:11:51.108Z"
   },
   {
    "duration": 27,
    "start_time": "2021-07-10T17:11:51.155Z"
   },
   {
    "duration": 5,
    "start_time": "2021-07-10T17:11:51.184Z"
   },
   {
    "duration": 2154,
    "start_time": "2021-07-10T17:11:51.191Z"
   },
   {
    "duration": 18,
    "start_time": "2021-07-10T17:11:53.348Z"
   },
   {
    "duration": 4,
    "start_time": "2021-07-10T17:11:53.371Z"
   },
   {
    "duration": 19,
    "start_time": "2021-07-10T17:11:53.377Z"
   },
   {
    "duration": 32,
    "start_time": "2021-07-10T17:11:53.399Z"
   },
   {
    "duration": 19,
    "start_time": "2021-07-10T17:11:53.434Z"
   },
   {
    "duration": 23,
    "start_time": "2021-07-10T17:11:53.458Z"
   },
   {
    "duration": 23,
    "start_time": "2021-07-10T17:11:53.483Z"
   },
   {
    "duration": 27,
    "start_time": "2021-07-10T17:11:53.509Z"
   },
   {
    "duration": 32,
    "start_time": "2021-07-10T17:11:53.538Z"
   },
   {
    "duration": 24,
    "start_time": "2021-07-10T17:11:53.573Z"
   },
   {
    "duration": 9,
    "start_time": "2021-07-10T17:11:53.600Z"
   },
   {
    "duration": 847582,
    "start_time": "2021-07-10T17:11:53.612Z"
   },
   {
    "duration": 24,
    "start_time": "2021-07-10T17:26:01.197Z"
   },
   {
    "duration": 1233,
    "start_time": "2021-07-10T17:26:01.224Z"
   },
   {
    "duration": 17044,
    "start_time": "2021-07-10T17:26:02.460Z"
   },
   {
    "duration": 2021511,
    "start_time": "2021-07-10T17:26:19.506Z"
   },
   {
    "duration": 38,
    "start_time": "2021-07-10T18:00:01.020Z"
   },
   {
    "duration": 1913,
    "start_time": "2021-07-10T18:00:01.061Z"
   },
   {
    "duration": 52533,
    "start_time": "2021-07-10T18:00:02.977Z"
   },
   {
    "duration": 4122,
    "start_time": "2021-07-10T18:00:55.512Z"
   },
   {
    "duration": 13296,
    "start_time": "2021-07-10T18:00:59.637Z"
   },
   {
    "duration": 5,
    "start_time": "2021-07-10T18:01:12.935Z"
   },
   {
    "duration": 14,
    "start_time": "2021-07-10T18:01:12.943Z"
   },
   {
    "duration": 12,
    "start_time": "2021-07-10T18:01:12.960Z"
   },
   {
    "duration": 14,
    "start_time": "2021-07-10T18:01:12.974Z"
   },
   {
    "duration": 67,
    "start_time": "2021-07-10T18:01:12.991Z"
   },
   {
    "duration": 15,
    "start_time": "2021-07-10T18:01:13.061Z"
   }
  ],
  "kernelspec": {
   "display_name": "Python 3",
   "language": "python",
   "name": "python3"
  },
  "language_info": {
   "codemirror_mode": {
    "name": "ipython",
    "version": 3
   },
   "file_extension": ".py",
   "mimetype": "text/x-python",
   "name": "python",
   "nbconvert_exporter": "python",
   "pygments_lexer": "ipython3",
   "version": "3.7.8"
  },
  "toc": {
   "base_numbering": 1,
   "nav_menu": {},
   "number_sections": true,
   "sideBar": true,
   "skip_h1_title": true,
   "title_cell": "Содержание",
   "title_sidebar": "Contents",
   "toc_cell": true,
   "toc_position": {
    "height": "calc(100% - 180px)",
    "left": "10px",
    "top": "150px",
    "width": "320px"
   },
   "toc_section_display": true,
   "toc_window_display": true
  }
 },
 "nbformat": 4,
 "nbformat_minor": 2
}
