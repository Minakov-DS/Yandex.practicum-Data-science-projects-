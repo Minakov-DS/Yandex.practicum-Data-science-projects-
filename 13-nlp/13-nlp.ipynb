{
 "cells": [
  {
   "cell_type": "markdown",
   "metadata": {
    "toc": true
   },
   "source": [
    "<h1>Содержание<span class=\"tocSkip\"></span></h1>\n",
    "<div class=\"toc\"><ul class=\"toc-item\"><li><span><a href=\"#Подготовка-исходных-данных-к-обучению\" data-toc-modified-id=\"Подготовка-исходных-данных-к-обучению-1\"><span class=\"toc-item-num\">1&nbsp;&nbsp;</span>Подготовка исходных данных к обучению</a></span><ul class=\"toc-item\"><li><span><a href=\"#Загрузка-исходных-данных-и-ознакомление-с-ними\" data-toc-modified-id=\"Загрузка-исходных-данных-и-ознакомление-с-ними-1.1\"><span class=\"toc-item-num\">1.1&nbsp;&nbsp;</span>Загрузка исходных данных и ознакомление с ними</a></span></li><li><span><a href=\"#Очистка-текста-от-лишних-символов-и-его-лемматизация\" data-toc-modified-id=\"Очистка-текста-от-лишних-символов-и-его-лемматизация-1.2\"><span class=\"toc-item-num\">1.2&nbsp;&nbsp;</span>Очистка текста от лишних символов и его лемматизация</a></span></li><li><span><a href=\"#Разбиение-датасета-на-обучающую-и-тестовую-выборки\" data-toc-modified-id=\"Разбиение-датасета-на-обучающую-и-тестовую-выборки-1.3\"><span class=\"toc-item-num\">1.3&nbsp;&nbsp;</span>Разбиение датасета на обучающую и тестовую выборки</a></span></li><li><span><a href=\"#Выводы\" data-toc-modified-id=\"Выводы-1.4\"><span class=\"toc-item-num\">1.4&nbsp;&nbsp;</span>Выводы</a></span></li></ul></li><li><span><a href=\"#Обучение-и-тестирование-моделей\" data-toc-modified-id=\"Обучение-и-тестирование-моделей-2\"><span class=\"toc-item-num\">2&nbsp;&nbsp;</span>Обучение и тестирование моделей</a></span><ul class=\"toc-item\"><li><span><a href=\"#Модель-LogisticRegression\" data-toc-modified-id=\"Модель-LogisticRegression-2.1\"><span class=\"toc-item-num\">2.1&nbsp;&nbsp;</span>Модель LogisticRegression</a></span></li><li><span><a href=\"#Модель-LGBMClassifier\" data-toc-modified-id=\"Модель-LGBMClassifier-2.2\"><span class=\"toc-item-num\">2.2&nbsp;&nbsp;</span>Модель LGBMClassifier</a></span></li><li><span><a href=\"#Выводы\" data-toc-modified-id=\"Выводы-2.3\"><span class=\"toc-item-num\">2.3&nbsp;&nbsp;</span>Выводы</a></span></li></ul></li><li><span><a href=\"#Чек-лист-проверки\" data-toc-modified-id=\"Чек-лист-проверки-3\"><span class=\"toc-item-num\">3&nbsp;&nbsp;</span>Чек-лист проверки</a></span></li></ul></div>"
   ]
  },
  {
   "cell_type": "markdown",
   "metadata": {},
   "source": [
    "# Классификация комментариев на токсичные и нетоксичные"
   ]
  },
  {
   "cell_type": "markdown",
   "metadata": {},
   "source": [
    "**Цель проекта:** создать модель, классифицирующую комментарии на токсичные и нетоксичные. Метрика качества модели *F1* должна быть не менее 0,75. Модель планируется использовать в сервисе интернет-магазина для поиска токсичных комментариев и отправки их на модерацию.\n",
    "\n",
    "**Исходные данные:** набор комментариев с разметкой о токсичности.\n",
    "\n",
    "**Описание данных:**\n",
    "Данные находятся в файле `toxic_comments.csv`. Столбец *text* в нём содержит текст комментария, а *toxic* — целевой признак."
   ]
  },
  {
   "cell_type": "markdown",
   "metadata": {},
   "source": [
    "## Подготовка исходных данных к обучению"
   ]
  },
  {
   "cell_type": "markdown",
   "metadata": {},
   "source": [
    "### Загрузка исходных данных и ознакомление с ними"
   ]
  },
  {
   "cell_type": "markdown",
   "metadata": {},
   "source": [
    "Загружаем необходимые библиотеки."
   ]
  },
  {
   "cell_type": "code",
   "execution_count": 1,
   "metadata": {},
   "outputs": [],
   "source": [
    "import pandas as pd\n",
    "import numpy as np\n",
    "import re\n",
    "from tqdm.notebook import tqdm\n",
    "import spacy\n",
    "import en_core_web_sm\n",
    "from sklearn.model_selection import train_test_split, GridSearchCV, KFold\n",
    "from sklearn.linear_model import LogisticRegression\n",
    "from sklearn.metrics import f1_score\n",
    "from sklearn.feature_extraction.text import TfidfVectorizer\n",
    "from sklearn.pipeline import Pipeline\n",
    "from lightgbm import LGBMClassifier"
   ]
  },
  {
   "cell_type": "markdown",
   "metadata": {},
   "source": [
    "Для лучшей визуализации увеличим максимальную отображаемую ширину колонки датафрейма и загрузим исходный файл. "
   ]
  },
  {
   "cell_type": "code",
   "execution_count": 2,
   "metadata": {},
   "outputs": [],
   "source": [
    "pd.options.display.max_colwidth = 800\n",
    "data = pd.read_csv(\"/datasets/toxic_comments.csv\")"
   ]
  },
  {
   "cell_type": "markdown",
   "metadata": {},
   "source": [
    "Выведем общую информацию об исходных данных."
   ]
  },
  {
   "cell_type": "code",
   "execution_count": 3,
   "metadata": {
    "scrolled": true
   },
   "outputs": [
    {
     "name": "stdout",
     "output_type": "stream",
     "text": [
      "<class 'pandas.core.frame.DataFrame'>\n",
      "RangeIndex: 159571 entries, 0 to 159570\n",
      "Data columns (total 2 columns):\n",
      "text     159571 non-null object\n",
      "toxic    159571 non-null int64\n",
      "dtypes: int64(1), object(1)\n",
      "memory usage: 2.4+ MB\n"
     ]
    }
   ],
   "source": [
    "data.info()"
   ]
  },
  {
   "cell_type": "code",
   "execution_count": 4,
   "metadata": {},
   "outputs": [
    {
     "data": {
      "text/html": [
       "<div>\n",
       "<style scoped>\n",
       "    .dataframe tbody tr th:only-of-type {\n",
       "        vertical-align: middle;\n",
       "    }\n",
       "\n",
       "    .dataframe tbody tr th {\n",
       "        vertical-align: top;\n",
       "    }\n",
       "\n",
       "    .dataframe thead th {\n",
       "        text-align: right;\n",
       "    }\n",
       "</style>\n",
       "<table border=\"1\" class=\"dataframe\">\n",
       "  <thead>\n",
       "    <tr style=\"text-align: right;\">\n",
       "      <th></th>\n",
       "      <th>text</th>\n",
       "      <th>toxic</th>\n",
       "    </tr>\n",
       "  </thead>\n",
       "  <tbody>\n",
       "    <tr>\n",
       "      <td>0</td>\n",
       "      <td>Explanation\\nWhy the edits made under my username Hardcore Metallica Fan were reverted? They weren't vandalisms, just closure on some GAs after I voted at New York Dolls FAC. And please don't remove the template from the talk page since I'm retired now.89.205.38.27</td>\n",
       "      <td>0</td>\n",
       "    </tr>\n",
       "    <tr>\n",
       "      <td>1</td>\n",
       "      <td>D'aww! He matches this background colour I'm seemingly stuck with. Thanks.  (talk) 21:51, January 11, 2016 (UTC)</td>\n",
       "      <td>0</td>\n",
       "    </tr>\n",
       "    <tr>\n",
       "      <td>2</td>\n",
       "      <td>Hey man, I'm really not trying to edit war. It's just that this guy is constantly removing relevant information and talking to me through edits instead of my talk page. He seems to care more about the formatting than the actual info.</td>\n",
       "      <td>0</td>\n",
       "    </tr>\n",
       "    <tr>\n",
       "      <td>3</td>\n",
       "      <td>\"\\nMore\\nI can't make any real suggestions on improvement - I wondered if the section statistics should be later on, or a subsection of \"\"types of accidents\"\"  -I think the references may need tidying so that they are all in the exact same format ie date format etc. I can do that later on, if no-one else does first - if you have any preferences for formatting style on references or want to do it yourself please let me know.\\n\\nThere appears to be a backlog on articles for review so I guess there may be a delay until a reviewer turns up. It's listed in the relevant form eg Wikipedia:Good_article_nominations#Transport  \"</td>\n",
       "      <td>0</td>\n",
       "    </tr>\n",
       "    <tr>\n",
       "      <td>4</td>\n",
       "      <td>You, sir, are my hero. Any chance you remember what page that's on?</td>\n",
       "      <td>0</td>\n",
       "    </tr>\n",
       "  </tbody>\n",
       "</table>\n",
       "</div>"
      ],
      "text/plain": [
       "                                                                                                                                                                                                                                                                                                                                                                                                                                                                                                                                                                                                                                                 text  \\\n",
       "0                                                                                                                                                                                                                                                                                                                                                                           Explanation\\nWhy the edits made under my username Hardcore Metallica Fan were reverted? They weren't vandalisms, just closure on some GAs after I voted at New York Dolls FAC. And please don't remove the template from the talk page since I'm retired now.89.205.38.27   \n",
       "1                                                                                                                                                                                                                                                                                                                                                                                                                                                                                                                                    D'aww! He matches this background colour I'm seemingly stuck with. Thanks.  (talk) 21:51, January 11, 2016 (UTC)   \n",
       "2                                                                                                                                                                                                                                                                                                                                                                                                           Hey man, I'm really not trying to edit war. It's just that this guy is constantly removing relevant information and talking to me through edits instead of my talk page. He seems to care more about the formatting than the actual info.   \n",
       "3  \"\\nMore\\nI can't make any real suggestions on improvement - I wondered if the section statistics should be later on, or a subsection of \"\"types of accidents\"\"  -I think the references may need tidying so that they are all in the exact same format ie date format etc. I can do that later on, if no-one else does first - if you have any preferences for formatting style on references or want to do it yourself please let me know.\\n\\nThere appears to be a backlog on articles for review so I guess there may be a delay until a reviewer turns up. It's listed in the relevant form eg Wikipedia:Good_article_nominations#Transport  \"   \n",
       "4                                                                                                                                                                                                                                                                                                                                                                                                                                                                                                                                                                                 You, sir, are my hero. Any chance you remember what page that's on?   \n",
       "\n",
       "   toxic  \n",
       "0      0  \n",
       "1      0  \n",
       "2      0  \n",
       "3      0  \n",
       "4      0  "
      ]
     },
     "execution_count": 4,
     "metadata": {},
     "output_type": "execute_result"
    }
   ],
   "source": [
    "data.head()"
   ]
  },
  {
   "cell_type": "markdown",
   "metadata": {},
   "source": [
    "В столбце \"text\" имеется большое количество лишних символов, от которых необходимо будет избавиться."
   ]
  },
  {
   "cell_type": "markdown",
   "metadata": {},
   "source": [
    "Изучим столбец \"toxic\" подробнее, а именно величины, записанные в нем и их баланс."
   ]
  },
  {
   "cell_type": "code",
   "execution_count": 5,
   "metadata": {},
   "outputs": [
    {
     "data": {
      "text/plain": [
       "0    143346\n",
       "1     16225\n",
       "Name: toxic, dtype: int64"
      ]
     },
     "execution_count": 5,
     "metadata": {},
     "output_type": "execute_result"
    }
   ],
   "source": [
    "data[\"toxic\"].value_counts()"
   ]
  },
  {
   "cell_type": "code",
   "execution_count": 6,
   "metadata": {
    "scrolled": true
   },
   "outputs": [
    {
     "data": {
      "text/plain": [
       "10.2"
      ]
     },
     "execution_count": 6,
     "metadata": {},
     "output_type": "execute_result"
    }
   ],
   "source": [
    "(data[\"toxic\"].sum() / data.shape[0] * 100).round(1)"
   ]
  },
  {
   "cell_type": "markdown",
   "metadata": {},
   "source": [
    "В столбце \"toxic\" присутствуют единицы и нули. Всего два класса - здесь ошибки в исходных данных нет. При этом имеется существенный дисбаланс классов. Положительных ответов всего 10% от всего датафрейма. Это необходимо учесть при обучении моделей."
   ]
  },
  {
   "cell_type": "markdown",
   "metadata": {},
   "source": [
    "### Очистка текста от лишних символов и его лемматизация"
   ]
  },
  {
   "cell_type": "markdown",
   "metadata": {},
   "source": [
    "Напишем функции для очистки текста от лишних символов и его лемматизации. При этом учтем, что в английском большое значение имеет символ апострофа ('). Данный символ используется во многих очень распространенных словосочетаниях и словах, например: weren't, it's, don't, boy's и т.д. Таким образом, его замена на пробелы и дальнейшее удаление может затруднить расшифровку слов для алгоритмов, анализирующих текст. Решить данную проблему можно различными методами. Здесь применим следующий подход. Выполним первичную очистку - для нее напишем функцию **clean_first**, в которой символ апострофа включен в шаблон (апостроф не заменяется на пробел). Затем выполним лемматизацию текста с удалением стоп-слов при помощи функции **lemmatize**. При выполнении лемматизации рассматриваемые апострофы уйдут в результате приведения слов к начальной форме, а также удаления стоп-слов. Оставшиеся апострофы являются лишними символами: для их удаления запустим функцию **clean_second**, в которой символ апострофа не включен в шаблон (апостроф заменяется на пробел, лишние пробелы удаляются при помощи комбинации методов split/join)."
   ]
  },
  {
   "cell_type": "code",
   "execution_count": 7,
   "metadata": {},
   "outputs": [],
   "source": [
    "def clean_first(text):\n",
    "    text = text.lower()\n",
    "    text = re.sub(r\"[^a-zA-Z']\", \" \", text)\n",
    "    return text"
   ]
  },
  {
   "cell_type": "code",
   "execution_count": 8,
   "metadata": {},
   "outputs": [],
   "source": [
    "def clean_second(text):\n",
    "    text = re.sub(r\"[^a-zA-Z]\", \" \", text)\n",
    "    return \" \".join(text.split())"
   ]
  },
  {
   "cell_type": "code",
   "execution_count": 9,
   "metadata": {},
   "outputs": [],
   "source": [
    "nlp = spacy.load(\"en_core_web_sm\", disable = ['tagger','perser','ner'])"
   ]
  },
  {
   "cell_type": "code",
   "execution_count": 10,
   "metadata": {},
   "outputs": [],
   "source": [
    "def lemmatize(text):\n",
    "    temp_str = \"\"\n",
    "    for token in nlp(text):\n",
    "        if token.is_stop == False:\n",
    "            temp_str += \" \"\n",
    "            temp_str += token.lemma_\n",
    "    return \" \".join(temp_str.split())"
   ]
  },
  {
   "cell_type": "markdown",
   "metadata": {},
   "source": [
    "Запустим первую функцию - **clean_first** и проконтролируем визуально результат, выведя первые пять строк датафрейма."
   ]
  },
  {
   "cell_type": "code",
   "execution_count": 11,
   "metadata": {},
   "outputs": [
    {
     "data": {
      "text/html": [
       "<div>\n",
       "<style scoped>\n",
       "    .dataframe tbody tr th:only-of-type {\n",
       "        vertical-align: middle;\n",
       "    }\n",
       "\n",
       "    .dataframe tbody tr th {\n",
       "        vertical-align: top;\n",
       "    }\n",
       "\n",
       "    .dataframe thead th {\n",
       "        text-align: right;\n",
       "    }\n",
       "</style>\n",
       "<table border=\"1\" class=\"dataframe\">\n",
       "  <thead>\n",
       "    <tr style=\"text-align: right;\">\n",
       "      <th></th>\n",
       "      <th>text</th>\n",
       "      <th>toxic</th>\n",
       "      <th>clean_text</th>\n",
       "    </tr>\n",
       "  </thead>\n",
       "  <tbody>\n",
       "    <tr>\n",
       "      <td>0</td>\n",
       "      <td>Explanation\\nWhy the edits made under my username Hardcore Metallica Fan were reverted? They weren't vandalisms, just closure on some GAs after I voted at New York Dolls FAC. And please don't remove the template from the talk page since I'm retired now.89.205.38.27</td>\n",
       "      <td>0</td>\n",
       "      <td>explanation why the edits made under my username hardcore metallica fan were reverted  they weren't vandalisms  just closure on some gas after i voted at new york dolls fac  and please don't remove the template from the talk page since i'm retired now</td>\n",
       "    </tr>\n",
       "    <tr>\n",
       "      <td>1</td>\n",
       "      <td>D'aww! He matches this background colour I'm seemingly stuck with. Thanks.  (talk) 21:51, January 11, 2016 (UTC)</td>\n",
       "      <td>0</td>\n",
       "      <td>d'aww  he matches this background colour i'm seemingly stuck with  thanks    talk         january           utc</td>\n",
       "    </tr>\n",
       "    <tr>\n",
       "      <td>2</td>\n",
       "      <td>Hey man, I'm really not trying to edit war. It's just that this guy is constantly removing relevant information and talking to me through edits instead of my talk page. He seems to care more about the formatting than the actual info.</td>\n",
       "      <td>0</td>\n",
       "      <td>hey man  i'm really not trying to edit war  it's just that this guy is constantly removing relevant information and talking to me through edits instead of my talk page  he seems to care more about the formatting than the actual info</td>\n",
       "    </tr>\n",
       "    <tr>\n",
       "      <td>3</td>\n",
       "      <td>\"\\nMore\\nI can't make any real suggestions on improvement - I wondered if the section statistics should be later on, or a subsection of \"\"types of accidents\"\"  -I think the references may need tidying so that they are all in the exact same format ie date format etc. I can do that later on, if no-one else does first - if you have any preferences for formatting style on references or want to do it yourself please let me know.\\n\\nThere appears to be a backlog on articles for review so I guess there may be a delay until a reviewer turns up. It's listed in the relevant form eg Wikipedia:Good_article_nominations#Transport  \"</td>\n",
       "      <td>0</td>\n",
       "      <td>more i can't make any real suggestions on improvement   i wondered if the section statistics should be later on  or a subsection of   types of accidents     i think the references may need tidying so that they are all in the exact same format ie date format etc  i can do that later on  if no one else does first   if you have any preferences for formatting style on references or want to do it yourself please let me know   there appears to be a backlog on articles for review so i guess there may be a delay until a reviewer turns up  it's listed in the relevant form eg wikipedia good article nominations transport</td>\n",
       "    </tr>\n",
       "    <tr>\n",
       "      <td>4</td>\n",
       "      <td>You, sir, are my hero. Any chance you remember what page that's on?</td>\n",
       "      <td>0</td>\n",
       "      <td>you  sir  are my hero  any chance you remember what page that's on</td>\n",
       "    </tr>\n",
       "  </tbody>\n",
       "</table>\n",
       "</div>"
      ],
      "text/plain": [
       "                                                                                                                                                                                                                                                                                                                                                                                                                                                                                                                                                                                                                                                 text  \\\n",
       "0                                                                                                                                                                                                                                                                                                                                                                           Explanation\\nWhy the edits made under my username Hardcore Metallica Fan were reverted? They weren't vandalisms, just closure on some GAs after I voted at New York Dolls FAC. And please don't remove the template from the talk page since I'm retired now.89.205.38.27   \n",
       "1                                                                                                                                                                                                                                                                                                                                                                                                                                                                                                                                    D'aww! He matches this background colour I'm seemingly stuck with. Thanks.  (talk) 21:51, January 11, 2016 (UTC)   \n",
       "2                                                                                                                                                                                                                                                                                                                                                                                                           Hey man, I'm really not trying to edit war. It's just that this guy is constantly removing relevant information and talking to me through edits instead of my talk page. He seems to care more about the formatting than the actual info.   \n",
       "3  \"\\nMore\\nI can't make any real suggestions on improvement - I wondered if the section statistics should be later on, or a subsection of \"\"types of accidents\"\"  -I think the references may need tidying so that they are all in the exact same format ie date format etc. I can do that later on, if no-one else does first - if you have any preferences for formatting style on references or want to do it yourself please let me know.\\n\\nThere appears to be a backlog on articles for review so I guess there may be a delay until a reviewer turns up. It's listed in the relevant form eg Wikipedia:Good_article_nominations#Transport  \"   \n",
       "4                                                                                                                                                                                                                                                                                                                                                                                                                                                                                                                                                                                 You, sir, are my hero. Any chance you remember what page that's on?   \n",
       "\n",
       "   toxic  \\\n",
       "0      0   \n",
       "1      0   \n",
       "2      0   \n",
       "3      0   \n",
       "4      0   \n",
       "\n",
       "                                                                                                                                                                                                                                                                                                                                                                                                                                                                                                                                                                                                                                       clean_text  \n",
       "0                                                                                                                                                                                                                                                                                                                                                                        explanation why the edits made under my username hardcore metallica fan were reverted  they weren't vandalisms  just closure on some gas after i voted at new york dolls fac  and please don't remove the template from the talk page since i'm retired now               \n",
       "1                                                                                                                                                                                                                                                                                                                                                                                                                                                                                                                                d'aww  he matches this background colour i'm seemingly stuck with  thanks    talk         january           utc   \n",
       "2                                                                                                                                                                                                                                                                                                                                                                                                       hey man  i'm really not trying to edit war  it's just that this guy is constantly removing relevant information and talking to me through edits instead of my talk page  he seems to care more about the formatting than the actual info   \n",
       "3    more i can't make any real suggestions on improvement   i wondered if the section statistics should be later on  or a subsection of   types of accidents     i think the references may need tidying so that they are all in the exact same format ie date format etc  i can do that later on  if no one else does first   if you have any preferences for formatting style on references or want to do it yourself please let me know   there appears to be a backlog on articles for review so i guess there may be a delay until a reviewer turns up  it's listed in the relevant form eg wikipedia good article nominations transport     \n",
       "4                                                                                                                                                                                                                                                                                                                                                                                                                                                                                                                                                                             you  sir  are my hero  any chance you remember what page that's on   "
      ]
     },
     "execution_count": 11,
     "metadata": {},
     "output_type": "execute_result"
    }
   ],
   "source": [
    "data[\"clean_text\"] = data[\"text\"].apply(clean_first)\n",
    "data.head()"
   ]
  },
  {
   "cell_type": "markdown",
   "metadata": {},
   "source": [
    "Запустим втору функцию - **lemmatize** и проконтролируем визуально результат. Учитывая длительность выполнения функции установим счетчик прогресса решения задачи (tqdm)."
   ]
  },
  {
   "cell_type": "code",
   "execution_count": 12,
   "metadata": {},
   "outputs": [
    {
     "name": "stderr",
     "output_type": "stream",
     "text": [
      "/opt/conda/lib/python3.7/site-packages/tqdm/std.py:703: FutureWarning: The Panel class is removed from pandas. Accessing it from the top-level namespace will also be removed in the next version\n",
      "  from pandas import Panel\n"
     ]
    },
    {
     "data": {
      "application/vnd.jupyter.widget-view+json": {
       "model_id": "374184aab835427083ba492880efd945",
       "version_major": 2,
       "version_minor": 0
      },
      "text/plain": [
       "HBox(children=(HTML(value=''), FloatProgress(value=0.0, max=159571.0), HTML(value='')))"
      ]
     },
     "metadata": {},
     "output_type": "display_data"
    },
    {
     "name": "stdout",
     "output_type": "stream",
     "text": [
      "\n"
     ]
    }
   ],
   "source": [
    "tqdm.pandas()\n",
    "data[\"lemm_text\"] = data[\"clean_text\"].progress_apply(lemmatize)"
   ]
  },
  {
   "cell_type": "markdown",
   "metadata": {},
   "source": [
    "Запустим первую функцию - **clean_second** и проконтролируем визуально результат, выведя первые пять строк датафрейма."
   ]
  },
  {
   "cell_type": "code",
   "execution_count": 13,
   "metadata": {},
   "outputs": [
    {
     "data": {
      "text/html": [
       "<div>\n",
       "<style scoped>\n",
       "    .dataframe tbody tr th:only-of-type {\n",
       "        vertical-align: middle;\n",
       "    }\n",
       "\n",
       "    .dataframe tbody tr th {\n",
       "        vertical-align: top;\n",
       "    }\n",
       "\n",
       "    .dataframe thead th {\n",
       "        text-align: right;\n",
       "    }\n",
       "</style>\n",
       "<table border=\"1\" class=\"dataframe\">\n",
       "  <thead>\n",
       "    <tr style=\"text-align: right;\">\n",
       "      <th></th>\n",
       "      <th>text</th>\n",
       "      <th>toxic</th>\n",
       "      <th>clean_text</th>\n",
       "      <th>lemm_text</th>\n",
       "    </tr>\n",
       "  </thead>\n",
       "  <tbody>\n",
       "    <tr>\n",
       "      <td>0</td>\n",
       "      <td>Explanation\\nWhy the edits made under my username Hardcore Metallica Fan were reverted? They weren't vandalisms, just closure on some GAs after I voted at New York Dolls FAC. And please don't remove the template from the talk page since I'm retired now.89.205.38.27</td>\n",
       "      <td>0</td>\n",
       "      <td>explanation why the edits made under my username hardcore metallica fan were reverted  they weren't vandalisms  just closure on some gas after i voted at new york dolls fac  and please don't remove the template from the talk page since i'm retired now</td>\n",
       "      <td>explanation edit username hardcore metallica fan revert vandalisms closure gas vote new york doll fac remove template talk page retire</td>\n",
       "    </tr>\n",
       "    <tr>\n",
       "      <td>1</td>\n",
       "      <td>D'aww! He matches this background colour I'm seemingly stuck with. Thanks.  (talk) 21:51, January 11, 2016 (UTC)</td>\n",
       "      <td>0</td>\n",
       "      <td>d'aww  he matches this background colour i'm seemingly stuck with  thanks    talk         january           utc</td>\n",
       "      <td>d aww match background colour seemingly stick thank talk january utc</td>\n",
       "    </tr>\n",
       "    <tr>\n",
       "      <td>2</td>\n",
       "      <td>Hey man, I'm really not trying to edit war. It's just that this guy is constantly removing relevant information and talking to me through edits instead of my talk page. He seems to care more about the formatting than the actual info.</td>\n",
       "      <td>0</td>\n",
       "      <td>hey man  i'm really not trying to edit war  it's just that this guy is constantly removing relevant information and talking to me through edits instead of my talk page  he seems to care more about the formatting than the actual info</td>\n",
       "      <td>hey man try edit war guy constantly remove relevant information talk edit instead talk page care format actual info</td>\n",
       "    </tr>\n",
       "    <tr>\n",
       "      <td>3</td>\n",
       "      <td>\"\\nMore\\nI can't make any real suggestions on improvement - I wondered if the section statistics should be later on, or a subsection of \"\"types of accidents\"\"  -I think the references may need tidying so that they are all in the exact same format ie date format etc. I can do that later on, if no-one else does first - if you have any preferences for formatting style on references or want to do it yourself please let me know.\\n\\nThere appears to be a backlog on articles for review so I guess there may be a delay until a reviewer turns up. It's listed in the relevant form eg Wikipedia:Good_article_nominations#Transport  \"</td>\n",
       "      <td>0</td>\n",
       "      <td>more i can't make any real suggestions on improvement   i wondered if the section statistics should be later on  or a subsection of   types of accidents     i think the references may need tidying so that they are all in the exact same format ie date format etc  i can do that later on  if no one else does first   if you have any preferences for formatting style on references or want to do it yourself please let me know   there appears to be a backlog on articles for review so i guess there may be a delay until a reviewer turns up  it's listed in the relevant form eg wikipedia good article nominations transport</td>\n",
       "      <td>real suggestion improvement wonder section statistic late subsection type accident think reference need tidy exact format ie date format etc late preference format style reference want let know appear backlog article review guess delay reviewer turn list relevant form eg wikipedia good article nomination transport</td>\n",
       "    </tr>\n",
       "    <tr>\n",
       "      <td>4</td>\n",
       "      <td>You, sir, are my hero. Any chance you remember what page that's on?</td>\n",
       "      <td>0</td>\n",
       "      <td>you  sir  are my hero  any chance you remember what page that's on</td>\n",
       "      <td>sir hero chance remember page</td>\n",
       "    </tr>\n",
       "  </tbody>\n",
       "</table>\n",
       "</div>"
      ],
      "text/plain": [
       "                                                                                                                                                                                                                                                                                                                                                                                                                                                                                                                                                                                                                                                 text  \\\n",
       "0                                                                                                                                                                                                                                                                                                                                                                           Explanation\\nWhy the edits made under my username Hardcore Metallica Fan were reverted? They weren't vandalisms, just closure on some GAs after I voted at New York Dolls FAC. And please don't remove the template from the talk page since I'm retired now.89.205.38.27   \n",
       "1                                                                                                                                                                                                                                                                                                                                                                                                                                                                                                                                    D'aww! He matches this background colour I'm seemingly stuck with. Thanks.  (talk) 21:51, January 11, 2016 (UTC)   \n",
       "2                                                                                                                                                                                                                                                                                                                                                                                                           Hey man, I'm really not trying to edit war. It's just that this guy is constantly removing relevant information and talking to me through edits instead of my talk page. He seems to care more about the formatting than the actual info.   \n",
       "3  \"\\nMore\\nI can't make any real suggestions on improvement - I wondered if the section statistics should be later on, or a subsection of \"\"types of accidents\"\"  -I think the references may need tidying so that they are all in the exact same format ie date format etc. I can do that later on, if no-one else does first - if you have any preferences for formatting style on references or want to do it yourself please let me know.\\n\\nThere appears to be a backlog on articles for review so I guess there may be a delay until a reviewer turns up. It's listed in the relevant form eg Wikipedia:Good_article_nominations#Transport  \"   \n",
       "4                                                                                                                                                                                                                                                                                                                                                                                                                                                                                                                                                                                 You, sir, are my hero. Any chance you remember what page that's on?   \n",
       "\n",
       "   toxic  \\\n",
       "0      0   \n",
       "1      0   \n",
       "2      0   \n",
       "3      0   \n",
       "4      0   \n",
       "\n",
       "                                                                                                                                                                                                                                                                                                                                                                                                                                                                                                                                                                                                                                       clean_text  \\\n",
       "0                                                                                                                                                                                                                                                                                                                                                                        explanation why the edits made under my username hardcore metallica fan were reverted  they weren't vandalisms  just closure on some gas after i voted at new york dolls fac  and please don't remove the template from the talk page since i'm retired now                \n",
       "1                                                                                                                                                                                                                                                                                                                                                                                                                                                                                                                                d'aww  he matches this background colour i'm seemingly stuck with  thanks    talk         january           utc    \n",
       "2                                                                                                                                                                                                                                                                                                                                                                                                       hey man  i'm really not trying to edit war  it's just that this guy is constantly removing relevant information and talking to me through edits instead of my talk page  he seems to care more about the formatting than the actual info    \n",
       "3    more i can't make any real suggestions on improvement   i wondered if the section statistics should be later on  or a subsection of   types of accidents     i think the references may need tidying so that they are all in the exact same format ie date format etc  i can do that later on  if no one else does first   if you have any preferences for formatting style on references or want to do it yourself please let me know   there appears to be a backlog on articles for review so i guess there may be a delay until a reviewer turns up  it's listed in the relevant form eg wikipedia good article nominations transport      \n",
       "4                                                                                                                                                                                                                                                                                                                                                                                                                                                                                                                                                                             you  sir  are my hero  any chance you remember what page that's on    \n",
       "\n",
       "                                                                                                                                                                                                                                                                                                                     lemm_text  \n",
       "0                                                                                                                                                                                       explanation edit username hardcore metallica fan revert vandalisms closure gas vote new york doll fac remove template talk page retire  \n",
       "1                                                                                                                                                                                                                                                         d aww match background colour seemingly stick thank talk january utc  \n",
       "2                                                                                                                                                                                                          hey man try edit war guy constantly remove relevant information talk edit instead talk page care format actual info  \n",
       "3  real suggestion improvement wonder section statistic late subsection type accident think reference need tidy exact format ie date format etc late preference format style reference want let know appear backlog article review guess delay reviewer turn list relevant form eg wikipedia good article nomination transport  \n",
       "4                                                                                                                                                                                                                                                                                                sir hero chance remember page  "
      ]
     },
     "execution_count": 13,
     "metadata": {},
     "output_type": "execute_result"
    }
   ],
   "source": [
    "data[\"lemm_text\"] = data[\"lemm_text\"].apply(clean_second)\n",
    "data.head()"
   ]
  },
  {
   "cell_type": "markdown",
   "metadata": {},
   "source": [
    "Следует отметить, что выполненная обработка текста не является абсолютно чистой и законченной. Например, не удалены такие словосочетания как https. Наверняка имеются и другие погрешности. Для полной очистки текста, вероятно, требуется серьезная аналитическая работа. В первом приближении примем, что выполненной очистки достаточно для достижения требуемого значения показателя F-1. При необходимости можно будет вернуться к тексту и подготовить его к обучению более тщательно."
   ]
  },
  {
   "cell_type": "markdown",
   "metadata": {},
   "source": [
    "### Разбиение датасета на обучающую и тестовую выборки"
   ]
  },
  {
   "cell_type": "code",
   "execution_count": 14,
   "metadata": {},
   "outputs": [],
   "source": [
    "X = data[\"lemm_text\"]\n",
    "y = data[\"toxic\"]\n",
    "X_train, X_test, y_train, y_test = train_test_split(X, y, random_state=56789, test_size=0.25)"
   ]
  },
  {
   "cell_type": "code",
   "execution_count": 15,
   "metadata": {},
   "outputs": [],
   "source": [
    "X_train = X_train.reset_index(drop=True)\n",
    "X_test = X_test.reset_index(drop=True)\n",
    "y_train = y_train.reset_index(drop=True)\n",
    "y_test = y_test.reset_index(drop=True)"
   ]
  },
  {
   "cell_type": "markdown",
   "metadata": {},
   "source": [
    "### Выводы"
   ]
  },
  {
   "cell_type": "markdown",
   "metadata": {},
   "source": [
    "1. Исходные данные загружены и изучены. В исходных данных выявлен существенный дисбаланс классов (положительные ответы составляют только 10% датасета).\n",
    "2. Выполнена очистка текста от лишних символов и его лемматизация.\n",
    "3. Выполнено разбиение датасета на обучающую и тестовую выборки."
   ]
  },
  {
   "cell_type": "markdown",
   "metadata": {},
   "source": [
    "## Обучение и тестирование моделей"
   ]
  },
  {
   "cell_type": "markdown",
   "metadata": {},
   "source": [
    "Рассмотрим две модели: LogisticRegression и LGBMClassifier (простую и сложную)."
   ]
  },
  {
   "cell_type": "markdown",
   "metadata": {},
   "source": [
    "### Модель LogisticRegression"
   ]
  },
  {
   "cell_type": "markdown",
   "metadata": {},
   "source": [
    "Подберем оптимальные гиперпараметры для рассматриваемой модели."
   ]
  },
  {
   "cell_type": "code",
   "execution_count": 16,
   "metadata": {},
   "outputs": [],
   "source": [
    "pipe = Pipeline([\n",
    "    ('vectorizer', TfidfVectorizer(ngram_range=(1, 1))),\n",
    "    ('model', LogisticRegression(solver='liblinear', random_state=56789, class_weight=\"balanced\"))\n",
    "])\n",
    "\n",
    "params = {\n",
    "    'model__max_iter': [20, 50, 100],\n",
    "    \"model__C\": [0.1, 1.0, 10]\n",
    "}\n",
    "\n",
    "cv = KFold(n_splits=3, shuffle=True, random_state=56789)\n",
    "search_LogReg = GridSearchCV(pipe, param_grid=params, scoring=\"f1\", cv=cv, n_jobs=-1)"
   ]
  },
  {
   "cell_type": "code",
   "execution_count": 17,
   "metadata": {},
   "outputs": [
    {
     "name": "stdout",
     "output_type": "stream",
     "text": [
      "CPU times: user 6min 4s, sys: 3min 7s, total: 9min 11s\n",
      "Wall time: 9min 14s\n"
     ]
    },
    {
     "data": {
      "text/plain": [
       "GridSearchCV(cv=KFold(n_splits=3, random_state=56789, shuffle=True),\n",
       "             error_score='raise-deprecating',\n",
       "             estimator=Pipeline(memory=None,\n",
       "                                steps=[('vectorizer',\n",
       "                                        TfidfVectorizer(analyzer='word',\n",
       "                                                        binary=False,\n",
       "                                                        decode_error='strict',\n",
       "                                                        dtype=<class 'numpy.float64'>,\n",
       "                                                        encoding='utf-8',\n",
       "                                                        input='content',\n",
       "                                                        lowercase=True,\n",
       "                                                        max_df=1.0,\n",
       "                                                        max_features=None,\n",
       "                                                        min_df=1,\n",
       "                                                        ngram_range=(1, 1),...\n",
       "                                                           intercept_scaling=1,\n",
       "                                                           l1_ratio=None,\n",
       "                                                           max_iter=100,\n",
       "                                                           multi_class='warn',\n",
       "                                                           n_jobs=None,\n",
       "                                                           penalty='l2',\n",
       "                                                           random_state=56789,\n",
       "                                                           solver='liblinear',\n",
       "                                                           tol=0.0001,\n",
       "                                                           verbose=0,\n",
       "                                                           warm_start=False))],\n",
       "                                verbose=False),\n",
       "             iid='warn', n_jobs=-1,\n",
       "             param_grid={'model__C': [0.1, 1.0, 10],\n",
       "                         'model__max_iter': [20, 50, 100]},\n",
       "             pre_dispatch='2*n_jobs', refit=True, return_train_score=False,\n",
       "             scoring='f1', verbose=0)"
      ]
     },
     "execution_count": 17,
     "metadata": {},
     "output_type": "execute_result"
    }
   ],
   "source": [
    "%%time\n",
    "search_LogReg.fit(X_train, y_train)"
   ]
  },
  {
   "cell_type": "markdown",
   "metadata": {},
   "source": [
    "Выведем лучший набор гиперпараметров для модели и соответствующее ему значение F1 метрики."
   ]
  },
  {
   "cell_type": "code",
   "execution_count": 18,
   "metadata": {},
   "outputs": [
    {
     "name": "stdout",
     "output_type": "stream",
     "text": [
      "{'model__C': 10, 'model__max_iter': 20}\n",
      "0.759960283659724\n"
     ]
    }
   ],
   "source": [
    "print(search_LogReg.best_params_)\n",
    "print(search_LogReg.best_score_)"
   ]
  },
  {
   "cell_type": "markdown",
   "metadata": {},
   "source": [
    "Получим значение F1 метрики для тестовой выборки при лучшем наборе гиперпараметров."
   ]
  },
  {
   "cell_type": "code",
   "execution_count": 19,
   "metadata": {},
   "outputs": [
    {
     "data": {
      "text/plain": [
       "0.7675096142640718"
      ]
     },
     "execution_count": 19,
     "metadata": {},
     "output_type": "execute_result"
    }
   ],
   "source": [
    "predictions = search_LogReg.best_estimator_.predict(X_test)\n",
    "score = f1_score(y_test, predictions)\n",
    "score"
   ]
  },
  {
   "cell_type": "markdown",
   "metadata": {},
   "source": [
    "Полученное на тестовой выборке значение F1 метрики удовлетворяет заданному критерию (F1 > 0.75)."
   ]
  },
  {
   "cell_type": "markdown",
   "metadata": {},
   "source": [
    "### Модель LGBMClassifier"
   ]
  },
  {
   "cell_type": "markdown",
   "metadata": {},
   "source": [
    "Подберем оптимальные гиперпараметры для рассматриваемой модели."
   ]
  },
  {
   "cell_type": "code",
   "execution_count": 20,
   "metadata": {},
   "outputs": [],
   "source": [
    "pipe = Pipeline([\n",
    "    ('vectorizer', TfidfVectorizer(ngram_range=(1, 1))),\n",
    "    ('model', LGBMClassifier(seed=56789, class_weight=\"balanced\"))\n",
    "])\n",
    "\n",
    "params = {\n",
    "    \"model__n_estimators\": [20, 60],\n",
    "    \"model__learning_rate\": [0.5, 0.1]\n",
    "}\n",
    "\n",
    "search_LGBMClass = GridSearchCV(pipe, param_grid=params, scoring=\"f1\", cv=cv, n_jobs=-1)"
   ]
  },
  {
   "cell_type": "code",
   "execution_count": 21,
   "metadata": {},
   "outputs": [
    {
     "name": "stdout",
     "output_type": "stream",
     "text": [
      "CPU times: user 12min 53s, sys: 2.47 s, total: 12min 55s\n",
      "Wall time: 13min 6s\n"
     ]
    },
    {
     "data": {
      "text/plain": [
       "GridSearchCV(cv=KFold(n_splits=3, random_state=56789, shuffle=True),\n",
       "             error_score='raise-deprecating',\n",
       "             estimator=Pipeline(memory=None,\n",
       "                                steps=[('vectorizer',\n",
       "                                        TfidfVectorizer(analyzer='word',\n",
       "                                                        binary=False,\n",
       "                                                        decode_error='strict',\n",
       "                                                        dtype=<class 'numpy.float64'>,\n",
       "                                                        encoding='utf-8',\n",
       "                                                        input='content',\n",
       "                                                        lowercase=True,\n",
       "                                                        max_df=1.0,\n",
       "                                                        max_features=None,\n",
       "                                                        min_df=1,\n",
       "                                                        ngram_range=(1, 1),...\n",
       "                                                       n_jobs=-1, num_leaves=31,\n",
       "                                                       objective=None,\n",
       "                                                       random_state=None,\n",
       "                                                       reg_alpha=0.0,\n",
       "                                                       reg_lambda=0.0,\n",
       "                                                       seed=56789, silent=True,\n",
       "                                                       subsample=1.0,\n",
       "                                                       subsample_for_bin=200000,\n",
       "                                                       subsample_freq=0))],\n",
       "                                verbose=False),\n",
       "             iid='warn', n_jobs=-1,\n",
       "             param_grid={'model__learning_rate': [0.5, 0.1],\n",
       "                         'model__n_estimators': [20, 60]},\n",
       "             pre_dispatch='2*n_jobs', refit=True, return_train_score=False,\n",
       "             scoring='f1', verbose=0)"
      ]
     },
     "execution_count": 21,
     "metadata": {},
     "output_type": "execute_result"
    }
   ],
   "source": [
    "%%time\n",
    "search_LGBMClass.fit(X_train, y_train)"
   ]
  },
  {
   "cell_type": "markdown",
   "metadata": {},
   "source": [
    "Выведем лучший набор гиперпараметров для модели и соответствующее ему значение F1 метрики."
   ]
  },
  {
   "cell_type": "code",
   "execution_count": 23,
   "metadata": {},
   "outputs": [
    {
     "name": "stdout",
     "output_type": "stream",
     "text": [
      "{'model__learning_rate': 0.5, 'model__n_estimators': 60}\n",
      "0.734495023151957\n"
     ]
    }
   ],
   "source": [
    "print(search_LGBMClass.best_params_)\n",
    "print(search_LGBMClass.best_score_)"
   ]
  },
  {
   "cell_type": "markdown",
   "metadata": {},
   "source": [
    "Получим значение F1 метрики для тестовой выборки при лучшем наборе гиперпараметров."
   ]
  },
  {
   "cell_type": "code",
   "execution_count": 24,
   "metadata": {},
   "outputs": [
    {
     "data": {
      "text/plain": [
       "0.7353982300884956"
      ]
     },
     "execution_count": 24,
     "metadata": {},
     "output_type": "execute_result"
    }
   ],
   "source": [
    "predictions = search_LGBMClass.best_estimator_.predict(X_test)\n",
    "score = f1_score(y_test, predictions)\n",
    "score"
   ]
  },
  {
   "cell_type": "markdown",
   "metadata": {},
   "source": [
    "Полученное на тестовой выборке значение F1 метрики неудовлетворяет заданному критерию (F1 > 0.75)."
   ]
  },
  {
   "cell_type": "markdown",
   "metadata": {},
   "source": [
    "### Выводы"
   ]
  },
  {
   "cell_type": "markdown",
   "metadata": {},
   "source": [
    "1. Рассмотрено две модели: LogisticRegression и LGBMClassifier. Для данных моделей подобраны оптимальные гиперпараметры.\n",
    "2. На тестовой выборке F1 метрика равняется 0,77 и 0,74 для моделей LogisticRegression и LGBMClassifier соответственно. Таким образом, для модели LogisticRegression заданный критерий (F1 > 0.75) достигнут, а для модели LGBMClassifier - нет. Дальнейший подбор гиперпараметров для модели LGBMClassifier с целью повышения F1 метрики не выполнялся ввиду ресурсоемкости данной модели и достижения требуемого критерия моделью LogisticRegression.\n",
    "3. С учетом быстроты работы и достигнутых значений F1 метрики модель LogisticRegression является оптимальной для решения поставленной в проекте задачи."
   ]
  },
  {
   "cell_type": "markdown",
   "metadata": {},
   "source": [
    "## Чек-лист проверки"
   ]
  },
  {
   "cell_type": "markdown",
   "metadata": {},
   "source": [
    "- [x]  Jupyter Notebook открыт\n",
    "- [x]  Весь код выполняется без ошибок\n",
    "- [x]  Ячейки с кодом расположены в порядке исполнения\n",
    "- [x]  Данные загружены и подготовлены\n",
    "- [x]  Модели обучены\n",
    "- [x]  Значение метрики *F1* не меньше 0.75\n",
    "- [x]  Выводы написаны"
   ]
  },
  {
   "cell_type": "code",
   "execution_count": null,
   "metadata": {},
   "outputs": [],
   "source": []
  }
 ],
 "metadata": {
  "ExecuteTimeLog": [
   {
    "duration": 2289,
    "start_time": "2021-09-02T21:14:14.663Z"
   },
   {
    "duration": 9,
    "start_time": "2021-09-02T21:14:32.949Z"
   },
   {
    "duration": 903,
    "start_time": "2021-09-02T21:14:34.478Z"
   },
   {
    "duration": 1436,
    "start_time": "2021-09-02T21:37:12.056Z"
   },
   {
    "duration": 864,
    "start_time": "2021-09-02T21:37:15.454Z"
   },
   {
    "duration": 1503,
    "start_time": "2021-09-02T21:37:43.613Z"
   },
   {
    "duration": 969,
    "start_time": "2021-09-02T21:37:45.120Z"
   },
   {
    "duration": 1577,
    "start_time": "2021-09-02T21:47:23.102Z"
   },
   {
    "duration": 1167,
    "start_time": "2021-09-02T21:47:24.683Z"
   },
   {
    "duration": 1831,
    "start_time": "2021-09-02T21:48:22.064Z"
   },
   {
    "duration": 1220,
    "start_time": "2021-09-02T21:48:28.302Z"
   },
   {
    "duration": 843,
    "start_time": "2021-09-02T21:48:36.358Z"
   },
   {
    "duration": 326,
    "start_time": "2021-09-03T13:25:29.828Z"
   },
   {
    "duration": 1981,
    "start_time": "2021-09-03T13:26:04.732Z"
   },
   {
    "duration": 777,
    "start_time": "2021-09-03T13:26:06.715Z"
   },
   {
    "duration": 1071,
    "start_time": "2021-09-03T13:26:31.388Z"
   },
   {
    "duration": 1100,
    "start_time": "2021-09-03T13:26:42.754Z"
   },
   {
    "duration": 2458,
    "start_time": "2021-09-03T13:28:01.203Z"
   },
   {
    "duration": 1066,
    "start_time": "2021-09-03T13:28:03.665Z"
   },
   {
    "duration": 1784,
    "start_time": "2021-09-03T13:28:53.666Z"
   },
   {
    "duration": 62,
    "start_time": "2021-09-03T13:28:57.458Z"
   },
   {
    "duration": 2020,
    "start_time": "2021-09-03T13:34:11.778Z"
   },
   {
    "duration": 907,
    "start_time": "2021-09-03T13:34:13.802Z"
   },
   {
    "duration": 1434,
    "start_time": "2021-09-03T13:34:14.712Z"
   },
   {
    "duration": 12,
    "start_time": "2021-09-03T13:34:16.149Z"
   },
   {
    "duration": 11,
    "start_time": "2021-09-03T13:35:06.761Z"
   },
   {
    "duration": 14,
    "start_time": "2021-09-03T13:38:15.273Z"
   },
   {
    "duration": 441,
    "start_time": "2021-09-03T13:42:45.263Z"
   },
   {
    "duration": 1951,
    "start_time": "2021-09-03T13:43:10.630Z"
   },
   {
    "duration": 791,
    "start_time": "2021-09-03T13:43:12.583Z"
   },
   {
    "duration": 1470,
    "start_time": "2021-09-03T13:43:13.377Z"
   },
   {
    "duration": 6,
    "start_time": "2021-09-03T13:43:14.849Z"
   },
   {
    "duration": 18,
    "start_time": "2021-09-03T13:43:14.857Z"
   },
   {
    "duration": 16,
    "start_time": "2021-09-03T13:43:14.878Z"
   },
   {
    "duration": 4,
    "start_time": "2021-09-03T13:45:47.933Z"
   },
   {
    "duration": 4,
    "start_time": "2021-09-03T13:46:02.698Z"
   },
   {
    "duration": 20,
    "start_time": "2021-09-03T13:46:17.481Z"
   },
   {
    "duration": 88,
    "start_time": "2021-09-03T13:50:13.404Z"
   },
   {
    "duration": 5,
    "start_time": "2021-09-03T13:50:28.440Z"
   },
   {
    "duration": 15,
    "start_time": "2021-09-03T13:50:30.779Z"
   },
   {
    "duration": 4,
    "start_time": "2021-09-03T13:50:57.943Z"
   },
   {
    "duration": 17,
    "start_time": "2021-09-03T13:50:58.476Z"
   },
   {
    "duration": 2252,
    "start_time": "2021-09-03T13:58:32.385Z"
   },
   {
    "duration": 859,
    "start_time": "2021-09-03T13:58:34.640Z"
   },
   {
    "duration": 1413,
    "start_time": "2021-09-03T13:58:35.502Z"
   },
   {
    "duration": 4,
    "start_time": "2021-09-03T13:58:36.918Z"
   },
   {
    "duration": 34,
    "start_time": "2021-09-03T13:58:36.925Z"
   },
   {
    "duration": 32,
    "start_time": "2021-09-03T13:58:36.961Z"
   },
   {
    "duration": 21,
    "start_time": "2021-09-03T13:58:36.995Z"
   },
   {
    "duration": 33,
    "start_time": "2021-09-03T13:58:37.019Z"
   },
   {
    "duration": 30,
    "start_time": "2021-09-03T13:58:37.054Z"
   },
   {
    "duration": 1868,
    "start_time": "2021-09-03T14:07:20.465Z"
   },
   {
    "duration": 789,
    "start_time": "2021-09-03T14:07:22.336Z"
   },
   {
    "duration": 1419,
    "start_time": "2021-09-03T14:07:23.128Z"
   },
   {
    "duration": 18,
    "start_time": "2021-09-03T14:07:24.550Z"
   },
   {
    "duration": 9,
    "start_time": "2021-09-03T14:07:24.570Z"
   },
   {
    "duration": 24,
    "start_time": "2021-09-03T14:07:24.581Z"
   },
   {
    "duration": 56,
    "start_time": "2021-09-03T14:07:24.607Z"
   },
   {
    "duration": 27,
    "start_time": "2021-09-03T14:07:24.666Z"
   },
   {
    "duration": 22,
    "start_time": "2021-09-03T14:07:24.696Z"
   },
   {
    "duration": 10,
    "start_time": "2021-09-03T14:09:07.928Z"
   },
   {
    "duration": 6,
    "start_time": "2021-09-03T14:09:22.251Z"
   },
   {
    "duration": 4,
    "start_time": "2021-09-03T14:09:34.738Z"
   },
   {
    "duration": 4,
    "start_time": "2021-09-03T14:09:35.297Z"
   },
   {
    "duration": 12,
    "start_time": "2021-09-03T14:09:36.041Z"
   },
   {
    "duration": 13,
    "start_time": "2021-09-03T14:09:40.388Z"
   },
   {
    "duration": 10,
    "start_time": "2021-09-03T14:11:36.381Z"
   },
   {
    "duration": 9,
    "start_time": "2021-09-03T14:11:42.860Z"
   },
   {
    "duration": 9,
    "start_time": "2021-09-03T14:11:51.563Z"
   },
   {
    "duration": 10,
    "start_time": "2021-09-03T14:12:08.708Z"
   },
   {
    "duration": 7,
    "start_time": "2021-09-03T14:20:21.883Z"
   },
   {
    "duration": 5,
    "start_time": "2021-09-03T14:21:33.017Z"
   },
   {
    "duration": 7,
    "start_time": "2021-09-03T14:22:04.974Z"
   },
   {
    "duration": 6,
    "start_time": "2021-09-03T14:22:09.209Z"
   },
   {
    "duration": 5,
    "start_time": "2021-09-03T14:23:12.518Z"
   },
   {
    "duration": 4,
    "start_time": "2021-09-03T14:23:13.111Z"
   },
   {
    "duration": 4,
    "start_time": "2021-09-03T14:23:13.571Z"
   },
   {
    "duration": 21,
    "start_time": "2021-09-03T14:23:14.151Z"
   },
   {
    "duration": 4,
    "start_time": "2021-09-03T14:25:59.103Z"
   },
   {
    "duration": 4,
    "start_time": "2021-09-03T14:25:59.710Z"
   },
   {
    "duration": 18,
    "start_time": "2021-09-03T14:26:00.191Z"
   },
   {
    "duration": 1868,
    "start_time": "2021-09-03T15:32:03.571Z"
   },
   {
    "duration": 782,
    "start_time": "2021-09-03T15:32:05.442Z"
   },
   {
    "duration": 1351,
    "start_time": "2021-09-03T15:32:06.228Z"
   },
   {
    "duration": 14,
    "start_time": "2021-09-03T15:32:07.582Z"
   },
   {
    "duration": 13,
    "start_time": "2021-09-03T15:32:07.599Z"
   },
   {
    "duration": 17,
    "start_time": "2021-09-03T15:32:07.614Z"
   },
   {
    "duration": 24,
    "start_time": "2021-09-03T15:32:07.633Z"
   },
   {
    "duration": 19,
    "start_time": "2021-09-03T15:32:07.661Z"
   },
   {
    "duration": 30,
    "start_time": "2021-09-03T15:32:07.682Z"
   },
   {
    "duration": 17,
    "start_time": "2021-09-03T15:32:07.714Z"
   },
   {
    "duration": 24,
    "start_time": "2021-09-03T15:32:07.734Z"
   },
   {
    "duration": 10,
    "start_time": "2021-09-03T15:32:07.760Z"
   },
   {
    "duration": 10,
    "start_time": "2021-09-03T15:32:07.772Z"
   },
   {
    "duration": 5,
    "start_time": "2021-09-03T15:34:47.519Z"
   },
   {
    "duration": 18,
    "start_time": "2021-09-03T15:34:53.194Z"
   },
   {
    "duration": 4,
    "start_time": "2021-09-03T15:35:52.000Z"
   },
   {
    "duration": 19,
    "start_time": "2021-09-03T15:35:55.975Z"
   },
   {
    "duration": 4,
    "start_time": "2021-09-03T15:36:12.922Z"
   },
   {
    "duration": 18,
    "start_time": "2021-09-03T15:36:15.415Z"
   },
   {
    "duration": 1952,
    "start_time": "2021-09-03T15:57:10.224Z"
   },
   {
    "duration": 795,
    "start_time": "2021-09-03T15:57:12.179Z"
   },
   {
    "duration": 4,
    "start_time": "2021-09-03T15:57:12.978Z"
   },
   {
    "duration": 1394,
    "start_time": "2021-09-03T15:57:12.984Z"
   },
   {
    "duration": 4,
    "start_time": "2021-09-03T15:57:14.381Z"
   },
   {
    "duration": 9411,
    "start_time": "2021-09-03T15:57:14.388Z"
   },
   {
    "duration": 1911,
    "start_time": "2021-09-03T15:58:30.342Z"
   },
   {
    "duration": 810,
    "start_time": "2021-09-03T15:58:32.256Z"
   },
   {
    "duration": 3,
    "start_time": "2021-09-03T15:58:33.070Z"
   },
   {
    "duration": 1389,
    "start_time": "2021-09-03T15:58:33.076Z"
   },
   {
    "duration": 5,
    "start_time": "2021-09-03T15:58:34.468Z"
   },
   {
    "duration": 2058,
    "start_time": "2021-09-03T16:02:08.083Z"
   },
   {
    "duration": 796,
    "start_time": "2021-09-03T16:02:10.803Z"
   },
   {
    "duration": 2417,
    "start_time": "2021-09-03T16:18:32.539Z"
   },
   {
    "duration": 1160,
    "start_time": "2021-09-03T16:18:34.959Z"
   },
   {
    "duration": 4,
    "start_time": "2021-09-03T16:18:36.123Z"
   },
   {
    "duration": 1423,
    "start_time": "2021-09-03T16:18:36.131Z"
   },
   {
    "duration": 4,
    "start_time": "2021-09-03T16:18:37.557Z"
   },
   {
    "duration": 48,
    "start_time": "2021-09-03T16:18:37.563Z"
   },
   {
    "duration": 8515,
    "start_time": "2021-09-03T16:18:37.613Z"
   },
   {
    "duration": 4868,
    "start_time": "2021-09-03T16:20:01.350Z"
   },
   {
    "duration": 5,
    "start_time": "2021-09-03T16:20:17.222Z"
   },
   {
    "duration": 1906,
    "start_time": "2021-09-03T16:34:30.088Z"
   },
   {
    "duration": 784,
    "start_time": "2021-09-03T16:34:31.996Z"
   },
   {
    "duration": 4,
    "start_time": "2021-09-03T16:34:32.783Z"
   },
   {
    "duration": 98,
    "start_time": "2021-09-03T16:34:32.789Z"
   },
   {
    "duration": 6818,
    "start_time": "2021-09-03T16:34:26.073Z"
   },
   {
    "duration": 6817,
    "start_time": "2021-09-03T16:34:26.076Z"
   },
   {
    "duration": 6809,
    "start_time": "2021-09-03T16:34:26.086Z"
   },
   {
    "duration": 6807,
    "start_time": "2021-09-03T16:34:26.090Z"
   },
   {
    "duration": 6806,
    "start_time": "2021-09-03T16:34:26.093Z"
   },
   {
    "duration": 1862,
    "start_time": "2021-09-03T16:35:17.887Z"
   },
   {
    "duration": 782,
    "start_time": "2021-09-03T16:35:19.754Z"
   },
   {
    "duration": 3,
    "start_time": "2021-09-03T16:35:20.540Z"
   },
   {
    "duration": 15,
    "start_time": "2021-09-03T16:35:20.546Z"
   },
   {
    "duration": 1498,
    "start_time": "2021-09-03T16:35:20.563Z"
   },
   {
    "duration": 4,
    "start_time": "2021-09-03T16:35:22.064Z"
   },
   {
    "duration": 47,
    "start_time": "2021-09-03T16:35:22.070Z"
   },
   {
    "duration": 9329,
    "start_time": "2021-09-03T16:35:22.120Z"
   },
   {
    "duration": 25,
    "start_time": "2021-09-03T16:35:31.455Z"
   },
   {
    "duration": 1862,
    "start_time": "2021-09-03T16:36:35.776Z"
   },
   {
    "duration": 776,
    "start_time": "2021-09-03T16:36:37.641Z"
   },
   {
    "duration": 4,
    "start_time": "2021-09-03T16:36:38.422Z"
   },
   {
    "duration": 25,
    "start_time": "2021-09-03T16:36:38.430Z"
   },
   {
    "duration": 1490,
    "start_time": "2021-09-03T16:36:38.458Z"
   },
   {
    "duration": 4,
    "start_time": "2021-09-03T16:36:39.951Z"
   },
   {
    "duration": 51,
    "start_time": "2021-09-03T16:36:39.957Z"
   },
   {
    "duration": 8414,
    "start_time": "2021-09-03T16:36:40.011Z"
   },
   {
    "duration": 40,
    "start_time": "2021-09-03T16:36:48.427Z"
   },
   {
    "duration": 7,
    "start_time": "2021-09-03T16:46:04.409Z"
   },
   {
    "duration": 6,
    "start_time": "2021-09-03T16:46:51.126Z"
   },
   {
    "duration": 6,
    "start_time": "2021-09-03T16:47:00.707Z"
   },
   {
    "duration": 6,
    "start_time": "2021-09-03T16:47:06.057Z"
   },
   {
    "duration": 6,
    "start_time": "2021-09-03T16:47:23.415Z"
   },
   {
    "duration": 6,
    "start_time": "2021-09-03T16:47:29.865Z"
   },
   {
    "duration": 1976,
    "start_time": "2021-09-03T17:32:28.073Z"
   },
   {
    "duration": 918,
    "start_time": "2021-09-03T17:32:30.052Z"
   },
   {
    "duration": 7,
    "start_time": "2021-09-03T17:32:30.973Z"
   },
   {
    "duration": 33,
    "start_time": "2021-09-03T17:32:30.983Z"
   },
   {
    "duration": 23,
    "start_time": "2021-09-03T17:32:31.018Z"
   },
   {
    "duration": 1417,
    "start_time": "2021-09-03T17:32:31.046Z"
   },
   {
    "duration": 6,
    "start_time": "2021-09-03T17:32:32.466Z"
   },
   {
    "duration": 52,
    "start_time": "2021-09-03T17:32:32.475Z"
   },
   {
    "duration": 8855,
    "start_time": "2021-09-03T17:32:32.530Z"
   },
   {
    "duration": 30,
    "start_time": "2021-09-03T17:32:41.388Z"
   },
   {
    "duration": 34,
    "start_time": "2021-09-03T17:32:41.420Z"
   },
   {
    "duration": 5,
    "start_time": "2021-09-03T17:32:41.457Z"
   },
   {
    "duration": 449,
    "start_time": "2021-09-03T17:32:41.464Z"
   },
   {
    "duration": 6876,
    "start_time": "2021-09-03T17:32:35.039Z"
   },
   {
    "duration": 6875,
    "start_time": "2021-09-03T17:32:35.042Z"
   },
   {
    "duration": 6874,
    "start_time": "2021-09-03T17:32:35.045Z"
   },
   {
    "duration": 1846,
    "start_time": "2021-09-03T17:33:50.490Z"
   },
   {
    "duration": 771,
    "start_time": "2021-09-03T17:33:52.338Z"
   },
   {
    "duration": 6,
    "start_time": "2021-09-03T17:33:53.112Z"
   },
   {
    "duration": 16,
    "start_time": "2021-09-03T17:33:53.120Z"
   },
   {
    "duration": 22,
    "start_time": "2021-09-03T17:33:53.139Z"
   },
   {
    "duration": 1526,
    "start_time": "2021-09-03T17:33:53.163Z"
   },
   {
    "duration": 4,
    "start_time": "2021-09-03T17:33:54.691Z"
   },
   {
    "duration": 63,
    "start_time": "2021-09-03T17:33:54.698Z"
   },
   {
    "duration": 8379,
    "start_time": "2021-09-03T17:33:54.765Z"
   },
   {
    "duration": 35,
    "start_time": "2021-09-03T17:34:03.147Z"
   },
   {
    "duration": 6,
    "start_time": "2021-09-03T17:34:03.185Z"
   },
   {
    "duration": 11,
    "start_time": "2021-09-03T17:34:03.194Z"
   },
   {
    "duration": 47,
    "start_time": "2021-09-03T17:34:03.207Z"
   },
   {
    "duration": 1852,
    "start_time": "2021-09-03T17:34:03.257Z"
   },
   {
    "duration": 6,
    "start_time": "2021-09-03T17:34:05.112Z"
   },
   {
    "duration": 36,
    "start_time": "2021-09-03T17:34:05.120Z"
   },
   {
    "duration": 6,
    "start_time": "2021-09-03T17:46:31.040Z"
   },
   {
    "duration": 6,
    "start_time": "2021-09-03T17:46:40.550Z"
   },
   {
    "duration": 9,
    "start_time": "2021-09-03T17:54:34.426Z"
   },
   {
    "duration": 5,
    "start_time": "2021-09-03T17:55:09.618Z"
   },
   {
    "duration": 5,
    "start_time": "2021-09-03T17:56:13.071Z"
   },
   {
    "duration": 4401,
    "start_time": "2021-09-03T17:56:19.449Z"
   },
   {
    "duration": 6,
    "start_time": "2021-09-03T17:56:33.713Z"
   },
   {
    "duration": 4093,
    "start_time": "2021-09-03T17:56:37.058Z"
   },
   {
    "duration": 8,
    "start_time": "2021-09-03T17:56:45.081Z"
   },
   {
    "duration": 6,
    "start_time": "2021-09-03T17:56:59.084Z"
   },
   {
    "duration": 8,
    "start_time": "2021-09-03T17:58:24.164Z"
   },
   {
    "duration": 14,
    "start_time": "2021-09-03T17:58:34.728Z"
   },
   {
    "duration": 2030,
    "start_time": "2021-09-03T18:17:49.195Z"
   },
   {
    "duration": 778,
    "start_time": "2021-09-03T18:17:51.229Z"
   },
   {
    "duration": 6,
    "start_time": "2021-09-03T18:17:52.010Z"
   },
   {
    "duration": 15,
    "start_time": "2021-09-03T18:17:52.018Z"
   },
   {
    "duration": 29,
    "start_time": "2021-09-03T18:17:52.035Z"
   },
   {
    "duration": 1400,
    "start_time": "2021-09-03T18:17:52.067Z"
   },
   {
    "duration": 4,
    "start_time": "2021-09-03T18:17:53.470Z"
   },
   {
    "duration": 101,
    "start_time": "2021-09-03T18:17:53.477Z"
   },
   {
    "duration": 16564,
    "start_time": "2021-09-03T18:17:53.580Z"
   },
   {
    "duration": 43,
    "start_time": "2021-09-03T18:18:10.155Z"
   },
   {
    "duration": 9,
    "start_time": "2021-09-03T18:18:10.201Z"
   },
   {
    "duration": 45,
    "start_time": "2021-09-03T18:18:10.212Z"
   },
   {
    "duration": 17,
    "start_time": "2021-09-03T18:18:10.259Z"
   },
   {
    "duration": 1485,
    "start_time": "2021-09-03T18:18:10.279Z"
   },
   {
    "duration": 4,
    "start_time": "2021-09-03T18:18:11.767Z"
   },
   {
    "duration": 21,
    "start_time": "2021-09-03T18:18:11.774Z"
   },
   {
    "duration": 19,
    "start_time": "2021-09-03T18:18:11.798Z"
   },
   {
    "duration": 26,
    "start_time": "2021-09-03T18:18:11.819Z"
   },
   {
    "duration": 30,
    "start_time": "2021-09-03T18:18:11.847Z"
   },
   {
    "duration": 1848,
    "start_time": "2021-09-03T18:19:43.606Z"
   },
   {
    "duration": 876,
    "start_time": "2021-09-03T18:19:45.457Z"
   },
   {
    "duration": 19,
    "start_time": "2021-09-03T18:19:46.337Z"
   },
   {
    "duration": 11,
    "start_time": "2021-09-03T18:19:46.359Z"
   },
   {
    "duration": 22,
    "start_time": "2021-09-03T18:19:46.372Z"
   },
   {
    "duration": 1373,
    "start_time": "2021-09-03T18:19:46.397Z"
   },
   {
    "duration": 5,
    "start_time": "2021-09-03T18:19:47.772Z"
   },
   {
    "duration": 88,
    "start_time": "2021-09-03T18:19:47.781Z"
   },
   {
    "duration": 16817,
    "start_time": "2021-09-03T18:19:47.872Z"
   },
   {
    "duration": 40,
    "start_time": "2021-09-03T18:20:04.691Z"
   },
   {
    "duration": 7,
    "start_time": "2021-09-03T18:20:04.754Z"
   },
   {
    "duration": 16,
    "start_time": "2021-09-03T18:20:04.763Z"
   },
   {
    "duration": 30,
    "start_time": "2021-09-03T18:20:04.782Z"
   },
   {
    "duration": 1651,
    "start_time": "2021-09-03T18:20:04.814Z"
   },
   {
    "duration": 5,
    "start_time": "2021-09-03T18:20:06.468Z"
   },
   {
    "duration": 21,
    "start_time": "2021-09-03T18:20:06.475Z"
   },
   {
    "duration": 19,
    "start_time": "2021-09-03T18:20:06.498Z"
   },
   {
    "duration": 14,
    "start_time": "2021-09-03T18:20:06.520Z"
   },
   {
    "duration": 24,
    "start_time": "2021-09-03T18:20:06.537Z"
   },
   {
    "duration": 1920,
    "start_time": "2021-09-03T18:24:17.412Z"
   },
   {
    "duration": 1832,
    "start_time": "2021-09-03T18:24:31.606Z"
   },
   {
    "duration": 784,
    "start_time": "2021-09-03T18:24:33.441Z"
   },
   {
    "duration": 7,
    "start_time": "2021-09-03T18:24:34.228Z"
   },
   {
    "duration": 18,
    "start_time": "2021-09-03T18:24:34.237Z"
   },
   {
    "duration": 8,
    "start_time": "2021-09-03T18:24:34.258Z"
   },
   {
    "duration": 1405,
    "start_time": "2021-09-03T18:24:34.269Z"
   },
   {
    "duration": 4,
    "start_time": "2021-09-03T18:24:35.676Z"
   },
   {
    "duration": 172,
    "start_time": "2021-09-03T18:24:35.684Z"
   },
   {
    "duration": 40982,
    "start_time": "2021-09-03T18:24:35.858Z"
   },
   {
    "duration": 74,
    "start_time": "2021-09-03T18:25:16.855Z"
   },
   {
    "duration": 7,
    "start_time": "2021-09-03T18:25:16.931Z"
   },
   {
    "duration": 26,
    "start_time": "2021-09-03T18:25:16.954Z"
   },
   {
    "duration": 29,
    "start_time": "2021-09-03T18:25:16.982Z"
   },
   {
    "duration": 5253,
    "start_time": "2021-09-03T18:25:17.013Z"
   },
   {
    "duration": 6,
    "start_time": "2021-09-03T18:25:22.355Z"
   },
   {
    "duration": 11,
    "start_time": "2021-09-03T18:25:22.363Z"
   },
   {
    "duration": 11,
    "start_time": "2021-09-03T18:25:22.376Z"
   },
   {
    "duration": 17,
    "start_time": "2021-09-03T18:25:22.389Z"
   },
   {
    "duration": 47,
    "start_time": "2021-09-03T18:25:22.408Z"
   },
   {
    "duration": 1932,
    "start_time": "2021-09-03T18:26:20.015Z"
   },
   {
    "duration": 767,
    "start_time": "2021-09-03T18:26:21.950Z"
   },
   {
    "duration": 9,
    "start_time": "2021-09-03T18:26:22.721Z"
   },
   {
    "duration": 23,
    "start_time": "2021-09-03T18:26:22.733Z"
   },
   {
    "duration": 8,
    "start_time": "2021-09-03T18:26:22.759Z"
   },
   {
    "duration": 1359,
    "start_time": "2021-09-03T18:26:22.770Z"
   },
   {
    "duration": 4,
    "start_time": "2021-09-03T18:26:24.132Z"
   },
   {
    "duration": 339,
    "start_time": "2021-09-03T18:26:24.140Z"
   },
   {
    "duration": 82583,
    "start_time": "2021-09-03T18:26:24.483Z"
   },
   {
    "duration": 153,
    "start_time": "2021-09-03T18:27:47.068Z"
   },
   {
    "duration": 7,
    "start_time": "2021-09-03T18:27:47.224Z"
   },
   {
    "duration": 21,
    "start_time": "2021-09-03T18:27:47.233Z"
   },
   {
    "duration": 24,
    "start_time": "2021-09-03T18:27:47.257Z"
   },
   {
    "duration": 8973,
    "start_time": "2021-09-03T18:27:47.283Z"
   },
   {
    "duration": 6,
    "start_time": "2021-09-03T18:27:56.258Z"
   },
   {
    "duration": 20,
    "start_time": "2021-09-03T18:27:56.266Z"
   },
   {
    "duration": 18,
    "start_time": "2021-09-03T18:27:56.289Z"
   },
   {
    "duration": 8,
    "start_time": "2021-09-03T18:27:56.310Z"
   },
   {
    "duration": 43,
    "start_time": "2021-09-03T18:27:56.321Z"
   },
   {
    "duration": 2006,
    "start_time": "2021-09-03T18:28:49.316Z"
   },
   {
    "duration": 768,
    "start_time": "2021-09-03T18:28:51.324Z"
   },
   {
    "duration": 6,
    "start_time": "2021-09-03T18:28:52.095Z"
   },
   {
    "duration": 7,
    "start_time": "2021-09-03T18:28:52.104Z"
   },
   {
    "duration": 18,
    "start_time": "2021-09-03T18:28:52.113Z"
   },
   {
    "duration": 1364,
    "start_time": "2021-09-03T18:28:52.133Z"
   },
   {
    "duration": 5,
    "start_time": "2021-09-03T18:28:53.499Z"
   },
   {
    "duration": 61,
    "start_time": "2021-09-03T18:28:53.506Z"
   },
   {
    "duration": 8593,
    "start_time": "2021-09-03T18:28:53.571Z"
   },
   {
    "duration": 34,
    "start_time": "2021-09-03T18:29:02.168Z"
   },
   {
    "duration": 49,
    "start_time": "2021-09-03T18:29:02.205Z"
   },
   {
    "duration": 17,
    "start_time": "2021-09-03T18:29:02.257Z"
   },
   {
    "duration": 29,
    "start_time": "2021-09-03T18:29:02.277Z"
   },
   {
    "duration": 1208,
    "start_time": "2021-09-03T18:29:02.308Z"
   },
   {
    "duration": 5,
    "start_time": "2021-09-03T18:29:03.518Z"
   },
   {
    "duration": 34,
    "start_time": "2021-09-03T18:29:03.525Z"
   },
   {
    "duration": 12,
    "start_time": "2021-09-03T18:29:03.562Z"
   },
   {
    "duration": 11,
    "start_time": "2021-09-03T18:29:03.576Z"
   },
   {
    "duration": 18,
    "start_time": "2021-09-03T18:29:03.590Z"
   },
   {
    "duration": 1946,
    "start_time": "2021-09-03T18:30:30.323Z"
   },
   {
    "duration": 793,
    "start_time": "2021-09-03T18:30:32.272Z"
   },
   {
    "duration": 7,
    "start_time": "2021-09-03T18:30:33.068Z"
   },
   {
    "duration": 16,
    "start_time": "2021-09-03T18:30:33.078Z"
   },
   {
    "duration": 38,
    "start_time": "2021-09-03T18:30:33.096Z"
   },
   {
    "duration": 1385,
    "start_time": "2021-09-03T18:30:33.136Z"
   },
   {
    "duration": 4,
    "start_time": "2021-09-03T18:30:34.524Z"
   },
   {
    "duration": 1467,
    "start_time": "2021-09-03T18:30:34.531Z"
   },
   {
    "duration": 407368,
    "start_time": "2021-09-03T18:30:36.001Z"
   },
   {
    "duration": 610,
    "start_time": "2021-09-03T18:37:23.372Z"
   },
   {
    "duration": 13,
    "start_time": "2021-09-03T18:37:23.984Z"
   },
   {
    "duration": 20,
    "start_time": "2021-09-03T18:37:23.999Z"
   },
   {
    "duration": 18,
    "start_time": "2021-09-03T18:37:24.022Z"
   },
   {
    "duration": 48527,
    "start_time": "2021-09-03T18:37:24.042Z"
   },
   {
    "duration": 6,
    "start_time": "2021-09-03T18:38:12.571Z"
   },
   {
    "duration": 8,
    "start_time": "2021-09-03T18:38:12.579Z"
   },
   {
    "duration": 9,
    "start_time": "2021-09-03T18:38:12.589Z"
   },
   {
    "duration": 7,
    "start_time": "2021-09-03T18:38:12.600Z"
   },
   {
    "duration": 13,
    "start_time": "2021-09-03T18:38:12.656Z"
   },
   {
    "duration": 2013,
    "start_time": "2021-09-03T18:47:44.322Z"
   },
   {
    "duration": 786,
    "start_time": "2021-09-03T18:47:46.338Z"
   },
   {
    "duration": 424,
    "start_time": "2021-09-03T18:47:47.128Z"
   },
   {
    "duration": 6996,
    "start_time": "2021-09-03T18:47:40.559Z"
   },
   {
    "duration": 6995,
    "start_time": "2021-09-03T18:47:40.561Z"
   },
   {
    "duration": 6994,
    "start_time": "2021-09-03T18:47:40.564Z"
   },
   {
    "duration": 6993,
    "start_time": "2021-09-03T18:47:40.567Z"
   },
   {
    "duration": 6991,
    "start_time": "2021-09-03T18:47:40.570Z"
   },
   {
    "duration": 6990,
    "start_time": "2021-09-03T18:47:40.572Z"
   },
   {
    "duration": 6990,
    "start_time": "2021-09-03T18:47:40.574Z"
   },
   {
    "duration": 6988,
    "start_time": "2021-09-03T18:47:40.577Z"
   },
   {
    "duration": 6988,
    "start_time": "2021-09-03T18:47:40.579Z"
   },
   {
    "duration": 6987,
    "start_time": "2021-09-03T18:47:40.581Z"
   },
   {
    "duration": 6987,
    "start_time": "2021-09-03T18:47:40.583Z"
   },
   {
    "duration": 6983,
    "start_time": "2021-09-03T18:47:40.588Z"
   },
   {
    "duration": 6981,
    "start_time": "2021-09-03T18:47:40.591Z"
   },
   {
    "duration": 6980,
    "start_time": "2021-09-03T18:47:40.594Z"
   },
   {
    "duration": 6979,
    "start_time": "2021-09-03T18:47:40.596Z"
   },
   {
    "duration": 1859,
    "start_time": "2021-09-03T18:48:29.581Z"
   },
   {
    "duration": 795,
    "start_time": "2021-09-03T18:48:31.443Z"
   },
   {
    "duration": 16,
    "start_time": "2021-09-03T18:48:32.242Z"
   },
   {
    "duration": 6,
    "start_time": "2021-09-03T18:48:32.261Z"
   },
   {
    "duration": 9,
    "start_time": "2021-09-03T18:48:32.270Z"
   },
   {
    "duration": 1386,
    "start_time": "2021-09-03T18:48:32.281Z"
   },
   {
    "duration": 5,
    "start_time": "2021-09-03T18:48:33.669Z"
   },
   {
    "duration": 4503,
    "start_time": "2021-09-03T18:48:33.678Z"
   },
   {
    "duration": 1282707,
    "start_time": "2021-09-03T18:48:38.183Z"
   },
   {
    "duration": 2026,
    "start_time": "2021-09-03T19:10:00.893Z"
   },
   {
    "duration": 53,
    "start_time": "2021-09-03T19:10:02.922Z"
   },
   {
    "duration": 4,
    "start_time": "2021-09-03T19:10:02.978Z"
   },
   {
    "duration": 48,
    "start_time": "2021-09-03T19:10:02.985Z"
   },
   {
    "duration": 124480,
    "start_time": "2021-09-03T19:10:03.036Z"
   },
   {
    "duration": 5,
    "start_time": "2021-09-03T19:12:07.519Z"
   },
   {
    "duration": 31,
    "start_time": "2021-09-03T19:12:07.527Z"
   },
   {
    "duration": 1489,
    "start_time": "2021-09-03T19:12:07.561Z"
   },
   {
    "duration": 16,
    "start_time": "2021-09-03T19:12:09.055Z"
   },
   {
    "duration": 6,
    "start_time": "2021-09-03T19:13:05.870Z"
   },
   {
    "duration": 5,
    "start_time": "2021-09-03T19:21:59.945Z"
   },
   {
    "duration": 290785,
    "start_time": "2021-09-03T19:22:03.817Z"
   },
   {
    "duration": 5,
    "start_time": "2021-09-03T19:26:54.604Z"
   },
   {
    "duration": 1711,
    "start_time": "2021-09-03T19:26:54.612Z"
   },
   {
    "duration": 29,
    "start_time": "2021-09-03T19:26:56.325Z"
   },
   {
    "duration": 7,
    "start_time": "2021-09-03T19:30:21.165Z"
   },
   {
    "duration": 456,
    "start_time": "2021-09-03T19:30:34.334Z"
   },
   {
    "duration": 7,
    "start_time": "2021-09-03T19:30:44.222Z"
   },
   {
    "duration": 24,
    "start_time": "2021-09-03T19:31:47.976Z"
   },
   {
    "duration": 7,
    "start_time": "2021-09-03T19:32:31.027Z"
   },
   {
    "duration": 7,
    "start_time": "2021-09-03T19:32:41.024Z"
   },
   {
    "duration": 7,
    "start_time": "2021-09-03T19:32:48.667Z"
   },
   {
    "duration": 275,
    "start_time": "2021-09-03T19:33:13.232Z"
   },
   {
    "duration": 9,
    "start_time": "2021-09-03T19:34:11.597Z"
   },
   {
    "duration": 6,
    "start_time": "2021-09-03T19:34:25.534Z"
   },
   {
    "duration": 7,
    "start_time": "2021-09-03T19:34:35.935Z"
   },
   {
    "duration": 21,
    "start_time": "2021-09-03T19:34:49.150Z"
   },
   {
    "duration": 24,
    "start_time": "2021-09-03T19:37:31.135Z"
   },
   {
    "duration": 5,
    "start_time": "2021-09-03T19:37:33.677Z"
   },
   {
    "duration": 4,
    "start_time": "2021-09-03T19:37:35.288Z"
   },
   {
    "duration": 123936,
    "start_time": "2021-09-03T19:37:49.488Z"
   },
   {
    "duration": 5,
    "start_time": "2021-09-03T19:39:53.427Z"
   },
   {
    "duration": 25,
    "start_time": "2021-09-03T19:39:53.435Z"
   },
   {
    "duration": 1678,
    "start_time": "2021-09-03T19:39:53.463Z"
   },
   {
    "duration": 20,
    "start_time": "2021-09-03T19:39:55.144Z"
   },
   {
    "duration": 17,
    "start_time": "2021-09-03T19:39:55.167Z"
   },
   {
    "duration": 12,
    "start_time": "2021-09-03T19:39:55.187Z"
   },
   {
    "duration": 79466,
    "start_time": "2021-09-03T19:39:55.203Z"
   },
   {
    "duration": 7029,
    "start_time": "2021-09-03T19:41:07.643Z"
   },
   {
    "duration": 6921,
    "start_time": "2021-09-03T19:41:07.753Z"
   },
   {
    "duration": 6918,
    "start_time": "2021-09-03T19:41:07.757Z"
   },
   {
    "duration": 6915,
    "start_time": "2021-09-03T19:41:07.762Z"
   },
   {
    "duration": 6910,
    "start_time": "2021-09-03T19:41:07.768Z"
   },
   {
    "duration": 6909,
    "start_time": "2021-09-03T19:41:07.771Z"
   },
   {
    "duration": 2078,
    "start_time": "2021-09-03T19:48:51.234Z"
   },
   {
    "duration": 782,
    "start_time": "2021-09-03T19:48:53.315Z"
   },
   {
    "duration": 6,
    "start_time": "2021-09-03T19:48:54.100Z"
   },
   {
    "duration": 13,
    "start_time": "2021-09-03T19:48:54.109Z"
   },
   {
    "duration": 6,
    "start_time": "2021-09-03T19:48:54.125Z"
   },
   {
    "duration": 1439,
    "start_time": "2021-09-03T19:48:54.134Z"
   },
   {
    "duration": 4,
    "start_time": "2021-09-03T19:48:55.575Z"
   },
   {
    "duration": 4618,
    "start_time": "2021-09-03T19:48:55.582Z"
   },
   {
    "duration": 1274911,
    "start_time": "2021-09-03T19:49:00.202Z"
   },
   {
    "duration": 1883,
    "start_time": "2021-09-03T20:10:15.116Z"
   },
   {
    "duration": 32,
    "start_time": "2021-09-03T20:10:17.002Z"
   },
   {
    "duration": 37,
    "start_time": "2021-09-03T20:10:17.037Z"
   },
   {
    "duration": 18,
    "start_time": "2021-09-03T20:10:17.077Z"
   },
   {
    "duration": 16,
    "start_time": "2021-09-03T20:10:17.097Z"
   },
   {
    "duration": 150009,
    "start_time": "2021-09-03T20:10:17.115Z"
   },
   {
    "duration": 5,
    "start_time": "2021-09-03T20:12:47.127Z"
   },
   {
    "duration": 6,
    "start_time": "2021-09-03T20:12:47.154Z"
   },
   {
    "duration": 1513,
    "start_time": "2021-09-03T20:12:47.162Z"
   },
   {
    "duration": 18,
    "start_time": "2021-09-03T20:12:48.678Z"
   },
   {
    "duration": 5,
    "start_time": "2021-09-03T20:12:48.698Z"
   },
   {
    "duration": 7,
    "start_time": "2021-09-03T20:12:48.706Z"
   },
   {
    "duration": 305040,
    "start_time": "2021-09-03T20:12:48.715Z"
   },
   {
    "duration": 4,
    "start_time": "2021-09-03T20:17:53.760Z"
   },
   {
    "duration": 2508,
    "start_time": "2021-09-03T20:17:53.766Z"
   },
   {
    "duration": 21,
    "start_time": "2021-09-03T20:17:56.277Z"
   },
   {
    "duration": 7,
    "start_time": "2021-09-03T20:17:56.300Z"
   },
   {
    "duration": 58,
    "start_time": "2021-09-03T20:33:29.051Z"
   },
   {
    "duration": 5,
    "start_time": "2021-09-03T20:33:38.980Z"
   },
   {
    "duration": 823305,
    "start_time": "2021-09-03T20:33:51.198Z"
   },
   {
    "duration": 5,
    "start_time": "2021-09-03T20:47:34.506Z"
   },
   {
    "duration": 4130,
    "start_time": "2021-09-03T20:47:34.556Z"
   },
   {
    "duration": 18,
    "start_time": "2021-09-03T20:47:38.754Z"
   },
   {
    "duration": 10,
    "start_time": "2021-09-03T20:47:38.775Z"
   },
   {
    "duration": 6,
    "start_time": "2021-09-03T20:51:19.423Z"
   },
   {
    "duration": 5,
    "start_time": "2021-09-03T21:04:44.329Z"
   },
   {
    "duration": 5,
    "start_time": "2021-09-03T21:04:45.871Z"
   },
   {
    "duration": 559424,
    "start_time": "2021-09-03T21:05:12.282Z"
   },
   {
    "duration": 7,
    "start_time": "2021-09-03T21:14:31.709Z"
   },
   {
    "duration": 35,
    "start_time": "2021-09-03T21:14:31.720Z"
   },
   {
    "duration": 1792,
    "start_time": "2021-09-03T21:14:31.759Z"
   },
   {
    "duration": 18,
    "start_time": "2021-09-03T21:14:33.553Z"
   },
   {
    "duration": 17,
    "start_time": "2021-09-03T21:14:33.574Z"
   },
   {
    "duration": 10,
    "start_time": "2021-09-03T21:39:42.516Z"
   },
   {
    "duration": 4,
    "start_time": "2021-09-03T22:06:23.434Z"
   },
   {
    "duration": 4,
    "start_time": "2021-09-03T22:06:33.709Z"
   },
   {
    "duration": 3,
    "start_time": "2021-09-03T22:06:34.232Z"
   },
   {
    "duration": 5,
    "start_time": "2021-09-03T22:06:38.679Z"
   },
   {
    "duration": 10,
    "start_time": "2021-09-03T22:07:56.157Z"
   },
   {
    "duration": 5,
    "start_time": "2021-09-03T22:09:15.110Z"
   },
   {
    "duration": 3,
    "start_time": "2021-09-03T22:17:08.024Z"
   },
   {
    "duration": 3,
    "start_time": "2021-09-03T22:17:08.871Z"
   },
   {
    "duration": 5,
    "start_time": "2021-09-03T22:17:10.190Z"
   },
   {
    "duration": 9,
    "start_time": "2021-09-03T22:17:12.535Z"
   },
   {
    "duration": 1913,
    "start_time": "2021-09-03T23:20:08.700Z"
   },
   {
    "duration": 772,
    "start_time": "2021-09-03T23:20:10.616Z"
   },
   {
    "duration": 29,
    "start_time": "2021-09-03T23:20:11.391Z"
   },
   {
    "duration": 41,
    "start_time": "2021-09-03T23:20:11.422Z"
   },
   {
    "duration": 9,
    "start_time": "2021-09-03T23:20:11.466Z"
   },
   {
    "duration": 6,
    "start_time": "2021-09-03T23:20:11.478Z"
   },
   {
    "duration": 4,
    "start_time": "2021-09-03T23:20:11.486Z"
   },
   {
    "duration": 5,
    "start_time": "2021-09-03T23:20:11.494Z"
   },
   {
    "duration": 1464,
    "start_time": "2021-09-03T23:20:11.502Z"
   },
   {
    "duration": 4,
    "start_time": "2021-09-03T23:20:12.968Z"
   },
   {
    "duration": 4462,
    "start_time": "2021-09-03T23:20:12.974Z"
   },
   {
    "duration": 1271087,
    "start_time": "2021-09-03T23:20:17.438Z"
   },
   {
    "duration": 2385,
    "start_time": "2021-09-03T23:41:28.528Z"
   },
   {
    "duration": 50,
    "start_time": "2021-09-03T23:41:30.916Z"
   },
   {
    "duration": 37,
    "start_time": "2021-09-03T23:41:30.969Z"
   },
   {
    "duration": 21,
    "start_time": "2021-09-03T23:41:31.009Z"
   },
   {
    "duration": 554384,
    "start_time": "2021-09-03T23:41:31.032Z"
   },
   {
    "duration": 5,
    "start_time": "2021-09-03T23:50:45.418Z"
   },
   {
    "duration": 1513,
    "start_time": "2021-09-03T23:50:45.426Z"
   },
   {
    "duration": 13,
    "start_time": "2021-09-03T23:50:46.941Z"
   },
   {
    "duration": 786866,
    "start_time": "2021-09-03T23:50:46.957Z"
   },
   {
    "duration": 480,
    "start_time": "2021-09-04T00:03:53.825Z"
   },
   {
    "duration": 7537,
    "start_time": "2021-09-04T00:03:46.771Z"
   },
   {
    "duration": 4,
    "start_time": "2021-09-04T00:09:07.872Z"
   },
   {
    "duration": 4179,
    "start_time": "2021-09-04T00:09:11.585Z"
   }
  ],
  "kernelspec": {
   "display_name": "Python 3",
   "language": "python",
   "name": "python3"
  },
  "language_info": {
   "codemirror_mode": {
    "name": "ipython",
    "version": 3
   },
   "file_extension": ".py",
   "mimetype": "text/x-python",
   "name": "python",
   "nbconvert_exporter": "python",
   "pygments_lexer": "ipython3",
   "version": "3.7.8"
  },
  "toc": {
   "base_numbering": 1,
   "nav_menu": {},
   "number_sections": true,
   "sideBar": true,
   "skip_h1_title": true,
   "title_cell": "Содержание",
   "title_sidebar": "Содержание",
   "toc_cell": true,
   "toc_position": {
    "height": "calc(100% - 180px)",
    "left": "10px",
    "top": "150px",
    "width": "186.391px"
   },
   "toc_section_display": true,
   "toc_window_display": true
  }
 },
 "nbformat": 4,
 "nbformat_minor": 2
}
