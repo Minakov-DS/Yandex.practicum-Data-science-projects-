{
 "cells": [
  {
   "cell_type": "markdown",
   "metadata": {
    "toc": true
   },
   "source": [
    "<h1>Содержание<span class=\"tocSkip\"></span></h1>\n",
    "<div class=\"toc\"><ul class=\"toc-item\"><li><span><a href=\"#Изучение-и-первичная-обработка-исходных-данных\" data-toc-modified-id=\"Изучение-и-первичная-обработка-исходных-данных-1\"><span class=\"toc-item-num\">1&nbsp;&nbsp;</span>Изучение и первичная обработка исходных данных</a></span><ul class=\"toc-item\"><li><span><a href=\"#Выводы\" data-toc-modified-id=\"Выводы-1.1\"><span class=\"toc-item-num\">1.1&nbsp;&nbsp;</span>Выводы</a></span></li></ul></li><li><span><a href=\"#Анализ-исходных-данных\" data-toc-modified-id=\"Анализ-исходных-данных-2\"><span class=\"toc-item-num\">2&nbsp;&nbsp;</span>Анализ исходных данных</a></span><ul class=\"toc-item\"><li><span><a href=\"#Выводы\" data-toc-modified-id=\"Выводы-2.1\"><span class=\"toc-item-num\">2.1&nbsp;&nbsp;</span>Выводы</a></span></li></ul></li><li><span><a href=\"#Подготовка-данных-для-обучения\" data-toc-modified-id=\"Подготовка-данных-для-обучения-3\"><span class=\"toc-item-num\">3&nbsp;&nbsp;</span>Подготовка данных для обучения</a></span><ul class=\"toc-item\"><li><span><a href=\"#Создание-метрики-rmse\" data-toc-modified-id=\"Создание-метрики-rmse-3.1\"><span class=\"toc-item-num\">3.1&nbsp;&nbsp;</span>Создание метрики rmse</a></span></li><li><span><a href=\"#Создание-признаков-для-обучения\" data-toc-modified-id=\"Создание-признаков-для-обучения-3.2\"><span class=\"toc-item-num\">3.2&nbsp;&nbsp;</span>Создание признаков для обучения</a></span></li><li><span><a href=\"#Разбиение-датасета-на-обучающую-и-тестовую-выборки\" data-toc-modified-id=\"Разбиение-датасета-на-обучающую-и-тестовую-выборки-3.3\"><span class=\"toc-item-num\">3.3&nbsp;&nbsp;</span>Разбиение датасета на обучающую и тестовую выборки</a></span></li><li><span><a href=\"#Выводы\" data-toc-modified-id=\"Выводы-3.4\"><span class=\"toc-item-num\">3.4&nbsp;&nbsp;</span>Выводы</a></span></li></ul></li><li><span><a href=\"#Обучение-моделей\" data-toc-modified-id=\"Обучение-моделей-4\"><span class=\"toc-item-num\">4&nbsp;&nbsp;</span>Обучение моделей</a></span><ul class=\"toc-item\"><li><span><a href=\"#Модель-LinearRegression\" data-toc-modified-id=\"Модель-LinearRegression-4.1\"><span class=\"toc-item-num\">4.1&nbsp;&nbsp;</span>Модель LinearRegression</a></span></li><li><span><a href=\"#Модель-RandomForestRegressor\" data-toc-modified-id=\"Модель-RandomForestRegressor-4.2\"><span class=\"toc-item-num\">4.2&nbsp;&nbsp;</span>Модель RandomForestRegressor</a></span></li><li><span><a href=\"#Модель-LGBMRegressor\" data-toc-modified-id=\"Модель-LGBMRegressor-4.3\"><span class=\"toc-item-num\">4.3&nbsp;&nbsp;</span>Модель LGBMRegressor</a></span></li><li><span><a href=\"#Вывод\" data-toc-modified-id=\"Вывод-4.4\"><span class=\"toc-item-num\">4.4&nbsp;&nbsp;</span>Вывод</a></span></li></ul></li><li><span><a href=\"#Тестирование-моделей\" data-toc-modified-id=\"Тестирование-моделей-5\"><span class=\"toc-item-num\">5&nbsp;&nbsp;</span>Тестирование моделей</a></span><ul class=\"toc-item\"><li><span><a href=\"#Выводы\" data-toc-modified-id=\"Выводы-5.1\"><span class=\"toc-item-num\">5.1&nbsp;&nbsp;</span>Выводы</a></span></li></ul></li><li><span><a href=\"#Чек-лист-проверки\" data-toc-modified-id=\"Чек-лист-проверки-6\"><span class=\"toc-item-num\">6&nbsp;&nbsp;</span>Чек-лист проверки</a></span></li></ul></div>"
   ]
  },
  {
   "cell_type": "markdown",
   "metadata": {},
   "source": [
    "#  Прогнозирование заказов такси"
   ]
  },
  {
   "cell_type": "markdown",
   "metadata": {},
   "source": [
    "**Цель проекта:** построить модель для прогнозирования количества заказов такси на следующий час. Значение метрики *RMSE* модели на тестовой выборке должно быть не больше 48. Перед созданием модели необходимо выполнить анализ исходных данных.\n",
    "\n",
    "**Исходные данные:** исторические данные о заказах такси в аэропортах.\n",
    "\n",
    "Данные лежат в файле `taxi.csv`. Количество заказов находится в столбце `num_orders` (от англ. *number of orders*, «число заказов»)."
   ]
  },
  {
   "cell_type": "markdown",
   "metadata": {},
   "source": [
    "## Изучение и первичная обработка исходных данных"
   ]
  },
  {
   "cell_type": "markdown",
   "metadata": {},
   "source": [
    "Загружаем необходимые библиотеки."
   ]
  },
  {
   "cell_type": "code",
   "execution_count": 1,
   "metadata": {},
   "outputs": [],
   "source": [
    "import pandas as pd\n",
    "from statsmodels.tsa.seasonal import seasonal_decompose\n",
    "from matplotlib import pyplot as plt\n",
    "from sklearn.model_selection import train_test_split, cross_val_score, GridSearchCV, TimeSeriesSplit\n",
    "from sklearn.linear_model import LinearRegression\n",
    "from sklearn.metrics import mean_squared_error, make_scorer \n",
    "from sklearn.ensemble import RandomForestRegressor\n",
    "from lightgbm import LGBMRegressor"
   ]
  },
  {
   "cell_type": "markdown",
   "metadata": {},
   "source": [
    "Загружаем файл и выводим общую информацию об исходных данных."
   ]
  },
  {
   "cell_type": "code",
   "execution_count": 2,
   "metadata": {},
   "outputs": [
    {
     "name": "stdout",
     "output_type": "stream",
     "text": [
      "<class 'pandas.core.frame.DataFrame'>\n",
      "DatetimeIndex: 26496 entries, 2018-03-01 00:00:00 to 2018-08-31 23:50:00\n",
      "Data columns (total 1 columns):\n",
      "num_orders    26496 non-null int64\n",
      "dtypes: int64(1)\n",
      "memory usage: 414.0 KB\n"
     ]
    }
   ],
   "source": [
    "data = pd.read_csv(\"/datasets/taxi.csv\", index_col=[0], parse_dates=[0])\n",
    "data.sort_index(inplace=True)\n",
    "data.info()"
   ]
  },
  {
   "cell_type": "code",
   "execution_count": 3,
   "metadata": {},
   "outputs": [
    {
     "data": {
      "text/html": [
       "<div>\n",
       "<style scoped>\n",
       "    .dataframe tbody tr th:only-of-type {\n",
       "        vertical-align: middle;\n",
       "    }\n",
       "\n",
       "    .dataframe tbody tr th {\n",
       "        vertical-align: top;\n",
       "    }\n",
       "\n",
       "    .dataframe thead th {\n",
       "        text-align: right;\n",
       "    }\n",
       "</style>\n",
       "<table border=\"1\" class=\"dataframe\">\n",
       "  <thead>\n",
       "    <tr style=\"text-align: right;\">\n",
       "      <th></th>\n",
       "      <th>num_orders</th>\n",
       "    </tr>\n",
       "    <tr>\n",
       "      <th>datetime</th>\n",
       "      <th></th>\n",
       "    </tr>\n",
       "  </thead>\n",
       "  <tbody>\n",
       "    <tr>\n",
       "      <td>2018-03-01 00:00:00</td>\n",
       "      <td>9</td>\n",
       "    </tr>\n",
       "    <tr>\n",
       "      <td>2018-03-01 00:10:00</td>\n",
       "      <td>14</td>\n",
       "    </tr>\n",
       "    <tr>\n",
       "      <td>2018-03-01 00:20:00</td>\n",
       "      <td>28</td>\n",
       "    </tr>\n",
       "    <tr>\n",
       "      <td>2018-03-01 00:30:00</td>\n",
       "      <td>20</td>\n",
       "    </tr>\n",
       "    <tr>\n",
       "      <td>2018-03-01 00:40:00</td>\n",
       "      <td>32</td>\n",
       "    </tr>\n",
       "  </tbody>\n",
       "</table>\n",
       "</div>"
      ],
      "text/plain": [
       "                     num_orders\n",
       "datetime                       \n",
       "2018-03-01 00:00:00           9\n",
       "2018-03-01 00:10:00          14\n",
       "2018-03-01 00:20:00          28\n",
       "2018-03-01 00:30:00          20\n",
       "2018-03-01 00:40:00          32"
      ]
     },
     "execution_count": 3,
     "metadata": {},
     "output_type": "execute_result"
    }
   ],
   "source": [
    "data.head()"
   ]
  },
  {
   "cell_type": "code",
   "execution_count": 4,
   "metadata": {},
   "outputs": [
    {
     "data": {
      "text/html": [
       "<div>\n",
       "<style scoped>\n",
       "    .dataframe tbody tr th:only-of-type {\n",
       "        vertical-align: middle;\n",
       "    }\n",
       "\n",
       "    .dataframe tbody tr th {\n",
       "        vertical-align: top;\n",
       "    }\n",
       "\n",
       "    .dataframe thead th {\n",
       "        text-align: right;\n",
       "    }\n",
       "</style>\n",
       "<table border=\"1\" class=\"dataframe\">\n",
       "  <thead>\n",
       "    <tr style=\"text-align: right;\">\n",
       "      <th></th>\n",
       "      <th>num_orders</th>\n",
       "    </tr>\n",
       "  </thead>\n",
       "  <tbody>\n",
       "    <tr>\n",
       "      <td>count</td>\n",
       "      <td>26496.000000</td>\n",
       "    </tr>\n",
       "    <tr>\n",
       "      <td>mean</td>\n",
       "      <td>14.070463</td>\n",
       "    </tr>\n",
       "    <tr>\n",
       "      <td>std</td>\n",
       "      <td>9.211330</td>\n",
       "    </tr>\n",
       "    <tr>\n",
       "      <td>min</td>\n",
       "      <td>0.000000</td>\n",
       "    </tr>\n",
       "    <tr>\n",
       "      <td>25%</td>\n",
       "      <td>8.000000</td>\n",
       "    </tr>\n",
       "    <tr>\n",
       "      <td>50%</td>\n",
       "      <td>13.000000</td>\n",
       "    </tr>\n",
       "    <tr>\n",
       "      <td>75%</td>\n",
       "      <td>19.000000</td>\n",
       "    </tr>\n",
       "    <tr>\n",
       "      <td>max</td>\n",
       "      <td>119.000000</td>\n",
       "    </tr>\n",
       "  </tbody>\n",
       "</table>\n",
       "</div>"
      ],
      "text/plain": [
       "         num_orders\n",
       "count  26496.000000\n",
       "mean      14.070463\n",
       "std        9.211330\n",
       "min        0.000000\n",
       "25%        8.000000\n",
       "50%       13.000000\n",
       "75%       19.000000\n",
       "max      119.000000"
      ]
     },
     "execution_count": 4,
     "metadata": {},
     "output_type": "execute_result"
    }
   ],
   "source": [
    "data.describe()"
   ]
  },
  {
   "cell_type": "markdown",
   "metadata": {},
   "source": [
    "Пропуски отсутствуют, какие либо аномалии в исходных данных не обнаружены.Проверм дополнительно данные на дубликаты."
   ]
  },
  {
   "cell_type": "code",
   "execution_count": 5,
   "metadata": {},
   "outputs": [
    {
     "data": {
      "text/plain": [
       "26415"
      ]
     },
     "execution_count": 5,
     "metadata": {},
     "output_type": "execute_result"
    }
   ],
   "source": [
    "data.duplicated().sum()"
   ]
  },
  {
   "cell_type": "markdown",
   "metadata": {},
   "source": [
    "Дубликатов не выявлено."
   ]
  },
  {
   "cell_type": "markdown",
   "metadata": {},
   "source": [
    "В исходном датасете количество заказов дано для промежутков времени равных 10 минутам. С учетом того что, согласно заданию, требуется спрогнозировать количество заказов такси за следующий час, выполним ресемплирование исходных данных с интервалом равным одному часу."
   ]
  },
  {
   "cell_type": "code",
   "execution_count": 6,
   "metadata": {},
   "outputs": [],
   "source": [
    "data = data.resample(\"1H\").sum()"
   ]
  },
  {
   "cell_type": "markdown",
   "metadata": {},
   "source": [
    "Подготовку данных для обучения выполним после анализа исходных данных, так как его результаты могут повлиять на то каким образом подготавливать данные."
   ]
  },
  {
   "cell_type": "markdown",
   "metadata": {},
   "source": [
    "### Выводы"
   ]
  },
  {
   "cell_type": "markdown",
   "metadata": {},
   "source": [
    "1. Файл с исходными данными (26496х1) загружен и преобразован в датафрейм. При этом данные о времени переведены в индекс датафрейма.\n",
    "2. Пропусков и других аномалий в исходных данных не выявлено.\n",
    "3. Выполнено ресемплирование исходных данных с временным интервалом равным одному часу."
   ]
  },
  {
   "cell_type": "markdown",
   "metadata": {},
   "source": [
    "## Анализ исходных данных"
   ]
  },
  {
   "cell_type": "markdown",
   "metadata": {},
   "source": [
    "Выведим график изменения количества заказов с течением времени."
   ]
  },
  {
   "cell_type": "code",
   "execution_count": 7,
   "metadata": {},
   "outputs": [
    {
     "data": {
      "image/png": "[encoded data removed]",
      "text/plain": [
       "<Figure size 1008x432 with 1 Axes>"
      ]
     },
     "metadata": {
      "needs_background": "light"
     },
     "output_type": "display_data"
    }
   ],
   "source": [
    "data.plot(figsize=(14, 6))\n",
    "plt.show()"
   ]
  },
  {
   "cell_type": "markdown",
   "metadata": {},
   "source": [
    "Ввиду небольшого интервала времени (1 час) график тяжело читается. Выполним ресемплирование с различными интервалами времени: день, неделя, месяц."
   ]
  },
  {
   "cell_type": "code",
   "execution_count": 8,
   "metadata": {},
   "outputs": [
    {
     "data": {
      "image/png": "[encoded data removed]",
      "text/plain": [
       "<Figure size 1008x720 with 3 Axes>"
      ]
     },
     "metadata": {
      "needs_background": "light"
     },
     "output_type": "display_data"
    }
   ],
   "source": [
    "fig, axes = plt.subplots(3, figsize=(14, 10))\n",
    "fig.suptitle(\"Ресемплирование с различными интервалами времени (день, неделя, месяц)\", fontsize=18, fontweight=\"bold\")\n",
    "data.resample(\"1D\").sum()[\"num_orders\"].plot(ax=axes[0], label=\"Количество заказов за один день\")\n",
    "data.resample(\"1W\").sum()[\"num_orders\"].plot(ax=axes[1], label=\"Количество заказов за одну неделю\")\n",
    "data.resample(\"1M\").sum()[\"num_orders\"].plot(ax=axes[2], label=\"Количество заказов за один месяц\")\n",
    "for ax in axes.flat:\n",
    "    ax.legend(fontsize=14, facecolor=\"yellow\")\n",
    "    ax.set_xlabel(\"Дата\", fontsize=14)\n",
    "plt.tight_layout()\n",
    "plt.subplots_adjust(top=0.95)\n",
    "plt.show()"
   ]
  },
  {
   "cell_type": "markdown",
   "metadata": {},
   "source": [
    "При боле крупных временных интервалах график гораздо более плавный, на нем хорошо прослеживается растущий тренд. Для более детального анализа временного ряда воспользуемся методом seasonal_decompose, позволяющим разложить данный ряд на три составляющие: тренд, сезонность и остатки."
   ]
  },
  {
   "cell_type": "code",
   "execution_count": 9,
   "metadata": {
    "scrolled": true
   },
   "outputs": [],
   "source": [
    "decomposed = seasonal_decompose(data)"
   ]
  },
  {
   "cell_type": "markdown",
   "metadata": {},
   "source": [
    "Построим графики для временнного ряда, разложенного на составляющие."
   ]
  },
  {
   "cell_type": "code",
   "execution_count": 10,
   "metadata": {},
   "outputs": [
    {
     "data": {
      "image/png": "[encoded data removed]",
      "text/plain": [
       "<Figure size 1008x1008 with 3 Axes>"
      ]
     },
     "metadata": {
      "needs_background": "light"
     },
     "output_type": "display_data"
    }
   ],
   "source": [
    "fig, axes = plt.subplots(3, figsize=(14, 14))\n",
    "fig.suptitle(\"Разложение временного ряда на составляющие\", fontsize=18, fontweight=\"bold\")\n",
    "decomposed.trend[\"num_orders\"].plot(ax=axes[0], label=\"Количество заказов\")\n",
    "decomposed.seasonal[\"num_orders\"].plot(ax=axes[1], label=\"Количество заказов\")\n",
    "decomposed.resid[\"num_orders\"].plot(ax=axes[2], label=\"Количество заказов\")\n",
    "for ax, ax_title in zip(axes.flat, [\"Тренд\", \"Сезонность\", \"Остатки\"]):\n",
    "    ax.set_title(ax_title, fontsize=14, fontweight=\"bold\")\n",
    "    ax.legend(fontsize=14, facecolor=\"yellow\")\n",
    "    ax.set_xlabel(\"Дата\", fontsize=14)\n",
    "plt.tight_layout()\n",
    "plt.subplots_adjust(top=0.94)\n",
    "plt.show()"
   ]
  },
  {
   "cell_type": "markdown",
   "metadata": {},
   "source": [
    "На полученном графике отчетливо виден растущий тренд. Таким образом, количество заказов такси со временем растет. Сезонность (цикличность) на графике видна существенно хуже. Это связано с маленьким периодом цикла. Построим график сезонности на двух небольших таймфремах равных соответственно одной недели и двум дням."
   ]
  },
  {
   "cell_type": "code",
   "execution_count": 11,
   "metadata": {},
   "outputs": [
    {
     "data": {
      "image/png": "[encoded data removed]",
      "text/plain": [
       "<Figure size 1008x288 with 1 Axes>"
      ]
     },
     "metadata": {
      "needs_background": "light"
     },
     "output_type": "display_data"
    }
   ],
   "source": [
    "decomposed.seasonal[\"num_orders\"][\"2018-05-01\":\"2018-05-07\"].plot(label=\"Количество заказов\", figsize=(14, 4))\n",
    "plt.show()"
   ]
  },
  {
   "cell_type": "code",
   "execution_count": 12,
   "metadata": {},
   "outputs": [
    {
     "data": {
      "image/png": "[encoded data removed]",
      "text/plain": [
       "<Figure size 1008x288 with 1 Axes>"
      ]
     },
     "metadata": {
      "needs_background": "light"
     },
     "output_type": "display_data"
    }
   ],
   "source": [
    "decomposed.seasonal[\"num_orders\"][\"2018-05-01\":\"2018-05-02\"].plot(label=\"Количество заказов\", figsize=(14, 4))\n",
    "plt.show()"
   ]
  },
  {
   "cell_type": "markdown",
   "metadata": {},
   "source": [
    "На полученных графиках хорошо видно, что период цикла составляет одни сутки. Максимальное количество заказов такси в аэропорт наблюдается около 24-00, что можно связать с резким уменьшением трафика общественного транспорта в это время. Минимум отстоит от максимума на небольшом расстоянии, равном всего нескольким часам, и соответствует приблизительно 6-00. Это может быть связано как с быстрым восстановлением трафика общественного транспорта, так и с падением трафика самолетов в данное время."
   ]
  },
  {
   "cell_type": "markdown",
   "metadata": {},
   "source": [
    "Проанализируем исходные данные при помощи скользящих средних с интервалами равными 10 и 50 часам, кроме того выведим на график информацию о стандартном отклонении (для скользящей средней с интервалом в 50 часов). При этом, чтобы не изменять в ходе выполнения анализа исходный датафрейм, создадим его копию под названием data_analys."
   ]
  },
  {
   "cell_type": "code",
   "execution_count": 13,
   "metadata": {},
   "outputs": [
    {
     "data": {
      "image/png": "[encoded data removed]",
      "text/plain": [
       "<Figure size 1008x432 with 1 Axes>"
      ]
     },
     "metadata": {
      "needs_background": "light"
     },
     "output_type": "display_data"
    }
   ],
   "source": [
    "data_analys = data.copy()\n",
    "data_analys[\"rolling_mean_10\"] = data_analys[\"num_orders\"].rolling(10).mean()\n",
    "data_analys[\"rolling_mean_50\"] = data_analys[\"num_orders\"].rolling(50).mean()\n",
    "data_analys[\"std_for_rolling_mean_50\"] = data_analys[\"num_orders\"].rolling(50).std()\n",
    "data_analys.plot(figsize=(14, 6))\n",
    "plt.show()"
   ]
  },
  {
   "cell_type": "markdown",
   "metadata": {},
   "source": [
    "Полученный график плохо читается, построим его для более узкого таймфрема длиной в 15 дней."
   ]
  },
  {
   "cell_type": "code",
   "execution_count": 14,
   "metadata": {},
   "outputs": [
    {
     "data": {
      "image/png": "[encoded data removed]",
      "text/plain": [
       "<Figure size 1008x432 with 1 Axes>"
      ]
     },
     "metadata": {
      "needs_background": "light"
     },
     "output_type": "display_data"
    }
   ],
   "source": [
    "data_analys[\"2018-05-01\":\"2018-05-15\"].plot(figsize=(14, 6))\n",
    "plt.show()"
   ]
  },
  {
   "cell_type": "markdown",
   "metadata": {},
   "source": [
    "Как видно из полученного графика, скользящая уже при интервале времени равном 10 часам дает приемлимые результаты, существенно сглаживая график. Учтем это при создании признаков для обучения."
   ]
  },
  {
   "cell_type": "markdown",
   "metadata": {},
   "source": [
    "Выполним анализ также при помощи разностей временного ряда. "
   ]
  },
  {
   "cell_type": "code",
   "execution_count": 15,
   "metadata": {
    "scrolled": false
   },
   "outputs": [
    {
     "data": {
      "image/png": "[encoded data removed]",
      "text/plain": [
       "<Figure size 1008x432 with 1 Axes>"
      ]
     },
     "metadata": {
      "needs_background": "light"
     },
     "output_type": "display_data"
    }
   ],
   "source": [
    "data_analys[\"time_series_differencies\"] = data_analys[\"num_orders\"] - data_analys[\"num_orders\"].shift()\n",
    "data_analys[\"time_series_differencies\"].plot(figsize=(14, 6))\n",
    "plt.show()"
   ]
  },
  {
   "cell_type": "markdown",
   "metadata": {},
   "source": [
    "Размах графика уменьшился (по сравнению с графиком data.plot()), но не очень существенно, что свидетельствует о резких изменениях количества заказов в течение часа."
   ]
  },
  {
   "cell_type": "markdown",
   "metadata": {},
   "source": [
    "### Выводы"
   ]
  },
  {
   "cell_type": "markdown",
   "metadata": {},
   "source": [
    "1. Выполнен анализ исходных данных при помощи: ресемплирования с различными интервалами (1 час, 1 день, 1 сутки, 1 месяц), рассмотрения небольших таймфреймов времени, разложения временного ряда на составляющие (тренд, сезонность и остатки), скользящих средних и разностей временного ряда.\n",
    "2. Согласно результатам анализа, четко прослеживается растущий тренд количества заказов.\n",
    "3. Цикличность изменения количества заказов составляет одни сутки. Локальный максимум заказов соответствует приблизительно 24-00 часам, минимум - 6-00 часам.\n",
    "4. При детальном рассмотрении на небольшом таймфреме размером в 15 дней, уже при интервале равном 10 часам скользящая средняя дает приемлимые результаты, существенно сглаживая график. Учтем это при создании признаков для обучения."
   ]
  },
  {
   "cell_type": "markdown",
   "metadata": {},
   "source": [
    "## Подготовка данных для обучения"
   ]
  },
  {
   "cell_type": "markdown",
   "metadata": {},
   "source": [
    "### Создание метрики rmse"
   ]
  },
  {
   "cell_type": "markdown",
   "metadata": {},
   "source": [
    "В библиотеки sklearn отсутствует готовая метрика качества модели rmse (root mean squared error). С учетом этого создадим данную метрику при помощи инструмента \"make_scorer\"."
   ]
  },
  {
   "cell_type": "code",
   "execution_count": 16,
   "metadata": {},
   "outputs": [],
   "source": [
    "def rmse(y_true, y_pred):\n",
    "    return mean_squared_error(y_true, y_pred) ** 0.5"
   ]
  },
  {
   "cell_type": "code",
   "execution_count": 17,
   "metadata": {},
   "outputs": [],
   "source": [
    "rmse_score = make_scorer(rmse, greater_is_better = False)"
   ]
  },
  {
   "cell_type": "markdown",
   "metadata": {},
   "source": [
    "### Создание признаков для обучения"
   ]
  },
  {
   "cell_type": "markdown",
   "metadata": {},
   "source": [
    "Создадим следующие признаки для обучения: календарные признаки, отстающие значения и скользящее среднее. Для автоматизации данного процесса напишем программу make_features."
   ]
  },
  {
   "cell_type": "code",
   "execution_count": 18,
   "metadata": {},
   "outputs": [],
   "source": [
    "def make_features(data, max_lag, rolling_mean_size):\n",
    "    data[\"month\"] = data.index.month\n",
    "    data[\"week\"] = data.index.week\n",
    "    data[\"dayofweek\"] = data.index.dayofweek\n",
    "    data[\"hour\"] = data.index.hour\n",
    "    \n",
    "    for lag in range(1, max_lag + 1):\n",
    "        data[\"lag_{}\".format(lag)] = data[\"num_orders\"].shift(lag)\n",
    "    \n",
    "    data[\"rolling_mean_{}\".format(rolling_mean_size)] = data[\"num_orders\"].shift().rolling(rolling_mean_size).mean()"
   ]
  },
  {
   "cell_type": "markdown",
   "metadata": {},
   "source": [
    "Запустим программу make_features для создания признаков и выведем первые пять строк измененного датафрейма."
   ]
  },
  {
   "cell_type": "code",
   "execution_count": 19,
   "metadata": {
    "scrolled": true
   },
   "outputs": [
    {
     "data": {
      "text/html": [
       "<div>\n",
       "<style scoped>\n",
       "    .dataframe tbody tr th:only-of-type {\n",
       "        vertical-align: middle;\n",
       "    }\n",
       "\n",
       "    .dataframe tbody tr th {\n",
       "        vertical-align: top;\n",
       "    }\n",
       "\n",
       "    .dataframe thead th {\n",
       "        text-align: right;\n",
       "    }\n",
       "</style>\n",
       "<table border=\"1\" class=\"dataframe\">\n",
       "  <thead>\n",
       "    <tr style=\"text-align: right;\">\n",
       "      <th></th>\n",
       "      <th>num_orders</th>\n",
       "      <th>month</th>\n",
       "      <th>week</th>\n",
       "      <th>dayofweek</th>\n",
       "      <th>hour</th>\n",
       "      <th>lag_1</th>\n",
       "      <th>lag_2</th>\n",
       "      <th>lag_3</th>\n",
       "      <th>lag_4</th>\n",
       "      <th>lag_5</th>\n",
       "      <th>lag_6</th>\n",
       "      <th>rolling_mean_10</th>\n",
       "    </tr>\n",
       "    <tr>\n",
       "      <th>datetime</th>\n",
       "      <th></th>\n",
       "      <th></th>\n",
       "      <th></th>\n",
       "      <th></th>\n",
       "      <th></th>\n",
       "      <th></th>\n",
       "      <th></th>\n",
       "      <th></th>\n",
       "      <th></th>\n",
       "      <th></th>\n",
       "      <th></th>\n",
       "      <th></th>\n",
       "    </tr>\n",
       "  </thead>\n",
       "  <tbody>\n",
       "    <tr>\n",
       "      <td>2018-03-01 00:00:00</td>\n",
       "      <td>124</td>\n",
       "      <td>3</td>\n",
       "      <td>9</td>\n",
       "      <td>3</td>\n",
       "      <td>0</td>\n",
       "      <td>NaN</td>\n",
       "      <td>NaN</td>\n",
       "      <td>NaN</td>\n",
       "      <td>NaN</td>\n",
       "      <td>NaN</td>\n",
       "      <td>NaN</td>\n",
       "      <td>NaN</td>\n",
       "    </tr>\n",
       "    <tr>\n",
       "      <td>2018-03-01 01:00:00</td>\n",
       "      <td>85</td>\n",
       "      <td>3</td>\n",
       "      <td>9</td>\n",
       "      <td>3</td>\n",
       "      <td>1</td>\n",
       "      <td>124.0</td>\n",
       "      <td>NaN</td>\n",
       "      <td>NaN</td>\n",
       "      <td>NaN</td>\n",
       "      <td>NaN</td>\n",
       "      <td>NaN</td>\n",
       "      <td>NaN</td>\n",
       "    </tr>\n",
       "    <tr>\n",
       "      <td>2018-03-01 02:00:00</td>\n",
       "      <td>71</td>\n",
       "      <td>3</td>\n",
       "      <td>9</td>\n",
       "      <td>3</td>\n",
       "      <td>2</td>\n",
       "      <td>85.0</td>\n",
       "      <td>124.0</td>\n",
       "      <td>NaN</td>\n",
       "      <td>NaN</td>\n",
       "      <td>NaN</td>\n",
       "      <td>NaN</td>\n",
       "      <td>NaN</td>\n",
       "    </tr>\n",
       "    <tr>\n",
       "      <td>2018-03-01 03:00:00</td>\n",
       "      <td>66</td>\n",
       "      <td>3</td>\n",
       "      <td>9</td>\n",
       "      <td>3</td>\n",
       "      <td>3</td>\n",
       "      <td>71.0</td>\n",
       "      <td>85.0</td>\n",
       "      <td>124.0</td>\n",
       "      <td>NaN</td>\n",
       "      <td>NaN</td>\n",
       "      <td>NaN</td>\n",
       "      <td>NaN</td>\n",
       "    </tr>\n",
       "    <tr>\n",
       "      <td>2018-03-01 04:00:00</td>\n",
       "      <td>43</td>\n",
       "      <td>3</td>\n",
       "      <td>9</td>\n",
       "      <td>3</td>\n",
       "      <td>4</td>\n",
       "      <td>66.0</td>\n",
       "      <td>71.0</td>\n",
       "      <td>85.0</td>\n",
       "      <td>124.0</td>\n",
       "      <td>NaN</td>\n",
       "      <td>NaN</td>\n",
       "      <td>NaN</td>\n",
       "    </tr>\n",
       "  </tbody>\n",
       "</table>\n",
       "</div>"
      ],
      "text/plain": [
       "                     num_orders  month  week  dayofweek  hour  lag_1  lag_2  \\\n",
       "datetime                                                                      \n",
       "2018-03-01 00:00:00         124      3     9          3     0    NaN    NaN   \n",
       "2018-03-01 01:00:00          85      3     9          3     1  124.0    NaN   \n",
       "2018-03-01 02:00:00          71      3     9          3     2   85.0  124.0   \n",
       "2018-03-01 03:00:00          66      3     9          3     3   71.0   85.0   \n",
       "2018-03-01 04:00:00          43      3     9          3     4   66.0   71.0   \n",
       "\n",
       "                     lag_3  lag_4  lag_5  lag_6  rolling_mean_10  \n",
       "datetime                                                          \n",
       "2018-03-01 00:00:00    NaN    NaN    NaN    NaN              NaN  \n",
       "2018-03-01 01:00:00    NaN    NaN    NaN    NaN              NaN  \n",
       "2018-03-01 02:00:00    NaN    NaN    NaN    NaN              NaN  \n",
       "2018-03-01 03:00:00  124.0    NaN    NaN    NaN              NaN  \n",
       "2018-03-01 04:00:00   85.0  124.0    NaN    NaN              NaN  "
      ]
     },
     "execution_count": 19,
     "metadata": {},
     "output_type": "execute_result"
    }
   ],
   "source": [
    "make_features(data, 6, 10)\n",
    "data.head()"
   ]
  },
  {
   "cell_type": "markdown",
   "metadata": {},
   "source": [
    "Как видно из таблицы, в измененном датафрейме присутствуют пропуски."
   ]
  },
  {
   "cell_type": "markdown",
   "metadata": {},
   "source": [
    "### Разбиение датасета на обучающую и тестовую выборки"
   ]
  },
  {
   "cell_type": "markdown",
   "metadata": {},
   "source": [
    "Выполним разбиение датасета на обучающую и тестовую выборки."
   ]
  },
  {
   "cell_type": "code",
   "execution_count": 20,
   "metadata": {},
   "outputs": [],
   "source": [
    "train, test = train_test_split(data, test_size=0.1, shuffle=False, random_state=56789)"
   ]
  },
  {
   "cell_type": "markdown",
   "metadata": {},
   "source": [
    "Удалим из обучающей выборки строки с пропусками. "
   ]
  },
  {
   "cell_type": "code",
   "execution_count": 21,
   "metadata": {},
   "outputs": [],
   "source": [
    "train = train.dropna()"
   ]
  },
  {
   "cell_type": "code",
   "execution_count": 22,
   "metadata": {},
   "outputs": [
    {
     "name": "stdout",
     "output_type": "stream",
     "text": [
      "Количество объектов в целом датасете: 4416\n",
      "Количество объектов в обучающей выборке: 3964\n",
      "Количество объектов в тестовой выборке: 442\n"
     ]
    }
   ],
   "source": [
    "x_train = train.drop(\"num_orders\", axis=1)\n",
    "y_train = train[\"num_orders\"]\n",
    "x_test = test.drop(\"num_orders\", axis=1)\n",
    "y_test = test[\"num_orders\"]\n",
    "print(\"Количество объектов в целом датасете:\", data.shape[0])\n",
    "print(\"Количество объектов в обучающей выборке:\", x_train.shape[0])\n",
    "print(\"Количество объектов в тестовой выборке:\", x_test.shape[0])"
   ]
  },
  {
   "cell_type": "markdown",
   "metadata": {},
   "source": [
    "### Выводы"
   ]
  },
  {
   "cell_type": "markdown",
   "metadata": {},
   "source": [
    "1. Создана метрика качества rmse (root mean squared error).\n",
    "2. Написана программа make_features. При помощи данной программы созданы признаки для обучения (календарные признаки, отстающие значения и скользящее среднее).\n",
    "3. Датасет разбит на обучающую и тестовую выборки."
   ]
  },
  {
   "cell_type": "markdown",
   "metadata": {},
   "source": [
    "## Обучение моделей"
   ]
  },
  {
   "cell_type": "markdown",
   "metadata": {},
   "source": [
    "### Модель LinearRegression"
   ]
  },
  {
   "cell_type": "markdown",
   "metadata": {},
   "source": [
    "Выполним обучение модели LinearRegression и оценим ее качество при помощи метрики rmse и кросс-валидации."
   ]
  },
  {
   "cell_type": "code",
   "execution_count": 23,
   "metadata": {},
   "outputs": [
    {
     "name": "stdout",
     "output_type": "stream",
     "text": [
      "31.564861042398643\n"
     ]
    }
   ],
   "source": [
    "cv = TimeSeriesSplit(n_splits=5)\n",
    "scores = cross_val_score(LinearRegression(), x_train, y_train, cv=cv, scoring=rmse_score)\n",
    "print(scores.mean()*(-1))"
   ]
  },
  {
   "cell_type": "markdown",
   "metadata": {},
   "source": [
    "### Модель RandomForestRegressor"
   ]
  },
  {
   "cell_type": "markdown",
   "metadata": {},
   "source": [
    "Создадим список гиперпараметров, которые проверим при обучении модели."
   ]
  },
  {
   "cell_type": "code",
   "execution_count": 24,
   "metadata": {},
   "outputs": [],
   "source": [
    "param_grid = {\n",
    "   \"n_estimators\": [20, 60],\n",
    "    \"max_depth\": [4, 8]\n",
    "}"
   ]
  },
  {
   "cell_type": "markdown",
   "metadata": {},
   "source": [
    "Найдем оптимальные гиперпараметры модели при помощи метрики rmse и GridSearchCV."
   ]
  },
  {
   "cell_type": "code",
   "execution_count": 25,
   "metadata": {},
   "outputs": [
    {
     "data": {
      "text/plain": [
       "{'max_depth': 8, 'n_estimators': 60}"
      ]
     },
     "execution_count": 25,
     "metadata": {},
     "output_type": "execute_result"
    }
   ],
   "source": [
    "random_forest_model = RandomForestRegressor(random_state=56789)\n",
    "search_random_forest = GridSearchCV(estimator=random_forest_model, param_grid=param_grid, cv=cv, scoring=rmse_score)\n",
    "search_random_forest.fit(x_train, y_train)\n",
    "search_random_forest.best_params_"
   ]
  },
  {
   "cell_type": "markdown",
   "metadata": {},
   "source": [
    "Гиперпараметры лучшей модели: max_depth=8 и n_estimators=60. Выведим метрику rmse при использовании лучших гиперпараметров."
   ]
  },
  {
   "cell_type": "code",
   "execution_count": 26,
   "metadata": {},
   "outputs": [
    {
     "data": {
      "text/plain": [
       "25.67247314272613"
      ]
     },
     "execution_count": 26,
     "metadata": {},
     "output_type": "execute_result"
    }
   ],
   "source": [
    "search_random_forest.best_score_ * (-1)"
   ]
  },
  {
   "cell_type": "markdown",
   "metadata": {},
   "source": [
    "### Модель LGBMRegressor"
   ]
  },
  {
   "cell_type": "markdown",
   "metadata": {},
   "source": [
    "Создадим список гиперпараметров, которые проверим при обучении модели."
   ]
  },
  {
   "cell_type": "code",
   "execution_count": 27,
   "metadata": {},
   "outputs": [],
   "source": [
    "param_grid = {\n",
    "   \"n_estimators\": [20, 60],\n",
    "    \"learning_rate\": [0.5, 0.1]\n",
    "}"
   ]
  },
  {
   "cell_type": "markdown",
   "metadata": {},
   "source": [
    "Найдем оптимальные гиперпараметры модели при помощи метрики rmse и GridSearchCV."
   ]
  },
  {
   "cell_type": "code",
   "execution_count": 28,
   "metadata": {},
   "outputs": [
    {
     "data": {
      "text/plain": [
       "{'learning_rate': 0.1, 'n_estimators': 60}"
      ]
     },
     "execution_count": 28,
     "metadata": {},
     "output_type": "execute_result"
    }
   ],
   "source": [
    "LGBM_model = LGBMRegressor(seed=56789)\n",
    "search_LGBM = GridSearchCV(estimator=LGBM_model, param_grid=param_grid, cv=cv, scoring=rmse_score)\n",
    "search_LGBM.fit(x_train, y_train)\n",
    "search_LGBM.best_params_"
   ]
  },
  {
   "cell_type": "markdown",
   "metadata": {},
   "source": [
    "Гиперпараметры лучшей модели: learning_rate=0.1 и n_estimators=60. Выведим метрику rmse при использовании лучших гиперпараметров."
   ]
  },
  {
   "cell_type": "code",
   "execution_count": 29,
   "metadata": {
    "scrolled": true
   },
   "outputs": [
    {
     "data": {
      "text/plain": [
       "24.606815641809714"
      ]
     },
     "execution_count": 29,
     "metadata": {},
     "output_type": "execute_result"
    }
   ],
   "source": [
    "search_LGBM.best_score_*(-1)"
   ]
  },
  {
   "cell_type": "markdown",
   "metadata": {},
   "source": [
    "### Вывод"
   ]
  },
  {
   "cell_type": "markdown",
   "metadata": {},
   "source": [
    "Выполнено обучение трех моделей: LinearRegression, RandomForestRegressor и LGBMRegressor. Для последних двух моделей выполнен подбор оптимальных гиперпараметров с использованием метрики RMSE и метода кросс-валидации."
   ]
  },
  {
   "cell_type": "markdown",
   "metadata": {},
   "source": [
    "## Тестирование моделей"
   ]
  },
  {
   "cell_type": "markdown",
   "metadata": {},
   "source": [
    "Для автоматизации процесса тестирования моделей воспользуемся циклом. Для этого предварительно создадим список с именами моделей с лучшими гиперпараметрами (для модели LinearRegression гиперпараметры не подбирались) и список с условными названиями моделей."
   ]
  },
  {
   "cell_type": "code",
   "execution_count": 30,
   "metadata": {},
   "outputs": [
    {
     "name": "stdout",
     "output_type": "stream",
     "text": [
      "LinearRegression\n",
      "RMSE модели: 53.13502610098212\n",
      "\n",
      "RandomForestRegressor\n",
      "RMSE модели: 47.5447622430139\n",
      "\n",
      "LGBMRegressor\n",
      "RMSE модели: 45.57922608006136\n",
      "\n"
     ]
    }
   ],
   "source": [
    "models_list = [LinearRegression(), search_random_forest.best_estimator_, search_LGBM.best_estimator_]\n",
    "model_names = [\"LinearRegression\", \"RandomForestRegressor\", \"LGBMRegressor\"]\n",
    "for model, model_name in zip(models_list, model_names):\n",
    "    model.fit(x_train, y_train)\n",
    "    predictions = model.predict(x_test)\n",
    "    score = rmse(y_test, predictions)\n",
    "    print(model_name)\n",
    "    print(\"RMSE модели:\", score)\n",
    "    print()"
   ]
  },
  {
   "cell_type": "markdown",
   "metadata": {},
   "source": [
    "Как видно из полученных результатов, лучшее качество показала модель LGBMRegressor. Заданный порог (RMSE меньше 48) преодолели две модели: LGBMRegressor и RandomForestRegressor."
   ]
  },
  {
   "cell_type": "markdown",
   "metadata": {},
   "source": [
    "Для проверки адекватности моделей дополнительно подсчитаем RMSE для медианной модели."
   ]
  },
  {
   "cell_type": "code",
   "execution_count": 31,
   "metadata": {},
   "outputs": [
    {
     "data": {
      "text/plain": [
       "87.15277582981295"
      ]
     },
     "execution_count": 31,
     "metadata": {},
     "output_type": "execute_result"
    }
   ],
   "source": [
    "y_median = pd.Series(y_train.median(), index = y_test.index)\n",
    "rmse(y_test, y_median)"
   ]
  },
  {
   "cell_type": "markdown",
   "metadata": {},
   "source": [
    "### Выводы"
   ]
  },
  {
   "cell_type": "markdown",
   "metadata": {},
   "source": [
    "1. Согласно выполненному тестированию, лучшая оценка качества RMSE соответствует модели LGBMRegressor. RMSE данной модели равен 45,6. RMSE моделей RandomForestRegressor и LinearRegression равен 47,5 и 53,1 соответственно. Таким образом, заданный порог (RMSE меньше 48) преодолели две модели: LGBMRegressor и RandomForestRegressor. Данные модели можно рекомендовать к дальнешему использованию.\n",
    "2. Оценка качества RMSE всех трех рассматриваемых моделей существенно превосходит данную оценку для медианной модели (RMSE = 87,2), что говорит об адекватности данных моделей.\n",
    "3. Дальнейшее повышение качества моделей возможно как через изменение гиперпараметров, так и через добавление новых признаков в датасет, используемый для обучения.\n",
    "4. Обращает на себя внимание существенно большее значение RMSE моделей на тестовой выборке по сравнению со значением, полученным методом кросс-валидации. Так, например, для LGBMRegressor при кросс-валидации RMSE = 24,6, а при тестировании RMSE = 45,6. При этом кросс-валидация выполнялась с использованием метода разбиения данных TimeSeriesSplit, специально предназначенного для временных рядов. Причины столь большого падения качества не совсем понятны. В качестве гипотезы можно предположить, что закономерности изменения величины заказов в последнее время претерпели существенные изменения, в результате чего качество предсказания модели, обученной с использованием прошлого опыта за большой промежуток времени, существенно ухудшилось."
   ]
  },
  {
   "cell_type": "markdown",
   "metadata": {},
   "source": [
    "## Чек-лист проверки"
   ]
  },
  {
   "cell_type": "markdown",
   "metadata": {},
   "source": [
    "- [x]  Jupyter Notebook открыт\n",
    "- [x]  Весь код выполняется без ошибок\n",
    "- [x]  Ячейки с кодом расположены в порядке исполнения\n",
    "- [x]  Данные загружены и подготовлены\n",
    "- [x]  Данные проанализированы\n",
    "- [x]  Модель обучена, гиперпараметры подобраны\n",
    "- [x]  Качество моделей проверено, выводы сделаны\n",
    "- [x]  Значение *RMSE* на тестовой выборке не больше 48"
   ]
  },
  {
   "cell_type": "code",
   "execution_count": null,
   "metadata": {},
   "outputs": [],
   "source": []
  }
 ],
 "metadata": {
  "ExecuteTimeLog": [
   {
    "duration": 658,
    "start_time": "2021-08-23T14:45:35.907Z"
   },
   {
    "duration": 45,
    "start_time": "2021-08-23T14:45:37.413Z"
   },
   {
    "duration": 41,
    "start_time": "2021-08-23T14:56:16.778Z"
   },
   {
    "duration": 34,
    "start_time": "2021-08-23T15:00:32.895Z"
   },
   {
    "duration": 44,
    "start_time": "2021-08-23T15:00:36.594Z"
   },
   {
    "duration": 43,
    "start_time": "2021-08-23T15:03:36.779Z"
   },
   {
    "duration": 42,
    "start_time": "2021-08-23T15:09:38.923Z"
   },
   {
    "duration": 3,
    "start_time": "2021-08-23T15:20:42.690Z"
   },
   {
    "duration": 742,
    "start_time": "2021-08-24T08:13:27.509Z"
   },
   {
    "duration": 48,
    "start_time": "2021-08-24T08:13:28.253Z"
   },
   {
    "duration": 73,
    "start_time": "2021-08-24T08:13:29.618Z"
   },
   {
    "duration": 5,
    "start_time": "2021-08-24T08:13:31.932Z"
   },
   {
    "duration": 4,
    "start_time": "2021-08-24T08:13:49.252Z"
   },
   {
    "duration": 5,
    "start_time": "2021-08-24T08:14:18.074Z"
   },
   {
    "duration": 196,
    "start_time": "2021-08-24T08:15:03.222Z"
   },
   {
    "duration": 6,
    "start_time": "2021-08-24T08:15:10.657Z"
   },
   {
    "duration": 122,
    "start_time": "2021-08-24T08:15:29.247Z"
   },
   {
    "duration": 10,
    "start_time": "2021-08-24T08:15:38.560Z"
   },
   {
    "duration": 22,
    "start_time": "2021-08-24T08:58:00.389Z"
   },
   {
    "duration": 1407,
    "start_time": "2021-08-24T10:49:44.540Z"
   },
   {
    "duration": 45,
    "start_time": "2021-08-24T10:49:45.950Z"
   },
   {
    "duration": 59,
    "start_time": "2021-08-24T10:49:45.998Z"
   },
   {
    "duration": 6,
    "start_time": "2021-08-24T10:49:46.059Z"
   },
   {
    "duration": 31,
    "start_time": "2021-08-24T10:49:46.068Z"
   },
   {
    "duration": 864,
    "start_time": "2021-08-24T10:50:19.563Z"
   },
   {
    "duration": 916,
    "start_time": "2021-08-24T10:50:41.868Z"
   },
   {
    "duration": 816,
    "start_time": "2021-08-24T10:51:31.165Z"
   },
   {
    "duration": 4,
    "start_time": "2021-08-24T11:17:48.419Z"
   },
   {
    "duration": 827,
    "start_time": "2021-08-24T11:17:48.887Z"
   },
   {
    "duration": 575,
    "start_time": "2021-08-24T11:23:25.662Z"
   },
   {
    "duration": 363,
    "start_time": "2021-08-24T11:24:55.096Z"
   },
   {
    "duration": 17,
    "start_time": "2021-08-24T11:25:34.555Z"
   },
   {
    "duration": 5,
    "start_time": "2021-08-24T11:26:05.129Z"
   },
   {
    "duration": 4,
    "start_time": "2021-08-24T11:26:17.868Z"
   },
   {
    "duration": 243,
    "start_time": "2021-08-24T11:27:03.379Z"
   },
   {
    "duration": 374,
    "start_time": "2021-08-24T14:26:46.963Z"
   },
   {
    "duration": 1962,
    "start_time": "2021-08-24T14:26:59.896Z"
   },
   {
    "duration": 47,
    "start_time": "2021-08-24T14:27:01.860Z"
   },
   {
    "duration": 59,
    "start_time": "2021-08-24T14:27:01.909Z"
   },
   {
    "duration": 20,
    "start_time": "2021-08-24T14:27:01.970Z"
   },
   {
    "duration": 40,
    "start_time": "2021-08-24T14:27:01.993Z"
   },
   {
    "duration": 10,
    "start_time": "2021-08-24T14:27:02.036Z"
   },
   {
    "duration": 28,
    "start_time": "2021-08-24T14:27:02.048Z"
   },
   {
    "duration": 910,
    "start_time": "2021-08-24T14:27:02.078Z"
   },
   {
    "duration": 359,
    "start_time": "2021-08-24T14:27:02.991Z"
   },
   {
    "duration": 329,
    "start_time": "2021-08-24T14:27:03.359Z"
   },
   {
    "duration": 567,
    "start_time": "2021-08-24T14:27:03.691Z"
   },
   {
    "duration": 2274,
    "start_time": "2021-08-24T14:27:01.986Z"
   },
   {
    "duration": 388,
    "start_time": "2021-08-24T14:27:26.651Z"
   },
   {
    "duration": 1551,
    "start_time": "2021-08-24T14:30:38.916Z"
   },
   {
    "duration": 47,
    "start_time": "2021-08-24T14:30:40.470Z"
   },
   {
    "duration": 64,
    "start_time": "2021-08-24T14:30:40.522Z"
   },
   {
    "duration": 14,
    "start_time": "2021-08-24T14:30:40.590Z"
   },
   {
    "duration": 26,
    "start_time": "2021-08-24T14:30:40.607Z"
   },
   {
    "duration": 23,
    "start_time": "2021-08-24T14:30:40.635Z"
   },
   {
    "duration": 5,
    "start_time": "2021-08-24T14:30:40.661Z"
   },
   {
    "duration": 506,
    "start_time": "2021-08-24T14:30:40.670Z"
   },
   {
    "duration": 368,
    "start_time": "2021-08-24T14:30:41.179Z"
   },
   {
    "duration": 288,
    "start_time": "2021-08-24T14:30:41.550Z"
   },
   {
    "duration": 21,
    "start_time": "2021-08-24T14:30:41.841Z"
   },
   {
    "duration": 8,
    "start_time": "2021-08-24T14:30:41.864Z"
   },
   {
    "duration": 13,
    "start_time": "2021-08-24T14:30:41.874Z"
   },
   {
    "duration": 9,
    "start_time": "2021-08-24T14:31:15.617Z"
   },
   {
    "duration": 11,
    "start_time": "2021-08-24T14:31:40.952Z"
   },
   {
    "duration": 10,
    "start_time": "2021-08-24T14:31:59.706Z"
   },
   {
    "duration": 439,
    "start_time": "2021-08-24T14:33:52.107Z"
   },
   {
    "duration": 673,
    "start_time": "2021-08-24T14:34:29.560Z"
   },
   {
    "duration": 850,
    "start_time": "2021-08-24T14:43:11.956Z"
   },
   {
    "duration": 747,
    "start_time": "2021-08-24T14:43:35.545Z"
   },
   {
    "duration": 244,
    "start_time": "2021-08-24T21:38:58.353Z"
   },
   {
    "duration": 224,
    "start_time": "2021-08-24T21:39:31.368Z"
   },
   {
    "duration": 1179,
    "start_time": "2021-08-25T15:49:43.686Z"
   },
   {
    "duration": 37,
    "start_time": "2021-08-25T15:49:44.866Z"
   },
   {
    "duration": 39,
    "start_time": "2021-08-25T15:49:44.905Z"
   },
   {
    "duration": 9,
    "start_time": "2021-08-25T15:49:44.946Z"
   },
   {
    "duration": 63,
    "start_time": "2021-08-25T15:49:44.957Z"
   },
   {
    "duration": 4,
    "start_time": "2021-08-25T15:49:45.022Z"
   },
   {
    "duration": 9,
    "start_time": "2021-08-25T15:49:45.028Z"
   },
   {
    "duration": 290,
    "start_time": "2021-08-25T15:49:45.039Z"
   },
   {
    "duration": 234,
    "start_time": "2021-08-25T15:49:45.331Z"
   },
   {
    "duration": 166,
    "start_time": "2021-08-25T15:49:45.567Z"
   },
   {
    "duration": 8,
    "start_time": "2021-08-25T15:49:45.735Z"
   },
   {
    "duration": 759,
    "start_time": "2021-08-25T15:49:45.744Z"
   },
   {
    "duration": 835,
    "start_time": "2021-08-25T15:50:08.524Z"
   },
   {
    "duration": 904,
    "start_time": "2021-08-25T15:50:16.505Z"
   },
   {
    "duration": 1147,
    "start_time": "2021-08-25T15:50:35.383Z"
   },
   {
    "duration": 1201,
    "start_time": "2021-08-25T15:51:34.148Z"
   },
   {
    "duration": 1042,
    "start_time": "2021-08-25T15:51:51.464Z"
   },
   {
    "duration": 1143,
    "start_time": "2021-08-25T15:52:02.297Z"
   },
   {
    "duration": 1251,
    "start_time": "2021-08-25T15:53:39.049Z"
   },
   {
    "duration": 1184,
    "start_time": "2021-08-25T15:54:27.621Z"
   },
   {
    "duration": 1174,
    "start_time": "2021-08-25T15:55:01.648Z"
   },
   {
    "duration": 1095,
    "start_time": "2021-08-25T15:55:25.278Z"
   },
   {
    "duration": 1240,
    "start_time": "2021-08-25T15:55:39.351Z"
   },
   {
    "duration": 1487,
    "start_time": "2021-08-25T15:57:58.307Z"
   },
   {
    "duration": 1583,
    "start_time": "2021-08-25T16:00:29.199Z"
   },
   {
    "duration": 1664,
    "start_time": "2021-08-25T16:00:35.932Z"
   },
   {
    "duration": 1585,
    "start_time": "2021-08-25T16:00:44.165Z"
   },
   {
    "duration": 2045,
    "start_time": "2021-08-25T16:00:54.946Z"
   },
   {
    "duration": 1573,
    "start_time": "2021-08-25T16:02:25.516Z"
   },
   {
    "duration": 2033,
    "start_time": "2021-08-25T16:03:07.960Z"
   },
   {
    "duration": 2031,
    "start_time": "2021-08-25T16:03:14.777Z"
   },
   {
    "duration": 2512,
    "start_time": "2021-08-25T16:03:38.049Z"
   },
   {
    "duration": 1421,
    "start_time": "2021-08-25T16:03:56.774Z"
   },
   {
    "duration": 1853,
    "start_time": "2021-08-25T16:04:10.309Z"
   },
   {
    "duration": 1303,
    "start_time": "2021-08-25T18:45:55.517Z"
   },
   {
    "duration": 1384,
    "start_time": "2021-08-25T18:46:08.403Z"
   },
   {
    "duration": 1365,
    "start_time": "2021-08-25T18:49:32.461Z"
   },
   {
    "duration": 1195,
    "start_time": "2021-08-25T18:49:39.667Z"
   },
   {
    "duration": 1185,
    "start_time": "2021-08-25T18:49:47.973Z"
   },
   {
    "duration": 1288,
    "start_time": "2021-08-25T18:49:52.078Z"
   },
   {
    "duration": 774,
    "start_time": "2021-08-25T18:50:50.106Z"
   },
   {
    "duration": 1353,
    "start_time": "2021-08-25T18:51:25.727Z"
   },
   {
    "duration": 4,
    "start_time": "2021-08-25T18:52:18.578Z"
   },
   {
    "duration": 225,
    "start_time": "2021-08-25T18:52:47.705Z"
   },
   {
    "duration": 3,
    "start_time": "2021-08-25T18:52:59.274Z"
   },
   {
    "duration": 3,
    "start_time": "2021-08-25T18:55:01.303Z"
   },
   {
    "duration": 5,
    "start_time": "2021-08-25T18:55:31.024Z"
   },
   {
    "duration": 264,
    "start_time": "2021-08-25T18:57:04.354Z"
   },
   {
    "duration": 1379,
    "start_time": "2021-08-25T18:58:28.861Z"
   },
   {
    "duration": 1245,
    "start_time": "2021-08-25T18:58:54.138Z"
   },
   {
    "duration": 585,
    "start_time": "2021-08-25T18:59:39.961Z"
   },
   {
    "duration": 834,
    "start_time": "2021-08-25T19:00:43.396Z"
   },
   {
    "duration": 1814,
    "start_time": "2021-08-25T19:01:02.271Z"
   },
   {
    "duration": 74,
    "start_time": "2021-08-25T19:02:04.201Z"
   },
   {
    "duration": 1552,
    "start_time": "2021-08-25T19:02:13.166Z"
   },
   {
    "duration": 1277,
    "start_time": "2021-08-25T19:03:25.039Z"
   },
   {
    "duration": 666,
    "start_time": "2021-08-25T19:03:48.889Z"
   },
   {
    "duration": 1387,
    "start_time": "2021-08-25T19:04:05.543Z"
   },
   {
    "duration": 1251,
    "start_time": "2021-08-25T19:20:42.840Z"
   },
   {
    "duration": 1268,
    "start_time": "2021-08-25T19:21:31.521Z"
   },
   {
    "duration": 3,
    "start_time": "2021-08-25T19:24:52.054Z"
   },
   {
    "duration": 965,
    "start_time": "2021-08-25T19:25:37.964Z"
   },
   {
    "duration": 1334,
    "start_time": "2021-08-25T19:26:25.564Z"
   },
   {
    "duration": 4,
    "start_time": "2021-08-25T19:32:23.577Z"
   },
   {
    "duration": 1212,
    "start_time": "2021-08-25T19:32:32.615Z"
   },
   {
    "duration": 126,
    "start_time": "2021-08-25T19:33:20.217Z"
   },
   {
    "duration": 5,
    "start_time": "2021-08-25T19:33:26.114Z"
   },
   {
    "duration": 1338,
    "start_time": "2021-08-25T19:37:47.112Z"
   },
   {
    "duration": 848,
    "start_time": "2021-08-25T19:38:15.639Z"
   },
   {
    "duration": 1238,
    "start_time": "2021-08-25T19:45:24.706Z"
   },
   {
    "duration": 1445,
    "start_time": "2021-08-25T19:51:17.242Z"
   },
   {
    "duration": 1298,
    "start_time": "2021-08-25T19:52:49.436Z"
   },
   {
    "duration": 1271,
    "start_time": "2021-08-25T19:53:57.246Z"
   },
   {
    "duration": 1330,
    "start_time": "2021-08-25T19:54:22.436Z"
   },
   {
    "duration": 1522,
    "start_time": "2021-08-25T19:54:49.194Z"
   },
   {
    "duration": 1410,
    "start_time": "2021-08-25T19:59:26.639Z"
   },
   {
    "duration": 1289,
    "start_time": "2021-08-25T19:59:53.063Z"
   },
   {
    "duration": 534,
    "start_time": "2021-08-25T20:03:38.764Z"
   },
   {
    "duration": 336,
    "start_time": "2021-08-25T20:03:51.280Z"
   },
   {
    "duration": 265,
    "start_time": "2021-08-25T20:04:03.253Z"
   },
   {
    "duration": 196,
    "start_time": "2021-08-25T20:04:05.740Z"
   },
   {
    "duration": 229,
    "start_time": "2021-08-25T21:00:33.995Z"
   },
   {
    "duration": 297,
    "start_time": "2021-08-25T21:00:53.440Z"
   },
   {
    "duration": 361,
    "start_time": "2021-08-25T21:01:21.651Z"
   },
   {
    "duration": 208,
    "start_time": "2021-08-25T21:02:02.211Z"
   },
   {
    "duration": 207,
    "start_time": "2021-08-25T21:04:55.647Z"
   },
   {
    "duration": 346,
    "start_time": "2021-08-25T21:15:15.443Z"
   },
   {
    "duration": 378,
    "start_time": "2021-08-25T21:15:43.501Z"
   },
   {
    "duration": 371,
    "start_time": "2021-08-25T21:16:08.953Z"
   },
   {
    "duration": 475,
    "start_time": "2021-08-25T21:17:17.715Z"
   },
   {
    "duration": 5,
    "start_time": "2021-08-25T21:32:52.507Z"
   },
   {
    "duration": 228,
    "start_time": "2021-08-25T21:33:08.342Z"
   },
   {
    "duration": 228,
    "start_time": "2021-08-25T21:34:40.143Z"
   },
   {
    "duration": 302,
    "start_time": "2021-08-25T21:34:51.376Z"
   },
   {
    "duration": 6142,
    "start_time": "2021-08-25T21:42:12.907Z"
   },
   {
    "duration": 408,
    "start_time": "2021-08-25T21:43:47.248Z"
   },
   {
    "duration": 1057,
    "start_time": "2021-08-25T21:46:31.455Z"
   },
   {
    "duration": 34,
    "start_time": "2021-08-25T21:46:32.514Z"
   },
   {
    "duration": 32,
    "start_time": "2021-08-25T21:46:32.550Z"
   },
   {
    "duration": 9,
    "start_time": "2021-08-25T21:46:32.584Z"
   },
   {
    "duration": 10,
    "start_time": "2021-08-25T21:46:32.594Z"
   },
   {
    "duration": 5,
    "start_time": "2021-08-25T21:46:32.605Z"
   },
   {
    "duration": 377,
    "start_time": "2021-08-25T21:46:32.612Z"
   },
   {
    "duration": 4159,
    "start_time": "2021-08-25T21:46:28.832Z"
   },
   {
    "duration": 4147,
    "start_time": "2021-08-25T21:46:28.845Z"
   },
   {
    "duration": 4144,
    "start_time": "2021-08-25T21:46:28.848Z"
   },
   {
    "duration": 4143,
    "start_time": "2021-08-25T21:46:28.850Z"
   },
   {
    "duration": 4141,
    "start_time": "2021-08-25T21:46:28.853Z"
   },
   {
    "duration": 4139,
    "start_time": "2021-08-25T21:46:28.855Z"
   },
   {
    "duration": 4137,
    "start_time": "2021-08-25T21:46:28.858Z"
   },
   {
    "duration": 4135,
    "start_time": "2021-08-25T21:46:28.861Z"
   },
   {
    "duration": 1063,
    "start_time": "2021-08-25T21:47:04.846Z"
   },
   {
    "duration": 34,
    "start_time": "2021-08-25T21:47:05.911Z"
   },
   {
    "duration": 31,
    "start_time": "2021-08-25T21:47:05.947Z"
   },
   {
    "duration": 16,
    "start_time": "2021-08-25T21:47:05.980Z"
   },
   {
    "duration": 16,
    "start_time": "2021-08-25T21:47:05.997Z"
   },
   {
    "duration": 3,
    "start_time": "2021-08-25T21:47:06.014Z"
   },
   {
    "duration": 7,
    "start_time": "2021-08-25T21:47:06.018Z"
   },
   {
    "duration": 315,
    "start_time": "2021-08-25T21:47:06.027Z"
   },
   {
    "duration": 253,
    "start_time": "2021-08-25T21:47:06.344Z"
   },
   {
    "duration": 206,
    "start_time": "2021-08-25T21:47:06.598Z"
   },
   {
    "duration": 463,
    "start_time": "2021-08-25T21:47:06.806Z"
   },
   {
    "duration": 5,
    "start_time": "2021-08-25T21:47:07.270Z"
   },
   {
    "duration": 316,
    "start_time": "2021-08-25T21:47:07.276Z"
   },
   {
    "duration": 7,
    "start_time": "2021-08-25T21:47:07.594Z"
   },
   {
    "duration": 1260,
    "start_time": "2021-08-25T21:47:07.602Z"
   },
   {
    "duration": 213,
    "start_time": "2021-08-25T21:47:08.863Z"
   },
   {
    "duration": 343,
    "start_time": "2021-08-25T21:50:38.767Z"
   },
   {
    "duration": 1076,
    "start_time": "2021-08-25T21:52:16.636Z"
   },
   {
    "duration": 34,
    "start_time": "2021-08-25T21:52:17.713Z"
   },
   {
    "duration": 32,
    "start_time": "2021-08-25T21:52:17.749Z"
   },
   {
    "duration": 16,
    "start_time": "2021-08-25T21:52:17.782Z"
   },
   {
    "duration": 12,
    "start_time": "2021-08-25T21:52:17.799Z"
   },
   {
    "duration": 4,
    "start_time": "2021-08-25T21:52:17.812Z"
   },
   {
    "duration": 4,
    "start_time": "2021-08-25T21:52:17.818Z"
   },
   {
    "duration": 334,
    "start_time": "2021-08-25T21:52:17.824Z"
   },
   {
    "duration": 255,
    "start_time": "2021-08-25T21:52:18.160Z"
   },
   {
    "duration": 201,
    "start_time": "2021-08-25T21:52:18.417Z"
   },
   {
    "duration": 456,
    "start_time": "2021-08-25T21:52:18.620Z"
   },
   {
    "duration": 388,
    "start_time": "2021-08-25T21:52:19.077Z"
   },
   {
    "duration": 4,
    "start_time": "2021-08-25T21:52:19.467Z"
   },
   {
    "duration": 318,
    "start_time": "2021-08-25T21:52:19.473Z"
   },
   {
    "duration": 7,
    "start_time": "2021-08-25T21:52:19.793Z"
   },
   {
    "duration": 1258,
    "start_time": "2021-08-25T21:52:19.802Z"
   },
   {
    "duration": 220,
    "start_time": "2021-08-25T21:52:21.062Z"
   },
   {
    "duration": 1055,
    "start_time": "2021-08-25T21:53:24.911Z"
   },
   {
    "duration": 37,
    "start_time": "2021-08-25T21:53:25.968Z"
   },
   {
    "duration": 33,
    "start_time": "2021-08-25T21:53:26.007Z"
   },
   {
    "duration": 9,
    "start_time": "2021-08-25T21:53:26.042Z"
   },
   {
    "duration": 10,
    "start_time": "2021-08-25T21:53:26.052Z"
   },
   {
    "duration": 3,
    "start_time": "2021-08-25T21:53:26.063Z"
   },
   {
    "duration": 4,
    "start_time": "2021-08-25T21:53:26.091Z"
   },
   {
    "duration": 357,
    "start_time": "2021-08-25T21:53:26.098Z"
   },
   {
    "duration": 271,
    "start_time": "2021-08-25T21:53:26.457Z"
   },
   {
    "duration": 206,
    "start_time": "2021-08-25T21:53:26.730Z"
   },
   {
    "duration": 480,
    "start_time": "2021-08-25T21:53:26.938Z"
   },
   {
    "duration": 427,
    "start_time": "2021-08-25T21:53:27.419Z"
   },
   {
    "duration": 4,
    "start_time": "2021-08-25T21:53:27.848Z"
   },
   {
    "duration": 336,
    "start_time": "2021-08-25T21:53:27.853Z"
   },
   {
    "duration": 7,
    "start_time": "2021-08-25T21:53:28.191Z"
   },
   {
    "duration": 1368,
    "start_time": "2021-08-25T21:53:28.200Z"
   },
   {
    "duration": 221,
    "start_time": "2021-08-25T21:53:29.570Z"
   },
   {
    "duration": 1058,
    "start_time": "2021-08-25T21:55:28.795Z"
   },
   {
    "duration": 34,
    "start_time": "2021-08-25T21:55:29.855Z"
   },
   {
    "duration": 31,
    "start_time": "2021-08-25T21:55:29.893Z"
   },
   {
    "duration": 8,
    "start_time": "2021-08-25T21:55:29.926Z"
   },
   {
    "duration": 16,
    "start_time": "2021-08-25T21:55:29.935Z"
   },
   {
    "duration": 15,
    "start_time": "2021-08-25T21:55:29.952Z"
   },
   {
    "duration": 23,
    "start_time": "2021-08-25T21:55:29.969Z"
   },
   {
    "duration": 331,
    "start_time": "2021-08-25T21:55:29.994Z"
   },
   {
    "duration": 259,
    "start_time": "2021-08-25T21:55:30.327Z"
   },
   {
    "duration": 203,
    "start_time": "2021-08-25T21:55:30.591Z"
   },
   {
    "duration": 478,
    "start_time": "2021-08-25T21:55:30.796Z"
   },
   {
    "duration": 351,
    "start_time": "2021-08-25T21:55:31.276Z"
   },
   {
    "duration": 4,
    "start_time": "2021-08-25T21:55:31.629Z"
   },
   {
    "duration": 314,
    "start_time": "2021-08-25T21:55:31.634Z"
   },
   {
    "duration": 6,
    "start_time": "2021-08-25T21:55:31.950Z"
   },
   {
    "duration": 1266,
    "start_time": "2021-08-25T21:55:31.957Z"
   },
   {
    "duration": 212,
    "start_time": "2021-08-25T21:55:33.225Z"
   },
   {
    "duration": 328,
    "start_time": "2021-08-25T21:56:00.820Z"
   },
   {
    "duration": 1118,
    "start_time": "2021-08-25T21:56:26.189Z"
   },
   {
    "duration": 35,
    "start_time": "2021-08-25T21:56:27.309Z"
   },
   {
    "duration": 32,
    "start_time": "2021-08-25T21:56:27.346Z"
   },
   {
    "duration": 16,
    "start_time": "2021-08-25T21:56:27.379Z"
   },
   {
    "duration": 9,
    "start_time": "2021-08-25T21:56:27.397Z"
   },
   {
    "duration": 6,
    "start_time": "2021-08-25T21:56:27.407Z"
   },
   {
    "duration": 10,
    "start_time": "2021-08-25T21:56:27.414Z"
   },
   {
    "duration": 326,
    "start_time": "2021-08-25T21:56:27.426Z"
   },
   {
    "duration": 257,
    "start_time": "2021-08-25T21:56:27.754Z"
   },
   {
    "duration": 201,
    "start_time": "2021-08-25T21:56:28.012Z"
   },
   {
    "duration": 467,
    "start_time": "2021-08-25T21:56:28.215Z"
   },
   {
    "duration": 310,
    "start_time": "2021-08-25T21:56:28.683Z"
   },
   {
    "duration": 6,
    "start_time": "2021-08-25T21:56:28.994Z"
   },
   {
    "duration": 315,
    "start_time": "2021-08-25T21:56:29.001Z"
   },
   {
    "duration": 6,
    "start_time": "2021-08-25T21:56:29.317Z"
   },
   {
    "duration": 1557,
    "start_time": "2021-08-25T21:56:29.324Z"
   },
   {
    "duration": 225,
    "start_time": "2021-08-25T21:56:30.883Z"
   },
   {
    "duration": 3,
    "start_time": "2021-08-25T22:22:47.035Z"
   },
   {
    "duration": 6165,
    "start_time": "2021-08-25T22:23:14.489Z"
   },
   {
    "duration": 1111,
    "start_time": "2021-08-25T22:26:17.016Z"
   },
   {
    "duration": 35,
    "start_time": "2021-08-25T22:26:18.129Z"
   },
   {
    "duration": 36,
    "start_time": "2021-08-25T22:26:18.167Z"
   },
   {
    "duration": 10,
    "start_time": "2021-08-25T22:26:18.205Z"
   },
   {
    "duration": 12,
    "start_time": "2021-08-25T22:26:18.216Z"
   },
   {
    "duration": 5,
    "start_time": "2021-08-25T22:26:18.229Z"
   },
   {
    "duration": 4,
    "start_time": "2021-08-25T22:26:18.236Z"
   },
   {
    "duration": 338,
    "start_time": "2021-08-25T22:26:18.242Z"
   },
   {
    "duration": 255,
    "start_time": "2021-08-25T22:26:18.583Z"
   },
   {
    "duration": 197,
    "start_time": "2021-08-25T22:26:18.840Z"
   },
   {
    "duration": 470,
    "start_time": "2021-08-25T22:26:19.039Z"
   },
   {
    "duration": 315,
    "start_time": "2021-08-25T22:26:19.511Z"
   },
   {
    "duration": 4,
    "start_time": "2021-08-25T22:26:19.828Z"
   },
   {
    "duration": 316,
    "start_time": "2021-08-25T22:26:19.833Z"
   },
   {
    "duration": 6,
    "start_time": "2021-08-25T22:26:20.150Z"
   },
   {
    "duration": 1220,
    "start_time": "2021-08-25T22:26:20.157Z"
   },
   {
    "duration": 213,
    "start_time": "2021-08-25T22:26:21.378Z"
   },
   {
    "duration": 4,
    "start_time": "2021-08-25T22:26:21.592Z"
   },
   {
    "duration": 22,
    "start_time": "2021-08-25T22:26:21.597Z"
   },
   {
    "duration": 13,
    "start_time": "2021-08-25T22:28:54.863Z"
   },
   {
    "duration": 4,
    "start_time": "2021-08-25T22:30:31.536Z"
   },
   {
    "duration": 15,
    "start_time": "2021-08-25T22:30:32.416Z"
   },
   {
    "duration": 11,
    "start_time": "2021-08-25T22:30:51.074Z"
   },
   {
    "duration": 7,
    "start_time": "2021-08-25T22:31:10.594Z"
   },
   {
    "duration": 9,
    "start_time": "2021-08-25T22:32:41.749Z"
   },
   {
    "duration": 1141,
    "start_time": "2021-08-25T23:01:46.272Z"
   },
   {
    "duration": 34,
    "start_time": "2021-08-25T23:01:47.414Z"
   },
   {
    "duration": 31,
    "start_time": "2021-08-25T23:01:47.450Z"
   },
   {
    "duration": 16,
    "start_time": "2021-08-25T23:01:47.483Z"
   },
   {
    "duration": 11,
    "start_time": "2021-08-25T23:01:47.501Z"
   },
   {
    "duration": 3,
    "start_time": "2021-08-25T23:01:47.514Z"
   },
   {
    "duration": 5,
    "start_time": "2021-08-25T23:01:47.519Z"
   },
   {
    "duration": 340,
    "start_time": "2021-08-25T23:01:47.526Z"
   },
   {
    "duration": 265,
    "start_time": "2021-08-25T23:01:47.868Z"
   },
   {
    "duration": 205,
    "start_time": "2021-08-25T23:01:48.135Z"
   },
   {
    "duration": 779,
    "start_time": "2021-08-25T23:01:48.341Z"
   },
   {
    "duration": 318,
    "start_time": "2021-08-25T23:01:49.122Z"
   },
   {
    "duration": 4,
    "start_time": "2021-08-25T23:01:49.441Z"
   },
   {
    "duration": 585,
    "start_time": "2021-08-25T23:01:49.447Z"
   },
   {
    "duration": 6,
    "start_time": "2021-08-25T23:01:50.034Z"
   },
   {
    "duration": 1286,
    "start_time": "2021-08-25T23:01:50.041Z"
   },
   {
    "duration": 323,
    "start_time": "2021-08-25T23:01:51.329Z"
   },
   {
    "duration": 3,
    "start_time": "2021-08-25T23:01:51.653Z"
   },
   {
    "duration": 9,
    "start_time": "2021-08-25T23:01:51.657Z"
   },
   {
    "duration": 7,
    "start_time": "2021-08-25T23:01:51.667Z"
   },
   {
    "duration": 29,
    "start_time": "2021-08-25T23:01:51.675Z"
   },
   {
    "duration": 5,
    "start_time": "2021-08-25T23:01:51.705Z"
   },
   {
    "duration": 318,
    "start_time": "2021-08-25T23:01:51.714Z"
   },
   {
    "duration": 4299,
    "start_time": "2021-08-25T23:01:47.735Z"
   },
   {
    "duration": 4296,
    "start_time": "2021-08-25T23:01:47.739Z"
   },
   {
    "duration": 1089,
    "start_time": "2021-08-25T23:03:46.693Z"
   },
   {
    "duration": 36,
    "start_time": "2021-08-25T23:03:47.784Z"
   },
   {
    "duration": 31,
    "start_time": "2021-08-25T23:03:47.824Z"
   },
   {
    "duration": 9,
    "start_time": "2021-08-25T23:03:47.857Z"
   },
   {
    "duration": 27,
    "start_time": "2021-08-25T23:03:47.867Z"
   },
   {
    "duration": 4,
    "start_time": "2021-08-25T23:03:47.896Z"
   },
   {
    "duration": 5,
    "start_time": "2021-08-25T23:03:47.902Z"
   },
   {
    "duration": 354,
    "start_time": "2021-08-25T23:03:47.909Z"
   },
   {
    "duration": 280,
    "start_time": "2021-08-25T23:03:48.265Z"
   },
   {
    "duration": 214,
    "start_time": "2021-08-25T23:03:48.546Z"
   },
   {
    "duration": 509,
    "start_time": "2021-08-25T23:03:48.762Z"
   },
   {
    "duration": 338,
    "start_time": "2021-08-25T23:03:49.273Z"
   },
   {
    "duration": 5,
    "start_time": "2021-08-25T23:03:49.613Z"
   },
   {
    "duration": 323,
    "start_time": "2021-08-25T23:03:49.619Z"
   },
   {
    "duration": 5,
    "start_time": "2021-08-25T23:03:49.944Z"
   },
   {
    "duration": 1274,
    "start_time": "2021-08-25T23:03:49.951Z"
   },
   {
    "duration": 219,
    "start_time": "2021-08-25T23:03:51.227Z"
   },
   {
    "duration": 2,
    "start_time": "2021-08-25T23:03:51.448Z"
   },
   {
    "duration": 6,
    "start_time": "2021-08-25T23:03:51.452Z"
   },
   {
    "duration": 6,
    "start_time": "2021-08-25T23:03:51.459Z"
   },
   {
    "duration": 31,
    "start_time": "2021-08-25T23:03:51.466Z"
   },
   {
    "duration": 4,
    "start_time": "2021-08-25T23:03:51.500Z"
   },
   {
    "duration": 9,
    "start_time": "2021-08-25T23:03:51.507Z"
   },
   {
    "duration": 7,
    "start_time": "2021-08-25T23:03:51.518Z"
   },
   {
    "duration": 330,
    "start_time": "2021-08-25T23:03:51.526Z"
   },
   {
    "duration": 1058,
    "start_time": "2021-08-25T23:14:46.241Z"
   },
   {
    "duration": 35,
    "start_time": "2021-08-25T23:14:47.300Z"
   },
   {
    "duration": 33,
    "start_time": "2021-08-25T23:14:47.336Z"
   },
   {
    "duration": 8,
    "start_time": "2021-08-25T23:14:47.371Z"
   },
   {
    "duration": 16,
    "start_time": "2021-08-25T23:14:47.381Z"
   },
   {
    "duration": 20,
    "start_time": "2021-08-25T23:14:47.399Z"
   },
   {
    "duration": 26,
    "start_time": "2021-08-25T23:14:47.421Z"
   },
   {
    "duration": 335,
    "start_time": "2021-08-25T23:14:47.449Z"
   },
   {
    "duration": 248,
    "start_time": "2021-08-25T23:14:47.786Z"
   },
   {
    "duration": 199,
    "start_time": "2021-08-25T23:14:48.035Z"
   },
   {
    "duration": 462,
    "start_time": "2021-08-25T23:14:48.235Z"
   },
   {
    "duration": 310,
    "start_time": "2021-08-25T23:14:48.698Z"
   },
   {
    "duration": 5,
    "start_time": "2021-08-25T23:14:49.009Z"
   },
   {
    "duration": 319,
    "start_time": "2021-08-25T23:14:49.015Z"
   },
   {
    "duration": 5,
    "start_time": "2021-08-25T23:14:49.335Z"
   },
   {
    "duration": 1317,
    "start_time": "2021-08-25T23:14:49.342Z"
   },
   {
    "duration": 314,
    "start_time": "2021-08-25T23:14:50.661Z"
   },
   {
    "duration": 14,
    "start_time": "2021-08-25T23:14:50.977Z"
   },
   {
    "duration": 7,
    "start_time": "2021-08-25T23:14:50.993Z"
   },
   {
    "duration": 11,
    "start_time": "2021-08-25T23:14:51.001Z"
   },
   {
    "duration": 30,
    "start_time": "2021-08-25T23:14:51.013Z"
   },
   {
    "duration": 4,
    "start_time": "2021-08-25T23:14:51.044Z"
   },
   {
    "duration": 7,
    "start_time": "2021-08-25T23:14:51.051Z"
   },
   {
    "duration": 6,
    "start_time": "2021-08-25T23:14:51.059Z"
   },
   {
    "duration": 337,
    "start_time": "2021-08-25T23:14:51.066Z"
   },
   {
    "duration": 1663,
    "start_time": "2021-08-26T19:58:50.780Z"
   },
   {
    "duration": 46,
    "start_time": "2021-08-26T19:58:52.449Z"
   },
   {
    "duration": 57,
    "start_time": "2021-08-26T19:58:52.498Z"
   },
   {
    "duration": 13,
    "start_time": "2021-08-26T19:58:52.558Z"
   },
   {
    "duration": 17,
    "start_time": "2021-08-26T19:58:52.573Z"
   },
   {
    "duration": 5,
    "start_time": "2021-08-26T19:58:52.616Z"
   },
   {
    "duration": 4,
    "start_time": "2021-08-26T19:58:52.625Z"
   },
   {
    "duration": 606,
    "start_time": "2021-08-26T19:58:52.632Z"
   },
   {
    "duration": 461,
    "start_time": "2021-08-26T19:58:53.241Z"
   },
   {
    "duration": 354,
    "start_time": "2021-08-26T19:58:53.705Z"
   },
   {
    "duration": 770,
    "start_time": "2021-08-26T19:58:54.062Z"
   },
   {
    "duration": 956,
    "start_time": "2021-08-26T19:58:54.834Z"
   },
   {
    "duration": 6,
    "start_time": "2021-08-26T19:58:55.792Z"
   },
   {
    "duration": 642,
    "start_time": "2021-08-26T19:58:55.816Z"
   },
   {
    "duration": 10,
    "start_time": "2021-08-26T19:58:56.460Z"
   },
   {
    "duration": 2096,
    "start_time": "2021-08-26T19:58:56.472Z"
   },
   {
    "duration": 373,
    "start_time": "2021-08-26T19:58:58.570Z"
   },
   {
    "duration": 4,
    "start_time": "2021-08-26T19:58:58.946Z"
   },
   {
    "duration": 10,
    "start_time": "2021-08-26T19:58:58.952Z"
   },
   {
    "duration": 7,
    "start_time": "2021-08-26T19:58:58.964Z"
   },
   {
    "duration": 57,
    "start_time": "2021-08-26T19:58:58.973Z"
   },
   {
    "duration": 7,
    "start_time": "2021-08-26T19:58:59.034Z"
   },
   {
    "duration": 7,
    "start_time": "2021-08-26T19:58:59.043Z"
   },
   {
    "duration": 14,
    "start_time": "2021-08-26T19:58:59.053Z"
   },
   {
    "duration": 520,
    "start_time": "2021-08-26T19:58:59.069Z"
   },
   {
    "duration": 1557,
    "start_time": "2021-08-26T20:00:00.039Z"
   },
   {
    "duration": 48,
    "start_time": "2021-08-26T20:00:01.598Z"
   },
   {
    "duration": 76,
    "start_time": "2021-08-26T20:00:01.652Z"
   },
   {
    "duration": 13,
    "start_time": "2021-08-26T20:00:01.730Z"
   },
   {
    "duration": 72,
    "start_time": "2021-08-26T20:00:01.746Z"
   },
   {
    "duration": 25,
    "start_time": "2021-08-26T20:00:01.820Z"
   },
   {
    "duration": 33,
    "start_time": "2021-08-26T20:00:01.849Z"
   },
   {
    "duration": 598,
    "start_time": "2021-08-26T20:00:01.885Z"
   },
   {
    "duration": 489,
    "start_time": "2021-08-26T20:00:02.485Z"
   },
   {
    "duration": 384,
    "start_time": "2021-08-26T20:00:02.977Z"
   },
   {
    "duration": 1080,
    "start_time": "2021-08-26T20:00:03.415Z"
   },
   {
    "duration": 629,
    "start_time": "2021-08-26T20:00:04.498Z"
   },
   {
    "duration": 8,
    "start_time": "2021-08-26T20:00:05.130Z"
   },
   {
    "duration": 601,
    "start_time": "2021-08-26T20:00:05.141Z"
   },
   {
    "duration": 12,
    "start_time": "2021-08-26T20:00:05.744Z"
   },
   {
    "duration": 2287,
    "start_time": "2021-08-26T20:00:05.759Z"
   },
   {
    "duration": 401,
    "start_time": "2021-08-26T20:00:08.049Z"
   },
   {
    "duration": 4,
    "start_time": "2021-08-26T20:00:08.452Z"
   },
   {
    "duration": 8,
    "start_time": "2021-08-26T20:00:08.458Z"
   },
   {
    "duration": 6,
    "start_time": "2021-08-26T20:00:08.469Z"
   },
   {
    "duration": 61,
    "start_time": "2021-08-26T20:00:08.477Z"
   },
   {
    "duration": 8,
    "start_time": "2021-08-26T20:00:08.542Z"
   },
   {
    "duration": 10,
    "start_time": "2021-08-26T20:00:08.552Z"
   },
   {
    "duration": 15,
    "start_time": "2021-08-26T20:00:08.564Z"
   },
   {
    "duration": 139,
    "start_time": "2021-08-26T20:00:08.581Z"
   },
   {
    "duration": 10,
    "start_time": "2021-08-26T20:02:06.718Z"
   },
   {
    "duration": 1469,
    "start_time": "2021-08-26T20:05:22.862Z"
   },
   {
    "duration": 47,
    "start_time": "2021-08-26T20:05:24.333Z"
   },
   {
    "duration": 61,
    "start_time": "2021-08-26T20:05:24.383Z"
   },
   {
    "duration": 15,
    "start_time": "2021-08-26T20:05:24.448Z"
   },
   {
    "duration": 18,
    "start_time": "2021-08-26T20:05:24.465Z"
   },
   {
    "duration": 6,
    "start_time": "2021-08-26T20:05:24.515Z"
   },
   {
    "duration": 13,
    "start_time": "2021-08-26T20:05:24.524Z"
   },
   {
    "duration": 1021,
    "start_time": "2021-08-26T20:05:24.542Z"
   },
   {
    "duration": 830,
    "start_time": "2021-08-26T20:05:25.617Z"
   },
   {
    "duration": 633,
    "start_time": "2021-08-26T20:05:26.449Z"
   },
   {
    "duration": 751,
    "start_time": "2021-08-26T20:05:27.085Z"
   },
   {
    "duration": 588,
    "start_time": "2021-08-26T20:05:27.839Z"
   },
   {
    "duration": 6,
    "start_time": "2021-08-26T20:05:28.429Z"
   },
   {
    "duration": 579,
    "start_time": "2021-08-26T20:05:28.437Z"
   },
   {
    "duration": 9,
    "start_time": "2021-08-26T20:05:29.018Z"
   },
   {
    "duration": 2228,
    "start_time": "2021-08-26T20:05:29.030Z"
   },
   {
    "duration": 407,
    "start_time": "2021-08-26T20:05:31.261Z"
   },
   {
    "duration": 3,
    "start_time": "2021-08-26T20:05:31.670Z"
   },
   {
    "duration": 15,
    "start_time": "2021-08-26T20:05:31.675Z"
   },
   {
    "duration": 24,
    "start_time": "2021-08-26T20:05:31.692Z"
   },
   {
    "duration": 43,
    "start_time": "2021-08-26T20:05:31.718Z"
   },
   {
    "duration": 7,
    "start_time": "2021-08-26T20:05:31.764Z"
   },
   {
    "duration": 51,
    "start_time": "2021-08-26T20:05:31.775Z"
   },
   {
    "duration": 24,
    "start_time": "2021-08-26T20:05:31.829Z"
   },
   {
    "duration": 65,
    "start_time": "2021-08-26T20:05:31.856Z"
   },
   {
    "duration": 626,
    "start_time": "2021-08-26T20:05:31.924Z"
   },
   {
    "duration": 1754,
    "start_time": "2021-08-26T20:07:35.124Z"
   },
   {
    "duration": 48,
    "start_time": "2021-08-26T20:07:36.880Z"
   },
   {
    "duration": 57,
    "start_time": "2021-08-26T20:07:36.931Z"
   },
   {
    "duration": 36,
    "start_time": "2021-08-26T20:07:36.991Z"
   },
   {
    "duration": 25,
    "start_time": "2021-08-26T20:07:37.030Z"
   },
   {
    "duration": 7,
    "start_time": "2021-08-26T20:07:37.057Z"
   },
   {
    "duration": 49,
    "start_time": "2021-08-26T20:07:37.066Z"
   },
   {
    "duration": 660,
    "start_time": "2021-08-26T20:07:37.118Z"
   },
   {
    "duration": 470,
    "start_time": "2021-08-26T20:07:37.782Z"
   },
   {
    "duration": 379,
    "start_time": "2021-08-26T20:07:38.254Z"
   },
   {
    "duration": 771,
    "start_time": "2021-08-26T20:07:38.636Z"
   },
   {
    "duration": 564,
    "start_time": "2021-08-26T20:07:39.410Z"
   },
   {
    "duration": 7,
    "start_time": "2021-08-26T20:07:39.977Z"
   },
   {
    "duration": 644,
    "start_time": "2021-08-26T20:07:39.987Z"
   },
   {
    "duration": 9,
    "start_time": "2021-08-26T20:07:40.633Z"
   },
   {
    "duration": 2616,
    "start_time": "2021-08-26T20:07:40.645Z"
   },
   {
    "duration": 380,
    "start_time": "2021-08-26T20:07:43.263Z"
   },
   {
    "duration": 3,
    "start_time": "2021-08-26T20:07:43.645Z"
   },
   {
    "duration": 7,
    "start_time": "2021-08-26T20:07:43.651Z"
   },
   {
    "duration": 7,
    "start_time": "2021-08-26T20:07:43.660Z"
   },
   {
    "duration": 63,
    "start_time": "2021-08-26T20:07:43.669Z"
   },
   {
    "duration": 8,
    "start_time": "2021-08-26T20:07:43.734Z"
   },
   {
    "duration": 7,
    "start_time": "2021-08-26T20:07:43.746Z"
   },
   {
    "duration": 10,
    "start_time": "2021-08-26T20:07:43.755Z"
   },
   {
    "duration": 73,
    "start_time": "2021-08-26T20:07:43.767Z"
   },
   {
    "duration": 1201,
    "start_time": "2021-08-26T20:07:43.843Z"
   },
   {
    "duration": 4,
    "start_time": "2021-08-26T20:10:31.395Z"
   },
   {
    "duration": 5,
    "start_time": "2021-08-26T20:10:49.297Z"
   },
   {
    "duration": 1686,
    "start_time": "2021-08-26T20:12:41.147Z"
   },
   {
    "duration": 47,
    "start_time": "2021-08-26T20:12:42.836Z"
   },
   {
    "duration": 59,
    "start_time": "2021-08-26T20:12:42.886Z"
   },
   {
    "duration": 13,
    "start_time": "2021-08-26T20:12:42.948Z"
   },
   {
    "duration": 17,
    "start_time": "2021-08-26T20:12:42.964Z"
   },
   {
    "duration": 33,
    "start_time": "2021-08-26T20:12:42.983Z"
   },
   {
    "duration": 4,
    "start_time": "2021-08-26T20:12:43.018Z"
   },
   {
    "duration": 588,
    "start_time": "2021-08-26T20:12:43.026Z"
   },
   {
    "duration": 492,
    "start_time": "2021-08-26T20:12:43.618Z"
   },
   {
    "duration": 377,
    "start_time": "2021-08-26T20:12:44.113Z"
   },
   {
    "duration": 769,
    "start_time": "2021-08-26T20:12:44.493Z"
   },
   {
    "duration": 642,
    "start_time": "2021-08-26T20:12:45.264Z"
   },
   {
    "duration": 6,
    "start_time": "2021-08-26T20:12:45.916Z"
   },
   {
    "duration": 553,
    "start_time": "2021-08-26T20:12:45.925Z"
   },
   {
    "duration": 10,
    "start_time": "2021-08-26T20:12:46.480Z"
   },
   {
    "duration": 2209,
    "start_time": "2021-08-26T20:12:46.492Z"
   },
   {
    "duration": 373,
    "start_time": "2021-08-26T20:12:48.704Z"
   },
   {
    "duration": 4,
    "start_time": "2021-08-26T20:12:49.080Z"
   },
   {
    "duration": 7,
    "start_time": "2021-08-26T20:12:49.086Z"
   },
   {
    "duration": 22,
    "start_time": "2021-08-26T20:12:49.095Z"
   },
   {
    "duration": 37,
    "start_time": "2021-08-26T20:12:49.120Z"
   },
   {
    "duration": 7,
    "start_time": "2021-08-26T20:12:49.159Z"
   },
   {
    "duration": 7,
    "start_time": "2021-08-26T20:12:49.170Z"
   },
   {
    "duration": 39,
    "start_time": "2021-08-26T20:12:49.180Z"
   },
   {
    "duration": 39,
    "start_time": "2021-08-26T20:12:49.221Z"
   },
   {
    "duration": 10,
    "start_time": "2021-08-26T20:12:49.317Z"
   },
   {
    "duration": 4,
    "start_time": "2021-08-26T20:12:49.330Z"
   },
   {
    "duration": 79,
    "start_time": "2021-08-26T20:12:49.337Z"
   },
   {
    "duration": 1531,
    "start_time": "2021-08-26T20:13:23.835Z"
   },
   {
    "duration": 47,
    "start_time": "2021-08-26T20:13:25.369Z"
   },
   {
    "duration": 50,
    "start_time": "2021-08-26T20:13:25.419Z"
   },
   {
    "duration": 15,
    "start_time": "2021-08-26T20:13:25.473Z"
   },
   {
    "duration": 18,
    "start_time": "2021-08-26T20:13:25.516Z"
   },
   {
    "duration": 14,
    "start_time": "2021-08-26T20:13:25.536Z"
   },
   {
    "duration": 16,
    "start_time": "2021-08-26T20:13:25.552Z"
   },
   {
    "duration": 681,
    "start_time": "2021-08-26T20:13:25.572Z"
   },
   {
    "duration": 566,
    "start_time": "2021-08-26T20:13:26.256Z"
   },
   {
    "duration": 369,
    "start_time": "2021-08-26T20:13:26.825Z"
   },
   {
    "duration": 803,
    "start_time": "2021-08-26T20:13:27.196Z"
   },
   {
    "duration": 549,
    "start_time": "2021-08-26T20:13:28.002Z"
   },
   {
    "duration": 7,
    "start_time": "2021-08-26T20:13:28.553Z"
   },
   {
    "duration": 579,
    "start_time": "2021-08-26T20:13:28.562Z"
   },
   {
    "duration": 9,
    "start_time": "2021-08-26T20:13:29.144Z"
   },
   {
    "duration": 2342,
    "start_time": "2021-08-26T20:13:29.155Z"
   },
   {
    "duration": 398,
    "start_time": "2021-08-26T20:13:31.500Z"
   },
   {
    "duration": 5,
    "start_time": "2021-08-26T20:13:31.900Z"
   },
   {
    "duration": 13,
    "start_time": "2021-08-26T20:13:31.915Z"
   },
   {
    "duration": 22,
    "start_time": "2021-08-26T20:13:31.930Z"
   },
   {
    "duration": 38,
    "start_time": "2021-08-26T20:13:31.955Z"
   },
   {
    "duration": 7,
    "start_time": "2021-08-26T20:13:31.995Z"
   },
   {
    "duration": 20,
    "start_time": "2021-08-26T20:13:32.007Z"
   },
   {
    "duration": 14,
    "start_time": "2021-08-26T20:13:32.031Z"
   },
   {
    "duration": 95,
    "start_time": "2021-08-26T20:13:32.048Z"
   },
   {
    "duration": 81,
    "start_time": "2021-08-26T20:13:32.146Z"
   },
   {
    "duration": 6,
    "start_time": "2021-08-26T20:13:32.230Z"
   },
   {
    "duration": 84,
    "start_time": "2021-08-26T20:13:32.238Z"
   },
   {
    "duration": 1476,
    "start_time": "2021-08-26T20:24:28.543Z"
   },
   {
    "duration": 47,
    "start_time": "2021-08-26T20:24:30.022Z"
   },
   {
    "duration": 60,
    "start_time": "2021-08-26T20:24:30.072Z"
   },
   {
    "duration": 14,
    "start_time": "2021-08-26T20:24:30.134Z"
   },
   {
    "duration": 19,
    "start_time": "2021-08-26T20:24:30.151Z"
   },
   {
    "duration": 5,
    "start_time": "2021-08-26T20:24:30.173Z"
   },
   {
    "duration": 38,
    "start_time": "2021-08-26T20:24:30.180Z"
   },
   {
    "duration": 597,
    "start_time": "2021-08-26T20:24:30.222Z"
   },
   {
    "duration": 471,
    "start_time": "2021-08-26T20:24:30.822Z"
   },
   {
    "duration": 355,
    "start_time": "2021-08-26T20:24:31.296Z"
   },
   {
    "duration": 741,
    "start_time": "2021-08-26T20:24:31.654Z"
   },
   {
    "duration": 925,
    "start_time": "2021-08-26T20:24:32.398Z"
   },
   {
    "duration": 7,
    "start_time": "2021-08-26T20:24:33.325Z"
   },
   {
    "duration": 552,
    "start_time": "2021-08-26T20:24:33.334Z"
   },
   {
    "duration": 9,
    "start_time": "2021-08-26T20:24:33.888Z"
   },
   {
    "duration": 2161,
    "start_time": "2021-08-26T20:24:33.915Z"
   },
   {
    "duration": 393,
    "start_time": "2021-08-26T20:24:36.078Z"
   },
   {
    "duration": 3,
    "start_time": "2021-08-26T20:24:36.473Z"
   },
   {
    "duration": 15,
    "start_time": "2021-08-26T20:24:36.479Z"
   },
   {
    "duration": 20,
    "start_time": "2021-08-26T20:24:36.496Z"
   },
   {
    "duration": 38,
    "start_time": "2021-08-26T20:24:36.518Z"
   },
   {
    "duration": 7,
    "start_time": "2021-08-26T20:24:36.559Z"
   },
   {
    "duration": 7,
    "start_time": "2021-08-26T20:24:36.570Z"
   },
   {
    "duration": 37,
    "start_time": "2021-08-26T20:24:36.580Z"
   },
   {
    "duration": 3,
    "start_time": "2021-08-26T20:24:36.619Z"
   },
   {
    "duration": 7,
    "start_time": "2021-08-26T20:24:36.624Z"
   },
   {
    "duration": 11,
    "start_time": "2021-08-26T20:24:36.633Z"
   },
   {
    "duration": 3810,
    "start_time": "2021-08-26T20:24:36.646Z"
   },
   {
    "duration": 6,
    "start_time": "2021-08-26T20:24:40.459Z"
   },
   {
    "duration": 703,
    "start_time": "2021-08-26T20:27:14.722Z"
   },
   {
    "duration": 375,
    "start_time": "2021-08-26T20:30:16.228Z"
   },
   {
    "duration": 365,
    "start_time": "2021-08-26T20:30:48.934Z"
   },
   {
    "duration": 763,
    "start_time": "2021-08-26T20:31:10.366Z"
   },
   {
    "duration": 1739,
    "start_time": "2021-08-26T20:31:40.579Z"
   },
   {
    "duration": 46,
    "start_time": "2021-08-26T20:31:42.321Z"
   },
   {
    "duration": 59,
    "start_time": "2021-08-26T20:31:42.370Z"
   },
   {
    "duration": 13,
    "start_time": "2021-08-26T20:31:42.432Z"
   },
   {
    "duration": 15,
    "start_time": "2021-08-26T20:31:42.448Z"
   },
   {
    "duration": 5,
    "start_time": "2021-08-26T20:31:42.465Z"
   },
   {
    "duration": 5,
    "start_time": "2021-08-26T20:31:42.472Z"
   },
   {
    "duration": 594,
    "start_time": "2021-08-26T20:31:42.479Z"
   },
   {
    "duration": 456,
    "start_time": "2021-08-26T20:31:43.077Z"
   },
   {
    "duration": 360,
    "start_time": "2021-08-26T20:31:43.536Z"
   },
   {
    "duration": 772,
    "start_time": "2021-08-26T20:31:43.898Z"
   },
   {
    "duration": 547,
    "start_time": "2021-08-26T20:31:44.673Z"
   },
   {
    "duration": 6,
    "start_time": "2021-08-26T20:31:45.222Z"
   },
   {
    "duration": 567,
    "start_time": "2021-08-26T20:31:45.230Z"
   },
   {
    "duration": 17,
    "start_time": "2021-08-26T20:31:45.799Z"
   },
   {
    "duration": 2285,
    "start_time": "2021-08-26T20:31:45.818Z"
   },
   {
    "duration": 476,
    "start_time": "2021-08-26T20:31:48.105Z"
   },
   {
    "duration": 4,
    "start_time": "2021-08-26T20:31:48.583Z"
   },
   {
    "duration": 10,
    "start_time": "2021-08-26T20:31:48.589Z"
   },
   {
    "duration": 6,
    "start_time": "2021-08-26T20:31:48.617Z"
   },
   {
    "duration": 34,
    "start_time": "2021-08-26T20:31:48.626Z"
   },
   {
    "duration": 7,
    "start_time": "2021-08-26T20:31:48.662Z"
   },
   {
    "duration": 6,
    "start_time": "2021-08-26T20:31:48.672Z"
   },
   {
    "duration": 42,
    "start_time": "2021-08-26T20:31:48.681Z"
   },
   {
    "duration": 7,
    "start_time": "2021-08-26T20:31:48.725Z"
   },
   {
    "duration": 13,
    "start_time": "2021-08-26T20:31:48.734Z"
   },
   {
    "duration": 4,
    "start_time": "2021-08-26T20:31:48.752Z"
   },
   {
    "duration": 3714,
    "start_time": "2021-08-26T20:31:48.758Z"
   },
   {
    "duration": 6,
    "start_time": "2021-08-26T20:31:52.474Z"
   },
   {
    "duration": 834,
    "start_time": "2021-08-26T20:31:52.482Z"
   },
   {
    "duration": 1484,
    "start_time": "2021-08-26T20:34:36.840Z"
   },
   {
    "duration": 46,
    "start_time": "2021-08-26T20:34:38.326Z"
   },
   {
    "duration": 56,
    "start_time": "2021-08-26T20:34:38.375Z"
   },
   {
    "duration": 13,
    "start_time": "2021-08-26T20:34:38.433Z"
   },
   {
    "duration": 24,
    "start_time": "2021-08-26T20:34:38.449Z"
   },
   {
    "duration": 8,
    "start_time": "2021-08-26T20:34:38.476Z"
   },
   {
    "duration": 29,
    "start_time": "2021-08-26T20:34:38.487Z"
   },
   {
    "duration": 929,
    "start_time": "2021-08-26T20:34:38.519Z"
   },
   {
    "duration": 608,
    "start_time": "2021-08-26T20:34:39.451Z"
   },
   {
    "duration": 359,
    "start_time": "2021-08-26T20:34:40.061Z"
   },
   {
    "duration": 756,
    "start_time": "2021-08-26T20:34:40.422Z"
   },
   {
    "duration": 542,
    "start_time": "2021-08-26T20:34:41.180Z"
   },
   {
    "duration": 6,
    "start_time": "2021-08-26T20:34:41.725Z"
   },
   {
    "duration": 600,
    "start_time": "2021-08-26T20:34:41.734Z"
   },
   {
    "duration": 9,
    "start_time": "2021-08-26T20:34:42.336Z"
   },
   {
    "duration": 2289,
    "start_time": "2021-08-26T20:34:42.347Z"
   },
   {
    "duration": 397,
    "start_time": "2021-08-26T20:34:44.638Z"
   },
   {
    "duration": 3,
    "start_time": "2021-08-26T20:34:45.037Z"
   },
   {
    "duration": 14,
    "start_time": "2021-08-26T20:34:45.042Z"
   },
   {
    "duration": 6,
    "start_time": "2021-08-26T20:34:45.059Z"
   },
   {
    "duration": 57,
    "start_time": "2021-08-26T20:34:45.067Z"
   },
   {
    "duration": 8,
    "start_time": "2021-08-26T20:34:45.126Z"
   },
   {
    "duration": 10,
    "start_time": "2021-08-26T20:34:45.138Z"
   },
   {
    "duration": 10,
    "start_time": "2021-08-26T20:34:45.151Z"
   },
   {
    "duration": 10,
    "start_time": "2021-08-26T20:34:45.163Z"
   },
   {
    "duration": 7,
    "start_time": "2021-08-26T20:34:45.175Z"
   },
   {
    "duration": 33,
    "start_time": "2021-08-26T20:34:45.184Z"
   },
   {
    "duration": 4442,
    "start_time": "2021-08-26T20:34:45.220Z"
   },
   {
    "duration": 6,
    "start_time": "2021-08-26T20:34:49.665Z"
   },
   {
    "duration": 827,
    "start_time": "2021-08-26T20:34:49.674Z"
   },
   {
    "duration": 2880,
    "start_time": "2021-08-26T20:36:38.876Z"
   },
   {
    "duration": 83,
    "start_time": "2021-08-26T20:36:41.761Z"
   },
   {
    "duration": 106,
    "start_time": "2021-08-26T20:36:41.847Z"
   },
   {
    "duration": 64,
    "start_time": "2021-08-26T20:36:41.956Z"
   },
   {
    "duration": 27,
    "start_time": "2021-08-26T20:36:42.023Z"
   },
   {
    "duration": 9,
    "start_time": "2021-08-26T20:36:42.053Z"
   },
   {
    "duration": 12,
    "start_time": "2021-08-26T20:36:42.065Z"
   },
   {
    "duration": 583,
    "start_time": "2021-08-26T20:36:42.082Z"
   },
   {
    "duration": 465,
    "start_time": "2021-08-26T20:36:42.668Z"
   },
   {
    "duration": 391,
    "start_time": "2021-08-26T20:36:43.136Z"
   },
   {
    "duration": 1193,
    "start_time": "2021-08-26T20:36:43.530Z"
   },
   {
    "duration": 853,
    "start_time": "2021-08-26T20:36:44.725Z"
   },
   {
    "duration": 6,
    "start_time": "2021-08-26T20:36:45.580Z"
   },
   {
    "duration": 939,
    "start_time": "2021-08-26T20:36:45.589Z"
   },
   {
    "duration": 9,
    "start_time": "2021-08-26T20:36:46.530Z"
   },
   {
    "duration": 2100,
    "start_time": "2021-08-26T20:36:46.541Z"
   },
   {
    "duration": 384,
    "start_time": "2021-08-26T20:36:48.643Z"
   },
   {
    "duration": 3,
    "start_time": "2021-08-26T20:36:49.029Z"
   },
   {
    "duration": 15,
    "start_time": "2021-08-26T20:36:49.035Z"
   },
   {
    "duration": 11,
    "start_time": "2021-08-26T20:36:49.052Z"
   },
   {
    "duration": 58,
    "start_time": "2021-08-26T20:36:49.065Z"
   },
   {
    "duration": 7,
    "start_time": "2021-08-26T20:36:49.125Z"
   },
   {
    "duration": 6,
    "start_time": "2021-08-26T20:36:49.135Z"
   },
   {
    "duration": 10,
    "start_time": "2021-08-26T20:36:49.143Z"
   },
   {
    "duration": 9,
    "start_time": "2021-08-26T20:36:49.155Z"
   },
   {
    "duration": 3,
    "start_time": "2021-08-26T20:36:49.217Z"
   },
   {
    "duration": 5,
    "start_time": "2021-08-26T20:36:49.224Z"
   },
   {
    "duration": 3828,
    "start_time": "2021-08-26T20:36:49.232Z"
   },
   {
    "duration": 6,
    "start_time": "2021-08-26T20:36:53.063Z"
   },
   {
    "duration": 845,
    "start_time": "2021-08-26T20:36:53.072Z"
   },
   {
    "duration": 3,
    "start_time": "2021-08-26T20:47:04.883Z"
   },
   {
    "duration": 10573,
    "start_time": "2021-08-26T20:47:05.854Z"
   },
   {
    "duration": 5,
    "start_time": "2021-08-26T20:47:26.040Z"
   },
   {
    "duration": 674,
    "start_time": "2021-08-26T20:51:12.956Z"
   },
   {
    "duration": 1905,
    "start_time": "2021-08-26T21:08:59.663Z"
   },
   {
    "duration": 49,
    "start_time": "2021-08-26T21:09:01.571Z"
   },
   {
    "duration": 54,
    "start_time": "2021-08-26T21:09:01.624Z"
   },
   {
    "duration": 40,
    "start_time": "2021-08-26T21:09:01.681Z"
   },
   {
    "duration": 19,
    "start_time": "2021-08-26T21:09:01.725Z"
   },
   {
    "duration": 20,
    "start_time": "2021-08-26T21:09:01.747Z"
   },
   {
    "duration": 9,
    "start_time": "2021-08-26T21:09:01.769Z"
   },
   {
    "duration": 713,
    "start_time": "2021-08-26T21:09:01.782Z"
   },
   {
    "duration": 486,
    "start_time": "2021-08-26T21:09:02.498Z"
   },
   {
    "duration": 971,
    "start_time": "2021-08-26T21:09:02.986Z"
   },
   {
    "duration": 857,
    "start_time": "2021-08-26T21:09:03.960Z"
   },
   {
    "duration": 597,
    "start_time": "2021-08-26T21:09:04.819Z"
   },
   {
    "duration": 10,
    "start_time": "2021-08-26T21:09:05.420Z"
   },
   {
    "duration": 622,
    "start_time": "2021-08-26T21:09:05.434Z"
   },
   {
    "duration": 9,
    "start_time": "2021-08-26T21:09:06.059Z"
   },
   {
    "duration": 2676,
    "start_time": "2021-08-26T21:09:06.070Z"
   },
   {
    "duration": 711,
    "start_time": "2021-08-26T21:09:08.749Z"
   },
   {
    "duration": 4,
    "start_time": "2021-08-26T21:09:09.462Z"
   },
   {
    "duration": 19,
    "start_time": "2021-08-26T21:09:09.468Z"
   },
   {
    "duration": 23,
    "start_time": "2021-08-26T21:09:09.489Z"
   },
   {
    "duration": 40,
    "start_time": "2021-08-26T21:09:09.514Z"
   },
   {
    "duration": 8,
    "start_time": "2021-08-26T21:09:09.556Z"
   },
   {
    "duration": 11,
    "start_time": "2021-08-26T21:09:09.569Z"
   },
   {
    "duration": 38,
    "start_time": "2021-08-26T21:09:09.583Z"
   },
   {
    "duration": 1262,
    "start_time": "2021-08-26T21:09:09.624Z"
   },
   {
    "duration": 2011,
    "start_time": "2021-08-26T21:09:08.877Z"
   },
   {
    "duration": 2007,
    "start_time": "2021-08-26T21:09:08.883Z"
   },
   {
    "duration": 2004,
    "start_time": "2021-08-26T21:09:08.887Z"
   },
   {
    "duration": 2001,
    "start_time": "2021-08-26T21:09:08.891Z"
   },
   {
    "duration": 2000,
    "start_time": "2021-08-26T21:09:08.894Z"
   },
   {
    "duration": 1997,
    "start_time": "2021-08-26T21:09:08.898Z"
   },
   {
    "duration": 1994,
    "start_time": "2021-08-26T21:09:08.902Z"
   },
   {
    "duration": 1991,
    "start_time": "2021-08-26T21:09:08.906Z"
   },
   {
    "duration": 1990,
    "start_time": "2021-08-26T21:09:08.909Z"
   },
   {
    "duration": 138,
    "start_time": "2021-08-26T21:10:28.590Z"
   },
   {
    "duration": 4,
    "start_time": "2021-08-26T21:10:33.922Z"
   },
   {
    "duration": 5,
    "start_time": "2021-08-26T21:10:36.024Z"
   },
   {
    "duration": 3,
    "start_time": "2021-08-26T21:10:36.887Z"
   },
   {
    "duration": 3879,
    "start_time": "2021-08-26T21:10:55.503Z"
   },
   {
    "duration": 6,
    "start_time": "2021-08-26T21:11:03.270Z"
   },
   {
    "duration": 4,
    "start_time": "2021-08-26T21:11:08.751Z"
   },
   {
    "duration": 22340,
    "start_time": "2021-08-26T21:11:09.585Z"
   },
   {
    "duration": 5,
    "start_time": "2021-08-26T21:11:33.697Z"
   },
   {
    "duration": 4,
    "start_time": "2021-08-26T21:12:05.896Z"
   },
   {
    "duration": 1560,
    "start_time": "2021-08-26T21:17:18.264Z"
   },
   {
    "duration": 48,
    "start_time": "2021-08-26T21:17:19.827Z"
   },
   {
    "duration": 58,
    "start_time": "2021-08-26T21:17:19.878Z"
   },
   {
    "duration": 13,
    "start_time": "2021-08-26T21:17:19.939Z"
   },
   {
    "duration": 22,
    "start_time": "2021-08-26T21:17:19.954Z"
   },
   {
    "duration": 5,
    "start_time": "2021-08-26T21:17:19.978Z"
   },
   {
    "duration": 56,
    "start_time": "2021-08-26T21:17:19.985Z"
   },
   {
    "duration": 611,
    "start_time": "2021-08-26T21:17:20.045Z"
   },
   {
    "duration": 481,
    "start_time": "2021-08-26T21:17:20.658Z"
   },
   {
    "duration": 379,
    "start_time": "2021-08-26T21:17:21.142Z"
   },
   {
    "duration": 1494,
    "start_time": "2021-08-26T21:17:21.523Z"
   },
   {
    "duration": 1124,
    "start_time": "2021-08-26T21:17:23.020Z"
   },
   {
    "duration": 6,
    "start_time": "2021-08-26T21:17:24.146Z"
   },
   {
    "duration": 1300,
    "start_time": "2021-08-26T21:17:24.155Z"
   },
   {
    "duration": 9,
    "start_time": "2021-08-26T21:17:25.457Z"
   },
   {
    "duration": 3532,
    "start_time": "2021-08-26T21:17:25.517Z"
   },
   {
    "duration": 414,
    "start_time": "2021-08-26T21:17:29.051Z"
   },
   {
    "duration": 4,
    "start_time": "2021-08-26T21:17:29.468Z"
   },
   {
    "duration": 11,
    "start_time": "2021-08-26T21:17:29.474Z"
   },
   {
    "duration": 14,
    "start_time": "2021-08-26T21:17:29.487Z"
   },
   {
    "duration": 55,
    "start_time": "2021-08-26T21:17:29.504Z"
   },
   {
    "duration": 8,
    "start_time": "2021-08-26T21:17:29.561Z"
   },
   {
    "duration": 18,
    "start_time": "2021-08-26T21:17:29.574Z"
   },
   {
    "duration": 31,
    "start_time": "2021-08-26T21:17:29.595Z"
   },
   {
    "duration": 98,
    "start_time": "2021-08-26T21:17:29.630Z"
   },
   {
    "duration": 5,
    "start_time": "2021-08-26T21:17:29.732Z"
   },
   {
    "duration": 81,
    "start_time": "2021-08-26T21:17:29.739Z"
   },
   {
    "duration": 10205,
    "start_time": "2021-08-26T21:17:29.825Z"
   },
   {
    "duration": 7,
    "start_time": "2021-08-26T21:17:40.033Z"
   },
   {
    "duration": 12,
    "start_time": "2021-08-26T21:17:40.043Z"
   },
   {
    "duration": 45473,
    "start_time": "2021-08-26T21:17:40.058Z"
   },
   {
    "duration": 5,
    "start_time": "2021-08-26T21:18:25.534Z"
   },
   {
    "duration": 6,
    "start_time": "2021-08-26T21:18:25.542Z"
   },
   {
    "duration": 5,
    "start_time": "2021-08-26T21:18:25.550Z"
   },
   {
    "duration": 6114,
    "start_time": "2021-08-26T21:18:25.621Z"
   },
   {
    "duration": 1604,
    "start_time": "2021-08-26T21:20:05.310Z"
   },
   {
    "duration": 7,
    "start_time": "2021-08-26T21:20:12.776Z"
   },
   {
    "duration": 5,
    "start_time": "2021-08-26T21:20:41.010Z"
   },
   {
    "duration": 6,
    "start_time": "2021-08-26T21:20:47.657Z"
   },
   {
    "duration": 8,
    "start_time": "2021-08-26T21:21:55.138Z"
   },
   {
    "duration": 7,
    "start_time": "2021-08-26T21:22:07.550Z"
   },
   {
    "duration": 7,
    "start_time": "2021-08-26T21:22:19.854Z"
   },
   {
    "duration": 5,
    "start_time": "2021-08-26T21:22:42.107Z"
   },
   {
    "duration": 5,
    "start_time": "2021-08-26T21:23:34.859Z"
   },
   {
    "duration": 7,
    "start_time": "2021-08-26T21:23:54.968Z"
   },
   {
    "duration": 14,
    "start_time": "2021-08-26T21:29:03.147Z"
   },
   {
    "duration": 134,
    "start_time": "2021-08-26T22:04:04.216Z"
   },
   {
    "duration": 1381,
    "start_time": "2021-08-26T22:04:28.836Z"
   },
   {
    "duration": 1630,
    "start_time": "2021-08-26T22:05:07.861Z"
   },
   {
    "duration": 1755,
    "start_time": "2021-08-26T22:05:24.566Z"
   },
   {
    "duration": 1556,
    "start_time": "2021-08-26T22:07:25.961Z"
   },
   {
    "duration": 1491,
    "start_time": "2021-08-26T22:07:34.769Z"
   },
   {
    "duration": 1573,
    "start_time": "2021-08-26T22:07:45.064Z"
   },
   {
    "duration": 1403,
    "start_time": "2021-08-26T22:07:55.264Z"
   },
   {
    "duration": 1397,
    "start_time": "2021-08-26T22:08:12.569Z"
   },
   {
    "duration": 2062,
    "start_time": "2021-08-26T22:10:37.110Z"
   },
   {
    "duration": 363,
    "start_time": "2021-08-26T22:42:08.639Z"
   },
   {
    "duration": 381,
    "start_time": "2021-08-26T22:44:35.297Z"
   },
   {
    "duration": 460,
    "start_time": "2021-08-26T22:44:52.152Z"
   },
   {
    "duration": 342,
    "start_time": "2021-08-26T22:45:44.498Z"
   },
   {
    "duration": 314,
    "start_time": "2021-08-26T22:46:01.234Z"
   },
   {
    "duration": 326,
    "start_time": "2021-08-26T22:46:04.059Z"
   },
   {
    "duration": 1489,
    "start_time": "2021-08-27T07:09:37.498Z"
   },
   {
    "duration": 117,
    "start_time": "2021-08-27T07:09:38.989Z"
   },
   {
    "duration": 10,
    "start_time": "2021-08-27T07:09:39.110Z"
   },
   {
    "duration": 38,
    "start_time": "2021-08-27T07:09:39.123Z"
   },
   {
    "duration": 636,
    "start_time": "2021-08-27T07:09:39.164Z"
   },
   {
    "duration": 2638,
    "start_time": "2021-08-27T07:09:39.802Z"
   },
   {
    "duration": 18,
    "start_time": "2021-08-27T07:09:42.443Z"
   },
   {
    "duration": 2046,
    "start_time": "2021-08-27T07:09:42.465Z"
   },
   {
    "duration": 346,
    "start_time": "2021-08-27T07:09:44.515Z"
   },
   {
    "duration": 351,
    "start_time": "2021-08-27T07:09:44.864Z"
   },
   {
    "duration": 693,
    "start_time": "2021-08-27T07:09:45.217Z"
   },
   {
    "duration": 549,
    "start_time": "2021-08-27T07:09:45.913Z"
   },
   {
    "duration": 576,
    "start_time": "2021-08-27T07:09:46.465Z"
   },
   {
    "duration": 12,
    "start_time": "2021-08-27T07:09:47.044Z"
   },
   {
    "duration": 8,
    "start_time": "2021-08-27T07:09:47.059Z"
   },
   {
    "duration": 8,
    "start_time": "2021-08-27T07:09:47.069Z"
   },
   {
    "duration": 47,
    "start_time": "2021-08-27T07:09:47.079Z"
   },
   {
    "duration": 7,
    "start_time": "2021-08-27T07:09:47.129Z"
   },
   {
    "duration": 7,
    "start_time": "2021-08-27T07:09:47.154Z"
   },
   {
    "duration": 16,
    "start_time": "2021-08-27T07:09:47.164Z"
   },
   {
    "duration": 85,
    "start_time": "2021-08-27T07:09:47.182Z"
   },
   {
    "duration": 4,
    "start_time": "2021-08-27T07:09:47.270Z"
   },
   {
    "duration": 5957,
    "start_time": "2021-08-27T07:09:47.278Z"
   },
   {
    "duration": 5,
    "start_time": "2021-08-27T07:09:53.238Z"
   },
   {
    "duration": 5,
    "start_time": "2021-08-27T07:09:53.255Z"
   },
   {
    "duration": 21697,
    "start_time": "2021-08-27T07:09:53.263Z"
   },
   {
    "duration": 5,
    "start_time": "2021-08-27T07:10:14.962Z"
   },
   {
    "duration": 12,
    "start_time": "2021-08-27T07:10:14.969Z"
   },
   {
    "duration": 1683,
    "start_time": "2021-08-27T07:10:14.984Z"
   },
   {
    "duration": 402,
    "start_time": "2021-08-27T07:10:16.669Z"
   },
   {
    "duration": 5,
    "start_time": "2021-08-27T07:14:22.947Z"
   },
   {
    "duration": 6,
    "start_time": "2021-08-27T07:14:23.766Z"
   },
   {
    "duration": 13,
    "start_time": "2021-08-27T07:15:59.904Z"
   },
   {
    "duration": 1489,
    "start_time": "2021-08-27T07:32:18.057Z"
   },
   {
    "duration": 76,
    "start_time": "2021-08-27T07:32:19.549Z"
   },
   {
    "duration": 8,
    "start_time": "2021-08-27T07:32:19.628Z"
   },
   {
    "duration": 27,
    "start_time": "2021-08-27T07:32:19.639Z"
   },
   {
    "duration": 607,
    "start_time": "2021-08-27T07:32:19.669Z"
   },
   {
    "duration": 1507,
    "start_time": "2021-08-27T07:32:20.278Z"
   },
   {
    "duration": 9,
    "start_time": "2021-08-27T07:32:21.787Z"
   },
   {
    "duration": 2178,
    "start_time": "2021-08-27T07:32:21.800Z"
   },
   {
    "duration": 378,
    "start_time": "2021-08-27T07:32:23.982Z"
   },
   {
    "duration": 358,
    "start_time": "2021-08-27T07:32:24.362Z"
   },
   {
    "duration": 746,
    "start_time": "2021-08-27T07:32:24.722Z"
   },
   {
    "duration": 561,
    "start_time": "2021-08-27T07:32:25.470Z"
   },
   {
    "duration": 605,
    "start_time": "2021-08-27T07:32:26.033Z"
   },
   {
    "duration": 4,
    "start_time": "2021-08-27T07:32:26.640Z"
   },
   {
    "duration": 12,
    "start_time": "2021-08-27T07:32:26.655Z"
   },
   {
    "duration": 13,
    "start_time": "2021-08-27T07:32:26.669Z"
   },
   {
    "duration": 46,
    "start_time": "2021-08-27T07:32:26.685Z"
   },
   {
    "duration": 8,
    "start_time": "2021-08-27T07:32:26.733Z"
   },
   {
    "duration": 20,
    "start_time": "2021-08-27T07:32:26.743Z"
   },
   {
    "duration": 10,
    "start_time": "2021-08-27T07:32:26.766Z"
   },
   {
    "duration": 88,
    "start_time": "2021-08-27T07:32:26.779Z"
   },
   {
    "duration": 3,
    "start_time": "2021-08-27T07:32:26.870Z"
   },
   {
    "duration": 7427,
    "start_time": "2021-08-27T07:32:26.878Z"
   },
   {
    "duration": 6,
    "start_time": "2021-08-27T07:32:34.308Z"
   },
   {
    "duration": 15,
    "start_time": "2021-08-27T07:32:34.317Z"
   },
   {
    "duration": 1549,
    "start_time": "2021-08-27T07:40:22.036Z"
   },
   {
    "duration": 53,
    "start_time": "2021-08-27T07:40:23.587Z"
   },
   {
    "duration": 17,
    "start_time": "2021-08-27T07:40:23.643Z"
   },
   {
    "duration": 32,
    "start_time": "2021-08-27T07:40:23.664Z"
   },
   {
    "duration": 7,
    "start_time": "2021-08-27T07:40:23.699Z"
   },
   {
    "duration": 20,
    "start_time": "2021-08-27T07:40:23.708Z"
   },
   {
    "duration": 623,
    "start_time": "2021-08-27T07:40:23.731Z"
   },
   {
    "duration": 1944,
    "start_time": "2021-08-27T07:40:24.359Z"
   },
   {
    "duration": 10,
    "start_time": "2021-08-27T07:40:26.307Z"
   },
   {
    "duration": 2610,
    "start_time": "2021-08-27T07:40:26.319Z"
   },
   {
    "duration": 357,
    "start_time": "2021-08-27T07:40:28.932Z"
   },
   {
    "duration": 358,
    "start_time": "2021-08-27T07:40:29.292Z"
   },
   {
    "duration": 727,
    "start_time": "2021-08-27T07:40:29.655Z"
   },
   {
    "duration": 571,
    "start_time": "2021-08-27T07:40:30.385Z"
   },
   {
    "duration": 604,
    "start_time": "2021-08-27T07:40:30.958Z"
   },
   {
    "duration": 3,
    "start_time": "2021-08-27T07:40:31.565Z"
   },
   {
    "duration": 12,
    "start_time": "2021-08-27T07:40:31.571Z"
   },
   {
    "duration": 20,
    "start_time": "2021-08-27T07:40:31.585Z"
   },
   {
    "duration": 50,
    "start_time": "2021-08-27T07:40:31.607Z"
   },
   {
    "duration": 8,
    "start_time": "2021-08-27T07:40:31.659Z"
   },
   {
    "duration": 23,
    "start_time": "2021-08-27T07:40:31.669Z"
   },
   {
    "duration": 12,
    "start_time": "2021-08-27T07:40:31.694Z"
   },
   {
    "duration": 59,
    "start_time": "2021-08-27T07:40:31.711Z"
   },
   {
    "duration": 4,
    "start_time": "2021-08-27T07:40:31.773Z"
   },
   {
    "duration": 7502,
    "start_time": "2021-08-27T07:40:31.779Z"
   },
   {
    "duration": 6,
    "start_time": "2021-08-27T07:40:39.283Z"
   },
   {
    "duration": 7,
    "start_time": "2021-08-27T07:40:39.292Z"
   },
   {
    "duration": 407055,
    "start_time": "2021-08-27T07:40:39.302Z"
   },
   {
    "duration": 7,
    "start_time": "2021-08-27T07:47:26.360Z"
   },
   {
    "duration": 4400,
    "start_time": "2021-08-27T07:47:26.370Z"
   },
   {
    "duration": 8,
    "start_time": "2021-08-27T07:47:30.773Z"
   },
   {
    "duration": 1569,
    "start_time": "2021-08-27T07:52:38.337Z"
   },
   {
    "duration": 61,
    "start_time": "2021-08-27T07:52:39.909Z"
   },
   {
    "duration": 13,
    "start_time": "2021-08-27T07:52:39.973Z"
   },
   {
    "duration": 19,
    "start_time": "2021-08-27T07:52:39.989Z"
   },
   {
    "duration": 7,
    "start_time": "2021-08-27T07:52:40.010Z"
   },
   {
    "duration": 55,
    "start_time": "2021-08-27T07:52:40.019Z"
   },
   {
    "duration": 611,
    "start_time": "2021-08-27T07:52:40.077Z"
   },
   {
    "duration": 1709,
    "start_time": "2021-08-27T07:52:40.691Z"
   },
   {
    "duration": 10,
    "start_time": "2021-08-27T07:52:42.403Z"
   },
   {
    "duration": 2260,
    "start_time": "2021-08-27T07:52:42.415Z"
   },
   {
    "duration": 368,
    "start_time": "2021-08-27T07:52:44.677Z"
   },
   {
    "duration": 367,
    "start_time": "2021-08-27T07:52:45.048Z"
   },
   {
    "duration": 744,
    "start_time": "2021-08-27T07:52:45.417Z"
   },
   {
    "duration": 591,
    "start_time": "2021-08-27T07:52:46.164Z"
   },
   {
    "duration": 618,
    "start_time": "2021-08-27T07:52:46.758Z"
   },
   {
    "duration": 4,
    "start_time": "2021-08-27T07:52:47.379Z"
   },
   {
    "duration": 10,
    "start_time": "2021-08-27T07:52:47.385Z"
   },
   {
    "duration": 7,
    "start_time": "2021-08-27T07:52:47.397Z"
   },
   {
    "duration": 65,
    "start_time": "2021-08-27T07:52:47.407Z"
   },
   {
    "duration": 7,
    "start_time": "2021-08-27T07:52:47.474Z"
   },
   {
    "duration": 11,
    "start_time": "2021-08-27T07:52:47.484Z"
   },
   {
    "duration": 13,
    "start_time": "2021-08-27T07:52:47.497Z"
   },
   {
    "duration": 142,
    "start_time": "2021-08-27T07:52:47.515Z"
   },
   {
    "duration": 5,
    "start_time": "2021-08-27T07:52:47.660Z"
   },
   {
    "duration": 6411,
    "start_time": "2021-08-27T07:52:47.668Z"
   },
   {
    "duration": 6,
    "start_time": "2021-08-27T07:52:54.081Z"
   },
   {
    "duration": 6,
    "start_time": "2021-08-27T07:52:54.090Z"
   },
   {
    "duration": 43157,
    "start_time": "2021-08-27T07:52:54.099Z"
   },
   {
    "duration": 9,
    "start_time": "2021-08-27T07:53:37.260Z"
   },
   {
    "duration": 4091,
    "start_time": "2021-08-27T07:53:37.272Z"
   },
   {
    "duration": 10,
    "start_time": "2021-08-27T07:53:41.366Z"
   }
  ],
  "kernelspec": {
   "display_name": "Python 3",
   "language": "python",
   "name": "python3"
  },
  "language_info": {
   "codemirror_mode": {
    "name": "ipython",
    "version": 3
   },
   "file_extension": ".py",
   "mimetype": "text/x-python",
   "name": "python",
   "nbconvert_exporter": "python",
   "pygments_lexer": "ipython3",
   "version": "3.7.8"
  },
  "toc": {
   "base_numbering": 1,
   "nav_menu": {},
   "number_sections": true,
   "sideBar": true,
   "skip_h1_title": true,
   "title_cell": "Содержание",
   "title_sidebar": "Содержание",
   "toc_cell": true,
   "toc_position": {
    "height": "calc(100% - 180px)",
    "left": "10px",
    "top": "150px",
    "width": "320px"
   },
   "toc_section_display": true,
   "toc_window_display": false
  }
 },
 "nbformat": 4,
 "nbformat_minor": 2
}
