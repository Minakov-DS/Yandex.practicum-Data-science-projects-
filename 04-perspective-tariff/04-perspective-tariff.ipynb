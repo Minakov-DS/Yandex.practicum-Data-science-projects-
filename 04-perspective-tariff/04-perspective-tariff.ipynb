{
 "cells": [
  {
   "cell_type": "markdown",
   "metadata": {
    "toc": true
   },
   "source": [
    "<h1>Содержание<span class=\"tocSkip\"></span></h1>\n",
    "<div class=\"toc\"><ul class=\"toc-item\"><li><span><a href=\"#Ознакомление-с-исходными-данными\" data-toc-modified-id=\"Ознакомление-с-исходными-данными-1\"><span class=\"toc-item-num\">1&nbsp;&nbsp;</span>Ознакомление с исходными данными</a></span><ul class=\"toc-item\"><li><span><a href=\"#Датасет-&quot;users&quot;\" data-toc-modified-id=\"Датасет-&quot;users&quot;-1.1\"><span class=\"toc-item-num\">1.1&nbsp;&nbsp;</span>Датасет \"users\"</a></span></li><li><span><a href=\"#Датасет-&quot;calls&quot;\" data-toc-modified-id=\"Датасет-&quot;calls&quot;-1.2\"><span class=\"toc-item-num\">1.2&nbsp;&nbsp;</span>Датасет \"calls\"</a></span></li><li><span><a href=\"#Датасет-&quot;messages&quot;\" data-toc-modified-id=\"Датасет-&quot;messages&quot;-1.3\"><span class=\"toc-item-num\">1.3&nbsp;&nbsp;</span>Датасет \"messages\"</a></span></li><li><span><a href=\"#Датасет-&quot;internet&quot;\" data-toc-modified-id=\"Датасет-&quot;internet&quot;-1.4\"><span class=\"toc-item-num\">1.4&nbsp;&nbsp;</span>Датасет \"internet\"</a></span></li><li><span><a href=\"#Датасет-&quot;tariffs&quot;\" data-toc-modified-id=\"Датасет-&quot;tariffs&quot;-1.5\"><span class=\"toc-item-num\">1.5&nbsp;&nbsp;</span>Датасет \"tariffs\"</a></span></li><li><span><a href=\"#Выводы\" data-toc-modified-id=\"Выводы-1.6\"><span class=\"toc-item-num\">1.6&nbsp;&nbsp;</span>Выводы</a></span></li></ul></li><li><span><a href=\"#Предобработка-исходных-данных\" data-toc-modified-id=\"Предобработка-исходных-данных-2\"><span class=\"toc-item-num\">2&nbsp;&nbsp;</span>Предобработка исходных данных</a></span><ul class=\"toc-item\"><li><span><a href=\"#Датасет-&quot;users&quot;\" data-toc-modified-id=\"Датасет-&quot;users&quot;-2.1\"><span class=\"toc-item-num\">2.1&nbsp;&nbsp;</span>Датасет \"users\"</a></span></li><li><span><a href=\"#Датасет-&quot;calls&quot;\" data-toc-modified-id=\"Датасет-&quot;calls&quot;-2.2\"><span class=\"toc-item-num\">2.2&nbsp;&nbsp;</span>Датасет \"calls\"</a></span></li><li><span><a href=\"#Датасет-&quot;messages&quot;\" data-toc-modified-id=\"Датасет-&quot;messages&quot;-2.3\"><span class=\"toc-item-num\">2.3&nbsp;&nbsp;</span>Датасет \"messages\"</a></span></li><li><span><a href=\"#Датасет-&quot;internet&quot;\" data-toc-modified-id=\"Датасет-&quot;internet&quot;-2.4\"><span class=\"toc-item-num\">2.4&nbsp;&nbsp;</span>Датасет \"internet\"</a></span></li><li><span><a href=\"#Выводы\" data-toc-modified-id=\"Выводы-2.5\"><span class=\"toc-item-num\">2.5&nbsp;&nbsp;</span>Выводы</a></span></li></ul></li><li><span><a href=\"#Расчеты-дополнительных-параметров\" data-toc-modified-id=\"Расчеты-дополнительных-параметров-3\"><span class=\"toc-item-num\">3&nbsp;&nbsp;</span>Расчеты дополнительных параметров</a></span><ul class=\"toc-item\"><li><span><a href=\"#Количество-сделанных-звонков-и-израсходованных-минут-разговора-по-месяцам\" data-toc-modified-id=\"Количество-сделанных-звонков-и-израсходованных-минут-разговора-по-месяцам-3.1\"><span class=\"toc-item-num\">3.1&nbsp;&nbsp;</span>Количество сделанных звонков и израсходованных минут разговора по месяцам</a></span></li><li><span><a href=\"#Количество-отправленных-сообщений-по-месяцам\" data-toc-modified-id=\"Количество-отправленных-сообщений-по-месяцам-3.2\"><span class=\"toc-item-num\">3.2&nbsp;&nbsp;</span>Количество отправленных сообщений по месяцам</a></span></li><li><span><a href=\"#Объем-израсходованного-интернет-трафика-по-месяцам\" data-toc-modified-id=\"Объем-израсходованного-интернет-трафика-по-месяцам-3.3\"><span class=\"toc-item-num\">3.3&nbsp;&nbsp;</span>Объем израсходованного интернет-трафика по месяцам</a></span></li><li><span><a href=\"#Помесячная-выручка-с-каждого-пользователя\" data-toc-modified-id=\"Помесячная-выручка-с-каждого-пользователя-3.4\"><span class=\"toc-item-num\">3.4&nbsp;&nbsp;</span>Помесячная выручка с каждого пользователя</a></span></li><li><span><a href=\"#Выводы\" data-toc-modified-id=\"Выводы-3.5\"><span class=\"toc-item-num\">3.5&nbsp;&nbsp;</span>Выводы</a></span></li></ul></li><li><span><a href=\"#Анализ-данных\" data-toc-modified-id=\"Анализ-данных-4\"><span class=\"toc-item-num\">4&nbsp;&nbsp;</span>Анализ данных</a></span><ul class=\"toc-item\"><li><span><a href=\"#Расчет-количества-минут-разговора,-сообщений-и-объёма-интернет-трафика-требуемого-пользователям-каждого-тарифа-в-месяц\" data-toc-modified-id=\"Расчет-количества-минут-разговора,-сообщений-и-объёма-интернет-трафика-требуемого-пользователям-каждого-тарифа-в-месяц-4.1\"><span class=\"toc-item-num\">4.1&nbsp;&nbsp;</span>Расчет количества минут разговора, сообщений и объёма интернет-трафика требуемого пользователям каждого тарифа в месяц</a></span></li><li><span><a href=\"#Расчеты-среднего,-дисперсии-и-стандартного-отклонения\" data-toc-modified-id=\"Расчеты-среднего,-дисперсии-и-стандартного-отклонения-4.2\"><span class=\"toc-item-num\">4.2&nbsp;&nbsp;</span>Расчеты среднего, дисперсии и стандартного отклонения</a></span></li><li><span><a href=\"#Расчет-суммарных-показателей-за-год\" data-toc-modified-id=\"Расчет-суммарных-показателей-за-год-4.3\"><span class=\"toc-item-num\">4.3&nbsp;&nbsp;</span>Расчет суммарных показателей за год</a></span></li><li><span><a href=\"#Выводы\" data-toc-modified-id=\"Выводы-4.4\"><span class=\"toc-item-num\">4.4&nbsp;&nbsp;</span>Выводы</a></span></li></ul></li><li><span><a href=\"#Проверка-гипотез\" data-toc-modified-id=\"Проверка-гипотез-5\"><span class=\"toc-item-num\">5&nbsp;&nbsp;</span>Проверка гипотез</a></span><ul class=\"toc-item\"><li><span><a href=\"#Проверка-гипотезы-№1:-средняя-выручка-в-месяц-на-одного-пользователя-для-тарифов-«Ультра»-и-«Смарт»-различается\" data-toc-modified-id=\"Проверка-гипотезы-№1:-средняя-выручка-в-месяц-на-одного-пользователя-для-тарифов-«Ультра»-и-«Смарт»-различается-5.1\"><span class=\"toc-item-num\">5.1&nbsp;&nbsp;</span>Проверка гипотезы №1: средняя выручка в месяц на одного пользователя для тарифов «Ультра» и «Смарт» различается</a></span></li><li><span><a href=\"#Проверка-гипотезы-№2:-средняя-выручка-в-месяц-на-одного-пользователя-для-Москвы-и-других-регионов-различается\" data-toc-modified-id=\"Проверка-гипотезы-№2:-средняя-выручка-в-месяц-на-одного-пользователя-для-Москвы-и-других-регионов-различается-5.2\"><span class=\"toc-item-num\">5.2&nbsp;&nbsp;</span>Проверка гипотезы №2: средняя выручка в месяц на одного пользователя для Москвы и других регионов различается</a></span></li><li><span><a href=\"#Выводы\" data-toc-modified-id=\"Выводы-5.3\"><span class=\"toc-item-num\">5.3&nbsp;&nbsp;</span>Выводы</a></span></li></ul></li><li><span><a href=\"#Общий-вывод\" data-toc-modified-id=\"Общий-вывод-6\"><span class=\"toc-item-num\">6&nbsp;&nbsp;</span>Общий вывод</a></span></li></ul></div>"
   ]
  },
  {
   "cell_type": "markdown",
   "metadata": {},
   "source": [
    "# Определение перспективного тарифа для телеком компании"
   ]
  },
  {
   "cell_type": "markdown",
   "metadata": {},
   "source": [
    "**Цель исследования**: определить наиболее перспективный тарифный план для оператора сотовой связи. Всего имеется два тарифных плана: «Смарт» и «Ультра».\n",
    "\n",
    "Исходные данные: информация о поведении 500 пользователей «Мегалайна».\n",
    "\n",
    "Результаты исследования необходимы для коммерческого департамента с целью корректировки рекламного бюджета.\n",
    "\n",
    "\n",
    "**Описание тарифов**\n",
    "**Тариф \"Смарт\"**\n",
    "1.\tЕжемесячная плата: 550 рублей\n",
    "2.\tВключено 500 минут разговора, 50 сообщений и 15 Гб интернет-трафика\n",
    "3.\tСтоимость услуг сверх тарифного пакета:\n",
    "* минута разговора: 3 рубля\n",
    "* сообщение: 3 рубля\n",
    "* 1 Гб интернет-трафика: 200 рублей\n",
    "\n",
    "**Тариф \"Ультра\"**\n",
    "1.\tЕжемесячная плата: 1950 рублей\n",
    "2.\tВключено 3000 минут разговора, 1000 сообщений и 30 Гб интернет-трафика\n",
    "3.\tСтоимость услуг сверх тарифного пакета:\n",
    "* минута разговора: 1 рубль\n",
    "* сообщение: 1 рубль\n",
    "* 1 Гб интернет-трафика: 150 рублей\n",
    "\n",
    "**Обратите внимание:** «Мегалайн» всегда округляет вверх значения минут и мегабайтов. Если пользователь проговорил всего 1 секунду, в тарифе засчитывается целая минута.\n",
    "\n",
    "**Описание данных**\n",
    "\n",
    "**Таблица users (информация о пользователях):**\n",
    "* user_id — уникальный идентификатор пользователя\n",
    "* first_name — имя пользователя\n",
    "* last_name — фамилия пользователя\n",
    "* age — возраст пользователя (годы)\n",
    "* reg_date — дата подключения тарифа (день, месяц, год)\n",
    "* churn_date — дата прекращения пользования тарифом (если значение пропущено, то тариф ещё действовал на момент выгрузки данных)\n",
    "* city — город проживания пользователя\n",
    "* tariff — название тарифного плана\n",
    "\n",
    "**Таблица calls (информация о звонках):**\n",
    "* id — уникальный номер звонка\n",
    "* call_date — дата звонка\n",
    "* duration — длительность звонка в минутах\n",
    "* user_id — идентификатор пользователя, сделавшего звонок\n",
    "\n",
    "**Таблица messages (информация о сообщениях):**\n",
    "* id — уникальный номер сообщения\n",
    "* message_date — дата сообщения\n",
    "* user_id — идентификатор пользователя, отправившего сообщение\n",
    "\n",
    "**Таблица internet (информация об интернет-сессиях):**\n",
    "* id — уникальный номер сессии\n",
    "* mb_used — объём потраченного за сессию интернет-трафика (в мегабайтах)\n",
    "* session_date — дата интернет-сессии\n",
    "* user_id — идентификатор пользователя\n",
    "\n",
    "**Таблица tariffs (информация о тарифах):**\n",
    "* tariff_name — название тарифа\n",
    "* rub_monthly_fee — ежемесячная абонентская плата в рублях\n",
    "* minutes_included — количество минут разговора в месяц, включённых в абонентскую плату\n",
    "* messages_included — количество сообщений в месяц, включённых в абонентскую плату\n",
    "* mb_per_month_included — объём интернет-трафика, включённого в абонентскую плату (в мегабайтах)\n",
    "* rub_per_minute — стоимость минуты разговора сверх тарифного пакета (например, если в тарифе 100 минут разговора в месяц, то со 101 минуты будет взиматься плата)\n",
    "* rub_per_message — стоимость отправки сообщения сверх тарифного пакета\n",
    "* rub_per_gb — стоимость дополнительного гигабайта интернет-трафика сверх тарифного пакета (1 гигабайт = 1024 мегабайта)\n"
   ]
  },
  {
   "cell_type": "markdown",
   "metadata": {},
   "source": [
    "## Ознакомление с исходными данными"
   ]
  },
  {
   "cell_type": "code",
   "execution_count": 1,
   "metadata": {},
   "outputs": [],
   "source": [
    "# подгружаем необходимые библиотеки\n",
    "import pandas as pd\n",
    "from matplotlib import pyplot as plt\n",
    "import numpy as np\n",
    "from scipy import stats as st"
   ]
  },
  {
   "cell_type": "code",
   "execution_count": 2,
   "metadata": {
    "scrolled": true
   },
   "outputs": [],
   "source": [
    "# прочтем файлы с исходными данными\n",
    "users = pd.read_csv(\"/datasets/users.csv\")\n",
    "calls = pd.read_csv(\"/datasets/calls.csv\")\n",
    "messages = pd.read_csv(\"/datasets/messages.csv\")\n",
    "internet = pd.read_csv(\"/datasets/internet.csv\")\n",
    "tariffs = pd.read_csv(\"/datasets/tariffs.csv\")"
   ]
  },
  {
   "cell_type": "markdown",
   "metadata": {},
   "source": [
    "Ознакомимся с исходными датасетами по отдельности"
   ]
  },
  {
   "cell_type": "markdown",
   "metadata": {},
   "source": [
    "### Датасет \"users\""
   ]
  },
  {
   "cell_type": "code",
   "execution_count": 3,
   "metadata": {
    "scrolled": true
   },
   "outputs": [
    {
     "name": "stdout",
     "output_type": "stream",
     "text": [
      "<class 'pandas.core.frame.DataFrame'>\n",
      "RangeIndex: 500 entries, 0 to 499\n",
      "Data columns (total 8 columns):\n",
      "user_id       500 non-null int64\n",
      "age           500 non-null int64\n",
      "churn_date    38 non-null object\n",
      "city          500 non-null object\n",
      "first_name    500 non-null object\n",
      "last_name     500 non-null object\n",
      "reg_date      500 non-null object\n",
      "tariff        500 non-null object\n",
      "dtypes: int64(2), object(6)\n",
      "memory usage: 31.4+ KB\n"
     ]
    },
    {
     "data": {
      "text/html": [
       "<div>\n",
       "<style scoped>\n",
       "    .dataframe tbody tr th:only-of-type {\n",
       "        vertical-align: middle;\n",
       "    }\n",
       "\n",
       "    .dataframe tbody tr th {\n",
       "        vertical-align: top;\n",
       "    }\n",
       "\n",
       "    .dataframe thead th {\n",
       "        text-align: right;\n",
       "    }\n",
       "</style>\n",
       "<table border=\"1\" class=\"dataframe\">\n",
       "  <thead>\n",
       "    <tr style=\"text-align: right;\">\n",
       "      <th></th>\n",
       "      <th>user_id</th>\n",
       "      <th>age</th>\n",
       "      <th>churn_date</th>\n",
       "      <th>city</th>\n",
       "      <th>first_name</th>\n",
       "      <th>last_name</th>\n",
       "      <th>reg_date</th>\n",
       "      <th>tariff</th>\n",
       "    </tr>\n",
       "  </thead>\n",
       "  <tbody>\n",
       "    <tr>\n",
       "      <td>0</td>\n",
       "      <td>1000</td>\n",
       "      <td>52</td>\n",
       "      <td>NaN</td>\n",
       "      <td>Краснодар</td>\n",
       "      <td>Рафаил</td>\n",
       "      <td>Верещагин</td>\n",
       "      <td>2018-05-25</td>\n",
       "      <td>ultra</td>\n",
       "    </tr>\n",
       "    <tr>\n",
       "      <td>1</td>\n",
       "      <td>1001</td>\n",
       "      <td>41</td>\n",
       "      <td>NaN</td>\n",
       "      <td>Москва</td>\n",
       "      <td>Иван</td>\n",
       "      <td>Ежов</td>\n",
       "      <td>2018-11-01</td>\n",
       "      <td>smart</td>\n",
       "    </tr>\n",
       "    <tr>\n",
       "      <td>2</td>\n",
       "      <td>1002</td>\n",
       "      <td>59</td>\n",
       "      <td>NaN</td>\n",
       "      <td>Стерлитамак</td>\n",
       "      <td>Евгений</td>\n",
       "      <td>Абрамович</td>\n",
       "      <td>2018-06-17</td>\n",
       "      <td>smart</td>\n",
       "    </tr>\n",
       "    <tr>\n",
       "      <td>3</td>\n",
       "      <td>1003</td>\n",
       "      <td>23</td>\n",
       "      <td>NaN</td>\n",
       "      <td>Москва</td>\n",
       "      <td>Белла</td>\n",
       "      <td>Белякова</td>\n",
       "      <td>2018-08-17</td>\n",
       "      <td>ultra</td>\n",
       "    </tr>\n",
       "    <tr>\n",
       "      <td>4</td>\n",
       "      <td>1004</td>\n",
       "      <td>68</td>\n",
       "      <td>NaN</td>\n",
       "      <td>Новокузнецк</td>\n",
       "      <td>Татьяна</td>\n",
       "      <td>Авдеенко</td>\n",
       "      <td>2018-05-14</td>\n",
       "      <td>ultra</td>\n",
       "    </tr>\n",
       "  </tbody>\n",
       "</table>\n",
       "</div>"
      ],
      "text/plain": [
       "   user_id  age churn_date         city first_name  last_name    reg_date  \\\n",
       "0     1000   52        NaN    Краснодар     Рафаил  Верещагин  2018-05-25   \n",
       "1     1001   41        NaN       Москва       Иван       Ежов  2018-11-01   \n",
       "2     1002   59        NaN  Стерлитамак    Евгений  Абрамович  2018-06-17   \n",
       "3     1003   23        NaN       Москва      Белла   Белякова  2018-08-17   \n",
       "4     1004   68        NaN  Новокузнецк    Татьяна   Авдеенко  2018-05-14   \n",
       "\n",
       "  tariff  \n",
       "0  ultra  \n",
       "1  smart  \n",
       "2  smart  \n",
       "3  ultra  \n",
       "4  ultra  "
      ]
     },
     "execution_count": 3,
     "metadata": {},
     "output_type": "execute_result"
    }
   ],
   "source": [
    "# выведем основную информацию о датасете \"users\"\n",
    "users.info()\n",
    "# выведем первые пять строк датасета \"users\"\n",
    "users.head()"
   ]
  },
  {
   "cell_type": "markdown",
   "metadata": {},
   "source": [
    "### Датасет \"calls\""
   ]
  },
  {
   "cell_type": "code",
   "execution_count": 4,
   "metadata": {
    "scrolled": true
   },
   "outputs": [
    {
     "name": "stdout",
     "output_type": "stream",
     "text": [
      "<class 'pandas.core.frame.DataFrame'>\n",
      "RangeIndex: 202607 entries, 0 to 202606\n",
      "Data columns (total 4 columns):\n",
      "id           202607 non-null object\n",
      "call_date    202607 non-null object\n",
      "duration     202607 non-null float64\n",
      "user_id      202607 non-null int64\n",
      "dtypes: float64(1), int64(1), object(2)\n",
      "memory usage: 6.2+ MB\n"
     ]
    },
    {
     "data": {
      "text/html": [
       "<div>\n",
       "<style scoped>\n",
       "    .dataframe tbody tr th:only-of-type {\n",
       "        vertical-align: middle;\n",
       "    }\n",
       "\n",
       "    .dataframe tbody tr th {\n",
       "        vertical-align: top;\n",
       "    }\n",
       "\n",
       "    .dataframe thead th {\n",
       "        text-align: right;\n",
       "    }\n",
       "</style>\n",
       "<table border=\"1\" class=\"dataframe\">\n",
       "  <thead>\n",
       "    <tr style=\"text-align: right;\">\n",
       "      <th></th>\n",
       "      <th>id</th>\n",
       "      <th>call_date</th>\n",
       "      <th>duration</th>\n",
       "      <th>user_id</th>\n",
       "    </tr>\n",
       "  </thead>\n",
       "  <tbody>\n",
       "    <tr>\n",
       "      <td>0</td>\n",
       "      <td>1000_0</td>\n",
       "      <td>2018-07-25</td>\n",
       "      <td>0.00</td>\n",
       "      <td>1000</td>\n",
       "    </tr>\n",
       "    <tr>\n",
       "      <td>1</td>\n",
       "      <td>1000_1</td>\n",
       "      <td>2018-08-17</td>\n",
       "      <td>0.00</td>\n",
       "      <td>1000</td>\n",
       "    </tr>\n",
       "    <tr>\n",
       "      <td>2</td>\n",
       "      <td>1000_2</td>\n",
       "      <td>2018-06-11</td>\n",
       "      <td>2.85</td>\n",
       "      <td>1000</td>\n",
       "    </tr>\n",
       "    <tr>\n",
       "      <td>3</td>\n",
       "      <td>1000_3</td>\n",
       "      <td>2018-09-21</td>\n",
       "      <td>13.80</td>\n",
       "      <td>1000</td>\n",
       "    </tr>\n",
       "    <tr>\n",
       "      <td>4</td>\n",
       "      <td>1000_4</td>\n",
       "      <td>2018-12-15</td>\n",
       "      <td>5.18</td>\n",
       "      <td>1000</td>\n",
       "    </tr>\n",
       "  </tbody>\n",
       "</table>\n",
       "</div>"
      ],
      "text/plain": [
       "       id   call_date  duration  user_id\n",
       "0  1000_0  2018-07-25      0.00     1000\n",
       "1  1000_1  2018-08-17      0.00     1000\n",
       "2  1000_2  2018-06-11      2.85     1000\n",
       "3  1000_3  2018-09-21     13.80     1000\n",
       "4  1000_4  2018-12-15      5.18     1000"
      ]
     },
     "execution_count": 4,
     "metadata": {},
     "output_type": "execute_result"
    }
   ],
   "source": [
    "# выведем основную информацию о датасете \"calls\"\n",
    "calls.info()\n",
    "# выведем первые пять строк датасета \"calls\"\n",
    "calls.head()"
   ]
  },
  {
   "cell_type": "markdown",
   "metadata": {},
   "source": [
    "### Датасет \"messages\""
   ]
  },
  {
   "cell_type": "code",
   "execution_count": 5,
   "metadata": {},
   "outputs": [
    {
     "name": "stdout",
     "output_type": "stream",
     "text": [
      "<class 'pandas.core.frame.DataFrame'>\n",
      "RangeIndex: 123036 entries, 0 to 123035\n",
      "Data columns (total 3 columns):\n",
      "id              123036 non-null object\n",
      "message_date    123036 non-null object\n",
      "user_id         123036 non-null int64\n",
      "dtypes: int64(1), object(2)\n",
      "memory usage: 2.8+ MB\n"
     ]
    },
    {
     "data": {
      "text/html": [
       "<div>\n",
       "<style scoped>\n",
       "    .dataframe tbody tr th:only-of-type {\n",
       "        vertical-align: middle;\n",
       "    }\n",
       "\n",
       "    .dataframe tbody tr th {\n",
       "        vertical-align: top;\n",
       "    }\n",
       "\n",
       "    .dataframe thead th {\n",
       "        text-align: right;\n",
       "    }\n",
       "</style>\n",
       "<table border=\"1\" class=\"dataframe\">\n",
       "  <thead>\n",
       "    <tr style=\"text-align: right;\">\n",
       "      <th></th>\n",
       "      <th>id</th>\n",
       "      <th>message_date</th>\n",
       "      <th>user_id</th>\n",
       "    </tr>\n",
       "  </thead>\n",
       "  <tbody>\n",
       "    <tr>\n",
       "      <td>0</td>\n",
       "      <td>1000_0</td>\n",
       "      <td>2018-06-27</td>\n",
       "      <td>1000</td>\n",
       "    </tr>\n",
       "    <tr>\n",
       "      <td>1</td>\n",
       "      <td>1000_1</td>\n",
       "      <td>2018-10-08</td>\n",
       "      <td>1000</td>\n",
       "    </tr>\n",
       "    <tr>\n",
       "      <td>2</td>\n",
       "      <td>1000_2</td>\n",
       "      <td>2018-08-04</td>\n",
       "      <td>1000</td>\n",
       "    </tr>\n",
       "    <tr>\n",
       "      <td>3</td>\n",
       "      <td>1000_3</td>\n",
       "      <td>2018-06-16</td>\n",
       "      <td>1000</td>\n",
       "    </tr>\n",
       "    <tr>\n",
       "      <td>4</td>\n",
       "      <td>1000_4</td>\n",
       "      <td>2018-12-05</td>\n",
       "      <td>1000</td>\n",
       "    </tr>\n",
       "  </tbody>\n",
       "</table>\n",
       "</div>"
      ],
      "text/plain": [
       "       id message_date  user_id\n",
       "0  1000_0   2018-06-27     1000\n",
       "1  1000_1   2018-10-08     1000\n",
       "2  1000_2   2018-08-04     1000\n",
       "3  1000_3   2018-06-16     1000\n",
       "4  1000_4   2018-12-05     1000"
      ]
     },
     "execution_count": 5,
     "metadata": {},
     "output_type": "execute_result"
    }
   ],
   "source": [
    "# выведем основную информацию о датасете \"messages\"\n",
    "messages.info()\n",
    "# выведем первые пять строк датасета \"messages\"\n",
    "messages.head()"
   ]
  },
  {
   "cell_type": "markdown",
   "metadata": {},
   "source": [
    "### Датасет \"internet\""
   ]
  },
  {
   "cell_type": "code",
   "execution_count": 6,
   "metadata": {},
   "outputs": [
    {
     "name": "stdout",
     "output_type": "stream",
     "text": [
      "<class 'pandas.core.frame.DataFrame'>\n",
      "RangeIndex: 149396 entries, 0 to 149395\n",
      "Data columns (total 5 columns):\n",
      "Unnamed: 0      149396 non-null int64\n",
      "id              149396 non-null object\n",
      "mb_used         149396 non-null float64\n",
      "session_date    149396 non-null object\n",
      "user_id         149396 non-null int64\n",
      "dtypes: float64(1), int64(2), object(2)\n",
      "memory usage: 5.7+ MB\n"
     ]
    },
    {
     "data": {
      "text/html": [
       "<div>\n",
       "<style scoped>\n",
       "    .dataframe tbody tr th:only-of-type {\n",
       "        vertical-align: middle;\n",
       "    }\n",
       "\n",
       "    .dataframe tbody tr th {\n",
       "        vertical-align: top;\n",
       "    }\n",
       "\n",
       "    .dataframe thead th {\n",
       "        text-align: right;\n",
       "    }\n",
       "</style>\n",
       "<table border=\"1\" class=\"dataframe\">\n",
       "  <thead>\n",
       "    <tr style=\"text-align: right;\">\n",
       "      <th></th>\n",
       "      <th>Unnamed: 0</th>\n",
       "      <th>id</th>\n",
       "      <th>mb_used</th>\n",
       "      <th>session_date</th>\n",
       "      <th>user_id</th>\n",
       "    </tr>\n",
       "  </thead>\n",
       "  <tbody>\n",
       "    <tr>\n",
       "      <td>0</td>\n",
       "      <td>0</td>\n",
       "      <td>1000_0</td>\n",
       "      <td>112.95</td>\n",
       "      <td>2018-11-25</td>\n",
       "      <td>1000</td>\n",
       "    </tr>\n",
       "    <tr>\n",
       "      <td>1</td>\n",
       "      <td>1</td>\n",
       "      <td>1000_1</td>\n",
       "      <td>1052.81</td>\n",
       "      <td>2018-09-07</td>\n",
       "      <td>1000</td>\n",
       "    </tr>\n",
       "    <tr>\n",
       "      <td>2</td>\n",
       "      <td>2</td>\n",
       "      <td>1000_2</td>\n",
       "      <td>1197.26</td>\n",
       "      <td>2018-06-25</td>\n",
       "      <td>1000</td>\n",
       "    </tr>\n",
       "    <tr>\n",
       "      <td>3</td>\n",
       "      <td>3</td>\n",
       "      <td>1000_3</td>\n",
       "      <td>550.27</td>\n",
       "      <td>2018-08-22</td>\n",
       "      <td>1000</td>\n",
       "    </tr>\n",
       "    <tr>\n",
       "      <td>4</td>\n",
       "      <td>4</td>\n",
       "      <td>1000_4</td>\n",
       "      <td>302.56</td>\n",
       "      <td>2018-09-24</td>\n",
       "      <td>1000</td>\n",
       "    </tr>\n",
       "  </tbody>\n",
       "</table>\n",
       "</div>"
      ],
      "text/plain": [
       "   Unnamed: 0      id  mb_used session_date  user_id\n",
       "0           0  1000_0   112.95   2018-11-25     1000\n",
       "1           1  1000_1  1052.81   2018-09-07     1000\n",
       "2           2  1000_2  1197.26   2018-06-25     1000\n",
       "3           3  1000_3   550.27   2018-08-22     1000\n",
       "4           4  1000_4   302.56   2018-09-24     1000"
      ]
     },
     "execution_count": 6,
     "metadata": {},
     "output_type": "execute_result"
    }
   ],
   "source": [
    "# выведем основную информацию о датасете \"internet\"\n",
    "internet.info()\n",
    "# выведем первые пять строк датасета \"internet\"\n",
    "internet.head()"
   ]
  },
  {
   "cell_type": "markdown",
   "metadata": {},
   "source": [
    "### Датасет \"tariffs\""
   ]
  },
  {
   "cell_type": "code",
   "execution_count": 7,
   "metadata": {
    "scrolled": false
   },
   "outputs": [
    {
     "name": "stdout",
     "output_type": "stream",
     "text": [
      "<class 'pandas.core.frame.DataFrame'>\n",
      "RangeIndex: 2 entries, 0 to 1\n",
      "Data columns (total 8 columns):\n",
      "messages_included        2 non-null int64\n",
      "mb_per_month_included    2 non-null int64\n",
      "minutes_included         2 non-null int64\n",
      "rub_monthly_fee          2 non-null int64\n",
      "rub_per_gb               2 non-null int64\n",
      "rub_per_message          2 non-null int64\n",
      "rub_per_minute           2 non-null int64\n",
      "tariff_name              2 non-null object\n",
      "dtypes: int64(7), object(1)\n",
      "memory usage: 256.0+ bytes\n"
     ]
    },
    {
     "data": {
      "text/html": [
       "<div>\n",
       "<style scoped>\n",
       "    .dataframe tbody tr th:only-of-type {\n",
       "        vertical-align: middle;\n",
       "    }\n",
       "\n",
       "    .dataframe tbody tr th {\n",
       "        vertical-align: top;\n",
       "    }\n",
       "\n",
       "    .dataframe thead th {\n",
       "        text-align: right;\n",
       "    }\n",
       "</style>\n",
       "<table border=\"1\" class=\"dataframe\">\n",
       "  <thead>\n",
       "    <tr style=\"text-align: right;\">\n",
       "      <th></th>\n",
       "      <th>messages_included</th>\n",
       "      <th>mb_per_month_included</th>\n",
       "      <th>minutes_included</th>\n",
       "      <th>rub_monthly_fee</th>\n",
       "      <th>rub_per_gb</th>\n",
       "      <th>rub_per_message</th>\n",
       "      <th>rub_per_minute</th>\n",
       "      <th>tariff_name</th>\n",
       "    </tr>\n",
       "  </thead>\n",
       "  <tbody>\n",
       "    <tr>\n",
       "      <td>0</td>\n",
       "      <td>50</td>\n",
       "      <td>15360</td>\n",
       "      <td>500</td>\n",
       "      <td>550</td>\n",
       "      <td>200</td>\n",
       "      <td>3</td>\n",
       "      <td>3</td>\n",
       "      <td>smart</td>\n",
       "    </tr>\n",
       "    <tr>\n",
       "      <td>1</td>\n",
       "      <td>1000</td>\n",
       "      <td>30720</td>\n",
       "      <td>3000</td>\n",
       "      <td>1950</td>\n",
       "      <td>150</td>\n",
       "      <td>1</td>\n",
       "      <td>1</td>\n",
       "      <td>ultra</td>\n",
       "    </tr>\n",
       "  </tbody>\n",
       "</table>\n",
       "</div>"
      ],
      "text/plain": [
       "   messages_included  mb_per_month_included  minutes_included  \\\n",
       "0                 50                  15360               500   \n",
       "1               1000                  30720              3000   \n",
       "\n",
       "   rub_monthly_fee  rub_per_gb  rub_per_message  rub_per_minute tariff_name  \n",
       "0              550         200                3               3       smart  \n",
       "1             1950         150                1               1       ultra  "
      ]
     },
     "execution_count": 7,
     "metadata": {},
     "output_type": "execute_result"
    }
   ],
   "source": [
    "# выведем основную информацию о датасете \"tariffs\"\n",
    "tariffs.info()\n",
    "# выведем первые пять строк датасета \"tariffs\"\n",
    "tariffs.head()"
   ]
  },
  {
   "cell_type": "markdown",
   "metadata": {},
   "source": [
    "### Выводы"
   ]
  },
  {
   "cell_type": "markdown",
   "metadata": {},
   "source": [
    "1. Исходные данные поделены на пять датасетов с именами: \"users\" (размер 500х8), \"calls\" (размер 202607х4), \"messages\" (размер 123036х3), \"internet\" (размер 149396х5) и \"tariffs\" (размер 2х8).\n",
    "2. Пропуски типа \"Nan\" выявлены только в столбце \"churn_date\" датасета \"users\". Однако данные пропуски, согласно заданию, соответствуют пользователям, которые не прекращали пользоваться тарифом.\n",
    "3. Для многих столбцов датасетов необходима замена типов данных.\n",
    "4. В датасете \"internet\" имеется лишний столбец, дублирующий индексы - его необходимо удалить."
   ]
  },
  {
   "cell_type": "markdown",
   "metadata": {},
   "source": [
    "## Предобработка исходных данных"
   ]
  },
  {
   "cell_type": "markdown",
   "metadata": {},
   "source": [
    "Предобработка исходных данных включает в себя:\n",
    "* заполнение (при необходимости) пропусков;\n",
    "* приведение тектовых данных (при необходимости) к нижнему регистру;\n",
    "* поиск дубликатов.\n",
    "\n",
    "Предобработку исходных данных будем выполнять последовательно для каждого датасета."
   ]
  },
  {
   "cell_type": "markdown",
   "metadata": {},
   "source": [
    "### Датасет \"users\""
   ]
  },
  {
   "cell_type": "code",
   "execution_count": 8,
   "metadata": {
    "scrolled": false
   },
   "outputs": [
    {
     "data": {
      "text/plain": [
       "user_id         0\n",
       "age             0\n",
       "churn_date    462\n",
       "city            0\n",
       "first_name      0\n",
       "last_name       0\n",
       "reg_date        0\n",
       "tariff          0\n",
       "dtype: int64"
      ]
     },
     "execution_count": 8,
     "metadata": {},
     "output_type": "execute_result"
    }
   ],
   "source": [
    "# подсчет количества пропусков\n",
    "users.isnull().sum()"
   ]
  },
  {
   "cell_type": "markdown",
   "metadata": {},
   "source": [
    "Пропуски в столбце \"churn_date\" (соответствуют абонентам, не менявшим тариф) оставим пока без изменений. Других пропусков не выявлено."
   ]
  },
  {
   "cell_type": "markdown",
   "metadata": {},
   "source": [
    "В именах собственных (столбцы \"first_name\", \"last_name\", \"city\") часто бывают дубликаты, вызванные использованием различных регистров."
   ]
  },
  {
   "cell_type": "code",
   "execution_count": 9,
   "metadata": {},
   "outputs": [
    {
     "name": "stdout",
     "output_type": "stream",
     "text": [
      "246\n",
      "419\n",
      "76\n"
     ]
    }
   ],
   "source": [
    "# подсчитаем количество уникальных значений в столбцах: \"first_name\", \"last_name\", \"city\"\n",
    "for i in [\"first_name\", \"last_name\", \"city\"]:\n",
    "    print(len(users[i].unique())) \n",
    "# приведем данные к нижнему регистру в столбцах: \"first_name\", \"last_name\", \"city\"\n",
    "for i in [\"first_name\", \"last_name\", \"city\"]:\n",
    "    users[i] = users[i].str.lower()"
   ]
  },
  {
   "cell_type": "code",
   "execution_count": 10,
   "metadata": {
    "scrolled": true
   },
   "outputs": [
    {
     "name": "stdout",
     "output_type": "stream",
     "text": [
      "246\n",
      "419\n",
      "76\n"
     ]
    }
   ],
   "source": [
    "# подсчитаем cнова количество уникальных значений в столбцах: \"first_name\", \"last_name\", \"city\"\n",
    "for i in [\"first_name\", \"last_name\", \"city\"]:\n",
    "    print(len(users[i].unique()))"
   ]
  },
  {
   "cell_type": "markdown",
   "metadata": {},
   "source": [
    "Количество уникальных значений не изменилось, значит дубликаты, связанные с использованием разных регистров, в рассматриваемых столбцах отсутствуют."
   ]
  },
  {
   "cell_type": "code",
   "execution_count": 11,
   "metadata": {},
   "outputs": [],
   "source": [
    "# запишем снова имена собственные в рассматриваемых столбцах с большой буквы\n",
    "for i in [\"first_name\", \"last_name\", \"city\"]:\n",
    "    users[i] = users[i].str.title()"
   ]
  },
  {
   "cell_type": "code",
   "execution_count": 12,
   "metadata": {},
   "outputs": [],
   "source": [
    "# изменим тип данных для столбца \"reg_date\"\n",
    "users[\"reg_date\"] = pd.to_datetime(users[\"reg_date\"])"
   ]
  },
  {
   "cell_type": "code",
   "execution_count": 13,
   "metadata": {
    "scrolled": true
   },
   "outputs": [
    {
     "name": "stdout",
     "output_type": "stream",
     "text": [
      "0\n"
     ]
    }
   ],
   "source": [
    "# подсчитаем количество полных дубликатов\n",
    "print(users.duplicated().sum())"
   ]
  },
  {
   "cell_type": "code",
   "execution_count": 14,
   "metadata": {
    "scrolled": false
   },
   "outputs": [
    {
     "data": {
      "text/html": [
       "<div>\n",
       "<style scoped>\n",
       "    .dataframe tbody tr th:only-of-type {\n",
       "        vertical-align: middle;\n",
       "    }\n",
       "\n",
       "    .dataframe tbody tr th {\n",
       "        vertical-align: top;\n",
       "    }\n",
       "\n",
       "    .dataframe thead th {\n",
       "        text-align: right;\n",
       "    }\n",
       "</style>\n",
       "<table border=\"1\" class=\"dataframe\">\n",
       "  <thead>\n",
       "    <tr style=\"text-align: right;\">\n",
       "      <th></th>\n",
       "      <th>user_id</th>\n",
       "      <th>age</th>\n",
       "    </tr>\n",
       "  </thead>\n",
       "  <tbody>\n",
       "    <tr>\n",
       "      <td>count</td>\n",
       "      <td>500.000000</td>\n",
       "      <td>500.00000</td>\n",
       "    </tr>\n",
       "    <tr>\n",
       "      <td>mean</td>\n",
       "      <td>1249.500000</td>\n",
       "      <td>46.58800</td>\n",
       "    </tr>\n",
       "    <tr>\n",
       "      <td>std</td>\n",
       "      <td>144.481833</td>\n",
       "      <td>16.66763</td>\n",
       "    </tr>\n",
       "    <tr>\n",
       "      <td>min</td>\n",
       "      <td>1000.000000</td>\n",
       "      <td>18.00000</td>\n",
       "    </tr>\n",
       "    <tr>\n",
       "      <td>25%</td>\n",
       "      <td>1124.750000</td>\n",
       "      <td>32.00000</td>\n",
       "    </tr>\n",
       "    <tr>\n",
       "      <td>50%</td>\n",
       "      <td>1249.500000</td>\n",
       "      <td>46.00000</td>\n",
       "    </tr>\n",
       "    <tr>\n",
       "      <td>75%</td>\n",
       "      <td>1374.250000</td>\n",
       "      <td>62.00000</td>\n",
       "    </tr>\n",
       "    <tr>\n",
       "      <td>max</td>\n",
       "      <td>1499.000000</td>\n",
       "      <td>75.00000</td>\n",
       "    </tr>\n",
       "  </tbody>\n",
       "</table>\n",
       "</div>"
      ],
      "text/plain": [
       "           user_id        age\n",
       "count   500.000000  500.00000\n",
       "mean   1249.500000   46.58800\n",
       "std     144.481833   16.66763\n",
       "min    1000.000000   18.00000\n",
       "25%    1124.750000   32.00000\n",
       "50%    1249.500000   46.00000\n",
       "75%    1374.250000   62.00000\n",
       "max    1499.000000   75.00000"
      ]
     },
     "execution_count": 14,
     "metadata": {},
     "output_type": "execute_result"
    }
   ],
   "source": [
    "# для котроля выведем основную описательную статистику по датасету\n",
    "users.describe()"
   ]
  },
  {
   "cell_type": "code",
   "execution_count": 15,
   "metadata": {
    "scrolled": false
   },
   "outputs": [
    {
     "name": "stdout",
     "output_type": "stream",
     "text": [
      "<class 'pandas.core.frame.DataFrame'>\n",
      "RangeIndex: 500 entries, 0 to 499\n",
      "Data columns (total 8 columns):\n",
      "user_id       500 non-null int64\n",
      "age           500 non-null int64\n",
      "churn_date    38 non-null object\n",
      "city          500 non-null object\n",
      "first_name    500 non-null object\n",
      "last_name     500 non-null object\n",
      "reg_date      500 non-null datetime64[ns]\n",
      "tariff        500 non-null object\n",
      "dtypes: datetime64[ns](1), int64(2), object(5)\n",
      "memory usage: 31.4+ KB\n"
     ]
    },
    {
     "data": {
      "text/html": [
       "<div>\n",
       "<style scoped>\n",
       "    .dataframe tbody tr th:only-of-type {\n",
       "        vertical-align: middle;\n",
       "    }\n",
       "\n",
       "    .dataframe tbody tr th {\n",
       "        vertical-align: top;\n",
       "    }\n",
       "\n",
       "    .dataframe thead th {\n",
       "        text-align: right;\n",
       "    }\n",
       "</style>\n",
       "<table border=\"1\" class=\"dataframe\">\n",
       "  <thead>\n",
       "    <tr style=\"text-align: right;\">\n",
       "      <th></th>\n",
       "      <th>user_id</th>\n",
       "      <th>age</th>\n",
       "      <th>churn_date</th>\n",
       "      <th>city</th>\n",
       "      <th>first_name</th>\n",
       "      <th>last_name</th>\n",
       "      <th>reg_date</th>\n",
       "      <th>tariff</th>\n",
       "    </tr>\n",
       "  </thead>\n",
       "  <tbody>\n",
       "    <tr>\n",
       "      <td>0</td>\n",
       "      <td>1000</td>\n",
       "      <td>52</td>\n",
       "      <td>NaN</td>\n",
       "      <td>Краснодар</td>\n",
       "      <td>Рафаил</td>\n",
       "      <td>Верещагин</td>\n",
       "      <td>2018-05-25</td>\n",
       "      <td>ultra</td>\n",
       "    </tr>\n",
       "    <tr>\n",
       "      <td>1</td>\n",
       "      <td>1001</td>\n",
       "      <td>41</td>\n",
       "      <td>NaN</td>\n",
       "      <td>Москва</td>\n",
       "      <td>Иван</td>\n",
       "      <td>Ежов</td>\n",
       "      <td>2018-11-01</td>\n",
       "      <td>smart</td>\n",
       "    </tr>\n",
       "    <tr>\n",
       "      <td>2</td>\n",
       "      <td>1002</td>\n",
       "      <td>59</td>\n",
       "      <td>NaN</td>\n",
       "      <td>Стерлитамак</td>\n",
       "      <td>Евгений</td>\n",
       "      <td>Абрамович</td>\n",
       "      <td>2018-06-17</td>\n",
       "      <td>smart</td>\n",
       "    </tr>\n",
       "    <tr>\n",
       "      <td>3</td>\n",
       "      <td>1003</td>\n",
       "      <td>23</td>\n",
       "      <td>NaN</td>\n",
       "      <td>Москва</td>\n",
       "      <td>Белла</td>\n",
       "      <td>Белякова</td>\n",
       "      <td>2018-08-17</td>\n",
       "      <td>ultra</td>\n",
       "    </tr>\n",
       "    <tr>\n",
       "      <td>4</td>\n",
       "      <td>1004</td>\n",
       "      <td>68</td>\n",
       "      <td>NaN</td>\n",
       "      <td>Новокузнецк</td>\n",
       "      <td>Татьяна</td>\n",
       "      <td>Авдеенко</td>\n",
       "      <td>2018-05-14</td>\n",
       "      <td>ultra</td>\n",
       "    </tr>\n",
       "  </tbody>\n",
       "</table>\n",
       "</div>"
      ],
      "text/plain": [
       "   user_id  age churn_date         city first_name  last_name   reg_date  \\\n",
       "0     1000   52        NaN    Краснодар     Рафаил  Верещагин 2018-05-25   \n",
       "1     1001   41        NaN       Москва       Иван       Ежов 2018-11-01   \n",
       "2     1002   59        NaN  Стерлитамак    Евгений  Абрамович 2018-06-17   \n",
       "3     1003   23        NaN       Москва      Белла   Белякова 2018-08-17   \n",
       "4     1004   68        NaN  Новокузнецк    Татьяна   Авдеенко 2018-05-14   \n",
       "\n",
       "  tariff  \n",
       "0  ultra  \n",
       "1  smart  \n",
       "2  smart  \n",
       "3  ultra  \n",
       "4  ultra  "
      ]
     },
     "execution_count": 15,
     "metadata": {},
     "output_type": "execute_result"
    }
   ],
   "source": [
    "# для контроля полученнного результата выведем общую информацию о датасете\n",
    "users.info()\n",
    "# и первые пять строк\n",
    "users.head()"
   ]
  },
  {
   "cell_type": "markdown",
   "metadata": {},
   "source": [
    "###  Датасет \"calls\""
   ]
  },
  {
   "cell_type": "code",
   "execution_count": 16,
   "metadata": {},
   "outputs": [
    {
     "data": {
      "text/plain": [
       "Index(['id_call', 'call_date', 'duration', 'user_id'], dtype='object')"
      ]
     },
     "execution_count": 16,
     "metadata": {},
     "output_type": "execute_result"
    }
   ],
   "source": [
    "# для избежания путанности и ошибок при объединении таблиц переименуем столбец \"id\" на \"id_call\"\n",
    "calls.rename(columns={\"id\": \"id_call\"}, inplace=True)\n",
    "calls.columns"
   ]
  },
  {
   "cell_type": "code",
   "execution_count": 17,
   "metadata": {},
   "outputs": [],
   "source": [
    "# изменим тип данных для столбца \"call_date\"\n",
    "calls[\"call_date\"] = pd.to_datetime(calls[\"call_date\"])"
   ]
  },
  {
   "cell_type": "markdown",
   "metadata": {},
   "source": [
    "Учтем, что «Мегалайн» всегда округляет вверх значения минут. С этой целью округлим вверх до целых значений данные в столбце \"duration\":"
   ]
  },
  {
   "cell_type": "code",
   "execution_count": 18,
   "metadata": {},
   "outputs": [],
   "source": [
    "# округлим до целых значений вверх\n",
    "calls[\"duration\"] = calls[\"duration\"].apply(np.ceil)\n",
    "# после округления изменим тип данных на \"int64\"\n",
    "calls[\"duration\"] = calls[\"duration\"].astype(\"int64\")"
   ]
  },
  {
   "cell_type": "code",
   "execution_count": 19,
   "metadata": {
    "scrolled": true
   },
   "outputs": [
    {
     "data": {
      "text/plain": [
       "0"
      ]
     },
     "execution_count": 19,
     "metadata": {},
     "output_type": "execute_result"
    }
   ],
   "source": [
    "# подсчитаем количество дубликатов\n",
    "calls.duplicated().sum()"
   ]
  },
  {
   "cell_type": "code",
   "execution_count": 20,
   "metadata": {},
   "outputs": [
    {
     "data": {
      "text/html": [
       "<div>\n",
       "<style scoped>\n",
       "    .dataframe tbody tr th:only-of-type {\n",
       "        vertical-align: middle;\n",
       "    }\n",
       "\n",
       "    .dataframe tbody tr th {\n",
       "        vertical-align: top;\n",
       "    }\n",
       "\n",
       "    .dataframe thead th {\n",
       "        text-align: right;\n",
       "    }\n",
       "</style>\n",
       "<table border=\"1\" class=\"dataframe\">\n",
       "  <thead>\n",
       "    <tr style=\"text-align: right;\">\n",
       "      <th></th>\n",
       "      <th>duration</th>\n",
       "      <th>user_id</th>\n",
       "    </tr>\n",
       "  </thead>\n",
       "  <tbody>\n",
       "    <tr>\n",
       "      <td>count</td>\n",
       "      <td>202607.000000</td>\n",
       "      <td>202607.000000</td>\n",
       "    </tr>\n",
       "    <tr>\n",
       "      <td>mean</td>\n",
       "      <td>7.158198</td>\n",
       "      <td>1253.940619</td>\n",
       "    </tr>\n",
       "    <tr>\n",
       "      <td>std</td>\n",
       "      <td>5.959173</td>\n",
       "      <td>144.722751</td>\n",
       "    </tr>\n",
       "    <tr>\n",
       "      <td>min</td>\n",
       "      <td>0.000000</td>\n",
       "      <td>1000.000000</td>\n",
       "    </tr>\n",
       "    <tr>\n",
       "      <td>25%</td>\n",
       "      <td>2.000000</td>\n",
       "      <td>1126.000000</td>\n",
       "    </tr>\n",
       "    <tr>\n",
       "      <td>50%</td>\n",
       "      <td>6.000000</td>\n",
       "      <td>1260.000000</td>\n",
       "    </tr>\n",
       "    <tr>\n",
       "      <td>75%</td>\n",
       "      <td>11.000000</td>\n",
       "      <td>1379.000000</td>\n",
       "    </tr>\n",
       "    <tr>\n",
       "      <td>max</td>\n",
       "      <td>38.000000</td>\n",
       "      <td>1499.000000</td>\n",
       "    </tr>\n",
       "  </tbody>\n",
       "</table>\n",
       "</div>"
      ],
      "text/plain": [
       "            duration        user_id\n",
       "count  202607.000000  202607.000000\n",
       "mean        7.158198    1253.940619\n",
       "std         5.959173     144.722751\n",
       "min         0.000000    1000.000000\n",
       "25%         2.000000    1126.000000\n",
       "50%         6.000000    1260.000000\n",
       "75%        11.000000    1379.000000\n",
       "max        38.000000    1499.000000"
      ]
     },
     "execution_count": 20,
     "metadata": {},
     "output_type": "execute_result"
    }
   ],
   "source": [
    "# для котроля выведем основную описательную статистику по датасету\n",
    "calls.describe()"
   ]
  },
  {
   "cell_type": "code",
   "execution_count": 21,
   "metadata": {
    "scrolled": false
   },
   "outputs": [
    {
     "name": "stdout",
     "output_type": "stream",
     "text": [
      "<class 'pandas.core.frame.DataFrame'>\n",
      "RangeIndex: 202607 entries, 0 to 202606\n",
      "Data columns (total 4 columns):\n",
      "id_call      202607 non-null object\n",
      "call_date    202607 non-null datetime64[ns]\n",
      "duration     202607 non-null int64\n",
      "user_id      202607 non-null int64\n",
      "dtypes: datetime64[ns](1), int64(2), object(1)\n",
      "memory usage: 6.2+ MB\n"
     ]
    },
    {
     "data": {
      "text/html": [
       "<div>\n",
       "<style scoped>\n",
       "    .dataframe tbody tr th:only-of-type {\n",
       "        vertical-align: middle;\n",
       "    }\n",
       "\n",
       "    .dataframe tbody tr th {\n",
       "        vertical-align: top;\n",
       "    }\n",
       "\n",
       "    .dataframe thead th {\n",
       "        text-align: right;\n",
       "    }\n",
       "</style>\n",
       "<table border=\"1\" class=\"dataframe\">\n",
       "  <thead>\n",
       "    <tr style=\"text-align: right;\">\n",
       "      <th></th>\n",
       "      <th>id_call</th>\n",
       "      <th>call_date</th>\n",
       "      <th>duration</th>\n",
       "      <th>user_id</th>\n",
       "    </tr>\n",
       "  </thead>\n",
       "  <tbody>\n",
       "    <tr>\n",
       "      <td>0</td>\n",
       "      <td>1000_0</td>\n",
       "      <td>2018-07-25</td>\n",
       "      <td>0</td>\n",
       "      <td>1000</td>\n",
       "    </tr>\n",
       "    <tr>\n",
       "      <td>1</td>\n",
       "      <td>1000_1</td>\n",
       "      <td>2018-08-17</td>\n",
       "      <td>0</td>\n",
       "      <td>1000</td>\n",
       "    </tr>\n",
       "    <tr>\n",
       "      <td>2</td>\n",
       "      <td>1000_2</td>\n",
       "      <td>2018-06-11</td>\n",
       "      <td>3</td>\n",
       "      <td>1000</td>\n",
       "    </tr>\n",
       "    <tr>\n",
       "      <td>3</td>\n",
       "      <td>1000_3</td>\n",
       "      <td>2018-09-21</td>\n",
       "      <td>14</td>\n",
       "      <td>1000</td>\n",
       "    </tr>\n",
       "    <tr>\n",
       "      <td>4</td>\n",
       "      <td>1000_4</td>\n",
       "      <td>2018-12-15</td>\n",
       "      <td>6</td>\n",
       "      <td>1000</td>\n",
       "    </tr>\n",
       "  </tbody>\n",
       "</table>\n",
       "</div>"
      ],
      "text/plain": [
       "  id_call  call_date  duration  user_id\n",
       "0  1000_0 2018-07-25         0     1000\n",
       "1  1000_1 2018-08-17         0     1000\n",
       "2  1000_2 2018-06-11         3     1000\n",
       "3  1000_3 2018-09-21        14     1000\n",
       "4  1000_4 2018-12-15         6     1000"
      ]
     },
     "execution_count": 21,
     "metadata": {},
     "output_type": "execute_result"
    }
   ],
   "source": [
    "# для контроля полученнного результата выведем общую информацию о датасете\n",
    "calls.info()\n",
    "# и первые пять строк\n",
    "calls.head()"
   ]
  },
  {
   "cell_type": "markdown",
   "metadata": {},
   "source": [
    "В датасете имеются звонки нулевой длительности. Данные звонки могут являться пропущенными звонками. Подсчитаем их долю от общего количества звонков:"
   ]
  },
  {
   "cell_type": "code",
   "execution_count": 22,
   "metadata": {},
   "outputs": [
    {
     "data": {
      "text/plain": [
       "0.19551644316336553"
      ]
     },
     "execution_count": 22,
     "metadata": {},
     "output_type": "execute_result"
    }
   ],
   "source": [
    "len(calls.query(\"duration == 0\")) / len(calls)"
   ]
  },
  {
   "cell_type": "markdown",
   "metadata": {},
   "source": [
    "Доля пропущенных звонков весьма значительна (почти 20%). Однако данные звонки не влияют непосредственно на расчеты прибыли. Оставим звонки с нулевой длительностью в датасете. "
   ]
  },
  {
   "cell_type": "markdown",
   "metadata": {},
   "source": [
    "### Датасет \"messages\""
   ]
  },
  {
   "cell_type": "code",
   "execution_count": 23,
   "metadata": {},
   "outputs": [
    {
     "data": {
      "text/plain": [
       "Index(['id_message', 'message_date', 'user_id'], dtype='object')"
      ]
     },
     "execution_count": 23,
     "metadata": {},
     "output_type": "execute_result"
    }
   ],
   "source": [
    "# для избежания путанности и ошибок при объединении таблиц переименуем столбец \"id\" на \"id_message\"\n",
    "messages.rename(columns={\"id\": \"id_message\"}, inplace=True)\n",
    "messages.columns"
   ]
  },
  {
   "cell_type": "code",
   "execution_count": 24,
   "metadata": {},
   "outputs": [],
   "source": [
    "# изменим тип данных для столбца \"message_date\"\n",
    "messages[\"message_date\"] = pd.to_datetime(messages[\"message_date\"])"
   ]
  },
  {
   "cell_type": "code",
   "execution_count": 25,
   "metadata": {},
   "outputs": [
    {
     "data": {
      "text/plain": [
       "0"
      ]
     },
     "execution_count": 25,
     "metadata": {},
     "output_type": "execute_result"
    }
   ],
   "source": [
    "# подсчитаем количество дубликатов\n",
    "messages.duplicated().sum()"
   ]
  },
  {
   "cell_type": "code",
   "execution_count": 26,
   "metadata": {},
   "outputs": [
    {
     "data": {
      "text/html": [
       "<div>\n",
       "<style scoped>\n",
       "    .dataframe tbody tr th:only-of-type {\n",
       "        vertical-align: middle;\n",
       "    }\n",
       "\n",
       "    .dataframe tbody tr th {\n",
       "        vertical-align: top;\n",
       "    }\n",
       "\n",
       "    .dataframe thead th {\n",
       "        text-align: right;\n",
       "    }\n",
       "</style>\n",
       "<table border=\"1\" class=\"dataframe\">\n",
       "  <thead>\n",
       "    <tr style=\"text-align: right;\">\n",
       "      <th></th>\n",
       "      <th>user_id</th>\n",
       "    </tr>\n",
       "  </thead>\n",
       "  <tbody>\n",
       "    <tr>\n",
       "      <td>count</td>\n",
       "      <td>123036.000000</td>\n",
       "    </tr>\n",
       "    <tr>\n",
       "      <td>mean</td>\n",
       "      <td>1256.989410</td>\n",
       "    </tr>\n",
       "    <tr>\n",
       "      <td>std</td>\n",
       "      <td>143.523967</td>\n",
       "    </tr>\n",
       "    <tr>\n",
       "      <td>min</td>\n",
       "      <td>1000.000000</td>\n",
       "    </tr>\n",
       "    <tr>\n",
       "      <td>25%</td>\n",
       "      <td>1134.000000</td>\n",
       "    </tr>\n",
       "    <tr>\n",
       "      <td>50%</td>\n",
       "      <td>1271.000000</td>\n",
       "    </tr>\n",
       "    <tr>\n",
       "      <td>75%</td>\n",
       "      <td>1381.000000</td>\n",
       "    </tr>\n",
       "    <tr>\n",
       "      <td>max</td>\n",
       "      <td>1499.000000</td>\n",
       "    </tr>\n",
       "  </tbody>\n",
       "</table>\n",
       "</div>"
      ],
      "text/plain": [
       "             user_id\n",
       "count  123036.000000\n",
       "mean     1256.989410\n",
       "std       143.523967\n",
       "min      1000.000000\n",
       "25%      1134.000000\n",
       "50%      1271.000000\n",
       "75%      1381.000000\n",
       "max      1499.000000"
      ]
     },
     "execution_count": 26,
     "metadata": {},
     "output_type": "execute_result"
    }
   ],
   "source": [
    "# для котроля выведем основную описательную статистику по датасету\n",
    "messages.describe()"
   ]
  },
  {
   "cell_type": "code",
   "execution_count": 27,
   "metadata": {
    "scrolled": true
   },
   "outputs": [
    {
     "name": "stdout",
     "output_type": "stream",
     "text": [
      "<class 'pandas.core.frame.DataFrame'>\n",
      "RangeIndex: 123036 entries, 0 to 123035\n",
      "Data columns (total 3 columns):\n",
      "id_message      123036 non-null object\n",
      "message_date    123036 non-null datetime64[ns]\n",
      "user_id         123036 non-null int64\n",
      "dtypes: datetime64[ns](1), int64(1), object(1)\n",
      "memory usage: 2.8+ MB\n"
     ]
    },
    {
     "data": {
      "text/html": [
       "<div>\n",
       "<style scoped>\n",
       "    .dataframe tbody tr th:only-of-type {\n",
       "        vertical-align: middle;\n",
       "    }\n",
       "\n",
       "    .dataframe tbody tr th {\n",
       "        vertical-align: top;\n",
       "    }\n",
       "\n",
       "    .dataframe thead th {\n",
       "        text-align: right;\n",
       "    }\n",
       "</style>\n",
       "<table border=\"1\" class=\"dataframe\">\n",
       "  <thead>\n",
       "    <tr style=\"text-align: right;\">\n",
       "      <th></th>\n",
       "      <th>id_message</th>\n",
       "      <th>message_date</th>\n",
       "      <th>user_id</th>\n",
       "    </tr>\n",
       "  </thead>\n",
       "  <tbody>\n",
       "    <tr>\n",
       "      <td>0</td>\n",
       "      <td>1000_0</td>\n",
       "      <td>2018-06-27</td>\n",
       "      <td>1000</td>\n",
       "    </tr>\n",
       "    <tr>\n",
       "      <td>1</td>\n",
       "      <td>1000_1</td>\n",
       "      <td>2018-10-08</td>\n",
       "      <td>1000</td>\n",
       "    </tr>\n",
       "    <tr>\n",
       "      <td>2</td>\n",
       "      <td>1000_2</td>\n",
       "      <td>2018-08-04</td>\n",
       "      <td>1000</td>\n",
       "    </tr>\n",
       "    <tr>\n",
       "      <td>3</td>\n",
       "      <td>1000_3</td>\n",
       "      <td>2018-06-16</td>\n",
       "      <td>1000</td>\n",
       "    </tr>\n",
       "    <tr>\n",
       "      <td>4</td>\n",
       "      <td>1000_4</td>\n",
       "      <td>2018-12-05</td>\n",
       "      <td>1000</td>\n",
       "    </tr>\n",
       "  </tbody>\n",
       "</table>\n",
       "</div>"
      ],
      "text/plain": [
       "  id_message message_date  user_id\n",
       "0     1000_0   2018-06-27     1000\n",
       "1     1000_1   2018-10-08     1000\n",
       "2     1000_2   2018-08-04     1000\n",
       "3     1000_3   2018-06-16     1000\n",
       "4     1000_4   2018-12-05     1000"
      ]
     },
     "execution_count": 27,
     "metadata": {},
     "output_type": "execute_result"
    }
   ],
   "source": [
    "# для контроля полученнного результата выведем общую информацию о датасете\n",
    "messages.info()\n",
    "# и первые пять строк\n",
    "messages.head()"
   ]
  },
  {
   "cell_type": "markdown",
   "metadata": {},
   "source": [
    "### Датасет \"internet\""
   ]
  },
  {
   "cell_type": "code",
   "execution_count": 28,
   "metadata": {},
   "outputs": [
    {
     "data": {
      "text/plain": [
       "Index(['id', 'mb_used', 'session_date', 'user_id'], dtype='object')"
      ]
     },
     "execution_count": 28,
     "metadata": {},
     "output_type": "execute_result"
    }
   ],
   "source": [
    "# удалим лишний столбец \"Unnamed\", дублирующий индексы\n",
    "internet = internet.drop(\"Unnamed: 0\", axis=1)\n",
    "# для избежания путанности и ошибок при объединении таблиц переименуем столбец \"id\" на \"id_session\"\n",
    "internet.rename({\"id\": \"id_session\"})\n",
    "# выведем список столбцов\n",
    "internet.columns"
   ]
  },
  {
   "cell_type": "code",
   "execution_count": 29,
   "metadata": {},
   "outputs": [],
   "source": [
    "# изменим тип данных для столбца \"session_date\"\n",
    "internet[\"session_date\"] = pd.to_datetime(internet[\"session_date\"])"
   ]
  },
  {
   "cell_type": "markdown",
   "metadata": {},
   "source": [
    "Учтем, что «Мегалайн» всегда округляет вверх значения мегабайтов. С этой целью округлим вверх до целых значений данные в столбце \"mb_used\":"
   ]
  },
  {
   "cell_type": "code",
   "execution_count": 30,
   "metadata": {},
   "outputs": [],
   "source": [
    "# округлим до целых значений вверх\n",
    "internet[\"mb_used\"] = internet[\"mb_used\"].apply(np.ceil)\n",
    "# после округления изменим тип данных на \"int64\"\n",
    "internet[\"mb_used\"] = internet[\"mb_used\"].astype(\"int64\")"
   ]
  },
  {
   "cell_type": "code",
   "execution_count": 31,
   "metadata": {},
   "outputs": [
    {
     "data": {
      "text/plain": [
       "0"
      ]
     },
     "execution_count": 31,
     "metadata": {},
     "output_type": "execute_result"
    }
   ],
   "source": [
    "# подсчитаем количество дубликатов\n",
    "internet.duplicated().sum()"
   ]
  },
  {
   "cell_type": "code",
   "execution_count": 32,
   "metadata": {},
   "outputs": [
    {
     "data": {
      "text/html": [
       "<div>\n",
       "<style scoped>\n",
       "    .dataframe tbody tr th:only-of-type {\n",
       "        vertical-align: middle;\n",
       "    }\n",
       "\n",
       "    .dataframe tbody tr th {\n",
       "        vertical-align: top;\n",
       "    }\n",
       "\n",
       "    .dataframe thead th {\n",
       "        text-align: right;\n",
       "    }\n",
       "</style>\n",
       "<table border=\"1\" class=\"dataframe\">\n",
       "  <thead>\n",
       "    <tr style=\"text-align: right;\">\n",
       "      <th></th>\n",
       "      <th>mb_used</th>\n",
       "      <th>user_id</th>\n",
       "    </tr>\n",
       "  </thead>\n",
       "  <tbody>\n",
       "    <tr>\n",
       "      <td>count</td>\n",
       "      <td>149396.000000</td>\n",
       "      <td>149396.000000</td>\n",
       "    </tr>\n",
       "    <tr>\n",
       "      <td>mean</td>\n",
       "      <td>370.622098</td>\n",
       "      <td>1252.099842</td>\n",
       "    </tr>\n",
       "    <tr>\n",
       "      <td>std</td>\n",
       "      <td>278.387019</td>\n",
       "      <td>144.050823</td>\n",
       "    </tr>\n",
       "    <tr>\n",
       "      <td>min</td>\n",
       "      <td>0.000000</td>\n",
       "      <td>1000.000000</td>\n",
       "    </tr>\n",
       "    <tr>\n",
       "      <td>25%</td>\n",
       "      <td>139.000000</td>\n",
       "      <td>1130.000000</td>\n",
       "    </tr>\n",
       "    <tr>\n",
       "      <td>50%</td>\n",
       "      <td>349.000000</td>\n",
       "      <td>1251.000000</td>\n",
       "    </tr>\n",
       "    <tr>\n",
       "      <td>75%</td>\n",
       "      <td>560.000000</td>\n",
       "      <td>1380.000000</td>\n",
       "    </tr>\n",
       "    <tr>\n",
       "      <td>max</td>\n",
       "      <td>1725.000000</td>\n",
       "      <td>1499.000000</td>\n",
       "    </tr>\n",
       "  </tbody>\n",
       "</table>\n",
       "</div>"
      ],
      "text/plain": [
       "             mb_used        user_id\n",
       "count  149396.000000  149396.000000\n",
       "mean      370.622098    1252.099842\n",
       "std       278.387019     144.050823\n",
       "min         0.000000    1000.000000\n",
       "25%       139.000000    1130.000000\n",
       "50%       349.000000    1251.000000\n",
       "75%       560.000000    1380.000000\n",
       "max      1725.000000    1499.000000"
      ]
     },
     "execution_count": 32,
     "metadata": {},
     "output_type": "execute_result"
    }
   ],
   "source": [
    "# для котроля выведем основную описательную статистику по датасету\n",
    "internet.describe()"
   ]
  },
  {
   "cell_type": "code",
   "execution_count": 33,
   "metadata": {
    "scrolled": true
   },
   "outputs": [
    {
     "name": "stdout",
     "output_type": "stream",
     "text": [
      "<class 'pandas.core.frame.DataFrame'>\n",
      "RangeIndex: 149396 entries, 0 to 149395\n",
      "Data columns (total 4 columns):\n",
      "id              149396 non-null object\n",
      "mb_used         149396 non-null int64\n",
      "session_date    149396 non-null datetime64[ns]\n",
      "user_id         149396 non-null int64\n",
      "dtypes: datetime64[ns](1), int64(2), object(1)\n",
      "memory usage: 4.6+ MB\n"
     ]
    },
    {
     "data": {
      "text/html": [
       "<div>\n",
       "<style scoped>\n",
       "    .dataframe tbody tr th:only-of-type {\n",
       "        vertical-align: middle;\n",
       "    }\n",
       "\n",
       "    .dataframe tbody tr th {\n",
       "        vertical-align: top;\n",
       "    }\n",
       "\n",
       "    .dataframe thead th {\n",
       "        text-align: right;\n",
       "    }\n",
       "</style>\n",
       "<table border=\"1\" class=\"dataframe\">\n",
       "  <thead>\n",
       "    <tr style=\"text-align: right;\">\n",
       "      <th></th>\n",
       "      <th>id</th>\n",
       "      <th>mb_used</th>\n",
       "      <th>session_date</th>\n",
       "      <th>user_id</th>\n",
       "    </tr>\n",
       "  </thead>\n",
       "  <tbody>\n",
       "    <tr>\n",
       "      <td>0</td>\n",
       "      <td>1000_0</td>\n",
       "      <td>113</td>\n",
       "      <td>2018-11-25</td>\n",
       "      <td>1000</td>\n",
       "    </tr>\n",
       "    <tr>\n",
       "      <td>1</td>\n",
       "      <td>1000_1</td>\n",
       "      <td>1053</td>\n",
       "      <td>2018-09-07</td>\n",
       "      <td>1000</td>\n",
       "    </tr>\n",
       "    <tr>\n",
       "      <td>2</td>\n",
       "      <td>1000_2</td>\n",
       "      <td>1198</td>\n",
       "      <td>2018-06-25</td>\n",
       "      <td>1000</td>\n",
       "    </tr>\n",
       "    <tr>\n",
       "      <td>3</td>\n",
       "      <td>1000_3</td>\n",
       "      <td>551</td>\n",
       "      <td>2018-08-22</td>\n",
       "      <td>1000</td>\n",
       "    </tr>\n",
       "    <tr>\n",
       "      <td>4</td>\n",
       "      <td>1000_4</td>\n",
       "      <td>303</td>\n",
       "      <td>2018-09-24</td>\n",
       "      <td>1000</td>\n",
       "    </tr>\n",
       "  </tbody>\n",
       "</table>\n",
       "</div>"
      ],
      "text/plain": [
       "       id  mb_used session_date  user_id\n",
       "0  1000_0      113   2018-11-25     1000\n",
       "1  1000_1     1053   2018-09-07     1000\n",
       "2  1000_2     1198   2018-06-25     1000\n",
       "3  1000_3      551   2018-08-22     1000\n",
       "4  1000_4      303   2018-09-24     1000"
      ]
     },
     "execution_count": 33,
     "metadata": {},
     "output_type": "execute_result"
    }
   ],
   "source": [
    "# для контроля полученнного результата выведем общую информацию о датасете\n",
    "internet.info()\n",
    "# и первые пять строк\n",
    "internet.head()"
   ]
  },
  {
   "cell_type": "markdown",
   "metadata": {},
   "source": [
    "### Выводы"
   ]
  },
  {
   "cell_type": "markdown",
   "metadata": {},
   "source": [
    "1. Выполнено переименование трех столбцов с одинаковым именем \"id\" в трех датасетах: \"calls\", \"messages\" и \"internet\".\n",
    "2. Удален лишний столбец \"Unnamed\", дублирующий индексы в датасете \"internet\".\n",
    "3. Изменен тип данных с \"object\" на \"datetime64\" в столбцах \"call_date\" (датасет \"calls\"), \"message_date\" (датасет \"messages\") и \"session_date\" (датасет \"internet\").\n",
    "4. С учетом того, что «Мегалайн» всегда округляет вверх значения минут и мегабайт, значения в столбцах \"duration\" (датасет \"calls\") и \"mb_used\" (датасет \"internet\") округлены вверх до целого числа, тип данных изменени при этом на \"int64\".\n",
    "5. Дубликатов не выявлено."
   ]
  },
  {
   "cell_type": "markdown",
   "metadata": {},
   "source": [
    "## Расчеты дополнительных параметров"
   ]
  },
  {
   "cell_type": "markdown",
   "metadata": {},
   "source": [
    "Рассчитаем следующие параметры для каждого пользователя:\n",
    "1. Количество сделанных звонков и израсходованных минут разговора по месяцам.\n",
    "2. Количество отправленных сообщений по месяцам.\n",
    "3. Объем израсходованного интернет-трафика по месяцам.\n",
    "4. Помесячную выручку с каждого пользователя."
   ]
  },
  {
   "cell_type": "markdown",
   "metadata": {},
   "source": [
    "### Количество сделанных звонков и израсходованных минут разговора по месяцам"
   ]
  },
  {
   "cell_type": "code",
   "execution_count": 34,
   "metadata": {},
   "outputs": [
    {
     "data": {
      "text/html": [
       "<div>\n",
       "<style scoped>\n",
       "    .dataframe tbody tr th:only-of-type {\n",
       "        vertical-align: middle;\n",
       "    }\n",
       "\n",
       "    .dataframe tbody tr th {\n",
       "        vertical-align: top;\n",
       "    }\n",
       "\n",
       "    .dataframe thead th {\n",
       "        text-align: right;\n",
       "    }\n",
       "</style>\n",
       "<table border=\"1\" class=\"dataframe\">\n",
       "  <thead>\n",
       "    <tr style=\"text-align: right;\">\n",
       "      <th></th>\n",
       "      <th>id_call</th>\n",
       "      <th>call_date</th>\n",
       "      <th>duration</th>\n",
       "      <th>user_id</th>\n",
       "      <th>month</th>\n",
       "    </tr>\n",
       "  </thead>\n",
       "  <tbody>\n",
       "    <tr>\n",
       "      <td>0</td>\n",
       "      <td>1000_0</td>\n",
       "      <td>2018-07-25</td>\n",
       "      <td>0</td>\n",
       "      <td>1000</td>\n",
       "      <td>7</td>\n",
       "    </tr>\n",
       "    <tr>\n",
       "      <td>1</td>\n",
       "      <td>1000_1</td>\n",
       "      <td>2018-08-17</td>\n",
       "      <td>0</td>\n",
       "      <td>1000</td>\n",
       "      <td>8</td>\n",
       "    </tr>\n",
       "    <tr>\n",
       "      <td>2</td>\n",
       "      <td>1000_2</td>\n",
       "      <td>2018-06-11</td>\n",
       "      <td>3</td>\n",
       "      <td>1000</td>\n",
       "      <td>6</td>\n",
       "    </tr>\n",
       "    <tr>\n",
       "      <td>3</td>\n",
       "      <td>1000_3</td>\n",
       "      <td>2018-09-21</td>\n",
       "      <td>14</td>\n",
       "      <td>1000</td>\n",
       "      <td>9</td>\n",
       "    </tr>\n",
       "    <tr>\n",
       "      <td>4</td>\n",
       "      <td>1000_4</td>\n",
       "      <td>2018-12-15</td>\n",
       "      <td>6</td>\n",
       "      <td>1000</td>\n",
       "      <td>12</td>\n",
       "    </tr>\n",
       "  </tbody>\n",
       "</table>\n",
       "</div>"
      ],
      "text/plain": [
       "  id_call  call_date  duration  user_id  month\n",
       "0  1000_0 2018-07-25         0     1000      7\n",
       "1  1000_1 2018-08-17         0     1000      8\n",
       "2  1000_2 2018-06-11         3     1000      6\n",
       "3  1000_3 2018-09-21        14     1000      9\n",
       "4  1000_4 2018-12-15         6     1000     12"
      ]
     },
     "execution_count": 34,
     "metadata": {},
     "output_type": "execute_result"
    }
   ],
   "source": [
    "# добавим в датасет \"calls\" столбец с месяцами\n",
    "calls[\"month\"] = calls[\"call_date\"].dt.month\n",
    "# выведем первые пять строк датасета \"calls\"\n",
    "calls.head()"
   ]
  },
  {
   "cell_type": "code",
   "execution_count": 35,
   "metadata": {},
   "outputs": [
    {
     "data": {
      "text/html": [
       "<div>\n",
       "<style scoped>\n",
       "    .dataframe tbody tr th:only-of-type {\n",
       "        vertical-align: middle;\n",
       "    }\n",
       "\n",
       "    .dataframe tbody tr th {\n",
       "        vertical-align: top;\n",
       "    }\n",
       "\n",
       "    .dataframe thead th {\n",
       "        text-align: right;\n",
       "    }\n",
       "</style>\n",
       "<table border=\"1\" class=\"dataframe\">\n",
       "  <thead>\n",
       "    <tr style=\"text-align: right;\">\n",
       "      <th></th>\n",
       "      <th></th>\n",
       "      <th>calls_number</th>\n",
       "      <th>calls_minutes</th>\n",
       "    </tr>\n",
       "    <tr>\n",
       "      <th>month</th>\n",
       "      <th>user_id</th>\n",
       "      <th></th>\n",
       "      <th></th>\n",
       "    </tr>\n",
       "  </thead>\n",
       "  <tbody>\n",
       "    <tr>\n",
       "      <td rowspan=\"5\" valign=\"top\">1</td>\n",
       "      <td>1005</td>\n",
       "      <td>15</td>\n",
       "      <td>95</td>\n",
       "    </tr>\n",
       "    <tr>\n",
       "      <td>1032</td>\n",
       "      <td>61</td>\n",
       "      <td>380</td>\n",
       "    </tr>\n",
       "    <tr>\n",
       "      <td>1045</td>\n",
       "      <td>1</td>\n",
       "      <td>9</td>\n",
       "    </tr>\n",
       "    <tr>\n",
       "      <td>1055</td>\n",
       "      <td>64</td>\n",
       "      <td>551</td>\n",
       "    </tr>\n",
       "    <tr>\n",
       "      <td>1071</td>\n",
       "      <td>24</td>\n",
       "      <td>194</td>\n",
       "    </tr>\n",
       "  </tbody>\n",
       "</table>\n",
       "</div>"
      ],
      "text/plain": [
       "               calls_number  calls_minutes\n",
       "month user_id                             \n",
       "1     1005               15             95\n",
       "      1032               61            380\n",
       "      1045                1              9\n",
       "      1055               64            551\n",
       "      1071               24            194"
      ]
     },
     "execution_count": 35,
     "metadata": {},
     "output_type": "execute_result"
    }
   ],
   "source": [
    "# создадим сводную таблицу с результатами вычислений количества звонков и израсходованных минут по месяцам\n",
    "calls_months = calls.pivot_table(index=[\"month\", \"user_id\"], values=\"duration\", aggfunc=[\"count\", \"sum\"])\n",
    "calls_months.columns = [\"calls_number\", \"calls_minutes\"]\n",
    "# выведем первые пять строк сводной таблицы \"calls_months\"\n",
    "calls_months.head()"
   ]
  },
  {
   "cell_type": "markdown",
   "metadata": {},
   "source": [
    "### Количество отправленных сообщений по месяцам"
   ]
  },
  {
   "cell_type": "code",
   "execution_count": 36,
   "metadata": {},
   "outputs": [
    {
     "data": {
      "text/html": [
       "<div>\n",
       "<style scoped>\n",
       "    .dataframe tbody tr th:only-of-type {\n",
       "        vertical-align: middle;\n",
       "    }\n",
       "\n",
       "    .dataframe tbody tr th {\n",
       "        vertical-align: top;\n",
       "    }\n",
       "\n",
       "    .dataframe thead th {\n",
       "        text-align: right;\n",
       "    }\n",
       "</style>\n",
       "<table border=\"1\" class=\"dataframe\">\n",
       "  <thead>\n",
       "    <tr style=\"text-align: right;\">\n",
       "      <th></th>\n",
       "      <th>id_message</th>\n",
       "      <th>message_date</th>\n",
       "      <th>user_id</th>\n",
       "      <th>month</th>\n",
       "    </tr>\n",
       "  </thead>\n",
       "  <tbody>\n",
       "    <tr>\n",
       "      <td>0</td>\n",
       "      <td>1000_0</td>\n",
       "      <td>2018-06-27</td>\n",
       "      <td>1000</td>\n",
       "      <td>6</td>\n",
       "    </tr>\n",
       "    <tr>\n",
       "      <td>1</td>\n",
       "      <td>1000_1</td>\n",
       "      <td>2018-10-08</td>\n",
       "      <td>1000</td>\n",
       "      <td>10</td>\n",
       "    </tr>\n",
       "    <tr>\n",
       "      <td>2</td>\n",
       "      <td>1000_2</td>\n",
       "      <td>2018-08-04</td>\n",
       "      <td>1000</td>\n",
       "      <td>8</td>\n",
       "    </tr>\n",
       "    <tr>\n",
       "      <td>3</td>\n",
       "      <td>1000_3</td>\n",
       "      <td>2018-06-16</td>\n",
       "      <td>1000</td>\n",
       "      <td>6</td>\n",
       "    </tr>\n",
       "    <tr>\n",
       "      <td>4</td>\n",
       "      <td>1000_4</td>\n",
       "      <td>2018-12-05</td>\n",
       "      <td>1000</td>\n",
       "      <td>12</td>\n",
       "    </tr>\n",
       "  </tbody>\n",
       "</table>\n",
       "</div>"
      ],
      "text/plain": [
       "  id_message message_date  user_id  month\n",
       "0     1000_0   2018-06-27     1000      6\n",
       "1     1000_1   2018-10-08     1000     10\n",
       "2     1000_2   2018-08-04     1000      8\n",
       "3     1000_3   2018-06-16     1000      6\n",
       "4     1000_4   2018-12-05     1000     12"
      ]
     },
     "execution_count": 36,
     "metadata": {},
     "output_type": "execute_result"
    }
   ],
   "source": [
    "# добавим в датасет \"messages\" столбец с месяцами\n",
    "messages[\"month\"] = messages[\"message_date\"].dt.month\n",
    "# выведем первые пять строк датасета \"messages\"\n",
    "messages.head()"
   ]
  },
  {
   "cell_type": "code",
   "execution_count": 37,
   "metadata": {},
   "outputs": [
    {
     "data": {
      "text/html": [
       "<div>\n",
       "<style scoped>\n",
       "    .dataframe tbody tr th:only-of-type {\n",
       "        vertical-align: middle;\n",
       "    }\n",
       "\n",
       "    .dataframe tbody tr th {\n",
       "        vertical-align: top;\n",
       "    }\n",
       "\n",
       "    .dataframe thead th {\n",
       "        text-align: right;\n",
       "    }\n",
       "</style>\n",
       "<table border=\"1\" class=\"dataframe\">\n",
       "  <thead>\n",
       "    <tr style=\"text-align: right;\">\n",
       "      <th></th>\n",
       "      <th></th>\n",
       "      <th>messages_number</th>\n",
       "    </tr>\n",
       "    <tr>\n",
       "      <th>month</th>\n",
       "      <th>user_id</th>\n",
       "      <th></th>\n",
       "    </tr>\n",
       "  </thead>\n",
       "  <tbody>\n",
       "    <tr>\n",
       "      <td rowspan=\"5\" valign=\"top\">1</td>\n",
       "      <td>1005</td>\n",
       "      <td>7</td>\n",
       "    </tr>\n",
       "    <tr>\n",
       "      <td>1032</td>\n",
       "      <td>38</td>\n",
       "    </tr>\n",
       "    <tr>\n",
       "      <td>1045</td>\n",
       "      <td>5</td>\n",
       "    </tr>\n",
       "    <tr>\n",
       "      <td>1055</td>\n",
       "      <td>30</td>\n",
       "    </tr>\n",
       "    <tr>\n",
       "      <td>1071</td>\n",
       "      <td>16</td>\n",
       "    </tr>\n",
       "  </tbody>\n",
       "</table>\n",
       "</div>"
      ],
      "text/plain": [
       "               messages_number\n",
       "month user_id                 \n",
       "1     1005                   7\n",
       "      1032                  38\n",
       "      1045                   5\n",
       "      1055                  30\n",
       "      1071                  16"
      ]
     },
     "execution_count": 37,
     "metadata": {},
     "output_type": "execute_result"
    }
   ],
   "source": [
    "# создадим сводную таблицу с результатами вычислений количества отправленных сообщений по месяцам\n",
    "messages_months = messages.pivot_table(index=[\"month\", \"user_id\"], values=\"id_message\", aggfunc=\"count\")\n",
    "messages_months.rename(columns={\"id_message\": \"messages_number\"}, inplace=True)\n",
    "# выведем первые пять строк сводной таблицы \"messages_months\"\n",
    "messages_months.head()"
   ]
  },
  {
   "cell_type": "markdown",
   "metadata": {},
   "source": [
    "### Объем израсходованного интернет-трафика по месяцам"
   ]
  },
  {
   "cell_type": "code",
   "execution_count": 38,
   "metadata": {},
   "outputs": [
    {
     "data": {
      "text/html": [
       "<div>\n",
       "<style scoped>\n",
       "    .dataframe tbody tr th:only-of-type {\n",
       "        vertical-align: middle;\n",
       "    }\n",
       "\n",
       "    .dataframe tbody tr th {\n",
       "        vertical-align: top;\n",
       "    }\n",
       "\n",
       "    .dataframe thead th {\n",
       "        text-align: right;\n",
       "    }\n",
       "</style>\n",
       "<table border=\"1\" class=\"dataframe\">\n",
       "  <thead>\n",
       "    <tr style=\"text-align: right;\">\n",
       "      <th></th>\n",
       "      <th>id</th>\n",
       "      <th>mb_used</th>\n",
       "      <th>session_date</th>\n",
       "      <th>user_id</th>\n",
       "      <th>month</th>\n",
       "    </tr>\n",
       "  </thead>\n",
       "  <tbody>\n",
       "    <tr>\n",
       "      <td>0</td>\n",
       "      <td>1000_0</td>\n",
       "      <td>113</td>\n",
       "      <td>2018-11-25</td>\n",
       "      <td>1000</td>\n",
       "      <td>11</td>\n",
       "    </tr>\n",
       "    <tr>\n",
       "      <td>1</td>\n",
       "      <td>1000_1</td>\n",
       "      <td>1053</td>\n",
       "      <td>2018-09-07</td>\n",
       "      <td>1000</td>\n",
       "      <td>9</td>\n",
       "    </tr>\n",
       "    <tr>\n",
       "      <td>2</td>\n",
       "      <td>1000_2</td>\n",
       "      <td>1198</td>\n",
       "      <td>2018-06-25</td>\n",
       "      <td>1000</td>\n",
       "      <td>6</td>\n",
       "    </tr>\n",
       "    <tr>\n",
       "      <td>3</td>\n",
       "      <td>1000_3</td>\n",
       "      <td>551</td>\n",
       "      <td>2018-08-22</td>\n",
       "      <td>1000</td>\n",
       "      <td>8</td>\n",
       "    </tr>\n",
       "    <tr>\n",
       "      <td>4</td>\n",
       "      <td>1000_4</td>\n",
       "      <td>303</td>\n",
       "      <td>2018-09-24</td>\n",
       "      <td>1000</td>\n",
       "      <td>9</td>\n",
       "    </tr>\n",
       "  </tbody>\n",
       "</table>\n",
       "</div>"
      ],
      "text/plain": [
       "       id  mb_used session_date  user_id  month\n",
       "0  1000_0      113   2018-11-25     1000     11\n",
       "1  1000_1     1053   2018-09-07     1000      9\n",
       "2  1000_2     1198   2018-06-25     1000      6\n",
       "3  1000_3      551   2018-08-22     1000      8\n",
       "4  1000_4      303   2018-09-24     1000      9"
      ]
     },
     "execution_count": 38,
     "metadata": {},
     "output_type": "execute_result"
    }
   ],
   "source": [
    "# добавим в датасет \"internet\" столбец с месяцами\n",
    "internet[\"month\"] = internet[\"session_date\"].dt.month\n",
    "# выведем первые пять строк датасета \"messages\"\n",
    "internet.head()"
   ]
  },
  {
   "cell_type": "code",
   "execution_count": 39,
   "metadata": {
    "scrolled": false
   },
   "outputs": [
    {
     "data": {
      "text/html": [
       "<div>\n",
       "<style scoped>\n",
       "    .dataframe tbody tr th:only-of-type {\n",
       "        vertical-align: middle;\n",
       "    }\n",
       "\n",
       "    .dataframe tbody tr th {\n",
       "        vertical-align: top;\n",
       "    }\n",
       "\n",
       "    .dataframe thead th {\n",
       "        text-align: right;\n",
       "    }\n",
       "</style>\n",
       "<table border=\"1\" class=\"dataframe\">\n",
       "  <thead>\n",
       "    <tr style=\"text-align: right;\">\n",
       "      <th></th>\n",
       "      <th></th>\n",
       "      <th>mb_used</th>\n",
       "    </tr>\n",
       "    <tr>\n",
       "      <th>month</th>\n",
       "      <th>user_id</th>\n",
       "      <th></th>\n",
       "    </tr>\n",
       "  </thead>\n",
       "  <tbody>\n",
       "    <tr>\n",
       "      <td rowspan=\"5\" valign=\"top\">1</td>\n",
       "      <td>1005</td>\n",
       "      <td>2730</td>\n",
       "    </tr>\n",
       "    <tr>\n",
       "      <td>1032</td>\n",
       "      <td>24147</td>\n",
       "    </tr>\n",
       "    <tr>\n",
       "      <td>1045</td>\n",
       "      <td>2348</td>\n",
       "    </tr>\n",
       "    <tr>\n",
       "      <td>1055</td>\n",
       "      <td>17111</td>\n",
       "    </tr>\n",
       "    <tr>\n",
       "      <td>1071</td>\n",
       "      <td>15622</td>\n",
       "    </tr>\n",
       "  </tbody>\n",
       "</table>\n",
       "</div>"
      ],
      "text/plain": [
       "               mb_used\n",
       "month user_id         \n",
       "1     1005        2730\n",
       "      1032       24147\n",
       "      1045        2348\n",
       "      1055       17111\n",
       "      1071       15622"
      ]
     },
     "execution_count": 39,
     "metadata": {},
     "output_type": "execute_result"
    }
   ],
   "source": [
    "# создадим сводную таблицу с результатами вычислений количества отправленных сообщений по месяцам\n",
    "internet_months = internet.pivot_table(index=[\"month\", \"user_id\"], values=\"mb_used\", aggfunc=\"sum\")\n",
    "# выведем первые пять строк сводной таблицы \"internet_months\"\n",
    "internet_months.head()"
   ]
  },
  {
   "cell_type": "markdown",
   "metadata": {},
   "source": [
    "### Помесячная выручка с каждого пользователя"
   ]
  },
  {
   "cell_type": "markdown",
   "metadata": {},
   "source": [
    "**Подсчитаем минуты звонков сверх лимита**"
   ]
  },
  {
   "cell_type": "code",
   "execution_count": 40,
   "metadata": {},
   "outputs": [],
   "source": [
    "# для удобства работы с таблицей сбросим мультииндекс, переведя его значения в столбцы\n",
    "calls_months.reset_index(inplace=True)\n",
    "# cоздадим таблицу соответствия \"user_id\" и тарифа\n",
    "users_tariffs = pd.concat([users[\"user_id\"], users[\"tariff\"]], axis=1)\n",
    "# добавим в таблицу \"calls_months\" информацию о тарифах\n",
    "calls_months = calls_months.merge(users_tariffs, on=\"user_id\", how=\"left\")"
   ]
  },
  {
   "cell_type": "code",
   "execution_count": 41,
   "metadata": {},
   "outputs": [],
   "source": [
    "# напишем программу для заполнения в таблице информации о минутах звонков сверх лимита по тарифу\n",
    "def minutes_over_limit(row):\n",
    "    minutes = float(\"NaN\")\n",
    "    if row[4] == \"smart\":\n",
    "        minutes = row[3] - tariffs[\"minutes_included\"][0]\n",
    "    if row[4] == \"ultra\":\n",
    "        minutes = row[3] - tariffs[\"minutes_included\"][1]\n",
    "    if minutes < 0:\n",
    "        minutes = 0\n",
    "    return minutes"
   ]
  },
  {
   "cell_type": "code",
   "execution_count": 42,
   "metadata": {
    "scrolled": true
   },
   "outputs": [
    {
     "data": {
      "text/html": [
       "<div>\n",
       "<style scoped>\n",
       "    .dataframe tbody tr th:only-of-type {\n",
       "        vertical-align: middle;\n",
       "    }\n",
       "\n",
       "    .dataframe tbody tr th {\n",
       "        vertical-align: top;\n",
       "    }\n",
       "\n",
       "    .dataframe thead th {\n",
       "        text-align: right;\n",
       "    }\n",
       "</style>\n",
       "<table border=\"1\" class=\"dataframe\">\n",
       "  <thead>\n",
       "    <tr style=\"text-align: right;\">\n",
       "      <th></th>\n",
       "      <th>month</th>\n",
       "      <th>user_id</th>\n",
       "      <th>calls_number</th>\n",
       "      <th>calls_minutes</th>\n",
       "      <th>tariff</th>\n",
       "      <th>minutes_over_limit</th>\n",
       "    </tr>\n",
       "  </thead>\n",
       "  <tbody>\n",
       "    <tr>\n",
       "      <td>0</td>\n",
       "      <td>1</td>\n",
       "      <td>1005</td>\n",
       "      <td>15</td>\n",
       "      <td>95</td>\n",
       "      <td>smart</td>\n",
       "      <td>0</td>\n",
       "    </tr>\n",
       "    <tr>\n",
       "      <td>1</td>\n",
       "      <td>1</td>\n",
       "      <td>1032</td>\n",
       "      <td>61</td>\n",
       "      <td>380</td>\n",
       "      <td>smart</td>\n",
       "      <td>0</td>\n",
       "    </tr>\n",
       "    <tr>\n",
       "      <td>2</td>\n",
       "      <td>1</td>\n",
       "      <td>1045</td>\n",
       "      <td>1</td>\n",
       "      <td>9</td>\n",
       "      <td>smart</td>\n",
       "      <td>0</td>\n",
       "    </tr>\n",
       "    <tr>\n",
       "      <td>3</td>\n",
       "      <td>1</td>\n",
       "      <td>1055</td>\n",
       "      <td>64</td>\n",
       "      <td>551</td>\n",
       "      <td>smart</td>\n",
       "      <td>51</td>\n",
       "    </tr>\n",
       "    <tr>\n",
       "      <td>4</td>\n",
       "      <td>1</td>\n",
       "      <td>1071</td>\n",
       "      <td>24</td>\n",
       "      <td>194</td>\n",
       "      <td>smart</td>\n",
       "      <td>0</td>\n",
       "    </tr>\n",
       "  </tbody>\n",
       "</table>\n",
       "</div>"
      ],
      "text/plain": [
       "   month  user_id  calls_number  calls_minutes tariff  minutes_over_limit\n",
       "0      1     1005            15             95  smart                   0\n",
       "1      1     1032            61            380  smart                   0\n",
       "2      1     1045             1              9  smart                   0\n",
       "3      1     1055            64            551  smart                  51\n",
       "4      1     1071            24            194  smart                   0"
      ]
     },
     "execution_count": 42,
     "metadata": {},
     "output_type": "execute_result"
    }
   ],
   "source": [
    "# добавим в таблицу информацию о минутах звонков сверх лимита по тарифу\n",
    "calls_months[\"minutes_over_limit\"] = calls_months.apply(minutes_over_limit, axis=1)\n",
    "# выведем первые пять строк таблицы \"calls_months\"\n",
    "calls_months.head()"
   ]
  },
  {
   "cell_type": "markdown",
   "metadata": {},
   "source": [
    "**Подсчитаем сообщения сверх лимита**"
   ]
  },
  {
   "cell_type": "code",
   "execution_count": 43,
   "metadata": {},
   "outputs": [],
   "source": [
    "# для удобства работы с таблицей сбросим мультииндекс, переведя его значения в столбцы\n",
    "messages_months.reset_index(inplace=True)\n",
    "# добавим в таблицу \"messages_months\" информацию о тарифах\n",
    "messages_months = messages_months.merge(users_tariffs, on=\"user_id\", how=\"left\")"
   ]
  },
  {
   "cell_type": "code",
   "execution_count": 44,
   "metadata": {},
   "outputs": [],
   "source": [
    "# напишем программу для заполнения в таблице информации о количестве сообщений сверх лимита по тарифу\n",
    "def messages_over_limit(row):\n",
    "    messages = float(\"NaN\")\n",
    "    if row[3] == \"smart\":\n",
    "        messages = row[2] - tariffs[\"messages_included\"][0]\n",
    "    if row[3] == \"ultra\":\n",
    "        messages = row[2] - tariffs[\"messages_included\"][1]\n",
    "    if messages < 0:\n",
    "        messages = 0\n",
    "    return messages"
   ]
  },
  {
   "cell_type": "code",
   "execution_count": 45,
   "metadata": {},
   "outputs": [
    {
     "data": {
      "text/html": [
       "<div>\n",
       "<style scoped>\n",
       "    .dataframe tbody tr th:only-of-type {\n",
       "        vertical-align: middle;\n",
       "    }\n",
       "\n",
       "    .dataframe tbody tr th {\n",
       "        vertical-align: top;\n",
       "    }\n",
       "\n",
       "    .dataframe thead th {\n",
       "        text-align: right;\n",
       "    }\n",
       "</style>\n",
       "<table border=\"1\" class=\"dataframe\">\n",
       "  <thead>\n",
       "    <tr style=\"text-align: right;\">\n",
       "      <th></th>\n",
       "      <th>month</th>\n",
       "      <th>user_id</th>\n",
       "      <th>messages_number</th>\n",
       "      <th>tariff</th>\n",
       "      <th>messages_over_limit</th>\n",
       "    </tr>\n",
       "  </thead>\n",
       "  <tbody>\n",
       "    <tr>\n",
       "      <td>0</td>\n",
       "      <td>1</td>\n",
       "      <td>1005</td>\n",
       "      <td>7</td>\n",
       "      <td>smart</td>\n",
       "      <td>0</td>\n",
       "    </tr>\n",
       "    <tr>\n",
       "      <td>1</td>\n",
       "      <td>1</td>\n",
       "      <td>1032</td>\n",
       "      <td>38</td>\n",
       "      <td>smart</td>\n",
       "      <td>0</td>\n",
       "    </tr>\n",
       "    <tr>\n",
       "      <td>2</td>\n",
       "      <td>1</td>\n",
       "      <td>1045</td>\n",
       "      <td>5</td>\n",
       "      <td>smart</td>\n",
       "      <td>0</td>\n",
       "    </tr>\n",
       "    <tr>\n",
       "      <td>3</td>\n",
       "      <td>1</td>\n",
       "      <td>1055</td>\n",
       "      <td>30</td>\n",
       "      <td>smart</td>\n",
       "      <td>0</td>\n",
       "    </tr>\n",
       "    <tr>\n",
       "      <td>4</td>\n",
       "      <td>1</td>\n",
       "      <td>1071</td>\n",
       "      <td>16</td>\n",
       "      <td>smart</td>\n",
       "      <td>0</td>\n",
       "    </tr>\n",
       "  </tbody>\n",
       "</table>\n",
       "</div>"
      ],
      "text/plain": [
       "   month  user_id  messages_number tariff  messages_over_limit\n",
       "0      1     1005                7  smart                    0\n",
       "1      1     1032               38  smart                    0\n",
       "2      1     1045                5  smart                    0\n",
       "3      1     1055               30  smart                    0\n",
       "4      1     1071               16  smart                    0"
      ]
     },
     "execution_count": 45,
     "metadata": {},
     "output_type": "execute_result"
    }
   ],
   "source": [
    "# добавим в таблицу информацию о количестве сообщений сверх лимита по тарифу\n",
    "messages_months[\"messages_over_limit\"] = messages_months.apply(messages_over_limit, axis=1)\n",
    "# выведем первые пять строк таблицы \"messages_months\"\n",
    "messages_months.head()"
   ]
  },
  {
   "cell_type": "markdown",
   "metadata": {},
   "source": [
    "**Подсчитаем интернет-трафик сверх лимита**"
   ]
  },
  {
   "cell_type": "code",
   "execution_count": 46,
   "metadata": {},
   "outputs": [],
   "source": [
    "# для удобства работы с таблицей сбросим мультииндекс, переведя его значения в столбцы\n",
    "internet_months.reset_index(inplace=True)\n",
    "# добавим в таблицу \"internet_months\" информацию о тарифах\n",
    "internet_months = internet_months.merge(users_tariffs, on=\"user_id\", how=\"left\")"
   ]
  },
  {
   "cell_type": "code",
   "execution_count": 47,
   "metadata": {},
   "outputs": [],
   "source": [
    "# напишем программу для заполнения в таблице информации об объеме интернет-трафика сверх лимита\n",
    "def mb_over_limit(row):\n",
    "    mb = float(\"Nan\")\n",
    "    if row[3] == \"smart\":\n",
    "        mb = row[2] - tariffs[\"mb_per_month_included\"][0]\n",
    "    if row[3] == \"ultra\":\n",
    "        mb = row[2] - tariffs[\"mb_per_month_included\"][1]\n",
    "    if mb < 0:\n",
    "        mb = 0\n",
    "    return mb"
   ]
  },
  {
   "cell_type": "code",
   "execution_count": 48,
   "metadata": {
    "scrolled": true
   },
   "outputs": [
    {
     "data": {
      "text/html": [
       "<div>\n",
       "<style scoped>\n",
       "    .dataframe tbody tr th:only-of-type {\n",
       "        vertical-align: middle;\n",
       "    }\n",
       "\n",
       "    .dataframe tbody tr th {\n",
       "        vertical-align: top;\n",
       "    }\n",
       "\n",
       "    .dataframe thead th {\n",
       "        text-align: right;\n",
       "    }\n",
       "</style>\n",
       "<table border=\"1\" class=\"dataframe\">\n",
       "  <thead>\n",
       "    <tr style=\"text-align: right;\">\n",
       "      <th></th>\n",
       "      <th>month</th>\n",
       "      <th>user_id</th>\n",
       "      <th>mb_used</th>\n",
       "      <th>tariff</th>\n",
       "      <th>mb_over_limit</th>\n",
       "    </tr>\n",
       "  </thead>\n",
       "  <tbody>\n",
       "    <tr>\n",
       "      <td>0</td>\n",
       "      <td>1</td>\n",
       "      <td>1005</td>\n",
       "      <td>2730</td>\n",
       "      <td>smart</td>\n",
       "      <td>0</td>\n",
       "    </tr>\n",
       "    <tr>\n",
       "      <td>1</td>\n",
       "      <td>1</td>\n",
       "      <td>1032</td>\n",
       "      <td>24147</td>\n",
       "      <td>smart</td>\n",
       "      <td>8787</td>\n",
       "    </tr>\n",
       "    <tr>\n",
       "      <td>2</td>\n",
       "      <td>1</td>\n",
       "      <td>1045</td>\n",
       "      <td>2348</td>\n",
       "      <td>smart</td>\n",
       "      <td>0</td>\n",
       "    </tr>\n",
       "    <tr>\n",
       "      <td>3</td>\n",
       "      <td>1</td>\n",
       "      <td>1055</td>\n",
       "      <td>17111</td>\n",
       "      <td>smart</td>\n",
       "      <td>1751</td>\n",
       "    </tr>\n",
       "    <tr>\n",
       "      <td>4</td>\n",
       "      <td>1</td>\n",
       "      <td>1071</td>\n",
       "      <td>15622</td>\n",
       "      <td>smart</td>\n",
       "      <td>262</td>\n",
       "    </tr>\n",
       "  </tbody>\n",
       "</table>\n",
       "</div>"
      ],
      "text/plain": [
       "   month  user_id  mb_used tariff  mb_over_limit\n",
       "0      1     1005     2730  smart              0\n",
       "1      1     1032    24147  smart           8787\n",
       "2      1     1045     2348  smart              0\n",
       "3      1     1055    17111  smart           1751\n",
       "4      1     1071    15622  smart            262"
      ]
     },
     "execution_count": 48,
     "metadata": {},
     "output_type": "execute_result"
    }
   ],
   "source": [
    "# добавим в таблицу информацию об объеме интернет-трафика сверх лимита\n",
    "internet_months[\"mb_over_limit\"] = internet_months.apply(mb_over_limit, axis=1)\n",
    "# выведем первые пять строк таблицы \"internet_months\"\n",
    "internet_months.head()"
   ]
  },
  {
   "cell_type": "markdown",
   "metadata": {},
   "source": [
    "**Объединим информацию о клиентах в одну общую таблицу \"megaline\"**"
   ]
  },
  {
   "cell_type": "code",
   "execution_count": 49,
   "metadata": {},
   "outputs": [
    {
     "data": {
      "text/html": [
       "<div>\n",
       "<style scoped>\n",
       "    .dataframe tbody tr th:only-of-type {\n",
       "        vertical-align: middle;\n",
       "    }\n",
       "\n",
       "    .dataframe tbody tr th {\n",
       "        vertical-align: top;\n",
       "    }\n",
       "\n",
       "    .dataframe thead th {\n",
       "        text-align: right;\n",
       "    }\n",
       "</style>\n",
       "<table border=\"1\" class=\"dataframe\">\n",
       "  <thead>\n",
       "    <tr style=\"text-align: right;\">\n",
       "      <th></th>\n",
       "      <th>month</th>\n",
       "      <th>user_id</th>\n",
       "      <th>calls_number</th>\n",
       "      <th>calls_minutes</th>\n",
       "      <th>tariff</th>\n",
       "      <th>minutes_over_limit</th>\n",
       "      <th>messages_number</th>\n",
       "      <th>messages_over_limit</th>\n",
       "      <th>mb_used</th>\n",
       "      <th>mb_over_limit</th>\n",
       "    </tr>\n",
       "  </thead>\n",
       "  <tbody>\n",
       "    <tr>\n",
       "      <td>0</td>\n",
       "      <td>1</td>\n",
       "      <td>1005</td>\n",
       "      <td>15.0</td>\n",
       "      <td>95.0</td>\n",
       "      <td>smart</td>\n",
       "      <td>0.0</td>\n",
       "      <td>7.0</td>\n",
       "      <td>0.0</td>\n",
       "      <td>2730.0</td>\n",
       "      <td>0.0</td>\n",
       "    </tr>\n",
       "    <tr>\n",
       "      <td>1</td>\n",
       "      <td>1</td>\n",
       "      <td>1032</td>\n",
       "      <td>61.0</td>\n",
       "      <td>380.0</td>\n",
       "      <td>smart</td>\n",
       "      <td>0.0</td>\n",
       "      <td>38.0</td>\n",
       "      <td>0.0</td>\n",
       "      <td>24147.0</td>\n",
       "      <td>8787.0</td>\n",
       "    </tr>\n",
       "    <tr>\n",
       "      <td>2</td>\n",
       "      <td>1</td>\n",
       "      <td>1045</td>\n",
       "      <td>1.0</td>\n",
       "      <td>9.0</td>\n",
       "      <td>smart</td>\n",
       "      <td>0.0</td>\n",
       "      <td>5.0</td>\n",
       "      <td>0.0</td>\n",
       "      <td>2348.0</td>\n",
       "      <td>0.0</td>\n",
       "    </tr>\n",
       "    <tr>\n",
       "      <td>3</td>\n",
       "      <td>1</td>\n",
       "      <td>1055</td>\n",
       "      <td>64.0</td>\n",
       "      <td>551.0</td>\n",
       "      <td>smart</td>\n",
       "      <td>51.0</td>\n",
       "      <td>30.0</td>\n",
       "      <td>0.0</td>\n",
       "      <td>17111.0</td>\n",
       "      <td>1751.0</td>\n",
       "    </tr>\n",
       "    <tr>\n",
       "      <td>4</td>\n",
       "      <td>1</td>\n",
       "      <td>1071</td>\n",
       "      <td>24.0</td>\n",
       "      <td>194.0</td>\n",
       "      <td>smart</td>\n",
       "      <td>0.0</td>\n",
       "      <td>16.0</td>\n",
       "      <td>0.0</td>\n",
       "      <td>15622.0</td>\n",
       "      <td>262.0</td>\n",
       "    </tr>\n",
       "  </tbody>\n",
       "</table>\n",
       "</div>"
      ],
      "text/plain": [
       "   month  user_id  calls_number  calls_minutes tariff  minutes_over_limit  \\\n",
       "0      1     1005          15.0           95.0  smart                 0.0   \n",
       "1      1     1032          61.0          380.0  smart                 0.0   \n",
       "2      1     1045           1.0            9.0  smart                 0.0   \n",
       "3      1     1055          64.0          551.0  smart                51.0   \n",
       "4      1     1071          24.0          194.0  smart                 0.0   \n",
       "\n",
       "   messages_number  messages_over_limit  mb_used  mb_over_limit  \n",
       "0              7.0                  0.0   2730.0            0.0  \n",
       "1             38.0                  0.0  24147.0         8787.0  \n",
       "2              5.0                  0.0   2348.0            0.0  \n",
       "3             30.0                  0.0  17111.0         1751.0  \n",
       "4             16.0                  0.0  15622.0          262.0  "
      ]
     },
     "execution_count": 49,
     "metadata": {},
     "output_type": "execute_result"
    }
   ],
   "source": [
    "# объединим таблицы \"calls_months\", \"messages_months\" и \"internet_months\" в таблицу \"megaline\"\n",
    "megaline = pd.merge(calls_months, messages_months, on=[\"month\", \"user_id\", \"tariff\"], how=\"outer\")\n",
    "megaline = pd.merge(megaline, internet_months, on=[\"month\", \"user_id\", \"tariff\"], how=\"outer\")\n",
    "# выведем первые пять строк таблицы \"megaline\"\n",
    "megaline.head()"
   ]
  },
  {
   "cell_type": "code",
   "execution_count": 50,
   "metadata": {},
   "outputs": [
    {
     "data": {
      "text/plain": [
       "Index(['month', 'user_id', 'tariff', 'calls_number', 'calls_minutes',\n",
       "       'messages_number', 'mb_used', 'minutes_over_limit',\n",
       "       'messages_over_limit', 'mb_over_limit'],\n",
       "      dtype='object')"
      ]
     },
     "execution_count": 50,
     "metadata": {},
     "output_type": "execute_result"
    }
   ],
   "source": [
    "# поменяем порядок столбцов в таблице \"megaline\" на более удобный для восприятия и работы\n",
    "megaline = megaline[[\"month\", \"user_id\", \"tariff\", \"calls_number\", \"calls_minutes\", \"messages_number\", \"mb_used\", \n",
    "                     \"minutes_over_limit\", \"messages_over_limit\", \"mb_over_limit\"]]\n",
    "# выведем названия столбцов таблицы \"megaline\"\n",
    "megaline.columns"
   ]
  },
  {
   "cell_type": "code",
   "execution_count": 51,
   "metadata": {},
   "outputs": [
    {
     "data": {
      "text/plain": [
       "month                    0\n",
       "user_id                  0\n",
       "tariff                   0\n",
       "calls_number            40\n",
       "calls_minutes           40\n",
       "messages_number        497\n",
       "mb_used                 11\n",
       "minutes_over_limit      40\n",
       "messages_over_limit    497\n",
       "mb_over_limit           11\n",
       "dtype: int64"
      ]
     },
     "execution_count": 51,
     "metadata": {},
     "output_type": "execute_result"
    }
   ],
   "source": [
    "# подсчитаем количество пропусков в таблице \"megaline\" \n",
    "megaline.isnull().sum()"
   ]
  },
  {
   "cell_type": "code",
   "execution_count": 52,
   "metadata": {},
   "outputs": [],
   "source": [
    "# заполним пропуски нулями\n",
    "megaline = megaline.fillna(0)"
   ]
  },
  {
   "cell_type": "code",
   "execution_count": 53,
   "metadata": {},
   "outputs": [],
   "source": [
    "# напишем программу для заполнения данных в таблице о доходах по абонентской плате\n",
    "def fill_abonent_income(row):\n",
    "    abonent_income = float(\"NaN\")\n",
    "    if row[2] == \"smart\":\n",
    "        abonent_income = tariffs[\"rub_monthly_fee\"][0]\n",
    "    if row[2] == \"ultra\": \n",
    "        abonent_income = tariffs[\"rub_monthly_fee\"][1]\n",
    "    return abonent_income"
   ]
  },
  {
   "cell_type": "code",
   "execution_count": 54,
   "metadata": {},
   "outputs": [],
   "source": [
    "# заполним в таблице \"megaline\" данные о доходах по абонентской плате\n",
    "megaline[\"abonent_income\"] = megaline.apply(fill_abonent_income, axis=1)"
   ]
  },
  {
   "cell_type": "code",
   "execution_count": 55,
   "metadata": {},
   "outputs": [],
   "source": [
    "# напишем программу для заполнения данных в таблице о доходах засчет превышения лимитов, установленных для абонентской платы\n",
    "def fill_over_limit_income(row):\n",
    "    over_limit_income = float(\"NaN\")\n",
    "    if row[2] == \"smart\":\n",
    "        over_limit_income = row[7] * tariffs[\"rub_per_minute\"][0] + row[8] * tariffs[\"rub_per_message\"][0] + row[9] * tariffs[\"rub_per_gb\"][0] / 1024\n",
    "    if row[2] == \"ultra\":\n",
    "        over_limit_income = row[7] * tariffs[\"rub_per_minute\"][1] + row[8] * tariffs[\"rub_per_message\"][1] + row[9] * tariffs[\"rub_per_gb\"][1] / 1024\n",
    "    return over_limit_income"
   ]
  },
  {
   "cell_type": "code",
   "execution_count": 56,
   "metadata": {},
   "outputs": [
    {
     "data": {
      "text/html": [
       "<div>\n",
       "<style scoped>\n",
       "    .dataframe tbody tr th:only-of-type {\n",
       "        vertical-align: middle;\n",
       "    }\n",
       "\n",
       "    .dataframe tbody tr th {\n",
       "        vertical-align: top;\n",
       "    }\n",
       "\n",
       "    .dataframe thead th {\n",
       "        text-align: right;\n",
       "    }\n",
       "</style>\n",
       "<table border=\"1\" class=\"dataframe\">\n",
       "  <thead>\n",
       "    <tr style=\"text-align: right;\">\n",
       "      <th></th>\n",
       "      <th>month</th>\n",
       "      <th>user_id</th>\n",
       "      <th>tariff</th>\n",
       "      <th>calls_number</th>\n",
       "      <th>calls_minutes</th>\n",
       "      <th>messages_number</th>\n",
       "      <th>mb_used</th>\n",
       "      <th>minutes_over_limit</th>\n",
       "      <th>messages_over_limit</th>\n",
       "      <th>mb_over_limit</th>\n",
       "      <th>abonent_income</th>\n",
       "      <th>over_limit_income</th>\n",
       "      <th>total_income</th>\n",
       "      <th>city</th>\n",
       "    </tr>\n",
       "  </thead>\n",
       "  <tbody>\n",
       "    <tr>\n",
       "      <td>1090</td>\n",
       "      <td>7</td>\n",
       "      <td>1404</td>\n",
       "      <td>smart</td>\n",
       "      <td>27.0</td>\n",
       "      <td>142.0</td>\n",
       "      <td>48.0</td>\n",
       "      <td>19509.0</td>\n",
       "      <td>0.0</td>\n",
       "      <td>0.0</td>\n",
       "      <td>4149.0</td>\n",
       "      <td>550</td>\n",
       "      <td>810.351562</td>\n",
       "      <td>1360</td>\n",
       "      <td>Иркутск</td>\n",
       "    </tr>\n",
       "    <tr>\n",
       "      <td>1230</td>\n",
       "      <td>8</td>\n",
       "      <td>1135</td>\n",
       "      <td>smart</td>\n",
       "      <td>73.0</td>\n",
       "      <td>654.0</td>\n",
       "      <td>21.0</td>\n",
       "      <td>18442.0</td>\n",
       "      <td>154.0</td>\n",
       "      <td>0.0</td>\n",
       "      <td>3082.0</td>\n",
       "      <td>550</td>\n",
       "      <td>1063.953125</td>\n",
       "      <td>1613</td>\n",
       "      <td>Архангельск</td>\n",
       "    </tr>\n",
       "    <tr>\n",
       "      <td>918</td>\n",
       "      <td>7</td>\n",
       "      <td>1107</td>\n",
       "      <td>smart</td>\n",
       "      <td>10.0</td>\n",
       "      <td>63.0</td>\n",
       "      <td>0.0</td>\n",
       "      <td>6289.0</td>\n",
       "      <td>0.0</td>\n",
       "      <td>0.0</td>\n",
       "      <td>0.0</td>\n",
       "      <td>550</td>\n",
       "      <td>0.000000</td>\n",
       "      <td>550</td>\n",
       "      <td>Орёл</td>\n",
       "    </tr>\n",
       "    <tr>\n",
       "      <td>1028</td>\n",
       "      <td>7</td>\n",
       "      <td>1298</td>\n",
       "      <td>smart</td>\n",
       "      <td>11.0</td>\n",
       "      <td>108.0</td>\n",
       "      <td>4.0</td>\n",
       "      <td>5162.0</td>\n",
       "      <td>0.0</td>\n",
       "      <td>0.0</td>\n",
       "      <td>0.0</td>\n",
       "      <td>550</td>\n",
       "      <td>0.000000</td>\n",
       "      <td>550</td>\n",
       "      <td>Новосибирск</td>\n",
       "    </tr>\n",
       "    <tr>\n",
       "      <td>2694</td>\n",
       "      <td>11</td>\n",
       "      <td>1488</td>\n",
       "      <td>smart</td>\n",
       "      <td>51.0</td>\n",
       "      <td>403.0</td>\n",
       "      <td>81.0</td>\n",
       "      <td>13672.0</td>\n",
       "      <td>0.0</td>\n",
       "      <td>31.0</td>\n",
       "      <td>0.0</td>\n",
       "      <td>550</td>\n",
       "      <td>93.000000</td>\n",
       "      <td>643</td>\n",
       "      <td>Новороссийск</td>\n",
       "    </tr>\n",
       "    <tr>\n",
       "      <td>1567</td>\n",
       "      <td>9</td>\n",
       "      <td>1125</td>\n",
       "      <td>smart</td>\n",
       "      <td>38.0</td>\n",
       "      <td>332.0</td>\n",
       "      <td>8.0</td>\n",
       "      <td>13042.0</td>\n",
       "      <td>0.0</td>\n",
       "      <td>0.0</td>\n",
       "      <td>0.0</td>\n",
       "      <td>550</td>\n",
       "      <td>0.000000</td>\n",
       "      <td>550</td>\n",
       "      <td>Волгоград</td>\n",
       "    </tr>\n",
       "    <tr>\n",
       "      <td>2421</td>\n",
       "      <td>11</td>\n",
       "      <td>1183</td>\n",
       "      <td>smart</td>\n",
       "      <td>55.0</td>\n",
       "      <td>369.0</td>\n",
       "      <td>46.0</td>\n",
       "      <td>8799.0</td>\n",
       "      <td>0.0</td>\n",
       "      <td>0.0</td>\n",
       "      <td>0.0</td>\n",
       "      <td>550</td>\n",
       "      <td>0.000000</td>\n",
       "      <td>550</td>\n",
       "      <td>Владивосток</td>\n",
       "    </tr>\n",
       "    <tr>\n",
       "      <td>636</td>\n",
       "      <td>6</td>\n",
       "      <td>1054</td>\n",
       "      <td>smart</td>\n",
       "      <td>83.0</td>\n",
       "      <td>527.0</td>\n",
       "      <td>69.0</td>\n",
       "      <td>19380.0</td>\n",
       "      <td>27.0</td>\n",
       "      <td>19.0</td>\n",
       "      <td>4020.0</td>\n",
       "      <td>550</td>\n",
       "      <td>923.156250</td>\n",
       "      <td>1473</td>\n",
       "      <td>Омск</td>\n",
       "    </tr>\n",
       "    <tr>\n",
       "      <td>2376</td>\n",
       "      <td>11</td>\n",
       "      <td>1134</td>\n",
       "      <td>smart</td>\n",
       "      <td>72.0</td>\n",
       "      <td>596.0</td>\n",
       "      <td>50.0</td>\n",
       "      <td>15878.0</td>\n",
       "      <td>96.0</td>\n",
       "      <td>0.0</td>\n",
       "      <td>518.0</td>\n",
       "      <td>550</td>\n",
       "      <td>389.171875</td>\n",
       "      <td>939</td>\n",
       "      <td>Красноярск</td>\n",
       "    </tr>\n",
       "    <tr>\n",
       "      <td>944</td>\n",
       "      <td>7</td>\n",
       "      <td>1152</td>\n",
       "      <td>ultra</td>\n",
       "      <td>38.0</td>\n",
       "      <td>294.0</td>\n",
       "      <td>0.0</td>\n",
       "      <td>17419.0</td>\n",
       "      <td>0.0</td>\n",
       "      <td>0.0</td>\n",
       "      <td>0.0</td>\n",
       "      <td>1950</td>\n",
       "      <td>0.000000</td>\n",
       "      <td>1950</td>\n",
       "      <td>Мурманск</td>\n",
       "    </tr>\n",
       "  </tbody>\n",
       "</table>\n",
       "</div>"
      ],
      "text/plain": [
       "      month  user_id tariff  calls_number  calls_minutes  messages_number  \\\n",
       "1090      7     1404  smart          27.0          142.0             48.0   \n",
       "1230      8     1135  smart          73.0          654.0             21.0   \n",
       "918       7     1107  smart          10.0           63.0              0.0   \n",
       "1028      7     1298  smart          11.0          108.0              4.0   \n",
       "2694     11     1488  smart          51.0          403.0             81.0   \n",
       "1567      9     1125  smart          38.0          332.0              8.0   \n",
       "2421     11     1183  smart          55.0          369.0             46.0   \n",
       "636       6     1054  smart          83.0          527.0             69.0   \n",
       "2376     11     1134  smart          72.0          596.0             50.0   \n",
       "944       7     1152  ultra          38.0          294.0              0.0   \n",
       "\n",
       "      mb_used  minutes_over_limit  messages_over_limit  mb_over_limit  \\\n",
       "1090  19509.0                 0.0                  0.0         4149.0   \n",
       "1230  18442.0               154.0                  0.0         3082.0   \n",
       "918    6289.0                 0.0                  0.0            0.0   \n",
       "1028   5162.0                 0.0                  0.0            0.0   \n",
       "2694  13672.0                 0.0                 31.0            0.0   \n",
       "1567  13042.0                 0.0                  0.0            0.0   \n",
       "2421   8799.0                 0.0                  0.0            0.0   \n",
       "636   19380.0                27.0                 19.0         4020.0   \n",
       "2376  15878.0                96.0                  0.0          518.0   \n",
       "944   17419.0                 0.0                  0.0            0.0   \n",
       "\n",
       "      abonent_income  over_limit_income  total_income          city  \n",
       "1090             550         810.351562          1360       Иркутск  \n",
       "1230             550        1063.953125          1613   Архангельск  \n",
       "918              550           0.000000           550          Орёл  \n",
       "1028             550           0.000000           550   Новосибирск  \n",
       "2694             550          93.000000           643  Новороссийск  \n",
       "1567             550           0.000000           550     Волгоград  \n",
       "2421             550           0.000000           550   Владивосток  \n",
       "636              550         923.156250          1473          Омск  \n",
       "2376             550         389.171875           939    Красноярск  \n",
       "944             1950           0.000000          1950      Мурманск  "
      ]
     },
     "execution_count": 56,
     "metadata": {},
     "output_type": "execute_result"
    }
   ],
   "source": [
    "# добавим в таблицу \"megaline\" данные о доходах засчет превышения лимитов, установленных для абонентской платы\n",
    "megaline[\"over_limit_income\"] = megaline.apply(fill_over_limit_income, axis=1)\n",
    "# добавим в таблицу данные о полном доходе (сумма \"abonent_income\" и \"over_limit_income)\"\n",
    "megaline[\"total_income\"] = megaline[\"abonent_income\"] + megaline[\"over_limit_income\"]\n",
    "# точность дохода в десятых долях рублей представляется избыточной - изменим тип данных на \"int\" для столбца \"total_income\"\n",
    "megaline[\"total_income\"] = megaline[\"total_income\"].astype(\"int64\")\n",
    "# с учетом задачи исследования добавим в таблицу \"megaline\" данные о городе проживания\n",
    "# для этого создадим таблицу соответствия \"user_id\" и города проживания\n",
    "users_cities = pd.concat([users[\"user_id\"], users[\"city\"]], axis = 1)\n",
    "# добавим данные о городах пользователей в таблицу \"megaline\"\n",
    "megaline = megaline.merge(users_cities, on=\"user_id\", how=\"left\")\n",
    "# выведем случайные 10 строк таблицы \"megaline\"\n",
    "megaline.sample(10)"
   ]
  },
  {
   "cell_type": "markdown",
   "metadata": {},
   "source": [
    "### Выводы"
   ]
  },
  {
   "cell_type": "markdown",
   "metadata": {},
   "source": [
    "1. Для каждого пользователя рассчитали количество сделанных звонков и израсходованных минут разговора по месяцам.\n",
    "2. Для каждого пользователя рассчитали количество отправленных сообщений по месяцам.\n",
    "3. Для каждого пользователя рассчитали объем израсходованного интернет-трафика по месяцам.\n",
    "4. Рассчитали помесячную выручку с каждого пользователя.\n",
    "5. Путем суммирования наиболее важной (с точки зрения целей настоящего исследования) информации, хранящейся в отдельных таблицах, получили итоговую таблицу \"megaline\"."
   ]
  },
  {
   "cell_type": "markdown",
   "metadata": {},
   "source": [
    "## Анализ данных"
   ]
  },
  {
   "cell_type": "markdown",
   "metadata": {},
   "source": [
    "### Расчет количества минут разговора, сообщений и объёма интернет-трафика требуемого пользователям каждого тарифа в месяц "
   ]
  },
  {
   "cell_type": "code",
   "execution_count": 57,
   "metadata": {},
   "outputs": [],
   "source": [
    "# выделим в таблице \"megaline\" часть, относящуюся к тарифу \"smart\"\n",
    "megaline_smart = megaline.query(\"tariff == 'smart'\")\n",
    "# выделим в таблице \"megaline\" часть, относящуюся к тарифу \"ultra\"\n",
    "megaline_ultra = megaline.query(\"tariff == 'ultra'\")"
   ]
  },
  {
   "cell_type": "code",
   "execution_count": 58,
   "metadata": {},
   "outputs": [
    {
     "data": {
      "text/html": [
       "<div>\n",
       "<style scoped>\n",
       "    .dataframe tbody tr th:only-of-type {\n",
       "        vertical-align: middle;\n",
       "    }\n",
       "\n",
       "    .dataframe tbody tr th {\n",
       "        vertical-align: top;\n",
       "    }\n",
       "\n",
       "    .dataframe thead th {\n",
       "        text-align: right;\n",
       "    }\n",
       "</style>\n",
       "<table border=\"1\" class=\"dataframe\">\n",
       "  <thead>\n",
       "    <tr style=\"text-align: right;\">\n",
       "      <th></th>\n",
       "      <th>calls_minutes</th>\n",
       "      <th>mb_used</th>\n",
       "      <th>messages_number</th>\n",
       "      <th>total_income</th>\n",
       "    </tr>\n",
       "    <tr>\n",
       "      <th>month</th>\n",
       "      <th></th>\n",
       "      <th></th>\n",
       "      <th></th>\n",
       "      <th></th>\n",
       "    </tr>\n",
       "  </thead>\n",
       "  <tbody>\n",
       "    <tr>\n",
       "      <td>1</td>\n",
       "      <td>6931.0</td>\n",
       "      <td>289831.0</td>\n",
       "      <td>620.0</td>\n",
       "      <td>23883</td>\n",
       "    </tr>\n",
       "    <tr>\n",
       "      <td>2</td>\n",
       "      <td>17324.0</td>\n",
       "      <td>673461.0</td>\n",
       "      <td>1397.0</td>\n",
       "      <td>46645</td>\n",
       "    </tr>\n",
       "    <tr>\n",
       "      <td>3</td>\n",
       "      <td>30034.0</td>\n",
       "      <td>1164537.0</td>\n",
       "      <td>2453.0</td>\n",
       "      <td>86096</td>\n",
       "    </tr>\n",
       "    <tr>\n",
       "      <td>4</td>\n",
       "      <td>41119.0</td>\n",
       "      <td>1509702.0</td>\n",
       "      <td>3443.0</td>\n",
       "      <td>103281</td>\n",
       "    </tr>\n",
       "    <tr>\n",
       "      <td>5</td>\n",
       "      <td>54618.0</td>\n",
       "      <td>2231353.0</td>\n",
       "      <td>4762.0</td>\n",
       "      <td>161671</td>\n",
       "    </tr>\n",
       "    <tr>\n",
       "      <td>6</td>\n",
       "      <td>64885.0</td>\n",
       "      <td>2593622.0</td>\n",
       "      <td>5478.0</td>\n",
       "      <td>188484</td>\n",
       "    </tr>\n",
       "    <tr>\n",
       "      <td>7</td>\n",
       "      <td>82079.0</td>\n",
       "      <td>3168466.0</td>\n",
       "      <td>6784.0</td>\n",
       "      <td>234728</td>\n",
       "    </tr>\n",
       "    <tr>\n",
       "      <td>8</td>\n",
       "      <td>99045.0</td>\n",
       "      <td>3908561.0</td>\n",
       "      <td>7905.0</td>\n",
       "      <td>295670</td>\n",
       "    </tr>\n",
       "    <tr>\n",
       "      <td>9</td>\n",
       "      <td>111439.0</td>\n",
       "      <td>4244377.0</td>\n",
       "      <td>8746.0</td>\n",
       "      <td>311684</td>\n",
       "    </tr>\n",
       "    <tr>\n",
       "      <td>10</td>\n",
       "      <td>125284.0</td>\n",
       "      <td>4932898.0</td>\n",
       "      <td>9927.0</td>\n",
       "      <td>383539</td>\n",
       "    </tr>\n",
       "    <tr>\n",
       "      <td>11</td>\n",
       "      <td>137544.0</td>\n",
       "      <td>5345940.0</td>\n",
       "      <td>10768.0</td>\n",
       "      <td>405444</td>\n",
       "    </tr>\n",
       "    <tr>\n",
       "      <td>12</td>\n",
       "      <td>161275.0</td>\n",
       "      <td>6112113.0</td>\n",
       "      <td>12130.0</td>\n",
       "      <td>507361</td>\n",
       "    </tr>\n",
       "  </tbody>\n",
       "</table>\n",
       "</div>"
      ],
      "text/plain": [
       "       calls_minutes    mb_used  messages_number  total_income\n",
       "month                                                         \n",
       "1             6931.0   289831.0            620.0         23883\n",
       "2            17324.0   673461.0           1397.0         46645\n",
       "3            30034.0  1164537.0           2453.0         86096\n",
       "4            41119.0  1509702.0           3443.0        103281\n",
       "5            54618.0  2231353.0           4762.0        161671\n",
       "6            64885.0  2593622.0           5478.0        188484\n",
       "7            82079.0  3168466.0           6784.0        234728\n",
       "8            99045.0  3908561.0           7905.0        295670\n",
       "9           111439.0  4244377.0           8746.0        311684\n",
       "10          125284.0  4932898.0           9927.0        383539\n",
       "11          137544.0  5345940.0          10768.0        405444\n",
       "12          161275.0  6112113.0          12130.0        507361"
      ]
     },
     "execution_count": 58,
     "metadata": {},
     "output_type": "execute_result"
    }
   ],
   "source": [
    "# создадим сводную таблицу для пользователей тарифа \"smart\"\n",
    "smart_pivot_table = megaline_smart.pivot_table(index=\"month\", values=[\"calls_minutes\", \"messages_number\", \"mb_used\", \"total_income\"], aggfunc=\"sum\")\n",
    "smart_pivot_table"
   ]
  },
  {
   "cell_type": "code",
   "execution_count": 59,
   "metadata": {},
   "outputs": [
    {
     "data": {
      "text/html": [
       "<div>\n",
       "<style scoped>\n",
       "    .dataframe tbody tr th:only-of-type {\n",
       "        vertical-align: middle;\n",
       "    }\n",
       "\n",
       "    .dataframe tbody tr th {\n",
       "        vertical-align: top;\n",
       "    }\n",
       "\n",
       "    .dataframe thead th {\n",
       "        text-align: right;\n",
       "    }\n",
       "</style>\n",
       "<table border=\"1\" class=\"dataframe\">\n",
       "  <thead>\n",
       "    <tr style=\"text-align: right;\">\n",
       "      <th></th>\n",
       "      <th>calls_minutes</th>\n",
       "      <th>mb_used</th>\n",
       "      <th>messages_number</th>\n",
       "      <th>total_income</th>\n",
       "    </tr>\n",
       "    <tr>\n",
       "      <th>month</th>\n",
       "      <th></th>\n",
       "      <th></th>\n",
       "      <th></th>\n",
       "      <th></th>\n",
       "    </tr>\n",
       "  </thead>\n",
       "  <tbody>\n",
       "    <tr>\n",
       "      <td>1</td>\n",
       "      <td>3853.0</td>\n",
       "      <td>118382.0</td>\n",
       "      <td>304.0</td>\n",
       "      <td>17550</td>\n",
       "    </tr>\n",
       "    <tr>\n",
       "      <td>2</td>\n",
       "      <td>7131.0</td>\n",
       "      <td>282887.0</td>\n",
       "      <td>527.0</td>\n",
       "      <td>47352</td>\n",
       "    </tr>\n",
       "    <tr>\n",
       "      <td>3</td>\n",
       "      <td>18117.0</td>\n",
       "      <td>649423.0</td>\n",
       "      <td>1195.0</td>\n",
       "      <td>74151</td>\n",
       "    </tr>\n",
       "    <tr>\n",
       "      <td>4</td>\n",
       "      <td>25191.0</td>\n",
       "      <td>926409.0</td>\n",
       "      <td>1736.0</td>\n",
       "      <td>109746</td>\n",
       "    </tr>\n",
       "    <tr>\n",
       "      <td>5</td>\n",
       "      <td>34192.0</td>\n",
       "      <td>1298540.0</td>\n",
       "      <td>2536.0</td>\n",
       "      <td>137678</td>\n",
       "    </tr>\n",
       "    <tr>\n",
       "      <td>6</td>\n",
       "      <td>40295.0</td>\n",
       "      <td>1591148.0</td>\n",
       "      <td>3505.0</td>\n",
       "      <td>170687</td>\n",
       "    </tr>\n",
       "    <tr>\n",
       "      <td>7</td>\n",
       "      <td>49667.0</td>\n",
       "      <td>1866833.0</td>\n",
       "      <td>4536.0</td>\n",
       "      <td>191867</td>\n",
       "    </tr>\n",
       "    <tr>\n",
       "      <td>8</td>\n",
       "      <td>54653.0</td>\n",
       "      <td>2096565.0</td>\n",
       "      <td>5183.0</td>\n",
       "      <td>221603</td>\n",
       "    </tr>\n",
       "    <tr>\n",
       "      <td>9</td>\n",
       "      <td>62036.0</td>\n",
       "      <td>2210554.0</td>\n",
       "      <td>6013.0</td>\n",
       "      <td>231572</td>\n",
       "    </tr>\n",
       "    <tr>\n",
       "      <td>10</td>\n",
       "      <td>68644.0</td>\n",
       "      <td>2467856.0</td>\n",
       "      <td>7187.0</td>\n",
       "      <td>252992</td>\n",
       "    </tr>\n",
       "    <tr>\n",
       "      <td>11</td>\n",
       "      <td>72545.0</td>\n",
       "      <td>2653912.0</td>\n",
       "      <td>7476.0</td>\n",
       "      <td>278819</td>\n",
       "    </tr>\n",
       "    <tr>\n",
       "      <td>12</td>\n",
       "      <td>82400.0</td>\n",
       "      <td>3032089.0</td>\n",
       "      <td>8425.0</td>\n",
       "      <td>295539</td>\n",
       "    </tr>\n",
       "  </tbody>\n",
       "</table>\n",
       "</div>"
      ],
      "text/plain": [
       "       calls_minutes    mb_used  messages_number  total_income\n",
       "month                                                         \n",
       "1             3853.0   118382.0            304.0         17550\n",
       "2             7131.0   282887.0            527.0         47352\n",
       "3            18117.0   649423.0           1195.0         74151\n",
       "4            25191.0   926409.0           1736.0        109746\n",
       "5            34192.0  1298540.0           2536.0        137678\n",
       "6            40295.0  1591148.0           3505.0        170687\n",
       "7            49667.0  1866833.0           4536.0        191867\n",
       "8            54653.0  2096565.0           5183.0        221603\n",
       "9            62036.0  2210554.0           6013.0        231572\n",
       "10           68644.0  2467856.0           7187.0        252992\n",
       "11           72545.0  2653912.0           7476.0        278819\n",
       "12           82400.0  3032089.0           8425.0        295539"
      ]
     },
     "execution_count": 59,
     "metadata": {},
     "output_type": "execute_result"
    }
   ],
   "source": [
    "# создадим сводную таблицу для пользователей тарифа \"ultra\"\n",
    "ultra_pivot_table = megaline_ultra.pivot_table(index=\"month\", values=[\"calls_minutes\", \"messages_number\", \"mb_used\", \"total_income\"], aggfunc=\"sum\")\n",
    "ultra_pivot_table"
   ]
  },
  {
   "cell_type": "code",
   "execution_count": 60,
   "metadata": {
    "scrolled": false
   },
   "outputs": [
    {
     "data": {
      "image/png": "[encoded data removed]",
      "text/plain": [
       "<Figure size 720x360 with 1 Axes>"
      ]
     },
     "metadata": {
      "needs_background": "light"
     },
     "output_type": "display_data"
    }
   ],
   "source": [
    "# для сравнения двух тарифов визуализируем полученные результаты для минут звонков\n",
    "x = np.arange(12)\n",
    "labels=[\"01\", \"02\", \"03\", \"04\", \"05\", \"06\", \"07\", \"08\", \"09\", \"10\", \"11\", \"12\"]\n",
    "fig, ax = plt.subplots(figsize=(10, 5))\n",
    "ax.bar(x - 0.35 / 2, smart_pivot_table[\"calls_minutes\"], width=0.35, label=\"smart тариф\")\n",
    "ax.bar(x + 0.35 / 2, ultra_pivot_table[\"calls_minutes\"], width=0.35, label=\"ultra тариф\")\n",
    "ax.set_xticks(x)\n",
    "ax.set_xticklabels(labels)\n",
    "ax.legend(fontsize=12)\n",
    "ax.set_ylabel(\"Минуты звонков\", fontsize=12)\n",
    "ax.set_xlabel(\"Месяц\", fontsize=12)\n",
    "plt.title(\"Распределение по месяцам минут звонков, сделанных всеми пользователями тарифа\", fontsize=14, fontweight='bold')\n",
    "plt.show()"
   ]
  },
  {
   "cell_type": "code",
   "execution_count": 61,
   "metadata": {},
   "outputs": [
    {
     "data": {
      "image/png": "[encoded data removed]",
      "text/plain": [
       "<Figure size 720x360 with 1 Axes>"
      ]
     },
     "metadata": {
      "needs_background": "light"
     },
     "output_type": "display_data"
    }
   ],
   "source": [
    "# для сравнения двух тарифов визуализируем полученные результаты для количества сообщений\n",
    "x = np.arange(12)\n",
    "labels=[\"01\", \"02\", \"03\", \"04\", \"05\", \"06\", \"07\", \"08\", \"09\", \"10\", \"11\", \"12\"]\n",
    "fig, ax = plt.subplots(figsize=(10, 5))\n",
    "ax.bar(x - 0.35 / 2, smart_pivot_table[\"messages_number\"], width=0.35, label=\"smart тариф\")\n",
    "ax.bar(x + 0.35 / 2, ultra_pivot_table[\"messages_number\"], width=0.35, label=\"ultra тариф\")\n",
    "ax.set_xticks(x)\n",
    "ax.set_xticklabels(labels)\n",
    "ax.legend(fontsize=12)\n",
    "ax.set_ylabel(\"Количество сообщений\", fontsize=12)\n",
    "ax.set_xlabel(\"Месяц\", fontsize=12)\n",
    "plt.title(\"Распределение по месяцам количества сообщений, отправленных всеми пользователями тарифа\", fontsize=14, fontweight='bold')\n",
    "plt.show()"
   ]
  },
  {
   "cell_type": "code",
   "execution_count": 62,
   "metadata": {
    "scrolled": true
   },
   "outputs": [
    {
     "data": {
      "image/png": "[encoded data removed]",
      "text/plain": [
       "<Figure size 720x360 with 1 Axes>"
      ]
     },
     "metadata": {
      "needs_background": "light"
     },
     "output_type": "display_data"
    }
   ],
   "source": [
    "# для сравнения двух тарифов визуализируем полученные результаты для объема интернет-трафика\n",
    "x = np.arange(12)\n",
    "labels=[\"01\", \"02\", \"03\", \"04\", \"05\", \"06\", \"07\", \"08\", \"09\", \"10\", \"11\", \"12\"]\n",
    "fig, ax = plt.subplots(figsize=(10, 5))\n",
    "ax.bar(x - 0.35 / 2, smart_pivot_table[\"mb_used\"], width=0.35, label=\"smart тариф\")\n",
    "ax.bar(x + 0.35 / 2, ultra_pivot_table[\"mb_used\"], width=0.35, label=\"ultra тариф\")\n",
    "ax.set_xticks(x)\n",
    "ax.set_xticklabels(labels)\n",
    "ax.legend(fontsize=12)\n",
    "ax.set_ylabel(\"Интернет-трафик, мб\", fontsize=12)\n",
    "ax.set_xlabel(\"Месяц\", fontsize=12)\n",
    "plt.title(\"Распределение по месяцам объема интернет-трафика, потраченного всеми пользователями тарифа\", fontsize=14, fontweight='bold')\n",
    "plt.show()"
   ]
  },
  {
   "cell_type": "markdown",
   "metadata": {},
   "source": [
    "Из графиков и сводных таблиц хорошо видно, что минуты звонков, количество сообщений и объем интернет трафика растет от месяца к месяцу для обоих тарифов. При этом рассматриваемые показатели стабильно в течение года выше для тарифа \"smart\"."
   ]
  },
  {
   "cell_type": "markdown",
   "metadata": {},
   "source": [
    "### Расчеты среднего, дисперсии и стандартного отклонения "
   ]
  },
  {
   "cell_type": "markdown",
   "metadata": {},
   "source": [
    "Расчеты среднего, дисперсии и стандартного отклонения выполним для следующих величин: минуты звонков, количество сообщений и объем интернет-трафика. Даные величины соответствуют одному пользователю и периоду времени равному одному календарному месяцу."
   ]
  },
  {
   "cell_type": "markdown",
   "metadata": {},
   "source": [
    "**Минуты звонков, сделанных пользователем в месяц**"
   ]
  },
  {
   "cell_type": "code",
   "execution_count": 63,
   "metadata": {
    "scrolled": true
   },
   "outputs": [
    {
     "name": "stdout",
     "output_type": "stream",
     "text": [
      "Среднее равно: 418\n",
      "Дисперсия равна: 36203\n",
      "Стандартное отклонение равно: 190\n"
     ]
    }
   ],
   "source": [
    "# выведем статистику для тарифа \"smart\"\n",
    "print(\"Среднее равно: {:.0f}\".format(megaline_smart[\"calls_minutes\"].mean()))\n",
    "print(\"Дисперсия равна: {:.0f}\".format(np.var(megaline_smart[\"calls_minutes\"])))\n",
    "print(\"Стандартное отклонение равно: {:.0f}\".format(np.std(megaline_smart[\"calls_minutes\"])))"
   ]
  },
  {
   "cell_type": "code",
   "execution_count": 64,
   "metadata": {},
   "outputs": [
    {
     "data": {
      "text/plain": [
       "count    2229.000000\n",
       "mean      417.934948\n",
       "std       190.313730\n",
       "min         0.000000\n",
       "25%       282.000000\n",
       "50%       422.000000\n",
       "75%       545.000000\n",
       "max      1435.000000\n",
       "Name: calls_minutes, dtype: float64"
      ]
     },
     "execution_count": 64,
     "metadata": {},
     "output_type": "execute_result"
    }
   ],
   "source": [
    "# выедем также основную статистику для тарифа \"smart\" методом describe()\n",
    "megaline_smart[\"calls_minutes\"].describe()"
   ]
  },
  {
   "cell_type": "code",
   "execution_count": 65,
   "metadata": {},
   "outputs": [
    {
     "name": "stdout",
     "output_type": "stream",
     "text": [
      "Среднее равно: 527\n",
      "Дисперсия равна: 100771\n",
      "Стандартное отклонение равно: 317\n"
     ]
    }
   ],
   "source": [
    "# выведем статистику для тарифа \"ultra\"\n",
    "print(\"Среднее равно: {:.0f}\".format(megaline_ultra[\"calls_minutes\"].mean()))\n",
    "print(\"Дисперсия равна: {:.0f}\".format(np.var(megaline_ultra[\"calls_minutes\"])))\n",
    "print(\"Стандартное отклонение равно: {:.0f}\".format(np.std(megaline_ultra[\"calls_minutes\"])))"
   ]
  },
  {
   "cell_type": "code",
   "execution_count": 66,
   "metadata": {},
   "outputs": [
    {
     "data": {
      "text/plain": [
       "count     985.000000\n",
       "mean      526.623350\n",
       "std       317.606098\n",
       "min         0.000000\n",
       "25%       284.000000\n",
       "50%       518.000000\n",
       "75%       752.000000\n",
       "max      1673.000000\n",
       "Name: calls_minutes, dtype: float64"
      ]
     },
     "execution_count": 66,
     "metadata": {},
     "output_type": "execute_result"
    }
   ],
   "source": [
    "# выведем также основную статистику для тарифа \"ultra\" методом describe()\n",
    "megaline_ultra[\"calls_minutes\"].describe()"
   ]
  },
  {
   "cell_type": "code",
   "execution_count": 67,
   "metadata": {
    "scrolled": false
   },
   "outputs": [
    {
     "data": {
      "image/png": "[encoded data removed]",
      "text/plain": [
       "<Figure size 720x360 with 1 Axes>"
      ]
     },
     "metadata": {
      "needs_background": "light"
     },
     "output_type": "display_data"
    }
   ],
   "source": [
    "# построим гистограмму для визуализации полученных результатов и сравнения тарифов между собой\n",
    "plt.figure(figsize=(10, 5))\n",
    "megaline_smart[\"calls_minutes\"].plot(kind=\"hist\", bins=50, alpha=0.5, label=\"smart тариф\")\n",
    "megaline_ultra[\"calls_minutes\"].plot(kind=\"hist\", bins=50, alpha=0.5, label=\"ultra тариф\")\n",
    "plt.ylabel(\"Частота\", fontsize=12)\n",
    "plt.legend(fontsize=12)\n",
    "plt.title(\"Гистограмма распределения минут звонков, сделанных пользователем в течение месяца\", fontsize=14, fontweight='bold')\n",
    "plt.show()"
   ]
  },
  {
   "cell_type": "markdown",
   "metadata": {},
   "source": [
    "Интервал типичных значений количества минут звонков, определенный как межквартильный размах, составляет 282-545 (медиана 422) для тарифа \"smart\" и 284-752 (медиана 518) для тарифа \"ultra\". Построенная гистограмма наглядно иллюстрируют разницу в распределении количества минут звонков для двух тарифов. Таким образом, пользователи тарифа \"ultra\" в среднем разговаривают по телефону больше."
   ]
  },
  {
   "cell_type": "markdown",
   "metadata": {},
   "source": [
    "**Количество сообщений, отпраленных пользователем в месяц**"
   ]
  },
  {
   "cell_type": "code",
   "execution_count": 68,
   "metadata": {},
   "outputs": [
    {
     "name": "stdout",
     "output_type": "stream",
     "text": [
      "Среднее равно: 33\n",
      "Дисперсия равна: 796\n",
      "Стандартное отклонение равно: 28\n"
     ]
    }
   ],
   "source": [
    "# выведем статистику для тарифа \"smart\"\n",
    "print(\"Среднее равно: {:.0f}\".format(megaline_smart[\"messages_number\"].mean()))\n",
    "print(\"Дисперсия равна: {:.0f}\".format(np.var(megaline_smart[\"messages_number\"])))\n",
    "print(\"Стандартное отклонение равно: {:.0f}\".format(np.std(megaline_smart[\"messages_number\"])))"
   ]
  },
  {
   "cell_type": "code",
   "execution_count": 69,
   "metadata": {},
   "outputs": [
    {
     "data": {
      "text/plain": [
       "count    2229.000000\n",
       "mean       33.384029\n",
       "std        28.227876\n",
       "min         0.000000\n",
       "25%        10.000000\n",
       "50%        28.000000\n",
       "75%        51.000000\n",
       "max       143.000000\n",
       "Name: messages_number, dtype: float64"
      ]
     },
     "execution_count": 69,
     "metadata": {},
     "output_type": "execute_result"
    }
   ],
   "source": [
    "# выведем также основную статистику для тарифа \"smart\" методом describe()\n",
    "megaline_smart[\"messages_number\"].describe()"
   ]
  },
  {
   "cell_type": "code",
   "execution_count": 70,
   "metadata": {},
   "outputs": [
    {
     "name": "stdout",
     "output_type": "stream",
     "text": [
      "Среднее равно: 49\n",
      "Дисперсия равна: 2283\n",
      "Стандартное отклонение равно: 48\n"
     ]
    }
   ],
   "source": [
    "# выведем статистику для тарифа \"ultra\"\n",
    "print(\"Среднее равно: {:.0f}\".format(megaline_ultra[\"messages_number\"].mean()))\n",
    "print(\"Дисперсия равна: {:.0f}\".format(np.var(megaline_ultra[\"messages_number\"])))\n",
    "print(\"Стандартное отклонение равно: {:.0f}\".format(np.std(megaline_ultra[\"messages_number\"])))"
   ]
  },
  {
   "cell_type": "code",
   "execution_count": 71,
   "metadata": {},
   "outputs": [
    {
     "data": {
      "text/plain": [
       "count    985.000000\n",
       "mean      49.363452\n",
       "std       47.804457\n",
       "min        0.000000\n",
       "25%        6.000000\n",
       "50%       38.000000\n",
       "75%       79.000000\n",
       "max      224.000000\n",
       "Name: messages_number, dtype: float64"
      ]
     },
     "execution_count": 71,
     "metadata": {},
     "output_type": "execute_result"
    }
   ],
   "source": [
    "# выведем также основную статистику для тарифа \"ultra\" методом describe()\n",
    "megaline_ultra[\"messages_number\"].describe()"
   ]
  },
  {
   "cell_type": "code",
   "execution_count": 72,
   "metadata": {
    "scrolled": true
   },
   "outputs": [
    {
     "data": {
      "image/png": "[encoded data removed]",
      "text/plain": [
       "<Figure size 720x360 with 1 Axes>"
      ]
     },
     "metadata": {
      "needs_background": "light"
     },
     "output_type": "display_data"
    }
   ],
   "source": [
    "# построим гистограмму для визуализации полученных результатов и сравнения тарифов между собой\n",
    "plt.figure(figsize=(10, 5))\n",
    "megaline_smart[\"messages_number\"].plot(kind=\"hist\", bins=50, alpha=0.5, label=\"smart тариф\")\n",
    "megaline_ultra[\"messages_number\"].plot(kind=\"hist\", bins=50, alpha=0.5, label=\"ultra тариф\")\n",
    "plt.ylabel(\"Частота\", fontsize=12)\n",
    "plt.legend(fontsize=12)\n",
    "plt.title(\"Гистограмма распределения количества сообщений, отправленных пользователем в течение месяца\", fontsize=14, fontweight='bold')\n",
    "plt.show()"
   ]
  },
  {
   "cell_type": "markdown",
   "metadata": {},
   "source": [
    "Интервал типичных значений количества сообщений, определенный как межквартильный размах, составляет 10-51 (медиана 28) для тарифа \"smart\" и 6-79 (медиана 38) для тарифа \"ultra\". Построенная гистограмма наглядно иллюстрируют разницу в распределении количества сообщений для двух тарифов. Таким образом, пользователи тарифа \"ultra\" в среднем отправляют больше сообщений."
   ]
  },
  {
   "cell_type": "markdown",
   "metadata": {},
   "source": [
    "**Объем интернет-трафика, потраченного пользователем в месяц**"
   ]
  },
  {
   "cell_type": "code",
   "execution_count": 73,
   "metadata": {},
   "outputs": [
    {
     "name": "stdout",
     "output_type": "stream",
     "text": [
      "Среднее равно: 16229\n",
      "Дисперсия равна: 34530413\n",
      "Стандартное отклонение равно: 5876\n"
     ]
    }
   ],
   "source": [
    "# выведем статистику для тарифа \"smart\"\n",
    "print(\"Среднее равно: {:.0f}\".format(megaline_smart[\"mb_used\"].mean()))\n",
    "print(\"Дисперсия равна: {:.0f}\".format(np.var(megaline_smart[\"mb_used\"])))\n",
    "print(\"Стандартное отклонение равно: {:.0f}\".format(np.std(megaline_smart[\"mb_used\"])))"
   ]
  },
  {
   "cell_type": "code",
   "execution_count": 74,
   "metadata": {},
   "outputs": [
    {
     "data": {
      "text/plain": [
       "count     2229.000000\n",
       "mean     16229.188425\n",
       "std       5877.576978\n",
       "min          0.000000\n",
       "25%      12658.000000\n",
       "50%      16531.000000\n",
       "75%      20068.000000\n",
       "max      38610.000000\n",
       "Name: mb_used, dtype: float64"
      ]
     },
     "execution_count": 74,
     "metadata": {},
     "output_type": "execute_result"
    }
   ],
   "source": [
    "# выведем также основную статистику для тарифа \"smart\" методом describe()\n",
    "megaline_smart[\"mb_used\"].describe()"
   ]
  },
  {
   "cell_type": "code",
   "execution_count": 75,
   "metadata": {},
   "outputs": [
    {
     "name": "stdout",
     "output_type": "stream",
     "text": [
      "Среднее равно: 19487\n",
      "Дисперсия равна: 101832133\n",
      "Стандартное отклонение равно: 10091\n"
     ]
    }
   ],
   "source": [
    "# выведем статистику для тарифа \"ultra\"\n",
    "print(\"Среднее равно: {:.0f}\".format(megaline_ultra[\"mb_used\"].mean()))\n",
    "print(\"Дисперсия равна: {:.0f}\".format(np.var(megaline_ultra[\"mb_used\"])))\n",
    "print(\"Стандартное отклонение равно: {:.0f}\".format(np.std(megaline_ultra[\"mb_used\"])))"
   ]
  },
  {
   "cell_type": "code",
   "execution_count": 76,
   "metadata": {},
   "outputs": [
    {
     "data": {
      "text/plain": [
       "count      985.000000\n",
       "mean     19486.901523\n",
       "std      10096.317202\n",
       "min          0.000000\n",
       "25%      11785.000000\n",
       "50%      19324.000000\n",
       "75%      26863.000000\n",
       "max      49789.000000\n",
       "Name: mb_used, dtype: float64"
      ]
     },
     "execution_count": 76,
     "metadata": {},
     "output_type": "execute_result"
    }
   ],
   "source": [
    "# выведем также основную статистику для тарифа \"ultra\" методом describe()\n",
    "megaline_ultra[\"mb_used\"].describe()"
   ]
  },
  {
   "cell_type": "code",
   "execution_count": 77,
   "metadata": {
    "scrolled": true
   },
   "outputs": [
    {
     "data": {
      "image/png": "[encoded data removed]",
      "text/plain": [
       "<Figure size 720x360 with 1 Axes>"
      ]
     },
     "metadata": {
      "needs_background": "light"
     },
     "output_type": "display_data"
    }
   ],
   "source": [
    "# построим гистограмму для визуализации полученных результатов и сравнения тарифов между собой\n",
    "plt.figure(figsize=(10, 5))\n",
    "megaline_smart[\"mb_used\"].plot(kind=\"hist\", bins=50, alpha=0.5, label=\"smart тариф\")\n",
    "megaline_ultra[\"mb_used\"].plot(kind=\"hist\", bins=50, alpha=0.5, label=\"ultra тариф\")\n",
    "plt.ylabel(\"Частота\", fontsize=12)\n",
    "plt.legend(fontsize=12)\n",
    "plt.title(\"Гистограмма распределения интернет-трафика, потраченного пользователем в течение месяца\", fontsize=14, fontweight='bold')\n",
    "plt.show()"
   ]
  },
  {
   "cell_type": "markdown",
   "metadata": {},
   "source": [
    "Интервал типичных значений объема потраченного интернет-трафика в мегабайтах, определенный как межквартильный размах, составляет 12.658-20.068 (медиана 16.531) для тарифа \"smart\" и 11.758-26863 (медиана 19.324) для тарифа \"ultra\". Построенная гистограмма наглядно иллюстрируют разницу в распределении объема потраченного интернет-трафика для двух тарифов. Таким образом, пользователи тарифа \"ultra\" в среднем тратят больше интернет-трафика."
   ]
  },
  {
   "cell_type": "markdown",
   "metadata": {},
   "source": [
    "### Расчет суммарных показателей за год"
   ]
  },
  {
   "cell_type": "markdown",
   "metadata": {},
   "source": [
    "Для более полного сравнения двух тарифов подсчитаем суммарные показатели по ним за год, а именно: количество минут звонков, количество сообщений, объем потраченного интернет-трафика и доходы. Для решения данной задачи построим сводную таблицу:"
   ]
  },
  {
   "cell_type": "code",
   "execution_count": 78,
   "metadata": {},
   "outputs": [
    {
     "data": {
      "text/html": [
       "<div>\n",
       "<style scoped>\n",
       "    .dataframe tbody tr th:only-of-type {\n",
       "        vertical-align: middle;\n",
       "    }\n",
       "\n",
       "    .dataframe tbody tr th {\n",
       "        vertical-align: top;\n",
       "    }\n",
       "\n",
       "    .dataframe thead th {\n",
       "        text-align: right;\n",
       "    }\n",
       "</style>\n",
       "<table border=\"1\" class=\"dataframe\">\n",
       "  <thead>\n",
       "    <tr style=\"text-align: right;\">\n",
       "      <th></th>\n",
       "      <th>calls_minutes</th>\n",
       "      <th>mb_used</th>\n",
       "      <th>messages_number</th>\n",
       "      <th>total_income</th>\n",
       "    </tr>\n",
       "    <tr>\n",
       "      <th>tariff</th>\n",
       "      <th></th>\n",
       "      <th></th>\n",
       "      <th></th>\n",
       "      <th></th>\n",
       "    </tr>\n",
       "  </thead>\n",
       "  <tbody>\n",
       "    <tr>\n",
       "      <td>smart</td>\n",
       "      <td>931577.0</td>\n",
       "      <td>36174861.0</td>\n",
       "      <td>74413.0</td>\n",
       "      <td>2748486</td>\n",
       "    </tr>\n",
       "    <tr>\n",
       "      <td>ultra</td>\n",
       "      <td>518724.0</td>\n",
       "      <td>19194598.0</td>\n",
       "      <td>48623.0</td>\n",
       "      <td>2029556</td>\n",
       "    </tr>\n",
       "  </tbody>\n",
       "</table>\n",
       "</div>"
      ],
      "text/plain": [
       "        calls_minutes     mb_used  messages_number  total_income\n",
       "tariff                                                          \n",
       "smart        931577.0  36174861.0          74413.0       2748486\n",
       "ultra        518724.0  19194598.0          48623.0       2029556"
      ]
     },
     "execution_count": 78,
     "metadata": {},
     "output_type": "execute_result"
    }
   ],
   "source": [
    "# создадим сводную таблицу\n",
    "megaline_year_total = megaline.pivot_table(index=\"tariff\", values=[\"calls_minutes\", \"messages_number\", \"mb_used\", \"total_income\"], aggfunc=\"sum\")\n",
    "megaline_year_total"
   ]
  },
  {
   "cell_type": "markdown",
   "metadata": {},
   "source": [
    "Из сводной таблицы хорошо видно, что по всем позициям лидирует тариф \"smart\". Подсчитаем среднюю прибыль на одного пользователя для каждого из тарифов:"
   ]
  },
  {
   "cell_type": "code",
   "execution_count": 79,
   "metadata": {},
   "outputs": [
    {
     "name": "stdout",
     "output_type": "stream",
     "text": [
      "Средняя прибыль в рублях за год на одного пользователя тарифа 'smart': 7853\n"
     ]
    }
   ],
   "source": [
    "print(\"Средняя прибыль в рублях за год на одного пользователя тарифа 'smart': {:.0f}\".format(\n",
    "    megaline_year_total[\"total_income\"][0] / len(megaline_smart[\"user_id\"].unique())))"
   ]
  },
  {
   "cell_type": "code",
   "execution_count": 80,
   "metadata": {},
   "outputs": [
    {
     "name": "stdout",
     "output_type": "stream",
     "text": [
      "Средняя прибыль в рублях за год на одного пользователя тарифа 'ultra': 18571\n"
     ]
    }
   ],
   "source": [
    "print(\"Средняя прибыль в рублях за год на одного пользователя тарифа 'ultra': {:.0f}\".format(\n",
    "    megaline_year_total[\"total_income\"][0] / len(megaline_ultra[\"user_id\"].unique())))"
   ]
  },
  {
   "cell_type": "markdown",
   "metadata": {},
   "source": [
    "Из сравнения полученных результатов видно, что средняя прибыль на одного пользователя для тарифа \"ultra\" более чем в два раза выше, чем для тарифа \"smart\"."
   ]
  },
  {
   "cell_type": "markdown",
   "metadata": {},
   "source": [
    "При сравнение прибылей от тарифов важно также учитывать операционные расходы, связанные с их обслуживанием. Если бы все пользователи оставались в пределах заданных тарифом лимитов, то в данных расчетах не было бы необходимости, так как всю информацию можно было бы получить непосредственно из датасета \"tariff\". Рассчитаем прибыль для двух тарифов на одну минуту звонка, одно отправленное сообщение и один потраченный гигабайт интернет-трафика:"
   ]
  },
  {
   "cell_type": "code",
   "execution_count": 81,
   "metadata": {
    "scrolled": false
   },
   "outputs": [
    {
     "name": "stdout",
     "output_type": "stream",
     "text": [
      "Средняя прибыль в рублях за год на одну минуту звонка для тарифа 'smart': 2.95 рублей\n"
     ]
    }
   ],
   "source": [
    "print(\"Средняя прибыль в рублях за год на одну минуту звонка для тарифа 'smart': {:.2f} рублей\".format(\n",
    "    megaline_year_total[\"total_income\"][0] / megaline_year_total[\"calls_minutes\"][0]))"
   ]
  },
  {
   "cell_type": "code",
   "execution_count": 82,
   "metadata": {},
   "outputs": [
    {
     "name": "stdout",
     "output_type": "stream",
     "text": [
      "Средняя прибыль в рублях за год на одну минуту звонка для тарифа 'ultra': 3.91 рублей\n"
     ]
    }
   ],
   "source": [
    "print(\"Средняя прибыль в рублях за год на одну минуту звонка для тарифа 'ultra': {:.2f} рублей\".format(\n",
    "    megaline_year_total[\"total_income\"][1] / megaline_year_total[\"calls_minutes\"][1]))"
   ]
  },
  {
   "cell_type": "code",
   "execution_count": 83,
   "metadata": {},
   "outputs": [
    {
     "name": "stdout",
     "output_type": "stream",
     "text": [
      "Средняя прибыль в рублях за год на одно сообщение для тарифа 'smart': 36.9 рублей\n"
     ]
    }
   ],
   "source": [
    "print(\"Средняя прибыль в рублях за год на одно сообщение для тарифа 'smart': {:.1f} рублей\".format(\n",
    "    megaline_year_total[\"total_income\"][0] / megaline_year_total[\"messages_number\"][0]))"
   ]
  },
  {
   "cell_type": "code",
   "execution_count": 84,
   "metadata": {},
   "outputs": [
    {
     "name": "stdout",
     "output_type": "stream",
     "text": [
      "Средняя прибыль в рублях за год на одно сообщение для тарифа 'ultra': 41.7 рублей\n"
     ]
    }
   ],
   "source": [
    "print(\"Средняя прибыль в рублях за год на одно сообщение для тарифа 'ultra': {:.1f} рублей\".format(\n",
    "    megaline_year_total[\"total_income\"][1] / megaline_year_total[\"messages_number\"][1]))"
   ]
  },
  {
   "cell_type": "code",
   "execution_count": 85,
   "metadata": {
    "scrolled": true
   },
   "outputs": [
    {
     "name": "stdout",
     "output_type": "stream",
     "text": [
      "Средняя прибыль в рублях за год на один гигабайт интернет-трафика для тарифа 'smart': 78 рублей\n"
     ]
    }
   ],
   "source": [
    "print(\"Средняя прибыль в рублях за год на один гигабайт интернет-трафика для тарифа 'smart': {:.0f} рублей\".format(\n",
    "    megaline_year_total[\"total_income\"][0] / megaline_year_total[\"mb_used\"][0] * 1024))"
   ]
  },
  {
   "cell_type": "code",
   "execution_count": 86,
   "metadata": {},
   "outputs": [
    {
     "name": "stdout",
     "output_type": "stream",
     "text": [
      "Средняя прибыль в рублях за год на один гигабайт интернет-трафика для тарифа 'ultra': 108 рублей\n"
     ]
    }
   ],
   "source": [
    "print(\"Средняя прибыль в рублях за год на один гигабайт интернет-трафика для тарифа 'ultra': {:.0f} рублей\".format(\n",
    "    megaline_year_total[\"total_income\"][1] / megaline_year_total[\"mb_used\"][1] * 1024))"
   ]
  },
  {
   "cell_type": "markdown",
   "metadata": {},
   "source": [
    "Как видно из полученных результатов, доход за год для тарифа \"ultra\" в расчете на одну минуту звонка, одно сообщение и один гигабайт интернет-трафика выше, чем для тарифа \"smart\". Таким образом, можно предположить, что рентабельность тарифа \"ultra\" выше, чем рентабельность тарифа \"smart\"."
   ]
  },
  {
   "cell_type": "markdown",
   "metadata": {},
   "source": [
    "### Выводы"
   ]
  },
  {
   "cell_type": "markdown",
   "metadata": {},
   "source": [
    "1. Согласно выполненному анализу, минуты звонков, количество сообщений и объем интернет-трафика растет от месяца к месяцу для обоих тарифов. При этом рассматриваемые показатели стабильно в течение года выше для тарифа \"smart\".\n",
    "2. Пользователи тарифа \"ultra\" в среднем совершают больше звонков, чем пользователи тарифа \"smart\". Интервал типичных значений количества минут звонков, определенный как межквартильный размах, составляет 282-545 (медиана 422) для тарифа \"smart\" и 284-752 (медиана 518) для тарифа \"ultra\".\n",
    "3. Пользователи тарифа \"ultra\" в среднем отправляют больше сообщений, чем пользователи тарифа \"smart\". Интервал типичных значений количества сообщений, определенный как межквартильный размах, составляет 10-51 (медиана 28) для тарифа \"smart\" и 6-79 (медиана 38) для тарифа \"ultra\". \n",
    "4. Пользователи тарифа \"ultra\" в среднем используют больший объем интернет-трафика, чем пользователи тарифа \"smart\". Интервал типичных значений объема потраченного интернет-трафика в мегабайтах, определенный как межквартильный размах, составляет 12658-20068 (медиана 16531) для тарифа \"smart\" и 11758-26863 (медиана 19324) для тарифа \"ultra\".\n",
    "5. Суммарный доход за год от всех пользователей составляет для тарифа \"smart\" - 2,75 млн рублей, для тарифа \"ultra\" - 2,03 млн рублей. Таким образом, пользователи тарифа \"smart\" приносят больше дохода Мегалайну, нежели пользователи тарифа \"ultra\".\n",
    "6. Средняя прибыль в год на одного пользователя составляет для тарифа \"smart\" - 7853 рублей, для тарифа \"ultra\" - 18571 рублей. Таким образом, в пересчете на одного пользователя тариф \"ultra\" приносит больше денег, чем тариф \"smart\".\n",
    "7. Доход за год для тарифа \"smart\" в пересчете на одну минуту звонка, одно отправленное сообщение и один потраченный гигабайт интернет-трафика составляет 2,95, 36,9 и 78 рублей соответственно. Доход за год для тарифа \"ultra\" в пересчете на одну минуту звонка, одно отправленное сообщение и один потраченный гигабайт интернет-трафика составляет 3,91, 41,7 и 108 рублей соответственно. Увязывая операционные расходы на обслуживание тарифов с потраченными на них минутами звонков, количеством сообщений и объемом интернет-трафика, можно предположить, что рентабельность тарифа \"ultra\" выше, чем рентабельность тарифа \"smart\"."
   ]
  },
  {
   "cell_type": "markdown",
   "metadata": {},
   "source": [
    "## Проверка гипотез"
   ]
  },
  {
   "cell_type": "markdown",
   "metadata": {},
   "source": [
    "### Проверка гипотезы №1: средняя выручка в месяц на одного пользователя для тарифов «Ультра» и «Смарт» различается"
   ]
  },
  {
   "cell_type": "markdown",
   "metadata": {},
   "source": [
    "Для проверки гипотезы №1 сформулируем нулевую гипотезу и алтернативную ей гипотезу: \n",
    "* Нулевая гипотеза - средняя выручка в месяц на одного пользователя для тарифов \"smart\" и \"ultra\" не различается.\n",
    "* Альтернативная гипотеза (гипотеза №1) - средняя выручка в месяц на одного пользователя для тарифов \"smart\" и \"ultra\" различается.\n",
    "Уровень статистической значимости альфа примем равным 0,05."
   ]
  },
  {
   "cell_type": "code",
   "execution_count": 87,
   "metadata": {
    "scrolled": true
   },
   "outputs": [
    {
     "name": "stdout",
     "output_type": "stream",
     "text": [
      "p-значение: 5.133013116079825e-296\n",
      "Отвергаем нулевую гипотезу\n"
     ]
    }
   ],
   "source": [
    "# выполним тестирование нулевой гипотезы\n",
    "alpha = 0.05\n",
    "results = st.ttest_ind(megaline_smart[\"total_income\"], megaline_ultra[\"total_income\"], equal_var=False)\n",
    "print(\"p-значение:\", results.pvalue)\n",
    "if results.pvalue < alpha:\n",
    "    print(\"Отвергаем нулевую гипотезу\")\n",
    "else:\n",
    "    print(\"Не получилось отвергнуть нулевую гипотезу\")"
   ]
  },
  {
   "cell_type": "markdown",
   "metadata": {},
   "source": [
    "На основании результатов тестирования нулевой гипотезы отвергаем ее и принимаем альтернативную гипотезу (т.е гипотезу №1), согласно которой средняя выручка в месяц на одного пользователя для тарифов \"smart\" и \"ultra\" различается."
   ]
  },
  {
   "cell_type": "markdown",
   "metadata": {},
   "source": [
    "### Проверка гипотезы №2: средняя выручка в месяц на одного пользователя для Москвы и других регионов различается"
   ]
  },
  {
   "cell_type": "markdown",
   "metadata": {},
   "source": [
    "Для проверки гипотезы №2 сформулируем нулевую гипотезу и алтернативную ей гипотезу: \n",
    "* Нулевая гипотеза - средняя выручка в месяц на одного пользователя для Москвы и других регионов не различается.\n",
    "* Альтернативная гипотеза (гипотеза №2) - средняя выручка в месяц на одного пользователя для Москвы и других регионов различается.\n",
    "Уровень статистической значимости альфа примем равным 0,05."
   ]
  },
  {
   "cell_type": "code",
   "execution_count": 88,
   "metadata": {},
   "outputs": [
    {
     "name": "stdout",
     "output_type": "stream",
     "text": [
      "p-значение: 0.4546446281204245\n",
      "Не получилось отвергнуть нулевую гипотезу\n"
     ]
    }
   ],
   "source": [
    "# выполним тестирование нулевой гипотезы\n",
    "alpha = 0.05\n",
    "results = st.ttest_ind(megaline.query(\"city=='Москва'\")[\"total_income\"], megaline.query(\"city!='Москва'\")[\"total_income\"], equal_var=False)\n",
    "print(\"p-значение:\", results.pvalue)\n",
    "if results.pvalue < alpha:\n",
    "    print(\"Отвергаем нулевую гипотезу\")\n",
    "else:\n",
    "    print(\"Не получилось отвергнуть нулевую гипотезу\")"
   ]
  },
  {
   "cell_type": "markdown",
   "metadata": {},
   "source": [
    "На основании результатов тестирования нулевой гипотезы не удалось ее отвергнуть. Таким образом, у нас нет достаточно оснований считать, что средняя выручка в месяц на одного пользователя для Москвы и других регионов различается."
   ]
  },
  {
   "cell_type": "markdown",
   "metadata": {},
   "source": [
    "### Выводы"
   ]
  },
  {
   "cell_type": "markdown",
   "metadata": {},
   "source": [
    "1. Согласно выполненному статистическому тесту, гипотеза о различии средней выручки в месяц на одного пользователя для тарифов \"smart\" и \"ultra\" подтвердилась. При этом p-уровень значимости составляет 5,13e-296.\n",
    "2. Согласно выполненному статистическому тесту, у нас нет достаточно оснований считать гипотезу о различии средней выручки в месяц на одного пользователя для Москвы и других регионов обоснованной. Это связано с тем, что p-уровень значимости равняется 0,45, что существенно больше заданного порога уровня статистической значимости альфа равного 0,05."
   ]
  },
  {
   "cell_type": "markdown",
   "metadata": {},
   "source": [
    "## Общий вывод"
   ]
  },
  {
   "cell_type": "markdown",
   "metadata": {},
   "source": [
    "1. Общий доход от тарифа \"smart\" выше, чем доход от тарифа \"ultra\". Однако при этом величины доходов сопоставимые: 2,75 млн рублей против 2,03 млн рублей. Таким образом, оба тарифа имеют большое значение для формирования доходов Мегалайна. \n",
    "2. Доход за год для тарифа \"ultra\" в пересчете на одну минуту звонка, одно отправленное сообщение и один потраченный гигабайт интернет-трафика выше. Увязывая операционные расходы на обслуживание тарифов с потраченными на них минутами звонков, количеством сообщений и объемом интернет-трафика, можно предположить, что рентабельность тарифа \"ultra\" выше, чем рентабельность тарифа \"smart\". Для уточнения данного предположения необходимо проанализировать информацию об операционных расходах Мегалайна.\n",
    "3. С точки зрения предположительно более высокой рентабельности для Мегалайна тариф \"ultra\" предпочтительнее тарифа \"smart\". Однако из этого не следует, что необходимо автоматически перенести основной центр тяжести рекламной кампании на раскрутку тарифа \"ultra\". Вероятнее всего, что существуют различные группы населения, для каждой из которой предпочтительнее тот или иной тариф. Таким образом, есть опасность того, что концентрация рекламной кампании на более дорогом тарифе приведет к относительно небольшому увеличению количества его пользователей при значительном количестве упущенных потенциальных пользователей более дешевого тарифа, генерирующего большую часть доходов Мегалайна. При корректировке рекламного бюджета это стоит учитывать. Возможно будет рациональным провести дополнительные исследования, учитывающие историческую динамику доходов Мегалайна при создании рассматриваемых тарифов.\n",
    "4. В результате t-теста не выявлено статистически значимого различия в средней выручке в месяц на одного пользователя для Москвы и других регионов. Это говорит в пользу важности привлечения новых пользователей Мегалайна за пределами Москвы. "
   ]
  },
  {
   "cell_type": "code",
   "execution_count": null,
   "metadata": {},
   "outputs": [],
   "source": []
  }
 ],
 "metadata": {
  "kernelspec": {
   "display_name": "Python 3",
   "language": "python",
   "name": "python3"
  },
  "language_info": {
   "codemirror_mode": {
    "name": "ipython",
    "version": 3
   },
   "file_extension": ".py",
   "mimetype": "text/x-python",
   "name": "python",
   "nbconvert_exporter": "python",
   "pygments_lexer": "ipython3",
   "version": "3.7.8"
  },
  "toc": {
   "base_numbering": 1,
   "nav_menu": {},
   "number_sections": true,
   "sideBar": true,
   "skip_h1_title": true,
   "title_cell": "Содержание",
   "title_sidebar": "Contents",
   "toc_cell": true,
   "toc_position": {
    "height": "calc(100% - 180px)",
    "left": "10px",
    "top": "150px",
    "width": "320px"
   },
   "toc_section_display": true,
   "toc_window_display": true
  }
 },
 "nbformat": 4,
 "nbformat_minor": 2
}
