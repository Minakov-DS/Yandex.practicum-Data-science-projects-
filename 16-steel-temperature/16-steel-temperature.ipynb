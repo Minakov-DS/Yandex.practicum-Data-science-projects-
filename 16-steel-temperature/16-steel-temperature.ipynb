{
 "cells": [
  {
   "cell_type": "markdown",
   "metadata": {
    "toc": true
   },
   "source": [
    "<h1>Содержание<span class=\"tocSkip\"></span></h1>\n",
    "<div class=\"toc\"><ul class=\"toc-item\"><li><span><a href=\"#Изучение-исходных-данных,-их-первичная-обработка,-поиск-аномалий\" data-toc-modified-id=\"Изучение-исходных-данных,-их-первичная-обработка,-поиск-аномалий-1\"><span class=\"toc-item-num\">1&nbsp;&nbsp;</span>Изучение исходных данных, их первичная обработка, поиск аномалий</a></span><ul class=\"toc-item\"><li><span><a href=\"#Датасет-data_arc\" data-toc-modified-id=\"Датасет-data_arc-1.1\"><span class=\"toc-item-num\">1.1&nbsp;&nbsp;</span>Датасет data_arc</a></span></li><li><span><a href=\"#Датасет-data_bulk\" data-toc-modified-id=\"Датасет-data_bulk-1.2\"><span class=\"toc-item-num\">1.2&nbsp;&nbsp;</span>Датасет data_bulk</a></span></li><li><span><a href=\"#Датасет-data_bulk_time\" data-toc-modified-id=\"Датасет-data_bulk_time-1.3\"><span class=\"toc-item-num\">1.3&nbsp;&nbsp;</span>Датасет data_bulk_time</a></span></li><li><span><a href=\"#Датасет-data_gas\" data-toc-modified-id=\"Датасет-data_gas-1.4\"><span class=\"toc-item-num\">1.4&nbsp;&nbsp;</span>Датасет data_gas</a></span></li><li><span><a href=\"#Датасет-data_wire\" data-toc-modified-id=\"Датасет-data_wire-1.5\"><span class=\"toc-item-num\">1.5&nbsp;&nbsp;</span>Датасет data_wire</a></span></li><li><span><a href=\"#Датасет-data_wire_time\" data-toc-modified-id=\"Датасет-data_wire_time-1.6\"><span class=\"toc-item-num\">1.6&nbsp;&nbsp;</span>Датасет data_wire_time</a></span></li><li><span><a href=\"#Датасет-data_temp\" data-toc-modified-id=\"Датасет-data_temp-1.7\"><span class=\"toc-item-num\">1.7&nbsp;&nbsp;</span>Датасет data_temp</a></span></li><li><span><a href=\"#Выводы\" data-toc-modified-id=\"Выводы-1.8\"><span class=\"toc-item-num\">1.8&nbsp;&nbsp;</span>Выводы</a></span></li></ul></li><li><span><a href=\"#Сведение-данных-в-одну-таблицу,-корреляционный-анализ\" data-toc-modified-id=\"Сведение-данных-в-одну-таблицу,-корреляционный-анализ-2\"><span class=\"toc-item-num\">2&nbsp;&nbsp;</span>Сведение данных в одну таблицу, корреляционный анализ</a></span><ul class=\"toc-item\"><li><span><a href=\"#Создание-датасета-first_last_temp-(на-основе-датасета-data_temp)\" data-toc-modified-id=\"Создание-датасета-first_last_temp-(на-основе-датасета-data_temp)-2.1\"><span class=\"toc-item-num\">2.1&nbsp;&nbsp;</span>Создание датасета first_last_temp (на основе датасета data_temp)</a></span></li><li><span><a href=\"#Создание-датасета-data_arc_clean\" data-toc-modified-id=\"Создание-датасета-data_arc_clean-2.2\"><span class=\"toc-item-num\">2.2&nbsp;&nbsp;</span>Создание датасета data_arc_clean</a></span></li><li><span><a href=\"#Создание-датасета-data_bulk_clean\" data-toc-modified-id=\"Создание-датасета-data_bulk_clean-2.3\"><span class=\"toc-item-num\">2.3&nbsp;&nbsp;</span>Создание датасета data_bulk_clean</a></span></li><li><span><a href=\"#Создание-датасета-data_wire_clean\" data-toc-modified-id=\"Создание-датасета-data_wire_clean-2.4\"><span class=\"toc-item-num\">2.4&nbsp;&nbsp;</span>Создание датасета data_wire_clean</a></span></li><li><span><a href=\"#Создание-датасета-data_gas_clean\" data-toc-modified-id=\"Создание-датасета-data_gas_clean-2.5\"><span class=\"toc-item-num\">2.5&nbsp;&nbsp;</span>Создание датасета data_gas_clean</a></span></li><li><span><a href=\"#Создание-сводной-таблицы-признаков\" data-toc-modified-id=\"Создание-сводной-таблицы-признаков-2.6\"><span class=\"toc-item-num\">2.6&nbsp;&nbsp;</span>Создание сводной таблицы признаков</a></span></li><li><span><a href=\"#Корреляционный-анализ-признаков\" data-toc-modified-id=\"Корреляционный-анализ-признаков-2.7\"><span class=\"toc-item-num\">2.7&nbsp;&nbsp;</span>Корреляционный анализ признаков</a></span></li><li><span><a href=\"#Выводы\" data-toc-modified-id=\"Выводы-2.8\"><span class=\"toc-item-num\">2.8&nbsp;&nbsp;</span>Выводы</a></span></li></ul></li><li><span><a href=\"#Обучение-моделей\" data-toc-modified-id=\"Обучение-моделей-3\"><span class=\"toc-item-num\">3&nbsp;&nbsp;</span>Обучение моделей</a></span><ul class=\"toc-item\"><li><span><a href=\"#Подготовка-данных-для-обучения\" data-toc-modified-id=\"Подготовка-данных-для-обучения-3.1\"><span class=\"toc-item-num\">3.1&nbsp;&nbsp;</span>Подготовка данных для обучения</a></span></li><li><span><a href=\"#Модель-LinearRegression\" data-toc-modified-id=\"Модель-LinearRegression-3.2\"><span class=\"toc-item-num\">3.2&nbsp;&nbsp;</span>Модель LinearRegression</a></span></li><li><span><a href=\"#Модель-RandomForestRegressor\" data-toc-modified-id=\"Модель-RandomForestRegressor-3.3\"><span class=\"toc-item-num\">3.3&nbsp;&nbsp;</span>Модель RandomForestRegressor</a></span></li><li><span><a href=\"#Модель-LGBMRegressor\" data-toc-modified-id=\"Модель-LGBMRegressor-3.4\"><span class=\"toc-item-num\">3.4&nbsp;&nbsp;</span>Модель LGBMRegressor</a></span></li><li><span><a href=\"#Выводы\" data-toc-modified-id=\"Выводы-3.5\"><span class=\"toc-item-num\">3.5&nbsp;&nbsp;</span>Выводы</a></span></li></ul></li><li><span><a href=\"#Тестирование-моделей\" data-toc-modified-id=\"Тестирование-моделей-4\"><span class=\"toc-item-num\">4&nbsp;&nbsp;</span>Тестирование моделей</a></span><ul class=\"toc-item\"><li><span><a href=\"#Выводы\" data-toc-modified-id=\"Выводы-4.1\"><span class=\"toc-item-num\">4.1&nbsp;&nbsp;</span>Выводы</a></span></li></ul></li><li><span><a href=\"#Оптимизация-моделей\" data-toc-modified-id=\"Оптимизация-моделей-5\"><span class=\"toc-item-num\">5&nbsp;&nbsp;</span>Оптимизация моделей</a></span><ul class=\"toc-item\"><li><span><a href=\"#Оценка-важности-признаков\" data-toc-modified-id=\"Оценка-важности-признаков-5.1\"><span class=\"toc-item-num\">5.1&nbsp;&nbsp;</span>Оценка важности признаков</a></span></li><li><span><a href=\"#Корреляционный-анализ-признаков-между-собой\" data-toc-modified-id=\"Корреляционный-анализ-признаков-между-собой-5.2\"><span class=\"toc-item-num\">5.2&nbsp;&nbsp;</span>Корреляционный анализ признаков между собой</a></span></li><li><span><a href=\"#Тестирование-оптимизированных-моделей\" data-toc-modified-id=\"Тестирование-оптимизированных-моделей-5.3\"><span class=\"toc-item-num\">5.3&nbsp;&nbsp;</span>Тестирование оптимизированных моделей</a></span></li><li><span><a href=\"#Проверка-возможности-использования-признака-суммарная-мощность-вместо-суммарной-энергии\" data-toc-modified-id=\"Проверка-возможности-использования-признака-суммарная-мощность-вместо-суммарной-энергии-5.4\"><span class=\"toc-item-num\">5.4&nbsp;&nbsp;</span>Проверка возможности использования признака суммарная мощность вместо суммарной энергии</a></span></li><li><span><a href=\"#Выводы\" data-toc-modified-id=\"Выводы-5.5\"><span class=\"toc-item-num\">5.5&nbsp;&nbsp;</span>Выводы</a></span></li></ul></li><li><span><a href=\"#Отчет-по-решению-задачи-проекта\" data-toc-modified-id=\"Отчет-по-решению-задачи-проекта-6\"><span class=\"toc-item-num\">6&nbsp;&nbsp;</span>Отчет по решению задачи проекта</a></span><ul class=\"toc-item\"><li><span><a href=\"#Выполнение-пунктов-плана\" data-toc-modified-id=\"Выполнение-пунктов-плана-6.1\"><span class=\"toc-item-num\">6.1&nbsp;&nbsp;</span>Выполнение пунктов плана</a></span></li><li><span><a href=\"#Возникшие-трудности-и-их-преодоление\" data-toc-modified-id=\"Возникшие-трудности-и-их-преодоление-6.2\"><span class=\"toc-item-num\">6.2&nbsp;&nbsp;</span>Возникшие трудности и их преодоление</a></span></li><li><span><a href=\"#Ключевые-шаги-в-решении-задачи\" data-toc-modified-id=\"Ключевые-шаги-в-решении-задачи-6.3\"><span class=\"toc-item-num\">6.3&nbsp;&nbsp;</span>Ключевые шаги в решении задачи</a></span></li><li><span><a href=\"#Лучшая-итоговая-модель\" data-toc-modified-id=\"Лучшая-итоговая-модель-6.4\"><span class=\"toc-item-num\">6.4&nbsp;&nbsp;</span>Лучшая итоговая модель</a></span></li></ul></li></ul></div>"
   ]
  },
  {
   "cell_type": "markdown",
   "metadata": {},
   "source": [
    "# Прогнозирование температуры стали в процессе ее обработки"
   ]
  },
  {
   "cell_type": "markdown",
   "metadata": {},
   "source": [
    "**Цель проекта:** построить модель, предсказывающую температуру стали. Данную модель планируется использовать для уменьшения потребления электроэнергии на этапе обработки стали.\n",
    "\n",
    "**Описание этапа обработки**\n",
    "\n",
    "Сталь обрабатывают в металлическом ковше вместимостью около 100 тонн. Чтобы ковш выдерживал высокие температуры, изнутри его облицовывают огнеупорным кирпичом. Расплавленную сталь заливают в ковш и подогревают до нужной температуры графитовыми электродами. Они установлены в крышке ковша.\n",
    "\n",
    "Из сплава выводится сера (десульфурация), добавлением примесей корректируется химический состав и отбираются пробы. Сталь легируют — изменяют её состав — подавая куски сплава из бункера для сыпучих материалов или проволоку через специальный трайб-аппарат (англ. tribe, «масса»).\n",
    "\n",
    "Перед тем как первый раз ввести легирующие добавки, измеряют температуру стали и производят её химический анализ. Потом температуру на несколько минут повышают, добавляют легирующие материалы и продувают сплав инертным газом. Затем его перемешивают и снова проводят измерения. Такой цикл повторяется до достижения целевого химического состава и оптимальной температуры плавки.\n",
    "\n",
    "Тогда расплавленная сталь отправляется на доводку металла или поступает в машину непрерывной разливки. Оттуда готовый продукт выходит в виде заготовок-слябов (англ. slab, «плита»).\n",
    "\n",
    "**Описание данных**\n",
    "\n",
    "Данные состоят из файлов, полученных из разных источников:\n",
    "* data_arc.csv — данные об электродах;\n",
    "* data_bulk.csv — данные о подаче сыпучих материалов (объём);\n",
    "* data_bulk_time.csv — данные о подаче сыпучих материалов (время);\n",
    "* data_gas.csv — данные о продувке сплава газом;\n",
    "* data_temp.csv — результаты измерения температуры;\n",
    "* data_wire.csv — данные о проволочных материалах (объём);\n",
    "* data_wire_time.csv — данные о проволочных материалах (время).\n",
    "\n",
    "Во всех файлах столбец **key** содержит номер партии. В файлах может быть несколько строк с одинаковым значением key: они соответствуют разным итерациям обработки."
   ]
  },
  {
   "cell_type": "markdown",
   "metadata": {},
   "source": [
    "## Изучение исходных данных, их первичная обработка, поиск аномалий"
   ]
  },
  {
   "cell_type": "markdown",
   "metadata": {},
   "source": [
    "Загружаем необходимые библиотеки."
   ]
  },
  {
   "cell_type": "code",
   "execution_count": 1,
   "metadata": {},
   "outputs": [],
   "source": [
    "import pandas as pd\n",
    "import numpy as np\n",
    "import matplotlib.pyplot as plt\n",
    "from sklearn.model_selection import train_test_split, cross_val_score, GridSearchCV\n",
    "from sklearn.linear_model import LinearRegression\n",
    "from sklearn.metrics import mean_absolute_error\n",
    "from sklearn.ensemble import RandomForestRegressor\n",
    "from lightgbm import LGBMRegressor"
   ]
  },
  {
   "cell_type": "markdown",
   "metadata": {},
   "source": [
    "Загружаем исходные файлы."
   ]
  },
  {
   "cell_type": "code",
   "execution_count": 2,
   "metadata": {},
   "outputs": [],
   "source": [
    "data_arc = pd.read_csv('/datasets/final_steel/data_arc.csv')\n",
    "data_bulk = pd.read_csv('/datasets/final_steel/data_bulk.csv')\n",
    "data_bulk_time = pd.read_csv('/datasets/final_steel/data_bulk_time.csv')\n",
    "data_gas = pd.read_csv('/datasets/final_steel/data_gas.csv')\n",
    "data_wire = pd.read_csv('/datasets/final_steel/data_wire.csv')\n",
    "data_wire_time = pd.read_csv('/datasets/final_steel/data_wire_time.csv')\n",
    "data_temp = pd.read_csv('/datasets/final_steel/data_temp.csv')"
   ]
  },
  {
   "cell_type": "markdown",
   "metadata": {},
   "source": [
    "Рассмотрим загруженные исходные файлы по отдельности. Также выполним их анализ на наличие различных аномалий. При выявлении аномалий по возможности устраним их."
   ]
  },
  {
   "cell_type": "markdown",
   "metadata": {},
   "source": [
    "###  Датасет data_arc"
   ]
  },
  {
   "cell_type": "code",
   "execution_count": 3,
   "metadata": {},
   "outputs": [
    {
     "name": "stdout",
     "output_type": "stream",
     "text": [
      "<class 'pandas.core.frame.DataFrame'>\n",
      "RangeIndex: 14876 entries, 0 to 14875\n",
      "Data columns (total 5 columns):\n",
      "key                     14876 non-null int64\n",
      "Начало нагрева дугой    14876 non-null object\n",
      "Конец нагрева дугой     14876 non-null object\n",
      "Активная мощность       14876 non-null float64\n",
      "Реактивная мощность     14876 non-null float64\n",
      "dtypes: float64(2), int64(1), object(2)\n",
      "memory usage: 581.2+ KB\n"
     ]
    }
   ],
   "source": [
    "data_arc.info()"
   ]
  },
  {
   "cell_type": "code",
   "execution_count": 4,
   "metadata": {},
   "outputs": [
    {
     "data": {
      "text/html": [
       "<div>\n",
       "<style scoped>\n",
       "    .dataframe tbody tr th:only-of-type {\n",
       "        vertical-align: middle;\n",
       "    }\n",
       "\n",
       "    .dataframe tbody tr th {\n",
       "        vertical-align: top;\n",
       "    }\n",
       "\n",
       "    .dataframe thead th {\n",
       "        text-align: right;\n",
       "    }\n",
       "</style>\n",
       "<table border=\"1\" class=\"dataframe\">\n",
       "  <thead>\n",
       "    <tr style=\"text-align: right;\">\n",
       "      <th></th>\n",
       "      <th>key</th>\n",
       "      <th>Начало нагрева дугой</th>\n",
       "      <th>Конец нагрева дугой</th>\n",
       "      <th>Активная мощность</th>\n",
       "      <th>Реактивная мощность</th>\n",
       "    </tr>\n",
       "  </thead>\n",
       "  <tbody>\n",
       "    <tr>\n",
       "      <td>0</td>\n",
       "      <td>1</td>\n",
       "      <td>2019-05-03 11:02:14</td>\n",
       "      <td>2019-05-03 11:06:02</td>\n",
       "      <td>0.976059</td>\n",
       "      <td>0.687084</td>\n",
       "    </tr>\n",
       "    <tr>\n",
       "      <td>1</td>\n",
       "      <td>1</td>\n",
       "      <td>2019-05-03 11:07:28</td>\n",
       "      <td>2019-05-03 11:10:33</td>\n",
       "      <td>0.805607</td>\n",
       "      <td>0.520285</td>\n",
       "    </tr>\n",
       "    <tr>\n",
       "      <td>2</td>\n",
       "      <td>1</td>\n",
       "      <td>2019-05-03 11:11:44</td>\n",
       "      <td>2019-05-03 11:14:36</td>\n",
       "      <td>0.744363</td>\n",
       "      <td>0.498805</td>\n",
       "    </tr>\n",
       "    <tr>\n",
       "      <td>3</td>\n",
       "      <td>1</td>\n",
       "      <td>2019-05-03 11:18:14</td>\n",
       "      <td>2019-05-03 11:24:19</td>\n",
       "      <td>1.659363</td>\n",
       "      <td>1.062669</td>\n",
       "    </tr>\n",
       "    <tr>\n",
       "      <td>4</td>\n",
       "      <td>1</td>\n",
       "      <td>2019-05-03 11:26:09</td>\n",
       "      <td>2019-05-03 11:28:37</td>\n",
       "      <td>0.692755</td>\n",
       "      <td>0.414397</td>\n",
       "    </tr>\n",
       "    <tr>\n",
       "      <td>5</td>\n",
       "      <td>2</td>\n",
       "      <td>2019-05-03 11:34:14</td>\n",
       "      <td>2019-05-03 11:36:31</td>\n",
       "      <td>0.438063</td>\n",
       "      <td>0.283043</td>\n",
       "    </tr>\n",
       "    <tr>\n",
       "      <td>6</td>\n",
       "      <td>2</td>\n",
       "      <td>2019-05-03 11:38:50</td>\n",
       "      <td>2019-05-03 11:44:28</td>\n",
       "      <td>1.296415</td>\n",
       "      <td>0.892914</td>\n",
       "    </tr>\n",
       "    <tr>\n",
       "      <td>7</td>\n",
       "      <td>2</td>\n",
       "      <td>2019-05-03 11:46:19</td>\n",
       "      <td>2019-05-03 11:48:25</td>\n",
       "      <td>0.490377</td>\n",
       "      <td>0.305281</td>\n",
       "    </tr>\n",
       "    <tr>\n",
       "      <td>8</td>\n",
       "      <td>2</td>\n",
       "      <td>2019-05-03 11:49:48</td>\n",
       "      <td>2019-05-03 11:53:18</td>\n",
       "      <td>0.827743</td>\n",
       "      <td>0.516874</td>\n",
       "    </tr>\n",
       "    <tr>\n",
       "      <td>9</td>\n",
       "      <td>3</td>\n",
       "      <td>2019-05-03 12:06:54</td>\n",
       "      <td>2019-05-03 12:11:34</td>\n",
       "      <td>1.062053</td>\n",
       "      <td>0.671494</td>\n",
       "    </tr>\n",
       "  </tbody>\n",
       "</table>\n",
       "</div>"
      ],
      "text/plain": [
       "   key Начало нагрева дугой  Конец нагрева дугой  Активная мощность  \\\n",
       "0    1  2019-05-03 11:02:14  2019-05-03 11:06:02           0.976059   \n",
       "1    1  2019-05-03 11:07:28  2019-05-03 11:10:33           0.805607   \n",
       "2    1  2019-05-03 11:11:44  2019-05-03 11:14:36           0.744363   \n",
       "3    1  2019-05-03 11:18:14  2019-05-03 11:24:19           1.659363   \n",
       "4    1  2019-05-03 11:26:09  2019-05-03 11:28:37           0.692755   \n",
       "5    2  2019-05-03 11:34:14  2019-05-03 11:36:31           0.438063   \n",
       "6    2  2019-05-03 11:38:50  2019-05-03 11:44:28           1.296415   \n",
       "7    2  2019-05-03 11:46:19  2019-05-03 11:48:25           0.490377   \n",
       "8    2  2019-05-03 11:49:48  2019-05-03 11:53:18           0.827743   \n",
       "9    3  2019-05-03 12:06:54  2019-05-03 12:11:34           1.062053   \n",
       "\n",
       "   Реактивная мощность  \n",
       "0             0.687084  \n",
       "1             0.520285  \n",
       "2             0.498805  \n",
       "3             1.062669  \n",
       "4             0.414397  \n",
       "5             0.283043  \n",
       "6             0.892914  \n",
       "7             0.305281  \n",
       "8             0.516874  \n",
       "9             0.671494  "
      ]
     },
     "execution_count": 4,
     "metadata": {},
     "output_type": "execute_result"
    }
   ],
   "source": [
    "data_arc.head(10)"
   ]
  },
  {
   "cell_type": "code",
   "execution_count": 5,
   "metadata": {},
   "outputs": [
    {
     "data": {
      "text/html": [
       "<div>\n",
       "<style scoped>\n",
       "    .dataframe tbody tr th:only-of-type {\n",
       "        vertical-align: middle;\n",
       "    }\n",
       "\n",
       "    .dataframe tbody tr th {\n",
       "        vertical-align: top;\n",
       "    }\n",
       "\n",
       "    .dataframe thead th {\n",
       "        text-align: right;\n",
       "    }\n",
       "</style>\n",
       "<table border=\"1\" class=\"dataframe\">\n",
       "  <thead>\n",
       "    <tr style=\"text-align: right;\">\n",
       "      <th></th>\n",
       "      <th>key</th>\n",
       "      <th>Время замера</th>\n",
       "      <th>Температура</th>\n",
       "    </tr>\n",
       "  </thead>\n",
       "  <tbody>\n",
       "    <tr>\n",
       "      <td>0</td>\n",
       "      <td>1</td>\n",
       "      <td>2019-05-03 11:16:18</td>\n",
       "      <td>1571.0</td>\n",
       "    </tr>\n",
       "    <tr>\n",
       "      <td>1</td>\n",
       "      <td>1</td>\n",
       "      <td>2019-05-03 11:25:53</td>\n",
       "      <td>1604.0</td>\n",
       "    </tr>\n",
       "    <tr>\n",
       "      <td>2</td>\n",
       "      <td>1</td>\n",
       "      <td>2019-05-03 11:29:11</td>\n",
       "      <td>1618.0</td>\n",
       "    </tr>\n",
       "    <tr>\n",
       "      <td>3</td>\n",
       "      <td>1</td>\n",
       "      <td>2019-05-03 11:30:01</td>\n",
       "      <td>1601.0</td>\n",
       "    </tr>\n",
       "    <tr>\n",
       "      <td>4</td>\n",
       "      <td>1</td>\n",
       "      <td>2019-05-03 11:30:39</td>\n",
       "      <td>1613.0</td>\n",
       "    </tr>\n",
       "    <tr>\n",
       "      <td>5</td>\n",
       "      <td>2</td>\n",
       "      <td>2019-05-03 11:37:27</td>\n",
       "      <td>1581.0</td>\n",
       "    </tr>\n",
       "    <tr>\n",
       "      <td>6</td>\n",
       "      <td>2</td>\n",
       "      <td>2019-05-03 11:38:00</td>\n",
       "      <td>1577.0</td>\n",
       "    </tr>\n",
       "    <tr>\n",
       "      <td>7</td>\n",
       "      <td>2</td>\n",
       "      <td>2019-05-03 11:49:38</td>\n",
       "      <td>1589.0</td>\n",
       "    </tr>\n",
       "    <tr>\n",
       "      <td>8</td>\n",
       "      <td>2</td>\n",
       "      <td>2019-05-03 11:55:50</td>\n",
       "      <td>1604.0</td>\n",
       "    </tr>\n",
       "    <tr>\n",
       "      <td>9</td>\n",
       "      <td>2</td>\n",
       "      <td>2019-05-03 11:58:24</td>\n",
       "      <td>1608.0</td>\n",
       "    </tr>\n",
       "  </tbody>\n",
       "</table>\n",
       "</div>"
      ],
      "text/plain": [
       "   key         Время замера  Температура\n",
       "0    1  2019-05-03 11:16:18       1571.0\n",
       "1    1  2019-05-03 11:25:53       1604.0\n",
       "2    1  2019-05-03 11:29:11       1618.0\n",
       "3    1  2019-05-03 11:30:01       1601.0\n",
       "4    1  2019-05-03 11:30:39       1613.0\n",
       "5    2  2019-05-03 11:37:27       1581.0\n",
       "6    2  2019-05-03 11:38:00       1577.0\n",
       "7    2  2019-05-03 11:49:38       1589.0\n",
       "8    2  2019-05-03 11:55:50       1604.0\n",
       "9    2  2019-05-03 11:58:24       1608.0"
      ]
     },
     "execution_count": 5,
     "metadata": {},
     "output_type": "execute_result"
    }
   ],
   "source": [
    "data_temp.head(10)"
   ]
  },
  {
   "cell_type": "code",
   "execution_count": 6,
   "metadata": {
    "scrolled": true
   },
   "outputs": [
    {
     "data": {
      "text/html": [
       "<div>\n",
       "<style scoped>\n",
       "    .dataframe tbody tr th:only-of-type {\n",
       "        vertical-align: middle;\n",
       "    }\n",
       "\n",
       "    .dataframe tbody tr th {\n",
       "        vertical-align: top;\n",
       "    }\n",
       "\n",
       "    .dataframe thead th {\n",
       "        text-align: right;\n",
       "    }\n",
       "</style>\n",
       "<table border=\"1\" class=\"dataframe\">\n",
       "  <thead>\n",
       "    <tr style=\"text-align: right;\">\n",
       "      <th></th>\n",
       "      <th>key</th>\n",
       "      <th>Активная мощность</th>\n",
       "      <th>Реактивная мощность</th>\n",
       "    </tr>\n",
       "  </thead>\n",
       "  <tbody>\n",
       "    <tr>\n",
       "      <td>count</td>\n",
       "      <td>14876.000000</td>\n",
       "      <td>14876.000000</td>\n",
       "      <td>14876.000000</td>\n",
       "    </tr>\n",
       "    <tr>\n",
       "      <td>mean</td>\n",
       "      <td>1615.220422</td>\n",
       "      <td>0.670441</td>\n",
       "      <td>0.452592</td>\n",
       "    </tr>\n",
       "    <tr>\n",
       "      <td>std</td>\n",
       "      <td>934.571502</td>\n",
       "      <td>0.408159</td>\n",
       "      <td>5.878702</td>\n",
       "    </tr>\n",
       "    <tr>\n",
       "      <td>min</td>\n",
       "      <td>1.000000</td>\n",
       "      <td>0.030002</td>\n",
       "      <td>-715.504924</td>\n",
       "    </tr>\n",
       "    <tr>\n",
       "      <td>25%</td>\n",
       "      <td>806.000000</td>\n",
       "      <td>0.395297</td>\n",
       "      <td>0.290991</td>\n",
       "    </tr>\n",
       "    <tr>\n",
       "      <td>50%</td>\n",
       "      <td>1617.000000</td>\n",
       "      <td>0.555517</td>\n",
       "      <td>0.415962</td>\n",
       "    </tr>\n",
       "    <tr>\n",
       "      <td>75%</td>\n",
       "      <td>2429.000000</td>\n",
       "      <td>0.857034</td>\n",
       "      <td>0.637371</td>\n",
       "    </tr>\n",
       "    <tr>\n",
       "      <td>max</td>\n",
       "      <td>3241.000000</td>\n",
       "      <td>3.731596</td>\n",
       "      <td>2.676388</td>\n",
       "    </tr>\n",
       "  </tbody>\n",
       "</table>\n",
       "</div>"
      ],
      "text/plain": [
       "                key  Активная мощность  Реактивная мощность\n",
       "count  14876.000000       14876.000000         14876.000000\n",
       "mean    1615.220422           0.670441             0.452592\n",
       "std      934.571502           0.408159             5.878702\n",
       "min        1.000000           0.030002          -715.504924\n",
       "25%      806.000000           0.395297             0.290991\n",
       "50%     1617.000000           0.555517             0.415962\n",
       "75%     2429.000000           0.857034             0.637371\n",
       "max     3241.000000           3.731596             2.676388"
      ]
     },
     "execution_count": 6,
     "metadata": {},
     "output_type": "execute_result"
    }
   ],
   "source": [
    "data_arc.describe()"
   ]
  },
  {
   "cell_type": "markdown",
   "metadata": {},
   "source": [
    "Пропусков в датасете нет, проверим на наличие полных дубликатов."
   ]
  },
  {
   "cell_type": "code",
   "execution_count": 7,
   "metadata": {},
   "outputs": [
    {
     "data": {
      "text/plain": [
       "0"
      ]
     },
     "execution_count": 7,
     "metadata": {},
     "output_type": "execute_result"
    }
   ],
   "source": [
    "data_arc.duplicated().sum()"
   ]
  },
  {
   "cell_type": "markdown",
   "metadata": {},
   "source": [
    "Полных дубликатов не выявлено."
   ]
  },
  {
   "cell_type": "markdown",
   "metadata": {},
   "source": [
    "Названия столбцов датасета неудачны: поменяем их. "
   ]
  },
  {
   "cell_type": "code",
   "execution_count": 8,
   "metadata": {},
   "outputs": [],
   "source": [
    "data_arc.rename(columns={\"Начало нагрева дугой\": \"warm_begin\", \"Конец нагрева дугой\": \"warm_end\",\n",
    "                 \"Активная мощность\": 'active_power', \"Реактивная мощность\": 'reactive_power'}, inplace=True)"
   ]
  },
  {
   "cell_type": "markdown",
   "metadata": {},
   "source": [
    "Поменяем тип данных для столбцов со временем."
   ]
  },
  {
   "cell_type": "code",
   "execution_count": 9,
   "metadata": {},
   "outputs": [],
   "source": [
    "data_arc[\"warm_begin\"] = pd.to_datetime(data_arc[\"warm_begin\"])\n",
    "data_arc[\"warm_end\"] = pd.to_datetime(data_arc[\"warm_end\"])"
   ]
  },
  {
   "cell_type": "markdown",
   "metadata": {},
   "source": [
    "Выведим экстремальные значения в столбцах warm_begin и warm_end."
   ]
  },
  {
   "cell_type": "code",
   "execution_count": 10,
   "metadata": {
    "scrolled": true
   },
   "outputs": [
    {
     "name": "stdout",
     "output_type": "stream",
     "text": [
      "min(warm_begin) =  2019-05-03 11:02:14\n",
      "max(warm_begin) =  2019-09-01 04:34:47\n",
      "min(warm_begin) =  2019-05-03 11:06:02\n",
      "max(warm_begin) =  2019-09-01 04:36:08\n"
     ]
    }
   ],
   "source": [
    "print(\"min(warm_begin) = \", data_arc[\"warm_begin\"].min())\n",
    "print(\"max(warm_begin) = \", data_arc[\"warm_begin\"].max())\n",
    "print(\"min(warm_begin) = \", data_arc[\"warm_end\"].min())\n",
    "print(\"max(warm_begin) = \", data_arc[\"warm_end\"].max())"
   ]
  },
  {
   "cell_type": "markdown",
   "metadata": {},
   "source": [
    "Все даты относятся к маю - сентябрю 2019 года. Учтем это для дальнешего анализа."
   ]
  },
  {
   "cell_type": "code",
   "execution_count": 11,
   "metadata": {},
   "outputs": [
    {
     "data": {
      "text/plain": [
       "<matplotlib.axes._subplots.AxesSubplot at 0x7f2a34ce57d0>"
      ]
     },
     "execution_count": 11,
     "metadata": {},
     "output_type": "execute_result"
    },
    {
     "data": {
      "image/png": "[encoded data removed]",
      "text/plain": [
       "<Figure size 432x288 with 1 Axes>"
      ]
     },
     "metadata": {
      "needs_background": "light"
     },
     "output_type": "display_data"
    }
   ],
   "source": [
    "data_arc.boxplot(column=\"active_power\")"
   ]
  },
  {
   "cell_type": "code",
   "execution_count": 12,
   "metadata": {},
   "outputs": [
    {
     "data": {
      "text/plain": [
       "<matplotlib.axes._subplots.AxesSubplot at 0x7f29b05cf590>"
      ]
     },
     "execution_count": 12,
     "metadata": {},
     "output_type": "execute_result"
    },
    {
     "data": {
      "image/png": "[encoded data removed]",
      "text/plain": [
       "<Figure size 432x288 with 1 Axes>"
      ]
     },
     "metadata": {
      "needs_background": "light"
     },
     "output_type": "display_data"
    }
   ],
   "source": [
    "data_arc.boxplot(column=\"reactive_power\")"
   ]
  },
  {
   "cell_type": "markdown",
   "metadata": {},
   "source": [
    "На графике хорошо виден выброс - отрицательное значение реактивной мощности. Выведим строку с отрицательным значением реактивной мощности."
   ]
  },
  {
   "cell_type": "code",
   "execution_count": 13,
   "metadata": {},
   "outputs": [
    {
     "data": {
      "text/html": [
       "<div>\n",
       "<style scoped>\n",
       "    .dataframe tbody tr th:only-of-type {\n",
       "        vertical-align: middle;\n",
       "    }\n",
       "\n",
       "    .dataframe tbody tr th {\n",
       "        vertical-align: top;\n",
       "    }\n",
       "\n",
       "    .dataframe thead th {\n",
       "        text-align: right;\n",
       "    }\n",
       "</style>\n",
       "<table border=\"1\" class=\"dataframe\">\n",
       "  <thead>\n",
       "    <tr style=\"text-align: right;\">\n",
       "      <th></th>\n",
       "      <th>key</th>\n",
       "      <th>warm_begin</th>\n",
       "      <th>warm_end</th>\n",
       "      <th>active_power</th>\n",
       "      <th>reactive_power</th>\n",
       "    </tr>\n",
       "  </thead>\n",
       "  <tbody>\n",
       "    <tr>\n",
       "      <td>9780</td>\n",
       "      <td>2116</td>\n",
       "      <td>2019-07-24 00:44:48</td>\n",
       "      <td>2019-07-24 00:46:37</td>\n",
       "      <td>0.495782</td>\n",
       "      <td>-715.504924</td>\n",
       "    </tr>\n",
       "  </tbody>\n",
       "</table>\n",
       "</div>"
      ],
      "text/plain": [
       "       key          warm_begin            warm_end  active_power  \\\n",
       "9780  2116 2019-07-24 00:44:48 2019-07-24 00:46:37      0.495782   \n",
       "\n",
       "      reactive_power  \n",
       "9780     -715.504924  "
      ]
     },
     "execution_count": 13,
     "metadata": {},
     "output_type": "execute_result"
    }
   ],
   "source": [
    "data_arc[data_arc[\"reactive_power\"] < 0]"
   ]
  },
  {
   "cell_type": "markdown",
   "metadata": {},
   "source": [
    "Дополнительно выведем все строки партиии с отрицательным значением реактивной мощности для того, чтобы понимать если другие строки в данной партии."
   ]
  },
  {
   "cell_type": "code",
   "execution_count": 14,
   "metadata": {},
   "outputs": [
    {
     "data": {
      "text/html": [
       "<div>\n",
       "<style scoped>\n",
       "    .dataframe tbody tr th:only-of-type {\n",
       "        vertical-align: middle;\n",
       "    }\n",
       "\n",
       "    .dataframe tbody tr th {\n",
       "        vertical-align: top;\n",
       "    }\n",
       "\n",
       "    .dataframe thead th {\n",
       "        text-align: right;\n",
       "    }\n",
       "</style>\n",
       "<table border=\"1\" class=\"dataframe\">\n",
       "  <thead>\n",
       "    <tr style=\"text-align: right;\">\n",
       "      <th></th>\n",
       "      <th>key</th>\n",
       "      <th>warm_begin</th>\n",
       "      <th>warm_end</th>\n",
       "      <th>active_power</th>\n",
       "      <th>reactive_power</th>\n",
       "    </tr>\n",
       "  </thead>\n",
       "  <tbody>\n",
       "    <tr>\n",
       "      <td>9778</td>\n",
       "      <td>2116</td>\n",
       "      <td>2019-07-24 00:29:52</td>\n",
       "      <td>2019-07-24 00:31:54</td>\n",
       "      <td>0.433266</td>\n",
       "      <td>0.306141</td>\n",
       "    </tr>\n",
       "    <tr>\n",
       "      <td>9779</td>\n",
       "      <td>2116</td>\n",
       "      <td>2019-07-24 00:35:50</td>\n",
       "      <td>2019-07-24 00:38:05</td>\n",
       "      <td>0.620265</td>\n",
       "      <td>0.408352</td>\n",
       "    </tr>\n",
       "    <tr>\n",
       "      <td>9780</td>\n",
       "      <td>2116</td>\n",
       "      <td>2019-07-24 00:44:48</td>\n",
       "      <td>2019-07-24 00:46:37</td>\n",
       "      <td>0.495782</td>\n",
       "      <td>-715.504924</td>\n",
       "    </tr>\n",
       "    <tr>\n",
       "      <td>9781</td>\n",
       "      <td>2116</td>\n",
       "      <td>2019-07-24 00:51:51</td>\n",
       "      <td>2019-07-24 00:52:58</td>\n",
       "      <td>0.299368</td>\n",
       "      <td>0.198796</td>\n",
       "    </tr>\n",
       "  </tbody>\n",
       "</table>\n",
       "</div>"
      ],
      "text/plain": [
       "       key          warm_begin            warm_end  active_power  \\\n",
       "9778  2116 2019-07-24 00:29:52 2019-07-24 00:31:54      0.433266   \n",
       "9779  2116 2019-07-24 00:35:50 2019-07-24 00:38:05      0.620265   \n",
       "9780  2116 2019-07-24 00:44:48 2019-07-24 00:46:37      0.495782   \n",
       "9781  2116 2019-07-24 00:51:51 2019-07-24 00:52:58      0.299368   \n",
       "\n",
       "      reactive_power  \n",
       "9778        0.306141  \n",
       "9779        0.408352  \n",
       "9780     -715.504924  \n",
       "9781        0.198796  "
      ]
     },
     "execution_count": 14,
     "metadata": {},
     "output_type": "execute_result"
    }
   ],
   "source": [
    "data_arc[data_arc[\"key\"] == 2116]"
   ]
  },
  {
   "cell_type": "markdown",
   "metadata": {},
   "source": [
    "С учетом очевидной важности фактора переданного тепла на целевой показатель - температуру, вероятно, предпочтительнее будет полностью удплить партию 2116 из данного датасета, а также из общего датасета (датасета на котором будут обучаться модели)."
   ]
  },
  {
   "cell_type": "code",
   "execution_count": 15,
   "metadata": {},
   "outputs": [],
   "source": [
    "data_arc = data_arc[~(data_arc[\"key\"] == 2116)]\n",
    "data_arc = data_arc.reset_index()"
   ]
  },
  {
   "cell_type": "markdown",
   "metadata": {},
   "source": [
    "Проверим корреляцию между активной и реактивной мощностью."
   ]
  },
  {
   "cell_type": "code",
   "execution_count": 16,
   "metadata": {},
   "outputs": [
    {
     "data": {
      "text/plain": [
       "0.9631799081909955"
      ]
     },
     "execution_count": 16,
     "metadata": {},
     "output_type": "execute_result"
    }
   ],
   "source": [
    "data_arc[\"active_power\"].corr(data_arc[\"reactive_power\"])"
   ]
  },
  {
   "cell_type": "markdown",
   "metadata": {},
   "source": [
    "Между двумя рассматриваемыми признаками очень высокая корреляция, что говорит о сильной линейной связи (коэффициент Пирсона равен 0,963). С учетом этого для упрощения анализа и расчетов удалим столбец с реактивной мощностью."
   ]
  },
  {
   "cell_type": "code",
   "execution_count": 17,
   "metadata": {},
   "outputs": [],
   "source": [
    "data_arc = data_arc.drop([\"reactive_power\"], axis=1)"
   ]
  },
  {
   "cell_type": "markdown",
   "metadata": {},
   "source": [
    "Учтем, что напрямую на температуру влияет не мощность, а переданная энергия, равная мощности умноженной на промежуток времени. Добавим два столбца - один с длительностью нагрева, другой с переданной энергией (равной произведению активной мощности на промежуток времени)."
   ]
  },
  {
   "cell_type": "code",
   "execution_count": 18,
   "metadata": {},
   "outputs": [],
   "source": [
    "data_arc[\"warm_duration\"] = data_arc[\"warm_end\"] - data_arc[\"warm_begin\"]"
   ]
  },
  {
   "cell_type": "code",
   "execution_count": 19,
   "metadata": {},
   "outputs": [],
   "source": [
    "data_arc[\"warm_duration\"] = data_arc[\"warm_duration\"].dt.total_seconds()"
   ]
  },
  {
   "cell_type": "code",
   "execution_count": 20,
   "metadata": {},
   "outputs": [],
   "source": [
    "data_arc[\"energy\"] = data_arc[\"warm_duration\"] * data_arc[\"active_power\"]"
   ]
  },
  {
   "cell_type": "markdown",
   "metadata": {},
   "source": [
    "Выполним проверку наличия отрицательной энергии нагрева."
   ]
  },
  {
   "cell_type": "code",
   "execution_count": 21,
   "metadata": {},
   "outputs": [
    {
     "data": {
      "text/plain": [
       "0"
      ]
     },
     "execution_count": 21,
     "metadata": {},
     "output_type": "execute_result"
    }
   ],
   "source": [
    "len(data_arc[data_arc[\"energy\"] < 0])"
   ]
  },
  {
   "cell_type": "markdown",
   "metadata": {},
   "source": [
    "Выведим для контроля текущее состояние датасета."
   ]
  },
  {
   "cell_type": "code",
   "execution_count": 22,
   "metadata": {},
   "outputs": [
    {
     "data": {
      "text/html": [
       "<div>\n",
       "<style scoped>\n",
       "    .dataframe tbody tr th:only-of-type {\n",
       "        vertical-align: middle;\n",
       "    }\n",
       "\n",
       "    .dataframe tbody tr th {\n",
       "        vertical-align: top;\n",
       "    }\n",
       "\n",
       "    .dataframe thead th {\n",
       "        text-align: right;\n",
       "    }\n",
       "</style>\n",
       "<table border=\"1\" class=\"dataframe\">\n",
       "  <thead>\n",
       "    <tr style=\"text-align: right;\">\n",
       "      <th></th>\n",
       "      <th>index</th>\n",
       "      <th>key</th>\n",
       "      <th>warm_begin</th>\n",
       "      <th>warm_end</th>\n",
       "      <th>active_power</th>\n",
       "      <th>warm_duration</th>\n",
       "      <th>energy</th>\n",
       "    </tr>\n",
       "  </thead>\n",
       "  <tbody>\n",
       "    <tr>\n",
       "      <td>0</td>\n",
       "      <td>0</td>\n",
       "      <td>1</td>\n",
       "      <td>2019-05-03 11:02:14</td>\n",
       "      <td>2019-05-03 11:06:02</td>\n",
       "      <td>0.976059</td>\n",
       "      <td>228.0</td>\n",
       "      <td>222.541395</td>\n",
       "    </tr>\n",
       "    <tr>\n",
       "      <td>1</td>\n",
       "      <td>1</td>\n",
       "      <td>1</td>\n",
       "      <td>2019-05-03 11:07:28</td>\n",
       "      <td>2019-05-03 11:10:33</td>\n",
       "      <td>0.805607</td>\n",
       "      <td>185.0</td>\n",
       "      <td>149.037310</td>\n",
       "    </tr>\n",
       "    <tr>\n",
       "      <td>2</td>\n",
       "      <td>2</td>\n",
       "      <td>1</td>\n",
       "      <td>2019-05-03 11:11:44</td>\n",
       "      <td>2019-05-03 11:14:36</td>\n",
       "      <td>0.744363</td>\n",
       "      <td>172.0</td>\n",
       "      <td>128.030509</td>\n",
       "    </tr>\n",
       "    <tr>\n",
       "      <td>3</td>\n",
       "      <td>3</td>\n",
       "      <td>1</td>\n",
       "      <td>2019-05-03 11:18:14</td>\n",
       "      <td>2019-05-03 11:24:19</td>\n",
       "      <td>1.659363</td>\n",
       "      <td>365.0</td>\n",
       "      <td>605.667332</td>\n",
       "    </tr>\n",
       "    <tr>\n",
       "      <td>4</td>\n",
       "      <td>4</td>\n",
       "      <td>1</td>\n",
       "      <td>2019-05-03 11:26:09</td>\n",
       "      <td>2019-05-03 11:28:37</td>\n",
       "      <td>0.692755</td>\n",
       "      <td>148.0</td>\n",
       "      <td>102.527702</td>\n",
       "    </tr>\n",
       "  </tbody>\n",
       "</table>\n",
       "</div>"
      ],
      "text/plain": [
       "   index  key          warm_begin            warm_end  active_power  \\\n",
       "0      0    1 2019-05-03 11:02:14 2019-05-03 11:06:02      0.976059   \n",
       "1      1    1 2019-05-03 11:07:28 2019-05-03 11:10:33      0.805607   \n",
       "2      2    1 2019-05-03 11:11:44 2019-05-03 11:14:36      0.744363   \n",
       "3      3    1 2019-05-03 11:18:14 2019-05-03 11:24:19      1.659363   \n",
       "4      4    1 2019-05-03 11:26:09 2019-05-03 11:28:37      0.692755   \n",
       "\n",
       "   warm_duration      energy  \n",
       "0          228.0  222.541395  \n",
       "1          185.0  149.037310  \n",
       "2          172.0  128.030509  \n",
       "3          365.0  605.667332  \n",
       "4          148.0  102.527702  "
      ]
     },
     "execution_count": 22,
     "metadata": {},
     "output_type": "execute_result"
    }
   ],
   "source": [
    "data_arc.head()"
   ]
  },
  {
   "cell_type": "markdown",
   "metadata": {},
   "source": [
    "### Датасет data_bulk"
   ]
  },
  {
   "cell_type": "code",
   "execution_count": 23,
   "metadata": {
    "scrolled": true
   },
   "outputs": [
    {
     "name": "stdout",
     "output_type": "stream",
     "text": [
      "<class 'pandas.core.frame.DataFrame'>\n",
      "RangeIndex: 3129 entries, 0 to 3128\n",
      "Data columns (total 16 columns):\n",
      "key        3129 non-null int64\n",
      "Bulk 1     252 non-null float64\n",
      "Bulk 2     22 non-null float64\n",
      "Bulk 3     1298 non-null float64\n",
      "Bulk 4     1014 non-null float64\n",
      "Bulk 5     77 non-null float64\n",
      "Bulk 6     576 non-null float64\n",
      "Bulk 7     25 non-null float64\n",
      "Bulk 8     1 non-null float64\n",
      "Bulk 9     19 non-null float64\n",
      "Bulk 10    176 non-null float64\n",
      "Bulk 11    177 non-null float64\n",
      "Bulk 12    2450 non-null float64\n",
      "Bulk 13    18 non-null float64\n",
      "Bulk 14    2806 non-null float64\n",
      "Bulk 15    2248 non-null float64\n",
      "dtypes: float64(15), int64(1)\n",
      "memory usage: 391.2 KB\n"
     ]
    }
   ],
   "source": [
    "data_bulk.info()"
   ]
  },
  {
   "cell_type": "code",
   "execution_count": 24,
   "metadata": {},
   "outputs": [
    {
     "data": {
      "text/html": [
       "<div>\n",
       "<style scoped>\n",
       "    .dataframe tbody tr th:only-of-type {\n",
       "        vertical-align: middle;\n",
       "    }\n",
       "\n",
       "    .dataframe tbody tr th {\n",
       "        vertical-align: top;\n",
       "    }\n",
       "\n",
       "    .dataframe thead th {\n",
       "        text-align: right;\n",
       "    }\n",
       "</style>\n",
       "<table border=\"1\" class=\"dataframe\">\n",
       "  <thead>\n",
       "    <tr style=\"text-align: right;\">\n",
       "      <th></th>\n",
       "      <th>key</th>\n",
       "      <th>Bulk 1</th>\n",
       "      <th>Bulk 2</th>\n",
       "      <th>Bulk 3</th>\n",
       "      <th>Bulk 4</th>\n",
       "      <th>Bulk 5</th>\n",
       "      <th>Bulk 6</th>\n",
       "      <th>Bulk 7</th>\n",
       "      <th>Bulk 8</th>\n",
       "      <th>Bulk 9</th>\n",
       "      <th>Bulk 10</th>\n",
       "      <th>Bulk 11</th>\n",
       "      <th>Bulk 12</th>\n",
       "      <th>Bulk 13</th>\n",
       "      <th>Bulk 14</th>\n",
       "      <th>Bulk 15</th>\n",
       "    </tr>\n",
       "  </thead>\n",
       "  <tbody>\n",
       "    <tr>\n",
       "      <td>0</td>\n",
       "      <td>1</td>\n",
       "      <td>NaN</td>\n",
       "      <td>NaN</td>\n",
       "      <td>NaN</td>\n",
       "      <td>43.0</td>\n",
       "      <td>NaN</td>\n",
       "      <td>NaN</td>\n",
       "      <td>NaN</td>\n",
       "      <td>NaN</td>\n",
       "      <td>NaN</td>\n",
       "      <td>NaN</td>\n",
       "      <td>NaN</td>\n",
       "      <td>206.0</td>\n",
       "      <td>NaN</td>\n",
       "      <td>150.0</td>\n",
       "      <td>154.0</td>\n",
       "    </tr>\n",
       "    <tr>\n",
       "      <td>1</td>\n",
       "      <td>2</td>\n",
       "      <td>NaN</td>\n",
       "      <td>NaN</td>\n",
       "      <td>NaN</td>\n",
       "      <td>73.0</td>\n",
       "      <td>NaN</td>\n",
       "      <td>NaN</td>\n",
       "      <td>NaN</td>\n",
       "      <td>NaN</td>\n",
       "      <td>NaN</td>\n",
       "      <td>NaN</td>\n",
       "      <td>NaN</td>\n",
       "      <td>206.0</td>\n",
       "      <td>NaN</td>\n",
       "      <td>149.0</td>\n",
       "      <td>154.0</td>\n",
       "    </tr>\n",
       "    <tr>\n",
       "      <td>2</td>\n",
       "      <td>3</td>\n",
       "      <td>NaN</td>\n",
       "      <td>NaN</td>\n",
       "      <td>NaN</td>\n",
       "      <td>34.0</td>\n",
       "      <td>NaN</td>\n",
       "      <td>NaN</td>\n",
       "      <td>NaN</td>\n",
       "      <td>NaN</td>\n",
       "      <td>NaN</td>\n",
       "      <td>NaN</td>\n",
       "      <td>NaN</td>\n",
       "      <td>205.0</td>\n",
       "      <td>NaN</td>\n",
       "      <td>152.0</td>\n",
       "      <td>153.0</td>\n",
       "    </tr>\n",
       "    <tr>\n",
       "      <td>3</td>\n",
       "      <td>4</td>\n",
       "      <td>NaN</td>\n",
       "      <td>NaN</td>\n",
       "      <td>NaN</td>\n",
       "      <td>81.0</td>\n",
       "      <td>NaN</td>\n",
       "      <td>NaN</td>\n",
       "      <td>NaN</td>\n",
       "      <td>NaN</td>\n",
       "      <td>NaN</td>\n",
       "      <td>NaN</td>\n",
       "      <td>NaN</td>\n",
       "      <td>207.0</td>\n",
       "      <td>NaN</td>\n",
       "      <td>153.0</td>\n",
       "      <td>154.0</td>\n",
       "    </tr>\n",
       "    <tr>\n",
       "      <td>4</td>\n",
       "      <td>5</td>\n",
       "      <td>NaN</td>\n",
       "      <td>NaN</td>\n",
       "      <td>NaN</td>\n",
       "      <td>78.0</td>\n",
       "      <td>NaN</td>\n",
       "      <td>NaN</td>\n",
       "      <td>NaN</td>\n",
       "      <td>NaN</td>\n",
       "      <td>NaN</td>\n",
       "      <td>NaN</td>\n",
       "      <td>NaN</td>\n",
       "      <td>203.0</td>\n",
       "      <td>NaN</td>\n",
       "      <td>151.0</td>\n",
       "      <td>152.0</td>\n",
       "    </tr>\n",
       "  </tbody>\n",
       "</table>\n",
       "</div>"
      ],
      "text/plain": [
       "   key  Bulk 1  Bulk 2  Bulk 3  Bulk 4  Bulk 5  Bulk 6  Bulk 7  Bulk 8  \\\n",
       "0    1     NaN     NaN     NaN    43.0     NaN     NaN     NaN     NaN   \n",
       "1    2     NaN     NaN     NaN    73.0     NaN     NaN     NaN     NaN   \n",
       "2    3     NaN     NaN     NaN    34.0     NaN     NaN     NaN     NaN   \n",
       "3    4     NaN     NaN     NaN    81.0     NaN     NaN     NaN     NaN   \n",
       "4    5     NaN     NaN     NaN    78.0     NaN     NaN     NaN     NaN   \n",
       "\n",
       "   Bulk 9  Bulk 10  Bulk 11  Bulk 12  Bulk 13  Bulk 14  Bulk 15  \n",
       "0     NaN      NaN      NaN    206.0      NaN    150.0    154.0  \n",
       "1     NaN      NaN      NaN    206.0      NaN    149.0    154.0  \n",
       "2     NaN      NaN      NaN    205.0      NaN    152.0    153.0  \n",
       "3     NaN      NaN      NaN    207.0      NaN    153.0    154.0  \n",
       "4     NaN      NaN      NaN    203.0      NaN    151.0    152.0  "
      ]
     },
     "execution_count": 24,
     "metadata": {},
     "output_type": "execute_result"
    }
   ],
   "source": [
    "data_bulk.head()"
   ]
  },
  {
   "cell_type": "code",
   "execution_count": 25,
   "metadata": {},
   "outputs": [
    {
     "data": {
      "text/html": [
       "<div>\n",
       "<style scoped>\n",
       "    .dataframe tbody tr th:only-of-type {\n",
       "        vertical-align: middle;\n",
       "    }\n",
       "\n",
       "    .dataframe tbody tr th {\n",
       "        vertical-align: top;\n",
       "    }\n",
       "\n",
       "    .dataframe thead th {\n",
       "        text-align: right;\n",
       "    }\n",
       "</style>\n",
       "<table border=\"1\" class=\"dataframe\">\n",
       "  <thead>\n",
       "    <tr style=\"text-align: right;\">\n",
       "      <th></th>\n",
       "      <th>key</th>\n",
       "      <th>Bulk 1</th>\n",
       "      <th>Bulk 2</th>\n",
       "      <th>Bulk 3</th>\n",
       "      <th>Bulk 4</th>\n",
       "      <th>Bulk 5</th>\n",
       "      <th>Bulk 6</th>\n",
       "      <th>Bulk 7</th>\n",
       "      <th>Bulk 8</th>\n",
       "      <th>Bulk 9</th>\n",
       "      <th>Bulk 10</th>\n",
       "      <th>Bulk 11</th>\n",
       "      <th>Bulk 12</th>\n",
       "      <th>Bulk 13</th>\n",
       "      <th>Bulk 14</th>\n",
       "      <th>Bulk 15</th>\n",
       "    </tr>\n",
       "  </thead>\n",
       "  <tbody>\n",
       "    <tr>\n",
       "      <td>count</td>\n",
       "      <td>3129.000000</td>\n",
       "      <td>252.000000</td>\n",
       "      <td>22.000000</td>\n",
       "      <td>1298.000000</td>\n",
       "      <td>1014.000000</td>\n",
       "      <td>77.000000</td>\n",
       "      <td>576.000000</td>\n",
       "      <td>25.000000</td>\n",
       "      <td>1.0</td>\n",
       "      <td>19.000000</td>\n",
       "      <td>176.000000</td>\n",
       "      <td>177.000000</td>\n",
       "      <td>2450.000000</td>\n",
       "      <td>18.000000</td>\n",
       "      <td>2806.000000</td>\n",
       "      <td>2248.000000</td>\n",
       "    </tr>\n",
       "    <tr>\n",
       "      <td>mean</td>\n",
       "      <td>1624.383509</td>\n",
       "      <td>39.242063</td>\n",
       "      <td>253.045455</td>\n",
       "      <td>113.879045</td>\n",
       "      <td>104.394477</td>\n",
       "      <td>107.025974</td>\n",
       "      <td>118.925347</td>\n",
       "      <td>305.600000</td>\n",
       "      <td>49.0</td>\n",
       "      <td>76.315789</td>\n",
       "      <td>83.284091</td>\n",
       "      <td>76.819209</td>\n",
       "      <td>260.471020</td>\n",
       "      <td>181.111111</td>\n",
       "      <td>170.284747</td>\n",
       "      <td>160.513345</td>\n",
       "    </tr>\n",
       "    <tr>\n",
       "      <td>std</td>\n",
       "      <td>933.337642</td>\n",
       "      <td>18.277654</td>\n",
       "      <td>21.180578</td>\n",
       "      <td>75.483494</td>\n",
       "      <td>48.184126</td>\n",
       "      <td>81.790646</td>\n",
       "      <td>72.057776</td>\n",
       "      <td>191.022904</td>\n",
       "      <td>NaN</td>\n",
       "      <td>21.720581</td>\n",
       "      <td>26.060347</td>\n",
       "      <td>59.655365</td>\n",
       "      <td>120.649269</td>\n",
       "      <td>46.088009</td>\n",
       "      <td>65.868652</td>\n",
       "      <td>51.765319</td>\n",
       "    </tr>\n",
       "    <tr>\n",
       "      <td>min</td>\n",
       "      <td>1.000000</td>\n",
       "      <td>10.000000</td>\n",
       "      <td>228.000000</td>\n",
       "      <td>6.000000</td>\n",
       "      <td>12.000000</td>\n",
       "      <td>11.000000</td>\n",
       "      <td>17.000000</td>\n",
       "      <td>47.000000</td>\n",
       "      <td>49.0</td>\n",
       "      <td>63.000000</td>\n",
       "      <td>24.000000</td>\n",
       "      <td>8.000000</td>\n",
       "      <td>53.000000</td>\n",
       "      <td>151.000000</td>\n",
       "      <td>16.000000</td>\n",
       "      <td>1.000000</td>\n",
       "    </tr>\n",
       "    <tr>\n",
       "      <td>25%</td>\n",
       "      <td>816.000000</td>\n",
       "      <td>27.000000</td>\n",
       "      <td>242.000000</td>\n",
       "      <td>58.000000</td>\n",
       "      <td>72.000000</td>\n",
       "      <td>70.000000</td>\n",
       "      <td>69.750000</td>\n",
       "      <td>155.000000</td>\n",
       "      <td>49.0</td>\n",
       "      <td>66.000000</td>\n",
       "      <td>64.000000</td>\n",
       "      <td>25.000000</td>\n",
       "      <td>204.000000</td>\n",
       "      <td>153.250000</td>\n",
       "      <td>119.000000</td>\n",
       "      <td>105.000000</td>\n",
       "    </tr>\n",
       "    <tr>\n",
       "      <td>50%</td>\n",
       "      <td>1622.000000</td>\n",
       "      <td>31.000000</td>\n",
       "      <td>251.500000</td>\n",
       "      <td>97.500000</td>\n",
       "      <td>102.000000</td>\n",
       "      <td>86.000000</td>\n",
       "      <td>100.000000</td>\n",
       "      <td>298.000000</td>\n",
       "      <td>49.0</td>\n",
       "      <td>68.000000</td>\n",
       "      <td>86.500000</td>\n",
       "      <td>64.000000</td>\n",
       "      <td>208.000000</td>\n",
       "      <td>155.500000</td>\n",
       "      <td>151.000000</td>\n",
       "      <td>160.000000</td>\n",
       "    </tr>\n",
       "    <tr>\n",
       "      <td>75%</td>\n",
       "      <td>2431.000000</td>\n",
       "      <td>46.000000</td>\n",
       "      <td>257.750000</td>\n",
       "      <td>152.000000</td>\n",
       "      <td>133.000000</td>\n",
       "      <td>132.000000</td>\n",
       "      <td>157.000000</td>\n",
       "      <td>406.000000</td>\n",
       "      <td>49.0</td>\n",
       "      <td>70.500000</td>\n",
       "      <td>102.000000</td>\n",
       "      <td>106.000000</td>\n",
       "      <td>316.000000</td>\n",
       "      <td>203.500000</td>\n",
       "      <td>205.750000</td>\n",
       "      <td>205.000000</td>\n",
       "    </tr>\n",
       "    <tr>\n",
       "      <td>max</td>\n",
       "      <td>3241.000000</td>\n",
       "      <td>185.000000</td>\n",
       "      <td>325.000000</td>\n",
       "      <td>454.000000</td>\n",
       "      <td>281.000000</td>\n",
       "      <td>603.000000</td>\n",
       "      <td>503.000000</td>\n",
       "      <td>772.000000</td>\n",
       "      <td>49.0</td>\n",
       "      <td>147.000000</td>\n",
       "      <td>159.000000</td>\n",
       "      <td>313.000000</td>\n",
       "      <td>1849.000000</td>\n",
       "      <td>305.000000</td>\n",
       "      <td>636.000000</td>\n",
       "      <td>405.000000</td>\n",
       "    </tr>\n",
       "  </tbody>\n",
       "</table>\n",
       "</div>"
      ],
      "text/plain": [
       "               key      Bulk 1      Bulk 2       Bulk 3       Bulk 4  \\\n",
       "count  3129.000000  252.000000   22.000000  1298.000000  1014.000000   \n",
       "mean   1624.383509   39.242063  253.045455   113.879045   104.394477   \n",
       "std     933.337642   18.277654   21.180578    75.483494    48.184126   \n",
       "min       1.000000   10.000000  228.000000     6.000000    12.000000   \n",
       "25%     816.000000   27.000000  242.000000    58.000000    72.000000   \n",
       "50%    1622.000000   31.000000  251.500000    97.500000   102.000000   \n",
       "75%    2431.000000   46.000000  257.750000   152.000000   133.000000   \n",
       "max    3241.000000  185.000000  325.000000   454.000000   281.000000   \n",
       "\n",
       "           Bulk 5      Bulk 6      Bulk 7  Bulk 8      Bulk 9     Bulk 10  \\\n",
       "count   77.000000  576.000000   25.000000     1.0   19.000000  176.000000   \n",
       "mean   107.025974  118.925347  305.600000    49.0   76.315789   83.284091   \n",
       "std     81.790646   72.057776  191.022904     NaN   21.720581   26.060347   \n",
       "min     11.000000   17.000000   47.000000    49.0   63.000000   24.000000   \n",
       "25%     70.000000   69.750000  155.000000    49.0   66.000000   64.000000   \n",
       "50%     86.000000  100.000000  298.000000    49.0   68.000000   86.500000   \n",
       "75%    132.000000  157.000000  406.000000    49.0   70.500000  102.000000   \n",
       "max    603.000000  503.000000  772.000000    49.0  147.000000  159.000000   \n",
       "\n",
       "          Bulk 11      Bulk 12     Bulk 13      Bulk 14      Bulk 15  \n",
       "count  177.000000  2450.000000   18.000000  2806.000000  2248.000000  \n",
       "mean    76.819209   260.471020  181.111111   170.284747   160.513345  \n",
       "std     59.655365   120.649269   46.088009    65.868652    51.765319  \n",
       "min      8.000000    53.000000  151.000000    16.000000     1.000000  \n",
       "25%     25.000000   204.000000  153.250000   119.000000   105.000000  \n",
       "50%     64.000000   208.000000  155.500000   151.000000   160.000000  \n",
       "75%    106.000000   316.000000  203.500000   205.750000   205.000000  \n",
       "max    313.000000  1849.000000  305.000000   636.000000   405.000000  "
      ]
     },
     "execution_count": 25,
     "metadata": {},
     "output_type": "execute_result"
    }
   ],
   "source": [
    "data_bulk.describe()"
   ]
  },
  {
   "cell_type": "code",
   "execution_count": 26,
   "metadata": {},
   "outputs": [
    {
     "data": {
      "text/plain": [
       "0"
      ]
     },
     "execution_count": 26,
     "metadata": {},
     "output_type": "execute_result"
    }
   ],
   "source": [
    "data_bulk.duplicated().sum()"
   ]
  },
  {
   "cell_type": "markdown",
   "metadata": {},
   "source": [
    "Полных дубликатов в датасете нет. При этом в датасете большое количество пропусков. Вероятно, данные пропуски необходимо интерпретировать как нулевые значения. Оставим на данном этапе это без изменений."
   ]
  },
  {
   "cell_type": "code",
   "execution_count": 27,
   "metadata": {},
   "outputs": [
    {
     "name": "stderr",
     "output_type": "stream",
     "text": [
      "/opt/conda/lib/python3.7/site-packages/numpy/core/_asarray.py:83: VisibleDeprecationWarning: Creating an ndarray from ragged nested sequences (which is a list-or-tuple of lists-or-tuples-or ndarrays with different lengths or shapes) is deprecated. If you meant to do this, you must specify 'dtype=object' when creating the ndarray\n",
      "  return array(a, dtype, copy=False, order=order)\n"
     ]
    },
    {
     "data": {
      "image/png": "[encoded data removed]",
      "text/plain": [
       "<Figure size 1296x432 with 1 Axes>"
      ]
     },
     "metadata": {
      "needs_background": "light"
     },
     "output_type": "display_data"
    }
   ],
   "source": [
    "plt.figure(figsize=(18, 6))\n",
    "data_bulk.boxplot(column=list(data_bulk.columns[1:]))\n",
    "plt.show()"
   ]
  },
  {
   "cell_type": "markdown",
   "metadata": {},
   "source": [
    "Судя по графикам, имеется довольно большой разброс значений для Bulk 1...Bulk 15. Тем не менее без специальных знаний сложно сказать насколько данный разброс реалистичен. Нужна консультация с технологами. На данном этапе оставляем данные без изменений."
   ]
  },
  {
   "cell_type": "markdown",
   "metadata": {},
   "source": [
    "### Датасет data_bulk_time"
   ]
  },
  {
   "cell_type": "code",
   "execution_count": 28,
   "metadata": {},
   "outputs": [
    {
     "name": "stdout",
     "output_type": "stream",
     "text": [
      "<class 'pandas.core.frame.DataFrame'>\n",
      "RangeIndex: 3129 entries, 0 to 3128\n",
      "Data columns (total 16 columns):\n",
      "key        3129 non-null int64\n",
      "Bulk 1     252 non-null object\n",
      "Bulk 2     22 non-null object\n",
      "Bulk 3     1298 non-null object\n",
      "Bulk 4     1014 non-null object\n",
      "Bulk 5     77 non-null object\n",
      "Bulk 6     576 non-null object\n",
      "Bulk 7     25 non-null object\n",
      "Bulk 8     1 non-null object\n",
      "Bulk 9     19 non-null object\n",
      "Bulk 10    176 non-null object\n",
      "Bulk 11    177 non-null object\n",
      "Bulk 12    2450 non-null object\n",
      "Bulk 13    18 non-null object\n",
      "Bulk 14    2806 non-null object\n",
      "Bulk 15    2248 non-null object\n",
      "dtypes: int64(1), object(15)\n",
      "memory usage: 391.2+ KB\n"
     ]
    }
   ],
   "source": [
    "data_bulk_time.info()"
   ]
  },
  {
   "cell_type": "code",
   "execution_count": 29,
   "metadata": {},
   "outputs": [
    {
     "data": {
      "text/html": [
       "<div>\n",
       "<style scoped>\n",
       "    .dataframe tbody tr th:only-of-type {\n",
       "        vertical-align: middle;\n",
       "    }\n",
       "\n",
       "    .dataframe tbody tr th {\n",
       "        vertical-align: top;\n",
       "    }\n",
       "\n",
       "    .dataframe thead th {\n",
       "        text-align: right;\n",
       "    }\n",
       "</style>\n",
       "<table border=\"1\" class=\"dataframe\">\n",
       "  <thead>\n",
       "    <tr style=\"text-align: right;\">\n",
       "      <th></th>\n",
       "      <th>key</th>\n",
       "      <th>Bulk 1</th>\n",
       "      <th>Bulk 2</th>\n",
       "      <th>Bulk 3</th>\n",
       "      <th>Bulk 4</th>\n",
       "      <th>Bulk 5</th>\n",
       "      <th>Bulk 6</th>\n",
       "      <th>Bulk 7</th>\n",
       "      <th>Bulk 8</th>\n",
       "      <th>Bulk 9</th>\n",
       "      <th>Bulk 10</th>\n",
       "      <th>Bulk 11</th>\n",
       "      <th>Bulk 12</th>\n",
       "      <th>Bulk 13</th>\n",
       "      <th>Bulk 14</th>\n",
       "      <th>Bulk 15</th>\n",
       "    </tr>\n",
       "  </thead>\n",
       "  <tbody>\n",
       "    <tr>\n",
       "      <td>0</td>\n",
       "      <td>1</td>\n",
       "      <td>NaN</td>\n",
       "      <td>NaN</td>\n",
       "      <td>NaN</td>\n",
       "      <td>2019-05-03 11:21:30</td>\n",
       "      <td>NaN</td>\n",
       "      <td>NaN</td>\n",
       "      <td>NaN</td>\n",
       "      <td>NaN</td>\n",
       "      <td>NaN</td>\n",
       "      <td>NaN</td>\n",
       "      <td>NaN</td>\n",
       "      <td>2019-05-03 11:03:52</td>\n",
       "      <td>NaN</td>\n",
       "      <td>2019-05-03 11:03:52</td>\n",
       "      <td>2019-05-03 11:03:52</td>\n",
       "    </tr>\n",
       "    <tr>\n",
       "      <td>1</td>\n",
       "      <td>2</td>\n",
       "      <td>NaN</td>\n",
       "      <td>NaN</td>\n",
       "      <td>NaN</td>\n",
       "      <td>2019-05-03 11:46:38</td>\n",
       "      <td>NaN</td>\n",
       "      <td>NaN</td>\n",
       "      <td>NaN</td>\n",
       "      <td>NaN</td>\n",
       "      <td>NaN</td>\n",
       "      <td>NaN</td>\n",
       "      <td>NaN</td>\n",
       "      <td>2019-05-03 11:40:20</td>\n",
       "      <td>NaN</td>\n",
       "      <td>2019-05-03 11:40:20</td>\n",
       "      <td>2019-05-03 11:40:20</td>\n",
       "    </tr>\n",
       "    <tr>\n",
       "      <td>2</td>\n",
       "      <td>3</td>\n",
       "      <td>NaN</td>\n",
       "      <td>NaN</td>\n",
       "      <td>NaN</td>\n",
       "      <td>2019-05-03 12:31:06</td>\n",
       "      <td>NaN</td>\n",
       "      <td>NaN</td>\n",
       "      <td>NaN</td>\n",
       "      <td>NaN</td>\n",
       "      <td>NaN</td>\n",
       "      <td>NaN</td>\n",
       "      <td>NaN</td>\n",
       "      <td>2019-05-03 12:09:40</td>\n",
       "      <td>NaN</td>\n",
       "      <td>2019-05-03 12:09:40</td>\n",
       "      <td>2019-05-03 12:09:40</td>\n",
       "    </tr>\n",
       "    <tr>\n",
       "      <td>3</td>\n",
       "      <td>4</td>\n",
       "      <td>NaN</td>\n",
       "      <td>NaN</td>\n",
       "      <td>NaN</td>\n",
       "      <td>2019-05-03 12:48:43</td>\n",
       "      <td>NaN</td>\n",
       "      <td>NaN</td>\n",
       "      <td>NaN</td>\n",
       "      <td>NaN</td>\n",
       "      <td>NaN</td>\n",
       "      <td>NaN</td>\n",
       "      <td>NaN</td>\n",
       "      <td>2019-05-03 12:41:24</td>\n",
       "      <td>NaN</td>\n",
       "      <td>2019-05-03 12:41:24</td>\n",
       "      <td>2019-05-03 12:41:24</td>\n",
       "    </tr>\n",
       "    <tr>\n",
       "      <td>4</td>\n",
       "      <td>5</td>\n",
       "      <td>NaN</td>\n",
       "      <td>NaN</td>\n",
       "      <td>NaN</td>\n",
       "      <td>2019-05-03 13:18:50</td>\n",
       "      <td>NaN</td>\n",
       "      <td>NaN</td>\n",
       "      <td>NaN</td>\n",
       "      <td>NaN</td>\n",
       "      <td>NaN</td>\n",
       "      <td>NaN</td>\n",
       "      <td>NaN</td>\n",
       "      <td>2019-05-03 13:12:56</td>\n",
       "      <td>NaN</td>\n",
       "      <td>2019-05-03 13:12:56</td>\n",
       "      <td>2019-05-03 13:12:56</td>\n",
       "    </tr>\n",
       "  </tbody>\n",
       "</table>\n",
       "</div>"
      ],
      "text/plain": [
       "   key Bulk 1 Bulk 2 Bulk 3               Bulk 4 Bulk 5 Bulk 6 Bulk 7 Bulk 8  \\\n",
       "0    1    NaN    NaN    NaN  2019-05-03 11:21:30    NaN    NaN    NaN    NaN   \n",
       "1    2    NaN    NaN    NaN  2019-05-03 11:46:38    NaN    NaN    NaN    NaN   \n",
       "2    3    NaN    NaN    NaN  2019-05-03 12:31:06    NaN    NaN    NaN    NaN   \n",
       "3    4    NaN    NaN    NaN  2019-05-03 12:48:43    NaN    NaN    NaN    NaN   \n",
       "4    5    NaN    NaN    NaN  2019-05-03 13:18:50    NaN    NaN    NaN    NaN   \n",
       "\n",
       "  Bulk 9 Bulk 10 Bulk 11              Bulk 12 Bulk 13              Bulk 14  \\\n",
       "0    NaN     NaN     NaN  2019-05-03 11:03:52     NaN  2019-05-03 11:03:52   \n",
       "1    NaN     NaN     NaN  2019-05-03 11:40:20     NaN  2019-05-03 11:40:20   \n",
       "2    NaN     NaN     NaN  2019-05-03 12:09:40     NaN  2019-05-03 12:09:40   \n",
       "3    NaN     NaN     NaN  2019-05-03 12:41:24     NaN  2019-05-03 12:41:24   \n",
       "4    NaN     NaN     NaN  2019-05-03 13:12:56     NaN  2019-05-03 13:12:56   \n",
       "\n",
       "               Bulk 15  \n",
       "0  2019-05-03 11:03:52  \n",
       "1  2019-05-03 11:40:20  \n",
       "2  2019-05-03 12:09:40  \n",
       "3  2019-05-03 12:41:24  \n",
       "4  2019-05-03 13:12:56  "
      ]
     },
     "execution_count": 29,
     "metadata": {},
     "output_type": "execute_result"
    }
   ],
   "source": [
    "data_bulk_time.head()"
   ]
  },
  {
   "cell_type": "code",
   "execution_count": 30,
   "metadata": {},
   "outputs": [
    {
     "data": {
      "text/html": [
       "<div>\n",
       "<style scoped>\n",
       "    .dataframe tbody tr th:only-of-type {\n",
       "        vertical-align: middle;\n",
       "    }\n",
       "\n",
       "    .dataframe tbody tr th {\n",
       "        vertical-align: top;\n",
       "    }\n",
       "\n",
       "    .dataframe thead th {\n",
       "        text-align: right;\n",
       "    }\n",
       "</style>\n",
       "<table border=\"1\" class=\"dataframe\">\n",
       "  <thead>\n",
       "    <tr style=\"text-align: right;\">\n",
       "      <th></th>\n",
       "      <th>key</th>\n",
       "    </tr>\n",
       "  </thead>\n",
       "  <tbody>\n",
       "    <tr>\n",
       "      <td>count</td>\n",
       "      <td>3129.000000</td>\n",
       "    </tr>\n",
       "    <tr>\n",
       "      <td>mean</td>\n",
       "      <td>1624.383509</td>\n",
       "    </tr>\n",
       "    <tr>\n",
       "      <td>std</td>\n",
       "      <td>933.337642</td>\n",
       "    </tr>\n",
       "    <tr>\n",
       "      <td>min</td>\n",
       "      <td>1.000000</td>\n",
       "    </tr>\n",
       "    <tr>\n",
       "      <td>25%</td>\n",
       "      <td>816.000000</td>\n",
       "    </tr>\n",
       "    <tr>\n",
       "      <td>50%</td>\n",
       "      <td>1622.000000</td>\n",
       "    </tr>\n",
       "    <tr>\n",
       "      <td>75%</td>\n",
       "      <td>2431.000000</td>\n",
       "    </tr>\n",
       "    <tr>\n",
       "      <td>max</td>\n",
       "      <td>3241.000000</td>\n",
       "    </tr>\n",
       "  </tbody>\n",
       "</table>\n",
       "</div>"
      ],
      "text/plain": [
       "               key\n",
       "count  3129.000000\n",
       "mean   1624.383509\n",
       "std     933.337642\n",
       "min       1.000000\n",
       "25%     816.000000\n",
       "50%    1622.000000\n",
       "75%    2431.000000\n",
       "max    3241.000000"
      ]
     },
     "execution_count": 30,
     "metadata": {},
     "output_type": "execute_result"
    }
   ],
   "source": [
    "data_bulk_time.describe()"
   ]
  },
  {
   "cell_type": "code",
   "execution_count": 31,
   "metadata": {},
   "outputs": [
    {
     "data": {
      "text/plain": [
       "0"
      ]
     },
     "execution_count": 31,
     "metadata": {},
     "output_type": "execute_result"
    }
   ],
   "source": [
    "data_bulk_time.duplicated().sum()"
   ]
  },
  {
   "cell_type": "markdown",
   "metadata": {},
   "source": [
    "В датасете нет полных дубликатов, при этом имеется большое количество пропусков. Количество строк, количество пропусков точно соответствует датасету data_bulk. Вероятно, это полностью идентичные датасеты. Разница в том, что в первом указаны массы различных легирующих добавок, а во втором время добавления данных добавок. Для контроля данного предположения выполним ряд проверок."
   ]
  },
  {
   "cell_type": "code",
   "execution_count": 32,
   "metadata": {},
   "outputs": [
    {
     "name": "stdout",
     "output_type": "stream",
     "text": [
      "True\n",
      "True\n"
     ]
    }
   ],
   "source": [
    "print(data_bulk_time[\"key\"].equals(data_bulk[\"key\"]))\n",
    "print(data_bulk_time.isna().equals(data_bulk.isna()))"
   ]
  },
  {
   "cell_type": "markdown",
   "metadata": {},
   "source": [
    "Судя по результатам проверки, гипотеза верна - data_bulk_time и data_bulk полностью идентичные по стуктуре датасеты."
   ]
  },
  {
   "cell_type": "markdown",
   "metadata": {},
   "source": [
    "Выполним замену типа данных в датасете."
   ]
  },
  {
   "cell_type": "code",
   "execution_count": 33,
   "metadata": {},
   "outputs": [],
   "source": [
    "for i in range(1, 16):\n",
    "    data_bulk_time.iloc[:, i] = pd.to_datetime(data_bulk_time.iloc[:, i])"
   ]
  },
  {
   "cell_type": "markdown",
   "metadata": {},
   "source": [
    "Проконтролируем полученный результат."
   ]
  },
  {
   "cell_type": "code",
   "execution_count": 34,
   "metadata": {},
   "outputs": [
    {
     "name": "stdout",
     "output_type": "stream",
     "text": [
      "<class 'pandas.core.frame.DataFrame'>\n",
      "RangeIndex: 3129 entries, 0 to 3128\n",
      "Data columns (total 16 columns):\n",
      "key        3129 non-null int64\n",
      "Bulk 1     252 non-null datetime64[ns]\n",
      "Bulk 2     22 non-null datetime64[ns]\n",
      "Bulk 3     1298 non-null datetime64[ns]\n",
      "Bulk 4     1014 non-null datetime64[ns]\n",
      "Bulk 5     77 non-null datetime64[ns]\n",
      "Bulk 6     576 non-null datetime64[ns]\n",
      "Bulk 7     25 non-null datetime64[ns]\n",
      "Bulk 8     1 non-null datetime64[ns]\n",
      "Bulk 9     19 non-null datetime64[ns]\n",
      "Bulk 10    176 non-null datetime64[ns]\n",
      "Bulk 11    177 non-null datetime64[ns]\n",
      "Bulk 12    2450 non-null datetime64[ns]\n",
      "Bulk 13    18 non-null datetime64[ns]\n",
      "Bulk 14    2806 non-null datetime64[ns]\n",
      "Bulk 15    2248 non-null datetime64[ns]\n",
      "dtypes: datetime64[ns](15), int64(1)\n",
      "memory usage: 391.2 KB\n"
     ]
    }
   ],
   "source": [
    "data_bulk_time.info()"
   ]
  },
  {
   "cell_type": "markdown",
   "metadata": {},
   "source": [
    "### Датасет data_gas"
   ]
  },
  {
   "cell_type": "code",
   "execution_count": 35,
   "metadata": {
    "scrolled": true
   },
   "outputs": [
    {
     "name": "stdout",
     "output_type": "stream",
     "text": [
      "<class 'pandas.core.frame.DataFrame'>\n",
      "RangeIndex: 3239 entries, 0 to 3238\n",
      "Data columns (total 2 columns):\n",
      "key      3239 non-null int64\n",
      "Газ 1    3239 non-null float64\n",
      "dtypes: float64(1), int64(1)\n",
      "memory usage: 50.7 KB\n"
     ]
    }
   ],
   "source": [
    "data_gas.info()"
   ]
  },
  {
   "cell_type": "code",
   "execution_count": 36,
   "metadata": {
    "scrolled": true
   },
   "outputs": [
    {
     "data": {
      "text/html": [
       "<div>\n",
       "<style scoped>\n",
       "    .dataframe tbody tr th:only-of-type {\n",
       "        vertical-align: middle;\n",
       "    }\n",
       "\n",
       "    .dataframe tbody tr th {\n",
       "        vertical-align: top;\n",
       "    }\n",
       "\n",
       "    .dataframe thead th {\n",
       "        text-align: right;\n",
       "    }\n",
       "</style>\n",
       "<table border=\"1\" class=\"dataframe\">\n",
       "  <thead>\n",
       "    <tr style=\"text-align: right;\">\n",
       "      <th></th>\n",
       "      <th>key</th>\n",
       "      <th>Газ 1</th>\n",
       "    </tr>\n",
       "  </thead>\n",
       "  <tbody>\n",
       "    <tr>\n",
       "      <td>0</td>\n",
       "      <td>1</td>\n",
       "      <td>29.749986</td>\n",
       "    </tr>\n",
       "    <tr>\n",
       "      <td>1</td>\n",
       "      <td>2</td>\n",
       "      <td>12.555561</td>\n",
       "    </tr>\n",
       "    <tr>\n",
       "      <td>2</td>\n",
       "      <td>3</td>\n",
       "      <td>28.554793</td>\n",
       "    </tr>\n",
       "    <tr>\n",
       "      <td>3</td>\n",
       "      <td>4</td>\n",
       "      <td>18.841219</td>\n",
       "    </tr>\n",
       "    <tr>\n",
       "      <td>4</td>\n",
       "      <td>5</td>\n",
       "      <td>5.413692</td>\n",
       "    </tr>\n",
       "  </tbody>\n",
       "</table>\n",
       "</div>"
      ],
      "text/plain": [
       "   key      Газ 1\n",
       "0    1  29.749986\n",
       "1    2  12.555561\n",
       "2    3  28.554793\n",
       "3    4  18.841219\n",
       "4    5   5.413692"
      ]
     },
     "execution_count": 36,
     "metadata": {},
     "output_type": "execute_result"
    }
   ],
   "source": [
    "data_gas.head()"
   ]
  },
  {
   "cell_type": "code",
   "execution_count": 37,
   "metadata": {
    "scrolled": true
   },
   "outputs": [
    {
     "data": {
      "text/html": [
       "<div>\n",
       "<style scoped>\n",
       "    .dataframe tbody tr th:only-of-type {\n",
       "        vertical-align: middle;\n",
       "    }\n",
       "\n",
       "    .dataframe tbody tr th {\n",
       "        vertical-align: top;\n",
       "    }\n",
       "\n",
       "    .dataframe thead th {\n",
       "        text-align: right;\n",
       "    }\n",
       "</style>\n",
       "<table border=\"1\" class=\"dataframe\">\n",
       "  <thead>\n",
       "    <tr style=\"text-align: right;\">\n",
       "      <th></th>\n",
       "      <th>key</th>\n",
       "      <th>Газ 1</th>\n",
       "    </tr>\n",
       "  </thead>\n",
       "  <tbody>\n",
       "    <tr>\n",
       "      <td>count</td>\n",
       "      <td>3239.000000</td>\n",
       "      <td>3239.000000</td>\n",
       "    </tr>\n",
       "    <tr>\n",
       "      <td>mean</td>\n",
       "      <td>1621.861377</td>\n",
       "      <td>11.002062</td>\n",
       "    </tr>\n",
       "    <tr>\n",
       "      <td>std</td>\n",
       "      <td>935.386334</td>\n",
       "      <td>6.220327</td>\n",
       "    </tr>\n",
       "    <tr>\n",
       "      <td>min</td>\n",
       "      <td>1.000000</td>\n",
       "      <td>0.008399</td>\n",
       "    </tr>\n",
       "    <tr>\n",
       "      <td>25%</td>\n",
       "      <td>812.500000</td>\n",
       "      <td>7.043089</td>\n",
       "    </tr>\n",
       "    <tr>\n",
       "      <td>50%</td>\n",
       "      <td>1622.000000</td>\n",
       "      <td>9.836267</td>\n",
       "    </tr>\n",
       "    <tr>\n",
       "      <td>75%</td>\n",
       "      <td>2431.500000</td>\n",
       "      <td>13.769915</td>\n",
       "    </tr>\n",
       "    <tr>\n",
       "      <td>max</td>\n",
       "      <td>3241.000000</td>\n",
       "      <td>77.995040</td>\n",
       "    </tr>\n",
       "  </tbody>\n",
       "</table>\n",
       "</div>"
      ],
      "text/plain": [
       "               key        Газ 1\n",
       "count  3239.000000  3239.000000\n",
       "mean   1621.861377    11.002062\n",
       "std     935.386334     6.220327\n",
       "min       1.000000     0.008399\n",
       "25%     812.500000     7.043089\n",
       "50%    1622.000000     9.836267\n",
       "75%    2431.500000    13.769915\n",
       "max    3241.000000    77.995040"
      ]
     },
     "execution_count": 37,
     "metadata": {},
     "output_type": "execute_result"
    }
   ],
   "source": [
    "data_gas.describe()"
   ]
  },
  {
   "cell_type": "code",
   "execution_count": 38,
   "metadata": {
    "scrolled": true
   },
   "outputs": [
    {
     "data": {
      "text/plain": [
       "0"
      ]
     },
     "execution_count": 38,
     "metadata": {},
     "output_type": "execute_result"
    }
   ],
   "source": [
    "data_gas.duplicated().sum()"
   ]
  },
  {
   "cell_type": "markdown",
   "metadata": {},
   "source": [
    "Полных дубликатов в датасете нет, пропуски также отсуствуют"
   ]
  },
  {
   "cell_type": "markdown",
   "metadata": {},
   "source": [
    "Выполним переименование столбца Газ 1 на gas_1"
   ]
  },
  {
   "cell_type": "code",
   "execution_count": 39,
   "metadata": {},
   "outputs": [],
   "source": [
    "data_gas = data_gas.rename(columns={'Газ 1': \"gas_1\"})"
   ]
  },
  {
   "cell_type": "code",
   "execution_count": 40,
   "metadata": {},
   "outputs": [
    {
     "name": "stdout",
     "output_type": "stream",
     "text": [
      "<class 'pandas.core.frame.DataFrame'>\n",
      "RangeIndex: 3239 entries, 0 to 3238\n",
      "Data columns (total 2 columns):\n",
      "key      3239 non-null int64\n",
      "gas_1    3239 non-null float64\n",
      "dtypes: float64(1), int64(1)\n",
      "memory usage: 50.7 KB\n"
     ]
    }
   ],
   "source": [
    "data_gas.info()"
   ]
  },
  {
   "cell_type": "code",
   "execution_count": 41,
   "metadata": {},
   "outputs": [
    {
     "data": {
      "text/plain": [
       "<matplotlib.axes._subplots.AxesSubplot at 0x7f29afd38090>"
      ]
     },
     "execution_count": 41,
     "metadata": {},
     "output_type": "execute_result"
    },
    {
     "data": {
      "image/png": "[encoded data removed]",
      "text/plain": [
       "<Figure size 432x288 with 1 Axes>"
      ]
     },
     "metadata": {
      "needs_background": "light"
     },
     "output_type": "display_data"
    }
   ],
   "source": [
    "data_gas.boxplot(column=[\"gas_1\"])"
   ]
  },
  {
   "cell_type": "markdown",
   "metadata": {},
   "source": [
    "Судя по графику, имеется довольно большой разброс значений для gas_1. Тем не менее без специальных знаний сложно сказать насколько данный разброс реалистичен. Нужна консультация с технологами. На данном этапе оставляем данные без изменений."
   ]
  },
  {
   "cell_type": "markdown",
   "metadata": {},
   "source": [
    "### Датасет data_wire"
   ]
  },
  {
   "cell_type": "code",
   "execution_count": 42,
   "metadata": {},
   "outputs": [
    {
     "name": "stdout",
     "output_type": "stream",
     "text": [
      "<class 'pandas.core.frame.DataFrame'>\n",
      "RangeIndex: 3081 entries, 0 to 3080\n",
      "Data columns (total 10 columns):\n",
      "key       3081 non-null int64\n",
      "Wire 1    3055 non-null float64\n",
      "Wire 2    1079 non-null float64\n",
      "Wire 3    63 non-null float64\n",
      "Wire 4    14 non-null float64\n",
      "Wire 5    1 non-null float64\n",
      "Wire 6    73 non-null float64\n",
      "Wire 7    11 non-null float64\n",
      "Wire 8    19 non-null float64\n",
      "Wire 9    29 non-null float64\n",
      "dtypes: float64(9), int64(1)\n",
      "memory usage: 240.8 KB\n"
     ]
    }
   ],
   "source": [
    "data_wire.info()"
   ]
  },
  {
   "cell_type": "code",
   "execution_count": 43,
   "metadata": {},
   "outputs": [
    {
     "data": {
      "text/html": [
       "<div>\n",
       "<style scoped>\n",
       "    .dataframe tbody tr th:only-of-type {\n",
       "        vertical-align: middle;\n",
       "    }\n",
       "\n",
       "    .dataframe tbody tr th {\n",
       "        vertical-align: top;\n",
       "    }\n",
       "\n",
       "    .dataframe thead th {\n",
       "        text-align: right;\n",
       "    }\n",
       "</style>\n",
       "<table border=\"1\" class=\"dataframe\">\n",
       "  <thead>\n",
       "    <tr style=\"text-align: right;\">\n",
       "      <th></th>\n",
       "      <th>key</th>\n",
       "      <th>Wire 1</th>\n",
       "      <th>Wire 2</th>\n",
       "      <th>Wire 3</th>\n",
       "      <th>Wire 4</th>\n",
       "      <th>Wire 5</th>\n",
       "      <th>Wire 6</th>\n",
       "      <th>Wire 7</th>\n",
       "      <th>Wire 8</th>\n",
       "      <th>Wire 9</th>\n",
       "    </tr>\n",
       "  </thead>\n",
       "  <tbody>\n",
       "    <tr>\n",
       "      <td>0</td>\n",
       "      <td>1</td>\n",
       "      <td>60.059998</td>\n",
       "      <td>NaN</td>\n",
       "      <td>NaN</td>\n",
       "      <td>NaN</td>\n",
       "      <td>NaN</td>\n",
       "      <td>NaN</td>\n",
       "      <td>NaN</td>\n",
       "      <td>NaN</td>\n",
       "      <td>NaN</td>\n",
       "    </tr>\n",
       "    <tr>\n",
       "      <td>1</td>\n",
       "      <td>2</td>\n",
       "      <td>96.052315</td>\n",
       "      <td>NaN</td>\n",
       "      <td>NaN</td>\n",
       "      <td>NaN</td>\n",
       "      <td>NaN</td>\n",
       "      <td>NaN</td>\n",
       "      <td>NaN</td>\n",
       "      <td>NaN</td>\n",
       "      <td>NaN</td>\n",
       "    </tr>\n",
       "    <tr>\n",
       "      <td>2</td>\n",
       "      <td>3</td>\n",
       "      <td>91.160157</td>\n",
       "      <td>NaN</td>\n",
       "      <td>NaN</td>\n",
       "      <td>NaN</td>\n",
       "      <td>NaN</td>\n",
       "      <td>NaN</td>\n",
       "      <td>NaN</td>\n",
       "      <td>NaN</td>\n",
       "      <td>NaN</td>\n",
       "    </tr>\n",
       "    <tr>\n",
       "      <td>3</td>\n",
       "      <td>4</td>\n",
       "      <td>89.063515</td>\n",
       "      <td>NaN</td>\n",
       "      <td>NaN</td>\n",
       "      <td>NaN</td>\n",
       "      <td>NaN</td>\n",
       "      <td>NaN</td>\n",
       "      <td>NaN</td>\n",
       "      <td>NaN</td>\n",
       "      <td>NaN</td>\n",
       "    </tr>\n",
       "    <tr>\n",
       "      <td>4</td>\n",
       "      <td>5</td>\n",
       "      <td>89.238236</td>\n",
       "      <td>9.11456</td>\n",
       "      <td>NaN</td>\n",
       "      <td>NaN</td>\n",
       "      <td>NaN</td>\n",
       "      <td>NaN</td>\n",
       "      <td>NaN</td>\n",
       "      <td>NaN</td>\n",
       "      <td>NaN</td>\n",
       "    </tr>\n",
       "  </tbody>\n",
       "</table>\n",
       "</div>"
      ],
      "text/plain": [
       "   key     Wire 1   Wire 2  Wire 3  Wire 4  Wire 5  Wire 6  Wire 7  Wire 8  \\\n",
       "0    1  60.059998      NaN     NaN     NaN     NaN     NaN     NaN     NaN   \n",
       "1    2  96.052315      NaN     NaN     NaN     NaN     NaN     NaN     NaN   \n",
       "2    3  91.160157      NaN     NaN     NaN     NaN     NaN     NaN     NaN   \n",
       "3    4  89.063515      NaN     NaN     NaN     NaN     NaN     NaN     NaN   \n",
       "4    5  89.238236  9.11456     NaN     NaN     NaN     NaN     NaN     NaN   \n",
       "\n",
       "   Wire 9  \n",
       "0     NaN  \n",
       "1     NaN  \n",
       "2     NaN  \n",
       "3     NaN  \n",
       "4     NaN  "
      ]
     },
     "execution_count": 43,
     "metadata": {},
     "output_type": "execute_result"
    }
   ],
   "source": [
    "data_wire.head()"
   ]
  },
  {
   "cell_type": "code",
   "execution_count": 44,
   "metadata": {
    "scrolled": true
   },
   "outputs": [
    {
     "data": {
      "text/html": [
       "<div>\n",
       "<style scoped>\n",
       "    .dataframe tbody tr th:only-of-type {\n",
       "        vertical-align: middle;\n",
       "    }\n",
       "\n",
       "    .dataframe tbody tr th {\n",
       "        vertical-align: top;\n",
       "    }\n",
       "\n",
       "    .dataframe thead th {\n",
       "        text-align: right;\n",
       "    }\n",
       "</style>\n",
       "<table border=\"1\" class=\"dataframe\">\n",
       "  <thead>\n",
       "    <tr style=\"text-align: right;\">\n",
       "      <th></th>\n",
       "      <th>key</th>\n",
       "      <th>Wire 1</th>\n",
       "      <th>Wire 2</th>\n",
       "      <th>Wire 3</th>\n",
       "      <th>Wire 4</th>\n",
       "      <th>Wire 5</th>\n",
       "      <th>Wire 6</th>\n",
       "      <th>Wire 7</th>\n",
       "      <th>Wire 8</th>\n",
       "      <th>Wire 9</th>\n",
       "    </tr>\n",
       "  </thead>\n",
       "  <tbody>\n",
       "    <tr>\n",
       "      <td>count</td>\n",
       "      <td>3081.000000</td>\n",
       "      <td>3055.000000</td>\n",
       "      <td>1079.000000</td>\n",
       "      <td>63.000000</td>\n",
       "      <td>14.000000</td>\n",
       "      <td>1.000</td>\n",
       "      <td>73.000000</td>\n",
       "      <td>11.000000</td>\n",
       "      <td>19.000000</td>\n",
       "      <td>29.000000</td>\n",
       "    </tr>\n",
       "    <tr>\n",
       "      <td>mean</td>\n",
       "      <td>1623.426485</td>\n",
       "      <td>100.895853</td>\n",
       "      <td>50.577323</td>\n",
       "      <td>189.482681</td>\n",
       "      <td>57.442841</td>\n",
       "      <td>15.132</td>\n",
       "      <td>48.016974</td>\n",
       "      <td>10.039007</td>\n",
       "      <td>53.625193</td>\n",
       "      <td>34.155752</td>\n",
       "    </tr>\n",
       "    <tr>\n",
       "      <td>std</td>\n",
       "      <td>932.996726</td>\n",
       "      <td>42.012518</td>\n",
       "      <td>39.320216</td>\n",
       "      <td>99.513444</td>\n",
       "      <td>28.824667</td>\n",
       "      <td>NaN</td>\n",
       "      <td>33.919845</td>\n",
       "      <td>8.610584</td>\n",
       "      <td>16.881728</td>\n",
       "      <td>19.931616</td>\n",
       "    </tr>\n",
       "    <tr>\n",
       "      <td>min</td>\n",
       "      <td>1.000000</td>\n",
       "      <td>1.918800</td>\n",
       "      <td>0.030160</td>\n",
       "      <td>0.144144</td>\n",
       "      <td>24.148801</td>\n",
       "      <td>15.132</td>\n",
       "      <td>0.034320</td>\n",
       "      <td>0.234208</td>\n",
       "      <td>45.076721</td>\n",
       "      <td>4.622800</td>\n",
       "    </tr>\n",
       "    <tr>\n",
       "      <td>25%</td>\n",
       "      <td>823.000000</td>\n",
       "      <td>72.115684</td>\n",
       "      <td>20.193680</td>\n",
       "      <td>95.135044</td>\n",
       "      <td>40.807002</td>\n",
       "      <td>15.132</td>\n",
       "      <td>25.053600</td>\n",
       "      <td>6.762756</td>\n",
       "      <td>46.094879</td>\n",
       "      <td>22.058401</td>\n",
       "    </tr>\n",
       "    <tr>\n",
       "      <td>50%</td>\n",
       "      <td>1619.000000</td>\n",
       "      <td>100.158234</td>\n",
       "      <td>40.142956</td>\n",
       "      <td>235.194977</td>\n",
       "      <td>45.234282</td>\n",
       "      <td>15.132</td>\n",
       "      <td>42.076324</td>\n",
       "      <td>9.017009</td>\n",
       "      <td>46.279999</td>\n",
       "      <td>30.066399</td>\n",
       "    </tr>\n",
       "    <tr>\n",
       "      <td>75%</td>\n",
       "      <td>2434.000000</td>\n",
       "      <td>126.060484</td>\n",
       "      <td>70.227558</td>\n",
       "      <td>276.252014</td>\n",
       "      <td>76.124619</td>\n",
       "      <td>15.132</td>\n",
       "      <td>64.212723</td>\n",
       "      <td>11.886057</td>\n",
       "      <td>48.089603</td>\n",
       "      <td>43.862003</td>\n",
       "    </tr>\n",
       "    <tr>\n",
       "      <td>max</td>\n",
       "      <td>3241.000000</td>\n",
       "      <td>330.314424</td>\n",
       "      <td>282.780152</td>\n",
       "      <td>385.008668</td>\n",
       "      <td>113.231044</td>\n",
       "      <td>15.132</td>\n",
       "      <td>180.454575</td>\n",
       "      <td>32.847674</td>\n",
       "      <td>102.762401</td>\n",
       "      <td>90.053604</td>\n",
       "    </tr>\n",
       "  </tbody>\n",
       "</table>\n",
       "</div>"
      ],
      "text/plain": [
       "               key       Wire 1       Wire 2      Wire 3      Wire 4  Wire 5  \\\n",
       "count  3081.000000  3055.000000  1079.000000   63.000000   14.000000   1.000   \n",
       "mean   1623.426485   100.895853    50.577323  189.482681   57.442841  15.132   \n",
       "std     932.996726    42.012518    39.320216   99.513444   28.824667     NaN   \n",
       "min       1.000000     1.918800     0.030160    0.144144   24.148801  15.132   \n",
       "25%     823.000000    72.115684    20.193680   95.135044   40.807002  15.132   \n",
       "50%    1619.000000   100.158234    40.142956  235.194977   45.234282  15.132   \n",
       "75%    2434.000000   126.060484    70.227558  276.252014   76.124619  15.132   \n",
       "max    3241.000000   330.314424   282.780152  385.008668  113.231044  15.132   \n",
       "\n",
       "           Wire 6     Wire 7      Wire 8     Wire 9  \n",
       "count   73.000000  11.000000   19.000000  29.000000  \n",
       "mean    48.016974  10.039007   53.625193  34.155752  \n",
       "std     33.919845   8.610584   16.881728  19.931616  \n",
       "min      0.034320   0.234208   45.076721   4.622800  \n",
       "25%     25.053600   6.762756   46.094879  22.058401  \n",
       "50%     42.076324   9.017009   46.279999  30.066399  \n",
       "75%     64.212723  11.886057   48.089603  43.862003  \n",
       "max    180.454575  32.847674  102.762401  90.053604  "
      ]
     },
     "execution_count": 44,
     "metadata": {},
     "output_type": "execute_result"
    }
   ],
   "source": [
    "data_wire.describe()"
   ]
  },
  {
   "cell_type": "code",
   "execution_count": 45,
   "metadata": {},
   "outputs": [
    {
     "data": {
      "text/plain": [
       "0"
      ]
     },
     "execution_count": 45,
     "metadata": {},
     "output_type": "execute_result"
    }
   ],
   "source": [
    "data_wire.duplicated().sum()"
   ]
  },
  {
   "cell_type": "markdown",
   "metadata": {},
   "source": [
    "Полных дубликатов нет, при этом имеется большое количество пропусков. Вероятно, данные пропуски необходимо интерпретировать как нулевые значения. Оставим на данном этапе это без изменений."
   ]
  },
  {
   "cell_type": "code",
   "execution_count": 46,
   "metadata": {},
   "outputs": [
    {
     "name": "stderr",
     "output_type": "stream",
     "text": [
      "/opt/conda/lib/python3.7/site-packages/numpy/core/_asarray.py:83: VisibleDeprecationWarning: Creating an ndarray from ragged nested sequences (which is a list-or-tuple of lists-or-tuples-or ndarrays with different lengths or shapes) is deprecated. If you meant to do this, you must specify 'dtype=object' when creating the ndarray\n",
      "  return array(a, dtype, copy=False, order=order)\n"
     ]
    },
    {
     "data": {
      "image/png": "[encoded data removed]",
      "text/plain": [
       "<Figure size 1296x432 with 1 Axes>"
      ]
     },
     "metadata": {
      "needs_background": "light"
     },
     "output_type": "display_data"
    }
   ],
   "source": [
    "plt.figure(figsize=(18, 6))\n",
    "data_wire.boxplot(column=list(data_wire.columns[1:]))\n",
    "plt.show()"
   ]
  },
  {
   "cell_type": "markdown",
   "metadata": {},
   "source": [
    "Судя по графикам, имеется довольно большой разброс значений для Wire 1...Wire 9. Тем не менее, без специальных знаний сложно сказать насколько данный разброс реалистичен. Нужна консультация с технологами. На данном этапе оставляем данные без изменений."
   ]
  },
  {
   "cell_type": "markdown",
   "metadata": {},
   "source": [
    "### Датасет data_wire_time"
   ]
  },
  {
   "cell_type": "code",
   "execution_count": 47,
   "metadata": {},
   "outputs": [
    {
     "name": "stdout",
     "output_type": "stream",
     "text": [
      "<class 'pandas.core.frame.DataFrame'>\n",
      "RangeIndex: 3081 entries, 0 to 3080\n",
      "Data columns (total 10 columns):\n",
      "key       3081 non-null int64\n",
      "Wire 1    3055 non-null object\n",
      "Wire 2    1079 non-null object\n",
      "Wire 3    63 non-null object\n",
      "Wire 4    14 non-null object\n",
      "Wire 5    1 non-null object\n",
      "Wire 6    73 non-null object\n",
      "Wire 7    11 non-null object\n",
      "Wire 8    19 non-null object\n",
      "Wire 9    29 non-null object\n",
      "dtypes: int64(1), object(9)\n",
      "memory usage: 240.8+ KB\n"
     ]
    }
   ],
   "source": [
    "data_wire_time.info()"
   ]
  },
  {
   "cell_type": "code",
   "execution_count": 48,
   "metadata": {},
   "outputs": [
    {
     "data": {
      "text/html": [
       "<div>\n",
       "<style scoped>\n",
       "    .dataframe tbody tr th:only-of-type {\n",
       "        vertical-align: middle;\n",
       "    }\n",
       "\n",
       "    .dataframe tbody tr th {\n",
       "        vertical-align: top;\n",
       "    }\n",
       "\n",
       "    .dataframe thead th {\n",
       "        text-align: right;\n",
       "    }\n",
       "</style>\n",
       "<table border=\"1\" class=\"dataframe\">\n",
       "  <thead>\n",
       "    <tr style=\"text-align: right;\">\n",
       "      <th></th>\n",
       "      <th>key</th>\n",
       "      <th>Wire 1</th>\n",
       "      <th>Wire 2</th>\n",
       "      <th>Wire 3</th>\n",
       "      <th>Wire 4</th>\n",
       "      <th>Wire 5</th>\n",
       "      <th>Wire 6</th>\n",
       "      <th>Wire 7</th>\n",
       "      <th>Wire 8</th>\n",
       "      <th>Wire 9</th>\n",
       "    </tr>\n",
       "  </thead>\n",
       "  <tbody>\n",
       "    <tr>\n",
       "      <td>0</td>\n",
       "      <td>1</td>\n",
       "      <td>2019-05-03 11:11:41</td>\n",
       "      <td>NaN</td>\n",
       "      <td>NaN</td>\n",
       "      <td>NaN</td>\n",
       "      <td>NaN</td>\n",
       "      <td>NaN</td>\n",
       "      <td>NaN</td>\n",
       "      <td>NaN</td>\n",
       "      <td>NaN</td>\n",
       "    </tr>\n",
       "    <tr>\n",
       "      <td>1</td>\n",
       "      <td>2</td>\n",
       "      <td>2019-05-03 11:46:10</td>\n",
       "      <td>NaN</td>\n",
       "      <td>NaN</td>\n",
       "      <td>NaN</td>\n",
       "      <td>NaN</td>\n",
       "      <td>NaN</td>\n",
       "      <td>NaN</td>\n",
       "      <td>NaN</td>\n",
       "      <td>NaN</td>\n",
       "    </tr>\n",
       "    <tr>\n",
       "      <td>2</td>\n",
       "      <td>3</td>\n",
       "      <td>2019-05-03 12:13:47</td>\n",
       "      <td>NaN</td>\n",
       "      <td>NaN</td>\n",
       "      <td>NaN</td>\n",
       "      <td>NaN</td>\n",
       "      <td>NaN</td>\n",
       "      <td>NaN</td>\n",
       "      <td>NaN</td>\n",
       "      <td>NaN</td>\n",
       "    </tr>\n",
       "    <tr>\n",
       "      <td>3</td>\n",
       "      <td>4</td>\n",
       "      <td>2019-05-03 12:48:05</td>\n",
       "      <td>NaN</td>\n",
       "      <td>NaN</td>\n",
       "      <td>NaN</td>\n",
       "      <td>NaN</td>\n",
       "      <td>NaN</td>\n",
       "      <td>NaN</td>\n",
       "      <td>NaN</td>\n",
       "      <td>NaN</td>\n",
       "    </tr>\n",
       "    <tr>\n",
       "      <td>4</td>\n",
       "      <td>5</td>\n",
       "      <td>2019-05-03 13:18:15</td>\n",
       "      <td>2019-05-03 13:32:06</td>\n",
       "      <td>NaN</td>\n",
       "      <td>NaN</td>\n",
       "      <td>NaN</td>\n",
       "      <td>NaN</td>\n",
       "      <td>NaN</td>\n",
       "      <td>NaN</td>\n",
       "      <td>NaN</td>\n",
       "    </tr>\n",
       "  </tbody>\n",
       "</table>\n",
       "</div>"
      ],
      "text/plain": [
       "   key               Wire 1               Wire 2 Wire 3 Wire 4 Wire 5 Wire 6  \\\n",
       "0    1  2019-05-03 11:11:41                  NaN    NaN    NaN    NaN    NaN   \n",
       "1    2  2019-05-03 11:46:10                  NaN    NaN    NaN    NaN    NaN   \n",
       "2    3  2019-05-03 12:13:47                  NaN    NaN    NaN    NaN    NaN   \n",
       "3    4  2019-05-03 12:48:05                  NaN    NaN    NaN    NaN    NaN   \n",
       "4    5  2019-05-03 13:18:15  2019-05-03 13:32:06    NaN    NaN    NaN    NaN   \n",
       "\n",
       "  Wire 7 Wire 8 Wire 9  \n",
       "0    NaN    NaN    NaN  \n",
       "1    NaN    NaN    NaN  \n",
       "2    NaN    NaN    NaN  \n",
       "3    NaN    NaN    NaN  \n",
       "4    NaN    NaN    NaN  "
      ]
     },
     "execution_count": 48,
     "metadata": {},
     "output_type": "execute_result"
    }
   ],
   "source": [
    "data_wire_time.head()"
   ]
  },
  {
   "cell_type": "code",
   "execution_count": 49,
   "metadata": {
    "scrolled": true
   },
   "outputs": [
    {
     "data": {
      "text/html": [
       "<div>\n",
       "<style scoped>\n",
       "    .dataframe tbody tr th:only-of-type {\n",
       "        vertical-align: middle;\n",
       "    }\n",
       "\n",
       "    .dataframe tbody tr th {\n",
       "        vertical-align: top;\n",
       "    }\n",
       "\n",
       "    .dataframe thead th {\n",
       "        text-align: right;\n",
       "    }\n",
       "</style>\n",
       "<table border=\"1\" class=\"dataframe\">\n",
       "  <thead>\n",
       "    <tr style=\"text-align: right;\">\n",
       "      <th></th>\n",
       "      <th>key</th>\n",
       "    </tr>\n",
       "  </thead>\n",
       "  <tbody>\n",
       "    <tr>\n",
       "      <td>count</td>\n",
       "      <td>3081.000000</td>\n",
       "    </tr>\n",
       "    <tr>\n",
       "      <td>mean</td>\n",
       "      <td>1623.426485</td>\n",
       "    </tr>\n",
       "    <tr>\n",
       "      <td>std</td>\n",
       "      <td>932.996726</td>\n",
       "    </tr>\n",
       "    <tr>\n",
       "      <td>min</td>\n",
       "      <td>1.000000</td>\n",
       "    </tr>\n",
       "    <tr>\n",
       "      <td>25%</td>\n",
       "      <td>823.000000</td>\n",
       "    </tr>\n",
       "    <tr>\n",
       "      <td>50%</td>\n",
       "      <td>1619.000000</td>\n",
       "    </tr>\n",
       "    <tr>\n",
       "      <td>75%</td>\n",
       "      <td>2434.000000</td>\n",
       "    </tr>\n",
       "    <tr>\n",
       "      <td>max</td>\n",
       "      <td>3241.000000</td>\n",
       "    </tr>\n",
       "  </tbody>\n",
       "</table>\n",
       "</div>"
      ],
      "text/plain": [
       "               key\n",
       "count  3081.000000\n",
       "mean   1623.426485\n",
       "std     932.996726\n",
       "min       1.000000\n",
       "25%     823.000000\n",
       "50%    1619.000000\n",
       "75%    2434.000000\n",
       "max    3241.000000"
      ]
     },
     "execution_count": 49,
     "metadata": {},
     "output_type": "execute_result"
    }
   ],
   "source": [
    "data_wire_time.describe()"
   ]
  },
  {
   "cell_type": "code",
   "execution_count": 50,
   "metadata": {},
   "outputs": [
    {
     "data": {
      "text/plain": [
       "0"
      ]
     },
     "execution_count": 50,
     "metadata": {},
     "output_type": "execute_result"
    }
   ],
   "source": [
    "data_wire_time.duplicated().sum()"
   ]
  },
  {
   "cell_type": "markdown",
   "metadata": {},
   "source": [
    "В датасете нет полных дубликатов, при этом имеется большое количество пропусков. Количество строк, количество пропусков точно соответствует датасету data_wire. Вероятно, это полностью идентичные датасеты. Разница в том, что в первом указаны массы различных легирующих добавок, а во втором время добавления данных добавок. Для контроля данного предположения выполним ряд проверок."
   ]
  },
  {
   "cell_type": "code",
   "execution_count": 51,
   "metadata": {},
   "outputs": [
    {
     "name": "stdout",
     "output_type": "stream",
     "text": [
      "True\n",
      "True\n"
     ]
    }
   ],
   "source": [
    "print(data_wire_time[\"key\"].equals(data_wire[\"key\"]))\n",
    "print(data_wire_time.isna().equals(data_wire.isna()))"
   ]
  },
  {
   "cell_type": "markdown",
   "metadata": {},
   "source": [
    "Судя по результатам проверки, гипотеза верна - data_wire_time и data_wire полностью идентичные по структуре датасеты."
   ]
  },
  {
   "cell_type": "markdown",
   "metadata": {},
   "source": [
    "Выполним замену типа данных в датасете."
   ]
  },
  {
   "cell_type": "code",
   "execution_count": 52,
   "metadata": {},
   "outputs": [],
   "source": [
    "for i in range(1, 10):\n",
    "    data_wire_time.iloc[:, i] = pd.to_datetime(data_wire_time.iloc[:, i])"
   ]
  },
  {
   "cell_type": "markdown",
   "metadata": {},
   "source": [
    "Выведим экстремальные значения в столбцах Wire 1...Wire 2 для анализа рассматриваемого периода времени."
   ]
  },
  {
   "cell_type": "code",
   "execution_count": 53,
   "metadata": {
    "scrolled": true
   },
   "outputs": [
    {
     "name": "stdout",
     "output_type": "stream",
     "text": [
      "min(data_wire_time) =  2019-05-03 11:11:41\n",
      "max(data_wire_time) =  2019-09-01 04:16:01\n"
     ]
    }
   ],
   "source": [
    "print(\"min(data_wire_time) = \", data_wire_time[data_wire_time.columns[1:]].min().min())\n",
    "print(\"max(data_wire_time) = \", data_wire_time[data_wire_time.columns[1:]].max().max())"
   ]
  },
  {
   "cell_type": "markdown",
   "metadata": {},
   "source": [
    "Все даты относятся к маю - сентябрю 2019 года. Учтем это для дальнешего анализа."
   ]
  },
  {
   "cell_type": "markdown",
   "metadata": {},
   "source": [
    "Проконтролируем полученный результат."
   ]
  },
  {
   "cell_type": "code",
   "execution_count": 54,
   "metadata": {},
   "outputs": [
    {
     "name": "stdout",
     "output_type": "stream",
     "text": [
      "<class 'pandas.core.frame.DataFrame'>\n",
      "RangeIndex: 3081 entries, 0 to 3080\n",
      "Data columns (total 10 columns):\n",
      "key       3081 non-null int64\n",
      "Wire 1    3055 non-null datetime64[ns]\n",
      "Wire 2    1079 non-null datetime64[ns]\n",
      "Wire 3    63 non-null datetime64[ns]\n",
      "Wire 4    14 non-null datetime64[ns]\n",
      "Wire 5    1 non-null datetime64[ns]\n",
      "Wire 6    73 non-null datetime64[ns]\n",
      "Wire 7    11 non-null datetime64[ns]\n",
      "Wire 8    19 non-null datetime64[ns]\n",
      "Wire 9    29 non-null datetime64[ns]\n",
      "dtypes: datetime64[ns](9), int64(1)\n",
      "memory usage: 240.8 KB\n"
     ]
    }
   ],
   "source": [
    "data_wire_time.info()"
   ]
  },
  {
   "cell_type": "markdown",
   "metadata": {},
   "source": [
    "### Датасет data_temp"
   ]
  },
  {
   "cell_type": "code",
   "execution_count": 55,
   "metadata": {},
   "outputs": [
    {
     "name": "stdout",
     "output_type": "stream",
     "text": [
      "<class 'pandas.core.frame.DataFrame'>\n",
      "RangeIndex: 15907 entries, 0 to 15906\n",
      "Data columns (total 3 columns):\n",
      "key             15907 non-null int64\n",
      "Время замера    15907 non-null object\n",
      "Температура     13006 non-null float64\n",
      "dtypes: float64(1), int64(1), object(1)\n",
      "memory usage: 372.9+ KB\n"
     ]
    }
   ],
   "source": [
    "data_temp.info()"
   ]
  },
  {
   "cell_type": "code",
   "execution_count": 56,
   "metadata": {
    "scrolled": true
   },
   "outputs": [
    {
     "data": {
      "text/html": [
       "<div>\n",
       "<style scoped>\n",
       "    .dataframe tbody tr th:only-of-type {\n",
       "        vertical-align: middle;\n",
       "    }\n",
       "\n",
       "    .dataframe tbody tr th {\n",
       "        vertical-align: top;\n",
       "    }\n",
       "\n",
       "    .dataframe thead th {\n",
       "        text-align: right;\n",
       "    }\n",
       "</style>\n",
       "<table border=\"1\" class=\"dataframe\">\n",
       "  <thead>\n",
       "    <tr style=\"text-align: right;\">\n",
       "      <th></th>\n",
       "      <th>key</th>\n",
       "      <th>Время замера</th>\n",
       "      <th>Температура</th>\n",
       "    </tr>\n",
       "  </thead>\n",
       "  <tbody>\n",
       "    <tr>\n",
       "      <td>0</td>\n",
       "      <td>1</td>\n",
       "      <td>2019-05-03 11:16:18</td>\n",
       "      <td>1571.0</td>\n",
       "    </tr>\n",
       "    <tr>\n",
       "      <td>1</td>\n",
       "      <td>1</td>\n",
       "      <td>2019-05-03 11:25:53</td>\n",
       "      <td>1604.0</td>\n",
       "    </tr>\n",
       "    <tr>\n",
       "      <td>2</td>\n",
       "      <td>1</td>\n",
       "      <td>2019-05-03 11:29:11</td>\n",
       "      <td>1618.0</td>\n",
       "    </tr>\n",
       "    <tr>\n",
       "      <td>3</td>\n",
       "      <td>1</td>\n",
       "      <td>2019-05-03 11:30:01</td>\n",
       "      <td>1601.0</td>\n",
       "    </tr>\n",
       "    <tr>\n",
       "      <td>4</td>\n",
       "      <td>1</td>\n",
       "      <td>2019-05-03 11:30:39</td>\n",
       "      <td>1613.0</td>\n",
       "    </tr>\n",
       "  </tbody>\n",
       "</table>\n",
       "</div>"
      ],
      "text/plain": [
       "   key         Время замера  Температура\n",
       "0    1  2019-05-03 11:16:18       1571.0\n",
       "1    1  2019-05-03 11:25:53       1604.0\n",
       "2    1  2019-05-03 11:29:11       1618.0\n",
       "3    1  2019-05-03 11:30:01       1601.0\n",
       "4    1  2019-05-03 11:30:39       1613.0"
      ]
     },
     "execution_count": 56,
     "metadata": {},
     "output_type": "execute_result"
    }
   ],
   "source": [
    "data_temp.head()"
   ]
  },
  {
   "cell_type": "code",
   "execution_count": 57,
   "metadata": {},
   "outputs": [
    {
     "data": {
      "text/html": [
       "<div>\n",
       "<style scoped>\n",
       "    .dataframe tbody tr th:only-of-type {\n",
       "        vertical-align: middle;\n",
       "    }\n",
       "\n",
       "    .dataframe tbody tr th {\n",
       "        vertical-align: top;\n",
       "    }\n",
       "\n",
       "    .dataframe thead th {\n",
       "        text-align: right;\n",
       "    }\n",
       "</style>\n",
       "<table border=\"1\" class=\"dataframe\">\n",
       "  <thead>\n",
       "    <tr style=\"text-align: right;\">\n",
       "      <th></th>\n",
       "      <th>key</th>\n",
       "      <th>Температура</th>\n",
       "    </tr>\n",
       "  </thead>\n",
       "  <tbody>\n",
       "    <tr>\n",
       "      <td>count</td>\n",
       "      <td>15907.000000</td>\n",
       "      <td>13006.000000</td>\n",
       "    </tr>\n",
       "    <tr>\n",
       "      <td>mean</td>\n",
       "      <td>1607.880870</td>\n",
       "      <td>1591.840920</td>\n",
       "    </tr>\n",
       "    <tr>\n",
       "      <td>std</td>\n",
       "      <td>942.212073</td>\n",
       "      <td>21.375851</td>\n",
       "    </tr>\n",
       "    <tr>\n",
       "      <td>min</td>\n",
       "      <td>1.000000</td>\n",
       "      <td>1191.000000</td>\n",
       "    </tr>\n",
       "    <tr>\n",
       "      <td>25%</td>\n",
       "      <td>790.000000</td>\n",
       "      <td>1581.000000</td>\n",
       "    </tr>\n",
       "    <tr>\n",
       "      <td>50%</td>\n",
       "      <td>1618.000000</td>\n",
       "      <td>1591.000000</td>\n",
       "    </tr>\n",
       "    <tr>\n",
       "      <td>75%</td>\n",
       "      <td>2427.000000</td>\n",
       "      <td>1601.000000</td>\n",
       "    </tr>\n",
       "    <tr>\n",
       "      <td>max</td>\n",
       "      <td>3241.000000</td>\n",
       "      <td>1705.000000</td>\n",
       "    </tr>\n",
       "  </tbody>\n",
       "</table>\n",
       "</div>"
      ],
      "text/plain": [
       "                key   Температура\n",
       "count  15907.000000  13006.000000\n",
       "mean    1607.880870   1591.840920\n",
       "std      942.212073     21.375851\n",
       "min        1.000000   1191.000000\n",
       "25%      790.000000   1581.000000\n",
       "50%     1618.000000   1591.000000\n",
       "75%     2427.000000   1601.000000\n",
       "max     3241.000000   1705.000000"
      ]
     },
     "execution_count": 57,
     "metadata": {},
     "output_type": "execute_result"
    }
   ],
   "source": [
    "data_temp.describe()"
   ]
  },
  {
   "cell_type": "code",
   "execution_count": 58,
   "metadata": {},
   "outputs": [
    {
     "data": {
      "text/plain": [
       "0"
      ]
     },
     "execution_count": 58,
     "metadata": {},
     "output_type": "execute_result"
    }
   ],
   "source": [
    "data_wire.duplicated().sum()"
   ]
  },
  {
   "cell_type": "markdown",
   "metadata": {},
   "source": [
    "Полных дубликатов в датасете нет, в столбце Температура имеется большое количество пропусков также отсутствуют. Выполним переименование столбцов датасета."
   ]
  },
  {
   "cell_type": "code",
   "execution_count": 59,
   "metadata": {},
   "outputs": [],
   "source": [
    "data_temp = data_temp.rename(columns={\"Время замера\": \"measure_time\", \"Температура\": \"temperature\"})"
   ]
  },
  {
   "cell_type": "markdown",
   "metadata": {},
   "source": [
    "Заменим тип данных в столбце measure_time."
   ]
  },
  {
   "cell_type": "code",
   "execution_count": 60,
   "metadata": {},
   "outputs": [],
   "source": [
    "data_temp[\"measure_time\"] = pd.to_datetime(data_temp[\"measure_time\"])"
   ]
  },
  {
   "cell_type": "markdown",
   "metadata": {},
   "source": [
    "Удалим строки с пропусками в столбце температура. Это обосновано тем, что признак температура является крайне важным и в его отсуствие дальнейшие расчеты не имеют смысла. в качестве целевого признака (последнее измерение температуры) и в качестве нецелевого признака (первое измерение температуры)."
   ]
  },
  {
   "cell_type": "code",
   "execution_count": 61,
   "metadata": {},
   "outputs": [],
   "source": [
    "data_temp = data_temp.dropna()"
   ]
  },
  {
   "cell_type": "code",
   "execution_count": 62,
   "metadata": {},
   "outputs": [
    {
     "data": {
      "text/plain": [
       "<matplotlib.axes._subplots.AxesSubplot at 0x7f29afd6ee90>"
      ]
     },
     "execution_count": 62,
     "metadata": {},
     "output_type": "execute_result"
    },
    {
     "data": {
      "image/png": "[encoded data removed]",
      "text/plain": [
       "<Figure size 432x288 with 1 Axes>"
      ]
     },
     "metadata": {
      "needs_background": "light"
     },
     "output_type": "display_data"
    }
   ],
   "source": [
    "data_temp.boxplot(column=\"temperature\")"
   ]
  },
  {
   "cell_type": "markdown",
   "metadata": {},
   "source": [
    "Судя по графику имеется довольно большой разброс температур. Температура плавления распространенных марок стали, согласно справочным материалам, колеблется в пределах от 1350 до 1535 градусов Цельсия. С учетом этого подсчитаем количество измерений с температурой меньше 1350 градусов Цельсия."
   ]
  },
  {
   "cell_type": "code",
   "execution_count": 63,
   "metadata": {
    "scrolled": true
   },
   "outputs": [
    {
     "name": "stdout",
     "output_type": "stream",
     "text": [
      "Количество измерений с температурой мменее 1350 градусов Цельсия: 5\n"
     ]
    }
   ],
   "source": [
    "print(\"Количество измерений с температурой мменее 1350 градусов Цельсия:\", len(data_temp[data_temp[\"temperature\"] < 1350]))"
   ]
  },
  {
   "cell_type": "markdown",
   "metadata": {},
   "source": [
    "Количество аномальных измерений относительно небольшое (5 точек). Следовательно, их можно удалить."
   ]
  },
  {
   "cell_type": "code",
   "execution_count": 64,
   "metadata": {},
   "outputs": [],
   "source": [
    "data_temp = data_temp[~(data_temp[\"temperature\"] < 1350)]"
   ]
  },
  {
   "cell_type": "markdown",
   "metadata": {},
   "source": [
    "В соответствии с заданием, изложенным на консультации тимлидом, из всех измерений температур в пределах одной партии нас интересует только две: первое и последнее (целевой признак). Таким образом, нам необходимо очистить датасет от партий, где у нас только одно измерение температуры, а также ранжировать измерения температуры по времени. Для ранжирования добавим два столбца в датасет: time_rank_ascend и time_rank_descend. В первом столбце ранжирование выполним по возрастанию, во втором - по убыванию."
   ]
  },
  {
   "cell_type": "code",
   "execution_count": 65,
   "metadata": {},
   "outputs": [],
   "source": [
    "data_temp[\"time_rank_ascend\"] = data_temp.groupby(\"key\")[\"measure_time\"].rank()\n",
    "data_temp[\"time_rank_descend\"] = data_temp.groupby(\"key\")[\"measure_time\"].rank(ascending=False)\n",
    "data_temp = data_temp[~((data_temp[\"time_rank_ascend\"] == 1) & (data_temp[\"time_rank_descend\"] == 1))]"
   ]
  },
  {
   "cell_type": "markdown",
   "metadata": {},
   "source": [
    "Выведим экстремальные значения времени измерения температуры."
   ]
  },
  {
   "cell_type": "code",
   "execution_count": 66,
   "metadata": {},
   "outputs": [
    {
     "name": "stdout",
     "output_type": "stream",
     "text": [
      "min(measure_time) =  2019-05-03 11:16:18\n",
      "max(measure_time) =  2019-08-06 03:00:28\n"
     ]
    }
   ],
   "source": [
    "print(\"min(measure_time) = \", data_temp[\"measure_time\"].min())\n",
    "print(\"max(measure_time) = \", data_temp[\"measure_time\"].max())"
   ]
  },
  {
   "cell_type": "markdown",
   "metadata": {},
   "source": [
    "Все даты относятся к маю - августу 2019 года. Учтем это для дальнешего анализа."
   ]
  },
  {
   "cell_type": "markdown",
   "metadata": {},
   "source": [
    "Для контроля выведим полученный результат."
   ]
  },
  {
   "cell_type": "code",
   "execution_count": 67,
   "metadata": {},
   "outputs": [
    {
     "data": {
      "text/html": [
       "<div>\n",
       "<style scoped>\n",
       "    .dataframe tbody tr th:only-of-type {\n",
       "        vertical-align: middle;\n",
       "    }\n",
       "\n",
       "    .dataframe tbody tr th {\n",
       "        vertical-align: top;\n",
       "    }\n",
       "\n",
       "    .dataframe thead th {\n",
       "        text-align: right;\n",
       "    }\n",
       "</style>\n",
       "<table border=\"1\" class=\"dataframe\">\n",
       "  <thead>\n",
       "    <tr style=\"text-align: right;\">\n",
       "      <th></th>\n",
       "      <th>key</th>\n",
       "      <th>measure_time</th>\n",
       "      <th>temperature</th>\n",
       "      <th>time_rank_ascend</th>\n",
       "      <th>time_rank_descend</th>\n",
       "    </tr>\n",
       "  </thead>\n",
       "  <tbody>\n",
       "    <tr>\n",
       "      <td>0</td>\n",
       "      <td>1</td>\n",
       "      <td>2019-05-03 11:16:18</td>\n",
       "      <td>1571.0</td>\n",
       "      <td>1.0</td>\n",
       "      <td>5.0</td>\n",
       "    </tr>\n",
       "    <tr>\n",
       "      <td>1</td>\n",
       "      <td>1</td>\n",
       "      <td>2019-05-03 11:25:53</td>\n",
       "      <td>1604.0</td>\n",
       "      <td>2.0</td>\n",
       "      <td>4.0</td>\n",
       "    </tr>\n",
       "    <tr>\n",
       "      <td>2</td>\n",
       "      <td>1</td>\n",
       "      <td>2019-05-03 11:29:11</td>\n",
       "      <td>1618.0</td>\n",
       "      <td>3.0</td>\n",
       "      <td>3.0</td>\n",
       "    </tr>\n",
       "    <tr>\n",
       "      <td>3</td>\n",
       "      <td>1</td>\n",
       "      <td>2019-05-03 11:30:01</td>\n",
       "      <td>1601.0</td>\n",
       "      <td>4.0</td>\n",
       "      <td>2.0</td>\n",
       "    </tr>\n",
       "    <tr>\n",
       "      <td>4</td>\n",
       "      <td>1</td>\n",
       "      <td>2019-05-03 11:30:39</td>\n",
       "      <td>1613.0</td>\n",
       "      <td>5.0</td>\n",
       "      <td>1.0</td>\n",
       "    </tr>\n",
       "  </tbody>\n",
       "</table>\n",
       "</div>"
      ],
      "text/plain": [
       "   key        measure_time  temperature  time_rank_ascend  time_rank_descend\n",
       "0    1 2019-05-03 11:16:18       1571.0               1.0                5.0\n",
       "1    1 2019-05-03 11:25:53       1604.0               2.0                4.0\n",
       "2    1 2019-05-03 11:29:11       1618.0               3.0                3.0\n",
       "3    1 2019-05-03 11:30:01       1601.0               4.0                2.0\n",
       "4    1 2019-05-03 11:30:39       1613.0               5.0                1.0"
      ]
     },
     "execution_count": 67,
     "metadata": {},
     "output_type": "execute_result"
    }
   ],
   "source": [
    "data_temp.head()"
   ]
  },
  {
   "cell_type": "markdown",
   "metadata": {},
   "source": [
    "### Выводы"
   ]
  },
  {
   "cell_type": "markdown",
   "metadata": {},
   "source": [
    "1. Исходные данные загружены (всего 7 датасетов) и изучены.\n",
    "2. Выполнена первичная обработка исходных данных путем замены типа данных, удаления экстремальных значений и ряда пропусков.\n",
    "3. Можно приступать к дальнейшей обработке исходных данных, конечной целью которой является сведение данных в одну сводную таблицу, непосредственно используемую в машинном обучении."
   ]
  },
  {
   "cell_type": "markdown",
   "metadata": {},
   "source": [
    "## Сведение данных в одну таблицу, корреляционный анализ"
   ]
  },
  {
   "cell_type": "markdown",
   "metadata": {},
   "source": [
    "### Создание датасета first_last_temp (на основе датасета data_temp)"
   ]
  },
  {
   "cell_type": "markdown",
   "metadata": {},
   "source": [
    "С целью получения сводной таблицы выполним дальнейшую обработку исходных данных, которую начнем с датасета data_temp, так как он содержит данные о первой и последней температуре, необходимые для обработки остальных датасетов. Выделим сперва из data_temp два отдельных датасета first_temp (данные о первом измерении) и last_temp (данные о последнеи измерении)"
   ]
  },
  {
   "cell_type": "code",
   "execution_count": 68,
   "metadata": {},
   "outputs": [],
   "source": [
    "first_temp = data_temp.query('time_rank_ascend == 1.0')\n",
    "last_temp = data_temp.query('time_rank_descend == 1.0')\n",
    "first_temp = first_temp.drop(columns=[\"time_rank_ascend\", \"time_rank_descend\"])\n",
    "last_temp = last_temp.drop(columns=[\"time_rank_ascend\", \"time_rank_descend\"])\n",
    "first_temp = first_temp.rename(columns={\"measure_time\": \"first_time\", \"temperature\": \"first_temp\"})\n",
    "last_temp = last_temp.rename(columns={\"measure_time\": \"last_time\", \"temperature\": \"last_temp\"})"
   ]
  },
  {
   "cell_type": "markdown",
   "metadata": {},
   "source": [
    "Объединим датасеты first_temp и last_temp в один датасет first_last_temp и рассмотрим полученный результат."
   ]
  },
  {
   "cell_type": "code",
   "execution_count": 69,
   "metadata": {},
   "outputs": [
    {
     "data": {
      "text/html": [
       "<div>\n",
       "<style scoped>\n",
       "    .dataframe tbody tr th:only-of-type {\n",
       "        vertical-align: middle;\n",
       "    }\n",
       "\n",
       "    .dataframe tbody tr th {\n",
       "        vertical-align: top;\n",
       "    }\n",
       "\n",
       "    .dataframe thead th {\n",
       "        text-align: right;\n",
       "    }\n",
       "</style>\n",
       "<table border=\"1\" class=\"dataframe\">\n",
       "  <thead>\n",
       "    <tr style=\"text-align: right;\">\n",
       "      <th></th>\n",
       "      <th>key</th>\n",
       "      <th>first_time</th>\n",
       "      <th>first_temp</th>\n",
       "      <th>last_time</th>\n",
       "      <th>last_temp</th>\n",
       "    </tr>\n",
       "  </thead>\n",
       "  <tbody>\n",
       "    <tr>\n",
       "      <td>0</td>\n",
       "      <td>1</td>\n",
       "      <td>2019-05-03 11:16:18</td>\n",
       "      <td>1571.0</td>\n",
       "      <td>2019-05-03 11:30:39</td>\n",
       "      <td>1613.0</td>\n",
       "    </tr>\n",
       "    <tr>\n",
       "      <td>1</td>\n",
       "      <td>2</td>\n",
       "      <td>2019-05-03 11:37:27</td>\n",
       "      <td>1581.0</td>\n",
       "      <td>2019-05-03 11:59:12</td>\n",
       "      <td>1602.0</td>\n",
       "    </tr>\n",
       "    <tr>\n",
       "      <td>2</td>\n",
       "      <td>3</td>\n",
       "      <td>2019-05-03 12:13:17</td>\n",
       "      <td>1596.0</td>\n",
       "      <td>2019-05-03 12:34:57</td>\n",
       "      <td>1599.0</td>\n",
       "    </tr>\n",
       "    <tr>\n",
       "      <td>3</td>\n",
       "      <td>4</td>\n",
       "      <td>2019-05-03 12:52:57</td>\n",
       "      <td>1601.0</td>\n",
       "      <td>2019-05-03 12:59:25</td>\n",
       "      <td>1625.0</td>\n",
       "    </tr>\n",
       "    <tr>\n",
       "      <td>4</td>\n",
       "      <td>5</td>\n",
       "      <td>2019-05-03 13:23:19</td>\n",
       "      <td>1576.0</td>\n",
       "      <td>2019-05-03 13:36:01</td>\n",
       "      <td>1602.0</td>\n",
       "    </tr>\n",
       "  </tbody>\n",
       "</table>\n",
       "</div>"
      ],
      "text/plain": [
       "   key          first_time  first_temp           last_time  last_temp\n",
       "0    1 2019-05-03 11:16:18      1571.0 2019-05-03 11:30:39     1613.0\n",
       "1    2 2019-05-03 11:37:27      1581.0 2019-05-03 11:59:12     1602.0\n",
       "2    3 2019-05-03 12:13:17      1596.0 2019-05-03 12:34:57     1599.0\n",
       "3    4 2019-05-03 12:52:57      1601.0 2019-05-03 12:59:25     1625.0\n",
       "4    5 2019-05-03 13:23:19      1576.0 2019-05-03 13:36:01     1602.0"
      ]
     },
     "execution_count": 69,
     "metadata": {},
     "output_type": "execute_result"
    }
   ],
   "source": [
    "first_last_temp = first_temp.merge(last_temp, on='key')\n",
    "first_last_temp.head()"
   ]
  },
  {
   "cell_type": "code",
   "execution_count": 70,
   "metadata": {},
   "outputs": [
    {
     "name": "stdout",
     "output_type": "stream",
     "text": [
      "<class 'pandas.core.frame.DataFrame'>\n",
      "Int64Index: 2475 entries, 0 to 2474\n",
      "Data columns (total 5 columns):\n",
      "key           2475 non-null int64\n",
      "first_time    2475 non-null datetime64[ns]\n",
      "first_temp    2475 non-null float64\n",
      "last_time     2475 non-null datetime64[ns]\n",
      "last_temp     2475 non-null float64\n",
      "dtypes: datetime64[ns](2), float64(2), int64(1)\n",
      "memory usage: 116.0 KB\n"
     ]
    }
   ],
   "source": [
    "first_last_temp.info()"
   ]
  },
  {
   "cell_type": "markdown",
   "metadata": {},
   "source": [
    "Теперь мы имеем датасет, содержащий в себе наиболее важные признаки - температуры. Используем его для очистки остальных датасетов от данных, которые не попадают во временной интервал заданный первым и последним измерением температуры. Кроме того данный датасет задает максимальное количество партий, по которым мы имеем достаточно информации для машинного обучения: 2475 партий."
   ]
  },
  {
   "cell_type": "markdown",
   "metadata": {},
   "source": [
    "Проверим датасет на наличие в нем забракованной по признаку отрицательной мощности (см. раздел 1.1) партии номер 2216."
   ]
  },
  {
   "cell_type": "code",
   "execution_count": 71,
   "metadata": {},
   "outputs": [
    {
     "data": {
      "text/plain": [
       "1"
      ]
     },
     "execution_count": 71,
     "metadata": {},
     "output_type": "execute_result"
    }
   ],
   "source": [
    "len(first_last_temp[first_last_temp[\"key\"] == 2216])"
   ]
  },
  {
   "cell_type": "markdown",
   "metadata": {},
   "source": [
    "Датасет first_last_temp содержит забракованную партию номер 2216. Удалим ее из датасета и сбросим индекс."
   ]
  },
  {
   "cell_type": "code",
   "execution_count": 72,
   "metadata": {},
   "outputs": [],
   "source": [
    "first_last_temp = first_last_temp[~(first_last_temp[\"key\"] == 2216)]\n",
    "first_last_temp = first_last_temp.reset_index()"
   ]
  },
  {
   "cell_type": "markdown",
   "metadata": {},
   "source": [
    "### Создание датасета data_arc_clean"
   ]
  },
  {
   "cell_type": "markdown",
   "metadata": {},
   "source": [
    "Объединим датасеты data_arc и first_last_temp."
   ]
  },
  {
   "cell_type": "code",
   "execution_count": 73,
   "metadata": {},
   "outputs": [],
   "source": [
    "data_arc = data_arc.merge(first_last_temp, on='key')"
   ]
  },
  {
   "cell_type": "markdown",
   "metadata": {},
   "source": [
    "Процесс нагрева не является одномоментным. Следовательно, границы временного интервала между первым и последним измерением температуры (first_time и last_time) могут оказаться внутри процесса нагрева. В этом случае данные будет необходимо откорректировать. В случае же если период нагрева полностью выпадает за пределы между first_time и last_time, данные по нагреву являются нерелевантными для нашей задачи и должны быть удалены из датасета. Для проверки взаимного расположения времени измерений и процесса нагрева выполним ряд тестов."
   ]
  },
  {
   "cell_type": "code",
   "execution_count": 74,
   "metadata": {},
   "outputs": [
    {
     "name": "stdout",
     "output_type": "stream",
     "text": [
      "количество строк датасета test_1: 2665\n",
      "количество строк датасета test_2: 4\n",
      "количество строк датасета test_3: 134\n",
      "количество строк датасета test_4: 0\n"
     ]
    }
   ],
   "source": [
    "test_1 = data_arc[data_arc[\"warm_end\"] < data_arc[\"first_time\"]]\n",
    "test_2 = data_arc[(data_arc[\"warm_begin\"] < data_arc[\"first_time\"]) &\n",
    "                        (data_arc[\"warm_end\"] > data_arc[\"first_time\"])]\n",
    "test_3 = data_arc[data_arc[\"warm_begin\"] > data_arc[\"last_time\"]]\n",
    "test_4 = data_arc[(data_arc[\"warm_end\"] > data_arc[\"last_time\"]) &\n",
    "                        (data_arc[\"warm_begin\"] < data_arc[\"last_time\"])]\n",
    "print(\"количество строк датасета test_1:\", len(test_1))\n",
    "print(\"количество строк датасета test_2:\", len(test_2))\n",
    "print(\"количество строк датасета test_3:\", len(test_3))\n",
    "print(\"количество строк датасета test_4:\", len(test_4))"
   ]
  },
  {
   "cell_type": "markdown",
   "metadata": {},
   "source": [
    "По результатам 4 тестов. Можно сделать следующие выводы:\n",
    "1. Имеется 2669 строк, где процесс нагрева полностью произошел до начала первого измерения температуры. Указанные данные следует удалить.\n",
    "2. Имеется 4 строки, где процесс нагрева начался до первого измерения температуры, а закончился полсе него. В указанных строках необходимо приравнять время начала нагрева ко времени первого измерения температуры.\n",
    "3. Имеется 134 строки, где процесс нагрева полностью произошел после последнего измерения температуры. Указанные данные следует удалить.\n",
    "4. Отсутвуют строки, где процесс нагрева начался до последнего измерения температуры, а закончился после него.\n",
    "\n",
    "Внесем соответствующие коррективы в датасет."
   ]
  },
  {
   "cell_type": "code",
   "execution_count": 75,
   "metadata": {},
   "outputs": [],
   "source": [
    "for i in test_2.index:\n",
    "    data_arc.loc[i, \"warm_begin\"] = data_arc.loc[i, \"first_time\"]\n",
    "data_arc = data_arc[~(data_arc[\"warm_end\"] < data_arc[\"first_time\"])]\n",
    "data_arc = data_arc[~(data_arc[\"warm_begin\"] > data_arc[\"last_time\"])]"
   ]
  },
  {
   "cell_type": "markdown",
   "metadata": {},
   "source": [
    "Подготовим датасет data_arc к объединению с другими датасетами. Для избежания потери важной для анализа информации дадим новое название преобразованному датасету - data_arc_clean."
   ]
  },
  {
   "cell_type": "code",
   "execution_count": 76,
   "metadata": {},
   "outputs": [],
   "source": [
    "data_arc_clean = data_arc"
   ]
  },
  {
   "cell_type": "markdown",
   "metadata": {},
   "source": [
    "Удалим нерелевантные для машинного обучения столбцы."
   ]
  },
  {
   "cell_type": "code",
   "execution_count": 77,
   "metadata": {},
   "outputs": [],
   "source": [
    "data_arc_clean = data_arc_clean.drop(\n",
    "    [\"warm_begin\", \"warm_end\", \"active_power\", \"warm_duration\", \"first_time\", \"last_time\"], axis=1\n",
    ")"
   ]
  },
  {
   "cell_type": "markdown",
   "metadata": {},
   "source": [
    "Выполним группировку датасета по столбцу с номерами партий."
   ]
  },
  {
   "cell_type": "code",
   "execution_count": 78,
   "metadata": {},
   "outputs": [],
   "source": [
    "data_arc_clean = data_arc_clean.groupby(\"key\").agg({\"energy\": \"sum\", \"first_temp\": \"mean\", \"last_temp\": \"mean\"})"
   ]
  },
  {
   "cell_type": "markdown",
   "metadata": {},
   "source": [
    "Для единобразия с остальными датасетами переведем снова признак key из индекса в столбец."
   ]
  },
  {
   "cell_type": "code",
   "execution_count": 79,
   "metadata": {},
   "outputs": [],
   "source": [
    "data_arc_clean = data_arc_clean.reset_index()"
   ]
  },
  {
   "cell_type": "markdown",
   "metadata": {},
   "source": [
    "Выведим для контроля полученный результат."
   ]
  },
  {
   "cell_type": "code",
   "execution_count": 80,
   "metadata": {},
   "outputs": [
    {
     "data": {
      "text/html": [
       "<div>\n",
       "<style scoped>\n",
       "    .dataframe tbody tr th:only-of-type {\n",
       "        vertical-align: middle;\n",
       "    }\n",
       "\n",
       "    .dataframe tbody tr th {\n",
       "        vertical-align: top;\n",
       "    }\n",
       "\n",
       "    .dataframe thead th {\n",
       "        text-align: right;\n",
       "    }\n",
       "</style>\n",
       "<table border=\"1\" class=\"dataframe\">\n",
       "  <thead>\n",
       "    <tr style=\"text-align: right;\">\n",
       "      <th></th>\n",
       "      <th>key</th>\n",
       "      <th>energy</th>\n",
       "      <th>first_temp</th>\n",
       "      <th>last_temp</th>\n",
       "    </tr>\n",
       "  </thead>\n",
       "  <tbody>\n",
       "    <tr>\n",
       "      <td>0</td>\n",
       "      <td>1</td>\n",
       "      <td>708.195035</td>\n",
       "      <td>1571.0</td>\n",
       "      <td>1613.0</td>\n",
       "    </tr>\n",
       "    <tr>\n",
       "      <td>1</td>\n",
       "      <td>2</td>\n",
       "      <td>673.801792</td>\n",
       "      <td>1581.0</td>\n",
       "      <td>1602.0</td>\n",
       "    </tr>\n",
       "    <tr>\n",
       "      <td>2</td>\n",
       "      <td>3</td>\n",
       "      <td>146.208505</td>\n",
       "      <td>1596.0</td>\n",
       "      <td>1599.0</td>\n",
       "    </tr>\n",
       "    <tr>\n",
       "      <td>3</td>\n",
       "      <td>4</td>\n",
       "      <td>339.425494</td>\n",
       "      <td>1601.0</td>\n",
       "      <td>1625.0</td>\n",
       "    </tr>\n",
       "    <tr>\n",
       "      <td>4</td>\n",
       "      <td>5</td>\n",
       "      <td>691.980241</td>\n",
       "      <td>1576.0</td>\n",
       "      <td>1602.0</td>\n",
       "    </tr>\n",
       "  </tbody>\n",
       "</table>\n",
       "</div>"
      ],
      "text/plain": [
       "   key      energy  first_temp  last_temp\n",
       "0    1  708.195035      1571.0     1613.0\n",
       "1    2  673.801792      1581.0     1602.0\n",
       "2    3  146.208505      1596.0     1599.0\n",
       "3    4  339.425494      1601.0     1625.0\n",
       "4    5  691.980241      1576.0     1602.0"
      ]
     },
     "execution_count": 80,
     "metadata": {},
     "output_type": "execute_result"
    }
   ],
   "source": [
    "data_arc_clean.head()"
   ]
  },
  {
   "cell_type": "markdown",
   "metadata": {},
   "source": [
    "### Создание датасета data_bulk_clean"
   ]
  },
  {
   "cell_type": "markdown",
   "metadata": {},
   "source": [
    "Для сохранения информации для анализа создадим новый датасет data_bulk_clean."
   ]
  },
  {
   "cell_type": "code",
   "execution_count": 81,
   "metadata": {},
   "outputs": [],
   "source": [
    "data_bulk_clean = data_bulk"
   ]
  },
  {
   "cell_type": "markdown",
   "metadata": {},
   "source": [
    "Датасет data_bulk_clean необходимо очистить от информации, выходящей за пределы временного интервала между first_time и last_time. Для этого сначала объединим датасеты data_bulk_time и first_last_temp."
   ]
  },
  {
   "cell_type": "code",
   "execution_count": 82,
   "metadata": {},
   "outputs": [],
   "source": [
    "data_bulk_time = data_bulk_time.merge(first_last_temp[[\"key\", \"first_time\", \"last_time\"]], how=\"right\", on=\"key\")"
   ]
  },
  {
   "cell_type": "markdown",
   "metadata": {},
   "source": [
    "Даты, выходящие за пределы интервала между first_time и last_time, замаркируем в датасете data_bulk_time условным значением равным - 2010-01-01 00:00:00."
   ]
  },
  {
   "cell_type": "code",
   "execution_count": 83,
   "metadata": {},
   "outputs": [],
   "source": [
    "for i in range(data_bulk_time.shape[0]):\n",
    "    for j in range(1, data_bulk_time.shape[1] - 2):\n",
    "        if data_bulk_time.iloc[i, j] < data_bulk_time.iloc[i, 16]:\n",
    "            data_bulk_time.iloc[i, j] = pd.to_datetime(\"2010-01-01 00:00:00\")\n",
    "        if data_bulk_time.iloc[i, j] > data_bulk_time.iloc[i, 17]:\n",
    "            data_bulk_time.iloc[i, j] = pd.to_datetime(\"2010-01-01 00:00:00\")"
   ]
  },
  {
   "cell_type": "markdown",
   "metadata": {},
   "source": [
    "Для того, чтобы список партий в датасете data_bulk_clean точно соответствовал данному списку в датасете first_last_temp выполним соответствующее объединение этих датасетов. После этого выполним сортировку по key (это нужно, потому что при слиянии датасетов нарушается порядок: строки с пустыми значениями в столбцах Bulk 1...Bulk 15 отбрасываются автоматически в конец списка результирующего датасета)."
   ]
  },
  {
   "cell_type": "code",
   "execution_count": 84,
   "metadata": {},
   "outputs": [],
   "source": [
    "data_bulk_clean = data_bulk_clean.merge(first_last_temp[[\"key\"]], how=\"right\", on=\"key\")\n",
    "data_bulk_clean = data_bulk_clean.sort_values(by=[\"key\"])\n",
    "data_bulk_clean = data_bulk_clean.reset_index(drop=True)"
   ]
  },
  {
   "cell_type": "markdown",
   "metadata": {},
   "source": [
    "Дополнительно выполним проверку полного соответствия списка партий в датасетах data_bulk_clean и first_last_temp."
   ]
  },
  {
   "cell_type": "code",
   "execution_count": 85,
   "metadata": {},
   "outputs": [
    {
     "data": {
      "text/plain": [
       "True"
      ]
     },
     "execution_count": 85,
     "metadata": {},
     "output_type": "execute_result"
    }
   ],
   "source": [
    "data_bulk_clean[\"key\"].equals(first_last_temp[\"key\"])"
   ]
  },
  {
   "cell_type": "markdown",
   "metadata": {},
   "source": [
    "Теперь, когда мы замаркировали значения в data_bulk_time за пределами рассматриваемого временного интервала, присвоим соответсвующим ячейкам в data_bulk_clean нулевые значения."
   ]
  },
  {
   "cell_type": "code",
   "execution_count": 86,
   "metadata": {},
   "outputs": [],
   "source": [
    "for i in range(data_bulk_clean.shape[0]):\n",
    "    for j in range(1, data_bulk_clean.shape[1]):\n",
    "        if data_bulk_time.iloc[i, j] == pd.to_datetime(\"2010-01-01 00:00:00\"):\n",
    "            data_bulk_clean.iloc[i, j] = 0.0"
   ]
  },
  {
   "cell_type": "markdown",
   "metadata": {},
   "source": [
    "Подсчитаем количество нулевых значений в столбцах Bulk 1...Bulk 15 (значения за пределами рассматриваемого временного интервала)."
   ]
  },
  {
   "cell_type": "code",
   "execution_count": 87,
   "metadata": {},
   "outputs": [
    {
     "data": {
      "text/plain": [
       "1239"
      ]
     },
     "execution_count": 87,
     "metadata": {},
     "output_type": "execute_result"
    }
   ],
   "source": [
    "data_bulk_clean.isin([0.0]).sum().sum()"
   ]
  },
  {
   "cell_type": "markdown",
   "metadata": {},
   "source": [
    "1239 значений оказались за пределами интервала first_time - last_time. Оставшиеся пропуски также заполним нулевыми значениями."
   ]
  },
  {
   "cell_type": "code",
   "execution_count": 88,
   "metadata": {},
   "outputs": [],
   "source": [
    "data_bulk_clean = data_bulk_clean.fillna(0.0)"
   ]
  },
  {
   "cell_type": "markdown",
   "metadata": {},
   "source": [
    "Проконтролируем полученный результат."
   ]
  },
  {
   "cell_type": "code",
   "execution_count": 89,
   "metadata": {},
   "outputs": [
    {
     "data": {
      "text/html": [
       "<div>\n",
       "<style scoped>\n",
       "    .dataframe tbody tr th:only-of-type {\n",
       "        vertical-align: middle;\n",
       "    }\n",
       "\n",
       "    .dataframe tbody tr th {\n",
       "        vertical-align: top;\n",
       "    }\n",
       "\n",
       "    .dataframe thead th {\n",
       "        text-align: right;\n",
       "    }\n",
       "</style>\n",
       "<table border=\"1\" class=\"dataframe\">\n",
       "  <thead>\n",
       "    <tr style=\"text-align: right;\">\n",
       "      <th></th>\n",
       "      <th>key</th>\n",
       "      <th>Bulk 1</th>\n",
       "      <th>Bulk 2</th>\n",
       "      <th>Bulk 3</th>\n",
       "      <th>Bulk 4</th>\n",
       "      <th>Bulk 5</th>\n",
       "      <th>Bulk 6</th>\n",
       "      <th>Bulk 7</th>\n",
       "      <th>Bulk 8</th>\n",
       "      <th>Bulk 9</th>\n",
       "      <th>Bulk 10</th>\n",
       "      <th>Bulk 11</th>\n",
       "      <th>Bulk 12</th>\n",
       "      <th>Bulk 13</th>\n",
       "      <th>Bulk 14</th>\n",
       "      <th>Bulk 15</th>\n",
       "    </tr>\n",
       "  </thead>\n",
       "  <tbody>\n",
       "    <tr>\n",
       "      <td>0</td>\n",
       "      <td>1</td>\n",
       "      <td>0.0</td>\n",
       "      <td>0.0</td>\n",
       "      <td>0.0</td>\n",
       "      <td>43.0</td>\n",
       "      <td>0.0</td>\n",
       "      <td>0.0</td>\n",
       "      <td>0.0</td>\n",
       "      <td>0.0</td>\n",
       "      <td>0.0</td>\n",
       "      <td>0.0</td>\n",
       "      <td>0.0</td>\n",
       "      <td>0.0</td>\n",
       "      <td>0.0</td>\n",
       "      <td>0.0</td>\n",
       "      <td>0.0</td>\n",
       "    </tr>\n",
       "    <tr>\n",
       "      <td>1</td>\n",
       "      <td>2</td>\n",
       "      <td>0.0</td>\n",
       "      <td>0.0</td>\n",
       "      <td>0.0</td>\n",
       "      <td>73.0</td>\n",
       "      <td>0.0</td>\n",
       "      <td>0.0</td>\n",
       "      <td>0.0</td>\n",
       "      <td>0.0</td>\n",
       "      <td>0.0</td>\n",
       "      <td>0.0</td>\n",
       "      <td>0.0</td>\n",
       "      <td>206.0</td>\n",
       "      <td>0.0</td>\n",
       "      <td>149.0</td>\n",
       "      <td>154.0</td>\n",
       "    </tr>\n",
       "    <tr>\n",
       "      <td>2</td>\n",
       "      <td>3</td>\n",
       "      <td>0.0</td>\n",
       "      <td>0.0</td>\n",
       "      <td>0.0</td>\n",
       "      <td>34.0</td>\n",
       "      <td>0.0</td>\n",
       "      <td>0.0</td>\n",
       "      <td>0.0</td>\n",
       "      <td>0.0</td>\n",
       "      <td>0.0</td>\n",
       "      <td>0.0</td>\n",
       "      <td>0.0</td>\n",
       "      <td>0.0</td>\n",
       "      <td>0.0</td>\n",
       "      <td>0.0</td>\n",
       "      <td>0.0</td>\n",
       "    </tr>\n",
       "    <tr>\n",
       "      <td>3</td>\n",
       "      <td>4</td>\n",
       "      <td>0.0</td>\n",
       "      <td>0.0</td>\n",
       "      <td>0.0</td>\n",
       "      <td>0.0</td>\n",
       "      <td>0.0</td>\n",
       "      <td>0.0</td>\n",
       "      <td>0.0</td>\n",
       "      <td>0.0</td>\n",
       "      <td>0.0</td>\n",
       "      <td>0.0</td>\n",
       "      <td>0.0</td>\n",
       "      <td>0.0</td>\n",
       "      <td>0.0</td>\n",
       "      <td>0.0</td>\n",
       "      <td>0.0</td>\n",
       "    </tr>\n",
       "    <tr>\n",
       "      <td>4</td>\n",
       "      <td>5</td>\n",
       "      <td>0.0</td>\n",
       "      <td>0.0</td>\n",
       "      <td>0.0</td>\n",
       "      <td>0.0</td>\n",
       "      <td>0.0</td>\n",
       "      <td>0.0</td>\n",
       "      <td>0.0</td>\n",
       "      <td>0.0</td>\n",
       "      <td>0.0</td>\n",
       "      <td>0.0</td>\n",
       "      <td>0.0</td>\n",
       "      <td>0.0</td>\n",
       "      <td>0.0</td>\n",
       "      <td>0.0</td>\n",
       "      <td>0.0</td>\n",
       "    </tr>\n",
       "  </tbody>\n",
       "</table>\n",
       "</div>"
      ],
      "text/plain": [
       "   key  Bulk 1  Bulk 2  Bulk 3  Bulk 4  Bulk 5  Bulk 6  Bulk 7  Bulk 8  \\\n",
       "0    1     0.0     0.0     0.0    43.0     0.0     0.0     0.0     0.0   \n",
       "1    2     0.0     0.0     0.0    73.0     0.0     0.0     0.0     0.0   \n",
       "2    3     0.0     0.0     0.0    34.0     0.0     0.0     0.0     0.0   \n",
       "3    4     0.0     0.0     0.0     0.0     0.0     0.0     0.0     0.0   \n",
       "4    5     0.0     0.0     0.0     0.0     0.0     0.0     0.0     0.0   \n",
       "\n",
       "   Bulk 9  Bulk 10  Bulk 11  Bulk 12  Bulk 13  Bulk 14  Bulk 15  \n",
       "0     0.0      0.0      0.0      0.0      0.0      0.0      0.0  \n",
       "1     0.0      0.0      0.0    206.0      0.0    149.0    154.0  \n",
       "2     0.0      0.0      0.0      0.0      0.0      0.0      0.0  \n",
       "3     0.0      0.0      0.0      0.0      0.0      0.0      0.0  \n",
       "4     0.0      0.0      0.0      0.0      0.0      0.0      0.0  "
      ]
     },
     "execution_count": 89,
     "metadata": {},
     "output_type": "execute_result"
    }
   ],
   "source": [
    "data_bulk_clean.head()"
   ]
  },
  {
   "cell_type": "markdown",
   "metadata": {},
   "source": [
    "### Создание датасета data_wire_clean"
   ]
  },
  {
   "cell_type": "markdown",
   "metadata": {},
   "source": [
    "Для сохранения информации для анализа создадим новый датасет data_wire_clean."
   ]
  },
  {
   "cell_type": "code",
   "execution_count": 90,
   "metadata": {},
   "outputs": [],
   "source": [
    "data_wire_clean = data_wire"
   ]
  },
  {
   "cell_type": "markdown",
   "metadata": {},
   "source": [
    "Выполним с датасетом data_wire_clean преобразования аналогичные тем, которые были выполнены с датасетом data_bulk_clean."
   ]
  },
  {
   "cell_type": "markdown",
   "metadata": {},
   "source": [
    "Датасет data_wire_clean необходимо очистить от информации, выходящей за пределы временного интервала между first_time и last_time. Для этого сначала объединим датасеты data_wire_time и first_last_temp."
   ]
  },
  {
   "cell_type": "code",
   "execution_count": 91,
   "metadata": {},
   "outputs": [],
   "source": [
    "data_wire_time = data_wire_time.merge(first_last_temp[[\"key\", \"first_time\", \"last_time\"]], how=\"right\", on=\"key\")"
   ]
  },
  {
   "cell_type": "markdown",
   "metadata": {},
   "source": [
    "Даты, выходящие за пределы интервала между first_time и last_time, замаркируем в датасете data_bulk_time условным значением равным - 2010-01-01 00:00:00."
   ]
  },
  {
   "cell_type": "code",
   "execution_count": 92,
   "metadata": {},
   "outputs": [],
   "source": [
    "for i in range(data_wire_time.shape[0]):\n",
    "    for j in range(1, data_wire_time.shape[1] - 2):\n",
    "        if data_wire_time.iloc[i, j] < data_wire_time.iloc[i, 10]:\n",
    "            data_wire_time.iloc[i, j] = pd.to_datetime(\"2010-01-01 00:00:00\")\n",
    "        if data_wire_time.iloc[i, j] > data_wire_time.iloc[i, 11]:\n",
    "            data_wire_time.iloc[i, j] = pd.to_datetime(\"2010-01-01 00:00:00\")"
   ]
  },
  {
   "cell_type": "markdown",
   "metadata": {},
   "source": [
    "Для того, чтобы список партий в датасете data_wire_clean точно соответствовал данному списку в датасете first_last_temp выполним соответствующее объединение этих датасетов."
   ]
  },
  {
   "cell_type": "code",
   "execution_count": 93,
   "metadata": {},
   "outputs": [],
   "source": [
    "data_wire_clean = data_wire_clean.merge(first_last_temp[[\"key\"]], how=\"right\", on=\"key\")\n",
    "data_wire_clean = data_wire_clean.sort_values(by=[\"key\"])\n",
    "data_wire_clean = data_wire_clean.reset_index(drop=True)"
   ]
  },
  {
   "cell_type": "markdown",
   "metadata": {},
   "source": [
    "Теперь, когда мы замаркировали значения в data_wire_time за пределами рассматриваемого временного интервала, присвоим соответсвующим ячейкам в data_wire_clean нулевые значения."
   ]
  },
  {
   "cell_type": "code",
   "execution_count": 94,
   "metadata": {},
   "outputs": [],
   "source": [
    "for i in range(data_wire_clean.shape[0]):\n",
    "    for j in range(1, data_wire_clean.shape[1]):\n",
    "        if data_wire_time.iloc[i, j] == pd.to_datetime(\"2010-01-01 00:00:00\"):\n",
    "            data_wire_clean.iloc[i, j] = 0.0"
   ]
  },
  {
   "cell_type": "markdown",
   "metadata": {},
   "source": [
    "Подсчитаем количество нулевых значений в столбцах Wire 1...Wire 9 (значения за пределами рассматриваемого временного интервала)."
   ]
  },
  {
   "cell_type": "code",
   "execution_count": 95,
   "metadata": {},
   "outputs": [
    {
     "data": {
      "text/plain": [
       "244"
      ]
     },
     "execution_count": 95,
     "metadata": {},
     "output_type": "execute_result"
    }
   ],
   "source": [
    "data_wire_clean.isin([0.0]).sum().sum()"
   ]
  },
  {
   "cell_type": "markdown",
   "metadata": {},
   "source": [
    "244 значений оказались за пределами интервала first_time - last_time. Оставшиеся пропуски также заполним нулевыми значениями."
   ]
  },
  {
   "cell_type": "code",
   "execution_count": 96,
   "metadata": {},
   "outputs": [],
   "source": [
    "data_wire_clean = data_wire_clean.fillna(0.0)"
   ]
  },
  {
   "cell_type": "markdown",
   "metadata": {},
   "source": [
    "Проконтролируем полученный результат."
   ]
  },
  {
   "cell_type": "code",
   "execution_count": 97,
   "metadata": {
    "scrolled": true
   },
   "outputs": [
    {
     "data": {
      "text/html": [
       "<div>\n",
       "<style scoped>\n",
       "    .dataframe tbody tr th:only-of-type {\n",
       "        vertical-align: middle;\n",
       "    }\n",
       "\n",
       "    .dataframe tbody tr th {\n",
       "        vertical-align: top;\n",
       "    }\n",
       "\n",
       "    .dataframe thead th {\n",
       "        text-align: right;\n",
       "    }\n",
       "</style>\n",
       "<table border=\"1\" class=\"dataframe\">\n",
       "  <thead>\n",
       "    <tr style=\"text-align: right;\">\n",
       "      <th></th>\n",
       "      <th>key</th>\n",
       "      <th>Wire 1</th>\n",
       "      <th>Wire 2</th>\n",
       "      <th>Wire 3</th>\n",
       "      <th>Wire 4</th>\n",
       "      <th>Wire 5</th>\n",
       "      <th>Wire 6</th>\n",
       "      <th>Wire 7</th>\n",
       "      <th>Wire 8</th>\n",
       "      <th>Wire 9</th>\n",
       "    </tr>\n",
       "  </thead>\n",
       "  <tbody>\n",
       "    <tr>\n",
       "      <td>0</td>\n",
       "      <td>1</td>\n",
       "      <td>0.000000</td>\n",
       "      <td>0.00000</td>\n",
       "      <td>0.0</td>\n",
       "      <td>0.0</td>\n",
       "      <td>0.0</td>\n",
       "      <td>0.0</td>\n",
       "      <td>0.0</td>\n",
       "      <td>0.0</td>\n",
       "      <td>0.0</td>\n",
       "    </tr>\n",
       "    <tr>\n",
       "      <td>1</td>\n",
       "      <td>2</td>\n",
       "      <td>96.052315</td>\n",
       "      <td>0.00000</td>\n",
       "      <td>0.0</td>\n",
       "      <td>0.0</td>\n",
       "      <td>0.0</td>\n",
       "      <td>0.0</td>\n",
       "      <td>0.0</td>\n",
       "      <td>0.0</td>\n",
       "      <td>0.0</td>\n",
       "    </tr>\n",
       "    <tr>\n",
       "      <td>2</td>\n",
       "      <td>3</td>\n",
       "      <td>91.160157</td>\n",
       "      <td>0.00000</td>\n",
       "      <td>0.0</td>\n",
       "      <td>0.0</td>\n",
       "      <td>0.0</td>\n",
       "      <td>0.0</td>\n",
       "      <td>0.0</td>\n",
       "      <td>0.0</td>\n",
       "      <td>0.0</td>\n",
       "    </tr>\n",
       "    <tr>\n",
       "      <td>3</td>\n",
       "      <td>4</td>\n",
       "      <td>0.000000</td>\n",
       "      <td>0.00000</td>\n",
       "      <td>0.0</td>\n",
       "      <td>0.0</td>\n",
       "      <td>0.0</td>\n",
       "      <td>0.0</td>\n",
       "      <td>0.0</td>\n",
       "      <td>0.0</td>\n",
       "      <td>0.0</td>\n",
       "    </tr>\n",
       "    <tr>\n",
       "      <td>4</td>\n",
       "      <td>5</td>\n",
       "      <td>0.000000</td>\n",
       "      <td>9.11456</td>\n",
       "      <td>0.0</td>\n",
       "      <td>0.0</td>\n",
       "      <td>0.0</td>\n",
       "      <td>0.0</td>\n",
       "      <td>0.0</td>\n",
       "      <td>0.0</td>\n",
       "      <td>0.0</td>\n",
       "    </tr>\n",
       "  </tbody>\n",
       "</table>\n",
       "</div>"
      ],
      "text/plain": [
       "   key     Wire 1   Wire 2  Wire 3  Wire 4  Wire 5  Wire 6  Wire 7  Wire 8  \\\n",
       "0    1   0.000000  0.00000     0.0     0.0     0.0     0.0     0.0     0.0   \n",
       "1    2  96.052315  0.00000     0.0     0.0     0.0     0.0     0.0     0.0   \n",
       "2    3  91.160157  0.00000     0.0     0.0     0.0     0.0     0.0     0.0   \n",
       "3    4   0.000000  0.00000     0.0     0.0     0.0     0.0     0.0     0.0   \n",
       "4    5   0.000000  9.11456     0.0     0.0     0.0     0.0     0.0     0.0   \n",
       "\n",
       "   Wire 9  \n",
       "0     0.0  \n",
       "1     0.0  \n",
       "2     0.0  \n",
       "3     0.0  \n",
       "4     0.0  "
      ]
     },
     "execution_count": 97,
     "metadata": {},
     "output_type": "execute_result"
    }
   ],
   "source": [
    "data_wire_clean.head()"
   ]
  },
  {
   "cell_type": "markdown",
   "metadata": {},
   "source": [
    "### Создание датасета data_gas_clean"
   ]
  },
  {
   "cell_type": "markdown",
   "metadata": {},
   "source": [
    "Для сохранения информации для анализа создадим новый датасет data_gas_clean."
   ]
  },
  {
   "cell_type": "code",
   "execution_count": 98,
   "metadata": {},
   "outputs": [],
   "source": [
    "data_gas_clean = data_gas"
   ]
  },
  {
   "cell_type": "markdown",
   "metadata": {},
   "source": [
    "Для того, чтобы список партий в датасете data_gas_clean точно соответствовал данному списку в датасете first_last_temp выполним соответствующее объединение этих датасетов."
   ]
  },
  {
   "cell_type": "code",
   "execution_count": 99,
   "metadata": {},
   "outputs": [],
   "source": [
    "data_gas_clean = data_gas_clean.merge(first_last_temp[[\"key\"]], how=\"right\", on=\"key\")\n",
    "data_gas_clean = data_gas_clean.sort_values(by=['key'])\n",
    "data_gas_clean = data_gas_clean.reset_index(drop=True)"
   ]
  },
  {
   "cell_type": "markdown",
   "metadata": {},
   "source": [
    "Проверим наличие пропусков."
   ]
  },
  {
   "cell_type": "code",
   "execution_count": 100,
   "metadata": {},
   "outputs": [
    {
     "data": {
      "text/plain": [
       "key      0\n",
       "gas_1    2\n",
       "dtype: int64"
      ]
     },
     "execution_count": 100,
     "metadata": {},
     "output_type": "execute_result"
    }
   ],
   "source": [
    "data_gas_clean.isnull().sum()"
   ]
  },
  {
   "cell_type": "markdown",
   "metadata": {},
   "source": [
    "Заполним пропуски значением 0.0."
   ]
  },
  {
   "cell_type": "code",
   "execution_count": 101,
   "metadata": {},
   "outputs": [],
   "source": [
    "data_gas_clean = data_gas_clean.fillna(0.0)"
   ]
  },
  {
   "cell_type": "markdown",
   "metadata": {},
   "source": [
    "### Создание сводной таблицы признаков"
   ]
  },
  {
   "cell_type": "markdown",
   "metadata": {},
   "source": [
    "Общую сводную таблицу создадим из четырех датасетов: data_arc_clean, data_bulk_clean, data_wire_clean и data_gas_clean. Выведим перед этим размеры указанных датасетов."
   ]
  },
  {
   "cell_type": "code",
   "execution_count": 102,
   "metadata": {},
   "outputs": [
    {
     "name": "stdout",
     "output_type": "stream",
     "text": [
      "размер датасета data_arc_clean: (2439, 4)\n",
      "размер датасета data_bulk_clean: (2474, 16)\n",
      "размер датасета data_wire_clean: (2474, 10)\n",
      "размер датасета data_gas_clean: (2474, 2)\n"
     ]
    }
   ],
   "source": [
    "print(\"размер датасета data_arc_clean:\", data_arc_clean.shape)\n",
    "print(\"размер датасета data_bulk_clean:\", data_bulk_clean.shape)\n",
    "print(\"размер датасета data_wire_clean:\", data_wire_clean.shape)\n",
    "print(\"размер датасета data_gas_clean:\", data_gas_clean.shape)"
   ]
  },
  {
   "cell_type": "markdown",
   "metadata": {},
   "source": [
    "Количество строк в датасете data_arc_clean меньше, чем в других датасетах. Это связано с тем, что при его создании были заданы более жесткие критерии: учитывался не только временной интервал first_time - last_time, но также и наличие нагрева в указанные период. При объединение датасетов будем использовать жесткий критерий, как в датасете data_arc_clean. Таким образом, общее количество партий в итоговом датасете должно равняться 2439."
   ]
  },
  {
   "cell_type": "markdown",
   "metadata": {},
   "source": [
    "Объединим датасеты в один под названием - data_all."
   ]
  },
  {
   "cell_type": "code",
   "execution_count": 103,
   "metadata": {},
   "outputs": [],
   "source": [
    "data_all = data_arc_clean.merge(data_bulk_clean, how=\"left\", on=\"key\")\n",
    "data_all = data_all.merge(data_wire_clean, how=\"left\", on=\"key\")\n",
    "data_all = data_all.merge(data_gas_clean, how=\"left\", on=\"key\")"
   ]
  },
  {
   "cell_type": "markdown",
   "metadata": {},
   "source": [
    "Для удобства целевой признак (first_temp) сделаем в таблице data_all последним столбцом по порядку."
   ]
  },
  {
   "cell_type": "code",
   "execution_count": 104,
   "metadata": {},
   "outputs": [],
   "source": [
    "data_all = data_all[['key', 'energy', 'first_temp', 'Bulk 1', 'Bulk 2', 'Bulk 3', 'Bulk 4', 'Bulk 5', 'Bulk 6', 'Bulk 7', 'Bulk 8', \n",
    "                 'Bulk 9', 'Bulk 10', 'Bulk 11', 'Bulk 12', 'Bulk 13', 'Bulk 14', 'Bulk 15', 'Wire 1', 'Wire 2', 'Wire 3', \n",
    "                 'Wire 4', 'Wire 5', 'Wire 6', 'Wire 7', 'Wire 8', 'Wire 9', 'gas_1', 'last_temp']]"
   ]
  },
  {
   "cell_type": "markdown",
   "metadata": {},
   "source": [
    "### Корреляционный анализ признаков"
   ]
  },
  {
   "cell_type": "markdown",
   "metadata": {},
   "source": [
    "Рассмотрим корреляцию между целевым признаком и остальными признаками."
   ]
  },
  {
   "cell_type": "code",
   "execution_count": 105,
   "metadata": {},
   "outputs": [
    {
     "data": {
      "text/plain": [
       "first_temp    0.438883\n",
       "energy        0.301682\n",
       "Bulk 12       0.135909\n",
       "Bulk 4        0.051069\n",
       "Bulk 10       0.013720\n",
       "Bulk 14       0.007564\n",
       "Bulk 15       0.002268\n",
       "Wire 8       -0.015895\n",
       "Bulk 13      -0.016515\n",
       "Bulk 9       -0.019624\n",
       "Bulk 8       -0.020694\n",
       "gas_1        -0.031289\n",
       "Bulk 5       -0.033609\n",
       "Wire 9       -0.036943\n",
       "Wire 3       -0.046481\n",
       "Wire 1       -0.063204\n",
       "Bulk 2       -0.065411\n",
       "Wire 6       -0.071070\n",
       "Bulk 7       -0.082431\n",
       "Bulk 3       -0.090782\n",
       "Bulk 1       -0.097557\n",
       "Wire 7       -0.097663\n",
       "Bulk 11      -0.098838\n",
       "Wire 4       -0.117065\n",
       "Bulk 6       -0.179104\n",
       "Wire 2       -0.202736\n",
       "Wire 5             NaN\n",
       "Name: last_temp, dtype: float64"
      ]
     },
     "execution_count": 105,
     "metadata": {},
     "output_type": "execute_result"
    }
   ],
   "source": [
    "data_all.corr()[\"last_temp\"][1:-1].sort_values(ascending=False)"
   ]
  },
  {
   "cell_type": "markdown",
   "metadata": {},
   "source": [
    "Предсказуемо наибольшая корреляция с целевым признаком - у первой температуры (first_temp) и энергии (energy). Очистим датасет от признаков с малым количеством ненулевых значений: Wire 5 (0 нулевых значений) и Bulk 8 (1 ненулевое значение)."
   ]
  },
  {
   "cell_type": "code",
   "execution_count": 106,
   "metadata": {},
   "outputs": [],
   "source": [
    "data_all = data_all.drop([\"key\", \"Bulk 8\", \"Wire 5\"], axis=1)"
   ]
  },
  {
   "cell_type": "markdown",
   "metadata": {},
   "source": [
    "Для контроля выведим полученный результат."
   ]
  },
  {
   "cell_type": "code",
   "execution_count": 107,
   "metadata": {},
   "outputs": [
    {
     "name": "stdout",
     "output_type": "stream",
     "text": [
      "<class 'pandas.core.frame.DataFrame'>\n",
      "Int64Index: 2439 entries, 0 to 2438\n",
      "Data columns (total 26 columns):\n",
      "energy        2439 non-null float64\n",
      "first_temp    2439 non-null float64\n",
      "Bulk 1        2439 non-null float64\n",
      "Bulk 2        2439 non-null float64\n",
      "Bulk 3        2439 non-null float64\n",
      "Bulk 4        2439 non-null float64\n",
      "Bulk 5        2439 non-null float64\n",
      "Bulk 6        2439 non-null float64\n",
      "Bulk 7        2439 non-null float64\n",
      "Bulk 9        2439 non-null float64\n",
      "Bulk 10       2439 non-null float64\n",
      "Bulk 11       2439 non-null float64\n",
      "Bulk 12       2439 non-null float64\n",
      "Bulk 13       2439 non-null float64\n",
      "Bulk 14       2439 non-null float64\n",
      "Bulk 15       2439 non-null float64\n",
      "Wire 1        2439 non-null float64\n",
      "Wire 2        2439 non-null float64\n",
      "Wire 3        2439 non-null float64\n",
      "Wire 4        2439 non-null float64\n",
      "Wire 6        2439 non-null float64\n",
      "Wire 7        2439 non-null float64\n",
      "Wire 8        2439 non-null float64\n",
      "Wire 9        2439 non-null float64\n",
      "gas_1         2439 non-null float64\n",
      "last_temp     2439 non-null float64\n",
      "dtypes: float64(26)\n",
      "memory usage: 514.5 KB\n"
     ]
    }
   ],
   "source": [
    "data_all.info()"
   ]
  },
  {
   "cell_type": "markdown",
   "metadata": {},
   "source": [
    "### Выводы"
   ]
  },
  {
   "cell_type": "markdown",
   "metadata": {},
   "source": [
    "1. Выполнена дополнительная обработка исходных датасетов с целью объединения их в одну сводную таблицу, пригодную для машинного обучения.\n",
    "2. В результате выполненной обработки исходных датасетов созданы четыре новых датасета: data_arc_clean, data_bulk_clean, data_wire_clean и data_gas_clean. Указанные датасеты объединены в один датасет - data_all.\n",
    "3. Выполнен корреляционный анализ признаков. Из него следует, что наибольшую корреляцию с целевым признаком (последняя температура) имеет два признака: первая температура и энергия, переданная в процессе нагревания."
   ]
  },
  {
   "cell_type": "markdown",
   "metadata": {},
   "source": [
    "## Обучение моделей"
   ]
  },
  {
   "cell_type": "markdown",
   "metadata": {},
   "source": [
    "Выполним подготовку данных для обучения. Затем рассмотрим несколько моделей: простые как линеная регрессия и более сложные, представляющие собой ансамбли."
   ]
  },
  {
   "cell_type": "code",
   "execution_count": 108,
   "metadata": {},
   "outputs": [
    {
     "data": {
      "text/html": [
       "<div>\n",
       "<style scoped>\n",
       "    .dataframe tbody tr th:only-of-type {\n",
       "        vertical-align: middle;\n",
       "    }\n",
       "\n",
       "    .dataframe tbody tr th {\n",
       "        vertical-align: top;\n",
       "    }\n",
       "\n",
       "    .dataframe thead th {\n",
       "        text-align: right;\n",
       "    }\n",
       "</style>\n",
       "<table border=\"1\" class=\"dataframe\">\n",
       "  <thead>\n",
       "    <tr style=\"text-align: right;\">\n",
       "      <th></th>\n",
       "      <th>energy</th>\n",
       "      <th>first_temp</th>\n",
       "      <th>Bulk 1</th>\n",
       "      <th>Bulk 2</th>\n",
       "      <th>Bulk 3</th>\n",
       "      <th>Bulk 4</th>\n",
       "      <th>Bulk 5</th>\n",
       "      <th>Bulk 6</th>\n",
       "      <th>Bulk 7</th>\n",
       "      <th>Bulk 9</th>\n",
       "      <th>...</th>\n",
       "      <th>Wire 1</th>\n",
       "      <th>Wire 2</th>\n",
       "      <th>Wire 3</th>\n",
       "      <th>Wire 4</th>\n",
       "      <th>Wire 6</th>\n",
       "      <th>Wire 7</th>\n",
       "      <th>Wire 8</th>\n",
       "      <th>Wire 9</th>\n",
       "      <th>gas_1</th>\n",
       "      <th>last_temp</th>\n",
       "    </tr>\n",
       "  </thead>\n",
       "  <tbody>\n",
       "    <tr>\n",
       "      <td>0</td>\n",
       "      <td>708.195035</td>\n",
       "      <td>1571.0</td>\n",
       "      <td>0.0</td>\n",
       "      <td>0.0</td>\n",
       "      <td>0.0</td>\n",
       "      <td>43.0</td>\n",
       "      <td>0.0</td>\n",
       "      <td>0.0</td>\n",
       "      <td>0.0</td>\n",
       "      <td>0.0</td>\n",
       "      <td>...</td>\n",
       "      <td>0.000000</td>\n",
       "      <td>0.00000</td>\n",
       "      <td>0.0</td>\n",
       "      <td>0.0</td>\n",
       "      <td>0.0</td>\n",
       "      <td>0.0</td>\n",
       "      <td>0.0</td>\n",
       "      <td>0.0</td>\n",
       "      <td>29.749986</td>\n",
       "      <td>1613.0</td>\n",
       "    </tr>\n",
       "    <tr>\n",
       "      <td>1</td>\n",
       "      <td>673.801792</td>\n",
       "      <td>1581.0</td>\n",
       "      <td>0.0</td>\n",
       "      <td>0.0</td>\n",
       "      <td>0.0</td>\n",
       "      <td>73.0</td>\n",
       "      <td>0.0</td>\n",
       "      <td>0.0</td>\n",
       "      <td>0.0</td>\n",
       "      <td>0.0</td>\n",
       "      <td>...</td>\n",
       "      <td>96.052315</td>\n",
       "      <td>0.00000</td>\n",
       "      <td>0.0</td>\n",
       "      <td>0.0</td>\n",
       "      <td>0.0</td>\n",
       "      <td>0.0</td>\n",
       "      <td>0.0</td>\n",
       "      <td>0.0</td>\n",
       "      <td>12.555561</td>\n",
       "      <td>1602.0</td>\n",
       "    </tr>\n",
       "    <tr>\n",
       "      <td>2</td>\n",
       "      <td>146.208505</td>\n",
       "      <td>1596.0</td>\n",
       "      <td>0.0</td>\n",
       "      <td>0.0</td>\n",
       "      <td>0.0</td>\n",
       "      <td>34.0</td>\n",
       "      <td>0.0</td>\n",
       "      <td>0.0</td>\n",
       "      <td>0.0</td>\n",
       "      <td>0.0</td>\n",
       "      <td>...</td>\n",
       "      <td>91.160157</td>\n",
       "      <td>0.00000</td>\n",
       "      <td>0.0</td>\n",
       "      <td>0.0</td>\n",
       "      <td>0.0</td>\n",
       "      <td>0.0</td>\n",
       "      <td>0.0</td>\n",
       "      <td>0.0</td>\n",
       "      <td>28.554793</td>\n",
       "      <td>1599.0</td>\n",
       "    </tr>\n",
       "    <tr>\n",
       "      <td>3</td>\n",
       "      <td>339.425494</td>\n",
       "      <td>1601.0</td>\n",
       "      <td>0.0</td>\n",
       "      <td>0.0</td>\n",
       "      <td>0.0</td>\n",
       "      <td>0.0</td>\n",
       "      <td>0.0</td>\n",
       "      <td>0.0</td>\n",
       "      <td>0.0</td>\n",
       "      <td>0.0</td>\n",
       "      <td>...</td>\n",
       "      <td>0.000000</td>\n",
       "      <td>0.00000</td>\n",
       "      <td>0.0</td>\n",
       "      <td>0.0</td>\n",
       "      <td>0.0</td>\n",
       "      <td>0.0</td>\n",
       "      <td>0.0</td>\n",
       "      <td>0.0</td>\n",
       "      <td>18.841219</td>\n",
       "      <td>1625.0</td>\n",
       "    </tr>\n",
       "    <tr>\n",
       "      <td>4</td>\n",
       "      <td>691.980241</td>\n",
       "      <td>1576.0</td>\n",
       "      <td>0.0</td>\n",
       "      <td>0.0</td>\n",
       "      <td>0.0</td>\n",
       "      <td>0.0</td>\n",
       "      <td>0.0</td>\n",
       "      <td>0.0</td>\n",
       "      <td>0.0</td>\n",
       "      <td>0.0</td>\n",
       "      <td>...</td>\n",
       "      <td>0.000000</td>\n",
       "      <td>9.11456</td>\n",
       "      <td>0.0</td>\n",
       "      <td>0.0</td>\n",
       "      <td>0.0</td>\n",
       "      <td>0.0</td>\n",
       "      <td>0.0</td>\n",
       "      <td>0.0</td>\n",
       "      <td>5.413692</td>\n",
       "      <td>1602.0</td>\n",
       "    </tr>\n",
       "    <tr>\n",
       "      <td>...</td>\n",
       "      <td>...</td>\n",
       "      <td>...</td>\n",
       "      <td>...</td>\n",
       "      <td>...</td>\n",
       "      <td>...</td>\n",
       "      <td>...</td>\n",
       "      <td>...</td>\n",
       "      <td>...</td>\n",
       "      <td>...</td>\n",
       "      <td>...</td>\n",
       "      <td>...</td>\n",
       "      <td>...</td>\n",
       "      <td>...</td>\n",
       "      <td>...</td>\n",
       "      <td>...</td>\n",
       "      <td>...</td>\n",
       "      <td>...</td>\n",
       "      <td>...</td>\n",
       "      <td>...</td>\n",
       "      <td>...</td>\n",
       "      <td>...</td>\n",
       "    </tr>\n",
       "    <tr>\n",
       "      <td>2434</td>\n",
       "      <td>445.038010</td>\n",
       "      <td>1570.0</td>\n",
       "      <td>0.0</td>\n",
       "      <td>0.0</td>\n",
       "      <td>21.0</td>\n",
       "      <td>0.0</td>\n",
       "      <td>0.0</td>\n",
       "      <td>0.0</td>\n",
       "      <td>0.0</td>\n",
       "      <td>0.0</td>\n",
       "      <td>...</td>\n",
       "      <td>89.150879</td>\n",
       "      <td>0.00000</td>\n",
       "      <td>0.0</td>\n",
       "      <td>0.0</td>\n",
       "      <td>0.0</td>\n",
       "      <td>0.0</td>\n",
       "      <td>0.0</td>\n",
       "      <td>0.0</td>\n",
       "      <td>7.125735</td>\n",
       "      <td>1591.0</td>\n",
       "    </tr>\n",
       "    <tr>\n",
       "      <td>2435</td>\n",
       "      <td>681.813857</td>\n",
       "      <td>1554.0</td>\n",
       "      <td>0.0</td>\n",
       "      <td>0.0</td>\n",
       "      <td>0.0</td>\n",
       "      <td>63.0</td>\n",
       "      <td>0.0</td>\n",
       "      <td>0.0</td>\n",
       "      <td>0.0</td>\n",
       "      <td>0.0</td>\n",
       "      <td>...</td>\n",
       "      <td>114.179527</td>\n",
       "      <td>0.00000</td>\n",
       "      <td>0.0</td>\n",
       "      <td>0.0</td>\n",
       "      <td>0.0</td>\n",
       "      <td>0.0</td>\n",
       "      <td>0.0</td>\n",
       "      <td>0.0</td>\n",
       "      <td>9.412616</td>\n",
       "      <td>1591.0</td>\n",
       "    </tr>\n",
       "    <tr>\n",
       "      <td>2436</td>\n",
       "      <td>336.902188</td>\n",
       "      <td>1571.0</td>\n",
       "      <td>0.0</td>\n",
       "      <td>0.0</td>\n",
       "      <td>0.0</td>\n",
       "      <td>85.0</td>\n",
       "      <td>0.0</td>\n",
       "      <td>0.0</td>\n",
       "      <td>0.0</td>\n",
       "      <td>0.0</td>\n",
       "      <td>...</td>\n",
       "      <td>94.086723</td>\n",
       "      <td>9.04800</td>\n",
       "      <td>0.0</td>\n",
       "      <td>0.0</td>\n",
       "      <td>0.0</td>\n",
       "      <td>0.0</td>\n",
       "      <td>0.0</td>\n",
       "      <td>0.0</td>\n",
       "      <td>6.271699</td>\n",
       "      <td>1589.0</td>\n",
       "    </tr>\n",
       "    <tr>\n",
       "      <td>2437</td>\n",
       "      <td>332.227571</td>\n",
       "      <td>1591.0</td>\n",
       "      <td>0.0</td>\n",
       "      <td>0.0</td>\n",
       "      <td>90.0</td>\n",
       "      <td>0.0</td>\n",
       "      <td>0.0</td>\n",
       "      <td>0.0</td>\n",
       "      <td>0.0</td>\n",
       "      <td>0.0</td>\n",
       "      <td>...</td>\n",
       "      <td>118.110717</td>\n",
       "      <td>0.00000</td>\n",
       "      <td>0.0</td>\n",
       "      <td>0.0</td>\n",
       "      <td>0.0</td>\n",
       "      <td>0.0</td>\n",
       "      <td>0.0</td>\n",
       "      <td>0.0</td>\n",
       "      <td>14.953657</td>\n",
       "      <td>1594.0</td>\n",
       "    </tr>\n",
       "    <tr>\n",
       "      <td>2438</td>\n",
       "      <td>630.261628</td>\n",
       "      <td>1569.0</td>\n",
       "      <td>0.0</td>\n",
       "      <td>0.0</td>\n",
       "      <td>47.0</td>\n",
       "      <td>0.0</td>\n",
       "      <td>0.0</td>\n",
       "      <td>0.0</td>\n",
       "      <td>0.0</td>\n",
       "      <td>0.0</td>\n",
       "      <td>...</td>\n",
       "      <td>110.160958</td>\n",
       "      <td>50.00528</td>\n",
       "      <td>0.0</td>\n",
       "      <td>0.0</td>\n",
       "      <td>0.0</td>\n",
       "      <td>0.0</td>\n",
       "      <td>0.0</td>\n",
       "      <td>0.0</td>\n",
       "      <td>11.336151</td>\n",
       "      <td>1603.0</td>\n",
       "    </tr>\n",
       "  </tbody>\n",
       "</table>\n",
       "<p>2439 rows × 26 columns</p>\n",
       "</div>"
      ],
      "text/plain": [
       "          energy  first_temp  Bulk 1  Bulk 2  Bulk 3  Bulk 4  Bulk 5  Bulk 6  \\\n",
       "0     708.195035      1571.0     0.0     0.0     0.0    43.0     0.0     0.0   \n",
       "1     673.801792      1581.0     0.0     0.0     0.0    73.0     0.0     0.0   \n",
       "2     146.208505      1596.0     0.0     0.0     0.0    34.0     0.0     0.0   \n",
       "3     339.425494      1601.0     0.0     0.0     0.0     0.0     0.0     0.0   \n",
       "4     691.980241      1576.0     0.0     0.0     0.0     0.0     0.0     0.0   \n",
       "...          ...         ...     ...     ...     ...     ...     ...     ...   \n",
       "2434  445.038010      1570.0     0.0     0.0    21.0     0.0     0.0     0.0   \n",
       "2435  681.813857      1554.0     0.0     0.0     0.0    63.0     0.0     0.0   \n",
       "2436  336.902188      1571.0     0.0     0.0     0.0    85.0     0.0     0.0   \n",
       "2437  332.227571      1591.0     0.0     0.0    90.0     0.0     0.0     0.0   \n",
       "2438  630.261628      1569.0     0.0     0.0    47.0     0.0     0.0     0.0   \n",
       "\n",
       "      Bulk 7  Bulk 9  ...      Wire 1    Wire 2  Wire 3  Wire 4  Wire 6  \\\n",
       "0        0.0     0.0  ...    0.000000   0.00000     0.0     0.0     0.0   \n",
       "1        0.0     0.0  ...   96.052315   0.00000     0.0     0.0     0.0   \n",
       "2        0.0     0.0  ...   91.160157   0.00000     0.0     0.0     0.0   \n",
       "3        0.0     0.0  ...    0.000000   0.00000     0.0     0.0     0.0   \n",
       "4        0.0     0.0  ...    0.000000   9.11456     0.0     0.0     0.0   \n",
       "...      ...     ...  ...         ...       ...     ...     ...     ...   \n",
       "2434     0.0     0.0  ...   89.150879   0.00000     0.0     0.0     0.0   \n",
       "2435     0.0     0.0  ...  114.179527   0.00000     0.0     0.0     0.0   \n",
       "2436     0.0     0.0  ...   94.086723   9.04800     0.0     0.0     0.0   \n",
       "2437     0.0     0.0  ...  118.110717   0.00000     0.0     0.0     0.0   \n",
       "2438     0.0     0.0  ...  110.160958  50.00528     0.0     0.0     0.0   \n",
       "\n",
       "      Wire 7  Wire 8  Wire 9      gas_1  last_temp  \n",
       "0        0.0     0.0     0.0  29.749986     1613.0  \n",
       "1        0.0     0.0     0.0  12.555561     1602.0  \n",
       "2        0.0     0.0     0.0  28.554793     1599.0  \n",
       "3        0.0     0.0     0.0  18.841219     1625.0  \n",
       "4        0.0     0.0     0.0   5.413692     1602.0  \n",
       "...      ...     ...     ...        ...        ...  \n",
       "2434     0.0     0.0     0.0   7.125735     1591.0  \n",
       "2435     0.0     0.0     0.0   9.412616     1591.0  \n",
       "2436     0.0     0.0     0.0   6.271699     1589.0  \n",
       "2437     0.0     0.0     0.0  14.953657     1594.0  \n",
       "2438     0.0     0.0     0.0  11.336151     1603.0  \n",
       "\n",
       "[2439 rows x 26 columns]"
      ]
     },
     "execution_count": 108,
     "metadata": {},
     "output_type": "execute_result"
    }
   ],
   "source": [
    "data_all"
   ]
  },
  {
   "cell_type": "markdown",
   "metadata": {},
   "source": [
    "### Подготовка данных для обучения"
   ]
  },
  {
   "cell_type": "markdown",
   "metadata": {},
   "source": [
    "Разделим датасет data_all на целевой признак и оставшиеся признаки."
   ]
  },
  {
   "cell_type": "code",
   "execution_count": 109,
   "metadata": {},
   "outputs": [],
   "source": [
    "x = data_all.drop(\"last_temp\", axis=1)\n",
    "y = data_all[\"last_temp\"]"
   ]
  },
  {
   "cell_type": "markdown",
   "metadata": {},
   "source": [
    "Разделим данные на обучающую и тестовую выборки."
   ]
  },
  {
   "cell_type": "code",
   "execution_count": 110,
   "metadata": {},
   "outputs": [],
   "source": [
    "x_train, x_test, y_train, y_test = train_test_split(x, y, test_size=0.25, random_state=56789)"
   ]
  },
  {
   "cell_type": "markdown",
   "metadata": {},
   "source": [
    "### Модель LinearRegression"
   ]
  },
  {
   "cell_type": "code",
   "execution_count": 111,
   "metadata": {},
   "outputs": [],
   "source": [
    "LinearRegression = LinearRegression()"
   ]
  },
  {
   "cell_type": "code",
   "execution_count": 112,
   "metadata": {},
   "outputs": [
    {
     "name": "stdout",
     "output_type": "stream",
     "text": [
      "8.373481974838269\n"
     ]
    }
   ],
   "source": [
    "scores = cross_val_score(LinearRegression, x_train, y_train, cv=3, scoring=\"neg_mean_absolute_error\")\n",
    "print(scores.mean()*(-1))"
   ]
  },
  {
   "cell_type": "markdown",
   "metadata": {},
   "source": [
    "### Модель RandomForestRegressor"
   ]
  },
  {
   "cell_type": "markdown",
   "metadata": {},
   "source": [
    "Создадим список гиперпараметров, которые проверим при обучении модели."
   ]
  },
  {
   "cell_type": "code",
   "execution_count": 113,
   "metadata": {},
   "outputs": [],
   "source": [
    "param_grid = {\n",
    "   \"n_estimators\": [20, 100],\n",
    "    \"max_depth\": [4, 8]\n",
    "}"
   ]
  },
  {
   "cell_type": "markdown",
   "metadata": {},
   "source": [
    "Найдем оптимальные гиперпараметры модели при помощи метрики MAE и GridSearchCV (перебор заданного набора гиперпараметров и выполнение для них кросс-валидации)."
   ]
  },
  {
   "cell_type": "code",
   "execution_count": 114,
   "metadata": {},
   "outputs": [
    {
     "data": {
      "text/plain": [
       "{'max_depth': 8, 'n_estimators': 100}"
      ]
     },
     "execution_count": 114,
     "metadata": {},
     "output_type": "execute_result"
    }
   ],
   "source": [
    "random_forest_model = RandomForestRegressor(random_state=56789)\n",
    "search_random_forest = GridSearchCV(estimator=random_forest_model, param_grid=param_grid, cv=3, \n",
    "                                    scoring=\"neg_mean_absolute_error\")\n",
    "search_random_forest.fit(x_train, y_train)\n",
    "search_random_forest.best_params_"
   ]
  },
  {
   "cell_type": "markdown",
   "metadata": {},
   "source": [
    "Гиперпараметры лучшей модели: max_depth=8 и n_estimators=100. Выведим метрику MAE при использовании лучших гиперпараметров."
   ]
  },
  {
   "cell_type": "code",
   "execution_count": 115,
   "metadata": {},
   "outputs": [
    {
     "data": {
      "text/plain": [
       "6.795673214342157"
      ]
     },
     "execution_count": 115,
     "metadata": {},
     "output_type": "execute_result"
    }
   ],
   "source": [
    "search_random_forest.best_score_ * (-1)"
   ]
  },
  {
   "cell_type": "markdown",
   "metadata": {},
   "source": [
    "### Модель LGBMRegressor"
   ]
  },
  {
   "cell_type": "markdown",
   "metadata": {},
   "source": [
    "Создадим список гиперпараметров, которые проверим при обучении модели."
   ]
  },
  {
   "cell_type": "code",
   "execution_count": 116,
   "metadata": {},
   "outputs": [],
   "source": [
    "param_grid = {\n",
    "   \"n_estimators\": [20, 100],\n",
    "    \"learning_rate\": [0.5, 0.1]\n",
    "}"
   ]
  },
  {
   "cell_type": "markdown",
   "metadata": {},
   "source": [
    "Найдем оптимальные гиперпараметры модели при помощи метрики MAE и GridSearchCV (перебор заданного набора гиперпараметров и выполнение для них кросс-валидации)."
   ]
  },
  {
   "cell_type": "code",
   "execution_count": 117,
   "metadata": {},
   "outputs": [
    {
     "data": {
      "text/plain": [
       "{'learning_rate': 0.1, 'n_estimators': 100}"
      ]
     },
     "execution_count": 117,
     "metadata": {},
     "output_type": "execute_result"
    }
   ],
   "source": [
    "LGBM_model = LGBMRegressor(seed=56789)\n",
    "search_LGBM = GridSearchCV(estimator=LGBM_model, param_grid=param_grid, cv=3, scoring=\"neg_mean_absolute_error\")\n",
    "search_LGBM.fit(x_train, y_train)\n",
    "search_LGBM.best_params_"
   ]
  },
  {
   "cell_type": "markdown",
   "metadata": {},
   "source": [
    "Гиперпараметры лучшей модели: learning_rate=0.1 и n_estimators=100. Выведим метрику MAE при использовании лучших гиперпараметров."
   ]
  },
  {
   "cell_type": "code",
   "execution_count": 118,
   "metadata": {},
   "outputs": [
    {
     "data": {
      "text/plain": [
       "6.949852034672054"
      ]
     },
     "execution_count": 118,
     "metadata": {},
     "output_type": "execute_result"
    }
   ],
   "source": [
    "search_LGBM.best_score_*(-1)"
   ]
  },
  {
   "cell_type": "markdown",
   "metadata": {},
   "source": [
    "### Выводы"
   ]
  },
  {
   "cell_type": "markdown",
   "metadata": {},
   "source": [
    "1. Выполнено обучение трех моделей: LinearRegression, RandomForestRegressor и LGBMRegressor. Для последних двух моделей выполнен подбор оптимальных гиперпараметров с использованием метрики MAE и метода кросс-валидации.\n",
    "2. При выполнении кросс-валидации лучший результат показала модель RandomForestRegressor: MAE = 6,796."
   ]
  },
  {
   "cell_type": "markdown",
   "metadata": {},
   "source": [
    "## Тестирование моделей"
   ]
  },
  {
   "cell_type": "markdown",
   "metadata": {},
   "source": [
    "Для автоматизации процесса тестирования моделей воспользуемся циклом. Для этого предварительно создадим список с именами моделей с лучшими гиперпараметрами (для модели LinearRegression гиперпараметры не подбирались) и список с условными названиями моделей."
   ]
  },
  {
   "cell_type": "code",
   "execution_count": 119,
   "metadata": {},
   "outputs": [
    {
     "name": "stdout",
     "output_type": "stream",
     "text": [
      "LinearRegression\n",
      "MAE модели: 8.041455442109434\n",
      "\n",
      "RandomForestRegressor\n",
      "MAE модели: 6.73622012940963\n",
      "\n",
      "LGBMRegressor\n",
      "MAE модели: 6.736630118553199\n",
      "\n"
     ]
    }
   ],
   "source": [
    "models_list = [LinearRegression, search_random_forest.best_estimator_, search_LGBM.best_estimator_]\n",
    "model_names = [\"LinearRegression\", \"RandomForestRegressor\", \"LGBMRegressor\"]\n",
    "for model, model_name in zip(models_list, model_names):\n",
    "    model.fit(x_train, y_train)\n",
    "    predictions = model.predict(x_test)\n",
    "    score = mean_absolute_error(y_test, predictions)\n",
    "    print(model_name)\n",
    "    print(\"MAE модели:\", score)\n",
    "    print()"
   ]
  },
  {
   "cell_type": "markdown",
   "metadata": {},
   "source": [
    "Модели RandomForestRegressor и LGBMRegressor показали лучший и при этом практически одинаковый результат: MAE для данных моделей на тестовой выборке равняется 6,7362 и 6,7366 соответственно."
   ]
  },
  {
   "cell_type": "markdown",
   "metadata": {},
   "source": [
    "Для проверки адекватности моделей дополнительно подсчитаем MAE для медианной модели."
   ]
  },
  {
   "cell_type": "code",
   "execution_count": 120,
   "metadata": {},
   "outputs": [
    {
     "data": {
      "text/plain": [
       "9.98032786885246"
      ]
     },
     "execution_count": 120,
     "metadata": {},
     "output_type": "execute_result"
    }
   ],
   "source": [
    "y_median = pd.Series(y_train.median(), index = y_test.index)\n",
    "mean_absolute_error(y_test, y_median)"
   ]
  },
  {
   "cell_type": "markdown",
   "metadata": {},
   "source": [
    "### Выводы"
   ]
  },
  {
   "cell_type": "markdown",
   "metadata": {},
   "source": [
    "1. На тестовой выборке лучший результат показали модели RandomForestRegressor и LGBMRegressor. MAE для данных моделей на тестовой выборке равняется 6,7362 и 6,7366 соответственно.\n",
    "2. Худший результат из трех рассмотренных моделей показала модель LinearRegression: MAE на тестовой выборке равняется 8,04.\n",
    "3. На тестовой выборке метрика MAE всех трех рассматриваемых моделей существенно меньше данной метрики для медианной модели (MAE = 9,98), что говорит об адекватности данных моделей."
   ]
  },
  {
   "cell_type": "markdown",
   "metadata": {},
   "source": [
    "## Оптимизация моделей"
   ]
  },
  {
   "cell_type": "markdown",
   "metadata": {},
   "source": [
    "Наилучшие результаты показали модели случайный лес и градиентный бустинг. Выполним оптимизацию данных моделей. При оптимизации моделей будем обращать внимание на следующие моменты:\n",
    "1. Важность отдельных признаков.\n",
    "2. Корреляция признаков между собой.\n",
    "3. Проверка возможности использования признака суммарная активная мощность вместо суммарной энергии."
   ]
  },
  {
   "cell_type": "markdown",
   "metadata": {},
   "source": [
    "### Оценка важности признаков"
   ]
  },
  {
   "cell_type": "markdown",
   "metadata": {},
   "source": [
    "Оценим важность факторов. Для этого создадим два датафрейма: importance_random_forest и importance_gradient_boosting."
   ]
  },
  {
   "cell_type": "code",
   "execution_count": 121,
   "metadata": {},
   "outputs": [],
   "source": [
    "importance_random_forest = pd.DataFrame({\"random_forest\": search_random_forest.best_estimator_.feature_importances_}, \n",
    "                                        index=x.columns)\n",
    "importance_random_forest = importance_random_forest.sort_values(by=\"random_forest\")\n",
    "importance_gradient_boosting = pd.DataFrame({\"gradient_boosting\": search_LGBM.best_estimator_.feature_importances_}, \n",
    "                                        index=x.columns)\n",
    "importance_gradient_boosting = importance_gradient_boosting.sort_values(by=\"gradient_boosting\")"
   ]
  },
  {
   "cell_type": "markdown",
   "metadata": {},
   "source": [
    "Выведим график для модели случайного леса. Как видно из данного графика, наименьшее влияние имеют следующие признаки: Bulk 5, Bulk 9, Wire 7, Wire 8 и Wire 9."
   ]
  },
  {
   "cell_type": "code",
   "execution_count": 122,
   "metadata": {
    "scrolled": true
   },
   "outputs": [
    {
     "data": {
      "image/png": "[encoded data removed]",
      "text/plain": [
       "<Figure size 1152x576 with 1 Axes>"
      ]
     },
     "metadata": {
      "needs_background": "light"
     },
     "output_type": "display_data"
    }
   ],
   "source": [
    "importance_random_forest.plot.barh(figsize=(16, 8))\n",
    "plt.show()"
   ]
  },
  {
   "cell_type": "markdown",
   "metadata": {},
   "source": [
    "Выведим график для модели градиентного бустинга. Как видно из данного графика, наименьшее влияние имеют следующие признаки: Bulk 2, Bulk 7, Bulk 9, Wire 4, Wire 7, Wire 8 и Wire 9."
   ]
  },
  {
   "cell_type": "code",
   "execution_count": 123,
   "metadata": {
    "scrolled": true
   },
   "outputs": [
    {
     "data": {
      "image/png": "[encoded data removed]",
      "text/plain": [
       "<Figure size 1152x576 with 1 Axes>"
      ]
     },
     "metadata": {
      "needs_background": "light"
     },
     "output_type": "display_data"
    }
   ],
   "source": [
    "importance_gradient_boosting.plot.barh(figsize=(16, 8))\n",
    "plt.show()"
   ]
  },
  {
   "cell_type": "markdown",
   "metadata": {},
   "source": [
    "Из сопоставления двух графиков видно, что ряд признаков оказывает очень слабое влияние сразу для двух рассмотренных моделей. Это признаки: Bulk 9, Wire 7, Wire 8 и Wire 9. Данные признаки являются кандидатами на удаление."
   ]
  },
  {
   "cell_type": "markdown",
   "metadata": {},
   "source": [
    "### Корреляционный анализ признаков между собой"
   ]
  },
  {
   "cell_type": "markdown",
   "metadata": {},
   "source": [
    "Выведим таблицу коэффициентов линейной корреляции всех признаков между собой (corr_table)."
   ]
  },
  {
   "cell_type": "code",
   "execution_count": 124,
   "metadata": {},
   "outputs": [
    {
     "data": {
      "text/html": [
       "<div>\n",
       "<style scoped>\n",
       "    .dataframe tbody tr th:only-of-type {\n",
       "        vertical-align: middle;\n",
       "    }\n",
       "\n",
       "    .dataframe tbody tr th {\n",
       "        vertical-align: top;\n",
       "    }\n",
       "\n",
       "    .dataframe thead th {\n",
       "        text-align: right;\n",
       "    }\n",
       "</style>\n",
       "<table border=\"1\" class=\"dataframe\">\n",
       "  <thead>\n",
       "    <tr style=\"text-align: right;\">\n",
       "      <th></th>\n",
       "      <th>energy</th>\n",
       "      <th>first_temp</th>\n",
       "      <th>Bulk 1</th>\n",
       "      <th>Bulk 2</th>\n",
       "      <th>Bulk 3</th>\n",
       "      <th>Bulk 4</th>\n",
       "      <th>Bulk 5</th>\n",
       "      <th>Bulk 6</th>\n",
       "      <th>Bulk 7</th>\n",
       "      <th>Bulk 9</th>\n",
       "      <th>...</th>\n",
       "      <th>Bulk 15</th>\n",
       "      <th>Wire 1</th>\n",
       "      <th>Wire 2</th>\n",
       "      <th>Wire 3</th>\n",
       "      <th>Wire 4</th>\n",
       "      <th>Wire 6</th>\n",
       "      <th>Wire 7</th>\n",
       "      <th>Wire 8</th>\n",
       "      <th>Wire 9</th>\n",
       "      <th>gas_1</th>\n",
       "    </tr>\n",
       "  </thead>\n",
       "  <tbody>\n",
       "    <tr>\n",
       "      <td>energy</td>\n",
       "      <td>1.000000</td>\n",
       "      <td>-0.299293</td>\n",
       "      <td>0.042354</td>\n",
       "      <td>0.015029</td>\n",
       "      <td>0.059739</td>\n",
       "      <td>-0.041938</td>\n",
       "      <td>-0.019826</td>\n",
       "      <td>0.123055</td>\n",
       "      <td>0.037359</td>\n",
       "      <td>-0.006211</td>\n",
       "      <td>...</td>\n",
       "      <td>0.217822</td>\n",
       "      <td>-0.015702</td>\n",
       "      <td>-0.001947</td>\n",
       "      <td>0.000506</td>\n",
       "      <td>0.025847</td>\n",
       "      <td>0.024207</td>\n",
       "      <td>0.002999</td>\n",
       "      <td>-0.003196</td>\n",
       "      <td>-0.018816</td>\n",
       "      <td>0.303282</td>\n",
       "    </tr>\n",
       "    <tr>\n",
       "      <td>first_temp</td>\n",
       "      <td>-0.299293</td>\n",
       "      <td>1.000000</td>\n",
       "      <td>0.055989</td>\n",
       "      <td>0.128459</td>\n",
       "      <td>-0.133758</td>\n",
       "      <td>0.110732</td>\n",
       "      <td>0.067787</td>\n",
       "      <td>-0.149913</td>\n",
       "      <td>0.077733</td>\n",
       "      <td>-0.034562</td>\n",
       "      <td>...</td>\n",
       "      <td>-0.094314</td>\n",
       "      <td>0.057930</td>\n",
       "      <td>-0.122147</td>\n",
       "      <td>-0.008702</td>\n",
       "      <td>0.067927</td>\n",
       "      <td>0.013957</td>\n",
       "      <td>0.047786</td>\n",
       "      <td>-0.031200</td>\n",
       "      <td>0.000913</td>\n",
       "      <td>0.004193</td>\n",
       "    </tr>\n",
       "    <tr>\n",
       "      <td>Bulk 1</td>\n",
       "      <td>0.042354</td>\n",
       "      <td>0.055989</td>\n",
       "      <td>1.000000</td>\n",
       "      <td>0.238128</td>\n",
       "      <td>-0.010556</td>\n",
       "      <td>0.043534</td>\n",
       "      <td>0.066279</td>\n",
       "      <td>0.007453</td>\n",
       "      <td>0.161682</td>\n",
       "      <td>-0.019139</td>\n",
       "      <td>...</td>\n",
       "      <td>0.036781</td>\n",
       "      <td>0.028200</td>\n",
       "      <td>-0.035230</td>\n",
       "      <td>0.023988</td>\n",
       "      <td>0.155414</td>\n",
       "      <td>0.158870</td>\n",
       "      <td>0.088513</td>\n",
       "      <td>-0.018926</td>\n",
       "      <td>0.005606</td>\n",
       "      <td>0.180162</td>\n",
       "    </tr>\n",
       "    <tr>\n",
       "      <td>Bulk 2</td>\n",
       "      <td>0.015029</td>\n",
       "      <td>0.128459</td>\n",
       "      <td>0.238128</td>\n",
       "      <td>1.000000</td>\n",
       "      <td>-0.043891</td>\n",
       "      <td>0.043759</td>\n",
       "      <td>0.360541</td>\n",
       "      <td>-0.028327</td>\n",
       "      <td>0.679064</td>\n",
       "      <td>-0.005091</td>\n",
       "      <td>...</td>\n",
       "      <td>-0.080684</td>\n",
       "      <td>-0.120705</td>\n",
       "      <td>-0.036974</td>\n",
       "      <td>0.223496</td>\n",
       "      <td>0.699406</td>\n",
       "      <td>0.559038</td>\n",
       "      <td>0.431778</td>\n",
       "      <td>-0.005034</td>\n",
       "      <td>-0.006712</td>\n",
       "      <td>0.216398</td>\n",
       "    </tr>\n",
       "    <tr>\n",
       "      <td>Bulk 3</td>\n",
       "      <td>0.059739</td>\n",
       "      <td>-0.133758</td>\n",
       "      <td>-0.010556</td>\n",
       "      <td>-0.043891</td>\n",
       "      <td>1.000000</td>\n",
       "      <td>-0.264342</td>\n",
       "      <td>-0.002101</td>\n",
       "      <td>0.065097</td>\n",
       "      <td>-0.031231</td>\n",
       "      <td>0.014180</td>\n",
       "      <td>...</td>\n",
       "      <td>0.023606</td>\n",
       "      <td>0.059001</td>\n",
       "      <td>0.092182</td>\n",
       "      <td>0.010387</td>\n",
       "      <td>-0.037937</td>\n",
       "      <td>0.011593</td>\n",
       "      <td>-0.018207</td>\n",
       "      <td>0.007661</td>\n",
       "      <td>-0.009185</td>\n",
       "      <td>0.074596</td>\n",
       "    </tr>\n",
       "    <tr>\n",
       "      <td>Bulk 4</td>\n",
       "      <td>-0.041938</td>\n",
       "      <td>0.110732</td>\n",
       "      <td>0.043534</td>\n",
       "      <td>0.043759</td>\n",
       "      <td>-0.264342</td>\n",
       "      <td>1.000000</td>\n",
       "      <td>0.030293</td>\n",
       "      <td>-0.228098</td>\n",
       "      <td>0.048034</td>\n",
       "      <td>0.000111</td>\n",
       "      <td>...</td>\n",
       "      <td>0.135581</td>\n",
       "      <td>0.262698</td>\n",
       "      <td>-0.245435</td>\n",
       "      <td>-0.034106</td>\n",
       "      <td>0.036991</td>\n",
       "      <td>-0.006579</td>\n",
       "      <td>0.034981</td>\n",
       "      <td>0.010795</td>\n",
       "      <td>-0.055504</td>\n",
       "      <td>0.038846</td>\n",
       "    </tr>\n",
       "    <tr>\n",
       "      <td>Bulk 5</td>\n",
       "      <td>-0.019826</td>\n",
       "      <td>0.067787</td>\n",
       "      <td>0.066279</td>\n",
       "      <td>0.360541</td>\n",
       "      <td>-0.002101</td>\n",
       "      <td>0.030293</td>\n",
       "      <td>1.000000</td>\n",
       "      <td>-0.019033</td>\n",
       "      <td>0.288359</td>\n",
       "      <td>-0.008047</td>\n",
       "      <td>...</td>\n",
       "      <td>-0.042793</td>\n",
       "      <td>0.015467</td>\n",
       "      <td>-0.012539</td>\n",
       "      <td>0.071488</td>\n",
       "      <td>0.262999</td>\n",
       "      <td>0.205295</td>\n",
       "      <td>0.172248</td>\n",
       "      <td>-0.007957</td>\n",
       "      <td>-0.010609</td>\n",
       "      <td>0.088860</td>\n",
       "    </tr>\n",
       "    <tr>\n",
       "      <td>Bulk 6</td>\n",
       "      <td>0.123055</td>\n",
       "      <td>-0.149913</td>\n",
       "      <td>0.007453</td>\n",
       "      <td>-0.028327</td>\n",
       "      <td>0.065097</td>\n",
       "      <td>-0.228098</td>\n",
       "      <td>-0.019033</td>\n",
       "      <td>1.000000</td>\n",
       "      <td>-0.023878</td>\n",
       "      <td>-0.027173</td>\n",
       "      <td>...</td>\n",
       "      <td>-0.056089</td>\n",
       "      <td>-0.155540</td>\n",
       "      <td>0.206633</td>\n",
       "      <td>-0.043938</td>\n",
       "      <td>-0.024485</td>\n",
       "      <td>-0.017525</td>\n",
       "      <td>-0.011751</td>\n",
       "      <td>-0.026870</td>\n",
       "      <td>-0.016708</td>\n",
       "      <td>0.152742</td>\n",
       "    </tr>\n",
       "    <tr>\n",
       "      <td>Bulk 7</td>\n",
       "      <td>0.037359</td>\n",
       "      <td>0.077733</td>\n",
       "      <td>0.161682</td>\n",
       "      <td>0.679064</td>\n",
       "      <td>-0.031231</td>\n",
       "      <td>0.048034</td>\n",
       "      <td>0.288359</td>\n",
       "      <td>-0.023878</td>\n",
       "      <td>1.000000</td>\n",
       "      <td>-0.004506</td>\n",
       "      <td>...</td>\n",
       "      <td>-0.071413</td>\n",
       "      <td>-0.103348</td>\n",
       "      <td>0.000526</td>\n",
       "      <td>0.156759</td>\n",
       "      <td>0.740238</td>\n",
       "      <td>0.455976</td>\n",
       "      <td>0.372106</td>\n",
       "      <td>-0.004456</td>\n",
       "      <td>-0.005941</td>\n",
       "      <td>0.197329</td>\n",
       "    </tr>\n",
       "    <tr>\n",
       "      <td>Bulk 9</td>\n",
       "      <td>-0.006211</td>\n",
       "      <td>-0.034562</td>\n",
       "      <td>-0.019139</td>\n",
       "      <td>-0.005091</td>\n",
       "      <td>0.014180</td>\n",
       "      <td>0.000111</td>\n",
       "      <td>-0.008047</td>\n",
       "      <td>-0.027173</td>\n",
       "      <td>-0.004506</td>\n",
       "      <td>1.000000</td>\n",
       "      <td>...</td>\n",
       "      <td>-0.070109</td>\n",
       "      <td>-0.010201</td>\n",
       "      <td>0.067668</td>\n",
       "      <td>-0.007905</td>\n",
       "      <td>-0.004401</td>\n",
       "      <td>-0.007689</td>\n",
       "      <td>-0.002112</td>\n",
       "      <td>0.974974</td>\n",
       "      <td>-0.006439</td>\n",
       "      <td>0.116886</td>\n",
       "    </tr>\n",
       "    <tr>\n",
       "      <td>Bulk 10</td>\n",
       "      <td>-0.007549</td>\n",
       "      <td>0.018828</td>\n",
       "      <td>-0.018380</td>\n",
       "      <td>-0.017107</td>\n",
       "      <td>-0.077788</td>\n",
       "      <td>-0.077723</td>\n",
       "      <td>-0.027040</td>\n",
       "      <td>-0.091304</td>\n",
       "      <td>-0.015141</td>\n",
       "      <td>-0.016410</td>\n",
       "      <td>...</td>\n",
       "      <td>0.051909</td>\n",
       "      <td>0.075434</td>\n",
       "      <td>-0.096547</td>\n",
       "      <td>-0.026562</td>\n",
       "      <td>-0.014786</td>\n",
       "      <td>-0.016405</td>\n",
       "      <td>-0.007096</td>\n",
       "      <td>-0.016227</td>\n",
       "      <td>-0.021634</td>\n",
       "      <td>0.000083</td>\n",
       "    </tr>\n",
       "    <tr>\n",
       "      <td>Bulk 11</td>\n",
       "      <td>0.061976</td>\n",
       "      <td>-0.112585</td>\n",
       "      <td>-0.034874</td>\n",
       "      <td>0.002333</td>\n",
       "      <td>0.001818</td>\n",
       "      <td>-0.109629</td>\n",
       "      <td>-0.014556</td>\n",
       "      <td>0.198810</td>\n",
       "      <td>-0.004300</td>\n",
       "      <td>-0.012725</td>\n",
       "      <td>...</td>\n",
       "      <td>-0.027674</td>\n",
       "      <td>-0.062721</td>\n",
       "      <td>0.064285</td>\n",
       "      <td>-0.020591</td>\n",
       "      <td>-0.011466</td>\n",
       "      <td>0.010012</td>\n",
       "      <td>-0.005503</td>\n",
       "      <td>-0.012583</td>\n",
       "      <td>-0.016777</td>\n",
       "      <td>0.049614</td>\n",
       "    </tr>\n",
       "    <tr>\n",
       "      <td>Bulk 12</td>\n",
       "      <td>0.372306</td>\n",
       "      <td>-0.046516</td>\n",
       "      <td>0.240927</td>\n",
       "      <td>-0.079704</td>\n",
       "      <td>0.021912</td>\n",
       "      <td>0.113241</td>\n",
       "      <td>-0.051407</td>\n",
       "      <td>-0.074849</td>\n",
       "      <td>-0.070545</td>\n",
       "      <td>-0.043840</td>\n",
       "      <td>...</td>\n",
       "      <td>0.676471</td>\n",
       "      <td>0.131855</td>\n",
       "      <td>-0.113160</td>\n",
       "      <td>-0.097221</td>\n",
       "      <td>-0.068892</td>\n",
       "      <td>-0.045915</td>\n",
       "      <td>-0.033063</td>\n",
       "      <td>-0.042056</td>\n",
       "      <td>-0.043430</td>\n",
       "      <td>0.156608</td>\n",
       "    </tr>\n",
       "    <tr>\n",
       "      <td>Bulk 13</td>\n",
       "      <td>0.165014</td>\n",
       "      <td>0.015293</td>\n",
       "      <td>-0.009089</td>\n",
       "      <td>-0.005339</td>\n",
       "      <td>-0.010394</td>\n",
       "      <td>0.006377</td>\n",
       "      <td>-0.008439</td>\n",
       "      <td>0.044861</td>\n",
       "      <td>-0.004725</td>\n",
       "      <td>-0.005121</td>\n",
       "      <td>...</td>\n",
       "      <td>0.034341</td>\n",
       "      <td>0.023010</td>\n",
       "      <td>0.000319</td>\n",
       "      <td>-0.008289</td>\n",
       "      <td>-0.004614</td>\n",
       "      <td>-0.008062</td>\n",
       "      <td>-0.002215</td>\n",
       "      <td>-0.005064</td>\n",
       "      <td>-0.006752</td>\n",
       "      <td>0.050399</td>\n",
       "    </tr>\n",
       "    <tr>\n",
       "      <td>Bulk 14</td>\n",
       "      <td>0.302741</td>\n",
       "      <td>-0.126842</td>\n",
       "      <td>0.149098</td>\n",
       "      <td>-0.098832</td>\n",
       "      <td>0.025511</td>\n",
       "      <td>-0.023386</td>\n",
       "      <td>-0.033017</td>\n",
       "      <td>0.161760</td>\n",
       "      <td>-0.087476</td>\n",
       "      <td>0.026183</td>\n",
       "      <td>...</td>\n",
       "      <td>0.446061</td>\n",
       "      <td>0.010964</td>\n",
       "      <td>0.020689</td>\n",
       "      <td>0.004213</td>\n",
       "      <td>-0.085425</td>\n",
       "      <td>-0.056355</td>\n",
       "      <td>-0.040998</td>\n",
       "      <td>0.026085</td>\n",
       "      <td>0.001798</td>\n",
       "      <td>0.201873</td>\n",
       "    </tr>\n",
       "    <tr>\n",
       "      <td>Bulk 15</td>\n",
       "      <td>0.217822</td>\n",
       "      <td>-0.094314</td>\n",
       "      <td>0.036781</td>\n",
       "      <td>-0.080684</td>\n",
       "      <td>0.023606</td>\n",
       "      <td>0.135581</td>\n",
       "      <td>-0.042793</td>\n",
       "      <td>-0.056089</td>\n",
       "      <td>-0.071413</td>\n",
       "      <td>-0.070109</td>\n",
       "      <td>...</td>\n",
       "      <td>1.000000</td>\n",
       "      <td>0.152169</td>\n",
       "      <td>-0.054852</td>\n",
       "      <td>-0.091658</td>\n",
       "      <td>-0.069739</td>\n",
       "      <td>-0.033334</td>\n",
       "      <td>-0.033470</td>\n",
       "      <td>-0.067000</td>\n",
       "      <td>-0.037960</td>\n",
       "      <td>0.076807</td>\n",
       "    </tr>\n",
       "    <tr>\n",
       "      <td>Wire 1</td>\n",
       "      <td>-0.015702</td>\n",
       "      <td>0.057930</td>\n",
       "      <td>0.028200</td>\n",
       "      <td>-0.120705</td>\n",
       "      <td>0.059001</td>\n",
       "      <td>0.262698</td>\n",
       "      <td>0.015467</td>\n",
       "      <td>-0.155540</td>\n",
       "      <td>-0.103348</td>\n",
       "      <td>-0.010201</td>\n",
       "      <td>...</td>\n",
       "      <td>0.152169</td>\n",
       "      <td>1.000000</td>\n",
       "      <td>0.013219</td>\n",
       "      <td>0.033716</td>\n",
       "      <td>-0.100701</td>\n",
       "      <td>-0.107932</td>\n",
       "      <td>-0.047812</td>\n",
       "      <td>-0.002467</td>\n",
       "      <td>0.032094</td>\n",
       "      <td>0.098425</td>\n",
       "    </tr>\n",
       "    <tr>\n",
       "      <td>Wire 2</td>\n",
       "      <td>-0.001947</td>\n",
       "      <td>-0.122147</td>\n",
       "      <td>-0.035230</td>\n",
       "      <td>-0.036974</td>\n",
       "      <td>0.092182</td>\n",
       "      <td>-0.245435</td>\n",
       "      <td>-0.012539</td>\n",
       "      <td>0.206633</td>\n",
       "      <td>0.000526</td>\n",
       "      <td>0.067668</td>\n",
       "      <td>...</td>\n",
       "      <td>-0.054852</td>\n",
       "      <td>0.013219</td>\n",
       "      <td>1.000000</td>\n",
       "      <td>0.095711</td>\n",
       "      <td>-0.031958</td>\n",
       "      <td>-0.055546</td>\n",
       "      <td>-0.015338</td>\n",
       "      <td>0.070163</td>\n",
       "      <td>0.222789</td>\n",
       "      <td>0.113804</td>\n",
       "    </tr>\n",
       "    <tr>\n",
       "      <td>Wire 3</td>\n",
       "      <td>0.000506</td>\n",
       "      <td>-0.008702</td>\n",
       "      <td>0.023988</td>\n",
       "      <td>0.223496</td>\n",
       "      <td>0.010387</td>\n",
       "      <td>-0.034106</td>\n",
       "      <td>0.071488</td>\n",
       "      <td>-0.043938</td>\n",
       "      <td>0.156759</td>\n",
       "      <td>-0.007905</td>\n",
       "      <td>...</td>\n",
       "      <td>-0.091658</td>\n",
       "      <td>0.033716</td>\n",
       "      <td>0.095711</td>\n",
       "      <td>1.000000</td>\n",
       "      <td>0.170079</td>\n",
       "      <td>0.183936</td>\n",
       "      <td>0.100521</td>\n",
       "      <td>-0.007817</td>\n",
       "      <td>-0.010422</td>\n",
       "      <td>0.105052</td>\n",
       "    </tr>\n",
       "    <tr>\n",
       "      <td>Wire 4</td>\n",
       "      <td>0.025847</td>\n",
       "      <td>0.067927</td>\n",
       "      <td>0.155414</td>\n",
       "      <td>0.699406</td>\n",
       "      <td>-0.037937</td>\n",
       "      <td>0.036991</td>\n",
       "      <td>0.262999</td>\n",
       "      <td>-0.024485</td>\n",
       "      <td>0.740238</td>\n",
       "      <td>-0.004401</td>\n",
       "      <td>...</td>\n",
       "      <td>-0.069739</td>\n",
       "      <td>-0.100701</td>\n",
       "      <td>-0.031958</td>\n",
       "      <td>0.170079</td>\n",
       "      <td>1.000000</td>\n",
       "      <td>0.446118</td>\n",
       "      <td>0.602985</td>\n",
       "      <td>-0.004351</td>\n",
       "      <td>-0.005802</td>\n",
       "      <td>0.145131</td>\n",
       "    </tr>\n",
       "    <tr>\n",
       "      <td>Wire 6</td>\n",
       "      <td>0.024207</td>\n",
       "      <td>0.013957</td>\n",
       "      <td>0.158870</td>\n",
       "      <td>0.559038</td>\n",
       "      <td>0.011593</td>\n",
       "      <td>-0.006579</td>\n",
       "      <td>0.205295</td>\n",
       "      <td>-0.017525</td>\n",
       "      <td>0.455976</td>\n",
       "      <td>-0.007689</td>\n",
       "      <td>...</td>\n",
       "      <td>-0.033334</td>\n",
       "      <td>-0.107932</td>\n",
       "      <td>-0.055546</td>\n",
       "      <td>0.183936</td>\n",
       "      <td>0.446118</td>\n",
       "      <td>1.000000</td>\n",
       "      <td>0.302806</td>\n",
       "      <td>-0.007603</td>\n",
       "      <td>-0.010136</td>\n",
       "      <td>0.109609</td>\n",
       "    </tr>\n",
       "    <tr>\n",
       "      <td>Wire 7</td>\n",
       "      <td>0.002999</td>\n",
       "      <td>0.047786</td>\n",
       "      <td>0.088513</td>\n",
       "      <td>0.431778</td>\n",
       "      <td>-0.018207</td>\n",
       "      <td>0.034981</td>\n",
       "      <td>0.172248</td>\n",
       "      <td>-0.011751</td>\n",
       "      <td>0.372106</td>\n",
       "      <td>-0.002112</td>\n",
       "      <td>...</td>\n",
       "      <td>-0.033470</td>\n",
       "      <td>-0.047812</td>\n",
       "      <td>-0.015338</td>\n",
       "      <td>0.100521</td>\n",
       "      <td>0.602985</td>\n",
       "      <td>0.302806</td>\n",
       "      <td>1.000000</td>\n",
       "      <td>-0.002088</td>\n",
       "      <td>-0.002784</td>\n",
       "      <td>0.078696</td>\n",
       "    </tr>\n",
       "    <tr>\n",
       "      <td>Wire 8</td>\n",
       "      <td>-0.003196</td>\n",
       "      <td>-0.031200</td>\n",
       "      <td>-0.018926</td>\n",
       "      <td>-0.005034</td>\n",
       "      <td>0.007661</td>\n",
       "      <td>0.010795</td>\n",
       "      <td>-0.007957</td>\n",
       "      <td>-0.026870</td>\n",
       "      <td>-0.004456</td>\n",
       "      <td>0.974974</td>\n",
       "      <td>...</td>\n",
       "      <td>-0.067000</td>\n",
       "      <td>-0.002467</td>\n",
       "      <td>0.070163</td>\n",
       "      <td>-0.007817</td>\n",
       "      <td>-0.004351</td>\n",
       "      <td>-0.007603</td>\n",
       "      <td>-0.002088</td>\n",
       "      <td>1.000000</td>\n",
       "      <td>-0.006367</td>\n",
       "      <td>0.118334</td>\n",
       "    </tr>\n",
       "    <tr>\n",
       "      <td>Wire 9</td>\n",
       "      <td>-0.018816</td>\n",
       "      <td>0.000913</td>\n",
       "      <td>0.005606</td>\n",
       "      <td>-0.006712</td>\n",
       "      <td>-0.009185</td>\n",
       "      <td>-0.055504</td>\n",
       "      <td>-0.010609</td>\n",
       "      <td>-0.016708</td>\n",
       "      <td>-0.005941</td>\n",
       "      <td>-0.006439</td>\n",
       "      <td>...</td>\n",
       "      <td>-0.037960</td>\n",
       "      <td>0.032094</td>\n",
       "      <td>0.222789</td>\n",
       "      <td>-0.010422</td>\n",
       "      <td>-0.005802</td>\n",
       "      <td>-0.010136</td>\n",
       "      <td>-0.002784</td>\n",
       "      <td>-0.006367</td>\n",
       "      <td>1.000000</td>\n",
       "      <td>0.004957</td>\n",
       "    </tr>\n",
       "    <tr>\n",
       "      <td>gas_1</td>\n",
       "      <td>0.303282</td>\n",
       "      <td>0.004193</td>\n",
       "      <td>0.180162</td>\n",
       "      <td>0.216398</td>\n",
       "      <td>0.074596</td>\n",
       "      <td>0.038846</td>\n",
       "      <td>0.088860</td>\n",
       "      <td>0.152742</td>\n",
       "      <td>0.197329</td>\n",
       "      <td>0.116886</td>\n",
       "      <td>...</td>\n",
       "      <td>0.076807</td>\n",
       "      <td>0.098425</td>\n",
       "      <td>0.113804</td>\n",
       "      <td>0.105052</td>\n",
       "      <td>0.145131</td>\n",
       "      <td>0.109609</td>\n",
       "      <td>0.078696</td>\n",
       "      <td>0.118334</td>\n",
       "      <td>0.004957</td>\n",
       "      <td>1.000000</td>\n",
       "    </tr>\n",
       "  </tbody>\n",
       "</table>\n",
       "<p>25 rows × 25 columns</p>\n",
       "</div>"
      ],
      "text/plain": [
       "              energy  first_temp    Bulk 1    Bulk 2    Bulk 3    Bulk 4  \\\n",
       "energy      1.000000   -0.299293  0.042354  0.015029  0.059739 -0.041938   \n",
       "first_temp -0.299293    1.000000  0.055989  0.128459 -0.133758  0.110732   \n",
       "Bulk 1      0.042354    0.055989  1.000000  0.238128 -0.010556  0.043534   \n",
       "Bulk 2      0.015029    0.128459  0.238128  1.000000 -0.043891  0.043759   \n",
       "Bulk 3      0.059739   -0.133758 -0.010556 -0.043891  1.000000 -0.264342   \n",
       "Bulk 4     -0.041938    0.110732  0.043534  0.043759 -0.264342  1.000000   \n",
       "Bulk 5     -0.019826    0.067787  0.066279  0.360541 -0.002101  0.030293   \n",
       "Bulk 6      0.123055   -0.149913  0.007453 -0.028327  0.065097 -0.228098   \n",
       "Bulk 7      0.037359    0.077733  0.161682  0.679064 -0.031231  0.048034   \n",
       "Bulk 9     -0.006211   -0.034562 -0.019139 -0.005091  0.014180  0.000111   \n",
       "Bulk 10    -0.007549    0.018828 -0.018380 -0.017107 -0.077788 -0.077723   \n",
       "Bulk 11     0.061976   -0.112585 -0.034874  0.002333  0.001818 -0.109629   \n",
       "Bulk 12     0.372306   -0.046516  0.240927 -0.079704  0.021912  0.113241   \n",
       "Bulk 13     0.165014    0.015293 -0.009089 -0.005339 -0.010394  0.006377   \n",
       "Bulk 14     0.302741   -0.126842  0.149098 -0.098832  0.025511 -0.023386   \n",
       "Bulk 15     0.217822   -0.094314  0.036781 -0.080684  0.023606  0.135581   \n",
       "Wire 1     -0.015702    0.057930  0.028200 -0.120705  0.059001  0.262698   \n",
       "Wire 2     -0.001947   -0.122147 -0.035230 -0.036974  0.092182 -0.245435   \n",
       "Wire 3      0.000506   -0.008702  0.023988  0.223496  0.010387 -0.034106   \n",
       "Wire 4      0.025847    0.067927  0.155414  0.699406 -0.037937  0.036991   \n",
       "Wire 6      0.024207    0.013957  0.158870  0.559038  0.011593 -0.006579   \n",
       "Wire 7      0.002999    0.047786  0.088513  0.431778 -0.018207  0.034981   \n",
       "Wire 8     -0.003196   -0.031200 -0.018926 -0.005034  0.007661  0.010795   \n",
       "Wire 9     -0.018816    0.000913  0.005606 -0.006712 -0.009185 -0.055504   \n",
       "gas_1       0.303282    0.004193  0.180162  0.216398  0.074596  0.038846   \n",
       "\n",
       "              Bulk 5    Bulk 6    Bulk 7    Bulk 9  ...   Bulk 15    Wire 1  \\\n",
       "energy     -0.019826  0.123055  0.037359 -0.006211  ...  0.217822 -0.015702   \n",
       "first_temp  0.067787 -0.149913  0.077733 -0.034562  ... -0.094314  0.057930   \n",
       "Bulk 1      0.066279  0.007453  0.161682 -0.019139  ...  0.036781  0.028200   \n",
       "Bulk 2      0.360541 -0.028327  0.679064 -0.005091  ... -0.080684 -0.120705   \n",
       "Bulk 3     -0.002101  0.065097 -0.031231  0.014180  ...  0.023606  0.059001   \n",
       "Bulk 4      0.030293 -0.228098  0.048034  0.000111  ...  0.135581  0.262698   \n",
       "Bulk 5      1.000000 -0.019033  0.288359 -0.008047  ... -0.042793  0.015467   \n",
       "Bulk 6     -0.019033  1.000000 -0.023878 -0.027173  ... -0.056089 -0.155540   \n",
       "Bulk 7      0.288359 -0.023878  1.000000 -0.004506  ... -0.071413 -0.103348   \n",
       "Bulk 9     -0.008047 -0.027173 -0.004506  1.000000  ... -0.070109 -0.010201   \n",
       "Bulk 10    -0.027040 -0.091304 -0.015141 -0.016410  ...  0.051909  0.075434   \n",
       "Bulk 11    -0.014556  0.198810 -0.004300 -0.012725  ... -0.027674 -0.062721   \n",
       "Bulk 12    -0.051407 -0.074849 -0.070545 -0.043840  ...  0.676471  0.131855   \n",
       "Bulk 13    -0.008439  0.044861 -0.004725 -0.005121  ...  0.034341  0.023010   \n",
       "Bulk 14    -0.033017  0.161760 -0.087476  0.026183  ...  0.446061  0.010964   \n",
       "Bulk 15    -0.042793 -0.056089 -0.071413 -0.070109  ...  1.000000  0.152169   \n",
       "Wire 1      0.015467 -0.155540 -0.103348 -0.010201  ...  0.152169  1.000000   \n",
       "Wire 2     -0.012539  0.206633  0.000526  0.067668  ... -0.054852  0.013219   \n",
       "Wire 3      0.071488 -0.043938  0.156759 -0.007905  ... -0.091658  0.033716   \n",
       "Wire 4      0.262999 -0.024485  0.740238 -0.004401  ... -0.069739 -0.100701   \n",
       "Wire 6      0.205295 -0.017525  0.455976 -0.007689  ... -0.033334 -0.107932   \n",
       "Wire 7      0.172248 -0.011751  0.372106 -0.002112  ... -0.033470 -0.047812   \n",
       "Wire 8     -0.007957 -0.026870 -0.004456  0.974974  ... -0.067000 -0.002467   \n",
       "Wire 9     -0.010609 -0.016708 -0.005941 -0.006439  ... -0.037960  0.032094   \n",
       "gas_1       0.088860  0.152742  0.197329  0.116886  ...  0.076807  0.098425   \n",
       "\n",
       "              Wire 2    Wire 3    Wire 4    Wire 6    Wire 7    Wire 8  \\\n",
       "energy     -0.001947  0.000506  0.025847  0.024207  0.002999 -0.003196   \n",
       "first_temp -0.122147 -0.008702  0.067927  0.013957  0.047786 -0.031200   \n",
       "Bulk 1     -0.035230  0.023988  0.155414  0.158870  0.088513 -0.018926   \n",
       "Bulk 2     -0.036974  0.223496  0.699406  0.559038  0.431778 -0.005034   \n",
       "Bulk 3      0.092182  0.010387 -0.037937  0.011593 -0.018207  0.007661   \n",
       "Bulk 4     -0.245435 -0.034106  0.036991 -0.006579  0.034981  0.010795   \n",
       "Bulk 5     -0.012539  0.071488  0.262999  0.205295  0.172248 -0.007957   \n",
       "Bulk 6      0.206633 -0.043938 -0.024485 -0.017525 -0.011751 -0.026870   \n",
       "Bulk 7      0.000526  0.156759  0.740238  0.455976  0.372106 -0.004456   \n",
       "Bulk 9      0.067668 -0.007905 -0.004401 -0.007689 -0.002112  0.974974   \n",
       "Bulk 10    -0.096547 -0.026562 -0.014786 -0.016405 -0.007096 -0.016227   \n",
       "Bulk 11     0.064285 -0.020591 -0.011466  0.010012 -0.005503 -0.012583   \n",
       "Bulk 12    -0.113160 -0.097221 -0.068892 -0.045915 -0.033063 -0.042056   \n",
       "Bulk 13     0.000319 -0.008289 -0.004614 -0.008062 -0.002215 -0.005064   \n",
       "Bulk 14     0.020689  0.004213 -0.085425 -0.056355 -0.040998  0.026085   \n",
       "Bulk 15    -0.054852 -0.091658 -0.069739 -0.033334 -0.033470 -0.067000   \n",
       "Wire 1      0.013219  0.033716 -0.100701 -0.107932 -0.047812 -0.002467   \n",
       "Wire 2      1.000000  0.095711 -0.031958 -0.055546 -0.015338  0.070163   \n",
       "Wire 3      0.095711  1.000000  0.170079  0.183936  0.100521 -0.007817   \n",
       "Wire 4     -0.031958  0.170079  1.000000  0.446118  0.602985 -0.004351   \n",
       "Wire 6     -0.055546  0.183936  0.446118  1.000000  0.302806 -0.007603   \n",
       "Wire 7     -0.015338  0.100521  0.602985  0.302806  1.000000 -0.002088   \n",
       "Wire 8      0.070163 -0.007817 -0.004351 -0.007603 -0.002088  1.000000   \n",
       "Wire 9      0.222789 -0.010422 -0.005802 -0.010136 -0.002784 -0.006367   \n",
       "gas_1       0.113804  0.105052  0.145131  0.109609  0.078696  0.118334   \n",
       "\n",
       "              Wire 9     gas_1  \n",
       "energy     -0.018816  0.303282  \n",
       "first_temp  0.000913  0.004193  \n",
       "Bulk 1      0.005606  0.180162  \n",
       "Bulk 2     -0.006712  0.216398  \n",
       "Bulk 3     -0.009185  0.074596  \n",
       "Bulk 4     -0.055504  0.038846  \n",
       "Bulk 5     -0.010609  0.088860  \n",
       "Bulk 6     -0.016708  0.152742  \n",
       "Bulk 7     -0.005941  0.197329  \n",
       "Bulk 9     -0.006439  0.116886  \n",
       "Bulk 10    -0.021634  0.000083  \n",
       "Bulk 11    -0.016777  0.049614  \n",
       "Bulk 12    -0.043430  0.156608  \n",
       "Bulk 13    -0.006752  0.050399  \n",
       "Bulk 14     0.001798  0.201873  \n",
       "Bulk 15    -0.037960  0.076807  \n",
       "Wire 1      0.032094  0.098425  \n",
       "Wire 2      0.222789  0.113804  \n",
       "Wire 3     -0.010422  0.105052  \n",
       "Wire 4     -0.005802  0.145131  \n",
       "Wire 6     -0.010136  0.109609  \n",
       "Wire 7     -0.002784  0.078696  \n",
       "Wire 8     -0.006367  0.118334  \n",
       "Wire 9      1.000000  0.004957  \n",
       "gas_1       0.004957  1.000000  \n",
       "\n",
       "[25 rows x 25 columns]"
      ]
     },
     "execution_count": 124,
     "metadata": {},
     "output_type": "execute_result"
    }
   ],
   "source": [
    "corr_table = x.corr()\n",
    "corr_table"
   ]
  },
  {
   "cell_type": "markdown",
   "metadata": {},
   "source": [
    "Таблица довольно большая и неудобная для анализа. Оставим в таблице только те столбцы, где имеются коэффициенты корреляции больше 0,8, не считая корреляции признака самого на себя (коэфф. корреляции при этом равен 1). Выведим полученный результат (таблица corr_table_cut)."
   ]
  },
  {
   "cell_type": "code",
   "execution_count": 125,
   "metadata": {},
   "outputs": [
    {
     "data": {
      "text/html": [
       "<div>\n",
       "<style scoped>\n",
       "    .dataframe tbody tr th:only-of-type {\n",
       "        vertical-align: middle;\n",
       "    }\n",
       "\n",
       "    .dataframe tbody tr th {\n",
       "        vertical-align: top;\n",
       "    }\n",
       "\n",
       "    .dataframe thead th {\n",
       "        text-align: right;\n",
       "    }\n",
       "</style>\n",
       "<table border=\"1\" class=\"dataframe\">\n",
       "  <thead>\n",
       "    <tr style=\"text-align: right;\">\n",
       "      <th></th>\n",
       "      <th>Bulk 9</th>\n",
       "      <th>Wire 8</th>\n",
       "    </tr>\n",
       "  </thead>\n",
       "  <tbody>\n",
       "    <tr>\n",
       "      <td>energy</td>\n",
       "      <td>NaN</td>\n",
       "      <td>NaN</td>\n",
       "    </tr>\n",
       "    <tr>\n",
       "      <td>first_temp</td>\n",
       "      <td>NaN</td>\n",
       "      <td>NaN</td>\n",
       "    </tr>\n",
       "    <tr>\n",
       "      <td>Bulk 1</td>\n",
       "      <td>NaN</td>\n",
       "      <td>NaN</td>\n",
       "    </tr>\n",
       "    <tr>\n",
       "      <td>Bulk 2</td>\n",
       "      <td>NaN</td>\n",
       "      <td>NaN</td>\n",
       "    </tr>\n",
       "    <tr>\n",
       "      <td>Bulk 3</td>\n",
       "      <td>NaN</td>\n",
       "      <td>NaN</td>\n",
       "    </tr>\n",
       "    <tr>\n",
       "      <td>Bulk 4</td>\n",
       "      <td>NaN</td>\n",
       "      <td>NaN</td>\n",
       "    </tr>\n",
       "    <tr>\n",
       "      <td>Bulk 5</td>\n",
       "      <td>NaN</td>\n",
       "      <td>NaN</td>\n",
       "    </tr>\n",
       "    <tr>\n",
       "      <td>Bulk 6</td>\n",
       "      <td>NaN</td>\n",
       "      <td>NaN</td>\n",
       "    </tr>\n",
       "    <tr>\n",
       "      <td>Bulk 7</td>\n",
       "      <td>NaN</td>\n",
       "      <td>NaN</td>\n",
       "    </tr>\n",
       "    <tr>\n",
       "      <td>Bulk 9</td>\n",
       "      <td>NaN</td>\n",
       "      <td>0.974974</td>\n",
       "    </tr>\n",
       "    <tr>\n",
       "      <td>Bulk 10</td>\n",
       "      <td>NaN</td>\n",
       "      <td>NaN</td>\n",
       "    </tr>\n",
       "    <tr>\n",
       "      <td>Bulk 11</td>\n",
       "      <td>NaN</td>\n",
       "      <td>NaN</td>\n",
       "    </tr>\n",
       "    <tr>\n",
       "      <td>Bulk 12</td>\n",
       "      <td>NaN</td>\n",
       "      <td>NaN</td>\n",
       "    </tr>\n",
       "    <tr>\n",
       "      <td>Bulk 13</td>\n",
       "      <td>NaN</td>\n",
       "      <td>NaN</td>\n",
       "    </tr>\n",
       "    <tr>\n",
       "      <td>Bulk 14</td>\n",
       "      <td>NaN</td>\n",
       "      <td>NaN</td>\n",
       "    </tr>\n",
       "    <tr>\n",
       "      <td>Bulk 15</td>\n",
       "      <td>NaN</td>\n",
       "      <td>NaN</td>\n",
       "    </tr>\n",
       "    <tr>\n",
       "      <td>Wire 1</td>\n",
       "      <td>NaN</td>\n",
       "      <td>NaN</td>\n",
       "    </tr>\n",
       "    <tr>\n",
       "      <td>Wire 2</td>\n",
       "      <td>NaN</td>\n",
       "      <td>NaN</td>\n",
       "    </tr>\n",
       "    <tr>\n",
       "      <td>Wire 3</td>\n",
       "      <td>NaN</td>\n",
       "      <td>NaN</td>\n",
       "    </tr>\n",
       "    <tr>\n",
       "      <td>Wire 4</td>\n",
       "      <td>NaN</td>\n",
       "      <td>NaN</td>\n",
       "    </tr>\n",
       "    <tr>\n",
       "      <td>Wire 6</td>\n",
       "      <td>NaN</td>\n",
       "      <td>NaN</td>\n",
       "    </tr>\n",
       "    <tr>\n",
       "      <td>Wire 7</td>\n",
       "      <td>NaN</td>\n",
       "      <td>NaN</td>\n",
       "    </tr>\n",
       "    <tr>\n",
       "      <td>Wire 8</td>\n",
       "      <td>0.974974</td>\n",
       "      <td>NaN</td>\n",
       "    </tr>\n",
       "    <tr>\n",
       "      <td>Wire 9</td>\n",
       "      <td>NaN</td>\n",
       "      <td>NaN</td>\n",
       "    </tr>\n",
       "    <tr>\n",
       "      <td>gas_1</td>\n",
       "      <td>NaN</td>\n",
       "      <td>NaN</td>\n",
       "    </tr>\n",
       "  </tbody>\n",
       "</table>\n",
       "</div>"
      ],
      "text/plain": [
       "              Bulk 9    Wire 8\n",
       "energy           NaN       NaN\n",
       "first_temp       NaN       NaN\n",
       "Bulk 1           NaN       NaN\n",
       "Bulk 2           NaN       NaN\n",
       "Bulk 3           NaN       NaN\n",
       "Bulk 4           NaN       NaN\n",
       "Bulk 5           NaN       NaN\n",
       "Bulk 6           NaN       NaN\n",
       "Bulk 7           NaN       NaN\n",
       "Bulk 9           NaN  0.974974\n",
       "Bulk 10          NaN       NaN\n",
       "Bulk 11          NaN       NaN\n",
       "Bulk 12          NaN       NaN\n",
       "Bulk 13          NaN       NaN\n",
       "Bulk 14          NaN       NaN\n",
       "Bulk 15          NaN       NaN\n",
       "Wire 1           NaN       NaN\n",
       "Wire 2           NaN       NaN\n",
       "Wire 3           NaN       NaN\n",
       "Wire 4           NaN       NaN\n",
       "Wire 6           NaN       NaN\n",
       "Wire 7           NaN       NaN\n",
       "Wire 8      0.974974       NaN\n",
       "Wire 9           NaN       NaN\n",
       "gas_1            NaN       NaN"
      ]
     },
     "execution_count": 125,
     "metadata": {},
     "output_type": "execute_result"
    }
   ],
   "source": [
    "corr_table_cut = corr_table[(corr_table !=1) & (corr_table > 0.8)].dropna(axis=1, how=\"all\")\n",
    "corr_table_cut"
   ]
  },
  {
   "cell_type": "markdown",
   "metadata": {},
   "source": [
    "У пары признаков Wire 8 и Bulk 9 очень высокий коэффициент корреляции между собой (0,975). Таким образом, они взаимозаменяемы. С другой стороны, исходя из оценки важности признаков (см. подраздел 5.1), оба признака являются кандидатами на удаление."
   ]
  },
  {
   "cell_type": "markdown",
   "metadata": {},
   "source": [
    "Удалим признаки с низкой важностью."
   ]
  },
  {
   "cell_type": "code",
   "execution_count": 126,
   "metadata": {},
   "outputs": [],
   "source": [
    "data_all_cut = data_all.drop([\"Bulk 9\", \"Wire 7\", \"Wire 8\", \"Wire 9\"], axis=1)"
   ]
  },
  {
   "cell_type": "markdown",
   "metadata": {},
   "source": [
    "Проконтролируем полученный результат."
   ]
  },
  {
   "cell_type": "code",
   "execution_count": 127,
   "metadata": {},
   "outputs": [
    {
     "name": "stdout",
     "output_type": "stream",
     "text": [
      "<class 'pandas.core.frame.DataFrame'>\n",
      "Int64Index: 2439 entries, 0 to 2438\n",
      "Data columns (total 22 columns):\n",
      "energy        2439 non-null float64\n",
      "first_temp    2439 non-null float64\n",
      "Bulk 1        2439 non-null float64\n",
      "Bulk 2        2439 non-null float64\n",
      "Bulk 3        2439 non-null float64\n",
      "Bulk 4        2439 non-null float64\n",
      "Bulk 5        2439 non-null float64\n",
      "Bulk 6        2439 non-null float64\n",
      "Bulk 7        2439 non-null float64\n",
      "Bulk 10       2439 non-null float64\n",
      "Bulk 11       2439 non-null float64\n",
      "Bulk 12       2439 non-null float64\n",
      "Bulk 13       2439 non-null float64\n",
      "Bulk 14       2439 non-null float64\n",
      "Bulk 15       2439 non-null float64\n",
      "Wire 1        2439 non-null float64\n",
      "Wire 2        2439 non-null float64\n",
      "Wire 3        2439 non-null float64\n",
      "Wire 4        2439 non-null float64\n",
      "Wire 6        2439 non-null float64\n",
      "gas_1         2439 non-null float64\n",
      "last_temp     2439 non-null float64\n",
      "dtypes: float64(22)\n",
      "memory usage: 438.3 KB\n"
     ]
    }
   ],
   "source": [
    "data_all_cut.info()"
   ]
  },
  {
   "cell_type": "markdown",
   "metadata": {},
   "source": [
    "### Тестирование оптимизированных моделей"
   ]
  },
  {
   "cell_type": "markdown",
   "metadata": {},
   "source": [
    "Выполним тестирование оптимизированных моделей."
   ]
  },
  {
   "cell_type": "code",
   "execution_count": 128,
   "metadata": {},
   "outputs": [],
   "source": [
    "x_1 = data_all_cut.drop(\"last_temp\", axis=1)\n",
    "y_1 = data_all_cut[\"last_temp\"]\n",
    "x_train_1, x_test_1, y_train_1, y_test_1 = train_test_split(x_1, y_1, test_size=0.25, random_state=56789)"
   ]
  },
  {
   "cell_type": "markdown",
   "metadata": {},
   "source": [
    "Получим метрику MAE для модели случайного леса с лучшими подобранными гиперпараметрами (см. подраздел 3.3)."
   ]
  },
  {
   "cell_type": "code",
   "execution_count": 129,
   "metadata": {},
   "outputs": [
    {
     "data": {
      "text/plain": [
       "6.712001162584638"
      ]
     },
     "execution_count": 129,
     "metadata": {},
     "output_type": "execute_result"
    }
   ],
   "source": [
    "model = search_random_forest.best_estimator_\n",
    "model.fit(x_train_1, y_train_1)\n",
    "predictions = model.predict(x_test_1)\n",
    "score = mean_absolute_error(y_test_1, predictions)\n",
    "score"
   ]
  },
  {
   "cell_type": "markdown",
   "metadata": {},
   "source": [
    "Получим метрику MAE для модели градиентного бустинга с лучшими подобранными гиперпараметрами (см. подраздел 3.4)."
   ]
  },
  {
   "cell_type": "code",
   "execution_count": 130,
   "metadata": {},
   "outputs": [
    {
     "data": {
      "text/plain": [
       "6.736630118553199"
      ]
     },
     "execution_count": 130,
     "metadata": {},
     "output_type": "execute_result"
    }
   ],
   "source": [
    "model = LGBMRegressor(seed=56789, learning_rate=0.1, n_estimators=100)\n",
    "model.fit(x_train_1, y_train_1)\n",
    "predictions = model.predict(x_test_1)\n",
    "score = mean_absolute_error(y_test_1, predictions)\n",
    "score"
   ]
  },
  {
   "cell_type": "markdown",
   "metadata": {},
   "source": [
    "Метрика MAE немного улучшилась для оптимизированной модели случайного леса: было 6,7362 стало - 6,7120. Для оптимизированной модели градиентного бустинга метрика MAE не претерпела никаких изменений. Это, вероятно, связано с тем, что удаленные признаки имеют нулевую важность для данной модели. Тем не менее, для обоих моделей за счет оптимизации очевидно имеется выигрыш во времени обучения модели за счет сокращения количества признаков и общего размера датасета."
   ]
  },
  {
   "cell_type": "markdown",
   "metadata": {},
   "source": [
    "### Проверка возможности использования признака суммарная мощность вместо суммарной энергии"
   ]
  },
  {
   "cell_type": "markdown",
   "metadata": {},
   "source": [
    "Для проверки возможности использования признака суммарная активная мощность вместо суммарной энергии создадим новый датасет data_arc_new и выполним с ним все необходимые преобразования аналогично тому, как это было сделано ранее с датасетом data_arc_clean (см. подраздел 2.2)."
   ]
  },
  {
   "cell_type": "code",
   "execution_count": 131,
   "metadata": {},
   "outputs": [],
   "source": [
    "data_arc_new = data_arc\n",
    "data_arc_new = data_arc_new.drop(\n",
    "    [\"warm_begin\", \"warm_end\", \"energy\", \"warm_duration\", \"first_time\", \"last_time\"], axis=1\n",
    ")\n",
    "data_arc_new = data_arc_new.groupby(\"key\").agg({\"active_power\": \"sum\", \"first_temp\": \"mean\", \"last_temp\": \"mean\"})\n",
    "data_arc_new = data_arc_new.reset_index()"
   ]
  },
  {
   "cell_type": "markdown",
   "metadata": {},
   "source": [
    "Выведим для контроля полученный результат."
   ]
  },
  {
   "cell_type": "code",
   "execution_count": 132,
   "metadata": {},
   "outputs": [
    {
     "data": {
      "text/html": [
       "<div>\n",
       "<style scoped>\n",
       "    .dataframe tbody tr th:only-of-type {\n",
       "        vertical-align: middle;\n",
       "    }\n",
       "\n",
       "    .dataframe tbody tr th {\n",
       "        vertical-align: top;\n",
       "    }\n",
       "\n",
       "    .dataframe thead th {\n",
       "        text-align: right;\n",
       "    }\n",
       "</style>\n",
       "<table border=\"1\" class=\"dataframe\">\n",
       "  <thead>\n",
       "    <tr style=\"text-align: right;\">\n",
       "      <th></th>\n",
       "      <th>key</th>\n",
       "      <th>active_power</th>\n",
       "      <th>first_temp</th>\n",
       "      <th>last_temp</th>\n",
       "    </tr>\n",
       "  </thead>\n",
       "  <tbody>\n",
       "    <tr>\n",
       "      <td>0</td>\n",
       "      <td>1</td>\n",
       "      <td>2.352117</td>\n",
       "      <td>1571.0</td>\n",
       "      <td>1613.0</td>\n",
       "    </tr>\n",
       "    <tr>\n",
       "      <td>1</td>\n",
       "      <td>2</td>\n",
       "      <td>2.614535</td>\n",
       "      <td>1581.0</td>\n",
       "      <td>1602.0</td>\n",
       "    </tr>\n",
       "    <tr>\n",
       "      <td>2</td>\n",
       "      <td>3</td>\n",
       "      <td>1.463829</td>\n",
       "      <td>1596.0</td>\n",
       "      <td>1599.0</td>\n",
       "    </tr>\n",
       "    <tr>\n",
       "      <td>3</td>\n",
       "      <td>4</td>\n",
       "      <td>1.220955</td>\n",
       "      <td>1601.0</td>\n",
       "      <td>1625.0</td>\n",
       "    </tr>\n",
       "    <tr>\n",
       "      <td>4</td>\n",
       "      <td>5</td>\n",
       "      <td>1.889121</td>\n",
       "      <td>1576.0</td>\n",
       "      <td>1602.0</td>\n",
       "    </tr>\n",
       "  </tbody>\n",
       "</table>\n",
       "</div>"
      ],
      "text/plain": [
       "   key  active_power  first_temp  last_temp\n",
       "0    1      2.352117      1571.0     1613.0\n",
       "1    2      2.614535      1581.0     1602.0\n",
       "2    3      1.463829      1596.0     1599.0\n",
       "3    4      1.220955      1601.0     1625.0\n",
       "4    5      1.889121      1576.0     1602.0"
      ]
     },
     "execution_count": 132,
     "metadata": {},
     "output_type": "execute_result"
    }
   ],
   "source": [
    "data_arc_new.head()"
   ]
  },
  {
   "cell_type": "markdown",
   "metadata": {},
   "source": [
    "Создадим новую сводную таблицу data_all_new. Сразу же поставим целевой признак в правую часть таблицы и выполним удаление столбцов, содержащих признаки малой важности или очень мало ненулевых данных."
   ]
  },
  {
   "cell_type": "code",
   "execution_count": 133,
   "metadata": {
    "scrolled": true
   },
   "outputs": [],
   "source": [
    "data_all_new = data_arc_new.merge(data_bulk_clean, how=\"left\", on=\"key\")\n",
    "data_all_new = data_all_new.merge(data_wire_clean, how=\"left\", on=\"key\")\n",
    "data_all_new = data_all_new.merge(data_gas_clean, how=\"left\", on=\"key\")\n",
    "data_all_new = data_all_new[['active_power', 'first_temp', 'Bulk 1', 'Bulk 2', 'Bulk 3', 'Bulk 4', 'Bulk 5', 'Bulk 6', 'Bulk 7', \n",
    "                 'Bulk 10', 'Bulk 11', 'Bulk 12', 'Bulk 13', 'Bulk 14', 'Bulk 15', 'Wire 1', 'Wire 2', 'Wire 3', \n",
    "                 'Wire 4', 'Wire 6', 'gas_1', 'last_temp']]"
   ]
  },
  {
   "cell_type": "markdown",
   "metadata": {},
   "source": [
    "Выполним тестирование оптимизированных моделей с использованием признака суммарная активная мощность (вместо признака суммарная энергия)."
   ]
  },
  {
   "cell_type": "code",
   "execution_count": 134,
   "metadata": {},
   "outputs": [],
   "source": [
    "x_2 = data_all_new.drop(\"last_temp\", axis=1)\n",
    "y_2 = data_all_new[\"last_temp\"]\n",
    "x_train_2, x_test_2, y_train_2, y_test_2 = train_test_split(x_2, y_2, test_size=0.25, random_state=56789)"
   ]
  },
  {
   "cell_type": "markdown",
   "metadata": {},
   "source": [
    "Получим метрику MAE для модели случайного леса с лучшими подобранными гиперпараметрами (см. подраздел 3.3)."
   ]
  },
  {
   "cell_type": "code",
   "execution_count": 135,
   "metadata": {},
   "outputs": [
    {
     "data": {
      "text/plain": [
       "6.680109932475918"
      ]
     },
     "execution_count": 135,
     "metadata": {},
     "output_type": "execute_result"
    }
   ],
   "source": [
    "model = search_random_forest.best_estimator_\n",
    "model.fit(x_train_2, y_train_2)\n",
    "predictions = model.predict(x_test_2)\n",
    "score = mean_absolute_error(y_test_2, predictions)\n",
    "score"
   ]
  },
  {
   "cell_type": "markdown",
   "metadata": {},
   "source": [
    "Получим метрику MAE для модели градиентного бустинга с лучшими подобранными гиперпараметрами (см. подраздел 3.4)."
   ]
  },
  {
   "cell_type": "code",
   "execution_count": 136,
   "metadata": {},
   "outputs": [
    {
     "data": {
      "text/plain": [
       "6.496181537444599"
      ]
     },
     "execution_count": 136,
     "metadata": {},
     "output_type": "execute_result"
    }
   ],
   "source": [
    "model = LGBMRegressor(seed=56789, learning_rate=0.1, n_estimators=100)\n",
    "model.fit(x_train_2, y_train_2)\n",
    "predictions = model.predict(x_test_2)\n",
    "score = mean_absolute_error(y_test_2, predictions)\n",
    "score"
   ]
  },
  {
   "cell_type": "markdown",
   "metadata": {},
   "source": [
    "При использовании признака суммарной активной мощности вместо суммарной энергии метрики качества MAE заметно улучшилась. Для модели случайного леса MAE уменьшилось с 6,7120 до 6,6801. Для модели градиентного бустинга MAE уменьшилось с 6,7366 до 6,4962. Причина улучшения метрики качества в данном случае не совсем понятна, так как с точки зрения физики для нагрева имеет значение именно переданная энергия и суммирование мощностей за разные промежутки времени лишено физического смысла. Возможно это связано с неправильной интерпретацией технологического процесса и признаков, заложенных в исходных таблицах. С точки зрения дальнейшего улучшения модели и исключения непредвиденных ошибок в будущем полезной будет консультация с технологами и составителями исходных датасетов."
   ]
  },
  {
   "cell_type": "markdown",
   "metadata": {},
   "source": [
    "### Выводы"
   ]
  },
  {
   "cell_type": "markdown",
   "metadata": {},
   "source": [
    "1. Выполнена оценка важности признаков. На основе данной оценки выделены четыре признака (Bulk 9, Wire 7, Wire 8 и Wire 9), имеющие нулевую или очень незначительную важность одновременно для двух лучших моделей (модели случайного леса и модели градиентного бустинга).\n",
    "2. Выполнен корреляционный анализ признаков между собой. Выявлены два признака - Wire 8 и Bulk 9, имеющие очень высокую корреляцию между собой (0,975).\n",
    "3. На основе выполненного анализа (корреляционный анализ и анализ важности признаков) из датасета, подготовленного для обучения и тестирования моделей, удалены четыре признака: Bulk 9, Wire 7, Wire 8 и Wire 9. Модели, обученные на данном датасете, будем называть оптимизированными.\n",
    "4. Тестирование оптимизированных моделей показало следующее. Метрика MAE немного улучшилась для оптимизированной модели случайного леса: было 6,7362 стало - 6,7120. Для оптимизированной модели градиентного бустинга метрика MAE не претерпела никаких изменений. Это, вероятно, связано, что удаленные признаки имеют нулевую важность для данной модели.\n",
    "5. Рассмотрена возможность использования признака суммарная активная мощность вместо признака суммарная энергия. Согласно выполненным на тестовой выборке расчетам, использование указанного подхода позволяет существенно повысить качество моделей. Для модели случайного леса MAE уменьшилось с 6,7120 до 6,6801. Для модели градиентного бустинга MAE уменьшилось еще больше: с 6,7366 до 6,4962.\n",
    "6. Причина улучшения метрики качества в случае использования суммарной активной мощности вместо суммарной энергии не совсем понятна, так как с точки зрения физики для нагрева имеет значение именно переданная энергия и суммирование мощностей за разные промежутки времени лишено физического смысла. Возможно это связано с неправильной интерпретацией технологического процесса и признаков, заложенных в исходных таблицах. С точки зрения дальнейшего улучшения модели и исключения непредвиденных ошибок в будущем полезной будет консультация с технологами и составителями исходных датасетов."
   ]
  },
  {
   "cell_type": "markdown",
   "metadata": {},
   "source": [
    "## Отчет по решению задачи проекта "
   ]
  },
  {
   "cell_type": "markdown",
   "metadata": {},
   "source": [
    "Отчет по решению задачи проекта структурируем в виде ответов на следующие вопросы:\n",
    "* Какие пункты плана были выполнены, а какие — нет (поясните почему)?\n",
    "* Какие трудности возникли и как вы их преодолели?\n",
    "* Какие ключевые шаги в решении задачи выделили?\n",
    "* Какая ваша итоговая модель и какое у неё качество?"
   ]
  },
  {
   "cell_type": "markdown",
   "metadata": {},
   "source": [
    "### Выполнение пунктов плана"
   ]
  },
  {
   "cell_type": "markdown",
   "metadata": {},
   "source": [
    "Примерный план решения задачи был сформирован после изучения исходных данных, их бработки и создания сводной таблицы признаков (см. разделы 1 и 2). Данный план состоит из 6 пунктов:\n",
    "1. Подготовить данные для машинного обучения, а именно: выделить целевой признак и оставшиеся признаки, нормализовать или привести к одному масштабу признаки.\n",
    "2. Выполнить машинное обучение с использованием следующих моделей: линейная регрессия, случайный лес и градиентный бустинг.\n",
    "3. Для повышения качества моделей рассмотреть различные наборы гиперпараметров.\n",
    "4. Выбрать наиболее оптимальную модель и набор соответствующих гиперпараметров.\n",
    "5. Написать общий вывод.\n",
    "6. Оформить работу в виде отчета."
   ]
  },
  {
   "cell_type": "markdown",
   "metadata": {},
   "source": [
    "Все пункты плана были выполнены полностью, кроме первого, который был выполнен частично. Согласно первому пункту, были подготовлены данные для машинного обучения, выделены целевой признак и оставшиеся признаки, однако масштабирование признаков не осуществлялось. Это связано с тем, что в процессе изучения вопроса было выяснено следующее: для модели решающего дерева и моделей-ансамблей, основанных на решающих деревьях (случайный лес, градиентный бустинг), то есть основных моделей, использованных при решении задачи проекта, масштабирование признаков можно не выполнять."
   ]
  },
  {
   "cell_type": "markdown",
   "metadata": {},
   "source": [
    "### Возникшие трудности и их преодоление"
   ]
  },
  {
   "cell_type": "markdown",
   "metadata": {},
   "source": [
    "При выполнении проекта возникли три основных трудности:\n",
    "\n",
    "1. Расплывчатое (неполное) описание проекта, в связи с чем возникла проблема выделения целевого признака задачи от остальных признаков.\n",
    "2. Довольно большое количество исходных датасетов, содержащих значительное количество нерелевантной или \"сырой\" информации, требующей удаления или обработки.\n",
    "3. Необходимость получения высоких метрик качества (MAE не выше 6,8)."
   ]
  },
  {
   "cell_type": "markdown",
   "metadata": {},
   "source": [
    "***Первая трудность*** была преодолена путем видеоконсультации с тимлидом, на которой были уточнены задачи, особенности исходных данных и технологического процесса. Это помогло отделить целевой признак от остальных, в целом выработать дальнейшие пути решения задачи, избежать возможных ошибок.  \n",
    "\n",
    "***Вторая трудность*** была преодолена за счет предварительного внимательного изучения исходных датафреймов и интенсивного использования различных приемов библиотеки Pandas (срезы, сортировки, объединения и др.), отточенных при выполнении предыдущих проектов.\n",
    "\n",
    "***Третья трудность*** была преодолена за счет тщательной обработки исходных данных, использования корреляционного анализа и анализа важности признаков, а также за счет применения эффективных моделей-ансамблей (случайный лес и градиентный бустинг)."
   ]
  },
  {
   "cell_type": "markdown",
   "metadata": {},
   "source": [
    "### Ключевые шаги в решении задачи"
   ]
  },
  {
   "cell_type": "markdown",
   "metadata": {},
   "source": [
    "Ключевые шаги в решении задачи совпадают с названиями разделов настоящей работы (см. содержание):\n",
    "1. Изучение исходных данных, их первичная обработка, поиск аномалий.\n",
    "2. Сведение данных в одну таблицу, корреляционный анализ.\n",
    "3. Обучение моделей.\n",
    "4. Тестирование моделей.\n",
    "5. Оптимизация моделей."
   ]
  },
  {
   "cell_type": "markdown",
   "metadata": {},
   "source": [
    "### Лучшая итоговая модель"
   ]
  },
  {
   "cell_type": "markdown",
   "metadata": {},
   "source": [
    "Лучшая итоговая модель проекта (после выполнения всех оптимизаций) - это модель градиентного бустинга (библиотека lightgbm: Light Gradient Boosting Machine). Для данной модели на тестовой выборке MAE равняется 6,496."
   ]
  },
  {
   "cell_type": "code",
   "execution_count": null,
   "metadata": {},
   "outputs": [],
   "source": []
  }
 ],
 "metadata": {
  "ExecuteTimeLog": [
   {
    "duration": 680,
    "start_time": "2021-10-18T16:47:05.959Z"
   },
   {
    "duration": 46,
    "start_time": "2021-10-18T16:47:21.811Z"
   },
   {
    "duration": 9,
    "start_time": "2021-10-18T16:47:22.812Z"
   },
   {
    "duration": 12,
    "start_time": "2021-10-18T16:49:52.287Z"
   },
   {
    "duration": 9,
    "start_time": "2021-10-18T16:50:14.825Z"
   },
   {
    "duration": 320,
    "start_time": "2021-10-18T16:51:51.961Z"
   },
   {
    "duration": 645,
    "start_time": "2021-10-18T16:52:01.720Z"
   },
   {
    "duration": 47,
    "start_time": "2021-10-18T16:52:02.367Z"
   },
   {
    "duration": 9,
    "start_time": "2021-10-18T16:52:02.417Z"
   },
   {
    "duration": 32,
    "start_time": "2021-10-18T16:52:02.428Z"
   },
   {
    "duration": 28,
    "start_time": "2021-10-18T16:52:02.463Z"
   },
   {
    "duration": 43,
    "start_time": "2021-10-18T16:52:02.493Z"
   },
   {
    "duration": 654,
    "start_time": "2021-10-18T17:09:39.709Z"
   },
   {
    "duration": 152,
    "start_time": "2021-10-18T17:09:40.365Z"
   },
   {
    "duration": 8,
    "start_time": "2021-10-18T17:09:40.519Z"
   },
   {
    "duration": 27,
    "start_time": "2021-10-18T17:09:40.529Z"
   },
   {
    "duration": 26,
    "start_time": "2021-10-18T17:09:40.558Z"
   },
   {
    "duration": 26,
    "start_time": "2021-10-18T17:09:40.586Z"
   },
   {
    "duration": 14,
    "start_time": "2021-10-18T17:09:40.614Z"
   },
   {
    "duration": 28,
    "start_time": "2021-10-18T17:09:40.631Z"
   },
   {
    "duration": 35,
    "start_time": "2021-10-18T17:09:40.661Z"
   },
   {
    "duration": 7,
    "start_time": "2021-10-18T17:09:40.698Z"
   },
   {
    "duration": 28,
    "start_time": "2021-10-18T17:09:40.707Z"
   },
   {
    "duration": 28,
    "start_time": "2021-10-18T17:09:40.737Z"
   },
   {
    "duration": 17,
    "start_time": "2021-10-18T17:09:40.767Z"
   },
   {
    "duration": 27,
    "start_time": "2021-10-18T17:09:40.786Z"
   },
   {
    "duration": 49,
    "start_time": "2021-10-18T17:09:40.815Z"
   },
   {
    "duration": 33,
    "start_time": "2021-10-18T17:09:40.866Z"
   },
   {
    "duration": 18,
    "start_time": "2021-10-18T17:09:40.901Z"
   },
   {
    "duration": 48,
    "start_time": "2021-10-18T17:09:40.921Z"
   },
   {
    "duration": 17,
    "start_time": "2021-10-18T17:09:40.971Z"
   },
   {
    "duration": 38,
    "start_time": "2021-10-18T17:09:40.990Z"
   },
   {
    "duration": 42,
    "start_time": "2021-10-18T17:09:41.029Z"
   },
   {
    "duration": 708,
    "start_time": "2021-10-18T17:13:26.230Z"
   },
   {
    "duration": 152,
    "start_time": "2021-10-18T17:13:26.940Z"
   },
   {
    "duration": 9,
    "start_time": "2021-10-18T17:13:27.096Z"
   },
   {
    "duration": 18,
    "start_time": "2021-10-18T17:13:27.106Z"
   },
   {
    "duration": 9,
    "start_time": "2021-10-18T17:13:27.126Z"
   },
   {
    "duration": 28,
    "start_time": "2021-10-18T17:13:27.136Z"
   },
   {
    "duration": 7,
    "start_time": "2021-10-18T17:13:27.167Z"
   },
   {
    "duration": 14,
    "start_time": "2021-10-18T17:13:27.176Z"
   },
   {
    "duration": 71,
    "start_time": "2021-10-18T17:13:27.192Z"
   },
   {
    "duration": 9,
    "start_time": "2021-10-18T17:13:27.265Z"
   },
   {
    "duration": 17,
    "start_time": "2021-10-18T17:13:27.276Z"
   },
   {
    "duration": 20,
    "start_time": "2021-10-18T17:13:27.294Z"
   },
   {
    "duration": 9,
    "start_time": "2021-10-18T17:13:27.316Z"
   },
   {
    "duration": 14,
    "start_time": "2021-10-18T17:13:27.327Z"
   },
   {
    "duration": 32,
    "start_time": "2021-10-18T17:13:27.343Z"
   },
   {
    "duration": 12,
    "start_time": "2021-10-18T17:13:27.377Z"
   },
   {
    "duration": 11,
    "start_time": "2021-10-18T17:13:27.391Z"
   },
   {
    "duration": 60,
    "start_time": "2021-10-18T17:13:27.404Z"
   },
   {
    "duration": 8,
    "start_time": "2021-10-18T17:13:27.466Z"
   },
   {
    "duration": 18,
    "start_time": "2021-10-18T17:13:27.476Z"
   },
   {
    "duration": 17,
    "start_time": "2021-10-18T17:13:27.496Z"
   },
   {
    "duration": 15,
    "start_time": "2021-10-18T17:14:12.279Z"
   },
   {
    "duration": 689,
    "start_time": "2021-10-18T17:41:51.157Z"
   },
   {
    "duration": 170,
    "start_time": "2021-10-18T17:41:51.848Z"
   },
   {
    "duration": 9,
    "start_time": "2021-10-18T17:41:52.021Z"
   },
   {
    "duration": 15,
    "start_time": "2021-10-18T17:41:52.032Z"
   },
   {
    "duration": 8,
    "start_time": "2021-10-18T17:41:52.049Z"
   },
   {
    "duration": 20,
    "start_time": "2021-10-18T17:41:52.059Z"
   },
   {
    "duration": 7,
    "start_time": "2021-10-18T17:41:52.081Z"
   },
   {
    "duration": 13,
    "start_time": "2021-10-18T17:41:52.090Z"
   },
   {
    "duration": 16,
    "start_time": "2021-10-18T17:41:52.105Z"
   },
   {
    "duration": 76,
    "start_time": "2021-10-18T17:41:52.122Z"
   },
   {
    "duration": 9,
    "start_time": "2021-10-18T17:41:52.200Z"
   },
   {
    "duration": 14,
    "start_time": "2021-10-18T17:41:52.211Z"
   },
   {
    "duration": 14,
    "start_time": "2021-10-18T17:41:52.226Z"
   },
   {
    "duration": 8,
    "start_time": "2021-10-18T17:41:52.264Z"
   },
   {
    "duration": 10,
    "start_time": "2021-10-18T17:41:52.274Z"
   },
   {
    "duration": 14,
    "start_time": "2021-10-18T17:41:52.285Z"
   },
   {
    "duration": 5,
    "start_time": "2021-10-18T17:41:52.301Z"
   },
   {
    "duration": 17,
    "start_time": "2021-10-18T17:41:52.308Z"
   },
   {
    "duration": 62,
    "start_time": "2021-10-18T17:41:52.327Z"
   },
   {
    "duration": 8,
    "start_time": "2021-10-18T17:41:52.392Z"
   },
   {
    "duration": 24,
    "start_time": "2021-10-18T17:41:52.402Z"
   },
   {
    "duration": 16,
    "start_time": "2021-10-18T17:41:52.428Z"
   },
   {
    "duration": 7,
    "start_time": "2021-10-18T17:42:34.091Z"
   },
   {
    "duration": 303,
    "start_time": "2021-10-18T17:42:35.011Z"
   },
   {
    "duration": 8,
    "start_time": "2021-10-18T17:42:49.094Z"
   },
   {
    "duration": 9,
    "start_time": "2021-10-18T17:43:00.949Z"
   },
   {
    "duration": 16,
    "start_time": "2021-10-18T17:43:12.057Z"
   },
   {
    "duration": 9,
    "start_time": "2021-10-18T18:21:30.798Z"
   },
   {
    "duration": 573,
    "start_time": "2021-10-19T10:50:13.825Z"
   },
   {
    "duration": 871,
    "start_time": "2021-10-19T10:50:42.172Z"
   },
   {
    "duration": 180,
    "start_time": "2021-10-19T10:50:43.046Z"
   },
   {
    "duration": 11,
    "start_time": "2021-10-19T10:50:43.229Z"
   },
   {
    "duration": 16,
    "start_time": "2021-10-19T10:50:43.243Z"
   },
   {
    "duration": 10,
    "start_time": "2021-10-19T10:50:43.261Z"
   },
   {
    "duration": 13,
    "start_time": "2021-10-19T10:50:43.273Z"
   },
   {
    "duration": 26,
    "start_time": "2021-10-19T10:50:43.288Z"
   },
   {
    "duration": 10,
    "start_time": "2021-10-19T10:50:43.318Z"
   },
   {
    "duration": 24,
    "start_time": "2021-10-19T10:50:43.363Z"
   },
   {
    "duration": 22,
    "start_time": "2021-10-19T10:50:43.390Z"
   },
   {
    "duration": 119,
    "start_time": "2021-10-19T10:50:43.415Z"
   },
   {
    "duration": 12,
    "start_time": "2021-10-19T10:50:43.536Z"
   },
   {
    "duration": 21,
    "start_time": "2021-10-19T10:50:43.562Z"
   },
   {
    "duration": 18,
    "start_time": "2021-10-19T10:50:43.586Z"
   },
   {
    "duration": 16,
    "start_time": "2021-10-19T10:50:43.606Z"
   },
   {
    "duration": 42,
    "start_time": "2021-10-19T10:50:43.625Z"
   },
   {
    "duration": 28,
    "start_time": "2021-10-19T10:50:43.670Z"
   },
   {
    "duration": 9,
    "start_time": "2021-10-19T10:50:43.701Z"
   },
   {
    "duration": 16,
    "start_time": "2021-10-19T10:50:43.712Z"
   },
   {
    "duration": 81,
    "start_time": "2021-10-19T10:50:43.731Z"
   },
   {
    "duration": 10,
    "start_time": "2021-10-19T10:50:43.814Z"
   },
   {
    "duration": 40,
    "start_time": "2021-10-19T10:50:43.826Z"
   },
   {
    "duration": 17,
    "start_time": "2021-10-19T10:50:43.870Z"
   },
   {
    "duration": 8,
    "start_time": "2021-10-19T10:50:43.890Z"
   },
   {
    "duration": 11,
    "start_time": "2021-10-19T10:50:43.900Z"
   },
   {
    "duration": 49,
    "start_time": "2021-10-19T10:50:43.914Z"
   },
   {
    "duration": 22,
    "start_time": "2021-10-19T10:50:43.965Z"
   },
   {
    "duration": 19,
    "start_time": "2021-10-19T14:07:04.773Z"
   },
   {
    "duration": 21,
    "start_time": "2021-10-19T14:08:12.361Z"
   },
   {
    "duration": 20,
    "start_time": "2021-10-19T14:08:44.286Z"
   },
   {
    "duration": 19,
    "start_time": "2021-10-19T14:09:01.649Z"
   },
   {
    "duration": 21,
    "start_time": "2021-10-19T14:09:45.459Z"
   },
   {
    "duration": 1463,
    "start_time": "2021-10-22T16:17:48.373Z"
   },
   {
    "duration": 186,
    "start_time": "2021-10-22T16:17:51.708Z"
   },
   {
    "duration": 11,
    "start_time": "2021-10-22T16:17:54.489Z"
   },
   {
    "duration": 19,
    "start_time": "2021-10-22T16:17:55.154Z"
   },
   {
    "duration": 12,
    "start_time": "2021-10-22T16:17:56.763Z"
   },
   {
    "duration": 27,
    "start_time": "2021-10-22T16:17:57.256Z"
   },
   {
    "duration": 6,
    "start_time": "2021-10-22T16:18:00.040Z"
   },
   {
    "duration": 16,
    "start_time": "2021-10-22T16:18:01.195Z"
   },
   {
    "duration": 7,
    "start_time": "2021-10-22T16:18:03.362Z"
   },
   {
    "duration": 421,
    "start_time": "2021-10-22T16:23:40.731Z"
   },
   {
    "duration": 341,
    "start_time": "2021-10-22T19:58:42.354Z"
   },
   {
    "duration": 1488,
    "start_time": "2021-10-22T20:02:42.395Z"
   },
   {
    "duration": 210,
    "start_time": "2021-10-22T20:02:43.885Z"
   },
   {
    "duration": 11,
    "start_time": "2021-10-22T20:02:44.098Z"
   },
   {
    "duration": 19,
    "start_time": "2021-10-22T20:02:44.111Z"
   },
   {
    "duration": 12,
    "start_time": "2021-10-22T20:02:44.133Z"
   },
   {
    "duration": 26,
    "start_time": "2021-10-22T20:02:44.147Z"
   },
   {
    "duration": 56,
    "start_time": "2021-10-22T20:02:44.176Z"
   },
   {
    "duration": 6,
    "start_time": "2021-10-22T20:02:44.238Z"
   },
   {
    "duration": 18,
    "start_time": "2021-10-22T20:02:44.248Z"
   },
   {
    "duration": 72,
    "start_time": "2021-10-22T20:02:44.269Z"
   },
   {
    "duration": 9,
    "start_time": "2021-10-22T20:02:44.344Z"
   },
   {
    "duration": 250,
    "start_time": "2021-10-22T20:02:44.355Z"
   },
   {
    "duration": 16,
    "start_time": "2021-10-22T20:02:44.608Z"
   },
   {
    "duration": 22,
    "start_time": "2021-10-22T20:02:44.626Z"
   },
   {
    "duration": 22,
    "start_time": "2021-10-22T20:02:44.650Z"
   },
   {
    "duration": 112,
    "start_time": "2021-10-22T20:02:44.674Z"
   },
   {
    "duration": 12,
    "start_time": "2021-10-22T20:02:44.788Z"
   },
   {
    "duration": 35,
    "start_time": "2021-10-22T20:02:44.802Z"
   },
   {
    "duration": 21,
    "start_time": "2021-10-22T20:02:44.839Z"
   },
   {
    "duration": 8,
    "start_time": "2021-10-22T20:02:44.862Z"
   },
   {
    "duration": 9,
    "start_time": "2021-10-22T20:02:44.872Z"
   },
   {
    "duration": 59,
    "start_time": "2021-10-22T20:02:44.884Z"
   },
   {
    "duration": 9,
    "start_time": "2021-10-22T20:02:44.948Z"
   },
   {
    "duration": 16,
    "start_time": "2021-10-22T20:02:44.960Z"
   },
   {
    "duration": 94,
    "start_time": "2021-10-22T20:02:44.979Z"
   },
   {
    "duration": 10,
    "start_time": "2021-10-22T20:02:45.076Z"
   },
   {
    "duration": 39,
    "start_time": "2021-10-22T20:02:45.089Z"
   },
   {
    "duration": 18,
    "start_time": "2021-10-22T20:02:45.131Z"
   },
   {
    "duration": 9,
    "start_time": "2021-10-22T20:02:45.151Z"
   },
   {
    "duration": 12,
    "start_time": "2021-10-22T20:02:45.163Z"
   },
   {
    "duration": 48,
    "start_time": "2021-10-22T20:02:45.178Z"
   },
   {
    "duration": 24,
    "start_time": "2021-10-22T20:02:45.229Z"
   },
   {
    "duration": 6,
    "start_time": "2021-10-22T20:03:28.574Z"
   },
   {
    "duration": 6,
    "start_time": "2021-10-22T20:05:08.611Z"
   },
   {
    "duration": 6,
    "start_time": "2021-10-22T20:05:24.931Z"
   },
   {
    "duration": 8,
    "start_time": "2021-10-22T20:05:46.658Z"
   },
   {
    "duration": 232,
    "start_time": "2021-10-22T20:07:36.232Z"
   },
   {
    "duration": 15,
    "start_time": "2021-10-22T20:09:33.548Z"
   },
   {
    "duration": 14,
    "start_time": "2021-10-22T20:11:18.546Z"
   },
   {
    "duration": 389,
    "start_time": "2021-10-22T20:23:49.454Z"
   },
   {
    "duration": 14,
    "start_time": "2021-10-22T20:23:49.947Z"
   },
   {
    "duration": 7,
    "start_time": "2021-10-22T20:24:00.152Z"
   },
   {
    "duration": 11,
    "start_time": "2021-10-22T20:24:02.148Z"
   },
   {
    "duration": 8,
    "start_time": "2021-10-22T20:25:14.765Z"
   },
   {
    "duration": 6,
    "start_time": "2021-10-22T20:30:37.114Z"
   },
   {
    "duration": 9,
    "start_time": "2021-10-22T20:30:47.237Z"
   },
   {
    "duration": 7,
    "start_time": "2021-10-22T20:39:47.865Z"
   },
   {
    "duration": 1461,
    "start_time": "2021-10-22T20:57:38.012Z"
   },
   {
    "duration": 211,
    "start_time": "2021-10-22T20:57:39.476Z"
   },
   {
    "duration": 13,
    "start_time": "2021-10-22T20:57:39.690Z"
   },
   {
    "duration": 22,
    "start_time": "2021-10-22T20:57:39.705Z"
   },
   {
    "duration": 12,
    "start_time": "2021-10-22T20:57:39.730Z"
   },
   {
    "duration": 37,
    "start_time": "2021-10-22T20:57:39.744Z"
   },
   {
    "duration": 21,
    "start_time": "2021-10-22T20:57:39.783Z"
   },
   {
    "duration": 5,
    "start_time": "2021-10-22T20:57:39.808Z"
   },
   {
    "duration": 15,
    "start_time": "2021-10-22T20:57:39.824Z"
   },
   {
    "duration": 9,
    "start_time": "2021-10-22T20:57:39.842Z"
   },
   {
    "duration": 7,
    "start_time": "2021-10-22T20:57:39.854Z"
   },
   {
    "duration": 247,
    "start_time": "2021-10-22T20:57:39.864Z"
   },
   {
    "duration": 236,
    "start_time": "2021-10-22T20:57:40.113Z"
   },
   {
    "duration": 14,
    "start_time": "2021-10-22T20:57:40.352Z"
   },
   {
    "duration": 16,
    "start_time": "2021-10-22T20:57:40.368Z"
   },
   {
    "duration": 6,
    "start_time": "2021-10-22T20:57:40.422Z"
   },
   {
    "duration": 21,
    "start_time": "2021-10-22T20:57:40.430Z"
   },
   {
    "duration": 7,
    "start_time": "2021-10-22T20:57:40.453Z"
   },
   {
    "duration": 463,
    "start_time": "2021-10-22T20:57:40.462Z"
   },
   {
    "duration": 6187,
    "start_time": "2021-10-22T20:57:34.742Z"
   },
   {
    "duration": 6182,
    "start_time": "2021-10-22T20:57:34.748Z"
   },
   {
    "duration": 6113,
    "start_time": "2021-10-22T20:57:34.818Z"
   },
   {
    "duration": 6110,
    "start_time": "2021-10-22T20:57:34.823Z"
   },
   {
    "duration": 6106,
    "start_time": "2021-10-22T20:57:34.829Z"
   },
   {
    "duration": 6103,
    "start_time": "2021-10-22T20:57:34.834Z"
   },
   {
    "duration": 6100,
    "start_time": "2021-10-22T20:57:34.838Z"
   },
   {
    "duration": 6099,
    "start_time": "2021-10-22T20:57:34.841Z"
   },
   {
    "duration": 6096,
    "start_time": "2021-10-22T20:57:34.845Z"
   },
   {
    "duration": 6093,
    "start_time": "2021-10-22T20:57:34.849Z"
   },
   {
    "duration": 6075,
    "start_time": "2021-10-22T20:57:34.869Z"
   },
   {
    "duration": 6052,
    "start_time": "2021-10-22T20:57:34.893Z"
   },
   {
    "duration": 6036,
    "start_time": "2021-10-22T20:57:34.911Z"
   },
   {
    "duration": 6017,
    "start_time": "2021-10-22T20:57:34.932Z"
   },
   {
    "duration": 5949,
    "start_time": "2021-10-22T20:57:35.001Z"
   },
   {
    "duration": 5915,
    "start_time": "2021-10-22T20:57:35.037Z"
   },
   {
    "duration": 5876,
    "start_time": "2021-10-22T20:57:35.078Z"
   },
   {
    "duration": 5859,
    "start_time": "2021-10-22T20:57:35.096Z"
   },
   {
    "duration": 5827,
    "start_time": "2021-10-22T20:57:35.129Z"
   },
   {
    "duration": 5821,
    "start_time": "2021-10-22T20:57:35.137Z"
   },
   {
    "duration": 5821,
    "start_time": "2021-10-22T20:57:35.141Z"
   },
   {
    "duration": 1442,
    "start_time": "2021-10-22T20:58:17.018Z"
   },
   {
    "duration": 206,
    "start_time": "2021-10-22T20:58:18.463Z"
   },
   {
    "duration": 13,
    "start_time": "2021-10-22T20:58:18.673Z"
   },
   {
    "duration": 18,
    "start_time": "2021-10-22T20:58:18.690Z"
   },
   {
    "duration": 22,
    "start_time": "2021-10-22T20:58:18.711Z"
   },
   {
    "duration": 27,
    "start_time": "2021-10-22T20:58:18.736Z"
   },
   {
    "duration": 22,
    "start_time": "2021-10-22T20:58:18.765Z"
   },
   {
    "duration": 6,
    "start_time": "2021-10-22T20:58:18.823Z"
   },
   {
    "duration": 16,
    "start_time": "2021-10-22T20:58:18.832Z"
   },
   {
    "duration": 10,
    "start_time": "2021-10-22T20:58:18.851Z"
   },
   {
    "duration": 8,
    "start_time": "2021-10-22T20:58:18.863Z"
   },
   {
    "duration": 267,
    "start_time": "2021-10-22T20:58:18.874Z"
   },
   {
    "duration": 236,
    "start_time": "2021-10-22T20:58:19.144Z"
   },
   {
    "duration": 14,
    "start_time": "2021-10-22T20:58:19.383Z"
   },
   {
    "duration": 33,
    "start_time": "2021-10-22T20:58:19.399Z"
   },
   {
    "duration": 5,
    "start_time": "2021-10-22T20:58:19.435Z"
   },
   {
    "duration": 12,
    "start_time": "2021-10-22T20:58:19.443Z"
   },
   {
    "duration": 12,
    "start_time": "2021-10-22T20:58:19.457Z"
   },
   {
    "duration": 17,
    "start_time": "2021-10-22T20:58:19.472Z"
   },
   {
    "duration": 44,
    "start_time": "2021-10-22T20:58:19.492Z"
   },
   {
    "duration": 13,
    "start_time": "2021-10-22T20:58:19.539Z"
   },
   {
    "duration": 22,
    "start_time": "2021-10-22T20:58:19.554Z"
   },
   {
    "duration": 58,
    "start_time": "2021-10-22T20:58:19.581Z"
   },
   {
    "duration": 98,
    "start_time": "2021-10-22T20:58:19.642Z"
   },
   {
    "duration": 11,
    "start_time": "2021-10-22T20:58:19.743Z"
   },
   {
    "duration": 24,
    "start_time": "2021-10-22T20:58:19.757Z"
   },
   {
    "duration": 44,
    "start_time": "2021-10-22T20:58:19.783Z"
   },
   {
    "duration": 8,
    "start_time": "2021-10-22T20:58:19.830Z"
   },
   {
    "duration": 15,
    "start_time": "2021-10-22T20:58:19.841Z"
   },
   {
    "duration": 24,
    "start_time": "2021-10-22T20:58:19.858Z"
   },
   {
    "duration": 10,
    "start_time": "2021-10-22T20:58:19.921Z"
   },
   {
    "duration": 21,
    "start_time": "2021-10-22T20:58:19.934Z"
   },
   {
    "duration": 86,
    "start_time": "2021-10-22T20:58:19.957Z"
   },
   {
    "duration": 10,
    "start_time": "2021-10-22T20:58:20.045Z"
   },
   {
    "duration": 16,
    "start_time": "2021-10-22T20:58:20.057Z"
   },
   {
    "duration": 48,
    "start_time": "2021-10-22T20:58:20.076Z"
   },
   {
    "duration": 9,
    "start_time": "2021-10-22T20:58:20.126Z"
   },
   {
    "duration": 13,
    "start_time": "2021-10-22T20:58:20.137Z"
   },
   {
    "duration": 14,
    "start_time": "2021-10-22T20:58:20.152Z"
   },
   {
    "duration": 56,
    "start_time": "2021-10-22T20:58:20.168Z"
   },
   {
    "duration": 1415,
    "start_time": "2021-10-22T20:59:57.058Z"
   },
   {
    "duration": 209,
    "start_time": "2021-10-22T20:59:58.475Z"
   },
   {
    "duration": 10,
    "start_time": "2021-10-22T20:59:58.688Z"
   },
   {
    "duration": 17,
    "start_time": "2021-10-22T20:59:58.701Z"
   },
   {
    "duration": 13,
    "start_time": "2021-10-22T20:59:58.720Z"
   },
   {
    "duration": 29,
    "start_time": "2021-10-22T20:59:58.736Z"
   },
   {
    "duration": 21,
    "start_time": "2021-10-22T20:59:58.767Z"
   },
   {
    "duration": 32,
    "start_time": "2021-10-22T20:59:58.791Z"
   },
   {
    "duration": 17,
    "start_time": "2021-10-22T20:59:58.826Z"
   },
   {
    "duration": 7,
    "start_time": "2021-10-22T20:59:58.846Z"
   },
   {
    "duration": 8,
    "start_time": "2021-10-22T20:59:58.855Z"
   },
   {
    "duration": 271,
    "start_time": "2021-10-22T20:59:58.865Z"
   },
   {
    "duration": 242,
    "start_time": "2021-10-22T20:59:59.138Z"
   },
   {
    "duration": 14,
    "start_time": "2021-10-22T20:59:59.383Z"
   },
   {
    "duration": 35,
    "start_time": "2021-10-22T20:59:59.400Z"
   },
   {
    "duration": 8,
    "start_time": "2021-10-22T20:59:59.438Z"
   },
   {
    "duration": 7,
    "start_time": "2021-10-22T20:59:59.448Z"
   },
   {
    "duration": 5,
    "start_time": "2021-10-22T20:59:59.457Z"
   },
   {
    "duration": 11,
    "start_time": "2021-10-22T20:59:59.464Z"
   },
   {
    "duration": 48,
    "start_time": "2021-10-22T20:59:59.477Z"
   },
   {
    "duration": 11,
    "start_time": "2021-10-22T20:59:59.527Z"
   },
   {
    "duration": 15,
    "start_time": "2021-10-22T20:59:59.541Z"
   },
   {
    "duration": 11,
    "start_time": "2021-10-22T20:59:59.562Z"
   },
   {
    "duration": 55,
    "start_time": "2021-10-22T20:59:59.576Z"
   },
   {
    "duration": 23,
    "start_time": "2021-10-22T20:59:59.633Z"
   },
   {
    "duration": 104,
    "start_time": "2021-10-22T20:59:59.659Z"
   },
   {
    "duration": 12,
    "start_time": "2021-10-22T20:59:59.765Z"
   },
   {
    "duration": 42,
    "start_time": "2021-10-22T20:59:59.780Z"
   },
   {
    "duration": 19,
    "start_time": "2021-10-22T20:59:59.825Z"
   },
   {
    "duration": 8,
    "start_time": "2021-10-22T20:59:59.846Z"
   },
   {
    "duration": 11,
    "start_time": "2021-10-22T20:59:59.856Z"
   },
   {
    "duration": 55,
    "start_time": "2021-10-22T20:59:59.870Z"
   },
   {
    "duration": 9,
    "start_time": "2021-10-22T20:59:59.927Z"
   },
   {
    "duration": 17,
    "start_time": "2021-10-22T20:59:59.938Z"
   },
   {
    "duration": 82,
    "start_time": "2021-10-22T20:59:59.958Z"
   },
   {
    "duration": 11,
    "start_time": "2021-10-22T21:00:00.043Z"
   },
   {
    "duration": 19,
    "start_time": "2021-10-22T21:00:00.057Z"
   },
   {
    "duration": 47,
    "start_time": "2021-10-22T21:00:00.079Z"
   },
   {
    "duration": 10,
    "start_time": "2021-10-22T21:00:00.128Z"
   },
   {
    "duration": 15,
    "start_time": "2021-10-22T21:00:00.140Z"
   },
   {
    "duration": 14,
    "start_time": "2021-10-22T21:00:00.157Z"
   },
   {
    "duration": 55,
    "start_time": "2021-10-22T21:00:00.173Z"
   },
   {
    "duration": 1445,
    "start_time": "2021-10-22T21:26:26.127Z"
   },
   {
    "duration": 216,
    "start_time": "2021-10-22T21:26:27.575Z"
   },
   {
    "duration": 13,
    "start_time": "2021-10-22T21:26:27.795Z"
   },
   {
    "duration": 18,
    "start_time": "2021-10-22T21:26:27.811Z"
   },
   {
    "duration": 11,
    "start_time": "2021-10-22T21:26:27.832Z"
   },
   {
    "duration": 30,
    "start_time": "2021-10-22T21:26:27.845Z"
   },
   {
    "duration": 46,
    "start_time": "2021-10-22T21:26:27.878Z"
   },
   {
    "duration": 5,
    "start_time": "2021-10-22T21:26:27.928Z"
   },
   {
    "duration": 22,
    "start_time": "2021-10-22T21:26:27.936Z"
   },
   {
    "duration": 10,
    "start_time": "2021-10-22T21:26:27.961Z"
   },
   {
    "duration": 264,
    "start_time": "2021-10-22T21:26:27.973Z"
   },
   {
    "duration": 239,
    "start_time": "2021-10-22T21:26:28.240Z"
   },
   {
    "duration": 15,
    "start_time": "2021-10-22T21:26:28.482Z"
   },
   {
    "duration": 34,
    "start_time": "2021-10-22T21:26:28.500Z"
   },
   {
    "duration": 8,
    "start_time": "2021-10-22T21:26:28.536Z"
   },
   {
    "duration": 9,
    "start_time": "2021-10-22T21:26:28.546Z"
   },
   {
    "duration": 6,
    "start_time": "2021-10-22T21:26:28.557Z"
   },
   {
    "duration": 14,
    "start_time": "2021-10-22T21:26:28.565Z"
   },
   {
    "duration": 40,
    "start_time": "2021-10-22T21:26:28.582Z"
   },
   {
    "duration": 11,
    "start_time": "2021-10-22T21:26:28.625Z"
   },
   {
    "duration": 15,
    "start_time": "2021-10-22T21:26:28.639Z"
   },
   {
    "duration": 13,
    "start_time": "2021-10-22T21:26:28.656Z"
   },
   {
    "duration": 49,
    "start_time": "2021-10-22T21:26:28.673Z"
   },
   {
    "duration": 33,
    "start_time": "2021-10-22T21:26:28.725Z"
   },
   {
    "duration": 102,
    "start_time": "2021-10-22T21:26:28.761Z"
   },
   {
    "duration": 11,
    "start_time": "2021-10-22T21:26:28.866Z"
   },
   {
    "duration": 44,
    "start_time": "2021-10-22T21:26:28.880Z"
   },
   {
    "duration": 24,
    "start_time": "2021-10-22T21:26:28.926Z"
   },
   {
    "duration": 8,
    "start_time": "2021-10-22T21:26:28.952Z"
   },
   {
    "duration": 12,
    "start_time": "2021-10-22T21:26:28.963Z"
   },
   {
    "duration": 46,
    "start_time": "2021-10-22T21:26:28.978Z"
   },
   {
    "duration": 10,
    "start_time": "2021-10-22T21:26:29.027Z"
   },
   {
    "duration": 25,
    "start_time": "2021-10-22T21:26:29.039Z"
   },
   {
    "duration": 76,
    "start_time": "2021-10-22T21:26:29.066Z"
   },
   {
    "duration": 10,
    "start_time": "2021-10-22T21:26:29.144Z"
   },
   {
    "duration": 18,
    "start_time": "2021-10-22T21:26:29.157Z"
   },
   {
    "duration": 50,
    "start_time": "2021-10-22T21:26:29.178Z"
   },
   {
    "duration": 13,
    "start_time": "2021-10-22T21:26:29.230Z"
   },
   {
    "duration": 11,
    "start_time": "2021-10-22T21:26:29.246Z"
   },
   {
    "duration": 12,
    "start_time": "2021-10-22T21:26:29.260Z"
   },
   {
    "duration": 53,
    "start_time": "2021-10-22T21:26:29.274Z"
   },
   {
    "duration": 389,
    "start_time": "2021-10-22T21:31:58.954Z"
   },
   {
    "duration": 13,
    "start_time": "2021-10-22T21:32:07.516Z"
   },
   {
    "duration": 613,
    "start_time": "2021-10-22T21:33:21.748Z"
   },
   {
    "duration": 663,
    "start_time": "2021-10-22T21:34:12.989Z"
   },
   {
    "duration": 682,
    "start_time": "2021-10-22T21:34:30.198Z"
   },
   {
    "duration": 761,
    "start_time": "2021-10-22T21:35:03.414Z"
   },
   {
    "duration": 649,
    "start_time": "2021-10-22T21:36:55.169Z"
   },
   {
    "duration": 375,
    "start_time": "2021-10-22T21:37:18.384Z"
   },
   {
    "duration": 641,
    "start_time": "2021-10-22T21:39:13.084Z"
   },
   {
    "duration": 5,
    "start_time": "2021-10-22T21:40:35.214Z"
   },
   {
    "duration": 749,
    "start_time": "2021-10-22T21:41:22.727Z"
   },
   {
    "duration": 742,
    "start_time": "2021-10-22T21:41:36.024Z"
   },
   {
    "duration": 16,
    "start_time": "2021-10-22T21:49:27.175Z"
   },
   {
    "duration": 6,
    "start_time": "2021-10-22T21:51:55.712Z"
   },
   {
    "duration": 10,
    "start_time": "2021-10-22T21:57:38.319Z"
   },
   {
    "duration": 68,
    "start_time": "2021-10-22T22:00:17.123Z"
   },
   {
    "duration": 10,
    "start_time": "2021-10-22T22:00:18.464Z"
   },
   {
    "duration": 6,
    "start_time": "2021-10-22T22:07:32.201Z"
   },
   {
    "duration": 9,
    "start_time": "2021-10-22T22:07:43.345Z"
   },
   {
    "duration": 6,
    "start_time": "2021-10-22T22:12:05.851Z"
   },
   {
    "duration": 604,
    "start_time": "2021-10-22T22:12:12.903Z"
   },
   {
    "duration": 518,
    "start_time": "2021-10-22T22:12:41.920Z"
   },
   {
    "duration": 8,
    "start_time": "2021-10-22T22:13:03.456Z"
   },
   {
    "duration": 5,
    "start_time": "2021-10-22T22:13:09.786Z"
   },
   {
    "duration": 8,
    "start_time": "2021-10-22T22:13:11.257Z"
   },
   {
    "duration": 6,
    "start_time": "2021-10-22T22:13:29.450Z"
   },
   {
    "duration": 8,
    "start_time": "2021-10-22T22:13:29.961Z"
   },
   {
    "duration": 1554,
    "start_time": "2021-10-22T22:13:43.006Z"
   },
   {
    "duration": 210,
    "start_time": "2021-10-22T22:13:44.563Z"
   },
   {
    "duration": 11,
    "start_time": "2021-10-22T22:13:44.776Z"
   },
   {
    "duration": 23,
    "start_time": "2021-10-22T22:13:44.790Z"
   },
   {
    "duration": 11,
    "start_time": "2021-10-22T22:13:44.815Z"
   },
   {
    "duration": 29,
    "start_time": "2021-10-22T22:13:44.828Z"
   },
   {
    "duration": 20,
    "start_time": "2021-10-22T22:13:44.860Z"
   },
   {
    "duration": 5,
    "start_time": "2021-10-22T22:13:44.883Z"
   },
   {
    "duration": 18,
    "start_time": "2021-10-22T22:13:44.923Z"
   },
   {
    "duration": 9,
    "start_time": "2021-10-22T22:13:44.944Z"
   },
   {
    "duration": 260,
    "start_time": "2021-10-22T22:13:44.955Z"
   },
   {
    "duration": 226,
    "start_time": "2021-10-22T22:13:45.222Z"
   },
   {
    "duration": 13,
    "start_time": "2021-10-22T22:13:45.450Z"
   },
   {
    "duration": 20,
    "start_time": "2021-10-22T22:13:45.465Z"
   },
   {
    "duration": 12,
    "start_time": "2021-10-22T22:13:45.487Z"
   },
   {
    "duration": 7,
    "start_time": "2021-10-22T22:13:45.522Z"
   },
   {
    "duration": 6,
    "start_time": "2021-10-22T22:13:45.532Z"
   },
   {
    "duration": 13,
    "start_time": "2021-10-22T22:13:45.540Z"
   },
   {
    "duration": 5,
    "start_time": "2021-10-22T22:13:45.555Z"
   },
   {
    "duration": 13,
    "start_time": "2021-10-22T22:13:45.562Z"
   },
   {
    "duration": 45,
    "start_time": "2021-10-22T22:13:45.577Z"
   },
   {
    "duration": 10,
    "start_time": "2021-10-22T22:13:45.624Z"
   },
   {
    "duration": 24,
    "start_time": "2021-10-22T22:13:45.637Z"
   },
   {
    "duration": 103,
    "start_time": "2021-10-22T22:13:45.663Z"
   },
   {
    "duration": 10,
    "start_time": "2021-10-22T22:13:45.769Z"
   },
   {
    "duration": 15,
    "start_time": "2021-10-22T22:13:45.781Z"
   },
   {
    "duration": 734,
    "start_time": "2021-10-22T22:13:45.823Z"
   },
   {
    "duration": 11,
    "start_time": "2021-10-22T22:13:46.560Z"
   },
   {
    "duration": 22,
    "start_time": "2021-10-22T22:13:46.573Z"
   },
   {
    "duration": 20,
    "start_time": "2021-10-22T22:13:46.623Z"
   },
   {
    "duration": 16,
    "start_time": "2021-10-22T22:13:46.645Z"
   },
   {
    "duration": 9,
    "start_time": "2021-10-22T22:13:46.664Z"
   },
   {
    "duration": 100,
    "start_time": "2021-10-22T22:13:46.675Z"
   },
   {
    "duration": 16,
    "start_time": "2021-10-22T22:13:46.778Z"
   },
   {
    "duration": 28,
    "start_time": "2021-10-22T22:13:46.797Z"
   },
   {
    "duration": 10,
    "start_time": "2021-10-22T22:13:46.828Z"
   },
   {
    "duration": 20,
    "start_time": "2021-10-22T22:13:46.841Z"
   },
   {
    "duration": 5,
    "start_time": "2021-10-22T22:13:46.863Z"
   },
   {
    "duration": 9,
    "start_time": "2021-10-22T22:13:46.870Z"
   },
   {
    "duration": 285,
    "start_time": "2021-10-22T22:13:46.881Z"
   },
   {
    "duration": 8,
    "start_time": "2021-10-22T22:13:47.169Z"
   },
   {
    "duration": 20,
    "start_time": "2021-10-22T22:13:47.180Z"
   },
   {
    "duration": 71,
    "start_time": "2021-10-22T22:13:47.202Z"
   },
   {
    "duration": 10,
    "start_time": "2021-10-22T22:13:47.276Z"
   },
   {
    "duration": 46,
    "start_time": "2021-10-22T22:13:47.289Z"
   },
   {
    "duration": 23,
    "start_time": "2021-10-22T22:13:47.337Z"
   },
   {
    "duration": 9,
    "start_time": "2021-10-22T22:13:47.362Z"
   },
   {
    "duration": 15,
    "start_time": "2021-10-22T22:13:47.374Z"
   },
   {
    "duration": 48,
    "start_time": "2021-10-22T22:13:47.392Z"
   },
   {
    "duration": 8,
    "start_time": "2021-10-22T22:15:19.800Z"
   },
   {
    "duration": 14,
    "start_time": "2021-10-22T22:18:13.381Z"
   },
   {
    "duration": 8,
    "start_time": "2021-10-22T22:19:08.407Z"
   },
   {
    "duration": 10,
    "start_time": "2021-10-22T22:20:06.990Z"
   },
   {
    "duration": 620,
    "start_time": "2021-10-22T22:25:12.806Z"
   },
   {
    "duration": 13,
    "start_time": "2021-10-22T22:28:54.659Z"
   },
   {
    "duration": 6627,
    "start_time": "2021-10-22T22:31:01.255Z"
   },
   {
    "duration": 5,
    "start_time": "2021-10-22T22:31:54.641Z"
   },
   {
    "duration": 9,
    "start_time": "2021-10-22T22:32:59.053Z"
   },
   {
    "duration": 36,
    "start_time": "2021-10-22T22:36:29.610Z"
   },
   {
    "duration": 9,
    "start_time": "2021-10-22T22:36:31.528Z"
   },
   {
    "duration": 10,
    "start_time": "2021-10-22T22:36:39.896Z"
   },
   {
    "duration": 433,
    "start_time": "2021-10-23T16:18:42.793Z"
   },
   {
    "duration": 1588,
    "start_time": "2021-10-23T16:18:54.067Z"
   },
   {
    "duration": 227,
    "start_time": "2021-10-23T16:18:55.658Z"
   },
   {
    "duration": 12,
    "start_time": "2021-10-23T16:18:55.888Z"
   },
   {
    "duration": 21,
    "start_time": "2021-10-23T16:18:55.903Z"
   },
   {
    "duration": 11,
    "start_time": "2021-10-23T16:18:55.926Z"
   },
   {
    "duration": 28,
    "start_time": "2021-10-23T16:18:55.939Z"
   },
   {
    "duration": 51,
    "start_time": "2021-10-23T16:18:55.970Z"
   },
   {
    "duration": 6,
    "start_time": "2021-10-23T16:18:56.025Z"
   },
   {
    "duration": 17,
    "start_time": "2021-10-23T16:18:56.034Z"
   },
   {
    "duration": 8,
    "start_time": "2021-10-23T16:18:56.053Z"
   },
   {
    "duration": 282,
    "start_time": "2021-10-23T16:18:56.064Z"
   },
   {
    "duration": 251,
    "start_time": "2021-10-23T16:18:56.349Z"
   },
   {
    "duration": 15,
    "start_time": "2021-10-23T16:18:56.602Z"
   },
   {
    "duration": 16,
    "start_time": "2021-10-23T16:18:56.620Z"
   },
   {
    "duration": 11,
    "start_time": "2021-10-23T16:18:56.638Z"
   },
   {
    "duration": 7,
    "start_time": "2021-10-23T16:18:56.651Z"
   },
   {
    "duration": 42,
    "start_time": "2021-10-23T16:18:56.660Z"
   },
   {
    "duration": 9,
    "start_time": "2021-10-23T16:18:56.704Z"
   },
   {
    "duration": 4,
    "start_time": "2021-10-23T16:18:56.716Z"
   },
   {
    "duration": 19,
    "start_time": "2021-10-23T16:18:56.723Z"
   },
   {
    "duration": 13,
    "start_time": "2021-10-23T16:18:56.744Z"
   },
   {
    "duration": 24,
    "start_time": "2021-10-23T16:18:56.759Z"
   },
   {
    "duration": 10,
    "start_time": "2021-10-23T16:18:56.804Z"
   },
   {
    "duration": 28,
    "start_time": "2021-10-23T16:18:56.817Z"
   },
   {
    "duration": 98,
    "start_time": "2021-10-23T16:18:56.847Z"
   },
   {
    "duration": 11,
    "start_time": "2021-10-23T16:18:56.948Z"
   },
   {
    "duration": 762,
    "start_time": "2021-10-23T16:18:56.961Z"
   },
   {
    "duration": 12,
    "start_time": "2021-10-23T16:18:57.725Z"
   },
   {
    "duration": 24,
    "start_time": "2021-10-23T16:18:57.739Z"
   },
   {
    "duration": 46,
    "start_time": "2021-10-23T16:18:57.765Z"
   },
   {
    "duration": 24,
    "start_time": "2021-10-23T16:18:57.813Z"
   },
   {
    "duration": 10,
    "start_time": "2021-10-23T16:18:57.839Z"
   },
   {
    "duration": 81,
    "start_time": "2021-10-23T16:18:57.851Z"
   },
   {
    "duration": 13,
    "start_time": "2021-10-23T16:18:57.934Z"
   },
   {
    "duration": 11,
    "start_time": "2021-10-23T16:18:57.949Z"
   },
   {
    "duration": 41,
    "start_time": "2021-10-23T16:18:57.962Z"
   },
   {
    "duration": 28,
    "start_time": "2021-10-23T16:18:58.006Z"
   },
   {
    "duration": 9,
    "start_time": "2021-10-23T16:18:58.037Z"
   },
   {
    "duration": 9,
    "start_time": "2021-10-23T16:18:58.049Z"
   },
   {
    "duration": 41,
    "start_time": "2021-10-23T16:18:58.061Z"
   },
   {
    "duration": 244,
    "start_time": "2021-10-23T16:18:58.105Z"
   },
   {
    "duration": 8,
    "start_time": "2021-10-23T16:18:58.352Z"
   },
   {
    "duration": 30,
    "start_time": "2021-10-23T16:18:58.363Z"
   },
   {
    "duration": 56,
    "start_time": "2021-10-23T16:18:58.401Z"
   },
   {
    "duration": 41,
    "start_time": "2021-10-23T16:18:58.460Z"
   },
   {
    "duration": 1106,
    "start_time": "2021-10-23T16:18:58.504Z"
   },
   {
    "duration": 11,
    "start_time": "2021-10-23T16:18:59.612Z"
   },
   {
    "duration": 77,
    "start_time": "2021-10-23T16:18:59.625Z"
   },
   {
    "duration": 23,
    "start_time": "2021-10-23T16:18:59.705Z"
   },
   {
    "duration": 76,
    "start_time": "2021-10-23T16:18:59.730Z"
   },
   {
    "duration": 25,
    "start_time": "2021-10-23T16:18:59.809Z"
   },
   {
    "duration": 85,
    "start_time": "2021-10-23T16:18:59.837Z"
   },
   {
    "duration": 9,
    "start_time": "2021-10-23T16:18:59.924Z"
   },
   {
    "duration": 67,
    "start_time": "2021-10-23T16:18:59.935Z"
   },
   {
    "duration": 17,
    "start_time": "2021-10-23T16:19:00.005Z"
   },
   {
    "duration": 78,
    "start_time": "2021-10-23T16:19:00.025Z"
   },
   {
    "duration": 6,
    "start_time": "2021-10-23T16:19:18.622Z"
   },
   {
    "duration": 6,
    "start_time": "2021-10-23T16:19:48.003Z"
   },
   {
    "duration": 12,
    "start_time": "2021-10-23T16:20:12.193Z"
   },
   {
    "duration": 9,
    "start_time": "2021-10-23T16:20:28.017Z"
   },
   {
    "duration": 11,
    "start_time": "2021-10-23T16:22:26.820Z"
   },
   {
    "duration": 107,
    "start_time": "2021-10-23T16:22:54.117Z"
   },
   {
    "duration": 11,
    "start_time": "2021-10-23T16:23:03.372Z"
   },
   {
    "duration": 9,
    "start_time": "2021-10-23T16:33:45.124Z"
   },
   {
    "duration": 759,
    "start_time": "2021-10-23T16:46:42.305Z"
   },
   {
    "duration": 1612,
    "start_time": "2021-10-23T16:48:22.251Z"
   },
   {
    "duration": 218,
    "start_time": "2021-10-23T16:48:23.866Z"
   },
   {
    "duration": 11,
    "start_time": "2021-10-23T16:48:24.087Z"
   },
   {
    "duration": 17,
    "start_time": "2021-10-23T16:48:24.101Z"
   },
   {
    "duration": 11,
    "start_time": "2021-10-23T16:48:24.121Z"
   },
   {
    "duration": 28,
    "start_time": "2021-10-23T16:48:24.134Z"
   },
   {
    "duration": 55,
    "start_time": "2021-10-23T16:48:24.164Z"
   },
   {
    "duration": 5,
    "start_time": "2021-10-23T16:48:24.224Z"
   },
   {
    "duration": 17,
    "start_time": "2021-10-23T16:48:24.232Z"
   },
   {
    "duration": 8,
    "start_time": "2021-10-23T16:48:24.252Z"
   },
   {
    "duration": 257,
    "start_time": "2021-10-23T16:48:24.301Z"
   },
   {
    "duration": 251,
    "start_time": "2021-10-23T16:48:24.561Z"
   },
   {
    "duration": 14,
    "start_time": "2021-10-23T16:48:24.814Z"
   },
   {
    "duration": 14,
    "start_time": "2021-10-23T16:48:24.831Z"
   },
   {
    "duration": 6,
    "start_time": "2021-10-23T16:48:24.847Z"
   },
   {
    "duration": 47,
    "start_time": "2021-10-23T16:48:24.855Z"
   },
   {
    "duration": 5,
    "start_time": "2021-10-23T16:48:24.904Z"
   },
   {
    "duration": 11,
    "start_time": "2021-10-23T16:48:24.911Z"
   },
   {
    "duration": 7,
    "start_time": "2021-10-23T16:48:24.924Z"
   },
   {
    "duration": 13,
    "start_time": "2021-10-23T16:48:24.933Z"
   },
   {
    "duration": 9,
    "start_time": "2021-10-23T16:48:24.948Z"
   },
   {
    "duration": 44,
    "start_time": "2021-10-23T16:48:24.959Z"
   },
   {
    "duration": 13,
    "start_time": "2021-10-23T16:48:25.009Z"
   },
   {
    "duration": 23,
    "start_time": "2021-10-23T16:48:25.025Z"
   },
   {
    "duration": 114,
    "start_time": "2021-10-23T16:48:25.050Z"
   },
   {
    "duration": 11,
    "start_time": "2021-10-23T16:48:25.167Z"
   },
   {
    "duration": 778,
    "start_time": "2021-10-23T16:48:25.181Z"
   },
   {
    "duration": 12,
    "start_time": "2021-10-23T16:48:25.962Z"
   },
   {
    "duration": 42,
    "start_time": "2021-10-23T16:48:25.977Z"
   },
   {
    "duration": 18,
    "start_time": "2021-10-23T16:48:26.022Z"
   },
   {
    "duration": 23,
    "start_time": "2021-10-23T16:48:26.042Z"
   },
   {
    "duration": 9,
    "start_time": "2021-10-23T16:48:26.067Z"
   },
   {
    "duration": 63,
    "start_time": "2021-10-23T16:48:26.101Z"
   },
   {
    "duration": 35,
    "start_time": "2021-10-23T16:48:26.167Z"
   },
   {
    "duration": 8,
    "start_time": "2021-10-23T16:48:26.205Z"
   },
   {
    "duration": 11,
    "start_time": "2021-10-23T16:48:26.216Z"
   },
   {
    "duration": 24,
    "start_time": "2021-10-23T16:48:26.229Z"
   },
   {
    "duration": 45,
    "start_time": "2021-10-23T16:48:26.256Z"
   },
   {
    "duration": 5,
    "start_time": "2021-10-23T16:48:26.304Z"
   },
   {
    "duration": 14,
    "start_time": "2021-10-23T16:48:26.311Z"
   },
   {
    "duration": 259,
    "start_time": "2021-10-23T16:48:26.328Z"
   },
   {
    "duration": 16,
    "start_time": "2021-10-23T16:48:26.589Z"
   },
   {
    "duration": 21,
    "start_time": "2021-10-23T16:48:26.608Z"
   },
   {
    "duration": 72,
    "start_time": "2021-10-23T16:48:26.632Z"
   },
   {
    "duration": 9,
    "start_time": "2021-10-23T16:48:26.707Z"
   },
   {
    "duration": 684,
    "start_time": "2021-10-23T16:48:26.718Z"
   },
   {
    "duration": 11,
    "start_time": "2021-10-23T16:48:27.404Z"
   },
   {
    "duration": 20,
    "start_time": "2021-10-23T16:48:27.418Z"
   },
   {
    "duration": 20,
    "start_time": "2021-10-23T16:48:27.441Z"
   },
   {
    "duration": 45,
    "start_time": "2021-10-23T16:48:27.463Z"
   },
   {
    "duration": 9,
    "start_time": "2021-10-23T16:48:27.511Z"
   },
   {
    "duration": 39,
    "start_time": "2021-10-23T16:48:27.523Z"
   },
   {
    "duration": 36,
    "start_time": "2021-10-23T16:48:27.565Z"
   },
   {
    "duration": 10,
    "start_time": "2021-10-23T16:48:27.604Z"
   },
   {
    "duration": 12,
    "start_time": "2021-10-23T16:48:27.617Z"
   },
   {
    "duration": 12,
    "start_time": "2021-10-23T16:48:27.631Z"
   },
   {
    "duration": 60,
    "start_time": "2021-10-23T16:48:27.645Z"
   },
   {
    "duration": 9,
    "start_time": "2021-10-23T16:48:27.707Z"
   },
   {
    "duration": 8,
    "start_time": "2021-10-23T16:48:27.719Z"
   },
   {
    "duration": 14,
    "start_time": "2021-10-23T16:48:27.729Z"
   },
   {
    "duration": 18,
    "start_time": "2021-10-23T16:48:27.746Z"
   },
   {
    "duration": 259,
    "start_time": "2021-10-23T16:48:27.766Z"
   },
   {
    "duration": 10,
    "start_time": "2021-10-23T18:31:02.278Z"
   },
   {
    "duration": 147,
    "start_time": "2021-10-23T18:31:20.402Z"
   },
   {
    "duration": 7,
    "start_time": "2021-10-23T18:31:28.692Z"
   },
   {
    "duration": 7,
    "start_time": "2021-10-23T18:31:37.318Z"
   },
   {
    "duration": 12,
    "start_time": "2021-10-23T18:34:26.442Z"
   },
   {
    "duration": 6,
    "start_time": "2021-10-23T18:36:05.429Z"
   },
   {
    "duration": 56,
    "start_time": "2021-10-23T18:39:56.307Z"
   },
   {
    "duration": 6,
    "start_time": "2021-10-23T18:40:32.828Z"
   },
   {
    "duration": 105,
    "start_time": "2021-10-23T19:31:02.379Z"
   },
   {
    "duration": 7,
    "start_time": "2021-10-23T19:31:46.069Z"
   },
   {
    "duration": 14,
    "start_time": "2021-10-23T19:51:32.002Z"
   },
   {
    "duration": 17,
    "start_time": "2021-10-23T19:53:22.041Z"
   },
   {
    "duration": 19,
    "start_time": "2021-10-23T19:53:23.613Z"
   },
   {
    "duration": 10,
    "start_time": "2021-10-23T19:56:26.369Z"
   },
   {
    "duration": 7,
    "start_time": "2021-10-23T19:58:52.276Z"
   },
   {
    "duration": 14,
    "start_time": "2021-10-23T20:02:31.418Z"
   },
   {
    "duration": 12,
    "start_time": "2021-10-23T20:09:38.507Z"
   },
   {
    "duration": 7,
    "start_time": "2021-10-23T20:39:36.668Z"
   },
   {
    "duration": 21,
    "start_time": "2021-10-23T20:40:31.570Z"
   },
   {
    "duration": 29,
    "start_time": "2021-10-23T20:40:34.282Z"
   },
   {
    "duration": 6,
    "start_time": "2021-10-23T20:40:52.907Z"
   },
   {
    "duration": 9,
    "start_time": "2021-10-23T20:42:31.328Z"
   },
   {
    "duration": 829,
    "start_time": "2021-10-23T20:49:12.966Z"
   },
   {
    "duration": 8682,
    "start_time": "2021-10-23T20:49:36.814Z"
   },
   {
    "duration": 1502,
    "start_time": "2021-10-23T20:51:14.754Z"
   },
   {
    "duration": 270,
    "start_time": "2021-10-23T20:51:16.259Z"
   },
   {
    "duration": 10,
    "start_time": "2021-10-23T20:51:16.532Z"
   },
   {
    "duration": 20,
    "start_time": "2021-10-23T20:51:16.545Z"
   },
   {
    "duration": 11,
    "start_time": "2021-10-23T20:51:16.567Z"
   },
   {
    "duration": 46,
    "start_time": "2021-10-23T20:51:16.581Z"
   },
   {
    "duration": 20,
    "start_time": "2021-10-23T20:51:16.630Z"
   },
   {
    "duration": 5,
    "start_time": "2021-10-23T20:51:16.654Z"
   },
   {
    "duration": 46,
    "start_time": "2021-10-23T20:51:16.662Z"
   },
   {
    "duration": 9,
    "start_time": "2021-10-23T20:51:16.711Z"
   },
   {
    "duration": 263,
    "start_time": "2021-10-23T20:51:16.723Z"
   },
   {
    "duration": 259,
    "start_time": "2021-10-23T20:51:16.988Z"
   },
   {
    "duration": 14,
    "start_time": "2021-10-23T20:51:17.249Z"
   },
   {
    "duration": 36,
    "start_time": "2021-10-23T20:51:17.266Z"
   },
   {
    "duration": 6,
    "start_time": "2021-10-23T20:51:17.304Z"
   },
   {
    "duration": 10,
    "start_time": "2021-10-23T20:51:17.312Z"
   },
   {
    "duration": 8,
    "start_time": "2021-10-23T20:51:17.324Z"
   },
   {
    "duration": 9,
    "start_time": "2021-10-23T20:51:17.335Z"
   },
   {
    "duration": 5,
    "start_time": "2021-10-23T20:51:17.347Z"
   },
   {
    "duration": 47,
    "start_time": "2021-10-23T20:51:17.354Z"
   },
   {
    "duration": 8,
    "start_time": "2021-10-23T20:51:17.403Z"
   },
   {
    "duration": 27,
    "start_time": "2021-10-23T20:51:17.413Z"
   },
   {
    "duration": 11,
    "start_time": "2021-10-23T20:51:17.446Z"
   },
   {
    "duration": 51,
    "start_time": "2021-10-23T20:51:17.462Z"
   },
   {
    "duration": 105,
    "start_time": "2021-10-23T20:51:17.516Z"
   },
   {
    "duration": 14,
    "start_time": "2021-10-23T20:51:17.625Z"
   },
   {
    "duration": 824,
    "start_time": "2021-10-23T20:51:17.642Z"
   },
   {
    "duration": 12,
    "start_time": "2021-10-23T20:51:18.469Z"
   },
   {
    "duration": 37,
    "start_time": "2021-10-23T20:51:18.483Z"
   },
   {
    "duration": 20,
    "start_time": "2021-10-23T20:51:18.522Z"
   },
   {
    "duration": 16,
    "start_time": "2021-10-23T20:51:18.544Z"
   },
   {
    "duration": 38,
    "start_time": "2021-10-23T20:51:18.562Z"
   },
   {
    "duration": 61,
    "start_time": "2021-10-23T20:51:18.603Z"
   },
   {
    "duration": 34,
    "start_time": "2021-10-23T20:51:18.666Z"
   },
   {
    "duration": 8,
    "start_time": "2021-10-23T20:51:18.703Z"
   },
   {
    "duration": 11,
    "start_time": "2021-10-23T20:51:18.714Z"
   },
   {
    "duration": 26,
    "start_time": "2021-10-23T20:51:18.727Z"
   },
   {
    "duration": 7,
    "start_time": "2021-10-23T20:51:18.755Z"
   },
   {
    "duration": 40,
    "start_time": "2021-10-23T20:51:18.764Z"
   },
   {
    "duration": 11,
    "start_time": "2021-10-23T20:51:18.806Z"
   },
   {
    "duration": 273,
    "start_time": "2021-10-23T20:51:18.819Z"
   },
   {
    "duration": 14,
    "start_time": "2021-10-23T20:51:19.095Z"
   },
   {
    "duration": 18,
    "start_time": "2021-10-23T20:51:19.111Z"
   },
   {
    "duration": 81,
    "start_time": "2021-10-23T20:51:19.131Z"
   },
   {
    "duration": 9,
    "start_time": "2021-10-23T20:51:19.214Z"
   },
   {
    "duration": 690,
    "start_time": "2021-10-23T20:51:19.225Z"
   },
   {
    "duration": 10,
    "start_time": "2021-10-23T20:51:19.918Z"
   },
   {
    "duration": 18,
    "start_time": "2021-10-23T20:51:19.930Z"
   },
   {
    "duration": 18,
    "start_time": "2021-10-23T20:51:19.950Z"
   },
   {
    "duration": 41,
    "start_time": "2021-10-23T20:51:19.970Z"
   },
   {
    "duration": 8,
    "start_time": "2021-10-23T20:51:20.013Z"
   },
   {
    "duration": 41,
    "start_time": "2021-10-23T20:51:20.024Z"
   },
   {
    "duration": 41,
    "start_time": "2021-10-23T20:51:20.067Z"
   },
   {
    "duration": 9,
    "start_time": "2021-10-23T20:51:20.111Z"
   },
   {
    "duration": 13,
    "start_time": "2021-10-23T20:51:20.123Z"
   },
   {
    "duration": 11,
    "start_time": "2021-10-23T20:51:20.139Z"
   },
   {
    "duration": 57,
    "start_time": "2021-10-23T20:51:20.152Z"
   },
   {
    "duration": 9,
    "start_time": "2021-10-23T20:51:20.212Z"
   },
   {
    "duration": 6,
    "start_time": "2021-10-23T20:51:20.224Z"
   },
   {
    "duration": 13,
    "start_time": "2021-10-23T20:51:20.232Z"
   },
   {
    "duration": 10,
    "start_time": "2021-10-23T20:51:20.247Z"
   },
   {
    "duration": 272,
    "start_time": "2021-10-23T20:51:20.260Z"
   },
   {
    "duration": 7,
    "start_time": "2021-10-23T20:51:20.535Z"
   },
   {
    "duration": 11,
    "start_time": "2021-10-23T20:51:20.544Z"
   },
   {
    "duration": 29,
    "start_time": "2021-10-23T20:51:20.557Z"
   },
   {
    "duration": 7,
    "start_time": "2021-10-23T20:51:20.601Z"
   },
   {
    "duration": 20,
    "start_time": "2021-10-23T20:51:20.610Z"
   },
   {
    "duration": 17,
    "start_time": "2021-10-23T20:51:20.637Z"
   },
   {
    "duration": 48,
    "start_time": "2021-10-23T20:51:20.657Z"
   },
   {
    "duration": 10,
    "start_time": "2021-10-23T20:51:20.707Z"
   },
   {
    "duration": 8,
    "start_time": "2021-10-23T20:51:20.719Z"
   },
   {
    "duration": 13,
    "start_time": "2021-10-23T20:51:20.729Z"
   },
   {
    "duration": 19,
    "start_time": "2021-10-23T20:51:20.744Z"
   },
   {
    "duration": 35,
    "start_time": "2021-10-23T20:51:20.765Z"
   },
   {
    "duration": 10,
    "start_time": "2021-10-23T20:51:36.589Z"
   },
   {
    "duration": 5,
    "start_time": "2021-10-23T20:53:53.759Z"
   },
   {
    "duration": 1552,
    "start_time": "2021-10-23T20:55:32.232Z"
   },
   {
    "duration": 268,
    "start_time": "2021-10-23T20:55:33.787Z"
   },
   {
    "duration": 11,
    "start_time": "2021-10-23T20:55:34.058Z"
   },
   {
    "duration": 17,
    "start_time": "2021-10-23T20:55:34.072Z"
   },
   {
    "duration": 15,
    "start_time": "2021-10-23T20:55:34.092Z"
   },
   {
    "duration": 31,
    "start_time": "2021-10-23T20:55:34.109Z"
   },
   {
    "duration": 22,
    "start_time": "2021-10-23T20:55:34.142Z"
   },
   {
    "duration": 5,
    "start_time": "2021-10-23T20:55:34.168Z"
   },
   {
    "duration": 16,
    "start_time": "2021-10-23T20:55:34.202Z"
   },
   {
    "duration": 10,
    "start_time": "2021-10-23T20:55:34.221Z"
   },
   {
    "duration": 359,
    "start_time": "2021-10-23T20:55:34.234Z"
   },
   {
    "duration": 336,
    "start_time": "2021-10-23T20:55:34.600Z"
   },
   {
    "duration": 19,
    "start_time": "2021-10-23T20:55:34.939Z"
   },
   {
    "duration": 23,
    "start_time": "2021-10-23T20:55:34.960Z"
   },
   {
    "duration": 6,
    "start_time": "2021-10-23T20:55:35.001Z"
   },
   {
    "duration": 10,
    "start_time": "2021-10-23T20:55:35.009Z"
   },
   {
    "duration": 6,
    "start_time": "2021-10-23T20:55:35.021Z"
   },
   {
    "duration": 7,
    "start_time": "2021-10-23T20:55:35.029Z"
   },
   {
    "duration": 6,
    "start_time": "2021-10-23T20:55:35.038Z"
   },
   {
    "duration": 10,
    "start_time": "2021-10-23T20:55:35.046Z"
   },
   {
    "duration": 47,
    "start_time": "2021-10-23T20:55:35.058Z"
   },
   {
    "duration": 14,
    "start_time": "2021-10-23T20:55:35.107Z"
   },
   {
    "duration": 10,
    "start_time": "2021-10-23T20:55:35.127Z"
   },
   {
    "duration": 29,
    "start_time": "2021-10-23T20:55:35.141Z"
   },
   {
    "duration": 129,
    "start_time": "2021-10-23T20:55:35.173Z"
   },
   {
    "duration": 11,
    "start_time": "2021-10-23T20:55:35.305Z"
   },
   {
    "duration": 754,
    "start_time": "2021-10-23T20:55:35.319Z"
   },
   {
    "duration": 11,
    "start_time": "2021-10-23T20:55:36.075Z"
   },
   {
    "duration": 22,
    "start_time": "2021-10-23T20:55:36.100Z"
   },
   {
    "duration": 19,
    "start_time": "2021-10-23T20:55:36.124Z"
   },
   {
    "duration": 56,
    "start_time": "2021-10-23T20:55:36.145Z"
   },
   {
    "duration": 9,
    "start_time": "2021-10-23T20:55:36.203Z"
   },
   {
    "duration": 62,
    "start_time": "2021-10-23T20:55:36.214Z"
   },
   {
    "duration": 9,
    "start_time": "2021-10-23T20:55:36.301Z"
   },
   {
    "duration": 7,
    "start_time": "2021-10-23T20:55:36.313Z"
   },
   {
    "duration": 12,
    "start_time": "2021-10-23T20:55:36.322Z"
   },
   {
    "duration": 22,
    "start_time": "2021-10-23T20:55:36.336Z"
   },
   {
    "duration": 45,
    "start_time": "2021-10-23T20:55:36.361Z"
   },
   {
    "duration": 6,
    "start_time": "2021-10-23T20:55:36.410Z"
   },
   {
    "duration": 11,
    "start_time": "2021-10-23T20:55:36.420Z"
   },
   {
    "duration": 367,
    "start_time": "2021-10-23T20:55:36.434Z"
   },
   {
    "duration": 13,
    "start_time": "2021-10-23T20:55:36.803Z"
   },
   {
    "duration": 24,
    "start_time": "2021-10-23T20:55:36.819Z"
   },
   {
    "duration": 107,
    "start_time": "2021-10-23T20:55:36.846Z"
   },
   {
    "duration": 12,
    "start_time": "2021-10-23T20:55:36.956Z"
   },
   {
    "duration": 955,
    "start_time": "2021-10-23T20:55:36.971Z"
   },
   {
    "duration": 15,
    "start_time": "2021-10-23T20:55:37.929Z"
   },
   {
    "duration": 25,
    "start_time": "2021-10-23T20:55:37.947Z"
   },
   {
    "duration": 25,
    "start_time": "2021-10-23T20:55:38.001Z"
   },
   {
    "duration": 20,
    "start_time": "2021-10-23T20:55:38.029Z"
   },
   {
    "duration": 20,
    "start_time": "2021-10-23T20:55:38.052Z"
   },
   {
    "duration": 53,
    "start_time": "2021-10-23T20:55:38.075Z"
   },
   {
    "duration": 12,
    "start_time": "2021-10-23T20:55:38.131Z"
   },
   {
    "duration": 17,
    "start_time": "2021-10-23T20:55:38.145Z"
   },
   {
    "duration": 14,
    "start_time": "2021-10-23T20:55:38.165Z"
   },
   {
    "duration": 11,
    "start_time": "2021-10-23T20:55:38.201Z"
   },
   {
    "duration": 27,
    "start_time": "2021-10-23T20:55:38.214Z"
   },
   {
    "duration": 9,
    "start_time": "2021-10-23T20:55:38.243Z"
   },
   {
    "duration": 18,
    "start_time": "2021-10-23T20:55:38.254Z"
   },
   {
    "duration": 31,
    "start_time": "2021-10-23T20:55:38.274Z"
   },
   {
    "duration": 22,
    "start_time": "2021-10-23T20:55:38.308Z"
   },
   {
    "duration": 219,
    "start_time": "2021-10-23T20:55:38.333Z"
   },
   {
    "duration": 6,
    "start_time": "2021-10-23T20:55:38.555Z"
   },
   {
    "duration": 9,
    "start_time": "2021-10-23T20:55:38.563Z"
   },
   {
    "duration": 40,
    "start_time": "2021-10-23T20:55:38.574Z"
   },
   {
    "duration": 5,
    "start_time": "2021-10-23T20:55:38.617Z"
   },
   {
    "duration": 15,
    "start_time": "2021-10-23T20:55:38.624Z"
   },
   {
    "duration": 55,
    "start_time": "2021-10-23T20:55:38.646Z"
   },
   {
    "duration": 20,
    "start_time": "2021-10-23T20:55:38.703Z"
   },
   {
    "duration": 9,
    "start_time": "2021-10-23T20:55:38.725Z"
   },
   {
    "duration": 7,
    "start_time": "2021-10-23T20:55:38.736Z"
   },
   {
    "duration": 6,
    "start_time": "2021-10-23T20:55:38.745Z"
   },
   {
    "duration": 59,
    "start_time": "2021-10-23T20:55:38.753Z"
   },
   {
    "duration": 542,
    "start_time": "2021-10-23T20:55:38.814Z"
   },
   {
    "duration": 1594,
    "start_time": "2021-10-23T20:56:33.862Z"
   },
   {
    "duration": 248,
    "start_time": "2021-10-23T20:56:35.460Z"
   },
   {
    "duration": 16,
    "start_time": "2021-10-23T20:56:35.712Z"
   },
   {
    "duration": 20,
    "start_time": "2021-10-23T20:56:35.731Z"
   },
   {
    "duration": 14,
    "start_time": "2021-10-23T20:56:35.754Z"
   },
   {
    "duration": 55,
    "start_time": "2021-10-23T20:56:35.771Z"
   },
   {
    "duration": 22,
    "start_time": "2021-10-23T20:56:35.829Z"
   },
   {
    "duration": 6,
    "start_time": "2021-10-23T20:56:35.854Z"
   },
   {
    "duration": 50,
    "start_time": "2021-10-23T20:56:35.863Z"
   },
   {
    "duration": 9,
    "start_time": "2021-10-23T20:56:35.916Z"
   },
   {
    "duration": 251,
    "start_time": "2021-10-23T20:56:35.927Z"
   },
   {
    "duration": 351,
    "start_time": "2021-10-23T20:56:36.181Z"
   },
   {
    "duration": 14,
    "start_time": "2021-10-23T20:56:36.534Z"
   },
   {
    "duration": 17,
    "start_time": "2021-10-23T20:56:36.551Z"
   },
   {
    "duration": 32,
    "start_time": "2021-10-23T20:56:36.570Z"
   },
   {
    "duration": 7,
    "start_time": "2021-10-23T20:56:36.605Z"
   },
   {
    "duration": 8,
    "start_time": "2021-10-23T20:56:36.615Z"
   },
   {
    "duration": 9,
    "start_time": "2021-10-23T20:56:36.626Z"
   },
   {
    "duration": 18,
    "start_time": "2021-10-23T20:56:36.637Z"
   },
   {
    "duration": 43,
    "start_time": "2021-10-23T20:56:36.658Z"
   },
   {
    "duration": 8,
    "start_time": "2021-10-23T20:56:36.704Z"
   },
   {
    "duration": 13,
    "start_time": "2021-10-23T20:56:36.715Z"
   },
   {
    "duration": 11,
    "start_time": "2021-10-23T20:56:36.734Z"
   },
   {
    "duration": 59,
    "start_time": "2021-10-23T20:56:36.749Z"
   },
   {
    "duration": 99,
    "start_time": "2021-10-23T20:56:36.811Z"
   },
   {
    "duration": 11,
    "start_time": "2021-10-23T20:56:36.912Z"
   },
   {
    "duration": 777,
    "start_time": "2021-10-23T20:56:36.926Z"
   },
   {
    "duration": 15,
    "start_time": "2021-10-23T20:56:37.707Z"
   },
   {
    "duration": 26,
    "start_time": "2021-10-23T20:56:37.725Z"
   },
   {
    "duration": 56,
    "start_time": "2021-10-23T20:56:37.754Z"
   },
   {
    "duration": 16,
    "start_time": "2021-10-23T20:56:37.812Z"
   },
   {
    "duration": 9,
    "start_time": "2021-10-23T20:56:37.830Z"
   },
   {
    "duration": 101,
    "start_time": "2021-10-23T20:56:37.841Z"
   },
   {
    "duration": 12,
    "start_time": "2021-10-23T20:56:37.945Z"
   },
   {
    "duration": 8,
    "start_time": "2021-10-23T20:56:37.959Z"
   },
   {
    "duration": 39,
    "start_time": "2021-10-23T20:56:37.970Z"
   },
   {
    "duration": 28,
    "start_time": "2021-10-23T20:56:38.013Z"
   },
   {
    "duration": 8,
    "start_time": "2021-10-23T20:56:38.044Z"
   },
   {
    "duration": 7,
    "start_time": "2021-10-23T20:56:38.055Z"
   },
   {
    "duration": 41,
    "start_time": "2021-10-23T20:56:38.065Z"
   },
   {
    "duration": 348,
    "start_time": "2021-10-23T20:56:38.108Z"
   },
   {
    "duration": 12,
    "start_time": "2021-10-23T20:56:38.459Z"
   },
   {
    "duration": 42,
    "start_time": "2021-10-23T20:56:38.473Z"
   },
   {
    "duration": 90,
    "start_time": "2021-10-23T20:56:38.518Z"
   },
   {
    "duration": 12,
    "start_time": "2021-10-23T20:56:38.611Z"
   },
   {
    "duration": 677,
    "start_time": "2021-10-23T20:56:38.625Z"
   },
   {
    "duration": 11,
    "start_time": "2021-10-23T20:56:39.304Z"
   },
   {
    "duration": 21,
    "start_time": "2021-10-23T20:56:39.317Z"
   },
   {
    "duration": 20,
    "start_time": "2021-10-23T20:56:39.341Z"
   },
   {
    "duration": 41,
    "start_time": "2021-10-23T20:56:39.363Z"
   },
   {
    "duration": 8,
    "start_time": "2021-10-23T20:56:39.407Z"
   },
   {
    "duration": 52,
    "start_time": "2021-10-23T20:56:39.418Z"
   },
   {
    "duration": 37,
    "start_time": "2021-10-23T20:56:39.474Z"
   },
   {
    "duration": 9,
    "start_time": "2021-10-23T20:56:39.513Z"
   },
   {
    "duration": 11,
    "start_time": "2021-10-23T20:56:39.524Z"
   },
   {
    "duration": 10,
    "start_time": "2021-10-23T20:56:39.537Z"
   },
   {
    "duration": 65,
    "start_time": "2021-10-23T20:56:39.550Z"
   },
   {
    "duration": 9,
    "start_time": "2021-10-23T20:56:39.617Z"
   },
   {
    "duration": 5,
    "start_time": "2021-10-23T20:56:39.629Z"
   },
   {
    "duration": 10,
    "start_time": "2021-10-23T20:56:39.636Z"
   },
   {
    "duration": 9,
    "start_time": "2021-10-23T20:56:39.648Z"
   },
   {
    "duration": 258,
    "start_time": "2021-10-23T20:56:39.660Z"
   },
   {
    "duration": 6,
    "start_time": "2021-10-23T20:56:39.920Z"
   },
   {
    "duration": 27,
    "start_time": "2021-10-23T20:56:39.929Z"
   },
   {
    "duration": 17,
    "start_time": "2021-10-23T20:56:39.958Z"
   },
   {
    "duration": 6,
    "start_time": "2021-10-23T20:56:39.977Z"
   },
   {
    "duration": 13,
    "start_time": "2021-10-23T20:56:40.001Z"
   },
   {
    "duration": 18,
    "start_time": "2021-10-23T20:56:40.021Z"
   },
   {
    "duration": 20,
    "start_time": "2021-10-23T20:56:40.042Z"
   },
   {
    "duration": 44,
    "start_time": "2021-10-23T20:56:40.064Z"
   },
   {
    "duration": 7,
    "start_time": "2021-10-23T20:56:40.110Z"
   },
   {
    "duration": 10,
    "start_time": "2021-10-23T20:56:40.121Z"
   },
   {
    "duration": 16,
    "start_time": "2021-10-23T20:56:40.134Z"
   },
   {
    "duration": 59,
    "start_time": "2021-10-23T20:56:40.152Z"
   },
   {
    "duration": 20,
    "start_time": "2021-10-23T21:11:58.125Z"
   },
   {
    "duration": 1589,
    "start_time": "2021-10-24T11:02:33.343Z"
   },
   {
    "duration": 202,
    "start_time": "2021-10-24T11:02:34.934Z"
   },
   {
    "duration": 12,
    "start_time": "2021-10-24T11:02:35.139Z"
   },
   {
    "duration": 18,
    "start_time": "2021-10-24T11:02:35.154Z"
   },
   {
    "duration": 12,
    "start_time": "2021-10-24T11:02:35.174Z"
   },
   {
    "duration": 29,
    "start_time": "2021-10-24T11:02:35.189Z"
   },
   {
    "duration": 49,
    "start_time": "2021-10-24T11:02:35.221Z"
   },
   {
    "duration": 6,
    "start_time": "2021-10-24T11:02:35.274Z"
   },
   {
    "duration": 18,
    "start_time": "2021-10-24T11:02:35.283Z"
   },
   {
    "duration": 9,
    "start_time": "2021-10-24T11:02:35.304Z"
   },
   {
    "duration": 279,
    "start_time": "2021-10-24T11:02:35.316Z"
   },
   {
    "duration": 261,
    "start_time": "2021-10-24T11:02:35.598Z"
   },
   {
    "duration": 16,
    "start_time": "2021-10-24T11:02:35.866Z"
   },
   {
    "duration": 17,
    "start_time": "2021-10-24T11:02:35.884Z"
   },
   {
    "duration": 6,
    "start_time": "2021-10-24T11:02:35.904Z"
   },
   {
    "duration": 8,
    "start_time": "2021-10-24T11:02:35.912Z"
   },
   {
    "duration": 5,
    "start_time": "2021-10-24T11:02:35.922Z"
   },
   {
    "duration": 7,
    "start_time": "2021-10-24T11:02:35.968Z"
   },
   {
    "duration": 8,
    "start_time": "2021-10-24T11:02:35.978Z"
   },
   {
    "duration": 20,
    "start_time": "2021-10-24T11:02:35.989Z"
   },
   {
    "duration": 10,
    "start_time": "2021-10-24T11:02:36.011Z"
   },
   {
    "duration": 22,
    "start_time": "2021-10-24T11:02:36.023Z"
   },
   {
    "duration": 11,
    "start_time": "2021-10-24T11:02:36.071Z"
   },
   {
    "duration": 23,
    "start_time": "2021-10-24T11:02:36.086Z"
   },
   {
    "duration": 118,
    "start_time": "2021-10-24T11:02:36.111Z"
   },
   {
    "duration": 12,
    "start_time": "2021-10-24T11:02:36.231Z"
   },
   {
    "duration": 768,
    "start_time": "2021-10-24T11:02:36.245Z"
   },
   {
    "duration": 12,
    "start_time": "2021-10-24T11:02:37.016Z"
   },
   {
    "duration": 47,
    "start_time": "2021-10-24T11:02:37.030Z"
   },
   {
    "duration": 21,
    "start_time": "2021-10-24T11:02:37.080Z"
   },
   {
    "duration": 17,
    "start_time": "2021-10-24T11:02:37.104Z"
   },
   {
    "duration": 43,
    "start_time": "2021-10-24T11:02:37.124Z"
   },
   {
    "duration": 61,
    "start_time": "2021-10-24T11:02:37.170Z"
   },
   {
    "duration": 35,
    "start_time": "2021-10-24T11:02:37.234Z"
   },
   {
    "duration": 12,
    "start_time": "2021-10-24T11:02:37.272Z"
   },
   {
    "duration": 10,
    "start_time": "2021-10-24T11:02:37.287Z"
   },
   {
    "duration": 25,
    "start_time": "2021-10-24T11:02:37.300Z"
   },
   {
    "duration": 44,
    "start_time": "2021-10-24T11:02:37.327Z"
   },
   {
    "duration": 5,
    "start_time": "2021-10-24T11:02:37.373Z"
   },
   {
    "duration": 17,
    "start_time": "2021-10-24T11:02:37.381Z"
   },
   {
    "duration": 265,
    "start_time": "2021-10-24T11:02:37.402Z"
   },
   {
    "duration": 10,
    "start_time": "2021-10-24T11:02:37.669Z"
   },
   {
    "duration": 24,
    "start_time": "2021-10-24T11:02:37.681Z"
   },
   {
    "duration": 83,
    "start_time": "2021-10-24T11:02:37.708Z"
   },
   {
    "duration": 10,
    "start_time": "2021-10-24T11:02:37.793Z"
   },
   {
    "duration": 697,
    "start_time": "2021-10-24T11:02:37.806Z"
   },
   {
    "duration": 10,
    "start_time": "2021-10-24T11:02:38.506Z"
   },
   {
    "duration": 21,
    "start_time": "2021-10-24T11:02:38.518Z"
   },
   {
    "duration": 41,
    "start_time": "2021-10-24T11:02:38.542Z"
   },
   {
    "duration": 15,
    "start_time": "2021-10-24T11:02:38.586Z"
   },
   {
    "duration": 9,
    "start_time": "2021-10-24T11:02:38.603Z"
   },
   {
    "duration": 67,
    "start_time": "2021-10-24T11:02:38.615Z"
   },
   {
    "duration": 12,
    "start_time": "2021-10-24T11:02:38.685Z"
   },
   {
    "duration": 9,
    "start_time": "2021-10-24T11:02:38.700Z"
   },
   {
    "duration": 10,
    "start_time": "2021-10-24T11:02:38.712Z"
   },
   {
    "duration": 44,
    "start_time": "2021-10-24T11:02:38.725Z"
   },
   {
    "duration": 23,
    "start_time": "2021-10-24T11:02:38.771Z"
   },
   {
    "duration": 9,
    "start_time": "2021-10-24T11:02:38.797Z"
   },
   {
    "duration": 6,
    "start_time": "2021-10-24T11:02:38.808Z"
   },
   {
    "duration": 54,
    "start_time": "2021-10-24T11:02:38.816Z"
   },
   {
    "duration": 9,
    "start_time": "2021-10-24T11:02:38.873Z"
   },
   {
    "duration": 241,
    "start_time": "2021-10-24T11:02:38.884Z"
   },
   {
    "duration": 7,
    "start_time": "2021-10-24T11:02:39.128Z"
   },
   {
    "duration": 31,
    "start_time": "2021-10-24T11:02:39.138Z"
   },
   {
    "duration": 17,
    "start_time": "2021-10-24T11:02:39.172Z"
   },
   {
    "duration": 6,
    "start_time": "2021-10-24T11:02:39.192Z"
   },
   {
    "duration": 19,
    "start_time": "2021-10-24T11:02:39.201Z"
   },
   {
    "duration": 46,
    "start_time": "2021-10-24T11:02:39.230Z"
   },
   {
    "duration": 23,
    "start_time": "2021-10-24T11:02:39.279Z"
   },
   {
    "duration": 12,
    "start_time": "2021-10-24T11:02:39.305Z"
   },
   {
    "duration": 47,
    "start_time": "2021-10-24T11:02:39.320Z"
   },
   {
    "duration": 11,
    "start_time": "2021-10-24T11:02:39.370Z"
   },
   {
    "duration": 17,
    "start_time": "2021-10-24T11:02:39.384Z"
   },
   {
    "duration": 19,
    "start_time": "2021-10-24T11:02:39.403Z"
   },
   {
    "duration": 44,
    "start_time": "2021-10-24T11:02:39.425Z"
   },
   {
    "duration": 13,
    "start_time": "2021-10-24T11:02:39.472Z"
   },
   {
    "duration": 11,
    "start_time": "2021-10-24T11:06:48.542Z"
   },
   {
    "duration": 351,
    "start_time": "2021-10-24T11:06:55.200Z"
   },
   {
    "duration": 15,
    "start_time": "2021-10-24T11:08:08.311Z"
   },
   {
    "duration": 1650,
    "start_time": "2021-10-24T11:11:35.032Z"
   },
   {
    "duration": 196,
    "start_time": "2021-10-24T11:11:36.686Z"
   },
   {
    "duration": 11,
    "start_time": "2021-10-24T11:11:36.885Z"
   },
   {
    "duration": 21,
    "start_time": "2021-10-24T11:11:36.899Z"
   },
   {
    "duration": 14,
    "start_time": "2021-10-24T11:11:36.923Z"
   },
   {
    "duration": 31,
    "start_time": "2021-10-24T11:11:36.968Z"
   },
   {
    "duration": 21,
    "start_time": "2021-10-24T11:11:37.001Z"
   },
   {
    "duration": 6,
    "start_time": "2021-10-24T11:11:37.027Z"
   },
   {
    "duration": 47,
    "start_time": "2021-10-24T11:11:37.036Z"
   },
   {
    "duration": 10,
    "start_time": "2021-10-24T11:11:37.085Z"
   },
   {
    "duration": 279,
    "start_time": "2021-10-24T11:11:37.097Z"
   },
   {
    "duration": 255,
    "start_time": "2021-10-24T11:11:37.379Z"
   },
   {
    "duration": 15,
    "start_time": "2021-10-24T11:11:37.637Z"
   },
   {
    "duration": 26,
    "start_time": "2021-10-24T11:11:37.654Z"
   },
   {
    "duration": 12,
    "start_time": "2021-10-24T11:11:37.682Z"
   },
   {
    "duration": 7,
    "start_time": "2021-10-24T11:11:37.697Z"
   },
   {
    "duration": 10,
    "start_time": "2021-10-24T11:11:37.706Z"
   },
   {
    "duration": 9,
    "start_time": "2021-10-24T11:11:37.719Z"
   },
   {
    "duration": 38,
    "start_time": "2021-10-24T11:11:37.731Z"
   },
   {
    "duration": 10,
    "start_time": "2021-10-24T11:11:37.772Z"
   },
   {
    "duration": 8,
    "start_time": "2021-10-24T11:11:37.784Z"
   },
   {
    "duration": 17,
    "start_time": "2021-10-24T11:11:37.795Z"
   },
   {
    "duration": 51,
    "start_time": "2021-10-24T11:11:37.819Z"
   },
   {
    "duration": 21,
    "start_time": "2021-10-24T11:11:37.875Z"
   },
   {
    "duration": 102,
    "start_time": "2021-10-24T11:11:37.899Z"
   },
   {
    "duration": 11,
    "start_time": "2021-10-24T11:11:38.004Z"
   },
   {
    "duration": 780,
    "start_time": "2021-10-24T11:11:38.018Z"
   },
   {
    "duration": 13,
    "start_time": "2021-10-24T11:11:38.801Z"
   },
   {
    "duration": 22,
    "start_time": "2021-10-24T11:11:38.816Z"
   },
   {
    "duration": 21,
    "start_time": "2021-10-24T11:11:38.868Z"
   },
   {
    "duration": 18,
    "start_time": "2021-10-24T11:11:38.891Z"
   },
   {
    "duration": 10,
    "start_time": "2021-10-24T11:11:38.912Z"
   },
   {
    "duration": 98,
    "start_time": "2021-10-24T11:11:38.925Z"
   },
   {
    "duration": 11,
    "start_time": "2021-10-24T11:11:39.026Z"
   },
   {
    "duration": 30,
    "start_time": "2021-10-24T11:11:39.040Z"
   },
   {
    "duration": 12,
    "start_time": "2021-10-24T11:11:39.073Z"
   },
   {
    "duration": 22,
    "start_time": "2021-10-24T11:11:39.088Z"
   },
   {
    "duration": 57,
    "start_time": "2021-10-24T11:11:39.113Z"
   },
   {
    "duration": 6,
    "start_time": "2021-10-24T11:11:39.173Z"
   },
   {
    "duration": 11,
    "start_time": "2021-10-24T11:11:39.182Z"
   },
   {
    "duration": 282,
    "start_time": "2021-10-24T11:11:39.196Z"
   },
   {
    "duration": 10,
    "start_time": "2021-10-24T11:11:39.481Z"
   },
   {
    "duration": 19,
    "start_time": "2021-10-24T11:11:39.494Z"
   },
   {
    "duration": 90,
    "start_time": "2021-10-24T11:11:39.516Z"
   },
   {
    "duration": 12,
    "start_time": "2021-10-24T11:11:39.609Z"
   },
   {
    "duration": 738,
    "start_time": "2021-10-24T11:11:39.624Z"
   },
   {
    "duration": 12,
    "start_time": "2021-10-24T11:11:40.368Z"
   },
   {
    "duration": 18,
    "start_time": "2021-10-24T11:11:40.383Z"
   },
   {
    "duration": 19,
    "start_time": "2021-10-24T11:11:40.403Z"
   },
   {
    "duration": 50,
    "start_time": "2021-10-24T11:11:40.424Z"
   },
   {
    "duration": 9,
    "start_time": "2021-10-24T11:11:40.476Z"
   },
   {
    "duration": 38,
    "start_time": "2021-10-24T11:11:40.487Z"
   },
   {
    "duration": 44,
    "start_time": "2021-10-24T11:11:40.528Z"
   },
   {
    "duration": 10,
    "start_time": "2021-10-24T11:11:40.574Z"
   },
   {
    "duration": 12,
    "start_time": "2021-10-24T11:11:40.586Z"
   },
   {
    "duration": 10,
    "start_time": "2021-10-24T11:11:40.600Z"
   },
   {
    "duration": 60,
    "start_time": "2021-10-24T11:11:40.612Z"
   },
   {
    "duration": 10,
    "start_time": "2021-10-24T11:11:40.674Z"
   },
   {
    "duration": 6,
    "start_time": "2021-10-24T11:11:40.686Z"
   },
   {
    "duration": 10,
    "start_time": "2021-10-24T11:11:40.695Z"
   },
   {
    "duration": 8,
    "start_time": "2021-10-24T11:11:40.707Z"
   },
   {
    "duration": 268,
    "start_time": "2021-10-24T11:11:40.717Z"
   },
   {
    "duration": 6,
    "start_time": "2021-10-24T11:11:40.988Z"
   },
   {
    "duration": 8,
    "start_time": "2021-10-24T11:11:40.997Z"
   },
   {
    "duration": 17,
    "start_time": "2021-10-24T11:11:41.007Z"
   },
   {
    "duration": 6,
    "start_time": "2021-10-24T11:11:41.027Z"
   },
   {
    "duration": 15,
    "start_time": "2021-10-24T11:11:41.066Z"
   },
   {
    "duration": 18,
    "start_time": "2021-10-24T11:11:41.089Z"
   },
   {
    "duration": 60,
    "start_time": "2021-10-24T11:11:41.109Z"
   },
   {
    "duration": 11,
    "start_time": "2021-10-24T11:11:41.171Z"
   },
   {
    "duration": 12,
    "start_time": "2021-10-24T11:11:41.184Z"
   },
   {
    "duration": 9,
    "start_time": "2021-10-24T11:11:41.199Z"
   },
   {
    "duration": 14,
    "start_time": "2021-10-24T11:11:41.210Z"
   },
   {
    "duration": 52,
    "start_time": "2021-10-24T11:11:41.226Z"
   },
   {
    "duration": 20,
    "start_time": "2021-10-24T11:11:41.280Z"
   },
   {
    "duration": 9,
    "start_time": "2021-10-24T11:11:41.303Z"
   },
   {
    "duration": 9,
    "start_time": "2021-10-24T11:11:41.315Z"
   },
   {
    "duration": 51,
    "start_time": "2021-10-24T11:11:41.327Z"
   },
   {
    "duration": 20,
    "start_time": "2021-10-24T11:14:50.606Z"
   },
   {
    "duration": 4,
    "start_time": "2021-10-24T11:24:12.200Z"
   },
   {
    "duration": 13,
    "start_time": "2021-10-24T11:24:15.347Z"
   },
   {
    "duration": 15,
    "start_time": "2021-10-24T11:37:36.600Z"
   },
   {
    "duration": 12,
    "start_time": "2021-10-24T11:38:04.239Z"
   },
   {
    "duration": 6419,
    "start_time": "2021-10-24T11:38:22.893Z"
   },
   {
    "duration": 12,
    "start_time": "2021-10-24T11:38:46.190Z"
   },
   {
    "duration": 17,
    "start_time": "2021-10-24T11:39:34.255Z"
   },
   {
    "duration": 19,
    "start_time": "2021-10-24T11:40:08.639Z"
   },
   {
    "duration": 17,
    "start_time": "2021-10-24T11:40:20.540Z"
   },
   {
    "duration": 328,
    "start_time": "2021-10-24T11:40:44.310Z"
   },
   {
    "duration": 6,
    "start_time": "2021-10-24T11:40:48.384Z"
   },
   {
    "duration": 12,
    "start_time": "2021-10-24T11:45:20.495Z"
   },
   {
    "duration": 36,
    "start_time": "2021-10-24T11:54:14.388Z"
   },
   {
    "duration": 1686,
    "start_time": "2021-10-24T12:07:02.094Z"
   },
   {
    "duration": 196,
    "start_time": "2021-10-24T12:07:03.783Z"
   },
   {
    "duration": 11,
    "start_time": "2021-10-24T12:07:03.982Z"
   },
   {
    "duration": 21,
    "start_time": "2021-10-24T12:07:03.996Z"
   },
   {
    "duration": 12,
    "start_time": "2021-10-24T12:07:04.019Z"
   },
   {
    "duration": 59,
    "start_time": "2021-10-24T12:07:04.033Z"
   },
   {
    "duration": 21,
    "start_time": "2021-10-24T12:07:04.094Z"
   },
   {
    "duration": 6,
    "start_time": "2021-10-24T12:07:04.119Z"
   },
   {
    "duration": 50,
    "start_time": "2021-10-24T12:07:04.128Z"
   },
   {
    "duration": 8,
    "start_time": "2021-10-24T12:07:04.180Z"
   },
   {
    "duration": 271,
    "start_time": "2021-10-24T12:07:04.191Z"
   },
   {
    "duration": 253,
    "start_time": "2021-10-24T12:07:04.467Z"
   },
   {
    "duration": 15,
    "start_time": "2021-10-24T12:07:04.722Z"
   },
   {
    "duration": 35,
    "start_time": "2021-10-24T12:07:04.740Z"
   },
   {
    "duration": 9,
    "start_time": "2021-10-24T12:07:04.778Z"
   },
   {
    "duration": 11,
    "start_time": "2021-10-24T12:07:04.789Z"
   },
   {
    "duration": 7,
    "start_time": "2021-10-24T12:07:04.803Z"
   },
   {
    "duration": 9,
    "start_time": "2021-10-24T12:07:04.813Z"
   },
   {
    "duration": 7,
    "start_time": "2021-10-24T12:07:04.825Z"
   },
   {
    "duration": 10,
    "start_time": "2021-10-24T12:07:04.867Z"
   },
   {
    "duration": 8,
    "start_time": "2021-10-24T12:07:04.879Z"
   },
   {
    "duration": 15,
    "start_time": "2021-10-24T12:07:04.889Z"
   },
   {
    "duration": 10,
    "start_time": "2021-10-24T12:07:04.911Z"
   },
   {
    "duration": 22,
    "start_time": "2021-10-24T12:07:04.970Z"
   },
   {
    "duration": 97,
    "start_time": "2021-10-24T12:07:04.995Z"
   },
   {
    "duration": 12,
    "start_time": "2021-10-24T12:07:05.094Z"
   },
   {
    "duration": 784,
    "start_time": "2021-10-24T12:07:05.108Z"
   },
   {
    "duration": 12,
    "start_time": "2021-10-24T12:07:05.894Z"
   },
   {
    "duration": 26,
    "start_time": "2021-10-24T12:07:05.909Z"
   },
   {
    "duration": 48,
    "start_time": "2021-10-24T12:07:05.937Z"
   },
   {
    "duration": 16,
    "start_time": "2021-10-24T12:07:05.988Z"
   },
   {
    "duration": 10,
    "start_time": "2021-10-24T12:07:06.006Z"
   },
   {
    "duration": 108,
    "start_time": "2021-10-24T12:07:06.019Z"
   },
   {
    "duration": 11,
    "start_time": "2021-10-24T12:07:06.129Z"
   },
   {
    "duration": 25,
    "start_time": "2021-10-24T12:07:06.142Z"
   },
   {
    "duration": 12,
    "start_time": "2021-10-24T12:07:06.170Z"
   },
   {
    "duration": 25,
    "start_time": "2021-10-24T12:07:06.185Z"
   },
   {
    "duration": 8,
    "start_time": "2021-10-24T12:07:06.213Z"
   },
   {
    "duration": 44,
    "start_time": "2021-10-24T12:07:06.223Z"
   },
   {
    "duration": 11,
    "start_time": "2021-10-24T12:07:06.271Z"
   },
   {
    "duration": 252,
    "start_time": "2021-10-24T12:07:06.285Z"
   },
   {
    "duration": 10,
    "start_time": "2021-10-24T12:07:06.539Z"
   },
   {
    "duration": 33,
    "start_time": "2021-10-24T12:07:06.551Z"
   },
   {
    "duration": 58,
    "start_time": "2021-10-24T12:07:06.586Z"
   },
   {
    "duration": 10,
    "start_time": "2021-10-24T12:07:06.668Z"
   },
   {
    "duration": 686,
    "start_time": "2021-10-24T12:07:06.681Z"
   },
   {
    "duration": 12,
    "start_time": "2021-10-24T12:07:07.369Z"
   },
   {
    "duration": 17,
    "start_time": "2021-10-24T12:07:07.383Z"
   },
   {
    "duration": 20,
    "start_time": "2021-10-24T12:07:07.403Z"
   },
   {
    "duration": 52,
    "start_time": "2021-10-24T12:07:07.426Z"
   },
   {
    "duration": 11,
    "start_time": "2021-10-24T12:07:07.481Z"
   },
   {
    "duration": 73,
    "start_time": "2021-10-24T12:07:07.494Z"
   },
   {
    "duration": 14,
    "start_time": "2021-10-24T12:07:07.570Z"
   },
   {
    "duration": 12,
    "start_time": "2021-10-24T12:07:07.587Z"
   },
   {
    "duration": 11,
    "start_time": "2021-10-24T12:07:07.602Z"
   },
   {
    "duration": 56,
    "start_time": "2021-10-24T12:07:07.616Z"
   },
   {
    "duration": 24,
    "start_time": "2021-10-24T12:07:07.676Z"
   },
   {
    "duration": 9,
    "start_time": "2021-10-24T12:07:07.703Z"
   },
   {
    "duration": 6,
    "start_time": "2021-10-24T12:07:07.715Z"
   },
   {
    "duration": 51,
    "start_time": "2021-10-24T12:07:07.723Z"
   },
   {
    "duration": 9,
    "start_time": "2021-10-24T12:07:07.777Z"
   },
   {
    "duration": 247,
    "start_time": "2021-10-24T12:07:07.788Z"
   },
   {
    "duration": 7,
    "start_time": "2021-10-24T12:07:08.038Z"
   },
   {
    "duration": 23,
    "start_time": "2021-10-24T12:07:08.047Z"
   },
   {
    "duration": 18,
    "start_time": "2021-10-24T12:07:08.072Z"
   },
   {
    "duration": 6,
    "start_time": "2021-10-24T12:07:08.093Z"
   },
   {
    "duration": 15,
    "start_time": "2021-10-24T12:07:08.102Z"
   },
   {
    "duration": 52,
    "start_time": "2021-10-24T12:07:08.125Z"
   },
   {
    "duration": 20,
    "start_time": "2021-10-24T12:07:08.181Z"
   },
   {
    "duration": 10,
    "start_time": "2021-10-24T12:07:08.204Z"
   },
   {
    "duration": 7,
    "start_time": "2021-10-24T12:07:08.217Z"
   },
   {
    "duration": 44,
    "start_time": "2021-10-24T12:07:08.226Z"
   },
   {
    "duration": 15,
    "start_time": "2021-10-24T12:07:08.273Z"
   },
   {
    "duration": 21,
    "start_time": "2021-10-24T12:07:08.290Z"
   },
   {
    "duration": 20,
    "start_time": "2021-10-24T12:07:08.313Z"
   },
   {
    "duration": 14,
    "start_time": "2021-10-24T12:07:08.367Z"
   },
   {
    "duration": 10,
    "start_time": "2021-10-24T12:07:08.383Z"
   },
   {
    "duration": 19,
    "start_time": "2021-10-24T12:07:08.395Z"
   },
   {
    "duration": 5,
    "start_time": "2021-10-24T12:07:08.417Z"
   },
   {
    "duration": 51,
    "start_time": "2021-10-24T12:07:08.425Z"
   },
   {
    "duration": 12,
    "start_time": "2021-10-24T12:07:08.479Z"
   },
   {
    "duration": 11,
    "start_time": "2021-10-24T12:07:08.493Z"
   },
   {
    "duration": 14,
    "start_time": "2021-10-24T12:07:08.506Z"
   },
   {
    "duration": 54,
    "start_time": "2021-10-24T12:07:08.522Z"
   },
   {
    "duration": 4436,
    "start_time": "2021-10-24T12:07:08.578Z"
   },
   {
    "duration": 9923,
    "start_time": "2021-10-24T12:07:13.068Z"
   },
   {
    "duration": 10,
    "start_time": "2021-10-24T12:15:02.309Z"
   },
   {
    "duration": 231,
    "start_time": "2021-10-24T12:15:05.099Z"
   },
   {
    "duration": 10,
    "start_time": "2021-10-24T12:15:10.071Z"
   },
   {
    "duration": 1521,
    "start_time": "2021-10-24T15:33:22.695Z"
   },
   {
    "duration": 186,
    "start_time": "2021-10-24T15:33:24.219Z"
   },
   {
    "duration": 11,
    "start_time": "2021-10-24T15:33:24.408Z"
   },
   {
    "duration": 18,
    "start_time": "2021-10-24T15:33:24.422Z"
   },
   {
    "duration": 30,
    "start_time": "2021-10-24T15:33:24.443Z"
   },
   {
    "duration": 28,
    "start_time": "2021-10-24T15:33:24.476Z"
   },
   {
    "duration": 20,
    "start_time": "2021-10-24T15:33:24.507Z"
   },
   {
    "duration": 40,
    "start_time": "2021-10-24T15:33:24.530Z"
   },
   {
    "duration": 18,
    "start_time": "2021-10-24T15:33:24.576Z"
   },
   {
    "duration": 10,
    "start_time": "2021-10-24T15:33:24.598Z"
   },
   {
    "duration": 275,
    "start_time": "2021-10-24T15:33:24.611Z"
   },
   {
    "duration": 254,
    "start_time": "2021-10-24T15:33:24.889Z"
   },
   {
    "duration": 23,
    "start_time": "2021-10-24T15:33:25.146Z"
   },
   {
    "duration": 14,
    "start_time": "2021-10-24T15:33:25.172Z"
   },
   {
    "duration": 6,
    "start_time": "2021-10-24T15:33:25.189Z"
   },
   {
    "duration": 7,
    "start_time": "2021-10-24T15:33:25.197Z"
   },
   {
    "duration": 4,
    "start_time": "2021-10-24T15:33:25.207Z"
   },
   {
    "duration": 53,
    "start_time": "2021-10-24T15:33:25.214Z"
   },
   {
    "duration": 5,
    "start_time": "2021-10-24T15:33:25.270Z"
   },
   {
    "duration": 17,
    "start_time": "2021-10-24T15:33:25.278Z"
   },
   {
    "duration": 9,
    "start_time": "2021-10-24T15:33:25.297Z"
   },
   {
    "duration": 13,
    "start_time": "2021-10-24T15:33:25.310Z"
   },
   {
    "duration": 43,
    "start_time": "2021-10-24T15:33:25.325Z"
   },
   {
    "duration": 21,
    "start_time": "2021-10-24T15:33:25.371Z"
   },
   {
    "duration": 101,
    "start_time": "2021-10-24T15:33:25.394Z"
   },
   {
    "duration": 12,
    "start_time": "2021-10-24T15:33:25.497Z"
   },
   {
    "duration": 776,
    "start_time": "2021-10-24T15:33:25.516Z"
   },
   {
    "duration": 13,
    "start_time": "2021-10-24T15:33:26.297Z"
   },
   {
    "duration": 23,
    "start_time": "2021-10-24T15:33:26.312Z"
   },
   {
    "duration": 45,
    "start_time": "2021-10-24T15:33:26.337Z"
   },
   {
    "duration": 18,
    "start_time": "2021-10-24T15:33:26.385Z"
   },
   {
    "duration": 9,
    "start_time": "2021-10-24T15:33:26.406Z"
   },
   {
    "duration": 93,
    "start_time": "2021-10-24T15:33:26.418Z"
   },
   {
    "duration": 10,
    "start_time": "2021-10-24T15:33:26.513Z"
   },
   {
    "duration": 7,
    "start_time": "2021-10-24T15:33:26.526Z"
   },
   {
    "duration": 37,
    "start_time": "2021-10-24T15:33:26.535Z"
   },
   {
    "duration": 21,
    "start_time": "2021-10-24T15:33:26.574Z"
   },
   {
    "duration": 7,
    "start_time": "2021-10-24T15:33:26.598Z"
   },
   {
    "duration": 8,
    "start_time": "2021-10-24T15:33:26.607Z"
   },
   {
    "duration": 13,
    "start_time": "2021-10-24T15:33:26.618Z"
   },
   {
    "duration": 272,
    "start_time": "2021-10-24T15:33:26.633Z"
   },
   {
    "duration": 10,
    "start_time": "2021-10-24T15:33:26.907Z"
   },
   {
    "duration": 16,
    "start_time": "2021-10-24T15:33:26.920Z"
   },
   {
    "duration": 83,
    "start_time": "2021-10-24T15:33:26.938Z"
   },
   {
    "duration": 9,
    "start_time": "2021-10-24T15:33:27.023Z"
   },
   {
    "duration": 703,
    "start_time": "2021-10-24T15:33:27.034Z"
   },
   {
    "duration": 12,
    "start_time": "2021-10-24T15:33:27.739Z"
   },
   {
    "duration": 17,
    "start_time": "2021-10-24T15:33:27.768Z"
   },
   {
    "duration": 24,
    "start_time": "2021-10-24T15:33:27.787Z"
   },
   {
    "duration": 13,
    "start_time": "2021-10-24T15:33:27.813Z"
   },
   {
    "duration": 39,
    "start_time": "2021-10-24T15:33:27.829Z"
   },
   {
    "duration": 38,
    "start_time": "2021-10-24T15:33:27.870Z"
   },
   {
    "duration": 12,
    "start_time": "2021-10-24T15:33:27.910Z"
   },
   {
    "duration": 46,
    "start_time": "2021-10-24T15:33:27.924Z"
   },
   {
    "duration": 13,
    "start_time": "2021-10-24T15:33:27.973Z"
   },
   {
    "duration": 11,
    "start_time": "2021-10-24T15:33:27.988Z"
   },
   {
    "duration": 27,
    "start_time": "2021-10-24T15:33:28.001Z"
   },
   {
    "duration": 41,
    "start_time": "2021-10-24T15:33:28.031Z"
   },
   {
    "duration": 6,
    "start_time": "2021-10-24T15:33:28.074Z"
   },
   {
    "duration": 12,
    "start_time": "2021-10-24T15:33:28.083Z"
   },
   {
    "duration": 13,
    "start_time": "2021-10-24T15:33:28.098Z"
   },
   {
    "duration": 257,
    "start_time": "2021-10-24T15:33:28.113Z"
   },
   {
    "duration": 6,
    "start_time": "2021-10-24T15:33:28.372Z"
   },
   {
    "duration": 9,
    "start_time": "2021-10-24T15:33:28.380Z"
   },
   {
    "duration": 15,
    "start_time": "2021-10-24T15:33:28.392Z"
   },
   {
    "duration": 6,
    "start_time": "2021-10-24T15:33:28.409Z"
   },
   {
    "duration": 58,
    "start_time": "2021-10-24T15:33:28.417Z"
   },
   {
    "duration": 17,
    "start_time": "2021-10-24T15:33:28.477Z"
   },
   {
    "duration": 21,
    "start_time": "2021-10-24T15:33:28.497Z"
   },
   {
    "duration": 9,
    "start_time": "2021-10-24T15:33:28.520Z"
   },
   {
    "duration": 41,
    "start_time": "2021-10-24T15:33:28.532Z"
   },
   {
    "duration": 7,
    "start_time": "2021-10-24T15:33:28.576Z"
   },
   {
    "duration": 15,
    "start_time": "2021-10-24T15:33:28.586Z"
   },
   {
    "duration": 21,
    "start_time": "2021-10-24T15:33:28.604Z"
   },
   {
    "duration": 22,
    "start_time": "2021-10-24T15:33:28.668Z"
   },
   {
    "duration": 14,
    "start_time": "2021-10-24T15:33:28.693Z"
   },
   {
    "duration": 10,
    "start_time": "2021-10-24T15:33:28.709Z"
   },
   {
    "duration": 55,
    "start_time": "2021-10-24T15:33:28.722Z"
   },
   {
    "duration": 4,
    "start_time": "2021-10-24T15:33:28.780Z"
   },
   {
    "duration": 7,
    "start_time": "2021-10-24T15:33:28.786Z"
   },
   {
    "duration": 8,
    "start_time": "2021-10-24T15:33:28.802Z"
   },
   {
    "duration": 11,
    "start_time": "2021-10-24T15:33:28.813Z"
   },
   {
    "duration": 44,
    "start_time": "2021-10-24T15:33:28.827Z"
   },
   {
    "duration": 38,
    "start_time": "2021-10-24T15:33:28.873Z"
   },
   {
    "duration": 5072,
    "start_time": "2021-10-24T15:33:28.913Z"
   },
   {
    "duration": 10,
    "start_time": "2021-10-24T15:33:33.988Z"
   },
   {
    "duration": 15,
    "start_time": "2021-10-24T15:33:34.001Z"
   },
   {
    "duration": 6,
    "start_time": "2021-10-24T15:35:28.395Z"
   },
   {
    "duration": 11,
    "start_time": "2021-10-24T15:35:37.265Z"
   },
   {
    "duration": 10,
    "start_time": "2021-10-24T15:35:53.622Z"
   },
   {
    "duration": 1562,
    "start_time": "2021-10-24T15:40:09.033Z"
   },
   {
    "duration": 184,
    "start_time": "2021-10-24T15:40:10.598Z"
   },
   {
    "duration": 10,
    "start_time": "2021-10-24T15:40:10.785Z"
   },
   {
    "duration": 23,
    "start_time": "2021-10-24T15:40:10.798Z"
   },
   {
    "duration": 15,
    "start_time": "2021-10-24T15:40:10.823Z"
   },
   {
    "duration": 49,
    "start_time": "2021-10-24T15:40:10.840Z"
   },
   {
    "duration": 22,
    "start_time": "2021-10-24T15:40:10.892Z"
   },
   {
    "duration": 6,
    "start_time": "2021-10-24T15:40:10.918Z"
   },
   {
    "duration": 51,
    "start_time": "2021-10-24T15:40:10.927Z"
   },
   {
    "duration": 8,
    "start_time": "2021-10-24T15:40:10.981Z"
   },
   {
    "duration": 254,
    "start_time": "2021-10-24T15:40:10.991Z"
   },
   {
    "duration": 252,
    "start_time": "2021-10-24T15:40:11.247Z"
   },
   {
    "duration": 14,
    "start_time": "2021-10-24T15:40:11.501Z"
   },
   {
    "duration": 17,
    "start_time": "2021-10-24T15:40:11.518Z"
   },
   {
    "duration": 30,
    "start_time": "2021-10-24T15:40:11.537Z"
   },
   {
    "duration": 7,
    "start_time": "2021-10-24T15:40:11.569Z"
   },
   {
    "duration": 8,
    "start_time": "2021-10-24T15:40:11.578Z"
   },
   {
    "duration": 11,
    "start_time": "2021-10-24T15:40:11.588Z"
   },
   {
    "duration": 5,
    "start_time": "2021-10-24T15:40:11.602Z"
   },
   {
    "duration": 17,
    "start_time": "2021-10-24T15:40:11.610Z"
   },
   {
    "duration": 38,
    "start_time": "2021-10-24T15:40:11.629Z"
   },
   {
    "duration": 15,
    "start_time": "2021-10-24T15:40:11.669Z"
   },
   {
    "duration": 12,
    "start_time": "2021-10-24T15:40:11.691Z"
   },
   {
    "duration": 23,
    "start_time": "2021-10-24T15:40:11.707Z"
   },
   {
    "duration": 80,
    "start_time": "2021-10-24T15:40:11.768Z"
   },
   {
    "duration": 25,
    "start_time": "2021-10-24T15:40:11.851Z"
   },
   {
    "duration": 799,
    "start_time": "2021-10-24T15:40:11.879Z"
   },
   {
    "duration": 12,
    "start_time": "2021-10-24T15:40:12.680Z"
   },
   {
    "duration": 25,
    "start_time": "2021-10-24T15:40:12.695Z"
   },
   {
    "duration": 50,
    "start_time": "2021-10-24T15:40:12.722Z"
   },
   {
    "duration": 16,
    "start_time": "2021-10-24T15:40:12.775Z"
   },
   {
    "duration": 9,
    "start_time": "2021-10-24T15:40:12.794Z"
   },
   {
    "duration": 88,
    "start_time": "2021-10-24T15:40:12.805Z"
   },
   {
    "duration": 10,
    "start_time": "2021-10-24T15:40:12.896Z"
   },
   {
    "duration": 7,
    "start_time": "2021-10-24T15:40:12.909Z"
   },
   {
    "duration": 11,
    "start_time": "2021-10-24T15:40:12.918Z"
   },
   {
    "duration": 51,
    "start_time": "2021-10-24T15:40:12.932Z"
   },
   {
    "duration": 7,
    "start_time": "2021-10-24T15:40:12.985Z"
   },
   {
    "duration": 4,
    "start_time": "2021-10-24T15:40:12.995Z"
   },
   {
    "duration": 9,
    "start_time": "2021-10-24T15:40:13.002Z"
   },
   {
    "duration": 280,
    "start_time": "2021-10-24T15:40:13.013Z"
   },
   {
    "duration": 10,
    "start_time": "2021-10-24T15:40:13.297Z"
   },
   {
    "duration": 18,
    "start_time": "2021-10-24T15:40:13.311Z"
   },
   {
    "duration": 85,
    "start_time": "2021-10-24T15:40:13.332Z"
   },
   {
    "duration": 12,
    "start_time": "2021-10-24T15:40:13.420Z"
   },
   {
    "duration": 723,
    "start_time": "2021-10-24T15:40:13.434Z"
   },
   {
    "duration": 12,
    "start_time": "2021-10-24T15:40:14.167Z"
   },
   {
    "duration": 19,
    "start_time": "2021-10-24T15:40:14.182Z"
   },
   {
    "duration": 21,
    "start_time": "2021-10-24T15:40:14.204Z"
   },
   {
    "duration": 47,
    "start_time": "2021-10-24T15:40:14.227Z"
   },
   {
    "duration": 11,
    "start_time": "2021-10-24T15:40:14.277Z"
   },
   {
    "duration": 76,
    "start_time": "2021-10-24T15:40:14.291Z"
   },
   {
    "duration": 14,
    "start_time": "2021-10-24T15:40:14.370Z"
   },
   {
    "duration": 12,
    "start_time": "2021-10-24T15:40:14.387Z"
   },
   {
    "duration": 12,
    "start_time": "2021-10-24T15:40:14.402Z"
   },
   {
    "duration": 58,
    "start_time": "2021-10-24T15:40:14.416Z"
   },
   {
    "duration": 24,
    "start_time": "2021-10-24T15:40:14.477Z"
   },
   {
    "duration": 11,
    "start_time": "2021-10-24T15:40:14.504Z"
   },
   {
    "duration": 49,
    "start_time": "2021-10-24T15:40:14.518Z"
   },
   {
    "duration": 10,
    "start_time": "2021-10-24T15:40:14.570Z"
   },
   {
    "duration": 8,
    "start_time": "2021-10-24T15:40:14.583Z"
   },
   {
    "duration": 287,
    "start_time": "2021-10-24T15:40:14.594Z"
   },
   {
    "duration": 6,
    "start_time": "2021-10-24T15:40:14.883Z"
   },
   {
    "duration": 9,
    "start_time": "2021-10-24T15:40:14.891Z"
   },
   {
    "duration": 70,
    "start_time": "2021-10-24T15:40:14.902Z"
   },
   {
    "duration": 6,
    "start_time": "2021-10-24T15:40:14.975Z"
   },
   {
    "duration": 17,
    "start_time": "2021-10-24T15:40:14.983Z"
   },
   {
    "duration": 71,
    "start_time": "2021-10-24T15:40:15.008Z"
   },
   {
    "duration": 20,
    "start_time": "2021-10-24T15:40:15.082Z"
   },
   {
    "duration": 9,
    "start_time": "2021-10-24T15:40:15.104Z"
   },
   {
    "duration": 8,
    "start_time": "2021-10-24T15:40:15.168Z"
   },
   {
    "duration": 7,
    "start_time": "2021-10-24T15:40:15.179Z"
   },
   {
    "duration": 13,
    "start_time": "2021-10-24T15:40:15.188Z"
   },
   {
    "duration": 71,
    "start_time": "2021-10-24T15:40:15.204Z"
   },
   {
    "duration": 19,
    "start_time": "2021-10-24T15:40:15.278Z"
   },
   {
    "duration": 70,
    "start_time": "2021-10-24T15:40:15.299Z"
   },
   {
    "duration": 10,
    "start_time": "2021-10-24T15:40:15.371Z"
   },
   {
    "duration": 20,
    "start_time": "2021-10-24T15:40:15.383Z"
   },
   {
    "duration": 5,
    "start_time": "2021-10-24T15:40:15.405Z"
   },
   {
    "duration": 5,
    "start_time": "2021-10-24T15:40:15.467Z"
   },
   {
    "duration": 12,
    "start_time": "2021-10-24T15:40:15.475Z"
   },
   {
    "duration": 11,
    "start_time": "2021-10-24T15:40:15.490Z"
   },
   {
    "duration": 7,
    "start_time": "2021-10-24T15:40:15.503Z"
   },
   {
    "duration": 91,
    "start_time": "2021-10-24T15:40:15.513Z"
   },
   {
    "duration": 5217,
    "start_time": "2021-10-24T15:40:15.606Z"
   },
   {
    "duration": 11,
    "start_time": "2021-10-24T15:40:20.826Z"
   },
   {
    "duration": 5918,
    "start_time": "2021-10-24T15:40:20.839Z"
   },
   {
    "duration": 9100,
    "start_time": "2021-10-24T15:40:17.660Z"
   },
   {
    "duration": 9094,
    "start_time": "2021-10-24T15:40:17.669Z"
   },
   {
    "duration": 9090,
    "start_time": "2021-10-24T15:40:17.675Z"
   },
   {
    "duration": 6,
    "start_time": "2021-10-24T15:40:34.497Z"
   },
   {
    "duration": 12,
    "start_time": "2021-10-24T15:42:00.457Z"
   },
   {
    "duration": 11,
    "start_time": "2021-10-24T15:42:22.869Z"
   },
   {
    "duration": 4,
    "start_time": "2021-10-24T15:42:55.476Z"
   },
   {
    "duration": 221,
    "start_time": "2021-10-24T15:43:04.408Z"
   },
   {
    "duration": 5,
    "start_time": "2021-10-24T15:43:38.719Z"
   },
   {
    "duration": 7,
    "start_time": "2021-10-24T15:43:53.641Z"
   },
   {
    "duration": 5,
    "start_time": "2021-10-24T15:44:27.360Z"
   },
   {
    "duration": 6,
    "start_time": "2021-10-24T15:44:27.885Z"
   },
   {
    "duration": 15,
    "start_time": "2021-10-24T15:46:13.372Z"
   },
   {
    "duration": 13,
    "start_time": "2021-10-24T15:46:22.646Z"
   },
   {
    "duration": 7,
    "start_time": "2021-10-24T15:49:55.224Z"
   },
   {
    "duration": 23,
    "start_time": "2021-10-24T15:50:32.043Z"
   },
   {
    "duration": 14,
    "start_time": "2021-10-24T15:50:54.628Z"
   },
   {
    "duration": 7,
    "start_time": "2021-10-24T15:51:09.806Z"
   },
   {
    "duration": 7,
    "start_time": "2021-10-24T15:51:18.199Z"
   },
   {
    "duration": 7,
    "start_time": "2021-10-24T15:51:23.335Z"
   },
   {
    "duration": 7,
    "start_time": "2021-10-24T15:51:30.310Z"
   },
   {
    "duration": 6,
    "start_time": "2021-10-24T15:51:36.592Z"
   },
   {
    "duration": 7,
    "start_time": "2021-10-24T15:51:45.769Z"
   },
   {
    "duration": 7,
    "start_time": "2021-10-24T15:51:50.664Z"
   },
   {
    "duration": 7,
    "start_time": "2021-10-24T15:52:25.482Z"
   },
   {
    "duration": 7,
    "start_time": "2021-10-24T15:52:34.629Z"
   },
   {
    "duration": 7,
    "start_time": "2021-10-24T15:52:43.429Z"
   },
   {
    "duration": 6,
    "start_time": "2021-10-24T15:52:47.945Z"
   },
   {
    "duration": 7,
    "start_time": "2021-10-24T15:53:05.805Z"
   },
   {
    "duration": 6,
    "start_time": "2021-10-24T15:53:16.520Z"
   },
   {
    "duration": 7,
    "start_time": "2021-10-24T15:53:21.288Z"
   },
   {
    "duration": 7,
    "start_time": "2021-10-24T15:53:26.758Z"
   },
   {
    "duration": 7,
    "start_time": "2021-10-24T15:53:34.974Z"
   },
   {
    "duration": 7,
    "start_time": "2021-10-24T15:53:41.314Z"
   },
   {
    "duration": 14,
    "start_time": "2021-10-24T15:54:06.220Z"
   },
   {
    "duration": 27,
    "start_time": "2021-10-24T15:54:09.562Z"
   },
   {
    "duration": 1668,
    "start_time": "2021-10-24T15:56:57.301Z"
   },
   {
    "duration": 191,
    "start_time": "2021-10-24T15:56:58.971Z"
   },
   {
    "duration": 13,
    "start_time": "2021-10-24T15:56:59.166Z"
   },
   {
    "duration": 17,
    "start_time": "2021-10-24T15:56:59.182Z"
   },
   {
    "duration": 20,
    "start_time": "2021-10-24T15:56:59.201Z"
   },
   {
    "duration": 68,
    "start_time": "2021-10-24T15:56:59.225Z"
   },
   {
    "duration": 27,
    "start_time": "2021-10-24T15:56:59.296Z"
   },
   {
    "duration": 6,
    "start_time": "2021-10-24T15:56:59.327Z"
   },
   {
    "duration": 52,
    "start_time": "2021-10-24T15:56:59.336Z"
   },
   {
    "duration": 10,
    "start_time": "2021-10-24T15:56:59.391Z"
   },
   {
    "duration": 277,
    "start_time": "2021-10-24T15:56:59.404Z"
   },
   {
    "duration": 264,
    "start_time": "2021-10-24T15:56:59.683Z"
   },
   {
    "duration": 21,
    "start_time": "2021-10-24T15:56:59.949Z"
   },
   {
    "duration": 18,
    "start_time": "2021-10-24T15:56:59.973Z"
   },
   {
    "duration": 16,
    "start_time": "2021-10-24T15:56:59.994Z"
   },
   {
    "duration": 13,
    "start_time": "2021-10-24T15:57:00.013Z"
   },
   {
    "duration": 39,
    "start_time": "2021-10-24T15:57:00.029Z"
   },
   {
    "duration": 6,
    "start_time": "2021-10-24T15:57:00.070Z"
   },
   {
    "duration": 32,
    "start_time": "2021-10-24T15:57:00.078Z"
   },
   {
    "duration": 42,
    "start_time": "2021-10-24T15:57:00.113Z"
   },
   {
    "duration": 13,
    "start_time": "2021-10-24T15:57:00.158Z"
   },
   {
    "duration": 29,
    "start_time": "2021-10-24T15:57:00.173Z"
   },
   {
    "duration": 15,
    "start_time": "2021-10-24T15:57:00.212Z"
   },
   {
    "duration": 45,
    "start_time": "2021-10-24T15:57:00.233Z"
   },
   {
    "duration": 99,
    "start_time": "2021-10-24T15:57:00.281Z"
   },
   {
    "duration": 11,
    "start_time": "2021-10-24T15:57:00.383Z"
   },
   {
    "duration": 787,
    "start_time": "2021-10-24T15:57:00.397Z"
   },
   {
    "duration": 15,
    "start_time": "2021-10-24T15:57:01.187Z"
   },
   {
    "duration": 38,
    "start_time": "2021-10-24T15:57:01.205Z"
   },
   {
    "duration": 35,
    "start_time": "2021-10-24T15:57:01.246Z"
   },
   {
    "duration": 17,
    "start_time": "2021-10-24T15:57:01.284Z"
   },
   {
    "duration": 22,
    "start_time": "2021-10-24T15:57:01.305Z"
   },
   {
    "duration": 93,
    "start_time": "2021-10-24T15:57:01.330Z"
   },
   {
    "duration": 14,
    "start_time": "2021-10-24T15:57:01.426Z"
   },
   {
    "duration": 29,
    "start_time": "2021-10-24T15:57:01.443Z"
   },
   {
    "duration": 20,
    "start_time": "2021-10-24T15:57:01.476Z"
   },
   {
    "duration": 35,
    "start_time": "2021-10-24T15:57:01.498Z"
   },
   {
    "duration": 8,
    "start_time": "2021-10-24T15:57:01.535Z"
   },
   {
    "duration": 30,
    "start_time": "2021-10-24T15:57:01.546Z"
   },
   {
    "duration": 18,
    "start_time": "2021-10-24T15:57:01.579Z"
   },
   {
    "duration": 251,
    "start_time": "2021-10-24T15:57:01.600Z"
   },
   {
    "duration": 14,
    "start_time": "2021-10-24T15:57:01.854Z"
   },
   {
    "duration": 30,
    "start_time": "2021-10-24T15:57:01.871Z"
   },
   {
    "duration": 74,
    "start_time": "2021-10-24T15:57:01.904Z"
   },
   {
    "duration": 9,
    "start_time": "2021-10-24T15:57:01.981Z"
   },
   {
    "duration": 728,
    "start_time": "2021-10-24T15:57:01.992Z"
   },
   {
    "duration": 12,
    "start_time": "2021-10-24T15:57:02.723Z"
   },
   {
    "duration": 43,
    "start_time": "2021-10-24T15:57:02.737Z"
   },
   {
    "duration": 20,
    "start_time": "2021-10-24T15:57:02.783Z"
   },
   {
    "duration": 12,
    "start_time": "2021-10-24T15:57:02.806Z"
   },
   {
    "duration": 21,
    "start_time": "2021-10-24T15:57:02.820Z"
   },
   {
    "duration": 46,
    "start_time": "2021-10-24T15:57:02.868Z"
   },
   {
    "duration": 12,
    "start_time": "2021-10-24T15:57:02.917Z"
   },
   {
    "duration": 41,
    "start_time": "2021-10-24T15:57:02.932Z"
   },
   {
    "duration": 13,
    "start_time": "2021-10-24T15:57:02.976Z"
   },
   {
    "duration": 14,
    "start_time": "2021-10-24T15:57:02.992Z"
   },
   {
    "duration": 60,
    "start_time": "2021-10-24T15:57:03.009Z"
   },
   {
    "duration": 9,
    "start_time": "2021-10-24T15:57:03.071Z"
   },
   {
    "duration": 6,
    "start_time": "2021-10-24T15:57:03.082Z"
   },
   {
    "duration": 11,
    "start_time": "2021-10-24T15:57:03.090Z"
   },
   {
    "duration": 8,
    "start_time": "2021-10-24T15:57:03.103Z"
   },
   {
    "duration": 284,
    "start_time": "2021-10-24T15:57:03.114Z"
   },
   {
    "duration": 7,
    "start_time": "2021-10-24T15:57:03.401Z"
   },
   {
    "duration": 10,
    "start_time": "2021-10-24T15:57:03.411Z"
   },
   {
    "duration": 50,
    "start_time": "2021-10-24T15:57:03.423Z"
   },
   {
    "duration": 9,
    "start_time": "2021-10-24T15:57:03.476Z"
   },
   {
    "duration": 21,
    "start_time": "2021-10-24T15:57:03.489Z"
   },
   {
    "duration": 51,
    "start_time": "2021-10-24T15:57:03.518Z"
   },
   {
    "duration": 29,
    "start_time": "2021-10-24T15:57:03.573Z"
   },
   {
    "duration": 10,
    "start_time": "2021-10-24T15:57:03.604Z"
   },
   {
    "duration": 9,
    "start_time": "2021-10-24T15:57:03.617Z"
   },
   {
    "duration": 9,
    "start_time": "2021-10-24T15:57:03.668Z"
   },
   {
    "duration": 16,
    "start_time": "2021-10-24T15:57:03.680Z"
   },
   {
    "duration": 20,
    "start_time": "2021-10-24T15:57:03.699Z"
   },
   {
    "duration": 59,
    "start_time": "2021-10-24T15:57:03.723Z"
   },
   {
    "duration": 14,
    "start_time": "2021-10-24T15:57:03.784Z"
   },
   {
    "duration": 11,
    "start_time": "2021-10-24T15:57:03.800Z"
   },
   {
    "duration": 60,
    "start_time": "2021-10-24T15:57:03.813Z"
   },
   {
    "duration": 7,
    "start_time": "2021-10-24T15:57:03.876Z"
   },
   {
    "duration": 9,
    "start_time": "2021-10-24T15:57:03.885Z"
   },
   {
    "duration": 11,
    "start_time": "2021-10-24T15:57:03.896Z"
   },
   {
    "duration": 12,
    "start_time": "2021-10-24T15:57:03.909Z"
   },
   {
    "duration": 7,
    "start_time": "2021-10-24T15:57:03.923Z"
   },
   {
    "duration": 69,
    "start_time": "2021-10-24T15:57:03.932Z"
   },
   {
    "duration": 4336,
    "start_time": "2021-10-24T15:57:04.004Z"
   },
   {
    "duration": 13,
    "start_time": "2021-10-24T15:57:08.343Z"
   },
   {
    "duration": 6,
    "start_time": "2021-10-24T15:57:08.366Z"
   },
   {
    "duration": 14,
    "start_time": "2021-10-24T15:57:08.375Z"
   },
   {
    "duration": 10,
    "start_time": "2021-10-24T15:57:08.392Z"
   },
   {
    "duration": 4,
    "start_time": "2021-10-24T15:57:08.405Z"
   },
   {
    "duration": 5,
    "start_time": "2021-10-24T15:57:08.414Z"
   },
   {
    "duration": 10,
    "start_time": "2021-10-24T15:57:08.422Z"
   },
   {
    "duration": 36,
    "start_time": "2021-10-24T15:57:08.434Z"
   },
   {
    "duration": 9,
    "start_time": "2021-10-24T15:57:08.472Z"
   },
   {
    "duration": 15,
    "start_time": "2021-10-24T15:57:08.485Z"
   },
   {
    "duration": 83,
    "start_time": "2021-10-24T15:57:08.503Z"
   },
   {
    "duration": 6,
    "start_time": "2021-10-24T15:57:08.589Z"
   },
   {
    "duration": 14,
    "start_time": "2021-10-24T15:57:08.597Z"
   },
   {
    "duration": 61,
    "start_time": "2021-10-24T15:57:08.613Z"
   },
   {
    "duration": 23,
    "start_time": "2021-10-24T15:58:14.116Z"
   },
   {
    "duration": 22,
    "start_time": "2021-10-24T15:59:02.643Z"
   },
   {
    "duration": 32,
    "start_time": "2021-10-24T15:59:41.405Z"
   },
   {
    "duration": 7,
    "start_time": "2021-10-24T16:03:56.071Z"
   },
   {
    "duration": 8,
    "start_time": "2021-10-24T16:03:58.849Z"
   },
   {
    "duration": 2103,
    "start_time": "2021-10-24T16:10:15.135Z"
   },
   {
    "duration": 185,
    "start_time": "2021-10-24T16:10:17.241Z"
   },
   {
    "duration": 11,
    "start_time": "2021-10-24T16:10:17.429Z"
   },
   {
    "duration": 21,
    "start_time": "2021-10-24T16:10:17.443Z"
   },
   {
    "duration": 12,
    "start_time": "2021-10-24T16:10:17.466Z"
   },
   {
    "duration": 31,
    "start_time": "2021-10-24T16:10:17.481Z"
   },
   {
    "duration": 21,
    "start_time": "2021-10-24T16:10:17.514Z"
   },
   {
    "duration": 6,
    "start_time": "2021-10-24T16:10:17.568Z"
   },
   {
    "duration": 18,
    "start_time": "2021-10-24T16:10:17.577Z"
   },
   {
    "duration": 9,
    "start_time": "2021-10-24T16:10:17.597Z"
   },
   {
    "duration": 267,
    "start_time": "2021-10-24T16:10:17.608Z"
   },
   {
    "duration": 255,
    "start_time": "2021-10-24T16:10:17.877Z"
   },
   {
    "duration": 14,
    "start_time": "2021-10-24T16:10:18.134Z"
   },
   {
    "duration": 15,
    "start_time": "2021-10-24T16:10:18.167Z"
   },
   {
    "duration": 8,
    "start_time": "2021-10-24T16:10:18.185Z"
   },
   {
    "duration": 9,
    "start_time": "2021-10-24T16:10:18.195Z"
   },
   {
    "duration": 6,
    "start_time": "2021-10-24T16:10:18.206Z"
   },
   {
    "duration": 11,
    "start_time": "2021-10-24T16:10:18.214Z"
   },
   {
    "duration": 40,
    "start_time": "2021-10-24T16:10:18.227Z"
   },
   {
    "duration": 18,
    "start_time": "2021-10-24T16:10:18.270Z"
   },
   {
    "duration": 13,
    "start_time": "2021-10-24T16:10:18.291Z"
   },
   {
    "duration": 16,
    "start_time": "2021-10-24T16:10:18.307Z"
   },
   {
    "duration": 42,
    "start_time": "2021-10-24T16:10:18.331Z"
   },
   {
    "duration": 24,
    "start_time": "2021-10-24T16:10:18.377Z"
   },
   {
    "duration": 114,
    "start_time": "2021-10-24T16:10:18.404Z"
   },
   {
    "duration": 13,
    "start_time": "2021-10-24T16:10:18.521Z"
   },
   {
    "duration": 908,
    "start_time": "2021-10-24T16:10:18.537Z"
   },
   {
    "duration": 24,
    "start_time": "2021-10-24T16:10:19.448Z"
   },
   {
    "duration": 28,
    "start_time": "2021-10-24T16:10:19.475Z"
   },
   {
    "duration": 22,
    "start_time": "2021-10-24T16:10:19.506Z"
   },
   {
    "duration": 54,
    "start_time": "2021-10-24T16:10:19.531Z"
   },
   {
    "duration": 13,
    "start_time": "2021-10-24T16:10:19.588Z"
   },
   {
    "duration": 92,
    "start_time": "2021-10-24T16:10:19.604Z"
   },
   {
    "duration": 11,
    "start_time": "2021-10-24T16:10:19.699Z"
   },
   {
    "duration": 9,
    "start_time": "2021-10-24T16:10:19.712Z"
   },
   {
    "duration": 13,
    "start_time": "2021-10-24T16:10:19.724Z"
   },
   {
    "duration": 22,
    "start_time": "2021-10-24T16:10:19.768Z"
   },
   {
    "duration": 7,
    "start_time": "2021-10-24T16:10:19.793Z"
   },
   {
    "duration": 5,
    "start_time": "2021-10-24T16:10:19.802Z"
   },
   {
    "duration": 15,
    "start_time": "2021-10-24T16:10:19.810Z"
   },
   {
    "duration": 285,
    "start_time": "2021-10-24T16:10:19.828Z"
   },
   {
    "duration": 9,
    "start_time": "2021-10-24T16:10:20.115Z"
   },
   {
    "duration": 42,
    "start_time": "2021-10-24T16:10:20.127Z"
   },
   {
    "duration": 58,
    "start_time": "2021-10-24T16:10:20.172Z"
   },
   {
    "duration": 34,
    "start_time": "2021-10-24T16:10:20.233Z"
   },
   {
    "duration": 1068,
    "start_time": "2021-10-24T16:10:20.270Z"
   },
   {
    "duration": 11,
    "start_time": "2021-10-24T16:10:21.341Z"
   },
   {
    "duration": 17,
    "start_time": "2021-10-24T16:10:21.367Z"
   },
   {
    "duration": 18,
    "start_time": "2021-10-24T16:10:21.387Z"
   },
   {
    "duration": 12,
    "start_time": "2021-10-24T16:10:21.407Z"
   },
   {
    "duration": 49,
    "start_time": "2021-10-24T16:10:21.422Z"
   },
   {
    "duration": 37,
    "start_time": "2021-10-24T16:10:21.473Z"
   },
   {
    "duration": 11,
    "start_time": "2021-10-24T16:10:21.513Z"
   },
   {
    "duration": 41,
    "start_time": "2021-10-24T16:10:21.526Z"
   },
   {
    "duration": 10,
    "start_time": "2021-10-24T16:10:21.570Z"
   },
   {
    "duration": 15,
    "start_time": "2021-10-24T16:10:21.583Z"
   },
   {
    "duration": 25,
    "start_time": "2021-10-24T16:10:21.600Z"
   },
   {
    "duration": 46,
    "start_time": "2021-10-24T16:10:21.627Z"
   },
   {
    "duration": 7,
    "start_time": "2021-10-24T16:10:21.676Z"
   },
   {
    "duration": 17,
    "start_time": "2021-10-24T16:10:21.685Z"
   },
   {
    "duration": 8,
    "start_time": "2021-10-24T16:10:21.705Z"
   },
   {
    "duration": 256,
    "start_time": "2021-10-24T16:10:21.716Z"
   },
   {
    "duration": 7,
    "start_time": "2021-10-24T16:10:21.975Z"
   },
   {
    "duration": 7,
    "start_time": "2021-10-24T16:10:21.985Z"
   },
   {
    "duration": 19,
    "start_time": "2021-10-24T16:10:21.995Z"
   },
   {
    "duration": 5,
    "start_time": "2021-10-24T16:10:22.017Z"
   },
   {
    "duration": 55,
    "start_time": "2021-10-24T16:10:22.024Z"
   },
   {
    "duration": 76,
    "start_time": "2021-10-24T16:10:22.091Z"
   },
   {
    "duration": 31,
    "start_time": "2021-10-24T16:10:22.172Z"
   },
   {
    "duration": 70,
    "start_time": "2021-10-24T16:10:22.206Z"
   },
   {
    "duration": 16,
    "start_time": "2021-10-24T16:10:22.279Z"
   },
   {
    "duration": 11,
    "start_time": "2021-10-24T16:10:22.297Z"
   },
   {
    "duration": 63,
    "start_time": "2021-10-24T16:10:22.310Z"
   },
   {
    "duration": 19,
    "start_time": "2021-10-24T16:10:22.376Z"
   },
   {
    "duration": 14,
    "start_time": "2021-10-24T16:10:22.397Z"
   },
   {
    "duration": 4,
    "start_time": "2021-10-24T16:10:22.467Z"
   },
   {
    "duration": 11,
    "start_time": "2021-10-24T16:10:22.473Z"
   },
   {
    "duration": 17,
    "start_time": "2021-10-24T16:10:22.486Z"
   },
   {
    "duration": 61,
    "start_time": "2021-10-24T16:10:22.506Z"
   },
   {
    "duration": 3,
    "start_time": "2021-10-24T16:10:22.570Z"
   },
   {
    "duration": 18,
    "start_time": "2021-10-24T16:10:22.576Z"
   },
   {
    "duration": 4597,
    "start_time": "2021-10-24T16:10:22.597Z"
   },
   {
    "duration": 14,
    "start_time": "2021-10-24T16:10:27.197Z"
   },
   {
    "duration": 6,
    "start_time": "2021-10-24T16:10:27.214Z"
   },
   {
    "duration": 24,
    "start_time": "2021-10-24T16:11:32.480Z"
   },
   {
    "duration": 22,
    "start_time": "2021-10-24T16:11:44.018Z"
   },
   {
    "duration": 10,
    "start_time": "2021-10-24T16:12:08.287Z"
   },
   {
    "duration": 11,
    "start_time": "2021-10-24T16:12:19.412Z"
   },
   {
    "duration": 7,
    "start_time": "2021-10-24T16:13:13.274Z"
   },
   {
    "duration": 7,
    "start_time": "2021-10-24T16:13:19.566Z"
   },
   {
    "duration": 7,
    "start_time": "2021-10-24T16:13:28.307Z"
   },
   {
    "duration": 7,
    "start_time": "2021-10-24T16:13:33.419Z"
   },
   {
    "duration": 24,
    "start_time": "2021-10-24T16:14:13.657Z"
   },
   {
    "duration": 15,
    "start_time": "2021-10-24T16:14:30.898Z"
   },
   {
    "duration": 26,
    "start_time": "2021-10-24T16:15:41.389Z"
   },
   {
    "duration": 1444,
    "start_time": "2021-10-24T16:17:42.186Z"
   },
   {
    "duration": 187,
    "start_time": "2021-10-24T16:17:43.633Z"
   },
   {
    "duration": 14,
    "start_time": "2021-10-24T16:17:43.823Z"
   },
   {
    "duration": 27,
    "start_time": "2021-10-24T16:17:43.840Z"
   },
   {
    "duration": 12,
    "start_time": "2021-10-24T16:17:43.870Z"
   },
   {
    "duration": 30,
    "start_time": "2021-10-24T16:17:43.886Z"
   },
   {
    "duration": 65,
    "start_time": "2021-10-24T16:17:43.919Z"
   },
   {
    "duration": 6,
    "start_time": "2021-10-24T16:17:43.989Z"
   },
   {
    "duration": 17,
    "start_time": "2021-10-24T16:17:43.999Z"
   },
   {
    "duration": 10,
    "start_time": "2021-10-24T16:17:44.019Z"
   },
   {
    "duration": 253,
    "start_time": "2021-10-24T16:17:44.068Z"
   },
   {
    "duration": 244,
    "start_time": "2021-10-24T16:17:44.325Z"
   },
   {
    "duration": 14,
    "start_time": "2021-10-24T16:17:44.572Z"
   },
   {
    "duration": 18,
    "start_time": "2021-10-24T16:17:44.589Z"
   },
   {
    "duration": 8,
    "start_time": "2021-10-24T16:17:44.610Z"
   },
   {
    "duration": 10,
    "start_time": "2021-10-24T16:17:44.621Z"
   },
   {
    "duration": 38,
    "start_time": "2021-10-24T16:17:44.634Z"
   },
   {
    "duration": 18,
    "start_time": "2021-10-24T16:17:44.675Z"
   },
   {
    "duration": 8,
    "start_time": "2021-10-24T16:17:44.695Z"
   },
   {
    "duration": 11,
    "start_time": "2021-10-24T16:17:44.706Z"
   },
   {
    "duration": 8,
    "start_time": "2021-10-24T16:17:44.719Z"
   },
   {
    "duration": 43,
    "start_time": "2021-10-24T16:17:44.729Z"
   },
   {
    "duration": 10,
    "start_time": "2021-10-24T16:17:44.779Z"
   },
   {
    "duration": 20,
    "start_time": "2021-10-24T16:17:44.793Z"
   },
   {
    "duration": 108,
    "start_time": "2021-10-24T16:17:44.816Z"
   },
   {
    "duration": 14,
    "start_time": "2021-10-24T16:17:44.926Z"
   },
   {
    "duration": 805,
    "start_time": "2021-10-24T16:17:44.943Z"
   },
   {
    "duration": 19,
    "start_time": "2021-10-24T16:17:45.750Z"
   },
   {
    "duration": 30,
    "start_time": "2021-10-24T16:17:45.771Z"
   },
   {
    "duration": 24,
    "start_time": "2021-10-24T16:17:45.803Z"
   },
   {
    "duration": 39,
    "start_time": "2021-10-24T16:17:45.830Z"
   },
   {
    "duration": 10,
    "start_time": "2021-10-24T16:17:45.872Z"
   },
   {
    "duration": 83,
    "start_time": "2021-10-24T16:17:45.884Z"
   },
   {
    "duration": 11,
    "start_time": "2021-10-24T16:17:45.970Z"
   },
   {
    "duration": 8,
    "start_time": "2021-10-24T16:17:45.984Z"
   },
   {
    "duration": 16,
    "start_time": "2021-10-24T16:17:45.994Z"
   },
   {
    "duration": 26,
    "start_time": "2021-10-24T16:17:46.012Z"
   },
   {
    "duration": 8,
    "start_time": "2021-10-24T16:17:46.067Z"
   },
   {
    "duration": 5,
    "start_time": "2021-10-24T16:17:46.078Z"
   },
   {
    "duration": 13,
    "start_time": "2021-10-24T16:17:46.086Z"
   },
   {
    "duration": 271,
    "start_time": "2021-10-24T16:17:46.102Z"
   },
   {
    "duration": 10,
    "start_time": "2021-10-24T16:17:46.376Z"
   },
   {
    "duration": 24,
    "start_time": "2021-10-24T16:17:46.389Z"
   },
   {
    "duration": 82,
    "start_time": "2021-10-24T16:17:46.415Z"
   },
   {
    "duration": 9,
    "start_time": "2021-10-24T16:17:46.500Z"
   },
   {
    "duration": 697,
    "start_time": "2021-10-24T16:17:46.511Z"
   },
   {
    "duration": 10,
    "start_time": "2021-10-24T16:17:47.211Z"
   },
   {
    "duration": 22,
    "start_time": "2021-10-24T16:17:47.224Z"
   },
   {
    "duration": 35,
    "start_time": "2021-10-24T16:17:47.248Z"
   },
   {
    "duration": 16,
    "start_time": "2021-10-24T16:17:47.285Z"
   },
   {
    "duration": 8,
    "start_time": "2021-10-24T16:17:47.304Z"
   },
   {
    "duration": 73,
    "start_time": "2021-10-24T16:17:47.314Z"
   },
   {
    "duration": 11,
    "start_time": "2021-10-24T16:17:47.390Z"
   },
   {
    "duration": 9,
    "start_time": "2021-10-24T16:17:47.403Z"
   },
   {
    "duration": 11,
    "start_time": "2021-10-24T16:17:47.415Z"
   },
   {
    "duration": 43,
    "start_time": "2021-10-24T16:17:47.429Z"
   },
   {
    "duration": 23,
    "start_time": "2021-10-24T16:17:47.475Z"
   },
   {
    "duration": 10,
    "start_time": "2021-10-24T16:17:47.501Z"
   },
   {
    "duration": 6,
    "start_time": "2021-10-24T16:17:47.513Z"
   },
   {
    "duration": 51,
    "start_time": "2021-10-24T16:17:47.522Z"
   },
   {
    "duration": 11,
    "start_time": "2021-10-24T16:17:47.575Z"
   },
   {
    "duration": 243,
    "start_time": "2021-10-24T16:17:47.588Z"
   },
   {
    "duration": 8,
    "start_time": "2021-10-24T16:17:47.835Z"
   },
   {
    "duration": 27,
    "start_time": "2021-10-24T16:17:47.846Z"
   },
   {
    "duration": 22,
    "start_time": "2021-10-24T16:17:47.876Z"
   },
   {
    "duration": 7,
    "start_time": "2021-10-24T16:17:47.901Z"
   },
   {
    "duration": 18,
    "start_time": "2021-10-24T16:17:47.911Z"
   },
   {
    "duration": 17,
    "start_time": "2021-10-24T16:17:47.970Z"
   },
   {
    "duration": 20,
    "start_time": "2021-10-24T16:17:47.991Z"
   },
   {
    "duration": 10,
    "start_time": "2021-10-24T16:17:48.014Z"
   },
   {
    "duration": 43,
    "start_time": "2021-10-24T16:17:48.027Z"
   },
   {
    "duration": 10,
    "start_time": "2021-10-24T16:17:48.073Z"
   },
   {
    "duration": 20,
    "start_time": "2021-10-24T16:17:48.086Z"
   },
   {
    "duration": 19,
    "start_time": "2021-10-24T16:17:48.109Z"
   },
   {
    "duration": 41,
    "start_time": "2021-10-24T16:17:48.131Z"
   },
   {
    "duration": 3,
    "start_time": "2021-10-24T16:17:48.175Z"
   },
   {
    "duration": 12,
    "start_time": "2021-10-24T16:17:48.180Z"
   },
   {
    "duration": 15,
    "start_time": "2021-10-24T16:17:48.195Z"
   },
   {
    "duration": 11,
    "start_time": "2021-10-24T16:17:48.212Z"
   },
   {
    "duration": 7,
    "start_time": "2021-10-24T16:17:48.225Z"
   },
   {
    "duration": 46,
    "start_time": "2021-10-24T16:17:48.234Z"
   },
   {
    "duration": 4719,
    "start_time": "2021-10-24T16:17:48.283Z"
   },
   {
    "duration": 12,
    "start_time": "2021-10-24T16:17:53.005Z"
   },
   {
    "duration": 7,
    "start_time": "2021-10-24T16:17:53.020Z"
   },
   {
    "duration": 38,
    "start_time": "2021-10-24T16:17:53.029Z"
   },
   {
    "duration": 23,
    "start_time": "2021-10-24T16:17:53.069Z"
   },
   {
    "duration": 11,
    "start_time": "2021-10-24T16:17:53.095Z"
   },
   {
    "duration": 10,
    "start_time": "2021-10-24T16:17:53.108Z"
   },
   {
    "duration": 63,
    "start_time": "2021-10-24T16:17:53.120Z"
   },
   {
    "duration": 13,
    "start_time": "2021-10-24T16:17:53.186Z"
   },
   {
    "duration": 30,
    "start_time": "2021-10-24T16:17:53.201Z"
   },
   {
    "duration": 7,
    "start_time": "2021-10-24T16:18:20.663Z"
   },
   {
    "duration": 7,
    "start_time": "2021-10-24T16:21:13.508Z"
   },
   {
    "duration": 1567,
    "start_time": "2021-10-24T16:25:00.682Z"
   },
   {
    "duration": 192,
    "start_time": "2021-10-24T16:25:02.252Z"
   },
   {
    "duration": 12,
    "start_time": "2021-10-24T16:25:02.447Z"
   },
   {
    "duration": 22,
    "start_time": "2021-10-24T16:25:02.462Z"
   },
   {
    "duration": 14,
    "start_time": "2021-10-24T16:25:02.487Z"
   },
   {
    "duration": 37,
    "start_time": "2021-10-24T16:25:02.504Z"
   },
   {
    "duration": 38,
    "start_time": "2021-10-24T16:25:02.543Z"
   },
   {
    "duration": 6,
    "start_time": "2021-10-24T16:25:02.585Z"
   },
   {
    "duration": 20,
    "start_time": "2021-10-24T16:25:02.595Z"
   },
   {
    "duration": 9,
    "start_time": "2021-10-24T16:25:02.617Z"
   },
   {
    "duration": 328,
    "start_time": "2021-10-24T16:25:02.628Z"
   },
   {
    "duration": 249,
    "start_time": "2021-10-24T16:25:02.958Z"
   },
   {
    "duration": 15,
    "start_time": "2021-10-24T16:25:03.210Z"
   },
   {
    "duration": 40,
    "start_time": "2021-10-24T16:25:03.227Z"
   },
   {
    "duration": 7,
    "start_time": "2021-10-24T16:25:03.270Z"
   },
   {
    "duration": 14,
    "start_time": "2021-10-24T16:25:03.279Z"
   },
   {
    "duration": 8,
    "start_time": "2021-10-24T16:25:03.295Z"
   },
   {
    "duration": 9,
    "start_time": "2021-10-24T16:25:03.306Z"
   },
   {
    "duration": 9,
    "start_time": "2021-10-24T16:25:03.318Z"
   },
   {
    "duration": 43,
    "start_time": "2021-10-24T16:25:03.330Z"
   },
   {
    "duration": 10,
    "start_time": "2021-10-24T16:25:03.376Z"
   },
   {
    "duration": 21,
    "start_time": "2021-10-24T16:25:03.388Z"
   },
   {
    "duration": 16,
    "start_time": "2021-10-24T16:25:03.420Z"
   },
   {
    "duration": 29,
    "start_time": "2021-10-24T16:25:03.474Z"
   },
   {
    "duration": 134,
    "start_time": "2021-10-24T16:25:03.506Z"
   },
   {
    "duration": 27,
    "start_time": "2021-10-24T16:25:03.642Z"
   },
   {
    "duration": 766,
    "start_time": "2021-10-24T16:25:03.671Z"
   },
   {
    "duration": 12,
    "start_time": "2021-10-24T16:25:04.439Z"
   },
   {
    "duration": 24,
    "start_time": "2021-10-24T16:25:04.467Z"
   },
   {
    "duration": 29,
    "start_time": "2021-10-24T16:25:04.494Z"
   },
   {
    "duration": 44,
    "start_time": "2021-10-24T16:25:04.525Z"
   },
   {
    "duration": 9,
    "start_time": "2021-10-24T16:25:04.571Z"
   },
   {
    "duration": 69,
    "start_time": "2021-10-24T16:25:04.582Z"
   },
   {
    "duration": 11,
    "start_time": "2021-10-24T16:25:04.667Z"
   },
   {
    "duration": 10,
    "start_time": "2021-10-24T16:25:04.680Z"
   },
   {
    "duration": 16,
    "start_time": "2021-10-24T16:25:04.692Z"
   },
   {
    "duration": 25,
    "start_time": "2021-10-24T16:25:04.711Z"
   },
   {
    "duration": 8,
    "start_time": "2021-10-24T16:25:04.767Z"
   },
   {
    "duration": 5,
    "start_time": "2021-10-24T16:25:04.778Z"
   },
   {
    "duration": 13,
    "start_time": "2021-10-24T16:25:04.786Z"
   },
   {
    "duration": 257,
    "start_time": "2021-10-24T16:25:04.801Z"
   },
   {
    "duration": 10,
    "start_time": "2021-10-24T16:25:05.067Z"
   },
   {
    "duration": 29,
    "start_time": "2021-10-24T16:25:05.080Z"
   },
   {
    "duration": 73,
    "start_time": "2021-10-24T16:25:05.112Z"
   },
   {
    "duration": 10,
    "start_time": "2021-10-24T16:25:05.188Z"
   },
   {
    "duration": 707,
    "start_time": "2021-10-24T16:25:05.201Z"
   },
   {
    "duration": 13,
    "start_time": "2021-10-24T16:25:05.911Z"
   },
   {
    "duration": 42,
    "start_time": "2021-10-24T16:25:05.927Z"
   },
   {
    "duration": 21,
    "start_time": "2021-10-24T16:25:05.972Z"
   },
   {
    "duration": 15,
    "start_time": "2021-10-24T16:25:05.996Z"
   },
   {
    "duration": 57,
    "start_time": "2021-10-24T16:25:06.014Z"
   },
   {
    "duration": 37,
    "start_time": "2021-10-24T16:25:06.074Z"
   },
   {
    "duration": 15,
    "start_time": "2021-10-24T16:25:06.113Z"
   },
   {
    "duration": 46,
    "start_time": "2021-10-24T16:25:06.131Z"
   },
   {
    "duration": 14,
    "start_time": "2021-10-24T16:25:06.180Z"
   },
   {
    "duration": 13,
    "start_time": "2021-10-24T16:25:06.197Z"
   },
   {
    "duration": 56,
    "start_time": "2021-10-24T16:25:06.213Z"
   },
   {
    "duration": 12,
    "start_time": "2021-10-24T16:25:06.272Z"
   },
   {
    "duration": 8,
    "start_time": "2021-10-24T16:25:06.287Z"
   },
   {
    "duration": 16,
    "start_time": "2021-10-24T16:25:06.297Z"
   },
   {
    "duration": 52,
    "start_time": "2021-10-24T16:25:06.315Z"
   },
   {
    "duration": 234,
    "start_time": "2021-10-24T16:25:06.370Z"
   },
   {
    "duration": 7,
    "start_time": "2021-10-24T16:25:06.606Z"
   },
   {
    "duration": 13,
    "start_time": "2021-10-24T16:25:06.615Z"
   },
   {
    "duration": 37,
    "start_time": "2021-10-24T16:25:06.630Z"
   },
   {
    "duration": 7,
    "start_time": "2021-10-24T16:25:06.670Z"
   },
   {
    "duration": 15,
    "start_time": "2021-10-24T16:25:06.679Z"
   },
   {
    "duration": 16,
    "start_time": "2021-10-24T16:25:06.702Z"
   },
   {
    "duration": 53,
    "start_time": "2021-10-24T16:25:06.721Z"
   },
   {
    "duration": 10,
    "start_time": "2021-10-24T16:25:06.776Z"
   },
   {
    "duration": 7,
    "start_time": "2021-10-24T16:25:06.789Z"
   },
   {
    "duration": 16,
    "start_time": "2021-10-24T16:25:06.799Z"
   },
   {
    "duration": 28,
    "start_time": "2021-10-24T16:25:06.818Z"
   },
   {
    "duration": 33,
    "start_time": "2021-10-24T16:25:06.849Z"
   },
   {
    "duration": 16,
    "start_time": "2021-10-24T16:25:06.885Z"
   },
   {
    "duration": 3,
    "start_time": "2021-10-24T16:25:06.904Z"
   },
   {
    "duration": 9,
    "start_time": "2021-10-24T16:25:06.909Z"
   },
   {
    "duration": 12,
    "start_time": "2021-10-24T16:25:06.920Z"
   },
   {
    "duration": 41,
    "start_time": "2021-10-24T16:25:06.935Z"
   },
   {
    "duration": 6,
    "start_time": "2021-10-24T16:25:06.979Z"
   },
   {
    "duration": 15,
    "start_time": "2021-10-24T16:25:06.987Z"
   },
   {
    "duration": 4248,
    "start_time": "2021-10-24T16:25:07.004Z"
   },
   {
    "duration": 18,
    "start_time": "2021-10-24T16:25:11.255Z"
   },
   {
    "duration": 13,
    "start_time": "2021-10-24T16:25:11.276Z"
   },
   {
    "duration": 9,
    "start_time": "2021-10-24T16:25:11.291Z"
   },
   {
    "duration": 24,
    "start_time": "2021-10-24T16:25:11.303Z"
   },
   {
    "duration": 40,
    "start_time": "2021-10-24T16:25:11.329Z"
   },
   {
    "duration": 15,
    "start_time": "2021-10-24T16:25:11.371Z"
   },
   {
    "duration": 24,
    "start_time": "2021-10-24T16:25:11.389Z"
   },
   {
    "duration": 16,
    "start_time": "2021-10-24T16:25:11.416Z"
   },
   {
    "duration": 53,
    "start_time": "2021-10-24T16:25:11.435Z"
   },
   {
    "duration": 1515,
    "start_time": "2021-10-24T16:25:45.510Z"
   },
   {
    "duration": 191,
    "start_time": "2021-10-24T16:25:47.028Z"
   },
   {
    "duration": 12,
    "start_time": "2021-10-24T16:25:47.222Z"
   },
   {
    "duration": 21,
    "start_time": "2021-10-24T16:25:47.238Z"
   },
   {
    "duration": 14,
    "start_time": "2021-10-24T16:25:47.262Z"
   },
   {
    "duration": 32,
    "start_time": "2021-10-24T16:25:47.280Z"
   },
   {
    "duration": 60,
    "start_time": "2021-10-24T16:25:47.315Z"
   },
   {
    "duration": 6,
    "start_time": "2021-10-24T16:25:47.381Z"
   },
   {
    "duration": 20,
    "start_time": "2021-10-24T16:25:47.390Z"
   },
   {
    "duration": 8,
    "start_time": "2021-10-24T16:25:47.412Z"
   },
   {
    "duration": 275,
    "start_time": "2021-10-24T16:25:47.422Z"
   },
   {
    "duration": 267,
    "start_time": "2021-10-24T16:25:47.699Z"
   },
   {
    "duration": 14,
    "start_time": "2021-10-24T16:25:47.968Z"
   },
   {
    "duration": 17,
    "start_time": "2021-10-24T16:25:47.984Z"
   },
   {
    "duration": 15,
    "start_time": "2021-10-24T16:25:48.003Z"
   },
   {
    "duration": 6,
    "start_time": "2021-10-24T16:25:48.021Z"
   },
   {
    "duration": 40,
    "start_time": "2021-10-24T16:25:48.030Z"
   },
   {
    "duration": 7,
    "start_time": "2021-10-24T16:25:48.072Z"
   },
   {
    "duration": 8,
    "start_time": "2021-10-24T16:25:48.081Z"
   },
   {
    "duration": 18,
    "start_time": "2021-10-24T16:25:48.091Z"
   },
   {
    "duration": 13,
    "start_time": "2021-10-24T16:25:48.111Z"
   },
   {
    "duration": 17,
    "start_time": "2021-10-24T16:25:48.126Z"
   },
   {
    "duration": 14,
    "start_time": "2021-10-24T16:25:48.172Z"
   },
   {
    "duration": 22,
    "start_time": "2021-10-24T16:25:48.190Z"
   },
   {
    "duration": 111,
    "start_time": "2021-10-24T16:25:48.214Z"
   },
   {
    "duration": 11,
    "start_time": "2021-10-24T16:25:48.327Z"
   },
   {
    "duration": 776,
    "start_time": "2021-10-24T16:25:48.341Z"
   },
   {
    "duration": 12,
    "start_time": "2021-10-24T16:25:49.119Z"
   },
   {
    "duration": 42,
    "start_time": "2021-10-24T16:25:49.133Z"
   },
   {
    "duration": 21,
    "start_time": "2021-10-24T16:25:49.177Z"
   },
   {
    "duration": 16,
    "start_time": "2021-10-24T16:25:49.200Z"
   },
   {
    "duration": 9,
    "start_time": "2021-10-24T16:25:49.218Z"
   },
   {
    "duration": 94,
    "start_time": "2021-10-24T16:25:49.230Z"
   },
   {
    "duration": 10,
    "start_time": "2021-10-24T16:25:49.326Z"
   },
   {
    "duration": 29,
    "start_time": "2021-10-24T16:25:49.338Z"
   },
   {
    "duration": 14,
    "start_time": "2021-10-24T16:25:49.370Z"
   },
   {
    "duration": 23,
    "start_time": "2021-10-24T16:25:49.386Z"
   },
   {
    "duration": 7,
    "start_time": "2021-10-24T16:25:49.411Z"
   },
   {
    "duration": 5,
    "start_time": "2021-10-24T16:25:49.420Z"
   },
   {
    "duration": 8,
    "start_time": "2021-10-24T16:25:49.467Z"
   },
   {
    "duration": 261,
    "start_time": "2021-10-24T16:25:49.477Z"
   },
   {
    "duration": 10,
    "start_time": "2021-10-24T16:25:49.740Z"
   },
   {
    "duration": 28,
    "start_time": "2021-10-24T16:25:49.752Z"
   },
   {
    "duration": 58,
    "start_time": "2021-10-24T16:25:49.783Z"
   },
   {
    "duration": 30,
    "start_time": "2021-10-24T16:25:49.844Z"
   },
   {
    "duration": 703,
    "start_time": "2021-10-24T16:25:49.877Z"
   },
   {
    "duration": 11,
    "start_time": "2021-10-24T16:25:50.583Z"
   },
   {
    "duration": 18,
    "start_time": "2021-10-24T16:25:50.596Z"
   },
   {
    "duration": 53,
    "start_time": "2021-10-24T16:25:50.616Z"
   },
   {
    "duration": 13,
    "start_time": "2021-10-24T16:25:50.671Z"
   },
   {
    "duration": 12,
    "start_time": "2021-10-24T16:25:50.687Z"
   },
   {
    "duration": 37,
    "start_time": "2021-10-24T16:25:50.702Z"
   },
   {
    "duration": 13,
    "start_time": "2021-10-24T16:25:50.768Z"
   },
   {
    "duration": 10,
    "start_time": "2021-10-24T16:25:50.783Z"
   },
   {
    "duration": 9,
    "start_time": "2021-10-24T16:25:50.796Z"
   },
   {
    "duration": 11,
    "start_time": "2021-10-24T16:25:50.807Z"
   },
   {
    "duration": 64,
    "start_time": "2021-10-24T16:25:50.821Z"
   },
   {
    "duration": 10,
    "start_time": "2021-10-24T16:25:50.887Z"
   },
   {
    "duration": 6,
    "start_time": "2021-10-24T16:25:50.900Z"
   },
   {
    "duration": 12,
    "start_time": "2021-10-24T16:25:50.908Z"
   },
   {
    "duration": 50,
    "start_time": "2021-10-24T16:25:50.923Z"
   },
   {
    "duration": 243,
    "start_time": "2021-10-24T16:25:50.976Z"
   },
   {
    "duration": 8,
    "start_time": "2021-10-24T16:25:51.222Z"
   },
   {
    "duration": 34,
    "start_time": "2021-10-24T16:25:51.233Z"
   },
   {
    "duration": 19,
    "start_time": "2021-10-24T16:25:51.270Z"
   },
   {
    "duration": 8,
    "start_time": "2021-10-24T16:25:51.292Z"
   },
   {
    "duration": 16,
    "start_time": "2021-10-24T16:25:51.303Z"
   },
   {
    "duration": 55,
    "start_time": "2021-10-24T16:25:51.328Z"
   },
   {
    "duration": 21,
    "start_time": "2021-10-24T16:25:51.387Z"
   },
   {
    "duration": 12,
    "start_time": "2021-10-24T16:25:51.410Z"
   },
   {
    "duration": 46,
    "start_time": "2021-10-24T16:25:51.425Z"
   },
   {
    "duration": 10,
    "start_time": "2021-10-24T16:25:51.475Z"
   },
   {
    "duration": 16,
    "start_time": "2021-10-24T16:25:51.487Z"
   },
   {
    "duration": 21,
    "start_time": "2021-10-24T16:25:51.505Z"
   },
   {
    "duration": 15,
    "start_time": "2021-10-24T16:25:51.568Z"
   },
   {
    "duration": 3,
    "start_time": "2021-10-24T16:25:51.586Z"
   },
   {
    "duration": 10,
    "start_time": "2021-10-24T16:25:51.591Z"
   },
   {
    "duration": 13,
    "start_time": "2021-10-24T16:25:51.603Z"
   },
   {
    "duration": 14,
    "start_time": "2021-10-24T16:25:51.618Z"
   },
   {
    "duration": 3,
    "start_time": "2021-10-24T16:25:51.667Z"
   },
   {
    "duration": 16,
    "start_time": "2021-10-24T16:25:51.673Z"
   },
   {
    "duration": 3999,
    "start_time": "2021-10-24T16:25:51.691Z"
   },
   {
    "duration": 12,
    "start_time": "2021-10-24T16:25:55.693Z"
   },
   {
    "duration": 6,
    "start_time": "2021-10-24T16:25:55.707Z"
   },
   {
    "duration": 7,
    "start_time": "2021-10-24T16:25:55.715Z"
   },
   {
    "duration": 58,
    "start_time": "2021-10-24T16:25:55.724Z"
   },
   {
    "duration": 10,
    "start_time": "2021-10-24T16:25:55.784Z"
   },
   {
    "duration": 9,
    "start_time": "2021-10-24T16:25:55.797Z"
   },
   {
    "duration": 28,
    "start_time": "2021-10-24T16:25:55.809Z"
   },
   {
    "duration": 14,
    "start_time": "2021-10-24T16:25:55.867Z"
   },
   {
    "duration": 25,
    "start_time": "2021-10-24T16:25:55.884Z"
   },
   {
    "duration": 1624,
    "start_time": "2021-10-24T16:27:01.808Z"
   },
   {
    "duration": 192,
    "start_time": "2021-10-24T16:27:03.435Z"
   },
   {
    "duration": 12,
    "start_time": "2021-10-24T16:27:03.630Z"
   },
   {
    "duration": 18,
    "start_time": "2021-10-24T16:27:03.645Z"
   },
   {
    "duration": 11,
    "start_time": "2021-10-24T16:27:03.666Z"
   },
   {
    "duration": 39,
    "start_time": "2021-10-24T16:27:03.680Z"
   },
   {
    "duration": 22,
    "start_time": "2021-10-24T16:27:03.722Z"
   },
   {
    "duration": 6,
    "start_time": "2021-10-24T16:27:03.769Z"
   },
   {
    "duration": 26,
    "start_time": "2021-10-24T16:27:03.778Z"
   },
   {
    "duration": 10,
    "start_time": "2021-10-24T16:27:03.807Z"
   },
   {
    "duration": 264,
    "start_time": "2021-10-24T16:27:03.820Z"
   },
   {
    "duration": 235,
    "start_time": "2021-10-24T16:27:04.086Z"
   },
   {
    "duration": 14,
    "start_time": "2021-10-24T16:27:04.324Z"
   },
   {
    "duration": 38,
    "start_time": "2021-10-24T16:27:04.341Z"
   },
   {
    "duration": 9,
    "start_time": "2021-10-24T16:27:04.382Z"
   },
   {
    "duration": 8,
    "start_time": "2021-10-24T16:27:04.394Z"
   },
   {
    "duration": 8,
    "start_time": "2021-10-24T16:27:04.405Z"
   },
   {
    "duration": 55,
    "start_time": "2021-10-24T16:27:04.415Z"
   },
   {
    "duration": 6,
    "start_time": "2021-10-24T16:27:04.473Z"
   },
   {
    "duration": 13,
    "start_time": "2021-10-24T16:27:04.481Z"
   },
   {
    "duration": 9,
    "start_time": "2021-10-24T16:27:04.496Z"
   },
   {
    "duration": 15,
    "start_time": "2021-10-24T16:27:04.508Z"
   },
   {
    "duration": 11,
    "start_time": "2021-10-24T16:27:04.567Z"
   },
   {
    "duration": 23,
    "start_time": "2021-10-24T16:27:04.582Z"
   },
   {
    "duration": 110,
    "start_time": "2021-10-24T16:27:04.608Z"
   },
   {
    "duration": 15,
    "start_time": "2021-10-24T16:27:04.720Z"
   },
   {
    "duration": 865,
    "start_time": "2021-10-24T16:27:04.737Z"
   },
   {
    "duration": 12,
    "start_time": "2021-10-24T16:27:05.604Z"
   },
   {
    "duration": 40,
    "start_time": "2021-10-24T16:27:05.619Z"
   },
   {
    "duration": 23,
    "start_time": "2021-10-24T16:27:05.668Z"
   },
   {
    "duration": 16,
    "start_time": "2021-10-24T16:27:05.693Z"
   },
   {
    "duration": 9,
    "start_time": "2021-10-24T16:27:05.712Z"
   },
   {
    "duration": 93,
    "start_time": "2021-10-24T16:27:05.724Z"
   },
   {
    "duration": 10,
    "start_time": "2021-10-24T16:27:05.820Z"
   },
   {
    "duration": 8,
    "start_time": "2021-10-24T16:27:05.832Z"
   },
   {
    "duration": 9,
    "start_time": "2021-10-24T16:27:05.867Z"
   },
   {
    "duration": 22,
    "start_time": "2021-10-24T16:27:05.879Z"
   },
   {
    "duration": 7,
    "start_time": "2021-10-24T16:27:05.904Z"
   },
   {
    "duration": 5,
    "start_time": "2021-10-24T16:27:05.914Z"
   },
   {
    "duration": 58,
    "start_time": "2021-10-24T16:27:05.921Z"
   },
   {
    "duration": 236,
    "start_time": "2021-10-24T16:27:05.981Z"
   },
   {
    "duration": 12,
    "start_time": "2021-10-24T16:27:06.220Z"
   },
   {
    "duration": 44,
    "start_time": "2021-10-24T16:27:06.235Z"
   },
   {
    "duration": 58,
    "start_time": "2021-10-24T16:27:06.282Z"
   },
   {
    "duration": 33,
    "start_time": "2021-10-24T16:27:06.343Z"
   },
   {
    "duration": 773,
    "start_time": "2021-10-24T16:27:06.379Z"
   },
   {
    "duration": 20,
    "start_time": "2021-10-24T16:27:07.154Z"
   },
   {
    "duration": 17,
    "start_time": "2021-10-24T16:27:07.177Z"
   },
   {
    "duration": 19,
    "start_time": "2021-10-24T16:27:07.197Z"
   },
   {
    "duration": 48,
    "start_time": "2021-10-24T16:27:07.219Z"
   },
   {
    "duration": 9,
    "start_time": "2021-10-24T16:27:07.270Z"
   },
   {
    "duration": 34,
    "start_time": "2021-10-24T16:27:07.282Z"
   },
   {
    "duration": 12,
    "start_time": "2021-10-24T16:27:07.319Z"
   },
   {
    "duration": 12,
    "start_time": "2021-10-24T16:27:07.367Z"
   },
   {
    "duration": 14,
    "start_time": "2021-10-24T16:27:07.382Z"
   },
   {
    "duration": 12,
    "start_time": "2021-10-24T16:27:07.399Z"
   },
   {
    "duration": 62,
    "start_time": "2021-10-24T16:27:07.414Z"
   },
   {
    "duration": 12,
    "start_time": "2021-10-24T16:27:07.479Z"
   },
   {
    "duration": 6,
    "start_time": "2021-10-24T16:27:07.493Z"
   },
   {
    "duration": 14,
    "start_time": "2021-10-24T16:27:07.502Z"
   },
   {
    "duration": 20,
    "start_time": "2021-10-24T16:27:07.518Z"
   },
   {
    "duration": 267,
    "start_time": "2021-10-24T16:27:07.541Z"
   },
   {
    "duration": 7,
    "start_time": "2021-10-24T16:27:07.811Z"
   },
   {
    "duration": 20,
    "start_time": "2021-10-24T16:27:07.820Z"
   },
   {
    "duration": 28,
    "start_time": "2021-10-24T16:27:07.843Z"
   },
   {
    "duration": 6,
    "start_time": "2021-10-24T16:27:07.874Z"
   },
   {
    "duration": 15,
    "start_time": "2021-10-24T16:27:07.883Z"
   },
   {
    "duration": 19,
    "start_time": "2021-10-24T16:27:07.906Z"
   },
   {
    "duration": 49,
    "start_time": "2021-10-24T16:27:07.928Z"
   },
   {
    "duration": 10,
    "start_time": "2021-10-24T16:27:07.979Z"
   },
   {
    "duration": 7,
    "start_time": "2021-10-24T16:27:07.992Z"
   },
   {
    "duration": 13,
    "start_time": "2021-10-24T16:27:08.002Z"
   },
   {
    "duration": 52,
    "start_time": "2021-10-24T16:27:08.018Z"
   },
   {
    "duration": 20,
    "start_time": "2021-10-24T16:27:08.072Z"
   },
   {
    "duration": 13,
    "start_time": "2021-10-24T16:27:08.095Z"
   },
   {
    "duration": 4,
    "start_time": "2021-10-24T16:27:08.110Z"
   },
   {
    "duration": 8,
    "start_time": "2021-10-24T16:27:08.116Z"
   },
   {
    "duration": 46,
    "start_time": "2021-10-24T16:27:08.126Z"
   },
   {
    "duration": 12,
    "start_time": "2021-10-24T16:27:08.174Z"
   },
   {
    "duration": 9,
    "start_time": "2021-10-24T16:27:08.188Z"
   },
   {
    "duration": 14,
    "start_time": "2021-10-24T16:27:08.200Z"
   },
   {
    "duration": 5133,
    "start_time": "2021-10-24T16:27:08.216Z"
   },
   {
    "duration": 23,
    "start_time": "2021-10-24T16:27:13.352Z"
   },
   {
    "duration": 7,
    "start_time": "2021-10-24T16:27:13.378Z"
   },
   {
    "duration": 8,
    "start_time": "2021-10-24T16:27:13.388Z"
   },
   {
    "duration": 25,
    "start_time": "2021-10-24T16:27:13.399Z"
   },
   {
    "duration": 51,
    "start_time": "2021-10-24T16:27:13.427Z"
   },
   {
    "duration": 10,
    "start_time": "2021-10-24T16:27:13.481Z"
   },
   {
    "duration": 27,
    "start_time": "2021-10-24T16:27:13.494Z"
   },
   {
    "duration": 15,
    "start_time": "2021-10-24T16:27:13.568Z"
   },
   {
    "duration": 28,
    "start_time": "2021-10-24T16:27:13.585Z"
   },
   {
    "duration": 10,
    "start_time": "2021-10-24T16:28:25.331Z"
   },
   {
    "duration": 11,
    "start_time": "2021-10-24T16:28:31.435Z"
   },
   {
    "duration": 8354,
    "start_time": "2021-10-24T16:29:41.086Z"
   },
   {
    "duration": 23,
    "start_time": "2021-10-24T16:30:26.623Z"
   },
   {
    "duration": 397,
    "start_time": "2021-10-24T16:32:30.851Z"
   },
   {
    "duration": 8,
    "start_time": "2021-10-24T16:32:51.060Z"
   },
   {
    "duration": 23,
    "start_time": "2021-10-24T16:34:46.501Z"
   },
   {
    "duration": 6,
    "start_time": "2021-10-24T16:35:41.528Z"
   },
   {
    "duration": 24,
    "start_time": "2021-10-24T16:35:44.729Z"
   },
   {
    "duration": 4,
    "start_time": "2021-10-24T16:37:11.531Z"
   },
   {
    "duration": 274,
    "start_time": "2021-10-24T16:42:39.839Z"
   },
   {
    "duration": 9,
    "start_time": "2021-10-24T16:55:18.092Z"
   },
   {
    "duration": 1697,
    "start_time": "2021-10-24T16:56:41.461Z"
   },
   {
    "duration": 189,
    "start_time": "2021-10-24T16:56:43.160Z"
   },
   {
    "duration": 11,
    "start_time": "2021-10-24T16:56:43.352Z"
   },
   {
    "duration": 25,
    "start_time": "2021-10-24T16:56:43.366Z"
   },
   {
    "duration": 10,
    "start_time": "2021-10-24T16:56:43.393Z"
   },
   {
    "duration": 28,
    "start_time": "2021-10-24T16:56:43.406Z"
   },
   {
    "duration": 60,
    "start_time": "2021-10-24T16:56:43.437Z"
   },
   {
    "duration": 6,
    "start_time": "2021-10-24T16:56:43.504Z"
   },
   {
    "duration": 18,
    "start_time": "2021-10-24T16:56:43.513Z"
   },
   {
    "duration": 38,
    "start_time": "2021-10-24T16:56:43.533Z"
   },
   {
    "duration": 277,
    "start_time": "2021-10-24T16:56:43.574Z"
   },
   {
    "duration": 255,
    "start_time": "2021-10-24T16:56:43.853Z"
   },
   {
    "duration": 14,
    "start_time": "2021-10-24T16:56:44.111Z"
   },
   {
    "duration": 19,
    "start_time": "2021-10-24T16:56:44.127Z"
   },
   {
    "duration": 30,
    "start_time": "2021-10-24T16:56:44.148Z"
   },
   {
    "duration": 10,
    "start_time": "2021-10-24T16:56:44.181Z"
   },
   {
    "duration": 12,
    "start_time": "2021-10-24T16:56:44.193Z"
   },
   {
    "duration": 6,
    "start_time": "2021-10-24T16:56:44.208Z"
   },
   {
    "duration": 7,
    "start_time": "2021-10-24T16:56:44.216Z"
   },
   {
    "duration": 52,
    "start_time": "2021-10-24T16:56:44.226Z"
   },
   {
    "duration": 9,
    "start_time": "2021-10-24T16:56:44.282Z"
   },
   {
    "duration": 13,
    "start_time": "2021-10-24T16:56:44.294Z"
   },
   {
    "duration": 10,
    "start_time": "2021-10-24T16:56:44.314Z"
   },
   {
    "duration": 64,
    "start_time": "2021-10-24T16:56:44.328Z"
   },
   {
    "duration": 101,
    "start_time": "2021-10-24T16:56:44.395Z"
   },
   {
    "duration": 12,
    "start_time": "2021-10-24T16:56:44.499Z"
   },
   {
    "duration": 829,
    "start_time": "2021-10-24T16:56:44.513Z"
   },
   {
    "duration": 23,
    "start_time": "2021-10-24T16:56:45.345Z"
   },
   {
    "duration": 28,
    "start_time": "2021-10-24T16:56:45.371Z"
   },
   {
    "duration": 32,
    "start_time": "2021-10-24T16:56:45.401Z"
   },
   {
    "duration": 48,
    "start_time": "2021-10-24T16:56:45.436Z"
   },
   {
    "duration": 13,
    "start_time": "2021-10-24T16:56:45.491Z"
   },
   {
    "duration": 107,
    "start_time": "2021-10-24T16:56:45.507Z"
   },
   {
    "duration": 13,
    "start_time": "2021-10-24T16:56:45.617Z"
   },
   {
    "duration": 10,
    "start_time": "2021-10-24T16:56:45.633Z"
   },
   {
    "duration": 28,
    "start_time": "2021-10-24T16:56:45.645Z"
   },
   {
    "duration": 24,
    "start_time": "2021-10-24T16:56:45.675Z"
   },
   {
    "duration": 8,
    "start_time": "2021-10-24T16:56:45.702Z"
   },
   {
    "duration": 5,
    "start_time": "2021-10-24T16:56:45.712Z"
   },
   {
    "duration": 51,
    "start_time": "2021-10-24T16:56:45.719Z"
   },
   {
    "duration": 278,
    "start_time": "2021-10-24T16:56:45.773Z"
   },
   {
    "duration": 13,
    "start_time": "2021-10-24T16:56:46.054Z"
   },
   {
    "duration": 24,
    "start_time": "2021-10-24T16:56:46.071Z"
   },
   {
    "duration": 94,
    "start_time": "2021-10-24T16:56:46.098Z"
   },
   {
    "duration": 14,
    "start_time": "2021-10-24T16:56:46.194Z"
   },
   {
    "duration": 736,
    "start_time": "2021-10-24T16:56:46.211Z"
   },
   {
    "duration": 27,
    "start_time": "2021-10-24T16:56:46.949Z"
   },
   {
    "duration": 20,
    "start_time": "2021-10-24T16:56:46.980Z"
   },
   {
    "duration": 21,
    "start_time": "2021-10-24T16:56:47.003Z"
   },
   {
    "duration": 47,
    "start_time": "2021-10-24T16:56:47.026Z"
   },
   {
    "duration": 13,
    "start_time": "2021-10-24T16:56:47.076Z"
   },
   {
    "duration": 36,
    "start_time": "2021-10-24T16:56:47.092Z"
   },
   {
    "duration": 51,
    "start_time": "2021-10-24T16:56:47.130Z"
   },
   {
    "duration": 15,
    "start_time": "2021-10-24T16:56:47.185Z"
   },
   {
    "duration": 13,
    "start_time": "2021-10-24T16:56:47.202Z"
   },
   {
    "duration": 66,
    "start_time": "2021-10-24T16:56:47.218Z"
   },
   {
    "duration": 30,
    "start_time": "2021-10-24T16:56:47.289Z"
   },
   {
    "duration": 10,
    "start_time": "2021-10-24T16:56:47.321Z"
   },
   {
    "duration": 41,
    "start_time": "2021-10-24T16:56:47.334Z"
   },
   {
    "duration": 19,
    "start_time": "2021-10-24T16:56:47.379Z"
   },
   {
    "duration": 11,
    "start_time": "2021-10-24T16:56:47.401Z"
   },
   {
    "duration": 283,
    "start_time": "2021-10-24T16:56:47.414Z"
   },
   {
    "duration": 8,
    "start_time": "2021-10-24T16:56:47.700Z"
   },
   {
    "duration": 31,
    "start_time": "2021-10-24T16:56:47.711Z"
   },
   {
    "duration": 34,
    "start_time": "2021-10-24T16:56:47.745Z"
   },
   {
    "duration": 8,
    "start_time": "2021-10-24T16:56:47.782Z"
   },
   {
    "duration": 21,
    "start_time": "2021-10-24T16:56:47.793Z"
   },
   {
    "duration": 18,
    "start_time": "2021-10-24T16:56:47.824Z"
   },
   {
    "duration": 26,
    "start_time": "2021-10-24T16:56:47.870Z"
   },
   {
    "duration": 12,
    "start_time": "2021-10-24T16:56:47.899Z"
   },
   {
    "duration": 8,
    "start_time": "2021-10-24T16:56:47.914Z"
   },
   {
    "duration": 43,
    "start_time": "2021-10-24T16:56:47.925Z"
   },
   {
    "duration": 25,
    "start_time": "2021-10-24T16:56:47.971Z"
   },
   {
    "duration": 22,
    "start_time": "2021-10-24T16:56:48.000Z"
   },
   {
    "duration": 43,
    "start_time": "2021-10-24T16:56:48.024Z"
   },
   {
    "duration": 4,
    "start_time": "2021-10-24T16:56:48.076Z"
   },
   {
    "duration": 13,
    "start_time": "2021-10-24T16:56:48.084Z"
   },
   {
    "duration": 13,
    "start_time": "2021-10-24T16:56:48.100Z"
   },
   {
    "duration": 17,
    "start_time": "2021-10-24T16:56:48.116Z"
   },
   {
    "duration": 34,
    "start_time": "2021-10-24T16:56:48.137Z"
   },
   {
    "duration": 33,
    "start_time": "2021-10-24T16:56:48.175Z"
   },
   {
    "duration": 7960,
    "start_time": "2021-10-24T16:56:48.210Z"
   },
   {
    "duration": 21,
    "start_time": "2021-10-24T16:56:56.173Z"
   },
   {
    "duration": 10,
    "start_time": "2021-10-24T16:56:56.196Z"
   },
   {
    "duration": 8773,
    "start_time": "2021-10-24T16:56:56.209Z"
   },
   {
    "duration": 8,
    "start_time": "2021-10-24T16:57:04.984Z"
   },
   {
    "duration": 5,
    "start_time": "2021-10-24T16:57:04.995Z"
   },
   {
    "duration": 32,
    "start_time": "2021-10-24T16:57:05.009Z"
   },
   {
    "duration": 3,
    "start_time": "2021-10-24T16:57:05.043Z"
   },
   {
    "duration": 20,
    "start_time": "2021-10-24T16:57:05.073Z"
   },
   {
    "duration": 10,
    "start_time": "2021-10-24T16:57:05.096Z"
   },
   {
    "duration": 23,
    "start_time": "2021-10-24T16:57:05.108Z"
   },
   {
    "duration": 499,
    "start_time": "2021-10-24T16:57:05.134Z"
   },
   {
    "duration": 8,
    "start_time": "2021-10-24T16:59:44.976Z"
   },
   {
    "duration": 12,
    "start_time": "2021-10-24T17:00:03.928Z"
   },
   {
    "duration": 13,
    "start_time": "2021-10-24T17:00:37.615Z"
   },
   {
    "duration": 8,
    "start_time": "2021-10-24T17:01:13.917Z"
   },
   {
    "duration": 9,
    "start_time": "2021-10-24T17:01:18.682Z"
   },
   {
    "duration": 1928,
    "start_time": "2021-10-24T17:01:54.443Z"
   },
   {
    "duration": 14,
    "start_time": "2021-10-24T17:39:11.863Z"
   },
   {
    "duration": 6,
    "start_time": "2021-10-24T17:39:45.527Z"
   },
   {
    "duration": 9,
    "start_time": "2021-10-24T17:42:50.852Z"
   },
   {
    "duration": 9,
    "start_time": "2021-10-24T17:42:52.948Z"
   },
   {
    "duration": 10,
    "start_time": "2021-10-24T17:43:33.229Z"
   },
   {
    "duration": 1596,
    "start_time": "2021-10-24T17:47:02.119Z"
   },
   {
    "duration": 195,
    "start_time": "2021-10-24T17:47:03.718Z"
   },
   {
    "duration": 11,
    "start_time": "2021-10-24T17:47:03.916Z"
   },
   {
    "duration": 18,
    "start_time": "2021-10-24T17:47:03.929Z"
   },
   {
    "duration": 29,
    "start_time": "2021-10-24T17:47:03.949Z"
   },
   {
    "duration": 31,
    "start_time": "2021-10-24T17:47:03.981Z"
   },
   {
    "duration": 53,
    "start_time": "2021-10-24T17:47:04.015Z"
   },
   {
    "duration": 11,
    "start_time": "2021-10-24T17:47:04.073Z"
   },
   {
    "duration": 19,
    "start_time": "2021-10-24T17:47:04.088Z"
   },
   {
    "duration": 9,
    "start_time": "2021-10-24T17:47:04.110Z"
   },
   {
    "duration": 289,
    "start_time": "2021-10-24T17:47:04.122Z"
   },
   {
    "duration": 266,
    "start_time": "2021-10-24T17:47:04.413Z"
   },
   {
    "duration": 16,
    "start_time": "2021-10-24T17:47:04.682Z"
   },
   {
    "duration": 17,
    "start_time": "2021-10-24T17:47:04.700Z"
   },
   {
    "duration": 10,
    "start_time": "2021-10-24T17:47:04.720Z"
   },
   {
    "duration": 39,
    "start_time": "2021-10-24T17:47:04.733Z"
   },
   {
    "duration": 8,
    "start_time": "2021-10-24T17:47:04.777Z"
   },
   {
    "duration": 10,
    "start_time": "2021-10-24T17:47:04.789Z"
   },
   {
    "duration": 8,
    "start_time": "2021-10-24T17:47:04.801Z"
   },
   {
    "duration": 10,
    "start_time": "2021-10-24T17:47:04.812Z"
   },
   {
    "duration": 52,
    "start_time": "2021-10-24T17:47:04.824Z"
   },
   {
    "duration": 20,
    "start_time": "2021-10-24T17:47:04.879Z"
   },
   {
    "duration": 11,
    "start_time": "2021-10-24T17:47:04.906Z"
   },
   {
    "duration": 69,
    "start_time": "2021-10-24T17:47:04.921Z"
   },
   {
    "duration": 99,
    "start_time": "2021-10-24T17:47:04.993Z"
   },
   {
    "duration": 12,
    "start_time": "2021-10-24T17:47:05.095Z"
   },
   {
    "duration": 833,
    "start_time": "2021-10-24T17:47:05.109Z"
   },
   {
    "duration": 26,
    "start_time": "2021-10-24T17:47:05.944Z"
   },
   {
    "duration": 27,
    "start_time": "2021-10-24T17:47:05.972Z"
   },
   {
    "duration": 26,
    "start_time": "2021-10-24T17:47:06.001Z"
   },
   {
    "duration": 48,
    "start_time": "2021-10-24T17:47:06.029Z"
   },
   {
    "duration": 11,
    "start_time": "2021-10-24T17:47:06.080Z"
   },
   {
    "duration": 93,
    "start_time": "2021-10-24T17:47:06.093Z"
   },
   {
    "duration": 11,
    "start_time": "2021-10-24T17:47:06.188Z"
   },
   {
    "duration": 8,
    "start_time": "2021-10-24T17:47:06.201Z"
   },
   {
    "duration": 14,
    "start_time": "2021-10-24T17:47:06.211Z"
   },
   {
    "duration": 58,
    "start_time": "2021-10-24T17:47:06.227Z"
   },
   {
    "duration": 10,
    "start_time": "2021-10-24T17:47:06.288Z"
   },
   {
    "duration": 6,
    "start_time": "2021-10-24T17:47:06.301Z"
   },
   {
    "duration": 12,
    "start_time": "2021-10-24T17:47:06.310Z"
   },
   {
    "duration": 291,
    "start_time": "2021-10-24T17:47:06.325Z"
   },
   {
    "duration": 10,
    "start_time": "2021-10-24T17:47:06.619Z"
   },
   {
    "duration": 39,
    "start_time": "2021-10-24T17:47:06.632Z"
   },
   {
    "duration": 64,
    "start_time": "2021-10-24T17:47:06.673Z"
   },
   {
    "duration": 28,
    "start_time": "2021-10-24T17:47:06.739Z"
   },
   {
    "duration": 719,
    "start_time": "2021-10-24T17:47:06.770Z"
   },
   {
    "duration": 11,
    "start_time": "2021-10-24T17:47:07.492Z"
   },
   {
    "duration": 20,
    "start_time": "2021-10-24T17:47:07.507Z"
   },
   {
    "duration": 55,
    "start_time": "2021-10-24T17:47:07.530Z"
   },
   {
    "duration": 13,
    "start_time": "2021-10-24T17:47:07.587Z"
   },
   {
    "duration": 10,
    "start_time": "2021-10-24T17:47:07.603Z"
   },
   {
    "duration": 84,
    "start_time": "2021-10-24T17:47:07.615Z"
   },
   {
    "duration": 12,
    "start_time": "2021-10-24T17:47:07.702Z"
   },
   {
    "duration": 10,
    "start_time": "2021-10-24T17:47:07.716Z"
   },
   {
    "duration": 39,
    "start_time": "2021-10-24T17:47:07.728Z"
   },
   {
    "duration": 15,
    "start_time": "2021-10-24T17:47:07.770Z"
   },
   {
    "duration": 24,
    "start_time": "2021-10-24T17:47:07.788Z"
   },
   {
    "duration": 8,
    "start_time": "2021-10-24T17:47:07.814Z"
   },
   {
    "duration": 51,
    "start_time": "2021-10-24T17:47:07.825Z"
   },
   {
    "duration": 18,
    "start_time": "2021-10-24T17:47:07.882Z"
   },
   {
    "duration": 8,
    "start_time": "2021-10-24T17:47:07.902Z"
   },
   {
    "duration": 263,
    "start_time": "2021-10-24T17:47:07.912Z"
   },
   {
    "duration": 8,
    "start_time": "2021-10-24T17:47:08.178Z"
   },
   {
    "duration": 15,
    "start_time": "2021-10-24T17:47:08.189Z"
   },
   {
    "duration": 22,
    "start_time": "2021-10-24T17:47:08.207Z"
   },
   {
    "duration": 6,
    "start_time": "2021-10-24T17:47:08.232Z"
   },
   {
    "duration": 19,
    "start_time": "2021-10-24T17:47:08.269Z"
   },
   {
    "duration": 17,
    "start_time": "2021-10-24T17:47:08.297Z"
   },
   {
    "duration": 62,
    "start_time": "2021-10-24T17:47:08.318Z"
   },
   {
    "duration": 11,
    "start_time": "2021-10-24T17:47:08.383Z"
   },
   {
    "duration": 8,
    "start_time": "2021-10-24T17:47:08.398Z"
   },
   {
    "duration": 10,
    "start_time": "2021-10-24T17:47:08.409Z"
   },
   {
    "duration": 64,
    "start_time": "2021-10-24T17:47:08.421Z"
   },
   {
    "duration": 23,
    "start_time": "2021-10-24T17:47:08.488Z"
   },
   {
    "duration": 16,
    "start_time": "2021-10-24T17:47:08.513Z"
   },
   {
    "duration": 3,
    "start_time": "2021-10-24T17:47:08.532Z"
   },
   {
    "duration": 8,
    "start_time": "2021-10-24T17:47:08.566Z"
   },
   {
    "duration": 15,
    "start_time": "2021-10-24T17:47:08.577Z"
   },
   {
    "duration": 12,
    "start_time": "2021-10-24T17:47:08.595Z"
   },
   {
    "duration": 8,
    "start_time": "2021-10-24T17:47:08.610Z"
   },
   {
    "duration": 54,
    "start_time": "2021-10-24T17:47:08.621Z"
   },
   {
    "duration": 4194,
    "start_time": "2021-10-24T17:47:08.678Z"
   },
   {
    "duration": 16,
    "start_time": "2021-10-24T17:47:12.876Z"
   },
   {
    "duration": 8,
    "start_time": "2021-10-24T17:47:12.895Z"
   },
   {
    "duration": 9781,
    "start_time": "2021-10-24T17:47:12.905Z"
   },
   {
    "duration": 8,
    "start_time": "2021-10-24T17:47:22.689Z"
   },
   {
    "duration": 18,
    "start_time": "2021-10-24T17:47:22.699Z"
   },
   {
    "duration": 64,
    "start_time": "2021-10-24T17:47:22.720Z"
   },
   {
    "duration": 4,
    "start_time": "2021-10-24T17:47:22.786Z"
   },
   {
    "duration": 26,
    "start_time": "2021-10-24T17:47:22.792Z"
   },
   {
    "duration": 2167,
    "start_time": "2021-10-24T17:47:22.868Z"
   },
   {
    "duration": 13,
    "start_time": "2021-10-24T17:47:25.038Z"
   },
   {
    "duration": 33,
    "start_time": "2021-10-24T17:47:25.053Z"
   },
   {
    "duration": 9,
    "start_time": "2021-10-24T17:47:25.089Z"
   },
   {
    "duration": 4968,
    "start_time": "2021-10-24T17:47:25.101Z"
   },
   {
    "duration": 10,
    "start_time": "2021-10-24T17:47:30.072Z"
   },
   {
    "duration": 17,
    "start_time": "2021-10-24T17:47:30.085Z"
   },
   {
    "duration": 28,
    "start_time": "2021-10-24T17:47:30.105Z"
   },
   {
    "duration": 1644,
    "start_time": "2021-10-24T17:53:56.033Z"
   },
   {
    "duration": 189,
    "start_time": "2021-10-24T17:53:57.681Z"
   },
   {
    "duration": 16,
    "start_time": "2021-10-24T17:53:57.874Z"
   },
   {
    "duration": 19,
    "start_time": "2021-10-24T17:53:57.893Z"
   },
   {
    "duration": 11,
    "start_time": "2021-10-24T17:53:57.915Z"
   },
   {
    "duration": 67,
    "start_time": "2021-10-24T17:53:57.928Z"
   },
   {
    "duration": 22,
    "start_time": "2021-10-24T17:53:57.997Z"
   },
   {
    "duration": 6,
    "start_time": "2021-10-24T17:53:58.023Z"
   },
   {
    "duration": 52,
    "start_time": "2021-10-24T17:53:58.032Z"
   },
   {
    "duration": 10,
    "start_time": "2021-10-24T17:53:58.086Z"
   },
   {
    "duration": 290,
    "start_time": "2021-10-24T17:53:58.099Z"
   },
   {
    "duration": 255,
    "start_time": "2021-10-24T17:53:58.391Z"
   },
   {
    "duration": 32,
    "start_time": "2021-10-24T17:53:58.649Z"
   },
   {
    "duration": 20,
    "start_time": "2021-10-24T17:53:58.684Z"
   },
   {
    "duration": 15,
    "start_time": "2021-10-24T17:53:58.706Z"
   },
   {
    "duration": 12,
    "start_time": "2021-10-24T17:53:58.724Z"
   },
   {
    "duration": 32,
    "start_time": "2021-10-24T17:53:58.739Z"
   },
   {
    "duration": 9,
    "start_time": "2021-10-24T17:53:58.775Z"
   },
   {
    "duration": 11,
    "start_time": "2021-10-24T17:53:58.787Z"
   },
   {
    "duration": 12,
    "start_time": "2021-10-24T17:53:58.800Z"
   },
   {
    "duration": 10,
    "start_time": "2021-10-24T17:53:58.815Z"
   },
   {
    "duration": 57,
    "start_time": "2021-10-24T17:53:58.827Z"
   },
   {
    "duration": 16,
    "start_time": "2021-10-24T17:53:58.891Z"
   },
   {
    "duration": 22,
    "start_time": "2021-10-24T17:53:58.911Z"
   },
   {
    "duration": 113,
    "start_time": "2021-10-24T17:53:58.935Z"
   },
   {
    "duration": 31,
    "start_time": "2021-10-24T17:53:59.050Z"
   },
   {
    "duration": 826,
    "start_time": "2021-10-24T17:53:59.084Z"
   },
   {
    "duration": 12,
    "start_time": "2021-10-24T17:53:59.912Z"
   },
   {
    "duration": 45,
    "start_time": "2021-10-24T17:53:59.926Z"
   },
   {
    "duration": 24,
    "start_time": "2021-10-24T17:53:59.975Z"
   },
   {
    "duration": 17,
    "start_time": "2021-10-24T17:54:00.001Z"
   },
   {
    "duration": 47,
    "start_time": "2021-10-24T17:54:00.021Z"
   },
   {
    "duration": 66,
    "start_time": "2021-10-24T17:54:00.071Z"
   },
   {
    "duration": 33,
    "start_time": "2021-10-24T17:54:00.140Z"
   },
   {
    "duration": 12,
    "start_time": "2021-10-24T17:54:00.181Z"
   },
   {
    "duration": 17,
    "start_time": "2021-10-24T17:54:00.195Z"
   },
   {
    "duration": 38,
    "start_time": "2021-10-24T17:54:00.214Z"
   },
   {
    "duration": 19,
    "start_time": "2021-10-24T17:54:00.255Z"
   },
   {
    "duration": 8,
    "start_time": "2021-10-24T17:54:00.278Z"
   },
   {
    "duration": 22,
    "start_time": "2021-10-24T17:54:00.289Z"
   },
   {
    "duration": 280,
    "start_time": "2021-10-24T17:54:00.313Z"
   },
   {
    "duration": 10,
    "start_time": "2021-10-24T17:54:00.596Z"
   },
   {
    "duration": 26,
    "start_time": "2021-10-24T17:54:00.608Z"
   },
   {
    "duration": 81,
    "start_time": "2021-10-24T17:54:00.637Z"
   },
   {
    "duration": 11,
    "start_time": "2021-10-24T17:54:00.721Z"
   },
   {
    "duration": 737,
    "start_time": "2021-10-24T17:54:00.735Z"
   },
   {
    "duration": 14,
    "start_time": "2021-10-24T17:54:01.475Z"
   },
   {
    "duration": 28,
    "start_time": "2021-10-24T17:54:01.492Z"
   },
   {
    "duration": 25,
    "start_time": "2021-10-24T17:54:01.522Z"
   },
   {
    "duration": 21,
    "start_time": "2021-10-24T17:54:01.567Z"
   },
   {
    "duration": 17,
    "start_time": "2021-10-24T17:54:01.591Z"
   },
   {
    "duration": 64,
    "start_time": "2021-10-24T17:54:01.611Z"
   },
   {
    "duration": 15,
    "start_time": "2021-10-24T17:54:01.679Z"
   },
   {
    "duration": 13,
    "start_time": "2021-10-24T17:54:01.697Z"
   },
   {
    "duration": 12,
    "start_time": "2021-10-24T17:54:01.713Z"
   },
   {
    "duration": 44,
    "start_time": "2021-10-24T17:54:01.728Z"
   },
   {
    "duration": 37,
    "start_time": "2021-10-24T17:54:01.782Z"
   },
   {
    "duration": 9,
    "start_time": "2021-10-24T17:54:01.821Z"
   },
   {
    "duration": 6,
    "start_time": "2021-10-24T17:54:01.832Z"
   },
   {
    "duration": 37,
    "start_time": "2021-10-24T17:54:01.841Z"
   },
   {
    "duration": 9,
    "start_time": "2021-10-24T17:54:01.881Z"
   },
   {
    "duration": 251,
    "start_time": "2021-10-24T17:54:01.892Z"
   },
   {
    "duration": 7,
    "start_time": "2021-10-24T17:54:02.145Z"
   },
   {
    "duration": 19,
    "start_time": "2021-10-24T17:54:02.154Z"
   },
   {
    "duration": 31,
    "start_time": "2021-10-24T17:54:02.176Z"
   },
   {
    "duration": 6,
    "start_time": "2021-10-24T17:54:02.209Z"
   },
   {
    "duration": 17,
    "start_time": "2021-10-24T17:54:02.217Z"
   },
   {
    "duration": 21,
    "start_time": "2021-10-24T17:54:02.272Z"
   },
   {
    "duration": 20,
    "start_time": "2021-10-24T17:54:02.297Z"
   },
   {
    "duration": 9,
    "start_time": "2021-10-24T17:54:02.319Z"
   },
   {
    "duration": 42,
    "start_time": "2021-10-24T17:54:02.331Z"
   },
   {
    "duration": 10,
    "start_time": "2021-10-24T17:54:02.377Z"
   },
   {
    "duration": 20,
    "start_time": "2021-10-24T17:54:02.390Z"
   },
   {
    "duration": 19,
    "start_time": "2021-10-24T17:54:02.412Z"
   },
   {
    "duration": 47,
    "start_time": "2021-10-24T17:54:02.433Z"
   },
   {
    "duration": 6,
    "start_time": "2021-10-24T17:54:02.482Z"
   },
   {
    "duration": 11,
    "start_time": "2021-10-24T17:54:02.491Z"
   },
   {
    "duration": 13,
    "start_time": "2021-10-24T17:54:02.504Z"
   },
   {
    "duration": 12,
    "start_time": "2021-10-24T17:54:02.519Z"
   },
   {
    "duration": 38,
    "start_time": "2021-10-24T17:54:02.533Z"
   },
   {
    "duration": 22,
    "start_time": "2021-10-24T17:54:02.574Z"
   },
   {
    "duration": 5081,
    "start_time": "2021-10-24T17:54:02.598Z"
   },
   {
    "duration": 14,
    "start_time": "2021-10-24T17:54:07.683Z"
   },
   {
    "duration": 7,
    "start_time": "2021-10-24T17:54:07.699Z"
   },
   {
    "duration": 9179,
    "start_time": "2021-10-24T17:54:07.708Z"
   },
   {
    "duration": 8,
    "start_time": "2021-10-24T17:54:16.892Z"
   },
   {
    "duration": 5,
    "start_time": "2021-10-24T17:54:16.903Z"
   },
   {
    "duration": 80,
    "start_time": "2021-10-24T17:54:16.911Z"
   },
   {
    "duration": 3,
    "start_time": "2021-10-24T17:54:16.995Z"
   },
   {
    "duration": 74,
    "start_time": "2021-10-24T17:54:17.002Z"
   },
   {
    "duration": 2133,
    "start_time": "2021-10-24T17:54:17.079Z"
   },
   {
    "duration": 14,
    "start_time": "2021-10-24T17:54:19.214Z"
   },
   {
    "duration": 5254,
    "start_time": "2021-10-24T17:54:19.230Z"
   },
   {
    "duration": 8,
    "start_time": "2021-10-24T17:54:24.487Z"
   },
   {
    "duration": 5,
    "start_time": "2021-10-24T17:54:24.497Z"
   },
   {
    "duration": 25,
    "start_time": "2021-10-24T17:54:24.505Z"
   },
   {
    "duration": 5,
    "start_time": "2021-10-24T17:54:24.533Z"
   },
   {
    "duration": 12,
    "start_time": "2021-10-24T17:54:24.568Z"
   },
   {
    "duration": 111,
    "start_time": "2021-10-24T17:54:24.583Z"
   },
   {
    "duration": 7,
    "start_time": "2021-10-24T17:54:45.742Z"
   },
   {
    "duration": 1634,
    "start_time": "2021-10-24T17:56:44.506Z"
   },
   {
    "duration": 193,
    "start_time": "2021-10-24T17:56:46.143Z"
   },
   {
    "duration": 12,
    "start_time": "2021-10-24T17:56:46.339Z"
   },
   {
    "duration": 21,
    "start_time": "2021-10-24T17:56:46.354Z"
   },
   {
    "duration": 12,
    "start_time": "2021-10-24T17:56:46.382Z"
   },
   {
    "duration": 32,
    "start_time": "2021-10-24T17:56:46.396Z"
   },
   {
    "duration": 48,
    "start_time": "2021-10-24T17:56:46.431Z"
   },
   {
    "duration": 6,
    "start_time": "2021-10-24T17:56:46.484Z"
   },
   {
    "duration": 19,
    "start_time": "2021-10-24T17:56:46.493Z"
   },
   {
    "duration": 8,
    "start_time": "2021-10-24T17:56:46.515Z"
   },
   {
    "duration": 355,
    "start_time": "2021-10-24T17:56:46.526Z"
   },
   {
    "duration": 258,
    "start_time": "2021-10-24T17:56:46.884Z"
   },
   {
    "duration": 26,
    "start_time": "2021-10-24T17:56:47.144Z"
   },
   {
    "duration": 19,
    "start_time": "2021-10-24T17:56:47.172Z"
   },
   {
    "duration": 9,
    "start_time": "2021-10-24T17:56:47.194Z"
   },
   {
    "duration": 6,
    "start_time": "2021-10-24T17:56:47.206Z"
   },
   {
    "duration": 6,
    "start_time": "2021-10-24T17:56:47.215Z"
   },
   {
    "duration": 54,
    "start_time": "2021-10-24T17:56:47.223Z"
   },
   {
    "duration": 8,
    "start_time": "2021-10-24T17:56:47.281Z"
   },
   {
    "duration": 12,
    "start_time": "2021-10-24T17:56:47.291Z"
   },
   {
    "duration": 10,
    "start_time": "2021-10-24T17:56:47.306Z"
   },
   {
    "duration": 16,
    "start_time": "2021-10-24T17:56:47.318Z"
   },
   {
    "duration": 15,
    "start_time": "2021-10-24T17:56:47.372Z"
   },
   {
    "duration": 27,
    "start_time": "2021-10-24T17:56:47.392Z"
   },
   {
    "duration": 122,
    "start_time": "2021-10-24T17:56:47.422Z"
   },
   {
    "duration": 26,
    "start_time": "2021-10-24T17:56:47.546Z"
   },
   {
    "duration": 800,
    "start_time": "2021-10-24T17:56:47.575Z"
   },
   {
    "duration": 15,
    "start_time": "2021-10-24T17:56:48.378Z"
   },
   {
    "duration": 45,
    "start_time": "2021-10-24T17:56:48.396Z"
   },
   {
    "duration": 47,
    "start_time": "2021-10-24T17:56:48.444Z"
   },
   {
    "duration": 24,
    "start_time": "2021-10-24T17:56:48.494Z"
   },
   {
    "duration": 13,
    "start_time": "2021-10-24T17:56:48.521Z"
   },
   {
    "duration": 110,
    "start_time": "2021-10-24T17:56:48.569Z"
   },
   {
    "duration": 12,
    "start_time": "2021-10-24T17:56:48.681Z"
   },
   {
    "duration": 9,
    "start_time": "2021-10-24T17:56:48.696Z"
   },
   {
    "duration": 15,
    "start_time": "2021-10-24T17:56:48.707Z"
   },
   {
    "duration": 60,
    "start_time": "2021-10-24T17:56:48.725Z"
   },
   {
    "duration": 7,
    "start_time": "2021-10-24T17:56:48.787Z"
   },
   {
    "duration": 6,
    "start_time": "2021-10-24T17:56:48.797Z"
   },
   {
    "duration": 11,
    "start_time": "2021-10-24T17:56:48.805Z"
   },
   {
    "duration": 298,
    "start_time": "2021-10-24T17:56:48.819Z"
   },
   {
    "duration": 9,
    "start_time": "2021-10-24T17:56:49.119Z"
   },
   {
    "duration": 39,
    "start_time": "2021-10-24T17:56:49.131Z"
   },
   {
    "duration": 62,
    "start_time": "2021-10-24T17:56:49.173Z"
   },
   {
    "duration": 31,
    "start_time": "2021-10-24T17:56:49.238Z"
   },
   {
    "duration": 725,
    "start_time": "2021-10-24T17:56:49.272Z"
   },
   {
    "duration": 11,
    "start_time": "2021-10-24T17:56:50.000Z"
   },
   {
    "duration": 30,
    "start_time": "2021-10-24T17:56:50.013Z"
   },
   {
    "duration": 37,
    "start_time": "2021-10-24T17:56:50.045Z"
   },
   {
    "duration": 15,
    "start_time": "2021-10-24T17:56:50.085Z"
   },
   {
    "duration": 15,
    "start_time": "2021-10-24T17:56:50.102Z"
   },
   {
    "duration": 80,
    "start_time": "2021-10-24T17:56:50.120Z"
   },
   {
    "duration": 15,
    "start_time": "2021-10-24T17:56:50.203Z"
   },
   {
    "duration": 9,
    "start_time": "2021-10-24T17:56:50.221Z"
   },
   {
    "duration": 39,
    "start_time": "2021-10-24T17:56:50.232Z"
   },
   {
    "duration": 19,
    "start_time": "2021-10-24T17:56:50.273Z"
   },
   {
    "duration": 24,
    "start_time": "2021-10-24T17:56:50.295Z"
   },
   {
    "duration": 9,
    "start_time": "2021-10-24T17:56:50.322Z"
   },
   {
    "duration": 41,
    "start_time": "2021-10-24T17:56:50.333Z"
   },
   {
    "duration": 21,
    "start_time": "2021-10-24T17:56:50.378Z"
   },
   {
    "duration": 11,
    "start_time": "2021-10-24T17:56:50.401Z"
   },
   {
    "duration": 269,
    "start_time": "2021-10-24T17:56:50.415Z"
   },
   {
    "duration": 8,
    "start_time": "2021-10-24T17:56:50.687Z"
   },
   {
    "duration": 11,
    "start_time": "2021-10-24T17:56:50.697Z"
   },
   {
    "duration": 17,
    "start_time": "2021-10-24T17:56:50.710Z"
   },
   {
    "duration": 6,
    "start_time": "2021-10-24T17:56:50.729Z"
   },
   {
    "duration": 20,
    "start_time": "2021-10-24T17:56:50.768Z"
   },
   {
    "duration": 17,
    "start_time": "2021-10-24T17:56:50.797Z"
   },
   {
    "duration": 59,
    "start_time": "2021-10-24T17:56:50.818Z"
   },
   {
    "duration": 13,
    "start_time": "2021-10-24T17:56:50.880Z"
   },
   {
    "duration": 7,
    "start_time": "2021-10-24T17:56:50.896Z"
   },
   {
    "duration": 12,
    "start_time": "2021-10-24T17:56:50.906Z"
   },
   {
    "duration": 47,
    "start_time": "2021-10-24T17:56:50.920Z"
   },
   {
    "duration": 28,
    "start_time": "2021-10-24T17:56:50.970Z"
   },
   {
    "duration": 13,
    "start_time": "2021-10-24T17:56:51.001Z"
   },
   {
    "duration": 4,
    "start_time": "2021-10-24T17:56:51.016Z"
   },
   {
    "duration": 6,
    "start_time": "2021-10-24T17:56:51.023Z"
   },
   {
    "duration": 46,
    "start_time": "2021-10-24T17:56:51.031Z"
   },
   {
    "duration": 16,
    "start_time": "2021-10-24T17:56:51.081Z"
   },
   {
    "duration": 11,
    "start_time": "2021-10-24T17:56:51.100Z"
   },
   {
    "duration": 14,
    "start_time": "2021-10-24T17:56:51.113Z"
   },
   {
    "duration": 4065,
    "start_time": "2021-10-24T17:56:51.130Z"
   },
   {
    "duration": 14,
    "start_time": "2021-10-24T17:56:55.198Z"
   },
   {
    "duration": 10,
    "start_time": "2021-10-24T17:56:55.214Z"
   },
   {
    "duration": 9181,
    "start_time": "2021-10-24T17:56:55.227Z"
   },
   {
    "duration": 7,
    "start_time": "2021-10-24T17:57:04.411Z"
   },
   {
    "duration": 4,
    "start_time": "2021-10-24T17:57:04.421Z"
   },
   {
    "duration": 55,
    "start_time": "2021-10-24T17:57:04.428Z"
   },
   {
    "duration": 3,
    "start_time": "2021-10-24T17:57:04.487Z"
   },
   {
    "duration": 15,
    "start_time": "2021-10-24T17:57:04.493Z"
   },
   {
    "duration": 1910,
    "start_time": "2021-10-24T17:57:04.511Z"
   },
   {
    "duration": 13,
    "start_time": "2021-10-24T17:57:06.423Z"
   },
   {
    "duration": 5198,
    "start_time": "2021-10-24T17:57:06.438Z"
   },
   {
    "duration": 8,
    "start_time": "2021-10-24T17:57:11.638Z"
   },
   {
    "duration": 21,
    "start_time": "2021-10-24T17:57:11.648Z"
   },
   {
    "duration": 25,
    "start_time": "2021-10-24T17:57:11.672Z"
   },
   {
    "duration": 4,
    "start_time": "2021-10-24T17:57:11.700Z"
   },
   {
    "duration": 15,
    "start_time": "2021-10-24T17:57:11.706Z"
   },
   {
    "duration": 5,
    "start_time": "2021-10-24T17:57:11.724Z"
   },
   {
    "duration": 9,
    "start_time": "2021-10-24T17:57:41.873Z"
   },
   {
    "duration": 9,
    "start_time": "2021-10-24T17:58:16.896Z"
   },
   {
    "duration": 12,
    "start_time": "2021-10-24T17:59:08.335Z"
   },
   {
    "duration": 9,
    "start_time": "2021-10-24T18:00:15.444Z"
   },
   {
    "duration": 10,
    "start_time": "2021-10-24T18:00:26.447Z"
   },
   {
    "duration": 1540,
    "start_time": "2021-10-24T18:04:29.991Z"
   },
   {
    "duration": 221,
    "start_time": "2021-10-24T18:04:31.534Z"
   },
   {
    "duration": 11,
    "start_time": "2021-10-24T18:04:31.758Z"
   },
   {
    "duration": 19,
    "start_time": "2021-10-24T18:04:31.771Z"
   },
   {
    "duration": 10,
    "start_time": "2021-10-24T18:04:31.792Z"
   },
   {
    "duration": 28,
    "start_time": "2021-10-24T18:04:31.805Z"
   },
   {
    "duration": 46,
    "start_time": "2021-10-24T18:04:31.836Z"
   },
   {
    "duration": 6,
    "start_time": "2021-10-24T18:04:31.887Z"
   },
   {
    "duration": 17,
    "start_time": "2021-10-24T18:04:31.896Z"
   },
   {
    "duration": 13,
    "start_time": "2021-10-24T18:04:31.916Z"
   },
   {
    "duration": 292,
    "start_time": "2021-10-24T18:04:31.931Z"
   },
   {
    "duration": 251,
    "start_time": "2021-10-24T18:04:32.226Z"
   },
   {
    "duration": 13,
    "start_time": "2021-10-24T18:04:32.480Z"
   },
   {
    "duration": 15,
    "start_time": "2021-10-24T18:04:32.496Z"
   },
   {
    "duration": 8,
    "start_time": "2021-10-24T18:04:32.513Z"
   },
   {
    "duration": 7,
    "start_time": "2021-10-24T18:04:32.523Z"
   },
   {
    "duration": 6,
    "start_time": "2021-10-24T18:04:32.568Z"
   },
   {
    "duration": 9,
    "start_time": "2021-10-24T18:04:32.576Z"
   },
   {
    "duration": 5,
    "start_time": "2021-10-24T18:04:32.587Z"
   },
   {
    "duration": 12,
    "start_time": "2021-10-24T18:04:32.594Z"
   },
   {
    "duration": 8,
    "start_time": "2021-10-24T18:04:32.608Z"
   },
   {
    "duration": 51,
    "start_time": "2021-10-24T18:04:32.618Z"
   },
   {
    "duration": 11,
    "start_time": "2021-10-24T18:04:32.675Z"
   },
   {
    "duration": 22,
    "start_time": "2021-10-24T18:04:32.690Z"
   },
   {
    "duration": 119,
    "start_time": "2021-10-24T18:04:32.715Z"
   },
   {
    "duration": 12,
    "start_time": "2021-10-24T18:04:32.837Z"
   },
   {
    "duration": 906,
    "start_time": "2021-10-24T18:04:32.852Z"
   },
   {
    "duration": 13,
    "start_time": "2021-10-24T18:04:33.766Z"
   },
   {
    "duration": 22,
    "start_time": "2021-10-24T18:04:33.781Z"
   },
   {
    "duration": 23,
    "start_time": "2021-10-24T18:04:33.806Z"
   },
   {
    "duration": 19,
    "start_time": "2021-10-24T18:04:33.868Z"
   },
   {
    "duration": 12,
    "start_time": "2021-10-24T18:04:33.890Z"
   },
   {
    "duration": 93,
    "start_time": "2021-10-24T18:04:33.904Z"
   },
   {
    "duration": 12,
    "start_time": "2021-10-24T18:04:33.999Z"
   },
   {
    "duration": 8,
    "start_time": "2021-10-24T18:04:34.013Z"
   },
   {
    "duration": 43,
    "start_time": "2021-10-24T18:04:34.024Z"
   },
   {
    "duration": 22,
    "start_time": "2021-10-24T18:04:34.069Z"
   },
   {
    "duration": 9,
    "start_time": "2021-10-24T18:04:34.093Z"
   },
   {
    "duration": 5,
    "start_time": "2021-10-24T18:04:34.104Z"
   },
   {
    "duration": 11,
    "start_time": "2021-10-24T18:04:34.111Z"
   },
   {
    "duration": 269,
    "start_time": "2021-10-24T18:04:34.124Z"
   },
   {
    "duration": 9,
    "start_time": "2021-10-24T18:04:34.396Z"
   },
   {
    "duration": 15,
    "start_time": "2021-10-24T18:04:34.407Z"
   },
   {
    "duration": 83,
    "start_time": "2021-10-24T18:04:34.425Z"
   },
   {
    "duration": 9,
    "start_time": "2021-10-24T18:04:34.510Z"
   },
   {
    "duration": 729,
    "start_time": "2021-10-24T18:04:34.522Z"
   },
   {
    "duration": 19,
    "start_time": "2021-10-24T18:04:35.253Z"
   },
   {
    "duration": 20,
    "start_time": "2021-10-24T18:04:35.275Z"
   },
   {
    "duration": 24,
    "start_time": "2021-10-24T18:04:35.298Z"
   },
   {
    "duration": 14,
    "start_time": "2021-10-24T18:04:35.324Z"
   },
   {
    "duration": 9,
    "start_time": "2021-10-24T18:04:35.368Z"
   },
   {
    "duration": 40,
    "start_time": "2021-10-24T18:04:35.379Z"
   },
   {
    "duration": 11,
    "start_time": "2021-10-24T18:04:35.422Z"
   },
   {
    "duration": 33,
    "start_time": "2021-10-24T18:04:35.436Z"
   },
   {
    "duration": 10,
    "start_time": "2021-10-24T18:04:35.472Z"
   },
   {
    "duration": 11,
    "start_time": "2021-10-24T18:04:35.485Z"
   },
   {
    "duration": 24,
    "start_time": "2021-10-24T18:04:35.499Z"
   },
   {
    "duration": 48,
    "start_time": "2021-10-24T18:04:35.525Z"
   },
   {
    "duration": 5,
    "start_time": "2021-10-24T18:04:35.575Z"
   },
   {
    "duration": 22,
    "start_time": "2021-10-24T18:04:35.583Z"
   },
   {
    "duration": 14,
    "start_time": "2021-10-24T18:04:35.607Z"
   },
   {
    "duration": 347,
    "start_time": "2021-10-24T18:04:35.624Z"
   },
   {
    "duration": 7,
    "start_time": "2021-10-24T18:04:35.973Z"
   },
   {
    "duration": 14,
    "start_time": "2021-10-24T18:04:35.982Z"
   },
   {
    "duration": 19,
    "start_time": "2021-10-24T18:04:35.998Z"
   },
   {
    "duration": 6,
    "start_time": "2021-10-24T18:04:36.020Z"
   },
   {
    "duration": 49,
    "start_time": "2021-10-24T18:04:36.029Z"
   },
   {
    "duration": 18,
    "start_time": "2021-10-24T18:04:36.088Z"
   },
   {
    "duration": 22,
    "start_time": "2021-10-24T18:04:36.111Z"
   },
   {
    "duration": 12,
    "start_time": "2021-10-24T18:04:36.168Z"
   },
   {
    "duration": 10,
    "start_time": "2021-10-24T18:04:36.183Z"
   },
   {
    "duration": 11,
    "start_time": "2021-10-24T18:04:36.195Z"
   },
   {
    "duration": 61,
    "start_time": "2021-10-24T18:04:36.208Z"
   },
   {
    "duration": 22,
    "start_time": "2021-10-24T18:04:36.272Z"
   },
   {
    "duration": 15,
    "start_time": "2021-10-24T18:04:36.297Z"
   },
   {
    "duration": 3,
    "start_time": "2021-10-24T18:04:36.315Z"
   },
   {
    "duration": 46,
    "start_time": "2021-10-24T18:04:36.321Z"
   },
   {
    "duration": 12,
    "start_time": "2021-10-24T18:04:36.370Z"
   },
   {
    "duration": 12,
    "start_time": "2021-10-24T18:04:36.384Z"
   },
   {
    "duration": 4,
    "start_time": "2021-10-24T18:04:36.399Z"
   },
   {
    "duration": 16,
    "start_time": "2021-10-24T18:04:36.405Z"
   },
   {
    "duration": 4468,
    "start_time": "2021-10-24T18:04:36.424Z"
   },
   {
    "duration": 72,
    "start_time": "2021-10-24T18:04:40.895Z"
   },
   {
    "duration": 8,
    "start_time": "2021-10-24T18:04:40.971Z"
   },
   {
    "duration": 9239,
    "start_time": "2021-10-24T18:04:40.981Z"
   },
   {
    "duration": 7,
    "start_time": "2021-10-24T18:04:50.223Z"
   },
   {
    "duration": 5,
    "start_time": "2021-10-24T18:04:50.232Z"
   },
   {
    "duration": 49,
    "start_time": "2021-10-24T18:04:50.239Z"
   },
   {
    "duration": 3,
    "start_time": "2021-10-24T18:04:50.291Z"
   },
   {
    "duration": 21,
    "start_time": "2021-10-24T18:04:50.296Z"
   },
   {
    "duration": 1659,
    "start_time": "2021-10-24T18:04:50.320Z"
   },
   {
    "duration": 12,
    "start_time": "2021-10-24T18:04:51.982Z"
   },
   {
    "duration": 4726,
    "start_time": "2021-10-24T18:04:51.997Z"
   },
   {
    "duration": 8,
    "start_time": "2021-10-24T18:04:56.726Z"
   },
   {
    "duration": 17,
    "start_time": "2021-10-24T18:04:56.736Z"
   },
   {
    "duration": 29,
    "start_time": "2021-10-24T18:04:56.755Z"
   },
   {
    "duration": 14,
    "start_time": "2021-10-24T18:04:56.787Z"
   },
   {
    "duration": 16,
    "start_time": "2021-10-24T18:04:56.803Z"
   },
   {
    "duration": 7,
    "start_time": "2021-10-24T18:04:56.821Z"
   },
   {
    "duration": 10,
    "start_time": "2021-10-24T18:04:56.830Z"
   },
   {
    "duration": 36,
    "start_time": "2021-10-24T18:04:56.843Z"
   },
   {
    "duration": 18,
    "start_time": "2021-10-24T18:04:56.881Z"
   },
   {
    "duration": 27,
    "start_time": "2021-10-24T18:04:56.902Z"
   },
   {
    "duration": 48,
    "start_time": "2021-10-24T18:04:56.932Z"
   },
   {
    "duration": 10,
    "start_time": "2021-10-24T18:04:56.982Z"
   },
   {
    "duration": 11,
    "start_time": "2021-10-24T18:06:13.978Z"
   },
   {
    "duration": 15,
    "start_time": "2021-10-24T18:06:26.954Z"
   },
   {
    "duration": 5,
    "start_time": "2021-10-24T18:10:39.258Z"
   },
   {
    "duration": 7,
    "start_time": "2021-10-24T18:11:10.618Z"
   },
   {
    "duration": 1620,
    "start_time": "2021-10-24T18:15:27.934Z"
   },
   {
    "duration": 204,
    "start_time": "2021-10-24T18:15:29.556Z"
   },
   {
    "duration": 11,
    "start_time": "2021-10-24T18:15:29.763Z"
   },
   {
    "duration": 19,
    "start_time": "2021-10-24T18:15:29.777Z"
   },
   {
    "duration": 14,
    "start_time": "2021-10-24T18:15:29.798Z"
   },
   {
    "duration": 58,
    "start_time": "2021-10-24T18:15:29.814Z"
   },
   {
    "duration": 23,
    "start_time": "2021-10-24T18:15:29.875Z"
   },
   {
    "duration": 6,
    "start_time": "2021-10-24T18:15:29.902Z"
   },
   {
    "duration": 19,
    "start_time": "2021-10-24T18:15:29.911Z"
   },
   {
    "duration": 42,
    "start_time": "2021-10-24T18:15:29.933Z"
   },
   {
    "duration": 275,
    "start_time": "2021-10-24T18:15:29.978Z"
   },
   {
    "duration": 264,
    "start_time": "2021-10-24T18:15:30.256Z"
   },
   {
    "duration": 14,
    "start_time": "2021-10-24T18:15:30.523Z"
   },
   {
    "duration": 39,
    "start_time": "2021-10-24T18:15:30.540Z"
   },
   {
    "duration": 29,
    "start_time": "2021-10-24T18:15:30.582Z"
   },
   {
    "duration": 23,
    "start_time": "2021-10-24T18:15:30.613Z"
   },
   {
    "duration": 35,
    "start_time": "2021-10-24T18:15:30.639Z"
   },
   {
    "duration": 20,
    "start_time": "2021-10-24T18:15:30.677Z"
   },
   {
    "duration": 26,
    "start_time": "2021-10-24T18:15:30.699Z"
   },
   {
    "duration": 32,
    "start_time": "2021-10-24T18:15:30.728Z"
   },
   {
    "duration": 15,
    "start_time": "2021-10-24T18:15:30.762Z"
   },
   {
    "duration": 28,
    "start_time": "2021-10-24T18:15:30.780Z"
   },
   {
    "duration": 12,
    "start_time": "2021-10-24T18:15:30.817Z"
   },
   {
    "duration": 42,
    "start_time": "2021-10-24T18:15:30.835Z"
   },
   {
    "duration": 88,
    "start_time": "2021-10-24T18:15:30.880Z"
   },
   {
    "duration": 11,
    "start_time": "2021-10-24T18:15:30.971Z"
   },
   {
    "duration": 786,
    "start_time": "2021-10-24T18:15:30.984Z"
   },
   {
    "duration": 13,
    "start_time": "2021-10-24T18:15:31.772Z"
   },
   {
    "duration": 45,
    "start_time": "2021-10-24T18:15:31.787Z"
   },
   {
    "duration": 33,
    "start_time": "2021-10-24T18:15:31.835Z"
   },
   {
    "duration": 24,
    "start_time": "2021-10-24T18:15:31.871Z"
   },
   {
    "duration": 19,
    "start_time": "2021-10-24T18:15:31.899Z"
   },
   {
    "duration": 90,
    "start_time": "2021-10-24T18:15:31.921Z"
   },
   {
    "duration": 11,
    "start_time": "2021-10-24T18:15:32.014Z"
   },
   {
    "duration": 31,
    "start_time": "2021-10-24T18:15:32.027Z"
   },
   {
    "duration": 36,
    "start_time": "2021-10-24T18:15:32.060Z"
   },
   {
    "duration": 52,
    "start_time": "2021-10-24T18:15:32.098Z"
   },
   {
    "duration": 16,
    "start_time": "2021-10-24T18:15:32.152Z"
   },
   {
    "duration": 17,
    "start_time": "2021-10-24T18:15:32.170Z"
   },
   {
    "duration": 22,
    "start_time": "2021-10-24T18:15:32.190Z"
   },
   {
    "duration": 247,
    "start_time": "2021-10-24T18:15:32.215Z"
   },
   {
    "duration": 9,
    "start_time": "2021-10-24T18:15:32.468Z"
   },
   {
    "duration": 29,
    "start_time": "2021-10-24T18:15:32.480Z"
   },
   {
    "duration": 77,
    "start_time": "2021-10-24T18:15:32.512Z"
   },
   {
    "duration": 10,
    "start_time": "2021-10-24T18:15:32.591Z"
   },
   {
    "duration": 706,
    "start_time": "2021-10-24T18:15:32.604Z"
   },
   {
    "duration": 11,
    "start_time": "2021-10-24T18:15:33.312Z"
   },
   {
    "duration": 41,
    "start_time": "2021-10-24T18:15:33.326Z"
   },
   {
    "duration": 19,
    "start_time": "2021-10-24T18:15:33.370Z"
   },
   {
    "duration": 29,
    "start_time": "2021-10-24T18:15:33.392Z"
   },
   {
    "duration": 33,
    "start_time": "2021-10-24T18:15:33.424Z"
   },
   {
    "duration": 49,
    "start_time": "2021-10-24T18:15:33.459Z"
   },
   {
    "duration": 13,
    "start_time": "2021-10-24T18:15:33.510Z"
   },
   {
    "duration": 14,
    "start_time": "2021-10-24T18:15:33.526Z"
   },
   {
    "duration": 29,
    "start_time": "2021-10-24T18:15:33.543Z"
   },
   {
    "duration": 27,
    "start_time": "2021-10-24T18:15:33.575Z"
   },
   {
    "duration": 37,
    "start_time": "2021-10-24T18:15:33.604Z"
   },
   {
    "duration": 25,
    "start_time": "2021-10-24T18:15:33.644Z"
   },
   {
    "duration": 9,
    "start_time": "2021-10-24T18:15:33.672Z"
   },
   {
    "duration": 27,
    "start_time": "2021-10-24T18:15:33.684Z"
   },
   {
    "duration": 28,
    "start_time": "2021-10-24T18:15:33.713Z"
   },
   {
    "duration": 239,
    "start_time": "2021-10-24T18:15:33.743Z"
   },
   {
    "duration": 8,
    "start_time": "2021-10-24T18:15:33.985Z"
   },
   {
    "duration": 17,
    "start_time": "2021-10-24T18:15:33.996Z"
   },
   {
    "duration": 26,
    "start_time": "2021-10-24T18:15:34.016Z"
   },
   {
    "duration": 28,
    "start_time": "2021-10-24T18:15:34.044Z"
   },
   {
    "duration": 27,
    "start_time": "2021-10-24T18:15:34.074Z"
   },
   {
    "duration": 18,
    "start_time": "2021-10-24T18:15:34.111Z"
   },
   {
    "duration": 46,
    "start_time": "2021-10-24T18:15:34.132Z"
   },
   {
    "duration": 10,
    "start_time": "2021-10-24T18:15:34.180Z"
   },
   {
    "duration": 27,
    "start_time": "2021-10-24T18:15:34.193Z"
   },
   {
    "duration": 16,
    "start_time": "2021-10-24T18:15:34.223Z"
   },
   {
    "duration": 28,
    "start_time": "2021-10-24T18:15:34.241Z"
   },
   {
    "duration": 22,
    "start_time": "2021-10-24T18:15:34.271Z"
   },
   {
    "duration": 14,
    "start_time": "2021-10-24T18:15:34.295Z"
   },
   {
    "duration": 4,
    "start_time": "2021-10-24T18:15:34.312Z"
   },
   {
    "duration": 9,
    "start_time": "2021-10-24T18:15:34.318Z"
   },
   {
    "duration": 47,
    "start_time": "2021-10-24T18:15:34.329Z"
   },
   {
    "duration": 5,
    "start_time": "2021-10-24T18:15:34.379Z"
   },
   {
    "duration": 21,
    "start_time": "2021-10-24T18:15:34.387Z"
   },
   {
    "duration": 6,
    "start_time": "2021-10-24T18:15:34.410Z"
   },
   {
    "duration": 21,
    "start_time": "2021-10-24T18:15:34.419Z"
   },
   {
    "duration": 4410,
    "start_time": "2021-10-24T18:15:34.443Z"
   },
   {
    "duration": 12,
    "start_time": "2021-10-24T18:15:38.856Z"
   },
   {
    "duration": 7,
    "start_time": "2021-10-24T18:15:38.871Z"
   },
   {
    "duration": 9506,
    "start_time": "2021-10-24T18:15:38.880Z"
   },
   {
    "duration": 10,
    "start_time": "2021-10-24T18:15:48.390Z"
   },
   {
    "duration": 16,
    "start_time": "2021-10-24T18:15:48.403Z"
   },
   {
    "duration": 50,
    "start_time": "2021-10-24T18:15:48.422Z"
   },
   {
    "duration": 4,
    "start_time": "2021-10-24T18:15:48.476Z"
   },
   {
    "duration": 14,
    "start_time": "2021-10-24T18:15:48.483Z"
   },
   {
    "duration": 1671,
    "start_time": "2021-10-24T18:15:48.500Z"
   },
   {
    "duration": 14,
    "start_time": "2021-10-24T18:15:50.174Z"
   },
   {
    "duration": 5310,
    "start_time": "2021-10-24T18:15:50.190Z"
   },
   {
    "duration": 7,
    "start_time": "2021-10-24T18:15:55.503Z"
   },
   {
    "duration": 12,
    "start_time": "2021-10-24T18:15:55.513Z"
   },
   {
    "duration": 42,
    "start_time": "2021-10-24T18:15:55.527Z"
   },
   {
    "duration": 9,
    "start_time": "2021-10-24T18:15:55.572Z"
   },
   {
    "duration": 24,
    "start_time": "2021-10-24T18:15:55.584Z"
   },
   {
    "duration": 22,
    "start_time": "2021-10-24T18:15:55.610Z"
   },
   {
    "duration": 17,
    "start_time": "2021-10-24T18:15:55.635Z"
   },
   {
    "duration": 24,
    "start_time": "2021-10-24T18:15:55.655Z"
   },
   {
    "duration": 20,
    "start_time": "2021-10-24T18:15:55.683Z"
   },
   {
    "duration": 27,
    "start_time": "2021-10-24T18:15:55.706Z"
   },
   {
    "duration": 41,
    "start_time": "2021-10-24T18:15:55.736Z"
   },
   {
    "duration": 13,
    "start_time": "2021-10-24T18:15:55.780Z"
   },
   {
    "duration": 16,
    "start_time": "2021-10-24T18:15:55.796Z"
   },
   {
    "duration": 15,
    "start_time": "2021-10-24T18:15:55.814Z"
   },
   {
    "duration": 35,
    "start_time": "2021-10-24T18:15:55.832Z"
   },
   {
    "duration": 22,
    "start_time": "2021-10-24T18:15:55.870Z"
   },
   {
    "duration": 1682,
    "start_time": "2021-10-24T18:16:42.851Z"
   },
   {
    "duration": 206,
    "start_time": "2021-10-24T18:16:44.540Z"
   },
   {
    "duration": 12,
    "start_time": "2021-10-24T18:16:44.749Z"
   },
   {
    "duration": 31,
    "start_time": "2021-10-24T18:16:44.763Z"
   },
   {
    "duration": 11,
    "start_time": "2021-10-24T18:16:44.796Z"
   },
   {
    "duration": 36,
    "start_time": "2021-10-24T18:16:44.809Z"
   },
   {
    "duration": 38,
    "start_time": "2021-10-24T18:16:44.849Z"
   },
   {
    "duration": 6,
    "start_time": "2021-10-24T18:16:44.890Z"
   },
   {
    "duration": 37,
    "start_time": "2021-10-24T18:16:44.898Z"
   },
   {
    "duration": 30,
    "start_time": "2021-10-24T18:16:44.938Z"
   },
   {
    "duration": 259,
    "start_time": "2021-10-24T18:16:44.971Z"
   },
   {
    "duration": 262,
    "start_time": "2021-10-24T18:16:45.233Z"
   },
   {
    "duration": 15,
    "start_time": "2021-10-24T18:16:45.497Z"
   },
   {
    "duration": 15,
    "start_time": "2021-10-24T18:16:45.515Z"
   },
   {
    "duration": 38,
    "start_time": "2021-10-24T18:16:45.532Z"
   },
   {
    "duration": 6,
    "start_time": "2021-10-24T18:16:45.573Z"
   },
   {
    "duration": 7,
    "start_time": "2021-10-24T18:16:45.581Z"
   },
   {
    "duration": 12,
    "start_time": "2021-10-24T18:16:45.590Z"
   },
   {
    "duration": 7,
    "start_time": "2021-10-24T18:16:45.605Z"
   },
   {
    "duration": 14,
    "start_time": "2021-10-24T18:16:45.614Z"
   },
   {
    "duration": 39,
    "start_time": "2021-10-24T18:16:45.630Z"
   },
   {
    "duration": 16,
    "start_time": "2021-10-24T18:16:45.675Z"
   },
   {
    "duration": 12,
    "start_time": "2021-10-24T18:16:45.695Z"
   },
   {
    "duration": 59,
    "start_time": "2021-10-24T18:16:45.710Z"
   },
   {
    "duration": 96,
    "start_time": "2021-10-24T18:16:45.772Z"
   },
   {
    "duration": 12,
    "start_time": "2021-10-24T18:16:45.871Z"
   },
   {
    "duration": 791,
    "start_time": "2021-10-24T18:16:45.886Z"
   },
   {
    "duration": 13,
    "start_time": "2021-10-24T18:16:46.679Z"
   },
   {
    "duration": 27,
    "start_time": "2021-10-24T18:16:46.694Z"
   },
   {
    "duration": 50,
    "start_time": "2021-10-24T18:16:46.723Z"
   },
   {
    "duration": 18,
    "start_time": "2021-10-24T18:16:46.775Z"
   },
   {
    "duration": 9,
    "start_time": "2021-10-24T18:16:46.796Z"
   },
   {
    "duration": 93,
    "start_time": "2021-10-24T18:16:46.808Z"
   },
   {
    "duration": 10,
    "start_time": "2021-10-24T18:16:46.903Z"
   },
   {
    "duration": 12,
    "start_time": "2021-10-24T18:16:46.916Z"
   },
   {
    "duration": 22,
    "start_time": "2021-10-24T18:16:46.930Z"
   },
   {
    "duration": 23,
    "start_time": "2021-10-24T18:16:46.968Z"
   },
   {
    "duration": 7,
    "start_time": "2021-10-24T18:16:46.993Z"
   },
   {
    "duration": 18,
    "start_time": "2021-10-24T18:16:47.002Z"
   },
   {
    "duration": 17,
    "start_time": "2021-10-24T18:16:47.023Z"
   },
   {
    "duration": 271,
    "start_time": "2021-10-24T18:16:47.043Z"
   },
   {
    "duration": 10,
    "start_time": "2021-10-24T18:16:47.316Z"
   },
   {
    "duration": 21,
    "start_time": "2021-10-24T18:16:47.328Z"
   },
   {
    "duration": 56,
    "start_time": "2021-10-24T18:16:47.368Z"
   },
   {
    "duration": 10,
    "start_time": "2021-10-24T18:16:47.427Z"
   },
   {
    "duration": 715,
    "start_time": "2021-10-24T18:16:47.440Z"
   },
   {
    "duration": 17,
    "start_time": "2021-10-24T18:16:48.157Z"
   },
   {
    "duration": 21,
    "start_time": "2021-10-24T18:16:48.176Z"
   },
   {
    "duration": 27,
    "start_time": "2021-10-24T18:16:48.200Z"
   },
   {
    "duration": 43,
    "start_time": "2021-10-24T18:16:48.230Z"
   },
   {
    "duration": 9,
    "start_time": "2021-10-24T18:16:48.276Z"
   },
   {
    "duration": 43,
    "start_time": "2021-10-24T18:16:48.288Z"
   },
   {
    "duration": 41,
    "start_time": "2021-10-24T18:16:48.333Z"
   },
   {
    "duration": 11,
    "start_time": "2021-10-24T18:16:48.376Z"
   },
   {
    "duration": 13,
    "start_time": "2021-10-24T18:16:48.390Z"
   },
   {
    "duration": 11,
    "start_time": "2021-10-24T18:16:48.406Z"
   },
   {
    "duration": 66,
    "start_time": "2021-10-24T18:16:48.423Z"
   },
   {
    "duration": 11,
    "start_time": "2021-10-24T18:16:48.492Z"
   },
   {
    "duration": 7,
    "start_time": "2021-10-24T18:16:48.506Z"
   },
   {
    "duration": 21,
    "start_time": "2021-10-24T18:16:48.516Z"
   },
   {
    "duration": 35,
    "start_time": "2021-10-24T18:16:48.539Z"
   },
   {
    "duration": 256,
    "start_time": "2021-10-24T18:16:48.577Z"
   },
   {
    "duration": 7,
    "start_time": "2021-10-24T18:16:48.835Z"
   },
   {
    "duration": 25,
    "start_time": "2021-10-24T18:16:48.844Z"
   },
   {
    "duration": 20,
    "start_time": "2021-10-24T18:16:48.872Z"
   },
   {
    "duration": 6,
    "start_time": "2021-10-24T18:16:48.894Z"
   },
   {
    "duration": 15,
    "start_time": "2021-10-24T18:16:48.910Z"
   },
   {
    "duration": 53,
    "start_time": "2021-10-24T18:16:48.929Z"
   },
   {
    "duration": 21,
    "start_time": "2021-10-24T18:16:48.985Z"
   },
   {
    "duration": 10,
    "start_time": "2021-10-24T18:16:49.008Z"
   },
   {
    "duration": 8,
    "start_time": "2021-10-24T18:16:49.020Z"
   },
   {
    "duration": 42,
    "start_time": "2021-10-24T18:16:49.030Z"
   },
   {
    "duration": 20,
    "start_time": "2021-10-24T18:16:49.075Z"
   },
   {
    "duration": 21,
    "start_time": "2021-10-24T18:16:49.097Z"
   },
   {
    "duration": 13,
    "start_time": "2021-10-24T18:16:49.120Z"
   },
   {
    "duration": 4,
    "start_time": "2021-10-24T18:16:49.167Z"
   },
   {
    "duration": 14,
    "start_time": "2021-10-24T18:16:49.174Z"
   },
   {
    "duration": 15,
    "start_time": "2021-10-24T18:16:49.191Z"
   },
   {
    "duration": 13,
    "start_time": "2021-10-24T18:16:49.208Z"
   },
   {
    "duration": 18,
    "start_time": "2021-10-24T18:16:49.223Z"
   },
   {
    "duration": 6,
    "start_time": "2021-10-24T18:16:49.244Z"
   },
   {
    "duration": 12,
    "start_time": "2021-10-24T18:16:49.268Z"
   },
   {
    "duration": 3949,
    "start_time": "2021-10-24T18:16:49.283Z"
   },
   {
    "duration": 13,
    "start_time": "2021-10-24T18:16:53.234Z"
   },
   {
    "duration": 19,
    "start_time": "2021-10-24T18:16:53.250Z"
   },
   {
    "duration": 9616,
    "start_time": "2021-10-24T18:16:53.272Z"
   },
   {
    "duration": 8,
    "start_time": "2021-10-24T18:17:02.891Z"
   },
   {
    "duration": 8,
    "start_time": "2021-10-24T18:17:02.901Z"
   },
   {
    "duration": 56,
    "start_time": "2021-10-24T18:17:02.911Z"
   },
   {
    "duration": 5,
    "start_time": "2021-10-24T18:17:02.970Z"
   },
   {
    "duration": 15,
    "start_time": "2021-10-24T18:17:02.978Z"
   },
   {
    "duration": 2307,
    "start_time": "2021-10-24T18:17:02.995Z"
   },
   {
    "duration": 12,
    "start_time": "2021-10-24T18:17:05.305Z"
   },
   {
    "duration": 4567,
    "start_time": "2021-10-24T18:17:05.319Z"
   },
   {
    "duration": 8,
    "start_time": "2021-10-24T18:17:09.888Z"
   },
   {
    "duration": 14,
    "start_time": "2021-10-24T18:17:09.898Z"
   },
   {
    "duration": 21,
    "start_time": "2021-10-24T18:17:09.914Z"
   },
   {
    "duration": 30,
    "start_time": "2021-10-24T18:17:09.937Z"
   },
   {
    "duration": 27,
    "start_time": "2021-10-24T18:17:09.970Z"
   },
   {
    "duration": 9,
    "start_time": "2021-10-24T18:17:10.000Z"
   },
   {
    "duration": 13,
    "start_time": "2021-10-24T18:17:10.011Z"
   },
   {
    "duration": 29,
    "start_time": "2021-10-24T18:17:10.026Z"
   },
   {
    "duration": 19,
    "start_time": "2021-10-24T18:17:10.057Z"
   },
   {
    "duration": 31,
    "start_time": "2021-10-24T18:17:10.078Z"
   },
   {
    "duration": 59,
    "start_time": "2021-10-24T18:17:10.112Z"
   },
   {
    "duration": 28,
    "start_time": "2021-10-24T18:17:10.173Z"
   },
   {
    "duration": 17,
    "start_time": "2021-10-24T18:17:10.204Z"
   },
   {
    "duration": 53,
    "start_time": "2021-10-24T18:17:10.223Z"
   },
   {
    "duration": 17,
    "start_time": "2021-10-24T18:17:10.279Z"
   },
   {
    "duration": 18,
    "start_time": "2021-10-24T18:17:10.299Z"
   },
   {
    "duration": 10,
    "start_time": "2021-10-24T18:17:54.379Z"
   },
   {
    "duration": 8,
    "start_time": "2021-10-24T18:18:01.316Z"
   },
   {
    "duration": 7,
    "start_time": "2021-10-24T18:19:32.595Z"
   },
   {
    "duration": 8,
    "start_time": "2021-10-24T18:21:33.049Z"
   },
   {
    "duration": 34,
    "start_time": "2021-10-24T18:47:26.573Z"
   },
   {
    "duration": 13,
    "start_time": "2021-10-24T18:48:07.572Z"
   },
   {
    "duration": 1593,
    "start_time": "2021-10-24T18:50:52.154Z"
   },
   {
    "duration": 189,
    "start_time": "2021-10-24T18:50:53.750Z"
   },
   {
    "duration": 11,
    "start_time": "2021-10-24T18:50:53.942Z"
   },
   {
    "duration": 19,
    "start_time": "2021-10-24T18:50:53.956Z"
   },
   {
    "duration": 11,
    "start_time": "2021-10-24T18:50:53.977Z"
   },
   {
    "duration": 33,
    "start_time": "2021-10-24T18:50:53.991Z"
   },
   {
    "duration": 56,
    "start_time": "2021-10-24T18:50:54.027Z"
   },
   {
    "duration": 5,
    "start_time": "2021-10-24T18:50:54.087Z"
   },
   {
    "duration": 25,
    "start_time": "2021-10-24T18:50:54.095Z"
   },
   {
    "duration": 9,
    "start_time": "2021-10-24T18:50:54.122Z"
   },
   {
    "duration": 288,
    "start_time": "2021-10-24T18:50:54.133Z"
   },
   {
    "duration": 371,
    "start_time": "2021-10-24T18:50:54.424Z"
   },
   {
    "duration": 21,
    "start_time": "2021-10-24T18:50:54.798Z"
   },
   {
    "duration": 16,
    "start_time": "2021-10-24T18:50:54.822Z"
   },
   {
    "duration": 8,
    "start_time": "2021-10-24T18:50:54.867Z"
   },
   {
    "duration": 9,
    "start_time": "2021-10-24T18:50:54.877Z"
   },
   {
    "duration": 6,
    "start_time": "2021-10-24T18:50:54.888Z"
   },
   {
    "duration": 12,
    "start_time": "2021-10-24T18:50:54.897Z"
   },
   {
    "duration": 10,
    "start_time": "2021-10-24T18:50:54.911Z"
   },
   {
    "duration": 50,
    "start_time": "2021-10-24T18:50:54.924Z"
   },
   {
    "duration": 7,
    "start_time": "2021-10-24T18:50:54.977Z"
   },
   {
    "duration": 14,
    "start_time": "2021-10-24T18:50:54.986Z"
   },
   {
    "duration": 11,
    "start_time": "2021-10-24T18:50:55.006Z"
   },
   {
    "duration": 23,
    "start_time": "2021-10-24T18:50:55.069Z"
   },
   {
    "duration": 101,
    "start_time": "2021-10-24T18:50:55.095Z"
   },
   {
    "duration": 12,
    "start_time": "2021-10-24T18:50:55.199Z"
   },
   {
    "duration": 796,
    "start_time": "2021-10-24T18:50:55.214Z"
   },
   {
    "duration": 15,
    "start_time": "2021-10-24T18:50:56.013Z"
   },
   {
    "duration": 54,
    "start_time": "2021-10-24T18:50:56.031Z"
   },
   {
    "duration": 24,
    "start_time": "2021-10-24T18:50:56.088Z"
   },
   {
    "duration": 19,
    "start_time": "2021-10-24T18:50:56.115Z"
   },
   {
    "duration": 10,
    "start_time": "2021-10-24T18:50:56.167Z"
   },
   {
    "duration": 62,
    "start_time": "2021-10-24T18:50:56.179Z"
   },
   {
    "duration": 32,
    "start_time": "2021-10-24T18:50:56.243Z"
   },
   {
    "duration": 8,
    "start_time": "2021-10-24T18:50:56.278Z"
   },
   {
    "duration": 11,
    "start_time": "2021-10-24T18:50:56.288Z"
   },
   {
    "duration": 64,
    "start_time": "2021-10-24T18:50:56.302Z"
   },
   {
    "duration": 8,
    "start_time": "2021-10-24T18:50:56.369Z"
   },
   {
    "duration": 7,
    "start_time": "2021-10-24T18:50:56.380Z"
   },
   {
    "duration": 10,
    "start_time": "2021-10-24T18:50:56.390Z"
   },
   {
    "duration": 272,
    "start_time": "2021-10-24T18:50:56.403Z"
   },
   {
    "duration": 9,
    "start_time": "2021-10-24T18:50:56.678Z"
   },
   {
    "duration": 20,
    "start_time": "2021-10-24T18:50:56.690Z"
   },
   {
    "duration": 90,
    "start_time": "2021-10-24T18:50:56.713Z"
   },
   {
    "duration": 9,
    "start_time": "2021-10-24T18:50:56.805Z"
   },
   {
    "duration": 864,
    "start_time": "2021-10-24T18:50:56.817Z"
   },
   {
    "duration": 15,
    "start_time": "2021-10-24T18:50:57.684Z"
   },
   {
    "duration": 21,
    "start_time": "2021-10-24T18:50:57.701Z"
   },
   {
    "duration": 55,
    "start_time": "2021-10-24T18:50:57.725Z"
   },
   {
    "duration": 12,
    "start_time": "2021-10-24T18:50:57.783Z"
   },
   {
    "duration": 9,
    "start_time": "2021-10-24T18:50:57.798Z"
   },
   {
    "duration": 76,
    "start_time": "2021-10-24T18:50:57.810Z"
   },
   {
    "duration": 12,
    "start_time": "2021-10-24T18:50:57.888Z"
   },
   {
    "duration": 12,
    "start_time": "2021-10-24T18:50:57.904Z"
   },
   {
    "duration": 13,
    "start_time": "2021-10-24T18:50:57.919Z"
   },
   {
    "duration": 15,
    "start_time": "2021-10-24T18:50:57.968Z"
   },
   {
    "duration": 27,
    "start_time": "2021-10-24T18:50:57.986Z"
   },
   {
    "duration": 9,
    "start_time": "2021-10-24T18:50:58.016Z"
   },
   {
    "duration": 43,
    "start_time": "2021-10-24T18:50:58.027Z"
   },
   {
    "duration": 16,
    "start_time": "2021-10-24T18:50:58.072Z"
   },
   {
    "duration": 13,
    "start_time": "2021-10-24T18:50:58.090Z"
   },
   {
    "duration": 247,
    "start_time": "2021-10-24T18:50:58.105Z"
   },
   {
    "duration": 12,
    "start_time": "2021-10-24T18:50:58.355Z"
   },
   {
    "duration": 9,
    "start_time": "2021-10-24T18:50:58.369Z"
   },
   {
    "duration": 19,
    "start_time": "2021-10-24T18:50:58.380Z"
   },
   {
    "duration": 6,
    "start_time": "2021-10-24T18:50:58.401Z"
   },
   {
    "duration": 21,
    "start_time": "2021-10-24T18:50:58.409Z"
   },
   {
    "duration": 17,
    "start_time": "2021-10-24T18:50:58.471Z"
   },
   {
    "duration": 20,
    "start_time": "2021-10-24T18:50:58.491Z"
   },
   {
    "duration": 9,
    "start_time": "2021-10-24T18:50:58.514Z"
   },
   {
    "duration": 44,
    "start_time": "2021-10-24T18:50:58.525Z"
   },
   {
    "duration": 8,
    "start_time": "2021-10-24T18:50:58.571Z"
   },
   {
    "duration": 17,
    "start_time": "2021-10-24T18:50:58.581Z"
   },
   {
    "duration": 20,
    "start_time": "2021-10-24T18:50:58.601Z"
   },
   {
    "duration": 54,
    "start_time": "2021-10-24T18:50:58.623Z"
   },
   {
    "duration": 3,
    "start_time": "2021-10-24T18:50:58.679Z"
   },
   {
    "duration": 8,
    "start_time": "2021-10-24T18:50:58.684Z"
   },
   {
    "duration": 14,
    "start_time": "2021-10-24T18:50:58.695Z"
   },
   {
    "duration": 5,
    "start_time": "2021-10-24T18:50:58.711Z"
   },
   {
    "duration": 19,
    "start_time": "2021-10-24T18:50:58.718Z"
   },
   {
    "duration": 3,
    "start_time": "2021-10-24T18:50:58.768Z"
   },
   {
    "duration": 14,
    "start_time": "2021-10-24T18:50:58.774Z"
   },
   {
    "duration": 3998,
    "start_time": "2021-10-24T18:50:58.791Z"
   },
   {
    "duration": 13,
    "start_time": "2021-10-24T18:51:02.792Z"
   },
   {
    "duration": 19,
    "start_time": "2021-10-24T18:51:02.807Z"
   },
   {
    "duration": 10449,
    "start_time": "2021-10-24T18:51:02.828Z"
   },
   {
    "duration": 7,
    "start_time": "2021-10-24T18:51:13.279Z"
   },
   {
    "duration": 10,
    "start_time": "2021-10-24T18:51:13.288Z"
   },
   {
    "duration": 82,
    "start_time": "2021-10-24T18:51:13.300Z"
   },
   {
    "duration": 3,
    "start_time": "2021-10-24T18:51:13.384Z"
   },
   {
    "duration": 29,
    "start_time": "2021-10-24T18:51:13.390Z"
   },
   {
    "duration": 1741,
    "start_time": "2021-10-24T18:51:13.422Z"
   },
   {
    "duration": 12,
    "start_time": "2021-10-24T18:51:15.168Z"
   },
   {
    "duration": 5394,
    "start_time": "2021-10-24T18:51:15.183Z"
   },
   {
    "duration": 7,
    "start_time": "2021-10-24T18:51:20.580Z"
   },
   {
    "duration": 7,
    "start_time": "2021-10-24T18:51:20.589Z"
   },
   {
    "duration": 20,
    "start_time": "2021-10-24T18:51:20.598Z"
   },
   {
    "duration": 5,
    "start_time": "2021-10-24T18:51:20.620Z"
   },
   {
    "duration": 45,
    "start_time": "2021-10-24T18:51:20.627Z"
   },
   {
    "duration": 10,
    "start_time": "2021-10-24T18:51:20.674Z"
   },
   {
    "duration": 8,
    "start_time": "2021-10-24T18:51:20.686Z"
   },
   {
    "duration": 17,
    "start_time": "2021-10-24T18:51:20.697Z"
   },
   {
    "duration": 15,
    "start_time": "2021-10-24T18:51:20.717Z"
   },
   {
    "duration": 26,
    "start_time": "2021-10-24T18:51:20.767Z"
   },
   {
    "duration": 19,
    "start_time": "2021-10-24T18:51:20.796Z"
   },
   {
    "duration": 17,
    "start_time": "2021-10-24T18:51:20.818Z"
   },
   {
    "duration": 10,
    "start_time": "2021-10-24T18:51:20.867Z"
   },
   {
    "duration": 18,
    "start_time": "2021-10-24T18:51:20.880Z"
   },
   {
    "duration": 8,
    "start_time": "2021-10-24T18:51:20.900Z"
   },
   {
    "duration": 10,
    "start_time": "2021-10-24T18:51:20.911Z"
   },
   {
    "duration": 44,
    "start_time": "2021-10-24T18:51:20.923Z"
   },
   {
    "duration": 47,
    "start_time": "2021-10-24T18:51:20.970Z"
   },
   {
    "duration": 13,
    "start_time": "2021-10-24T18:51:21.019Z"
   },
   {
    "duration": 437,
    "start_time": "2021-10-24T18:53:13.984Z"
   },
   {
    "duration": 49,
    "start_time": "2021-10-24T18:53:21.119Z"
   },
   {
    "duration": 6,
    "start_time": "2021-10-24T18:54:27.731Z"
   },
   {
    "duration": 15,
    "start_time": "2021-10-24T18:57:39.904Z"
   },
   {
    "duration": 15,
    "start_time": "2021-10-24T18:58:17.318Z"
   },
   {
    "duration": 1590,
    "start_time": "2021-10-24T21:01:34.200Z"
   },
   {
    "duration": 222,
    "start_time": "2021-10-24T21:01:35.793Z"
   },
   {
    "duration": 12,
    "start_time": "2021-10-24T21:01:36.018Z"
   },
   {
    "duration": 23,
    "start_time": "2021-10-24T21:01:36.033Z"
   },
   {
    "duration": 11,
    "start_time": "2021-10-24T21:01:36.059Z"
   },
   {
    "duration": 32,
    "start_time": "2021-10-24T21:01:36.101Z"
   },
   {
    "duration": 23,
    "start_time": "2021-10-24T21:01:36.136Z"
   },
   {
    "duration": 36,
    "start_time": "2021-10-24T21:01:36.165Z"
   },
   {
    "duration": 26,
    "start_time": "2021-10-24T21:01:36.205Z"
   },
   {
    "duration": 9,
    "start_time": "2021-10-24T21:01:36.235Z"
   },
   {
    "duration": 270,
    "start_time": "2021-10-24T21:01:36.246Z"
   },
   {
    "duration": 243,
    "start_time": "2021-10-24T21:01:36.518Z"
   },
   {
    "duration": 15,
    "start_time": "2021-10-24T21:01:36.764Z"
   },
   {
    "duration": 21,
    "start_time": "2021-10-24T21:01:36.802Z"
   },
   {
    "duration": 9,
    "start_time": "2021-10-24T21:01:36.826Z"
   },
   {
    "duration": 7,
    "start_time": "2021-10-24T21:01:36.837Z"
   },
   {
    "duration": 7,
    "start_time": "2021-10-24T21:01:36.846Z"
   },
   {
    "duration": 46,
    "start_time": "2021-10-24T21:01:36.855Z"
   },
   {
    "duration": 8,
    "start_time": "2021-10-24T21:01:36.903Z"
   },
   {
    "duration": 16,
    "start_time": "2021-10-24T21:01:36.913Z"
   },
   {
    "duration": 8,
    "start_time": "2021-10-24T21:01:36.931Z"
   },
   {
    "duration": 14,
    "start_time": "2021-10-24T21:01:36.942Z"
   },
   {
    "duration": 44,
    "start_time": "2021-10-24T21:01:36.963Z"
   },
   {
    "duration": 34,
    "start_time": "2021-10-24T21:01:37.013Z"
   },
   {
    "duration": 158,
    "start_time": "2021-10-24T21:01:37.051Z"
   },
   {
    "duration": 17,
    "start_time": "2021-10-24T21:01:37.212Z"
   },
   {
    "duration": 801,
    "start_time": "2021-10-24T21:01:37.232Z"
   },
   {
    "duration": 12,
    "start_time": "2021-10-24T21:01:38.035Z"
   },
   {
    "duration": 22,
    "start_time": "2021-10-24T21:01:38.049Z"
   },
   {
    "duration": 20,
    "start_time": "2021-10-24T21:01:38.101Z"
   },
   {
    "duration": 18,
    "start_time": "2021-10-24T21:01:38.123Z"
   },
   {
    "duration": 9,
    "start_time": "2021-10-24T21:01:38.143Z"
   },
   {
    "duration": 98,
    "start_time": "2021-10-24T21:01:38.155Z"
   },
   {
    "duration": 10,
    "start_time": "2021-10-24T21:01:38.255Z"
   },
   {
    "duration": 8,
    "start_time": "2021-10-24T21:01:38.268Z"
   },
   {
    "duration": 9,
    "start_time": "2021-10-24T21:01:38.301Z"
   },
   {
    "duration": 25,
    "start_time": "2021-10-24T21:01:38.313Z"
   },
   {
    "duration": 8,
    "start_time": "2021-10-24T21:01:38.340Z"
   },
   {
    "duration": 5,
    "start_time": "2021-10-24T21:01:38.350Z"
   },
   {
    "duration": 48,
    "start_time": "2021-10-24T21:01:38.358Z"
   },
   {
    "duration": 253,
    "start_time": "2021-10-24T21:01:38.409Z"
   },
   {
    "duration": 12,
    "start_time": "2021-10-24T21:01:38.665Z"
   },
   {
    "duration": 32,
    "start_time": "2021-10-24T21:01:38.680Z"
   },
   {
    "duration": 58,
    "start_time": "2021-10-24T21:01:38.715Z"
   },
   {
    "duration": 32,
    "start_time": "2021-10-24T21:01:38.775Z"
   },
   {
    "duration": 684,
    "start_time": "2021-10-24T21:01:38.809Z"
   },
   {
    "duration": 10,
    "start_time": "2021-10-24T21:01:39.500Z"
   },
   {
    "duration": 20,
    "start_time": "2021-10-24T21:01:39.513Z"
   },
   {
    "duration": 19,
    "start_time": "2021-10-24T21:01:39.535Z"
   },
   {
    "duration": 46,
    "start_time": "2021-10-24T21:01:39.556Z"
   },
   {
    "duration": 10,
    "start_time": "2021-10-24T21:01:39.605Z"
   },
   {
    "duration": 39,
    "start_time": "2021-10-24T21:01:39.617Z"
   },
   {
    "duration": 44,
    "start_time": "2021-10-24T21:01:39.659Z"
   },
   {
    "duration": 10,
    "start_time": "2021-10-24T21:01:39.706Z"
   },
   {
    "duration": 9,
    "start_time": "2021-10-24T21:01:39.719Z"
   },
   {
    "duration": 11,
    "start_time": "2021-10-24T21:01:39.731Z"
   },
   {
    "duration": 64,
    "start_time": "2021-10-24T21:01:39.744Z"
   },
   {
    "duration": 9,
    "start_time": "2021-10-24T21:01:39.811Z"
   },
   {
    "duration": 6,
    "start_time": "2021-10-24T21:01:39.823Z"
   },
   {
    "duration": 11,
    "start_time": "2021-10-24T21:01:39.832Z"
   },
   {
    "duration": 12,
    "start_time": "2021-10-24T21:01:39.845Z"
   },
   {
    "duration": 271,
    "start_time": "2021-10-24T21:01:39.860Z"
   },
   {
    "duration": 7,
    "start_time": "2021-10-24T21:01:40.134Z"
   },
   {
    "duration": 7,
    "start_time": "2021-10-24T21:01:40.143Z"
   },
   {
    "duration": 19,
    "start_time": "2021-10-24T21:01:40.152Z"
   },
   {
    "duration": 7,
    "start_time": "2021-10-24T21:01:40.200Z"
   },
   {
    "duration": 14,
    "start_time": "2021-10-24T21:01:40.209Z"
   },
   {
    "duration": 16,
    "start_time": "2021-10-24T21:01:40.232Z"
   },
   {
    "duration": 56,
    "start_time": "2021-10-24T21:01:40.252Z"
   },
   {
    "duration": 9,
    "start_time": "2021-10-24T21:01:40.310Z"
   },
   {
    "duration": 10,
    "start_time": "2021-10-24T21:01:40.321Z"
   },
   {
    "duration": 8,
    "start_time": "2021-10-24T21:01:40.333Z"
   },
   {
    "duration": 13,
    "start_time": "2021-10-24T21:01:40.344Z"
   },
   {
    "duration": 57,
    "start_time": "2021-10-24T21:01:40.360Z"
   },
   {
    "duration": 13,
    "start_time": "2021-10-24T21:01:40.419Z"
   },
   {
    "duration": 2,
    "start_time": "2021-10-24T21:01:40.435Z"
   },
   {
    "duration": 7,
    "start_time": "2021-10-24T21:01:40.440Z"
   },
   {
    "duration": 11,
    "start_time": "2021-10-24T21:01:40.449Z"
   },
   {
    "duration": 5,
    "start_time": "2021-10-24T21:01:40.500Z"
   },
   {
    "duration": 17,
    "start_time": "2021-10-24T21:01:40.507Z"
   },
   {
    "duration": 12,
    "start_time": "2021-10-24T21:01:40.527Z"
   },
   {
    "duration": 18,
    "start_time": "2021-10-24T21:01:40.541Z"
   },
   {
    "duration": 4366,
    "start_time": "2021-10-24T21:01:40.561Z"
   },
   {
    "duration": 13,
    "start_time": "2021-10-24T21:01:44.930Z"
   },
   {
    "duration": 9,
    "start_time": "2021-10-24T21:01:44.945Z"
   },
   {
    "duration": 8808,
    "start_time": "2021-10-24T21:01:44.957Z"
   },
   {
    "duration": 8,
    "start_time": "2021-10-24T21:01:53.767Z"
   },
   {
    "duration": 23,
    "start_time": "2021-10-24T21:01:53.777Z"
   },
   {
    "duration": 25,
    "start_time": "2021-10-24T21:01:53.802Z"
   },
   {
    "duration": 19,
    "start_time": "2021-10-24T21:01:53.829Z"
   },
   {
    "duration": 20,
    "start_time": "2021-10-24T21:01:53.850Z"
   },
   {
    "duration": 1665,
    "start_time": "2021-10-24T21:01:53.872Z"
   },
   {
    "duration": 12,
    "start_time": "2021-10-24T21:01:55.540Z"
   },
   {
    "duration": 4953,
    "start_time": "2021-10-24T21:01:55.555Z"
   },
   {
    "duration": 7,
    "start_time": "2021-10-24T21:02:00.511Z"
   },
   {
    "duration": 12,
    "start_time": "2021-10-24T21:02:00.520Z"
   },
   {
    "duration": 26,
    "start_time": "2021-10-24T21:02:00.534Z"
   },
   {
    "duration": 11,
    "start_time": "2021-10-24T21:02:00.563Z"
   },
   {
    "duration": 30,
    "start_time": "2021-10-24T21:02:00.576Z"
   },
   {
    "duration": 18,
    "start_time": "2021-10-24T21:02:00.609Z"
   },
   {
    "duration": 17,
    "start_time": "2021-10-24T21:02:00.629Z"
   },
   {
    "duration": 21,
    "start_time": "2021-10-24T21:02:00.648Z"
   },
   {
    "duration": 24,
    "start_time": "2021-10-24T21:02:00.671Z"
   },
   {
    "duration": 29,
    "start_time": "2021-10-24T21:02:00.697Z"
   },
   {
    "duration": 20,
    "start_time": "2021-10-24T21:02:00.728Z"
   },
   {
    "duration": 14,
    "start_time": "2021-10-24T21:02:00.750Z"
   },
   {
    "duration": 35,
    "start_time": "2021-10-24T21:02:00.766Z"
   },
   {
    "duration": 19,
    "start_time": "2021-10-24T21:02:00.804Z"
   },
   {
    "duration": 12,
    "start_time": "2021-10-24T21:02:00.826Z"
   },
   {
    "duration": 14,
    "start_time": "2021-10-24T21:02:00.841Z"
   },
   {
    "duration": 16,
    "start_time": "2021-10-24T21:02:00.857Z"
   },
   {
    "duration": 67,
    "start_time": "2021-10-24T21:02:00.876Z"
   },
   {
    "duration": 15,
    "start_time": "2021-10-24T21:02:00.945Z"
   },
   {
    "duration": 511,
    "start_time": "2021-10-24T21:02:00.963Z"
   },
   {
    "duration": 8845,
    "start_time": "2021-10-24T21:01:52.632Z"
   },
   {
    "duration": 8832,
    "start_time": "2021-10-24T21:01:52.646Z"
   },
   {
    "duration": 8819,
    "start_time": "2021-10-24T21:01:52.661Z"
   },
   {
    "duration": 380,
    "start_time": "2021-10-24T21:03:19.054Z"
   },
   {
    "duration": 371,
    "start_time": "2021-10-24T21:03:38.018Z"
   },
   {
    "duration": 353,
    "start_time": "2021-10-24T21:03:46.027Z"
   },
   {
    "duration": 5,
    "start_time": "2021-10-24T21:04:31.981Z"
   },
   {
    "duration": 6,
    "start_time": "2021-10-24T21:05:00.389Z"
   },
   {
    "duration": 7,
    "start_time": "2021-10-24T21:08:10.237Z"
   },
   {
    "duration": 7,
    "start_time": "2021-10-24T21:08:20.903Z"
   },
   {
    "duration": 2079,
    "start_time": "2021-10-24T21:11:30.031Z"
   },
   {
    "duration": 234,
    "start_time": "2021-10-24T21:11:32.113Z"
   },
   {
    "duration": 12,
    "start_time": "2021-10-24T21:11:32.350Z"
   },
   {
    "duration": 21,
    "start_time": "2021-10-24T21:11:32.365Z"
   },
   {
    "duration": 16,
    "start_time": "2021-10-24T21:11:32.388Z"
   },
   {
    "duration": 38,
    "start_time": "2021-10-24T21:11:32.407Z"
   },
   {
    "duration": 28,
    "start_time": "2021-10-24T21:11:32.449Z"
   },
   {
    "duration": 6,
    "start_time": "2021-10-24T21:11:32.502Z"
   },
   {
    "duration": 17,
    "start_time": "2021-10-24T21:11:32.511Z"
   },
   {
    "duration": 10,
    "start_time": "2021-10-24T21:11:32.530Z"
   },
   {
    "duration": 268,
    "start_time": "2021-10-24T21:11:32.542Z"
   },
   {
    "duration": 261,
    "start_time": "2021-10-24T21:11:32.813Z"
   },
   {
    "duration": 23,
    "start_time": "2021-10-24T21:11:33.077Z"
   },
   {
    "duration": 18,
    "start_time": "2021-10-24T21:11:33.104Z"
   },
   {
    "duration": 9,
    "start_time": "2021-10-24T21:11:33.125Z"
   },
   {
    "duration": 9,
    "start_time": "2021-10-24T21:11:33.136Z"
   },
   {
    "duration": 12,
    "start_time": "2021-10-24T21:11:33.147Z"
   },
   {
    "duration": 42,
    "start_time": "2021-10-24T21:11:33.162Z"
   },
   {
    "duration": 11,
    "start_time": "2021-10-24T21:11:33.207Z"
   },
   {
    "duration": 12,
    "start_time": "2021-10-24T21:11:33.221Z"
   },
   {
    "duration": 8,
    "start_time": "2021-10-24T21:11:33.235Z"
   },
   {
    "duration": 27,
    "start_time": "2021-10-24T21:11:33.245Z"
   },
   {
    "duration": 13,
    "start_time": "2021-10-24T21:11:33.304Z"
   },
   {
    "duration": 22,
    "start_time": "2021-10-24T21:11:33.321Z"
   },
   {
    "duration": 108,
    "start_time": "2021-10-24T21:11:33.346Z"
   },
   {
    "duration": 11,
    "start_time": "2021-10-24T21:11:33.457Z"
   },
   {
    "duration": 782,
    "start_time": "2021-10-24T21:11:33.470Z"
   },
   {
    "duration": 12,
    "start_time": "2021-10-24T21:11:34.255Z"
   },
   {
    "duration": 48,
    "start_time": "2021-10-24T21:11:34.270Z"
   },
   {
    "duration": 26,
    "start_time": "2021-10-24T21:11:34.320Z"
   },
   {
    "duration": 20,
    "start_time": "2021-10-24T21:11:34.348Z"
   },
   {
    "duration": 34,
    "start_time": "2021-10-24T21:11:34.370Z"
   },
   {
    "duration": 58,
    "start_time": "2021-10-24T21:11:34.407Z"
   },
   {
    "duration": 38,
    "start_time": "2021-10-24T21:11:34.468Z"
   },
   {
    "duration": 7,
    "start_time": "2021-10-24T21:11:34.509Z"
   },
   {
    "duration": 12,
    "start_time": "2021-10-24T21:11:34.519Z"
   },
   {
    "duration": 26,
    "start_time": "2021-10-24T21:11:34.533Z"
   },
   {
    "duration": 45,
    "start_time": "2021-10-24T21:11:34.561Z"
   },
   {
    "duration": 5,
    "start_time": "2021-10-24T21:11:34.608Z"
   },
   {
    "duration": 10,
    "start_time": "2021-10-24T21:11:34.615Z"
   },
   {
    "duration": 280,
    "start_time": "2021-10-24T21:11:34.627Z"
   },
   {
    "duration": 9,
    "start_time": "2021-10-24T21:11:34.910Z"
   },
   {
    "duration": 22,
    "start_time": "2021-10-24T21:11:34.922Z"
   },
   {
    "duration": 86,
    "start_time": "2021-10-24T21:11:34.947Z"
   },
   {
    "duration": 9,
    "start_time": "2021-10-24T21:11:35.035Z"
   },
   {
    "duration": 679,
    "start_time": "2021-10-24T21:11:35.047Z"
   },
   {
    "duration": 12,
    "start_time": "2021-10-24T21:11:35.729Z"
   },
   {
    "duration": 20,
    "start_time": "2021-10-24T21:11:35.744Z"
   },
   {
    "duration": 50,
    "start_time": "2021-10-24T21:11:35.767Z"
   },
   {
    "duration": 16,
    "start_time": "2021-10-24T21:11:35.819Z"
   },
   {
    "duration": 10,
    "start_time": "2021-10-24T21:11:35.838Z"
   },
   {
    "duration": 68,
    "start_time": "2021-10-24T21:11:35.850Z"
   },
   {
    "duration": 11,
    "start_time": "2021-10-24T21:11:35.920Z"
   },
   {
    "duration": 15,
    "start_time": "2021-10-24T21:11:35.933Z"
   },
   {
    "duration": 13,
    "start_time": "2021-10-24T21:11:35.951Z"
   },
   {
    "duration": 35,
    "start_time": "2021-10-24T21:11:35.967Z"
   },
   {
    "duration": 26,
    "start_time": "2021-10-24T21:11:36.004Z"
   },
   {
    "duration": 10,
    "start_time": "2021-10-24T21:11:36.032Z"
   },
   {
    "duration": 6,
    "start_time": "2021-10-24T21:11:36.045Z"
   },
   {
    "duration": 15,
    "start_time": "2021-10-24T21:11:36.054Z"
   },
   {
    "duration": 11,
    "start_time": "2021-10-24T21:11:36.100Z"
   },
   {
    "duration": 239,
    "start_time": "2021-10-24T21:11:36.113Z"
   },
   {
    "duration": 8,
    "start_time": "2021-10-24T21:11:36.355Z"
   },
   {
    "duration": 34,
    "start_time": "2021-10-24T21:11:36.366Z"
   },
   {
    "duration": 17,
    "start_time": "2021-10-24T21:11:36.403Z"
   },
   {
    "duration": 6,
    "start_time": "2021-10-24T21:11:36.422Z"
   },
   {
    "duration": 14,
    "start_time": "2021-10-24T21:11:36.430Z"
   },
   {
    "duration": 50,
    "start_time": "2021-10-24T21:11:36.454Z"
   },
   {
    "duration": 20,
    "start_time": "2021-10-24T21:11:36.508Z"
   },
   {
    "duration": 10,
    "start_time": "2021-10-24T21:11:36.531Z"
   },
   {
    "duration": 7,
    "start_time": "2021-10-24T21:11:36.543Z"
   },
   {
    "duration": 49,
    "start_time": "2021-10-24T21:11:36.553Z"
   },
   {
    "duration": 21,
    "start_time": "2021-10-24T21:11:36.604Z"
   },
   {
    "duration": 20,
    "start_time": "2021-10-24T21:11:36.627Z"
   },
   {
    "duration": 12,
    "start_time": "2021-10-24T21:11:36.649Z"
   },
   {
    "duration": 4,
    "start_time": "2021-10-24T21:11:36.663Z"
   },
   {
    "duration": 5,
    "start_time": "2021-10-24T21:11:36.701Z"
   },
   {
    "duration": 11,
    "start_time": "2021-10-24T21:11:36.708Z"
   },
   {
    "duration": 5,
    "start_time": "2021-10-24T21:11:36.721Z"
   },
   {
    "duration": 12,
    "start_time": "2021-10-24T21:11:36.729Z"
   },
   {
    "duration": 5,
    "start_time": "2021-10-24T21:11:36.743Z"
   },
   {
    "duration": 53,
    "start_time": "2021-10-24T21:11:36.750Z"
   },
   {
    "duration": 3957,
    "start_time": "2021-10-24T21:11:36.805Z"
   },
   {
    "duration": 12,
    "start_time": "2021-10-24T21:11:40.765Z"
   },
   {
    "duration": 24,
    "start_time": "2021-10-24T21:11:40.779Z"
   },
   {
    "duration": 8334,
    "start_time": "2021-10-24T21:11:40.805Z"
   },
   {
    "duration": 7,
    "start_time": "2021-10-24T21:11:49.141Z"
   },
   {
    "duration": 5,
    "start_time": "2021-10-24T21:11:49.151Z"
   },
   {
    "duration": 55,
    "start_time": "2021-10-24T21:11:49.158Z"
   },
   {
    "duration": 4,
    "start_time": "2021-10-24T21:11:49.215Z"
   },
   {
    "duration": 15,
    "start_time": "2021-10-24T21:11:49.221Z"
   },
   {
    "duration": 1688,
    "start_time": "2021-10-24T21:11:49.239Z"
   },
   {
    "duration": 13,
    "start_time": "2021-10-24T21:11:50.930Z"
   },
   {
    "duration": 4772,
    "start_time": "2021-10-24T21:11:50.945Z"
   },
   {
    "duration": 7,
    "start_time": "2021-10-24T21:11:55.720Z"
   },
   {
    "duration": 4,
    "start_time": "2021-10-24T21:11:55.730Z"
   },
   {
    "duration": 26,
    "start_time": "2021-10-24T21:11:55.737Z"
   },
   {
    "duration": 37,
    "start_time": "2021-10-24T21:11:55.766Z"
   },
   {
    "duration": 21,
    "start_time": "2021-10-24T21:11:55.807Z"
   },
   {
    "duration": 7,
    "start_time": "2021-10-24T21:11:55.831Z"
   },
   {
    "duration": 6,
    "start_time": "2021-10-24T21:11:55.840Z"
   },
   {
    "duration": 17,
    "start_time": "2021-10-24T21:11:55.848Z"
   },
   {
    "duration": 13,
    "start_time": "2021-10-24T21:11:55.901Z"
   },
   {
    "duration": 29,
    "start_time": "2021-10-24T21:11:55.916Z"
   },
   {
    "duration": 19,
    "start_time": "2021-10-24T21:11:55.947Z"
   },
   {
    "duration": 39,
    "start_time": "2021-10-24T21:11:55.968Z"
   },
   {
    "duration": 13,
    "start_time": "2021-10-24T21:11:56.010Z"
   },
   {
    "duration": 13,
    "start_time": "2021-10-24T21:11:56.026Z"
   },
   {
    "duration": 8,
    "start_time": "2021-10-24T21:11:56.042Z"
   },
   {
    "duration": 7,
    "start_time": "2021-10-24T21:11:56.052Z"
   },
   {
    "duration": 8,
    "start_time": "2021-10-24T21:11:56.100Z"
   },
   {
    "duration": 46,
    "start_time": "2021-10-24T21:11:56.110Z"
   },
   {
    "duration": 42,
    "start_time": "2021-10-24T21:11:56.158Z"
   },
   {
    "duration": 6,
    "start_time": "2021-10-24T21:11:56.203Z"
   },
   {
    "duration": 18,
    "start_time": "2021-10-24T21:11:56.211Z"
   },
   {
    "duration": 5,
    "start_time": "2021-10-24T21:11:56.232Z"
   },
   {
    "duration": 13,
    "start_time": "2021-10-24T21:27:50.826Z"
   },
   {
    "duration": 6,
    "start_time": "2021-10-24T21:27:53.984Z"
   },
   {
    "duration": 12,
    "start_time": "2021-10-24T21:27:57.392Z"
   },
   {
    "duration": 1536,
    "start_time": "2021-10-24T21:57:56.532Z"
   },
   {
    "duration": 213,
    "start_time": "2021-10-24T21:57:58.072Z"
   },
   {
    "duration": 13,
    "start_time": "2021-10-24T21:57:58.288Z"
   },
   {
    "duration": 20,
    "start_time": "2021-10-24T21:57:58.305Z"
   },
   {
    "duration": 12,
    "start_time": "2021-10-24T21:57:58.328Z"
   },
   {
    "duration": 67,
    "start_time": "2021-10-24T21:57:58.343Z"
   },
   {
    "duration": 24,
    "start_time": "2021-10-24T21:57:58.413Z"
   },
   {
    "duration": 6,
    "start_time": "2021-10-24T21:57:58.443Z"
   },
   {
    "duration": 50,
    "start_time": "2021-10-24T21:57:58.453Z"
   },
   {
    "duration": 8,
    "start_time": "2021-10-24T21:57:58.506Z"
   },
   {
    "duration": 263,
    "start_time": "2021-10-24T21:57:58.517Z"
   },
   {
    "duration": 247,
    "start_time": "2021-10-24T21:57:58.782Z"
   },
   {
    "duration": 14,
    "start_time": "2021-10-24T21:57:59.032Z"
   },
   {
    "duration": 15,
    "start_time": "2021-10-24T21:57:59.048Z"
   },
   {
    "duration": 38,
    "start_time": "2021-10-24T21:57:59.066Z"
   },
   {
    "duration": 7,
    "start_time": "2021-10-24T21:57:59.106Z"
   },
   {
    "duration": 7,
    "start_time": "2021-10-24T21:57:59.116Z"
   },
   {
    "duration": 8,
    "start_time": "2021-10-24T21:57:59.126Z"
   },
   {
    "duration": 8,
    "start_time": "2021-10-24T21:57:59.137Z"
   },
   {
    "duration": 10,
    "start_time": "2021-10-24T21:57:59.147Z"
   },
   {
    "duration": 42,
    "start_time": "2021-10-24T21:57:59.160Z"
   },
   {
    "duration": 14,
    "start_time": "2021-10-24T21:57:59.204Z"
   },
   {
    "duration": 10,
    "start_time": "2021-10-24T21:57:59.224Z"
   },
   {
    "duration": 25,
    "start_time": "2021-10-24T21:57:59.238Z"
   },
   {
    "duration": 112,
    "start_time": "2021-10-24T21:57:59.265Z"
   },
   {
    "duration": 31,
    "start_time": "2021-10-24T21:57:59.379Z"
   },
   {
    "duration": 787,
    "start_time": "2021-10-24T21:57:59.413Z"
   },
   {
    "duration": 12,
    "start_time": "2021-10-24T21:58:00.203Z"
   },
   {
    "duration": 30,
    "start_time": "2021-10-24T21:58:00.218Z"
   },
   {
    "duration": 36,
    "start_time": "2021-10-24T21:58:00.250Z"
   },
   {
    "duration": 27,
    "start_time": "2021-10-24T21:58:00.288Z"
   },
   {
    "duration": 18,
    "start_time": "2021-10-24T21:58:00.318Z"
   },
   {
    "duration": 93,
    "start_time": "2021-10-24T21:58:00.339Z"
   },
   {
    "duration": 11,
    "start_time": "2021-10-24T21:58:00.435Z"
   },
   {
    "duration": 17,
    "start_time": "2021-10-24T21:58:00.449Z"
   },
   {
    "duration": 31,
    "start_time": "2021-10-24T21:58:00.469Z"
   },
   {
    "duration": 39,
    "start_time": "2021-10-24T21:58:00.503Z"
   },
   {
    "duration": 10,
    "start_time": "2021-10-24T21:58:00.545Z"
   },
   {
    "duration": 21,
    "start_time": "2021-10-24T21:58:00.557Z"
   },
   {
    "duration": 29,
    "start_time": "2021-10-24T21:58:00.580Z"
   },
   {
    "duration": 247,
    "start_time": "2021-10-24T21:58:00.611Z"
   },
   {
    "duration": 10,
    "start_time": "2021-10-24T21:58:00.860Z"
   },
   {
    "duration": 49,
    "start_time": "2021-10-24T21:58:00.872Z"
   },
   {
    "duration": 78,
    "start_time": "2021-10-24T21:58:00.924Z"
   },
   {
    "duration": 9,
    "start_time": "2021-10-24T21:58:01.005Z"
   },
   {
    "duration": 698,
    "start_time": "2021-10-24T21:58:01.016Z"
   },
   {
    "duration": 11,
    "start_time": "2021-10-24T21:58:01.716Z"
   },
   {
    "duration": 39,
    "start_time": "2021-10-24T21:58:01.729Z"
   },
   {
    "duration": 41,
    "start_time": "2021-10-24T21:58:01.770Z"
   },
   {
    "duration": 48,
    "start_time": "2021-10-24T21:58:01.814Z"
   },
   {
    "duration": 37,
    "start_time": "2021-10-24T21:58:01.864Z"
   },
   {
    "duration": 50,
    "start_time": "2021-10-24T21:58:01.904Z"
   },
   {
    "duration": 28,
    "start_time": "2021-10-24T21:58:01.957Z"
   },
   {
    "duration": 29,
    "start_time": "2021-10-24T21:58:01.987Z"
   },
   {
    "duration": 24,
    "start_time": "2021-10-24T21:58:02.018Z"
   },
   {
    "duration": 25,
    "start_time": "2021-10-24T21:58:02.045Z"
   },
   {
    "duration": 49,
    "start_time": "2021-10-24T21:58:02.072Z"
   },
   {
    "duration": 10,
    "start_time": "2021-10-24T21:58:02.123Z"
   },
   {
    "duration": 29,
    "start_time": "2021-10-24T21:58:02.135Z"
   },
   {
    "duration": 34,
    "start_time": "2021-10-24T21:58:02.167Z"
   },
   {
    "duration": 26,
    "start_time": "2021-10-24T21:58:02.203Z"
   },
   {
    "duration": 229,
    "start_time": "2021-10-24T21:58:02.232Z"
   },
   {
    "duration": 6,
    "start_time": "2021-10-24T21:58:02.464Z"
   },
   {
    "duration": 29,
    "start_time": "2021-10-24T21:58:02.473Z"
   },
   {
    "duration": 46,
    "start_time": "2021-10-24T21:58:02.505Z"
   },
   {
    "duration": 8,
    "start_time": "2021-10-24T21:58:02.553Z"
   },
   {
    "duration": 19,
    "start_time": "2021-10-24T21:58:02.563Z"
   },
   {
    "duration": 21,
    "start_time": "2021-10-24T21:58:02.590Z"
   },
   {
    "duration": 26,
    "start_time": "2021-10-24T21:58:02.615Z"
   },
   {
    "duration": 18,
    "start_time": "2021-10-24T21:58:02.644Z"
   },
   {
    "duration": 17,
    "start_time": "2021-10-24T21:58:02.665Z"
   },
   {
    "duration": 20,
    "start_time": "2021-10-24T21:58:02.685Z"
   },
   {
    "duration": 30,
    "start_time": "2021-10-24T21:58:02.708Z"
   },
   {
    "duration": 21,
    "start_time": "2021-10-24T21:58:02.741Z"
   },
   {
    "duration": 22,
    "start_time": "2021-10-24T21:58:02.764Z"
   },
   {
    "duration": 15,
    "start_time": "2021-10-24T21:58:02.789Z"
   },
   {
    "duration": 23,
    "start_time": "2021-10-24T21:58:02.806Z"
   },
   {
    "duration": 21,
    "start_time": "2021-10-24T21:58:02.831Z"
   },
   {
    "duration": 24,
    "start_time": "2021-10-24T21:58:02.854Z"
   },
   {
    "duration": 23,
    "start_time": "2021-10-24T21:58:02.880Z"
   },
   {
    "duration": 14,
    "start_time": "2021-10-24T21:58:02.905Z"
   },
   {
    "duration": 28,
    "start_time": "2021-10-24T21:58:02.921Z"
   },
   {
    "duration": 3971,
    "start_time": "2021-10-24T21:58:02.951Z"
   },
   {
    "duration": 13,
    "start_time": "2021-10-24T21:58:06.925Z"
   },
   {
    "duration": 25,
    "start_time": "2021-10-24T21:58:06.941Z"
   },
   {
    "duration": 9111,
    "start_time": "2021-10-24T21:58:06.969Z"
   },
   {
    "duration": 17,
    "start_time": "2021-10-24T21:58:16.083Z"
   },
   {
    "duration": 5,
    "start_time": "2021-10-24T21:58:16.102Z"
   },
   {
    "duration": 30,
    "start_time": "2021-10-24T21:58:16.109Z"
   },
   {
    "duration": 3,
    "start_time": "2021-10-24T21:58:16.142Z"
   },
   {
    "duration": 15,
    "start_time": "2021-10-24T21:58:16.147Z"
   },
   {
    "duration": 1791,
    "start_time": "2021-10-24T21:58:16.164Z"
   },
   {
    "duration": 13,
    "start_time": "2021-10-24T21:58:17.958Z"
   },
   {
    "duration": 5003,
    "start_time": "2021-10-24T21:58:17.973Z"
   },
   {
    "duration": 23,
    "start_time": "2021-10-24T21:58:22.979Z"
   },
   {
    "duration": 6,
    "start_time": "2021-10-24T21:58:23.004Z"
   },
   {
    "duration": 20,
    "start_time": "2021-10-24T21:58:23.013Z"
   },
   {
    "duration": 7,
    "start_time": "2021-10-24T21:58:23.036Z"
   },
   {
    "duration": 19,
    "start_time": "2021-10-24T21:58:23.046Z"
   },
   {
    "duration": 36,
    "start_time": "2021-10-24T21:58:23.068Z"
   },
   {
    "duration": 8,
    "start_time": "2021-10-24T21:58:23.106Z"
   },
   {
    "duration": 8,
    "start_time": "2021-10-24T21:58:23.117Z"
   },
   {
    "duration": 25,
    "start_time": "2021-10-24T21:58:23.127Z"
   },
   {
    "duration": 7,
    "start_time": "2021-10-24T21:58:23.154Z"
   },
   {
    "duration": 47,
    "start_time": "2021-10-24T21:58:23.163Z"
   },
   {
    "duration": 5,
    "start_time": "2021-10-24T21:58:23.213Z"
   },
   {
    "duration": 14,
    "start_time": "2021-10-24T21:58:23.220Z"
   },
   {
    "duration": 1520,
    "start_time": "2021-10-24T21:58:55.154Z"
   },
   {
    "duration": 207,
    "start_time": "2021-10-24T21:58:56.676Z"
   },
   {
    "duration": 11,
    "start_time": "2021-10-24T21:58:56.890Z"
   },
   {
    "duration": 20,
    "start_time": "2021-10-24T21:58:56.904Z"
   },
   {
    "duration": 11,
    "start_time": "2021-10-24T21:58:56.926Z"
   },
   {
    "duration": 28,
    "start_time": "2021-10-24T21:58:56.939Z"
   },
   {
    "duration": 51,
    "start_time": "2021-10-24T21:58:56.971Z"
   },
   {
    "duration": 5,
    "start_time": "2021-10-24T21:58:57.025Z"
   },
   {
    "duration": 22,
    "start_time": "2021-10-24T21:58:57.033Z"
   },
   {
    "duration": 8,
    "start_time": "2021-10-24T21:58:57.058Z"
   },
   {
    "duration": 274,
    "start_time": "2021-10-24T21:58:57.069Z"
   },
   {
    "duration": 256,
    "start_time": "2021-10-24T21:58:57.346Z"
   },
   {
    "duration": 14,
    "start_time": "2021-10-24T21:58:57.605Z"
   },
   {
    "duration": 16,
    "start_time": "2021-10-24T21:58:57.622Z"
   },
   {
    "duration": 9,
    "start_time": "2021-10-24T21:58:57.640Z"
   },
   {
    "duration": 8,
    "start_time": "2021-10-24T21:58:57.651Z"
   },
   {
    "duration": 41,
    "start_time": "2021-10-24T21:58:57.662Z"
   },
   {
    "duration": 11,
    "start_time": "2021-10-24T21:58:57.706Z"
   },
   {
    "duration": 9,
    "start_time": "2021-10-24T21:58:57.719Z"
   },
   {
    "duration": 14,
    "start_time": "2021-10-24T21:58:57.730Z"
   },
   {
    "duration": 16,
    "start_time": "2021-10-24T21:58:57.747Z"
   },
   {
    "duration": 32,
    "start_time": "2021-10-24T21:58:57.769Z"
   },
   {
    "duration": 10,
    "start_time": "2021-10-24T21:58:57.805Z"
   },
   {
    "duration": 22,
    "start_time": "2021-10-24T21:58:57.817Z"
   },
   {
    "duration": 111,
    "start_time": "2021-10-24T21:58:57.841Z"
   },
   {
    "duration": 12,
    "start_time": "2021-10-24T21:58:57.955Z"
   },
   {
    "duration": 784,
    "start_time": "2021-10-24T21:58:57.970Z"
   },
   {
    "duration": 12,
    "start_time": "2021-10-24T21:58:58.756Z"
   },
   {
    "duration": 40,
    "start_time": "2021-10-24T21:58:58.770Z"
   },
   {
    "duration": 22,
    "start_time": "2021-10-24T21:58:58.813Z"
   },
   {
    "duration": 16,
    "start_time": "2021-10-24T21:58:58.838Z"
   },
   {
    "duration": 9,
    "start_time": "2021-10-24T21:58:58.857Z"
   },
   {
    "duration": 61,
    "start_time": "2021-10-24T21:58:58.901Z"
   },
   {
    "duration": 10,
    "start_time": "2021-10-24T21:58:58.965Z"
   },
   {
    "duration": 7,
    "start_time": "2021-10-24T21:58:59.001Z"
   },
   {
    "duration": 14,
    "start_time": "2021-10-24T21:58:59.010Z"
   },
   {
    "duration": 25,
    "start_time": "2021-10-24T21:58:59.026Z"
   },
   {
    "duration": 7,
    "start_time": "2021-10-24T21:58:59.053Z"
   },
   {
    "duration": 42,
    "start_time": "2021-10-24T21:58:59.062Z"
   },
   {
    "duration": 23,
    "start_time": "2021-10-24T21:58:59.106Z"
   },
   {
    "duration": 252,
    "start_time": "2021-10-24T21:58:59.131Z"
   },
   {
    "duration": 17,
    "start_time": "2021-10-24T21:58:59.385Z"
   },
   {
    "duration": 17,
    "start_time": "2021-10-24T21:58:59.405Z"
   },
   {
    "duration": 76,
    "start_time": "2021-10-24T21:58:59.424Z"
   },
   {
    "duration": 9,
    "start_time": "2021-10-24T21:58:59.503Z"
   },
   {
    "duration": 688,
    "start_time": "2021-10-24T21:58:59.514Z"
   },
   {
    "duration": 11,
    "start_time": "2021-10-24T21:59:00.205Z"
   },
   {
    "duration": 27,
    "start_time": "2021-10-24T21:59:00.218Z"
   },
   {
    "duration": 32,
    "start_time": "2021-10-24T21:59:00.248Z"
   },
   {
    "duration": 32,
    "start_time": "2021-10-24T21:59:00.282Z"
   },
   {
    "duration": 12,
    "start_time": "2021-10-24T21:59:00.317Z"
   },
   {
    "duration": 44,
    "start_time": "2021-10-24T21:59:00.332Z"
   },
   {
    "duration": 15,
    "start_time": "2021-10-24T21:59:00.402Z"
   },
   {
    "duration": 14,
    "start_time": "2021-10-24T21:59:00.421Z"
   },
   {
    "duration": 22,
    "start_time": "2021-10-24T21:59:00.438Z"
   },
   {
    "duration": 45,
    "start_time": "2021-10-24T21:59:00.463Z"
   },
   {
    "duration": 26,
    "start_time": "2021-10-24T21:59:00.511Z"
   },
   {
    "duration": 11,
    "start_time": "2021-10-24T21:59:00.541Z"
   },
   {
    "duration": 45,
    "start_time": "2021-10-24T21:59:00.555Z"
   },
   {
    "duration": 12,
    "start_time": "2021-10-24T21:59:00.603Z"
   },
   {
    "duration": 16,
    "start_time": "2021-10-24T21:59:00.618Z"
   },
   {
    "duration": 257,
    "start_time": "2021-10-24T21:59:00.637Z"
   },
   {
    "duration": 7,
    "start_time": "2021-10-24T21:59:00.897Z"
   },
   {
    "duration": 11,
    "start_time": "2021-10-24T21:59:00.907Z"
   },
   {
    "duration": 20,
    "start_time": "2021-10-24T21:59:00.921Z"
   },
   {
    "duration": 8,
    "start_time": "2021-10-24T21:59:00.944Z"
   },
   {
    "duration": 14,
    "start_time": "2021-10-24T21:59:01.003Z"
   },
   {
    "duration": 25,
    "start_time": "2021-10-24T21:59:01.023Z"
   },
   {
    "duration": 29,
    "start_time": "2021-10-24T21:59:01.051Z"
   },
   {
    "duration": 11,
    "start_time": "2021-10-24T21:59:01.101Z"
   },
   {
    "duration": 13,
    "start_time": "2021-10-24T21:59:01.114Z"
   },
   {
    "duration": 23,
    "start_time": "2021-10-24T21:59:01.129Z"
   },
   {
    "duration": 25,
    "start_time": "2021-10-24T21:59:01.155Z"
   },
   {
    "duration": 36,
    "start_time": "2021-10-24T21:59:01.183Z"
   },
   {
    "duration": 19,
    "start_time": "2021-10-24T21:59:01.222Z"
   },
   {
    "duration": 10,
    "start_time": "2021-10-24T21:59:01.244Z"
   },
   {
    "duration": 13,
    "start_time": "2021-10-24T21:59:01.256Z"
   },
   {
    "duration": 33,
    "start_time": "2021-10-24T21:59:01.272Z"
   },
   {
    "duration": 11,
    "start_time": "2021-10-24T21:59:01.308Z"
   },
   {
    "duration": 22,
    "start_time": "2021-10-24T21:59:01.321Z"
   },
   {
    "duration": 28,
    "start_time": "2021-10-24T21:59:01.346Z"
   },
   {
    "duration": 34,
    "start_time": "2021-10-24T21:59:01.377Z"
   },
   {
    "duration": 4260,
    "start_time": "2021-10-24T21:59:01.414Z"
   },
   {
    "duration": 26,
    "start_time": "2021-10-24T21:59:05.677Z"
   },
   {
    "duration": 6,
    "start_time": "2021-10-24T21:59:05.706Z"
   },
   {
    "duration": 9000,
    "start_time": "2021-10-24T21:59:05.715Z"
   },
   {
    "duration": 8,
    "start_time": "2021-10-24T21:59:14.718Z"
   },
   {
    "duration": 5,
    "start_time": "2021-10-24T21:59:14.728Z"
   },
   {
    "duration": 27,
    "start_time": "2021-10-24T21:59:14.736Z"
   },
   {
    "duration": 35,
    "start_time": "2021-10-24T21:59:14.766Z"
   },
   {
    "duration": 15,
    "start_time": "2021-10-24T21:59:14.804Z"
   },
   {
    "duration": 1666,
    "start_time": "2021-10-24T21:59:14.821Z"
   },
   {
    "duration": 17,
    "start_time": "2021-10-24T21:59:16.489Z"
   },
   {
    "duration": 4878,
    "start_time": "2021-10-24T21:59:16.509Z"
   },
   {
    "duration": 17,
    "start_time": "2021-10-24T21:59:21.389Z"
   },
   {
    "duration": 10,
    "start_time": "2021-10-24T21:59:21.409Z"
   },
   {
    "duration": 24,
    "start_time": "2021-10-24T21:59:21.422Z"
   },
   {
    "duration": 9,
    "start_time": "2021-10-24T21:59:21.449Z"
   },
   {
    "duration": 39,
    "start_time": "2021-10-24T21:59:21.461Z"
   },
   {
    "duration": 9,
    "start_time": "2021-10-24T21:59:21.503Z"
   },
   {
    "duration": 11,
    "start_time": "2021-10-24T21:59:21.515Z"
   },
   {
    "duration": 15,
    "start_time": "2021-10-24T21:59:21.529Z"
   },
   {
    "duration": 22,
    "start_time": "2021-10-24T21:59:21.547Z"
   },
   {
    "duration": 34,
    "start_time": "2021-10-24T21:59:21.572Z"
   },
   {
    "duration": 23,
    "start_time": "2021-10-24T21:59:21.609Z"
   },
   {
    "duration": 5,
    "start_time": "2021-10-24T21:59:21.635Z"
   },
   {
    "duration": 25,
    "start_time": "2021-10-24T21:59:21.643Z"
   },
   {
    "duration": 1728,
    "start_time": "2021-10-24T21:59:39.567Z"
   },
   {
    "duration": 209,
    "start_time": "2021-10-24T21:59:41.298Z"
   },
   {
    "duration": 14,
    "start_time": "2021-10-24T21:59:41.511Z"
   },
   {
    "duration": 19,
    "start_time": "2021-10-24T21:59:41.529Z"
   },
   {
    "duration": 12,
    "start_time": "2021-10-24T21:59:41.551Z"
   },
   {
    "duration": 28,
    "start_time": "2021-10-24T21:59:41.601Z"
   },
   {
    "duration": 21,
    "start_time": "2021-10-24T21:59:41.632Z"
   },
   {
    "duration": 5,
    "start_time": "2021-10-24T21:59:41.657Z"
   },
   {
    "duration": 17,
    "start_time": "2021-10-24T21:59:41.701Z"
   },
   {
    "duration": 11,
    "start_time": "2021-10-24T21:59:41.720Z"
   },
   {
    "duration": 259,
    "start_time": "2021-10-24T21:59:41.734Z"
   },
   {
    "duration": 244,
    "start_time": "2021-10-24T21:59:41.996Z"
   },
   {
    "duration": 14,
    "start_time": "2021-10-24T21:59:42.243Z"
   },
   {
    "duration": 15,
    "start_time": "2021-10-24T21:59:42.259Z"
   },
   {
    "duration": 29,
    "start_time": "2021-10-24T21:59:42.276Z"
   },
   {
    "duration": 6,
    "start_time": "2021-10-24T21:59:42.308Z"
   },
   {
    "duration": 6,
    "start_time": "2021-10-24T21:59:42.317Z"
   },
   {
    "duration": 9,
    "start_time": "2021-10-24T21:59:42.325Z"
   },
   {
    "duration": 7,
    "start_time": "2021-10-24T21:59:42.336Z"
   },
   {
    "duration": 10,
    "start_time": "2021-10-24T21:59:42.346Z"
   },
   {
    "duration": 44,
    "start_time": "2021-10-24T21:59:42.359Z"
   },
   {
    "duration": 14,
    "start_time": "2021-10-24T21:59:42.406Z"
   },
   {
    "duration": 11,
    "start_time": "2021-10-24T21:59:42.426Z"
   },
   {
    "duration": 23,
    "start_time": "2021-10-24T21:59:42.441Z"
   },
   {
    "duration": 79,
    "start_time": "2021-10-24T21:59:42.501Z"
   },
   {
    "duration": 28,
    "start_time": "2021-10-24T21:59:42.582Z"
   },
   {
    "duration": 790,
    "start_time": "2021-10-24T21:59:42.613Z"
   },
   {
    "duration": 12,
    "start_time": "2021-10-24T21:59:43.406Z"
   },
   {
    "duration": 24,
    "start_time": "2021-10-24T21:59:43.420Z"
   },
   {
    "duration": 20,
    "start_time": "2021-10-24T21:59:43.446Z"
   },
   {
    "duration": 18,
    "start_time": "2021-10-24T21:59:43.502Z"
   },
   {
    "duration": 9,
    "start_time": "2021-10-24T21:59:43.523Z"
   },
   {
    "duration": 97,
    "start_time": "2021-10-24T21:59:43.535Z"
   },
   {
    "duration": 10,
    "start_time": "2021-10-24T21:59:43.634Z"
   },
   {
    "duration": 53,
    "start_time": "2021-10-24T21:59:43.647Z"
   },
   {
    "duration": 13,
    "start_time": "2021-10-24T21:59:43.704Z"
   },
   {
    "duration": 87,
    "start_time": "2021-10-24T21:59:43.720Z"
   },
   {
    "duration": 9,
    "start_time": "2021-10-24T21:59:43.810Z"
   },
   {
    "duration": 6,
    "start_time": "2021-10-24T21:59:43.823Z"
   },
   {
    "duration": 15,
    "start_time": "2021-10-24T21:59:43.832Z"
   },
   {
    "duration": 721,
    "start_time": "2021-10-24T21:59:43.902Z"
   },
   {
    "duration": 14,
    "start_time": "2021-10-24T21:59:44.626Z"
   },
   {
    "duration": 70,
    "start_time": "2021-10-24T21:59:44.643Z"
   },
   {
    "duration": 193,
    "start_time": "2021-10-24T21:59:44.717Z"
   },
   {
    "duration": 13,
    "start_time": "2021-10-24T21:59:44.913Z"
   },
   {
    "duration": 735,
    "start_time": "2021-10-24T21:59:44.929Z"
   },
   {
    "duration": 10,
    "start_time": "2021-10-24T21:59:45.666Z"
   },
   {
    "duration": 32,
    "start_time": "2021-10-24T21:59:45.679Z"
   },
   {
    "duration": 19,
    "start_time": "2021-10-24T21:59:45.713Z"
   },
   {
    "duration": 12,
    "start_time": "2021-10-24T21:59:45.735Z"
   },
   {
    "duration": 9,
    "start_time": "2021-10-24T21:59:45.749Z"
   },
   {
    "duration": 36,
    "start_time": "2021-10-24T21:59:45.800Z"
   },
   {
    "duration": 11,
    "start_time": "2021-10-24T21:59:45.839Z"
   },
   {
    "duration": 9,
    "start_time": "2021-10-24T21:59:45.853Z"
   },
   {
    "duration": 41,
    "start_time": "2021-10-24T21:59:45.864Z"
   },
   {
    "duration": 11,
    "start_time": "2021-10-24T21:59:45.908Z"
   },
   {
    "duration": 22,
    "start_time": "2021-10-24T21:59:45.921Z"
   },
   {
    "duration": 9,
    "start_time": "2021-10-24T21:59:45.945Z"
   },
   {
    "duration": 47,
    "start_time": "2021-10-24T21:59:45.956Z"
   },
   {
    "duration": 10,
    "start_time": "2021-10-24T21:59:46.005Z"
   },
   {
    "duration": 12,
    "start_time": "2021-10-24T21:59:46.017Z"
   },
   {
    "duration": 249,
    "start_time": "2021-10-24T21:59:46.031Z"
   },
   {
    "duration": 7,
    "start_time": "2021-10-24T21:59:46.283Z"
   },
   {
    "duration": 12,
    "start_time": "2021-10-24T21:59:46.292Z"
   },
   {
    "duration": 16,
    "start_time": "2021-10-24T21:59:46.307Z"
   },
   {
    "duration": 6,
    "start_time": "2021-10-24T21:59:46.326Z"
   },
   {
    "duration": 15,
    "start_time": "2021-10-24T21:59:46.334Z"
   },
   {
    "duration": 57,
    "start_time": "2021-10-24T21:59:46.358Z"
   },
   {
    "duration": 18,
    "start_time": "2021-10-24T21:59:46.419Z"
   },
   {
    "duration": 8,
    "start_time": "2021-10-24T21:59:46.440Z"
   },
   {
    "duration": 8,
    "start_time": "2021-10-24T21:59:46.450Z"
   },
   {
    "duration": 45,
    "start_time": "2021-10-24T21:59:46.460Z"
   },
   {
    "duration": 25,
    "start_time": "2021-10-24T21:59:46.507Z"
   },
   {
    "duration": 20,
    "start_time": "2021-10-24T21:59:46.534Z"
   },
   {
    "duration": 13,
    "start_time": "2021-10-24T21:59:46.556Z"
   },
   {
    "duration": 28,
    "start_time": "2021-10-24T21:59:46.572Z"
   },
   {
    "duration": 18,
    "start_time": "2021-10-24T21:59:46.603Z"
   },
   {
    "duration": 12,
    "start_time": "2021-10-24T21:59:46.623Z"
   },
   {
    "duration": 4,
    "start_time": "2021-10-24T21:59:46.638Z"
   },
   {
    "duration": 13,
    "start_time": "2021-10-24T21:59:46.645Z"
   },
   {
    "duration": 11,
    "start_time": "2021-10-24T21:59:46.661Z"
   },
   {
    "duration": 34,
    "start_time": "2021-10-24T21:59:46.674Z"
   },
   {
    "duration": 3889,
    "start_time": "2021-10-24T21:59:46.711Z"
   },
   {
    "duration": 13,
    "start_time": "2021-10-24T21:59:50.602Z"
   },
   {
    "duration": 28,
    "start_time": "2021-10-24T21:59:50.618Z"
   },
   {
    "duration": 8866,
    "start_time": "2021-10-24T21:59:50.648Z"
   },
   {
    "duration": 7,
    "start_time": "2021-10-24T21:59:59.516Z"
   },
   {
    "duration": 24,
    "start_time": "2021-10-24T21:59:59.525Z"
   },
   {
    "duration": 42,
    "start_time": "2021-10-24T21:59:59.552Z"
   },
   {
    "duration": 3,
    "start_time": "2021-10-24T21:59:59.596Z"
   },
   {
    "duration": 29,
    "start_time": "2021-10-24T21:59:59.601Z"
   },
   {
    "duration": 1616,
    "start_time": "2021-10-24T21:59:59.633Z"
   },
   {
    "duration": 13,
    "start_time": "2021-10-24T22:00:01.251Z"
   },
   {
    "duration": 4777,
    "start_time": "2021-10-24T22:00:01.267Z"
   },
   {
    "duration": 7,
    "start_time": "2021-10-24T22:00:06.047Z"
   },
   {
    "duration": 13,
    "start_time": "2021-10-24T22:00:06.056Z"
   },
   {
    "duration": 34,
    "start_time": "2021-10-24T22:00:06.071Z"
   },
   {
    "duration": 10,
    "start_time": "2021-10-24T22:00:06.107Z"
   },
   {
    "duration": 18,
    "start_time": "2021-10-24T22:00:06.120Z"
   },
   {
    "duration": 13,
    "start_time": "2021-10-24T22:00:06.141Z"
   },
   {
    "duration": 8,
    "start_time": "2021-10-24T22:00:06.156Z"
   },
   {
    "duration": 8,
    "start_time": "2021-10-24T22:00:06.167Z"
   },
   {
    "duration": 20,
    "start_time": "2021-10-24T22:00:06.202Z"
   },
   {
    "duration": 6,
    "start_time": "2021-10-24T22:00:06.225Z"
   },
   {
    "duration": 17,
    "start_time": "2021-10-24T22:00:06.233Z"
   },
   {
    "duration": 5,
    "start_time": "2021-10-24T22:00:06.252Z"
   },
   {
    "duration": 46,
    "start_time": "2021-10-24T22:00:06.259Z"
   },
   {
    "duration": 1518,
    "start_time": "2021-10-24T22:43:04.134Z"
   },
   {
    "duration": 212,
    "start_time": "2021-10-24T22:43:05.655Z"
   },
   {
    "duration": 12,
    "start_time": "2021-10-24T22:43:05.871Z"
   },
   {
    "duration": 20,
    "start_time": "2021-10-24T22:43:05.887Z"
   },
   {
    "duration": 11,
    "start_time": "2021-10-24T22:43:05.910Z"
   },
   {
    "duration": 30,
    "start_time": "2021-10-24T22:43:05.924Z"
   },
   {
    "duration": 59,
    "start_time": "2021-10-24T22:43:05.957Z"
   },
   {
    "duration": 5,
    "start_time": "2021-10-24T22:43:06.020Z"
   },
   {
    "duration": 23,
    "start_time": "2021-10-24T22:43:06.028Z"
   },
   {
    "duration": 9,
    "start_time": "2021-10-24T22:43:06.053Z"
   },
   {
    "duration": 268,
    "start_time": "2021-10-24T22:43:06.065Z"
   },
   {
    "duration": 245,
    "start_time": "2021-10-24T22:43:06.335Z"
   },
   {
    "duration": 20,
    "start_time": "2021-10-24T22:43:06.583Z"
   },
   {
    "duration": 21,
    "start_time": "2021-10-24T22:43:06.605Z"
   },
   {
    "duration": 8,
    "start_time": "2021-10-24T22:43:06.628Z"
   },
   {
    "duration": 8,
    "start_time": "2021-10-24T22:43:06.638Z"
   },
   {
    "duration": 6,
    "start_time": "2021-10-24T22:43:06.649Z"
   },
   {
    "duration": 46,
    "start_time": "2021-10-24T22:43:06.657Z"
   },
   {
    "duration": 5,
    "start_time": "2021-10-24T22:43:06.706Z"
   },
   {
    "duration": 14,
    "start_time": "2021-10-24T22:43:06.713Z"
   },
   {
    "duration": 7,
    "start_time": "2021-10-24T22:43:06.730Z"
   },
   {
    "duration": 14,
    "start_time": "2021-10-24T22:43:06.740Z"
   },
   {
    "duration": 48,
    "start_time": "2021-10-24T22:43:06.761Z"
   },
   {
    "duration": 25,
    "start_time": "2021-10-24T22:43:06.813Z"
   },
   {
    "duration": 105,
    "start_time": "2021-10-24T22:43:06.841Z"
   },
   {
    "duration": 12,
    "start_time": "2021-10-24T22:43:06.948Z"
   },
   {
    "duration": 772,
    "start_time": "2021-10-24T22:43:06.962Z"
   },
   {
    "duration": 15,
    "start_time": "2021-10-24T22:43:07.738Z"
   },
   {
    "duration": 51,
    "start_time": "2021-10-24T22:43:07.756Z"
   },
   {
    "duration": 22,
    "start_time": "2021-10-24T22:43:07.810Z"
   },
   {
    "duration": 20,
    "start_time": "2021-10-24T22:43:07.834Z"
   },
   {
    "duration": 48,
    "start_time": "2021-10-24T22:43:07.856Z"
   },
   {
    "duration": 60,
    "start_time": "2021-10-24T22:43:07.907Z"
   },
   {
    "duration": 35,
    "start_time": "2021-10-24T22:43:07.970Z"
   },
   {
    "duration": 8,
    "start_time": "2021-10-24T22:43:08.007Z"
   },
   {
    "duration": 17,
    "start_time": "2021-10-24T22:43:08.017Z"
   },
   {
    "duration": 30,
    "start_time": "2021-10-24T22:43:08.037Z"
   },
   {
    "duration": 6,
    "start_time": "2021-10-24T22:43:08.070Z"
   },
   {
    "duration": 27,
    "start_time": "2021-10-24T22:43:08.078Z"
   },
   {
    "duration": 32,
    "start_time": "2021-10-24T22:43:08.107Z"
   },
   {
    "duration": 244,
    "start_time": "2021-10-24T22:43:08.142Z"
   },
   {
    "duration": 18,
    "start_time": "2021-10-24T22:43:08.389Z"
   },
   {
    "duration": 24,
    "start_time": "2021-10-24T22:43:08.409Z"
   },
   {
    "duration": 76,
    "start_time": "2021-10-24T22:43:08.435Z"
   },
   {
    "duration": 9,
    "start_time": "2021-10-24T22:43:08.513Z"
   },
   {
    "duration": 678,
    "start_time": "2021-10-24T22:43:08.524Z"
   },
   {
    "duration": 10,
    "start_time": "2021-10-24T22:43:09.205Z"
   },
   {
    "duration": 29,
    "start_time": "2021-10-24T22:43:09.217Z"
   },
   {
    "duration": 33,
    "start_time": "2021-10-24T22:43:09.248Z"
   },
   {
    "duration": 25,
    "start_time": "2021-10-24T22:43:09.283Z"
   },
   {
    "duration": 25,
    "start_time": "2021-10-24T22:43:09.310Z"
   },
   {
    "duration": 45,
    "start_time": "2021-10-24T22:43:09.337Z"
   },
   {
    "duration": 16,
    "start_time": "2021-10-24T22:43:09.384Z"
   },
   {
    "duration": 19,
    "start_time": "2021-10-24T22:43:09.402Z"
   },
   {
    "duration": 14,
    "start_time": "2021-10-24T22:43:09.424Z"
   },
   {
    "duration": 20,
    "start_time": "2021-10-24T22:43:09.441Z"
   },
   {
    "duration": 40,
    "start_time": "2021-10-24T22:43:09.464Z"
   },
   {
    "duration": 11,
    "start_time": "2021-10-24T22:43:09.508Z"
   },
   {
    "duration": 14,
    "start_time": "2021-10-24T22:43:09.522Z"
   },
   {
    "duration": 23,
    "start_time": "2021-10-24T22:43:09.539Z"
   },
   {
    "duration": 17,
    "start_time": "2021-10-24T22:43:09.565Z"
   },
   {
    "duration": 240,
    "start_time": "2021-10-24T22:43:09.585Z"
   },
   {
    "duration": 7,
    "start_time": "2021-10-24T22:43:09.828Z"
   },
   {
    "duration": 14,
    "start_time": "2021-10-24T22:43:09.838Z"
   },
   {
    "duration": 33,
    "start_time": "2021-10-24T22:43:09.854Z"
   },
   {
    "duration": 16,
    "start_time": "2021-10-24T22:43:09.890Z"
   },
   {
    "duration": 17,
    "start_time": "2021-10-24T22:43:09.909Z"
   },
   {
    "duration": 19,
    "start_time": "2021-10-24T22:43:09.937Z"
   },
   {
    "duration": 62,
    "start_time": "2021-10-24T22:43:09.960Z"
   },
   {
    "duration": 12,
    "start_time": "2021-10-24T22:43:10.025Z"
   },
   {
    "duration": 15,
    "start_time": "2021-10-24T22:43:10.040Z"
   },
   {
    "duration": 25,
    "start_time": "2021-10-24T22:43:10.058Z"
   },
   {
    "duration": 28,
    "start_time": "2021-10-24T22:43:10.085Z"
   },
   {
    "duration": 22,
    "start_time": "2021-10-24T22:43:10.115Z"
   },
   {
    "duration": 22,
    "start_time": "2021-10-24T22:43:10.139Z"
   },
   {
    "duration": 9,
    "start_time": "2021-10-24T22:43:10.163Z"
   },
   {
    "duration": 27,
    "start_time": "2021-10-24T22:43:10.174Z"
   },
   {
    "duration": 22,
    "start_time": "2021-10-24T22:43:10.203Z"
   },
   {
    "duration": 25,
    "start_time": "2021-10-24T22:43:10.227Z"
   },
   {
    "duration": 25,
    "start_time": "2021-10-24T22:43:10.255Z"
   },
   {
    "duration": 20,
    "start_time": "2021-10-24T22:43:10.284Z"
   },
   {
    "duration": 31,
    "start_time": "2021-10-24T22:43:10.306Z"
   },
   {
    "duration": 4063,
    "start_time": "2021-10-24T22:43:10.339Z"
   },
   {
    "duration": 12,
    "start_time": "2021-10-24T22:43:14.405Z"
   },
   {
    "duration": 6,
    "start_time": "2021-10-24T22:43:14.420Z"
   },
   {
    "duration": 9317,
    "start_time": "2021-10-24T22:43:14.428Z"
   },
   {
    "duration": 8,
    "start_time": "2021-10-24T22:43:23.748Z"
   },
   {
    "duration": 7,
    "start_time": "2021-10-24T22:43:23.758Z"
   },
   {
    "duration": 41,
    "start_time": "2021-10-24T22:43:23.768Z"
   },
   {
    "duration": 4,
    "start_time": "2021-10-24T22:43:23.812Z"
   },
   {
    "duration": 19,
    "start_time": "2021-10-24T22:43:23.819Z"
   },
   {
    "duration": 3934,
    "start_time": "2021-10-24T22:43:23.841Z"
   },
   {
    "duration": 22,
    "start_time": "2021-10-24T22:43:27.778Z"
   },
   {
    "duration": 5505,
    "start_time": "2021-10-24T22:43:27.802Z"
   },
   {
    "duration": 7,
    "start_time": "2021-10-24T22:43:33.309Z"
   },
   {
    "duration": 6,
    "start_time": "2021-10-24T22:43:33.319Z"
   },
   {
    "duration": 72,
    "start_time": "2021-10-24T22:43:33.328Z"
   },
   {
    "duration": 3,
    "start_time": "2021-10-24T22:43:33.403Z"
   },
   {
    "duration": 14,
    "start_time": "2021-10-24T22:43:33.409Z"
   },
   {
    "duration": 7,
    "start_time": "2021-10-24T22:43:33.426Z"
   },
   {
    "duration": 8,
    "start_time": "2021-10-24T22:43:33.436Z"
   },
   {
    "duration": 61,
    "start_time": "2021-10-24T22:43:33.446Z"
   },
   {
    "duration": 23,
    "start_time": "2021-10-24T22:43:33.509Z"
   },
   {
    "duration": 7,
    "start_time": "2021-10-24T22:43:33.534Z"
   },
   {
    "duration": 69,
    "start_time": "2021-10-24T22:43:33.544Z"
   },
   {
    "duration": 5,
    "start_time": "2021-10-24T22:43:33.615Z"
   },
   {
    "duration": 14,
    "start_time": "2021-10-24T22:43:33.622Z"
   },
   {
    "duration": 5,
    "start_time": "2021-10-24T22:43:33.638Z"
   },
   {
    "duration": 7,
    "start_time": "2021-10-24T22:43:33.701Z"
   },
   {
    "duration": 637,
    "start_time": "2021-10-24T22:43:33.710Z"
   },
   {
    "duration": 355,
    "start_time": "2021-10-24T22:44:04.700Z"
   },
   {
    "duration": 386,
    "start_time": "2021-10-24T22:44:49.485Z"
   },
   {
    "duration": 662,
    "start_time": "2021-10-24T22:45:56.911Z"
   },
   {
    "duration": 361,
    "start_time": "2021-10-24T22:51:18.461Z"
   },
   {
    "duration": 1612,
    "start_time": "2021-10-24T22:51:37.352Z"
   },
   {
    "duration": 209,
    "start_time": "2021-10-24T22:51:38.967Z"
   },
   {
    "duration": 10,
    "start_time": "2021-10-24T22:51:39.180Z"
   },
   {
    "duration": 18,
    "start_time": "2021-10-24T22:51:39.193Z"
   },
   {
    "duration": 10,
    "start_time": "2021-10-24T22:51:39.213Z"
   },
   {
    "duration": 33,
    "start_time": "2021-10-24T22:51:39.226Z"
   },
   {
    "duration": 46,
    "start_time": "2021-10-24T22:51:39.262Z"
   },
   {
    "duration": 6,
    "start_time": "2021-10-24T22:51:39.312Z"
   },
   {
    "duration": 20,
    "start_time": "2021-10-24T22:51:39.320Z"
   },
   {
    "duration": 8,
    "start_time": "2021-10-24T22:51:39.342Z"
   },
   {
    "duration": 270,
    "start_time": "2021-10-24T22:51:39.352Z"
   },
   {
    "duration": 253,
    "start_time": "2021-10-24T22:51:39.624Z"
   },
   {
    "duration": 20,
    "start_time": "2021-10-24T22:51:39.880Z"
   },
   {
    "duration": 15,
    "start_time": "2021-10-24T22:51:39.903Z"
   },
   {
    "duration": 15,
    "start_time": "2021-10-24T22:51:39.920Z"
   },
   {
    "duration": 16,
    "start_time": "2021-10-24T22:51:39.937Z"
   },
   {
    "duration": 20,
    "start_time": "2021-10-24T22:51:39.955Z"
   },
   {
    "duration": 19,
    "start_time": "2021-10-24T22:51:39.977Z"
   },
   {
    "duration": 16,
    "start_time": "2021-10-24T22:51:40.000Z"
   },
   {
    "duration": 19,
    "start_time": "2021-10-24T22:51:40.018Z"
   },
   {
    "duration": 17,
    "start_time": "2021-10-24T22:51:40.040Z"
   },
   {
    "duration": 18,
    "start_time": "2021-10-24T22:51:40.059Z"
   },
   {
    "duration": 21,
    "start_time": "2021-10-24T22:51:40.083Z"
   },
   {
    "duration": 25,
    "start_time": "2021-10-24T22:51:40.107Z"
   },
   {
    "duration": 91,
    "start_time": "2021-10-24T22:51:40.134Z"
   },
   {
    "duration": 12,
    "start_time": "2021-10-24T22:51:40.227Z"
   },
   {
    "duration": 769,
    "start_time": "2021-10-24T22:51:40.241Z"
   },
   {
    "duration": 17,
    "start_time": "2021-10-24T22:51:41.013Z"
   },
   {
    "duration": 24,
    "start_time": "2021-10-24T22:51:41.032Z"
   },
   {
    "duration": 52,
    "start_time": "2021-10-24T22:51:41.058Z"
   },
   {
    "duration": 17,
    "start_time": "2021-10-24T22:51:41.112Z"
   },
   {
    "duration": 9,
    "start_time": "2021-10-24T22:51:41.131Z"
   },
   {
    "duration": 92,
    "start_time": "2021-10-24T22:51:41.143Z"
   },
   {
    "duration": 10,
    "start_time": "2021-10-24T22:51:41.238Z"
   },
   {
    "duration": 8,
    "start_time": "2021-10-24T22:51:41.250Z"
   },
   {
    "duration": 21,
    "start_time": "2021-10-24T22:51:41.261Z"
   },
   {
    "duration": 22,
    "start_time": "2021-10-24T22:51:41.301Z"
   },
   {
    "duration": 6,
    "start_time": "2021-10-24T22:51:41.326Z"
   },
   {
    "duration": 9,
    "start_time": "2021-10-24T22:51:41.335Z"
   },
   {
    "duration": 11,
    "start_time": "2021-10-24T22:51:41.346Z"
   },
   {
    "duration": 271,
    "start_time": "2021-10-24T22:51:41.359Z"
   },
   {
    "duration": 10,
    "start_time": "2021-10-24T22:51:41.632Z"
   },
   {
    "duration": 18,
    "start_time": "2021-10-24T22:51:41.645Z"
   },
   {
    "duration": 80,
    "start_time": "2021-10-24T22:51:41.666Z"
   },
   {
    "duration": 9,
    "start_time": "2021-10-24T22:51:41.749Z"
   },
   {
    "duration": 696,
    "start_time": "2021-10-24T22:51:41.761Z"
   },
   {
    "duration": 11,
    "start_time": "2021-10-24T22:51:42.460Z"
   },
   {
    "duration": 37,
    "start_time": "2021-10-24T22:51:42.474Z"
   },
   {
    "duration": 21,
    "start_time": "2021-10-24T22:51:42.514Z"
   },
   {
    "duration": 13,
    "start_time": "2021-10-24T22:51:42.537Z"
   },
   {
    "duration": 11,
    "start_time": "2021-10-24T22:51:42.553Z"
   },
   {
    "duration": 62,
    "start_time": "2021-10-24T22:51:42.567Z"
   },
   {
    "duration": 11,
    "start_time": "2021-10-24T22:51:42.631Z"
   },
   {
    "duration": 9,
    "start_time": "2021-10-24T22:51:42.644Z"
   },
   {
    "duration": 14,
    "start_time": "2021-10-24T22:51:42.655Z"
   },
   {
    "duration": 10,
    "start_time": "2021-10-24T22:51:42.701Z"
   },
   {
    "duration": 26,
    "start_time": "2021-10-24T22:51:42.713Z"
   },
   {
    "duration": 8,
    "start_time": "2021-10-24T22:51:42.742Z"
   },
   {
    "duration": 5,
    "start_time": "2021-10-24T22:51:42.753Z"
   },
   {
    "duration": 44,
    "start_time": "2021-10-24T22:51:42.760Z"
   },
   {
    "duration": 9,
    "start_time": "2021-10-24T22:51:42.807Z"
   },
   {
    "duration": 234,
    "start_time": "2021-10-24T22:51:42.818Z"
   },
   {
    "duration": 7,
    "start_time": "2021-10-24T22:51:43.055Z"
   },
   {
    "duration": 14,
    "start_time": "2021-10-24T22:51:43.065Z"
   },
   {
    "duration": 33,
    "start_time": "2021-10-24T22:51:43.081Z"
   },
   {
    "duration": 6,
    "start_time": "2021-10-24T22:51:43.116Z"
   },
   {
    "duration": 16,
    "start_time": "2021-10-24T22:51:43.125Z"
   },
   {
    "duration": 50,
    "start_time": "2021-10-24T22:51:43.151Z"
   },
   {
    "duration": 22,
    "start_time": "2021-10-24T22:51:43.204Z"
   },
   {
    "duration": 11,
    "start_time": "2021-10-24T22:51:43.228Z"
   },
   {
    "duration": 7,
    "start_time": "2021-10-24T22:51:43.242Z"
   },
   {
    "duration": 9,
    "start_time": "2021-10-24T22:51:43.252Z"
   },
   {
    "duration": 48,
    "start_time": "2021-10-24T22:51:43.263Z"
   },
   {
    "duration": 21,
    "start_time": "2021-10-24T22:51:43.313Z"
   },
   {
    "duration": 12,
    "start_time": "2021-10-24T22:51:43.337Z"
   },
   {
    "duration": 4,
    "start_time": "2021-10-24T22:51:43.352Z"
   },
   {
    "duration": 46,
    "start_time": "2021-10-24T22:51:43.358Z"
   },
   {
    "duration": 12,
    "start_time": "2021-10-24T22:51:43.407Z"
   },
   {
    "duration": 5,
    "start_time": "2021-10-24T22:51:43.422Z"
   },
   {
    "duration": 16,
    "start_time": "2021-10-24T22:51:43.429Z"
   },
   {
    "duration": 4,
    "start_time": "2021-10-24T22:51:43.448Z"
   },
   {
    "duration": 51,
    "start_time": "2021-10-24T22:51:43.454Z"
   },
   {
    "duration": 3743,
    "start_time": "2021-10-24T22:51:43.508Z"
   },
   {
    "duration": 15,
    "start_time": "2021-10-24T22:51:47.255Z"
   },
   {
    "duration": 6,
    "start_time": "2021-10-24T22:51:47.272Z"
   },
   {
    "duration": 8421,
    "start_time": "2021-10-24T22:51:47.300Z"
   },
   {
    "duration": 9,
    "start_time": "2021-10-24T22:51:55.724Z"
   },
   {
    "duration": 5,
    "start_time": "2021-10-24T22:51:55.736Z"
   },
   {
    "duration": 77,
    "start_time": "2021-10-24T22:51:55.744Z"
   },
   {
    "duration": 4,
    "start_time": "2021-10-24T22:51:55.824Z"
   },
   {
    "duration": 13,
    "start_time": "2021-10-24T22:51:55.830Z"
   },
   {
    "duration": 1881,
    "start_time": "2021-10-24T22:51:55.900Z"
   },
   {
    "duration": 26,
    "start_time": "2021-10-24T22:51:57.784Z"
   },
   {
    "duration": 4564,
    "start_time": "2021-10-24T22:51:57.812Z"
   },
   {
    "duration": 7,
    "start_time": "2021-10-24T22:52:02.379Z"
   },
   {
    "duration": 6,
    "start_time": "2021-10-24T22:52:02.401Z"
   },
   {
    "duration": 43,
    "start_time": "2021-10-24T22:52:02.409Z"
   },
   {
    "duration": 14,
    "start_time": "2021-10-24T22:52:02.454Z"
   },
   {
    "duration": 20,
    "start_time": "2021-10-24T22:52:02.470Z"
   },
   {
    "duration": 17,
    "start_time": "2021-10-24T22:52:02.493Z"
   },
   {
    "duration": 9,
    "start_time": "2021-10-24T22:52:02.513Z"
   },
   {
    "duration": 13,
    "start_time": "2021-10-24T22:52:02.524Z"
   },
   {
    "duration": 22,
    "start_time": "2021-10-24T22:52:02.540Z"
   },
   {
    "duration": 8,
    "start_time": "2021-10-24T22:52:02.565Z"
   },
   {
    "duration": 17,
    "start_time": "2021-10-24T22:52:02.602Z"
   },
   {
    "duration": 6,
    "start_time": "2021-10-24T22:52:02.622Z"
   },
   {
    "duration": 17,
    "start_time": "2021-10-24T22:52:02.631Z"
   },
   {
    "duration": 6,
    "start_time": "2021-10-24T22:52:02.651Z"
   },
   {
    "duration": 40,
    "start_time": "2021-10-24T22:52:02.660Z"
   },
   {
    "duration": 4,
    "start_time": "2021-10-24T22:52:02.704Z"
   },
   {
    "duration": 494,
    "start_time": "2021-10-24T22:52:02.711Z"
   },
   {
    "duration": 377,
    "start_time": "2021-10-24T22:52:44.481Z"
   },
   {
    "duration": 480,
    "start_time": "2021-10-24T23:01:13.221Z"
   },
   {
    "duration": 416,
    "start_time": "2021-10-24T23:01:39.387Z"
   },
   {
    "duration": 451,
    "start_time": "2021-10-24T23:02:11.550Z"
   },
   {
    "duration": 4,
    "start_time": "2021-10-24T23:11:36.529Z"
   },
   {
    "duration": 351,
    "start_time": "2021-10-24T23:11:48.552Z"
   },
   {
    "duration": 2876,
    "start_time": "2021-10-24T23:12:15.612Z"
   },
   {
    "duration": 5,
    "start_time": "2021-10-24T23:12:37.016Z"
   },
   {
    "duration": 5,
    "start_time": "2021-10-24T23:12:49.716Z"
   },
   {
    "duration": 5506,
    "start_time": "2021-10-24T23:12:50.403Z"
   },
   {
    "duration": 7,
    "start_time": "2021-10-24T23:12:57.995Z"
   },
   {
    "duration": 1335,
    "start_time": "2021-10-25T20:30:45.702Z"
   },
   {
    "duration": 212,
    "start_time": "2021-10-25T20:30:47.039Z"
   },
   {
    "duration": 9,
    "start_time": "2021-10-25T20:30:47.253Z"
   },
   {
    "duration": 12,
    "start_time": "2021-10-25T20:30:47.264Z"
   },
   {
    "duration": 12,
    "start_time": "2021-10-25T20:30:47.278Z"
   },
   {
    "duration": 20,
    "start_time": "2021-10-25T20:30:47.292Z"
   },
   {
    "duration": 15,
    "start_time": "2021-10-25T20:30:47.315Z"
   },
   {
    "duration": 5,
    "start_time": "2021-10-25T20:30:47.334Z"
   },
   {
    "duration": 46,
    "start_time": "2021-10-25T20:30:47.341Z"
   },
   {
    "duration": 8,
    "start_time": "2021-10-25T20:30:47.389Z"
   },
   {
    "duration": 179,
    "start_time": "2021-10-25T20:30:47.399Z"
   },
   {
    "duration": 154,
    "start_time": "2021-10-25T20:30:47.580Z"
   },
   {
    "duration": 10,
    "start_time": "2021-10-25T20:30:47.736Z"
   },
   {
    "duration": 12,
    "start_time": "2021-10-25T20:30:47.748Z"
   },
   {
    "duration": 18,
    "start_time": "2021-10-25T20:30:47.762Z"
   },
   {
    "duration": 8,
    "start_time": "2021-10-25T20:30:47.782Z"
   },
   {
    "duration": 5,
    "start_time": "2021-10-25T20:30:47.793Z"
   },
   {
    "duration": 7,
    "start_time": "2021-10-25T20:30:47.800Z"
   },
   {
    "duration": 5,
    "start_time": "2021-10-25T20:30:47.808Z"
   },
   {
    "duration": 10,
    "start_time": "2021-10-25T20:30:47.814Z"
   },
   {
    "duration": 7,
    "start_time": "2021-10-25T20:30:47.826Z"
   },
   {
    "duration": 44,
    "start_time": "2021-10-25T20:30:47.834Z"
   },
   {
    "duration": 8,
    "start_time": "2021-10-25T20:30:47.883Z"
   },
   {
    "duration": 14,
    "start_time": "2021-10-25T20:30:47.893Z"
   },
   {
    "duration": 80,
    "start_time": "2021-10-25T20:30:47.909Z"
   },
   {
    "duration": 9,
    "start_time": "2021-10-25T20:30:47.990Z"
   },
   {
    "duration": 497,
    "start_time": "2021-10-25T20:30:48.001Z"
   },
   {
    "duration": 10,
    "start_time": "2021-10-25T20:30:48.500Z"
   },
   {
    "duration": 19,
    "start_time": "2021-10-25T20:30:48.513Z"
   },
   {
    "duration": 16,
    "start_time": "2021-10-25T20:30:48.534Z"
   },
   {
    "duration": 32,
    "start_time": "2021-10-25T20:30:48.551Z"
   },
   {
    "duration": 7,
    "start_time": "2021-10-25T20:30:48.585Z"
   },
   {
    "duration": 39,
    "start_time": "2021-10-25T20:30:48.594Z"
   },
   {
    "duration": 7,
    "start_time": "2021-10-25T20:30:48.635Z"
   },
   {
    "duration": 37,
    "start_time": "2021-10-25T20:30:48.644Z"
   },
   {
    "duration": 12,
    "start_time": "2021-10-25T20:30:48.684Z"
   },
   {
    "duration": 17,
    "start_time": "2021-10-25T20:30:48.698Z"
   },
   {
    "duration": 5,
    "start_time": "2021-10-25T20:30:48.717Z"
   },
   {
    "duration": 5,
    "start_time": "2021-10-25T20:30:48.724Z"
   },
   {
    "duration": 9,
    "start_time": "2021-10-25T20:30:48.731Z"
   },
   {
    "duration": 198,
    "start_time": "2021-10-25T20:30:48.742Z"
   },
   {
    "duration": 7,
    "start_time": "2021-10-25T20:30:48.942Z"
   },
   {
    "duration": 30,
    "start_time": "2021-10-25T20:30:48.951Z"
   },
   {
    "duration": 41,
    "start_time": "2021-10-25T20:30:48.982Z"
   },
   {
    "duration": 7,
    "start_time": "2021-10-25T20:30:49.025Z"
   },
   {
    "duration": 451,
    "start_time": "2021-10-25T20:30:49.034Z"
   },
   {
    "duration": 7,
    "start_time": "2021-10-25T20:30:49.487Z"
   },
   {
    "duration": 14,
    "start_time": "2021-10-25T20:30:49.496Z"
   },
   {
    "duration": 13,
    "start_time": "2021-10-25T20:30:49.512Z"
   },
   {
    "duration": 7,
    "start_time": "2021-10-25T20:30:49.527Z"
   },
   {
    "duration": 8,
    "start_time": "2021-10-25T20:30:49.536Z"
   },
   {
    "duration": 26,
    "start_time": "2021-10-25T20:30:49.576Z"
   },
   {
    "duration": 9,
    "start_time": "2021-10-25T20:30:49.604Z"
   },
   {
    "duration": 7,
    "start_time": "2021-10-25T20:30:49.615Z"
   },
   {
    "duration": 17,
    "start_time": "2021-10-25T20:30:49.623Z"
   },
   {
    "duration": 38,
    "start_time": "2021-10-25T20:30:49.641Z"
   },
   {
    "duration": 18,
    "start_time": "2021-10-25T20:30:49.682Z"
   },
   {
    "duration": 7,
    "start_time": "2021-10-25T20:30:49.702Z"
   },
   {
    "duration": 7,
    "start_time": "2021-10-25T20:30:49.711Z"
   },
   {
    "duration": 15,
    "start_time": "2021-10-25T20:30:49.720Z"
   },
   {
    "duration": 9,
    "start_time": "2021-10-25T20:30:49.737Z"
   },
   {
    "duration": 176,
    "start_time": "2021-10-25T20:30:49.748Z"
   },
   {
    "duration": 5,
    "start_time": "2021-10-25T20:30:49.926Z"
   },
   {
    "duration": 5,
    "start_time": "2021-10-25T20:30:49.933Z"
   },
   {
    "duration": 13,
    "start_time": "2021-10-25T20:30:49.940Z"
   },
   {
    "duration": 24,
    "start_time": "2021-10-25T20:30:49.955Z"
   },
   {
    "duration": 10,
    "start_time": "2021-10-25T20:30:49.981Z"
   },
   {
    "duration": 14,
    "start_time": "2021-10-25T20:30:49.997Z"
   },
   {
    "duration": 15,
    "start_time": "2021-10-25T20:30:50.013Z"
   },
   {
    "duration": 8,
    "start_time": "2021-10-25T20:30:50.030Z"
   },
   {
    "duration": 42,
    "start_time": "2021-10-25T20:30:50.040Z"
   },
   {
    "duration": 6,
    "start_time": "2021-10-25T20:30:50.084Z"
   },
   {
    "duration": 10,
    "start_time": "2021-10-25T20:30:50.092Z"
   },
   {
    "duration": 14,
    "start_time": "2021-10-25T20:30:50.104Z"
   },
   {
    "duration": 9,
    "start_time": "2021-10-25T20:30:50.120Z"
   },
   {
    "duration": 2,
    "start_time": "2021-10-25T20:30:50.131Z"
   },
   {
    "duration": 41,
    "start_time": "2021-10-25T20:30:50.135Z"
   },
   {
    "duration": 8,
    "start_time": "2021-10-25T20:30:50.178Z"
   },
   {
    "duration": 14,
    "start_time": "2021-10-25T20:30:50.188Z"
   },
   {
    "duration": 16,
    "start_time": "2021-10-25T20:30:50.205Z"
   },
   {
    "duration": 3,
    "start_time": "2021-10-25T20:30:50.224Z"
   },
   {
    "duration": 12,
    "start_time": "2021-10-25T20:30:50.229Z"
   },
   {
    "duration": 2263,
    "start_time": "2021-10-25T20:30:50.244Z"
   },
   {
    "duration": 12,
    "start_time": "2021-10-25T20:30:52.509Z"
   },
   {
    "duration": 5,
    "start_time": "2021-10-25T20:30:52.523Z"
   },
   {
    "duration": 4422,
    "start_time": "2021-10-25T20:30:52.530Z"
   },
   {
    "duration": 5,
    "start_time": "2021-10-25T20:30:56.954Z"
   },
   {
    "duration": 15,
    "start_time": "2021-10-25T20:30:56.961Z"
   },
   {
    "duration": 16,
    "start_time": "2021-10-25T20:30:56.978Z"
   },
   {
    "duration": 3,
    "start_time": "2021-10-25T20:30:56.996Z"
   },
   {
    "duration": 11,
    "start_time": "2021-10-25T20:30:57.001Z"
   },
   {
    "duration": 970,
    "start_time": "2021-10-25T20:30:57.014Z"
   },
   {
    "duration": 8,
    "start_time": "2021-10-25T20:30:57.986Z"
   },
   {
    "duration": 2439,
    "start_time": "2021-10-25T20:30:57.996Z"
   },
   {
    "duration": 6,
    "start_time": "2021-10-25T20:31:00.437Z"
   },
   {
    "duration": 18,
    "start_time": "2021-10-25T20:31:00.444Z"
   },
   {
    "duration": 27,
    "start_time": "2021-10-25T20:31:00.464Z"
   },
   {
    "duration": 9,
    "start_time": "2021-10-25T20:31:00.493Z"
   },
   {
    "duration": 23,
    "start_time": "2021-10-25T20:31:00.504Z"
   },
   {
    "duration": 12,
    "start_time": "2021-10-25T20:31:00.528Z"
   },
   {
    "duration": 10,
    "start_time": "2021-10-25T20:31:00.541Z"
   },
   {
    "duration": 13,
    "start_time": "2021-10-25T20:31:00.553Z"
   },
   {
    "duration": 33,
    "start_time": "2021-10-25T20:31:00.568Z"
   },
   {
    "duration": 13,
    "start_time": "2021-10-25T20:31:00.602Z"
   },
   {
    "duration": 22,
    "start_time": "2021-10-25T20:31:00.617Z"
   },
   {
    "duration": 15,
    "start_time": "2021-10-25T20:31:00.641Z"
   },
   {
    "duration": 19,
    "start_time": "2021-10-25T20:31:00.658Z"
   },
   {
    "duration": 8,
    "start_time": "2021-10-25T20:31:00.679Z"
   },
   {
    "duration": 21,
    "start_time": "2021-10-25T20:31:00.689Z"
   },
   {
    "duration": 6,
    "start_time": "2021-10-25T20:31:00.712Z"
   },
   {
    "duration": 158,
    "start_time": "2021-10-25T20:31:00.720Z"
   },
   {
    "duration": 3,
    "start_time": "2021-10-25T20:31:00.880Z"
   },
   {
    "duration": 2843,
    "start_time": "2021-10-25T20:31:00.885Z"
   },
   {
    "duration": 4,
    "start_time": "2021-10-25T20:31:03.730Z"
   },
   {
    "duration": 5,
    "start_time": "2021-10-25T20:31:03.736Z"
   },
   {
    "duration": 488,
    "start_time": "2021-10-25T20:31:03.743Z"
   },
   {
    "duration": 1218,
    "start_time": "2021-10-25T20:38:07.410Z"
   },
   {
    "duration": 216,
    "start_time": "2021-10-25T20:38:08.630Z"
   },
   {
    "duration": 9,
    "start_time": "2021-10-25T20:38:08.848Z"
   },
   {
    "duration": 12,
    "start_time": "2021-10-25T20:38:08.859Z"
   },
   {
    "duration": 16,
    "start_time": "2021-10-25T20:38:08.872Z"
   },
   {
    "duration": 21,
    "start_time": "2021-10-25T20:38:08.889Z"
   },
   {
    "duration": 14,
    "start_time": "2021-10-25T20:38:08.912Z"
   },
   {
    "duration": 3,
    "start_time": "2021-10-25T20:38:08.929Z"
   },
   {
    "duration": 15,
    "start_time": "2021-10-25T20:38:08.934Z"
   },
   {
    "duration": 26,
    "start_time": "2021-10-25T20:38:08.950Z"
   },
   {
    "duration": 155,
    "start_time": "2021-10-25T20:38:08.978Z"
   },
   {
    "duration": 148,
    "start_time": "2021-10-25T20:38:09.135Z"
   },
   {
    "duration": 10,
    "start_time": "2021-10-25T20:38:09.285Z"
   },
   {
    "duration": 10,
    "start_time": "2021-10-25T20:38:09.297Z"
   },
   {
    "duration": 11,
    "start_time": "2021-10-25T20:38:09.309Z"
   },
   {
    "duration": 5,
    "start_time": "2021-10-25T20:38:09.322Z"
   },
   {
    "duration": 11,
    "start_time": "2021-10-25T20:38:09.329Z"
   },
   {
    "duration": 6,
    "start_time": "2021-10-25T20:38:09.342Z"
   },
   {
    "duration": 28,
    "start_time": "2021-10-25T20:38:09.350Z"
   },
   {
    "duration": 8,
    "start_time": "2021-10-25T20:38:09.380Z"
   },
   {
    "duration": 6,
    "start_time": "2021-10-25T20:38:09.390Z"
   },
   {
    "duration": 13,
    "start_time": "2021-10-25T20:38:09.398Z"
   },
   {
    "duration": 10,
    "start_time": "2021-10-25T20:38:09.415Z"
   },
   {
    "duration": 17,
    "start_time": "2021-10-25T20:38:09.428Z"
   },
   {
    "duration": 71,
    "start_time": "2021-10-25T20:38:09.446Z"
   },
   {
    "duration": 8,
    "start_time": "2021-10-25T20:38:09.519Z"
   },
   {
    "duration": 462,
    "start_time": "2021-10-25T20:38:09.529Z"
   },
   {
    "duration": 10,
    "start_time": "2021-10-25T20:38:09.994Z"
   },
   {
    "duration": 18,
    "start_time": "2021-10-25T20:38:10.006Z"
   },
   {
    "duration": 15,
    "start_time": "2021-10-25T20:38:10.026Z"
   },
   {
    "duration": 43,
    "start_time": "2021-10-25T20:38:10.043Z"
   },
   {
    "duration": 9,
    "start_time": "2021-10-25T20:38:10.088Z"
   },
   {
    "duration": 40,
    "start_time": "2021-10-25T20:38:10.099Z"
   },
   {
    "duration": 7,
    "start_time": "2021-10-25T20:38:10.141Z"
   },
   {
    "duration": 6,
    "start_time": "2021-10-25T20:38:10.176Z"
   },
   {
    "duration": 9,
    "start_time": "2021-10-25T20:38:10.184Z"
   },
   {
    "duration": 19,
    "start_time": "2021-10-25T20:38:10.194Z"
   },
   {
    "duration": 6,
    "start_time": "2021-10-25T20:38:10.215Z"
   },
   {
    "duration": 7,
    "start_time": "2021-10-25T20:38:10.222Z"
   },
   {
    "duration": 9,
    "start_time": "2021-10-25T20:38:10.231Z"
   },
   {
    "duration": 174,
    "start_time": "2021-10-25T20:38:10.241Z"
   },
   {
    "duration": 8,
    "start_time": "2021-10-25T20:38:10.417Z"
   },
   {
    "duration": 13,
    "start_time": "2021-10-25T20:38:10.426Z"
   },
   {
    "duration": 54,
    "start_time": "2021-10-25T20:38:10.441Z"
   },
   {
    "duration": 6,
    "start_time": "2021-10-25T20:38:10.497Z"
   },
   {
    "duration": 439,
    "start_time": "2021-10-25T20:38:10.505Z"
   },
   {
    "duration": 7,
    "start_time": "2021-10-25T20:38:10.946Z"
   },
   {
    "duration": 29,
    "start_time": "2021-10-25T20:38:10.954Z"
   },
   {
    "duration": 16,
    "start_time": "2021-10-25T20:38:10.985Z"
   },
   {
    "duration": 9,
    "start_time": "2021-10-25T20:38:11.003Z"
   },
   {
    "duration": 6,
    "start_time": "2021-10-25T20:38:11.014Z"
   },
   {
    "duration": 25,
    "start_time": "2021-10-25T20:38:11.022Z"
   },
   {
    "duration": 30,
    "start_time": "2021-10-25T20:38:11.049Z"
   },
   {
    "duration": 7,
    "start_time": "2021-10-25T20:38:11.081Z"
   },
   {
    "duration": 7,
    "start_time": "2021-10-25T20:38:11.089Z"
   },
   {
    "duration": 8,
    "start_time": "2021-10-25T20:38:11.098Z"
   },
   {
    "duration": 15,
    "start_time": "2021-10-25T20:38:11.107Z"
   },
   {
    "duration": 7,
    "start_time": "2021-10-25T20:38:11.123Z"
   },
   {
    "duration": 45,
    "start_time": "2021-10-25T20:38:11.132Z"
   },
   {
    "duration": 8,
    "start_time": "2021-10-25T20:38:11.179Z"
   },
   {
    "duration": 9,
    "start_time": "2021-10-25T20:38:11.189Z"
   },
   {
    "duration": 152,
    "start_time": "2021-10-25T20:38:11.200Z"
   },
   {
    "duration": 5,
    "start_time": "2021-10-25T20:38:11.353Z"
   },
   {
    "duration": 17,
    "start_time": "2021-10-25T20:38:11.359Z"
   },
   {
    "duration": 15,
    "start_time": "2021-10-25T20:38:11.378Z"
   },
   {
    "duration": 4,
    "start_time": "2021-10-25T20:38:11.394Z"
   },
   {
    "duration": 12,
    "start_time": "2021-10-25T20:38:11.400Z"
   },
   {
    "duration": 11,
    "start_time": "2021-10-25T20:38:11.418Z"
   },
   {
    "duration": 13,
    "start_time": "2021-10-25T20:38:11.432Z"
   },
   {
    "duration": 36,
    "start_time": "2021-10-25T20:38:11.446Z"
   },
   {
    "duration": 7,
    "start_time": "2021-10-25T20:38:11.484Z"
   },
   {
    "duration": 5,
    "start_time": "2021-10-25T20:38:11.493Z"
   },
   {
    "duration": 13,
    "start_time": "2021-10-25T20:38:11.499Z"
   },
   {
    "duration": 13,
    "start_time": "2021-10-25T20:38:11.514Z"
   },
   {
    "duration": 9,
    "start_time": "2021-10-25T20:38:11.529Z"
   },
   {
    "duration": 3,
    "start_time": "2021-10-25T20:38:11.540Z"
   },
   {
    "duration": 4,
    "start_time": "2021-10-25T20:38:11.576Z"
   },
   {
    "duration": 10,
    "start_time": "2021-10-25T20:38:11.582Z"
   },
   {
    "duration": 5,
    "start_time": "2021-10-25T20:38:11.593Z"
   },
   {
    "duration": 11,
    "start_time": "2021-10-25T20:38:11.599Z"
   },
   {
    "duration": 4,
    "start_time": "2021-10-25T20:38:11.611Z"
   },
   {
    "duration": 13,
    "start_time": "2021-10-25T20:38:11.617Z"
   },
   {
    "duration": 2445,
    "start_time": "2021-10-25T20:38:11.631Z"
   },
   {
    "duration": 12,
    "start_time": "2021-10-25T20:38:14.078Z"
   },
   {
    "duration": 11,
    "start_time": "2021-10-25T20:38:14.092Z"
   },
   {
    "duration": 4316,
    "start_time": "2021-10-25T20:38:14.105Z"
   },
   {
    "duration": 7,
    "start_time": "2021-10-25T20:38:18.423Z"
   },
   {
    "duration": 7,
    "start_time": "2021-10-25T20:38:18.431Z"
   },
   {
    "duration": 16,
    "start_time": "2021-10-25T20:38:18.439Z"
   },
   {
    "duration": 3,
    "start_time": "2021-10-25T20:38:18.477Z"
   },
   {
    "duration": 10,
    "start_time": "2021-10-25T20:38:18.483Z"
   },
   {
    "duration": 1141,
    "start_time": "2021-10-25T20:38:18.495Z"
   },
   {
    "duration": 11,
    "start_time": "2021-10-25T20:38:19.638Z"
   },
   {
    "duration": 2328,
    "start_time": "2021-10-25T20:38:19.651Z"
   },
   {
    "duration": 7,
    "start_time": "2021-10-25T20:38:21.981Z"
   },
   {
    "duration": 15,
    "start_time": "2021-10-25T20:38:21.990Z"
   },
   {
    "duration": 16,
    "start_time": "2021-10-25T20:38:22.007Z"
   },
   {
    "duration": 9,
    "start_time": "2021-10-25T20:38:22.025Z"
   },
   {
    "duration": 13,
    "start_time": "2021-10-25T20:38:22.036Z"
   },
   {
    "duration": 16,
    "start_time": "2021-10-25T20:38:22.051Z"
   },
   {
    "duration": 8,
    "start_time": "2021-10-25T20:38:22.077Z"
   },
   {
    "duration": 8,
    "start_time": "2021-10-25T20:38:22.087Z"
   },
   {
    "duration": 25,
    "start_time": "2021-10-25T20:38:22.097Z"
   },
   {
    "duration": 6,
    "start_time": "2021-10-25T20:38:22.124Z"
   },
   {
    "duration": 22,
    "start_time": "2021-10-25T20:38:22.131Z"
   },
   {
    "duration": 6,
    "start_time": "2021-10-25T20:38:22.155Z"
   },
   {
    "duration": 25,
    "start_time": "2021-10-25T20:38:22.162Z"
   },
   {
    "duration": 13,
    "start_time": "2021-10-25T20:38:22.189Z"
   },
   {
    "duration": 20,
    "start_time": "2021-10-25T20:38:22.204Z"
   },
   {
    "duration": 7,
    "start_time": "2021-10-25T20:38:22.225Z"
   },
   {
    "duration": 450,
    "start_time": "2021-10-25T20:38:22.234Z"
   },
   {
    "duration": 3,
    "start_time": "2021-10-25T20:38:22.777Z"
   },
   {
    "duration": 2759,
    "start_time": "2021-10-25T20:38:22.782Z"
   },
   {
    "duration": 4,
    "start_time": "2021-10-25T20:38:25.543Z"
   },
   {
    "duration": 8,
    "start_time": "2021-10-25T20:38:25.548Z"
   },
   {
    "duration": 9224,
    "start_time": "2021-10-25T20:38:25.557Z"
   },
   {
    "duration": 3,
    "start_time": "2021-10-25T20:38:34.783Z"
   },
   {
    "duration": 1254,
    "start_time": "2021-10-25T20:42:09.876Z"
   },
   {
    "duration": 218,
    "start_time": "2021-10-25T20:42:11.132Z"
   },
   {
    "duration": 8,
    "start_time": "2021-10-25T20:42:11.352Z"
   },
   {
    "duration": 15,
    "start_time": "2021-10-25T20:42:11.362Z"
   },
   {
    "duration": 8,
    "start_time": "2021-10-25T20:42:11.380Z"
   },
   {
    "duration": 21,
    "start_time": "2021-10-25T20:42:11.390Z"
   },
   {
    "duration": 16,
    "start_time": "2021-10-25T20:42:11.413Z"
   },
   {
    "duration": 5,
    "start_time": "2021-10-25T20:42:11.432Z"
   },
   {
    "duration": 53,
    "start_time": "2021-10-25T20:42:11.439Z"
   },
   {
    "duration": 8,
    "start_time": "2021-10-25T20:42:11.494Z"
   },
   {
    "duration": 161,
    "start_time": "2021-10-25T20:42:11.505Z"
   },
   {
    "duration": 151,
    "start_time": "2021-10-25T20:42:11.668Z"
   },
   {
    "duration": 9,
    "start_time": "2021-10-25T20:42:11.821Z"
   },
   {
    "duration": 11,
    "start_time": "2021-10-25T20:42:11.832Z"
   },
   {
    "duration": 6,
    "start_time": "2021-10-25T20:42:11.845Z"
   },
   {
    "duration": 24,
    "start_time": "2021-10-25T20:42:11.853Z"
   },
   {
    "duration": 4,
    "start_time": "2021-10-25T20:42:11.879Z"
   },
   {
    "duration": 7,
    "start_time": "2021-10-25T20:42:11.885Z"
   },
   {
    "duration": 4,
    "start_time": "2021-10-25T20:42:11.894Z"
   },
   {
    "duration": 9,
    "start_time": "2021-10-25T20:42:11.900Z"
   },
   {
    "duration": 6,
    "start_time": "2021-10-25T20:42:11.911Z"
   },
   {
    "duration": 10,
    "start_time": "2021-10-25T20:42:11.919Z"
   },
   {
    "duration": 7,
    "start_time": "2021-10-25T20:42:11.933Z"
   },
   {
    "duration": 14,
    "start_time": "2021-10-25T20:42:11.978Z"
   },
   {
    "duration": 51,
    "start_time": "2021-10-25T20:42:11.994Z"
   },
   {
    "duration": 9,
    "start_time": "2021-10-25T20:42:12.047Z"
   },
   {
    "duration": 464,
    "start_time": "2021-10-25T20:42:12.077Z"
   },
   {
    "duration": 9,
    "start_time": "2021-10-25T20:42:12.544Z"
   },
   {
    "duration": 33,
    "start_time": "2021-10-25T20:42:12.556Z"
   },
   {
    "duration": 15,
    "start_time": "2021-10-25T20:42:12.591Z"
   },
   {
    "duration": 14,
    "start_time": "2021-10-25T20:42:12.608Z"
   },
   {
    "duration": 8,
    "start_time": "2021-10-25T20:42:12.625Z"
   },
   {
    "duration": 80,
    "start_time": "2021-10-25T20:42:12.635Z"
   },
   {
    "duration": 10,
    "start_time": "2021-10-25T20:42:12.717Z"
   },
   {
    "duration": 7,
    "start_time": "2021-10-25T20:42:12.729Z"
   },
   {
    "duration": 8,
    "start_time": "2021-10-25T20:42:12.738Z"
   },
   {
    "duration": 41,
    "start_time": "2021-10-25T20:42:12.748Z"
   },
   {
    "duration": 4,
    "start_time": "2021-10-25T20:42:12.791Z"
   },
   {
    "duration": 4,
    "start_time": "2021-10-25T20:42:12.797Z"
   },
   {
    "duration": 7,
    "start_time": "2021-10-25T20:42:12.802Z"
   },
   {
    "duration": 167,
    "start_time": "2021-10-25T20:42:12.811Z"
   },
   {
    "duration": 7,
    "start_time": "2021-10-25T20:42:12.980Z"
   },
   {
    "duration": 10,
    "start_time": "2021-10-25T20:42:12.989Z"
   },
   {
    "duration": 38,
    "start_time": "2021-10-25T20:42:13.001Z"
   },
   {
    "duration": 36,
    "start_time": "2021-10-25T20:42:13.041Z"
   },
   {
    "duration": 431,
    "start_time": "2021-10-25T20:42:13.079Z"
   },
   {
    "duration": 7,
    "start_time": "2021-10-25T20:42:13.512Z"
   },
   {
    "duration": 14,
    "start_time": "2021-10-25T20:42:13.521Z"
   },
   {
    "duration": 12,
    "start_time": "2021-10-25T20:42:13.536Z"
   },
   {
    "duration": 33,
    "start_time": "2021-10-25T20:42:13.550Z"
   },
   {
    "duration": 7,
    "start_time": "2021-10-25T20:42:13.585Z"
   },
   {
    "duration": 32,
    "start_time": "2021-10-25T20:42:13.593Z"
   },
   {
    "duration": 9,
    "start_time": "2021-10-25T20:42:13.626Z"
   },
   {
    "duration": 6,
    "start_time": "2021-10-25T20:42:13.636Z"
   },
   {
    "duration": 38,
    "start_time": "2021-10-25T20:42:13.644Z"
   },
   {
    "duration": 9,
    "start_time": "2021-10-25T20:42:13.684Z"
   },
   {
    "duration": 16,
    "start_time": "2021-10-25T20:42:13.695Z"
   },
   {
    "duration": 8,
    "start_time": "2021-10-25T20:42:13.713Z"
   },
   {
    "duration": 6,
    "start_time": "2021-10-25T20:42:13.723Z"
   },
   {
    "duration": 9,
    "start_time": "2021-10-25T20:42:13.730Z"
   },
   {
    "duration": 40,
    "start_time": "2021-10-25T20:42:13.741Z"
   },
   {
    "duration": 153,
    "start_time": "2021-10-25T20:42:13.782Z"
   },
   {
    "duration": 6,
    "start_time": "2021-10-25T20:42:13.937Z"
   },
   {
    "duration": 6,
    "start_time": "2021-10-25T20:42:13.945Z"
   },
   {
    "duration": 33,
    "start_time": "2021-10-25T20:42:13.954Z"
   },
   {
    "duration": 5,
    "start_time": "2021-10-25T20:42:13.989Z"
   },
   {
    "duration": 11,
    "start_time": "2021-10-25T20:42:13.996Z"
   },
   {
    "duration": 22,
    "start_time": "2021-10-25T20:42:14.015Z"
   },
   {
    "duration": 42,
    "start_time": "2021-10-25T20:42:14.040Z"
   },
   {
    "duration": 7,
    "start_time": "2021-10-25T20:42:14.084Z"
   },
   {
    "duration": 5,
    "start_time": "2021-10-25T20:42:14.093Z"
   },
   {
    "duration": 9,
    "start_time": "2021-10-25T20:42:14.099Z"
   },
   {
    "duration": 14,
    "start_time": "2021-10-25T20:42:14.109Z"
   },
   {
    "duration": 14,
    "start_time": "2021-10-25T20:42:14.125Z"
   },
   {
    "duration": 41,
    "start_time": "2021-10-25T20:42:14.141Z"
   },
   {
    "duration": 2,
    "start_time": "2021-10-25T20:42:14.184Z"
   },
   {
    "duration": 7,
    "start_time": "2021-10-25T20:42:14.188Z"
   },
   {
    "duration": 10,
    "start_time": "2021-10-25T20:42:14.196Z"
   },
   {
    "duration": 4,
    "start_time": "2021-10-25T20:42:14.208Z"
   },
   {
    "duration": 9,
    "start_time": "2021-10-25T20:42:14.213Z"
   },
   {
    "duration": 3,
    "start_time": "2021-10-25T20:42:14.224Z"
   },
   {
    "duration": 10,
    "start_time": "2021-10-25T20:42:14.228Z"
   },
   {
    "duration": 2237,
    "start_time": "2021-10-25T20:42:14.239Z"
   },
   {
    "duration": 9,
    "start_time": "2021-10-25T20:42:16.478Z"
   },
   {
    "duration": 7,
    "start_time": "2021-10-25T20:42:16.489Z"
   },
   {
    "duration": 4460,
    "start_time": "2021-10-25T20:42:16.497Z"
   },
   {
    "duration": 6,
    "start_time": "2021-10-25T20:42:20.959Z"
   },
   {
    "duration": 4,
    "start_time": "2021-10-25T20:42:20.978Z"
   },
   {
    "duration": 25,
    "start_time": "2021-10-25T20:42:20.984Z"
   },
   {
    "duration": 3,
    "start_time": "2021-10-25T20:42:21.012Z"
   },
   {
    "duration": 15,
    "start_time": "2021-10-25T20:42:21.017Z"
   },
   {
    "duration": 1701,
    "start_time": "2021-10-25T20:42:21.035Z"
   },
   {
    "duration": 12,
    "start_time": "2021-10-25T20:42:22.739Z"
   },
   {
    "duration": 4881,
    "start_time": "2021-10-25T20:42:22.754Z"
   },
   {
    "duration": 6,
    "start_time": "2021-10-25T20:42:27.637Z"
   },
   {
    "duration": 4,
    "start_time": "2021-10-25T20:42:27.645Z"
   },
   {
    "duration": 32,
    "start_time": "2021-10-25T20:42:27.651Z"
   },
   {
    "duration": 3,
    "start_time": "2021-10-25T20:42:27.685Z"
   },
   {
    "duration": 14,
    "start_time": "2021-10-25T20:42:27.690Z"
   },
   {
    "duration": 7,
    "start_time": "2021-10-25T20:42:27.706Z"
   },
   {
    "duration": 3,
    "start_time": "2021-10-25T20:42:27.715Z"
   },
   {
    "duration": 11,
    "start_time": "2021-10-25T20:42:27.720Z"
   },
   {
    "duration": 51,
    "start_time": "2021-10-25T20:42:27.733Z"
   },
   {
    "duration": 6,
    "start_time": "2021-10-25T20:42:27.786Z"
   },
   {
    "duration": 11,
    "start_time": "2021-10-25T20:42:27.794Z"
   },
   {
    "duration": 4,
    "start_time": "2021-10-25T20:42:27.807Z"
   },
   {
    "duration": 13,
    "start_time": "2021-10-25T20:42:27.813Z"
   },
   {
    "duration": 5,
    "start_time": "2021-10-25T20:42:27.828Z"
   },
   {
    "duration": 7,
    "start_time": "2021-10-25T20:42:27.834Z"
   },
   {
    "duration": 35,
    "start_time": "2021-10-25T20:42:27.842Z"
   },
   {
    "duration": 502,
    "start_time": "2021-10-25T20:42:27.880Z"
   },
   {
    "duration": 3,
    "start_time": "2021-10-25T20:42:28.476Z"
   },
   {
    "duration": 4874,
    "start_time": "2021-10-25T20:42:28.482Z"
   },
   {
    "duration": 5,
    "start_time": "2021-10-25T20:42:33.358Z"
   },
   {
    "duration": 13,
    "start_time": "2021-10-25T20:42:33.365Z"
   },
   {
    "duration": 55503,
    "start_time": "2021-10-25T20:42:33.380Z"
   },
   {
    "duration": 5,
    "start_time": "2021-10-25T20:43:28.885Z"
   },
   {
    "duration": 3,
    "start_time": "2021-10-25T20:46:10.071Z"
   },
   {
    "duration": 68545,
    "start_time": "2021-10-25T20:46:14.538Z"
   },
   {
    "duration": 4,
    "start_time": "2021-10-25T20:47:36.863Z"
   },
   {
    "duration": 3,
    "start_time": "2021-10-25T20:47:45.389Z"
   },
   {
    "duration": 8585,
    "start_time": "2021-10-25T20:47:46.899Z"
   },
   {
    "duration": 3,
    "start_time": "2021-10-25T20:48:20.532Z"
   },
   {
    "duration": 9091,
    "start_time": "2021-10-25T20:48:21.892Z"
   },
   {
    "duration": 4,
    "start_time": "2021-10-25T20:48:51.191Z"
   },
   {
    "duration": 2,
    "start_time": "2021-10-25T20:53:46.429Z"
   },
   {
    "duration": 57693,
    "start_time": "2021-10-25T20:53:49.190Z"
   },
   {
    "duration": 5,
    "start_time": "2021-10-25T20:54:55.125Z"
   },
   {
    "duration": 3,
    "start_time": "2021-10-25T20:55:42.327Z"
   },
   {
    "duration": 5909,
    "start_time": "2021-10-25T20:55:43.975Z"
   },
   {
    "duration": 4,
    "start_time": "2021-10-25T20:56:37.208Z"
   },
   {
    "duration": 3,
    "start_time": "2021-10-25T20:56:49.408Z"
   },
   {
    "duration": 7000,
    "start_time": "2021-10-25T20:56:51.778Z"
   },
   {
    "duration": 4,
    "start_time": "2021-10-25T20:57:32.722Z"
   },
   {
    "duration": 2197,
    "start_time": "2021-10-25T20:59:49.078Z"
   },
   {
    "duration": 1926,
    "start_time": "2021-10-25T21:00:17.361Z"
   },
   {
    "duration": 4,
    "start_time": "2021-10-25T21:00:27.281Z"
   },
   {
    "duration": 638,
    "start_time": "2021-10-25T21:01:57.242Z"
   },
   {
    "duration": 4,
    "start_time": "2021-10-25T21:02:06.633Z"
   },
   {
    "duration": 1266,
    "start_time": "2021-10-25T22:34:08.058Z"
   },
   {
    "duration": 236,
    "start_time": "2021-10-25T22:34:09.326Z"
   },
   {
    "duration": 8,
    "start_time": "2021-10-25T22:34:09.565Z"
   },
   {
    "duration": 12,
    "start_time": "2021-10-25T22:34:09.575Z"
   },
   {
    "duration": 10,
    "start_time": "2021-10-25T22:34:09.589Z"
   },
   {
    "duration": 24,
    "start_time": "2021-10-25T22:34:09.601Z"
   },
   {
    "duration": 15,
    "start_time": "2021-10-25T22:34:09.626Z"
   },
   {
    "duration": 7,
    "start_time": "2021-10-25T22:34:09.643Z"
   },
   {
    "duration": 32,
    "start_time": "2021-10-25T22:34:09.652Z"
   },
   {
    "duration": 14,
    "start_time": "2021-10-25T22:34:09.685Z"
   },
   {
    "duration": 156,
    "start_time": "2021-10-25T22:34:09.701Z"
   },
   {
    "duration": 153,
    "start_time": "2021-10-25T22:34:09.859Z"
   },
   {
    "duration": 10,
    "start_time": "2021-10-25T22:34:10.014Z"
   },
   {
    "duration": 23,
    "start_time": "2021-10-25T22:34:10.025Z"
   },
   {
    "duration": 15,
    "start_time": "2021-10-25T22:34:10.049Z"
   },
   {
    "duration": 6,
    "start_time": "2021-10-25T22:34:10.066Z"
   },
   {
    "duration": 4,
    "start_time": "2021-10-25T22:34:10.076Z"
   },
   {
    "duration": 12,
    "start_time": "2021-10-25T22:34:10.082Z"
   },
   {
    "duration": 14,
    "start_time": "2021-10-25T22:34:10.095Z"
   },
   {
    "duration": 11,
    "start_time": "2021-10-25T22:34:10.111Z"
   },
   {
    "duration": 13,
    "start_time": "2021-10-25T22:34:10.124Z"
   },
   {
    "duration": 14,
    "start_time": "2021-10-25T22:34:10.139Z"
   },
   {
    "duration": 25,
    "start_time": "2021-10-25T22:34:10.157Z"
   },
   {
    "duration": 14,
    "start_time": "2021-10-25T22:34:10.186Z"
   },
   {
    "duration": 68,
    "start_time": "2021-10-25T22:34:10.201Z"
   },
   {
    "duration": 8,
    "start_time": "2021-10-25T22:34:10.271Z"
   },
   {
    "duration": 457,
    "start_time": "2021-10-25T22:34:10.280Z"
   },
   {
    "duration": 8,
    "start_time": "2021-10-25T22:34:10.738Z"
   },
   {
    "duration": 13,
    "start_time": "2021-10-25T22:34:10.748Z"
   },
   {
    "duration": 13,
    "start_time": "2021-10-25T22:34:10.777Z"
   },
   {
    "duration": 12,
    "start_time": "2021-10-25T22:34:10.792Z"
   },
   {
    "duration": 7,
    "start_time": "2021-10-25T22:34:10.806Z"
   },
   {
    "duration": 68,
    "start_time": "2021-10-25T22:34:10.815Z"
   },
   {
    "duration": 7,
    "start_time": "2021-10-25T22:34:10.885Z"
   },
   {
    "duration": 6,
    "start_time": "2021-10-25T22:34:10.893Z"
   },
   {
    "duration": 11,
    "start_time": "2021-10-25T22:34:10.900Z"
   },
   {
    "duration": 17,
    "start_time": "2021-10-25T22:34:10.913Z"
   },
   {
    "duration": 6,
    "start_time": "2021-10-25T22:34:10.932Z"
   },
   {
    "duration": 5,
    "start_time": "2021-10-25T22:34:10.939Z"
   },
   {
    "duration": 36,
    "start_time": "2021-10-25T22:34:10.945Z"
   },
   {
    "duration": 155,
    "start_time": "2021-10-25T22:34:10.983Z"
   },
   {
    "duration": 7,
    "start_time": "2021-10-25T22:34:11.140Z"
   },
   {
    "duration": 29,
    "start_time": "2021-10-25T22:34:11.149Z"
   },
   {
    "duration": 36,
    "start_time": "2021-10-25T22:34:11.180Z"
   },
   {
    "duration": 6,
    "start_time": "2021-10-25T22:34:11.218Z"
   },
   {
    "duration": 443,
    "start_time": "2021-10-25T22:34:11.226Z"
   },
   {
    "duration": 9,
    "start_time": "2021-10-25T22:34:11.671Z"
   },
   {
    "duration": 12,
    "start_time": "2021-10-25T22:34:11.682Z"
   },
   {
    "duration": 12,
    "start_time": "2021-10-25T22:34:11.696Z"
   },
   {
    "duration": 8,
    "start_time": "2021-10-25T22:34:11.710Z"
   },
   {
    "duration": 7,
    "start_time": "2021-10-25T22:34:11.720Z"
   },
   {
    "duration": 60,
    "start_time": "2021-10-25T22:34:11.728Z"
   },
   {
    "duration": 8,
    "start_time": "2021-10-25T22:34:11.790Z"
   },
   {
    "duration": 5,
    "start_time": "2021-10-25T22:34:11.800Z"
   },
   {
    "duration": 6,
    "start_time": "2021-10-25T22:34:11.807Z"
   },
   {
    "duration": 6,
    "start_time": "2021-10-25T22:34:11.815Z"
   },
   {
    "duration": 16,
    "start_time": "2021-10-25T22:34:11.823Z"
   },
   {
    "duration": 40,
    "start_time": "2021-10-25T22:34:11.841Z"
   },
   {
    "duration": 5,
    "start_time": "2021-10-25T22:34:11.883Z"
   },
   {
    "duration": 8,
    "start_time": "2021-10-25T22:34:11.890Z"
   },
   {
    "duration": 5,
    "start_time": "2021-10-25T22:34:11.900Z"
   },
   {
    "duration": 163,
    "start_time": "2021-10-25T22:34:11.907Z"
   },
   {
    "duration": 6,
    "start_time": "2021-10-25T22:34:12.072Z"
   },
   {
    "duration": 6,
    "start_time": "2021-10-25T22:34:12.080Z"
   },
   {
    "duration": 15,
    "start_time": "2021-10-25T22:34:12.087Z"
   },
   {
    "duration": 5,
    "start_time": "2021-10-25T22:34:12.104Z"
   },
   {
    "duration": 15,
    "start_time": "2021-10-25T22:34:12.110Z"
   },
   {
    "duration": 12,
    "start_time": "2021-10-25T22:34:12.131Z"
   },
   {
    "duration": 42,
    "start_time": "2021-10-25T22:34:12.146Z"
   },
   {
    "duration": 8,
    "start_time": "2021-10-25T22:34:12.190Z"
   },
   {
    "duration": 11,
    "start_time": "2021-10-25T22:34:12.199Z"
   },
   {
    "duration": 11,
    "start_time": "2021-10-25T22:34:12.212Z"
   },
   {
    "duration": 13,
    "start_time": "2021-10-25T22:34:12.224Z"
   },
   {
    "duration": 39,
    "start_time": "2021-10-25T22:34:12.239Z"
   },
   {
    "duration": 9,
    "start_time": "2021-10-25T22:34:12.280Z"
   },
   {
    "duration": 3,
    "start_time": "2021-10-25T22:34:12.291Z"
   },
   {
    "duration": 12,
    "start_time": "2021-10-25T22:34:12.296Z"
   },
   {
    "duration": 10,
    "start_time": "2021-10-25T22:34:12.310Z"
   },
   {
    "duration": 5,
    "start_time": "2021-10-25T22:34:12.321Z"
   },
   {
    "duration": 11,
    "start_time": "2021-10-25T22:34:12.327Z"
   },
   {
    "duration": 7,
    "start_time": "2021-10-25T22:34:12.339Z"
   },
   {
    "duration": 33,
    "start_time": "2021-10-25T22:34:12.348Z"
   },
   {
    "duration": 2162,
    "start_time": "2021-10-25T22:34:12.383Z"
   },
   {
    "duration": 9,
    "start_time": "2021-10-25T22:34:14.547Z"
   },
   {
    "duration": 4,
    "start_time": "2021-10-25T22:34:14.558Z"
   },
   {
    "duration": 4242,
    "start_time": "2021-10-25T22:34:14.563Z"
   },
   {
    "duration": 6,
    "start_time": "2021-10-25T22:34:18.806Z"
   },
   {
    "duration": 10,
    "start_time": "2021-10-25T22:34:18.814Z"
   },
   {
    "duration": 17,
    "start_time": "2021-10-25T22:34:18.826Z"
   },
   {
    "duration": 5,
    "start_time": "2021-10-25T22:34:18.845Z"
   },
   {
    "duration": 26,
    "start_time": "2021-10-25T22:34:18.851Z"
   },
   {
    "duration": 918,
    "start_time": "2021-10-25T22:34:18.879Z"
   },
   {
    "duration": 9,
    "start_time": "2021-10-25T22:34:19.798Z"
   },
   {
    "duration": 2283,
    "start_time": "2021-10-25T22:34:19.809Z"
   },
   {
    "duration": 6,
    "start_time": "2021-10-25T22:34:22.093Z"
   },
   {
    "duration": 4,
    "start_time": "2021-10-25T22:34:22.100Z"
   },
   {
    "duration": 12,
    "start_time": "2021-10-25T22:34:22.105Z"
   },
   {
    "duration": 3,
    "start_time": "2021-10-25T22:34:22.119Z"
   },
   {
    "duration": 10,
    "start_time": "2021-10-25T22:34:22.124Z"
   },
   {
    "duration": 5,
    "start_time": "2021-10-25T22:34:22.135Z"
   },
   {
    "duration": 35,
    "start_time": "2021-10-25T22:34:22.142Z"
   },
   {
    "duration": 4,
    "start_time": "2021-10-25T22:34:22.179Z"
   },
   {
    "duration": 19,
    "start_time": "2021-10-25T22:34:22.185Z"
   },
   {
    "duration": 6,
    "start_time": "2021-10-25T22:34:22.206Z"
   },
   {
    "duration": 13,
    "start_time": "2021-10-25T22:34:22.213Z"
   },
   {
    "duration": 4,
    "start_time": "2021-10-25T22:34:22.228Z"
   },
   {
    "duration": 9,
    "start_time": "2021-10-25T22:34:22.234Z"
   },
   {
    "duration": 5,
    "start_time": "2021-10-25T22:34:22.277Z"
   },
   {
    "duration": 7,
    "start_time": "2021-10-25T22:34:22.284Z"
   },
   {
    "duration": 5,
    "start_time": "2021-10-25T22:34:22.292Z"
   },
   {
    "duration": 282,
    "start_time": "2021-10-25T22:34:22.298Z"
   },
   {
    "duration": 3,
    "start_time": "2021-10-25T22:34:22.582Z"
   },
   {
    "duration": 3216,
    "start_time": "2021-10-25T22:34:22.678Z"
   },
   {
    "duration": 5,
    "start_time": "2021-10-25T22:34:25.896Z"
   },
   {
    "duration": 5,
    "start_time": "2021-10-25T22:34:25.902Z"
   },
   {
    "duration": 9875,
    "start_time": "2021-10-25T22:34:25.908Z"
   },
   {
    "duration": 4,
    "start_time": "2021-10-25T22:34:35.784Z"
   },
   {
    "duration": 540,
    "start_time": "2021-10-25T22:34:35.790Z"
   },
   {
    "duration": 10723,
    "start_time": "2021-10-25T22:34:25.609Z"
   },
   {
    "duration": 2040,
    "start_time": "2021-10-25T22:36:58.949Z"
   },
   {
    "duration": 6,
    "start_time": "2021-10-25T22:37:35.390Z"
   },
   {
    "duration": 1221,
    "start_time": "2021-10-25T23:15:50.404Z"
   },
   {
    "duration": 202,
    "start_time": "2021-10-25T23:15:51.627Z"
   },
   {
    "duration": 8,
    "start_time": "2021-10-25T23:15:51.831Z"
   },
   {
    "duration": 12,
    "start_time": "2021-10-25T23:15:51.840Z"
   },
   {
    "duration": 11,
    "start_time": "2021-10-25T23:15:51.853Z"
   },
   {
    "duration": 19,
    "start_time": "2021-10-25T23:15:51.866Z"
   },
   {
    "duration": 14,
    "start_time": "2021-10-25T23:15:51.887Z"
   },
   {
    "duration": 4,
    "start_time": "2021-10-25T23:15:51.903Z"
   },
   {
    "duration": 14,
    "start_time": "2021-10-25T23:15:51.909Z"
   },
   {
    "duration": 6,
    "start_time": "2021-10-25T23:15:51.925Z"
   },
   {
    "duration": 169,
    "start_time": "2021-10-25T23:15:51.932Z"
   },
   {
    "duration": 152,
    "start_time": "2021-10-25T23:15:52.102Z"
   },
   {
    "duration": 21,
    "start_time": "2021-10-25T23:15:52.255Z"
   },
   {
    "duration": 10,
    "start_time": "2021-10-25T23:15:52.278Z"
   },
   {
    "duration": 11,
    "start_time": "2021-10-25T23:15:52.289Z"
   },
   {
    "duration": 7,
    "start_time": "2021-10-25T23:15:52.302Z"
   },
   {
    "duration": 6,
    "start_time": "2021-10-25T23:15:52.311Z"
   },
   {
    "duration": 11,
    "start_time": "2021-10-25T23:15:52.319Z"
   },
   {
    "duration": 6,
    "start_time": "2021-10-25T23:15:52.332Z"
   },
   {
    "duration": 6,
    "start_time": "2021-10-25T23:15:52.340Z"
   },
   {
    "duration": 31,
    "start_time": "2021-10-25T23:15:52.348Z"
   },
   {
    "duration": 11,
    "start_time": "2021-10-25T23:15:52.381Z"
   },
   {
    "duration": 9,
    "start_time": "2021-10-25T23:15:52.396Z"
   },
   {
    "duration": 16,
    "start_time": "2021-10-25T23:15:52.408Z"
   },
   {
    "duration": 82,
    "start_time": "2021-10-25T23:15:52.426Z"
   },
   {
    "duration": 9,
    "start_time": "2021-10-25T23:15:52.509Z"
   },
   {
    "duration": 474,
    "start_time": "2021-10-25T23:15:52.519Z"
   },
   {
    "duration": 9,
    "start_time": "2021-10-25T23:15:52.995Z"
   },
   {
    "duration": 17,
    "start_time": "2021-10-25T23:15:53.006Z"
   },
   {
    "duration": 14,
    "start_time": "2021-10-25T23:15:53.024Z"
   },
   {
    "duration": 37,
    "start_time": "2021-10-25T23:15:53.041Z"
   },
   {
    "duration": 7,
    "start_time": "2021-10-25T23:15:53.080Z"
   },
   {
    "duration": 42,
    "start_time": "2021-10-25T23:15:53.089Z"
   },
   {
    "duration": 7,
    "start_time": "2021-10-25T23:15:53.133Z"
   },
   {
    "duration": 6,
    "start_time": "2021-10-25T23:15:53.142Z"
   },
   {
    "duration": 7,
    "start_time": "2021-10-25T23:15:53.176Z"
   },
   {
    "duration": 16,
    "start_time": "2021-10-25T23:15:53.185Z"
   },
   {
    "duration": 6,
    "start_time": "2021-10-25T23:15:53.202Z"
   },
   {
    "duration": 9,
    "start_time": "2021-10-25T23:15:53.210Z"
   },
   {
    "duration": 10,
    "start_time": "2021-10-25T23:15:53.220Z"
   },
   {
    "duration": 175,
    "start_time": "2021-10-25T23:15:53.232Z"
   },
   {
    "duration": 7,
    "start_time": "2021-10-25T23:15:53.409Z"
   },
   {
    "duration": 10,
    "start_time": "2021-10-25T23:15:53.417Z"
   },
   {
    "duration": 49,
    "start_time": "2021-10-25T23:15:53.429Z"
   },
   {
    "duration": 6,
    "start_time": "2021-10-25T23:15:53.479Z"
   },
   {
    "duration": 431,
    "start_time": "2021-10-25T23:15:53.487Z"
   },
   {
    "duration": 7,
    "start_time": "2021-10-25T23:15:53.920Z"
   },
   {
    "duration": 12,
    "start_time": "2021-10-25T23:15:53.929Z"
   },
   {
    "duration": 35,
    "start_time": "2021-10-25T23:15:53.943Z"
   },
   {
    "duration": 9,
    "start_time": "2021-10-25T23:15:53.979Z"
   },
   {
    "duration": 8,
    "start_time": "2021-10-25T23:15:53.989Z"
   },
   {
    "duration": 25,
    "start_time": "2021-10-25T23:15:53.999Z"
   },
   {
    "duration": 8,
    "start_time": "2021-10-25T23:15:54.026Z"
   },
   {
    "duration": 7,
    "start_time": "2021-10-25T23:15:54.035Z"
   },
   {
    "duration": 35,
    "start_time": "2021-10-25T23:15:54.044Z"
   },
   {
    "duration": 7,
    "start_time": "2021-10-25T23:15:54.081Z"
   },
   {
    "duration": 17,
    "start_time": "2021-10-25T23:15:54.090Z"
   },
   {
    "duration": 6,
    "start_time": "2021-10-25T23:15:54.109Z"
   },
   {
    "duration": 4,
    "start_time": "2021-10-25T23:15:54.117Z"
   },
   {
    "duration": 12,
    "start_time": "2021-10-25T23:15:54.123Z"
   },
   {
    "duration": 6,
    "start_time": "2021-10-25T23:15:54.137Z"
   },
   {
    "duration": 173,
    "start_time": "2021-10-25T23:15:54.144Z"
   },
   {
    "duration": 5,
    "start_time": "2021-10-25T23:15:54.319Z"
   },
   {
    "duration": 7,
    "start_time": "2021-10-25T23:15:54.325Z"
   },
   {
    "duration": 12,
    "start_time": "2021-10-25T23:15:54.334Z"
   },
   {
    "duration": 4,
    "start_time": "2021-10-25T23:15:54.348Z"
   },
   {
    "duration": 27,
    "start_time": "2021-10-25T23:15:54.353Z"
   },
   {
    "duration": 11,
    "start_time": "2021-10-25T23:15:54.386Z"
   },
   {
    "duration": 13,
    "start_time": "2021-10-25T23:15:54.399Z"
   },
   {
    "duration": 6,
    "start_time": "2021-10-25T23:15:54.414Z"
   },
   {
    "duration": 4,
    "start_time": "2021-10-25T23:15:54.422Z"
   },
   {
    "duration": 7,
    "start_time": "2021-10-25T23:15:54.427Z"
   },
   {
    "duration": 47,
    "start_time": "2021-10-25T23:15:54.436Z"
   },
   {
    "duration": 15,
    "start_time": "2021-10-25T23:15:54.485Z"
   },
   {
    "duration": 18,
    "start_time": "2021-10-25T23:15:54.502Z"
   },
   {
    "duration": 7,
    "start_time": "2021-10-25T23:15:54.522Z"
   },
   {
    "duration": 17,
    "start_time": "2021-10-25T23:15:54.530Z"
   },
   {
    "duration": 20,
    "start_time": "2021-10-25T23:15:54.549Z"
   },
   {
    "duration": 10,
    "start_time": "2021-10-25T23:15:54.571Z"
   },
   {
    "duration": 14,
    "start_time": "2021-10-25T23:15:54.582Z"
   },
   {
    "duration": 11,
    "start_time": "2021-10-25T23:15:54.598Z"
   },
   {
    "duration": 25,
    "start_time": "2021-10-25T23:15:54.611Z"
   },
   {
    "duration": 2118,
    "start_time": "2021-10-25T23:15:54.637Z"
   },
   {
    "duration": 9,
    "start_time": "2021-10-25T23:15:56.757Z"
   },
   {
    "duration": 16,
    "start_time": "2021-10-25T23:15:56.776Z"
   },
   {
    "duration": 4093,
    "start_time": "2021-10-25T23:15:56.794Z"
   },
   {
    "duration": 5,
    "start_time": "2021-10-25T23:16:00.889Z"
   },
   {
    "duration": 8,
    "start_time": "2021-10-25T23:16:00.896Z"
   },
   {
    "duration": 18,
    "start_time": "2021-10-25T23:16:00.905Z"
   },
   {
    "duration": 4,
    "start_time": "2021-10-25T23:16:00.925Z"
   },
   {
    "duration": 16,
    "start_time": "2021-10-25T23:16:00.931Z"
   },
   {
    "duration": 1021,
    "start_time": "2021-10-25T23:16:00.948Z"
   },
   {
    "duration": 11,
    "start_time": "2021-10-25T23:16:01.970Z"
   },
   {
    "duration": 2924,
    "start_time": "2021-10-25T23:16:01.982Z"
   },
   {
    "duration": 7,
    "start_time": "2021-10-25T23:16:04.908Z"
   },
   {
    "duration": 60,
    "start_time": "2021-10-25T23:16:04.917Z"
   },
   {
    "duration": 18,
    "start_time": "2021-10-25T23:16:04.979Z"
   },
   {
    "duration": 4,
    "start_time": "2021-10-25T23:16:04.999Z"
   },
   {
    "duration": 14,
    "start_time": "2021-10-25T23:16:05.006Z"
   },
   {
    "duration": 62,
    "start_time": "2021-10-25T23:16:05.022Z"
   },
   {
    "duration": 4,
    "start_time": "2021-10-25T23:16:05.086Z"
   },
   {
    "duration": 7,
    "start_time": "2021-10-25T23:16:05.092Z"
   },
   {
    "duration": 18,
    "start_time": "2021-10-25T23:16:05.101Z"
   },
   {
    "duration": 59,
    "start_time": "2021-10-25T23:16:05.121Z"
   },
   {
    "duration": 12,
    "start_time": "2021-10-25T23:16:05.181Z"
   },
   {
    "duration": 4,
    "start_time": "2021-10-25T23:16:05.194Z"
   },
   {
    "duration": 10,
    "start_time": "2021-10-25T23:16:05.199Z"
   },
   {
    "duration": 3,
    "start_time": "2021-10-25T23:16:05.211Z"
   },
   {
    "duration": 8,
    "start_time": "2021-10-25T23:16:05.215Z"
   },
   {
    "duration": 53,
    "start_time": "2021-10-25T23:16:05.225Z"
   },
   {
    "duration": 203,
    "start_time": "2021-10-25T23:16:05.280Z"
   },
   {
    "duration": 91,
    "start_time": "2021-10-25T23:16:05.486Z"
   },
   {
    "duration": 3990,
    "start_time": "2021-10-25T23:16:05.579Z"
   },
   {
    "duration": 6,
    "start_time": "2021-10-25T23:16:09.571Z"
   },
   {
    "duration": 5,
    "start_time": "2021-10-25T23:16:09.578Z"
   },
   {
    "duration": 10093,
    "start_time": "2021-10-25T23:16:09.585Z"
   },
   {
    "duration": 4,
    "start_time": "2021-10-25T23:16:19.680Z"
   },
   {
    "duration": 2291,
    "start_time": "2021-10-25T23:16:19.685Z"
   },
   {
    "duration": 6,
    "start_time": "2021-10-25T23:16:21.978Z"
   },
   {
    "duration": 2162,
    "start_time": "2021-10-26T06:20:29.506Z"
   },
   {
    "duration": 250,
    "start_time": "2021-10-26T06:20:31.671Z"
   },
   {
    "duration": 25,
    "start_time": "2021-10-26T06:20:31.932Z"
   },
   {
    "duration": 18,
    "start_time": "2021-10-26T06:20:31.960Z"
   },
   {
    "duration": 11,
    "start_time": "2021-10-26T06:20:31.980Z"
   },
   {
    "duration": 69,
    "start_time": "2021-10-26T06:20:31.994Z"
   },
   {
    "duration": 46,
    "start_time": "2021-10-26T06:20:32.317Z"
   },
   {
    "duration": 7,
    "start_time": "2021-10-26T06:20:32.978Z"
   },
   {
    "duration": 20,
    "start_time": "2021-10-26T06:20:33.650Z"
   },
   {
    "duration": 9,
    "start_time": "2021-10-26T06:20:34.036Z"
   },
   {
    "duration": 284,
    "start_time": "2021-10-26T06:20:34.366Z"
   },
   {
    "duration": 304,
    "start_time": "2021-10-26T06:20:34.653Z"
   },
   {
    "duration": 14,
    "start_time": "2021-10-26T06:20:35.482Z"
   },
   {
    "duration": 17,
    "start_time": "2021-10-26T06:20:35.930Z"
   },
   {
    "duration": 10,
    "start_time": "2021-10-26T06:20:36.465Z"
   },
   {
    "duration": 7,
    "start_time": "2021-10-26T06:20:36.961Z"
   },
   {
    "duration": 11,
    "start_time": "2021-10-26T06:20:38.618Z"
   },
   {
    "duration": 10,
    "start_time": "2021-10-26T06:20:40.425Z"
   },
   {
    "duration": 9,
    "start_time": "2021-10-26T06:20:40.636Z"
   },
   {
    "duration": 13,
    "start_time": "2021-10-26T06:20:40.887Z"
   },
   {
    "duration": 30,
    "start_time": "2021-10-26T06:20:41.267Z"
   },
   {
    "duration": 15,
    "start_time": "2021-10-26T06:20:42.706Z"
   },
   {
    "duration": 22,
    "start_time": "2021-10-26T06:20:45.018Z"
   },
   {
    "duration": 38,
    "start_time": "2021-10-26T06:20:45.207Z"
   },
   {
    "duration": 150,
    "start_time": "2021-10-26T06:20:45.396Z"
   },
   {
    "duration": 17,
    "start_time": "2021-10-26T06:20:45.584Z"
   },
   {
    "duration": 849,
    "start_time": "2021-10-26T06:20:45.929Z"
   },
   {
    "duration": 11,
    "start_time": "2021-10-26T06:20:46.781Z"
   },
   {
    "duration": 56,
    "start_time": "2021-10-26T06:20:46.795Z"
   },
   {
    "duration": 18,
    "start_time": "2021-10-26T06:20:46.885Z"
   },
   {
    "duration": 25,
    "start_time": "2021-10-26T06:20:47.628Z"
   },
   {
    "duration": 14,
    "start_time": "2021-10-26T06:20:49.412Z"
   },
   {
    "duration": 85,
    "start_time": "2021-10-26T06:20:50.394Z"
   },
   {
    "duration": 10,
    "start_time": "2021-10-26T06:20:51.190Z"
   },
   {
    "duration": 8,
    "start_time": "2021-10-26T06:20:52.361Z"
   },
   {
    "duration": 9,
    "start_time": "2021-10-26T06:20:52.582Z"
   },
   {
    "duration": 23,
    "start_time": "2021-10-26T06:20:52.793Z"
   },
   {
    "duration": 8,
    "start_time": "2021-10-26T06:20:52.974Z"
   },
   {
    "duration": 6,
    "start_time": "2021-10-26T06:20:53.589Z"
   },
   {
    "duration": 8,
    "start_time": "2021-10-26T06:20:53.787Z"
   },
   {
    "duration": 252,
    "start_time": "2021-10-26T06:20:53.975Z"
   },
   {
    "duration": 11,
    "start_time": "2021-10-26T06:20:54.915Z"
   },
   {
    "duration": 19,
    "start_time": "2021-10-26T06:20:55.316Z"
   },
   {
    "duration": 64,
    "start_time": "2021-10-26T06:20:55.506Z"
   },
   {
    "duration": 9,
    "start_time": "2021-10-26T06:20:55.891Z"
   },
   {
    "duration": 749,
    "start_time": "2021-10-26T06:20:56.277Z"
   },
   {
    "duration": 17,
    "start_time": "2021-10-26T06:20:57.529Z"
   },
   {
    "duration": 28,
    "start_time": "2021-10-26T06:20:57.715Z"
   },
   {
    "duration": 28,
    "start_time": "2021-10-26T06:20:57.948Z"
   },
   {
    "duration": 20,
    "start_time": "2021-10-26T06:20:58.109Z"
   },
   {
    "duration": 12,
    "start_time": "2021-10-26T06:20:58.573Z"
   },
   {
    "duration": 46,
    "start_time": "2021-10-26T06:20:59.532Z"
   },
   {
    "duration": 14,
    "start_time": "2021-10-26T06:21:00.081Z"
   },
   {
    "duration": 9,
    "start_time": "2021-10-26T06:21:01.954Z"
   },
   {
    "duration": 16,
    "start_time": "2021-10-26T06:21:03.628Z"
   },
   {
    "duration": 14,
    "start_time": "2021-10-26T06:21:03.846Z"
   },
   {
    "duration": 25,
    "start_time": "2021-10-26T06:21:04.000Z"
   },
   {
    "duration": 11,
    "start_time": "2021-10-26T06:21:04.147Z"
   },
   {
    "duration": 7,
    "start_time": "2021-10-26T06:21:04.527Z"
   },
   {
    "duration": 16,
    "start_time": "2021-10-26T06:21:05.045Z"
   },
   {
    "duration": 12,
    "start_time": "2021-10-26T06:21:05.439Z"
   },
   {
    "duration": 262,
    "start_time": "2021-10-26T06:21:05.628Z"
   },
   {
    "duration": 7,
    "start_time": "2021-10-26T06:21:06.208Z"
   },
   {
    "duration": 6,
    "start_time": "2021-10-26T06:21:06.689Z"
   },
   {
    "duration": 19,
    "start_time": "2021-10-26T06:21:07.397Z"
   },
   {
    "duration": 7,
    "start_time": "2021-10-26T06:21:07.860Z"
   },
   {
    "duration": 17,
    "start_time": "2021-10-26T06:21:09.726Z"
   },
   {
    "duration": 24,
    "start_time": "2021-10-26T06:23:15.736Z"
   },
   {
    "duration": 21,
    "start_time": "2021-10-26T06:23:39.769Z"
   },
   {
    "duration": 12,
    "start_time": "2021-10-26T06:23:47.179Z"
   },
   {
    "duration": 7,
    "start_time": "2021-10-26T06:23:48.444Z"
   },
   {
    "duration": 9,
    "start_time": "2021-10-26T06:23:56.169Z"
   },
   {
    "duration": 13,
    "start_time": "2021-10-26T06:24:16.779Z"
   },
   {
    "duration": 20,
    "start_time": "2021-10-26T06:24:18.344Z"
   },
   {
    "duration": 14,
    "start_time": "2021-10-26T06:24:54.746Z"
   },
   {
    "duration": 3,
    "start_time": "2021-10-26T06:24:56.406Z"
   },
   {
    "duration": 5,
    "start_time": "2021-10-26T06:24:57.059Z"
   },
   {
    "duration": 9,
    "start_time": "2021-10-26T06:24:57.673Z"
   },
   {
    "duration": 5,
    "start_time": "2021-10-26T06:24:58.365Z"
   },
   {
    "duration": 12,
    "start_time": "2021-10-26T06:24:59.781Z"
   },
   {
    "duration": 3,
    "start_time": "2021-10-26T06:25:41.505Z"
   },
   {
    "duration": 15,
    "start_time": "2021-10-26T06:25:42.790Z"
   },
   {
    "duration": 4484,
    "start_time": "2021-10-26T06:25:43.570Z"
   },
   {
    "duration": 12,
    "start_time": "2021-10-26T06:25:48.057Z"
   },
   {
    "duration": 8,
    "start_time": "2021-10-26T06:25:48.072Z"
   },
   {
    "duration": 9487,
    "start_time": "2021-10-26T06:25:48.083Z"
   },
   {
    "duration": 10,
    "start_time": "2021-10-26T06:25:57.573Z"
   },
   {
    "duration": 10,
    "start_time": "2021-10-26T06:25:57.586Z"
   },
   {
    "duration": 58,
    "start_time": "2021-10-26T06:25:57.599Z"
   },
   {
    "duration": 4,
    "start_time": "2021-10-26T06:26:01.488Z"
   },
   {
    "duration": 15,
    "start_time": "2021-10-26T06:26:02.486Z"
   },
   {
    "duration": 2208,
    "start_time": "2021-10-26T06:26:02.865Z"
   },
   {
    "duration": 13,
    "start_time": "2021-10-26T06:26:05.075Z"
   },
   {
    "duration": 5991,
    "start_time": "2021-10-26T06:26:05.092Z"
   },
   {
    "duration": 8,
    "start_time": "2021-10-26T06:26:11.086Z"
   },
   {
    "duration": 33,
    "start_time": "2021-10-26T06:26:11.096Z"
   },
   {
    "duration": 35,
    "start_time": "2021-10-26T06:26:11.135Z"
   },
   {
    "duration": 5,
    "start_time": "2021-10-26T06:26:14.046Z"
   },
   {
    "duration": 18,
    "start_time": "2021-10-26T06:26:14.409Z"
   },
   {
    "duration": 12,
    "start_time": "2021-10-26T06:26:14.756Z"
   },
   {
    "duration": 16,
    "start_time": "2021-10-26T06:26:15.123Z"
   },
   {
    "duration": 6,
    "start_time": "2021-10-26T06:26:39.881Z"
   },
   {
    "duration": 19,
    "start_time": "2021-10-26T06:26:44.492Z"
   },
   {
    "duration": 7,
    "start_time": "2021-10-26T06:26:44.836Z"
   },
   {
    "duration": 15,
    "start_time": "2021-10-26T06:26:47.281Z"
   },
   {
    "duration": 6,
    "start_time": "2021-10-26T06:26:48.860Z"
   },
   {
    "duration": 13,
    "start_time": "2021-10-26T06:26:49.233Z"
   },
   {
    "duration": 5,
    "start_time": "2021-10-26T06:43:22.383Z"
   },
   {
    "duration": 9,
    "start_time": "2021-10-26T06:43:23.335Z"
   },
   {
    "duration": 5,
    "start_time": "2021-10-26T06:43:25.934Z"
   },
   {
    "duration": 385,
    "start_time": "2021-10-26T06:43:25.943Z"
   },
   {
    "duration": 4,
    "start_time": "2021-10-26T06:43:53.465Z"
   },
   {
    "duration": 4465,
    "start_time": "2021-10-26T06:43:55.389Z"
   },
   {
    "duration": 7,
    "start_time": "2021-10-26T06:43:59.857Z"
   },
   {
    "duration": 4,
    "start_time": "2021-10-26T06:44:08.166Z"
   },
   {
    "duration": 53273,
    "start_time": "2021-10-26T06:44:08.853Z"
   },
   {
    "duration": 6,
    "start_time": "2021-10-26T06:45:02.135Z"
   },
   {
    "duration": 38,
    "start_time": "2021-10-26T06:45:49.046Z"
   },
   {
    "duration": 1535,
    "start_time": "2021-10-27T13:43:47.642Z"
   },
   {
    "duration": 195,
    "start_time": "2021-10-27T13:43:49.179Z"
   },
   {
    "duration": 11,
    "start_time": "2021-10-27T13:43:49.377Z"
   },
   {
    "duration": 16,
    "start_time": "2021-10-27T13:43:49.391Z"
   },
   {
    "duration": 11,
    "start_time": "2021-10-27T13:43:49.409Z"
   },
   {
    "duration": 27,
    "start_time": "2021-10-27T13:43:49.429Z"
   },
   {
    "duration": 20,
    "start_time": "2021-10-27T13:43:49.458Z"
   },
   {
    "duration": 5,
    "start_time": "2021-10-27T13:43:49.482Z"
   },
   {
    "duration": 47,
    "start_time": "2021-10-27T13:43:49.490Z"
   },
   {
    "duration": 8,
    "start_time": "2021-10-27T13:43:49.539Z"
   },
   {
    "duration": 258,
    "start_time": "2021-10-27T13:43:49.550Z"
   },
   {
    "duration": 245,
    "start_time": "2021-10-27T13:43:49.811Z"
   },
   {
    "duration": 14,
    "start_time": "2021-10-27T13:43:50.058Z"
   },
   {
    "duration": 18,
    "start_time": "2021-10-27T13:43:50.074Z"
   },
   {
    "duration": 34,
    "start_time": "2021-10-27T13:43:50.095Z"
   },
   {
    "duration": 8,
    "start_time": "2021-10-27T13:43:50.131Z"
   },
   {
    "duration": 6,
    "start_time": "2021-10-27T13:43:50.141Z"
   },
   {
    "duration": 6,
    "start_time": "2021-10-27T13:43:50.149Z"
   },
   {
    "duration": 4,
    "start_time": "2021-10-27T13:43:50.158Z"
   },
   {
    "duration": 15,
    "start_time": "2021-10-27T13:43:50.164Z"
   },
   {
    "duration": 8,
    "start_time": "2021-10-27T13:43:50.181Z"
   },
   {
    "duration": 15,
    "start_time": "2021-10-27T13:43:50.229Z"
   },
   {
    "duration": 16,
    "start_time": "2021-10-27T13:43:50.252Z"
   },
   {
    "duration": 21,
    "start_time": "2021-10-27T13:43:50.272Z"
   },
   {
    "duration": 106,
    "start_time": "2021-10-27T13:43:50.296Z"
   },
   {
    "duration": 28,
    "start_time": "2021-10-27T13:43:50.404Z"
   },
   {
    "duration": 743,
    "start_time": "2021-10-27T13:43:50.434Z"
   },
   {
    "duration": 12,
    "start_time": "2021-10-27T13:43:51.179Z"
   },
   {
    "duration": 42,
    "start_time": "2021-10-27T13:43:51.194Z"
   },
   {
    "duration": 21,
    "start_time": "2021-10-27T13:43:51.240Z"
   },
   {
    "duration": 19,
    "start_time": "2021-10-27T13:43:51.263Z"
   },
   {
    "duration": 50,
    "start_time": "2021-10-27T13:43:51.284Z"
   },
   {
    "duration": 62,
    "start_time": "2021-10-27T13:43:51.337Z"
   },
   {
    "duration": 32,
    "start_time": "2021-10-27T13:43:51.402Z"
   },
   {
    "duration": 9,
    "start_time": "2021-10-27T13:43:51.437Z"
   },
   {
    "duration": 13,
    "start_time": "2021-10-27T13:43:51.449Z"
   },
   {
    "duration": 68,
    "start_time": "2021-10-27T13:43:51.464Z"
   },
   {
    "duration": 8,
    "start_time": "2021-10-27T13:43:51.534Z"
   },
   {
    "duration": 4,
    "start_time": "2021-10-27T13:43:51.545Z"
   },
   {
    "duration": 12,
    "start_time": "2021-10-27T13:43:51.552Z"
   },
   {
    "duration": 268,
    "start_time": "2021-10-27T13:43:51.567Z"
   },
   {
    "duration": 11,
    "start_time": "2021-10-27T13:43:51.837Z"
   },
   {
    "duration": 16,
    "start_time": "2021-10-27T13:43:51.850Z"
   },
   {
    "duration": 88,
    "start_time": "2021-10-27T13:43:51.869Z"
   },
   {
    "duration": 9,
    "start_time": "2021-10-27T13:43:51.959Z"
   },
   {
    "duration": 666,
    "start_time": "2021-10-27T13:43:51.971Z"
   },
   {
    "duration": 10,
    "start_time": "2021-10-27T13:43:52.640Z"
   },
   {
    "duration": 19,
    "start_time": "2021-10-27T13:43:52.652Z"
   },
   {
    "duration": 57,
    "start_time": "2021-10-27T13:43:52.674Z"
   },
   {
    "duration": 12,
    "start_time": "2021-10-27T13:43:52.734Z"
   },
   {
    "duration": 11,
    "start_time": "2021-10-27T13:43:52.749Z"
   },
   {
    "duration": 79,
    "start_time": "2021-10-27T13:43:52.763Z"
   },
   {
    "duration": 11,
    "start_time": "2021-10-27T13:43:52.845Z"
   },
   {
    "duration": 13,
    "start_time": "2021-10-27T13:43:52.858Z"
   },
   {
    "duration": 8,
    "start_time": "2021-10-27T13:43:52.874Z"
   },
   {
    "duration": 44,
    "start_time": "2021-10-27T13:43:52.885Z"
   },
   {
    "duration": 21,
    "start_time": "2021-10-27T13:43:52.932Z"
   },
   {
    "duration": 8,
    "start_time": "2021-10-27T13:43:52.955Z"
   },
   {
    "duration": 5,
    "start_time": "2021-10-27T13:43:52.966Z"
   },
   {
    "duration": 14,
    "start_time": "2021-10-27T13:43:52.973Z"
   },
   {
    "duration": 44,
    "start_time": "2021-10-27T13:43:52.989Z"
   },
   {
    "duration": 225,
    "start_time": "2021-10-27T13:43:53.035Z"
   },
   {
    "duration": 7,
    "start_time": "2021-10-27T13:43:53.262Z"
   },
   {
    "duration": 7,
    "start_time": "2021-10-27T13:43:53.272Z"
   },
   {
    "duration": 21,
    "start_time": "2021-10-27T13:43:53.281Z"
   },
   {
    "duration": 26,
    "start_time": "2021-10-27T13:43:53.305Z"
   },
   {
    "duration": 18,
    "start_time": "2021-10-27T13:43:53.333Z"
   },
   {
    "duration": 21,
    "start_time": "2021-10-27T13:43:53.361Z"
   },
   {
    "duration": 53,
    "start_time": "2021-10-27T13:43:53.387Z"
   },
   {
    "duration": 12,
    "start_time": "2021-10-27T13:43:53.442Z"
   },
   {
    "duration": 8,
    "start_time": "2021-10-27T13:43:53.456Z"
   },
   {
    "duration": 9,
    "start_time": "2021-10-27T13:43:53.467Z"
   },
   {
    "duration": 60,
    "start_time": "2021-10-27T13:43:53.478Z"
   },
   {
    "duration": 21,
    "start_time": "2021-10-27T13:43:53.541Z"
   },
   {
    "duration": 13,
    "start_time": "2021-10-27T13:43:53.564Z"
   },
   {
    "duration": 3,
    "start_time": "2021-10-27T13:43:53.579Z"
   },
   {
    "duration": 9,
    "start_time": "2021-10-27T13:43:53.584Z"
   },
   {
    "duration": 9,
    "start_time": "2021-10-27T13:43:53.628Z"
   },
   {
    "duration": 5,
    "start_time": "2021-10-27T13:43:53.640Z"
   },
   {
    "duration": 13,
    "start_time": "2021-10-27T13:43:53.647Z"
   },
   {
    "duration": 5,
    "start_time": "2021-10-27T13:43:53.662Z"
   },
   {
    "duration": 13,
    "start_time": "2021-10-27T13:43:53.669Z"
   },
   {
    "duration": 3736,
    "start_time": "2021-10-27T13:43:53.685Z"
   },
   {
    "duration": 12,
    "start_time": "2021-10-27T13:43:57.423Z"
   },
   {
    "duration": 6,
    "start_time": "2021-10-27T13:43:57.438Z"
   },
   {
    "duration": 9410,
    "start_time": "2021-10-27T13:43:57.446Z"
   },
   {
    "duration": 8,
    "start_time": "2021-10-27T13:44:06.858Z"
   },
   {
    "duration": 5,
    "start_time": "2021-10-27T13:44:06.868Z"
   },
   {
    "duration": 26,
    "start_time": "2021-10-27T13:44:06.875Z"
   },
   {
    "duration": 3,
    "start_time": "2021-10-27T13:44:06.929Z"
   },
   {
    "duration": 20,
    "start_time": "2021-10-27T13:44:06.934Z"
   },
   {
    "duration": 1640,
    "start_time": "2021-10-27T13:44:06.957Z"
   },
   {
    "duration": 12,
    "start_time": "2021-10-27T13:44:08.600Z"
   },
   {
    "duration": 4656,
    "start_time": "2021-10-27T13:44:08.615Z"
   },
   {
    "duration": 7,
    "start_time": "2021-10-27T13:44:13.273Z"
   },
   {
    "duration": 8,
    "start_time": "2021-10-27T13:44:13.282Z"
   },
   {
    "duration": 39,
    "start_time": "2021-10-27T13:44:13.292Z"
   },
   {
    "duration": 14,
    "start_time": "2021-10-27T13:44:13.333Z"
   },
   {
    "duration": 24,
    "start_time": "2021-10-27T13:44:13.350Z"
   },
   {
    "duration": 11,
    "start_time": "2021-10-27T13:44:13.376Z"
   },
   {
    "duration": 10,
    "start_time": "2021-10-27T13:44:13.390Z"
   },
   {
    "duration": 8,
    "start_time": "2021-10-27T13:44:13.403Z"
   },
   {
    "duration": 32,
    "start_time": "2021-10-27T13:44:13.413Z"
   },
   {
    "duration": 8,
    "start_time": "2021-10-27T13:44:13.447Z"
   },
   {
    "duration": 14,
    "start_time": "2021-10-27T13:44:13.457Z"
   },
   {
    "duration": 4,
    "start_time": "2021-10-27T13:44:13.474Z"
   },
   {
    "duration": 49,
    "start_time": "2021-10-27T13:44:13.480Z"
   },
   {
    "duration": 39,
    "start_time": "2021-10-27T13:44:13.531Z"
   },
   {
    "duration": 5,
    "start_time": "2021-10-27T13:44:13.573Z"
   },
   {
    "duration": 8,
    "start_time": "2021-10-27T13:44:13.580Z"
   },
   {
    "duration": 6,
    "start_time": "2021-10-27T13:44:13.590Z"
   },
   {
    "duration": 204,
    "start_time": "2021-10-27T13:44:13.630Z"
   },
   {
    "duration": 92,
    "start_time": "2021-10-27T13:44:13.837Z"
   },
   {
    "duration": 5527,
    "start_time": "2021-10-27T13:44:13.932Z"
   },
   {
    "duration": 6,
    "start_time": "2021-10-27T13:44:19.462Z"
   },
   {
    "duration": 9,
    "start_time": "2021-10-27T13:44:19.470Z"
   },
   {
    "duration": 18253,
    "start_time": "2021-10-27T13:44:19.482Z"
   },
   {
    "duration": 5,
    "start_time": "2021-10-27T13:44:37.737Z"
   },
   {
    "duration": 2404,
    "start_time": "2021-10-27T13:44:37.744Z"
   },
   {
    "duration": 9,
    "start_time": "2021-10-27T13:44:40.230Z"
   },
   {
    "duration": 19,
    "start_time": "2021-10-27T13:47:03.388Z"
   },
   {
    "duration": 5,
    "start_time": "2021-10-27T13:47:17.430Z"
   },
   {
    "duration": 5,
    "start_time": "2021-10-27T13:47:33.593Z"
   },
   {
    "duration": 5,
    "start_time": "2021-10-27T13:52:37.862Z"
   },
   {
    "duration": 17,
    "start_time": "2021-10-27T15:15:53.407Z"
   },
   {
    "duration": 467,
    "start_time": "2021-10-27T18:27:03.649Z"
   },
   {
    "duration": 1570,
    "start_time": "2021-10-27T18:27:16.818Z"
   },
   {
    "duration": 206,
    "start_time": "2021-10-27T18:27:18.390Z"
   },
   {
    "duration": 9,
    "start_time": "2021-10-27T18:27:18.599Z"
   },
   {
    "duration": 18,
    "start_time": "2021-10-27T18:27:18.611Z"
   },
   {
    "duration": 10,
    "start_time": "2021-10-27T18:27:18.632Z"
   },
   {
    "duration": 40,
    "start_time": "2021-10-27T18:27:18.644Z"
   },
   {
    "duration": 21,
    "start_time": "2021-10-27T18:27:18.686Z"
   },
   {
    "duration": 6,
    "start_time": "2021-10-27T18:27:18.711Z"
   },
   {
    "duration": 53,
    "start_time": "2021-10-27T18:27:18.720Z"
   },
   {
    "duration": 10,
    "start_time": "2021-10-27T18:27:18.776Z"
   },
   {
    "duration": 256,
    "start_time": "2021-10-27T18:27:18.788Z"
   },
   {
    "duration": 245,
    "start_time": "2021-10-27T18:27:19.046Z"
   },
   {
    "duration": 15,
    "start_time": "2021-10-27T18:27:19.294Z"
   },
   {
    "duration": 23,
    "start_time": "2021-10-27T18:27:19.311Z"
   },
   {
    "duration": 21,
    "start_time": "2021-10-27T18:27:19.336Z"
   },
   {
    "duration": 7,
    "start_time": "2021-10-27T18:27:19.360Z"
   },
   {
    "duration": 10,
    "start_time": "2021-10-27T18:27:19.369Z"
   },
   {
    "duration": 23,
    "start_time": "2021-10-27T18:27:19.381Z"
   },
   {
    "duration": 6,
    "start_time": "2021-10-27T18:27:19.407Z"
   },
   {
    "duration": 14,
    "start_time": "2021-10-27T18:27:19.415Z"
   },
   {
    "duration": 31,
    "start_time": "2021-10-27T18:27:19.432Z"
   },
   {
    "duration": 21,
    "start_time": "2021-10-27T18:27:19.465Z"
   },
   {
    "duration": 9,
    "start_time": "2021-10-27T18:27:19.493Z"
   },
   {
    "duration": 50,
    "start_time": "2021-10-27T18:27:19.507Z"
   },
   {
    "duration": 78,
    "start_time": "2021-10-27T18:27:19.559Z"
   },
   {
    "duration": 28,
    "start_time": "2021-10-27T18:27:19.640Z"
   },
   {
    "duration": 749,
    "start_time": "2021-10-27T18:27:19.670Z"
   },
   {
    "duration": 12,
    "start_time": "2021-10-27T18:27:20.422Z"
   },
   {
    "duration": 37,
    "start_time": "2021-10-27T18:27:20.436Z"
   },
   {
    "duration": 23,
    "start_time": "2021-10-27T18:27:20.475Z"
   },
   {
    "duration": 17,
    "start_time": "2021-10-27T18:27:20.500Z"
   },
   {
    "duration": 40,
    "start_time": "2021-10-27T18:27:20.520Z"
   },
   {
    "duration": 57,
    "start_time": "2021-10-27T18:27:20.563Z"
   },
   {
    "duration": 40,
    "start_time": "2021-10-27T18:27:20.623Z"
   },
   {
    "duration": 8,
    "start_time": "2021-10-27T18:27:20.665Z"
   },
   {
    "duration": 11,
    "start_time": "2021-10-27T18:27:20.676Z"
   },
   {
    "duration": 23,
    "start_time": "2021-10-27T18:27:20.690Z"
   },
   {
    "duration": 9,
    "start_time": "2021-10-27T18:27:20.758Z"
   },
   {
    "duration": 8,
    "start_time": "2021-10-27T18:27:20.769Z"
   },
   {
    "duration": 12,
    "start_time": "2021-10-27T18:27:20.780Z"
   },
   {
    "duration": 258,
    "start_time": "2021-10-27T18:27:20.794Z"
   },
   {
    "duration": 11,
    "start_time": "2021-10-27T18:27:21.054Z"
   },
   {
    "duration": 17,
    "start_time": "2021-10-27T18:27:21.067Z"
   },
   {
    "duration": 88,
    "start_time": "2021-10-27T18:27:21.087Z"
   },
   {
    "duration": 8,
    "start_time": "2021-10-27T18:27:21.178Z"
   },
   {
    "duration": 671,
    "start_time": "2021-10-27T18:27:21.189Z"
   },
   {
    "duration": 11,
    "start_time": "2021-10-27T18:27:21.862Z"
   },
   {
    "duration": 22,
    "start_time": "2021-10-27T18:27:21.875Z"
   },
   {
    "duration": 22,
    "start_time": "2021-10-27T18:27:21.899Z"
   },
   {
    "duration": 44,
    "start_time": "2021-10-27T18:27:21.923Z"
   },
   {
    "duration": 8,
    "start_time": "2021-10-27T18:27:21.970Z"
   },
   {
    "duration": 38,
    "start_time": "2021-10-27T18:27:21.981Z"
   },
   {
    "duration": 39,
    "start_time": "2021-10-27T18:27:22.021Z"
   },
   {
    "duration": 8,
    "start_time": "2021-10-27T18:27:22.063Z"
   },
   {
    "duration": 9,
    "start_time": "2021-10-27T18:27:22.074Z"
   },
   {
    "duration": 13,
    "start_time": "2021-10-27T18:27:22.085Z"
   },
   {
    "duration": 60,
    "start_time": "2021-10-27T18:27:22.100Z"
   },
   {
    "duration": 9,
    "start_time": "2021-10-27T18:27:22.162Z"
   },
   {
    "duration": 6,
    "start_time": "2021-10-27T18:27:22.173Z"
   },
   {
    "duration": 20,
    "start_time": "2021-10-27T18:27:22.181Z"
   },
   {
    "duration": 8,
    "start_time": "2021-10-27T18:27:22.203Z"
   },
   {
    "duration": 253,
    "start_time": "2021-10-27T18:27:22.214Z"
   },
   {
    "duration": 6,
    "start_time": "2021-10-27T18:27:22.470Z"
   },
   {
    "duration": 8,
    "start_time": "2021-10-27T18:27:22.478Z"
   },
   {
    "duration": 17,
    "start_time": "2021-10-27T18:27:22.488Z"
   },
   {
    "duration": 6,
    "start_time": "2021-10-27T18:27:22.507Z"
   },
   {
    "duration": 53,
    "start_time": "2021-10-27T18:27:22.515Z"
   },
   {
    "duration": 17,
    "start_time": "2021-10-27T18:27:22.576Z"
   },
   {
    "duration": 19,
    "start_time": "2021-10-27T18:27:22.597Z"
   },
   {
    "duration": 42,
    "start_time": "2021-10-27T18:27:22.618Z"
   },
   {
    "duration": 7,
    "start_time": "2021-10-27T18:27:22.662Z"
   },
   {
    "duration": 8,
    "start_time": "2021-10-27T18:27:22.671Z"
   },
   {
    "duration": 17,
    "start_time": "2021-10-27T18:27:22.682Z"
   },
   {
    "duration": 19,
    "start_time": "2021-10-27T18:27:22.702Z"
   },
   {
    "duration": 45,
    "start_time": "2021-10-27T18:27:22.724Z"
   },
   {
    "duration": 4,
    "start_time": "2021-10-27T18:27:22.772Z"
   },
   {
    "duration": 8,
    "start_time": "2021-10-27T18:27:22.779Z"
   },
   {
    "duration": 10,
    "start_time": "2021-10-27T18:27:22.790Z"
   },
   {
    "duration": 6,
    "start_time": "2021-10-27T18:27:22.803Z"
   },
   {
    "duration": 13,
    "start_time": "2021-10-27T18:27:22.859Z"
   },
   {
    "duration": 5,
    "start_time": "2021-10-27T18:27:22.875Z"
   },
   {
    "duration": 14,
    "start_time": "2021-10-27T18:27:22.882Z"
   },
   {
    "duration": 3721,
    "start_time": "2021-10-27T18:27:22.898Z"
   },
   {
    "duration": 13,
    "start_time": "2021-10-27T18:27:26.622Z"
   },
   {
    "duration": 21,
    "start_time": "2021-10-27T18:27:26.637Z"
   },
   {
    "duration": 8280,
    "start_time": "2021-10-27T18:27:26.660Z"
   },
   {
    "duration": 16,
    "start_time": "2021-10-27T18:27:34.943Z"
   },
   {
    "duration": 4,
    "start_time": "2021-10-27T18:27:34.961Z"
   },
   {
    "duration": 28,
    "start_time": "2021-10-27T18:27:34.968Z"
   },
   {
    "duration": 4,
    "start_time": "2021-10-27T18:27:34.998Z"
   },
   {
    "duration": 18,
    "start_time": "2021-10-27T18:27:35.004Z"
   },
   {
    "duration": 1760,
    "start_time": "2021-10-27T18:27:35.025Z"
   },
   {
    "duration": 13,
    "start_time": "2021-10-27T18:27:36.787Z"
   },
   {
    "duration": 4942,
    "start_time": "2021-10-27T18:27:36.802Z"
   },
   {
    "duration": 15,
    "start_time": "2021-10-27T18:27:41.747Z"
   },
   {
    "duration": 4,
    "start_time": "2021-10-27T18:27:41.765Z"
   },
   {
    "duration": 22,
    "start_time": "2021-10-27T18:27:41.772Z"
   },
   {
    "duration": 6,
    "start_time": "2021-10-27T18:27:41.797Z"
   },
   {
    "duration": 16,
    "start_time": "2021-10-27T18:27:41.805Z"
   },
   {
    "duration": 40,
    "start_time": "2021-10-27T18:27:41.823Z"
   },
   {
    "duration": 7,
    "start_time": "2021-10-27T18:27:41.865Z"
   },
   {
    "duration": 9,
    "start_time": "2021-10-27T18:27:41.874Z"
   },
   {
    "duration": 20,
    "start_time": "2021-10-27T18:27:41.885Z"
   },
   {
    "duration": 7,
    "start_time": "2021-10-27T18:27:41.908Z"
   },
   {
    "duration": 46,
    "start_time": "2021-10-27T18:27:41.917Z"
   },
   {
    "duration": 4,
    "start_time": "2021-10-27T18:27:41.966Z"
   },
   {
    "duration": 25,
    "start_time": "2021-10-27T18:27:41.973Z"
   },
   {
    "duration": 68,
    "start_time": "2021-10-27T18:27:42.001Z"
   },
   {
    "duration": 5,
    "start_time": "2021-10-27T18:27:42.071Z"
   },
   {
    "duration": 17,
    "start_time": "2021-10-27T18:27:42.078Z"
   },
   {
    "duration": 3,
    "start_time": "2021-10-27T18:27:42.098Z"
   },
   {
    "duration": 162,
    "start_time": "2021-10-27T18:27:42.104Z"
   },
   {
    "duration": 5,
    "start_time": "2021-10-27T18:27:42.360Z"
   },
   {
    "duration": 4420,
    "start_time": "2021-10-27T18:27:42.458Z"
   },
   {
    "duration": 5,
    "start_time": "2021-10-27T18:27:46.880Z"
   },
   {
    "duration": 12,
    "start_time": "2021-10-27T18:27:46.887Z"
   },
   {
    "duration": 17562,
    "start_time": "2021-10-27T18:27:46.901Z"
   },
   {
    "duration": 5,
    "start_time": "2021-10-27T18:28:04.466Z"
   },
   {
    "duration": 2598,
    "start_time": "2021-10-27T18:28:04.474Z"
   },
   {
    "duration": 8,
    "start_time": "2021-10-27T18:28:07.074Z"
   },
   {
    "duration": 79,
    "start_time": "2021-10-27T18:28:07.084Z"
   },
   {
    "duration": 4,
    "start_time": "2021-10-27T18:28:07.166Z"
   },
   {
    "duration": 10,
    "start_time": "2021-10-27T18:28:07.173Z"
   },
   {
    "duration": 527,
    "start_time": "2021-10-27T18:28:07.185Z"
   },
   {
    "duration": 9,
    "start_time": "2021-10-27T18:30:20.679Z"
   },
   {
    "duration": 6,
    "start_time": "2021-10-27T18:31:39.097Z"
   },
   {
    "duration": 8,
    "start_time": "2021-10-27T18:32:29.591Z"
   },
   {
    "duration": 9,
    "start_time": "2021-10-27T18:32:35.005Z"
   },
   {
    "duration": 7,
    "start_time": "2021-10-27T18:32:42.308Z"
   },
   {
    "duration": 8,
    "start_time": "2021-10-27T18:32:54.574Z"
   },
   {
    "duration": 12,
    "start_time": "2021-10-27T18:33:00.339Z"
   },
   {
    "duration": 12,
    "start_time": "2021-10-27T18:33:18.252Z"
   },
   {
    "duration": 10,
    "start_time": "2021-10-27T18:33:27.373Z"
   },
   {
    "duration": 8,
    "start_time": "2021-10-27T18:33:32.441Z"
   },
   {
    "duration": 8,
    "start_time": "2021-10-27T18:33:41.740Z"
   },
   {
    "duration": 373,
    "start_time": "2021-10-27T18:39:45.453Z"
   },
   {
    "duration": 19,
    "start_time": "2021-10-27T18:40:27.073Z"
   },
   {
    "duration": 362,
    "start_time": "2021-10-27T18:45:55.317Z"
   },
   {
    "duration": 11,
    "start_time": "2021-10-27T18:46:57.816Z"
   },
   {
    "duration": 5,
    "start_time": "2021-10-27T18:47:15.981Z"
   },
   {
    "duration": 5,
    "start_time": "2021-10-27T18:47:54.088Z"
   },
   {
    "duration": 4,
    "start_time": "2021-10-27T18:48:35.141Z"
   },
   {
    "duration": 12,
    "start_time": "2021-10-27T18:50:12.019Z"
   },
   {
    "duration": 514,
    "start_time": "2021-10-27T18:50:38.103Z"
   },
   {
    "duration": 7,
    "start_time": "2021-10-27T18:51:21.701Z"
   },
   {
    "duration": 733,
    "start_time": "2021-10-27T19:02:54.448Z"
   },
   {
    "duration": 632,
    "start_time": "2021-10-27T19:03:07.404Z"
   },
   {
    "duration": 524,
    "start_time": "2021-10-27T19:03:48.504Z"
   },
   {
    "duration": 1619,
    "start_time": "2021-10-27T19:04:19.702Z"
   },
   {
    "duration": 208,
    "start_time": "2021-10-27T19:04:21.324Z"
   },
   {
    "duration": 12,
    "start_time": "2021-10-27T19:04:21.535Z"
   },
   {
    "duration": 21,
    "start_time": "2021-10-27T19:04:21.550Z"
   },
   {
    "duration": 11,
    "start_time": "2021-10-27T19:04:21.574Z"
   },
   {
    "duration": 36,
    "start_time": "2021-10-27T19:04:21.587Z"
   },
   {
    "duration": 50,
    "start_time": "2021-10-27T19:04:21.626Z"
   },
   {
    "duration": 7,
    "start_time": "2021-10-27T19:04:21.681Z"
   },
   {
    "duration": 27,
    "start_time": "2021-10-27T19:04:21.691Z"
   },
   {
    "duration": 10,
    "start_time": "2021-10-27T19:04:21.720Z"
   },
   {
    "duration": 267,
    "start_time": "2021-10-27T19:04:21.732Z"
   },
   {
    "duration": 259,
    "start_time": "2021-10-27T19:04:22.001Z"
   },
   {
    "duration": 21,
    "start_time": "2021-10-27T19:04:22.263Z"
   },
   {
    "duration": 21,
    "start_time": "2021-10-27T19:04:22.287Z"
   },
   {
    "duration": 22,
    "start_time": "2021-10-27T19:04:22.311Z"
   },
   {
    "duration": 31,
    "start_time": "2021-10-27T19:04:22.336Z"
   },
   {
    "duration": 8,
    "start_time": "2021-10-27T19:04:22.370Z"
   },
   {
    "duration": 18,
    "start_time": "2021-10-27T19:04:22.380Z"
   },
   {
    "duration": 12,
    "start_time": "2021-10-27T19:04:22.401Z"
   },
   {
    "duration": 21,
    "start_time": "2021-10-27T19:04:22.416Z"
   },
   {
    "duration": 11,
    "start_time": "2021-10-27T19:04:22.440Z"
   },
   {
    "duration": 26,
    "start_time": "2021-10-27T19:04:22.453Z"
   },
   {
    "duration": 14,
    "start_time": "2021-10-27T19:04:22.489Z"
   },
   {
    "duration": 28,
    "start_time": "2021-10-27T19:04:22.507Z"
   },
   {
    "duration": 99,
    "start_time": "2021-10-27T19:04:22.537Z"
   },
   {
    "duration": 29,
    "start_time": "2021-10-27T19:04:22.639Z"
   },
   {
    "duration": 794,
    "start_time": "2021-10-27T19:04:22.671Z"
   },
   {
    "duration": 15,
    "start_time": "2021-10-27T19:04:23.468Z"
   },
   {
    "duration": 37,
    "start_time": "2021-10-27T19:04:23.485Z"
   },
   {
    "duration": 42,
    "start_time": "2021-10-27T19:04:23.525Z"
   },
   {
    "duration": 17,
    "start_time": "2021-10-27T19:04:23.570Z"
   },
   {
    "duration": 35,
    "start_time": "2021-10-27T19:04:23.589Z"
   },
   {
    "duration": 152,
    "start_time": "2021-10-27T19:04:23.627Z"
   },
   {
    "duration": 20,
    "start_time": "2021-10-27T19:04:23.783Z"
   },
   {
    "duration": 14,
    "start_time": "2021-10-27T19:04:23.806Z"
   },
   {
    "duration": 17,
    "start_time": "2021-10-27T19:04:23.823Z"
   },
   {
    "duration": 39,
    "start_time": "2021-10-27T19:04:23.844Z"
   },
   {
    "duration": 42,
    "start_time": "2021-10-27T19:04:23.886Z"
   },
   {
    "duration": 16,
    "start_time": "2021-10-27T19:04:23.932Z"
   },
   {
    "duration": 22,
    "start_time": "2021-10-27T19:04:23.952Z"
   },
   {
    "duration": 318,
    "start_time": "2021-10-27T19:04:23.978Z"
   },
   {
    "duration": 9,
    "start_time": "2021-10-27T19:04:24.299Z"
   },
   {
    "duration": 36,
    "start_time": "2021-10-27T19:04:24.310Z"
   },
   {
    "duration": 75,
    "start_time": "2021-10-27T19:04:24.348Z"
   },
   {
    "duration": 9,
    "start_time": "2021-10-27T19:04:24.425Z"
   },
   {
    "duration": 724,
    "start_time": "2021-10-27T19:04:24.436Z"
   },
   {
    "duration": 19,
    "start_time": "2021-10-27T19:04:25.162Z"
   },
   {
    "duration": 28,
    "start_time": "2021-10-27T19:04:25.186Z"
   },
   {
    "duration": 26,
    "start_time": "2021-10-27T19:04:25.217Z"
   },
   {
    "duration": 19,
    "start_time": "2021-10-27T19:04:25.259Z"
   },
   {
    "duration": 15,
    "start_time": "2021-10-27T19:04:25.281Z"
   },
   {
    "duration": 64,
    "start_time": "2021-10-27T19:04:25.298Z"
   },
   {
    "duration": 14,
    "start_time": "2021-10-27T19:04:25.365Z"
   },
   {
    "duration": 19,
    "start_time": "2021-10-27T19:04:25.383Z"
   },
   {
    "duration": 10,
    "start_time": "2021-10-27T19:04:25.405Z"
   },
   {
    "duration": 52,
    "start_time": "2021-10-27T19:04:25.418Z"
   },
   {
    "duration": 35,
    "start_time": "2021-10-27T19:04:25.473Z"
   },
   {
    "duration": 9,
    "start_time": "2021-10-27T19:04:25.511Z"
   },
   {
    "duration": 6,
    "start_time": "2021-10-27T19:04:25.523Z"
   },
   {
    "duration": 39,
    "start_time": "2021-10-27T19:04:25.531Z"
   },
   {
    "duration": 13,
    "start_time": "2021-10-27T19:04:25.573Z"
   },
   {
    "duration": 252,
    "start_time": "2021-10-27T19:04:25.589Z"
   },
   {
    "duration": 14,
    "start_time": "2021-10-27T19:04:25.844Z"
   },
   {
    "duration": 19,
    "start_time": "2021-10-27T19:04:25.861Z"
   },
   {
    "duration": 34,
    "start_time": "2021-10-27T19:04:25.882Z"
   },
   {
    "duration": 5,
    "start_time": "2021-10-27T19:04:25.918Z"
   },
   {
    "duration": 24,
    "start_time": "2021-10-27T19:04:25.926Z"
   },
   {
    "duration": 18,
    "start_time": "2021-10-27T19:04:25.971Z"
   },
   {
    "duration": 19,
    "start_time": "2021-10-27T19:04:25.993Z"
   },
   {
    "duration": 10,
    "start_time": "2021-10-27T19:04:26.015Z"
   },
   {
    "duration": 7,
    "start_time": "2021-10-27T19:04:26.070Z"
   },
   {
    "duration": 12,
    "start_time": "2021-10-27T19:04:26.079Z"
   },
   {
    "duration": 24,
    "start_time": "2021-10-27T19:04:26.094Z"
   },
   {
    "duration": 43,
    "start_time": "2021-10-27T19:04:26.122Z"
   },
   {
    "duration": 16,
    "start_time": "2021-10-27T19:04:26.168Z"
   },
   {
    "duration": 10,
    "start_time": "2021-10-27T19:04:26.187Z"
   },
   {
    "duration": 11,
    "start_time": "2021-10-27T19:04:26.199Z"
   },
   {
    "duration": 24,
    "start_time": "2021-10-27T19:04:26.212Z"
   },
   {
    "duration": 20,
    "start_time": "2021-10-27T19:04:26.238Z"
   },
   {
    "duration": 20,
    "start_time": "2021-10-27T19:04:26.265Z"
   },
   {
    "duration": 17,
    "start_time": "2021-10-27T19:04:26.287Z"
   },
   {
    "duration": 28,
    "start_time": "2021-10-27T19:04:26.306Z"
   },
   {
    "duration": 4180,
    "start_time": "2021-10-27T19:04:26.337Z"
   },
   {
    "duration": 13,
    "start_time": "2021-10-27T19:04:30.519Z"
   },
   {
    "duration": 37,
    "start_time": "2021-10-27T19:04:30.534Z"
   },
   {
    "duration": 8842,
    "start_time": "2021-10-27T19:04:30.573Z"
   },
   {
    "duration": 8,
    "start_time": "2021-10-27T19:04:39.417Z"
   },
   {
    "duration": 5,
    "start_time": "2021-10-27T19:04:39.427Z"
   },
   {
    "duration": 48,
    "start_time": "2021-10-27T19:04:39.434Z"
   },
   {
    "duration": 3,
    "start_time": "2021-10-27T19:04:39.485Z"
   },
   {
    "duration": 16,
    "start_time": "2021-10-27T19:04:39.490Z"
   },
   {
    "duration": 1730,
    "start_time": "2021-10-27T19:04:39.509Z"
   },
   {
    "duration": 18,
    "start_time": "2021-10-27T19:04:41.242Z"
   },
   {
    "duration": 7012,
    "start_time": "2021-10-27T19:04:41.263Z"
   },
   {
    "duration": 9,
    "start_time": "2021-10-27T19:04:48.279Z"
   },
   {
    "duration": 13,
    "start_time": "2021-10-27T19:04:48.291Z"
   },
   {
    "duration": 26,
    "start_time": "2021-10-27T19:04:48.358Z"
   },
   {
    "duration": 18,
    "start_time": "2021-10-27T19:04:48.387Z"
   },
   {
    "duration": 70,
    "start_time": "2021-10-27T19:04:48.407Z"
   },
   {
    "duration": 21,
    "start_time": "2021-10-27T19:04:48.479Z"
   },
   {
    "duration": 57,
    "start_time": "2021-10-27T19:04:48.502Z"
   },
   {
    "duration": 8,
    "start_time": "2021-10-27T19:04:48.562Z"
   },
   {
    "duration": 37,
    "start_time": "2021-10-27T19:04:48.573Z"
   },
   {
    "duration": 10,
    "start_time": "2021-10-27T19:04:48.659Z"
   },
   {
    "duration": 19,
    "start_time": "2021-10-27T19:04:48.672Z"
   },
   {
    "duration": 5,
    "start_time": "2021-10-27T19:04:48.693Z"
   },
   {
    "duration": 72,
    "start_time": "2021-10-27T19:04:48.700Z"
   },
   {
    "duration": 105,
    "start_time": "2021-10-27T19:04:48.775Z"
   },
   {
    "duration": 5,
    "start_time": "2021-10-27T19:04:48.882Z"
   },
   {
    "duration": 10,
    "start_time": "2021-10-27T19:04:48.889Z"
   },
   {
    "duration": 5,
    "start_time": "2021-10-27T19:04:48.901Z"
   },
   {
    "duration": 207,
    "start_time": "2021-10-27T19:04:48.959Z"
   },
   {
    "duration": 88,
    "start_time": "2021-10-27T19:04:49.171Z"
   },
   {
    "duration": 5419,
    "start_time": "2021-10-27T19:04:49.266Z"
   },
   {
    "duration": 6,
    "start_time": "2021-10-27T19:04:54.688Z"
   },
   {
    "duration": 7,
    "start_time": "2021-10-27T19:04:54.696Z"
   },
   {
    "duration": 103754,
    "start_time": "2021-10-27T19:04:54.706Z"
   },
   {
    "duration": 6,
    "start_time": "2021-10-27T19:06:38.463Z"
   },
   {
    "duration": 2698,
    "start_time": "2021-10-27T19:06:38.471Z"
   },
   {
    "duration": 8,
    "start_time": "2021-10-27T19:06:41.171Z"
   },
   {
    "duration": 16,
    "start_time": "2021-10-27T19:06:41.181Z"
   },
   {
    "duration": 59,
    "start_time": "2021-10-27T19:06:41.199Z"
   },
   {
    "duration": 6,
    "start_time": "2021-10-27T19:06:41.260Z"
   },
   {
    "duration": 11,
    "start_time": "2021-10-27T19:06:41.268Z"
   },
   {
    "duration": 18,
    "start_time": "2021-10-27T19:06:41.282Z"
   },
   {
    "duration": 60,
    "start_time": "2021-10-27T19:06:41.303Z"
   },
   {
    "duration": 701,
    "start_time": "2021-10-27T19:06:41.366Z"
   },
   {
    "duration": 8,
    "start_time": "2021-10-27T19:06:42.069Z"
   },
   {
    "duration": 6,
    "start_time": "2021-10-27T19:06:42.079Z"
   },
   {
    "duration": 1522,
    "start_time": "2021-10-27T19:13:56.915Z"
   },
   {
    "duration": 196,
    "start_time": "2021-10-27T19:13:58.440Z"
   },
   {
    "duration": 11,
    "start_time": "2021-10-27T19:13:58.639Z"
   },
   {
    "duration": 19,
    "start_time": "2021-10-27T19:13:58.653Z"
   },
   {
    "duration": 10,
    "start_time": "2021-10-27T19:13:58.674Z"
   },
   {
    "duration": 38,
    "start_time": "2021-10-27T19:13:58.686Z"
   },
   {
    "duration": 41,
    "start_time": "2021-10-27T19:13:58.727Z"
   },
   {
    "duration": 5,
    "start_time": "2021-10-27T19:13:58.773Z"
   },
   {
    "duration": 26,
    "start_time": "2021-10-27T19:13:58.781Z"
   },
   {
    "duration": 9,
    "start_time": "2021-10-27T19:13:58.809Z"
   },
   {
    "duration": 253,
    "start_time": "2021-10-27T19:13:58.820Z"
   },
   {
    "duration": 248,
    "start_time": "2021-10-27T19:13:59.075Z"
   },
   {
    "duration": 14,
    "start_time": "2021-10-27T19:13:59.325Z"
   },
   {
    "duration": 28,
    "start_time": "2021-10-27T19:13:59.341Z"
   },
   {
    "duration": 13,
    "start_time": "2021-10-27T19:13:59.371Z"
   },
   {
    "duration": 18,
    "start_time": "2021-10-27T19:13:59.387Z"
   },
   {
    "duration": 10,
    "start_time": "2021-10-27T19:13:59.407Z"
   },
   {
    "duration": 14,
    "start_time": "2021-10-27T19:13:59.419Z"
   },
   {
    "duration": 23,
    "start_time": "2021-10-27T19:13:59.436Z"
   },
   {
    "duration": 15,
    "start_time": "2021-10-27T19:13:59.461Z"
   },
   {
    "duration": 14,
    "start_time": "2021-10-27T19:13:59.478Z"
   },
   {
    "duration": 26,
    "start_time": "2021-10-27T19:13:59.494Z"
   },
   {
    "duration": 13,
    "start_time": "2021-10-27T19:13:59.527Z"
   },
   {
    "duration": 30,
    "start_time": "2021-10-27T19:13:59.544Z"
   },
   {
    "duration": 91,
    "start_time": "2021-10-27T19:13:59.576Z"
   },
   {
    "duration": 11,
    "start_time": "2021-10-27T19:13:59.669Z"
   },
   {
    "duration": 772,
    "start_time": "2021-10-27T19:13:59.685Z"
   },
   {
    "duration": 12,
    "start_time": "2021-10-27T19:14:00.460Z"
   },
   {
    "duration": 38,
    "start_time": "2021-10-27T19:14:00.475Z"
   },
   {
    "duration": 42,
    "start_time": "2021-10-27T19:14:00.515Z"
   },
   {
    "duration": 42,
    "start_time": "2021-10-27T19:14:00.560Z"
   },
   {
    "duration": 31,
    "start_time": "2021-10-27T19:14:00.604Z"
   },
   {
    "duration": 82,
    "start_time": "2021-10-27T19:14:00.638Z"
   },
   {
    "duration": 11,
    "start_time": "2021-10-27T19:14:00.723Z"
   },
   {
    "duration": 23,
    "start_time": "2021-10-27T19:14:00.736Z"
   },
   {
    "duration": 28,
    "start_time": "2021-10-27T19:14:00.761Z"
   },
   {
    "duration": 65,
    "start_time": "2021-10-27T19:14:00.792Z"
   },
   {
    "duration": 15,
    "start_time": "2021-10-27T19:14:00.860Z"
   },
   {
    "duration": 48,
    "start_time": "2021-10-27T19:14:00.877Z"
   },
   {
    "duration": 36,
    "start_time": "2021-10-27T19:14:00.927Z"
   },
   {
    "duration": 242,
    "start_time": "2021-10-27T19:14:00.966Z"
   },
   {
    "duration": 11,
    "start_time": "2021-10-27T19:14:01.211Z"
   },
   {
    "duration": 40,
    "start_time": "2021-10-27T19:14:01.224Z"
   },
   {
    "duration": 85,
    "start_time": "2021-10-27T19:14:01.266Z"
   },
   {
    "duration": 9,
    "start_time": "2021-10-27T19:14:01.353Z"
   },
   {
    "duration": 665,
    "start_time": "2021-10-27T19:14:01.364Z"
   },
   {
    "duration": 10,
    "start_time": "2021-10-27T19:14:02.032Z"
   },
   {
    "duration": 16,
    "start_time": "2021-10-27T19:14:02.058Z"
   },
   {
    "duration": 26,
    "start_time": "2021-10-27T19:14:02.077Z"
   },
   {
    "duration": 22,
    "start_time": "2021-10-27T19:14:02.106Z"
   },
   {
    "duration": 27,
    "start_time": "2021-10-27T19:14:02.131Z"
   },
   {
    "duration": 39,
    "start_time": "2021-10-27T19:14:02.161Z"
   },
   {
    "duration": 15,
    "start_time": "2021-10-27T19:14:02.202Z"
   },
   {
    "duration": 121,
    "start_time": "2021-10-27T19:14:02.219Z"
   },
   {
    "duration": 15,
    "start_time": "2021-10-27T19:14:02.343Z"
   },
   {
    "duration": 11,
    "start_time": "2021-10-27T19:14:02.360Z"
   },
   {
    "duration": 29,
    "start_time": "2021-10-27T19:14:02.373Z"
   },
   {
    "duration": 8,
    "start_time": "2021-10-27T19:14:02.405Z"
   },
   {
    "duration": 5,
    "start_time": "2021-10-27T19:14:02.416Z"
   },
   {
    "duration": 39,
    "start_time": "2021-10-27T19:14:02.423Z"
   },
   {
    "duration": 18,
    "start_time": "2021-10-27T19:14:02.464Z"
   },
   {
    "duration": 217,
    "start_time": "2021-10-27T19:14:02.484Z"
   },
   {
    "duration": 7,
    "start_time": "2021-10-27T19:14:02.704Z"
   },
   {
    "duration": 10,
    "start_time": "2021-10-27T19:14:02.713Z"
   },
   {
    "duration": 46,
    "start_time": "2021-10-27T19:14:02.726Z"
   },
   {
    "duration": 23,
    "start_time": "2021-10-27T19:14:02.774Z"
   },
   {
    "duration": 16,
    "start_time": "2021-10-27T19:14:02.799Z"
   },
   {
    "duration": 15,
    "start_time": "2021-10-27T19:14:02.825Z"
   },
   {
    "duration": 27,
    "start_time": "2021-10-27T19:14:02.844Z"
   },
   {
    "duration": 12,
    "start_time": "2021-10-27T19:14:02.874Z"
   },
   {
    "duration": 10,
    "start_time": "2021-10-27T19:14:02.888Z"
   },
   {
    "duration": 19,
    "start_time": "2021-10-27T19:14:02.900Z"
   },
   {
    "duration": 28,
    "start_time": "2021-10-27T19:14:02.921Z"
   },
   {
    "duration": 25,
    "start_time": "2021-10-27T19:14:02.951Z"
   },
   {
    "duration": 14,
    "start_time": "2021-10-27T19:14:02.978Z"
   },
   {
    "duration": 11,
    "start_time": "2021-10-27T19:14:02.994Z"
   },
   {
    "duration": 37,
    "start_time": "2021-10-27T19:14:03.007Z"
   },
   {
    "duration": 10,
    "start_time": "2021-10-27T19:14:03.047Z"
   },
   {
    "duration": 30,
    "start_time": "2021-10-27T19:14:03.059Z"
   },
   {
    "duration": 21,
    "start_time": "2021-10-27T19:14:03.091Z"
   },
   {
    "duration": 18,
    "start_time": "2021-10-27T19:14:03.114Z"
   },
   {
    "duration": 13,
    "start_time": "2021-10-27T19:14:03.134Z"
   },
   {
    "duration": 5193,
    "start_time": "2021-10-27T19:14:03.150Z"
   },
   {
    "duration": 18,
    "start_time": "2021-10-27T19:14:08.346Z"
   },
   {
    "duration": 10,
    "start_time": "2021-10-27T19:14:08.366Z"
   },
   {
    "duration": 8113,
    "start_time": "2021-10-27T19:14:08.378Z"
   },
   {
    "duration": 7,
    "start_time": "2021-10-27T19:14:16.493Z"
   },
   {
    "duration": 4,
    "start_time": "2021-10-27T19:14:16.503Z"
   },
   {
    "duration": 50,
    "start_time": "2021-10-27T19:14:16.509Z"
   },
   {
    "duration": 3,
    "start_time": "2021-10-27T19:14:16.561Z"
   },
   {
    "duration": 15,
    "start_time": "2021-10-27T19:14:16.566Z"
   },
   {
    "duration": 1591,
    "start_time": "2021-10-27T19:14:16.583Z"
   },
   {
    "duration": 13,
    "start_time": "2021-10-27T19:14:18.176Z"
   },
   {
    "duration": 4897,
    "start_time": "2021-10-27T19:14:18.191Z"
   },
   {
    "duration": 7,
    "start_time": "2021-10-27T19:14:23.091Z"
   },
   {
    "duration": 4,
    "start_time": "2021-10-27T19:14:23.100Z"
   },
   {
    "duration": 18,
    "start_time": "2021-10-27T19:14:23.106Z"
   },
   {
    "duration": 32,
    "start_time": "2021-10-27T19:14:23.126Z"
   },
   {
    "duration": 15,
    "start_time": "2021-10-27T19:14:23.160Z"
   },
   {
    "duration": 7,
    "start_time": "2021-10-27T19:14:23.177Z"
   },
   {
    "duration": 5,
    "start_time": "2021-10-27T19:14:23.186Z"
   },
   {
    "duration": 8,
    "start_time": "2021-10-27T19:14:23.193Z"
   },
   {
    "duration": 58,
    "start_time": "2021-10-27T19:14:23.204Z"
   },
   {
    "duration": 7,
    "start_time": "2021-10-27T19:14:23.264Z"
   },
   {
    "duration": 15,
    "start_time": "2021-10-27T19:14:23.274Z"
   },
   {
    "duration": 4,
    "start_time": "2021-10-27T19:14:23.292Z"
   },
   {
    "duration": 14,
    "start_time": "2021-10-27T19:14:23.299Z"
   },
   {
    "duration": 72,
    "start_time": "2021-10-27T19:14:23.316Z"
   },
   {
    "duration": 5,
    "start_time": "2021-10-27T19:14:23.390Z"
   },
   {
    "duration": 10,
    "start_time": "2021-10-27T19:14:23.397Z"
   },
   {
    "duration": 5,
    "start_time": "2021-10-27T19:14:23.409Z"
   },
   {
    "duration": 248,
    "start_time": "2021-10-27T19:14:23.416Z"
   },
   {
    "duration": 92,
    "start_time": "2021-10-27T19:14:23.667Z"
   },
   {
    "duration": 5220,
    "start_time": "2021-10-27T19:14:23.763Z"
   },
   {
    "duration": 7,
    "start_time": "2021-10-27T19:14:28.986Z"
   },
   {
    "duration": 8,
    "start_time": "2021-10-27T19:14:28.995Z"
   },
   {
    "duration": 37056,
    "start_time": "2021-10-27T19:14:29.005Z"
   },
   {
    "duration": 7,
    "start_time": "2021-10-27T19:15:06.064Z"
   },
   {
    "duration": 22505,
    "start_time": "2021-10-27T19:15:06.074Z"
   },
   {
    "duration": 78,
    "start_time": "2021-10-27T19:15:28.582Z"
   },
   {
    "duration": 25,
    "start_time": "2021-10-27T19:15:28.662Z"
   },
   {
    "duration": 4,
    "start_time": "2021-10-27T19:15:28.689Z"
   },
   {
    "duration": 6,
    "start_time": "2021-10-27T19:15:28.695Z"
   },
   {
    "duration": 7,
    "start_time": "2021-10-27T19:15:28.703Z"
   },
   {
    "duration": 68,
    "start_time": "2021-10-27T19:15:28.713Z"
   },
   {
    "duration": 452,
    "start_time": "2021-10-27T19:18:38.900Z"
   },
   {
    "duration": 22,
    "start_time": "2021-10-27T19:19:38.869Z"
   },
   {
    "duration": 482,
    "start_time": "2021-10-27T19:19:40.479Z"
   },
   {
    "duration": 579,
    "start_time": "2021-10-27T19:20:00.260Z"
   },
   {
    "duration": 592,
    "start_time": "2021-10-27T19:20:06.265Z"
   },
   {
    "duration": 581,
    "start_time": "2021-10-27T19:20:11.496Z"
   },
   {
    "duration": 593,
    "start_time": "2021-10-27T19:20:16.484Z"
   },
   {
    "duration": 626,
    "start_time": "2021-10-27T19:20:24.297Z"
   },
   {
    "duration": 645,
    "start_time": "2021-10-27T19:20:59.588Z"
   },
   {
    "duration": 733,
    "start_time": "2021-10-27T19:21:14.452Z"
   },
   {
    "duration": 49,
    "start_time": "2021-10-27T19:24:39.273Z"
   },
   {
    "duration": 499,
    "start_time": "2021-10-27T19:27:16.822Z"
   },
   {
    "duration": 9,
    "start_time": "2021-10-27T19:27:23.287Z"
   },
   {
    "duration": 63,
    "start_time": "2021-10-27T19:27:24.714Z"
   },
   {
    "duration": 67,
    "start_time": "2021-10-27T19:28:20.500Z"
   },
   {
    "duration": 356,
    "start_time": "2021-10-27T19:31:51.674Z"
   },
   {
    "duration": 32,
    "start_time": "2021-10-27T19:31:56.503Z"
   },
   {
    "duration": 29,
    "start_time": "2021-10-27T19:31:58.582Z"
   },
   {
    "duration": 8,
    "start_time": "2021-10-27T19:32:33.929Z"
   },
   {
    "duration": 35,
    "start_time": "2021-10-27T19:32:34.577Z"
   },
   {
    "duration": 35,
    "start_time": "2021-10-27T19:32:35.371Z"
   },
   {
    "duration": 25,
    "start_time": "2021-10-27T19:33:01.818Z"
   },
   {
    "duration": 9,
    "start_time": "2021-10-27T19:33:24.883Z"
   },
   {
    "duration": 43,
    "start_time": "2021-10-27T19:33:25.460Z"
   },
   {
    "duration": 22,
    "start_time": "2021-10-27T19:33:26.326Z"
   },
   {
    "duration": 46,
    "start_time": "2021-10-27T21:08:06.710Z"
   },
   {
    "duration": 12,
    "start_time": "2021-10-27T21:10:30.180Z"
   },
   {
    "duration": 50,
    "start_time": "2021-10-27T21:10:36.669Z"
   },
   {
    "duration": 71,
    "start_time": "2021-10-27T21:23:09.044Z"
   },
   {
    "duration": 49,
    "start_time": "2021-10-27T21:23:37.371Z"
   },
   {
    "duration": 40,
    "start_time": "2021-10-27T21:24:34.091Z"
   },
   {
    "duration": 1058,
    "start_time": "2021-10-27T21:41:12.763Z"
   },
   {
    "duration": 5,
    "start_time": "2021-10-27T21:41:35.580Z"
   },
   {
    "duration": 11,
    "start_time": "2021-10-27T21:41:43.054Z"
   },
   {
    "duration": 9,
    "start_time": "2021-10-27T21:42:40.925Z"
   },
   {
    "duration": 859,
    "start_time": "2021-10-27T21:47:56.502Z"
   },
   {
    "duration": 844,
    "start_time": "2021-10-27T21:54:10.563Z"
   },
   {
    "duration": 12,
    "start_time": "2021-10-27T21:57:03.453Z"
   },
   {
    "duration": 850,
    "start_time": "2021-10-27T21:57:04.553Z"
   },
   {
    "duration": 828,
    "start_time": "2021-10-27T21:57:12.781Z"
   },
   {
    "duration": 355,
    "start_time": "2021-10-27T21:58:34.481Z"
   },
   {
    "duration": 829,
    "start_time": "2021-10-27T21:58:58.683Z"
   },
   {
    "duration": 20,
    "start_time": "2021-10-27T22:00:08.737Z"
   },
   {
    "duration": 19,
    "start_time": "2021-10-27T22:00:29.188Z"
   },
   {
    "duration": 22,
    "start_time": "2021-10-27T22:01:51.273Z"
   },
   {
    "duration": 6,
    "start_time": "2021-10-27T22:02:11.832Z"
   },
   {
    "duration": 9,
    "start_time": "2021-10-27T22:02:31.012Z"
   },
   {
    "duration": 782,
    "start_time": "2021-10-27T22:02:32.294Z"
   },
   {
    "duration": 876,
    "start_time": "2021-10-27T22:02:52.926Z"
   },
   {
    "duration": 773,
    "start_time": "2021-10-27T22:02:55.933Z"
   },
   {
    "duration": 18,
    "start_time": "2021-10-27T22:52:46.220Z"
   },
   {
    "duration": 347,
    "start_time": "2021-10-27T22:59:01.849Z"
   },
   {
    "duration": 4,
    "start_time": "2021-10-27T22:59:05.866Z"
   },
   {
    "duration": 20,
    "start_time": "2021-10-27T22:59:14.121Z"
   },
   {
    "duration": 20,
    "start_time": "2021-10-27T23:05:59.107Z"
   },
   {
    "duration": 768,
    "start_time": "2021-10-27T23:12:13.963Z"
   },
   {
    "duration": 770,
    "start_time": "2021-10-27T23:12:20.849Z"
   },
   {
    "duration": 364,
    "start_time": "2021-10-27T23:13:19.644Z"
   },
   {
    "duration": 1351,
    "start_time": "2021-10-27T23:13:32.709Z"
   },
   {
    "duration": 2320,
    "start_time": "2021-10-27T23:14:42.649Z"
   },
   {
    "duration": 1781,
    "start_time": "2021-10-27T23:16:45.089Z"
   },
   {
    "duration": 1520,
    "start_time": "2021-10-27T23:20:00.780Z"
   },
   {
    "duration": 242,
    "start_time": "2021-10-27T23:20:02.302Z"
   },
   {
    "duration": 11,
    "start_time": "2021-10-27T23:20:02.547Z"
   },
   {
    "duration": 17,
    "start_time": "2021-10-27T23:20:02.560Z"
   },
   {
    "duration": 11,
    "start_time": "2021-10-27T23:20:02.579Z"
   },
   {
    "duration": 34,
    "start_time": "2021-10-27T23:20:02.592Z"
   },
   {
    "duration": 49,
    "start_time": "2021-10-27T23:20:02.628Z"
   },
   {
    "duration": 6,
    "start_time": "2021-10-27T23:20:02.680Z"
   },
   {
    "duration": 31,
    "start_time": "2021-10-27T23:20:02.689Z"
   },
   {
    "duration": 8,
    "start_time": "2021-10-27T23:20:02.722Z"
   },
   {
    "duration": 356,
    "start_time": "2021-10-27T23:20:02.733Z"
   },
   {
    "duration": 248,
    "start_time": "2021-10-27T23:20:03.092Z"
   },
   {
    "duration": 20,
    "start_time": "2021-10-27T23:20:03.342Z"
   },
   {
    "duration": 16,
    "start_time": "2021-10-27T23:20:03.365Z"
   },
   {
    "duration": 20,
    "start_time": "2021-10-27T23:20:03.383Z"
   },
   {
    "duration": 10,
    "start_time": "2021-10-27T23:20:03.406Z"
   },
   {
    "duration": 19,
    "start_time": "2021-10-27T23:20:03.418Z"
   },
   {
    "duration": 24,
    "start_time": "2021-10-27T23:20:03.440Z"
   },
   {
    "duration": 7,
    "start_time": "2021-10-27T23:20:03.466Z"
   },
   {
    "duration": 14,
    "start_time": "2021-10-27T23:20:03.476Z"
   },
   {
    "duration": 11,
    "start_time": "2021-10-27T23:20:03.493Z"
   },
   {
    "duration": 52,
    "start_time": "2021-10-27T23:20:03.506Z"
   },
   {
    "duration": 11,
    "start_time": "2021-10-27T23:20:03.563Z"
   },
   {
    "duration": 38,
    "start_time": "2021-10-27T23:20:03.578Z"
   },
   {
    "duration": 95,
    "start_time": "2021-10-27T23:20:03.619Z"
   },
   {
    "duration": 12,
    "start_time": "2021-10-27T23:20:03.716Z"
   },
   {
    "duration": 858,
    "start_time": "2021-10-27T23:20:03.730Z"
   },
   {
    "duration": 12,
    "start_time": "2021-10-27T23:20:04.591Z"
   },
   {
    "duration": 22,
    "start_time": "2021-10-27T23:20:04.605Z"
   },
   {
    "duration": 21,
    "start_time": "2021-10-27T23:20:04.658Z"
   },
   {
    "duration": 22,
    "start_time": "2021-10-27T23:20:04.681Z"
   },
   {
    "duration": 14,
    "start_time": "2021-10-27T23:20:04.705Z"
   },
   {
    "duration": 84,
    "start_time": "2021-10-27T23:20:04.721Z"
   },
   {
    "duration": 10,
    "start_time": "2021-10-27T23:20:04.808Z"
   },
   {
    "duration": 16,
    "start_time": "2021-10-27T23:20:04.820Z"
   },
   {
    "duration": 22,
    "start_time": "2021-10-27T23:20:04.838Z"
   },
   {
    "duration": 27,
    "start_time": "2021-10-27T23:20:04.862Z"
   },
   {
    "duration": 7,
    "start_time": "2021-10-27T23:20:04.891Z"
   },
   {
    "duration": 17,
    "start_time": "2021-10-27T23:20:04.900Z"
   },
   {
    "duration": 26,
    "start_time": "2021-10-27T23:20:04.920Z"
   },
   {
    "duration": 250,
    "start_time": "2021-10-27T23:20:04.948Z"
   },
   {
    "duration": 9,
    "start_time": "2021-10-27T23:20:05.201Z"
   },
   {
    "duration": 29,
    "start_time": "2021-10-27T23:20:05.212Z"
   },
   {
    "duration": 69,
    "start_time": "2021-10-27T23:20:05.244Z"
   },
   {
    "duration": 10,
    "start_time": "2021-10-27T23:20:05.315Z"
   },
   {
    "duration": 694,
    "start_time": "2021-10-27T23:20:05.327Z"
   },
   {
    "duration": 10,
    "start_time": "2021-10-27T23:20:06.024Z"
   },
   {
    "duration": 34,
    "start_time": "2021-10-27T23:20:06.037Z"
   },
   {
    "duration": 27,
    "start_time": "2021-10-27T23:20:06.074Z"
   },
   {
    "duration": 26,
    "start_time": "2021-10-27T23:20:06.103Z"
   },
   {
    "duration": 14,
    "start_time": "2021-10-27T23:20:06.132Z"
   },
   {
    "duration": 49,
    "start_time": "2021-10-27T23:20:06.149Z"
   },
   {
    "duration": 12,
    "start_time": "2021-10-27T23:20:06.200Z"
   },
   {
    "duration": 16,
    "start_time": "2021-10-27T23:20:06.214Z"
   },
   {
    "duration": 31,
    "start_time": "2021-10-27T23:20:06.232Z"
   },
   {
    "duration": 19,
    "start_time": "2021-10-27T23:20:06.266Z"
   },
   {
    "duration": 35,
    "start_time": "2021-10-27T23:20:06.287Z"
   },
   {
    "duration": 8,
    "start_time": "2021-10-27T23:20:06.325Z"
   },
   {
    "duration": 23,
    "start_time": "2021-10-27T23:20:06.336Z"
   },
   {
    "duration": 14,
    "start_time": "2021-10-27T23:20:06.361Z"
   },
   {
    "duration": 15,
    "start_time": "2021-10-27T23:20:06.378Z"
   },
   {
    "duration": 228,
    "start_time": "2021-10-27T23:20:06.395Z"
   },
   {
    "duration": 6,
    "start_time": "2021-10-27T23:20:06.626Z"
   },
   {
    "duration": 25,
    "start_time": "2021-10-27T23:20:06.635Z"
   },
   {
    "duration": 26,
    "start_time": "2021-10-27T23:20:06.663Z"
   },
   {
    "duration": 6,
    "start_time": "2021-10-27T23:20:06.691Z"
   },
   {
    "duration": 14,
    "start_time": "2021-10-27T23:20:06.700Z"
   },
   {
    "duration": 41,
    "start_time": "2021-10-27T23:20:06.724Z"
   },
   {
    "duration": 20,
    "start_time": "2021-10-27T23:20:06.769Z"
   },
   {
    "duration": 10,
    "start_time": "2021-10-27T23:20:06.792Z"
   },
   {
    "duration": 6,
    "start_time": "2021-10-27T23:20:06.804Z"
   },
   {
    "duration": 45,
    "start_time": "2021-10-27T23:20:06.813Z"
   },
   {
    "duration": 13,
    "start_time": "2021-10-27T23:20:06.861Z"
   },
   {
    "duration": 19,
    "start_time": "2021-10-27T23:20:06.877Z"
   },
   {
    "duration": 12,
    "start_time": "2021-10-27T23:20:06.898Z"
   },
   {
    "duration": 3,
    "start_time": "2021-10-27T23:20:06.913Z"
   },
   {
    "duration": 5,
    "start_time": "2021-10-27T23:20:06.958Z"
   },
   {
    "duration": 11,
    "start_time": "2021-10-27T23:20:06.966Z"
   },
   {
    "duration": 4,
    "start_time": "2021-10-27T23:20:06.980Z"
   },
   {
    "duration": 15,
    "start_time": "2021-10-27T23:20:06.986Z"
   },
   {
    "duration": 5,
    "start_time": "2021-10-27T23:20:07.003Z"
   },
   {
    "duration": 47,
    "start_time": "2021-10-27T23:20:07.011Z"
   },
   {
    "duration": 3717,
    "start_time": "2021-10-27T23:20:07.061Z"
   },
   {
    "duration": 16,
    "start_time": "2021-10-27T23:20:10.780Z"
   },
   {
    "duration": 10,
    "start_time": "2021-10-27T23:20:10.799Z"
   },
   {
    "duration": 8216,
    "start_time": "2021-10-27T23:20:10.812Z"
   },
   {
    "duration": 10,
    "start_time": "2021-10-27T23:20:19.031Z"
   },
   {
    "duration": 5,
    "start_time": "2021-10-27T23:20:19.058Z"
   },
   {
    "duration": 29,
    "start_time": "2021-10-27T23:20:19.066Z"
   },
   {
    "duration": 3,
    "start_time": "2021-10-27T23:20:19.098Z"
   },
   {
    "duration": 14,
    "start_time": "2021-10-27T23:20:19.104Z"
   },
   {
    "duration": 1704,
    "start_time": "2021-10-27T23:20:19.121Z"
   },
   {
    "duration": 29,
    "start_time": "2021-10-27T23:20:20.828Z"
   },
   {
    "duration": 4515,
    "start_time": "2021-10-27T23:20:20.860Z"
   },
   {
    "duration": 10,
    "start_time": "2021-10-27T23:20:25.377Z"
   },
   {
    "duration": 5,
    "start_time": "2021-10-27T23:20:25.390Z"
   },
   {
    "duration": 20,
    "start_time": "2021-10-27T23:20:25.398Z"
   },
   {
    "duration": 4,
    "start_time": "2021-10-27T23:20:25.457Z"
   },
   {
    "duration": 21,
    "start_time": "2021-10-27T23:20:25.463Z"
   },
   {
    "duration": 9,
    "start_time": "2021-10-27T23:20:25.486Z"
   },
   {
    "duration": 6,
    "start_time": "2021-10-27T23:20:25.498Z"
   },
   {
    "duration": 8,
    "start_time": "2021-10-27T23:20:25.506Z"
   },
   {
    "duration": 55,
    "start_time": "2021-10-27T23:20:25.517Z"
   },
   {
    "duration": 7,
    "start_time": "2021-10-27T23:20:25.574Z"
   },
   {
    "duration": 15,
    "start_time": "2021-10-27T23:20:25.583Z"
   },
   {
    "duration": 4,
    "start_time": "2021-10-27T23:20:25.600Z"
   },
   {
    "duration": 50,
    "start_time": "2021-10-27T23:20:25.607Z"
   },
   {
    "duration": 39,
    "start_time": "2021-10-27T23:20:25.659Z"
   },
   {
    "duration": 4,
    "start_time": "2021-10-27T23:20:25.700Z"
   },
   {
    "duration": 12,
    "start_time": "2021-10-27T23:20:25.706Z"
   },
   {
    "duration": 5,
    "start_time": "2021-10-27T23:20:25.720Z"
   },
   {
    "duration": 237,
    "start_time": "2021-10-27T23:20:25.727Z"
   },
   {
    "duration": 93,
    "start_time": "2021-10-27T23:20:25.967Z"
   },
   {
    "duration": 4157,
    "start_time": "2021-10-27T23:20:26.062Z"
   },
   {
    "duration": 7,
    "start_time": "2021-10-27T23:20:30.222Z"
   },
   {
    "duration": 27,
    "start_time": "2021-10-27T23:20:30.231Z"
   },
   {
    "duration": 11404,
    "start_time": "2021-10-27T23:20:30.261Z"
   },
   {
    "duration": 5,
    "start_time": "2021-10-27T23:20:41.667Z"
   },
   {
    "duration": 2590,
    "start_time": "2021-10-27T23:20:41.674Z"
   },
   {
    "duration": 8,
    "start_time": "2021-10-27T23:20:44.267Z"
   },
   {
    "duration": 20,
    "start_time": "2021-10-27T23:20:44.278Z"
   },
   {
    "duration": 591,
    "start_time": "2021-10-27T23:20:44.358Z"
   },
   {
    "duration": 596,
    "start_time": "2021-10-27T23:20:44.952Z"
   },
   {
    "duration": 45,
    "start_time": "2021-10-27T23:20:45.560Z"
   },
   {
    "duration": 61,
    "start_time": "2021-10-27T23:20:45.608Z"
   },
   {
    "duration": 5,
    "start_time": "2021-10-27T23:20:45.671Z"
   },
   {
    "duration": 17,
    "start_time": "2021-10-27T23:20:45.679Z"
   },
   {
    "duration": 9,
    "start_time": "2021-10-27T23:20:45.698Z"
   },
   {
    "duration": 783,
    "start_time": "2021-10-27T23:20:45.709Z"
   },
   {
    "duration": 1477,
    "start_time": "2021-10-27T23:20:46.495Z"
   },
   {
    "duration": 4,
    "start_time": "2021-10-27T23:20:47.974Z"
   },
   {
    "duration": 95,
    "start_time": "2021-10-27T23:20:47.982Z"
   },
   {
    "duration": 5,
    "start_time": "2021-10-27T23:20:48.079Z"
   },
   {
    "duration": 10,
    "start_time": "2021-10-27T23:20:48.087Z"
   },
   {
    "duration": 5,
    "start_time": "2021-10-27T23:20:48.099Z"
   },
   {
    "duration": 13,
    "start_time": "2021-10-27T23:20:48.106Z"
   },
   {
    "duration": 6,
    "start_time": "2021-10-27T23:23:44.696Z"
   },
   {
    "duration": 13,
    "start_time": "2021-10-27T23:23:46.088Z"
   },
   {
    "duration": 20,
    "start_time": "2021-10-27T23:26:25.625Z"
   },
   {
    "duration": 497,
    "start_time": "2021-10-27T23:26:46.224Z"
   },
   {
    "duration": 1561,
    "start_time": "2021-10-27T23:30:37.640Z"
   },
   {
    "duration": 220,
    "start_time": "2021-10-27T23:30:39.203Z"
   },
   {
    "duration": 10,
    "start_time": "2021-10-27T23:30:39.426Z"
   },
   {
    "duration": 25,
    "start_time": "2021-10-27T23:30:39.439Z"
   },
   {
    "duration": 11,
    "start_time": "2021-10-27T23:30:39.466Z"
   },
   {
    "duration": 38,
    "start_time": "2021-10-27T23:30:39.479Z"
   },
   {
    "duration": 39,
    "start_time": "2021-10-27T23:30:39.520Z"
   },
   {
    "duration": 7,
    "start_time": "2021-10-27T23:30:39.564Z"
   },
   {
    "duration": 24,
    "start_time": "2021-10-27T23:30:39.574Z"
   },
   {
    "duration": 10,
    "start_time": "2021-10-27T23:30:39.600Z"
   },
   {
    "duration": 268,
    "start_time": "2021-10-27T23:30:39.613Z"
   },
   {
    "duration": 242,
    "start_time": "2021-10-27T23:30:39.884Z"
   },
   {
    "duration": 28,
    "start_time": "2021-10-27T23:30:40.129Z"
   },
   {
    "duration": 15,
    "start_time": "2021-10-27T23:30:40.159Z"
   },
   {
    "duration": 8,
    "start_time": "2021-10-27T23:30:40.177Z"
   },
   {
    "duration": 10,
    "start_time": "2021-10-27T23:30:40.188Z"
   },
   {
    "duration": 11,
    "start_time": "2021-10-27T23:30:40.200Z"
   },
   {
    "duration": 19,
    "start_time": "2021-10-27T23:30:40.214Z"
   },
   {
    "duration": 22,
    "start_time": "2021-10-27T23:30:40.235Z"
   },
   {
    "duration": 13,
    "start_time": "2021-10-27T23:30:40.259Z"
   },
   {
    "duration": 11,
    "start_time": "2021-10-27T23:30:40.275Z"
   },
   {
    "duration": 16,
    "start_time": "2021-10-27T23:30:40.289Z"
   },
   {
    "duration": 19,
    "start_time": "2021-10-27T23:30:40.311Z"
   },
   {
    "duration": 44,
    "start_time": "2021-10-27T23:30:40.334Z"
   },
   {
    "duration": 96,
    "start_time": "2021-10-27T23:30:40.380Z"
   },
   {
    "duration": 12,
    "start_time": "2021-10-27T23:30:40.478Z"
   },
   {
    "duration": 764,
    "start_time": "2021-10-27T23:30:40.493Z"
   },
   {
    "duration": 12,
    "start_time": "2021-10-27T23:30:41.260Z"
   },
   {
    "duration": 23,
    "start_time": "2021-10-27T23:30:41.274Z"
   },
   {
    "duration": 23,
    "start_time": "2021-10-27T23:30:41.299Z"
   },
   {
    "duration": 45,
    "start_time": "2021-10-27T23:30:41.325Z"
   },
   {
    "duration": 9,
    "start_time": "2021-10-27T23:30:41.373Z"
   },
   {
    "duration": 84,
    "start_time": "2021-10-27T23:30:41.384Z"
   },
   {
    "duration": 10,
    "start_time": "2021-10-27T23:30:41.470Z"
   },
   {
    "duration": 8,
    "start_time": "2021-10-27T23:30:41.482Z"
   },
   {
    "duration": 13,
    "start_time": "2021-10-27T23:30:41.492Z"
   },
   {
    "duration": 52,
    "start_time": "2021-10-27T23:30:41.507Z"
   },
   {
    "duration": 7,
    "start_time": "2021-10-27T23:30:41.562Z"
   },
   {
    "duration": 6,
    "start_time": "2021-10-27T23:30:41.571Z"
   },
   {
    "duration": 17,
    "start_time": "2021-10-27T23:30:41.579Z"
   },
   {
    "duration": 262,
    "start_time": "2021-10-27T23:30:41.598Z"
   },
   {
    "duration": 12,
    "start_time": "2021-10-27T23:30:41.863Z"
   },
   {
    "duration": 18,
    "start_time": "2021-10-27T23:30:41.878Z"
   },
   {
    "duration": 92,
    "start_time": "2021-10-27T23:30:41.899Z"
   },
   {
    "duration": 8,
    "start_time": "2021-10-27T23:30:41.993Z"
   },
   {
    "duration": 687,
    "start_time": "2021-10-27T23:30:42.003Z"
   },
   {
    "duration": 11,
    "start_time": "2021-10-27T23:30:42.693Z"
   },
   {
    "duration": 23,
    "start_time": "2021-10-27T23:30:42.707Z"
   },
   {
    "duration": 46,
    "start_time": "2021-10-27T23:30:42.733Z"
   },
   {
    "duration": 13,
    "start_time": "2021-10-27T23:30:42.782Z"
   },
   {
    "duration": 33,
    "start_time": "2021-10-27T23:30:42.798Z"
   },
   {
    "duration": 56,
    "start_time": "2021-10-27T23:30:42.834Z"
   },
   {
    "duration": 11,
    "start_time": "2021-10-27T23:30:42.892Z"
   },
   {
    "duration": 26,
    "start_time": "2021-10-27T23:30:42.905Z"
   },
   {
    "duration": 9,
    "start_time": "2021-10-27T23:30:42.934Z"
   },
   {
    "duration": 10,
    "start_time": "2021-10-27T23:30:42.957Z"
   },
   {
    "duration": 24,
    "start_time": "2021-10-27T23:30:42.970Z"
   },
   {
    "duration": 8,
    "start_time": "2021-10-27T23:30:42.997Z"
   },
   {
    "duration": 6,
    "start_time": "2021-10-27T23:30:43.008Z"
   },
   {
    "duration": 48,
    "start_time": "2021-10-27T23:30:43.016Z"
   },
   {
    "duration": 7,
    "start_time": "2021-10-27T23:30:43.067Z"
   },
   {
    "duration": 230,
    "start_time": "2021-10-27T23:30:43.076Z"
   },
   {
    "duration": 6,
    "start_time": "2021-10-27T23:30:43.309Z"
   },
   {
    "duration": 10,
    "start_time": "2021-10-27T23:30:43.317Z"
   },
   {
    "duration": 39,
    "start_time": "2021-10-27T23:30:43.329Z"
   },
   {
    "duration": 7,
    "start_time": "2021-10-27T23:30:43.370Z"
   },
   {
    "duration": 15,
    "start_time": "2021-10-27T23:30:43.379Z"
   },
   {
    "duration": 17,
    "start_time": "2021-10-27T23:30:43.405Z"
   },
   {
    "duration": 49,
    "start_time": "2021-10-27T23:30:43.426Z"
   },
   {
    "duration": 10,
    "start_time": "2021-10-27T23:30:43.477Z"
   },
   {
    "duration": 9,
    "start_time": "2021-10-27T23:30:43.490Z"
   },
   {
    "duration": 19,
    "start_time": "2021-10-27T23:30:43.501Z"
   },
   {
    "duration": 42,
    "start_time": "2021-10-27T23:30:43.523Z"
   },
   {
    "duration": 24,
    "start_time": "2021-10-27T23:30:43.568Z"
   },
   {
    "duration": 22,
    "start_time": "2021-10-27T23:30:43.594Z"
   },
   {
    "duration": 40,
    "start_time": "2021-10-27T23:30:43.618Z"
   },
   {
    "duration": 12,
    "start_time": "2021-10-27T23:30:43.660Z"
   },
   {
    "duration": 10,
    "start_time": "2021-10-27T23:30:43.675Z"
   },
   {
    "duration": 25,
    "start_time": "2021-10-27T23:30:43.687Z"
   },
   {
    "duration": 30,
    "start_time": "2021-10-27T23:30:43.714Z"
   },
   {
    "duration": 22,
    "start_time": "2021-10-27T23:30:43.746Z"
   },
   {
    "duration": 42,
    "start_time": "2021-10-27T23:30:43.770Z"
   },
   {
    "duration": 14,
    "start_time": "2021-10-27T23:30:43.814Z"
   },
   {
    "duration": 31,
    "start_time": "2021-10-27T23:30:43.831Z"
   },
   {
    "duration": 3713,
    "start_time": "2021-10-27T23:30:43.864Z"
   },
   {
    "duration": 12,
    "start_time": "2021-10-27T23:30:47.579Z"
   },
   {
    "duration": 6,
    "start_time": "2021-10-27T23:30:47.593Z"
   },
   {
    "duration": 8589,
    "start_time": "2021-10-27T23:30:47.602Z"
   },
   {
    "duration": 7,
    "start_time": "2021-10-27T23:30:56.194Z"
   },
   {
    "duration": 6,
    "start_time": "2021-10-27T23:30:56.203Z"
   },
   {
    "duration": 48,
    "start_time": "2021-10-27T23:30:56.211Z"
   },
   {
    "duration": 3,
    "start_time": "2021-10-27T23:30:56.261Z"
   },
   {
    "duration": 14,
    "start_time": "2021-10-27T23:30:56.266Z"
   },
   {
    "duration": 1677,
    "start_time": "2021-10-27T23:30:56.283Z"
   },
   {
    "duration": 13,
    "start_time": "2021-10-27T23:30:57.963Z"
   },
   {
    "duration": 4560,
    "start_time": "2021-10-27T23:30:57.979Z"
   },
   {
    "duration": 16,
    "start_time": "2021-10-27T23:31:02.541Z"
   },
   {
    "duration": 5,
    "start_time": "2021-10-27T23:31:02.560Z"
   },
   {
    "duration": 29,
    "start_time": "2021-10-27T23:31:02.567Z"
   },
   {
    "duration": 13,
    "start_time": "2021-10-27T23:31:02.598Z"
   },
   {
    "duration": 24,
    "start_time": "2021-10-27T23:31:02.613Z"
   },
   {
    "duration": 21,
    "start_time": "2021-10-27T23:31:02.640Z"
   },
   {
    "duration": 15,
    "start_time": "2021-10-27T23:31:02.663Z"
   },
   {
    "duration": 20,
    "start_time": "2021-10-27T23:31:02.680Z"
   },
   {
    "duration": 27,
    "start_time": "2021-10-27T23:31:02.702Z"
   },
   {
    "duration": 10,
    "start_time": "2021-10-27T23:31:02.732Z"
   },
   {
    "duration": 20,
    "start_time": "2021-10-27T23:31:02.745Z"
   },
   {
    "duration": 5,
    "start_time": "2021-10-27T23:31:02.767Z"
   },
   {
    "duration": 15,
    "start_time": "2021-10-27T23:31:02.775Z"
   },
   {
    "duration": 63,
    "start_time": "2021-10-27T23:31:02.793Z"
   },
   {
    "duration": 5,
    "start_time": "2021-10-27T23:31:02.859Z"
   },
   {
    "duration": 15,
    "start_time": "2021-10-27T23:31:02.867Z"
   },
   {
    "duration": 12,
    "start_time": "2021-10-27T23:31:02.885Z"
   },
   {
    "duration": 357,
    "start_time": "2021-10-27T23:31:02.900Z"
   },
   {
    "duration": 97,
    "start_time": "2021-10-27T23:31:03.261Z"
   },
   {
    "duration": 4268,
    "start_time": "2021-10-27T23:31:03.361Z"
   },
   {
    "duration": 6,
    "start_time": "2021-10-27T23:31:07.632Z"
   },
   {
    "duration": 19,
    "start_time": "2021-10-27T23:31:07.641Z"
   },
   {
    "duration": 23706,
    "start_time": "2021-10-27T23:31:07.663Z"
   },
   {
    "duration": 6,
    "start_time": "2021-10-27T23:31:31.458Z"
   },
   {
    "duration": 2593,
    "start_time": "2021-10-27T23:31:31.466Z"
   },
   {
    "duration": 9,
    "start_time": "2021-10-27T23:31:34.062Z"
   },
   {
    "duration": 23,
    "start_time": "2021-10-27T23:31:34.073Z"
   },
   {
    "duration": 646,
    "start_time": "2021-10-27T23:31:34.099Z"
   },
   {
    "duration": 601,
    "start_time": "2021-10-27T23:31:34.747Z"
   },
   {
    "duration": 49,
    "start_time": "2021-10-27T23:31:35.350Z"
   },
   {
    "duration": 67,
    "start_time": "2021-10-27T23:31:35.401Z"
   },
   {
    "duration": 5,
    "start_time": "2021-10-27T23:31:35.470Z"
   },
   {
    "duration": 26,
    "start_time": "2021-10-27T23:31:35.478Z"
   },
   {
    "duration": 27,
    "start_time": "2021-10-27T23:31:35.507Z"
   },
   {
    "duration": 780,
    "start_time": "2021-10-27T23:31:35.537Z"
   },
   {
    "duration": 1352,
    "start_time": "2021-10-27T23:31:36.319Z"
   },
   {
    "duration": 3,
    "start_time": "2021-10-27T23:31:37.674Z"
   },
   {
    "duration": 92,
    "start_time": "2021-10-27T23:31:37.679Z"
   },
   {
    "duration": 14,
    "start_time": "2021-10-27T23:31:37.773Z"
   },
   {
    "duration": 17,
    "start_time": "2021-10-27T23:31:37.789Z"
   },
   {
    "duration": 27,
    "start_time": "2021-10-27T23:31:37.808Z"
   },
   {
    "duration": 24,
    "start_time": "2021-10-27T23:31:37.838Z"
   },
   {
    "duration": 28,
    "start_time": "2021-10-27T23:31:37.865Z"
   },
   {
    "duration": 9,
    "start_time": "2021-10-27T23:47:34.845Z"
   },
   {
    "duration": 50,
    "start_time": "2021-10-27T23:49:44.108Z"
   },
   {
    "duration": 7,
    "start_time": "2021-10-27T23:57:28.146Z"
   },
   {
    "duration": 14,
    "start_time": "2021-10-27T23:57:39.409Z"
   },
   {
    "duration": 1624,
    "start_time": "2021-10-28T00:07:49.248Z"
   },
   {
    "duration": 222,
    "start_time": "2021-10-28T00:07:50.879Z"
   },
   {
    "duration": 14,
    "start_time": "2021-10-28T00:07:51.104Z"
   },
   {
    "duration": 17,
    "start_time": "2021-10-28T00:07:51.121Z"
   },
   {
    "duration": 20,
    "start_time": "2021-10-28T00:07:51.140Z"
   },
   {
    "duration": 29,
    "start_time": "2021-10-28T00:07:51.162Z"
   },
   {
    "duration": 20,
    "start_time": "2021-10-28T00:07:51.194Z"
   },
   {
    "duration": 5,
    "start_time": "2021-10-28T00:07:51.218Z"
   },
   {
    "duration": 16,
    "start_time": "2021-10-28T00:07:51.258Z"
   },
   {
    "duration": 10,
    "start_time": "2021-10-28T00:07:51.277Z"
   },
   {
    "duration": 255,
    "start_time": "2021-10-28T00:07:51.289Z"
   },
   {
    "duration": 236,
    "start_time": "2021-10-28T00:07:51.547Z"
   },
   {
    "duration": 14,
    "start_time": "2021-10-28T00:07:51.786Z"
   },
   {
    "duration": 15,
    "start_time": "2021-10-28T00:07:51.802Z"
   },
   {
    "duration": 39,
    "start_time": "2021-10-28T00:07:51.819Z"
   },
   {
    "duration": 8,
    "start_time": "2021-10-28T00:07:51.860Z"
   },
   {
    "duration": 6,
    "start_time": "2021-10-28T00:07:51.870Z"
   },
   {
    "duration": 7,
    "start_time": "2021-10-28T00:07:51.879Z"
   },
   {
    "duration": 5,
    "start_time": "2021-10-28T00:07:51.888Z"
   },
   {
    "duration": 12,
    "start_time": "2021-10-28T00:07:51.896Z"
   },
   {
    "duration": 48,
    "start_time": "2021-10-28T00:07:51.910Z"
   },
   {
    "duration": 15,
    "start_time": "2021-10-28T00:07:51.960Z"
   },
   {
    "duration": 12,
    "start_time": "2021-10-28T00:07:51.978Z"
   },
   {
    "duration": 22,
    "start_time": "2021-10-28T00:07:51.993Z"
   },
   {
    "duration": 115,
    "start_time": "2021-10-28T00:07:52.017Z"
   },
   {
    "duration": 29,
    "start_time": "2021-10-28T00:07:52.138Z"
   },
   {
    "duration": 747,
    "start_time": "2021-10-28T00:07:52.173Z"
   },
   {
    "duration": 12,
    "start_time": "2021-10-28T00:07:52.922Z"
   },
   {
    "duration": 35,
    "start_time": "2021-10-28T00:07:52.937Z"
   },
   {
    "duration": 26,
    "start_time": "2021-10-28T00:07:52.975Z"
   },
   {
    "duration": 16,
    "start_time": "2021-10-28T00:07:53.003Z"
   },
   {
    "duration": 42,
    "start_time": "2021-10-28T00:07:53.021Z"
   },
   {
    "duration": 58,
    "start_time": "2021-10-28T00:07:53.065Z"
   },
   {
    "duration": 9,
    "start_time": "2021-10-28T00:07:53.126Z"
   },
   {
    "duration": 8,
    "start_time": "2021-10-28T00:07:53.158Z"
   },
   {
    "duration": 13,
    "start_time": "2021-10-28T00:07:53.169Z"
   },
   {
    "duration": 25,
    "start_time": "2021-10-28T00:07:53.185Z"
   },
   {
    "duration": 7,
    "start_time": "2021-10-28T00:07:53.213Z"
   },
   {
    "duration": 5,
    "start_time": "2021-10-28T00:07:53.258Z"
   },
   {
    "duration": 11,
    "start_time": "2021-10-28T00:07:53.266Z"
   },
   {
    "duration": 250,
    "start_time": "2021-10-28T00:07:53.279Z"
   },
   {
    "duration": 10,
    "start_time": "2021-10-28T00:07:53.532Z"
   },
   {
    "duration": 28,
    "start_time": "2021-10-28T00:07:53.544Z"
   },
   {
    "duration": 58,
    "start_time": "2021-10-28T00:07:53.575Z"
   },
   {
    "duration": 27,
    "start_time": "2021-10-28T00:07:53.636Z"
   },
   {
    "duration": 654,
    "start_time": "2021-10-28T00:07:53.666Z"
   },
   {
    "duration": 11,
    "start_time": "2021-10-28T00:07:54.322Z"
   },
   {
    "duration": 35,
    "start_time": "2021-10-28T00:07:54.335Z"
   },
   {
    "duration": 18,
    "start_time": "2021-10-28T00:07:54.372Z"
   },
   {
    "duration": 20,
    "start_time": "2021-10-28T00:07:54.393Z"
   },
   {
    "duration": 14,
    "start_time": "2021-10-28T00:07:54.415Z"
   },
   {
    "duration": 61,
    "start_time": "2021-10-28T00:07:54.431Z"
   },
   {
    "duration": 11,
    "start_time": "2021-10-28T00:07:54.494Z"
   },
   {
    "duration": 8,
    "start_time": "2021-10-28T00:07:54.507Z"
   },
   {
    "duration": 40,
    "start_time": "2021-10-28T00:07:54.518Z"
   },
   {
    "duration": 10,
    "start_time": "2021-10-28T00:07:54.560Z"
   },
   {
    "duration": 22,
    "start_time": "2021-10-28T00:07:54.573Z"
   },
   {
    "duration": 8,
    "start_time": "2021-10-28T00:07:54.598Z"
   },
   {
    "duration": 6,
    "start_time": "2021-10-28T00:07:54.609Z"
   },
   {
    "duration": 9,
    "start_time": "2021-10-28T00:07:54.659Z"
   },
   {
    "duration": 15,
    "start_time": "2021-10-28T00:07:54.671Z"
   },
   {
    "duration": 238,
    "start_time": "2021-10-28T00:07:54.688Z"
   },
   {
    "duration": 7,
    "start_time": "2021-10-28T00:07:54.929Z"
   },
   {
    "duration": 23,
    "start_time": "2021-10-28T00:07:54.938Z"
   },
   {
    "duration": 17,
    "start_time": "2021-10-28T00:07:54.963Z"
   },
   {
    "duration": 6,
    "start_time": "2021-10-28T00:07:54.982Z"
   },
   {
    "duration": 13,
    "start_time": "2021-10-28T00:07:54.990Z"
   },
   {
    "duration": 57,
    "start_time": "2021-10-28T00:07:55.006Z"
   },
   {
    "duration": 20,
    "start_time": "2021-10-28T00:07:55.066Z"
   },
   {
    "duration": 9,
    "start_time": "2021-10-28T00:07:55.089Z"
   },
   {
    "duration": 6,
    "start_time": "2021-10-28T00:07:55.101Z"
   },
   {
    "duration": 49,
    "start_time": "2021-10-28T00:07:55.109Z"
   },
   {
    "duration": 14,
    "start_time": "2021-10-28T00:07:55.160Z"
   },
   {
    "duration": 19,
    "start_time": "2021-10-28T00:07:55.177Z"
   },
   {
    "duration": 13,
    "start_time": "2021-10-28T00:07:55.198Z"
   },
   {
    "duration": 3,
    "start_time": "2021-10-28T00:07:55.213Z"
   },
   {
    "duration": 43,
    "start_time": "2021-10-28T00:07:55.218Z"
   },
   {
    "duration": 14,
    "start_time": "2021-10-28T00:07:55.264Z"
   },
   {
    "duration": 10,
    "start_time": "2021-10-28T00:07:55.280Z"
   },
   {
    "duration": 11,
    "start_time": "2021-10-28T00:07:55.301Z"
   },
   {
    "duration": 3,
    "start_time": "2021-10-28T00:07:55.316Z"
   },
   {
    "duration": 46,
    "start_time": "2021-10-28T00:07:55.321Z"
   },
   {
    "duration": 3673,
    "start_time": "2021-10-28T00:07:55.370Z"
   },
   {
    "duration": 19,
    "start_time": "2021-10-28T00:07:59.045Z"
   },
   {
    "duration": 5,
    "start_time": "2021-10-28T00:07:59.067Z"
   },
   {
    "duration": 8230,
    "start_time": "2021-10-28T00:07:59.075Z"
   },
   {
    "duration": 8,
    "start_time": "2021-10-28T00:08:07.307Z"
   },
   {
    "duration": 6,
    "start_time": "2021-10-28T00:08:07.317Z"
   },
   {
    "duration": 47,
    "start_time": "2021-10-28T00:08:07.325Z"
   },
   {
    "duration": 3,
    "start_time": "2021-10-28T00:08:07.374Z"
   },
   {
    "duration": 12,
    "start_time": "2021-10-28T00:08:07.380Z"
   },
   {
    "duration": 1602,
    "start_time": "2021-10-28T00:08:07.395Z"
   },
   {
    "duration": 12,
    "start_time": "2021-10-28T00:08:09.000Z"
   },
   {
    "duration": 4488,
    "start_time": "2021-10-28T00:08:09.014Z"
   },
   {
    "duration": 8,
    "start_time": "2021-10-28T00:08:13.504Z"
   },
   {
    "duration": 5,
    "start_time": "2021-10-28T00:08:13.515Z"
   },
   {
    "duration": 44,
    "start_time": "2021-10-28T00:08:13.523Z"
   },
   {
    "duration": 4,
    "start_time": "2021-10-28T00:08:13.569Z"
   },
   {
    "duration": 14,
    "start_time": "2021-10-28T00:08:13.575Z"
   },
   {
    "duration": 6,
    "start_time": "2021-10-28T00:08:13.592Z"
   },
   {
    "duration": 7,
    "start_time": "2021-10-28T00:08:13.600Z"
   },
   {
    "duration": 9,
    "start_time": "2021-10-28T00:08:13.609Z"
   },
   {
    "duration": 20,
    "start_time": "2021-10-28T00:08:13.659Z"
   },
   {
    "duration": 6,
    "start_time": "2021-10-28T00:08:13.681Z"
   },
   {
    "duration": 15,
    "start_time": "2021-10-28T00:08:13.690Z"
   },
   {
    "duration": 4,
    "start_time": "2021-10-28T00:08:13.708Z"
   },
   {
    "duration": 47,
    "start_time": "2021-10-28T00:08:13.714Z"
   },
   {
    "duration": 40,
    "start_time": "2021-10-28T00:08:13.763Z"
   },
   {
    "duration": 5,
    "start_time": "2021-10-28T00:08:13.805Z"
   },
   {
    "duration": 9,
    "start_time": "2021-10-28T00:08:13.813Z"
   },
   {
    "duration": 36,
    "start_time": "2021-10-28T00:08:13.824Z"
   },
   {
    "duration": 303,
    "start_time": "2021-10-28T00:08:13.862Z"
   },
   {
    "duration": 91,
    "start_time": "2021-10-28T00:08:14.168Z"
   },
   {
    "duration": 4228,
    "start_time": "2021-10-28T00:08:14.263Z"
   },
   {
    "duration": 5,
    "start_time": "2021-10-28T00:08:18.494Z"
   },
   {
    "duration": 6,
    "start_time": "2021-10-28T00:08:18.501Z"
   },
   {
    "duration": 11657,
    "start_time": "2021-10-28T00:08:18.509Z"
   },
   {
    "duration": 6,
    "start_time": "2021-10-28T00:08:30.168Z"
   },
   {
    "duration": 2392,
    "start_time": "2021-10-28T00:08:30.177Z"
   },
   {
    "duration": 7,
    "start_time": "2021-10-28T00:08:32.572Z"
   },
   {
    "duration": 81,
    "start_time": "2021-10-28T00:08:32.582Z"
   },
   {
    "duration": 604,
    "start_time": "2021-10-28T00:08:32.665Z"
   },
   {
    "duration": 585,
    "start_time": "2021-10-28T00:08:33.272Z"
   },
   {
    "duration": 42,
    "start_time": "2021-10-28T00:08:33.860Z"
   },
   {
    "duration": 59,
    "start_time": "2021-10-28T00:08:33.904Z"
   },
   {
    "duration": 5,
    "start_time": "2021-10-28T00:08:33.966Z"
   },
   {
    "duration": 16,
    "start_time": "2021-10-28T00:08:33.973Z"
   },
   {
    "duration": 8,
    "start_time": "2021-10-28T00:08:33.991Z"
   },
   {
    "duration": 827,
    "start_time": "2021-10-28T00:08:34.001Z"
   },
   {
    "duration": 1344,
    "start_time": "2021-10-28T00:08:34.830Z"
   },
   {
    "duration": 89,
    "start_time": "2021-10-28T00:08:36.177Z"
   },
   {
    "duration": 12,
    "start_time": "2021-10-28T00:08:36.268Z"
   },
   {
    "duration": 23,
    "start_time": "2021-10-28T00:08:36.285Z"
   },
   {
    "duration": 8,
    "start_time": "2021-10-28T00:08:36.311Z"
   },
   {
    "duration": 774,
    "start_time": "2021-10-28T00:08:36.358Z"
   },
   {
    "duration": 1438,
    "start_time": "2021-10-28T00:08:37.134Z"
   },
   {
    "duration": 1499,
    "start_time": "2021-10-28T00:52:53.404Z"
   },
   {
    "duration": 210,
    "start_time": "2021-10-28T00:52:54.905Z"
   },
   {
    "duration": 12,
    "start_time": "2021-10-28T00:52:55.117Z"
   },
   {
    "duration": 20,
    "start_time": "2021-10-28T00:52:55.131Z"
   },
   {
    "duration": 10,
    "start_time": "2021-10-28T00:52:55.153Z"
   },
   {
    "duration": 28,
    "start_time": "2021-10-28T00:52:55.165Z"
   },
   {
    "duration": 21,
    "start_time": "2021-10-28T00:52:55.195Z"
   },
   {
    "duration": 6,
    "start_time": "2021-10-28T00:52:55.220Z"
   },
   {
    "duration": 23,
    "start_time": "2021-10-28T00:52:55.259Z"
   },
   {
    "duration": 9,
    "start_time": "2021-10-28T00:52:55.284Z"
   },
   {
    "duration": 265,
    "start_time": "2021-10-28T00:52:55.295Z"
   },
   {
    "duration": 234,
    "start_time": "2021-10-28T00:52:55.562Z"
   },
   {
    "duration": 13,
    "start_time": "2021-10-28T00:52:55.798Z"
   },
   {
    "duration": 15,
    "start_time": "2021-10-28T00:52:55.813Z"
   },
   {
    "duration": 30,
    "start_time": "2021-10-28T00:52:55.830Z"
   },
   {
    "duration": 8,
    "start_time": "2021-10-28T00:52:55.862Z"
   },
   {
    "duration": 6,
    "start_time": "2021-10-28T00:52:55.873Z"
   },
   {
    "duration": 6,
    "start_time": "2021-10-28T00:52:55.882Z"
   },
   {
    "duration": 5,
    "start_time": "2021-10-28T00:52:55.890Z"
   },
   {
    "duration": 11,
    "start_time": "2021-10-28T00:52:55.898Z"
   },
   {
    "duration": 46,
    "start_time": "2021-10-28T00:52:55.911Z"
   },
   {
    "duration": 13,
    "start_time": "2021-10-28T00:52:55.960Z"
   },
   {
    "duration": 10,
    "start_time": "2021-10-28T00:52:55.979Z"
   },
   {
    "duration": 23,
    "start_time": "2021-10-28T00:52:55.993Z"
   },
   {
    "duration": 110,
    "start_time": "2021-10-28T00:52:56.019Z"
   },
   {
    "duration": 35,
    "start_time": "2021-10-28T00:52:56.132Z"
   },
   {
    "duration": 747,
    "start_time": "2021-10-28T00:52:56.169Z"
   },
   {
    "duration": 12,
    "start_time": "2021-10-28T00:52:56.918Z"
   },
   {
    "duration": 39,
    "start_time": "2021-10-28T00:52:56.932Z"
   },
   {
    "duration": 20,
    "start_time": "2021-10-28T00:52:56.973Z"
   },
   {
    "duration": 18,
    "start_time": "2021-10-28T00:52:56.997Z"
   },
   {
    "duration": 43,
    "start_time": "2021-10-28T00:52:57.019Z"
   },
   {
    "duration": 63,
    "start_time": "2021-10-28T00:52:57.065Z"
   },
   {
    "duration": 39,
    "start_time": "2021-10-28T00:52:57.131Z"
   },
   {
    "duration": 12,
    "start_time": "2021-10-28T00:52:57.173Z"
   },
   {
    "duration": 11,
    "start_time": "2021-10-28T00:52:57.187Z"
   },
   {
    "duration": 59,
    "start_time": "2021-10-28T00:52:57.201Z"
   },
   {
    "duration": 8,
    "start_time": "2021-10-28T00:52:57.263Z"
   },
   {
    "duration": 13,
    "start_time": "2021-10-28T00:52:57.273Z"
   },
   {
    "duration": 9,
    "start_time": "2021-10-28T00:52:57.288Z"
   },
   {
    "duration": 280,
    "start_time": "2021-10-28T00:52:57.299Z"
   },
   {
    "duration": 13,
    "start_time": "2021-10-28T00:52:57.582Z"
   },
   {
    "duration": 23,
    "start_time": "2021-10-28T00:52:57.598Z"
   },
   {
    "duration": 80,
    "start_time": "2021-10-28T00:52:57.624Z"
   },
   {
    "duration": 9,
    "start_time": "2021-10-28T00:52:57.706Z"
   },
   {
    "duration": 670,
    "start_time": "2021-10-28T00:52:57.717Z"
   },
   {
    "duration": 11,
    "start_time": "2021-10-28T00:52:58.389Z"
   },
   {
    "duration": 18,
    "start_time": "2021-10-28T00:52:58.402Z"
   },
   {
    "duration": 46,
    "start_time": "2021-10-28T00:52:58.423Z"
   },
   {
    "duration": 11,
    "start_time": "2021-10-28T00:52:58.472Z"
   },
   {
    "duration": 8,
    "start_time": "2021-10-28T00:52:58.486Z"
   },
   {
    "duration": 65,
    "start_time": "2021-10-28T00:52:58.496Z"
   },
   {
    "duration": 12,
    "start_time": "2021-10-28T00:52:58.563Z"
   },
   {
    "duration": 9,
    "start_time": "2021-10-28T00:52:58.577Z"
   },
   {
    "duration": 9,
    "start_time": "2021-10-28T00:52:58.588Z"
   },
   {
    "duration": 10,
    "start_time": "2021-10-28T00:52:58.600Z"
   },
   {
    "duration": 63,
    "start_time": "2021-10-28T00:52:58.612Z"
   },
   {
    "duration": 9,
    "start_time": "2021-10-28T00:52:58.677Z"
   },
   {
    "duration": 6,
    "start_time": "2021-10-28T00:52:58.688Z"
   },
   {
    "duration": 11,
    "start_time": "2021-10-28T00:52:58.696Z"
   },
   {
    "duration": 48,
    "start_time": "2021-10-28T00:52:58.709Z"
   },
   {
    "duration": 233,
    "start_time": "2021-10-28T00:52:58.760Z"
   },
   {
    "duration": 6,
    "start_time": "2021-10-28T00:52:58.995Z"
   },
   {
    "duration": 7,
    "start_time": "2021-10-28T00:52:59.004Z"
   },
   {
    "duration": 44,
    "start_time": "2021-10-28T00:52:59.013Z"
   },
   {
    "duration": 6,
    "start_time": "2021-10-28T00:52:59.060Z"
   },
   {
    "duration": 13,
    "start_time": "2021-10-28T00:52:59.069Z"
   },
   {
    "duration": 16,
    "start_time": "2021-10-28T00:52:59.092Z"
   },
   {
    "duration": 53,
    "start_time": "2021-10-28T00:52:59.112Z"
   },
   {
    "duration": 11,
    "start_time": "2021-10-28T00:52:59.167Z"
   },
   {
    "duration": 7,
    "start_time": "2021-10-28T00:52:59.180Z"
   },
   {
    "duration": 9,
    "start_time": "2021-10-28T00:52:59.189Z"
   },
   {
    "duration": 66,
    "start_time": "2021-10-28T00:52:59.201Z"
   },
   {
    "duration": 22,
    "start_time": "2021-10-28T00:52:59.270Z"
   },
   {
    "duration": 16,
    "start_time": "2021-10-28T00:52:59.295Z"
   },
   {
    "duration": 4,
    "start_time": "2021-10-28T00:52:59.313Z"
   },
   {
    "duration": 6,
    "start_time": "2021-10-28T00:52:59.358Z"
   },
   {
    "duration": 11,
    "start_time": "2021-10-28T00:52:59.368Z"
   },
   {
    "duration": 4,
    "start_time": "2021-10-28T00:52:59.381Z"
   },
   {
    "duration": 14,
    "start_time": "2021-10-28T00:52:59.388Z"
   },
   {
    "duration": 3,
    "start_time": "2021-10-28T00:52:59.405Z"
   },
   {
    "duration": 55,
    "start_time": "2021-10-28T00:52:59.410Z"
   },
   {
    "duration": 3732,
    "start_time": "2021-10-28T00:52:59.467Z"
   },
   {
    "duration": 12,
    "start_time": "2021-10-28T00:53:03.202Z"
   },
   {
    "duration": 11,
    "start_time": "2021-10-28T00:53:03.216Z"
   },
   {
    "duration": 7840,
    "start_time": "2021-10-28T00:53:03.230Z"
   },
   {
    "duration": 10,
    "start_time": "2021-10-28T00:53:11.073Z"
   },
   {
    "duration": 9,
    "start_time": "2021-10-28T00:53:11.085Z"
   },
   {
    "duration": 38,
    "start_time": "2021-10-28T00:53:11.097Z"
   },
   {
    "duration": 21,
    "start_time": "2021-10-28T00:53:11.137Z"
   },
   {
    "duration": 15,
    "start_time": "2021-10-28T00:53:11.161Z"
   },
   {
    "duration": 1644,
    "start_time": "2021-10-28T00:53:11.179Z"
   },
   {
    "duration": 14,
    "start_time": "2021-10-28T00:53:12.825Z"
   },
   {
    "duration": 5154,
    "start_time": "2021-10-28T00:53:12.842Z"
   },
   {
    "duration": 8,
    "start_time": "2021-10-28T00:53:17.999Z"
   },
   {
    "duration": 13,
    "start_time": "2021-10-28T00:53:18.009Z"
   },
   {
    "duration": 33,
    "start_time": "2021-10-28T00:53:18.025Z"
   },
   {
    "duration": 9,
    "start_time": "2021-10-28T00:53:18.060Z"
   },
   {
    "duration": 24,
    "start_time": "2021-10-28T00:53:18.071Z"
   },
   {
    "duration": 10,
    "start_time": "2021-10-28T00:53:18.097Z"
   },
   {
    "duration": 16,
    "start_time": "2021-10-28T00:53:18.109Z"
   },
   {
    "duration": 13,
    "start_time": "2021-10-28T00:53:18.128Z"
   },
   {
    "duration": 30,
    "start_time": "2021-10-28T00:53:18.144Z"
   },
   {
    "duration": 7,
    "start_time": "2021-10-28T00:53:18.177Z"
   },
   {
    "duration": 15,
    "start_time": "2021-10-28T00:53:18.187Z"
   },
   {
    "duration": 6,
    "start_time": "2021-10-28T00:53:18.205Z"
   },
   {
    "duration": 45,
    "start_time": "2021-10-28T00:53:18.214Z"
   },
   {
    "duration": 40,
    "start_time": "2021-10-28T00:53:18.262Z"
   },
   {
    "duration": 6,
    "start_time": "2021-10-28T00:53:18.305Z"
   },
   {
    "duration": 46,
    "start_time": "2021-10-28T00:53:18.314Z"
   },
   {
    "duration": 5,
    "start_time": "2021-10-28T00:53:18.363Z"
   },
   {
    "duration": 288,
    "start_time": "2021-10-28T00:53:18.370Z"
   },
   {
    "duration": 5,
    "start_time": "2021-10-28T00:53:18.662Z"
   },
   {
    "duration": 4138,
    "start_time": "2021-10-28T00:53:18.759Z"
   },
   {
    "duration": 5,
    "start_time": "2021-10-28T00:53:22.900Z"
   },
   {
    "duration": 8,
    "start_time": "2021-10-28T00:53:22.908Z"
   },
   {
    "duration": 15046,
    "start_time": "2021-10-28T00:53:22.919Z"
   },
   {
    "duration": 6,
    "start_time": "2021-10-28T00:53:37.967Z"
   },
   {
    "duration": 2705,
    "start_time": "2021-10-28T00:53:37.975Z"
   },
   {
    "duration": 80,
    "start_time": "2021-10-28T00:53:40.684Z"
   },
   {
    "duration": 32,
    "start_time": "2021-10-28T00:53:40.767Z"
   },
   {
    "duration": 594,
    "start_time": "2021-10-28T00:53:40.802Z"
   },
   {
    "duration": 587,
    "start_time": "2021-10-28T00:53:41.399Z"
   },
   {
    "duration": 50,
    "start_time": "2021-10-28T00:53:41.988Z"
   },
   {
    "duration": 52,
    "start_time": "2021-10-28T00:53:42.041Z"
   },
   {
    "duration": 4,
    "start_time": "2021-10-28T00:53:42.099Z"
   },
   {
    "duration": 14,
    "start_time": "2021-10-28T00:53:42.106Z"
   },
   {
    "duration": 11,
    "start_time": "2021-10-28T00:53:42.158Z"
   },
   {
    "duration": 804,
    "start_time": "2021-10-28T00:53:42.171Z"
   },
   {
    "duration": 1394,
    "start_time": "2021-10-28T00:53:42.977Z"
   },
   {
    "duration": 14,
    "start_time": "2021-10-28T00:53:44.374Z"
   },
   {
    "duration": 69,
    "start_time": "2021-10-28T00:53:44.391Z"
   },
   {
    "duration": 25,
    "start_time": "2021-10-28T00:53:44.463Z"
   },
   {
    "duration": 9,
    "start_time": "2021-10-28T00:53:44.491Z"
   },
   {
    "duration": 838,
    "start_time": "2021-10-28T00:53:44.503Z"
   },
   {
    "duration": 1433,
    "start_time": "2021-10-28T00:53:45.344Z"
   }
  ],
  "kernelspec": {
   "display_name": "Python 3",
   "language": "python",
   "name": "python3"
  },
  "language_info": {
   "codemirror_mode": {
    "name": "ipython",
    "version": 3
   },
   "file_extension": ".py",
   "mimetype": "text/x-python",
   "name": "python",
   "nbconvert_exporter": "python",
   "pygments_lexer": "ipython3",
   "version": "3.7.8"
  },
  "toc": {
   "base_numbering": 1,
   "nav_menu": {},
   "number_sections": true,
   "sideBar": true,
   "skip_h1_title": true,
   "title_cell": "Содержание",
   "title_sidebar": "Содержание",
   "toc_cell": true,
   "toc_position": {
    "height": "775px",
    "left": "32px",
    "top": "110px",
    "width": "219px"
   },
   "toc_section_display": true,
   "toc_window_display": true
  }
 },
 "nbformat": 4,
 "nbformat_minor": 2
}
