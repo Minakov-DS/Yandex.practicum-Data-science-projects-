{
 "cells": [
  {
   "cell_type": "markdown",
   "metadata": {
    "toc": true
   },
   "source": [
    "<h1>Содержание<span class=\"tocSkip\"></span></h1>\n",
    "<div class=\"toc\"><ul class=\"toc-item\"><li><span><a href=\"#Загрузка-и-подготовка-данных\" data-toc-modified-id=\"Загрузка-и-подготовка-данных-1\"><span class=\"toc-item-num\">1&nbsp;&nbsp;</span>Загрузка и подготовка данных</a></span><ul class=\"toc-item\"><li><span><a href=\"#Выводы\" data-toc-modified-id=\"Выводы-1.1\"><span class=\"toc-item-num\">1.1&nbsp;&nbsp;</span>Выводы</a></span></li></ul></li><li><span><a href=\"#Обучение-и-проверка-модели\" data-toc-modified-id=\"Обучение-и-проверка-модели-2\"><span class=\"toc-item-num\">2&nbsp;&nbsp;</span>Обучение и проверка модели</a></span><ul class=\"toc-item\"><li><span><a href=\"#Выводы\" data-toc-modified-id=\"Выводы-2.1\"><span class=\"toc-item-num\">2.1&nbsp;&nbsp;</span>Выводы</a></span></li></ul></li><li><span><a href=\"#Подготовка-к-расчёту-прибыли\" data-toc-modified-id=\"Подготовка-к-расчёту-прибыли-3\"><span class=\"toc-item-num\">3&nbsp;&nbsp;</span>Подготовка к расчёту прибыли</a></span><ul class=\"toc-item\"><li><span><a href=\"#Выводы\" data-toc-modified-id=\"Выводы-3.1\"><span class=\"toc-item-num\">3.1&nbsp;&nbsp;</span>Выводы</a></span></li></ul></li><li><span><a href=\"#Расчёт-прибыли-и-рисков\" data-toc-modified-id=\"Расчёт-прибыли-и-рисков-4\"><span class=\"toc-item-num\">4&nbsp;&nbsp;</span>Расчёт прибыли и рисков</a></span><ul class=\"toc-item\"><li><span><a href=\"#Выводы\" data-toc-modified-id=\"Выводы-4.1\"><span class=\"toc-item-num\">4.1&nbsp;&nbsp;</span>Выводы</a></span></li></ul></li><li><span><a href=\"#Чек-лист-готовности-проекта\" data-toc-modified-id=\"Чек-лист-готовности-проекта-5\"><span class=\"toc-item-num\">5&nbsp;&nbsp;</span>Чек-лист готовности проекта</a></span></li></ul></div>"
   ]
  },
  {
   "cell_type": "markdown",
   "metadata": {},
   "source": [
    "# Выбор перспективного региона для разработки нефтяных месторождений"
   ]
  },
  {
   "cell_type": "markdown",
   "metadata": {},
   "source": [
    "**Цель проекта:** построить модель машинного обучения, которая поможет определить наиболее перспективный (с точки зрения прибыли) регион для разработки новых нефтяных месторождений. \n",
    "\n",
    "**Исходные данные:** пробы нефти в трёх регионах. В каждом регионе 10 000 месторождений, где измерили качество нефти и объём её запасов.\n",
    "\n",
    "**Описание данных:**\n",
    "* id — уникальный идентификатор скважины;\n",
    "* f0, f1, f2 — три признака точек (неважно, что они означают, но сами признаки значимы);\n",
    "* product — объём запасов в скважине (тыс. баррелей).\n",
    "\n",
    "**Условия задачи:**\n",
    "* Для обучения модели подходит только линейная регрессия (остальные — недостаточно предсказуемые).\n",
    "* При разведке региона исследуют 500 точек, из которых с помощью машинного обучения выбирают 200 лучших для разработки.\n",
    "* Бюджет на разработку скважин в регионе — 10 млрд рублей.\n",
    "* При нынешних ценах один баррель сырья приносит 450 рублей дохода. Доход с каждой единицы продукта составляет 450 тыс. рублей,  поскольку объём указан в тысячах баррелей.\n",
    "* После оценки рисков нужно оставить лишь те регионы, в которых вероятность убытков меньше 2.5%. Среди них выбирают регион с наибольшей средней прибылью.\n",
    "* При выполнении проекта рекомендуется использовать технику *Bootstrap*."
   ]
  },
  {
   "cell_type": "markdown",
   "metadata": {},
   "source": [
    "## Загрузка и подготовка данных"
   ]
  },
  {
   "cell_type": "markdown",
   "metadata": {},
   "source": [
    "Загрузим необходимые библиотеки"
   ]
  },
  {
   "cell_type": "code",
   "execution_count": 1,
   "metadata": {},
   "outputs": [],
   "source": [
    "import pandas as pd\n",
    "import numpy as np\n",
    "from matplotlib import pyplot as plt\n",
    "from sklearn.preprocessing import StandardScaler\n",
    "from sklearn.model_selection import train_test_split\n",
    "from sklearn.linear_model import LinearRegression\n",
    "from sklearn.metrics import r2_score, mean_absolute_error, mean_squared_error"
   ]
  },
  {
   "cell_type": "markdown",
   "metadata": {},
   "source": [
    "Загрузим исходные данные для трех регионов"
   ]
  },
  {
   "cell_type": "code",
   "execution_count": 2,
   "metadata": {},
   "outputs": [],
   "source": [
    "source_data_1 = pd.read_csv(\"/datasets/geo_data_0.csv\")\n",
    "source_data_2 = pd.read_csv(\"/datasets/geo_data_1.csv\")\n",
    "source_data_3 = pd.read_csv(\"/datasets/geo_data_2.csv\")"
   ]
  },
  {
   "cell_type": "markdown",
   "metadata": {},
   "source": [
    "Выведем основную информацию об исходных датасетах"
   ]
  },
  {
   "cell_type": "code",
   "execution_count": 3,
   "metadata": {
    "scrolled": true
   },
   "outputs": [
    {
     "name": "stdout",
     "output_type": "stream",
     "text": [
      "\n",
      "Основная информация исходного датасета для региона 1:\n",
      "\n",
      "<class 'pandas.core.frame.DataFrame'>\n",
      "RangeIndex: 100000 entries, 0 to 99999\n",
      "Data columns (total 5 columns):\n",
      "id         100000 non-null object\n",
      "f0         100000 non-null float64\n",
      "f1         100000 non-null float64\n",
      "f2         100000 non-null float64\n",
      "product    100000 non-null float64\n",
      "dtypes: float64(4), object(1)\n",
      "memory usage: 3.8+ MB\n",
      "None\n",
      "\n",
      "      id        f0        f1        f2     product\n",
      "0  txEyH  0.705745 -0.497823  1.221170  105.280062\n",
      "1  2acmU  1.334711 -0.340164  4.365080   73.037750\n",
      "2  409Wp  1.022732  0.151990  1.419926   85.265647\n",
      "3  iJLyR -0.032172  0.139033  2.978566  168.620776\n",
      "4  Xdl7t  1.988431  0.155413  4.751769  154.036647\n",
      "\n",
      "                  f0             f1             f2        product\n",
      "count  100000.000000  100000.000000  100000.000000  100000.000000\n",
      "mean        0.500419       0.250143       2.502647      92.500000\n",
      "std         0.871832       0.504433       3.248248      44.288691\n",
      "min        -1.408605      -0.848218     -12.088328       0.000000\n",
      "25%        -0.072580      -0.200881       0.287748      56.497507\n",
      "50%         0.502360       0.250252       2.515969      91.849972\n",
      "75%         1.073581       0.700646       4.715088     128.564089\n",
      "max         2.362331       1.343769      16.003790     185.364347\n",
      "\n",
      "\n",
      "Основная информация исходного датасета для региона 2:\n",
      "\n",
      "<class 'pandas.core.frame.DataFrame'>\n",
      "RangeIndex: 100000 entries, 0 to 99999\n",
      "Data columns (total 5 columns):\n",
      "id         100000 non-null object\n",
      "f0         100000 non-null float64\n",
      "f1         100000 non-null float64\n",
      "f2         100000 non-null float64\n",
      "product    100000 non-null float64\n",
      "dtypes: float64(4), object(1)\n",
      "memory usage: 3.8+ MB\n",
      "None\n",
      "\n",
      "      id         f0         f1        f2     product\n",
      "0  kBEdx -15.001348  -8.276000 -0.005876    3.179103\n",
      "1  62mP7  14.272088  -3.475083  0.999183   26.953261\n",
      "2  vyE1P   6.263187  -5.948386  5.001160  134.766305\n",
      "3  KcrkZ -13.081196 -11.506057  4.999415  137.945408\n",
      "4  AHL4O  12.702195  -8.147433  5.004363  134.766305\n",
      "\n",
      "                  f0             f1             f2        product\n",
      "count  100000.000000  100000.000000  100000.000000  100000.000000\n",
      "mean        1.141296      -4.796579       2.494541      68.825000\n",
      "std         8.965932       5.119872       1.703572      45.944423\n",
      "min       -31.609576     -26.358598      -0.018144       0.000000\n",
      "25%        -6.298551      -8.267985       1.000021      26.953261\n",
      "50%         1.153055      -4.813172       2.011479      57.085625\n",
      "75%         8.621015      -1.332816       3.999904     107.813044\n",
      "max        29.421755      18.734063       5.019721     137.945408\n",
      "\n",
      "\n",
      "Основная информация исходного датасета для региона 3:\n",
      "\n",
      "<class 'pandas.core.frame.DataFrame'>\n",
      "RangeIndex: 100000 entries, 0 to 99999\n",
      "Data columns (total 5 columns):\n",
      "id         100000 non-null object\n",
      "f0         100000 non-null float64\n",
      "f1         100000 non-null float64\n",
      "f2         100000 non-null float64\n",
      "product    100000 non-null float64\n",
      "dtypes: float64(4), object(1)\n",
      "memory usage: 3.8+ MB\n",
      "None\n",
      "\n",
      "      id        f0        f1        f2     product\n",
      "0  fwXo0 -1.146987  0.963328 -0.828965   27.758673\n",
      "1  WJtFt  0.262778  0.269839 -2.530187   56.069697\n",
      "2  ovLUW  0.194587  0.289035 -5.586433   62.871910\n",
      "3  q6cA6  2.236060 -0.553760  0.930038  114.572842\n",
      "4  WPMUX -0.515993  1.716266  5.899011  149.600746\n",
      "\n",
      "                  f0             f1             f2        product\n",
      "count  100000.000000  100000.000000  100000.000000  100000.000000\n",
      "mean        0.002023      -0.002081       2.495128      95.000000\n",
      "std         1.732045       1.730417       3.473445      44.749921\n",
      "min        -8.760004      -7.084020     -11.970335       0.000000\n",
      "25%        -1.162288      -1.174820       0.130359      59.450441\n",
      "50%         0.009424      -0.009482       2.484236      94.925613\n",
      "75%         1.158535       1.163678       4.858794     130.595027\n",
      "max         7.238262       7.844801      16.739402     190.029838\n",
      "\n"
     ]
    }
   ],
   "source": [
    "source_data_list = [source_data_1, source_data_2, source_data_3]\n",
    "region_number = 0\n",
    "for source_data in source_data_list:\n",
    "    region_number += 1\n",
    "    print(\"\\nОсновная информация исходного датасета для региона {}:\\n\".format(region_number))\n",
    "    print(source_data.info(), end=\"\\n\\n\")\n",
    "    print(source_data.head(), end=\"\\n\\n\")\n",
    "    print(source_data.describe(), end=\"\\n\\n\")"
   ]
  },
  {
   "cell_type": "markdown",
   "metadata": {},
   "source": [
    "Аномалий, включая пропуски, в исходных данных не выявлено, продолжим исследование. Подсчитаем количество полных дубликатов."
   ]
  },
  {
   "cell_type": "code",
   "execution_count": 4,
   "metadata": {},
   "outputs": [
    {
     "name": "stdout",
     "output_type": "stream",
     "text": [
      "Количество полных дубликатов для региона 1 равняется: 0\n",
      "\n",
      "Количество полных дубликатов для региона 2 равняется: 0\n",
      "\n",
      "Количество полных дубликатов для региона 3 равняется: 0\n",
      "\n"
     ]
    }
   ],
   "source": [
    "region = 0\n",
    "for source_data in source_data_list:\n",
    "    region += 1\n",
    "    print(\"Количество полных дубликатов для региона {} равняется: {}\\n\".format(region, source_data.duplicated().sum()))"
   ]
  },
  {
   "cell_type": "markdown",
   "metadata": {},
   "source": [
    "Полных дубликатов не выявлено. Подсчитаем количество уникальных имен в столбцах трех исходных датасетов. Результаты подсчета выведем в отдельной таблице."
   ]
  },
  {
   "cell_type": "code",
   "execution_count": 5,
   "metadata": {},
   "outputs": [
    {
     "name": "stdout",
     "output_type": "stream",
     "text": [
      "\n",
      "Таблица 1.1. Уникальные имена в столбцах исходных датасетов (Регионы 1-3)\n"
     ]
    },
    {
     "data": {
      "text/html": [
       "<div>\n",
       "<style scoped>\n",
       "    .dataframe tbody tr th:only-of-type {\n",
       "        vertical-align: middle;\n",
       "    }\n",
       "\n",
       "    .dataframe tbody tr th {\n",
       "        vertical-align: top;\n",
       "    }\n",
       "\n",
       "    .dataframe thead th {\n",
       "        text-align: right;\n",
       "    }\n",
       "</style>\n",
       "<table border=\"1\" class=\"dataframe\">\n",
       "  <thead>\n",
       "    <tr style=\"text-align: right;\">\n",
       "      <th></th>\n",
       "      <th>id</th>\n",
       "      <th>f0</th>\n",
       "      <th>f1</th>\n",
       "      <th>f2</th>\n",
       "      <th>product</th>\n",
       "    </tr>\n",
       "  </thead>\n",
       "  <tbody>\n",
       "    <tr>\n",
       "      <td>Region_1</td>\n",
       "      <td>99990</td>\n",
       "      <td>100000</td>\n",
       "      <td>100000</td>\n",
       "      <td>100000</td>\n",
       "      <td>100000</td>\n",
       "    </tr>\n",
       "    <tr>\n",
       "      <td>Region_2</td>\n",
       "      <td>99996</td>\n",
       "      <td>100000</td>\n",
       "      <td>100000</td>\n",
       "      <td>100000</td>\n",
       "      <td>12</td>\n",
       "    </tr>\n",
       "    <tr>\n",
       "      <td>Region_3</td>\n",
       "      <td>99996</td>\n",
       "      <td>100000</td>\n",
       "      <td>100000</td>\n",
       "      <td>100000</td>\n",
       "      <td>100000</td>\n",
       "    </tr>\n",
       "  </tbody>\n",
       "</table>\n",
       "</div>"
      ],
      "text/plain": [
       "             id      f0      f1      f2  product\n",
       "Region_1  99990  100000  100000  100000   100000\n",
       "Region_2  99996  100000  100000  100000       12\n",
       "Region_3  99996  100000  100000  100000   100000"
      ]
     },
     "execution_count": 5,
     "metadata": {},
     "output_type": "execute_result"
    }
   ],
   "source": [
    "unique_names = pd.DataFrame(index=[\"Region_1\", \"Region_2\", \"Region_3\"], columns=source_data_1.columns)\n",
    "for source_data, i in zip(source_data_list, range(3)):\n",
    "    for column, j in zip(source_data.columns, range(5)):\n",
    "        unique_names.iloc[i, j] = len(source_data[column].unique())\n",
    "print(\"\\nТаблица 1.1. Уникальные имена в столбцах исходных датасетов (Регионы 1-3)\")\n",
    "unique_names"
   ]
  },
  {
   "cell_type": "markdown",
   "metadata": {},
   "source": [
    "Как видно из таблицы, имеются повторы в столбцах id и product. Сперва рассмотрим на примере первого региона строки с повторяющимися id, для этого выведем их в отдельную таблицу."
   ]
  },
  {
   "cell_type": "code",
   "execution_count": 6,
   "metadata": {},
   "outputs": [
    {
     "name": "stdout",
     "output_type": "stream",
     "text": [
      "\n",
      "Таблица 1.2. Скважины с совпадающими id для региона 1\n"
     ]
    },
    {
     "data": {
      "text/html": [
       "<div>\n",
       "<style scoped>\n",
       "    .dataframe tbody tr th:only-of-type {\n",
       "        vertical-align: middle;\n",
       "    }\n",
       "\n",
       "    .dataframe tbody tr th {\n",
       "        vertical-align: top;\n",
       "    }\n",
       "\n",
       "    .dataframe thead th {\n",
       "        text-align: right;\n",
       "    }\n",
       "</style>\n",
       "<table border=\"1\" class=\"dataframe\">\n",
       "  <thead>\n",
       "    <tr style=\"text-align: right;\">\n",
       "      <th></th>\n",
       "      <th>index</th>\n",
       "      <th>id</th>\n",
       "      <th>f0</th>\n",
       "      <th>f1</th>\n",
       "      <th>f2</th>\n",
       "      <th>product</th>\n",
       "    </tr>\n",
       "  </thead>\n",
       "  <tbody>\n",
       "    <tr>\n",
       "      <td>0</td>\n",
       "      <td>66136</td>\n",
       "      <td>74z30</td>\n",
       "      <td>1.084962</td>\n",
       "      <td>-0.312358</td>\n",
       "      <td>6.990771</td>\n",
       "      <td>127.643327</td>\n",
       "    </tr>\n",
       "    <tr>\n",
       "      <td>1</td>\n",
       "      <td>64022</td>\n",
       "      <td>74z30</td>\n",
       "      <td>0.741456</td>\n",
       "      <td>0.459229</td>\n",
       "      <td>5.153109</td>\n",
       "      <td>140.771492</td>\n",
       "    </tr>\n",
       "    <tr>\n",
       "      <td>2</td>\n",
       "      <td>51970</td>\n",
       "      <td>A5aEY</td>\n",
       "      <td>-0.180335</td>\n",
       "      <td>0.935548</td>\n",
       "      <td>-2.094773</td>\n",
       "      <td>33.020205</td>\n",
       "    </tr>\n",
       "    <tr>\n",
       "      <td>3</td>\n",
       "      <td>3389</td>\n",
       "      <td>A5aEY</td>\n",
       "      <td>-0.039949</td>\n",
       "      <td>0.156872</td>\n",
       "      <td>0.209861</td>\n",
       "      <td>89.249364</td>\n",
       "    </tr>\n",
       "    <tr>\n",
       "      <td>4</td>\n",
       "      <td>69163</td>\n",
       "      <td>AGS9W</td>\n",
       "      <td>-0.933795</td>\n",
       "      <td>0.116194</td>\n",
       "      <td>-3.655896</td>\n",
       "      <td>19.230453</td>\n",
       "    </tr>\n",
       "    <tr>\n",
       "      <td>5</td>\n",
       "      <td>42529</td>\n",
       "      <td>AGS9W</td>\n",
       "      <td>1.454747</td>\n",
       "      <td>-0.479651</td>\n",
       "      <td>0.683380</td>\n",
       "      <td>126.370504</td>\n",
       "    </tr>\n",
       "    <tr>\n",
       "      <td>6</td>\n",
       "      <td>931</td>\n",
       "      <td>HZww2</td>\n",
       "      <td>0.755284</td>\n",
       "      <td>0.368511</td>\n",
       "      <td>1.863211</td>\n",
       "      <td>30.681774</td>\n",
       "    </tr>\n",
       "    <tr>\n",
       "      <td>7</td>\n",
       "      <td>7530</td>\n",
       "      <td>HZww2</td>\n",
       "      <td>1.061194</td>\n",
       "      <td>-0.373969</td>\n",
       "      <td>10.430210</td>\n",
       "      <td>158.828695</td>\n",
       "    </tr>\n",
       "    <tr>\n",
       "      <td>8</td>\n",
       "      <td>63593</td>\n",
       "      <td>QcMuo</td>\n",
       "      <td>0.635635</td>\n",
       "      <td>-0.473422</td>\n",
       "      <td>0.862670</td>\n",
       "      <td>64.578675</td>\n",
       "    </tr>\n",
       "    <tr>\n",
       "      <td>9</td>\n",
       "      <td>1949</td>\n",
       "      <td>QcMuo</td>\n",
       "      <td>0.506563</td>\n",
       "      <td>-0.323775</td>\n",
       "      <td>-2.215583</td>\n",
       "      <td>75.496502</td>\n",
       "    </tr>\n",
       "    <tr>\n",
       "      <td>10</td>\n",
       "      <td>75715</td>\n",
       "      <td>Tdehs</td>\n",
       "      <td>0.112079</td>\n",
       "      <td>0.430296</td>\n",
       "      <td>3.218993</td>\n",
       "      <td>60.964018</td>\n",
       "    </tr>\n",
       "    <tr>\n",
       "      <td>11</td>\n",
       "      <td>21426</td>\n",
       "      <td>Tdehs</td>\n",
       "      <td>0.829407</td>\n",
       "      <td>0.298807</td>\n",
       "      <td>-0.049563</td>\n",
       "      <td>96.035308</td>\n",
       "    </tr>\n",
       "    <tr>\n",
       "      <td>12</td>\n",
       "      <td>92341</td>\n",
       "      <td>TtcGQ</td>\n",
       "      <td>0.110711</td>\n",
       "      <td>1.022689</td>\n",
       "      <td>0.911381</td>\n",
       "      <td>101.318008</td>\n",
       "    </tr>\n",
       "    <tr>\n",
       "      <td>13</td>\n",
       "      <td>60140</td>\n",
       "      <td>TtcGQ</td>\n",
       "      <td>0.569276</td>\n",
       "      <td>-0.104876</td>\n",
       "      <td>6.440215</td>\n",
       "      <td>85.350186</td>\n",
       "    </tr>\n",
       "    <tr>\n",
       "      <td>14</td>\n",
       "      <td>89582</td>\n",
       "      <td>bsk9y</td>\n",
       "      <td>0.398908</td>\n",
       "      <td>-0.400253</td>\n",
       "      <td>10.122376</td>\n",
       "      <td>163.433078</td>\n",
       "    </tr>\n",
       "    <tr>\n",
       "      <td>15</td>\n",
       "      <td>97785</td>\n",
       "      <td>bsk9y</td>\n",
       "      <td>0.378429</td>\n",
       "      <td>0.005837</td>\n",
       "      <td>0.160827</td>\n",
       "      <td>160.637302</td>\n",
       "    </tr>\n",
       "    <tr>\n",
       "      <td>16</td>\n",
       "      <td>41724</td>\n",
       "      <td>bxg6G</td>\n",
       "      <td>-0.823752</td>\n",
       "      <td>0.546319</td>\n",
       "      <td>3.630479</td>\n",
       "      <td>93.007798</td>\n",
       "    </tr>\n",
       "    <tr>\n",
       "      <td>17</td>\n",
       "      <td>1364</td>\n",
       "      <td>bxg6G</td>\n",
       "      <td>0.411645</td>\n",
       "      <td>0.856830</td>\n",
       "      <td>-3.653440</td>\n",
       "      <td>73.604260</td>\n",
       "    </tr>\n",
       "    <tr>\n",
       "      <td>18</td>\n",
       "      <td>16633</td>\n",
       "      <td>fiKDv</td>\n",
       "      <td>0.157341</td>\n",
       "      <td>1.028359</td>\n",
       "      <td>5.585586</td>\n",
       "      <td>95.817889</td>\n",
       "    </tr>\n",
       "    <tr>\n",
       "      <td>19</td>\n",
       "      <td>90815</td>\n",
       "      <td>fiKDv</td>\n",
       "      <td>0.049883</td>\n",
       "      <td>0.841313</td>\n",
       "      <td>6.394613</td>\n",
       "      <td>137.346586</td>\n",
       "    </tr>\n",
       "  </tbody>\n",
       "</table>\n",
       "</div>"
      ],
      "text/plain": [
       "    index     id        f0        f1         f2     product\n",
       "0   66136  74z30  1.084962 -0.312358   6.990771  127.643327\n",
       "1   64022  74z30  0.741456  0.459229   5.153109  140.771492\n",
       "2   51970  A5aEY -0.180335  0.935548  -2.094773   33.020205\n",
       "3    3389  A5aEY -0.039949  0.156872   0.209861   89.249364\n",
       "4   69163  AGS9W -0.933795  0.116194  -3.655896   19.230453\n",
       "5   42529  AGS9W  1.454747 -0.479651   0.683380  126.370504\n",
       "6     931  HZww2  0.755284  0.368511   1.863211   30.681774\n",
       "7    7530  HZww2  1.061194 -0.373969  10.430210  158.828695\n",
       "8   63593  QcMuo  0.635635 -0.473422   0.862670   64.578675\n",
       "9    1949  QcMuo  0.506563 -0.323775  -2.215583   75.496502\n",
       "10  75715  Tdehs  0.112079  0.430296   3.218993   60.964018\n",
       "11  21426  Tdehs  0.829407  0.298807  -0.049563   96.035308\n",
       "12  92341  TtcGQ  0.110711  1.022689   0.911381  101.318008\n",
       "13  60140  TtcGQ  0.569276 -0.104876   6.440215   85.350186\n",
       "14  89582  bsk9y  0.398908 -0.400253  10.122376  163.433078\n",
       "15  97785  bsk9y  0.378429  0.005837   0.160827  160.637302\n",
       "16  41724  bxg6G -0.823752  0.546319   3.630479   93.007798\n",
       "17   1364  bxg6G  0.411645  0.856830  -3.653440   73.604260\n",
       "18  16633  fiKDv  0.157341  1.028359   5.585586   95.817889\n",
       "19  90815  fiKDv  0.049883  0.841313   6.394613  137.346586"
      ]
     },
     "execution_count": 6,
     "metadata": {},
     "output_type": "execute_result"
    }
   ],
   "source": [
    "mask = source_data_1[\"id\"].duplicated()\n",
    "id_duplicated = source_data_1.loc[mask, \"id\"]\n",
    "id_duplicated_full = source_data_1.query(\"id in @id_duplicated\").sort_values(by=\"id\").reset_index()\n",
    "print(\"\\nТаблица 1.2. Скважины с совпадающими id для региона 1\")\n",
    "id_duplicated_full"
   ]
  },
  {
   "cell_type": "markdown",
   "metadata": {},
   "source": [
    "Как видно из представленной таблицы, мы имеем 10 пар скважин с одинаковыми id. Для одних и тех же id разные запасы скважины. Причем для некоторых id данные запасы отличаются в несколько раз, например для id = HZww2 разница составляет более 5 раз. Вероятно, для ряда скважин пробы брались два раза и оценка запасов также осуществлялась два раза. Оценка запасов скважины, вероятно, является весьма приблизительной. С учетом того, что 10 совпадающих id составляют 0.01% от всех данных оставим датасет без изменения, а также другие датасеты (регионы 2 и 3), где повторов еще меньше. При этом желательно взять консультацию у составителей исходной таблицы по поводу повторов в ней и у технических специалистов по поводу того, как оцениваются запасы скважины (от чего зависит данная оценка и насколько она точная)."
   ]
  },
  {
   "cell_type": "markdown",
   "metadata": {},
   "source": [
    "Теперь рассмотрим повторы в столбце product для 2 региона. Для этого выведем количество повторов для каждого из 12 уникальных значений."
   ]
  },
  {
   "cell_type": "code",
   "execution_count": 7,
   "metadata": {
    "scrolled": false
   },
   "outputs": [
    {
     "name": "stdout",
     "output_type": "stream",
     "text": [
      "\n",
      "Таблица 1.3. Список уникальных значений запасов нефти для скважин региона 2\n"
     ]
    },
    {
     "data": {
      "text/html": [
       "<div>\n",
       "<style scoped>\n",
       "    .dataframe tbody tr th:only-of-type {\n",
       "        vertical-align: middle;\n",
       "    }\n",
       "\n",
       "    .dataframe tbody tr th {\n",
       "        vertical-align: top;\n",
       "    }\n",
       "\n",
       "    .dataframe thead th {\n",
       "        text-align: right;\n",
       "    }\n",
       "</style>\n",
       "<table border=\"1\" class=\"dataframe\">\n",
       "  <thead>\n",
       "    <tr style=\"text-align: right;\">\n",
       "      <th></th>\n",
       "      <th>unique_product_quantity</th>\n",
       "      <th>number_of_duplicates</th>\n",
       "    </tr>\n",
       "  </thead>\n",
       "  <tbody>\n",
       "    <tr>\n",
       "      <td>0</td>\n",
       "      <td>0.000000</td>\n",
       "      <td>8235</td>\n",
       "    </tr>\n",
       "    <tr>\n",
       "      <td>1</td>\n",
       "      <td>3.179103</td>\n",
       "      <td>8337</td>\n",
       "    </tr>\n",
       "    <tr>\n",
       "      <td>2</td>\n",
       "      <td>26.953261</td>\n",
       "      <td>8468</td>\n",
       "    </tr>\n",
       "    <tr>\n",
       "      <td>3</td>\n",
       "      <td>30.132364</td>\n",
       "      <td>8306</td>\n",
       "    </tr>\n",
       "    <tr>\n",
       "      <td>4</td>\n",
       "      <td>53.906522</td>\n",
       "      <td>8472</td>\n",
       "    </tr>\n",
       "    <tr>\n",
       "      <td>5</td>\n",
       "      <td>57.085625</td>\n",
       "      <td>8390</td>\n",
       "    </tr>\n",
       "    <tr>\n",
       "      <td>6</td>\n",
       "      <td>80.859783</td>\n",
       "      <td>8320</td>\n",
       "    </tr>\n",
       "    <tr>\n",
       "      <td>7</td>\n",
       "      <td>84.038886</td>\n",
       "      <td>8431</td>\n",
       "    </tr>\n",
       "    <tr>\n",
       "      <td>8</td>\n",
       "      <td>107.813044</td>\n",
       "      <td>8201</td>\n",
       "    </tr>\n",
       "    <tr>\n",
       "      <td>9</td>\n",
       "      <td>110.992147</td>\n",
       "      <td>8303</td>\n",
       "    </tr>\n",
       "    <tr>\n",
       "      <td>10</td>\n",
       "      <td>134.766305</td>\n",
       "      <td>8304</td>\n",
       "    </tr>\n",
       "    <tr>\n",
       "      <td>11</td>\n",
       "      <td>137.945408</td>\n",
       "      <td>8233</td>\n",
       "    </tr>\n",
       "  </tbody>\n",
       "</table>\n",
       "</div>"
      ],
      "text/plain": [
       "    unique_product_quantity  number_of_duplicates\n",
       "0                  0.000000                  8235\n",
       "1                  3.179103                  8337\n",
       "2                 26.953261                  8468\n",
       "3                 30.132364                  8306\n",
       "4                 53.906522                  8472\n",
       "5                 57.085625                  8390\n",
       "6                 80.859783                  8320\n",
       "7                 84.038886                  8431\n",
       "8                107.813044                  8201\n",
       "9                110.992147                  8303\n",
       "10               134.766305                  8304\n",
       "11               137.945408                  8233"
      ]
     },
     "execution_count": 7,
     "metadata": {},
     "output_type": "execute_result"
    }
   ],
   "source": [
    "product_duplicated = source_data_2[\"product\"].value_counts().reset_index()\n",
    "product_duplicated.sort_values(by=\"index\", inplace=True)\n",
    "product_duplicated.reset_index(inplace=True, drop=True)\n",
    "product_duplicated.columns = [\"unique_product_quantity\", \"number_of_duplicates\"]\n",
    "print(\"\\nТаблица 1.3. Список уникальных значений запасов нефти для скважин региона 2\")\n",
    "product_duplicated"
   ]
  },
  {
   "cell_type": "markdown",
   "metadata": {},
   "source": [
    "Обращает на себя внимание ритмичность приращений запасов нефти скважин в отсортированной таблице при последовательном перемещении по списку от самого низкого запаса до самого большого. Добавим в данную таблицу дополнительный столбец delta с приращениями запасов скважин в отсортированном списке. Для этого напишем программу delta. "
   ]
  },
  {
   "cell_type": "code",
   "execution_count": 8,
   "metadata": {},
   "outputs": [],
   "source": [
    "def delta(column):\n",
    "    new_column = pd.Series(np.nan)\n",
    "    i = 1\n",
    "    while i < len(column):\n",
    "        new_column[i] = column.iloc[i] - column.iloc[i-1]\n",
    "        i += 1\n",
    "    return new_column"
   ]
  },
  {
   "cell_type": "code",
   "execution_count": 9,
   "metadata": {},
   "outputs": [
    {
     "name": "stdout",
     "output_type": "stream",
     "text": [
      "\n",
      "Таблица 1.4. Отредактированный список уникальных значений запасов нефти для скважин региона 2\n"
     ]
    },
    {
     "data": {
      "text/html": [
       "<div>\n",
       "<style scoped>\n",
       "    .dataframe tbody tr th:only-of-type {\n",
       "        vertical-align: middle;\n",
       "    }\n",
       "\n",
       "    .dataframe tbody tr th {\n",
       "        vertical-align: top;\n",
       "    }\n",
       "\n",
       "    .dataframe thead th {\n",
       "        text-align: right;\n",
       "    }\n",
       "</style>\n",
       "<table border=\"1\" class=\"dataframe\">\n",
       "  <thead>\n",
       "    <tr style=\"text-align: right;\">\n",
       "      <th></th>\n",
       "      <th>unique_product_quantity</th>\n",
       "      <th>number_of_duplicates</th>\n",
       "      <th>delta</th>\n",
       "    </tr>\n",
       "  </thead>\n",
       "  <tbody>\n",
       "    <tr>\n",
       "      <td>0</td>\n",
       "      <td>0.000000</td>\n",
       "      <td>8235</td>\n",
       "      <td>NaN</td>\n",
       "    </tr>\n",
       "    <tr>\n",
       "      <td>1</td>\n",
       "      <td>3.179103</td>\n",
       "      <td>8337</td>\n",
       "      <td>3.179103</td>\n",
       "    </tr>\n",
       "    <tr>\n",
       "      <td>2</td>\n",
       "      <td>26.953261</td>\n",
       "      <td>8468</td>\n",
       "      <td>23.774158</td>\n",
       "    </tr>\n",
       "    <tr>\n",
       "      <td>3</td>\n",
       "      <td>30.132364</td>\n",
       "      <td>8306</td>\n",
       "      <td>3.179103</td>\n",
       "    </tr>\n",
       "    <tr>\n",
       "      <td>4</td>\n",
       "      <td>53.906522</td>\n",
       "      <td>8472</td>\n",
       "      <td>23.774158</td>\n",
       "    </tr>\n",
       "    <tr>\n",
       "      <td>5</td>\n",
       "      <td>57.085625</td>\n",
       "      <td>8390</td>\n",
       "      <td>3.179103</td>\n",
       "    </tr>\n",
       "    <tr>\n",
       "      <td>6</td>\n",
       "      <td>80.859783</td>\n",
       "      <td>8320</td>\n",
       "      <td>23.774158</td>\n",
       "    </tr>\n",
       "    <tr>\n",
       "      <td>7</td>\n",
       "      <td>84.038886</td>\n",
       "      <td>8431</td>\n",
       "      <td>3.179103</td>\n",
       "    </tr>\n",
       "    <tr>\n",
       "      <td>8</td>\n",
       "      <td>107.813044</td>\n",
       "      <td>8201</td>\n",
       "      <td>23.774158</td>\n",
       "    </tr>\n",
       "    <tr>\n",
       "      <td>9</td>\n",
       "      <td>110.992147</td>\n",
       "      <td>8303</td>\n",
       "      <td>3.179103</td>\n",
       "    </tr>\n",
       "    <tr>\n",
       "      <td>10</td>\n",
       "      <td>134.766305</td>\n",
       "      <td>8304</td>\n",
       "      <td>23.774158</td>\n",
       "    </tr>\n",
       "    <tr>\n",
       "      <td>11</td>\n",
       "      <td>137.945408</td>\n",
       "      <td>8233</td>\n",
       "      <td>3.179103</td>\n",
       "    </tr>\n",
       "  </tbody>\n",
       "</table>\n",
       "</div>"
      ],
      "text/plain": [
       "    unique_product_quantity  number_of_duplicates      delta\n",
       "0                  0.000000                  8235        NaN\n",
       "1                  3.179103                  8337   3.179103\n",
       "2                 26.953261                  8468  23.774158\n",
       "3                 30.132364                  8306   3.179103\n",
       "4                 53.906522                  8472  23.774158\n",
       "5                 57.085625                  8390   3.179103\n",
       "6                 80.859783                  8320  23.774158\n",
       "7                 84.038886                  8431   3.179103\n",
       "8                107.813044                  8201  23.774158\n",
       "9                110.992147                  8303   3.179103\n",
       "10               134.766305                  8304  23.774158\n",
       "11               137.945408                  8233   3.179103"
      ]
     },
     "execution_count": 9,
     "metadata": {},
     "output_type": "execute_result"
    }
   ],
   "source": [
    "product_duplicated[\"delta\"] = delta(product_duplicated[\"unique_product_quantity\"])\n",
    "print(\"\\nТаблица 1.4. Отредактированный список уникальных значений запасов нефти для скважин региона 2\")\n",
    "product_duplicated"
   ]
  },
  {
   "cell_type": "markdown",
   "metadata": {},
   "source": [
    "Из таблицы хорошо видно, что мы имеем ритмичные приращения на 3,18, а затем на 23,77 тысяч бараллей. В данном исследовании оставим столбец product для региона 2 без изменений. Однако отметим о желательности консультации с составителями таблицы и техническими специалистами по поводу природы выявленных аномалий в исходном датасете."
   ]
  },
  {
   "cell_type": "markdown",
   "metadata": {},
   "source": [
    "С целью подготовки данных к машинному обучению удалим столбец \"id\", так как уникальный id не влияет на целевой признак. В качестве же уникального индентификатора скважины будет выступать индекс датафрейма."
   ]
  },
  {
   "cell_type": "code",
   "execution_count": 10,
   "metadata": {
    "scrolled": false
   },
   "outputs": [],
   "source": [
    "data_1 = source_data_1.drop(\"id\", axis=1)\n",
    "data_2 = source_data_2.drop(\"id\", axis=1)\n",
    "data_3 = source_data_3.drop(\"id\", axis=1)"
   ]
  },
  {
   "cell_type": "markdown",
   "metadata": {},
   "source": [
    "### Выводы"
   ]
  },
  {
   "cell_type": "markdown",
   "metadata": {},
   "source": [
    "1. Загружены исходные данные для трех регионов. Исходные датасеты для всех регионов имеют одинаковый размер 100000 х 5.\n",
    "2. Пропуски в исходных данных не выявлены.\n",
    "3. Выявлены повторы в столбцах id для регионов 1, 2 и 3. От общего количества строк данные повторы не превышают 0,01%. Вследствие этого данные повторы оставлены без изменений.\n",
    "4. В столбце product только 12 уникальных значений. Причина этого не ясна. Необходимы консультации с составителями таблицы и техническими специалистами.\n",
    "5. С целью подготовки к машинному обучению в исходных данных удален столбец \"id\", так как уникальный индентификатор не влияет на целевой признак."
   ]
  },
  {
   "cell_type": "markdown",
   "metadata": {},
   "source": [
    "## Обучение и проверка модели"
   ]
  },
  {
   "cell_type": "markdown",
   "metadata": {},
   "source": [
    "Создадим список list_of_vars, содержащий названия необходимых переменных для регионов 1-3."
   ]
  },
  {
   "cell_type": "code",
   "execution_count": 11,
   "metadata": {},
   "outputs": [
    {
     "data": {
      "text/plain": [
       "[['features_1',\n",
       "  'target_1',\n",
       "  'features_train_1',\n",
       "  'features_valid_1',\n",
       "  'target_train_1',\n",
       "  'target_valid_1',\n",
       "  'predicted_valid_1'],\n",
       " ['features_2',\n",
       "  'target_2',\n",
       "  'features_train_2',\n",
       "  'features_valid_2',\n",
       "  'target_train_2',\n",
       "  'target_valid_2',\n",
       "  'predicted_valid_2'],\n",
       " ['features_3',\n",
       "  'target_3',\n",
       "  'features_train_3',\n",
       "  'features_valid_3',\n",
       "  'target_train_3',\n",
       "  'target_valid_3',\n",
       "  'predicted_valid_3']]"
      ]
     },
     "execution_count": 11,
     "metadata": {},
     "output_type": "execute_result"
    }
   ],
   "source": [
    "list_of_vars_draft = [\"features_\", \"target_\", \"features_train_\", \"features_valid_\", \"target_train_\",\n",
    "                      \"target_valid_\", \"predicted_valid_\"]\n",
    "list_of_vars = []\n",
    "for regions in range(1, 4):\n",
    "    current_list = [x + str(regions) for x in list_of_vars_draft]\n",
    "    list_of_vars.append(current_list)\n",
    "list_of_vars"
   ]
  },
  {
   "cell_type": "markdown",
   "metadata": {},
   "source": [
    "Выполним обучение и проверку моделей для регионов 1-3. Для оптимизации кода и избежании повторов в нем воспользуемся циклом. Переменные с названиями из списка list_of_vars сохраним в словаре dict_of_vars."
   ]
  },
  {
   "cell_type": "code",
   "execution_count": 12,
   "metadata": {
    "scrolled": true
   },
   "outputs": [],
   "source": [
    "list_of_data = [data_1, data_2, data_3]\n",
    "R2 = []\n",
    "RMSE = []\n",
    "predicted_mean = []\n",
    "actual_mean = []\n",
    "dict_of_vars = {}\n",
    "for region, data in zip(range(0, 3), list_of_data):\n",
    "    dict_of_vars[list_of_vars[region][0]] = data.drop(\"product\", axis=1)\n",
    "    dict_of_vars[list_of_vars[region][1]] = data[\"product\"]\n",
    "    dict_of_vars[list_of_vars[region][2]], dict_of_vars[list_of_vars[region][3]], dict_of_vars[list_of_vars[region][4]], dict_of_vars[list_of_vars[region][5]] = train_test_split(\n",
    "        dict_of_vars[list_of_vars[region][0]], dict_of_vars[list_of_vars[region][1]], test_size=0.25, random_state=12345)\n",
    "    dict_of_vars[list_of_vars[region][5]].reset_index(inplace=True, drop=True)\n",
    "    model = LinearRegression() \n",
    "    model.fit(dict_of_vars[list_of_vars[region][2]], dict_of_vars[list_of_vars[region][4]])\n",
    "    predicted_valid = pd.Series(model.predict(dict_of_vars[list_of_vars[region][3]]))\n",
    "    dict_of_vars[list_of_vars[region][6]] = predicted_valid\n",
    "    R2.append(r2_score(dict_of_vars[list_of_vars[region][5]], predicted_valid))\n",
    "    RMSE.append(mean_squared_error(dict_of_vars[list_of_vars[region][5]], predicted_valid)**0.5)\n",
    "    predicted_mean.append(predicted_valid.mean())   \n",
    "    actual_mean.append(dict_of_vars[list_of_vars[region][5]].mean())"
   ]
  },
  {
   "cell_type": "markdown",
   "metadata": {},
   "source": [
    "Выгрузим переменные из словаря dict_of_vars."
   ]
  },
  {
   "cell_type": "code",
   "execution_count": 13,
   "metadata": {},
   "outputs": [],
   "source": [
    "for key, val in dict_of_vars.items():\n",
    "    exec(key + \"=val\")"
   ]
  },
  {
   "cell_type": "markdown",
   "metadata": {},
   "source": [
    "Создадим таблицу с основными результатами проверки модели."
   ]
  },
  {
   "cell_type": "code",
   "execution_count": 14,
   "metadata": {},
   "outputs": [
    {
     "name": "stdout",
     "output_type": "stream",
     "text": [
      "\n",
      "Таблица 2.1. Основные результаты проверки моделей для регионов 1-3\n"
     ]
    },
    {
     "data": {
      "text/html": [
       "<div>\n",
       "<style scoped>\n",
       "    .dataframe tbody tr th:only-of-type {\n",
       "        vertical-align: middle;\n",
       "    }\n",
       "\n",
       "    .dataframe tbody tr th {\n",
       "        vertical-align: top;\n",
       "    }\n",
       "\n",
       "    .dataframe thead th {\n",
       "        text-align: right;\n",
       "    }\n",
       "</style>\n",
       "<table border=\"1\" class=\"dataframe\">\n",
       "  <thead>\n",
       "    <tr style=\"text-align: right;\">\n",
       "      <th></th>\n",
       "      <th>R2</th>\n",
       "      <th>RMSE</th>\n",
       "      <th>predicted_mean</th>\n",
       "      <th>actual_mean</th>\n",
       "    </tr>\n",
       "  </thead>\n",
       "  <tbody>\n",
       "    <tr>\n",
       "      <td>Region_1</td>\n",
       "      <td>0.279943</td>\n",
       "      <td>37.579422</td>\n",
       "      <td>92.592568</td>\n",
       "      <td>92.078597</td>\n",
       "    </tr>\n",
       "    <tr>\n",
       "      <td>Region_2</td>\n",
       "      <td>0.999623</td>\n",
       "      <td>0.893099</td>\n",
       "      <td>68.728547</td>\n",
       "      <td>68.723136</td>\n",
       "    </tr>\n",
       "    <tr>\n",
       "      <td>Region_3</td>\n",
       "      <td>0.205248</td>\n",
       "      <td>40.029709</td>\n",
       "      <td>94.965046</td>\n",
       "      <td>94.884233</td>\n",
       "    </tr>\n",
       "  </tbody>\n",
       "</table>\n",
       "</div>"
      ],
      "text/plain": [
       "                R2       RMSE  predicted_mean  actual_mean\n",
       "Region_1  0.279943  37.579422       92.592568    92.078597\n",
       "Region_2  0.999623   0.893099       68.728547    68.723136\n",
       "Region_3  0.205248  40.029709       94.965046    94.884233"
      ]
     },
     "execution_count": 14,
     "metadata": {},
     "output_type": "execute_result"
    }
   ],
   "source": [
    "results_dict = {\"R2\": R2, \"RMSE\": RMSE, \"predicted_mean\": predicted_mean, \"actual_mean\": actual_mean}\n",
    "results = pd.DataFrame(results_dict, index=[\"Region_1\", \"Region_2\", \"Region_3\"])\n",
    "results = pd.DataFrame(results_dict, index=[\"Region_1\", \"Region_2\", \"Region_3\"])\n",
    "print(\"\\nТаблица 2.1. Основные результаты проверки моделей для регионов 1-3\")\n",
    "results"
   ]
  },
  {
   "cell_type": "markdown",
   "metadata": {},
   "source": [
    "Как видно из таблицы 2.1, коэффициент детерминации составляет  0.28, 0.9996 и 0.21 для регионов 1, 2 и 3 соответственно. Для всех регионов коэффициент детерминации больше нуля. Таким образом, получившиеся модели превосходят модель, в которой целевой признак постоянен и рассчитывается как среднее значение всех целевых признаков. При этом обращает внимание на себя аномально высокое значение коэффициента детерминации для региона 2 равное 0.9996. Похоже, что значения целевого признака для региона 2 были определены не опытным путем, а с использованием линейной регрессии. "
   ]
  },
  {
   "cell_type": "markdown",
   "metadata": {},
   "source": [
    "### Выводы"
   ]
  },
  {
   "cell_type": "markdown",
   "metadata": {},
   "source": [
    "1. Обучены модели для регионов 1, 2 и 3.\n",
    "2. Коэффициент детерминации составляет  0.28, 0.9996 и 0.21 для регионов 1, 2 и 3 соответственно. Обращает внимание на себя аномально высокое значение коэффициента детерминации для региона 2 равное 0.9996. Похоже, что значения целевого признака для региона 2 были определены не опытным путем, а с использованием линейной регрессии на основание признаков f1, f2 и f3."
   ]
  },
  {
   "cell_type": "markdown",
   "metadata": {},
   "source": [
    "## Подготовка к расчёту прибыли"
   ]
  },
  {
   "cell_type": "markdown",
   "metadata": {},
   "source": [
    "Зададим переменные для расчета прибыли."
   ]
  },
  {
   "cell_type": "code",
   "execution_count": 15,
   "metadata": {},
   "outputs": [],
   "source": [
    "BUDGET = 10000000\n",
    "POINTS_SURVEY = 500\n",
    "BOREHOLES = 200\n",
    "PRICE_FOR_PRODUCT = 450"
   ]
  },
  {
   "cell_type": "markdown",
   "metadata": {},
   "source": [
    "Рассчитаем цену за бурение одной скважины."
   ]
  },
  {
   "cell_type": "code",
   "execution_count": 16,
   "metadata": {},
   "outputs": [
    {
     "name": "stdout",
     "output_type": "stream",
     "text": [
      "Цена за бурение одной скважины: 50.0 млн. рубл.\n"
     ]
    }
   ],
   "source": [
    "price_for_borehole_drilling = BUDGET / BOREHOLES\n",
    "print(\"Цена за бурение одной скважины:\", price_for_borehole_drilling / 1000, \"млн. рубл.\")"
   ]
  },
  {
   "cell_type": "markdown",
   "metadata": {},
   "source": [
    "Рассчитаем достаточный объём сырья для безубыточной разработки новой скважины."
   ]
  },
  {
   "cell_type": "code",
   "execution_count": 17,
   "metadata": {
    "scrolled": true
   },
   "outputs": [
    {
     "name": "stdout",
     "output_type": "stream",
     "text": [
      "Достаточный объём сырья для безубыточной разработки новой скважины: 111.1 тыс. бараллей\n"
     ]
    }
   ],
   "source": [
    "necessary_oil_reserves = price_for_borehole_drilling / PRICE_FOR_PRODUCT\n",
    "print(\"Достаточный объём сырья для безубыточной разработки новой скважины:\", round(necessary_oil_reserves, 1), \"тыс. бараллей\")"
   ]
  },
  {
   "cell_type": "markdown",
   "metadata": {},
   "source": [
    "Рассчитаем средние запасы нефти по регионам, приходящиеся на одну скважину."
   ]
  },
  {
   "cell_type": "code",
   "execution_count": 18,
   "metadata": {
    "scrolled": false
   },
   "outputs": [
    {
     "name": "stdout",
     "output_type": "stream",
     "text": [
      "Средний запас нефти в регионе 1 на одну скважину: 92.5 тыс. бараллей\n",
      "Средний запас нефти в регионе 2 на одну скважину: 68.8 тыс. бараллей\n",
      "Средний запас нефти в регионе 3 на одну скважину: 95.0 тыс. бараллей\n"
     ]
    }
   ],
   "source": [
    "for data, region in zip(list_of_data, range(1, 4)):\n",
    "    print(\"Средний запас нефти в регионе {} на одну скважину: {} тыс. бараллей\".format(region, round(data[\"product\"].mean(), 1)))"
   ]
  },
  {
   "cell_type": "markdown",
   "metadata": {},
   "source": [
    "Согласно выполненным расчетам, средний запас нефти в регионах 1, 2 и 3 на одну скважину меньше требуемого, исходя из условия безубыточной разработки скважины. "
   ]
  },
  {
   "cell_type": "markdown",
   "metadata": {},
   "source": [
    "Напишем функцию для расчета прибыли по выбранным скважинам и предсказаниям модели. Программа принимает на вход количество отбираемых скважин и два списка значений целевого признака: один фактический и второй, согласно предсказанию, сделанному моделью. Возвращает функция значение прибыли (выручка от продажи сырья минус затраты на бурение скважин)."
   ]
  },
  {
   "cell_type": "code",
   "execution_count": 19,
   "metadata": {},
   "outputs": [],
   "source": [
    "def profit_selected_boreholes(target, predictions, boreholes):\n",
    "    predictions_selected = predictions.sort_values(ascending=False)[:boreholes]\n",
    "    target_selected = target[predictions_selected.index]\n",
    "    profit = target_selected.sum() * PRICE_FOR_PRODUCT - price_for_borehole_drilling * BOREHOLES \n",
    "    print(len(target_selected))\n",
    "    return profit"
   ]
  },
  {
   "cell_type": "code",
   "execution_count": null,
   "metadata": {},
   "outputs": [],
   "source": []
  },
  {
   "cell_type": "markdown",
   "metadata": {},
   "source": [
    "### Выводы"
   ]
  },
  {
   "cell_type": "markdown",
   "metadata": {},
   "source": [
    "1. Достаточный объём сырья для безубыточной разработки новой скважины равняется 111 тысячам бараллей. При этом средний запас нефти в регионах 1, 2 и 3 равняется 93, 69 и 95 тысячам бараллей. Таким образом, если отбирать скважины для бурения случайным образом, то фирма понесет убытки.\n",
    "2. Написана функция для расчета прибыли по выбранным скважинам и предсказаниям модели."
   ]
  },
  {
   "cell_type": "markdown",
   "metadata": {},
   "source": [
    "## Расчёт прибыли и рисков "
   ]
  },
  {
   "cell_type": "markdown",
   "metadata": {},
   "source": [
    "Расчитаем распределение прибыли для регионов 1, 2 и 3, используя технику Bootstrap. Для оптимизации кода и избежании повторов в нем воспользуемся циклом. Результаты расчетов прибыли сохраним в списке profit_list."
   ]
  },
  {
   "cell_type": "code",
   "execution_count": 20,
   "metadata": {},
   "outputs": [
    {
     "name": "stdout",
     "output_type": "stream",
     "text": [
      "200\n",
      "200\n",
      "200\n",
      "200\n",
      "200\n",
      "200\n",
      "200\n",
      "200\n",
      "200\n",
      "200\n",
      "200\n",
      "200\n",
      "200\n",
      "200\n",
      "200\n",
      "200\n",
      "200\n",
      "200\n",
      "200\n",
      "200\n",
      "200\n",
      "200\n",
      "200\n",
      "200\n",
      "200\n",
      "200\n",
      "200\n",
      "200\n",
      "200\n",
      "200\n",
      "200\n",
      "200\n",
      "200\n",
      "200\n",
      "200\n",
      "200\n",
      "200\n",
      "200\n",
      "200\n",
      "200\n",
      "200\n",
      "200\n",
      "200\n",
      "200\n",
      "200\n",
      "200\n",
      "200\n",
      "200\n",
      "200\n",
      "200\n",
      "200\n",
      "200\n",
      "200\n",
      "200\n",
      "200\n",
      "200\n",
      "200\n",
      "200\n",
      "200\n",
      "200\n",
      "200\n",
      "200\n",
      "200\n",
      "200\n",
      "200\n",
      "200\n",
      "200\n",
      "200\n",
      "200\n",
      "200\n",
      "200\n",
      "200\n",
      "200\n",
      "200\n",
      "200\n",
      "200\n",
      "200\n",
      "200\n",
      "200\n",
      "200\n",
      "200\n",
      "200\n",
      "200\n",
      "200\n",
      "200\n",
      "200\n",
      "200\n",
      "200\n",
      "200\n",
      "200\n",
      "200\n",
      "200\n",
      "200\n",
      "200\n",
      "200\n",
      "200\n",
      "200\n",
      "200\n",
      "200\n",
      "200\n",
      "200\n",
      "200\n",
      "200\n",
      "200\n",
      "200\n",
      "200\n",
      "200\n",
      "200\n",
      "200\n",
      "200\n",
      "200\n",
      "200\n",
      "200\n",
      "200\n",
      "200\n",
      "200\n",
      "200\n",
      "200\n",
      "200\n",
      "200\n",
      "200\n",
      "200\n",
      "200\n",
      "200\n",
      "200\n",
      "200\n",
      "200\n",
      "200\n",
      "200\n",
      "200\n",
      "200\n",
      "200\n",
      "200\n",
      "200\n",
      "200\n",
      "200\n",
      "200\n",
      "200\n",
      "200\n",
      "200\n",
      "200\n",
      "200\n",
      "200\n",
      "200\n",
      "200\n",
      "200\n",
      "200\n",
      "200\n",
      "200\n",
      "200\n",
      "200\n",
      "200\n",
      "200\n",
      "200\n",
      "200\n",
      "200\n",
      "200\n",
      "200\n",
      "200\n",
      "200\n",
      "200\n",
      "200\n",
      "200\n",
      "200\n",
      "200\n",
      "200\n",
      "200\n",
      "200\n",
      "200\n",
      "200\n",
      "200\n",
      "200\n",
      "200\n",
      "200\n",
      "200\n",
      "200\n",
      "200\n",
      "200\n",
      "200\n",
      "200\n",
      "200\n",
      "200\n",
      "200\n",
      "200\n",
      "200\n",
      "200\n",
      "200\n",
      "200\n",
      "200\n",
      "200\n",
      "200\n",
      "200\n",
      "200\n",
      "200\n",
      "200\n",
      "200\n",
      "200\n",
      "200\n",
      "200\n",
      "200\n",
      "200\n",
      "200\n",
      "200\n",
      "200\n",
      "200\n",
      "200\n",
      "200\n",
      "200\n",
      "200\n",
      "200\n",
      "200\n",
      "200\n",
      "200\n",
      "200\n",
      "200\n",
      "200\n",
      "200\n",
      "200\n",
      "200\n",
      "200\n",
      "200\n",
      "200\n",
      "200\n",
      "200\n",
      "200\n",
      "200\n",
      "200\n",
      "200\n",
      "200\n",
      "200\n",
      "200\n",
      "200\n",
      "200\n",
      "200\n",
      "200\n",
      "200\n",
      "200\n",
      "200\n",
      "200\n",
      "200\n",
      "200\n",
      "200\n",
      "200\n",
      "200\n",
      "200\n",
      "200\n",
      "200\n",
      "200\n",
      "200\n",
      "200\n",
      "200\n",
      "200\n",
      "200\n",
      "200\n",
      "200\n",
      "200\n",
      "200\n",
      "200\n",
      "200\n",
      "200\n",
      "200\n",
      "200\n",
      "200\n",
      "200\n",
      "200\n",
      "200\n",
      "200\n",
      "200\n",
      "200\n",
      "200\n",
      "200\n",
      "200\n",
      "200\n",
      "200\n",
      "200\n",
      "200\n",
      "200\n",
      "200\n",
      "200\n",
      "200\n",
      "200\n",
      "200\n",
      "200\n",
      "200\n",
      "200\n",
      "200\n",
      "200\n",
      "200\n",
      "200\n",
      "200\n",
      "200\n",
      "200\n",
      "200\n",
      "200\n",
      "200\n",
      "200\n",
      "200\n",
      "200\n",
      "200\n",
      "200\n",
      "200\n",
      "200\n",
      "200\n",
      "200\n",
      "200\n",
      "200\n",
      "200\n",
      "200\n",
      "200\n",
      "200\n",
      "200\n",
      "200\n",
      "200\n",
      "200\n",
      "200\n",
      "200\n",
      "200\n",
      "200\n",
      "200\n",
      "200\n",
      "200\n",
      "200\n",
      "200\n",
      "200\n",
      "200\n",
      "200\n",
      "200\n",
      "200\n",
      "200\n",
      "200\n",
      "200\n",
      "200\n",
      "200\n",
      "200\n",
      "200\n",
      "200\n",
      "200\n",
      "200\n",
      "200\n",
      "200\n",
      "200\n",
      "200\n",
      "200\n",
      "200\n",
      "200\n",
      "200\n",
      "200\n",
      "200\n",
      "200\n",
      "200\n",
      "200\n",
      "200\n",
      "200\n",
      "200\n",
      "200\n",
      "200\n",
      "200\n",
      "200\n",
      "200\n",
      "200\n",
      "200\n",
      "200\n",
      "200\n",
      "200\n",
      "200\n",
      "200\n",
      "200\n",
      "200\n",
      "200\n",
      "200\n",
      "200\n",
      "200\n",
      "200\n",
      "200\n",
      "200\n",
      "200\n",
      "200\n",
      "200\n",
      "200\n",
      "200\n",
      "200\n",
      "200\n",
      "200\n",
      "200\n",
      "200\n",
      "200\n",
      "200\n",
      "200\n",
      "200\n",
      "200\n",
      "200\n",
      "200\n",
      "200\n",
      "200\n",
      "200\n",
      "200\n",
      "200\n",
      "200\n",
      "200\n",
      "200\n",
      "200\n",
      "200\n",
      "200\n",
      "200\n",
      "200\n",
      "200\n",
      "200\n",
      "200\n",
      "200\n",
      "200\n",
      "200\n",
      "200\n",
      "200\n",
      "200\n",
      "200\n",
      "200\n",
      "200\n",
      "200\n",
      "200\n",
      "200\n",
      "200\n",
      "200\n",
      "200\n",
      "200\n",
      "200\n",
      "200\n",
      "200\n",
      "200\n",
      "200\n",
      "200\n",
      "200\n",
      "200\n",
      "200\n",
      "200\n",
      "200\n",
      "200\n",
      "200\n",
      "200\n",
      "200\n",
      "200\n",
      "200\n",
      "200\n",
      "200\n",
      "200\n",
      "200\n",
      "200\n",
      "200\n",
      "200\n",
      "200\n",
      "200\n",
      "200\n",
      "200\n",
      "200\n",
      "200\n",
      "200\n",
      "200\n",
      "200\n",
      "200\n",
      "200\n",
      "200\n",
      "200\n",
      "200\n",
      "200\n",
      "200\n",
      "200\n",
      "200\n",
      "200\n",
      "200\n",
      "200\n",
      "200\n",
      "200\n",
      "200\n",
      "200\n",
      "200\n",
      "200\n",
      "200\n",
      "200\n",
      "200\n",
      "200\n",
      "200\n",
      "200\n",
      "200\n",
      "200\n",
      "200\n",
      "200\n",
      "200\n",
      "200\n",
      "200\n",
      "200\n",
      "200\n",
      "200\n",
      "200\n",
      "200\n",
      "200\n",
      "200\n",
      "200\n",
      "200\n",
      "200\n",
      "200\n",
      "200\n",
      "200\n",
      "200\n",
      "200\n",
      "200\n",
      "200\n",
      "200\n",
      "200\n",
      "200\n",
      "200\n",
      "200\n",
      "200\n",
      "200\n",
      "200\n",
      "200\n",
      "200\n",
      "200\n",
      "200\n",
      "200\n",
      "200\n",
      "200\n",
      "200\n",
      "200\n",
      "200\n",
      "200\n",
      "200\n",
      "200\n",
      "200\n",
      "200\n",
      "200\n",
      "200\n",
      "200\n",
      "200\n",
      "200\n",
      "200\n",
      "200\n",
      "200\n",
      "200\n",
      "200\n",
      "200\n",
      "200\n",
      "200\n",
      "200\n",
      "200\n",
      "200\n",
      "200\n",
      "200\n",
      "200\n",
      "200\n",
      "200\n",
      "200\n",
      "200\n",
      "200\n",
      "200\n",
      "200\n",
      "200\n",
      "200\n",
      "200\n",
      "200\n",
      "200\n",
      "200\n",
      "200\n",
      "200\n",
      "200\n",
      "200\n",
      "200\n",
      "200\n",
      "200\n",
      "200\n",
      "200\n",
      "200\n",
      "200\n",
      "200\n",
      "200\n",
      "200\n",
      "200\n",
      "200\n",
      "200\n",
      "200\n",
      "200\n",
      "200\n",
      "200\n",
      "200\n",
      "200\n",
      "200\n",
      "200\n",
      "200\n",
      "200\n",
      "200\n",
      "200\n",
      "200\n",
      "200\n",
      "200\n",
      "200\n",
      "200\n",
      "200\n",
      "200\n",
      "200\n",
      "200\n",
      "200\n",
      "200\n",
      "200\n",
      "200\n",
      "200\n",
      "200\n",
      "200\n",
      "200\n",
      "200\n",
      "200\n",
      "200\n",
      "200\n",
      "200\n",
      "200\n",
      "200\n",
      "200\n",
      "200\n",
      "200\n",
      "200\n",
      "200\n",
      "200\n",
      "200\n",
      "200\n",
      "200\n",
      "200\n",
      "200\n",
      "200\n",
      "200\n",
      "200\n",
      "200\n",
      "200\n",
      "200\n",
      "200\n",
      "200\n",
      "200\n",
      "200\n",
      "200\n",
      "200\n",
      "200\n",
      "200\n",
      "200\n",
      "200\n",
      "200\n",
      "200\n",
      "200\n",
      "200\n",
      "200\n",
      "200\n",
      "200\n",
      "200\n",
      "200\n",
      "200\n",
      "200\n",
      "200\n",
      "200\n",
      "200\n",
      "200\n",
      "200\n",
      "200\n",
      "200\n",
      "200\n",
      "200\n",
      "200\n",
      "200\n",
      "200\n",
      "200\n",
      "200\n",
      "200\n",
      "200\n",
      "200\n",
      "200\n",
      "200\n",
      "200\n",
      "200\n",
      "200\n",
      "200\n",
      "200\n",
      "200\n",
      "200\n",
      "200\n",
      "200\n",
      "200\n",
      "200\n",
      "200\n",
      "200\n",
      "200\n",
      "200\n",
      "200\n",
      "200\n",
      "200\n",
      "200\n",
      "200\n",
      "200\n",
      "200\n",
      "200\n",
      "200\n",
      "200\n",
      "200\n",
      "200\n",
      "200\n",
      "200\n",
      "200\n",
      "200\n",
      "200\n",
      "200\n",
      "200\n",
      "200\n",
      "200\n",
      "200\n",
      "200\n",
      "200\n",
      "200\n",
      "200\n",
      "200\n",
      "200\n",
      "200\n",
      "200\n",
      "200\n",
      "200\n",
      "200\n",
      "200\n",
      "200\n",
      "200\n",
      "200\n",
      "200\n",
      "200\n",
      "200\n",
      "200\n",
      "200\n",
      "200\n",
      "200\n",
      "200\n",
      "200\n",
      "200\n",
      "200\n",
      "200\n",
      "200\n",
      "200\n",
      "200\n",
      "200\n",
      "200\n",
      "200\n",
      "200\n",
      "200\n",
      "200\n",
      "200\n",
      "200\n",
      "200\n",
      "200\n",
      "200\n",
      "200\n",
      "200\n",
      "200\n",
      "200\n",
      "200\n",
      "200\n",
      "200\n",
      "200\n",
      "200\n",
      "200\n",
      "200\n",
      "200\n",
      "200\n",
      "200\n",
      "200\n",
      "200\n",
      "200\n",
      "200\n",
      "200\n",
      "200\n",
      "200\n",
      "200\n",
      "200\n",
      "200\n",
      "200\n",
      "200\n",
      "200\n",
      "200\n",
      "200\n",
      "200\n",
      "200\n",
      "200\n",
      "200\n",
      "200\n",
      "200\n",
      "200\n",
      "200\n",
      "200\n",
      "200\n",
      "200\n",
      "200\n",
      "200\n",
      "200\n",
      "200\n",
      "200\n",
      "200\n",
      "200\n",
      "200\n",
      "200\n",
      "200\n",
      "200\n",
      "200\n",
      "200\n",
      "200\n",
      "200\n",
      "200\n",
      "200\n",
      "200\n",
      "200\n",
      "200\n",
      "200\n",
      "200\n",
      "200\n",
      "200\n",
      "200\n",
      "200\n",
      "200\n",
      "200\n",
      "200\n",
      "200\n",
      "200\n",
      "200\n",
      "200\n",
      "200\n",
      "200\n",
      "200\n",
      "200\n",
      "200\n",
      "200\n",
      "200\n",
      "200\n",
      "200\n",
      "200\n",
      "200\n",
      "200\n",
      "200\n",
      "200\n",
      "200\n",
      "200\n",
      "200\n",
      "200\n",
      "200\n",
      "200\n",
      "200\n",
      "200\n",
      "200\n",
      "200\n",
      "200\n",
      "200\n",
      "200\n",
      "200\n",
      "200\n",
      "200\n",
      "200\n",
      "200\n",
      "200\n",
      "200\n",
      "200\n",
      "200\n",
      "200\n",
      "200\n",
      "200\n",
      "200\n",
      "200\n",
      "200\n",
      "200\n",
      "200\n",
      "200\n",
      "200\n",
      "200\n",
      "200\n",
      "200\n",
      "200\n",
      "200\n",
      "200\n",
      "200\n",
      "200\n",
      "200\n",
      "200\n",
      "200\n",
      "200\n",
      "200\n",
      "200\n",
      "200\n",
      "200\n",
      "200\n",
      "200\n",
      "200\n",
      "200\n",
      "200\n",
      "200\n",
      "200\n",
      "200\n",
      "200\n",
      "200\n",
      "200\n",
      "200\n",
      "200\n",
      "200\n",
      "200\n",
      "200\n",
      "200\n",
      "200\n",
      "200\n",
      "200\n",
      "200\n",
      "200\n",
      "200\n",
      "200\n",
      "200\n",
      "200\n",
      "200\n",
      "200\n",
      "200\n",
      "200\n",
      "200\n",
      "200\n",
      "200\n",
      "200\n",
      "200\n",
      "200\n",
      "200\n",
      "200\n",
      "200\n",
      "200\n",
      "200\n",
      "200\n",
      "200\n",
      "200\n",
      "200\n",
      "200\n",
      "200\n",
      "200\n",
      "200\n",
      "200\n",
      "200\n",
      "200\n",
      "200\n",
      "200\n",
      "200\n",
      "200\n",
      "200\n",
      "200\n",
      "200\n",
      "200\n",
      "200\n",
      "200\n",
      "200\n",
      "200\n",
      "200\n",
      "200\n",
      "200\n",
      "200\n",
      "200\n",
      "200\n",
      "200\n",
      "200\n",
      "200\n",
      "200\n",
      "200\n",
      "200\n",
      "200\n",
      "200\n",
      "200\n",
      "200\n",
      "200\n",
      "200\n",
      "200\n",
      "200\n",
      "200\n",
      "200\n",
      "200\n",
      "200\n",
      "200\n",
      "200\n",
      "200\n",
      "200\n",
      "200\n",
      "200\n",
      "200\n",
      "200\n",
      "200\n",
      "200\n",
      "200\n",
      "200\n",
      "200\n",
      "200\n",
      "200\n",
      "200\n",
      "200\n",
      "200\n",
      "200\n",
      "200\n",
      "200\n",
      "200\n",
      "200\n",
      "200\n",
      "200\n",
      "200\n",
      "200\n",
      "200\n",
      "200\n",
      "200\n",
      "200\n",
      "200\n",
      "200\n",
      "200\n",
      "200\n",
      "200\n",
      "200\n",
      "200\n",
      "200\n",
      "200\n",
      "200\n",
      "200\n",
      "200\n",
      "200\n",
      "200\n",
      "200\n",
      "200\n",
      "200\n",
      "200\n",
      "200\n",
      "200\n",
      "200\n",
      "200\n",
      "200\n",
      "200\n",
      "200\n",
      "200\n",
      "200\n",
      "200\n",
      "200\n",
      "200\n",
      "200\n",
      "200\n",
      "200\n",
      "200\n",
      "200\n",
      "200\n",
      "200\n",
      "200\n",
      "200\n",
      "200\n",
      "200\n",
      "200\n",
      "200\n",
      "200\n",
      "200\n",
      "200\n",
      "200\n",
      "200\n",
      "200\n",
      "200\n",
      "200\n",
      "200\n",
      "200\n",
      "200\n",
      "200\n",
      "200\n",
      "200\n",
      "200\n",
      "200\n",
      "200\n",
      "200\n",
      "200\n",
      "200\n",
      "200\n",
      "200\n",
      "200\n",
      "200\n",
      "200\n",
      "200\n",
      "200\n",
      "200\n",
      "200\n",
      "200\n",
      "200\n",
      "200\n",
      "200\n",
      "200\n",
      "200\n",
      "200\n",
      "200\n",
      "200\n",
      "200\n",
      "200\n",
      "200\n",
      "200\n",
      "200\n",
      "200\n",
      "200\n",
      "200\n",
      "200\n",
      "200\n",
      "200\n",
      "200\n",
      "200\n",
      "200\n",
      "200\n",
      "200\n",
      "200\n",
      "200\n",
      "200\n",
      "200\n",
      "200\n",
      "200\n",
      "200\n",
      "200\n",
      "200\n",
      "200\n",
      "200\n",
      "200\n",
      "200\n",
      "200\n",
      "200\n",
      "200\n",
      "200\n",
      "200\n",
      "200\n",
      "200\n",
      "200\n",
      "200\n",
      "200\n",
      "200\n",
      "200\n",
      "200\n",
      "200\n",
      "200\n",
      "200\n",
      "200\n",
      "200\n",
      "200\n",
      "200\n",
      "200\n",
      "200\n",
      "200\n",
      "200\n",
      "200\n",
      "200\n",
      "200\n",
      "200\n",
      "200\n",
      "200\n",
      "200\n",
      "200\n",
      "200\n",
      "200\n",
      "200\n",
      "200\n",
      "200\n",
      "200\n",
      "200\n",
      "200\n",
      "200\n",
      "200\n",
      "200\n",
      "200\n",
      "200\n",
      "200\n",
      "200\n",
      "200\n",
      "200\n",
      "200\n",
      "200\n",
      "200\n",
      "200\n",
      "200\n",
      "200\n",
      "200\n",
      "200\n",
      "200\n",
      "200\n",
      "200\n",
      "200\n",
      "200\n",
      "200\n",
      "200\n",
      "200\n",
      "200\n",
      "200\n",
      "200\n",
      "200\n",
      "200\n",
      "200\n",
      "200\n",
      "200\n",
      "200\n",
      "200\n",
      "200\n",
      "200\n",
      "200\n",
      "200\n",
      "200\n",
      "200\n",
      "200\n",
      "200\n",
      "200\n",
      "200\n",
      "200\n",
      "200\n",
      "200\n",
      "200\n",
      "200\n",
      "200\n",
      "200\n",
      "200\n",
      "200\n",
      "200\n",
      "200\n",
      "200\n",
      "200\n",
      "200\n",
      "200\n",
      "200\n",
      "200\n",
      "200\n",
      "200\n",
      "200\n",
      "200\n",
      "200\n",
      "200\n",
      "200\n",
      "200\n",
      "200\n",
      "200\n",
      "200\n",
      "200\n",
      "200\n",
      "200\n",
      "200\n",
      "200\n",
      "200\n",
      "200\n",
      "200\n",
      "200\n",
      "200\n",
      "200\n",
      "200\n",
      "200\n",
      "200\n",
      "200\n",
      "200\n",
      "200\n",
      "200\n",
      "200\n",
      "200\n",
      "200\n",
      "200\n",
      "200\n",
      "200\n",
      "200\n",
      "200\n",
      "200\n",
      "200\n",
      "200\n",
      "200\n",
      "200\n",
      "200\n",
      "200\n",
      "200\n",
      "200\n",
      "200\n",
      "200\n",
      "200\n",
      "200\n",
      "200\n",
      "200\n",
      "200\n",
      "200\n",
      "200\n",
      "200\n",
      "200\n",
      "200\n",
      "200\n",
      "200\n",
      "200\n",
      "200\n",
      "200\n",
      "200\n",
      "200\n",
      "200\n",
      "200\n",
      "200\n",
      "200\n",
      "200\n",
      "200\n",
      "200\n",
      "200\n",
      "200\n",
      "200\n",
      "200\n",
      "200\n",
      "200\n",
      "200\n",
      "200\n",
      "200\n",
      "200\n",
      "200\n",
      "200\n",
      "200\n",
      "200\n",
      "200\n",
      "200\n",
      "200\n",
      "200\n",
      "200\n",
      "200\n",
      "200\n",
      "200\n",
      "200\n",
      "200\n",
      "200\n",
      "200\n",
      "200\n",
      "200\n",
      "200\n",
      "200\n",
      "200\n",
      "200\n",
      "200\n",
      "200\n",
      "200\n",
      "200\n",
      "200\n",
      "200\n",
      "200\n",
      "200\n",
      "200\n",
      "200\n",
      "200\n",
      "200\n",
      "200\n",
      "200\n",
      "200\n",
      "200\n",
      "200\n",
      "200\n",
      "200\n",
      "200\n",
      "200\n",
      "200\n",
      "200\n",
      "200\n",
      "200\n",
      "200\n",
      "200\n",
      "200\n",
      "200\n",
      "200\n",
      "200\n",
      "200\n",
      "200\n",
      "200\n",
      "200\n",
      "200\n",
      "200\n",
      "200\n",
      "200\n",
      "200\n",
      "200\n",
      "200\n",
      "200\n",
      "200\n",
      "200\n",
      "200\n",
      "200\n",
      "200\n",
      "200\n",
      "200\n",
      "200\n",
      "200\n",
      "200\n",
      "200\n",
      "200\n",
      "200\n",
      "200\n",
      "200\n",
      "200\n",
      "200\n",
      "200\n",
      "200\n",
      "200\n",
      "200\n",
      "200\n",
      "200\n",
      "200\n",
      "200\n",
      "200\n",
      "200\n",
      "200\n",
      "200\n",
      "200\n",
      "200\n",
      "200\n",
      "200\n",
      "200\n",
      "200\n",
      "200\n",
      "200\n",
      "200\n",
      "200\n",
      "200\n",
      "200\n",
      "200\n",
      "200\n",
      "200\n",
      "200\n",
      "200\n",
      "200\n",
      "200\n",
      "200\n",
      "200\n",
      "200\n",
      "200\n",
      "200\n",
      "200\n",
      "200\n",
      "200\n",
      "200\n",
      "200\n",
      "200\n",
      "200\n",
      "200\n",
      "200\n",
      "200\n",
      "200\n",
      "200\n",
      "200\n",
      "200\n",
      "200\n",
      "200\n",
      "200\n",
      "200\n",
      "200\n",
      "200\n",
      "200\n",
      "200\n",
      "200\n",
      "200\n",
      "200\n",
      "200\n",
      "200\n",
      "200\n",
      "200\n",
      "200\n",
      "200\n",
      "200\n",
      "200\n",
      "200\n",
      "200\n",
      "200\n",
      "200\n",
      "200\n",
      "200\n",
      "200\n",
      "200\n",
      "200\n",
      "200\n",
      "200\n",
      "200\n",
      "200\n",
      "200\n",
      "200\n",
      "200\n",
      "200\n",
      "200\n",
      "200\n",
      "200\n",
      "200\n",
      "200\n",
      "200\n",
      "200\n",
      "200\n",
      "200\n",
      "200\n",
      "200\n",
      "200\n",
      "200\n",
      "200\n",
      "200\n",
      "200\n",
      "200\n",
      "200\n",
      "200\n",
      "200\n",
      "200\n",
      "200\n",
      "200\n",
      "200\n",
      "200\n",
      "200\n",
      "200\n",
      "200\n",
      "200\n",
      "200\n",
      "200\n",
      "200\n",
      "200\n",
      "200\n",
      "200\n",
      "200\n",
      "200\n",
      "200\n",
      "200\n",
      "200\n",
      "200\n",
      "200\n",
      "200\n",
      "200\n",
      "200\n",
      "200\n",
      "200\n",
      "200\n",
      "200\n",
      "200\n",
      "200\n",
      "200\n",
      "200\n",
      "200\n",
      "200\n",
      "200\n",
      "200\n",
      "200\n",
      "200\n",
      "200\n",
      "200\n",
      "200\n",
      "200\n",
      "200\n",
      "200\n",
      "200\n",
      "200\n",
      "200\n",
      "200\n",
      "200\n",
      "200\n",
      "200\n",
      "200\n",
      "200\n",
      "200\n",
      "200\n",
      "200\n",
      "200\n",
      "200\n",
      "200\n",
      "200\n",
      "200\n",
      "200\n",
      "200\n",
      "200\n",
      "200\n",
      "200\n",
      "200\n",
      "200\n",
      "200\n",
      "200\n",
      "200\n",
      "200\n",
      "200\n",
      "200\n",
      "200\n",
      "200\n",
      "200\n",
      "200\n",
      "200\n",
      "200\n",
      "200\n",
      "200\n",
      "200\n",
      "200\n",
      "200\n",
      "200\n",
      "200\n",
      "200\n",
      "200\n",
      "200\n",
      "200\n",
      "200\n",
      "200\n",
      "200\n",
      "200\n",
      "200\n",
      "200\n",
      "200\n",
      "200\n",
      "200\n",
      "200\n",
      "200\n",
      "200\n",
      "200\n",
      "200\n",
      "200\n",
      "200\n",
      "200\n",
      "200\n",
      "200\n",
      "200\n",
      "200\n",
      "200\n",
      "200\n",
      "200\n",
      "200\n",
      "200\n",
      "200\n",
      "200\n",
      "200\n",
      "200\n",
      "200\n",
      "200\n",
      "200\n",
      "200\n",
      "200\n",
      "200\n",
      "200\n",
      "200\n",
      "200\n",
      "200\n",
      "200\n",
      "200\n",
      "200\n",
      "200\n",
      "200\n",
      "200\n",
      "200\n",
      "200\n",
      "200\n",
      "200\n",
      "200\n",
      "200\n",
      "200\n",
      "200\n",
      "200\n",
      "200\n",
      "200\n",
      "200\n",
      "200\n",
      "200\n",
      "200\n",
      "200\n",
      "200\n",
      "200\n",
      "200\n",
      "200\n",
      "200\n",
      "200\n",
      "200\n",
      "200\n",
      "200\n",
      "200\n",
      "200\n",
      "200\n",
      "200\n",
      "200\n",
      "200\n",
      "200\n",
      "200\n",
      "200\n",
      "200\n",
      "200\n",
      "200\n",
      "200\n",
      "200\n",
      "200\n",
      "200\n",
      "200\n",
      "200\n",
      "200\n",
      "200\n",
      "200\n",
      "200\n",
      "200\n",
      "200\n",
      "200\n",
      "200\n",
      "200\n",
      "200\n",
      "200\n",
      "200\n",
      "200\n",
      "200\n",
      "200\n",
      "200\n",
      "200\n",
      "200\n",
      "200\n",
      "200\n",
      "200\n",
      "200\n",
      "200\n",
      "200\n",
      "200\n",
      "200\n",
      "200\n",
      "200\n",
      "200\n",
      "200\n",
      "200\n",
      "200\n",
      "200\n",
      "200\n",
      "200\n",
      "200\n",
      "200\n",
      "200\n",
      "200\n",
      "200\n",
      "200\n",
      "200\n",
      "200\n",
      "200\n",
      "200\n",
      "200\n",
      "200\n",
      "200\n",
      "200\n",
      "200\n",
      "200\n",
      "200\n",
      "200\n",
      "200\n",
      "200\n",
      "200\n",
      "200\n",
      "200\n",
      "200\n",
      "200\n",
      "200\n",
      "200\n",
      "200\n",
      "200\n",
      "200\n",
      "200\n",
      "200\n",
      "200\n",
      "200\n",
      "200\n",
      "200\n",
      "200\n",
      "200\n",
      "200\n",
      "200\n",
      "200\n",
      "200\n",
      "200\n",
      "200\n",
      "200\n",
      "200\n",
      "200\n",
      "200\n",
      "200\n",
      "200\n",
      "200\n",
      "200\n",
      "200\n",
      "200\n",
      "200\n",
      "200\n",
      "200\n",
      "200\n",
      "200\n",
      "200\n",
      "200\n",
      "200\n",
      "200\n",
      "200\n",
      "200\n",
      "200\n",
      "200\n",
      "200\n",
      "200\n",
      "200\n",
      "200\n",
      "200\n",
      "200\n",
      "200\n",
      "200\n",
      "200\n",
      "200\n",
      "200\n",
      "200\n",
      "200\n",
      "200\n",
      "200\n",
      "200\n",
      "200\n",
      "200\n",
      "200\n",
      "200\n",
      "200\n",
      "200\n",
      "200\n",
      "200\n",
      "200\n",
      "200\n",
      "200\n",
      "200\n",
      "200\n",
      "200\n",
      "200\n",
      "200\n",
      "200\n",
      "200\n",
      "200\n",
      "200\n",
      "200\n",
      "200\n",
      "200\n",
      "200\n",
      "200\n",
      "200\n",
      "200\n",
      "200\n",
      "200\n",
      "200\n",
      "200\n",
      "200\n",
      "200\n",
      "200\n",
      "200\n",
      "200\n",
      "200\n",
      "200\n",
      "200\n",
      "200\n",
      "200\n",
      "200\n",
      "200\n",
      "200\n",
      "200\n",
      "200\n",
      "200\n",
      "200\n",
      "200\n",
      "200\n",
      "200\n",
      "200\n",
      "200\n",
      "200\n",
      "200\n",
      "200\n",
      "200\n",
      "200\n",
      "200\n",
      "200\n",
      "200\n",
      "200\n",
      "200\n",
      "200\n",
      "200\n",
      "200\n",
      "200\n",
      "200\n",
      "200\n",
      "200\n",
      "200\n",
      "200\n",
      "200\n",
      "200\n",
      "200\n",
      "200\n",
      "200\n",
      "200\n",
      "200\n",
      "200\n",
      "200\n",
      "200\n",
      "200\n",
      "200\n",
      "200\n",
      "200\n",
      "200\n",
      "200\n",
      "200\n",
      "200\n",
      "200\n",
      "200\n",
      "200\n",
      "200\n",
      "200\n",
      "200\n",
      "200\n",
      "200\n",
      "200\n",
      "200\n",
      "200\n",
      "200\n",
      "200\n",
      "200\n",
      "200\n",
      "200\n",
      "200\n",
      "200\n",
      "200\n",
      "200\n",
      "200\n",
      "200\n",
      "200\n",
      "200\n",
      "200\n",
      "200\n",
      "200\n",
      "200\n",
      "200\n",
      "200\n",
      "200\n",
      "200\n",
      "200\n",
      "200\n",
      "200\n",
      "200\n",
      "200\n",
      "200\n",
      "200\n",
      "200\n",
      "200\n",
      "200\n",
      "200\n",
      "200\n",
      "200\n",
      "200\n",
      "200\n",
      "200\n",
      "200\n",
      "200\n",
      "200\n",
      "200\n",
      "200\n",
      "200\n",
      "200\n",
      "200\n",
      "200\n",
      "200\n",
      "200\n",
      "200\n",
      "200\n",
      "200\n",
      "200\n",
      "200\n",
      "200\n",
      "200\n",
      "200\n",
      "200\n",
      "200\n",
      "200\n",
      "200\n",
      "200\n",
      "200\n",
      "200\n",
      "200\n",
      "200\n",
      "200\n",
      "200\n",
      "200\n",
      "200\n",
      "200\n",
      "200\n",
      "200\n",
      "200\n",
      "200\n",
      "200\n",
      "200\n",
      "200\n",
      "200\n",
      "200\n",
      "200\n",
      "200\n",
      "200\n",
      "200\n",
      "200\n",
      "200\n",
      "200\n",
      "200\n",
      "200\n",
      "200\n",
      "200\n",
      "200\n",
      "200\n",
      "200\n",
      "200\n",
      "200\n",
      "200\n",
      "200\n",
      "200\n",
      "200\n",
      "200\n",
      "200\n",
      "200\n",
      "200\n",
      "200\n",
      "200\n",
      "200\n",
      "200\n",
      "200\n",
      "200\n",
      "200\n",
      "200\n",
      "200\n",
      "200\n",
      "200\n",
      "200\n",
      "200\n",
      "200\n",
      "200\n",
      "200\n",
      "200\n",
      "200\n",
      "200\n",
      "200\n",
      "200\n",
      "200\n",
      "200\n",
      "200\n",
      "200\n",
      "200\n",
      "200\n",
      "200\n",
      "200\n",
      "200\n",
      "200\n",
      "200\n",
      "200\n",
      "200\n",
      "200\n",
      "200\n",
      "200\n",
      "200\n",
      "200\n",
      "200\n",
      "200\n",
      "200\n",
      "200\n",
      "200\n",
      "200\n",
      "200\n",
      "200\n",
      "200\n",
      "200\n",
      "200\n",
      "200\n",
      "200\n",
      "200\n",
      "200\n",
      "200\n",
      "200\n",
      "200\n",
      "200\n",
      "200\n",
      "200\n",
      "200\n",
      "200\n",
      "200\n",
      "200\n",
      "200\n",
      "200\n",
      "200\n",
      "200\n",
      "200\n",
      "200\n",
      "200\n",
      "200\n",
      "200\n",
      "200\n",
      "200\n",
      "200\n",
      "200\n",
      "200\n",
      "200\n",
      "200\n",
      "200\n",
      "200\n",
      "200\n",
      "200\n",
      "200\n",
      "200\n",
      "200\n",
      "200\n",
      "200\n",
      "200\n",
      "200\n",
      "200\n",
      "200\n",
      "200\n",
      "200\n",
      "200\n",
      "200\n",
      "200\n",
      "200\n",
      "200\n",
      "200\n",
      "200\n",
      "200\n",
      "200\n",
      "200\n",
      "200\n",
      "200\n",
      "200\n",
      "200\n",
      "200\n",
      "200\n",
      "200\n",
      "200\n",
      "200\n",
      "200\n",
      "200\n",
      "200\n",
      "200\n",
      "200\n",
      "200\n",
      "200\n",
      "200\n",
      "200\n",
      "200\n",
      "200\n",
      "200\n",
      "200\n",
      "200\n",
      "200\n",
      "200\n",
      "200\n",
      "200\n",
      "200\n",
      "200\n",
      "200\n",
      "200\n",
      "200\n",
      "200\n",
      "200\n",
      "200\n",
      "200\n",
      "200\n",
      "200\n",
      "200\n",
      "200\n",
      "200\n",
      "200\n",
      "200\n",
      "200\n",
      "200\n",
      "200\n",
      "200\n",
      "200\n",
      "200\n",
      "200\n",
      "200\n",
      "200\n",
      "200\n",
      "200\n",
      "200\n",
      "200\n",
      "200\n",
      "200\n",
      "200\n",
      "200\n",
      "200\n",
      "200\n",
      "200\n",
      "200\n",
      "200\n",
      "200\n",
      "200\n",
      "200\n",
      "200\n",
      "200\n",
      "200\n",
      "200\n",
      "200\n",
      "200\n",
      "200\n",
      "200\n",
      "200\n",
      "200\n",
      "200\n",
      "200\n",
      "200\n",
      "200\n",
      "200\n",
      "200\n",
      "200\n",
      "200\n",
      "200\n",
      "200\n",
      "200\n",
      "200\n",
      "200\n",
      "200\n",
      "200\n",
      "200\n",
      "200\n",
      "200\n",
      "200\n",
      "200\n",
      "200\n",
      "200\n",
      "200\n",
      "200\n",
      "200\n",
      "200\n",
      "200\n",
      "200\n",
      "200\n",
      "200\n",
      "200\n",
      "200\n",
      "200\n",
      "200\n",
      "200\n",
      "200\n",
      "200\n",
      "200\n",
      "200\n",
      "200\n",
      "200\n",
      "200\n",
      "200\n",
      "200\n",
      "200\n",
      "200\n",
      "200\n",
      "200\n",
      "200\n",
      "200\n",
      "200\n",
      "200\n",
      "200\n",
      "200\n",
      "200\n",
      "200\n",
      "200\n",
      "200\n",
      "200\n",
      "200\n",
      "200\n",
      "200\n",
      "200\n",
      "200\n",
      "200\n",
      "200\n",
      "200\n",
      "200\n",
      "200\n",
      "200\n",
      "200\n",
      "200\n",
      "200\n",
      "200\n",
      "200\n",
      "200\n",
      "200\n",
      "200\n",
      "200\n",
      "200\n",
      "200\n",
      "200\n",
      "200\n",
      "200\n",
      "200\n",
      "200\n",
      "200\n",
      "200\n",
      "200\n",
      "200\n",
      "200\n",
      "200\n",
      "200\n",
      "200\n",
      "200\n",
      "200\n",
      "200\n",
      "200\n",
      "200\n",
      "200\n",
      "200\n",
      "200\n",
      "200\n",
      "200\n",
      "200\n",
      "200\n",
      "200\n",
      "200\n",
      "200\n",
      "200\n",
      "200\n",
      "200\n",
      "200\n",
      "200\n",
      "200\n",
      "200\n",
      "200\n",
      "200\n",
      "200\n",
      "200\n",
      "200\n",
      "200\n",
      "200\n",
      "200\n",
      "200\n",
      "200\n",
      "200\n",
      "200\n",
      "200\n",
      "200\n",
      "200\n",
      "200\n",
      "200\n",
      "200\n",
      "200\n",
      "200\n",
      "200\n",
      "200\n",
      "200\n",
      "200\n",
      "200\n",
      "200\n",
      "200\n",
      "200\n",
      "200\n",
      "200\n",
      "200\n",
      "200\n",
      "200\n",
      "200\n",
      "200\n",
      "200\n",
      "200\n",
      "200\n",
      "200\n",
      "200\n",
      "200\n",
      "200\n",
      "200\n",
      "200\n",
      "200\n",
      "200\n",
      "200\n",
      "200\n",
      "200\n",
      "200\n",
      "200\n",
      "200\n",
      "200\n",
      "200\n",
      "200\n",
      "200\n",
      "200\n",
      "200\n",
      "200\n",
      "200\n",
      "200\n",
      "200\n",
      "200\n",
      "200\n",
      "200\n",
      "200\n",
      "200\n",
      "200\n",
      "200\n",
      "200\n",
      "200\n",
      "200\n",
      "200\n",
      "200\n",
      "200\n",
      "200\n",
      "200\n",
      "200\n",
      "200\n",
      "200\n",
      "200\n",
      "200\n",
      "200\n",
      "200\n",
      "200\n",
      "200\n",
      "200\n",
      "200\n",
      "200\n",
      "200\n",
      "200\n",
      "200\n",
      "200\n",
      "200\n",
      "200\n",
      "200\n",
      "200\n",
      "200\n",
      "200\n",
      "200\n",
      "200\n",
      "200\n",
      "200\n",
      "200\n",
      "200\n",
      "200\n",
      "200\n",
      "200\n",
      "200\n",
      "200\n",
      "200\n",
      "200\n",
      "200\n",
      "200\n",
      "200\n",
      "200\n",
      "200\n",
      "200\n",
      "200\n",
      "200\n",
      "200\n",
      "200\n",
      "200\n",
      "200\n",
      "200\n",
      "200\n",
      "200\n",
      "200\n",
      "200\n",
      "200\n",
      "200\n",
      "200\n",
      "200\n",
      "200\n",
      "200\n",
      "200\n",
      "200\n",
      "200\n",
      "200\n",
      "200\n",
      "200\n",
      "200\n",
      "200\n",
      "200\n",
      "200\n",
      "200\n",
      "200\n",
      "200\n",
      "200\n",
      "200\n",
      "200\n",
      "200\n",
      "200\n",
      "200\n",
      "200\n",
      "200\n",
      "200\n",
      "200\n",
      "200\n",
      "200\n",
      "200\n",
      "200\n",
      "200\n",
      "200\n",
      "200\n",
      "200\n",
      "200\n",
      "200\n",
      "200\n",
      "200\n",
      "200\n",
      "200\n",
      "200\n",
      "200\n",
      "200\n",
      "200\n",
      "200\n",
      "200\n",
      "200\n",
      "200\n",
      "200\n",
      "200\n",
      "200\n",
      "200\n",
      "200\n",
      "200\n",
      "200\n",
      "200\n",
      "200\n",
      "200\n",
      "200\n",
      "200\n",
      "200\n",
      "200\n",
      "200\n",
      "200\n",
      "200\n",
      "200\n",
      "200\n",
      "200\n",
      "200\n",
      "200\n",
      "200\n",
      "200\n",
      "200\n",
      "200\n",
      "200\n",
      "200\n",
      "200\n",
      "200\n",
      "200\n",
      "200\n",
      "200\n",
      "200\n",
      "200\n",
      "200\n",
      "200\n",
      "200\n",
      "200\n",
      "200\n",
      "200\n",
      "200\n",
      "200\n",
      "200\n",
      "200\n",
      "200\n",
      "200\n",
      "200\n",
      "200\n",
      "200\n",
      "200\n",
      "200\n",
      "200\n",
      "200\n",
      "200\n",
      "200\n",
      "200\n",
      "200\n",
      "200\n",
      "200\n",
      "200\n",
      "200\n",
      "200\n",
      "200\n",
      "200\n",
      "200\n",
      "200\n",
      "200\n",
      "200\n",
      "200\n",
      "200\n",
      "200\n",
      "200\n",
      "200\n",
      "200\n",
      "200\n",
      "200\n",
      "200\n",
      "200\n",
      "200\n",
      "200\n",
      "200\n",
      "200\n",
      "200\n",
      "200\n",
      "200\n",
      "200\n",
      "200\n",
      "200\n",
      "200\n",
      "200\n",
      "200\n",
      "200\n",
      "200\n",
      "200\n",
      "200\n",
      "200\n",
      "200\n",
      "200\n",
      "200\n",
      "200\n",
      "200\n",
      "200\n",
      "200\n",
      "200\n",
      "200\n",
      "200\n",
      "200\n",
      "200\n",
      "200\n",
      "200\n",
      "200\n",
      "200\n",
      "200\n",
      "200\n",
      "200\n",
      "200\n",
      "200\n",
      "200\n",
      "200\n",
      "200\n",
      "200\n",
      "200\n",
      "200\n",
      "200\n",
      "200\n",
      "200\n",
      "200\n",
      "200\n",
      "200\n",
      "200\n",
      "200\n",
      "200\n",
      "200\n",
      "200\n",
      "200\n",
      "200\n",
      "200\n",
      "200\n",
      "200\n",
      "200\n",
      "200\n",
      "200\n",
      "200\n",
      "200\n",
      "200\n",
      "200\n",
      "200\n",
      "200\n",
      "200\n",
      "200\n",
      "200\n",
      "200\n",
      "200\n",
      "200\n",
      "200\n",
      "200\n",
      "200\n",
      "200\n",
      "200\n",
      "200\n",
      "200\n",
      "200\n",
      "200\n",
      "200\n",
      "200\n",
      "200\n",
      "200\n",
      "200\n",
      "200\n",
      "200\n",
      "200\n",
      "200\n",
      "200\n",
      "200\n",
      "200\n",
      "200\n",
      "200\n",
      "200\n",
      "200\n",
      "200\n",
      "200\n",
      "200\n",
      "200\n",
      "200\n",
      "200\n",
      "200\n",
      "200\n",
      "200\n",
      "200\n",
      "200\n",
      "200\n",
      "200\n",
      "200\n",
      "200\n",
      "200\n",
      "200\n",
      "200\n",
      "200\n",
      "200\n",
      "200\n",
      "200\n",
      "200\n",
      "200\n",
      "200\n",
      "200\n",
      "200\n",
      "200\n",
      "200\n",
      "200\n",
      "200\n",
      "200\n",
      "200\n",
      "200\n",
      "200\n",
      "200\n",
      "200\n",
      "200\n",
      "200\n",
      "200\n",
      "200\n",
      "200\n",
      "200\n",
      "200\n",
      "200\n",
      "200\n",
      "200\n",
      "200\n",
      "200\n",
      "200\n",
      "200\n",
      "200\n",
      "200\n",
      "200\n",
      "200\n",
      "200\n",
      "200\n",
      "200\n",
      "200\n",
      "200\n",
      "200\n",
      "200\n",
      "200\n",
      "200\n",
      "200\n",
      "200\n",
      "200\n",
      "200\n",
      "200\n",
      "200\n",
      "200\n",
      "200\n",
      "200\n",
      "200\n",
      "200\n",
      "200\n",
      "200\n",
      "200\n",
      "200\n",
      "200\n",
      "200\n",
      "200\n",
      "200\n",
      "200\n",
      "200\n",
      "200\n",
      "200\n",
      "200\n",
      "200\n",
      "200\n",
      "200\n",
      "200\n",
      "200\n",
      "200\n",
      "200\n",
      "200\n",
      "200\n",
      "200\n",
      "200\n",
      "200\n",
      "200\n",
      "200\n",
      "200\n",
      "200\n",
      "200\n",
      "200\n",
      "200\n",
      "200\n",
      "200\n",
      "200\n",
      "200\n",
      "200\n",
      "200\n",
      "200\n",
      "200\n",
      "200\n",
      "200\n",
      "200\n",
      "200\n",
      "200\n",
      "200\n",
      "200\n",
      "200\n",
      "200\n",
      "200\n",
      "200\n",
      "200\n",
      "200\n",
      "200\n",
      "200\n",
      "200\n",
      "200\n",
      "200\n",
      "200\n",
      "200\n",
      "200\n",
      "200\n",
      "200\n",
      "200\n",
      "200\n",
      "200\n",
      "200\n",
      "200\n",
      "200\n",
      "200\n",
      "200\n",
      "200\n",
      "200\n",
      "200\n",
      "200\n",
      "200\n",
      "200\n",
      "200\n",
      "200\n",
      "200\n",
      "200\n",
      "200\n",
      "200\n",
      "200\n",
      "200\n",
      "200\n",
      "200\n",
      "200\n",
      "200\n",
      "200\n",
      "200\n",
      "200\n",
      "200\n",
      "200\n",
      "200\n",
      "200\n",
      "200\n",
      "200\n",
      "200\n",
      "200\n",
      "200\n",
      "200\n",
      "200\n",
      "200\n",
      "200\n",
      "200\n",
      "200\n",
      "200\n",
      "200\n",
      "200\n",
      "200\n",
      "200\n",
      "200\n",
      "200\n",
      "200\n",
      "200\n",
      "200\n",
      "200\n",
      "200\n",
      "200\n",
      "200\n",
      "200\n",
      "200\n",
      "200\n",
      "200\n",
      "200\n",
      "200\n",
      "200\n",
      "200\n",
      "200\n",
      "200\n",
      "200\n",
      "200\n",
      "200\n",
      "200\n",
      "200\n",
      "200\n",
      "200\n",
      "200\n",
      "200\n",
      "200\n",
      "200\n",
      "200\n",
      "200\n",
      "200\n",
      "200\n",
      "200\n",
      "200\n",
      "200\n",
      "200\n",
      "200\n",
      "200\n",
      "200\n",
      "200\n",
      "200\n",
      "200\n",
      "200\n",
      "200\n",
      "200\n",
      "200\n",
      "200\n",
      "200\n",
      "200\n",
      "200\n",
      "200\n",
      "200\n",
      "200\n",
      "200\n",
      "200\n",
      "200\n",
      "200\n",
      "200\n",
      "200\n",
      "200\n",
      "200\n",
      "200\n",
      "200\n",
      "200\n",
      "200\n",
      "200\n",
      "200\n",
      "200\n",
      "200\n",
      "200\n",
      "200\n",
      "200\n",
      "200\n",
      "200\n",
      "200\n",
      "200\n",
      "200\n",
      "200\n",
      "200\n",
      "200\n",
      "200\n",
      "200\n",
      "200\n",
      "200\n",
      "200\n",
      "200\n",
      "200\n",
      "200\n",
      "200\n",
      "200\n",
      "200\n",
      "200\n",
      "200\n",
      "200\n",
      "200\n",
      "200\n",
      "200\n",
      "200\n",
      "200\n",
      "200\n",
      "200\n",
      "200\n",
      "200\n",
      "200\n",
      "200\n",
      "200\n",
      "200\n",
      "200\n",
      "200\n",
      "200\n",
      "200\n",
      "200\n",
      "200\n",
      "200\n",
      "200\n",
      "200\n",
      "200\n",
      "200\n",
      "200\n",
      "200\n",
      "200\n",
      "200\n",
      "200\n",
      "200\n",
      "200\n",
      "200\n",
      "200\n",
      "200\n",
      "200\n",
      "200\n",
      "200\n",
      "200\n",
      "200\n",
      "200\n",
      "200\n",
      "200\n",
      "200\n",
      "200\n",
      "200\n",
      "200\n",
      "200\n",
      "200\n",
      "200\n",
      "200\n",
      "200\n",
      "200\n",
      "200\n",
      "200\n",
      "200\n",
      "200\n",
      "200\n",
      "200\n",
      "200\n",
      "200\n",
      "200\n",
      "200\n",
      "200\n",
      "200\n",
      "200\n",
      "200\n",
      "200\n",
      "200\n",
      "200\n",
      "200\n",
      "200\n"
     ]
    }
   ],
   "source": [
    "profit_1 = []\n",
    "profit_2 = []\n",
    "profit_3 = []\n",
    "profit_list = [profit_1, profit_2, profit_3]\n",
    "state = np.random.RandomState(12345)\n",
    "bootstrap_samples = 1000\n",
    "for region in range(3):\n",
    "    exec(\"target_valid = target_valid_\" + str(region + 1))\n",
    "    exec(\"predicted_valid = predicted_valid_\" + str(region + 1))\n",
    "    for i in range(bootstrap_samples):\n",
    "        predictions_sample = predicted_valid.sample(n=POINTS_SURVEY, replace=True, random_state=state)\n",
    "        exec(\"profit_\" + str(region + 1) + \".append(profit_selected_boreholes(target_valid, predictions_sample, BOREHOLES))\")"
   ]
  },
  {
   "cell_type": "markdown",
   "metadata": {},
   "source": [
    "Поменяем тип данных, содержащихся в листе profit_list с list, на Series."
   ]
  },
  {
   "cell_type": "code",
   "execution_count": 21,
   "metadata": {},
   "outputs": [],
   "source": [
    "profit_list = list(map(lambda x: pd.Series(x), profit_list))"
   ]
  },
  {
   "cell_type": "markdown",
   "metadata": {},
   "source": [
    "Рассчитаем для регионов 1-3 следующие параметры: среднюю прибыль, 95% доверительный интервал для прибыли и риск убытков."
   ]
  },
  {
   "cell_type": "code",
   "execution_count": 22,
   "metadata": {},
   "outputs": [
    {
     "name": "stdout",
     "output_type": "stream",
     "text": [
      "Средня прибыль для первого региона 396.2 (млн. рубл.).\n",
      "95% доверительный интервал для прибыли первого региона: от -111215.5 до 909766.9 (млн. рубл.).\n",
      "Риск убытков для первого региона: 6.9 %.\n",
      "\n",
      "Средня прибыль для второго региона 461.2 (млн. рубл.).\n",
      "95% доверительный интервал для прибыли второго региона: от 78050.8 до 862952.1 (млн. рубл.).\n",
      "Риск убытков для второго региона: 0.7 %.\n",
      "\n",
      "Средня прибыль для третьего региона 393.0 (млн. рубл.).\n",
      "95% доверительный интервал для прибыли третьего региона: от -112227.6 до 934562.9 (млн. рубл.).\n",
      "Риск убытков для третьего региона: 6.5 %.\n",
      "\n"
     ]
    }
   ],
   "source": [
    "for i, j in zip([\"первого\", \"второго\", \"третьего\"], profit_list):\n",
    "    print(\"Средня прибыль для {} региона {:.1f} (млн. рубл.).\".format(i, j.mean() / 1000))\n",
    "    print(\"95% доверительный интервал для прибыли {} региона: от {:.1f} до {:.1f} (млн. рубл.).\".format(\n",
    "    i, j.quantile(0.025), j.quantile(0.975)))\n",
    "    print(\"Риск убытков для {} региона: {:.1f} %.\".format(i, j[j < 0].count() / 1000 * 100))\n",
    "    print()"
   ]
  },
  {
   "cell_type": "markdown",
   "metadata": {},
   "source": [
    "### Выводы"
   ]
  },
  {
   "cell_type": "markdown",
   "metadata": {},
   "source": [
    "1. Рассчитано распределение прибыли для регионов 1, 2 и 3 с использованием техники Bootstrap.\n",
    "2. Средняя прибыль для регионов 1-3 составляет 396, 461 и 393 млн. рублей соответственно.\n",
    "3. Верхняя граница 95% доверительного интервала для прибыли для регионов 1-3 составляет 909767, 862952 и 934563 млн. рублей соответственно. Нижняяя граница 95% доверительного интервала для прибыли для регионов 1-3 составляет -111216 , 78051 и -112228 млн. рублей соответственно.\n",
    "4. Риск убытков для регионов 1-3 составляет 6.9, 0.7 и 6.5% соответственно.\n",
    "5. С учетом полученных результатов расчетов регион 2 является самым предпочтительным для разработки месторождений. У данного региона минимальные риски убытков и самая высокая средняя прибыль. Однако исходные данные для данного региона выглядят аномальными: всего 12 уникальных значений в столбце product на 100 000 строк, коэффициент детерминации равный почти 1. С учетом этого необходимо выяснить причину указанных аномалий. После этого можно будет принять окончательное решение о выборе региона для разработки месторождений. "
   ]
  },
  {
   "cell_type": "markdown",
   "metadata": {},
   "source": [
    "## Чек-лист готовности проекта"
   ]
  },
  {
   "cell_type": "markdown",
   "metadata": {},
   "source": [
    "Поставьте 'x' в выполненных пунктах. Далее нажмите Shift+Enter."
   ]
  },
  {
   "cell_type": "markdown",
   "metadata": {},
   "source": [
    "- [x]  Jupyter Notebook открыт\n",
    "- [x]  Весь код выполняется без ошибок\n",
    "- [x]  Ячейки с кодом расположены в порядке исполнения\n",
    "- [x]  Выполнен шаг 1: данные подготовлены\n",
    "- [x]  Выполнен шаг 2: модели обучены и проверены\n",
    "    - [x]  Данные корректно разбиты на обучающую и валидационную выборки\n",
    "    - [x]  Модели обучены, предсказания сделаны\n",
    "    - [x]  Предсказания и правильные ответы на валидационной выборке сохранены\n",
    "    - [x]  На экране напечатаны результаты\n",
    "    - [x]  Сделаны выводы\n",
    "- [x]  Выполнен шаг 3: проведена подготовка к расчёту прибыли\n",
    "    - [x]  Для всех ключевых значений созданы константы Python\n",
    "    - [x]  Посчитано минимальное среднее количество продукта в месторождениях региона, достаточное для разработки\n",
    "    - [x]  По предыдущему пункту сделаны выводы\n",
    "    - [x]  Написана функция расчёта прибыли\n",
    "- [x]  Выполнен шаг 4: посчитаны риски и прибыль\n",
    "    - [x]  Проведена процедура *Bootstrap*\n",
    "    - [x]  Все параметры бутстрепа соответствуют условию\n",
    "    - [x]  Найдены все нужные величины\n",
    "    - [x]  Предложен регион для разработки месторождения\n",
    "    - [x]  Выбор региона обоснован"
   ]
  },
  {
   "cell_type": "code",
   "execution_count": null,
   "metadata": {},
   "outputs": [],
   "source": []
  }
 ],
 "metadata": {
  "ExecuteTimeLog": [
   {
    "duration": 358,
    "start_time": "2021-06-17T06:47:50.392Z"
   },
   {
    "duration": 91,
    "start_time": "2021-06-17T06:48:10.305Z"
   },
   {
    "duration": 80,
    "start_time": "2021-06-17T06:48:10.318Z"
   },
   {
    "duration": 464,
    "start_time": "2021-06-17T06:48:29.713Z"
   },
   {
    "duration": 269,
    "start_time": "2021-06-17T06:48:32.286Z"
   },
   {
    "duration": 1285,
    "start_time": "2021-06-17T06:49:08.349Z"
   },
   {
    "duration": 382,
    "start_time": "2021-06-17T06:49:09.637Z"
   },
   {
    "duration": 18,
    "start_time": "2021-06-17T06:49:24.546Z"
   },
   {
    "duration": 1285,
    "start_time": "2021-06-17T06:54:56.909Z"
   },
   {
    "duration": 17,
    "start_time": "2021-06-17T06:54:58.196Z"
   },
   {
    "duration": 14,
    "start_time": "2021-06-17T06:54:58.216Z"
   },
   {
    "duration": 68,
    "start_time": "2021-06-17T06:54:58.232Z"
   },
   {
    "duration": 16,
    "start_time": "2021-06-17T07:06:40.886Z"
   },
   {
    "duration": 370,
    "start_time": "2021-06-17T07:20:53.084Z"
   },
   {
    "duration": 876,
    "start_time": "2021-06-17T07:21:32.641Z"
   },
   {
    "duration": 166,
    "start_time": "2021-06-17T07:21:33.519Z"
   },
   {
    "duration": 17,
    "start_time": "2021-06-17T07:21:33.688Z"
   },
   {
    "duration": 23,
    "start_time": "2021-06-17T07:21:33.707Z"
   },
   {
    "duration": 70,
    "start_time": "2021-06-17T07:21:33.733Z"
   },
   {
    "duration": 15,
    "start_time": "2021-06-17T07:21:33.806Z"
   },
   {
    "duration": 172,
    "start_time": "2021-06-17T07:21:33.823Z"
   },
   {
    "duration": 12,
    "start_time": "2021-06-17T07:21:33.999Z"
   },
   {
    "duration": 34,
    "start_time": "2021-06-17T07:21:34.013Z"
   },
   {
    "duration": 50,
    "start_time": "2021-06-17T07:21:34.053Z"
   },
   {
    "duration": 13,
    "start_time": "2021-06-17T07:21:34.105Z"
   },
   {
    "duration": 177,
    "start_time": "2021-06-17T07:21:34.120Z"
   },
   {
    "duration": 12,
    "start_time": "2021-06-17T07:21:34.300Z"
   },
   {
    "duration": 23,
    "start_time": "2021-06-17T07:21:34.316Z"
   },
   {
    "duration": 64,
    "start_time": "2021-06-17T07:21:34.342Z"
   },
   {
    "duration": 45,
    "start_time": "2021-06-17T07:21:34.409Z"
   },
   {
    "duration": 106,
    "start_time": "2021-06-17T07:21:34.458Z"
   },
   {
    "duration": 68,
    "start_time": "2021-06-17T07:21:51.236Z"
   },
   {
    "duration": 374,
    "start_time": "2021-06-17T09:18:53.363Z"
   },
   {
    "duration": 1513,
    "start_time": "2021-06-17T09:19:43.384Z"
   },
   {
    "duration": 214,
    "start_time": "2021-06-17T09:19:44.900Z"
   },
   {
    "duration": 25,
    "start_time": "2021-06-17T09:19:45.118Z"
   },
   {
    "duration": 21,
    "start_time": "2021-06-17T09:19:45.156Z"
   },
   {
    "duration": 89,
    "start_time": "2021-06-17T09:19:45.180Z"
   },
   {
    "duration": 451,
    "start_time": "2021-06-17T09:19:45.271Z"
   },
   {
    "duration": 5271,
    "start_time": "2021-06-17T09:19:40.455Z"
   },
   {
    "duration": 5254,
    "start_time": "2021-06-17T09:19:40.474Z"
   },
   {
    "duration": 5244,
    "start_time": "2021-06-17T09:19:40.486Z"
   },
   {
    "duration": 5235,
    "start_time": "2021-06-17T09:19:40.497Z"
   },
   {
    "duration": 5211,
    "start_time": "2021-06-17T09:19:40.524Z"
   },
   {
    "duration": 5200,
    "start_time": "2021-06-17T09:19:40.537Z"
   },
   {
    "duration": 5177,
    "start_time": "2021-06-17T09:19:40.562Z"
   },
   {
    "duration": 5165,
    "start_time": "2021-06-17T09:19:40.576Z"
   },
   {
    "duration": 5139,
    "start_time": "2021-06-17T09:19:40.604Z"
   },
   {
    "duration": 5125,
    "start_time": "2021-06-17T09:19:40.620Z"
   },
   {
    "duration": 5111,
    "start_time": "2021-06-17T09:19:40.636Z"
   },
   {
    "duration": 5106,
    "start_time": "2021-06-17T09:19:40.643Z"
   },
   {
    "duration": 5091,
    "start_time": "2021-06-17T09:19:40.660Z"
   },
   {
    "duration": 5088,
    "start_time": "2021-06-17T09:19:40.665Z"
   },
   {
    "duration": 1438,
    "start_time": "2021-06-17T09:19:51.032Z"
   },
   {
    "duration": 158,
    "start_time": "2021-06-17T09:19:52.472Z"
   },
   {
    "duration": 21,
    "start_time": "2021-06-17T09:19:52.633Z"
   },
   {
    "duration": 27,
    "start_time": "2021-06-17T09:19:52.657Z"
   },
   {
    "duration": 68,
    "start_time": "2021-06-17T09:19:52.687Z"
   },
   {
    "duration": 397,
    "start_time": "2021-06-17T09:19:52.757Z"
   },
   {
    "duration": 5254,
    "start_time": "2021-06-17T09:19:47.903Z"
   },
   {
    "duration": 5234,
    "start_time": "2021-06-17T09:19:47.924Z"
   },
   {
    "duration": 5223,
    "start_time": "2021-06-17T09:19:47.936Z"
   },
   {
    "duration": 5216,
    "start_time": "2021-06-17T09:19:47.944Z"
   },
   {
    "duration": 5209,
    "start_time": "2021-06-17T09:19:47.953Z"
   },
   {
    "duration": 5205,
    "start_time": "2021-06-17T09:19:47.958Z"
   },
   {
    "duration": 5194,
    "start_time": "2021-06-17T09:19:47.970Z"
   },
   {
    "duration": 5188,
    "start_time": "2021-06-17T09:19:47.977Z"
   },
   {
    "duration": 5181,
    "start_time": "2021-06-17T09:19:47.986Z"
   },
   {
    "duration": 5176,
    "start_time": "2021-06-17T09:19:47.992Z"
   },
   {
    "duration": 5162,
    "start_time": "2021-06-17T09:19:48.007Z"
   },
   {
    "duration": 5151,
    "start_time": "2021-06-17T09:19:48.019Z"
   },
   {
    "duration": 5145,
    "start_time": "2021-06-17T09:19:48.026Z"
   },
   {
    "duration": 5136,
    "start_time": "2021-06-17T09:19:48.037Z"
   },
   {
    "duration": 1398,
    "start_time": "2021-06-17T09:20:22.494Z"
   },
   {
    "duration": 168,
    "start_time": "2021-06-17T09:20:23.894Z"
   },
   {
    "duration": 16,
    "start_time": "2021-06-17T09:20:24.065Z"
   },
   {
    "duration": 28,
    "start_time": "2021-06-17T09:20:24.084Z"
   },
   {
    "duration": 69,
    "start_time": "2021-06-17T09:20:24.115Z"
   },
   {
    "duration": 77,
    "start_time": "2021-06-17T09:20:24.186Z"
   },
   {
    "duration": 15,
    "start_time": "2021-06-17T09:20:24.265Z"
   },
   {
    "duration": 210,
    "start_time": "2021-06-17T09:20:24.285Z"
   },
   {
    "duration": 16,
    "start_time": "2021-06-17T09:20:24.498Z"
   },
   {
    "duration": 43,
    "start_time": "2021-06-17T09:20:24.517Z"
   },
   {
    "duration": 73,
    "start_time": "2021-06-17T09:20:24.563Z"
   },
   {
    "duration": 81,
    "start_time": "2021-06-17T09:20:24.654Z"
   },
   {
    "duration": 92,
    "start_time": "2021-06-17T09:20:24.738Z"
   },
   {
    "duration": 5253,
    "start_time": "2021-06-17T09:20:19.581Z"
   },
   {
    "duration": 5250,
    "start_time": "2021-06-17T09:20:19.586Z"
   },
   {
    "duration": 5238,
    "start_time": "2021-06-17T09:20:19.601Z"
   },
   {
    "duration": 5225,
    "start_time": "2021-06-17T09:20:19.616Z"
   },
   {
    "duration": 5222,
    "start_time": "2021-06-17T09:20:19.621Z"
   },
   {
    "duration": 5211,
    "start_time": "2021-06-17T09:20:19.634Z"
   },
   {
    "duration": 5193,
    "start_time": "2021-06-17T09:20:19.654Z"
   },
   {
    "duration": 13,
    "start_time": "2021-06-17T09:20:59.193Z"
   },
   {
    "duration": 1420,
    "start_time": "2021-06-17T09:21:17.987Z"
   },
   {
    "duration": 166,
    "start_time": "2021-06-17T09:21:19.410Z"
   },
   {
    "duration": 16,
    "start_time": "2021-06-17T09:21:19.579Z"
   },
   {
    "duration": 42,
    "start_time": "2021-06-17T09:21:19.598Z"
   },
   {
    "duration": 57,
    "start_time": "2021-06-17T09:21:19.642Z"
   },
   {
    "duration": 84,
    "start_time": "2021-06-17T09:21:19.702Z"
   },
   {
    "duration": 15,
    "start_time": "2021-06-17T09:21:19.789Z"
   },
   {
    "duration": 179,
    "start_time": "2021-06-17T09:21:19.809Z"
   },
   {
    "duration": 14,
    "start_time": "2021-06-17T09:21:19.990Z"
   },
   {
    "duration": 24,
    "start_time": "2021-06-17T09:21:20.007Z"
   },
   {
    "duration": 70,
    "start_time": "2021-06-17T09:21:20.033Z"
   },
   {
    "duration": 81,
    "start_time": "2021-06-17T09:21:20.106Z"
   },
   {
    "duration": 14,
    "start_time": "2021-06-17T09:21:20.189Z"
   },
   {
    "duration": 160,
    "start_time": "2021-06-17T09:21:20.205Z"
   },
   {
    "duration": 12,
    "start_time": "2021-06-17T09:21:20.368Z"
   },
   {
    "duration": 31,
    "start_time": "2021-06-17T09:21:20.383Z"
   },
   {
    "duration": 61,
    "start_time": "2021-06-17T09:21:20.416Z"
   },
   {
    "duration": 62,
    "start_time": "2021-06-17T09:21:20.479Z"
   },
   {
    "duration": 14,
    "start_time": "2021-06-17T09:21:20.555Z"
   },
   {
    "duration": 32,
    "start_time": "2021-06-17T09:21:20.571Z"
   },
   {
    "duration": 572,
    "start_time": "2021-06-17T09:21:43.368Z"
   },
   {
    "duration": 310,
    "start_time": "2021-06-17T09:21:54.936Z"
   },
   {
    "duration": 334,
    "start_time": "2021-06-17T09:26:51.810Z"
   },
   {
    "duration": 56,
    "start_time": "2021-06-17T09:27:00.298Z"
   },
   {
    "duration": 267,
    "start_time": "2021-06-17T09:42:27.784Z"
   },
   {
    "duration": 1532,
    "start_time": "2021-06-17T09:42:49.838Z"
   },
   {
    "duration": 167,
    "start_time": "2021-06-17T09:42:51.373Z"
   },
   {
    "duration": 22,
    "start_time": "2021-06-17T09:42:51.543Z"
   },
   {
    "duration": 17,
    "start_time": "2021-06-17T09:42:51.568Z"
   },
   {
    "duration": 84,
    "start_time": "2021-06-17T09:42:51.588Z"
   },
   {
    "duration": 83,
    "start_time": "2021-06-17T09:42:51.675Z"
   },
   {
    "duration": 16,
    "start_time": "2021-06-17T09:42:51.761Z"
   },
   {
    "duration": 165,
    "start_time": "2021-06-17T09:42:51.781Z"
   },
   {
    "duration": 15,
    "start_time": "2021-06-17T09:42:51.949Z"
   },
   {
    "duration": 22,
    "start_time": "2021-06-17T09:42:51.966Z"
   },
   {
    "duration": 66,
    "start_time": "2021-06-17T09:42:51.990Z"
   },
   {
    "duration": 59,
    "start_time": "2021-06-17T09:42:52.058Z"
   },
   {
    "duration": 13,
    "start_time": "2021-06-17T09:42:52.120Z"
   },
   {
    "duration": 157,
    "start_time": "2021-06-17T09:42:52.155Z"
   },
   {
    "duration": 12,
    "start_time": "2021-06-17T09:42:52.315Z"
   },
   {
    "duration": 30,
    "start_time": "2021-06-17T09:42:52.329Z"
   },
   {
    "duration": 51,
    "start_time": "2021-06-17T09:42:52.361Z"
   },
   {
    "duration": 90,
    "start_time": "2021-06-17T09:42:52.414Z"
   },
   {
    "duration": 14,
    "start_time": "2021-06-17T09:42:52.506Z"
   },
   {
    "duration": 37,
    "start_time": "2021-06-17T09:42:52.522Z"
   },
   {
    "duration": 23,
    "start_time": "2021-06-17T09:42:52.561Z"
   },
   {
    "duration": 195,
    "start_time": "2021-06-17T09:42:52.660Z"
   },
   {
    "duration": 53,
    "start_time": "2021-06-17T09:43:44.607Z"
   },
   {
    "duration": 120,
    "start_time": "2021-06-17T09:44:42.938Z"
   },
   {
    "duration": 330,
    "start_time": "2021-06-17T11:32:53.323Z"
   },
   {
    "duration": 1368,
    "start_time": "2021-06-17T11:33:02.297Z"
   },
   {
    "duration": 458,
    "start_time": "2021-06-17T11:33:05.105Z"
   },
   {
    "duration": 394,
    "start_time": "2021-06-17T11:33:07.269Z"
   },
   {
    "duration": 142,
    "start_time": "2021-06-17T11:33:32.867Z"
   },
   {
    "duration": 1443,
    "start_time": "2021-06-17T11:36:59.101Z"
   },
   {
    "duration": 439,
    "start_time": "2021-06-17T11:37:01.972Z"
   },
   {
    "duration": 89,
    "start_time": "2021-06-17T11:37:03.645Z"
   },
   {
    "duration": 91,
    "start_time": "2021-06-17T11:39:14.537Z"
   },
   {
    "duration": 85,
    "start_time": "2021-06-17T11:39:39.329Z"
   },
   {
    "duration": 88,
    "start_time": "2021-06-17T11:43:01.016Z"
   },
   {
    "duration": 5,
    "start_time": "2021-06-17T11:43:07.805Z"
   },
   {
    "duration": 5,
    "start_time": "2021-06-17T11:43:54.695Z"
   },
   {
    "duration": 87,
    "start_time": "2021-06-17T11:44:31.599Z"
   },
   {
    "duration": 6,
    "start_time": "2021-06-17T11:45:11.952Z"
   },
   {
    "duration": 8,
    "start_time": "2021-06-17T11:45:39.209Z"
   },
   {
    "duration": 5,
    "start_time": "2021-06-17T11:46:16.955Z"
   },
   {
    "duration": 5,
    "start_time": "2021-06-17T11:46:25.826Z"
   },
   {
    "duration": 91,
    "start_time": "2021-06-17T11:46:35.038Z"
   },
   {
    "duration": 5,
    "start_time": "2021-06-17T11:47:01.173Z"
   },
   {
    "duration": 7,
    "start_time": "2021-06-17T11:47:20.787Z"
   },
   {
    "duration": 88,
    "start_time": "2021-06-17T12:10:31.515Z"
   },
   {
    "duration": 92,
    "start_time": "2021-06-17T12:10:38.721Z"
   },
   {
    "duration": 6,
    "start_time": "2021-06-17T12:13:48.155Z"
   },
   {
    "duration": 146,
    "start_time": "2021-06-17T12:17:17.944Z"
   },
   {
    "duration": 137,
    "start_time": "2021-06-17T12:17:27.107Z"
   },
   {
    "duration": 140,
    "start_time": "2021-06-17T12:17:32.241Z"
   },
   {
    "duration": 88,
    "start_time": "2021-06-17T12:18:16.250Z"
   },
   {
    "duration": 140,
    "start_time": "2021-06-17T12:18:34.978Z"
   },
   {
    "duration": 162,
    "start_time": "2021-06-17T12:19:19.157Z"
   },
   {
    "duration": 89,
    "start_time": "2021-06-17T12:20:35.413Z"
   },
   {
    "duration": 156,
    "start_time": "2021-06-17T12:20:52.118Z"
   },
   {
    "duration": 159,
    "start_time": "2021-06-17T12:21:08.119Z"
   },
   {
    "duration": 156,
    "start_time": "2021-06-17T12:21:20.254Z"
   },
   {
    "duration": 162,
    "start_time": "2021-06-17T12:21:44.194Z"
   },
   {
    "duration": 174,
    "start_time": "2021-06-17T12:21:59.295Z"
   },
   {
    "duration": 158,
    "start_time": "2021-06-17T12:22:29.287Z"
   },
   {
    "duration": 157,
    "start_time": "2021-06-17T12:25:42.116Z"
   },
   {
    "duration": 514,
    "start_time": "2021-06-17T12:27:37.981Z"
   },
   {
    "duration": 293,
    "start_time": "2021-06-17T12:42:07.009Z"
   },
   {
    "duration": 100,
    "start_time": "2021-06-17T12:43:28.684Z"
   },
   {
    "duration": 104,
    "start_time": "2021-06-17T12:55:20.740Z"
   },
   {
    "duration": 98,
    "start_time": "2021-06-17T12:55:34.245Z"
   },
   {
    "duration": 104,
    "start_time": "2021-06-17T12:56:18.728Z"
   },
   {
    "duration": 109,
    "start_time": "2021-06-17T12:56:39.306Z"
   },
   {
    "duration": 117,
    "start_time": "2021-06-17T12:56:44.438Z"
   },
   {
    "duration": 104,
    "start_time": "2021-06-17T12:57:06.335Z"
   },
   {
    "duration": 117,
    "start_time": "2021-06-17T12:57:18.776Z"
   },
   {
    "duration": 111,
    "start_time": "2021-06-17T12:57:39.175Z"
   },
   {
    "duration": 109,
    "start_time": "2021-06-17T12:57:53.305Z"
   },
   {
    "duration": 152,
    "start_time": "2021-06-17T12:58:08.889Z"
   },
   {
    "duration": 14,
    "start_time": "2021-06-17T19:19:07.733Z"
   },
   {
    "duration": 5,
    "start_time": "2021-06-17T19:38:16.698Z"
   },
   {
    "duration": 4,
    "start_time": "2021-06-17T19:38:40.128Z"
   },
   {
    "duration": 5,
    "start_time": "2021-06-17T19:38:49.987Z"
   },
   {
    "duration": 339,
    "start_time": "2021-06-17T20:20:21.279Z"
   },
   {
    "duration": 291,
    "start_time": "2021-06-17T20:20:35.346Z"
   },
   {
    "duration": 1440,
    "start_time": "2021-06-17T20:20:44.117Z"
   },
   {
    "duration": 452,
    "start_time": "2021-06-17T20:20:45.559Z"
   },
   {
    "duration": 167,
    "start_time": "2021-06-17T20:20:46.013Z"
   },
   {
    "duration": 463,
    "start_time": "2021-06-17T20:20:50.197Z"
   },
   {
    "duration": 20,
    "start_time": "2021-06-17T20:20:52.684Z"
   },
   {
    "duration": 317,
    "start_time": "2021-06-17T20:23:23.793Z"
   },
   {
    "duration": 104,
    "start_time": "2021-06-17T20:33:30.395Z"
   },
   {
    "duration": 11,
    "start_time": "2021-06-17T20:33:36.381Z"
   },
   {
    "duration": 94,
    "start_time": "2021-06-17T20:34:13.858Z"
   },
   {
    "duration": 103,
    "start_time": "2021-06-17T20:34:41.200Z"
   },
   {
    "duration": 12,
    "start_time": "2021-06-17T20:34:43.351Z"
   },
   {
    "duration": 1478,
    "start_time": "2021-06-17T20:35:34.915Z"
   },
   {
    "duration": 468,
    "start_time": "2021-06-17T20:35:36.396Z"
   },
   {
    "duration": 174,
    "start_time": "2021-06-17T20:35:36.868Z"
   },
   {
    "duration": 140,
    "start_time": "2021-06-17T20:35:37.045Z"
   },
   {
    "duration": 156,
    "start_time": "2021-06-17T20:35:37.188Z"
   },
   {
    "duration": 18,
    "start_time": "2021-06-17T20:35:37.347Z"
   },
   {
    "duration": 16,
    "start_time": "2021-06-17T20:35:37.368Z"
   },
   {
    "duration": 77,
    "start_time": "2021-06-17T20:35:37.388Z"
   },
   {
    "duration": 64,
    "start_time": "2021-06-17T20:35:37.468Z"
   },
   {
    "duration": 30,
    "start_time": "2021-06-17T20:35:37.534Z"
   },
   {
    "duration": 159,
    "start_time": "2021-06-17T20:35:37.567Z"
   },
   {
    "duration": 12,
    "start_time": "2021-06-17T20:35:37.729Z"
   },
   {
    "duration": 15,
    "start_time": "2021-06-17T20:35:37.756Z"
   },
   {
    "duration": 91,
    "start_time": "2021-06-17T20:35:37.774Z"
   },
   {
    "duration": 64,
    "start_time": "2021-06-17T20:35:37.869Z"
   },
   {
    "duration": 14,
    "start_time": "2021-06-17T20:35:37.955Z"
   },
   {
    "duration": 165,
    "start_time": "2021-06-17T20:35:37.972Z"
   },
   {
    "duration": 16,
    "start_time": "2021-06-17T20:35:38.139Z"
   },
   {
    "duration": 20,
    "start_time": "2021-06-17T20:35:38.157Z"
   },
   {
    "duration": 49,
    "start_time": "2021-06-17T20:35:38.179Z"
   },
   {
    "duration": 78,
    "start_time": "2021-06-17T20:35:38.230Z"
   },
   {
    "duration": 13,
    "start_time": "2021-06-17T20:35:38.310Z"
   },
   {
    "duration": 44,
    "start_time": "2021-06-17T20:35:38.327Z"
   },
   {
    "duration": 83,
    "start_time": "2021-06-17T20:35:38.373Z"
   },
   {
    "duration": 201,
    "start_time": "2021-06-17T20:35:38.459Z"
   },
   {
    "duration": 1487,
    "start_time": "2021-06-18T08:16:14.688Z"
   },
   {
    "duration": 526,
    "start_time": "2021-06-18T08:16:16.178Z"
   },
   {
    "duration": 256,
    "start_time": "2021-06-18T08:16:16.708Z"
   },
   {
    "duration": 183,
    "start_time": "2021-06-18T08:16:16.968Z"
   },
   {
    "duration": 214,
    "start_time": "2021-06-18T08:16:17.161Z"
   },
   {
    "duration": 20,
    "start_time": "2021-06-18T08:16:17.378Z"
   },
   {
    "duration": 20,
    "start_time": "2021-06-18T08:16:17.401Z"
   },
   {
    "duration": 95,
    "start_time": "2021-06-18T08:16:17.427Z"
   },
   {
    "duration": 101,
    "start_time": "2021-06-18T08:16:17.525Z"
   },
   {
    "duration": 18,
    "start_time": "2021-06-18T08:16:17.629Z"
   },
   {
    "duration": 36,
    "start_time": "2021-06-18T08:16:17.650Z"
   },
   {
    "duration": 83,
    "start_time": "2021-06-18T08:16:17.689Z"
   },
   {
    "duration": 106,
    "start_time": "2021-06-18T08:16:17.862Z"
   },
   {
    "duration": 10,
    "start_time": "2021-06-18T08:17:59.629Z"
   },
   {
    "duration": 24,
    "start_time": "2021-06-18T08:20:58.627Z"
   },
   {
    "duration": 24,
    "start_time": "2021-06-18T08:21:15.505Z"
   },
   {
    "duration": 31,
    "start_time": "2021-06-18T08:22:43.220Z"
   },
   {
    "duration": 23,
    "start_time": "2021-06-18T08:24:19.775Z"
   },
   {
    "duration": 4698,
    "start_time": "2021-06-18T08:27:57.475Z"
   },
   {
    "duration": 46,
    "start_time": "2021-06-18T08:35:44.872Z"
   },
   {
    "duration": 43,
    "start_time": "2021-06-18T08:36:06.506Z"
   },
   {
    "duration": 130,
    "start_time": "2021-06-18T08:37:41.778Z"
   },
   {
    "duration": 43,
    "start_time": "2021-06-18T08:41:49.768Z"
   },
   {
    "duration": 44,
    "start_time": "2021-06-18T08:43:57.291Z"
   },
   {
    "duration": 35,
    "start_time": "2021-06-18T08:44:04.426Z"
   },
   {
    "duration": 31,
    "start_time": "2021-06-18T08:45:25.510Z"
   },
   {
    "duration": 44,
    "start_time": "2021-06-18T08:45:36.906Z"
   },
   {
    "duration": 9,
    "start_time": "2021-06-18T09:06:56.044Z"
   },
   {
    "duration": 9,
    "start_time": "2021-06-18T09:07:29.048Z"
   },
   {
    "duration": 121,
    "start_time": "2021-06-18T09:10:15.158Z"
   },
   {
    "duration": 49,
    "start_time": "2021-06-18T09:24:02.113Z"
   },
   {
    "duration": 14,
    "start_time": "2021-06-18T09:36:00.760Z"
   },
   {
    "duration": 9,
    "start_time": "2021-06-18T09:39:05.503Z"
   },
   {
    "duration": 15,
    "start_time": "2021-06-18T09:39:11.505Z"
   },
   {
    "duration": 14,
    "start_time": "2021-06-18T09:39:55.220Z"
   },
   {
    "duration": 16,
    "start_time": "2021-06-18T09:40:51.343Z"
   },
   {
    "duration": 10,
    "start_time": "2021-06-18T09:52:08.826Z"
   },
   {
    "duration": 21,
    "start_time": "2021-06-18T09:52:14.301Z"
   },
   {
    "duration": 15,
    "start_time": "2021-06-18T09:53:09.067Z"
   },
   {
    "duration": 13,
    "start_time": "2021-06-18T09:57:31.021Z"
   },
   {
    "duration": 14,
    "start_time": "2021-06-18T09:57:36.526Z"
   },
   {
    "duration": 14,
    "start_time": "2021-06-18T09:58:03.242Z"
   },
   {
    "duration": 14,
    "start_time": "2021-06-18T09:58:22.285Z"
   },
   {
    "duration": 14,
    "start_time": "2021-06-18T09:58:29.942Z"
   },
   {
    "duration": 14,
    "start_time": "2021-06-18T09:58:32.856Z"
   },
   {
    "duration": 15,
    "start_time": "2021-06-18T09:59:00.172Z"
   },
   {
    "duration": 14,
    "start_time": "2021-06-18T09:59:08.528Z"
   },
   {
    "duration": 1516,
    "start_time": "2021-06-18T10:01:53.505Z"
   },
   {
    "duration": 6,
    "start_time": "2021-06-18T10:08:09.477Z"
   },
   {
    "duration": 8,
    "start_time": "2021-06-18T10:10:53.494Z"
   },
   {
    "duration": 4,
    "start_time": "2021-06-18T10:11:52.946Z"
   },
   {
    "duration": 41496,
    "start_time": "2021-06-18T10:12:29.045Z"
   },
   {
    "duration": 5,
    "start_time": "2021-06-18T10:14:00.581Z"
   },
   {
    "duration": 21,
    "start_time": "2021-06-18T10:14:02.845Z"
   },
   {
    "duration": 5,
    "start_time": "2021-06-18T10:17:44.062Z"
   },
   {
    "duration": 21,
    "start_time": "2021-06-18T10:17:44.814Z"
   },
   {
    "duration": 895,
    "start_time": "2021-06-18T10:19:45.869Z"
   },
   {
    "duration": 298,
    "start_time": "2021-06-18T10:19:56.642Z"
   },
   {
    "duration": 360,
    "start_time": "2021-06-18T10:22:26.051Z"
   },
   {
    "duration": 15,
    "start_time": "2021-06-18T10:23:38.192Z"
   },
   {
    "duration": 17,
    "start_time": "2021-06-18T10:23:59.075Z"
   },
   {
    "duration": 316,
    "start_time": "2021-06-18T10:24:12.550Z"
   },
   {
    "duration": 16,
    "start_time": "2021-06-18T10:49:09.675Z"
   },
   {
    "duration": 17,
    "start_time": "2021-06-18T10:50:17.532Z"
   },
   {
    "duration": 1579,
    "start_time": "2021-06-18T10:52:01.409Z"
   },
   {
    "duration": 475,
    "start_time": "2021-06-18T10:52:02.990Z"
   },
   {
    "duration": 181,
    "start_time": "2021-06-18T10:52:03.468Z"
   },
   {
    "duration": 140,
    "start_time": "2021-06-18T10:52:03.652Z"
   },
   {
    "duration": 68,
    "start_time": "2021-06-18T10:52:03.794Z"
   },
   {
    "duration": 16,
    "start_time": "2021-06-18T10:52:03.864Z"
   },
   {
    "duration": 4,
    "start_time": "2021-06-18T10:52:03.882Z"
   },
   {
    "duration": 442,
    "start_time": "2021-06-18T10:52:03.890Z"
   },
   {
    "duration": 7598,
    "start_time": "2021-06-18T10:51:56.737Z"
   },
   {
    "duration": 7582,
    "start_time": "2021-06-18T10:51:56.754Z"
   },
   {
    "duration": 7569,
    "start_time": "2021-06-18T10:51:56.769Z"
   },
   {
    "duration": 7557,
    "start_time": "2021-06-18T10:51:56.782Z"
   },
   {
    "duration": 7553,
    "start_time": "2021-06-18T10:51:56.788Z"
   },
   {
    "duration": 7543,
    "start_time": "2021-06-18T10:51:56.799Z"
   },
   {
    "duration": 7529,
    "start_time": "2021-06-18T10:51:56.814Z"
   },
   {
    "duration": 7524,
    "start_time": "2021-06-18T10:51:56.821Z"
   },
   {
    "duration": 7520,
    "start_time": "2021-06-18T10:51:56.826Z"
   },
   {
    "duration": 8,
    "start_time": "2021-06-18T10:52:42.613Z"
   },
   {
    "duration": 14,
    "start_time": "2021-06-18T10:52:49.135Z"
   },
   {
    "duration": 381,
    "start_time": "2021-06-18T10:53:13.300Z"
   },
   {
    "duration": 15,
    "start_time": "2021-06-18T10:53:46.024Z"
   },
   {
    "duration": 11,
    "start_time": "2021-06-18T10:54:10.631Z"
   },
   {
    "duration": 16,
    "start_time": "2021-06-18T10:55:38.261Z"
   },
   {
    "duration": 305,
    "start_time": "2021-06-18T10:58:33.759Z"
   },
   {
    "duration": 16,
    "start_time": "2021-06-18T10:58:45.314Z"
   },
   {
    "duration": 18,
    "start_time": "2021-06-18T11:00:07.404Z"
   },
   {
    "duration": 8398,
    "start_time": "2021-06-18T11:01:03.258Z"
   },
   {
    "duration": 18,
    "start_time": "2021-06-18T11:24:29.323Z"
   },
   {
    "duration": 12,
    "start_time": "2021-06-18T11:29:15.856Z"
   },
   {
    "duration": 29,
    "start_time": "2021-06-18T11:30:31.441Z"
   },
   {
    "duration": 30,
    "start_time": "2021-06-18T11:36:33.372Z"
   },
   {
    "duration": 28,
    "start_time": "2021-06-18T11:36:56.181Z"
   },
   {
    "duration": 300,
    "start_time": "2021-06-18T11:43:21.034Z"
   },
   {
    "duration": 314,
    "start_time": "2021-06-18T11:44:56.427Z"
   },
   {
    "duration": 69,
    "start_time": "2021-06-18T11:45:15.071Z"
   },
   {
    "duration": 182,
    "start_time": "2021-06-18T11:45:19.735Z"
   },
   {
    "duration": 193,
    "start_time": "2021-06-18T11:45:27.262Z"
   },
   {
    "duration": 189,
    "start_time": "2021-06-18T11:45:32.266Z"
   },
   {
    "duration": 1974,
    "start_time": "2021-06-19T06:14:23.298Z"
   },
   {
    "duration": 747,
    "start_time": "2021-06-19T06:14:25.275Z"
   },
   {
    "duration": 232,
    "start_time": "2021-06-19T06:14:26.026Z"
   },
   {
    "duration": 73,
    "start_time": "2021-06-19T06:14:26.262Z"
   },
   {
    "duration": 226,
    "start_time": "2021-06-19T06:14:26.337Z"
   },
   {
    "duration": 139,
    "start_time": "2021-06-19T06:14:26.566Z"
   },
   {
    "duration": 71,
    "start_time": "2021-06-19T06:14:26.707Z"
   },
   {
    "duration": 18,
    "start_time": "2021-06-19T06:14:26.782Z"
   },
   {
    "duration": 5,
    "start_time": "2021-06-19T06:14:26.803Z"
   },
   {
    "duration": 64,
    "start_time": "2021-06-19T06:14:26.811Z"
   },
   {
    "duration": 19,
    "start_time": "2021-06-19T06:14:26.878Z"
   },
   {
    "duration": 27,
    "start_time": "2021-06-19T06:14:26.900Z"
   },
   {
    "duration": 136,
    "start_time": "2021-06-19T06:14:26.929Z"
   },
   {
    "duration": 5,
    "start_time": "2021-06-19T06:41:07.896Z"
   },
   {
    "duration": 7,
    "start_time": "2021-06-19T07:51:13.007Z"
   },
   {
    "duration": 1515,
    "start_time": "2021-06-19T09:03:29.054Z"
   },
   {
    "duration": 622,
    "start_time": "2021-06-19T09:03:30.573Z"
   },
   {
    "duration": 193,
    "start_time": "2021-06-19T09:03:31.198Z"
   },
   {
    "duration": 85,
    "start_time": "2021-06-19T09:03:31.394Z"
   },
   {
    "duration": 212,
    "start_time": "2021-06-19T09:03:31.486Z"
   },
   {
    "duration": 139,
    "start_time": "2021-06-19T09:03:31.700Z"
   },
   {
    "duration": 60,
    "start_time": "2021-06-19T09:03:31.842Z"
   },
   {
    "duration": 18,
    "start_time": "2021-06-19T09:03:31.905Z"
   },
   {
    "duration": 4,
    "start_time": "2021-06-19T09:03:31.926Z"
   },
   {
    "duration": 29,
    "start_time": "2021-06-19T09:03:31.961Z"
   },
   {
    "duration": 15,
    "start_time": "2021-06-19T09:03:32.176Z"
   },
   {
    "duration": 411,
    "start_time": "2021-06-19T09:03:35.583Z"
   },
   {
    "duration": 8,
    "start_time": "2021-06-19T09:03:47.016Z"
   },
   {
    "duration": 425,
    "start_time": "2021-06-19T09:20:21.222Z"
   },
   {
    "duration": 56,
    "start_time": "2021-06-19T09:20:39.425Z"
   },
   {
    "duration": 53,
    "start_time": "2021-06-19T09:21:22.476Z"
   },
   {
    "duration": 3,
    "start_time": "2021-06-19T10:51:25.229Z"
   },
   {
    "duration": 29,
    "start_time": "2021-06-19T10:54:07.131Z"
   },
   {
    "duration": 19,
    "start_time": "2021-06-19T10:54:24.741Z"
   },
   {
    "duration": 21,
    "start_time": "2021-06-19T10:54:50.623Z"
   },
   {
    "duration": 1569,
    "start_time": "2021-06-19T16:19:57.731Z"
   },
   {
    "duration": 491,
    "start_time": "2021-06-19T16:20:00.761Z"
   },
   {
    "duration": 174,
    "start_time": "2021-06-19T16:20:04.262Z"
   },
   {
    "duration": 201,
    "start_time": "2021-06-19T16:20:40.051Z"
   },
   {
    "duration": 119,
    "start_time": "2021-06-19T16:20:44.116Z"
   },
   {
    "duration": 54,
    "start_time": "2021-06-19T16:20:50.018Z"
   },
   {
    "duration": 43,
    "start_time": "2021-06-19T16:20:55.156Z"
   },
   {
    "duration": 18,
    "start_time": "2021-06-19T16:20:59.964Z"
   },
   {
    "duration": 5,
    "start_time": "2021-06-19T16:21:03.402Z"
   },
   {
    "duration": 5,
    "start_time": "2021-06-19T16:21:42.326Z"
   },
   {
    "duration": 28,
    "start_time": "2021-06-19T16:21:43.507Z"
   },
   {
    "duration": 16,
    "start_time": "2021-06-19T16:21:48.415Z"
   },
   {
    "duration": 7,
    "start_time": "2021-06-19T16:21:58.893Z"
   },
   {
    "duration": 1632,
    "start_time": "2021-06-21T14:53:13.808Z"
   },
   {
    "duration": 456,
    "start_time": "2021-06-21T14:53:15.443Z"
   },
   {
    "duration": 190,
    "start_time": "2021-06-21T14:53:15.903Z"
   },
   {
    "duration": 194,
    "start_time": "2021-06-21T14:53:16.095Z"
   },
   {
    "duration": 141,
    "start_time": "2021-06-21T14:53:16.291Z"
   },
   {
    "duration": 50,
    "start_time": "2021-06-21T14:53:16.434Z"
   },
   {
    "duration": 43,
    "start_time": "2021-06-21T14:53:16.486Z"
   },
   {
    "duration": 5,
    "start_time": "2021-06-21T14:53:16.532Z"
   },
   {
    "duration": 29,
    "start_time": "2021-06-21T14:53:16.540Z"
   },
   {
    "duration": 20,
    "start_time": "2021-06-21T14:53:16.572Z"
   },
   {
    "duration": 39,
    "start_time": "2021-06-21T14:53:16.594Z"
   },
   {
    "duration": 591,
    "start_time": "2021-06-21T14:53:16.635Z"
   },
   {
    "duration": 7,
    "start_time": "2021-06-21T14:53:17.222Z"
   },
   {
    "duration": 3,
    "start_time": "2021-06-21T14:53:17.228Z"
   },
   {
    "duration": 0,
    "start_time": "2021-06-21T14:53:17.233Z"
   },
   {
    "duration": -6,
    "start_time": "2021-06-21T14:53:17.240Z"
   },
   {
    "duration": -17,
    "start_time": "2021-06-21T14:53:17.252Z"
   },
   {
    "duration": -21,
    "start_time": "2021-06-21T14:53:17.258Z"
   },
   {
    "duration": -24,
    "start_time": "2021-06-21T14:53:17.263Z"
   },
   {
    "duration": -28,
    "start_time": "2021-06-21T14:53:17.268Z"
   },
   {
    "duration": 1509,
    "start_time": "2021-06-21T14:59:37.927Z"
   },
   {
    "duration": 449,
    "start_time": "2021-06-21T14:59:39.439Z"
   },
   {
    "duration": 170,
    "start_time": "2021-06-21T14:59:39.891Z"
   },
   {
    "duration": 195,
    "start_time": "2021-06-21T14:59:40.064Z"
   },
   {
    "duration": 147,
    "start_time": "2021-06-21T14:59:40.262Z"
   },
   {
    "duration": 69,
    "start_time": "2021-06-21T14:59:40.412Z"
   },
   {
    "duration": 19,
    "start_time": "2021-06-21T14:59:40.484Z"
   },
   {
    "duration": 5,
    "start_time": "2021-06-21T14:59:40.531Z"
   },
   {
    "duration": 31,
    "start_time": "2021-06-21T14:59:40.539Z"
   },
   {
    "duration": 15,
    "start_time": "2021-06-21T14:59:40.572Z"
   },
   {
    "duration": 35,
    "start_time": "2021-06-21T14:59:40.590Z"
   },
   {
    "duration": 399,
    "start_time": "2021-06-21T14:59:40.628Z"
   },
   {
    "duration": 136,
    "start_time": "2021-06-21T14:59:41.032Z"
   },
   {
    "duration": 58,
    "start_time": "2021-06-21T14:59:41.171Z"
   },
   {
    "duration": 28,
    "start_time": "2021-06-21T14:59:41.232Z"
   },
   {
    "duration": 112,
    "start_time": "2021-06-21T14:59:41.325Z"
   },
   {
    "duration": 197,
    "start_time": "2021-06-21T14:59:41.440Z"
   },
   {
    "duration": 211,
    "start_time": "2021-06-21T14:59:41.639Z"
   },
   {
    "duration": 46,
    "start_time": "2021-06-21T14:59:41.852Z"
   },
   {
    "duration": 98,
    "start_time": "2021-06-21T14:59:41.926Z"
   },
   {
    "duration": 1375,
    "start_time": "2021-06-21T15:00:13.561Z"
   },
   {
    "duration": 463,
    "start_time": "2021-06-21T15:00:14.939Z"
   },
   {
    "duration": 175,
    "start_time": "2021-06-21T15:00:15.405Z"
   },
   {
    "duration": 199,
    "start_time": "2021-06-21T15:00:15.583Z"
   },
   {
    "duration": 140,
    "start_time": "2021-06-21T15:00:15.784Z"
   },
   {
    "duration": 56,
    "start_time": "2021-06-21T15:00:15.926Z"
   },
   {
    "duration": 51,
    "start_time": "2021-06-21T15:00:15.985Z"
   },
   {
    "duration": 7,
    "start_time": "2021-06-21T15:00:16.041Z"
   },
   {
    "duration": 53,
    "start_time": "2021-06-21T15:00:16.051Z"
   },
   {
    "duration": 126,
    "start_time": "2021-06-21T15:00:16.106Z"
   },
   {
    "duration": 31,
    "start_time": "2021-06-21T15:00:16.235Z"
   },
   {
    "duration": 466,
    "start_time": "2021-06-21T15:00:16.269Z"
   },
   {
    "duration": 224,
    "start_time": "2021-06-21T15:00:16.738Z"
   },
   {
    "duration": 17,
    "start_time": "2021-06-21T15:00:16.965Z"
   },
   {
    "duration": 42,
    "start_time": "2021-06-21T15:00:16.984Z"
   },
   {
    "duration": 197,
    "start_time": "2021-06-21T15:00:17.029Z"
   },
   {
    "duration": 102,
    "start_time": "2021-06-21T15:00:17.229Z"
   },
   {
    "duration": 195,
    "start_time": "2021-06-21T15:00:17.333Z"
   },
   {
    "duration": 19,
    "start_time": "2021-06-21T15:00:17.531Z"
   },
   {
    "duration": 7,
    "start_time": "2021-06-21T15:00:17.625Z"
   },
   {
    "duration": 1360,
    "start_time": "2021-06-21T15:47:38.164Z"
   },
   {
    "duration": 448,
    "start_time": "2021-06-21T15:47:39.527Z"
   },
   {
    "duration": 169,
    "start_time": "2021-06-21T15:47:39.979Z"
   },
   {
    "duration": 185,
    "start_time": "2021-06-21T15:47:40.150Z"
   },
   {
    "duration": 138,
    "start_time": "2021-06-21T15:47:40.338Z"
   },
   {
    "duration": 60,
    "start_time": "2021-06-21T15:47:40.479Z"
   },
   {
    "duration": 21,
    "start_time": "2021-06-21T15:47:40.542Z"
   },
   {
    "duration": 5,
    "start_time": "2021-06-21T15:47:40.568Z"
   },
   {
    "duration": 67,
    "start_time": "2021-06-21T15:47:40.577Z"
   },
   {
    "duration": 14,
    "start_time": "2021-06-21T15:47:40.647Z"
   },
   {
    "duration": 16,
    "start_time": "2021-06-21T15:47:40.664Z"
   },
   {
    "duration": 450,
    "start_time": "2021-06-21T15:47:40.683Z"
   },
   {
    "duration": 226,
    "start_time": "2021-06-21T15:47:41.136Z"
   },
   {
    "duration": 6,
    "start_time": "2021-06-21T15:47:41.365Z"
   },
   {
    "duration": 53,
    "start_time": "2021-06-21T15:47:41.373Z"
   },
   {
    "duration": 102,
    "start_time": "2021-06-21T15:47:41.428Z"
   },
   {
    "duration": 197,
    "start_time": "2021-06-21T15:47:41.532Z"
   },
   {
    "duration": 105,
    "start_time": "2021-06-21T15:47:41.731Z"
   },
   {
    "duration": 91,
    "start_time": "2021-06-21T15:47:41.838Z"
   },
   {
    "duration": 96,
    "start_time": "2021-06-21T15:47:41.932Z"
   },
   {
    "duration": 1370,
    "start_time": "2021-06-21T16:38:15.368Z"
   },
   {
    "duration": 460,
    "start_time": "2021-06-21T16:38:16.740Z"
   },
   {
    "duration": 166,
    "start_time": "2021-06-21T16:38:17.203Z"
   },
   {
    "duration": 187,
    "start_time": "2021-06-21T16:38:17.372Z"
   },
   {
    "duration": 133,
    "start_time": "2021-06-21T16:38:17.561Z"
   },
   {
    "duration": 62,
    "start_time": "2021-06-21T16:38:17.697Z"
   },
   {
    "duration": 17,
    "start_time": "2021-06-21T16:38:17.761Z"
   },
   {
    "duration": 35,
    "start_time": "2021-06-21T16:38:17.782Z"
   },
   {
    "duration": 54,
    "start_time": "2021-06-21T16:38:17.820Z"
   },
   {
    "duration": 37,
    "start_time": "2021-06-21T16:38:17.876Z"
   },
   {
    "duration": 26,
    "start_time": "2021-06-21T16:38:17.916Z"
   },
   {
    "duration": 399,
    "start_time": "2021-06-21T16:38:17.945Z"
   },
   {
    "duration": 212,
    "start_time": "2021-06-21T16:38:18.346Z"
   },
   {
    "duration": 4,
    "start_time": "2021-06-21T16:38:18.560Z"
   },
   {
    "duration": 157,
    "start_time": "2021-06-21T16:38:18.567Z"
   },
   {
    "duration": 108,
    "start_time": "2021-06-21T16:38:18.726Z"
   },
   {
    "duration": 187,
    "start_time": "2021-06-21T16:38:18.837Z"
   },
   {
    "duration": 112,
    "start_time": "2021-06-21T16:38:19.027Z"
   },
   {
    "duration": 35,
    "start_time": "2021-06-21T16:38:19.141Z"
   },
   {
    "duration": 6,
    "start_time": "2021-06-21T16:38:19.226Z"
   },
   {
    "duration": 16,
    "start_time": "2021-06-21T16:45:30.630Z"
   },
   {
    "duration": 5,
    "start_time": "2021-06-21T18:13:03.591Z"
   },
   {
    "duration": 7,
    "start_time": "2021-06-21T18:13:08.127Z"
   },
   {
    "duration": 1489,
    "start_time": "2021-06-21T18:19:28.223Z"
   },
   {
    "duration": 493,
    "start_time": "2021-06-21T18:19:29.715Z"
   },
   {
    "duration": 180,
    "start_time": "2021-06-21T18:19:30.211Z"
   },
   {
    "duration": 218,
    "start_time": "2021-06-21T18:19:30.395Z"
   },
   {
    "duration": 141,
    "start_time": "2021-06-21T18:19:30.623Z"
   },
   {
    "duration": 66,
    "start_time": "2021-06-21T18:19:30.767Z"
   },
   {
    "duration": 18,
    "start_time": "2021-06-21T18:19:30.836Z"
   },
   {
    "duration": 7,
    "start_time": "2021-06-21T18:19:30.860Z"
   },
   {
    "duration": 64,
    "start_time": "2021-06-21T18:19:30.870Z"
   },
   {
    "duration": 35,
    "start_time": "2021-06-21T18:19:30.937Z"
   },
   {
    "duration": 26,
    "start_time": "2021-06-21T18:19:30.974Z"
   },
   {
    "duration": 146,
    "start_time": "2021-06-21T18:19:31.003Z"
   },
   {
    "duration": 333,
    "start_time": "2021-06-21T18:19:30.818Z"
   },
   {
    "duration": 326,
    "start_time": "2021-06-21T18:19:30.826Z"
   },
   {
    "duration": 322,
    "start_time": "2021-06-21T18:19:30.831Z"
   },
   {
    "duration": 319,
    "start_time": "2021-06-21T18:19:30.836Z"
   },
   {
    "duration": 314,
    "start_time": "2021-06-21T18:19:30.842Z"
   },
   {
    "duration": 310,
    "start_time": "2021-06-21T18:19:30.847Z"
   },
   {
    "duration": 293,
    "start_time": "2021-06-21T18:19:30.865Z"
   },
   {
    "duration": 291,
    "start_time": "2021-06-21T18:19:30.868Z"
   },
   {
    "duration": 289,
    "start_time": "2021-06-21T18:19:30.872Z"
   },
   {
    "duration": 1402,
    "start_time": "2021-06-21T18:20:57.636Z"
   },
   {
    "duration": 462,
    "start_time": "2021-06-21T18:20:59.040Z"
   },
   {
    "duration": 178,
    "start_time": "2021-06-21T18:20:59.505Z"
   },
   {
    "duration": 192,
    "start_time": "2021-06-21T18:20:59.686Z"
   },
   {
    "duration": 139,
    "start_time": "2021-06-21T18:20:59.880Z"
   },
   {
    "duration": 53,
    "start_time": "2021-06-21T18:21:00.025Z"
   },
   {
    "duration": 45,
    "start_time": "2021-06-21T18:21:00.082Z"
   },
   {
    "duration": 4,
    "start_time": "2021-06-21T18:21:00.133Z"
   },
   {
    "duration": 30,
    "start_time": "2021-06-21T18:21:00.141Z"
   },
   {
    "duration": 51,
    "start_time": "2021-06-21T18:21:00.173Z"
   },
   {
    "duration": 17,
    "start_time": "2021-06-21T18:21:00.227Z"
   },
   {
    "duration": 105,
    "start_time": "2021-06-21T18:21:00.246Z"
   },
   {
    "duration": 241,
    "start_time": "2021-06-21T18:21:00.113Z"
   },
   {
    "duration": 233,
    "start_time": "2021-06-21T18:21:00.122Z"
   },
   {
    "duration": 229,
    "start_time": "2021-06-21T18:21:00.127Z"
   },
   {
    "duration": 227,
    "start_time": "2021-06-21T18:21:00.131Z"
   },
   {
    "duration": 225,
    "start_time": "2021-06-21T18:21:00.134Z"
   },
   {
    "duration": 222,
    "start_time": "2021-06-21T18:21:00.138Z"
   },
   {
    "duration": 220,
    "start_time": "2021-06-21T18:21:00.142Z"
   },
   {
    "duration": 217,
    "start_time": "2021-06-21T18:21:00.146Z"
   },
   {
    "duration": 215,
    "start_time": "2021-06-21T18:21:00.149Z"
   },
   {
    "duration": 1409,
    "start_time": "2021-06-21T18:22:54.820Z"
   },
   {
    "duration": 455,
    "start_time": "2021-06-21T18:22:56.231Z"
   },
   {
    "duration": 170,
    "start_time": "2021-06-21T18:22:56.688Z"
   },
   {
    "duration": 201,
    "start_time": "2021-06-21T18:22:56.861Z"
   },
   {
    "duration": 147,
    "start_time": "2021-06-21T18:22:57.065Z"
   },
   {
    "duration": 57,
    "start_time": "2021-06-21T18:22:57.215Z"
   },
   {
    "duration": 18,
    "start_time": "2021-06-21T18:22:57.274Z"
   },
   {
    "duration": 29,
    "start_time": "2021-06-21T18:22:57.297Z"
   },
   {
    "duration": 26,
    "start_time": "2021-06-21T18:22:57.329Z"
   },
   {
    "duration": 14,
    "start_time": "2021-06-21T18:22:57.358Z"
   },
   {
    "duration": 9,
    "start_time": "2021-06-21T18:22:57.375Z"
   },
   {
    "duration": 129,
    "start_time": "2021-06-21T18:22:57.387Z"
   },
   {
    "duration": 202,
    "start_time": "2021-06-21T18:22:57.317Z"
   },
   {
    "duration": 201,
    "start_time": "2021-06-21T18:22:57.320Z"
   },
   {
    "duration": 200,
    "start_time": "2021-06-21T18:22:57.323Z"
   },
   {
    "duration": 198,
    "start_time": "2021-06-21T18:22:57.327Z"
   },
   {
    "duration": 176,
    "start_time": "2021-06-21T18:22:57.352Z"
   },
   {
    "duration": 166,
    "start_time": "2021-06-21T18:22:57.364Z"
   },
   {
    "duration": 159,
    "start_time": "2021-06-21T18:22:57.373Z"
   },
   {
    "duration": 148,
    "start_time": "2021-06-21T18:22:57.387Z"
   },
   {
    "duration": 131,
    "start_time": "2021-06-21T18:22:57.405Z"
   },
   {
    "duration": 91,
    "start_time": "2021-06-21T18:23:25.589Z"
   },
   {
    "duration": 1466,
    "start_time": "2021-06-21T18:24:30.764Z"
   },
   {
    "duration": 451,
    "start_time": "2021-06-21T18:24:32.233Z"
   },
   {
    "duration": 175,
    "start_time": "2021-06-21T18:24:32.686Z"
   },
   {
    "duration": 197,
    "start_time": "2021-06-21T18:24:32.865Z"
   },
   {
    "duration": 133,
    "start_time": "2021-06-21T18:24:33.064Z"
   },
   {
    "duration": 59,
    "start_time": "2021-06-21T18:24:33.199Z"
   },
   {
    "duration": 18,
    "start_time": "2021-06-21T18:24:33.261Z"
   },
   {
    "duration": 5,
    "start_time": "2021-06-21T18:24:33.283Z"
   },
   {
    "duration": 49,
    "start_time": "2021-06-21T18:24:33.291Z"
   },
   {
    "duration": 15,
    "start_time": "2021-06-21T18:24:33.343Z"
   },
   {
    "duration": 9,
    "start_time": "2021-06-21T18:24:33.360Z"
   },
   {
    "duration": 96,
    "start_time": "2021-06-21T18:24:33.371Z"
   },
   {
    "duration": 288,
    "start_time": "2021-06-21T18:24:33.182Z"
   },
   {
    "duration": 260,
    "start_time": "2021-06-21T18:24:33.211Z"
   },
   {
    "duration": 254,
    "start_time": "2021-06-21T18:24:33.218Z"
   },
   {
    "duration": 250,
    "start_time": "2021-06-21T18:24:33.223Z"
   },
   {
    "duration": 248,
    "start_time": "2021-06-21T18:24:33.227Z"
   },
   {
    "duration": 244,
    "start_time": "2021-06-21T18:24:33.232Z"
   },
   {
    "duration": 240,
    "start_time": "2021-06-21T18:24:33.237Z"
   },
   {
    "duration": 237,
    "start_time": "2021-06-21T18:24:33.241Z"
   },
   {
    "duration": 235,
    "start_time": "2021-06-21T18:24:33.245Z"
   },
   {
    "duration": 1383,
    "start_time": "2021-06-21T18:25:44.241Z"
   },
   {
    "duration": 475,
    "start_time": "2021-06-21T18:25:45.627Z"
   },
   {
    "duration": 172,
    "start_time": "2021-06-21T18:25:46.105Z"
   },
   {
    "duration": 182,
    "start_time": "2021-06-21T18:25:46.280Z"
   },
   {
    "duration": 142,
    "start_time": "2021-06-21T18:25:46.464Z"
   },
   {
    "duration": 66,
    "start_time": "2021-06-21T18:25:46.609Z"
   },
   {
    "duration": 18,
    "start_time": "2021-06-21T18:25:46.677Z"
   },
   {
    "duration": 25,
    "start_time": "2021-06-21T18:25:46.699Z"
   },
   {
    "duration": 40,
    "start_time": "2021-06-21T18:25:46.726Z"
   },
   {
    "duration": 16,
    "start_time": "2021-06-21T18:25:46.768Z"
   },
   {
    "duration": 9,
    "start_time": "2021-06-21T18:25:46.786Z"
   },
   {
    "duration": 124,
    "start_time": "2021-06-21T18:25:46.797Z"
   },
   {
    "duration": 377,
    "start_time": "2021-06-21T18:25:46.547Z"
   },
   {
    "duration": 375,
    "start_time": "2021-06-21T18:25:46.550Z"
   },
   {
    "duration": 372,
    "start_time": "2021-06-21T18:25:46.554Z"
   },
   {
    "duration": 371,
    "start_time": "2021-06-21T18:25:46.557Z"
   },
   {
    "duration": 356,
    "start_time": "2021-06-21T18:25:46.573Z"
   },
   {
    "duration": 352,
    "start_time": "2021-06-21T18:25:46.578Z"
   },
   {
    "duration": 347,
    "start_time": "2021-06-21T18:25:46.584Z"
   },
   {
    "duration": 344,
    "start_time": "2021-06-21T18:25:46.589Z"
   },
   {
    "duration": 339,
    "start_time": "2021-06-21T18:25:46.595Z"
   },
   {
    "duration": 1394,
    "start_time": "2021-06-21T18:26:49.655Z"
   },
   {
    "duration": 463,
    "start_time": "2021-06-21T18:26:51.052Z"
   },
   {
    "duration": 177,
    "start_time": "2021-06-21T18:26:51.518Z"
   },
   {
    "duration": 205,
    "start_time": "2021-06-21T18:26:51.698Z"
   },
   {
    "duration": 135,
    "start_time": "2021-06-21T18:26:51.906Z"
   },
   {
    "duration": 54,
    "start_time": "2021-06-21T18:26:52.044Z"
   },
   {
    "duration": 39,
    "start_time": "2021-06-21T18:26:52.100Z"
   },
   {
    "duration": 5,
    "start_time": "2021-06-21T18:26:52.143Z"
   },
   {
    "duration": 40,
    "start_time": "2021-06-21T18:26:52.150Z"
   },
   {
    "duration": 39,
    "start_time": "2021-06-21T18:26:52.194Z"
   },
   {
    "duration": 11,
    "start_time": "2021-06-21T18:26:52.236Z"
   },
   {
    "duration": 103,
    "start_time": "2021-06-21T18:26:52.249Z"
   },
   {
    "duration": 367,
    "start_time": "2021-06-21T18:26:51.987Z"
   },
   {
    "duration": 363,
    "start_time": "2021-06-21T18:26:51.992Z"
   },
   {
    "duration": 359,
    "start_time": "2021-06-21T18:26:51.997Z"
   },
   {
    "duration": 358,
    "start_time": "2021-06-21T18:26:52.000Z"
   },
   {
    "duration": 354,
    "start_time": "2021-06-21T18:26:52.005Z"
   },
   {
    "duration": 351,
    "start_time": "2021-06-21T18:26:52.009Z"
   },
   {
    "duration": 350,
    "start_time": "2021-06-21T18:26:52.012Z"
   },
   {
    "duration": 337,
    "start_time": "2021-06-21T18:26:52.026Z"
   },
   {
    "duration": 335,
    "start_time": "2021-06-21T18:26:52.030Z"
   },
   {
    "duration": 1407,
    "start_time": "2021-06-21T18:27:17.757Z"
   },
   {
    "duration": 461,
    "start_time": "2021-06-21T18:27:19.167Z"
   },
   {
    "duration": 182,
    "start_time": "2021-06-21T18:27:19.634Z"
   },
   {
    "duration": 199,
    "start_time": "2021-06-21T18:27:19.818Z"
   },
   {
    "duration": 134,
    "start_time": "2021-06-21T18:27:20.024Z"
   },
   {
    "duration": 63,
    "start_time": "2021-06-21T18:27:20.161Z"
   },
   {
    "duration": 18,
    "start_time": "2021-06-21T18:27:20.228Z"
   },
   {
    "duration": 5,
    "start_time": "2021-06-21T18:27:20.248Z"
   },
   {
    "duration": 45,
    "start_time": "2021-06-21T18:27:20.256Z"
   },
   {
    "duration": 29,
    "start_time": "2021-06-21T18:27:20.323Z"
   },
   {
    "duration": 22,
    "start_time": "2021-06-21T18:27:20.355Z"
   },
   {
    "duration": 115,
    "start_time": "2021-06-21T18:27:20.379Z"
   },
   {
    "duration": 370,
    "start_time": "2021-06-21T18:27:20.126Z"
   },
   {
    "duration": 337,
    "start_time": "2021-06-21T18:27:20.161Z"
   },
   {
    "duration": 320,
    "start_time": "2021-06-21T18:27:20.179Z"
   },
   {
    "duration": 315,
    "start_time": "2021-06-21T18:27:20.186Z"
   },
   {
    "duration": 286,
    "start_time": "2021-06-21T18:27:20.216Z"
   },
   {
    "duration": 271,
    "start_time": "2021-06-21T18:27:20.233Z"
   },
   {
    "duration": 254,
    "start_time": "2021-06-21T18:27:20.251Z"
   },
   {
    "duration": 237,
    "start_time": "2021-06-21T18:27:20.270Z"
   },
   {
    "duration": 230,
    "start_time": "2021-06-21T18:27:20.278Z"
   },
   {
    "duration": 1394,
    "start_time": "2021-06-21T18:28:08.513Z"
   },
   {
    "duration": 449,
    "start_time": "2021-06-21T18:28:09.910Z"
   },
   {
    "duration": 179,
    "start_time": "2021-06-21T18:28:10.362Z"
   },
   {
    "duration": 188,
    "start_time": "2021-06-21T18:28:10.544Z"
   },
   {
    "duration": 133,
    "start_time": "2021-06-21T18:28:10.735Z"
   },
   {
    "duration": 59,
    "start_time": "2021-06-21T18:28:10.871Z"
   },
   {
    "duration": 17,
    "start_time": "2021-06-21T18:28:10.933Z"
   },
   {
    "duration": 4,
    "start_time": "2021-06-21T18:28:10.954Z"
   },
   {
    "duration": 30,
    "start_time": "2021-06-21T18:28:10.961Z"
   },
   {
    "duration": 14,
    "start_time": "2021-06-21T18:28:11.025Z"
   },
   {
    "duration": 10,
    "start_time": "2021-06-21T18:28:11.042Z"
   },
   {
    "duration": 99,
    "start_time": "2021-06-21T18:28:11.055Z"
   },
   {
    "duration": 342,
    "start_time": "2021-06-21T18:28:10.815Z"
   },
   {
    "duration": 339,
    "start_time": "2021-06-21T18:28:10.819Z"
   },
   {
    "duration": 337,
    "start_time": "2021-06-21T18:28:10.823Z"
   },
   {
    "duration": 335,
    "start_time": "2021-06-21T18:28:10.827Z"
   },
   {
    "duration": 318,
    "start_time": "2021-06-21T18:28:10.845Z"
   },
   {
    "duration": 305,
    "start_time": "2021-06-21T18:28:10.859Z"
   },
   {
    "duration": 300,
    "start_time": "2021-06-21T18:28:10.866Z"
   },
   {
    "duration": 286,
    "start_time": "2021-06-21T18:28:10.881Z"
   },
   {
    "duration": 270,
    "start_time": "2021-06-21T18:28:10.898Z"
   },
   {
    "duration": 1410,
    "start_time": "2021-06-21T18:28:45.718Z"
   },
   {
    "duration": 460,
    "start_time": "2021-06-21T18:28:47.131Z"
   },
   {
    "duration": 176,
    "start_time": "2021-06-21T18:28:47.594Z"
   },
   {
    "duration": 194,
    "start_time": "2021-06-21T18:28:47.773Z"
   },
   {
    "duration": 141,
    "start_time": "2021-06-21T18:28:47.969Z"
   },
   {
    "duration": 55,
    "start_time": "2021-06-21T18:28:48.113Z"
   },
   {
    "duration": 18,
    "start_time": "2021-06-21T18:28:48.170Z"
   },
   {
    "duration": 34,
    "start_time": "2021-06-21T18:28:48.192Z"
   },
   {
    "duration": 31,
    "start_time": "2021-06-21T18:28:48.231Z"
   },
   {
    "duration": 15,
    "start_time": "2021-06-21T18:28:48.265Z"
   },
   {
    "duration": 43,
    "start_time": "2021-06-21T18:28:48.282Z"
   },
   {
    "duration": 97,
    "start_time": "2021-06-21T18:28:48.329Z"
   },
   {
    "duration": 364,
    "start_time": "2021-06-21T18:28:48.064Z"
   },
   {
    "duration": 358,
    "start_time": "2021-06-21T18:28:48.072Z"
   },
   {
    "duration": 353,
    "start_time": "2021-06-21T18:28:48.078Z"
   },
   {
    "duration": 342,
    "start_time": "2021-06-21T18:28:48.091Z"
   },
   {
    "duration": 337,
    "start_time": "2021-06-21T18:28:48.097Z"
   },
   {
    "duration": 328,
    "start_time": "2021-06-21T18:28:48.108Z"
   },
   {
    "duration": 323,
    "start_time": "2021-06-21T18:28:48.114Z"
   },
   {
    "duration": 314,
    "start_time": "2021-06-21T18:28:48.124Z"
   },
   {
    "duration": 313,
    "start_time": "2021-06-21T18:28:48.127Z"
   },
   {
    "duration": 311,
    "start_time": "2021-06-21T18:28:48.130Z"
   },
   {
    "duration": 1401,
    "start_time": "2021-06-21T18:29:10.946Z"
   },
   {
    "duration": 470,
    "start_time": "2021-06-21T18:29:12.350Z"
   },
   {
    "duration": 177,
    "start_time": "2021-06-21T18:29:12.823Z"
   },
   {
    "duration": 212,
    "start_time": "2021-06-21T18:29:13.003Z"
   },
   {
    "duration": 140,
    "start_time": "2021-06-21T18:29:13.224Z"
   },
   {
    "duration": 60,
    "start_time": "2021-06-21T18:29:13.366Z"
   },
   {
    "duration": 18,
    "start_time": "2021-06-21T18:29:13.428Z"
   },
   {
    "duration": 7,
    "start_time": "2021-06-21T18:29:13.450Z"
   },
   {
    "duration": 37,
    "start_time": "2021-06-21T18:29:13.460Z"
   },
   {
    "duration": 15,
    "start_time": "2021-06-21T18:29:13.524Z"
   },
   {
    "duration": 11,
    "start_time": "2021-06-21T18:29:13.542Z"
   },
   {
    "duration": 470,
    "start_time": "2021-06-21T18:29:13.556Z"
   },
   {
    "duration": 3,
    "start_time": "2021-06-21T18:29:14.029Z"
   },
   {
    "duration": 17,
    "start_time": "2021-06-21T18:29:14.125Z"
   },
   {
    "duration": 79,
    "start_time": "2021-06-21T18:29:14.145Z"
   },
   {
    "duration": 4,
    "start_time": "2021-06-21T18:29:14.226Z"
   },
   {
    "duration": 92,
    "start_time": "2021-06-21T18:29:14.232Z"
   },
   {
    "duration": 106,
    "start_time": "2021-06-21T18:29:14.327Z"
   },
   {
    "duration": 191,
    "start_time": "2021-06-21T18:29:14.435Z"
   },
   {
    "duration": 110,
    "start_time": "2021-06-21T18:29:14.628Z"
   },
   {
    "duration": 88,
    "start_time": "2021-06-21T18:29:14.741Z"
   },
   {
    "duration": 95,
    "start_time": "2021-06-21T18:29:14.831Z"
   },
   {
    "duration": 1402,
    "start_time": "2021-06-21T18:30:42.537Z"
   },
   {
    "duration": 446,
    "start_time": "2021-06-21T18:30:43.942Z"
   },
   {
    "duration": 177,
    "start_time": "2021-06-21T18:30:44.391Z"
   },
   {
    "duration": 202,
    "start_time": "2021-06-21T18:30:44.571Z"
   },
   {
    "duration": 138,
    "start_time": "2021-06-21T18:30:44.776Z"
   },
   {
    "duration": 51,
    "start_time": "2021-06-21T18:30:44.923Z"
   },
   {
    "duration": 18,
    "start_time": "2021-06-21T18:30:44.977Z"
   },
   {
    "duration": 5,
    "start_time": "2021-06-21T18:30:45.023Z"
   },
   {
    "duration": 29,
    "start_time": "2021-06-21T18:30:45.031Z"
   },
   {
    "duration": 14,
    "start_time": "2021-06-21T18:30:45.062Z"
   },
   {
    "duration": 9,
    "start_time": "2021-06-21T18:30:45.079Z"
   },
   {
    "duration": 446,
    "start_time": "2021-06-21T18:30:45.090Z"
   },
   {
    "duration": 3,
    "start_time": "2021-06-21T18:30:45.538Z"
   },
   {
    "duration": 109,
    "start_time": "2021-06-21T18:30:45.625Z"
   },
   {
    "duration": 54,
    "start_time": "2021-06-21T18:30:45.737Z"
   },
   {
    "duration": 5,
    "start_time": "2021-06-21T18:30:45.793Z"
   },
   {
    "duration": 17,
    "start_time": "2021-06-21T18:30:45.824Z"
   },
   {
    "duration": 199,
    "start_time": "2021-06-21T18:30:45.925Z"
   },
   {
    "duration": 102,
    "start_time": "2021-06-21T18:30:46.127Z"
   },
   {
    "duration": 192,
    "start_time": "2021-06-21T18:30:46.232Z"
   },
   {
    "duration": 20,
    "start_time": "2021-06-21T18:30:46.427Z"
   },
   {
    "duration": 6,
    "start_time": "2021-06-21T18:30:46.526Z"
   },
   {
    "duration": 1412,
    "start_time": "2021-06-21T18:32:34.530Z"
   },
   {
    "duration": 479,
    "start_time": "2021-06-21T18:32:35.945Z"
   },
   {
    "duration": 177,
    "start_time": "2021-06-21T18:32:36.431Z"
   },
   {
    "duration": 208,
    "start_time": "2021-06-21T18:32:36.610Z"
   },
   {
    "duration": 129,
    "start_time": "2021-06-21T18:32:36.824Z"
   },
   {
    "duration": 51,
    "start_time": "2021-06-21T18:32:36.955Z"
   },
   {
    "duration": 18,
    "start_time": "2021-06-21T18:32:37.025Z"
   },
   {
    "duration": 5,
    "start_time": "2021-06-21T18:32:37.046Z"
   },
   {
    "duration": 29,
    "start_time": "2021-06-21T18:32:37.053Z"
   },
   {
    "duration": 44,
    "start_time": "2021-06-21T18:32:37.084Z"
   },
   {
    "duration": 10,
    "start_time": "2021-06-21T18:32:37.130Z"
   },
   {
    "duration": 399,
    "start_time": "2021-06-21T18:32:37.143Z"
   },
   {
    "duration": 81,
    "start_time": "2021-06-21T18:32:37.545Z"
   },
   {
    "duration": 108,
    "start_time": "2021-06-21T18:32:37.630Z"
   },
   {
    "duration": 59,
    "start_time": "2021-06-21T18:32:37.741Z"
   },
   {
    "duration": 21,
    "start_time": "2021-06-21T18:32:37.803Z"
   },
   {
    "duration": 23,
    "start_time": "2021-06-21T18:32:37.827Z"
   },
   {
    "duration": 171,
    "start_time": "2021-06-21T18:32:37.853Z"
   },
   {
    "duration": 103,
    "start_time": "2021-06-21T18:32:38.027Z"
   },
   {
    "duration": 108,
    "start_time": "2021-06-21T18:32:38.223Z"
   },
   {
    "duration": 20,
    "start_time": "2021-06-21T18:32:38.333Z"
   },
   {
    "duration": 6,
    "start_time": "2021-06-21T18:32:38.427Z"
   },
   {
    "duration": 4,
    "start_time": "2021-06-21T18:33:32.597Z"
   },
   {
    "duration": 6,
    "start_time": "2021-06-21T18:33:39.695Z"
   },
   {
    "duration": 406,
    "start_time": "2021-06-21T18:34:14.865Z"
   },
   {
    "duration": 13,
    "start_time": "2021-06-21T18:34:52.718Z"
   },
   {
    "duration": 3,
    "start_time": "2021-06-21T19:06:23.791Z"
   },
   {
    "duration": 5,
    "start_time": "2021-06-21T19:06:24.861Z"
   },
   {
    "duration": 6,
    "start_time": "2021-06-21T19:07:02.028Z"
   },
   {
    "duration": 4,
    "start_time": "2021-06-21T19:09:27.151Z"
   },
   {
    "duration": 5,
    "start_time": "2021-06-21T19:09:32.720Z"
   },
   {
    "duration": 5,
    "start_time": "2021-06-21T20:28:32.638Z"
   },
   {
    "duration": 1056,
    "start_time": "2021-06-22T06:48:05.832Z"
   },
   {
    "duration": 356,
    "start_time": "2021-06-22T06:48:06.889Z"
   },
   {
    "duration": 125,
    "start_time": "2021-06-22T06:48:07.249Z"
   },
   {
    "duration": 121,
    "start_time": "2021-06-22T06:48:07.375Z"
   },
   {
    "duration": 77,
    "start_time": "2021-06-22T06:48:07.498Z"
   },
   {
    "duration": 35,
    "start_time": "2021-06-22T06:48:07.584Z"
   },
   {
    "duration": 12,
    "start_time": "2021-06-22T06:48:07.621Z"
   },
   {
    "duration": 3,
    "start_time": "2021-06-22T06:48:07.634Z"
   },
   {
    "duration": 46,
    "start_time": "2021-06-22T06:48:07.639Z"
   },
   {
    "duration": 12,
    "start_time": "2021-06-22T06:48:07.686Z"
   },
   {
    "duration": 7,
    "start_time": "2021-06-22T06:48:07.700Z"
   },
   {
    "duration": 387,
    "start_time": "2021-06-22T06:48:07.709Z"
   },
   {
    "duration": 4,
    "start_time": "2021-06-22T06:48:08.098Z"
   },
   {
    "duration": 367,
    "start_time": "2021-06-22T06:48:08.190Z"
   },
   {
    "duration": 1070,
    "start_time": "2021-06-22T06:48:07.489Z"
   },
   {
    "duration": 1067,
    "start_time": "2021-06-22T06:48:07.493Z"
   },
   {
    "duration": 1063,
    "start_time": "2021-06-22T06:48:07.498Z"
   },
   {
    "duration": 1059,
    "start_time": "2021-06-22T06:48:07.503Z"
   },
   {
    "duration": 1054,
    "start_time": "2021-06-22T06:48:07.509Z"
   },
   {
    "duration": 1050,
    "start_time": "2021-06-22T06:48:07.514Z"
   },
   {
    "duration": 1120,
    "start_time": "2021-06-22T06:48:36.965Z"
   },
   {
    "duration": 373,
    "start_time": "2021-06-22T06:48:38.088Z"
   },
   {
    "duration": 116,
    "start_time": "2021-06-22T06:48:38.464Z"
   },
   {
    "duration": 117,
    "start_time": "2021-06-22T06:48:38.585Z"
   },
   {
    "duration": 88,
    "start_time": "2021-06-22T06:48:38.704Z"
   },
   {
    "duration": 33,
    "start_time": "2021-06-22T06:48:38.794Z"
   },
   {
    "duration": 13,
    "start_time": "2021-06-22T06:48:38.829Z"
   },
   {
    "duration": 3,
    "start_time": "2021-06-22T06:48:38.845Z"
   },
   {
    "duration": 47,
    "start_time": "2021-06-22T06:48:38.850Z"
   },
   {
    "duration": 16,
    "start_time": "2021-06-22T06:48:38.899Z"
   },
   {
    "duration": 13,
    "start_time": "2021-06-22T06:48:38.917Z"
   },
   {
    "duration": 364,
    "start_time": "2021-06-22T06:48:38.932Z"
   },
   {
    "duration": 86,
    "start_time": "2021-06-22T06:48:39.298Z"
   },
   {
    "duration": 9,
    "start_time": "2021-06-22T06:48:39.387Z"
   },
   {
    "duration": 256,
    "start_time": "2021-06-22T06:48:39.486Z"
   },
   {
    "duration": 1064,
    "start_time": "2021-06-22T06:48:38.680Z"
   },
   {
    "duration": 1061,
    "start_time": "2021-06-22T06:48:38.685Z"
   },
   {
    "duration": 1056,
    "start_time": "2021-06-22T06:48:38.691Z"
   },
   {
    "duration": 1052,
    "start_time": "2021-06-22T06:48:38.696Z"
   },
   {
    "duration": 1049,
    "start_time": "2021-06-22T06:48:38.701Z"
   },
   {
    "duration": 1024,
    "start_time": "2021-06-22T06:48:58.866Z"
   },
   {
    "duration": 355,
    "start_time": "2021-06-22T06:48:59.892Z"
   },
   {
    "duration": 122,
    "start_time": "2021-06-22T06:49:00.249Z"
   },
   {
    "duration": 103,
    "start_time": "2021-06-22T06:49:00.373Z"
   },
   {
    "duration": 76,
    "start_time": "2021-06-22T06:49:00.485Z"
   },
   {
    "duration": 45,
    "start_time": "2021-06-22T06:49:00.563Z"
   },
   {
    "duration": 12,
    "start_time": "2021-06-22T06:49:00.609Z"
   },
   {
    "duration": 3,
    "start_time": "2021-06-22T06:49:00.623Z"
   },
   {
    "duration": 21,
    "start_time": "2021-06-22T06:49:00.628Z"
   },
   {
    "duration": 40,
    "start_time": "2021-06-22T06:49:00.650Z"
   },
   {
    "duration": 11,
    "start_time": "2021-06-22T06:49:00.691Z"
   },
   {
    "duration": 393,
    "start_time": "2021-06-22T06:49:00.703Z"
   },
   {
    "duration": 85,
    "start_time": "2021-06-22T06:49:01.099Z"
   },
   {
    "duration": 104,
    "start_time": "2021-06-22T06:49:01.187Z"
   },
   {
    "duration": 12,
    "start_time": "2021-06-22T06:49:01.293Z"
   },
   {
    "duration": 3,
    "start_time": "2021-06-22T06:49:01.307Z"
   },
   {
    "duration": 6,
    "start_time": "2021-06-22T06:49:01.312Z"
   },
   {
    "duration": 9,
    "start_time": "2021-06-22T06:49:01.319Z"
   },
   {
    "duration": 9,
    "start_time": "2021-06-22T06:49:01.330Z"
   },
   {
    "duration": 407,
    "start_time": "2021-06-22T06:49:01.341Z"
   },
   {
    "duration": 1014,
    "start_time": "2021-06-22T06:49:29.383Z"
   },
   {
    "duration": 366,
    "start_time": "2021-06-22T06:49:30.399Z"
   },
   {
    "duration": 125,
    "start_time": "2021-06-22T06:49:30.768Z"
   },
   {
    "duration": 115,
    "start_time": "2021-06-22T06:49:30.894Z"
   },
   {
    "duration": 87,
    "start_time": "2021-06-22T06:49:31.011Z"
   },
   {
    "duration": 32,
    "start_time": "2021-06-22T06:49:31.100Z"
   },
   {
    "duration": 11,
    "start_time": "2021-06-22T06:49:31.134Z"
   },
   {
    "duration": 3,
    "start_time": "2021-06-22T06:49:31.147Z"
   },
   {
    "duration": 44,
    "start_time": "2021-06-22T06:49:31.151Z"
   },
   {
    "duration": 11,
    "start_time": "2021-06-22T06:49:31.197Z"
   },
   {
    "duration": 11,
    "start_time": "2021-06-22T06:49:31.210Z"
   },
   {
    "duration": 370,
    "start_time": "2021-06-22T06:49:31.222Z"
   },
   {
    "duration": 4,
    "start_time": "2021-06-22T06:49:31.594Z"
   },
   {
    "duration": 101,
    "start_time": "2021-06-22T06:49:31.687Z"
   },
   {
    "duration": 14,
    "start_time": "2021-06-22T06:49:31.789Z"
   },
   {
    "duration": 8,
    "start_time": "2021-06-22T06:49:31.804Z"
   },
   {
    "duration": 6,
    "start_time": "2021-06-22T06:49:31.814Z"
   },
   {
    "duration": 9,
    "start_time": "2021-06-22T06:49:31.822Z"
   },
   {
    "duration": 5,
    "start_time": "2021-06-22T06:49:31.832Z"
   },
   {
    "duration": 465,
    "start_time": "2021-06-22T06:49:31.838Z"
   },
   {
    "duration": 1044,
    "start_time": "2021-06-22T06:50:16.005Z"
   },
   {
    "duration": 362,
    "start_time": "2021-06-22T06:50:17.051Z"
   },
   {
    "duration": 127,
    "start_time": "2021-06-22T06:50:17.415Z"
   },
   {
    "duration": 116,
    "start_time": "2021-06-22T06:50:17.544Z"
   },
   {
    "duration": 93,
    "start_time": "2021-06-22T06:50:17.661Z"
   },
   {
    "duration": 45,
    "start_time": "2021-06-22T06:50:17.756Z"
   },
   {
    "duration": 12,
    "start_time": "2021-06-22T06:50:17.803Z"
   },
   {
    "duration": 9,
    "start_time": "2021-06-22T06:50:17.817Z"
   },
   {
    "duration": 31,
    "start_time": "2021-06-22T06:50:17.828Z"
   },
   {
    "duration": 28,
    "start_time": "2021-06-22T06:50:17.861Z"
   },
   {
    "duration": 17,
    "start_time": "2021-06-22T06:50:17.891Z"
   },
   {
    "duration": 388,
    "start_time": "2021-06-22T06:50:17.910Z"
   },
   {
    "duration": 84,
    "start_time": "2021-06-22T06:50:18.303Z"
   },
   {
    "duration": 101,
    "start_time": "2021-06-22T06:50:18.389Z"
   },
   {
    "duration": 26,
    "start_time": "2021-06-22T06:50:18.492Z"
   },
   {
    "duration": 11,
    "start_time": "2021-06-22T06:50:18.520Z"
   },
   {
    "duration": 19,
    "start_time": "2021-06-22T06:50:18.532Z"
   },
   {
    "duration": 20,
    "start_time": "2021-06-22T06:50:18.553Z"
   },
   {
    "duration": 16,
    "start_time": "2021-06-22T06:50:18.575Z"
   },
   {
    "duration": 200,
    "start_time": "2021-06-22T06:50:18.593Z"
   },
   {
    "duration": 1228,
    "start_time": "2021-06-22T08:24:32.603Z"
   },
   {
    "duration": 364,
    "start_time": "2021-06-22T08:24:33.833Z"
   },
   {
    "duration": 128,
    "start_time": "2021-06-22T08:24:34.199Z"
   },
   {
    "duration": 120,
    "start_time": "2021-06-22T08:24:34.330Z"
   },
   {
    "duration": 98,
    "start_time": "2021-06-22T08:24:34.452Z"
   },
   {
    "duration": 48,
    "start_time": "2021-06-22T08:24:34.552Z"
   },
   {
    "duration": 13,
    "start_time": "2021-06-22T08:24:34.602Z"
   },
   {
    "duration": 3,
    "start_time": "2021-06-22T08:24:34.618Z"
   },
   {
    "duration": 17,
    "start_time": "2021-06-22T08:24:34.623Z"
   },
   {
    "duration": 12,
    "start_time": "2021-06-22T08:24:34.642Z"
   },
   {
    "duration": 33,
    "start_time": "2021-06-22T08:24:34.655Z"
   },
   {
    "duration": 401,
    "start_time": "2021-06-22T08:24:34.690Z"
   },
   {
    "duration": 3,
    "start_time": "2021-06-22T08:24:35.093Z"
   },
   {
    "duration": 101,
    "start_time": "2021-06-22T08:24:35.186Z"
   },
   {
    "duration": 10,
    "start_time": "2021-06-22T08:24:35.289Z"
   },
   {
    "duration": 4,
    "start_time": "2021-06-22T08:24:35.301Z"
   },
   {
    "duration": 6,
    "start_time": "2021-06-22T08:24:35.306Z"
   },
   {
    "duration": 7,
    "start_time": "2021-06-22T08:24:35.313Z"
   },
   {
    "duration": 4,
    "start_time": "2021-06-22T08:24:35.321Z"
   },
   {
    "duration": 370,
    "start_time": "2021-06-22T08:24:35.326Z"
   },
   {
    "duration": 1080,
    "start_time": "2021-06-22T08:25:21.616Z"
   },
   {
    "duration": 372,
    "start_time": "2021-06-22T08:25:22.698Z"
   },
   {
    "duration": 128,
    "start_time": "2021-06-22T08:25:23.072Z"
   },
   {
    "duration": 111,
    "start_time": "2021-06-22T08:25:23.202Z"
   },
   {
    "duration": 90,
    "start_time": "2021-06-22T08:25:23.315Z"
   },
   {
    "duration": 36,
    "start_time": "2021-06-22T08:25:23.407Z"
   },
   {
    "duration": 12,
    "start_time": "2021-06-22T08:25:23.445Z"
   },
   {
    "duration": 25,
    "start_time": "2021-06-22T08:25:23.460Z"
   },
   {
    "duration": 21,
    "start_time": "2021-06-22T08:25:23.487Z"
   },
   {
    "duration": 12,
    "start_time": "2021-06-22T08:25:23.510Z"
   },
   {
    "duration": 6,
    "start_time": "2021-06-22T08:25:23.524Z"
   },
   {
    "duration": 363,
    "start_time": "2021-06-22T08:25:23.531Z"
   },
   {
    "duration": 3,
    "start_time": "2021-06-22T08:25:23.898Z"
   },
   {
    "duration": 9,
    "start_time": "2021-06-22T08:25:23.984Z"
   },
   {
    "duration": 98,
    "start_time": "2021-06-22T08:25:23.999Z"
   },
   {
    "duration": 12,
    "start_time": "2021-06-22T08:25:24.099Z"
   },
   {
    "duration": 9,
    "start_time": "2021-06-22T08:25:24.113Z"
   },
   {
    "duration": 6,
    "start_time": "2021-06-22T08:25:24.124Z"
   },
   {
    "duration": 4,
    "start_time": "2021-06-22T08:25:24.131Z"
   },
   {
    "duration": 308,
    "start_time": "2021-06-22T08:25:24.137Z"
   },
   {
    "duration": 1097,
    "start_time": "2021-06-22T08:28:50.696Z"
   },
   {
    "duration": 357,
    "start_time": "2021-06-22T08:28:51.794Z"
   },
   {
    "duration": 118,
    "start_time": "2021-06-22T08:28:52.153Z"
   },
   {
    "duration": 117,
    "start_time": "2021-06-22T08:28:52.273Z"
   },
   {
    "duration": 82,
    "start_time": "2021-06-22T08:28:52.392Z"
   },
   {
    "duration": 36,
    "start_time": "2021-06-22T08:28:52.485Z"
   },
   {
    "duration": 12,
    "start_time": "2021-06-22T08:28:52.522Z"
   },
   {
    "duration": 3,
    "start_time": "2021-06-22T08:28:52.536Z"
   },
   {
    "duration": 48,
    "start_time": "2021-06-22T08:28:52.541Z"
   },
   {
    "duration": 17,
    "start_time": "2021-06-22T08:28:52.591Z"
   },
   {
    "duration": 9,
    "start_time": "2021-06-22T08:28:52.609Z"
   },
   {
    "duration": 370,
    "start_time": "2021-06-22T08:28:52.620Z"
   },
   {
    "duration": 4,
    "start_time": "2021-06-22T08:28:52.992Z"
   },
   {
    "duration": 6,
    "start_time": "2021-06-22T08:28:53.086Z"
   },
   {
    "duration": 10,
    "start_time": "2021-06-22T08:28:53.094Z"
   },
   {
    "duration": 5,
    "start_time": "2021-06-22T08:28:53.106Z"
   },
   {
    "duration": 75,
    "start_time": "2021-06-22T08:28:53.112Z"
   },
   {
    "duration": 6,
    "start_time": "2021-06-22T08:28:53.188Z"
   },
   {
    "duration": 4,
    "start_time": "2021-06-22T08:28:53.196Z"
   },
   {
    "duration": 494,
    "start_time": "2021-06-22T08:28:53.201Z"
   },
   {
    "duration": 1119,
    "start_time": "2021-06-22T08:31:35.770Z"
   },
   {
    "duration": 359,
    "start_time": "2021-06-22T08:31:36.891Z"
   },
   {
    "duration": 125,
    "start_time": "2021-06-22T08:31:37.252Z"
   },
   {
    "duration": 118,
    "start_time": "2021-06-22T08:31:37.379Z"
   },
   {
    "duration": 87,
    "start_time": "2021-06-22T08:31:37.498Z"
   },
   {
    "duration": 32,
    "start_time": "2021-06-22T08:31:37.586Z"
   },
   {
    "duration": 11,
    "start_time": "2021-06-22T08:31:37.620Z"
   },
   {
    "duration": 3,
    "start_time": "2021-06-22T08:31:37.633Z"
   },
   {
    "duration": 17,
    "start_time": "2021-06-22T08:31:37.638Z"
   },
   {
    "duration": 12,
    "start_time": "2021-06-22T08:31:37.686Z"
   },
   {
    "duration": 6,
    "start_time": "2021-06-22T08:31:37.700Z"
   },
   {
    "duration": 386,
    "start_time": "2021-06-22T08:31:37.708Z"
   },
   {
    "duration": 4,
    "start_time": "2021-06-22T08:31:38.096Z"
   },
   {
    "duration": 6,
    "start_time": "2021-06-22T08:31:38.187Z"
   },
   {
    "duration": 101,
    "start_time": "2021-06-22T08:31:38.195Z"
   },
   {
    "duration": 4,
    "start_time": "2021-06-22T08:31:38.298Z"
   },
   {
    "duration": 5,
    "start_time": "2021-06-22T08:31:38.304Z"
   },
   {
    "duration": 7,
    "start_time": "2021-06-22T08:31:38.310Z"
   },
   {
    "duration": 4,
    "start_time": "2021-06-22T08:31:38.318Z"
   },
   {
    "duration": 71,
    "start_time": "2021-06-22T08:31:38.324Z"
   },
   {
    "duration": 4,
    "start_time": "2021-06-22T08:32:30.631Z"
   },
   {
    "duration": 303,
    "start_time": "2021-06-22T08:33:44.722Z"
   },
   {
    "duration": 3,
    "start_time": "2021-06-22T08:33:57.033Z"
   },
   {
    "duration": 1027,
    "start_time": "2021-06-22T09:16:59.117Z"
   },
   {
    "duration": 375,
    "start_time": "2021-06-22T09:17:00.146Z"
   },
   {
    "duration": 123,
    "start_time": "2021-06-22T09:17:00.523Z"
   },
   {
    "duration": 118,
    "start_time": "2021-06-22T09:17:00.648Z"
   },
   {
    "duration": 89,
    "start_time": "2021-06-22T09:17:00.769Z"
   },
   {
    "duration": 45,
    "start_time": "2021-06-22T09:17:00.860Z"
   },
   {
    "duration": 13,
    "start_time": "2021-06-22T09:17:00.907Z"
   },
   {
    "duration": 3,
    "start_time": "2021-06-22T09:17:00.923Z"
   },
   {
    "duration": 24,
    "start_time": "2021-06-22T09:17:00.929Z"
   },
   {
    "duration": 36,
    "start_time": "2021-06-22T09:17:00.955Z"
   },
   {
    "duration": 7,
    "start_time": "2021-06-22T09:17:00.993Z"
   },
   {
    "duration": 391,
    "start_time": "2021-06-22T09:17:01.002Z"
   },
   {
    "duration": 3,
    "start_time": "2021-06-22T09:17:01.395Z"
   },
   {
    "duration": 101,
    "start_time": "2021-06-22T09:17:01.484Z"
   },
   {
    "duration": 10,
    "start_time": "2021-06-22T09:17:01.587Z"
   },
   {
    "duration": 9,
    "start_time": "2021-06-22T09:17:01.598Z"
   },
   {
    "duration": 11,
    "start_time": "2021-06-22T09:17:01.608Z"
   },
   {
    "duration": 10,
    "start_time": "2021-06-22T09:17:01.621Z"
   },
   {
    "duration": 8,
    "start_time": "2021-06-22T09:17:01.632Z"
   },
   {
    "duration": 70,
    "start_time": "2021-06-22T09:17:01.642Z"
   },
   {
    "duration": 1334,
    "start_time": "2021-06-22T09:17:00.379Z"
   },
   {
    "duration": 1331,
    "start_time": "2021-06-22T09:17:00.384Z"
   },
   {
    "duration": 1036,
    "start_time": "2021-06-22T09:17:36.746Z"
   },
   {
    "duration": 360,
    "start_time": "2021-06-22T09:17:37.785Z"
   },
   {
    "duration": 123,
    "start_time": "2021-06-22T09:17:38.149Z"
   },
   {
    "duration": 115,
    "start_time": "2021-06-22T09:17:38.273Z"
   },
   {
    "duration": 79,
    "start_time": "2021-06-22T09:17:38.390Z"
   },
   {
    "duration": 44,
    "start_time": "2021-06-22T09:17:38.471Z"
   },
   {
    "duration": 11,
    "start_time": "2021-06-22T09:17:38.518Z"
   },
   {
    "duration": 3,
    "start_time": "2021-06-22T09:17:38.531Z"
   },
   {
    "duration": 18,
    "start_time": "2021-06-22T09:17:38.535Z"
   },
   {
    "duration": 36,
    "start_time": "2021-06-22T09:17:38.555Z"
   },
   {
    "duration": 9,
    "start_time": "2021-06-22T09:17:38.593Z"
   },
   {
    "duration": 395,
    "start_time": "2021-06-22T09:17:38.604Z"
   },
   {
    "duration": 4,
    "start_time": "2021-06-22T09:17:39.086Z"
   },
   {
    "duration": 92,
    "start_time": "2021-06-22T09:17:39.093Z"
   },
   {
    "duration": 9,
    "start_time": "2021-06-22T09:17:39.187Z"
   },
   {
    "duration": 10,
    "start_time": "2021-06-22T09:17:39.197Z"
   },
   {
    "duration": 24,
    "start_time": "2021-06-22T09:17:39.209Z"
   },
   {
    "duration": 5,
    "start_time": "2021-06-22T09:17:39.235Z"
   },
   {
    "duration": 4,
    "start_time": "2021-06-22T09:17:39.242Z"
   },
   {
    "duration": 41,
    "start_time": "2021-06-22T09:17:39.248Z"
   },
   {
    "duration": 3,
    "start_time": "2021-06-22T09:17:39.291Z"
   },
   {
    "duration": 6,
    "start_time": "2021-06-22T09:17:39.297Z"
   },
   {
    "duration": 1136,
    "start_time": "2021-06-22T09:19:00.869Z"
   },
   {
    "duration": 373,
    "start_time": "2021-06-22T09:19:02.006Z"
   },
   {
    "duration": 122,
    "start_time": "2021-06-22T09:19:02.382Z"
   },
   {
    "duration": 115,
    "start_time": "2021-06-22T09:19:02.505Z"
   },
   {
    "duration": 87,
    "start_time": "2021-06-22T09:19:02.622Z"
   },
   {
    "duration": 33,
    "start_time": "2021-06-22T09:19:02.711Z"
   },
   {
    "duration": 11,
    "start_time": "2021-06-22T09:19:02.745Z"
   },
   {
    "duration": 26,
    "start_time": "2021-06-22T09:19:02.759Z"
   },
   {
    "duration": 20,
    "start_time": "2021-06-22T09:19:02.788Z"
   },
   {
    "duration": 16,
    "start_time": "2021-06-22T09:19:02.810Z"
   },
   {
    "duration": 9,
    "start_time": "2021-06-22T09:19:02.827Z"
   },
   {
    "duration": 366,
    "start_time": "2021-06-22T09:19:02.837Z"
   },
   {
    "duration": 81,
    "start_time": "2021-06-22T09:19:03.205Z"
   },
   {
    "duration": 8,
    "start_time": "2021-06-22T09:19:03.289Z"
   },
   {
    "duration": 14,
    "start_time": "2021-06-22T09:19:03.385Z"
   },
   {
    "duration": 7,
    "start_time": "2021-06-22T09:19:03.401Z"
   },
   {
    "duration": 12,
    "start_time": "2021-06-22T09:19:03.409Z"
   },
   {
    "duration": 11,
    "start_time": "2021-06-22T09:19:03.423Z"
   },
   {
    "duration": 4,
    "start_time": "2021-06-22T09:19:03.436Z"
   },
   {
    "duration": 495,
    "start_time": "2021-06-22T09:19:03.442Z"
   },
   {
    "duration": 3,
    "start_time": "2021-06-22T09:19:03.938Z"
   },
   {
    "duration": 17,
    "start_time": "2021-06-22T09:19:03.943Z"
   },
   {
    "duration": 4,
    "start_time": "2021-06-22T09:19:23.679Z"
   },
   {
    "duration": 4,
    "start_time": "2021-06-22T09:22:11.701Z"
   },
   {
    "duration": 1054,
    "start_time": "2021-06-22T10:07:07.319Z"
   },
   {
    "duration": 360,
    "start_time": "2021-06-22T10:07:08.374Z"
   },
   {
    "duration": 133,
    "start_time": "2021-06-22T10:07:08.736Z"
   },
   {
    "duration": 138,
    "start_time": "2021-06-22T10:07:08.872Z"
   },
   {
    "duration": 91,
    "start_time": "2021-06-22T10:07:09.013Z"
   },
   {
    "duration": 39,
    "start_time": "2021-06-22T10:07:09.106Z"
   },
   {
    "duration": 39,
    "start_time": "2021-06-22T10:07:09.147Z"
   },
   {
    "duration": 4,
    "start_time": "2021-06-22T10:07:09.189Z"
   },
   {
    "duration": 29,
    "start_time": "2021-06-22T10:07:09.195Z"
   },
   {
    "duration": 22,
    "start_time": "2021-06-22T10:07:09.227Z"
   },
   {
    "duration": 13,
    "start_time": "2021-06-22T10:07:09.251Z"
   },
   {
    "duration": 419,
    "start_time": "2021-06-22T10:07:09.266Z"
   },
   {
    "duration": 7,
    "start_time": "2021-06-22T10:07:09.688Z"
   },
   {
    "duration": 5,
    "start_time": "2021-06-22T10:07:09.786Z"
   },
   {
    "duration": 11,
    "start_time": "2021-06-22T10:07:09.793Z"
   },
   {
    "duration": 5,
    "start_time": "2021-06-22T10:07:09.805Z"
   },
   {
    "duration": 7,
    "start_time": "2021-06-22T10:07:09.812Z"
   },
   {
    "duration": 5,
    "start_time": "2021-06-22T10:07:09.820Z"
   },
   {
    "duration": 4,
    "start_time": "2021-06-22T10:07:09.826Z"
   },
   {
    "duration": 92,
    "start_time": "2021-06-22T10:07:09.831Z"
   },
   {
    "duration": 1437,
    "start_time": "2021-06-22T10:07:08.488Z"
   },
   {
    "duration": 1433,
    "start_time": "2021-06-22T10:07:08.493Z"
   },
   {
    "duration": 944,
    "start_time": "2021-06-22T10:07:46.247Z"
   },
   {
    "duration": 353,
    "start_time": "2021-06-22T10:07:47.193Z"
   },
   {
    "duration": 123,
    "start_time": "2021-06-22T10:07:47.548Z"
   },
   {
    "duration": 112,
    "start_time": "2021-06-22T10:07:47.673Z"
   },
   {
    "duration": 76,
    "start_time": "2021-06-22T10:07:47.786Z"
   },
   {
    "duration": 49,
    "start_time": "2021-06-22T10:07:47.864Z"
   },
   {
    "duration": 11,
    "start_time": "2021-06-22T10:07:47.915Z"
   },
   {
    "duration": 3,
    "start_time": "2021-06-22T10:07:47.928Z"
   },
   {
    "duration": 20,
    "start_time": "2021-06-22T10:07:47.934Z"
   },
   {
    "duration": 37,
    "start_time": "2021-06-22T10:07:47.955Z"
   },
   {
    "duration": 7,
    "start_time": "2021-06-22T10:07:47.994Z"
   },
   {
    "duration": 392,
    "start_time": "2021-06-22T10:07:48.003Z"
   },
   {
    "duration": 87,
    "start_time": "2021-06-22T10:07:48.397Z"
   },
   {
    "duration": 94,
    "start_time": "2021-06-22T10:07:48.492Z"
   },
   {
    "duration": 12,
    "start_time": "2021-06-22T10:07:48.588Z"
   },
   {
    "duration": 3,
    "start_time": "2021-06-22T10:07:48.601Z"
   },
   {
    "duration": 6,
    "start_time": "2021-06-22T10:07:48.605Z"
   },
   {
    "duration": 5,
    "start_time": "2021-06-22T10:07:48.612Z"
   },
   {
    "duration": 3,
    "start_time": "2021-06-22T10:07:48.619Z"
   },
   {
    "duration": 395,
    "start_time": "2021-06-22T10:07:48.623Z"
   },
   {
    "duration": 1408,
    "start_time": "2021-06-22T10:07:47.612Z"
   },
   {
    "duration": 1406,
    "start_time": "2021-06-22T10:07:47.615Z"
   },
   {
    "duration": 1251,
    "start_time": "2021-06-22T10:08:36.644Z"
   },
   {
    "duration": 355,
    "start_time": "2021-06-22T10:08:37.897Z"
   },
   {
    "duration": 117,
    "start_time": "2021-06-22T10:08:38.254Z"
   },
   {
    "duration": 117,
    "start_time": "2021-06-22T10:08:38.373Z"
   },
   {
    "duration": 77,
    "start_time": "2021-06-22T10:08:38.492Z"
   },
   {
    "duration": 41,
    "start_time": "2021-06-22T10:08:38.571Z"
   },
   {
    "duration": 11,
    "start_time": "2021-06-22T10:08:38.614Z"
   },
   {
    "duration": 3,
    "start_time": "2021-06-22T10:08:38.627Z"
   },
   {
    "duration": 19,
    "start_time": "2021-06-22T10:08:38.632Z"
   },
   {
    "duration": 11,
    "start_time": "2021-06-22T10:08:38.653Z"
   },
   {
    "duration": 22,
    "start_time": "2021-06-22T10:08:38.665Z"
   },
   {
    "duration": 406,
    "start_time": "2021-06-22T10:08:38.689Z"
   },
   {
    "duration": 4,
    "start_time": "2021-06-22T10:08:39.097Z"
   },
   {
    "duration": 6,
    "start_time": "2021-06-22T10:08:39.188Z"
   },
   {
    "duration": 9,
    "start_time": "2021-06-22T10:08:39.285Z"
   },
   {
    "duration": 4,
    "start_time": "2021-06-22T10:08:39.296Z"
   },
   {
    "duration": 6,
    "start_time": "2021-06-22T10:08:39.301Z"
   },
   {
    "duration": 5,
    "start_time": "2021-06-22T10:08:39.308Z"
   },
   {
    "duration": 4,
    "start_time": "2021-06-22T10:08:39.315Z"
   },
   {
    "duration": 373,
    "start_time": "2021-06-22T10:08:39.320Z"
   },
   {
    "duration": -3186,
    "start_time": "2021-06-22T10:08:42.881Z"
   },
   {
    "duration": -3189,
    "start_time": "2021-06-22T10:08:42.884Z"
   },
   {
    "duration": 1049,
    "start_time": "2021-06-22T10:10:28.449Z"
   },
   {
    "duration": 362,
    "start_time": "2021-06-22T10:10:29.499Z"
   },
   {
    "duration": 121,
    "start_time": "2021-06-22T10:10:29.863Z"
   },
   {
    "duration": 127,
    "start_time": "2021-06-22T10:10:29.986Z"
   },
   {
    "duration": 89,
    "start_time": "2021-06-22T10:10:30.115Z"
   },
   {
    "duration": 37,
    "start_time": "2021-06-22T10:10:30.206Z"
   },
   {
    "duration": 12,
    "start_time": "2021-06-22T10:10:30.244Z"
   },
   {
    "duration": 27,
    "start_time": "2021-06-22T10:10:30.258Z"
   },
   {
    "duration": 39,
    "start_time": "2021-06-22T10:10:30.287Z"
   },
   {
    "duration": 22,
    "start_time": "2021-06-22T10:10:30.328Z"
   },
   {
    "duration": 18,
    "start_time": "2021-06-22T10:10:30.352Z"
   },
   {
    "duration": 422,
    "start_time": "2021-06-22T10:10:30.372Z"
   },
   {
    "duration": 88,
    "start_time": "2021-06-22T10:10:30.796Z"
   },
   {
    "duration": 97,
    "start_time": "2021-06-22T10:10:30.888Z"
   },
   {
    "duration": 9,
    "start_time": "2021-06-22T10:10:30.987Z"
   },
   {
    "duration": 15,
    "start_time": "2021-06-22T10:10:30.998Z"
   },
   {
    "duration": 10,
    "start_time": "2021-06-22T10:10:31.014Z"
   },
   {
    "duration": 9,
    "start_time": "2021-06-22T10:10:31.025Z"
   },
   {
    "duration": 9,
    "start_time": "2021-06-22T10:10:31.035Z"
   },
   {
    "duration": 560,
    "start_time": "2021-06-22T10:10:31.045Z"
   },
   {
    "duration": 316,
    "start_time": "2021-06-22T10:10:31.607Z"
   },
   {
    "duration": 1453,
    "start_time": "2021-06-22T10:10:30.471Z"
   },
   {
    "duration": 5,
    "start_time": "2021-06-22T10:11:17.665Z"
   },
   {
    "duration": 5,
    "start_time": "2021-06-22T10:11:25.654Z"
   },
   {
    "duration": 1080,
    "start_time": "2021-06-22T10:11:56.205Z"
   },
   {
    "duration": 362,
    "start_time": "2021-06-22T10:11:57.286Z"
   },
   {
    "duration": 117,
    "start_time": "2021-06-22T10:11:57.650Z"
   },
   {
    "duration": 117,
    "start_time": "2021-06-22T10:11:57.769Z"
   },
   {
    "duration": 80,
    "start_time": "2021-06-22T10:11:57.887Z"
   },
   {
    "duration": 46,
    "start_time": "2021-06-22T10:11:57.969Z"
   },
   {
    "duration": 12,
    "start_time": "2021-06-22T10:11:58.016Z"
   },
   {
    "duration": 4,
    "start_time": "2021-06-22T10:11:58.030Z"
   },
   {
    "duration": 19,
    "start_time": "2021-06-22T10:11:58.036Z"
   },
   {
    "duration": 36,
    "start_time": "2021-06-22T10:11:58.057Z"
   },
   {
    "duration": 7,
    "start_time": "2021-06-22T10:11:58.095Z"
   },
   {
    "duration": 388,
    "start_time": "2021-06-22T10:11:58.103Z"
   },
   {
    "duration": 91,
    "start_time": "2021-06-22T10:11:58.493Z"
   },
   {
    "duration": 7,
    "start_time": "2021-06-22T10:11:58.587Z"
   },
   {
    "duration": 9,
    "start_time": "2021-06-22T10:11:58.685Z"
   },
   {
    "duration": 4,
    "start_time": "2021-06-22T10:11:58.696Z"
   },
   {
    "duration": 8,
    "start_time": "2021-06-22T10:11:58.701Z"
   },
   {
    "duration": 5,
    "start_time": "2021-06-22T10:11:58.710Z"
   },
   {
    "duration": 3,
    "start_time": "2021-06-22T10:11:58.717Z"
   },
   {
    "duration": 513,
    "start_time": "2021-06-22T10:11:58.722Z"
   },
   {
    "duration": 5,
    "start_time": "2021-06-22T10:11:59.237Z"
   },
   {
    "duration": 7,
    "start_time": "2021-06-22T10:11:59.243Z"
   },
   {
    "duration": 268,
    "start_time": "2021-06-22T10:18:14.697Z"
   },
   {
    "duration": 200,
    "start_time": "2021-06-22T10:19:38.989Z"
   },
   {
    "duration": 1027,
    "start_time": "2021-06-22T10:20:08.668Z"
   },
   {
    "duration": 340,
    "start_time": "2021-06-22T11:44:53.084Z"
   },
   {
    "duration": 4,
    "start_time": "2021-06-22T11:45:23.982Z"
   },
   {
    "duration": 5,
    "start_time": "2021-06-22T11:45:59.126Z"
   },
   {
    "duration": 3,
    "start_time": "2021-06-22T11:46:17.992Z"
   },
   {
    "duration": 193,
    "start_time": "2021-06-22T12:02:04.901Z"
   },
   {
    "duration": 769,
    "start_time": "2021-06-22T12:03:08.876Z"
   },
   {
    "duration": 8,
    "start_time": "2021-06-22T12:20:30.997Z"
   },
   {
    "duration": 5,
    "start_time": "2021-06-22T12:21:25.510Z"
   },
   {
    "duration": 3,
    "start_time": "2021-06-22T12:23:13.953Z"
   },
   {
    "duration": 8,
    "start_time": "2021-06-22T12:23:14.809Z"
   },
   {
    "duration": 5,
    "start_time": "2021-06-22T12:23:25.426Z"
   },
   {
    "duration": 3,
    "start_time": "2021-06-22T12:24:17.240Z"
   },
   {
    "duration": 3,
    "start_time": "2021-06-22T12:24:36.894Z"
   },
   {
    "duration": 4,
    "start_time": "2021-06-22T12:48:52.947Z"
   },
   {
    "duration": 3,
    "start_time": "2021-06-22T12:49:03.811Z"
   },
   {
    "duration": 3,
    "start_time": "2021-06-22T13:05:06.313Z"
   },
   {
    "duration": 4,
    "start_time": "2021-06-22T13:06:00.782Z"
   },
   {
    "duration": 78,
    "start_time": "2021-06-22T13:27:05.564Z"
   },
   {
    "duration": 4,
    "start_time": "2021-06-22T13:27:53.433Z"
   },
   {
    "duration": 5,
    "start_time": "2021-06-22T13:28:26.762Z"
   },
   {
    "duration": 1107,
    "start_time": "2021-06-22T18:12:49.863Z"
   },
   {
    "duration": 352,
    "start_time": "2021-06-22T18:12:52.115Z"
   },
   {
    "duration": 118,
    "start_time": "2021-06-22T18:12:52.985Z"
   },
   {
    "duration": 104,
    "start_time": "2021-06-22T18:12:53.514Z"
   },
   {
    "duration": 75,
    "start_time": "2021-06-22T18:12:53.785Z"
   },
   {
    "duration": 36,
    "start_time": "2021-06-22T18:12:54.060Z"
   },
   {
    "duration": 16,
    "start_time": "2021-06-22T18:12:54.489Z"
   },
   {
    "duration": 3,
    "start_time": "2021-06-22T18:12:55.082Z"
   },
   {
    "duration": 18,
    "start_time": "2021-06-22T18:12:55.241Z"
   },
   {
    "duration": 12,
    "start_time": "2021-06-22T18:12:55.679Z"
   },
   {
    "duration": 5,
    "start_time": "2021-06-22T18:12:57.925Z"
   },
   {
    "duration": 264,
    "start_time": "2021-06-22T18:12:59.672Z"
   },
   {
    "duration": 1041,
    "start_time": "2021-06-22T19:23:49.990Z"
   },
   {
    "duration": 351,
    "start_time": "2021-06-22T19:23:52.324Z"
   },
   {
    "duration": 113,
    "start_time": "2021-06-22T19:23:52.826Z"
   },
   {
    "duration": 114,
    "start_time": "2021-06-22T19:23:53.233Z"
   },
   {
    "duration": 76,
    "start_time": "2021-06-22T19:23:53.507Z"
   },
   {
    "duration": 35,
    "start_time": "2021-06-22T19:23:53.786Z"
   },
   {
    "duration": 12,
    "start_time": "2021-06-22T19:23:55.072Z"
   },
   {
    "duration": 3,
    "start_time": "2021-06-22T19:23:55.784Z"
   },
   {
    "duration": 18,
    "start_time": "2021-06-22T19:23:55.936Z"
   },
   {
    "duration": 12,
    "start_time": "2021-06-22T19:23:56.705Z"
   },
   {
    "duration": 6,
    "start_time": "2021-06-22T19:23:58.787Z"
   },
   {
    "duration": 424,
    "start_time": "2021-06-22T19:23:59.777Z"
   },
   {
    "duration": 407,
    "start_time": "2021-06-22T19:24:11.979Z"
   },
   {
    "duration": 3,
    "start_time": "2021-06-22T19:24:13.698Z"
   },
   {
    "duration": 4,
    "start_time": "2021-06-22T19:24:14.907Z"
   },
   {
    "duration": 1029,
    "start_time": "2021-06-22T19:25:36.856Z"
   },
   {
    "duration": 353,
    "start_time": "2021-06-22T19:25:38.887Z"
   },
   {
    "duration": 114,
    "start_time": "2021-06-22T19:25:40.233Z"
   },
   {
    "duration": 103,
    "start_time": "2021-06-22T19:25:41.407Z"
   },
   {
    "duration": 78,
    "start_time": "2021-06-22T19:25:42.895Z"
   },
   {
    "duration": 35,
    "start_time": "2021-06-22T19:25:43.398Z"
   },
   {
    "duration": 12,
    "start_time": "2021-06-22T19:25:43.816Z"
   },
   {
    "duration": 4,
    "start_time": "2021-06-22T19:25:44.367Z"
   },
   {
    "duration": 18,
    "start_time": "2021-06-22T19:25:44.516Z"
   },
   {
    "duration": 12,
    "start_time": "2021-06-22T19:25:44.929Z"
   },
   {
    "duration": 6,
    "start_time": "2021-06-22T19:25:47.567Z"
   },
   {
    "duration": 389,
    "start_time": "2021-06-22T19:25:48.305Z"
   },
   {
    "duration": 3,
    "start_time": "2021-06-22T19:25:48.906Z"
   },
   {
    "duration": 5,
    "start_time": "2021-06-22T19:25:49.815Z"
   },
   {
    "duration": 4,
    "start_time": "2021-06-22T19:25:50.400Z"
   },
   {
    "duration": 9,
    "start_time": "2021-06-22T19:25:51.169Z"
   },
   {
    "duration": 3,
    "start_time": "2021-06-22T19:25:52.727Z"
   },
   {
    "duration": 9,
    "start_time": "2021-06-22T19:25:53.247Z"
   },
   {
    "duration": 5,
    "start_time": "2021-06-22T19:25:53.815Z"
   },
   {
    "duration": 3,
    "start_time": "2021-06-22T19:25:54.327Z"
   },
   {
    "duration": 63,
    "start_time": "2021-06-22T19:25:56.344Z"
   },
   {
    "duration": 1004,
    "start_time": "2021-06-22T19:26:38.741Z"
   },
   {
    "duration": 357,
    "start_time": "2021-06-22T19:26:40.956Z"
   },
   {
    "duration": 123,
    "start_time": "2021-06-22T19:26:41.315Z"
   },
   {
    "duration": 103,
    "start_time": "2021-06-22T19:26:41.508Z"
   },
   {
    "duration": 76,
    "start_time": "2021-06-22T19:26:41.780Z"
   },
   {
    "duration": 36,
    "start_time": "2021-06-22T19:26:42.047Z"
   },
   {
    "duration": 13,
    "start_time": "2021-06-22T19:26:42.452Z"
   },
   {
    "duration": 3,
    "start_time": "2021-06-22T19:26:42.739Z"
   },
   {
    "duration": 19,
    "start_time": "2021-06-22T19:26:42.869Z"
   },
   {
    "duration": 12,
    "start_time": "2021-06-22T19:26:43.283Z"
   },
   {
    "duration": 5,
    "start_time": "2021-06-22T19:26:43.980Z"
   },
   {
    "duration": 395,
    "start_time": "2021-06-22T19:26:44.104Z"
   },
   {
    "duration": 84,
    "start_time": "2021-06-22T19:26:44.502Z"
   },
   {
    "duration": 97,
    "start_time": "2021-06-22T19:26:44.589Z"
   },
   {
    "duration": 4,
    "start_time": "2021-06-22T19:26:44.688Z"
   },
   {
    "duration": 9,
    "start_time": "2021-06-22T19:26:46.070Z"
   },
   {
    "duration": 3,
    "start_time": "2021-06-22T19:26:49.604Z"
   },
   {
    "duration": 4,
    "start_time": "2021-06-22T19:26:50.198Z"
   },
   {
    "duration": 4,
    "start_time": "2021-06-22T19:26:52.997Z"
   },
   {
    "duration": 3,
    "start_time": "2021-06-22T19:27:11.431Z"
   },
   {
    "duration": 58,
    "start_time": "2021-06-22T19:27:12.314Z"
   },
   {
    "duration": 1055,
    "start_time": "2021-06-22T19:27:44.880Z"
   },
   {
    "duration": 366,
    "start_time": "2021-06-22T19:27:45.937Z"
   },
   {
    "duration": 125,
    "start_time": "2021-06-22T19:27:46.308Z"
   },
   {
    "duration": 105,
    "start_time": "2021-06-22T19:27:46.435Z"
   },
   {
    "duration": 89,
    "start_time": "2021-06-22T19:27:46.542Z"
   },
   {
    "duration": 33,
    "start_time": "2021-06-22T19:27:46.633Z"
   },
   {
    "duration": 25,
    "start_time": "2021-06-22T19:27:46.669Z"
   },
   {
    "duration": 3,
    "start_time": "2021-06-22T19:27:46.696Z"
   },
   {
    "duration": 20,
    "start_time": "2021-06-22T19:27:46.700Z"
   },
   {
    "duration": 12,
    "start_time": "2021-06-22T19:27:46.722Z"
   },
   {
    "duration": 7,
    "start_time": "2021-06-22T19:27:46.736Z"
   },
   {
    "duration": 446,
    "start_time": "2021-06-22T19:27:46.745Z"
   },
   {
    "duration": 93,
    "start_time": "2021-06-22T19:27:47.193Z"
   },
   {
    "duration": 97,
    "start_time": "2021-06-22T19:27:47.288Z"
   },
   {
    "duration": 4,
    "start_time": "2021-06-22T19:27:47.387Z"
   },
   {
    "duration": 10,
    "start_time": "2021-06-22T19:27:47.393Z"
   },
   {
    "duration": 6,
    "start_time": "2021-06-22T19:27:47.405Z"
   },
   {
    "duration": 5,
    "start_time": "2021-06-22T19:27:47.412Z"
   },
   {
    "duration": 6,
    "start_time": "2021-06-22T19:27:47.419Z"
   },
   {
    "duration": 4,
    "start_time": "2021-06-22T19:27:47.427Z"
   },
   {
    "duration": 426,
    "start_time": "2021-06-22T19:27:47.432Z"
   },
   {
    "duration": 2427,
    "start_time": "2021-06-22T19:27:45.433Z"
   },
   {
    "duration": 2423,
    "start_time": "2021-06-22T19:27:45.437Z"
   },
   {
    "duration": 2422,
    "start_time": "2021-06-22T19:27:45.440Z"
   },
   {
    "duration": 2420,
    "start_time": "2021-06-22T19:27:45.443Z"
   },
   {
    "duration": 2417,
    "start_time": "2021-06-22T19:27:45.446Z"
   },
   {
    "duration": 964,
    "start_time": "2021-06-22T19:29:41.932Z"
   },
   {
    "duration": 344,
    "start_time": "2021-06-22T19:29:42.898Z"
   },
   {
    "duration": 120,
    "start_time": "2021-06-22T19:29:43.244Z"
   },
   {
    "duration": 105,
    "start_time": "2021-06-22T19:29:43.366Z"
   },
   {
    "duration": 82,
    "start_time": "2021-06-22T19:29:43.472Z"
   },
   {
    "duration": 41,
    "start_time": "2021-06-22T19:29:43.556Z"
   },
   {
    "duration": 11,
    "start_time": "2021-06-22T19:29:43.598Z"
   },
   {
    "duration": 3,
    "start_time": "2021-06-22T19:29:43.611Z"
   },
   {
    "duration": 19,
    "start_time": "2021-06-22T19:29:43.616Z"
   },
   {
    "duration": 10,
    "start_time": "2021-06-22T19:29:43.637Z"
   },
   {
    "duration": 37,
    "start_time": "2021-06-22T19:29:43.649Z"
   },
   {
    "duration": 404,
    "start_time": "2021-06-22T19:29:43.687Z"
   },
   {
    "duration": 92,
    "start_time": "2021-06-22T19:29:44.094Z"
   },
   {
    "duration": 99,
    "start_time": "2021-06-22T19:29:44.189Z"
   },
   {
    "duration": 4,
    "start_time": "2021-06-22T19:29:44.290Z"
   },
   {
    "duration": 10,
    "start_time": "2021-06-22T19:29:44.296Z"
   },
   {
    "duration": 4,
    "start_time": "2021-06-22T19:29:44.308Z"
   },
   {
    "duration": 6,
    "start_time": "2021-06-22T19:29:44.314Z"
   },
   {
    "duration": 7,
    "start_time": "2021-06-22T19:29:44.321Z"
   },
   {
    "duration": 4,
    "start_time": "2021-06-22T19:29:44.329Z"
   },
   {
    "duration": 442,
    "start_time": "2021-06-22T19:29:44.334Z"
   },
   {
    "duration": 7,
    "start_time": "2021-06-22T19:29:44.777Z"
   },
   {
    "duration": 7,
    "start_time": "2021-06-22T19:29:44.787Z"
   },
   {
    "duration": 4,
    "start_time": "2021-06-22T19:29:44.796Z"
   },
   {
    "duration": 5,
    "start_time": "2021-06-22T19:29:44.801Z"
   },
   {
    "duration": 7,
    "start_time": "2021-06-22T19:29:44.808Z"
   },
   {
    "duration": 1541,
    "start_time": "2021-06-23T15:55:33.850Z"
   },
   {
    "duration": 439,
    "start_time": "2021-06-23T15:55:35.394Z"
   },
   {
    "duration": 167,
    "start_time": "2021-06-23T15:55:35.836Z"
   },
   {
    "duration": 194,
    "start_time": "2021-06-23T15:55:36.006Z"
   },
   {
    "duration": 133,
    "start_time": "2021-06-23T15:55:36.202Z"
   },
   {
    "duration": 58,
    "start_time": "2021-06-23T15:55:36.337Z"
   },
   {
    "duration": 18,
    "start_time": "2021-06-23T15:55:36.397Z"
   },
   {
    "duration": 4,
    "start_time": "2021-06-23T15:55:36.419Z"
   },
   {
    "duration": 61,
    "start_time": "2021-06-23T15:55:36.426Z"
   },
   {
    "duration": 16,
    "start_time": "2021-06-23T15:55:36.490Z"
   },
   {
    "duration": 13,
    "start_time": "2021-06-23T15:55:36.509Z"
   },
   {
    "duration": 477,
    "start_time": "2021-06-23T15:55:36.525Z"
   },
   {
    "duration": 82,
    "start_time": "2021-06-23T15:55:37.005Z"
   },
   {
    "duration": 99,
    "start_time": "2021-06-23T15:55:37.091Z"
   },
   {
    "duration": 8,
    "start_time": "2021-06-23T15:55:37.193Z"
   },
   {
    "duration": 16,
    "start_time": "2021-06-23T15:55:37.204Z"
   },
   {
    "duration": 10,
    "start_time": "2021-06-23T15:55:37.223Z"
   },
   {
    "duration": 11,
    "start_time": "2021-06-23T15:55:37.236Z"
   },
   {
    "duration": 35,
    "start_time": "2021-06-23T15:55:37.249Z"
   },
   {
    "duration": 7,
    "start_time": "2021-06-23T15:55:37.287Z"
   },
   {
    "duration": 714,
    "start_time": "2021-06-23T15:55:37.296Z"
   },
   {
    "duration": 6,
    "start_time": "2021-06-23T15:55:38.013Z"
   },
   {
    "duration": 12,
    "start_time": "2021-06-23T15:55:38.026Z"
   },
   {
    "duration": 6,
    "start_time": "2021-06-23T15:55:38.041Z"
   },
   {
    "duration": 4,
    "start_time": "2021-06-23T15:55:38.083Z"
   },
   {
    "duration": 9,
    "start_time": "2021-06-23T15:55:38.090Z"
   },
   {
    "duration": 16,
    "start_time": "2021-06-23T15:55:38.102Z"
   },
   {
    "duration": 6,
    "start_time": "2021-06-23T15:59:25.067Z"
   },
   {
    "duration": 5,
    "start_time": "2021-06-23T15:59:44.635Z"
   },
   {
    "duration": 6,
    "start_time": "2021-06-23T16:09:46.778Z"
   },
   {
    "duration": 6,
    "start_time": "2021-06-23T16:10:30.996Z"
   },
   {
    "duration": 1393,
    "start_time": "2021-06-23T16:13:28.090Z"
   },
   {
    "duration": 449,
    "start_time": "2021-06-23T16:13:29.486Z"
   },
   {
    "duration": 172,
    "start_time": "2021-06-23T16:13:29.938Z"
   },
   {
    "duration": 201,
    "start_time": "2021-06-23T16:13:30.114Z"
   },
   {
    "duration": 136,
    "start_time": "2021-06-23T16:13:30.318Z"
   },
   {
    "duration": 61,
    "start_time": "2021-06-23T16:13:30.457Z"
   },
   {
    "duration": 17,
    "start_time": "2021-06-23T16:13:30.521Z"
   },
   {
    "duration": 41,
    "start_time": "2021-06-23T16:13:30.542Z"
   },
   {
    "duration": 29,
    "start_time": "2021-06-23T16:13:30.587Z"
   },
   {
    "duration": 24,
    "start_time": "2021-06-23T16:13:30.619Z"
   },
   {
    "duration": 20,
    "start_time": "2021-06-23T16:13:30.646Z"
   },
   {
    "duration": 431,
    "start_time": "2021-06-23T16:13:30.669Z"
   },
   {
    "duration": 8,
    "start_time": "2021-06-23T16:13:31.182Z"
   },
   {
    "duration": 99,
    "start_time": "2021-06-23T16:13:31.194Z"
   },
   {
    "duration": 16,
    "start_time": "2021-06-23T16:13:31.296Z"
   },
   {
    "duration": 24,
    "start_time": "2021-06-23T16:13:31.314Z"
   },
   {
    "duration": 18,
    "start_time": "2021-06-23T16:13:31.341Z"
   },
   {
    "duration": 11,
    "start_time": "2021-06-23T16:13:31.361Z"
   },
   {
    "duration": 13,
    "start_time": "2021-06-23T16:13:31.384Z"
   },
   {
    "duration": 10,
    "start_time": "2021-06-23T16:13:31.400Z"
   },
   {
    "duration": 430,
    "start_time": "2021-06-23T16:13:31.413Z"
   },
   {
    "duration": 2,
    "start_time": "2021-06-23T16:13:31.844Z"
   },
   {
    "duration": 2,
    "start_time": "2021-06-23T16:13:31.846Z"
   },
   {
    "duration": 2,
    "start_time": "2021-06-23T16:13:31.847Z"
   },
   {
    "duration": 2,
    "start_time": "2021-06-23T16:13:31.848Z"
   },
   {
    "duration": 1,
    "start_time": "2021-06-23T16:13:31.850Z"
   },
   {
    "duration": -4,
    "start_time": "2021-06-23T16:13:31.856Z"
   },
   {
    "duration": -6,
    "start_time": "2021-06-23T16:13:31.859Z"
   },
   {
    "duration": -7,
    "start_time": "2021-06-23T16:13:31.861Z"
   },
   {
    "duration": -7,
    "start_time": "2021-06-23T16:13:31.863Z"
   },
   {
    "duration": -6,
    "start_time": "2021-06-23T16:13:31.864Z"
   },
   {
    "duration": 1574,
    "start_time": "2021-06-23T16:16:00.384Z"
   },
   {
    "duration": 696,
    "start_time": "2021-06-23T16:16:01.962Z"
   },
   {
    "duration": 262,
    "start_time": "2021-06-23T16:16:02.662Z"
   },
   {
    "duration": 273,
    "start_time": "2021-06-23T16:16:02.928Z"
   },
   {
    "duration": 195,
    "start_time": "2021-06-23T16:16:03.204Z"
   },
   {
    "duration": 85,
    "start_time": "2021-06-23T16:16:03.403Z"
   },
   {
    "duration": 21,
    "start_time": "2021-06-23T16:16:03.491Z"
   },
   {
    "duration": 5,
    "start_time": "2021-06-23T16:16:03.518Z"
   },
   {
    "duration": 67,
    "start_time": "2021-06-23T16:16:03.528Z"
   },
   {
    "duration": 24,
    "start_time": "2021-06-23T16:16:03.599Z"
   },
   {
    "duration": 21,
    "start_time": "2021-06-23T16:16:03.626Z"
   },
   {
    "duration": 464,
    "start_time": "2021-06-23T16:16:03.650Z"
   },
   {
    "duration": 6,
    "start_time": "2021-06-23T16:16:04.186Z"
   },
   {
    "duration": 8,
    "start_time": "2021-06-23T16:16:04.284Z"
   },
   {
    "duration": 6,
    "start_time": "2021-06-23T16:16:04.295Z"
   },
   {
    "duration": 8,
    "start_time": "2021-06-23T16:16:04.304Z"
   },
   {
    "duration": 6,
    "start_time": "2021-06-23T16:16:04.314Z"
   },
   {
    "duration": 64,
    "start_time": "2021-06-23T16:16:04.322Z"
   },
   {
    "duration": 12,
    "start_time": "2021-06-23T16:16:04.388Z"
   },
   {
    "duration": 9,
    "start_time": "2021-06-23T16:16:04.403Z"
   },
   {
    "duration": 9,
    "start_time": "2021-06-23T16:16:04.414Z"
   },
   {
    "duration": 12,
    "start_time": "2021-06-23T16:16:04.425Z"
   },
   {
    "duration": 433,
    "start_time": "2021-06-23T16:16:04.444Z"
   },
   {
    "duration": 3,
    "start_time": "2021-06-23T16:16:04.877Z"
   },
   {
    "duration": -2,
    "start_time": "2021-06-23T16:16:04.883Z"
   },
   {
    "duration": -2,
    "start_time": "2021-06-23T16:16:04.885Z"
   },
   {
    "duration": -3,
    "start_time": "2021-06-23T16:16:04.887Z"
   },
   {
    "duration": -3,
    "start_time": "2021-06-23T16:16:04.888Z"
   },
   {
    "duration": -3,
    "start_time": "2021-06-23T16:16:04.890Z"
   },
   {
    "duration": -3,
    "start_time": "2021-06-23T16:16:04.891Z"
   },
   {
    "duration": -4,
    "start_time": "2021-06-23T16:16:04.893Z"
   },
   {
    "duration": -3,
    "start_time": "2021-06-23T16:16:04.894Z"
   },
   {
    "duration": -10,
    "start_time": "2021-06-23T16:16:04.902Z"
   },
   {
    "duration": 1452,
    "start_time": "2021-06-24T11:09:47.552Z"
   },
   {
    "duration": 462,
    "start_time": "2021-06-24T11:09:49.006Z"
   },
   {
    "duration": 172,
    "start_time": "2021-06-24T11:09:49.471Z"
   },
   {
    "duration": 191,
    "start_time": "2021-06-24T11:09:49.646Z"
   },
   {
    "duration": 130,
    "start_time": "2021-06-24T11:09:49.840Z"
   },
   {
    "duration": 59,
    "start_time": "2021-06-24T11:09:49.973Z"
   },
   {
    "duration": 18,
    "start_time": "2021-06-24T11:09:50.034Z"
   },
   {
    "duration": 4,
    "start_time": "2021-06-24T11:09:50.056Z"
   },
   {
    "duration": 27,
    "start_time": "2021-06-24T11:09:50.063Z"
   },
   {
    "duration": 15,
    "start_time": "2021-06-24T11:09:50.125Z"
   },
   {
    "duration": 25,
    "start_time": "2021-06-24T11:09:50.143Z"
   },
   {
    "duration": 106,
    "start_time": "2021-06-24T11:09:50.171Z"
   },
   {
    "duration": 150,
    "start_time": "2021-06-24T11:09:50.130Z"
   },
   {
    "duration": 146,
    "start_time": "2021-06-24T11:09:50.135Z"
   },
   {
    "duration": 141,
    "start_time": "2021-06-24T11:09:50.142Z"
   },
   {
    "duration": 140,
    "start_time": "2021-06-24T11:09:50.144Z"
   },
   {
    "duration": 133,
    "start_time": "2021-06-24T11:09:50.153Z"
   },
   {
    "duration": 130,
    "start_time": "2021-06-24T11:09:50.157Z"
   },
   {
    "duration": 129,
    "start_time": "2021-06-24T11:09:50.160Z"
   },
   {
    "duration": 128,
    "start_time": "2021-06-24T11:09:50.162Z"
   },
   {
    "duration": 128,
    "start_time": "2021-06-24T11:09:50.164Z"
   },
   {
    "duration": 127,
    "start_time": "2021-06-24T11:09:50.166Z"
   },
   {
    "duration": 128,
    "start_time": "2021-06-24T11:09:50.167Z"
   },
   {
    "duration": 121,
    "start_time": "2021-06-24T11:09:50.175Z"
   },
   {
    "duration": 117,
    "start_time": "2021-06-24T11:09:50.181Z"
   },
   {
    "duration": 116,
    "start_time": "2021-06-24T11:09:50.183Z"
   },
   {
    "duration": 115,
    "start_time": "2021-06-24T11:09:50.185Z"
   },
   {
    "duration": 115,
    "start_time": "2021-06-24T11:09:50.187Z"
   },
   {
    "duration": 107,
    "start_time": "2021-06-24T11:09:50.197Z"
   },
   {
    "duration": 105,
    "start_time": "2021-06-24T11:09:50.200Z"
   },
   {
    "duration": 104,
    "start_time": "2021-06-24T11:09:50.202Z"
   },
   {
    "duration": 103,
    "start_time": "2021-06-24T11:09:50.205Z"
   },
   {
    "duration": 97,
    "start_time": "2021-06-24T11:09:50.212Z"
   },
   {
    "duration": 1491,
    "start_time": "2021-06-24T11:10:57.385Z"
   },
   {
    "duration": 457,
    "start_time": "2021-06-24T11:10:58.878Z"
   },
   {
    "duration": 168,
    "start_time": "2021-06-24T11:10:59.338Z"
   },
   {
    "duration": 201,
    "start_time": "2021-06-24T11:10:59.509Z"
   },
   {
    "duration": 140,
    "start_time": "2021-06-24T11:10:59.713Z"
   },
   {
    "duration": 55,
    "start_time": "2021-06-24T11:10:59.855Z"
   },
   {
    "duration": 18,
    "start_time": "2021-06-24T11:10:59.924Z"
   },
   {
    "duration": 4,
    "start_time": "2021-06-24T11:10:59.947Z"
   },
   {
    "duration": 39,
    "start_time": "2021-06-24T11:10:59.955Z"
   },
   {
    "duration": 41,
    "start_time": "2021-06-24T11:10:59.996Z"
   },
   {
    "duration": 19,
    "start_time": "2021-06-24T11:11:00.039Z"
   },
   {
    "duration": 377,
    "start_time": "2021-06-24T11:11:00.061Z"
   },
   {
    "duration": 89,
    "start_time": "2021-06-24T11:11:00.441Z"
   },
   {
    "duration": 101,
    "start_time": "2021-06-24T11:11:00.532Z"
   },
   {
    "duration": 12,
    "start_time": "2021-06-24T11:11:00.635Z"
   },
   {
    "duration": 31,
    "start_time": "2021-06-24T11:11:00.649Z"
   },
   {
    "duration": 6,
    "start_time": "2021-06-24T11:11:00.683Z"
   },
   {
    "duration": 17,
    "start_time": "2021-06-24T11:11:00.692Z"
   },
   {
    "duration": 27,
    "start_time": "2021-06-24T11:11:00.726Z"
   },
   {
    "duration": 9,
    "start_time": "2021-06-24T11:11:00.757Z"
   },
   {
    "duration": 26,
    "start_time": "2021-06-24T11:11:00.769Z"
   },
   {
    "duration": 20,
    "start_time": "2021-06-24T11:11:00.798Z"
   },
   {
    "duration": 991,
    "start_time": "2021-06-24T11:11:00.829Z"
   },
   {
    "duration": 143,
    "start_time": "2021-06-24T11:11:01.680Z"
   },
   {
    "duration": 141,
    "start_time": "2021-06-24T11:11:01.683Z"
   },
   {
    "duration": 141,
    "start_time": "2021-06-24T11:11:01.685Z"
   },
   {
    "duration": 130,
    "start_time": "2021-06-24T11:11:01.697Z"
   },
   {
    "duration": 128,
    "start_time": "2021-06-24T11:11:01.700Z"
   },
   {
    "duration": 128,
    "start_time": "2021-06-24T11:11:01.702Z"
   },
   {
    "duration": 122,
    "start_time": "2021-06-24T11:11:01.709Z"
   },
   {
    "duration": 121,
    "start_time": "2021-06-24T11:11:01.712Z"
   },
   {
    "duration": 120,
    "start_time": "2021-06-24T11:11:01.714Z"
   },
   {
    "duration": 120,
    "start_time": "2021-06-24T11:11:01.715Z"
   },
   {
    "duration": 1354,
    "start_time": "2021-06-24T11:16:15.377Z"
   },
   {
    "duration": 449,
    "start_time": "2021-06-24T11:16:16.734Z"
   },
   {
    "duration": 179,
    "start_time": "2021-06-24T11:16:17.187Z"
   },
   {
    "duration": 203,
    "start_time": "2021-06-24T11:16:17.370Z"
   },
   {
    "duration": 137,
    "start_time": "2021-06-24T11:16:17.576Z"
   },
   {
    "duration": 58,
    "start_time": "2021-06-24T11:16:17.716Z"
   },
   {
    "duration": 49,
    "start_time": "2021-06-24T11:16:17.777Z"
   },
   {
    "duration": 4,
    "start_time": "2021-06-24T11:16:17.832Z"
   },
   {
    "duration": 29,
    "start_time": "2021-06-24T11:16:17.840Z"
   },
   {
    "duration": 22,
    "start_time": "2021-06-24T11:16:17.872Z"
   },
   {
    "duration": 32,
    "start_time": "2021-06-24T11:16:17.897Z"
   },
   {
    "duration": 414,
    "start_time": "2021-06-24T11:16:17.931Z"
   },
   {
    "duration": 77,
    "start_time": "2021-06-24T11:16:18.348Z"
   },
   {
    "duration": 97,
    "start_time": "2021-06-24T11:16:18.428Z"
   },
   {
    "duration": 6,
    "start_time": "2021-06-24T11:16:18.527Z"
   },
   {
    "duration": 19,
    "start_time": "2021-06-24T11:16:18.536Z"
   },
   {
    "duration": 12,
    "start_time": "2021-06-24T11:16:18.557Z"
   },
   {
    "duration": 14,
    "start_time": "2021-06-24T11:16:18.572Z"
   },
   {
    "duration": 6,
    "start_time": "2021-06-24T11:16:18.589Z"
   },
   {
    "duration": 6,
    "start_time": "2021-06-24T11:16:18.625Z"
   },
   {
    "duration": 8,
    "start_time": "2021-06-24T11:16:18.633Z"
   },
   {
    "duration": 5,
    "start_time": "2021-06-24T11:16:18.643Z"
   },
   {
    "duration": 1328,
    "start_time": "2021-06-24T11:16:18.652Z"
   },
   {
    "duration": 4,
    "start_time": "2021-06-24T11:16:19.982Z"
   },
   {
    "duration": 23,
    "start_time": "2021-06-24T11:16:19.989Z"
   },
   {
    "duration": 13,
    "start_time": "2021-06-24T11:16:20.014Z"
   },
   {
    "duration": 17,
    "start_time": "2021-06-24T11:16:20.030Z"
   },
   {
    "duration": 12,
    "start_time": "2021-06-24T11:16:20.049Z"
   },
   {
    "duration": 10,
    "start_time": "2021-06-24T11:16:20.063Z"
   },
   {
    "duration": 15,
    "start_time": "2021-06-24T11:16:20.075Z"
   },
   {
    "duration": 10,
    "start_time": "2021-06-24T11:16:20.092Z"
   },
   {
    "duration": 24,
    "start_time": "2021-06-24T11:16:20.104Z"
   },
   {
    "duration": 13,
    "start_time": "2021-06-24T11:16:20.130Z"
   },
   {
    "duration": 1412,
    "start_time": "2021-06-24T11:27:48.824Z"
   },
   {
    "duration": 451,
    "start_time": "2021-06-24T11:27:50.239Z"
   },
   {
    "duration": 187,
    "start_time": "2021-06-24T11:27:50.694Z"
   },
   {
    "duration": 203,
    "start_time": "2021-06-24T11:27:50.885Z"
   },
   {
    "duration": 135,
    "start_time": "2021-06-24T11:27:51.092Z"
   },
   {
    "duration": 55,
    "start_time": "2021-06-24T11:27:51.230Z"
   },
   {
    "duration": 46,
    "start_time": "2021-06-24T11:27:51.288Z"
   },
   {
    "duration": 5,
    "start_time": "2021-06-24T11:27:51.339Z"
   },
   {
    "duration": 27,
    "start_time": "2021-06-24T11:27:51.347Z"
   },
   {
    "duration": 54,
    "start_time": "2021-06-24T11:27:51.376Z"
   },
   {
    "duration": 12,
    "start_time": "2021-06-24T11:27:51.432Z"
   },
   {
    "duration": 397,
    "start_time": "2021-06-24T11:27:51.447Z"
   },
   {
    "duration": 88,
    "start_time": "2021-06-24T11:27:51.846Z"
   },
   {
    "duration": 6,
    "start_time": "2021-06-24T11:27:52.024Z"
   },
   {
    "duration": 12,
    "start_time": "2021-06-24T11:27:52.032Z"
   },
   {
    "duration": 11,
    "start_time": "2021-06-24T11:27:52.046Z"
   },
   {
    "duration": 10,
    "start_time": "2021-06-24T11:27:52.059Z"
   },
   {
    "duration": 22,
    "start_time": "2021-06-24T11:27:52.072Z"
   },
   {
    "duration": 4,
    "start_time": "2021-06-24T11:27:52.125Z"
   },
   {
    "duration": 19,
    "start_time": "2021-06-24T11:27:52.131Z"
   },
   {
    "duration": 10,
    "start_time": "2021-06-24T11:27:52.152Z"
   },
   {
    "duration": 5,
    "start_time": "2021-06-24T11:27:52.164Z"
   },
   {
    "duration": 6523,
    "start_time": "2021-06-24T11:27:52.174Z"
   },
   {
    "duration": 3,
    "start_time": "2021-06-24T11:27:58.700Z"
   },
   {
    "duration": 21,
    "start_time": "2021-06-24T11:27:58.706Z"
   },
   {
    "duration": 7,
    "start_time": "2021-06-24T11:27:58.729Z"
   },
   {
    "duration": 6,
    "start_time": "2021-06-24T11:27:58.738Z"
   },
   {
    "duration": 7,
    "start_time": "2021-06-24T11:27:58.746Z"
   },
   {
    "duration": 6,
    "start_time": "2021-06-24T11:27:58.755Z"
   },
   {
    "duration": 8,
    "start_time": "2021-06-24T11:27:58.763Z"
   },
   {
    "duration": 52,
    "start_time": "2021-06-24T11:27:58.773Z"
   },
   {
    "duration": 13,
    "start_time": "2021-06-24T11:27:58.827Z"
   },
   {
    "duration": 9,
    "start_time": "2021-06-24T11:27:58.842Z"
   },
   {
    "duration": 1514,
    "start_time": "2021-06-24T11:59:59.930Z"
   },
   {
    "duration": 482,
    "start_time": "2021-06-24T12:00:01.447Z"
   },
   {
    "duration": 192,
    "start_time": "2021-06-24T12:00:01.936Z"
   },
   {
    "duration": 202,
    "start_time": "2021-06-24T12:00:02.131Z"
   },
   {
    "duration": 131,
    "start_time": "2021-06-24T12:00:02.336Z"
   },
   {
    "duration": 64,
    "start_time": "2021-06-24T12:00:02.469Z"
   },
   {
    "duration": 18,
    "start_time": "2021-06-24T12:00:02.537Z"
   },
   {
    "duration": 5,
    "start_time": "2021-06-24T12:00:02.558Z"
   },
   {
    "duration": 60,
    "start_time": "2021-06-24T12:00:02.566Z"
   },
   {
    "duration": 14,
    "start_time": "2021-06-24T12:00:02.628Z"
   },
   {
    "duration": 9,
    "start_time": "2021-06-24T12:00:02.645Z"
   },
   {
    "duration": 483,
    "start_time": "2021-06-24T12:00:02.657Z"
   },
   {
    "duration": 82,
    "start_time": "2021-06-24T12:00:03.143Z"
   },
   {
    "duration": 104,
    "start_time": "2021-06-24T12:00:03.228Z"
   },
   {
    "duration": 13,
    "start_time": "2021-06-24T12:00:03.334Z"
   },
   {
    "duration": 10,
    "start_time": "2021-06-24T12:00:03.349Z"
   },
   {
    "duration": 7,
    "start_time": "2021-06-24T12:00:03.362Z"
   },
   {
    "duration": 18,
    "start_time": "2021-06-24T12:00:03.372Z"
   },
   {
    "duration": 31,
    "start_time": "2021-06-24T12:00:03.393Z"
   },
   {
    "duration": 15,
    "start_time": "2021-06-24T12:00:03.427Z"
   },
   {
    "duration": 10,
    "start_time": "2021-06-24T12:00:03.444Z"
   },
   {
    "duration": 6,
    "start_time": "2021-06-24T12:00:03.458Z"
   },
   {
    "duration": 12990,
    "start_time": "2021-06-24T12:00:03.467Z"
   },
   {
    "duration": 4,
    "start_time": "2021-06-24T12:00:16.459Z"
   },
   {
    "duration": 14,
    "start_time": "2021-06-24T12:00:16.465Z"
   },
   {
    "duration": 7,
    "start_time": "2021-06-24T12:00:16.481Z"
   },
   {
    "duration": 8,
    "start_time": "2021-06-24T12:00:16.490Z"
   },
   {
    "duration": 7,
    "start_time": "2021-06-24T12:00:16.525Z"
   },
   {
    "duration": 18,
    "start_time": "2021-06-24T12:00:16.534Z"
   },
   {
    "duration": 7,
    "start_time": "2021-06-24T12:00:16.554Z"
   },
   {
    "duration": 10,
    "start_time": "2021-06-24T12:00:16.563Z"
   },
   {
    "duration": 11,
    "start_time": "2021-06-24T12:00:16.575Z"
   },
   {
    "duration": 7,
    "start_time": "2021-06-24T12:00:16.624Z"
   },
   {
    "duration": 9,
    "start_time": "2021-06-24T12:00:16.633Z"
   },
   {
    "duration": 8,
    "start_time": "2021-06-24T12:11:20.954Z"
   },
   {
    "duration": 8,
    "start_time": "2021-06-24T12:12:22.109Z"
   },
   {
    "duration": 9,
    "start_time": "2021-06-24T12:12:33.603Z"
   },
   {
    "duration": 8,
    "start_time": "2021-06-24T12:12:43.804Z"
   },
   {
    "duration": 1410,
    "start_time": "2021-06-24T12:25:22.033Z"
   },
   {
    "duration": 448,
    "start_time": "2021-06-24T12:25:23.446Z"
   },
   {
    "duration": 173,
    "start_time": "2021-06-24T12:25:23.897Z"
   },
   {
    "duration": 195,
    "start_time": "2021-06-24T12:25:24.074Z"
   },
   {
    "duration": 140,
    "start_time": "2021-06-24T12:25:24.272Z"
   },
   {
    "duration": 55,
    "start_time": "2021-06-24T12:25:24.423Z"
   },
   {
    "duration": 43,
    "start_time": "2021-06-24T12:25:24.481Z"
   },
   {
    "duration": 5,
    "start_time": "2021-06-24T12:25:24.529Z"
   },
   {
    "duration": 38,
    "start_time": "2021-06-24T12:25:24.538Z"
   },
   {
    "duration": 21,
    "start_time": "2021-06-24T12:25:24.579Z"
   },
   {
    "duration": 9,
    "start_time": "2021-06-24T12:25:24.625Z"
   },
   {
    "duration": 403,
    "start_time": "2021-06-24T12:25:24.636Z"
   },
   {
    "duration": 91,
    "start_time": "2021-06-24T12:25:25.041Z"
   },
   {
    "duration": 6,
    "start_time": "2021-06-24T12:25:25.225Z"
   },
   {
    "duration": 15,
    "start_time": "2021-06-24T12:25:25.233Z"
   },
   {
    "duration": 17,
    "start_time": "2021-06-24T12:25:25.250Z"
   },
   {
    "duration": 12,
    "start_time": "2021-06-24T12:25:25.270Z"
   },
   {
    "duration": 26,
    "start_time": "2021-06-24T12:25:25.284Z"
   },
   {
    "duration": 3,
    "start_time": "2021-06-24T12:25:25.324Z"
   },
   {
    "duration": 9,
    "start_time": "2021-06-24T12:25:25.330Z"
   },
   {
    "duration": 19,
    "start_time": "2021-06-24T12:25:25.341Z"
   },
   {
    "duration": 21,
    "start_time": "2021-06-24T12:25:25.362Z"
   },
   {
    "duration": 13332,
    "start_time": "2021-06-24T12:25:25.388Z"
   },
   {
    "duration": 3,
    "start_time": "2021-06-24T12:25:38.723Z"
   },
   {
    "duration": 14,
    "start_time": "2021-06-24T12:25:38.729Z"
   },
   {
    "duration": 11,
    "start_time": "2021-06-24T12:25:38.745Z"
   },
   {
    "duration": 15,
    "start_time": "2021-06-24T12:25:38.758Z"
   },
   {
    "duration": 7,
    "start_time": "2021-06-24T12:25:38.776Z"
   },
   {
    "duration": 44,
    "start_time": "2021-06-24T12:25:38.785Z"
   },
   {
    "duration": 7,
    "start_time": "2021-06-24T12:25:38.831Z"
   },
   {
    "duration": 10,
    "start_time": "2021-06-24T12:25:38.840Z"
   },
   {
    "duration": 7,
    "start_time": "2021-06-24T12:25:38.853Z"
   },
   {
    "duration": 7,
    "start_time": "2021-06-24T12:25:38.862Z"
   },
   {
    "duration": 8,
    "start_time": "2021-06-24T12:25:38.872Z"
   },
   {
    "duration": 47,
    "start_time": "2021-06-24T12:25:38.882Z"
   },
   {
    "duration": 11,
    "start_time": "2021-06-24T12:25:38.931Z"
   },
   {
    "duration": 7,
    "start_time": "2021-06-24T12:25:38.944Z"
   },
   {
    "duration": 8,
    "start_time": "2021-06-24T12:32:13.791Z"
   },
   {
    "duration": 8,
    "start_time": "2021-06-24T12:32:18.210Z"
   },
   {
    "duration": 16,
    "start_time": "2021-06-24T12:33:18.690Z"
   },
   {
    "duration": 417,
    "start_time": "2021-06-24T12:34:06.465Z"
   },
   {
    "duration": 10,
    "start_time": "2021-06-24T12:34:13.770Z"
   },
   {
    "duration": 7,
    "start_time": "2021-06-24T12:34:25.306Z"
   },
   {
    "duration": 1493,
    "start_time": "2021-06-24T12:39:52.250Z"
   },
   {
    "duration": 593,
    "start_time": "2021-06-24T12:39:53.747Z"
   },
   {
    "duration": 189,
    "start_time": "2021-06-24T12:39:54.346Z"
   },
   {
    "duration": 213,
    "start_time": "2021-06-24T12:39:54.537Z"
   },
   {
    "duration": 148,
    "start_time": "2021-06-24T12:39:54.752Z"
   },
   {
    "duration": 56,
    "start_time": "2021-06-24T12:39:54.902Z"
   },
   {
    "duration": 20,
    "start_time": "2021-06-24T12:39:54.964Z"
   },
   {
    "duration": 38,
    "start_time": "2021-06-24T12:39:54.988Z"
   },
   {
    "duration": 29,
    "start_time": "2021-06-24T12:39:55.030Z"
   },
   {
    "duration": 16,
    "start_time": "2021-06-24T12:39:55.062Z"
   },
   {
    "duration": 46,
    "start_time": "2021-06-24T12:39:55.081Z"
   },
   {
    "duration": 406,
    "start_time": "2021-06-24T12:39:55.130Z"
   },
   {
    "duration": 85,
    "start_time": "2021-06-24T12:39:55.540Z"
   },
   {
    "duration": 98,
    "start_time": "2021-06-24T12:39:55.629Z"
   },
   {
    "duration": 11,
    "start_time": "2021-06-24T12:39:55.730Z"
   },
   {
    "duration": 9,
    "start_time": "2021-06-24T12:39:55.745Z"
   },
   {
    "duration": 7,
    "start_time": "2021-06-24T12:39:55.757Z"
   },
   {
    "duration": 22,
    "start_time": "2021-06-24T12:39:55.767Z"
   },
   {
    "duration": 4,
    "start_time": "2021-06-24T12:39:55.825Z"
   },
   {
    "duration": 10,
    "start_time": "2021-06-24T12:39:55.832Z"
   },
   {
    "duration": 7,
    "start_time": "2021-06-24T12:39:55.846Z"
   },
   {
    "duration": 12,
    "start_time": "2021-06-24T12:39:55.860Z"
   },
   {
    "duration": 14698,
    "start_time": "2021-06-24T12:39:55.874Z"
   },
   {
    "duration": 4,
    "start_time": "2021-06-24T12:40:10.574Z"
   },
   {
    "duration": 22,
    "start_time": "2021-06-24T12:40:10.580Z"
   },
   {
    "duration": 19,
    "start_time": "2021-06-24T12:40:10.605Z"
   },
   {
    "duration": 8,
    "start_time": "2021-06-24T12:40:10.626Z"
   },
   {
    "duration": 18,
    "start_time": "2021-06-24T12:40:10.637Z"
   },
   {
    "duration": 30,
    "start_time": "2021-06-24T12:40:10.657Z"
   },
   {
    "duration": 15,
    "start_time": "2021-06-24T12:40:10.689Z"
   },
   {
    "duration": 23,
    "start_time": "2021-06-24T12:40:10.706Z"
   },
   {
    "duration": 6,
    "start_time": "2021-06-24T12:47:28.026Z"
   },
   {
    "duration": 14,
    "start_time": "2021-06-24T12:48:51.939Z"
   },
   {
    "duration": 14,
    "start_time": "2021-06-24T12:49:28.796Z"
   },
   {
    "duration": 25,
    "start_time": "2021-06-24T12:50:38.157Z"
   },
   {
    "duration": 24,
    "start_time": "2021-06-24T12:51:06.525Z"
   },
   {
    "duration": 1352,
    "start_time": "2021-06-24T13:42:37.681Z"
   },
   {
    "duration": 457,
    "start_time": "2021-06-24T13:42:39.036Z"
   },
   {
    "duration": 172,
    "start_time": "2021-06-24T13:42:39.496Z"
   },
   {
    "duration": 206,
    "start_time": "2021-06-24T13:42:39.672Z"
   },
   {
    "duration": 140,
    "start_time": "2021-06-24T13:42:39.881Z"
   },
   {
    "duration": 53,
    "start_time": "2021-06-24T13:42:40.025Z"
   },
   {
    "duration": 45,
    "start_time": "2021-06-24T13:42:40.081Z"
   },
   {
    "duration": 6,
    "start_time": "2021-06-24T13:42:40.131Z"
   },
   {
    "duration": 28,
    "start_time": "2021-06-24T13:42:40.141Z"
   },
   {
    "duration": 56,
    "start_time": "2021-06-24T13:42:40.171Z"
   },
   {
    "duration": 9,
    "start_time": "2021-06-24T13:42:40.230Z"
   },
   {
    "duration": 400,
    "start_time": "2021-06-24T13:42:40.241Z"
   },
   {
    "duration": 81,
    "start_time": "2021-06-24T13:42:40.644Z"
   },
   {
    "duration": 98,
    "start_time": "2021-06-24T13:42:40.728Z"
   },
   {
    "duration": 10,
    "start_time": "2021-06-24T13:42:40.828Z"
   },
   {
    "duration": 7,
    "start_time": "2021-06-24T13:42:40.841Z"
   },
   {
    "duration": 8,
    "start_time": "2021-06-24T13:42:40.850Z"
   },
   {
    "duration": 12,
    "start_time": "2021-06-24T13:42:40.861Z"
   },
   {
    "duration": 49,
    "start_time": "2021-06-24T13:42:40.876Z"
   },
   {
    "duration": 14,
    "start_time": "2021-06-24T13:42:40.927Z"
   },
   {
    "duration": 15,
    "start_time": "2021-06-24T13:42:40.943Z"
   },
   {
    "duration": 16,
    "start_time": "2021-06-24T13:42:40.960Z"
   },
   {
    "duration": 13029,
    "start_time": "2021-06-24T13:42:40.980Z"
   },
   {
    "duration": 4,
    "start_time": "2021-06-24T13:42:54.011Z"
   },
   {
    "duration": 10,
    "start_time": "2021-06-24T13:42:54.025Z"
   },
   {
    "duration": 8,
    "start_time": "2021-06-24T13:42:54.037Z"
   },
   {
    "duration": 9,
    "start_time": "2021-06-24T13:42:54.047Z"
   },
   {
    "duration": 13,
    "start_time": "2021-06-24T13:42:54.058Z"
   },
   {
    "duration": 13,
    "start_time": "2021-06-24T13:42:54.073Z"
   },
   {
    "duration": 14,
    "start_time": "2021-06-24T13:42:54.125Z"
   },
   {
    "duration": 27,
    "start_time": "2021-06-24T13:42:54.142Z"
   },
   {
    "duration": 10,
    "start_time": "2021-06-24T13:42:54.171Z"
   },
   {
    "duration": 1443,
    "start_time": "2021-06-24T13:43:16.699Z"
   },
   {
    "duration": 525,
    "start_time": "2021-06-24T13:43:18.145Z"
   },
   {
    "duration": 195,
    "start_time": "2021-06-24T13:43:18.674Z"
   },
   {
    "duration": 193,
    "start_time": "2021-06-24T13:43:18.872Z"
   },
   {
    "duration": 137,
    "start_time": "2021-06-24T13:43:19.068Z"
   },
   {
    "duration": 55,
    "start_time": "2021-06-24T13:43:19.207Z"
   },
   {
    "duration": 17,
    "start_time": "2021-06-24T13:43:19.264Z"
   },
   {
    "duration": 6,
    "start_time": "2021-06-24T13:43:19.284Z"
   },
   {
    "duration": 65,
    "start_time": "2021-06-24T13:43:19.293Z"
   },
   {
    "duration": 29,
    "start_time": "2021-06-24T13:43:19.361Z"
   },
   {
    "duration": 14,
    "start_time": "2021-06-24T13:43:19.392Z"
   },
   {
    "duration": 426,
    "start_time": "2021-06-24T13:43:19.408Z"
   },
   {
    "duration": 89,
    "start_time": "2021-06-24T13:43:19.837Z"
   },
   {
    "duration": 98,
    "start_time": "2021-06-24T13:43:19.929Z"
   },
   {
    "duration": 12,
    "start_time": "2021-06-24T13:43:20.030Z"
   },
   {
    "duration": 12,
    "start_time": "2021-06-24T13:43:20.044Z"
   },
   {
    "duration": 10,
    "start_time": "2021-06-24T13:43:20.058Z"
   },
   {
    "duration": 20,
    "start_time": "2021-06-24T13:43:20.070Z"
   },
   {
    "duration": 31,
    "start_time": "2021-06-24T13:43:20.093Z"
   },
   {
    "duration": 12,
    "start_time": "2021-06-24T13:43:20.126Z"
   },
   {
    "duration": 11,
    "start_time": "2021-06-24T13:43:20.140Z"
   },
   {
    "duration": 5,
    "start_time": "2021-06-24T13:43:20.153Z"
   },
   {
    "duration": 13830,
    "start_time": "2021-06-24T13:43:20.163Z"
   },
   {
    "duration": 3,
    "start_time": "2021-06-24T13:43:33.996Z"
   },
   {
    "duration": 26,
    "start_time": "2021-06-24T13:43:34.001Z"
   },
   {
    "duration": 7,
    "start_time": "2021-06-24T13:43:34.030Z"
   },
   {
    "duration": 9,
    "start_time": "2021-06-24T13:43:34.040Z"
   },
   {
    "duration": 11,
    "start_time": "2021-06-24T13:43:34.052Z"
   },
   {
    "duration": 16,
    "start_time": "2021-06-24T13:43:34.065Z"
   },
   {
    "duration": 48,
    "start_time": "2021-06-24T13:43:34.084Z"
   },
   {
    "duration": 28,
    "start_time": "2021-06-24T13:43:34.135Z"
   },
   {
    "duration": 11,
    "start_time": "2021-06-24T13:43:34.166Z"
   },
   {
    "duration": 429,
    "start_time": "2021-06-25T10:43:46.811Z"
   },
   {
    "duration": 1523,
    "start_time": "2021-06-25T10:53:49.005Z"
   },
   {
    "duration": 473,
    "start_time": "2021-06-25T10:53:50.531Z"
   },
   {
    "duration": 176,
    "start_time": "2021-06-25T10:53:51.010Z"
   },
   {
    "duration": 192,
    "start_time": "2021-06-25T10:53:51.189Z"
   },
   {
    "duration": 139,
    "start_time": "2021-06-25T10:53:51.383Z"
   },
   {
    "duration": 51,
    "start_time": "2021-06-25T10:53:51.524Z"
   },
   {
    "duration": 39,
    "start_time": "2021-06-25T10:53:51.577Z"
   },
   {
    "duration": 5,
    "start_time": "2021-06-25T10:53:51.619Z"
   },
   {
    "duration": 29,
    "start_time": "2021-06-25T10:53:51.626Z"
   },
   {
    "duration": 15,
    "start_time": "2021-06-25T10:53:51.658Z"
   },
   {
    "duration": 38,
    "start_time": "2021-06-25T10:53:51.676Z"
   },
   {
    "duration": 411,
    "start_time": "2021-06-25T10:53:51.716Z"
   },
   {
    "duration": 5,
    "start_time": "2021-06-25T10:53:52.210Z"
   },
   {
    "duration": 106,
    "start_time": "2021-06-25T10:53:52.219Z"
   },
   {
    "duration": 4,
    "start_time": "2021-06-25T10:53:52.328Z"
   },
   {
    "duration": 12,
    "start_time": "2021-06-25T10:53:52.334Z"
   },
   {
    "duration": 8,
    "start_time": "2021-06-25T10:53:52.348Z"
   },
   {
    "duration": 18,
    "start_time": "2021-06-25T10:53:52.358Z"
   },
   {
    "duration": 13592,
    "start_time": "2021-06-25T10:53:52.378Z"
   },
   {
    "duration": 5,
    "start_time": "2021-06-25T10:54:05.973Z"
   },
   {
    "duration": 31,
    "start_time": "2021-06-25T10:54:05.981Z"
   },
   {
    "duration": 14,
    "start_time": "2021-06-25T10:54:06.015Z"
   },
   {
    "duration": 15,
    "start_time": "2021-06-25T10:54:06.034Z"
   },
   {
    "duration": 12,
    "start_time": "2021-06-25T10:54:06.053Z"
   },
   {
    "duration": 18,
    "start_time": "2021-06-25T10:54:06.068Z"
   },
   {
    "duration": 33,
    "start_time": "2021-06-25T10:54:06.088Z"
   },
   {
    "duration": 45,
    "start_time": "2021-06-25T10:54:06.123Z"
   },
   {
    "duration": 15,
    "start_time": "2021-06-25T10:54:06.171Z"
   },
   {
    "duration": 5,
    "start_time": "2021-06-25T10:55:12.444Z"
   },
   {
    "duration": 125,
    "start_time": "2021-06-25T11:09:44.176Z"
   },
   {
    "duration": 546,
    "start_time": "2021-06-25T11:09:52.962Z"
   },
   {
    "duration": 9,
    "start_time": "2021-06-25T11:10:40.402Z"
   },
   {
    "duration": 124,
    "start_time": "2021-06-25T11:11:02.226Z"
   },
   {
    "duration": 9,
    "start_time": "2021-06-25T11:11:21.323Z"
   },
   {
    "duration": 1481,
    "start_time": "2021-06-25T12:15:14.345Z"
   },
   {
    "duration": 475,
    "start_time": "2021-06-25T12:15:15.828Z"
   },
   {
    "duration": 179,
    "start_time": "2021-06-25T12:15:16.306Z"
   },
   {
    "duration": 214,
    "start_time": "2021-06-25T12:15:16.488Z"
   },
   {
    "duration": 140,
    "start_time": "2021-06-25T12:15:16.704Z"
   },
   {
    "duration": 66,
    "start_time": "2021-06-25T12:15:16.847Z"
   },
   {
    "duration": 18,
    "start_time": "2021-06-25T12:15:16.915Z"
   },
   {
    "duration": 4,
    "start_time": "2021-06-25T12:15:16.937Z"
   },
   {
    "duration": 27,
    "start_time": "2021-06-25T12:15:16.944Z"
   },
   {
    "duration": 16,
    "start_time": "2021-06-25T12:15:17.010Z"
   },
   {
    "duration": 15,
    "start_time": "2021-06-25T12:15:17.028Z"
   },
   {
    "duration": 465,
    "start_time": "2021-06-25T12:15:17.045Z"
   },
   {
    "duration": 96,
    "start_time": "2021-06-25T12:15:17.513Z"
   },
   {
    "duration": 25,
    "start_time": "2021-06-25T12:15:17.611Z"
   },
   {
    "duration": 5,
    "start_time": "2021-06-25T12:15:17.638Z"
   },
   {
    "duration": 10,
    "start_time": "2021-06-25T12:15:17.646Z"
   },
   {
    "duration": 12,
    "start_time": "2021-06-25T12:15:17.658Z"
   },
   {
    "duration": 12,
    "start_time": "2021-06-25T12:15:17.672Z"
   },
   {
    "duration": 4,
    "start_time": "2021-06-25T12:15:17.710Z"
   },
   {
    "duration": 13652,
    "start_time": "2021-06-25T12:15:17.716Z"
   },
   {
    "duration": 6,
    "start_time": "2021-06-25T12:15:31.370Z"
   },
   {
    "duration": 73,
    "start_time": "2021-06-25T12:15:31.378Z"
   },
   {
    "duration": 50,
    "start_time": "2021-06-25T12:15:31.455Z"
   },
   {
    "duration": 26,
    "start_time": "2021-06-25T12:15:31.508Z"
   },
   {
    "duration": 61,
    "start_time": "2021-06-25T12:15:31.536Z"
   },
   {
    "duration": 1485,
    "start_time": "2021-06-25T12:31:59.842Z"
   },
   {
    "duration": 486,
    "start_time": "2021-06-25T12:32:01.330Z"
   },
   {
    "duration": 196,
    "start_time": "2021-06-25T12:32:01.819Z"
   },
   {
    "duration": 229,
    "start_time": "2021-06-25T12:32:02.017Z"
   },
   {
    "duration": 187,
    "start_time": "2021-06-25T12:32:02.249Z"
   },
   {
    "duration": 55,
    "start_time": "2021-06-25T12:32:02.439Z"
   },
   {
    "duration": 18,
    "start_time": "2021-06-25T12:32:02.509Z"
   },
   {
    "duration": 5,
    "start_time": "2021-06-25T12:32:02.530Z"
   },
   {
    "duration": 30,
    "start_time": "2021-06-25T12:32:02.538Z"
   },
   {
    "duration": 53,
    "start_time": "2021-06-25T12:32:02.570Z"
   },
   {
    "duration": 17,
    "start_time": "2021-06-25T12:32:02.625Z"
   },
   {
    "duration": 386,
    "start_time": "2021-06-25T12:32:02.645Z"
   },
   {
    "duration": 5,
    "start_time": "2021-06-25T12:32:03.111Z"
   },
   {
    "duration": 119,
    "start_time": "2021-06-25T12:32:03.119Z"
   },
   {
    "duration": 5,
    "start_time": "2021-06-25T12:32:03.241Z"
   },
   {
    "duration": 10,
    "start_time": "2021-06-25T12:32:03.249Z"
   },
   {
    "duration": 18,
    "start_time": "2021-06-25T12:32:03.262Z"
   },
   {
    "duration": 27,
    "start_time": "2021-06-25T12:32:03.283Z"
   },
   {
    "duration": 15,
    "start_time": "2021-06-25T12:32:03.313Z"
   },
   {
    "duration": 13500,
    "start_time": "2021-06-25T12:32:03.331Z"
   },
   {
    "duration": 6,
    "start_time": "2021-06-25T12:32:16.833Z"
   },
   {
    "duration": 28,
    "start_time": "2021-06-25T12:32:16.842Z"
   },
   {
    "duration": 1521,
    "start_time": "2021-06-25T12:34:02.320Z"
   },
   {
    "duration": 481,
    "start_time": "2021-06-25T12:34:03.845Z"
   },
   {
    "duration": 192,
    "start_time": "2021-06-25T12:34:04.329Z"
   },
   {
    "duration": 218,
    "start_time": "2021-06-25T12:34:04.524Z"
   },
   {
    "duration": 142,
    "start_time": "2021-06-25T12:34:04.744Z"
   },
   {
    "duration": 67,
    "start_time": "2021-06-25T12:34:04.888Z"
   },
   {
    "duration": 42,
    "start_time": "2021-06-25T12:34:04.958Z"
   },
   {
    "duration": 18,
    "start_time": "2021-06-25T12:34:05.010Z"
   },
   {
    "duration": 53,
    "start_time": "2021-06-25T12:34:05.031Z"
   },
   {
    "duration": 80,
    "start_time": "2021-06-25T12:34:05.086Z"
   },
   {
    "duration": 42,
    "start_time": "2021-06-25T12:34:05.169Z"
   },
   {
    "duration": 414,
    "start_time": "2021-06-25T12:34:05.213Z"
   },
   {
    "duration": 5,
    "start_time": "2021-06-25T12:34:05.708Z"
   },
   {
    "duration": 37,
    "start_time": "2021-06-25T12:34:05.810Z"
   },
   {
    "duration": 12,
    "start_time": "2021-06-25T12:34:05.850Z"
   },
   {
    "duration": 29,
    "start_time": "2021-06-25T12:34:05.865Z"
   },
   {
    "duration": 27,
    "start_time": "2021-06-25T12:34:05.896Z"
   },
   {
    "duration": 27,
    "start_time": "2021-06-25T12:34:05.926Z"
   },
   {
    "duration": 5,
    "start_time": "2021-06-25T12:34:05.955Z"
   },
   {
    "duration": 13491,
    "start_time": "2021-06-25T12:34:05.963Z"
   },
   {
    "duration": 5,
    "start_time": "2021-06-25T12:34:19.456Z"
   },
   {
    "duration": 27,
    "start_time": "2021-06-25T12:34:19.463Z"
   },
   {
    "duration": 1453,
    "start_time": "2021-06-25T12:38:50.878Z"
   },
   {
    "duration": 476,
    "start_time": "2021-06-25T12:38:52.334Z"
   },
   {
    "duration": 179,
    "start_time": "2021-06-25T12:38:52.813Z"
   },
   {
    "duration": 226,
    "start_time": "2021-06-25T12:38:52.996Z"
   },
   {
    "duration": 150,
    "start_time": "2021-06-25T12:38:53.225Z"
   },
   {
    "duration": 65,
    "start_time": "2021-06-25T12:38:53.378Z"
   },
   {
    "duration": 21,
    "start_time": "2021-06-25T12:38:53.446Z"
   },
   {
    "duration": 5,
    "start_time": "2021-06-25T12:38:53.472Z"
   },
   {
    "duration": 28,
    "start_time": "2021-06-25T12:38:53.511Z"
   },
   {
    "duration": 26,
    "start_time": "2021-06-25T12:38:53.543Z"
   },
   {
    "duration": 37,
    "start_time": "2021-06-25T12:38:53.572Z"
   },
   {
    "duration": 416,
    "start_time": "2021-06-25T12:38:53.611Z"
   },
   {
    "duration": 5,
    "start_time": "2021-06-25T12:38:54.110Z"
   },
   {
    "duration": 111,
    "start_time": "2021-06-25T12:38:54.119Z"
   },
   {
    "duration": 5,
    "start_time": "2021-06-25T12:38:54.233Z"
   },
   {
    "duration": 13,
    "start_time": "2021-06-25T12:38:54.240Z"
   },
   {
    "duration": 8,
    "start_time": "2021-06-25T12:38:54.256Z"
   },
   {
    "duration": 43,
    "start_time": "2021-06-25T12:38:54.266Z"
   },
   {
    "duration": 5,
    "start_time": "2021-06-25T12:38:54.311Z"
   },
   {
    "duration": 13504,
    "start_time": "2021-06-25T12:38:54.318Z"
   },
   {
    "duration": 5,
    "start_time": "2021-06-25T12:39:07.824Z"
   },
   {
    "duration": 61,
    "start_time": "2021-06-25T12:39:07.831Z"
   },
   {
    "duration": 1489,
    "start_time": "2021-06-25T12:39:59.657Z"
   },
   {
    "duration": 508,
    "start_time": "2021-06-25T12:40:01.149Z"
   },
   {
    "duration": 202,
    "start_time": "2021-06-25T12:40:01.664Z"
   },
   {
    "duration": 257,
    "start_time": "2021-06-25T12:40:01.869Z"
   },
   {
    "duration": 174,
    "start_time": "2021-06-25T12:40:02.128Z"
   },
   {
    "duration": 77,
    "start_time": "2021-06-25T12:40:02.308Z"
   },
   {
    "duration": 96,
    "start_time": "2021-06-25T12:40:02.388Z"
   },
   {
    "duration": 52,
    "start_time": "2021-06-25T12:40:02.487Z"
   },
   {
    "duration": 39,
    "start_time": "2021-06-25T12:40:02.542Z"
   },
   {
    "duration": 50,
    "start_time": "2021-06-25T12:40:02.584Z"
   },
   {
    "duration": 21,
    "start_time": "2021-06-25T12:40:02.637Z"
   },
   {
    "duration": 467,
    "start_time": "2021-06-25T12:40:02.660Z"
   },
   {
    "duration": 6,
    "start_time": "2021-06-25T12:40:03.210Z"
   },
   {
    "duration": 142,
    "start_time": "2021-06-25T12:40:03.219Z"
   },
   {
    "duration": 26,
    "start_time": "2021-06-25T12:40:03.363Z"
   },
   {
    "duration": 17,
    "start_time": "2021-06-25T12:40:03.392Z"
   },
   {
    "duration": 27,
    "start_time": "2021-06-25T12:40:03.411Z"
   },
   {
    "duration": 27,
    "start_time": "2021-06-25T12:40:03.441Z"
   },
   {
    "duration": 25,
    "start_time": "2021-06-25T12:40:03.470Z"
   },
   {
    "duration": 13285,
    "start_time": "2021-06-25T12:40:03.497Z"
   },
   {
    "duration": 5,
    "start_time": "2021-06-25T12:40:16.785Z"
   },
   {
    "duration": 37,
    "start_time": "2021-06-25T12:40:16.794Z"
   },
   {
    "duration": 1468,
    "start_time": "2021-06-25T12:40:46.458Z"
   },
   {
    "duration": 480,
    "start_time": "2021-06-25T12:40:47.929Z"
   },
   {
    "duration": 185,
    "start_time": "2021-06-25T12:40:48.414Z"
   },
   {
    "duration": 199,
    "start_time": "2021-06-25T12:40:48.610Z"
   },
   {
    "duration": 140,
    "start_time": "2021-06-25T12:40:48.811Z"
   },
   {
    "duration": 59,
    "start_time": "2021-06-25T12:40:48.954Z"
   },
   {
    "duration": 18,
    "start_time": "2021-06-25T12:40:49.016Z"
   },
   {
    "duration": 5,
    "start_time": "2021-06-25T12:40:49.038Z"
   },
   {
    "duration": 63,
    "start_time": "2021-06-25T12:40:49.046Z"
   },
   {
    "duration": 17,
    "start_time": "2021-06-25T12:40:49.112Z"
   },
   {
    "duration": 10,
    "start_time": "2021-06-25T12:40:49.131Z"
   },
   {
    "duration": 486,
    "start_time": "2021-06-25T12:40:49.143Z"
   },
   {
    "duration": 5,
    "start_time": "2021-06-25T12:40:49.711Z"
   },
   {
    "duration": 106,
    "start_time": "2021-06-25T12:40:49.719Z"
   },
   {
    "duration": 6,
    "start_time": "2021-06-25T12:40:49.829Z"
   },
   {
    "duration": 8,
    "start_time": "2021-06-25T12:40:49.838Z"
   },
   {
    "duration": 6,
    "start_time": "2021-06-25T12:40:49.849Z"
   },
   {
    "duration": 51,
    "start_time": "2021-06-25T12:40:49.858Z"
   },
   {
    "duration": 6,
    "start_time": "2021-06-25T12:40:49.912Z"
   },
   {
    "duration": 13225,
    "start_time": "2021-06-25T12:40:49.921Z"
   },
   {
    "duration": 6,
    "start_time": "2021-06-25T12:41:03.149Z"
   },
   {
    "duration": 28,
    "start_time": "2021-06-25T12:41:03.157Z"
   },
   {
    "duration": 1492,
    "start_time": "2021-06-25T16:40:00.960Z"
   },
   {
    "duration": 470,
    "start_time": "2021-06-25T16:40:02.455Z"
   },
   {
    "duration": 179,
    "start_time": "2021-06-25T16:40:02.928Z"
   },
   {
    "duration": 206,
    "start_time": "2021-06-25T16:40:03.110Z"
   },
   {
    "duration": 145,
    "start_time": "2021-06-25T16:40:03.318Z"
   },
   {
    "duration": 62,
    "start_time": "2021-06-25T16:40:03.465Z"
   },
   {
    "duration": 18,
    "start_time": "2021-06-25T16:40:03.530Z"
   },
   {
    "duration": 5,
    "start_time": "2021-06-25T16:40:03.552Z"
   },
   {
    "duration": 43,
    "start_time": "2021-06-25T16:40:03.560Z"
   },
   {
    "duration": 15,
    "start_time": "2021-06-25T16:40:03.625Z"
   },
   {
    "duration": 18,
    "start_time": "2021-06-25T16:40:03.643Z"
   },
   {
    "duration": 468,
    "start_time": "2021-06-25T16:40:03.663Z"
   },
   {
    "duration": 5,
    "start_time": "2021-06-25T16:40:04.133Z"
   },
   {
    "duration": 108,
    "start_time": "2021-06-25T16:40:04.226Z"
   },
   {
    "duration": 4,
    "start_time": "2021-06-25T16:40:04.336Z"
   },
   {
    "duration": 11,
    "start_time": "2021-06-25T16:40:04.342Z"
   },
   {
    "duration": 11,
    "start_time": "2021-06-25T16:40:04.355Z"
   },
   {
    "duration": 14,
    "start_time": "2021-06-25T16:40:04.368Z"
   },
   {
    "duration": 4,
    "start_time": "2021-06-25T16:40:04.385Z"
   },
   {
    "duration": 13056,
    "start_time": "2021-06-25T16:40:04.391Z"
   },
   {
    "duration": 6,
    "start_time": "2021-06-25T16:40:17.451Z"
   },
   {
    "duration": 26,
    "start_time": "2021-06-25T16:40:17.459Z"
   },
   {
    "duration": 5,
    "start_time": "2021-06-25T16:40:17.488Z"
   },
   {
    "duration": 37,
    "start_time": "2021-06-25T16:40:17.495Z"
   },
   {
    "duration": 5,
    "start_time": "2021-06-25T16:40:34.055Z"
   },
   {
    "duration": 7,
    "start_time": "2021-06-25T16:41:32.789Z"
   },
   {
    "duration": 816,
    "start_time": "2021-06-25T17:04:05.068Z"
   },
   {
    "duration": 6,
    "start_time": "2021-06-25T17:06:04.914Z"
   },
   {
    "duration": 9,
    "start_time": "2021-06-25T17:20:06.423Z"
   },
   {
    "duration": 5,
    "start_time": "2021-06-25T17:20:07.442Z"
   },
   {
    "duration": 5,
    "start_time": "2021-06-25T17:23:22.550Z"
   },
   {
    "duration": 274,
    "start_time": "2021-06-25T17:24:24.080Z"
   },
   {
    "duration": 1437,
    "start_time": "2021-06-25T17:24:44.149Z"
   },
   {
    "duration": 486,
    "start_time": "2021-06-25T17:24:45.589Z"
   },
   {
    "duration": 192,
    "start_time": "2021-06-25T17:24:46.078Z"
   },
   {
    "duration": 232,
    "start_time": "2021-06-25T17:24:46.274Z"
   },
   {
    "duration": 153,
    "start_time": "2021-06-25T17:24:46.509Z"
   },
   {
    "duration": 62,
    "start_time": "2021-06-25T17:24:46.664Z"
   },
   {
    "duration": 21,
    "start_time": "2021-06-25T17:24:46.730Z"
   },
   {
    "duration": 4,
    "start_time": "2021-06-25T17:24:46.755Z"
   },
   {
    "duration": 63,
    "start_time": "2021-06-25T17:24:46.762Z"
   },
   {
    "duration": 17,
    "start_time": "2021-06-25T17:24:46.829Z"
   },
   {
    "duration": 10,
    "start_time": "2021-06-25T17:24:46.848Z"
   },
   {
    "duration": 477,
    "start_time": "2021-06-25T17:24:46.860Z"
   },
   {
    "duration": 7,
    "start_time": "2021-06-25T17:24:47.340Z"
   },
   {
    "duration": 191,
    "start_time": "2021-06-25T17:24:47.349Z"
   },
   {
    "duration": 5,
    "start_time": "2021-06-25T17:24:47.543Z"
   },
   {
    "duration": 6,
    "start_time": "2021-06-25T17:24:47.550Z"
   },
   {
    "duration": 8,
    "start_time": "2021-06-25T17:24:47.558Z"
   },
   {
    "duration": 11,
    "start_time": "2021-06-25T17:24:47.568Z"
   },
   {
    "duration": 44,
    "start_time": "2021-06-25T17:24:47.582Z"
   },
   {
    "duration": 13266,
    "start_time": "2021-06-25T17:24:47.630Z"
   },
   {
    "duration": 5,
    "start_time": "2021-06-25T17:25:00.898Z"
   },
   {
    "duration": 40,
    "start_time": "2021-06-25T17:25:00.906Z"
   },
   {
    "duration": 4,
    "start_time": "2021-06-25T17:25:00.951Z"
   },
   {
    "duration": 16,
    "start_time": "2021-06-25T17:25:00.957Z"
   },
   {
    "duration": 6,
    "start_time": "2021-06-25T17:25:00.976Z"
   },
   {
    "duration": 43,
    "start_time": "2021-06-25T17:25:00.984Z"
   },
   {
    "duration": 25,
    "start_time": "2021-06-25T17:25:01.030Z"
   },
   {
    "duration": 12,
    "start_time": "2021-06-25T17:25:01.057Z"
   },
   {
    "duration": 12,
    "start_time": "2021-06-25T17:25:01.071Z"
   },
   {
    "duration": 1498,
    "start_time": "2021-06-26T07:54:12.783Z"
   },
   {
    "duration": 481,
    "start_time": "2021-06-26T07:54:14.284Z"
   },
   {
    "duration": 178,
    "start_time": "2021-06-26T07:54:14.768Z"
   },
   {
    "duration": 213,
    "start_time": "2021-06-26T07:54:14.949Z"
   },
   {
    "duration": 145,
    "start_time": "2021-06-26T07:54:15.166Z"
   },
   {
    "duration": 59,
    "start_time": "2021-06-26T07:54:15.313Z"
   },
   {
    "duration": 17,
    "start_time": "2021-06-26T07:54:15.375Z"
   },
   {
    "duration": 5,
    "start_time": "2021-06-26T07:54:15.396Z"
   },
   {
    "duration": 59,
    "start_time": "2021-06-26T07:54:15.404Z"
   },
   {
    "duration": 15,
    "start_time": "2021-06-26T07:54:15.466Z"
   },
   {
    "duration": 8,
    "start_time": "2021-06-26T07:54:15.484Z"
   },
   {
    "duration": 478,
    "start_time": "2021-06-26T07:54:15.494Z"
   },
   {
    "duration": 84,
    "start_time": "2021-06-26T07:54:15.975Z"
   },
   {
    "duration": 109,
    "start_time": "2021-06-26T07:54:16.063Z"
   },
   {
    "duration": 6,
    "start_time": "2021-06-26T07:54:16.174Z"
   },
   {
    "duration": 20,
    "start_time": "2021-06-26T07:54:16.182Z"
   },
   {
    "duration": 9,
    "start_time": "2021-06-26T07:54:16.205Z"
   },
   {
    "duration": 37,
    "start_time": "2021-06-26T07:54:16.216Z"
   },
   {
    "duration": 6,
    "start_time": "2021-06-26T07:54:16.256Z"
   },
   {
    "duration": 590,
    "start_time": "2021-06-26T07:54:16.265Z"
   },
   {
    "duration": 6193,
    "start_time": "2021-06-26T07:54:10.666Z"
   },
   {
    "duration": 6189,
    "start_time": "2021-06-26T07:54:10.672Z"
   },
   {
    "duration": 6183,
    "start_time": "2021-06-26T07:54:10.680Z"
   },
   {
    "duration": 6180,
    "start_time": "2021-06-26T07:54:10.685Z"
   },
   {
    "duration": 6178,
    "start_time": "2021-06-26T07:54:10.689Z"
   },
   {
    "duration": 6176,
    "start_time": "2021-06-26T07:54:10.694Z"
   },
   {
    "duration": 6172,
    "start_time": "2021-06-26T07:54:10.700Z"
   },
   {
    "duration": 6169,
    "start_time": "2021-06-26T07:54:10.705Z"
   },
   {
    "duration": 6167,
    "start_time": "2021-06-26T07:54:10.709Z"
   },
   {
    "duration": 1407,
    "start_time": "2021-06-26T07:55:40.951Z"
   },
   {
    "duration": 452,
    "start_time": "2021-06-26T07:55:42.361Z"
   },
   {
    "duration": 179,
    "start_time": "2021-06-26T07:55:42.816Z"
   },
   {
    "duration": 203,
    "start_time": "2021-06-26T07:55:42.998Z"
   },
   {
    "duration": 134,
    "start_time": "2021-06-26T07:55:43.203Z"
   },
   {
    "duration": 57,
    "start_time": "2021-06-26T07:55:43.339Z"
   },
   {
    "duration": 17,
    "start_time": "2021-06-26T07:55:43.399Z"
   },
   {
    "duration": 36,
    "start_time": "2021-06-26T07:55:43.419Z"
   },
   {
    "duration": 36,
    "start_time": "2021-06-26T07:55:43.458Z"
   },
   {
    "duration": 28,
    "start_time": "2021-06-26T07:55:43.497Z"
   },
   {
    "duration": 17,
    "start_time": "2021-06-26T07:55:43.528Z"
   },
   {
    "duration": 413,
    "start_time": "2021-06-26T07:55:43.548Z"
   },
   {
    "duration": 93,
    "start_time": "2021-06-26T07:55:43.968Z"
   },
   {
    "duration": 104,
    "start_time": "2021-06-26T07:55:44.064Z"
   },
   {
    "duration": 13,
    "start_time": "2021-06-26T07:55:44.170Z"
   },
   {
    "duration": 8,
    "start_time": "2021-06-26T07:55:44.186Z"
   },
   {
    "duration": 10,
    "start_time": "2021-06-26T07:55:44.196Z"
   },
   {
    "duration": 17,
    "start_time": "2021-06-26T07:55:44.208Z"
   },
   {
    "duration": 27,
    "start_time": "2021-06-26T07:55:44.227Z"
   },
   {
    "duration": 851,
    "start_time": "2021-06-26T07:55:44.257Z"
   },
   {
    "duration": 6198,
    "start_time": "2021-06-26T07:55:38.913Z"
   },
   {
    "duration": 6188,
    "start_time": "2021-06-26T07:55:38.924Z"
   },
   {
    "duration": 6186,
    "start_time": "2021-06-26T07:55:38.928Z"
   },
   {
    "duration": 6176,
    "start_time": "2021-06-26T07:55:38.939Z"
   },
   {
    "duration": 6173,
    "start_time": "2021-06-26T07:55:38.944Z"
   },
   {
    "duration": 6160,
    "start_time": "2021-06-26T07:55:38.958Z"
   },
   {
    "duration": 6148,
    "start_time": "2021-06-26T07:55:38.972Z"
   },
   {
    "duration": 6144,
    "start_time": "2021-06-26T07:55:38.978Z"
   },
   {
    "duration": 6124,
    "start_time": "2021-06-26T07:55:38.999Z"
   },
   {
    "duration": 1346,
    "start_time": "2021-06-26T07:58:42.895Z"
   },
   {
    "duration": 531,
    "start_time": "2021-06-26T07:58:44.244Z"
   },
   {
    "duration": 169,
    "start_time": "2021-06-26T07:58:44.778Z"
   },
   {
    "duration": 185,
    "start_time": "2021-06-26T07:58:44.950Z"
   },
   {
    "duration": 131,
    "start_time": "2021-06-26T07:58:45.137Z"
   },
   {
    "duration": 47,
    "start_time": "2021-06-26T07:58:45.271Z"
   },
   {
    "duration": 38,
    "start_time": "2021-06-26T07:58:45.321Z"
   },
   {
    "duration": 5,
    "start_time": "2021-06-26T07:58:45.363Z"
   },
   {
    "duration": 27,
    "start_time": "2021-06-26T07:58:45.371Z"
   },
   {
    "duration": 19,
    "start_time": "2021-06-26T07:58:45.400Z"
   },
   {
    "duration": 37,
    "start_time": "2021-06-26T07:58:45.421Z"
   },
   {
    "duration": 415,
    "start_time": "2021-06-26T07:58:45.461Z"
   },
   {
    "duration": 5,
    "start_time": "2021-06-26T07:58:45.956Z"
   },
   {
    "duration": 109,
    "start_time": "2021-06-26T07:58:45.965Z"
   },
   {
    "duration": 6,
    "start_time": "2021-06-26T07:58:46.077Z"
   },
   {
    "duration": 11,
    "start_time": "2021-06-26T07:58:46.086Z"
   },
   {
    "duration": 14,
    "start_time": "2021-06-26T07:58:46.100Z"
   },
   {
    "duration": 39,
    "start_time": "2021-06-26T07:58:46.117Z"
   },
   {
    "duration": 6,
    "start_time": "2021-06-26T07:58:46.159Z"
   },
   {
    "duration": 13290,
    "start_time": "2021-06-26T07:58:46.168Z"
   },
   {
    "duration": 6,
    "start_time": "2021-06-26T07:58:59.461Z"
   },
   {
    "duration": 28,
    "start_time": "2021-06-26T07:58:59.470Z"
   },
   {
    "duration": 5,
    "start_time": "2021-06-26T07:58:59.504Z"
   },
   {
    "duration": 680,
    "start_time": "2021-06-26T07:58:59.512Z"
   },
   {
    "duration": 6206,
    "start_time": "2021-06-26T07:58:53.989Z"
   },
   {
    "duration": 6198,
    "start_time": "2021-06-26T07:58:53.998Z"
   },
   {
    "duration": 6189,
    "start_time": "2021-06-26T07:58:54.009Z"
   },
   {
    "duration": 6185,
    "start_time": "2021-06-26T07:58:54.014Z"
   },
   {
    "duration": 6182,
    "start_time": "2021-06-26T07:58:54.018Z"
   },
   {
    "duration": 1420,
    "start_time": "2021-06-26T08:00:16.445Z"
   },
   {
    "duration": 452,
    "start_time": "2021-06-26T08:00:17.868Z"
   },
   {
    "duration": 179,
    "start_time": "2021-06-26T08:00:18.324Z"
   },
   {
    "duration": 205,
    "start_time": "2021-06-26T08:00:18.507Z"
   },
   {
    "duration": 146,
    "start_time": "2021-06-26T08:00:18.715Z"
   },
   {
    "duration": 51,
    "start_time": "2021-06-26T08:00:18.865Z"
   },
   {
    "duration": 45,
    "start_time": "2021-06-26T08:00:18.919Z"
   },
   {
    "duration": 5,
    "start_time": "2021-06-26T08:00:18.970Z"
   },
   {
    "duration": 34,
    "start_time": "2021-06-26T08:00:18.978Z"
   },
   {
    "duration": 54,
    "start_time": "2021-06-26T08:00:19.014Z"
   },
   {
    "duration": 10,
    "start_time": "2021-06-26T08:00:19.071Z"
   },
   {
    "duration": 394,
    "start_time": "2021-06-26T08:00:19.083Z"
   },
   {
    "duration": 75,
    "start_time": "2021-06-26T08:00:19.480Z"
   },
   {
    "duration": 118,
    "start_time": "2021-06-26T08:00:19.558Z"
   },
   {
    "duration": 10,
    "start_time": "2021-06-26T08:00:19.679Z"
   },
   {
    "duration": 22,
    "start_time": "2021-06-26T08:00:19.692Z"
   },
   {
    "duration": 19,
    "start_time": "2021-06-26T08:00:19.717Z"
   },
   {
    "duration": 29,
    "start_time": "2021-06-26T08:00:19.739Z"
   },
   {
    "duration": 14,
    "start_time": "2021-06-26T08:00:19.770Z"
   },
   {
    "duration": 12748,
    "start_time": "2021-06-26T08:00:19.787Z"
   },
   {
    "duration": 5,
    "start_time": "2021-06-26T08:00:32.538Z"
   },
   {
    "duration": 34,
    "start_time": "2021-06-26T08:00:32.545Z"
   },
   {
    "duration": 4,
    "start_time": "2021-06-26T08:00:32.584Z"
   },
   {
    "duration": 13,
    "start_time": "2021-06-26T08:00:32.591Z"
   },
   {
    "duration": 7,
    "start_time": "2021-06-26T08:00:32.606Z"
   },
   {
    "duration": 41,
    "start_time": "2021-06-26T08:00:32.615Z"
   },
   {
    "duration": 7,
    "start_time": "2021-06-26T08:00:32.658Z"
   },
   {
    "duration": 11,
    "start_time": "2021-06-26T08:00:32.668Z"
   },
   {
    "duration": 13,
    "start_time": "2021-06-26T08:00:32.682Z"
   },
   {
    "duration": 1367,
    "start_time": "2021-06-26T08:17:50.087Z"
   },
   {
    "duration": 450,
    "start_time": "2021-06-26T08:17:51.457Z"
   },
   {
    "duration": 169,
    "start_time": "2021-06-26T08:17:51.910Z"
   },
   {
    "duration": 190,
    "start_time": "2021-06-26T08:17:52.082Z"
   },
   {
    "duration": 126,
    "start_time": "2021-06-26T08:17:52.275Z"
   },
   {
    "duration": 60,
    "start_time": "2021-06-26T08:17:52.404Z"
   },
   {
    "duration": 18,
    "start_time": "2021-06-26T08:17:52.467Z"
   },
   {
    "duration": 5,
    "start_time": "2021-06-26T08:17:52.488Z"
   },
   {
    "duration": 61,
    "start_time": "2021-06-26T08:17:52.496Z"
   },
   {
    "duration": 22,
    "start_time": "2021-06-26T08:17:52.559Z"
   },
   {
    "duration": 11,
    "start_time": "2021-06-26T08:17:52.583Z"
   },
   {
    "duration": 475,
    "start_time": "2021-06-26T08:17:52.597Z"
   },
   {
    "duration": 80,
    "start_time": "2021-06-26T08:17:53.076Z"
   },
   {
    "duration": 110,
    "start_time": "2021-06-26T08:17:53.160Z"
   },
   {
    "duration": 7,
    "start_time": "2021-06-26T08:17:53.273Z"
   },
   {
    "duration": 10,
    "start_time": "2021-06-26T08:17:53.282Z"
   },
   {
    "duration": 6,
    "start_time": "2021-06-26T08:17:53.295Z"
   },
   {
    "duration": 10,
    "start_time": "2021-06-26T08:17:53.304Z"
   },
   {
    "duration": 5,
    "start_time": "2021-06-26T08:17:53.354Z"
   },
   {
    "duration": 13443,
    "start_time": "2021-06-26T08:17:53.361Z"
   },
   {
    "duration": 5,
    "start_time": "2021-06-26T08:18:06.806Z"
   },
   {
    "duration": 46,
    "start_time": "2021-06-26T08:18:06.814Z"
   },
   {
    "duration": 5,
    "start_time": "2021-06-26T08:18:06.864Z"
   },
   {
    "duration": 24,
    "start_time": "2021-06-26T08:18:06.871Z"
   },
   {
    "duration": 5,
    "start_time": "2021-06-26T08:18:06.898Z"
   },
   {
    "duration": 8,
    "start_time": "2021-06-26T08:18:06.905Z"
   },
   {
    "duration": 9,
    "start_time": "2021-06-26T08:18:06.916Z"
   },
   {
    "duration": 31,
    "start_time": "2021-06-26T08:18:06.927Z"
   },
   {
    "duration": 1407,
    "start_time": "2021-06-26T08:21:28.269Z"
   },
   {
    "duration": 487,
    "start_time": "2021-06-26T08:21:29.679Z"
   },
   {
    "duration": 248,
    "start_time": "2021-06-26T08:21:30.171Z"
   },
   {
    "duration": 222,
    "start_time": "2021-06-26T08:21:30.423Z"
   },
   {
    "duration": 149,
    "start_time": "2021-06-26T08:21:30.647Z"
   },
   {
    "duration": 60,
    "start_time": "2021-06-26T08:21:30.798Z"
   },
   {
    "duration": 19,
    "start_time": "2021-06-26T08:21:30.860Z"
   },
   {
    "duration": 5,
    "start_time": "2021-06-26T08:21:30.883Z"
   },
   {
    "duration": 66,
    "start_time": "2021-06-26T08:21:30.891Z"
   },
   {
    "duration": 25,
    "start_time": "2021-06-26T08:21:30.960Z"
   },
   {
    "duration": 27,
    "start_time": "2021-06-26T08:21:30.988Z"
   },
   {
    "duration": 453,
    "start_time": "2021-06-26T08:21:31.019Z"
   },
   {
    "duration": 83,
    "start_time": "2021-06-26T08:21:31.476Z"
   },
   {
    "duration": 21,
    "start_time": "2021-06-26T08:21:31.654Z"
   },
   {
    "duration": 4,
    "start_time": "2021-06-26T08:21:31.677Z"
   },
   {
    "duration": 10,
    "start_time": "2021-06-26T08:21:31.683Z"
   },
   {
    "duration": 10,
    "start_time": "2021-06-26T08:21:31.695Z"
   },
   {
    "duration": 48,
    "start_time": "2021-06-26T08:21:31.707Z"
   },
   {
    "duration": 4,
    "start_time": "2021-06-26T08:21:31.757Z"
   },
   {
    "duration": 13269,
    "start_time": "2021-06-26T08:21:31.764Z"
   },
   {
    "duration": 5,
    "start_time": "2021-06-26T08:21:45.036Z"
   },
   {
    "duration": 24,
    "start_time": "2021-06-26T08:21:45.055Z"
   },
   {
    "duration": 5,
    "start_time": "2021-06-26T08:21:45.083Z"
   },
   {
    "duration": 22,
    "start_time": "2021-06-26T08:21:45.091Z"
   },
   {
    "duration": 6,
    "start_time": "2021-06-26T08:21:45.116Z"
   },
   {
    "duration": 31,
    "start_time": "2021-06-26T08:21:45.125Z"
   },
   {
    "duration": 9,
    "start_time": "2021-06-26T08:21:45.159Z"
   },
   {
    "duration": 18,
    "start_time": "2021-06-26T08:21:45.171Z"
   },
   {
    "duration": 1356,
    "start_time": "2021-06-26T13:31:11.806Z"
   },
   {
    "duration": 455,
    "start_time": "2021-06-26T13:31:13.165Z"
   },
   {
    "duration": 176,
    "start_time": "2021-06-26T13:31:13.623Z"
   },
   {
    "duration": 207,
    "start_time": "2021-06-26T13:31:13.802Z"
   },
   {
    "duration": 133,
    "start_time": "2021-06-26T13:31:14.011Z"
   },
   {
    "duration": 54,
    "start_time": "2021-06-26T13:31:14.146Z"
   },
   {
    "duration": 17,
    "start_time": "2021-06-26T13:31:14.202Z"
   },
   {
    "duration": 33,
    "start_time": "2021-06-26T13:31:14.223Z"
   },
   {
    "duration": 36,
    "start_time": "2021-06-26T13:31:14.259Z"
   },
   {
    "duration": 27,
    "start_time": "2021-06-26T13:31:14.297Z"
   },
   {
    "duration": 21,
    "start_time": "2021-06-26T13:31:14.326Z"
   },
   {
    "duration": 424,
    "start_time": "2021-06-26T13:31:14.349Z"
   },
   {
    "duration": 7,
    "start_time": "2021-06-26T13:31:14.856Z"
   },
   {
    "duration": 21,
    "start_time": "2021-06-26T13:31:14.956Z"
   },
   {
    "duration": 5,
    "start_time": "2021-06-26T13:31:14.980Z"
   },
   {
    "duration": 14,
    "start_time": "2021-06-26T13:31:14.988Z"
   },
   {
    "duration": 30,
    "start_time": "2021-06-26T13:31:15.005Z"
   },
   {
    "duration": 21,
    "start_time": "2021-06-26T13:31:15.056Z"
   },
   {
    "duration": 21,
    "start_time": "2021-06-26T13:31:15.080Z"
   },
   {
    "duration": 14234,
    "start_time": "2021-06-26T13:31:15.103Z"
   },
   {
    "duration": 5,
    "start_time": "2021-06-26T13:31:29.340Z"
   },
   {
    "duration": 27,
    "start_time": "2021-06-26T13:31:29.355Z"
   },
   {
    "duration": 5,
    "start_time": "2021-06-26T13:31:29.387Z"
   },
   {
    "duration": 17,
    "start_time": "2021-06-26T13:31:29.396Z"
   },
   {
    "duration": 41,
    "start_time": "2021-06-26T13:31:29.416Z"
   },
   {
    "duration": 14,
    "start_time": "2021-06-26T13:31:29.460Z"
   },
   {
    "duration": 19,
    "start_time": "2021-06-26T13:31:29.476Z"
   },
   {
    "duration": 9,
    "start_time": "2021-06-26T13:31:29.498Z"
   },
   {
    "duration": 1354,
    "start_time": "2021-06-26T13:32:40.711Z"
   },
   {
    "duration": 472,
    "start_time": "2021-06-26T13:32:42.068Z"
   },
   {
    "duration": 186,
    "start_time": "2021-06-26T13:32:42.543Z"
   },
   {
    "duration": 208,
    "start_time": "2021-06-26T13:32:42.732Z"
   },
   {
    "duration": 137,
    "start_time": "2021-06-26T13:32:42.943Z"
   },
   {
    "duration": 50,
    "start_time": "2021-06-26T13:32:43.082Z"
   },
   {
    "duration": 20,
    "start_time": "2021-06-26T13:32:43.154Z"
   },
   {
    "duration": 5,
    "start_time": "2021-06-26T13:32:43.178Z"
   },
   {
    "duration": 30,
    "start_time": "2021-06-26T13:32:43.186Z"
   },
   {
    "duration": 47,
    "start_time": "2021-06-26T13:32:43.219Z"
   },
   {
    "duration": 13,
    "start_time": "2021-06-26T13:32:43.269Z"
   },
   {
    "duration": 390,
    "start_time": "2021-06-26T13:32:43.285Z"
   },
   {
    "duration": 5,
    "start_time": "2021-06-26T13:32:43.756Z"
   },
   {
    "duration": 19,
    "start_time": "2021-06-26T13:32:43.856Z"
   },
   {
    "duration": 7,
    "start_time": "2021-06-26T13:32:43.878Z"
   },
   {
    "duration": 6,
    "start_time": "2021-06-26T13:32:43.888Z"
   },
   {
    "duration": 8,
    "start_time": "2021-06-26T13:32:43.896Z"
   },
   {
    "duration": 51,
    "start_time": "2021-06-26T13:32:43.907Z"
   },
   {
    "duration": 4,
    "start_time": "2021-06-26T13:32:43.961Z"
   },
   {
    "duration": 16641,
    "start_time": "2021-06-26T13:32:43.968Z"
   },
   {
    "duration": 5,
    "start_time": "2021-06-26T13:33:00.612Z"
   },
   {
    "duration": 45,
    "start_time": "2021-06-26T13:33:00.619Z"
   },
   {
    "duration": 5,
    "start_time": "2021-06-26T13:33:00.669Z"
   },
   {
    "duration": 21,
    "start_time": "2021-06-26T13:33:00.677Z"
   },
   {
    "duration": 5,
    "start_time": "2021-06-26T13:33:00.700Z"
   },
   {
    "duration": 17,
    "start_time": "2021-06-26T13:33:00.707Z"
   },
   {
    "duration": 34,
    "start_time": "2021-06-26T13:33:00.726Z"
   },
   {
    "duration": 21,
    "start_time": "2021-06-26T13:33:00.763Z"
   },
   {
    "duration": 1421,
    "start_time": "2021-06-26T13:34:42.249Z"
   },
   {
    "duration": 527,
    "start_time": "2021-06-26T13:34:43.674Z"
   },
   {
    "duration": 172,
    "start_time": "2021-06-26T13:34:44.204Z"
   },
   {
    "duration": 196,
    "start_time": "2021-06-26T13:34:44.379Z"
   },
   {
    "duration": 130,
    "start_time": "2021-06-26T13:34:44.577Z"
   },
   {
    "duration": 61,
    "start_time": "2021-06-26T13:34:44.710Z"
   },
   {
    "duration": 18,
    "start_time": "2021-06-26T13:34:44.774Z"
   },
   {
    "duration": 4,
    "start_time": "2021-06-26T13:34:44.795Z"
   },
   {
    "duration": 58,
    "start_time": "2021-06-26T13:34:44.803Z"
   },
   {
    "duration": 14,
    "start_time": "2021-06-26T13:34:44.864Z"
   },
   {
    "duration": 13,
    "start_time": "2021-06-26T13:34:44.881Z"
   },
   {
    "duration": 469,
    "start_time": "2021-06-26T13:34:44.897Z"
   },
   {
    "duration": 86,
    "start_time": "2021-06-26T13:34:45.369Z"
   },
   {
    "duration": 116,
    "start_time": "2021-06-26T13:34:45.459Z"
   },
   {
    "duration": 6,
    "start_time": "2021-06-26T13:34:45.578Z"
   },
   {
    "duration": 10,
    "start_time": "2021-06-26T13:34:45.586Z"
   },
   {
    "duration": 8,
    "start_time": "2021-06-26T13:34:45.599Z"
   },
   {
    "duration": 44,
    "start_time": "2021-06-26T13:34:45.610Z"
   },
   {
    "duration": 5,
    "start_time": "2021-06-26T13:34:45.657Z"
   },
   {
    "duration": 18715,
    "start_time": "2021-06-26T13:34:45.665Z"
   },
   {
    "duration": 4,
    "start_time": "2021-06-26T13:35:04.383Z"
   },
   {
    "duration": 29,
    "start_time": "2021-06-26T13:35:04.390Z"
   },
   {
    "duration": 5,
    "start_time": "2021-06-26T13:35:04.423Z"
   },
   {
    "duration": 11,
    "start_time": "2021-06-26T13:35:04.455Z"
   },
   {
    "duration": 6,
    "start_time": "2021-06-26T13:35:04.469Z"
   },
   {
    "duration": 10,
    "start_time": "2021-06-26T13:35:04.478Z"
   },
   {
    "duration": 8,
    "start_time": "2021-06-26T13:35:04.490Z"
   },
   {
    "duration": 55,
    "start_time": "2021-06-26T13:35:04.501Z"
   },
   {
    "duration": 5,
    "start_time": "2021-06-26T13:36:10.366Z"
   },
   {
    "duration": 4,
    "start_time": "2021-06-26T13:47:38.923Z"
   },
   {
    "duration": 5,
    "start_time": "2021-06-26T13:47:50.067Z"
   },
   {
    "duration": 5,
    "start_time": "2021-06-26T14:08:25.773Z"
   },
   {
    "duration": 5,
    "start_time": "2021-06-26T14:08:52.437Z"
   },
   {
    "duration": 15,
    "start_time": "2021-06-26T14:10:02.133Z"
   },
   {
    "duration": 7,
    "start_time": "2021-06-26T14:10:34.610Z"
   },
   {
    "duration": 7,
    "start_time": "2021-06-26T14:10:46.235Z"
   },
   {
    "duration": 1395,
    "start_time": "2021-06-26T14:11:35.503Z"
   },
   {
    "duration": 466,
    "start_time": "2021-06-26T14:11:36.901Z"
   },
   {
    "duration": 175,
    "start_time": "2021-06-26T14:11:37.371Z"
   },
   {
    "duration": 251,
    "start_time": "2021-06-26T14:11:37.554Z"
   },
   {
    "duration": 181,
    "start_time": "2021-06-26T14:11:37.808Z"
   },
   {
    "duration": 84,
    "start_time": "2021-06-26T14:11:37.992Z"
   },
   {
    "duration": 22,
    "start_time": "2021-06-26T14:11:38.080Z"
   },
   {
    "duration": 10,
    "start_time": "2021-06-26T14:11:38.107Z"
   },
   {
    "duration": 58,
    "start_time": "2021-06-26T14:11:38.120Z"
   },
   {
    "duration": 37,
    "start_time": "2021-06-26T14:11:38.181Z"
   },
   {
    "duration": 15,
    "start_time": "2021-06-26T14:11:38.220Z"
   },
   {
    "duration": 526,
    "start_time": "2021-06-26T14:11:38.238Z"
   },
   {
    "duration": 88,
    "start_time": "2021-06-26T14:11:38.767Z"
   },
   {
    "duration": 33,
    "start_time": "2021-06-26T14:11:38.858Z"
   },
   {
    "duration": 14,
    "start_time": "2021-06-26T14:11:38.894Z"
   },
   {
    "duration": 22,
    "start_time": "2021-06-26T14:11:38.910Z"
   },
   {
    "duration": 13,
    "start_time": "2021-06-26T14:11:38.935Z"
   },
   {
    "duration": 35,
    "start_time": "2021-06-26T14:11:38.950Z"
   },
   {
    "duration": 19,
    "start_time": "2021-06-26T14:11:38.988Z"
   },
   {
    "duration": 19686,
    "start_time": "2021-06-26T14:11:39.010Z"
   },
   {
    "duration": 5,
    "start_time": "2021-06-26T14:11:58.699Z"
   },
   {
    "duration": 47,
    "start_time": "2021-06-26T14:11:58.707Z"
   },
   {
    "duration": 5,
    "start_time": "2021-06-26T14:11:58.760Z"
   },
   {
    "duration": 23,
    "start_time": "2021-06-26T14:11:58.767Z"
   },
   {
    "duration": 13,
    "start_time": "2021-06-26T14:11:58.793Z"
   },
   {
    "duration": 12,
    "start_time": "2021-06-26T14:11:58.808Z"
   },
   {
    "duration": 34,
    "start_time": "2021-06-26T14:11:58.822Z"
   },
   {
    "duration": 7,
    "start_time": "2021-06-26T14:11:58.858Z"
   },
   {
    "duration": 12,
    "start_time": "2021-06-26T14:11:58.868Z"
   },
   {
    "duration": 14,
    "start_time": "2021-06-26T14:11:58.882Z"
   },
   {
    "duration": 18,
    "start_time": "2021-06-26T14:11:58.899Z"
   },
   {
    "duration": 11,
    "start_time": "2021-06-26T14:11:58.920Z"
   },
   {
    "duration": 53,
    "start_time": "2021-06-26T14:11:58.934Z"
   },
   {
    "duration": 11,
    "start_time": "2021-06-26T14:11:58.990Z"
   },
   {
    "duration": 1411,
    "start_time": "2021-06-26T20:42:21.447Z"
   },
   {
    "duration": 466,
    "start_time": "2021-06-26T20:42:22.861Z"
   },
   {
    "duration": 180,
    "start_time": "2021-06-26T20:42:23.330Z"
   },
   {
    "duration": 202,
    "start_time": "2021-06-26T20:42:23.513Z"
   },
   {
    "duration": 130,
    "start_time": "2021-06-26T20:42:23.717Z"
   },
   {
    "duration": 50,
    "start_time": "2021-06-26T20:42:23.849Z"
   },
   {
    "duration": 18,
    "start_time": "2021-06-26T20:42:23.902Z"
   },
   {
    "duration": 34,
    "start_time": "2021-06-26T20:42:23.924Z"
   },
   {
    "duration": 35,
    "start_time": "2021-06-26T20:42:23.961Z"
   },
   {
    "duration": 15,
    "start_time": "2021-06-26T20:42:23.999Z"
   },
   {
    "duration": 37,
    "start_time": "2021-06-26T20:42:24.017Z"
   },
   {
    "duration": 502,
    "start_time": "2021-06-26T20:42:24.057Z"
   },
   {
    "duration": 91,
    "start_time": "2021-06-26T20:42:24.564Z"
   },
   {
    "duration": 18,
    "start_time": "2021-06-26T20:42:24.658Z"
   },
   {
    "duration": 3,
    "start_time": "2021-06-26T20:42:24.679Z"
   },
   {
    "duration": 14,
    "start_time": "2021-06-26T20:42:24.684Z"
   },
   {
    "duration": 59,
    "start_time": "2021-06-26T20:42:24.700Z"
   },
   {
    "duration": 10,
    "start_time": "2021-06-26T20:42:24.762Z"
   },
   {
    "duration": 5,
    "start_time": "2021-06-26T20:42:24.774Z"
   },
   {
    "duration": 480,
    "start_time": "2021-06-26T20:42:24.781Z"
   },
   {
    "duration": 7443,
    "start_time": "2021-06-26T20:42:17.820Z"
   },
   {
    "duration": 7440,
    "start_time": "2021-06-26T20:42:17.825Z"
   },
   {
    "duration": 1450,
    "start_time": "2021-06-26T20:44:09.910Z"
   },
   {
    "duration": 464,
    "start_time": "2021-06-26T20:44:11.362Z"
   },
   {
    "duration": 266,
    "start_time": "2021-06-26T20:44:11.829Z"
   },
   {
    "duration": 399,
    "start_time": "2021-06-26T20:44:12.098Z"
   },
   {
    "duration": 224,
    "start_time": "2021-06-26T20:44:12.499Z"
   },
   {
    "duration": 60,
    "start_time": "2021-06-26T20:44:12.725Z"
   },
   {
    "duration": 18,
    "start_time": "2021-06-26T20:44:12.788Z"
   },
   {
    "duration": 5,
    "start_time": "2021-06-26T20:44:12.809Z"
   },
   {
    "duration": 60,
    "start_time": "2021-06-26T20:44:12.817Z"
   },
   {
    "duration": 21,
    "start_time": "2021-06-26T20:44:12.880Z"
   },
   {
    "duration": 20,
    "start_time": "2021-06-26T20:44:12.903Z"
   },
   {
    "duration": 436,
    "start_time": "2021-06-26T20:44:12.925Z"
   },
   {
    "duration": 4,
    "start_time": "2021-06-26T20:44:13.365Z"
   },
   {
    "duration": 112,
    "start_time": "2021-06-26T20:44:13.456Z"
   },
   {
    "duration": 14,
    "start_time": "2021-06-26T20:44:13.571Z"
   },
   {
    "duration": 22,
    "start_time": "2021-06-26T20:44:13.588Z"
   },
   {
    "duration": 21,
    "start_time": "2021-06-26T20:44:13.613Z"
   },
   {
    "duration": 23,
    "start_time": "2021-06-26T20:44:13.637Z"
   },
   {
    "duration": 18,
    "start_time": "2021-06-26T20:44:13.663Z"
   },
   {
    "duration": 10510,
    "start_time": "2021-06-26T20:44:13.683Z"
   },
   {
    "duration": 7,
    "start_time": "2021-06-26T20:44:24.196Z"
   },
   {
    "duration": 60,
    "start_time": "2021-06-26T20:44:24.205Z"
   },
   {
    "duration": 1417,
    "start_time": "2021-06-26T21:05:02.462Z"
   },
   {
    "duration": 477,
    "start_time": "2021-06-26T21:05:03.881Z"
   },
   {
    "duration": 185,
    "start_time": "2021-06-26T21:05:04.361Z"
   },
   {
    "duration": 189,
    "start_time": "2021-06-26T21:05:04.554Z"
   },
   {
    "duration": 144,
    "start_time": "2021-06-26T21:05:04.747Z"
   },
   {
    "duration": 64,
    "start_time": "2021-06-26T21:05:04.894Z"
   },
   {
    "duration": 21,
    "start_time": "2021-06-26T21:05:04.961Z"
   },
   {
    "duration": 5,
    "start_time": "2021-06-26T21:05:04.988Z"
   },
   {
    "duration": 69,
    "start_time": "2021-06-26T21:05:04.997Z"
   },
   {
    "duration": 19,
    "start_time": "2021-06-26T21:05:05.070Z"
   },
   {
    "duration": 17,
    "start_time": "2021-06-26T21:05:05.091Z"
   },
   {
    "duration": 462,
    "start_time": "2021-06-26T21:05:05.110Z"
   },
   {
    "duration": 82,
    "start_time": "2021-06-26T21:05:05.577Z"
   },
   {
    "duration": 119,
    "start_time": "2021-06-26T21:05:05.662Z"
   },
   {
    "duration": 23,
    "start_time": "2021-06-26T21:05:05.784Z"
   },
   {
    "duration": 22,
    "start_time": "2021-06-26T21:05:05.809Z"
   },
   {
    "duration": 23,
    "start_time": "2021-06-26T21:05:05.834Z"
   },
   {
    "duration": 36,
    "start_time": "2021-06-26T21:05:05.860Z"
   },
   {
    "duration": 11,
    "start_time": "2021-06-26T21:05:05.898Z"
   },
   {
    "duration": 9503,
    "start_time": "2021-06-26T21:05:05.911Z"
   },
   {
    "duration": 5,
    "start_time": "2021-06-26T21:05:15.417Z"
   },
   {
    "duration": 43,
    "start_time": "2021-06-26T21:05:15.425Z"
   },
   {
    "duration": 1386,
    "start_time": "2021-06-26T21:05:40.168Z"
   },
   {
    "duration": 461,
    "start_time": "2021-06-26T21:05:41.557Z"
   },
   {
    "duration": 170,
    "start_time": "2021-06-26T21:05:42.020Z"
   },
   {
    "duration": 187,
    "start_time": "2021-06-26T21:05:42.193Z"
   },
   {
    "duration": 126,
    "start_time": "2021-06-26T21:05:42.382Z"
   },
   {
    "duration": 57,
    "start_time": "2021-06-26T21:05:42.510Z"
   },
   {
    "duration": 18,
    "start_time": "2021-06-26T21:05:42.569Z"
   },
   {
    "duration": 5,
    "start_time": "2021-06-26T21:05:42.590Z"
   },
   {
    "duration": 61,
    "start_time": "2021-06-26T21:05:42.597Z"
   },
   {
    "duration": 16,
    "start_time": "2021-06-26T21:05:42.660Z"
   },
   {
    "duration": 9,
    "start_time": "2021-06-26T21:05:42.679Z"
   },
   {
    "duration": 482,
    "start_time": "2021-06-26T21:05:42.690Z"
   },
   {
    "duration": 6,
    "start_time": "2021-06-26T21:05:43.254Z"
   },
   {
    "duration": 108,
    "start_time": "2021-06-26T21:05:43.263Z"
   },
   {
    "duration": 4,
    "start_time": "2021-06-26T21:05:43.373Z"
   },
   {
    "duration": 11,
    "start_time": "2021-06-26T21:05:43.380Z"
   },
   {
    "duration": 5,
    "start_time": "2021-06-26T21:05:43.394Z"
   },
   {
    "duration": 17,
    "start_time": "2021-06-26T21:05:43.401Z"
   },
   {
    "duration": 37,
    "start_time": "2021-06-26T21:05:43.420Z"
   },
   {
    "duration": 9437,
    "start_time": "2021-06-26T21:05:43.460Z"
   },
   {
    "duration": 5,
    "start_time": "2021-06-26T21:05:52.899Z"
   },
   {
    "duration": 42,
    "start_time": "2021-06-26T21:05:52.906Z"
   }
  ],
  "kernelspec": {
   "display_name": "Python 3",
   "language": "python",
   "name": "python3"
  },
  "language_info": {
   "codemirror_mode": {
    "name": "ipython",
    "version": 3
   },
   "file_extension": ".py",
   "mimetype": "text/x-python",
   "name": "python",
   "nbconvert_exporter": "python",
   "pygments_lexer": "ipython3",
   "version": "3.7.8"
  },
  "toc": {
   "base_numbering": 1,
   "nav_menu": {},
   "number_sections": true,
   "sideBar": true,
   "skip_h1_title": true,
   "title_cell": "Содержание",
   "title_sidebar": "Contents",
   "toc_cell": true,
   "toc_position": {
    "height": "calc(100% - 180px)",
    "left": "10px",
    "top": "150px",
    "width": "302.391px"
   },
   "toc_section_display": true,
   "toc_window_display": false
  }
 },
 "nbformat": 4,
 "nbformat_minor": 2
}
